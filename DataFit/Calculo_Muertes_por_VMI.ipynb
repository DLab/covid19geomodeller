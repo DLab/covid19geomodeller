{
 "cells": [
  {
   "cell_type": "code",
   "execution_count": 1,
   "metadata": {},
   "outputs": [
    {
     "name": "stdout",
     "output_type": "stream",
     "text": [
      "Windows\n"
     ]
    }
   ],
   "source": [
    "import numpy as np\n",
    "import matplotlib.pyplot as plt\n",
    "from datetime import datetime\n",
    "from numpy import linalg as LA\n",
    "\n",
    "import platform\n",
    "OS = platform.system()\n",
    "\n",
    "import matplotlib.pyplot as plt\n",
    "if OS == 'Linux':    \n",
    "    %matplotlib tk\n",
    "    print('Linux')\n",
    "elif OS == 'Windows':\n",
    "    %matplotlib qt\n",
    "    print('Windows')\n",
    "else:\n",
    "    print('OS not detected :-|')\n",
    "\n",
    "import sys\n",
    "from pathlib import Path\n",
    "sys.path.insert(1, '../src/utils/')\n",
    "sys.path.insert(1, 'src/utils/')\n",
    "\n",
    "from importdata import ImportData"
   ]
  },
  {
   "cell_type": "markdown",
   "metadata": {},
   "source": [
    "# Import Data:\n",
    "Importante, se debe estar conectado al VPN para correr la siguiente linea de código"
   ]
  },
  {
   "cell_type": "code",
   "execution_count": 22,
   "metadata": {},
   "outputs": [
    {
     "name": "stdout",
     "output_type": "stream",
     "text": [
      "Importing General Data\n",
      "Importing Population\n",
      "Importing Active infected\n",
      "Importing Accumulated Infected\n",
      "Importing Daily Infected\n",
      "Importing Sochimi Data 2\n",
      "Importing Accumulated Deaths\n",
      "Importing Active Infected by Minciencia\n",
      "Importing Hospitalized/NonHospitalized Deaths\n",
      "Done\n"
     ]
    }
   ],
   "source": [
    "initdate = datetime(2020,4,1)\n",
    "RM = ImportData(tstate = '13', initdate = initdate)\n",
    "RM.importdata()"
   ]
  },
  {
   "cell_type": "code",
   "execution_count": 23,
   "metadata": {},
   "outputs": [],
   "source": [
    "VMI = RM.VMI\n",
    "tr = RM.sochimi_tr\n",
    "T = [5,10,15]\n",
    "T0 = [np.where(np.array(tr)>=T[i])[0][0] for i in range(len(T))]\n",
    "\n",
    "# VMI Death probability\n",
    "p_VD = 0.08"
   ]
  },
  {
   "cell_type": "code",
   "execution_count": 24,
   "metadata": {},
   "outputs": [],
   "source": [
    "D = []\n",
    "D_t = []\n",
    "\n",
    "for j in range(len(T)):\n",
    "    aux_D = []\n",
    "    aux_t = []\n",
    "    for i in range(T0[j],len(VMI)):    \n",
    "        t = np.where(np.array(tr)>=tr[i]-T[j])[0]\n",
    "        if len(t)>0:\n",
    "            t = t[0]\n",
    "        else:\n",
    "            break\n",
    "        if t>len(tr):\n",
    "            break\n",
    "        aux_D.append(p_VD*VMI[t])\n",
    "        aux_t.append(tr[i])\n",
    "    D.append(aux_D)\n",
    "    D_t.append(aux_t)"
   ]
  },
  {
   "cell_type": "code",
   "execution_count": 25,
   "metadata": {},
   "outputs": [],
   "source": [
    "D_ac= [np.cumsum(D[i]) for i in range(len(D))]"
   ]
  },
  {
   "cell_type": "markdown",
   "metadata": {},
   "source": [
    "# Analysis\n",
    "Plot comparacion resultados muertos acumulados"
   ]
  },
  {
   "cell_type": "code",
   "execution_count": 26,
   "metadata": {},
   "outputs": [
    {
     "data": {
      "text/plain": [
       "<matplotlib.legend.Legend at 0x26d55cd01f0>"
      ]
     },
     "execution_count": 26,
     "metadata": {},
     "output_type": "execute_result"
    }
   ],
   "source": [
    "for i in range(len(D)):\n",
    "    plt.plot(D_t[i],D_ac[i], label='Muertos estimados VMI - Time Delta: '+str(T[i]))\n",
    "plt.scatter(RM.Br_tr,RM.Br, label = 'Muertos Acumulados MinCiencia')\n",
    "plt.legend(loc=0)"
   ]
  },
  {
   "cell_type": "code",
   "execution_count": null,
   "metadata": {},
   "outputs": [],
   "source": []
  },
  {
   "cell_type": "code",
   "execution_count": null,
   "metadata": {},
   "outputs": [],
   "source": []
  }
 ],
 "metadata": {
  "kernelspec": {
   "display_name": "Python 3",
   "language": "python",
   "name": "python3"
  },
  "language_info": {
   "codemirror_mode": {
    "name": "ipython",
    "version": 3
   },
   "file_extension": ".py",
   "mimetype": "text/x-python",
   "name": "python",
   "nbconvert_exporter": "python",
   "pygments_lexer": "ipython3",
   "version": "3.8.3"
  }
 },
 "nbformat": 4,
 "nbformat_minor": 4
}
