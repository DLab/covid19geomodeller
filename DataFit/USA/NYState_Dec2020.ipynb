{
 "cells": [
  {
   "cell_type": "markdown",
   "metadata": {},
   "source": [
    "# SEIRHVD Data Fit\n",
    "\n",
    "This Jupyter notebooks implements the SEIRHVD model for fitting the actual Chilean data in order to make projections in VMI and bed usage, amount of infected and deaths. This model uses the SEIRHVD 4.1 version. A visual representation of the model is available at: [SEIRHVD Miró Model](https://miro.com/app/board/o9J_ktzN4xA=/)\n",
    "\n",
    "This implements a single instance to facilitate understanding the model prior to run multiple data fittings at a time.\n",
    "\n"
   ]
  },
  {
   "cell_type": "code",
   "execution_count": 1,
   "metadata": {},
   "outputs": [
    {
     "name": "stdout",
     "output_type": "stream",
     "text": [
      "Linux\n"
     ]
    }
   ],
   "source": [
    "import numpy as np\n",
    "import pandas as pd\n",
    "import matplotlib.pyplot as plt\n",
    "import matplotlib.dates as mdates \n",
    "from datetime import datetime\n",
    "from numpy import linalg as LA\n",
    "import multiprocessing\n",
    "from joblib import Parallel, delayed\n",
    "from datetime import timedelta\n",
    "\n",
    "import platform\n",
    "OS = platform.system()\n",
    "\n",
    "import matplotlib.pyplot as plt\n",
    "if OS == 'Linux':    \n",
    "    %matplotlib tk\n",
    "    print('Linux')\n",
    "elif OS == 'Windows':\n",
    "    %matplotlib qt\n",
    "    print('Windows')\n",
    "elif OS == 'Darwin':\n",
    "    %matplotlib tk\n",
    "    print('Mac (Funciona?)')\n",
    "else:\n",
    "    print('OS not detected :-|')\n",
    "\n",
    "import sys\n",
    "from pathlib import Path\n",
    "sys.path.insert(1, '../../src/SEIRHVD/')\n",
    "sys.path.insert(1, '../../src/utils/')\n",
    "sys.path.insert(1, '../src/SEIRHVD/')\n",
    "sys.path.insert(1, '../src/utils/')\n",
    "\n",
    "from class_SEIRHUVD5 import SEIRHVD \n",
    "from Quarantine import Quarantine\n",
    "from Quarantine import SeroPrevDynamics\n",
    "from importdata import ImportData"
   ]
  },
  {
   "cell_type": "markdown",
   "metadata": {},
   "source": [
    "## Time Variables\n",
    "Declare Initial date for simulating and data fitting"
   ]
  },
  {
   "cell_type": "code",
   "execution_count": 2,
   "metadata": {},
   "outputs": [],
   "source": [
    "# First simulation Initial date\n",
    "initdate = datetime(2020,9,1)\n",
    "\n",
    "# Current date\n",
    "currentdate = datetime.now()\n",
    "currentday = (currentdate - initdate).days\n"
   ]
  },
  {
   "cell_type": "code",
   "execution_count": 3,
   "metadata": {},
   "outputs": [],
   "source": [
    "# holydays\n",
    "holiday = [[datetime(2020,11,26),'Thanksgiving'],\n",
    "           [datetime(2020,11,3),'Presidential Election'],\n",
    "           [datetime(2020,10,31),'Halloween'],\n",
    "           [datetime(2020,12,25),'Christmas']]\n",
    "           #[datetime(2020,10,31),'Trump Rallies']\n",
    "          #]\n",
    "\n",
    "thanksgiving = datetime(2020,11,26)\n",
    "presidentialelection = datetime(2020,11,3)\n",
    "halloween = datetime(2020,10,31)"
   ]
  },
  {
   "cell_type": "markdown",
   "metadata": {},
   "source": [
    "## Import Data"
   ]
  },
  {
   "cell_type": "code",
   "execution_count": 4,
   "metadata": {},
   "outputs": [],
   "source": [
    "# NY State population\n",
    "population = 19450000"
   ]
  },
  {
   "cell_type": "code",
   "execution_count": 5,
   "metadata": {},
   "outputs": [
    {
     "ename": "FileNotFoundError",
     "evalue": "[Errno 2] No such file or directory: '/home/samuel/Dropbox/DLab/Data/USA/ny_state_NYT.csv'",
     "output_type": "error",
     "traceback": [
      "\u001b[0;31m---------------------------------------------------------------------------\u001b[0m",
      "\u001b[0;31mFileNotFoundError\u001b[0m                         Traceback (most recent call last)",
      "\u001b[0;32m<ipython-input-5-ee2673dbd2f5>\u001b[0m in \u001b[0;36m<module>\u001b[0;34m\u001b[0m\n\u001b[1;32m      1\u001b[0m \u001b[0mdatadir\u001b[0m \u001b[0;34m=\u001b[0m \u001b[0;34m'/home/samuel/Dropbox/DLab/Data/USA/'\u001b[0m\u001b[0;34m\u001b[0m\u001b[0;34m\u001b[0m\u001b[0m\n\u001b[0;32m----> 2\u001b[0;31m \u001b[0mdata\u001b[0m \u001b[0;34m=\u001b[0m \u001b[0mpd\u001b[0m\u001b[0;34m.\u001b[0m\u001b[0mread_csv\u001b[0m\u001b[0;34m(\u001b[0m\u001b[0mdatadir\u001b[0m\u001b[0;34m+\u001b[0m\u001b[0;34m'ny_state_NYT.csv'\u001b[0m\u001b[0;34m)\u001b[0m\u001b[0;34m\u001b[0m\u001b[0;34m\u001b[0m\u001b[0m\n\u001b[0m\u001b[1;32m      3\u001b[0m \u001b[0mhospdata\u001b[0m \u001b[0;34m=\u001b[0m \u001b[0mpd\u001b[0m\u001b[0;34m.\u001b[0m\u001b[0mread_csv\u001b[0m\u001b[0;34m(\u001b[0m\u001b[0mdatadir\u001b[0m\u001b[0;34m+\u001b[0m\u001b[0;34m'ny_state_BEDS.csv'\u001b[0m\u001b[0;34m)\u001b[0m\u001b[0;34m\u001b[0m\u001b[0;34m\u001b[0m\u001b[0m\n\u001b[1;32m      4\u001b[0m \u001b[0;34m\u001b[0m\u001b[0m\n\u001b[1;32m      5\u001b[0m \u001b[0;31m# Infected\u001b[0m\u001b[0;34m\u001b[0m\u001b[0;34m\u001b[0m\u001b[0;34m\u001b[0m\u001b[0m\n",
      "\u001b[0;32m~/.local/lib/python3.8/site-packages/pandas/io/parsers.py\u001b[0m in \u001b[0;36mread_csv\u001b[0;34m(filepath_or_buffer, sep, delimiter, header, names, index_col, usecols, squeeze, prefix, mangle_dupe_cols, dtype, engine, converters, true_values, false_values, skipinitialspace, skiprows, skipfooter, nrows, na_values, keep_default_na, na_filter, verbose, skip_blank_lines, parse_dates, infer_datetime_format, keep_date_col, date_parser, dayfirst, cache_dates, iterator, chunksize, compression, thousands, decimal, lineterminator, quotechar, quoting, doublequote, escapechar, comment, encoding, dialect, error_bad_lines, warn_bad_lines, delim_whitespace, low_memory, memory_map, float_precision)\u001b[0m\n\u001b[1;32m    684\u001b[0m     )\n\u001b[1;32m    685\u001b[0m \u001b[0;34m\u001b[0m\u001b[0m\n\u001b[0;32m--> 686\u001b[0;31m     \u001b[0;32mreturn\u001b[0m \u001b[0m_read\u001b[0m\u001b[0;34m(\u001b[0m\u001b[0mfilepath_or_buffer\u001b[0m\u001b[0;34m,\u001b[0m \u001b[0mkwds\u001b[0m\u001b[0;34m)\u001b[0m\u001b[0;34m\u001b[0m\u001b[0;34m\u001b[0m\u001b[0m\n\u001b[0m\u001b[1;32m    687\u001b[0m \u001b[0;34m\u001b[0m\u001b[0m\n\u001b[1;32m    688\u001b[0m \u001b[0;34m\u001b[0m\u001b[0m\n",
      "\u001b[0;32m~/.local/lib/python3.8/site-packages/pandas/io/parsers.py\u001b[0m in \u001b[0;36m_read\u001b[0;34m(filepath_or_buffer, kwds)\u001b[0m\n\u001b[1;32m    450\u001b[0m \u001b[0;34m\u001b[0m\u001b[0m\n\u001b[1;32m    451\u001b[0m     \u001b[0;31m# Create the parser.\u001b[0m\u001b[0;34m\u001b[0m\u001b[0;34m\u001b[0m\u001b[0;34m\u001b[0m\u001b[0m\n\u001b[0;32m--> 452\u001b[0;31m     \u001b[0mparser\u001b[0m \u001b[0;34m=\u001b[0m \u001b[0mTextFileReader\u001b[0m\u001b[0;34m(\u001b[0m\u001b[0mfp_or_buf\u001b[0m\u001b[0;34m,\u001b[0m \u001b[0;34m**\u001b[0m\u001b[0mkwds\u001b[0m\u001b[0;34m)\u001b[0m\u001b[0;34m\u001b[0m\u001b[0;34m\u001b[0m\u001b[0m\n\u001b[0m\u001b[1;32m    453\u001b[0m \u001b[0;34m\u001b[0m\u001b[0m\n\u001b[1;32m    454\u001b[0m     \u001b[0;32mif\u001b[0m \u001b[0mchunksize\u001b[0m \u001b[0;32mor\u001b[0m \u001b[0miterator\u001b[0m\u001b[0;34m:\u001b[0m\u001b[0;34m\u001b[0m\u001b[0;34m\u001b[0m\u001b[0m\n",
      "\u001b[0;32m~/.local/lib/python3.8/site-packages/pandas/io/parsers.py\u001b[0m in \u001b[0;36m__init__\u001b[0;34m(self, f, engine, **kwds)\u001b[0m\n\u001b[1;32m    944\u001b[0m             \u001b[0mself\u001b[0m\u001b[0;34m.\u001b[0m\u001b[0moptions\u001b[0m\u001b[0;34m[\u001b[0m\u001b[0;34m\"has_index_names\"\u001b[0m\u001b[0;34m]\u001b[0m \u001b[0;34m=\u001b[0m \u001b[0mkwds\u001b[0m\u001b[0;34m[\u001b[0m\u001b[0;34m\"has_index_names\"\u001b[0m\u001b[0;34m]\u001b[0m\u001b[0;34m\u001b[0m\u001b[0;34m\u001b[0m\u001b[0m\n\u001b[1;32m    945\u001b[0m \u001b[0;34m\u001b[0m\u001b[0m\n\u001b[0;32m--> 946\u001b[0;31m         \u001b[0mself\u001b[0m\u001b[0;34m.\u001b[0m\u001b[0m_make_engine\u001b[0m\u001b[0;34m(\u001b[0m\u001b[0mself\u001b[0m\u001b[0;34m.\u001b[0m\u001b[0mengine\u001b[0m\u001b[0;34m)\u001b[0m\u001b[0;34m\u001b[0m\u001b[0;34m\u001b[0m\u001b[0m\n\u001b[0m\u001b[1;32m    947\u001b[0m \u001b[0;34m\u001b[0m\u001b[0m\n\u001b[1;32m    948\u001b[0m     \u001b[0;32mdef\u001b[0m \u001b[0mclose\u001b[0m\u001b[0;34m(\u001b[0m\u001b[0mself\u001b[0m\u001b[0;34m)\u001b[0m\u001b[0;34m:\u001b[0m\u001b[0;34m\u001b[0m\u001b[0;34m\u001b[0m\u001b[0m\n",
      "\u001b[0;32m~/.local/lib/python3.8/site-packages/pandas/io/parsers.py\u001b[0m in \u001b[0;36m_make_engine\u001b[0;34m(self, engine)\u001b[0m\n\u001b[1;32m   1176\u001b[0m     \u001b[0;32mdef\u001b[0m \u001b[0m_make_engine\u001b[0m\u001b[0;34m(\u001b[0m\u001b[0mself\u001b[0m\u001b[0;34m,\u001b[0m \u001b[0mengine\u001b[0m\u001b[0;34m=\u001b[0m\u001b[0;34m\"c\"\u001b[0m\u001b[0;34m)\u001b[0m\u001b[0;34m:\u001b[0m\u001b[0;34m\u001b[0m\u001b[0;34m\u001b[0m\u001b[0m\n\u001b[1;32m   1177\u001b[0m         \u001b[0;32mif\u001b[0m \u001b[0mengine\u001b[0m \u001b[0;34m==\u001b[0m \u001b[0;34m\"c\"\u001b[0m\u001b[0;34m:\u001b[0m\u001b[0;34m\u001b[0m\u001b[0;34m\u001b[0m\u001b[0m\n\u001b[0;32m-> 1178\u001b[0;31m             \u001b[0mself\u001b[0m\u001b[0;34m.\u001b[0m\u001b[0m_engine\u001b[0m \u001b[0;34m=\u001b[0m \u001b[0mCParserWrapper\u001b[0m\u001b[0;34m(\u001b[0m\u001b[0mself\u001b[0m\u001b[0;34m.\u001b[0m\u001b[0mf\u001b[0m\u001b[0;34m,\u001b[0m \u001b[0;34m**\u001b[0m\u001b[0mself\u001b[0m\u001b[0;34m.\u001b[0m\u001b[0moptions\u001b[0m\u001b[0;34m)\u001b[0m\u001b[0;34m\u001b[0m\u001b[0;34m\u001b[0m\u001b[0m\n\u001b[0m\u001b[1;32m   1179\u001b[0m         \u001b[0;32melse\u001b[0m\u001b[0;34m:\u001b[0m\u001b[0;34m\u001b[0m\u001b[0;34m\u001b[0m\u001b[0m\n\u001b[1;32m   1180\u001b[0m             \u001b[0;32mif\u001b[0m \u001b[0mengine\u001b[0m \u001b[0;34m==\u001b[0m \u001b[0;34m\"python\"\u001b[0m\u001b[0;34m:\u001b[0m\u001b[0;34m\u001b[0m\u001b[0;34m\u001b[0m\u001b[0m\n",
      "\u001b[0;32m~/.local/lib/python3.8/site-packages/pandas/io/parsers.py\u001b[0m in \u001b[0;36m__init__\u001b[0;34m(self, src, **kwds)\u001b[0m\n\u001b[1;32m   2006\u001b[0m         \u001b[0mkwds\u001b[0m\u001b[0;34m[\u001b[0m\u001b[0;34m\"usecols\"\u001b[0m\u001b[0;34m]\u001b[0m \u001b[0;34m=\u001b[0m \u001b[0mself\u001b[0m\u001b[0;34m.\u001b[0m\u001b[0musecols\u001b[0m\u001b[0;34m\u001b[0m\u001b[0;34m\u001b[0m\u001b[0m\n\u001b[1;32m   2007\u001b[0m \u001b[0;34m\u001b[0m\u001b[0m\n\u001b[0;32m-> 2008\u001b[0;31m         \u001b[0mself\u001b[0m\u001b[0;34m.\u001b[0m\u001b[0m_reader\u001b[0m \u001b[0;34m=\u001b[0m \u001b[0mparsers\u001b[0m\u001b[0;34m.\u001b[0m\u001b[0mTextReader\u001b[0m\u001b[0;34m(\u001b[0m\u001b[0msrc\u001b[0m\u001b[0;34m,\u001b[0m \u001b[0;34m**\u001b[0m\u001b[0mkwds\u001b[0m\u001b[0;34m)\u001b[0m\u001b[0;34m\u001b[0m\u001b[0;34m\u001b[0m\u001b[0m\n\u001b[0m\u001b[1;32m   2009\u001b[0m         \u001b[0mself\u001b[0m\u001b[0;34m.\u001b[0m\u001b[0munnamed_cols\u001b[0m \u001b[0;34m=\u001b[0m \u001b[0mself\u001b[0m\u001b[0;34m.\u001b[0m\u001b[0m_reader\u001b[0m\u001b[0;34m.\u001b[0m\u001b[0munnamed_cols\u001b[0m\u001b[0;34m\u001b[0m\u001b[0;34m\u001b[0m\u001b[0m\n\u001b[1;32m   2010\u001b[0m \u001b[0;34m\u001b[0m\u001b[0m\n",
      "\u001b[0;32mpandas/_libs/parsers.pyx\u001b[0m in \u001b[0;36mpandas._libs.parsers.TextReader.__cinit__\u001b[0;34m()\u001b[0m\n",
      "\u001b[0;32mpandas/_libs/parsers.pyx\u001b[0m in \u001b[0;36mpandas._libs.parsers.TextReader._setup_parser_source\u001b[0;34m()\u001b[0m\n",
      "\u001b[0;31mFileNotFoundError\u001b[0m: [Errno 2] No such file or directory: '/home/samuel/Dropbox/DLab/Data/USA/ny_state_NYT.csv'"
     ]
    }
   ],
   "source": [
    "datadir = '/home/samuel/Dropbox/DLab/Data/USA/'\n",
    "data = pd.read_csv(datadir+'ny_state_NYT.csv')\n",
    "hospdata = pd.read_csv(datadir+'ny_state_BEDS.csv')\n",
    "\n",
    "# Infected\n",
    "I_ac_r = data['cases']\n",
    "I_d_r = data['cases'].diff()\n",
    "dates = [datetime.strptime(data['date'][i],'%Y-%m-%d') for i in range(len(data))]\n",
    "\n",
    "# Deaths\n",
    "D_ac_r = data['deaths']\n",
    "D_d_r = data['deaths'].diff()\n",
    "\n",
    "\n",
    "# hospitals\n",
    "hosp_beds_cap = hospdata['inpatient_beds']\n",
    "hosp_beds_gen = hospdata['inpatient_beds_used']\n",
    "hosp_beds_covid = hospdata['inpatient_beds_used_covid']\n",
    "\n",
    "UCI_cap = hospdata['total_staffed_adult_icu_beds']\n",
    "UCI_gen = hospdata['staffed_adult_icu_bed_occupancy']\n",
    "UCI_covid = hospdata['staffed_icu_adult_patients_confirmed_covid']\n",
    "\n",
    "hosp_dates = [datetime.strptime(hospdata['date'][i],'%Y-%m-%d') for i in range(len(dates))]\n"
   ]
  },
  {
   "cell_type": "markdown",
   "metadata": {},
   "source": [
    "### Data plots"
   ]
  },
  {
   "cell_type": "code",
   "execution_count": 6,
   "metadata": {},
   "outputs": [],
   "source": [
    "plt.plot(dates,I_ac_r,label='Accumulated Infections')\n",
    "plt.plot(dates,D_ac_r,label='Accumulated Deaths')\n",
    "plt.legend(loc=0)\n",
    "plt.title('Ny State - EPI accumulated')\n",
    "plt.show()"
   ]
  },
  {
   "cell_type": "code",
   "execution_count": 7,
   "metadata": {},
   "outputs": [],
   "source": [
    "plt.plot(dates,I_d_r,label='Daily Infections')\n",
    "plt.plot(dates,D_d_r,label='Daily Deaths')\n",
    "plt.legend(loc=0)\n",
    "plt.title('Ny State - EPI daily')\n",
    "plt.show()"
   ]
  },
  {
   "cell_type": "code",
   "execution_count": 242,
   "metadata": {},
   "outputs": [],
   "source": [
    "plt.plot(dates,np.log10(I_d_r),label='Daily Infections')\n",
    "#plt.plot(dates,D_d_r,label='Daily Deaths')\n",
    "plt.legend(loc=0)\n",
    "plt.title('Ny State - EPI daily')\n",
    "plt.show()"
   ]
  },
  {
   "cell_type": "code",
   "execution_count": 977,
   "metadata": {},
   "outputs": [],
   "source": [
    "plt.plot(hosp_dates,hosp_beds_cap,label='Hospital capacity',color = 'red',linestyle = 'dashed')\n",
    "plt.plot(hosp_dates,hosp_beds_gen,label='Hospital use total')\n",
    "plt.plot(hosp_dates,hosp_beds_covid,label='Hospital use covid')\n",
    "\n",
    "plt.legend(loc=0)\n",
    "plt.title('Ny State - Hospitals general beds')\n",
    "plt.show()"
   ]
  },
  {
   "cell_type": "code",
   "execution_count": 979,
   "metadata": {},
   "outputs": [],
   "source": [
    "plt.plot(hosp_dates,UCI_cap,label='UCI capacity',color = 'red',linestyle = 'dashed')\n",
    "plt.plot(hosp_dates,UCI_gen,label='UCI use total')\n",
    "plt.plot(hosp_dates,UCI_covid,label='UCI use covid')\n",
    "\n",
    "plt.legend(loc=0)\n",
    "plt.title('Ny State - ICU')\n",
    "plt.show()"
   ]
  },
  {
   "cell_type": "markdown",
   "metadata": {},
   "source": [
    "## Initial values\n",
    "Los acumulados de 2 semanas antes del inicio de la simulacion"
   ]
  },
  {
   "cell_type": "code",
   "execution_count": 907,
   "metadata": {},
   "outputs": [],
   "source": [
    "rday  = (initdate - timedelta(days=14)-dates[0]).days\n",
    "R0 = I_ac_r[rday] - D_ac_r[rday]\n",
    "\n",
    "data_initday = (initdate-dates[0]).days\n",
    "hospdata_initday = (initdate-hosp_dates[0]).days\n",
    "\n",
    "Htot0 =  hosp_beds_cap[hospdata_initday] + 10000\n",
    "Vtot0 =  UCI_cap[hospdata_initday]+ 10000\n",
    "\n",
    "H0 = hosp_beds_covid[hospdata_initday]\n",
    "V0 = UCI_covid[hospdata_initday] \n",
    "\n",
    "B0 = D_ac_r[data_initday]\n",
    "D0 = D_d_r[data_initday]\n",
    "\n",
    "\n",
    "I0 = I_ac_r[data_initday] - I_ac_r[rday]\n",
    "I_d0 = I_d_r[data_initday]\n",
    "I_ac0 = I_ac_r[data_initday]"
   ]
  },
  {
   "cell_type": "markdown",
   "metadata": {},
   "source": [
    "## Simulation Parameters"
   ]
  },
  {
   "cell_type": "code",
   "execution_count": 908,
   "metadata": {},
   "outputs": [],
   "source": [
    "# Total simulation time\n",
    "tsim = 365\n",
    "\n",
    "beta = 0.088\n",
    "mu = 0.03\n",
    "k_I = 0\n",
    "k_R = 0.1\n",
    "SeroPrevFactor = 0.1\n",
    "expinfection=0 # Proportion in which the exposed infect - 0: nothing, 1: equally as Infected"
   ]
  },
  {
   "cell_type": "markdown",
   "metadata": {},
   "source": [
    "## Quarantines\n",
    "Build Quarantine Object:\n",
    " \n",
    "     Q = Quarantine(rem_mob,max_mob=max_mob,qp=0,iqt=0,fqt=1000,movfunct = 'once')\n",
    "     alpha = Q.alpha\n",
    "     \n",
    "     Plot Quarantine dynamics:\n",
    "         Q.plot()"
   ]
  },
  {
   "cell_type": "code",
   "execution_count": 909,
   "metadata": {},
   "outputs": [],
   "source": [
    "# Quarantine relaxation\n",
    "#SPchange_date = datetime(2020,9,11)\n",
    "#t_sp = (SPchange_date - initdate).days\n",
    "\n",
    "# Quarantines \n",
    "max_mob = 0.6\n",
    "rem_mob = 0.48\n",
    "\n",
    "fqtdays = (datetime(2020,11,1)-initdate).days\n",
    "\n",
    "Q1 = Quarantine(rem_mob,max_mob,qp=0,iqt=0,fqt=fqtdays)\n",
    "Q2 = Quarantine(rem_mob)\n",
    "\n",
    "alpha = Q1.alpha"
   ]
  },
  {
   "cell_type": "markdown",
   "metadata": {},
   "source": [
    "## Underreport\n",
    "Fraction of Infected detected/reported  \n",
    "\n",
    "$Imi_{det}$: Fraction of Mild detected   \n",
    "$Ias_{det}$: fraction of asymptomatic detected  \n",
    "\n",
    "If both are 1, means that all infected are detected so \n",
    "\\begin{align}\n",
    "I_{det} = I\n",
    "\\end{align}"
   ]
  },
  {
   "cell_type": "code",
   "execution_count": 910,
   "metadata": {},
   "outputs": [],
   "source": [
    "Imi_det = 1\n",
    "Ias_det = 1\n",
    "Ise_det = 1\n",
    "Icr_det = 1"
   ]
  },
  {
   "cell_type": "markdown",
   "metadata": {},
   "source": [
    "## State Parameters:\n",
    "The following parameters determine transitions probability and duration between different states. The values presented here are the default values set in the model. You can change them as it's showed in the following executable lines.\n",
    "\n",
    "pE_Ias = 0.4  # Transition from exposed to Asymptomatic Infected  \n",
    "tE_Ias = 5.0\n",
    "\n",
    "pE_Imi = 0.55 # Transition from exposed to  Mild Infected  \n",
    "tE_Imi = 5.0\n",
    "\n",
    "pE_Icr = 0.01666 # Transition from exposed to  Critical Infected  \n",
    "tE_Icr = 3.0\n",
    "\n",
    "pE_Ise = 0.03334 # Transition from exposed to  Serious Infected  \n",
    "tE_Ise = 3.0\n",
    "\n",
    "pIas_R = 1.0   # Transition from Asymptomatic Infected to Recovered  \n",
    "tIas_R = 10.0\n",
    "\n",
    "pImi_R = 1.0  # Transition from Mild Infected to Recovered  \n",
    "tImi_R = 15.0\n",
    "\n",
    "pIse_Hse = 1.0 # Transition from Serious Infected to Serious Hospitalized (When Hospital capacity is not saturated)  \n",
    "tIse_Hse = 3.0 \n",
    "\n",
    "pIse_D = 1.0  # Transition from Serious Infected to Death (When Hospital capacity is saturated)  \n",
    "tIse_D = 3.0         \n",
    "\n",
    "pIcr_V = 1.0  # Transition from Critical Infected to Ventilator (When Ventilators capacity is not saturated)  \n",
    "tIcr_V = 3.0 \n",
    "\n",
    "pIcr_D = 1.0  # Transition from Serious Infected to Death (When Ventilators capacity is saturated)  \n",
    "tIcr_D = 3.0         \n",
    "\n",
    "pHse_R = 0.97 # Transition from Serious Hospitalized to Recovered  \n",
    "tHse_R = 11.0\n",
    "\n",
    "pHse_V = 0.03 # Transition from Serious Hospitalized to Ventilators (When Ventilators capacity is not saturated)  \n",
    "tHse_V = 3.0\n",
    "\n",
    "pHse_D = 0.03 # Transition from Serious Hospitalized to Death (When Ventilators capacity is saturated)  \n",
    "tHse_D = 3.0        \n",
    "\n",
    "pV_Hout = 0.5  # Transition from Ventilators to Hospital Recovery (Hout)   \n",
    "tV_Hout = 15.0\n",
    "\n",
    "pV_D = 0.5 # Transition from Ventilators to Death  \n",
    "tV_D = 15.0\n",
    "\n",
    "pHout_R = 1.0 # Transition from Hospital Recovery (Hout) to Recovered  \n",
    "tHout_R = 4.0\n",
    "\n",
    "pD_B = 1.0 # Transition from Dead to buried  \n",
    "tD_B = 1.0 \n",
    "\n",
    "betaD = 0 # Contagion by deads rate  \n",
    "eta = 0.0 # Immunity loss rate  "
   ]
  },
  {
   "cell_type": "code",
   "execution_count": 911,
   "metadata": {},
   "outputs": [],
   "source": [
    "#state parameters: \n",
    "pE_Ias = 0.3 # Transition from exposed to Asymptomatic Infected\n",
    "tE_Ias = 4.0\n",
    "pE_Imi = 0.43 # Transition from exposed to  Mild Infected\n",
    "tE_Imi = 4.0\n",
    "pE_Icr = 0.006 # Transition from exposed to  Critical Infected\n",
    "tE_Icr = 3.0\n",
    "pE_Ise = 0.254# Transition from exposed to  Serious Infected\n",
    "tE_Ise = 3.0\n",
    "pIas_R = 1.0   # Transition from Asymptomatic Infected to Recovered\n",
    "tIas_R = 9.0\n",
    "pImi_R = 1.0  # Transition from Mild Infected to Recovered\n",
    "tImi_R = 12.0\n",
    "pIse_Hse = 1 # Transition from Serious Infected to Serious Hospitalized (When Hospital capacity is not saturated)\n",
    "tIse_Hse = 5.0\n",
    "pIse_D = 1.0  # Transition from Serious Infected to Death (When Hospital capacity is saturated)\n",
    "tIse_D = 3.0\n",
    "pIcr_V = 1.0  # Transition from Critical Infected to Ventilator (When Ventilators capacity is not saturated)\n",
    "tIcr_V = 3.0\n",
    "pIcr_D = 1.0  # Transition from Serious Infected to Death (When Ventilators capacity is saturated)\n",
    "tIcr_D = 3.0\n",
    "pHse_R = 0.97 # Transition from Serious Hospitalized to Recovered\n",
    "tHse_R = 3.5\n",
    "pHse_V = 0.03# Transition from Serious Hospitalized to Ventilators (When Ventilators capacity is not saturated)\n",
    "tHse_V = 4.0\n",
    "pHse_D = 0.85# Transition from Serious Hospitalized to Death (When Ventilators capacity is saturated)\n",
    "tHse_D = 4.0\n",
    "pV_Hout = 0.34  # Transition from Ventilators to Hospital Recovery (Hout)\n",
    "tV_Hout = 16.0\n",
    "pV_D = 0.66 # Transition from Ventilators to Death\n",
    "tV_D = 12.0\n",
    "pHout_R = 1.0 # Transition from Hospital Recovery (Hout) to Recovered\n",
    "tHout_R = 10.0"
   ]
  },
  {
   "cell_type": "markdown",
   "metadata": {},
   "source": [
    "## SeroPrevalence Dynamics\n",
    "The susceptibles increase through a step function which last for the specified amount of days. Throughout these days it adds a \"dailyincrease\" amount of persons each day.\n",
    "\n",
    "The total increase of people is increasedays*dailyincrease"
   ]
  },
  {
   "cell_type": "code",
   "execution_count": 912,
   "metadata": {},
   "outputs": [],
   "source": [
    "spdate = datetime(2020,10,10)\n",
    "t_sp = (spdate - initdate).days\n",
    "\n",
    "increasedays = 30\n",
    "renewalFactor = 0.4 #0.23\n",
    "dailyincrease = population*SeroPrevFactor*renewalFactor/increasedays\n",
    "t_sp_temp = t_sp + 0\n",
    "chi0 = SeroPrevDynamics(t_sp_temp+5,t_sp_temp+increasedays*0.7,t_sp_temp+increasedays,dailyincrease,form='line')\n",
    "#chi0 = SeroPrevDynamics(t_sp,t_sp+increasedays*1,t_sp+increasedays,dailyincrease,'quadratic',df = 1)\n",
    "chi = [chi0]\n",
    "#renewalFactor = [renewalFactor]"
   ]
  },
  {
   "cell_type": "code",
   "execution_count": 913,
   "metadata": {},
   "outputs": [],
   "source": [
    "def chisum(a,b):\n",
    "    def aux(t):\n",
    "        return a(t)+b(t)\n",
    "    return aux"
   ]
  },
  {
   "cell_type": "code",
   "execution_count": 914,
   "metadata": {},
   "outputs": [],
   "source": [
    "renewalFactor = [-0.2,-0.1,0,0.1,0.2,0.3]"
   ]
  },
  {
   "cell_type": "code",
   "execution_count": 915,
   "metadata": {},
   "outputs": [],
   "source": [
    "# Increase date \n",
    "increasedate = datetime(2020,12,15)\n",
    "increaseday = (increasedate - initdate).days\n",
    "# Days for susceptible increase\n",
    "increasedays = 30\n",
    "# Daily amount of people\n",
    "dailyincrease = [population*SeroPrevFactor*i/increasedays for i in renewalFactor]"
   ]
  },
  {
   "cell_type": "code",
   "execution_count": 916,
   "metadata": {},
   "outputs": [],
   "source": [
    "chi = [chisum(chi0,SeroPrevDynamics(increaseday,increaseday+increasedays*0.0001,increaseday+increasedays,i)) for i in dailyincrease]"
   ]
  },
  {
   "cell_type": "code",
   "execution_count": 917,
   "metadata": {},
   "outputs": [],
   "source": [
    "#taux = np.array(range(180))\n",
    "#for i in range(len(chi)):\n",
    "#    plt.plot(taux,chi[i](taux))\n",
    "#plt.show()"
   ]
  },
  {
   "cell_type": "markdown",
   "metadata": {},
   "source": [
    "# Simulation\n",
    "\n",
    "## Initial SeroPrev period\n",
    "Initialize Simulation Object, set params and run the simulation. "
   ]
  },
  {
   "cell_type": "code",
   "execution_count": 918,
   "metadata": {},
   "outputs": [],
   "source": [
    "simulation = [SEIRHVD(tsim,beta,mu,alpha,k_I=k_I,k_R = k_R, chi = i, \n",
    "                     SeroPrevFactor=SeroPrevFactor,expinfection=expinfection,Htot=int(Htot0),\n",
    "                     Vtot=int(Vtot0),H0=H0,V0=V0,B0=B0,D0=D0,R0=R0,I0=I0,I_d0=I_d0,I_ac0=I_ac0,\n",
    "                     population=population,Imi_det = Imi_det,Ias_det = Ias_det,initdate=initdate) for i in chi]"
   ]
  },
  {
   "cell_type": "markdown",
   "metadata": {},
   "source": [
    "Modify simulation state parameters"
   ]
  },
  {
   "cell_type": "code",
   "execution_count": 919,
   "metadata": {},
   "outputs": [
    {
     "name": "stdout",
     "output_type": "stream",
     "text": [
      "Compartimental model State parameters changed\n",
      "Compartimental model State parameters changed\n",
      "Compartimental model State parameters changed\n",
      "Compartimental model State parameters changed\n",
      "Compartimental model State parameters changed\n",
      "Compartimental model State parameters changed\n"
     ]
    }
   ],
   "source": [
    "for i in range(len(simulation)):\n",
    "    simulation[i].pE_Ias=pE_Ias\n",
    "    simulation[i].tE_Ias=tE_Ias\n",
    "    simulation[i].pE_Imi=pE_Imi\n",
    "    simulation[i].tE_Imi=tE_Imi\n",
    "    simulation[i].pE_Icr=pE_Icr\n",
    "    simulation[i].tE_Icr=tE_Icr\n",
    "    simulation[i].pE_Ise=pE_Ise\n",
    "    simulation[i].tE_Ise=tE_Ise\n",
    "    simulation[i].pIas_R=pIas_R\n",
    "    simulation[i].tIas_R =tIas_R\n",
    "    simulation[i].pImi_R=pImi_R\n",
    "    simulation[i].tImi_R =tImi_R\n",
    "    simulation[i].pIse_Hse=pIse_Hse\n",
    "    simulation[i].tIse_Hse=tIse_Hse\n",
    "    simulation[i].pIse_D=pIse_D\n",
    "    simulation[i].tIse_D=tIse_D\n",
    "    simulation[i].pIcr_V=pIcr_V\n",
    "    simulation[i].tIcr_V=tIcr_V\n",
    "    simulation[i].pIcr_D=pIcr_D\n",
    "    simulation[i].tIcr_D=tIcr_D\n",
    "    simulation[i].pHse_R=pHse_R\n",
    "    simulation[i].tHse_R =tHse_R\n",
    "    simulation[i].pHse_V=pHse_V\n",
    "    simulation[i].tHse_V=tHse_V\n",
    "    simulation[i].pHse_D=pHse_D\n",
    "    simulation[i].tHse_D=tHse_D\n",
    "    simulation[i].pV_Hout=pV_Hout\n",
    "    simulation[i].tV_Hout =tV_Hout\n",
    "    simulation[i].pV_D=pV_D\n",
    "    simulation[i].tV_D =tV_D\n",
    "    simulation[i].pHout_R=pHout_R\n",
    "    simulation[i].tHout_R=tHout_R\n",
    "    simulation[i].setnewparams()"
   ]
  },
  {
   "cell_type": "markdown",
   "metadata": {},
   "source": [
    "### Setting new params"
   ]
  },
  {
   "cell_type": "markdown",
   "metadata": {},
   "source": [
    "## Run simulation\n",
    "\n",
    "* **integr_sci**: Fast solver, sometimes stiffness beat it  \n",
    "* **integr:** Slow solver, more robust with stiffness  "
   ]
  },
  {
   "cell_type": "code",
   "execution_count": 920,
   "metadata": {},
   "outputs": [],
   "source": [
    "def simulate(simulation,i,tsim):\n",
    "    simulation[i].integr_sci(0,tsim,0.1)\n",
    "    return simulation[i]"
   ]
  },
  {
   "cell_type": "code",
   "execution_count": 921,
   "metadata": {},
   "outputs": [
    {
     "name": "stdout",
     "output_type": "stream",
     "text": [
      "[Parallel(n_jobs=12)]: Using backend LokyBackend with 12 concurrent workers.\n",
      "[Parallel(n_jobs=12)]: Done   1 tasks      | elapsed:    1.4s\n",
      "[Parallel(n_jobs=12)]: Done   2 out of   6 | elapsed:    1.5s remaining:    3.0s\n",
      "[Parallel(n_jobs=12)]: Done   3 out of   6 | elapsed:    1.6s remaining:    1.6s\n",
      "[Parallel(n_jobs=12)]: Done   4 out of   6 | elapsed:    1.6s remaining:    0.8s\n",
      "[Parallel(n_jobs=12)]: Done   6 out of   6 | elapsed:    1.7s remaining:    0.0s\n",
      "[Parallel(n_jobs=12)]: Done   6 out of   6 | elapsed:    1.7s finished\n",
      "ready\n"
     ]
    }
   ],
   "source": [
    "num_cores = multiprocessing.cpu_count()\n",
    "sims = Parallel(n_jobs=num_cores, verbose=50)(delayed(simulate)(simulation,i,tsim) for i in range(len(simulation)))\n",
    "simulation = sims\n",
    "print('ready')"
   ]
  },
  {
   "cell_type": "markdown",
   "metadata": {},
   "source": [
    "def simulate(simulation,i,tsim):\n",
    "    simulation[i].integr_sci(0,tsim,0.1)\n",
    "    return simulation[i]\n",
    "\n",
    "num_cores = multiprocessing.cpu_count()\n",
    "sims = Parallel(n_jobs=num_cores, verbose=50)(delayed(simulate)(simulation,i,tsim) for i in range(len(simulation)))\n",
    "simulation = sims\n",
    "print('ready')"
   ]
  },
  {
   "cell_type": "markdown",
   "metadata": {},
   "source": [
    "# Analysis"
   ]
  },
  {
   "cell_type": "markdown",
   "metadata": {},
   "source": [
    "## Grid Plot"
   ]
  },
  {
   "cell_type": "code",
   "execution_count": 922,
   "metadata": {},
   "outputs": [],
   "source": [
    "# Days to plot\n",
    "days = 300\n",
    "enddate = initdate + timedelta(days=2*365)\n",
    "enddate = datetime(2021,2,28)"
   ]
  },
  {
   "cell_type": "code",
   "execution_count": 971,
   "metadata": {},
   "outputs": [],
   "source": [
    "saveplot = False\n",
    "if saveplot:\n",
    "    %matplotlib inline\n",
    "else:\n",
    "    %matplotlib tk\n",
    "#%matplotlib tk\n",
    "plt.rcParams[\"figure.figsize\"] = 38.40, 20.56 #8,6\n",
    "plt.rcParams.update({\n",
    "    \"text.usetex\": False,\n",
    "    \"font.family\": \"sans-serif\",\n",
    "    \"font.sans-serif\":[\"Arial\"]})\n"
   ]
  },
  {
   "cell_type": "markdown",
   "metadata": {},
   "source": [
    "### Daily info"
   ]
  },
  {
   "cell_type": "code",
   "execution_count": 975,
   "metadata": {},
   "outputs": [],
   "source": [
    "colors = plt.cm.rainbow(np.linspace(0,1,len(holiday)))\n",
    "\n",
    "\n",
    "fig, axs = plt.subplots(2, 2)\n",
    "\n",
    "# --------------------------------------- #\n",
    "#          New Daily Infections           #\n",
    "# --------------------------------------- #\n",
    "\n",
    "\n",
    "#axs[0,0].plot([], [], ' ', label='beta = '+str(beta))\n",
    "#axs[0,0].plot([], [], ' ', label='mu = '+str(mu))\n",
    "#axs[0,0].plot([], [], ' ', label='seroprev = '+str(SeroPrevFactor))\n",
    "\n",
    "axs[0,0].scatter(dates[data_initday:],I_d_r[data_initday:],label='Real Data')\n",
    "for i in range(len(simulation)):\n",
    "    axs[0,0].plot(simulation[i].dates,simulation[i].I_d,label='RF: '+str(renewalFactor[i]))\n",
    "\n",
    "# plot holidays:\n",
    "for i in range(len(holiday)):\n",
    "    axs[0,0].axvline(x = holiday[i][0], linestyle = 'dashed',color = colors[i],label=holiday[i][1])\n",
    "\n",
    "axs[0,0].axvline(x = datetime(2021,1,28), linestyle = 'dashed',color = 'grey',label='Peak period start')\n",
    "axs[0,0].axvline(x = datetime(2021,2,10), linestyle = 'dashed',color = 'grey',label='Peak period end')\n",
    "\n",
    "axs[0,0].set_title('New Infections',size=25)\n",
    "axs[0,0].set_xlim(initdate+timedelta(days=14),enddate)\n",
    "axs[0,0].fmt_xdata = mdates.DateFormatter('%Y-%m-%d')\n",
    "axs[0,0].tick_params(labelsize=20)\n",
    "axs[0,0].set_xlabel('Date',size=25)\n",
    "axs[0,0].set_ylabel('New Infections',size=25)\n",
    "axs[0,0].legend(loc=0,fontsize='16',title_fontsize='25')\n",
    "\n",
    "\n",
    "\n",
    "# --------------------------------------- #\n",
    "#            New Daily Deaths             #\n",
    "# --------------------------------------- #\n",
    "\n",
    "axs[0,1].scatter(dates[data_initday:],D_d_r[data_initday:],label='Real Data')\n",
    "\n",
    "for i in range(len(simulation)):\n",
    "    axs[0,1].plot(simulation[i].dates,simulation[i].D,label='RF: '+str(renewalFactor[i]))\n",
    "    \n",
    "    \n",
    "# plot holidays:\n",
    "for i in range(len(holiday)):\n",
    "    axs[0,1].axvline(x = holiday[i][0], linestyle = 'dashed',color = colors[i],label=holiday[i][1])\n",
    "    \n",
    "axs[0,1].set_title('New Deaths',size=25)\n",
    "axs[0,1].set_xlim(initdate+timedelta(days=14),enddate)\n",
    "axs[0,1].fmt_xdata = mdates.DateFormatter('%Y-%m-%d')\n",
    "axs[0,1].tick_params(labelsize=20)\n",
    "axs[0,1].set_xlabel('Date',size=25)\n",
    "axs[0,1].set_ylabel('New Deaths',size=25)\n",
    "axs[0,1].legend(loc=0,fontsize='16',title_fontsize='25')\n",
    "\n",
    "# --------------------------------------- #\n",
    "#          Normal Hospital beds           #\n",
    "# --------------------------------------- #\n",
    "\n",
    "axs[1,0].scatter(hosp_dates[hospdata_initday:],hosp_beds_covid[hospdata_initday:],label='Real Data')\n",
    "\n",
    "for i in range(len(simulation)):\n",
    "    axs[1,0].plot(simulation[i].dates,simulation[i].H,label='RF: '+str(renewalFactor[i]))\n",
    "    \n",
    "# plot holidays:\n",
    "for i in range(len(holiday)):\n",
    "    axs[1,0].axvline(x = holiday[i][0], linestyle = 'dashed',color = colors[i],label=holiday[i][1])\n",
    "\n",
    "axs[1,0].set_title('Hospital beds use',size=25)\n",
    "axs[1,0].set_xlim(initdate+timedelta(days=14),enddate)\n",
    "axs[1,0].fmt_xdata = mdates.DateFormatter('%Y-%m-%d')\n",
    "axs[1,0].tick_params(labelsize=20)\n",
    "axs[1,0].set_xlabel('Date',size=25)\n",
    "axs[1,0].set_ylabel('Hospital beds use',size=25)\n",
    "axs[1,0].legend(loc=0,fontsize='16',title_fontsize='25')\n",
    "\n",
    "\n",
    "# --------------------------------------- #\n",
    "#                  ICU                   #\n",
    "# --------------------------------------- #\n",
    "\n",
    "\n",
    "axs[1,1].scatter(hosp_dates[hospdata_initday:],UCI_covid[hospdata_initday:],label='Real Data')\n",
    "\n",
    "for i in range(len(simulation)):\n",
    "    axs[1,1].plot(simulation[i].dates,simulation[i].V,label='RF: '+str(renewalFactor[i]))\n",
    "    \n",
    "\n",
    "# plot holidays:\n",
    "for i in range(len(holiday)):\n",
    "    axs[1,1].axvline(x = holiday[i][0], linestyle = 'dashed',color = colors[i],label=holiday[i][1])\n",
    "\n",
    "\n",
    "axs[1,1].set_title('ICU use',size=25)\n",
    "axs[1,1].set_xlim(initdate+timedelta(days=14),enddate)\n",
    "axs[1,1].fmt_xdata = mdates.DateFormatter('%Y-%m-%d')\n",
    "axs[1,1].tick_params(labelsize=20)\n",
    "axs[1,1].set_xlabel('Date',size=25)\n",
    "axs[1,1].set_ylabel('ICU use',size=25)\n",
    "axs[1,1].legend(loc=0,fontsize='16',title_fontsize='25')\n",
    "\n",
    "\n",
    "fig.suptitle('NewYork State',fontsize=30)\n",
    "\n",
    "if saveplot:\n",
    "    fig.savefig('/home/samuel/Dropbox/DLab/Data/USA/NYForecast_Dec2020.pdf',dpi=100,format='pdf')"
   ]
  },
  {
   "cell_type": "markdown",
   "metadata": {},
   "source": [
    "### Accumulated info"
   ]
  },
  {
   "cell_type": "code",
   "execution_count": 904,
   "metadata": {},
   "outputs": [
    {
     "data": {
      "text/plain": [
       "Text(0.5, 0.98, 'NewYork State')"
      ]
     },
     "execution_count": 904,
     "metadata": {},
     "output_type": "execute_result"
    }
   ],
   "source": [
    "colors = plt.cm.rainbow_r(np.linspace(0,1,len(holiday)))\n",
    "\n",
    "fig, axs = plt.subplots(2, 2)\n",
    "\n",
    "# --------------------------------------- #\n",
    "#          Accumulated Infected           #\n",
    "# --------------------------------------- #\n",
    "axs[0,0].set_title('Accumulated Infected')\n",
    "axs[0,0].set_xlim(initdate,enddate)\n",
    "axs[0,0].plot([], [], ' ', label='beta = '+str(beta))\n",
    "axs[0,0].plot([], [], ' ', label='mu = '+str(mu))\n",
    "axs[0,0].plot([], [], ' ', label='seroprev = '+str(SeroPrevFactor))\n",
    "\n",
    "axs[0,0].scatter(dates[data_initday:],I_ac_r[data_initday:],label='Real')\n",
    "axs[0,0].plot(sim.dates,sim.I_ac,label='Simulation')\n",
    "\n",
    "# plot holidays:\n",
    "for i in range(len(holiday)):\n",
    "    axs[0,0].axvline(x = holiday[i][0], linestyle = 'dotted',color = colors[i],label=holiday[i][1])\n",
    "\n",
    "\n",
    "axs[0,0].fmt_xdata = mdates.DateFormatter('%Y-%m-%d')\n",
    "axs[0,0].legend(loc=0)\n",
    "\n",
    "\n",
    "\n",
    "# --------------------------------------- #\n",
    "#          Accumulated Deaths             #\n",
    "# --------------------------------------- #\n",
    "\n",
    "\n",
    "axs[0,1].set_title('Accumulated Deaths')\n",
    "axs[0,1].set_xlim(initdate,enddate)\n",
    "\n",
    "axs[0,1].scatter(dates[data_initday:],D_ac_r[data_initday:],label='Real')\n",
    "axs[0,1].plot(sim.dates,sim.B,label='Simulation')\n",
    "\n",
    "# plot holidays:\n",
    "for i in range(len(holiday)):\n",
    "    axs[0,1].axvline(x = holiday[i][0], linestyle = 'dotted',color = colors[i],label=holiday[i][1])\n",
    "    \n",
    "axs[0,1].fmt_xdata = mdates.DateFormatter('%Y-%m-%d')\n",
    "axs[0,1].legend(loc=0)\n",
    "\n",
    "\n",
    "# --------------------------------------- #\n",
    "#          Normal Hospital beds           #\n",
    "# --------------------------------------- #\n",
    "\n",
    "axs[1,0].set_title('Hospital beds use')\n",
    "axs[1,0].set_xlim(initdate,enddate)\n",
    "\n",
    "axs[1,0].scatter(hosp_dates[hospdata_initday:],hosp_beds_covid[hospdata_initday:],label='Real')\n",
    "axs[1,0].plot(sim.dates,sim.H,label='Simulation')\n",
    "\n",
    "# plot holidays:\n",
    "# plot holidays:\n",
    "for i in range(len(holiday)):\n",
    "    axs[1,0].axvline(x = holiday[i][0], linestyle = 'dotted',color = colors[i],label=holiday[i][1])\n",
    "\n",
    "axs[1,0].fmt_xdata = mdates.DateFormatter('%Y-%m-%d')\n",
    "axs[1,0].legend(loc=0)\n",
    "\n",
    "\n",
    "# --------------------------------------- #\n",
    "#                  UCI                    #\n",
    "# --------------------------------------- #\n",
    "\n",
    "axs[1,1].set_title('UCI use')\n",
    "axs[1,1].set_xlim(initdate,enddate)\n",
    "\n",
    "axs[1,1].scatter(hosp_dates[hospdata_initday:],UCI_covid[hospdata_initday:],label='Real')\n",
    "axs[1,1].plot(sim.dates,sim.V,label='Simulation')\n",
    "\n",
    "# plot holidays:\n",
    "# plot holidays:\n",
    "for i in range(len(holiday)):\n",
    "    axs[1,1].axvline(x = holiday[i][0], linestyle = 'dotted',color = colors[i],label=holiday[i][1])\n",
    "    \n",
    "axs[1,1].fmt_xdata = mdates.DateFormatter('%Y-%m-%d')\n",
    "axs[1,1].legend(loc=0)\n",
    "\n",
    "\n",
    "fig.suptitle('NewYork State',fontsize=16)\n"
   ]
  },
  {
   "cell_type": "markdown",
   "metadata": {},
   "source": [
    "## Single plot"
   ]
  },
  {
   "cell_type": "code",
   "execution_count": 905,
   "metadata": {},
   "outputs": [],
   "source": [
    "sim = simulation[0]"
   ]
  },
  {
   "cell_type": "code",
   "execution_count": 747,
   "metadata": {},
   "outputs": [
    {
     "data": {
      "text/plain": [
       "Text(0.5, 1.0, 'Accumulated Infected')"
      ]
     },
     "execution_count": 747,
     "metadata": {},
     "output_type": "execute_result"
    }
   ],
   "source": [
    "# Accumulated Infected\n",
    "plt.scatter(dates[data_initday:],I_ac_r[data_initday:],label='Real')\n",
    "plt.plot(sim.dates,sim.I_ac,label='Simulation')\n",
    "plt.title('Accumulated Infected')"
   ]
  },
  {
   "cell_type": "code",
   "execution_count": 748,
   "metadata": {},
   "outputs": [
    {
     "data": {
      "text/plain": [
       "Text(0.5, 1.0, 'New Daily Infected')"
      ]
     },
     "execution_count": 748,
     "metadata": {},
     "output_type": "execute_result"
    }
   ],
   "source": [
    "# Daily Infected\n",
    "plt.scatter(dates[data_initday:],I_d_r[data_initday:],label='Real')\n",
    "plt.plot(sim.dates,sim.I_d,label='Simulation')\n",
    "plt.title('New Daily Infected')"
   ]
  },
  {
   "cell_type": "code",
   "execution_count": 25,
   "metadata": {},
   "outputs": [
    {
     "data": {
      "text/plain": [
       "Text(0.5, 1.0, 'Accumulated Deaths')"
      ]
     },
     "execution_count": 25,
     "metadata": {},
     "output_type": "execute_result"
    }
   ],
   "source": [
    "# Accumulated Deaths\n",
    "plt.scatter(dates[data_initday:],D_ac_r[data_initday:],label='Real')\n",
    "plt.plot(sim.dates,sim.B,label='Simulation')\n",
    "plt.title('Accumulated Deaths')"
   ]
  },
  {
   "cell_type": "code",
   "execution_count": 26,
   "metadata": {},
   "outputs": [
    {
     "data": {
      "text/plain": [
       "Text(0.5, 1.0, 'New Daily Deaths')"
      ]
     },
     "execution_count": 26,
     "metadata": {},
     "output_type": "execute_result"
    }
   ],
   "source": [
    "# New Daily Deaths\n",
    "plt.scatter(dates[data_initday:],D_d_r[data_initday:],label='Real')\n",
    "plt.plot(sim.dates,sim.D,label='Simulation')\n",
    "plt.title('New Daily Deaths')"
   ]
  },
  {
   "cell_type": "code",
   "execution_count": 27,
   "metadata": {},
   "outputs": [
    {
     "data": {
      "text/plain": [
       "Text(0.5, 1.0, 'General beds Use')"
      ]
     },
     "execution_count": 27,
     "metadata": {},
     "output_type": "execute_result"
    }
   ],
   "source": [
    "# Hospital Use\n",
    "plt.scatter(hosp_dates[hospdata_initday:],hosp_beds_covid[hospdata_initday:],label='Real')\n",
    "plt.plot(sim.dates,sim.H,label='Simulation')\n",
    "plt.title('General beds Use')"
   ]
  },
  {
   "cell_type": "code",
   "execution_count": 30,
   "metadata": {},
   "outputs": [
    {
     "data": {
      "text/plain": [
       "Text(0.5, 1.0, 'UCI Use')"
      ]
     },
     "execution_count": 30,
     "metadata": {},
     "output_type": "execute_result"
    }
   ],
   "source": [
    "# UCI Use\n",
    "plt.scatter(hosp_dates[hospdata_initday:],UCI_covid[hospdata_initday:],label='Real')\n",
    "plt.plot(sim.dates,sim.V,label='Simulation')\n",
    "plt.title('UCI Use')"
   ]
  },
  {
   "cell_type": "code",
   "execution_count": 31,
   "metadata": {},
   "outputs": [],
   "source": [
    "SeroPrevalence = [simulation[i].I_ac[-1]/simulation[i].population for i in range(len(simulation))]\n",
    "SeroPrevalenceDet = [simulation[i].I_ac_det[-1]/simulation[i].population for i in range(len(simulation))]"
   ]
  },
  {
   "cell_type": "code",
   "execution_count": null,
   "metadata": {},
   "outputs": [],
   "source": []
  }
 ],
 "metadata": {
  "kernelspec": {
   "display_name": "Python 3",
   "language": "python",
   "name": "python3"
  },
  "language_info": {
   "codemirror_mode": {
    "name": "ipython",
    "version": 3
   },
   "file_extension": ".py",
   "mimetype": "text/x-python",
   "name": "python",
   "nbconvert_exporter": "python",
   "pygments_lexer": "ipython3",
   "version": "3.8.3"
  }
 },
 "nbformat": 4,
 "nbformat_minor": 4
}
