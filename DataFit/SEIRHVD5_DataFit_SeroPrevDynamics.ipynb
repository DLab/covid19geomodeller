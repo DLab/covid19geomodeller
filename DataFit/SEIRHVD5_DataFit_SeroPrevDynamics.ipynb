{
 "cells": [
  {
   "cell_type": "markdown",
   "metadata": {},
   "source": [
    "# SEIRHVD Data Fit\n",
    "\n",
    "This Jupyter notebooks implements the SEIRHVD model for fitting the actual Chilean data in order to make projections in VMI and bed usage, amount of infected and deaths. This model uses the SEIRHVD 4.1 version. A visual representation of the model is available at: [SEIRHVD Miró Model](https://miro.com/app/board/o9J_ktzN4xA=/)\n",
    "\n",
    "This implements a single instance to facilitate understanding the model prior to run multiple data fittings at a time.\n",
    "\n"
   ]
  },
  {
   "cell_type": "code",
   "execution_count": 44,
   "metadata": {},
   "outputs": [
    {
     "name": "stdout",
     "output_type": "stream",
     "text": [
      "Windows\n"
     ]
    }
   ],
   "source": [
    "import numpy as np\n",
    "import pandas as pd\n",
    "import matplotlib.pyplot as plt\n",
    "from datetime import datetime\n",
    "from numpy import linalg as LA\n",
    "\n",
    "import platform\n",
    "OS = platform.system()\n",
    "\n",
    "import matplotlib.pyplot as plt\n",
    "if OS == 'Linux':    \n",
    "    %matplotlib tk\n",
    "    print('Linux')\n",
    "elif OS == 'Windows':\n",
    "    %matplotlib qt\n",
    "    print('Windows')\n",
    "else:\n",
    "    print('OS not detected :-|')\n",
    "\n",
    "import sys\n",
    "from pathlib import Path\n",
    "sys.path.insert(1, '../src/SEIRHVD/')\n",
    "sys.path.insert(1, '../src/utils/')\n",
    "sys.path.insert(1, 'src/SEIRHVD/')\n",
    "sys.path.insert(1, 'src/utils/')\n",
    "\n",
    "from class_SEIRHUVD5 import SEIRHVD \n",
    "from Quarantine import Quarantine\n",
    "from Quarantine import SeroPrevDynamics\n",
    "from importdata import ImportData"
   ]
  },
  {
   "cell_type": "markdown",
   "metadata": {},
   "source": [
    "## Time Variables\n",
    "Declare Initial date for simulating and data fitting"
   ]
  },
  {
   "cell_type": "code",
   "execution_count": 45,
   "metadata": {},
   "outputs": [],
   "source": [
    "# First simulation Initial date\n",
    "initdate = datetime(2020,5,15)\n",
    "# Date for change in SeroPrevalence\n",
    "SPchange_date = datetime(2020,8,24)\n",
    "\n",
    "# Current date\n",
    "currentdate = datetime.now()\n",
    "currentday = (currentdate - initdate).days"
   ]
  },
  {
   "cell_type": "markdown",
   "metadata": {},
   "source": [
    "## Import Data\n",
    "To import data we use an ImportData object which is initialized with the region's cut and the initial date. RM region is represented by cut = 13."
   ]
  },
  {
   "cell_type": "code",
   "execution_count": 46,
   "metadata": {
    "scrolled": true
   },
   "outputs": [
    {
     "name": "stdout",
     "output_type": "stream",
     "text": [
      "Importing General Data\n",
      "Importing Population\n",
      "Importing Active infected\n",
      "Importing Accumulated Infected\n",
      "Importing Daily Infected\n",
      "Importing Sochimi Data 2\n",
      "Importing Accumulated Deaths\n",
      "Importing Active Infected by Minciencia\n",
      "Importing Hospitalized/NonHospitalized Deaths\n",
      "Done\n"
     ]
    }
   ],
   "source": [
    "tstate = '13'\n",
    "\n",
    "# Import Data\n",
    "RM = ImportData(tstate=tstate,initdate = initdate)\n",
    "RM.importdata()"
   ]
  },
  {
   "cell_type": "markdown",
   "metadata": {},
   "source": [
    "## Datos de Hospitalizados a fitear"
   ]
  },
  {
   "cell_type": "code",
   "execution_count": 47,
   "metadata": {},
   "outputs": [],
   "source": [
    "#RM.Hr = np.array(RM.UCI) + np.array(RM.UTI)\n",
    "#RM.Hr_tot = np.array(RM.UCI_tot) + np.array(RM.UTI_tot)\n",
    "RM.Hr = np.array(RM.UTI)\n",
    "RM.Hr_tot = np.array(RM.UTI_tot)"
   ]
  },
  {
   "cell_type": "markdown",
   "metadata": {},
   "source": [
    "## Simulation Parameters"
   ]
  },
  {
   "cell_type": "code",
   "execution_count": 774,
   "metadata": {},
   "outputs": [],
   "source": [
    "# Total simulation time\n",
    "tsim = 1000\n",
    "\n",
    "t_sp = (SPchange_date - initdate).days \n",
    "\n",
    "\n",
    "beta = 0.12\n",
    "mu = 1.6\n",
    "k_I = 0\n",
    "k_R = 0\n",
    "\n",
    "SeroPrevFactor =0.07\n",
    "\n",
    "expinfection=0 # Proportion in which the exposed infect - 0: nothing, 1: equally as Infected"
   ]
  },
  {
   "cell_type": "markdown",
   "metadata": {},
   "source": [
    "## Quarantines\n",
    "Build Quarantine Object:\n",
    " \n",
    "     Q = Quarantine(rem_mob,max_mob=max_mob,qp=0,iqt=0,fqt=1000,movfunct = 'once')\n",
    "     alpha = Q.alpha\n",
    "     \n",
    "     Plot Quarantine dynamics:\n",
    "         Q.plot()"
   ]
  },
  {
   "cell_type": "code",
   "execution_count": 820,
   "metadata": {},
   "outputs": [],
   "source": [
    "# Quarantines \n",
    "max_mob = 0.6\n",
    "rem_mob = 0.45\n",
    "\n",
    "Q1 = Quarantine(rem_mob,max_mob,qp=0,iqt=0,fqt=t_sp)\n",
    "Q2 = Quarantine(rem_mob)\n",
    "\n",
    "alpha = Q1.alpha"
   ]
  },
  {
   "cell_type": "markdown",
   "metadata": {},
   "source": [
    "## Underreport\n",
    "Fraction of Infected detected/reported  \n",
    "\n",
    "$Imi_{det}$: Fraction of Mild detected   \n",
    "$Ias_{det}$: fraction of asymptomatic detected  \n",
    "\n",
    "If both are 1, means that all infected are detected so \n",
    "\\begin{align}\n",
    "I_{det} = I\n",
    "\\end{align}"
   ]
  },
  {
   "cell_type": "code",
   "execution_count": 821,
   "metadata": {},
   "outputs": [],
   "source": [
    "Imi_det = 1\n",
    "Ias_det = 0.15\n",
    "Ise_det = 1\n",
    "Icr_det = 1"
   ]
  },
  {
   "cell_type": "markdown",
   "metadata": {},
   "source": [
    "## State Parameters:\n",
    "The following parameters determine transitions probability and duration between different states. The values presented here are the default values set in the model. You can change them as it's showed in the following executable lines.\n",
    "\n",
    "pE_Ias = 0.4  # Transition from exposed to Asymptomatic Infected  \n",
    "tE_Ias = 5.0\n",
    "\n",
    "pE_Imi = 0.55 # Transition from exposed to  Mild Infected  \n",
    "tE_Imi = 5.0\n",
    "\n",
    "pE_Icr = 0.01666 # Transition from exposed to  Critical Infected  \n",
    "tE_Icr = 3.0\n",
    "\n",
    "pE_Ise = 0.03334 # Transition from exposed to  Serious Infected  \n",
    "tE_Ise = 3.0\n",
    "\n",
    "pIas_R = 1.0   # Transition from Asymptomatic Infected to Recovered  \n",
    "tIas_R = 10.0\n",
    "\n",
    "pImi_R = 1.0  # Transition from Mild Infected to Recovered  \n",
    "tImi_R = 15.0\n",
    "\n",
    "pIse_Hse = 1.0 # Transition from Serious Infected to Serious Hospitalized (When Hospital capacity is not saturated)  \n",
    "tIse_Hse = 3.0 \n",
    "\n",
    "pIse_D = 1.0  # Transition from Serious Infected to Death (When Hospital capacity is saturated)  \n",
    "tIse_D = 3.0         \n",
    "\n",
    "pIcr_V = 1.0  # Transition from Critical Infected to Ventilator (When Ventilators capacity is not saturated)  \n",
    "tIcr_V = 3.0 \n",
    "\n",
    "pIcr_D = 1.0  # Transition from Serious Infected to Death (When Ventilators capacity is saturated)  \n",
    "tIcr_D = 3.0         \n",
    "\n",
    "pHse_R = 0.97 # Transition from Serious Hospitalized to Recovered  \n",
    "tHse_R = 11.0\n",
    "\n",
    "pHse_V = 0.03 # Transition from Serious Hospitalized to Ventilators (When Ventilators capacity is not saturated)  \n",
    "tHse_V = 3.0\n",
    "\n",
    "pHse_D = 0.03 # Transition from Serious Hospitalized to Death (When Ventilators capacity is saturated)  \n",
    "tHse_D = 3.0        \n",
    "\n",
    "pV_Hout = 0.5  # Transition from Ventilators to Hospital Recovery (Hout)   \n",
    "tV_Hout = 15.0\n",
    "\n",
    "pV_D = 0.5 # Transition from Ventilators to Death  \n",
    "tV_D = 15.0\n",
    "\n",
    "pHout_R = 1.0 # Transition from Hospital Recovery (Hout) to Recovered  \n",
    "tHout_R = 4.0\n",
    "\n",
    "pD_B = 1.0 # Transition from Dead to buried  \n",
    "tD_B = 1.0 \n",
    "\n",
    "betaD = 0 # Contagion by deads rate  \n",
    "eta = 0.0 # Immunity loss rate  "
   ]
  },
  {
   "cell_type": "code",
   "execution_count": 909,
   "metadata": {},
   "outputs": [],
   "source": [
    "pE_Ias = 0.428 # Transition from exposed to Asymptomatic Infected  \n",
    "tE_Ias = 4.0\n",
    "\n",
    "pE_Imi = 0.528 # Transition from exposed to  Mild Infected  \n",
    "tE_Imi = 4.0\n",
    "\n",
    "pE_Icr = 0.012 # Transition from exposed to  Critical Infected  \n",
    "tE_Icr = 3.0\n",
    "\n",
    "pE_Ise = 0.032# Transition from exposed to  Serious Infected  \n",
    "tE_Ise = 3.0\n",
    "\n",
    "pIas_R = 1.0   # Transition from Asymptomatic Infected to Recovered  \n",
    "tIas_R = 9.0\n",
    "\n",
    "pImi_R = 1.0  # Transition from Mild Infected to Recovered  \n",
    "tImi_R = 12.0\n",
    "\n",
    "pIse_Hse = 1 # Transition from Serious Infected to Serious Hospitalized (When Hospital capacity is not saturated)  \n",
    "tIse_Hse = 5.0 \n",
    "\n",
    "pIse_D = 1.0  # Transition from Serious Infected to Death (When Hospital capacity is saturated)  \n",
    "tIse_D = 3.0         \n",
    "\n",
    "pIcr_V = 1.0  # Transition from Critical Infected to Ventilator (When Ventilators capacity is not saturated)  \n",
    "tIcr_V = 3.0 \n",
    "\n",
    "pIcr_D = 1.0  # Transition from Serious Infected to Death (When Ventilators capacity is saturated)  \n",
    "tIcr_D = 3.0         \n",
    "\n",
    "pHse_R = 0.95 # Transition from Serious Hospitalized to Recovered  \n",
    "tHse_R = 3.0\n",
    "\n",
    "pHse_V = 0.05 # Transition from Serious Hospitalized to Ventilators (When Ventilators capacity is not saturated)  \n",
    "tHse_V = 5.0\n",
    "\n",
    "pHse_D = 1# Transition from Serious Hospitalized to Death (When Ventilators capacity is saturated)  \n",
    "tHse_D = 5.0        \n",
    "\n",
    "pV_Hout = 0.4  # Transition from Ventilators to Hospital Recovery (Hout)   \n",
    "tV_Hout = 18.0\n",
    "\n",
    "pV_D = 0.6 # Transition from Ventilators to Death  \n",
    "tV_D = 12.0\n",
    "\n",
    "pHout_R = 1.0 # Transition from Hospital Recovery (Hout) to Recovered  \n",
    "tHout_R = 20.0"
   ]
  },
  {
   "cell_type": "markdown",
   "metadata": {},
   "source": [
    "## SeroPrevalence Dynamics\n",
    "The susceptibles increase through a step function which last for the specified amount of days. Throughout these days it adds a \"dailyincrease\" amount of persons each day.\n",
    "\n",
    "The total increase of people is increasedays*dailyincrease"
   ]
  },
  {
   "cell_type": "code",
   "execution_count": 945,
   "metadata": {},
   "outputs": [],
   "source": [
    "# Days for susceptible increase\n",
    "renewalFactor=0.6\n",
    "initincrease=0\n",
    "increasedays =initincrease+30\n",
    "# Daily amount of people \n",
    "dailyincrease = RM.population*SeroPrevFactor*renewalFactor/increasedays"
   ]
  },
  {
   "cell_type": "markdown",
   "metadata": {},
   "source": [
    "In this case we add 30.000 persons to the simulation"
   ]
  },
  {
   "cell_type": "code",
   "execution_count": 946,
   "metadata": {},
   "outputs": [],
   "source": [
    "chi = SeroPrevDynamics(t_sp-initincrease,t_sp-initincrease+increasedays,dailyincrease)"
   ]
  },
  {
   "cell_type": "markdown",
   "metadata": {},
   "source": [
    "We can see the SeroPrev addition in the following plot"
   ]
  },
  {
   "cell_type": "code",
   "execution_count": 947,
   "metadata": {},
   "outputs": [
    {
     "data": {
      "text/plain": [
       "[<matplotlib.lines.Line2D at 0x200851e8040>]"
      ]
     },
     "execution_count": 947,
     "metadata": {},
     "output_type": "execute_result"
    }
   ],
   "source": [
    "plt.plot(range(200),[chi(i) for i in range(200)])"
   ]
  },
  {
   "cell_type": "markdown",
   "metadata": {},
   "source": [
    "# Simulation\n",
    "\n",
    "## Initial SeroPrev period\n",
    "Initialize Simulation Object, set params and run the simulation. "
   ]
  },
  {
   "cell_type": "code",
   "execution_count": 949,
   "metadata": {},
   "outputs": [
    {
     "name": "stdout",
     "output_type": "stream",
     "text": [
      "InitialCondition Object Data\n"
     ]
    }
   ],
   "source": [
    "simulation1 = SEIRHVD(tsim,beta,mu,alpha,k_I=k_I,k_R = k_R, chi = chi, SeroPrevFactor=SeroPrevFactor,expinfection=expinfection,RealIC = RM,Imi_det = Imi_det,Ias_det = Ias_det)"
   ]
  },
  {
   "cell_type": "markdown",
   "metadata": {},
   "source": [
    "Modify simulation state parameters"
   ]
  },
  {
   "cell_type": "code",
   "execution_count": 950,
   "metadata": {},
   "outputs": [
    {
     "name": "stdout",
     "output_type": "stream",
     "text": [
      "Compartimental model State parameters changed\n"
     ]
    }
   ],
   "source": [
    "simulation1.pE_Ias=pE_Ias\n",
    "simulation1.tE_Ias=tE_Ias\n",
    "simulation1.pE_Imi=pE_Imi\n",
    "simulation1.tE_Imi=tE_Imi\n",
    "simulation1.pE_Icr=pE_Icr\n",
    "simulation1.tE_Icr=tE_Icr\n",
    "simulation1.pE_Ise=pE_Ise\n",
    "simulation1.tE_Ise=tE_Ise\n",
    "simulation1.pIas_R=pIas_R\n",
    "simulation1.tIas_R =tIas_R\n",
    "simulation1.pImi_R=pImi_R\n",
    "simulation1.tImi_R =tImi_R\n",
    "simulation1.pIse_Hse=pIse_Hse\n",
    "simulation1.tIse_Hse=tIse_Hse\n",
    "simulation1.pIse_D=pIse_D\n",
    "simulation1.tIse_D=tIse_D\n",
    "simulation1.pIcr_V=pIcr_V\n",
    "simulation1.tIcr_V=tIcr_V\n",
    "simulation1.pIcr_D=pIcr_D\n",
    "simulation1.tIcr_D=tIcr_D\n",
    "simulation1.pHse_R=pHse_R\n",
    "simulation1.tHse_R =tHse_R\n",
    "simulation1.pHse_V=pHse_V\n",
    "simulation1.tHse_V=tHse_V\n",
    "simulation1.pHse_D=pHse_D\n",
    "simulation1.tHse_D=tHse_D\n",
    "simulation1.pV_Hout=pV_Hout\n",
    "simulation1.tV_Hout =tV_Hout\n",
    "simulation1.pV_D=pV_D\n",
    "simulation1.tV_D =tV_D\n",
    "simulation1.pHout_R=pHout_R\n",
    "simulation1.tHout_R=tHout_R\n",
    "simulation1.setnewparams()"
   ]
  },
  {
   "cell_type": "markdown",
   "metadata": {},
   "source": [
    "### Setting new params"
   ]
  },
  {
   "cell_type": "markdown",
   "metadata": {},
   "source": [
    "## Run simulation\n",
    "\n",
    "* **integr_sci**: Fast solver, sometimes stiffness beat it  \n",
    "* **integr:** Slow solver, more robust with stiffness  "
   ]
  },
  {
   "cell_type": "code",
   "execution_count": 951,
   "metadata": {},
   "outputs": [
    {
     "data": {
      "text/plain": [
       "  message: 'The solver successfully reached the end of the integration interval.'\n",
       "     nfev: 4425\n",
       "     njev: 81\n",
       "      nlu: 81\n",
       "      sol: None\n",
       "   status: 0\n",
       "  success: True\n",
       "        t: array([0.00000000e+00, 1.55007863e-08, 3.10015727e-08, 1.55038865e-04,\n",
       "       3.10046728e-04, 4.65054591e-04, 2.01513322e-03, 3.56521186e-03,\n",
       "       5.11529049e-03, 6.66536912e-03, 2.21661555e-02, 3.76669418e-02,\n",
       "       5.31677281e-02, 6.86685144e-02, 8.41693008e-02, 2.39177164e-01,\n",
       "       3.94185027e-01, 5.49192891e-01, 7.04200754e-01, 8.59208617e-01,\n",
       "       1.01421648e+00, 1.42876084e+00, 1.84330520e+00, 2.25784957e+00,\n",
       "       2.67239393e+00, 3.08693829e+00, 3.50148265e+00, 3.91602701e+00,\n",
       "       4.33057137e+00, 4.87778744e+00, 5.42500350e+00, 5.97221956e+00,\n",
       "       6.51943563e+00, 7.04493734e+00, 7.57043906e+00, 8.09594077e+00,\n",
       "       8.97847850e+00, 9.86101623e+00, 1.07435540e+01, 1.18111388e+01,\n",
       "       1.28787236e+01, 1.39463084e+01, 1.54041908e+01, 1.68620731e+01,\n",
       "       1.83199554e+01, 1.90338488e+01, 1.97477421e+01, 2.04616355e+01,\n",
       "       2.10361640e+01, 2.16106925e+01, 2.21852211e+01, 2.27839244e+01,\n",
       "       2.33826278e+01, 2.39813312e+01, 2.46482703e+01, 2.78259465e+01,\n",
       "       3.10036228e+01, 3.41812991e+01, 3.81474026e+01, 4.21135061e+01,\n",
       "       4.60796096e+01, 5.00457132e+01, 5.49275022e+01, 5.98092913e+01,\n",
       "       6.46910804e+01, 6.95728694e+01, 7.44546585e+01, 7.93364475e+01,\n",
       "       8.42182366e+01, 8.91000257e+01, 9.30943201e+01, 9.70886145e+01,\n",
       "       9.97214895e+01, 1.00499472e+02, 1.00565381e+02, 1.00631289e+02,\n",
       "       1.00763105e+02, 1.00847672e+02, 1.00918111e+02, 1.00988550e+02,\n",
       "       1.00990087e+02, 1.00991624e+02, 1.00993161e+02, 1.00994698e+02,\n",
       "       1.00996235e+02, 1.00999308e+02, 1.01002382e+02, 1.01005456e+02,\n",
       "       1.01036195e+02, 1.01066934e+02, 1.01257201e+02, 1.01447469e+02,\n",
       "       1.01637737e+02, 1.01916342e+02, 1.02194947e+02, 1.02473553e+02,\n",
       "       1.02889620e+02, 1.03305687e+02, 1.03721754e+02, 1.04305645e+02,\n",
       "       1.04889536e+02, 1.05473427e+02, 1.06033188e+02, 1.06592948e+02,\n",
       "       1.07152709e+02, 1.07642833e+02, 1.08132958e+02, 1.08623082e+02,\n",
       "       1.09102189e+02, 1.09581296e+02, 1.10060403e+02, 1.10638243e+02,\n",
       "       1.11216082e+02, 1.11793922e+02, 1.12348082e+02, 1.12902243e+02,\n",
       "       1.13456403e+02, 1.14064256e+02, 1.14672109e+02, 1.15279963e+02,\n",
       "       1.16153441e+02, 1.17026920e+02, 1.17900398e+02, 1.19043239e+02,\n",
       "       1.20186080e+02, 1.21328921e+02, 1.23023492e+02, 1.24718063e+02,\n",
       "       1.25141706e+02, 1.25565349e+02, 1.25988991e+02, 1.26836277e+02,\n",
       "       1.27683563e+02, 1.28530848e+02, 1.30548260e+02, 1.30713079e+02,\n",
       "       1.30877898e+02, 1.30993494e+02, 1.31109090e+02, 1.31340282e+02,\n",
       "       1.31571473e+02, 1.31802665e+02, 1.32091522e+02, 1.32380379e+02,\n",
       "       1.32669235e+02, 1.33202249e+02, 1.33735262e+02, 1.34268276e+02,\n",
       "       1.34317050e+02, 1.34365825e+02, 1.34378018e+02, 1.34378455e+02,\n",
       "       1.34378892e+02, 1.34379766e+02, 1.34380639e+02, 1.34382124e+02,\n",
       "       1.34383609e+02, 1.34384635e+02, 1.34385483e+02, 1.34386139e+02,\n",
       "       1.34386683e+02, 1.34387226e+02, 1.34387890e+02, 1.34388553e+02,\n",
       "       1.34389093e+02, 1.34389632e+02, 1.34390055e+02, 1.34390479e+02,\n",
       "       1.34390902e+02, 1.34391369e+02, 1.34391837e+02, 1.34392305e+02,\n",
       "       1.34392773e+02, 1.34393240e+02, 1.34393708e+02, 1.34394094e+02,\n",
       "       1.34394479e+02, 1.34394864e+02, 1.34395250e+02, 1.34395706e+02,\n",
       "       1.34396163e+02, 1.34396619e+02, 1.34397076e+02, 1.34397533e+02,\n",
       "       1.34398246e+02, 1.34398959e+02, 1.34399673e+02, 1.34400386e+02,\n",
       "       1.34401099e+02, 1.34401813e+02, 1.34402526e+02, 1.34403239e+02,\n",
       "       1.34403953e+02, 1.34404860e+02, 1.34405767e+02, 1.34406674e+02,\n",
       "       1.34407582e+02, 1.34408489e+02, 1.34409396e+02, 1.34411959e+02,\n",
       "       1.34414522e+02, 1.34417084e+02, 1.34419647e+02, 1.34422210e+02,\n",
       "       1.34430355e+02, 1.34438501e+02, 1.34446646e+02, 1.34454792e+02,\n",
       "       1.34481966e+02, 1.34509140e+02, 1.34536315e+02, 1.34601054e+02,\n",
       "       1.34665793e+02, 1.34730533e+02, 1.34887652e+02, 1.35044771e+02,\n",
       "       1.35201890e+02, 1.35359009e+02, 1.35570413e+02, 1.35781817e+02,\n",
       "       1.35993222e+02, 1.36204626e+02, 1.36416030e+02, 1.36793981e+02,\n",
       "       1.36817603e+02, 1.36822328e+02, 1.36827052e+02, 1.36831776e+02,\n",
       "       1.36833040e+02, 1.36834304e+02, 1.36836831e+02, 1.36838245e+02,\n",
       "       1.36839327e+02, 1.36840106e+02, 1.36840729e+02, 1.36841241e+02,\n",
       "       1.36841752e+02, 1.36842374e+02, 1.36842997e+02, 1.36843502e+02,\n",
       "       1.36844007e+02, 1.36844402e+02, 1.36844798e+02, 1.36845193e+02,\n",
       "       1.36845631e+02, 1.36846068e+02, 1.36846506e+02, 1.36846943e+02,\n",
       "       1.36847381e+02, 1.36847818e+02, 1.36848182e+02, 1.36848547e+02,\n",
       "       1.36848911e+02, 1.36849276e+02, 1.36849731e+02, 1.36850187e+02,\n",
       "       1.36850642e+02, 1.36851098e+02, 1.36851553e+02, 1.36852133e+02,\n",
       "       1.36852714e+02, 1.36853294e+02, 1.36853874e+02, 1.36854454e+02,\n",
       "       1.36855034e+02, 1.36855769e+02, 1.36856503e+02, 1.36857238e+02,\n",
       "       1.36857973e+02, 1.36858708e+02, 1.36859442e+02, 1.36861039e+02,\n",
       "       1.36862635e+02, 1.36864231e+02, 1.36865828e+02, 1.36867424e+02,\n",
       "       1.36869021e+02, 1.36872249e+02, 1.36875477e+02, 1.36878705e+02,\n",
       "       1.36881934e+02, 1.36885162e+02, 1.36893743e+02, 1.36902324e+02,\n",
       "       1.36910905e+02, 1.36919486e+02, 1.36958853e+02, 1.36998219e+02,\n",
       "       1.37037585e+02, 1.37124614e+02, 1.37211642e+02, 1.37298670e+02,\n",
       "       1.37385699e+02, 1.37410231e+02, 1.37434764e+02, 1.37459297e+02,\n",
       "       1.37483830e+02, 1.37532896e+02, 1.37581961e+02, 1.37631027e+02,\n",
       "       1.37744011e+02, 1.37856994e+02, 1.37969978e+02, 1.38025123e+02,\n",
       "       1.38080268e+02, 1.38135414e+02, 1.38190559e+02, 1.38300849e+02,\n",
       "       1.38411140e+02, 1.38521430e+02, 1.38631720e+02, 1.38910547e+02,\n",
       "       1.39189374e+02, 1.39468200e+02, 1.39747027e+02, 1.40025853e+02,\n",
       "       1.40351131e+02, 1.40676408e+02, 1.41001685e+02, 1.41054154e+02,\n",
       "       1.41106624e+02, 1.41159094e+02, 1.41225930e+02, 1.41292766e+02,\n",
       "       1.41484480e+02, 1.41676193e+02, 1.42139493e+02, 1.42602792e+02,\n",
       "       1.43066092e+02, 1.43723285e+02, 1.44380478e+02, 1.45037671e+02,\n",
       "       1.45694865e+02, 1.46642340e+02, 1.47589815e+02, 1.48537291e+02,\n",
       "       1.49484766e+02, 1.50929670e+02, 1.52009026e+02, 1.52076486e+02,\n",
       "       1.52086615e+02, 1.52096745e+02, 1.52106874e+02, 1.52117004e+02,\n",
       "       1.52137263e+02, 1.52157521e+02, 1.52177780e+02, 1.52234293e+02,\n",
       "       1.52290806e+02, 1.52354465e+02, 1.52418123e+02, 1.52481781e+02,\n",
       "       1.52614190e+02, 1.52746599e+02, 1.52879007e+02, 1.53086597e+02,\n",
       "       1.53294187e+02, 1.53465019e+02, 1.53635852e+02, 1.53806685e+02,\n",
       "       1.53977517e+02, 1.54068193e+02, 1.54086910e+02, 1.54105627e+02,\n",
       "       1.54124344e+02, 1.54161777e+02, 1.54199211e+02, 1.54236645e+02,\n",
       "       1.54274079e+02, 1.54648417e+02, 1.55022756e+02, 1.55397094e+02,\n",
       "       1.55771433e+02, 1.56145771e+02, 1.56520110e+02, 1.56894448e+02,\n",
       "       1.57268787e+02, 1.57643125e+02, 1.58017464e+02, 1.58391802e+02,\n",
       "       1.58766140e+02, 1.59140479e+02, 1.59514817e+02, 1.59889156e+02,\n",
       "       1.60263494e+02, 1.60637833e+02, 1.61053797e+02, 1.61469762e+02,\n",
       "       1.61885726e+02, 1.62301690e+02, 1.62717655e+02, 1.63167655e+02,\n",
       "       1.63617655e+02, 1.64067655e+02, 1.64517655e+02, 1.64967655e+02,\n",
       "       1.65517655e+02, 1.66067655e+02, 1.66617655e+02, 1.67167655e+02,\n",
       "       1.67742655e+02, 1.68317655e+02, 1.68892655e+02, 1.69467655e+02,\n",
       "       1.70042655e+02, 1.70617655e+02, 1.71192655e+02, 1.71767655e+02,\n",
       "       1.72342655e+02, 1.72972566e+02, 1.73602477e+02, 1.74232389e+02,\n",
       "       1.74870955e+02, 1.75509521e+02, 1.76148087e+02, 1.76795339e+02,\n",
       "       1.77442591e+02, 1.78089843e+02, 1.78743994e+02, 1.79398144e+02,\n",
       "       1.80052294e+02, 1.80712645e+02, 1.81372995e+02, 1.82033345e+02,\n",
       "       1.82698993e+02, 1.83364640e+02, 1.84030287e+02, 1.84700527e+02,\n",
       "       1.85370767e+02, 1.86041008e+02, 1.86715241e+02, 1.87389475e+02,\n",
       "       1.88063709e+02, 1.88741429e+02, 1.89419148e+02, 1.90096868e+02,\n",
       "       1.90777630e+02, 1.91458392e+02, 1.92139154e+02, 1.92822568e+02,\n",
       "       1.93505983e+02, 1.94189398e+02, 1.94875120e+02, 1.95560843e+02,\n",
       "       1.96246565e+02, 1.96934287e+02, 1.97622010e+02, 1.98309732e+02,\n",
       "       1.98999178e+02, 1.99688625e+02, 2.00378071e+02, 2.01068994e+02,\n",
       "       2.01759917e+02, 2.02450841e+02, 2.03143018e+02, 2.03835196e+02,\n",
       "       2.04527374e+02, 2.05220606e+02, 2.05913838e+02, 2.06607071e+02,\n",
       "       2.07301179e+02, 2.07995286e+02, 2.08689394e+02, 2.09384216e+02,\n",
       "       2.10079038e+02, 2.10773861e+02, 2.11469254e+02, 2.12164647e+02,\n",
       "       2.12860040e+02, 2.13555876e+02, 2.14251713e+02, 2.14947549e+02,\n",
       "       2.15643715e+02, 2.16339880e+02, 2.17036046e+02, 2.17732442e+02,\n",
       "       2.18428837e+02, 2.19125232e+02, 2.19821762e+02, 2.20518292e+02,\n",
       "       2.21214821e+02, 2.21911409e+02, 2.22607996e+02, 2.23304584e+02,\n",
       "       2.24001147e+02, 2.24697710e+02, 2.25394273e+02, 2.26090754e+02,\n",
       "       2.26787235e+02, 2.27483716e+02, 2.28180070e+02, 2.28876424e+02,\n",
       "       2.29572778e+02, 2.30268968e+02, 2.30965157e+02, 2.31661347e+02,\n",
       "       2.32357341e+02, 2.33053335e+02, 2.33749329e+02, 2.34445103e+02,\n",
       "       2.35140877e+02, 2.35836651e+02, 2.36532185e+02, 2.37227719e+02,\n",
       "       2.37923253e+02, 2.38618533e+02, 2.39313812e+02, 2.40009091e+02,\n",
       "       2.40704104e+02, 2.41399118e+02, 2.42094131e+02, 2.42788871e+02,\n",
       "       2.43483611e+02, 2.44178352e+02, 2.44872814e+02, 2.45567277e+02,\n",
       "       2.46261740e+02, 2.46955923e+02, 2.47650107e+02, 2.48344290e+02,\n",
       "       2.49038195e+02, 2.49732100e+02, 2.50426005e+02, 2.51119634e+02,\n",
       "       2.51813264e+02, 2.52506893e+02, 2.53200250e+02, 2.53893608e+02,\n",
       "       2.54586965e+02, 2.55280056e+02, 2.55973148e+02, 2.56666239e+02,\n",
       "       2.57359071e+02, 2.58051903e+02, 2.58744734e+02, 2.59437314e+02,\n",
       "       2.60129894e+02, 2.60822473e+02, 2.61514809e+02, 2.62207144e+02,\n",
       "       2.62899480e+02, 2.63591580e+02, 2.64283681e+02, 2.64975781e+02,\n",
       "       2.65667655e+02, 2.66359528e+02, 2.67051402e+02, 2.67743059e+02,\n",
       "       2.68434715e+02, 2.69126372e+02, 2.69817820e+02, 2.70509269e+02,\n",
       "       2.71200717e+02, 2.71891967e+02, 2.72583217e+02, 2.73274467e+02,\n",
       "       2.73965527e+02, 2.74656588e+02, 2.75347648e+02, 2.76038528e+02,\n",
       "       2.76729408e+02, 2.77420288e+02, 2.78110997e+02, 2.78801706e+02,\n",
       "       2.79492415e+02, 2.80182961e+02, 2.80873507e+02, 2.81564053e+02,\n",
       "       2.82254446e+02, 2.82944838e+02, 2.83635230e+02, 2.84325476e+02,\n",
       "       2.85015723e+02, 2.85705969e+02, 2.86396077e+02, 2.87086186e+02,\n",
       "       2.87776294e+02, 2.88466273e+02, 2.89156251e+02, 2.89846229e+02,\n",
       "       2.90536085e+02, 2.91225940e+02, 2.91915796e+02, 2.92605535e+02,\n",
       "       2.93295275e+02, 2.93985014e+02, 2.94674645e+02, 2.95364275e+02,\n",
       "       2.96053906e+02, 2.96743433e+02, 2.97432961e+02, 2.98122489e+02,\n",
       "       2.98811920e+02, 2.99501351e+02, 3.00190782e+02, 3.00880122e+02,\n",
       "       3.01569462e+02, 3.02258802e+02, 3.02948057e+02, 3.03637312e+02,\n",
       "       3.04326566e+02, 3.05015741e+02, 3.05704916e+02, 3.06394090e+02,\n",
       "       3.07083189e+02, 3.07772289e+02, 3.08461388e+02, 3.09150417e+02,\n",
       "       3.09839445e+02, 3.10528474e+02, 3.11217436e+02, 3.11906398e+02,\n",
       "       3.12595361e+02, 3.13284261e+02, 3.13973161e+02, 3.14662062e+02,\n",
       "       3.15350904e+02, 3.16039746e+02, 3.16728588e+02, 3.17417375e+02,\n",
       "       3.18106162e+02, 3.18794950e+02, 3.19483686e+02, 3.20172423e+02,\n",
       "       3.20861159e+02, 3.21549847e+02, 3.22238536e+02, 3.22927224e+02,\n",
       "       3.23615868e+02, 3.24304512e+02, 3.24993155e+02, 3.25681757e+02,\n",
       "       3.26370359e+02, 3.27058961e+02, 3.27747523e+02, 3.28436086e+02,\n",
       "       3.29124648e+02, 3.29813174e+02, 3.30501700e+02, 3.31190226e+02,\n",
       "       3.31878717e+02, 3.32567209e+02, 3.33255700e+02, 3.33944159e+02,\n",
       "       3.34632619e+02, 3.35321078e+02, 3.36009507e+02, 3.36697937e+02,\n",
       "       3.37386366e+02, 3.38074767e+02, 3.38763169e+02, 3.39451570e+02,\n",
       "       3.40139945e+02, 3.40828320e+02, 3.41516695e+02, 3.42205045e+02,\n",
       "       3.42893396e+02, 3.43581746e+02, 3.44270074e+02, 3.44958401e+02,\n",
       "       3.45646729e+02, 3.46335035e+02, 3.47023341e+02, 3.47711647e+02,\n",
       "       3.48399933e+02, 3.49088219e+02, 3.49776505e+02, 3.50464772e+02,\n",
       "       3.51153040e+02, 3.51841307e+02, 3.52529557e+02, 3.53217807e+02,\n",
       "       3.53906057e+02, 3.54594290e+02, 3.55282524e+02, 3.55970757e+02,\n",
       "       3.56658976e+02, 3.57347194e+02, 3.58035412e+02, 3.58723616e+02,\n",
       "       3.59411820e+02, 3.60100025e+02, 3.60788215e+02, 3.61476406e+02,\n",
       "       3.62164597e+02, 3.62852775e+02, 3.63540953e+02, 3.64229132e+02,\n",
       "       3.64917299e+02, 3.65605465e+02, 3.66293632e+02, 3.66981788e+02,\n",
       "       3.67669944e+02, 3.68358100e+02, 3.69046246e+02, 3.69734391e+02,\n",
       "       3.70422537e+02, 3.71110673e+02, 3.71798810e+02, 3.72486946e+02,\n",
       "       3.73175074e+02, 3.73863201e+02, 3.74551329e+02, 3.75239448e+02,\n",
       "       3.75927567e+02, 3.76615687e+02, 3.77303798e+02, 3.77991910e+02,\n",
       "       3.78680021e+02, 3.79368126e+02, 3.82840144e+02, 3.86312163e+02,\n",
       "       3.89784181e+02, 3.95906360e+02, 4.02028538e+02, 4.07108006e+02,\n",
       "       4.12187474e+02, 4.17266942e+02, 4.22346409e+02, 4.28549513e+02,\n",
       "       4.34752617e+02, 4.40955721e+02, 4.47158825e+02, 4.54298687e+02,\n",
       "       4.61438550e+02, 4.68578412e+02, 4.75718274e+02, 4.82858136e+02,\n",
       "       4.89997998e+02, 4.97137860e+02, 5.04277722e+02, 5.11417584e+02,\n",
       "       5.18557446e+02, 5.25697308e+02, 5.33787950e+02, 5.41878593e+02,\n",
       "       5.49969235e+02, 5.58059878e+02, 5.66150520e+02, 5.74241163e+02,\n",
       "       5.82331805e+02, 5.90422448e+02, 5.98513090e+02, 6.06603733e+02,\n",
       "       6.14694375e+02, 6.22785018e+02, 6.30875660e+02, 6.38966303e+02,\n",
       "       6.47056945e+02, 6.55147588e+02, 6.63238230e+02, 6.71328873e+02,\n",
       "       6.79419515e+02, 6.87510158e+02, 6.95600800e+02, 7.03691443e+02,\n",
       "       7.11782085e+02, 7.21269210e+02, 7.30756334e+02, 7.40243459e+02,\n",
       "       7.49730583e+02, 7.59217707e+02, 7.68704832e+02, 7.81924702e+02,\n",
       "       7.95144572e+02, 8.08364442e+02, 8.21584312e+02, 8.34804182e+02,\n",
       "       8.48024052e+02, 8.69744350e+02, 8.91464647e+02, 9.13184945e+02,\n",
       "       9.34905242e+02, 9.56625540e+02, 9.78345837e+02, 1.00000000e+03])\n",
       " t_events: None\n",
       "        y: array([[ 5.15406155e+05,  5.15406155e+05,  5.15406155e+05, ...,\n",
       "         1.91717931e-07,  1.36544718e-07,  1.18548620e-07],\n",
       "       [ 3.17937755e+04,  3.17937755e+04,  3.17937754e+04, ...,\n",
       "         2.92859034e-08,  2.08579015e-08,  1.81088989e-08],\n",
       "       [ 4.33658179e+03,  4.33658174e+03,  4.33658168e+03, ...,\n",
       "         5.05097108e-12, -6.37988231e-12,  3.04295252e-12],\n",
       "       ...,\n",
       "       [ 0.00000000e+00,  0.00000000e+00,  0.00000000e+00, ...,\n",
       "         3.17687187e+02,  3.17687187e+02,  3.17687187e+02],\n",
       "       [ 0.00000000e+00,  0.00000000e+00,  0.00000000e+00, ...,\n",
       "         4.41461396e+02,  4.41461396e+02,  4.41461396e+02],\n",
       "       [ 0.00000000e+00,  5.84379645e-07,  1.16875929e-06, ...,\n",
       "         1.09505408e+04,  1.09505408e+04,  1.09505408e+04]])\n",
       " y_events: None"
      ]
     },
     "execution_count": 951,
     "metadata": {},
     "output_type": "execute_result"
    }
   ],
   "source": [
    "simulation1.integr_sci(0,tsim,0.1)"
   ]
  },
  {
   "cell_type": "markdown",
   "metadata": {},
   "source": [
    "# Analysis"
   ]
  },
  {
   "cell_type": "markdown",
   "metadata": {},
   "source": [
    "## Grid Plot"
   ]
  },
  {
   "cell_type": "code",
   "execution_count": 952,
   "metadata": {},
   "outputs": [],
   "source": [
    "# Days to plot\n",
    "days = 250\n",
    "t_end = t_sp"
   ]
  },
  {
   "cell_type": "code",
   "execution_count": 953,
   "metadata": {},
   "outputs": [
    {
     "data": {
      "text/plain": [
       "<matplotlib.lines.Line2D at 0x200855e0a90>"
      ]
     },
     "execution_count": 953,
     "metadata": {},
     "output_type": "execute_result"
    }
   ],
   "source": [
    "fig, axs = plt.subplots(2, 3)\n",
    "axs[0,0].set_xlim(0,days)\n",
    "axs[0,0].scatter(RM.tr,RM.Ir,label='Real Active Data')\n",
    "axs[0,0].plot(simulation1.t,simulation1.I_det,label='Infected')\n",
    "axs[0,0].set_title('Active Infected')\n",
    "axs[0,0].axvline(x = t_end, linestyle = 'dotted',color = 'grey')\n",
    "\n",
    "\n",
    "axs[0,1].set_xlim(0,days)\n",
    "axs[0,1].plot(simulation1.t,simulation1.I_d_det,label='sim1')\n",
    "axs[0,1].scatter(RM.I_d_r_tr,RM.I_d_r,label='Daily Real Data')\n",
    "axs[0,1].set_title('Daily infected')\n",
    "axs[0,1].axvline(x = t_end, linestyle = 'dotted',color = 'grey')\n",
    "\n",
    "\n",
    "axs[0,2].set_xlim(0,days)\n",
    "axs[0,2].plot(simulation1.t,simulation1.I_ac_det,label='sim1')\n",
    "axs[0,2].scatter(RM.I_ac_r_tr,RM.I_ac_r,label='Accumulated Real Data')\n",
    "axs[0,2].set_title('Accumulated Infected')\n",
    "axs[0,2].axvline(x = t_end, linestyle = 'dotted',color = 'grey')\n",
    "\n",
    "\n",
    "axs[1,0].set_xlim(0,days)\n",
    "axs[1,0].plot(simulation1.t,simulation1.B,label='sim1')\n",
    "axs[1,0].scatter(RM.hosp_tr,RM.Br_hosp,label='Real Data')\n",
    "axs[1,0].set_title('Hospitalized Acmulated Deaths')\n",
    "axs[1,0].axvline(x = t_end, linestyle = 'dotted',color = 'grey')\n",
    "\n",
    "\n",
    "axs[1,1].set_xlim(0,days)\n",
    "axs[1,1].plot(simulation1.t,simulation1.Hse+simulation1.Hout,label='UTI Beds')\n",
    "axs[1,1].scatter(RM.sochimi_tr,RM.UCI,label='Real Data')\n",
    "axs[1,1].plot(simulation1.t,simulation1.H_cap,label='Capacity', color = 'red')\n",
    "axs[1,1].set_title('UTI Usage')\n",
    "axs[1,1].axvline(x = t_end, linestyle = 'dotted',color = 'grey')\n",
    "\n",
    "\n",
    "axs[1,2].set_xlim(0,days)\n",
    "axs[1,2].plot(simulation1.t,simulation1.V,label='Vsat sim1')\n",
    "axs[1,2].scatter(RM.sochimi_tr,RM.Vr,label='Real Data')\n",
    "axs[1,2].plot(simulation1.t,simulation1.V_cap,label='Capacity Data', color = 'red')\n",
    "axs[1,2].set_title('VMI Usage')\n",
    "axs[1,2].axvline(x = t_end, linestyle = 'dotted',color = 'grey')\n",
    "\n"
   ]
  },
  {
   "cell_type": "markdown",
   "metadata": {},
   "source": [
    "## Single plots"
   ]
  },
  {
   "cell_type": "markdown",
   "metadata": {},
   "source": [
    "### SEIRD"
   ]
  },
  {
   "cell_type": "code",
   "execution_count": 926,
   "metadata": {},
   "outputs": [],
   "source": [
    "plt.plot(simulation1.t,simulation1.S,label='S')\n",
    "plt.plot(simulation1.t,simulation1.E,label='E')\n",
    "plt.plot(simulation1.t,simulation1.I,label='I')\n",
    "plt.plot(simulation1.t,simulation1.R,label='R')\n",
    "plt.plot(simulation1.t,simulation1.B,label='B')\n",
    "plt.axvline(x = t_end, linestyle = 'dotted',color = 'grey')\n",
    "plt.title('SEIRD')\n",
    "plt.legend(loc=0)\n",
    "plt.show()"
   ]
  },
  {
   "cell_type": "markdown",
   "metadata": {},
   "source": [
    "### Daily Deaths"
   ]
  },
  {
   "cell_type": "code",
   "execution_count": 841,
   "metadata": {},
   "outputs": [],
   "source": [
    "plt.plot(simulation1.t,simulation1.D,label='sim1')\n",
    "plt.title('Deaths')\n",
    "plt.show()"
   ]
  },
  {
   "cell_type": "markdown",
   "metadata": {},
   "source": [
    "### VMI Usage"
   ]
  },
  {
   "cell_type": "code",
   "execution_count": 842,
   "metadata": {},
   "outputs": [],
   "source": [
    "plt.plot(simulation1.t,simulation1.V_cap,label='VMI capacity sim1')\n",
    "plt.plot(simulation1.t,simulation1.V,label='VMI sim1')\n",
    "plt.legend(loc=0)\n",
    "plt.title('VMI')\n",
    "plt.scatter(RM.sochimi_tr,RM.Vr,label='Real Data')\n",
    "plt.scatter(RM.sochimi_tr,RM.Vr_tot,label='Real Data')\n",
    "plt.show()"
   ]
  },
  {
   "cell_type": "markdown",
   "metadata": {},
   "source": [
    "### Hospitalization"
   ]
  },
  {
   "cell_type": "code",
   "execution_count": 843,
   "metadata": {},
   "outputs": [],
   "source": [
    "plt.plot(simulation1.t,simulation1.H_cap,label='sim1')\n",
    "plt.plot(simulation1.t,simulation1.Hse+simulation1.Hout,label='UCI/UTI Beds')\n",
    "plt.legend(loc=0)\n",
    "plt.title('Hospitalization')\n",
    "\n",
    "plt.scatter(RM.sochimi_tr,RM.Hr,label='Real Data')\n",
    "plt.scatter(RM.sochimi_tr,RM.Hr_tot,label='Real Data')\n",
    "plt.show()"
   ]
  },
  {
   "cell_type": "markdown",
   "metadata": {},
   "source": [
    "### Deaths by cause"
   ]
  },
  {
   "cell_type": "code",
   "execution_count": null,
   "metadata": {},
   "outputs": [],
   "source": [
    "plt.plot(simulation1.t,simulation1.D,label='sim1')\n",
    "plt.plot(simulation1.t,simulation1.V_D_d,label='V_D sim1')\n",
    "plt.plot(simulation1.t,simulation1.Hse_D_d,label='Hse_D sim1')\n",
    "plt.plot(simulation1.t,simulation1.Icr_D_d,label='Icr_D sim1')\n",
    "plt.plot(simulation1.t,simulation1.Ise_D_d,label='Ise_D sim1')\n",
    "\n",
    "plt.legend(loc=0)\n",
    "plt.title('Deaths by cause')\n",
    "plt.show()"
   ]
  },
  {
   "cell_type": "markdown",
   "metadata": {},
   "source": [
    "### Hospital saturation"
   ]
  },
  {
   "cell_type": "code",
   "execution_count": null,
   "metadata": {},
   "outputs": [],
   "source": [
    "plt.plot(simulation1.t,simulation1.H_sat,label='HSat')\n",
    "plt.plot(simulation1.t,simulation1.V_sat,label='Vsat')\n",
    "plt.legend(loc=0)\n",
    "plt.title('Saturation')\n",
    "plt.show()"
   ]
  },
  {
   "cell_type": "markdown",
   "metadata": {},
   "source": [
    "# Error Calculation\n",
    "The following plots will show the simulation results with the real data"
   ]
  },
  {
   "cell_type": "markdown",
   "metadata": {},
   "source": [
    "## Peak Date"
   ]
  },
  {
   "cell_type": "code",
   "execution_count": null,
   "metadata": {},
   "outputs": [],
   "source": [
    "peakidx = np.where(RM.Ir==max(RM.Ir))[0][0]\n",
    "datapeakdate = RM.sochimi_dates[peakidx]"
   ]
  },
  {
   "cell_type": "code",
   "execution_count": null,
   "metadata": {},
   "outputs": [],
   "source": [
    "simulation.peak_date"
   ]
  },
  {
   "cell_type": "code",
   "execution_count": null,
   "metadata": {},
   "outputs": [],
   "source": [
    "datapeakdate"
   ]
  },
  {
   "cell_type": "code",
   "execution_count": null,
   "metadata": {},
   "outputs": [],
   "source": [
    "Peak_delta = (simulation.peak_date -datapeakdate).days"
   ]
  },
  {
   "cell_type": "code",
   "execution_count": null,
   "metadata": {},
   "outputs": [],
   "source": [
    "Peak_delta"
   ]
  },
  {
   "cell_type": "markdown",
   "metadata": {},
   "source": [
    "## Errors"
   ]
  },
  {
   "cell_type": "code",
   "execution_count": null,
   "metadata": {},
   "outputs": [],
   "source": [
    "simulation = simulation1\n",
    "t_end = tsim1\n",
    "t_end_idx = np.where(np.array(RM.tr)>=t_end)[0][0]\n",
    "idx = np.searchsorted(simulation.t,RM.tr[:t_end_idx])\n",
    "E_I = np.sum(abs(RM.Ir[:t_end_idx]-simulation.I_det[idx]))/(np.mean(RM.Ir[:t_end_idx])*t_end_idx)\n",
    "\n",
    "t_end_idx = np.where(np.array(RM.I_d_r_tr)>=t_end)[0][0]\n",
    "idx = np.searchsorted(simulation.t,RM.I_d_r_tr[:t_end_idx])\n",
    "E_Id = np.sum(abs(RM.I_d_r[:t_end_idx]-simulation.I_d_det[idx]))/(np.mean(RM.I_d_r[:t_end_idx])*t_end_idx)\n",
    "\n",
    "t_end_idx = np.where(np.array(RM.I_ac_r_tr)>=t_end)[0][0]\n",
    "idx = np.searchsorted(simulation.t,RM.I_ac_r_tr[:t_end_idx])\n",
    "E_Iac = np.sum(abs(RM.I_ac_r[:t_end_idx]-simulation.I_ac_det[idx]))/(np.mean(RM.I_ac_r[:t_end_idx])*t_end_idx)\n",
    "\n",
    "t_end_idx = np.where(np.array(RM.Br_tr)>=t_end)[0][0]\n",
    "idx = np.searchsorted(simulation.t,RM.Br_tr[:t_end_idx])\n",
    "E_D = np.sum(abs(RM.Br[:t_end_idx]-simulation.B[idx]))/(np.mean(RM.Br[:t_end_idx])*t_end_idx)\n",
    "\n",
    "t_end_idx = np.where(np.array(RM.sochimi_tr)>=t_end)[0][0]\n",
    "idx = np.searchsorted(simulation.t,RM.sochimi_tr[:t_end_idx])\n",
    "E_UCI = np.sum(abs(RM.Hr[:t_end_idx]-(simulation.Hse[idx]+simulation.Hout[idx])))/(np.mean(RM.Hr[:t_end_idx])*t_end_idx)\n",
    "\n",
    "t_end_idx = np.where(np.array(RM.sochimi_tr)>=t_end)[0][0]\n",
    "idx = np.searchsorted(simulation.t,RM.sochimi_tr[:t_end_idx])\n",
    "E_VMI = np.sum(abs(RM.Vr[:t_end_idx]-simulation.V[idx]))/(np.mean(RM.Vr[:t_end_idx])*t_end_idx)\n",
    "\n",
    "Err = {'Active Infected':E_I,'Daily Infected':E_Id,'Accumulated Infected':E_Iac,'Deaths':E_D,'UCI/UTI':E_UCI,'VMI':E_VMI}\n"
   ]
  },
  {
   "cell_type": "code",
   "execution_count": null,
   "metadata": {},
   "outputs": [],
   "source": [
    "Err = {'Active Infected':E_I,'Daily Infected':E_Id,'Accumulated Infected':E_Iac,'Deaths':E_D,'UCI/UTI':E_UCI,'VMI':E_VMI}\n",
    "print(Err)"
   ]
  }
 ],
 "metadata": {
  "kernelspec": {
   "display_name": "Python 3",
   "language": "python",
   "name": "python3"
  },
  "language_info": {
   "codemirror_mode": {
    "name": "ipython",
    "version": 3
   },
   "file_extension": ".py",
   "mimetype": "text/x-python",
   "name": "python",
   "nbconvert_exporter": "python",
   "pygments_lexer": "ipython3",
   "version": "3.8.3"
  }
 },
 "nbformat": 4,
 "nbformat_minor": 4
}
