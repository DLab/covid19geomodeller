{
 "cells": [
  {
   "cell_type": "markdown",
   "metadata": {},
   "source": [
    "# SEIRHVD Data Fit\n",
    "\n",
    "This Jupyter notebooks implements the SEIRHVD model for fitting the actual Chilean data in order to make projections in VMI and bed usage, amount of infected and deaths. This model uses the SEIRHVD 4.1 version. A visual representation of the model is available at: [SEIRHVD Miró Model](https://miro.com/app/board/o9J_ktzN4xA=/)\n",
    "\n",
    "This implements a single instance to facilitate understanding the model prior to run multiple data fittings at a time.\n",
    "\n"
   ]
  },
  {
   "cell_type": "code",
   "execution_count": 3,
   "metadata": {},
   "outputs": [
    {
     "name": "stdout",
     "output_type": "stream",
     "text": [
      "Linux\n"
     ]
    }
   ],
   "source": [
    "import numpy as np\n",
    "import pandas as pd\n",
    "import matplotlib.pyplot as plt\n",
    "from datetime import datetime\n",
    "from numpy import linalg as LA\n",
    "import multiprocessing\n",
    "from joblib import Parallel, delayed\n",
    "\n",
    "import platform\n",
    "OS = platform.system()\n",
    "\n",
    "import matplotlib.pyplot as plt\n",
    "if OS == 'Linux':    \n",
    "    %matplotlib tk\n",
    "    print('Linux')\n",
    "elif OS == 'Windows':\n",
    "    %matplotlib qt\n",
    "    print('Windows')\n",
    "else:\n",
    "    print('OS not detected :-|')\n",
    "\n",
    "import sys\n",
    "from pathlib import Path\n",
    "sys.path.insert(1, '../src/SEIRHVD/')\n",
    "sys.path.insert(1, '../src/utils/')\n",
    "sys.path.insert(1, 'src/SEIRHVD/')\n",
    "sys.path.insert(1, 'src/utils/')\n",
    "\n",
    "from class_SEIRHUVD5 import SEIRHVD \n",
    "from Quarantine import Quarantine\n",
    "from Quarantine import SeroPrevDynamics\n",
    "from importdata import ImportData"
   ]
  },
  {
   "cell_type": "markdown",
   "metadata": {},
   "source": [
    "## Time Variables\n",
    "Declare Initial date for simulating and data fitting"
   ]
  },
  {
   "cell_type": "code",
   "execution_count": 4,
   "metadata": {},
   "outputs": [],
   "source": [
    "# First simulation Initial date\n",
    "initdate = datetime(2020,5,15)\n",
    "# Date for change in SeroPrevalence\n",
    "SPchange_date = datetime(2020,8,24)\n",
    "\n",
    "# Current date\n",
    "currentdate = datetime.now()\n",
    "currentday = (currentdate - initdate).days\n",
    "\n",
    "fiestaspatrias = datetime(2020,9,18)\n",
    "plebiscito = datetime(2020,10,25)"
   ]
  },
  {
   "cell_type": "markdown",
   "metadata": {},
   "source": [
    "## Import Data\n",
    "To import data we use an ImportData object which is initialized with the region's cut and the initial date. RM region is represented by cut = 13."
   ]
  },
  {
   "cell_type": "code",
   "execution_count": 5,
   "metadata": {
    "scrolled": true
   },
   "outputs": [
    {
     "name": "stdout",
     "output_type": "stream",
     "text": [
      "Importing General Data\n",
      "Importing Population\n",
      "Importing Active infected\n",
      "Importing Accumulated Infected\n",
      "Importing Daily Infected\n",
      "Importing Sochimi Data 2\n",
      "Importing Accumulated Deaths\n",
      "Importing Active Infected by Minciencia\n",
      "Importing Hospitalized/NonHospitalized Deaths\n",
      "Done\n"
     ]
    }
   ],
   "source": [
    "tstate = '13'\n",
    "\n",
    "# Import Data\n",
    "RM = ImportData(tstate=tstate,initdate = initdate)\n",
    "RM.importdata()"
   ]
  },
  {
   "cell_type": "markdown",
   "metadata": {},
   "source": [
    "## Datos de Hospitalizados a fitear"
   ]
  },
  {
   "cell_type": "code",
   "execution_count": 6,
   "metadata": {},
   "outputs": [],
   "source": [
    "#RM.Hr = np.array(RM.UCI) + np.array(RM.UTI)\n",
    "#RM.Hr_tot = np.array(RM.UCI_tot) + np.array(RM.UTI_tot)\n",
    "RM.Hr = np.array(RM.UTI)\n",
    "RM.Hr_tot = np.array(RM.UTI_tot)"
   ]
  },
  {
   "cell_type": "markdown",
   "metadata": {},
   "source": [
    "## Simulation Parameters"
   ]
  },
  {
   "cell_type": "code",
   "execution_count": 7,
   "metadata": {},
   "outputs": [],
   "source": [
    "# Total simulation time\n",
    "tsim = 1000\n",
    "\n",
    "t_sp = (SPchange_date - initdate).days \n",
    "\n",
    "\n",
    "beta = 0.12\n",
    "mu = 1.6\n",
    "k_I = 0\n",
    "k_R = 0\n",
    "\n",
    "SeroPrevFactor =0.07\n",
    "\n",
    "expinfection=0 # Proportion in which the exposed infect - 0: nothing, 1: equally as Infected"
   ]
  },
  {
   "cell_type": "markdown",
   "metadata": {},
   "source": [
    "## Quarantines\n",
    "Build Quarantine Object:\n",
    " \n",
    "     Q = Quarantine(rem_mob,max_mob=max_mob,qp=0,iqt=0,fqt=1000,movfunct = 'once')\n",
    "     alpha = Q.alpha\n",
    "     \n",
    "     Plot Quarantine dynamics:\n",
    "         Q.plot()"
   ]
  },
  {
   "cell_type": "code",
   "execution_count": 8,
   "metadata": {},
   "outputs": [],
   "source": [
    "# Quarantines \n",
    "max_mob = 0.6\n",
    "rem_mob = 0.45\n",
    "\n",
    "Q1 = Quarantine(rem_mob,max_mob,qp=0,iqt=0,fqt=t_sp)\n",
    "Q2 = Quarantine(rem_mob)\n",
    "\n",
    "alpha = Q1.alpha"
   ]
  },
  {
   "cell_type": "markdown",
   "metadata": {},
   "source": [
    "## Underreport\n",
    "Fraction of Infected detected/reported  \n",
    "\n",
    "$Imi_{det}$: Fraction of Mild detected   \n",
    "$Ias_{det}$: fraction of asymptomatic detected  \n",
    "\n",
    "If both are 1, means that all infected are detected so \n",
    "\\begin{align}\n",
    "I_{det} = I\n",
    "\\end{align}"
   ]
  },
  {
   "cell_type": "code",
   "execution_count": 9,
   "metadata": {},
   "outputs": [],
   "source": [
    "Imi_det = 1\n",
    "Ias_det = 0.15\n",
    "Ise_det = 1\n",
    "Icr_det = 1"
   ]
  },
  {
   "cell_type": "markdown",
   "metadata": {},
   "source": [
    "## State Parameters:\n",
    "The following parameters determine transitions probability and duration between different states. The values presented here are the default values set in the model. You can change them as it's showed in the following executable lines.\n",
    "\n",
    "pE_Ias = 0.4  # Transition from exposed to Asymptomatic Infected  \n",
    "tE_Ias = 5.0\n",
    "\n",
    "pE_Imi = 0.55 # Transition from exposed to  Mild Infected  \n",
    "tE_Imi = 5.0\n",
    "\n",
    "pE_Icr = 0.01666 # Transition from exposed to  Critical Infected  \n",
    "tE_Icr = 3.0\n",
    "\n",
    "pE_Ise = 0.03334 # Transition from exposed to  Serious Infected  \n",
    "tE_Ise = 3.0\n",
    "\n",
    "pIas_R = 1.0   # Transition from Asymptomatic Infected to Recovered  \n",
    "tIas_R = 10.0\n",
    "\n",
    "pImi_R = 1.0  # Transition from Mild Infected to Recovered  \n",
    "tImi_R = 15.0\n",
    "\n",
    "pIse_Hse = 1.0 # Transition from Serious Infected to Serious Hospitalized (When Hospital capacity is not saturated)  \n",
    "tIse_Hse = 3.0 \n",
    "\n",
    "pIse_D = 1.0  # Transition from Serious Infected to Death (When Hospital capacity is saturated)  \n",
    "tIse_D = 3.0         \n",
    "\n",
    "pIcr_V = 1.0  # Transition from Critical Infected to Ventilator (When Ventilators capacity is not saturated)  \n",
    "tIcr_V = 3.0 \n",
    "\n",
    "pIcr_D = 1.0  # Transition from Serious Infected to Death (When Ventilators capacity is saturated)  \n",
    "tIcr_D = 3.0         \n",
    "\n",
    "pHse_R = 0.97 # Transition from Serious Hospitalized to Recovered  \n",
    "tHse_R = 11.0\n",
    "\n",
    "pHse_V = 0.03 # Transition from Serious Hospitalized to Ventilators (When Ventilators capacity is not saturated)  \n",
    "tHse_V = 3.0\n",
    "\n",
    "pHse_D = 0.03 # Transition from Serious Hospitalized to Death (When Ventilators capacity is saturated)  \n",
    "tHse_D = 3.0        \n",
    "\n",
    "pV_Hout = 0.5  # Transition from Ventilators to Hospital Recovery (Hout)   \n",
    "tV_Hout = 15.0\n",
    "\n",
    "pV_D = 0.5 # Transition from Ventilators to Death  \n",
    "tV_D = 15.0\n",
    "\n",
    "pHout_R = 1.0 # Transition from Hospital Recovery (Hout) to Recovered  \n",
    "tHout_R = 4.0\n",
    "\n",
    "pD_B = 1.0 # Transition from Dead to buried  \n",
    "tD_B = 1.0 \n",
    "\n",
    "betaD = 0 # Contagion by deads rate  \n",
    "eta = 0.0 # Immunity loss rate  "
   ]
  },
  {
   "cell_type": "code",
   "execution_count": 10,
   "metadata": {},
   "outputs": [],
   "source": [
    "pE_Ias = 0.428 # Transition from exposed to Asymptomatic Infected  \n",
    "tE_Ias = 4.0\n",
    "\n",
    "pE_Imi = 0.528 # Transition from exposed to  Mild Infected  \n",
    "tE_Imi = 4.0\n",
    "\n",
    "pE_Icr = 0.012 # Transition from exposed to  Critical Infected  \n",
    "tE_Icr = 3.0\n",
    "\n",
    "pE_Ise = 0.032# Transition from exposed to  Serious Infected  \n",
    "tE_Ise = 3.0\n",
    "\n",
    "pIas_R = 1.0   # Transition from Asymptomatic Infected to Recovered  \n",
    "tIas_R = 9.0\n",
    "\n",
    "pImi_R = 1.0  # Transition from Mild Infected to Recovered  \n",
    "tImi_R = 12.0\n",
    "\n",
    "pIse_Hse = 1 # Transition from Serious Infected to Serious Hospitalized (When Hospital capacity is not saturated)  \n",
    "tIse_Hse = 5.0 \n",
    "\n",
    "pIse_D = 1.0  # Transition from Serious Infected to Death (When Hospital capacity is saturated)  \n",
    "tIse_D = 3.0         \n",
    "\n",
    "pIcr_V = 1.0  # Transition from Critical Infected to Ventilator (When Ventilators capacity is not saturated)  \n",
    "tIcr_V = 3.0 \n",
    "\n",
    "pIcr_D = 1.0  # Transition from Serious Infected to Death (When Ventilators capacity is saturated)  \n",
    "tIcr_D = 3.0         \n",
    "\n",
    "pHse_R = 0.95 # Transition from Serious Hospitalized to Recovered  \n",
    "tHse_R = 3.0\n",
    "\n",
    "pHse_V = 0.05 # Transition from Serious Hospitalized to Ventilators (When Ventilators capacity is not saturated)  \n",
    "tHse_V = 5.0\n",
    "\n",
    "pHse_D = 1# Transition from Serious Hospitalized to Death (When Ventilators capacity is saturated)  \n",
    "tHse_D = 5.0        \n",
    "\n",
    "pV_Hout = 0.4  # Transition from Ventilators to Hospital Recovery (Hout)   \n",
    "tV_Hout = 18.0\n",
    "\n",
    "pV_D = 0.6 # Transition from Ventilators to Death  \n",
    "tV_D = 12.0\n",
    "\n",
    "pHout_R = 1.0 # Transition from Hospital Recovery (Hout) to Recovered  \n",
    "tHout_R = 20.0"
   ]
  },
  {
   "cell_type": "markdown",
   "metadata": {},
   "source": [
    "## SeroPrevalence Dynamics\n",
    "The susceptibles increase through a step function which last for the specified amount of days. Throughout these days it adds a \"dailyincrease\" amount of persons each day.\n",
    "\n",
    "The total increase of people is increasedays*dailyincrease"
   ]
  },
  {
   "cell_type": "code",
   "execution_count": 11,
   "metadata": {},
   "outputs": [],
   "source": [
    "t_sp = 100"
   ]
  },
  {
   "cell_type": "code",
   "execution_count": 12,
   "metadata": {},
   "outputs": [],
   "source": [
    "# Days for susceptible increase\n",
    "renewalFactor=0.6\n",
    "initincrease=0\n",
    "increasedays =initincrease+30\n",
    "# Daily amount of people \n",
    "dailyincrease = RM.population*SeroPrevFactor*renewalFactor/increasedays"
   ]
  },
  {
   "cell_type": "markdown",
   "metadata": {},
   "source": [
    "In this case we add 30.000 persons to the simulation"
   ]
  },
  {
   "cell_type": "code",
   "execution_count": 13,
   "metadata": {},
   "outputs": [],
   "source": [
    "# Days for susceptible increase\n",
    "renewalFactor=0.6\n",
    "initincrease=0\n",
    "increasedays =initincrease+30\n",
    "# Daily amount of people\n",
    "dailyincrease = RM.population*SeroPrevFactor*renewalFactor/increasedays"
   ]
  },
  {
   "cell_type": "code",
   "execution_count": 14,
   "metadata": {},
   "outputs": [],
   "source": [
    "chi = SeroPrevDynamics(t_sp,t_sp+increasedays,dailyincrease)"
   ]
  },
  {
   "cell_type": "markdown",
   "metadata": {},
   "source": [
    "# Simulation\n",
    "\n",
    "## Initial SeroPrev period\n",
    "Initialize Simulation Object, set params and run the simulation. "
   ]
  },
  {
   "cell_type": "code",
   "execution_count": 17,
   "metadata": {},
   "outputs": [
    {
     "name": "stdout",
     "output_type": "stream",
     "text": [
      "InitialCondition Object Data\n"
     ]
    }
   ],
   "source": [
    "simulation1 = SEIRHVD(tsim,beta,mu,alpha,k_I=k_I,k_R = k_R, chi = chi, SeroPrevFactor=SeroPrevFactor,expinfection=expinfection,RealIC = RM,Imi_det = Imi_det,Ias_det = Ias_det)"
   ]
  },
  {
   "cell_type": "markdown",
   "metadata": {},
   "source": [
    "Modify simulation state parameters"
   ]
  },
  {
   "cell_type": "code",
   "execution_count": 18,
   "metadata": {},
   "outputs": [
    {
     "name": "stdout",
     "output_type": "stream",
     "text": [
      "Compartimental model State parameters changed\n"
     ]
    }
   ],
   "source": [
    "simulation1.pE_Ias=pE_Ias\n",
    "simulation1.tE_Ias=tE_Ias\n",
    "simulation1.pE_Imi=pE_Imi\n",
    "simulation1.tE_Imi=tE_Imi\n",
    "simulation1.pE_Icr=pE_Icr\n",
    "simulation1.tE_Icr=tE_Icr\n",
    "simulation1.pE_Ise=pE_Ise\n",
    "simulation1.tE_Ise=tE_Ise\n",
    "simulation1.pIas_R=pIas_R\n",
    "simulation1.tIas_R =tIas_R\n",
    "simulation1.pImi_R=pImi_R\n",
    "simulation1.tImi_R =tImi_R\n",
    "simulation1.pIse_Hse=pIse_Hse\n",
    "simulation1.tIse_Hse=tIse_Hse\n",
    "simulation1.pIse_D=pIse_D\n",
    "simulation1.tIse_D=tIse_D\n",
    "simulation1.pIcr_V=pIcr_V\n",
    "simulation1.tIcr_V=tIcr_V\n",
    "simulation1.pIcr_D=pIcr_D\n",
    "simulation1.tIcr_D=tIcr_D\n",
    "simulation1.pHse_R=pHse_R\n",
    "simulation1.tHse_R =tHse_R\n",
    "simulation1.pHse_V=pHse_V\n",
    "simulation1.tHse_V=tHse_V\n",
    "simulation1.pHse_D=pHse_D\n",
    "simulation1.tHse_D=tHse_D\n",
    "simulation1.pV_Hout=pV_Hout\n",
    "simulation1.tV_Hout =tV_Hout\n",
    "simulation1.pV_D=pV_D\n",
    "simulation1.tV_D =tV_D\n",
    "simulation1.pHout_R=pHout_R\n",
    "simulation1.tHout_R=tHout_R\n",
    "simulation1.setnewparams()"
   ]
  },
  {
   "cell_type": "markdown",
   "metadata": {},
   "source": [
    "### Setting new params"
   ]
  },
  {
   "cell_type": "markdown",
   "metadata": {},
   "source": [
    "## Run simulation\n",
    "\n",
    "* **integr_sci**: Fast solver, sometimes stiffness beat it  \n",
    "* **integr:** Slow solver, more robust with stiffness  "
   ]
  },
  {
   "cell_type": "code",
   "execution_count": 19,
   "metadata": {},
   "outputs": [
    {
     "data": {
      "text/plain": [
       "  message: 'The solver successfully reached the end of the integration interval.'\n",
       "     nfev: 2179\n",
       "     njev: 43\n",
       "      nlu: 43\n",
       "      sol: None\n",
       "   status: 0\n",
       "  success: True\n",
       "        t: array([0.00000000e+00, 1.56694148e-08, 3.13388296e-08, 1.56725487e-04,\n",
       "       3.13419635e-04, 4.70113783e-04, 2.03705527e-03, 3.60399675e-03,\n",
       "       5.17093823e-03, 6.73787971e-03, 2.24072945e-02, 3.80767094e-02,\n",
       "       5.37461242e-02, 6.94155390e-02, 8.50849538e-02, 2.41779102e-01,\n",
       "       3.98473250e-01, 5.55167398e-01, 7.11861547e-01, 8.68555695e-01,\n",
       "       1.02524984e+00, 1.44087685e+00, 1.85650387e+00, 2.27213088e+00,\n",
       "       2.68775789e+00, 3.10338490e+00, 3.51901191e+00, 3.93463892e+00,\n",
       "       4.35026593e+00, 4.89743615e+00, 5.44460636e+00, 5.99177658e+00,\n",
       "       6.53894679e+00, 7.06374454e+00, 7.58854228e+00, 8.11334003e+00,\n",
       "       8.99801066e+00, 9.88268129e+00, 1.07673519e+01, 1.18320746e+01,\n",
       "       1.28967973e+01, 1.39615200e+01, 1.54240483e+01, 1.68865765e+01,\n",
       "       1.83491047e+01, 1.90511571e+01, 1.90950354e+01, 1.91389136e+01,\n",
       "       1.91827919e+01, 1.91849858e+01, 1.91871797e+01, 1.91915676e+01,\n",
       "       1.91959554e+01, 1.91990658e+01, 1.92015997e+01, 1.92041337e+01,\n",
       "       1.92059486e+01, 1.92077636e+01, 1.92092301e+01, 1.92106966e+01,\n",
       "       1.92121631e+01, 1.92139426e+01, 1.92157221e+01, 1.92175016e+01,\n",
       "       1.92192811e+01, 1.92214060e+01, 1.92235309e+01, 1.92256558e+01,\n",
       "       1.92277807e+01, 1.92299056e+01, 1.92327462e+01, 1.92355869e+01,\n",
       "       1.92384275e+01, 1.92412681e+01, 1.92441088e+01, 1.92470588e+01,\n",
       "       1.92500089e+01, 1.92529590e+01, 1.92559091e+01, 1.92586969e+01,\n",
       "       1.92614848e+01, 1.92642727e+01, 1.92670136e+01, 1.92697545e+01,\n",
       "       1.92724954e+01, 1.92866638e+01, 1.93008321e+01, 1.93150005e+01,\n",
       "       1.93632991e+01, 1.94115977e+01, 1.94598963e+01, 1.95752797e+01,\n",
       "       1.96906632e+01, 1.98060466e+01, 1.99214300e+01, 2.01045778e+01,\n",
       "       2.02877256e+01, 2.04708734e+01, 2.06540212e+01, 2.09651559e+01,\n",
       "       2.12762905e+01, 2.15874251e+01, 2.18985598e+01, 2.22096944e+01,\n",
       "       2.26680901e+01, 2.31264857e+01, 2.35848814e+01, 2.40432771e+01,\n",
       "       2.45016727e+01, 2.52260095e+01, 2.59503463e+01, 2.66746831e+01,\n",
       "       2.73990198e+01, 2.81233566e+01, 3.00507122e+01, 3.19780678e+01,\n",
       "       3.39054235e+01, 3.58327791e+01, 3.92895845e+01, 4.27463900e+01,\n",
       "       4.62031954e+01, 4.96600009e+01, 5.31168063e+01, 5.70382463e+01,\n",
       "       6.09596863e+01, 6.48811262e+01, 6.88025662e+01, 7.27240062e+01,\n",
       "       7.27297686e+01, 7.27412934e+01, 7.27528183e+01, 7.27643431e+01,\n",
       "       7.27758679e+01, 7.27873928e+01, 7.28574588e+01, 7.28605939e+01,\n",
       "       7.28637289e+01, 7.28668639e+01, 7.28731340e+01, 7.28794041e+01,\n",
       "       7.28856742e+01, 7.29483749e+01, 7.30110756e+01, 7.30737763e+01,\n",
       "       7.31364770e+01, 7.34083941e+01, 7.36803111e+01, 7.39522282e+01,\n",
       "       7.42241453e+01, 7.44960624e+01, 7.49077529e+01, 7.53194435e+01,\n",
       "       7.57311341e+01, 7.61428247e+01, 7.65545152e+01, 7.69662058e+01,\n",
       "       7.73778964e+01, 7.77895869e+01, 7.82012775e+01, 7.86129681e+01,\n",
       "       7.90246587e+01, 7.94363492e+01, 7.98480398e+01, 8.02597304e+01,\n",
       "       8.06714209e+01, 8.10831115e+01, 8.14948021e+01, 8.19064927e+01,\n",
       "       8.23181832e+01, 8.27298738e+01, 8.31415644e+01, 8.35532550e+01,\n",
       "       8.39649455e+01, 8.43766361e+01, 8.47883267e+01, 8.52000172e+01,\n",
       "       8.56500172e+01, 8.61000172e+01, 8.65500172e+01, 8.70000172e+01,\n",
       "       8.74500172e+01, 8.80000172e+01, 8.85500172e+01, 8.91000172e+01,\n",
       "       8.96500172e+01, 9.02250172e+01, 9.08000172e+01, 9.13750172e+01,\n",
       "       9.19500172e+01, 9.25250172e+01, 9.31000172e+01, 9.36750172e+01,\n",
       "       9.42500172e+01, 9.72275554e+01, 1.00205093e+02, 1.00970041e+02,\n",
       "       1.00985644e+02, 1.00993952e+02, 1.00999991e+02, 1.01006030e+02,\n",
       "       1.01012068e+02, 1.01018107e+02, 1.01024146e+02, 1.01036224e+02,\n",
       "       1.01048302e+02, 1.01060379e+02, 1.01181156e+02, 1.01301933e+02,\n",
       "       1.01422710e+02, 1.01722463e+02, 1.02022217e+02, 1.02321970e+02,\n",
       "       1.02621724e+02, 1.02972483e+02, 1.03323242e+02, 1.03674001e+02,\n",
       "       1.04024760e+02, 1.04375519e+02, 1.05012076e+02, 1.05648634e+02,\n",
       "       1.06285191e+02, 1.06921748e+02, 1.07558306e+02, 1.08658529e+02,\n",
       "       1.09758753e+02, 1.10858977e+02, 1.11959200e+02, 1.13731222e+02,\n",
       "       1.15503243e+02, 1.17275264e+02, 1.19047285e+02, 1.21390221e+02,\n",
       "       1.23733156e+02, 1.26076092e+02, 1.28419028e+02, 1.31498549e+02,\n",
       "       1.34578070e+02, 1.37657591e+02, 1.40737112e+02, 1.44750202e+02,\n",
       "       1.48763292e+02, 1.52776382e+02, 1.56789472e+02, 1.61799714e+02,\n",
       "       1.66809955e+02, 1.70941199e+02, 1.75072442e+02, 1.79203685e+02,\n",
       "       1.83334929e+02, 1.86775117e+02, 1.90215305e+02, 1.93655493e+02,\n",
       "       1.97095681e+02, 1.97602823e+02, 1.98109966e+02, 1.98617108e+02,\n",
       "       1.99124250e+02, 2.00138535e+02, 2.01152820e+02, 2.02167105e+02,\n",
       "       2.05677370e+02, 2.08037502e+02, 2.10397634e+02, 2.12757766e+02,\n",
       "       2.16604588e+02, 2.20451411e+02, 2.23455176e+02, 2.26458941e+02,\n",
       "       2.29462706e+02, 2.32466472e+02, 2.36514352e+02, 2.40562232e+02,\n",
       "       2.44610112e+02, 2.48657992e+02, 2.52705872e+02, 2.56753752e+02,\n",
       "       2.60801632e+02, 2.65336509e+02, 2.69871386e+02, 2.74406263e+02,\n",
       "       2.78941140e+02, 2.83476016e+02, 2.88861803e+02, 2.94247590e+02,\n",
       "       2.99633376e+02, 3.05019163e+02, 3.10404950e+02, 3.15790736e+02,\n",
       "       3.21176523e+02, 3.26562310e+02, 3.31948096e+02, 3.37333883e+02,\n",
       "       3.42719669e+02, 3.48105456e+02, 3.53491243e+02, 3.58877029e+02,\n",
       "       3.65669073e+02, 3.72461116e+02, 3.79253159e+02, 3.86045202e+02,\n",
       "       3.92837245e+02, 3.97877375e+02, 4.02917504e+02, 4.07957633e+02,\n",
       "       4.12997763e+02, 4.18037892e+02, 4.24285366e+02, 4.30532839e+02,\n",
       "       4.31748399e+02, 4.32963960e+02, 4.34179520e+02, 4.35395080e+02,\n",
       "       4.37826201e+02, 4.40257322e+02, 4.42688443e+02, 4.48623021e+02,\n",
       "       4.54557598e+02, 4.60492176e+02, 4.73183222e+02, 4.83186058e+02,\n",
       "       4.93188894e+02, 5.03191730e+02, 5.13194567e+02, 5.24523913e+02,\n",
       "       5.35853260e+02, 5.47182607e+02, 5.58511954e+02, 5.74145935e+02,\n",
       "       5.89779916e+02, 6.05413898e+02, 6.21047879e+02, 6.36681860e+02,\n",
       "       6.60199728e+02, 6.83717597e+02, 7.07235465e+02, 7.30753333e+02,\n",
       "       7.65009183e+02, 7.99265033e+02, 8.33520883e+02, 9.25283427e+02,\n",
       "       1.00000000e+03])\n",
       " t_events: None\n",
       "        y: array([[5.15496155e+05, 5.15496155e+05, 5.15496155e+05, ...,\n",
       "        3.98987471e+01, 3.98983926e+01, 3.98982674e+01],\n",
       "       [3.17937755e+04, 3.17937755e+04, 3.17937754e+04, ...,\n",
       "        3.94223700e+00, 3.94219823e+00, 3.94218458e+00],\n",
       "       [4.33658179e+03, 4.33658173e+03, 4.33658168e+03, ...,\n",
       "        5.20164191e-05, 5.20152257e-05, 5.20148049e-05],\n",
       "       ...,\n",
       "       [0.00000000e+00, 0.00000000e+00, 0.00000000e+00, ...,\n",
       "        0.00000000e+00, 0.00000000e+00, 0.00000000e+00],\n",
       "       [0.00000000e+00, 0.00000000e+00, 0.00000000e+00, ...,\n",
       "        0.00000000e+00, 0.00000000e+00, 0.00000000e+00],\n",
       "       [0.00000000e+00, 5.90736939e-07, 1.18147388e-06, ...,\n",
       "        7.16453512e+03, 7.16561865e+03, 7.16650091e+03]])\n",
       " y_events: None"
      ]
     },
     "execution_count": 19,
     "metadata": {},
     "output_type": "execute_result"
    }
   ],
   "source": [
    "simulation1.integr_sci(0,tsim,0.1)"
   ]
  },
  {
   "cell_type": "markdown",
   "metadata": {},
   "source": [
    "# Analysis"
   ]
  },
  {
   "cell_type": "markdown",
   "metadata": {},
   "source": [
    "## Grid Plot"
   ]
  },
  {
   "cell_type": "code",
   "execution_count": 20,
   "metadata": {},
   "outputs": [],
   "source": [
    "from datetime import timedelta"
   ]
  },
  {
   "cell_type": "code",
   "execution_count": 21,
   "metadata": {},
   "outputs": [],
   "source": [
    "# Days to plot\n",
    "days = 250\n",
    "t_end = t_sp\n",
    "dates = [initdate+timedelta(days=i) for i in simulation1.t]"
   ]
  },
  {
   "cell_type": "code",
   "execution_count": 22,
   "metadata": {},
   "outputs": [],
   "source": [
    "SeroPrevalence = simulation1.I_ac[-1]/simulation1.population\n",
    "SeroPrevalenceDet = simulation1.I_ac_det[-1]/simulation1.population"
   ]
  },
  {
   "cell_type": "code",
   "execution_count": 23,
   "metadata": {},
   "outputs": [
    {
     "data": {
      "text/plain": [
       "<matplotlib.legend.Legend at 0x7f73fa408640>"
      ]
     },
     "execution_count": 23,
     "metadata": {},
     "output_type": "execute_result"
    }
   ],
   "source": [
    "fig, axs = plt.subplots(2, 2)\n",
    "\n",
    "axs[0,0].set_title('Accumulated Infected')\n",
    "axs[0,0].set_xlim(initdate,datetime(2020,12,31))\n",
    "axs[0,0].plot(dates,simulation1.I_ac_det)\n",
    "axs[0,0].scatter(RM.I_ac_r_dates,RM.I_ac_r)\n",
    "axs[0,0].axvline(x = SPchange_date, linestyle = 'dotted',color = 'grey',label='Inicio Apertura')\n",
    "axs[0,0].axvline(x = fiestaspatrias, linestyle = 'dotted',color = 'red',label='18 Sept')\n",
    "axs[0,0].axvline(x = plebiscito, linestyle = 'dotted',color = 'blue',label='Plebiscito')\n",
    "axs[0,0].plot([], [], ' ', label='SeroPrevalence: '+str(round(100*SeroPrevalence,2))+'%')\n",
    "axs[0,0].plot([], [], ' ', label='SeroPrevalence Detected: '+str(round(100*SeroPrevalenceDet,2))+'%')\n",
    "axs[0,0].legend(loc=0)\n",
    "\n",
    "\n",
    "axs[0,1].set_title('Hospitalized Accumulated Deaths')\n",
    "axs[0,1].set_xlim(initdate,datetime(2020,12,31))\n",
    "axs[0,1].plot(dates,simulation1.B)\n",
    "axs[0,1].scatter(RM.hosp_dates,RM.Br_hosp)\n",
    "axs[0,1].axvline(x = SPchange_date, linestyle = 'dotted',color = 'grey',label='Inicio Apertura')\n",
    "axs[0,1].axvline(x = fiestaspatrias, linestyle = 'dotted',color = 'red',label='18 Sept')\n",
    "axs[0,1].axvline(x = plebiscito, linestyle = 'dotted',color = 'blue',label='Plebiscito')\n",
    "axs[0,1].legend(loc=0)\n",
    "\n",
    "\n",
    "axs[1,0].set_title('UTI Usage')\n",
    "axs[1,0].set_xlim(initdate,datetime(2020,12,31))\n",
    "axs[1,0].plot(dates,simulation1.Hse+simulation1.Hout)\n",
    "axs[1,0].scatter(RM.sochimi_dates,RM.UTI)\n",
    "axs[1,0].plot(dates,simulation1.H_cap,label='UTI Capacity', color = 'red')\n",
    "axs[1,0].axvline(x = SPchange_date, linestyle = 'dotted',color = 'grey',label='Inicio Apertura')\n",
    "axs[1,0].axvline(x = fiestaspatrias, linestyle = 'dotted',color = 'red',label='18 Sept')\n",
    "axs[1,0].axvline(x = plebiscito, linestyle = 'dotted',color = 'blue',label='Plebiscito')\n",
    "axs[1,0].legend(loc=0)\n",
    "\n",
    "\n",
    "axs[1,1].set_title('VMI Usage')\n",
    "axs[1,1].set_xlim(initdate,datetime(2020,12,31))\n",
    "axs[1,1].plot(dates,simulation1.V)\n",
    "axs[1,1].scatter(RM.sochimi_dates,RM.Vr)\n",
    "axs[1,1].plot(dates,simulation1.V_cap,label='VMI Capacity', color = 'red')\n",
    "axs[1,1].axvline(x = SPchange_date, linestyle = 'dotted',color = 'grey',label='Inicio Apertura')\n",
    "axs[1,1].axvline(x = fiestaspatrias, linestyle = 'dotted',color = 'red',label='18 Sept')\n",
    "axs[1,1].axvline(x = plebiscito, linestyle = 'dotted',color = 'blue',label='Plebiscito')\n",
    "axs[1,1].legend(loc=0)\n"
   ]
  },
  {
   "cell_type": "code",
   "execution_count": 50,
   "metadata": {},
   "outputs": [
    {
     "data": {
      "text/plain": [
       "0.052377995456964255"
      ]
     },
     "execution_count": 50,
     "metadata": {},
     "output_type": "execute_result"
    }
   ],
   "source": [
    "SeroPrevalenceDet"
   ]
  },
  {
   "cell_type": "code",
   "execution_count": 953,
   "metadata": {},
   "outputs": [
    {
     "data": {
      "text/plain": [
       "<matplotlib.lines.Line2D at 0x200855e0a90>"
      ]
     },
     "execution_count": 953,
     "metadata": {},
     "output_type": "execute_result"
    }
   ],
   "source": [
    "fig, axs = plt.subplots(2, 3)\n",
    "axs[0,0].set_xlim(0,days)\n",
    "axs[0,0].scatter(RM.tr,RM.Ir,label='Real Active Data')\n",
    "axs[0,0].plot(simulation1.t,simulation1.I_det,label='Infected')\n",
    "axs[0,0].set_title('Active Infected')\n",
    "axs[0,0].axvline(x = t_end, linestyle = 'dotted',color = 'grey')\n",
    "\n",
    "\n",
    "axs[0,1].set_xlim(0,days)\n",
    "axs[0,1].plot(simulation1.t,simulation1.I_d_det,label='sim1')\n",
    "axs[0,1].scatter(RM.I_d_r_tr,RM.I_d_r,label='Daily Real Data')\n",
    "axs[0,1].set_title('Daily infected')\n",
    "axs[0,1].axvline(x = t_end, linestyle = 'dotted',color = 'grey')\n",
    "\n",
    "\n",
    "axs[0,2].set_xlim(0,days)\n",
    "axs[0,2].plot(simulation1.t,simulation1.I_ac_det,label='sim1')\n",
    "axs[0,2].scatter(RM.I_ac_r_tr,RM.I_ac_r,label='Accumulated Real Data')\n",
    "axs[0,2].set_title('Accumulated Infected')\n",
    "axs[0,2].axvline(x = t_end, linestyle = 'dotted',color = 'grey')\n",
    "\n",
    "\n",
    "axs[1,0].set_xlim(0,days)\n",
    "axs[1,0].plot(simulation1.t,simulation1.B,label='sim1')\n",
    "axs[1,0].scatter(RM.hosp_tr,RM.Br_hosp,label='Real Data')\n",
    "axs[1,0].set_title('Hospitalized Acmulated Deaths')\n",
    "axs[1,0].axvline(x = t_end, linestyle = 'dotted',color = 'grey')\n",
    "\n",
    "\n",
    "axs[1,1].set_xlim(0,days)\n",
    "axs[1,1].plot(simulation1.t,simulation1.Hse+simulation1.Hout,label='UTI Beds')\n",
    "axs[1,1].scatter(RM.sochimi_tr,RM.UCI,label='Real Data')\n",
    "axs[1,1].plot(simulation1.t,simulation1.H_cap,label='Capacity', color = 'red')\n",
    "axs[1,1].set_title('UTI Usage')\n",
    "axs[1,1].axvline(x = t_end, linestyle = 'dotted',color = 'grey')\n",
    "\n",
    "\n",
    "axs[1,2].set_xlim(0,days)\n",
    "axs[1,2].plot(simulation1.t,simulation1.V,label='Vsat sim1')\n",
    "axs[1,2].scatter(RM.sochimi_tr,RM.Vr,label='Real Data')\n",
    "axs[1,2].plot(simulation1.t,simulation1.V_cap,label='Capacity Data', color = 'red')\n",
    "axs[1,2].set_title('VMI Usage')\n",
    "axs[1,2].axvline(x = t_end, linestyle = 'dotted',color = 'grey')\n",
    "\n"
   ]
  },
  {
   "cell_type": "markdown",
   "metadata": {},
   "source": [
    "## Single plots"
   ]
  },
  {
   "cell_type": "markdown",
   "metadata": {},
   "source": [
    "### SEIRD"
   ]
  },
  {
   "cell_type": "code",
   "execution_count": 926,
   "metadata": {},
   "outputs": [],
   "source": [
    "plt.plot(simulation1.t,simulation1.S,label='S')\n",
    "plt.plot(simulation1.t,simulation1.E,label='E')\n",
    "plt.plot(simulation1.t,simulation1.I,label='I')\n",
    "plt.plot(simulation1.t,simulation1.R,label='R')\n",
    "plt.plot(simulation1.t,simulation1.B,label='B')\n",
    "plt.axvline(x = t_end, linestyle = 'dotted',color = 'grey')\n",
    "plt.title('SEIRD')\n",
    "plt.legend(loc=0)\n",
    "plt.show()"
   ]
  },
  {
   "cell_type": "markdown",
   "metadata": {},
   "source": [
    "### Daily Deaths"
   ]
  },
  {
   "cell_type": "code",
   "execution_count": 841,
   "metadata": {},
   "outputs": [],
   "source": [
    "plt.plot(simulation1.t,simulation1.D,label='sim1')\n",
    "plt.title('Deaths')\n",
    "plt.show()"
   ]
  },
  {
   "cell_type": "markdown",
   "metadata": {},
   "source": [
    "### VMI Usage"
   ]
  },
  {
   "cell_type": "code",
   "execution_count": 842,
   "metadata": {},
   "outputs": [],
   "source": [
    "plt.plot(simulation1.t,simulation1.V_cap,label='VMI capacity sim1')\n",
    "plt.plot(simulation1.t,simulation1.V,label='VMI sim1')\n",
    "plt.legend(loc=0)\n",
    "plt.title('VMI')\n",
    "plt.scatter(RM.sochimi_tr,RM.Vr,label='Real Data')\n",
    "plt.scatter(RM.sochimi_tr,RM.Vr_tot,label='Real Data')\n",
    "plt.show()"
   ]
  },
  {
   "cell_type": "markdown",
   "metadata": {},
   "source": [
    "### Hospitalization"
   ]
  },
  {
   "cell_type": "code",
   "execution_count": 843,
   "metadata": {},
   "outputs": [],
   "source": [
    "plt.plot(simulation1.t,simulation1.H_cap,label='sim1')\n",
    "plt.plot(simulation1.t,simulation1.Hse+simulation1.Hout,label='UCI/UTI Beds')\n",
    "plt.legend(loc=0)\n",
    "plt.title('Hospitalization')\n",
    "\n",
    "plt.scatter(RM.sochimi_tr,RM.Hr,label='Real Data')\n",
    "plt.scatter(RM.sochimi_tr,RM.Hr_tot,label='Real Data')\n",
    "plt.show()"
   ]
  },
  {
   "cell_type": "markdown",
   "metadata": {},
   "source": [
    "### Deaths by cause"
   ]
  },
  {
   "cell_type": "code",
   "execution_count": null,
   "metadata": {},
   "outputs": [],
   "source": [
    "plt.plot(simulation1.t,simulation1.D,label='sim1')\n",
    "plt.plot(simulation1.t,simulation1.V_D_d,label='V_D sim1')\n",
    "plt.plot(simulation1.t,simulation1.Hse_D_d,label='Hse_D sim1')\n",
    "plt.plot(simulation1.t,simulation1.Icr_D_d,label='Icr_D sim1')\n",
    "plt.plot(simulation1.t,simulation1.Ise_D_d,label='Ise_D sim1')\n",
    "\n",
    "plt.legend(loc=0)\n",
    "plt.title('Deaths by cause')\n",
    "plt.show()"
   ]
  },
  {
   "cell_type": "markdown",
   "metadata": {},
   "source": [
    "### Hospital saturation"
   ]
  },
  {
   "cell_type": "code",
   "execution_count": null,
   "metadata": {},
   "outputs": [],
   "source": [
    "plt.plot(simulation1.t,simulation1.H_sat,label='HSat')\n",
    "plt.plot(simulation1.t,simulation1.V_sat,label='Vsat')\n",
    "plt.legend(loc=0)\n",
    "plt.title('Saturation')\n",
    "plt.show()"
   ]
  },
  {
   "cell_type": "markdown",
   "metadata": {},
   "source": [
    "## Peak Date"
   ]
  },
  {
   "cell_type": "code",
   "execution_count": null,
   "metadata": {},
   "outputs": [],
   "source": [
    "peakidx = np.where(RM.Ir==max(RM.Ir))[0][0]\n",
    "datapeakdate = RM.sochimi_dates[peakidx]"
   ]
  },
  {
   "cell_type": "code",
   "execution_count": null,
   "metadata": {},
   "outputs": [],
   "source": [
    "simulation.peak_date"
   ]
  },
  {
   "cell_type": "code",
   "execution_count": null,
   "metadata": {},
   "outputs": [],
   "source": [
    "datapeakdate"
   ]
  },
  {
   "cell_type": "code",
   "execution_count": null,
   "metadata": {},
   "outputs": [],
   "source": [
    "Peak_delta = (simulation.peak_date -datapeakdate).days"
   ]
  },
  {
   "cell_type": "code",
   "execution_count": null,
   "metadata": {},
   "outputs": [],
   "source": [
    "Peak_delta"
   ]
  }
 ],
 "metadata": {
  "kernelspec": {
   "display_name": "Python 3",
   "language": "python",
   "name": "python3"
  },
  "language_info": {
   "codemirror_mode": {
    "name": "ipython",
    "version": 3
   },
   "file_extension": ".py",
   "mimetype": "text/x-python",
   "name": "python",
   "nbconvert_exporter": "python",
   "pygments_lexer": "ipython3",
   "version": "3.8.5"
  }
 },
 "nbformat": 4,
 "nbformat_minor": 4
}
