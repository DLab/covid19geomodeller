{
 "cells": [
  {
   "cell_type": "markdown",
   "metadata": {},
   "source": [
    "# SEIRHVD Data Fit\n",
    "\n",
    "This Jupyter notebooks implements the SEIRHVD4 model for fitting the actual Chilean data in order to make projections in bed usage, amount of infected and deaths. \n",
    "This implements a single instance to facilitate understanding the model prior to run multiple data fittings at a time."
   ]
  },
  {
   "cell_type": "code",
   "execution_count": 1,
   "metadata": {},
   "outputs": [
    {
     "name": "stdout",
     "output_type": "stream",
     "text": [
      "Linux\n"
     ]
    }
   ],
   "source": [
    "import numpy as np\n",
    "import pandas as pd\n",
    "import matplotlib.pyplot as plt\n",
    "from datetime import datetime\n",
    "from numpy import linalg as LA\n",
    "\n",
    "import platform\n",
    "OS = platform.system()\n",
    "\n",
    "import matplotlib.pyplot as plt\n",
    "if OS == 'Linux':    \n",
    "    %matplotlib tk\n",
    "    print('Linux')\n",
    "elif OS == 'Windows':\n",
    "    %matplotlib qt\n",
    "    print('Windows')\n",
    "else:\n",
    "    print('OS not detected :-|')\n",
    "\n",
    "import sys\n",
    "from pathlib import Path\n",
    "sys.path.insert(1, '../src/SEIRHVD/')\n",
    "sys.path.insert(1, '../src/utils/')\n",
    "sys.path.insert(1, 'src/SEIRHVD/')\n",
    "sys.path.insert(1, 'src/utils/')\n",
    "\n",
    "from class_SEIRHUVD4 import SEIRHVD \n",
    "from Quarantine import Quarantine\n",
    "from importdata import ImportData"
   ]
  },
  {
   "cell_type": "markdown",
   "metadata": {},
   "source": [
    "## Time Variables\n",
    "Declare Initial date for simulating and data fitting"
   ]
  },
  {
   "cell_type": "code",
   "execution_count": 2,
   "metadata": {},
   "outputs": [],
   "source": [
    "initdate = datetime(2020,5,15)\n",
    "currentdate = datetime.now()\n",
    "currentday = (currentdate - initdate).days"
   ]
  },
  {
   "cell_type": "markdown",
   "metadata": {},
   "source": [
    "## Import Data\n",
    "To import data we use an ImportData object which is initialized with the region's cut and the initial date. Meanwhile we will adjust this data for regions, then I'll add Heath sector as the minimum territorial unit for SEIRHVD models."
   ]
  },
  {
   "cell_type": "code",
   "execution_count": 3,
   "metadata": {
    "scrolled": true
   },
   "outputs": [
    {
     "name": "stdout",
     "output_type": "stream",
     "text": [
      "Importing General Data\n",
      "Importing Population\n",
      "Importing Active infected\n",
      "Importing Accumulated Infected\n",
      "Importing Daily Infected\n",
      "Importing Sochimi Data\n",
      "Importing Accumulated Deaths\n",
      "Importing Active Infected by Minciencia\n",
      "Done\n"
     ]
    }
   ],
   "source": [
    "tstate = '13'\n",
    "\n",
    "# Import Data\n",
    "RM = ImportData(tstate=tstate,initdate = initdate)\n",
    "RM.importdata()"
   ]
  },
  {
   "cell_type": "markdown",
   "metadata": {},
   "source": [
    "## Simulation Parameters"
   ]
  },
  {
   "cell_type": "code",
   "execution_count": 4,
   "metadata": {},
   "outputs": [],
   "source": [
    "# Simulation parameters\n",
    "tsim = 1000\n",
    "beta = 0.28\n",
    "mu = 0.8\n",
    "k = 0.1\n",
    "\n",
    "SeroPrevFactor=0.035 # SeroPrevalence Factor (The proportion of the population that participates in the dynamics)\n",
    "expinfection=0 # Proportion in which the exposed infect - 0: nothing, 1: equally as Infected"
   ]
  },
  {
   "cell_type": "markdown",
   "metadata": {},
   "source": [
    "## Quarantines\n",
    "Build Quarantine Object:\n",
    " \n",
    "     Q = Quarantine(rem_mob,max_mob=max_mob,qp=0,iqt=0,fqt=1000,movfunct = 'once')\n",
    "     alpha = Q.alpha\n",
    "     \n",
    "     Plot Quarantine dynamics:\n",
    "         Q.plot()"
   ]
  },
  {
   "cell_type": "code",
   "execution_count": 5,
   "metadata": {},
   "outputs": [],
   "source": [
    "# Quarantines \n",
    "max_mob = 0.6\n",
    "rem_mob = 0.4\n",
    "\n",
    "#alpha = Quarantine(rem_mob,max_mob=max_mob,qp=0,iqt=0,fqt=1000,movfunct = 'once').alpha(t)\n",
    "alpha = Quarantine(rem_mob).alpha"
   ]
  },
  {
   "cell_type": "markdown",
   "metadata": {},
   "source": [
    "## Underreport\n",
    "Fraction of Infected detected/reported  \n",
    "    - Imi_det: fraction of Mild detected\n",
    "    - Imi_as: fraction of asymptomatic detected"
   ]
  },
  {
   "cell_type": "code",
   "execution_count": 6,
   "metadata": {},
   "outputs": [],
   "source": [
    "Imi_det = 0.56\n",
    "Ias_det = 0"
   ]
  },
  {
   "cell_type": "markdown",
   "metadata": {},
   "source": [
    "## Simulation\n",
    "Initialize Simulation Object, and run the simulation. "
   ]
  },
  {
   "cell_type": "code",
   "execution_count": 7,
   "metadata": {},
   "outputs": [
    {
     "name": "stdout",
     "output_type": "stream",
     "text": [
      "InitialCondition Object Data\n"
     ]
    },
    {
     "data": {
      "text/plain": [
       "  message: 'The solver successfully reached the end of the integration interval.'\n",
       "     nfev: 2870\n",
       "     njev: 51\n",
       "      nlu: 51\n",
       "      sol: None\n",
       "   status: 0\n",
       "  success: True\n",
       "        t: array([0.00000000e+00, 1.07133033e-08, 2.14266065e-08, 1.07154459e-04,\n",
       "       2.14287492e-04, 3.21420524e-04, 1.39275085e-03, 2.46408118e-03,\n",
       "       3.53541150e-03, 4.60674183e-03, 1.53200451e-02, 2.60333484e-02,\n",
       "       3.67466516e-02, 4.74599549e-02, 5.81732581e-02, 1.65306291e-01,\n",
       "       2.72439323e-01, 3.79572356e-01, 4.86705389e-01, 5.93838421e-01,\n",
       "       7.00971454e-01, 1.06493835e+00, 1.42890524e+00, 1.79287213e+00,\n",
       "       1.88386385e+00, 1.97485558e+00, 1.99760351e+00, 2.02035144e+00,\n",
       "       2.02148883e+00, 2.02262623e+00, 2.02376363e+00, 2.02510481e+00,\n",
       "       2.02600119e+00, 2.02666929e+00, 2.02720112e+00, 2.02773294e+00,\n",
       "       2.02810363e+00, 2.02847433e+00, 2.02877012e+00, 2.02906591e+00,\n",
       "       2.02936170e+00, 2.02971665e+00, 2.03007160e+00, 2.03042656e+00,\n",
       "       2.03078151e+00, 2.03120739e+00, 2.03163328e+00, 2.03205916e+00,\n",
       "       2.03248505e+00, 2.03291093e+00, 2.03362344e+00, 2.03415679e+00,\n",
       "       2.03469014e+00, 2.03522349e+00, 2.03575684e+00, 2.03679252e+00,\n",
       "       2.03782820e+00, 2.03886387e+00, 2.03989955e+00, 2.04104780e+00,\n",
       "       2.04219604e+00, 2.04334429e+00, 2.04449943e+00, 2.04565457e+00,\n",
       "       2.04680972e+00, 2.04796699e+00, 2.04912425e+00, 2.05028152e+00,\n",
       "       2.05712231e+00, 2.06396310e+00, 2.07080389e+00, 2.09746870e+00,\n",
       "       2.12413350e+00, 2.15079831e+00, 2.22677141e+00, 2.30274451e+00,\n",
       "       2.37871761e+00, 2.39391223e+00, 2.40910685e+00, 2.43949609e+00,\n",
       "       2.44709340e+00, 2.44749749e+00, 2.44790157e+00, 2.44870974e+00,\n",
       "       2.44951792e+00, 2.45040805e+00, 2.45129818e+00, 2.45241273e+00,\n",
       "       2.45310280e+00, 2.45363708e+00, 2.45407592e+00, 2.45451475e+00,\n",
       "       2.45483755e+00, 2.45516035e+00, 2.45541754e+00, 2.45567473e+00,\n",
       "       2.45593191e+00, 2.45622147e+00, 2.45651103e+00, 2.45680059e+00,\n",
       "       2.45709015e+00, 2.45737971e+00, 2.45766928e+00, 2.45795884e+00,\n",
       "       2.45819746e+00, 2.45843608e+00, 2.45867470e+00, 2.45891333e+00,\n",
       "       2.45921118e+00, 2.45950904e+00, 2.45980690e+00, 2.46010475e+00,\n",
       "       2.46040261e+00, 2.46080523e+00, 2.46120785e+00, 2.46161046e+00,\n",
       "       2.46201308e+00, 2.46241570e+00, 2.46281832e+00, 2.46330714e+00,\n",
       "       2.46379596e+00, 2.46428479e+00, 2.46477361e+00, 2.46526243e+00,\n",
       "       2.46575126e+00, 2.46659475e+00, 2.46743825e+00, 2.46828175e+00,\n",
       "       2.46912525e+00, 2.46996875e+00, 2.47144917e+00, 2.47292959e+00,\n",
       "       2.47441002e+00, 2.47589044e+00, 2.48158968e+00, 2.48728892e+00,\n",
       "       2.49298816e+00, 2.51796804e+00, 2.54294792e+00, 2.56792780e+00,\n",
       "       2.62971019e+00, 2.69149257e+00, 2.75327495e+00, 2.81505734e+00,\n",
       "       2.95286624e+00, 3.09067514e+00, 3.22848404e+00, 3.36629295e+00,\n",
       "       3.64306712e+00, 3.91984129e+00, 4.19661547e+00, 4.47338964e+00,\n",
       "       4.75016381e+00, 5.12005852e+00, 5.48995324e+00, 5.85984795e+00,\n",
       "       6.22974266e+00, 6.59963737e+00, 7.16011855e+00, 7.72059973e+00,\n",
       "       8.28108092e+00, 8.84156210e+00, 9.40204329e+00, 1.03732909e+01,\n",
       "       1.13445385e+01, 1.23157861e+01, 1.32870338e+01, 1.52017673e+01,\n",
       "       1.71165008e+01, 1.90312343e+01, 2.09459678e+01, 2.28607014e+01,\n",
       "       2.47754349e+01, 2.66901684e+01, 2.86049019e+01, 2.86121484e+01,\n",
       "       2.86175966e+01, 2.86230447e+01, 2.86284929e+01, 2.86339410e+01,\n",
       "       2.86433177e+01, 2.86526944e+01, 2.86620712e+01, 2.87026862e+01,\n",
       "       2.87433013e+01, 2.87941466e+01, 2.88449919e+01, 2.88958373e+01,\n",
       "       2.90204200e+01, 2.91450028e+01, 2.92695856e+01, 2.93253711e+01,\n",
       "       2.93811565e+01, 2.94369420e+01, 2.94927274e+01, 2.96042983e+01,\n",
       "       2.97158692e+01, 2.98274401e+01, 2.99390110e+01, 3.02256369e+01,\n",
       "       3.05122628e+01, 3.07988886e+01, 3.10288710e+01, 3.12588534e+01,\n",
       "       3.14888357e+01, 3.17188181e+01, 3.19488005e+01, 3.21787828e+01,\n",
       "       3.24087652e+01, 3.26387476e+01, 3.29293323e+01, 3.32199170e+01,\n",
       "       3.35105017e+01, 3.38010864e+01, 3.40916711e+01, 3.43822559e+01,\n",
       "       3.46728406e+01, 3.49634253e+01, 3.52540100e+01, 3.52571476e+01,\n",
       "       3.52634229e+01, 3.52696981e+01, 3.52759733e+01, 3.52822486e+01,\n",
       "       3.52885238e+01, 3.53512762e+01, 3.54140287e+01, 3.54767811e+01,\n",
       "       3.57619741e+01, 3.60471672e+01, 3.63323602e+01, 3.66175532e+01,\n",
       "       3.69404025e+01, 3.72632518e+01, 3.75861011e+01, 3.79089504e+01,\n",
       "       3.82317997e+01, 3.85546490e+01, 3.88774982e+01, 3.92003475e+01,\n",
       "       3.95231968e+01, 3.98460461e+01, 4.01688954e+01, 4.04917447e+01,\n",
       "       4.08145939e+01, 4.11701710e+01, 4.15257480e+01, 4.18813250e+01,\n",
       "       4.22369020e+01, 4.25924790e+01, 4.30004169e+01, 4.34083548e+01,\n",
       "       4.38162926e+01, 4.42242305e+01, 4.46321683e+01, 4.50896406e+01,\n",
       "       4.55471129e+01, 4.60045852e+01, 4.64620575e+01, 4.70337286e+01,\n",
       "       4.76053997e+01, 4.81770708e+01, 4.87520708e+01, 4.93270708e+01,\n",
       "       4.99020708e+01, 5.04770708e+01, 5.10520708e+01, 5.16270708e+01,\n",
       "       5.23259121e+01, 5.30247533e+01, 5.37235946e+01, 5.44023163e+01,\n",
       "       5.50810380e+01, 5.57597597e+01, 5.64475228e+01, 5.71352859e+01,\n",
       "       5.78230490e+01, 5.85071147e+01, 5.91911804e+01, 5.98752460e+01,\n",
       "       6.05605487e+01, 6.12458514e+01, 6.19311541e+01, 6.26156594e+01,\n",
       "       6.33001647e+01, 6.39846700e+01, 6.46690945e+01, 6.53535190e+01,\n",
       "       6.60379436e+01, 6.67221216e+01, 6.74062997e+01, 6.80904778e+01,\n",
       "       6.87745188e+01, 6.94585598e+01, 7.01426009e+01, 7.08265191e+01,\n",
       "       7.15104374e+01, 7.21943556e+01, 7.28781777e+01, 7.35619998e+01,\n",
       "       7.42458219e+01, 7.49295599e+01, 7.56132978e+01, 7.62970358e+01,\n",
       "       7.69806976e+01, 7.76643595e+01, 7.83480213e+01, 7.90316106e+01,\n",
       "       7.97151999e+01, 8.03987892e+01, 8.10823070e+01, 8.17658247e+01,\n",
       "       8.24493425e+01, 8.31327881e+01, 8.38162338e+01, 8.44996794e+01,\n",
       "       8.51830513e+01, 8.58664233e+01, 8.65497952e+01, 8.72330915e+01,\n",
       "       8.79163879e+01, 8.85996842e+01, 8.92829030e+01, 8.99661217e+01,\n",
       "       9.06493405e+01, 9.13324800e+01, 9.20156195e+01, 9.26987589e+01,\n",
       "       9.33818178e+01, 9.40648766e+01, 9.47479355e+01, 9.54309128e+01,\n",
       "       9.61138902e+01, 9.67968675e+01, 9.74797630e+01, 9.81626584e+01,\n",
       "       9.88455538e+01, 9.95283675e+01, 1.00211181e+02, 1.00893995e+02,\n",
       "       1.01576727e+02, 1.02259460e+02, 1.02942192e+02, 1.03624845e+02,\n",
       "       1.04307497e+02, 1.04990149e+02, 1.05672723e+02, 1.06355296e+02,\n",
       "       1.07037870e+02, 1.07720367e+02, 1.08402863e+02, 1.09085360e+02,\n",
       "       1.09767782e+02, 1.10450203e+02, 1.11132625e+02, 1.11814974e+02,\n",
       "       1.12497323e+02, 1.13179673e+02, 1.13861952e+02, 1.14544231e+02,\n",
       "       1.15226510e+02, 1.15908721e+02, 1.16590933e+02, 1.17273145e+02,\n",
       "       1.17955292e+02, 1.18637439e+02, 1.19319585e+02, 1.20001670e+02,\n",
       "       1.20683755e+02, 1.21365840e+02, 1.22047866e+02, 1.22729892e+02,\n",
       "       1.23411918e+02, 1.24093888e+02, 1.24775858e+02, 1.25457827e+02,\n",
       "       1.26139744e+02, 1.26821660e+02, 1.27503576e+02, 1.28185442e+02,\n",
       "       1.28867307e+02, 1.29549173e+02, 1.30230991e+02, 1.30912808e+02,\n",
       "       1.31594626e+02, 1.32276398e+02, 1.32958171e+02, 1.33639943e+02,\n",
       "       1.34321673e+02, 1.35003403e+02, 1.35685132e+02, 1.36366822e+02,\n",
       "       1.37048511e+02, 1.37730201e+02, 1.38411852e+02, 1.39093504e+02,\n",
       "       1.39775156e+02, 1.40456772e+02, 1.41138388e+02, 1.41820004e+02,\n",
       "       1.42501587e+02, 1.43183170e+02, 1.43864752e+02, 1.44546304e+02,\n",
       "       1.45227855e+02, 1.45909407e+02, 1.46590929e+02, 1.47272451e+02,\n",
       "       1.47953973e+02, 1.48635468e+02, 1.49316963e+02, 1.49998457e+02,\n",
       "       1.50679926e+02, 1.51361395e+02, 1.52042864e+02, 1.52724310e+02,\n",
       "       1.53405755e+02, 1.54087200e+02, 1.54768622e+02, 1.55450045e+02,\n",
       "       1.56131468e+02, 1.56812869e+02, 1.57494271e+02, 1.58175673e+02,\n",
       "       1.58857055e+02, 1.59538437e+02, 1.60219819e+02, 1.60901183e+02,\n",
       "       1.61582547e+02, 1.62263911e+02, 1.62945258e+02, 1.63626605e+02,\n",
       "       1.64307952e+02, 1.64989283e+02, 1.65670614e+02, 1.66351945e+02,\n",
       "       1.67033261e+02, 1.67714577e+02, 1.68395894e+02, 1.69077196e+02,\n",
       "       1.69758499e+02, 1.70439801e+02, 1.71121091e+02, 1.71802380e+02,\n",
       "       1.72483670e+02, 1.73164948e+02, 1.73846225e+02, 1.74527503e+02,\n",
       "       1.75208774e+02, 1.75890045e+02, 1.76571315e+02, 1.77348931e+02,\n",
       "       1.78126546e+02, 1.78904162e+02, 1.79796697e+02, 1.80689232e+02,\n",
       "       1.81581768e+02, 1.82627798e+02, 1.83673828e+02, 1.84719859e+02,\n",
       "       1.85915847e+02, 1.87111836e+02, 1.88307824e+02, 1.89800121e+02,\n",
       "       1.91292418e+02, 1.92784715e+02, 1.93942413e+02, 1.95100111e+02,\n",
       "       1.96257808e+02, 1.97295121e+02, 1.98332434e+02, 1.99369747e+02,\n",
       "       2.00787015e+02, 2.02204283e+02, 2.03621551e+02, 2.04882993e+02,\n",
       "       2.06144434e+02, 2.07405876e+02, 2.09928759e+02, 2.12451641e+02,\n",
       "       2.14974524e+02, 2.17497407e+02, 2.22624432e+02, 2.27751457e+02,\n",
       "       2.31887886e+02, 2.36024315e+02, 2.40160744e+02, 2.44297174e+02,\n",
       "       2.48433603e+02, 2.53781733e+02, 2.59129864e+02, 2.64477994e+02,\n",
       "       2.69826125e+02, 2.75174255e+02, 2.80522386e+02, 2.85870516e+02,\n",
       "       2.91218647e+02, 2.96566777e+02, 3.01914908e+02, 3.07263038e+02,\n",
       "       3.12611169e+02, 3.17959299e+02, 3.23307430e+02, 3.28655560e+02,\n",
       "       3.34003691e+02, 3.39351821e+02, 3.44699951e+02, 3.50048082e+02,\n",
       "       3.55396212e+02, 3.60744343e+02, 3.66092473e+02, 3.71440604e+02,\n",
       "       3.76788734e+02, 3.82136865e+02, 3.87484995e+02, 3.94028956e+02,\n",
       "       4.00572916e+02, 4.07116876e+02, 4.13660836e+02, 4.20204797e+02,\n",
       "       4.28964374e+02, 4.37723951e+02, 4.46483528e+02, 4.55243105e+02,\n",
       "       4.64002683e+02, 4.77132213e+02, 4.90261742e+02, 5.03391272e+02,\n",
       "       5.16520802e+02, 5.29650332e+02, 5.57648202e+02, 5.85646072e+02,\n",
       "       6.13643942e+02, 6.41641812e+02, 7.96060234e+02, 9.50478656e+02,\n",
       "       1.00000000e+03])\n",
       " t_events: None\n",
       "        y: array([[ 2.18315392e+05,  2.18315391e+05,  2.18315391e+05, ...,\n",
       "        -1.88286485e-09, -4.45893320e-10, -4.40414911e-11],\n",
       "       [ 2.82502793e+04,  2.82502794e+04,  2.82502794e+04, ...,\n",
       "        -6.76579256e-10, -1.60225194e-10, -1.58256664e-11],\n",
       "       [ 3.85325885e+03,  3.85325884e+03,  3.85325883e+03, ...,\n",
       "         2.62328808e-19,  2.59883889e-21, -1.18377027e-21],\n",
       "       ...,\n",
       "       [ 0.00000000e+00,  0.00000000e+00,  0.00000000e+00, ...,\n",
       "         2.72512980e+03,  2.72512980e+03,  2.72512980e+03],\n",
       "       [ 0.00000000e+00,  0.00000000e+00,  0.00000000e+00, ...,\n",
       "         3.21816504e+02,  3.21816504e+02,  3.21816504e+02],\n",
       "       [ 0.00000000e+00,  2.69261023e-07,  5.38522046e-07, ...,\n",
       "         3.08240680e+03,  3.08240680e+03,  3.08240680e+03]])\n",
       " y_events: None"
      ]
     },
     "execution_count": 7,
     "metadata": {},
     "output_type": "execute_result"
    }
   ],
   "source": [
    "simulation = SEIRHVD(tsim,beta,mu,alpha,k=k,SeroPrevFactor=SeroPrevFactor,expinfection=expinfection,InitialConditions = RM,Imi_det = Imi_det,Ias_det = Ias_det)\n",
    "simulation.integr_sci(0,tsim,0.1)"
   ]
  },
  {
   "cell_type": "markdown",
   "metadata": {},
   "source": [
    "# Analysis - Detected infected\n",
    "\n",
    "The following plots will show the simulation results with the real data"
   ]
  },
  {
   "cell_type": "code",
   "execution_count": 13,
   "metadata": {},
   "outputs": [],
   "source": [
    "# Days to plot (Today + ..)\n",
    "days = currentday+20\n",
    "index = np.searchsorted(simulation.t,days)"
   ]
  },
  {
   "cell_type": "markdown",
   "metadata": {},
   "source": [
    "## Detected Active Infected\n",
    "Here we define a Detected infected population as follows:  \n",
    "\n",
    " Idet = Imi*det + Ise + Icr  \n",
    "\n",
    "where det is the proportion of mild detections\n",
    "\n",
    "\n",
    "**Aun me falta corregir el valor inicial, pues este lo considera para todos los infectados**"
   ]
  },
  {
   "cell_type": "code",
   "execution_count": 14,
   "metadata": {},
   "outputs": [],
   "source": [
    "tr_index = np.searchsorted(RM.tr,days)\n",
    "\n",
    "plt.scatter(RM.tr,RM.Ir,label='Real Data')\n",
    "\n",
    "plt.xlim(0,days)\n",
    "plt.plot(simulation.t[:index],simulation.I_det[:index],label='Infected')\n",
    "plt.legend(loc=0)\n",
    "plt.title('Detectable Active Infected')\n",
    "plt.show()\n"
   ]
  },
  {
   "cell_type": "markdown",
   "metadata": {},
   "source": [
    "## Detected Daily Infected"
   ]
  },
  {
   "cell_type": "code",
   "execution_count": 11,
   "metadata": {},
   "outputs": [],
   "source": [
    "plt.xlim(0,days)\n",
    "plt.plot(simulation.t[:index],simulation.I_d_det[:index],label='Daily new Infected')\n",
    "plt.scatter(RM.I_d_r_tr,RM.I_d_r,label='Real Data')\n",
    "plt.legend(loc=0)\n",
    "plt.title('Detected Daily infected')\n",
    "plt.show()"
   ]
  },
  {
   "cell_type": "markdown",
   "metadata": {},
   "source": [
    "## Detected Accumulated Infected"
   ]
  },
  {
   "cell_type": "code",
   "execution_count": 12,
   "metadata": {},
   "outputs": [],
   "source": [
    "plt.xlim(0,days)\n",
    "plt.plot(simulation.t[:index],simulation.I_ac_det[:index],label='Total Acummulated Infected')\n",
    "plt.scatter(RM.I_ac_r_tr,RM.I_ac_r,label='Real Data')\n",
    "plt.legend(loc=0)\n",
    "plt.show()"
   ]
  },
  {
   "cell_type": "markdown",
   "metadata": {},
   "source": [
    "# Analysis - Total infected\n",
    "\n",
    "The following plots will show the simulation results with the real data"
   ]
  },
  {
   "cell_type": "markdown",
   "metadata": {},
   "source": [
    "## Total Active Infected"
   ]
  },
  {
   "cell_type": "code",
   "execution_count": null,
   "metadata": {},
   "outputs": [],
   "source": [
    "tr_index = np.searchsorted(RM.tr,days)\n",
    "\n",
    "plt.scatter(RM.tr,RM.Ir,label='Real Data')\n",
    "\n",
    "plt.xlim(0,days)\n",
    "plt.plot(simulation.t[:index],simulation.I[:index],label='Total Active Infected')\n",
    "plt.legend(loc=0)\n",
    "plt.title('Total Active Infected')\n",
    "plt.show()\n"
   ]
  },
  {
   "cell_type": "markdown",
   "metadata": {},
   "source": [
    "## Daily Infected"
   ]
  },
  {
   "cell_type": "code",
   "execution_count": null,
   "metadata": {},
   "outputs": [],
   "source": [
    "plt.xlim(0,days)\n",
    "plt.plot(simulation.t[:index],simulation.I_d[:index],label='Total Daily new Infected')\n",
    "plt.scatter(RM.I_d_r_tr,RM.I_d_r,label='Real Data')\n",
    "plt.legend(loc=0)\n",
    "plt.show()"
   ]
  },
  {
   "cell_type": "markdown",
   "metadata": {},
   "source": [
    "## Acummulated Infected"
   ]
  },
  {
   "cell_type": "code",
   "execution_count": null,
   "metadata": {},
   "outputs": [],
   "source": [
    "plt.xlim(0,days)\n",
    "plt.plot(simulation.t[:index],simulation.I_ac[:index],label='Total Acummulated Infected')\n",
    "plt.scatter(RM.I_ac_r_tr,RM.I_ac_r,label='Real Data')\n",
    "plt.legend(loc=0)\n",
    "plt.show()"
   ]
  },
  {
   "cell_type": "markdown",
   "metadata": {},
   "source": [
    "## Deaths"
   ]
  },
  {
   "cell_type": "code",
   "execution_count": null,
   "metadata": {},
   "outputs": [],
   "source": [
    "plt.xlim(0,days)\n",
    "plt.plot(simulation.t[:index],simulation.B[:index],label='Total Acummulated Deaths')\n",
    "plt.scatter(RM.Br_tr,RM.Br,label='Real Data')\n",
    "plt.legend(loc=0)\n",
    "plt.show()"
   ]
  },
  {
   "cell_type": "markdown",
   "metadata": {},
   "source": [
    "## UCI/UTI"
   ]
  },
  {
   "cell_type": "code",
   "execution_count": null,
   "metadata": {},
   "outputs": [],
   "source": [
    "plt.xlim(0,days)\n",
    "plt.plot(simulation.t[:index],simulation.Hse[:index]+simulation.Hout[:index],label='UCI/UTI Beds')\n",
    "plt.scatter(RM.sochimi_tr,RM.Hr,label='Real Data')\n",
    "plt.scatter(RM.sochimi_tr,RM.Hr_tot,label='Real Data')\n",
    "plt.legend(loc=0)\n",
    "plt.show()"
   ]
  },
  {
   "cell_type": "markdown",
   "metadata": {},
   "source": [
    "## VMI"
   ]
  },
  {
   "cell_type": "code",
   "execution_count": null,
   "metadata": {},
   "outputs": [],
   "source": [
    "plt.xlim(0,days)\n",
    "plt.plot(simulation.t[:index],simulation.V[:index],label='VMI Usage')\n",
    "plt.scatter(RM.sochimi_tr,RM.Vr,label='Real Data')\n",
    "plt.legend(loc=0)\n",
    "plt.show()"
   ]
  },
  {
   "cell_type": "markdown",
   "metadata": {},
   "source": [
    "# Objective Functions\n",
    "\n"
   ]
  },
  {
   "cell_type": "code",
   "execution_count": null,
   "metadata": {},
   "outputs": [],
   "source": [
    "# Date until which we calculate the error (normally when the quarantine dynamic change)\n",
    "t1_date = datetime(2020,8,15)\n",
    "\n",
    "\n",
    "t1_day = (t1_date-initdate).days\n",
    "t1_idx = np.where(np.array(RM.tr)>=t1_day)[0][0]\n",
    "idx = np.searchsorted(simulation.t,RM.tr[:t1_idx])"
   ]
  },
  {
   "cell_type": "markdown",
   "metadata": {},
   "source": [
    "## Error:"
   ]
  },
  {
   "cell_type": "code",
   "execution_count": null,
   "metadata": {},
   "outputs": [],
   "source": [
    "Err = np.sum(abs(RM.Ir[:t1_idx]-simulation.I[idx]))/np.mean(RM.Ir[:t1_idx])\n",
    "print(Err)\n"
   ]
  },
  {
   "cell_type": "code",
   "execution_count": null,
   "metadata": {},
   "outputs": [],
   "source": [
    "simulation.peak_date"
   ]
  },
  {
   "cell_type": "code",
   "execution_count": null,
   "metadata": {},
   "outputs": [],
   "source": [
    "RM.initdate"
   ]
  },
  {
   "cell_type": "code",
   "execution_count": null,
   "metadata": {},
   "outputs": [],
   "source": []
  }
 ],
 "metadata": {
  "kernelspec": {
   "display_name": "Python 3",
   "language": "python",
   "name": "python3"
  },
  "language_info": {
   "codemirror_mode": {
    "name": "ipython",
    "version": 3
   },
   "file_extension": ".py",
   "mimetype": "text/x-python",
   "name": "python",
   "nbconvert_exporter": "python",
   "pygments_lexer": "ipython3",
   "version": "3.8.2"
  }
 },
 "nbformat": 4,
 "nbformat_minor": 4
}
