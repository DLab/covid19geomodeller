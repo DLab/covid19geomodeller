{
 "cells": [
  {
   "cell_type": "markdown",
   "metadata": {},
   "source": [
    "# SEIRHVD Data Fit\n",
    "\n",
    "This Jupyter notebooks implements the SEIRHVD4 model for fitting the actual Chilean data in order to make projections in bed usage, amount of infected and deaths. \n",
    "This implements a single instance to facilitate understanding the model prior to run multiple data fittings at a time."
   ]
  },
  {
   "cell_type": "code",
   "execution_count": 1,
   "metadata": {},
   "outputs": [
    {
     "name": "stdout",
     "output_type": "stream",
     "text": [
      "Windows\n"
     ]
    }
   ],
   "source": [
    "import numpy as np\n",
    "import pandas as pd\n",
    "import matplotlib.pyplot as plt\n",
    "from datetime import datetime\n",
    "from numpy import linalg as LA\n",
    "\n",
    "import platform\n",
    "OS = platform.system()\n",
    "\n",
    "import matplotlib.pyplot as plt\n",
    "if OS == 'Linux':    \n",
    "    %matplotlib tk\n",
    "    print('Linux')\n",
    "elif OS == 'Windows':\n",
    "    %matplotlib qt\n",
    "    print('Windows')\n",
    "else:\n",
    "    print('OS not detected :-|')\n",
    "\n",
    "import sys\n",
    "from pathlib import Path\n",
    "sys.path.insert(1, '../src/SEIRHVD/')\n",
    "sys.path.insert(1, '../src/utils/')\n",
    "sys.path.insert(1, 'src/SEIRHVD/')\n",
    "sys.path.insert(1, 'src/utils/')\n",
    "\n",
    "from class_SEIRHUVD4 import SEIRHVD \n",
    "from Quarantine import Quarantine\n",
    "from importdata import ImportData"
   ]
  },
  {
   "cell_type": "markdown",
   "metadata": {},
   "source": [
    "## Time Variables\n",
    "Declare Initial date for simulating and data fitting"
   ]
  },
  {
   "cell_type": "code",
   "execution_count": 124,
   "metadata": {},
   "outputs": [],
   "source": [
    "initdate = datetime(2020,5,15)\n",
    "currentdate = datetime.now()\n",
    "currentday = (currentdate - initdate).days"
   ]
  },
  {
   "cell_type": "markdown",
   "metadata": {},
   "source": [
    "## Import Data\n",
    "To import data we use an ImportData object which is initialized with the region's cut and the initial date. Meanwhile we will adjust this data for regions, then I'll add Heath sector as the minimum territorial unit for SEIRHVD models."
   ]
  },
  {
   "cell_type": "code",
   "execution_count": 125,
   "metadata": {
    "scrolled": true
   },
   "outputs": [
    {
     "name": "stdout",
     "output_type": "stream",
     "text": [
      "Importing General Data\n",
      "Importing Population\n",
      "Importing Active infected\n",
      "Importing Accumulated Infected\n",
      "Importing Daily Infected\n",
      "Importing Sochimi Data\n",
      "Importing Accumulated Deaths\n",
      "Importing Active Infected by Minciencia\n",
      "Done\n"
     ]
    }
   ],
   "source": [
    "tstate = '13'\n",
    "\n",
    "# Import Data\n",
    "RM = ImportData(tstate=tstate,initdate = initdate)\n",
    "RM.importdata()"
   ]
  },
  {
   "cell_type": "markdown",
   "metadata": {},
   "source": [
    "## Simulation Parameters"
   ]
  },
  {
   "cell_type": "code",
   "execution_count": 216,
   "metadata": {},
   "outputs": [],
   "source": [
    "# Simulation parameters\n",
    "tsim = 1000\n",
    "beta = 0.28\n",
    "mu = 0.8\n",
    "k = 0.1\n",
    "\n",
    "SeroPrevFactor=0.035 # SeroPrevalence Factor (The proportion of the population that participates in the dynamics)\n",
    "expinfection=0 # Proportion in which the exposed infect - 0: nothing, 1: equally as Infected"
   ]
  },
  {
   "cell_type": "markdown",
   "metadata": {},
   "source": [
    "## Quarantines\n",
    "Build Quarantine Object:\n",
    " \n",
    "     Q = Quarantine(rem_mob,max_mob=max_mob,qp=0,iqt=0,fqt=1000,movfunct = 'once')\n",
    "     alpha = Q.alpha\n",
    "     \n",
    "     Plot Quarantine dynamics:\n",
    "         Q.plot()"
   ]
  },
  {
   "cell_type": "code",
   "execution_count": 217,
   "metadata": {},
   "outputs": [],
   "source": [
    "# Quarantines \n",
    "max_mob = 0.6\n",
    "rem_mob = 0.4\n",
    "\n",
    "#alpha = Quarantine(rem_mob,max_mob=max_mob,qp=0,iqt=0,fqt=1000,movfunct = 'once').alpha(t)\n",
    "alpha = Quarantine(rem_mob).alpha"
   ]
  },
  {
   "cell_type": "markdown",
   "metadata": {},
   "source": [
    "## Simulation\n",
    "Initialize Simulation Object, and run the simulation. "
   ]
  },
  {
   "cell_type": "code",
   "execution_count": 218,
   "metadata": {},
   "outputs": [
    {
     "name": "stdout",
     "output_type": "stream",
     "text": [
      "InitialCondition Object Data\n"
     ]
    },
    {
     "data": {
      "text/plain": [
       "  message: 'The solver successfully reached the end of the integration interval.'\n",
       "     nfev: 3349\n",
       "     njev: 58\n",
       "      nlu: 58\n",
       "      sol: None\n",
       "   status: 0\n",
       "  success: True\n",
       "        t: array([0.00000000e+00, 2.60563275e-08, 5.21126551e-08, 2.60615388e-04,\n",
       "       5.21178663e-04, 7.81741939e-04, 3.38737469e-03, 5.99300745e-03,\n",
       "       8.59864020e-03, 1.12042730e-02, 3.72606005e-02, 6.33169280e-02,\n",
       "       8.93732556e-02, 1.15429583e-01, 1.41485911e-01, 4.02049186e-01,\n",
       "       6.62612461e-01, 9.23175737e-01, 1.18373901e+00, 1.44430229e+00,\n",
       "       1.70486556e+00, 2.15294047e+00, 2.60101537e+00, 3.04909028e+00,\n",
       "       3.49716518e+00, 3.94524008e+00, 4.48176417e+00, 5.01828825e+00,\n",
       "       5.55481233e+00, 6.09133641e+00, 6.60195869e+00, 7.11258096e+00,\n",
       "       7.62320323e+00, 9.01235885e+00, 1.04015145e+01, 1.17906701e+01,\n",
       "       1.21379590e+01, 1.24852479e+01, 1.25026124e+01, 1.25199768e+01,\n",
       "       1.25547057e+01, 1.25633879e+01, 1.25648771e+01, 1.25663663e+01,\n",
       "       1.25693447e+01, 1.25718241e+01, 1.25736079e+01, 1.25750272e+01,\n",
       "       1.25762087e+01, 1.25773903e+01, 1.25782706e+01, 1.25791509e+01,\n",
       "       1.25798770e+01, 1.25806030e+01, 1.25813290e+01, 1.25822295e+01,\n",
       "       1.25831299e+01, 1.25840304e+01, 1.25849308e+01, 1.25860464e+01,\n",
       "       1.25871619e+01, 1.25882774e+01, 1.25893929e+01, 1.25905084e+01,\n",
       "       1.25921235e+01, 1.25937387e+01, 1.25953538e+01, 1.25969690e+01,\n",
       "       1.25988777e+01, 1.26007863e+01, 1.26026950e+01, 1.26046037e+01,\n",
       "       1.26065745e+01, 1.26085454e+01, 1.26105162e+01, 1.26124615e+01,\n",
       "       1.26144068e+01, 1.26163521e+01, 1.26182821e+01, 1.26202122e+01,\n",
       "       1.26305496e+01, 1.26408870e+01, 1.26512245e+01, 1.26894114e+01,\n",
       "       1.27275984e+01, 1.27657854e+01, 1.28624633e+01, 1.29591411e+01,\n",
       "       1.30558189e+01, 1.31524967e+01, 1.33206209e+01, 1.34887450e+01,\n",
       "       1.36568691e+01, 1.38249932e+01, 1.41209866e+01, 1.44169800e+01,\n",
       "       1.47129734e+01, 1.50089668e+01, 1.53049602e+01, 1.57284067e+01,\n",
       "       1.61518531e+01, 1.65752995e+01, 1.69987459e+01, 1.74221923e+01,\n",
       "       1.80763801e+01, 1.87305678e+01, 1.93847556e+01, 1.95483025e+01,\n",
       "       1.97118495e+01, 1.98753964e+01, 1.99162832e+01, 1.99244605e+01,\n",
       "       1.99326379e+01, 1.99408152e+01, 1.99420311e+01, 1.99432469e+01,\n",
       "       1.99456786e+01, 1.99481104e+01, 1.99482843e+01, 1.99484581e+01,\n",
       "       1.99488059e+01, 1.99491537e+01, 1.99526314e+01, 1.99534923e+01,\n",
       "       1.99543533e+01, 1.99555912e+01, 1.99565336e+01, 1.99572722e+01,\n",
       "       1.99578849e+01, 1.99584975e+01, 1.99589564e+01, 1.99594153e+01,\n",
       "       1.99597848e+01, 1.99601543e+01, 1.99605238e+01, 1.99609446e+01,\n",
       "       1.99613654e+01, 1.99617862e+01, 1.99622070e+01, 1.99626278e+01,\n",
       "       1.99630486e+01, 1.99634694e+01, 1.99638902e+01, 1.99642389e+01,\n",
       "       1.99645875e+01, 1.99649361e+01, 1.99652848e+01, 1.99657521e+01,\n",
       "       1.99662195e+01, 1.99666869e+01, 1.99671542e+01, 1.99676216e+01,\n",
       "       1.99682758e+01, 1.99687894e+01, 1.99693030e+01, 1.99698167e+01,\n",
       "       1.99703303e+01, 1.99709984e+01, 1.99716664e+01, 1.99723345e+01,\n",
       "       1.99730026e+01, 1.99736707e+01, 1.99747595e+01, 1.99758483e+01,\n",
       "       1.99769371e+01, 1.99780259e+01, 1.99791147e+01, 1.99809838e+01,\n",
       "       1.99828529e+01, 1.99847220e+01, 1.99865911e+01, 1.99884602e+01,\n",
       "       2.00010577e+01, 2.00136551e+01, 2.00262526e+01, 2.00388500e+01,\n",
       "       2.00640449e+01, 2.00892399e+01, 2.01144348e+01, 2.01396297e+01,\n",
       "       2.02131630e+01, 2.02866964e+01, 2.03602298e+01, 2.04337632e+01,\n",
       "       2.07832758e+01, 2.11327883e+01, 2.14823009e+01, 2.18318135e+01,\n",
       "       2.21813261e+01, 2.25308387e+01, 2.28803512e+01, 2.32298638e+01,\n",
       "       2.38926162e+01, 2.45553686e+01, 2.52181210e+01, 2.58808733e+01,\n",
       "       2.65436257e+01, 2.72063781e+01, 2.80713673e+01, 2.89363565e+01,\n",
       "       2.98013457e+01, 3.06663349e+01, 3.15313241e+01, 3.34310637e+01,\n",
       "       3.53308033e+01, 3.72305429e+01, 3.91302824e+01, 3.91308761e+01,\n",
       "       3.91314698e+01, 3.91320634e+01, 3.91326571e+01, 3.91332508e+01,\n",
       "       3.91344381e+01, 3.91356254e+01, 3.91368128e+01, 3.91486862e+01,\n",
       "       3.91605595e+01, 3.91724329e+01, 3.91843063e+01, 3.92004798e+01,\n",
       "       3.92166534e+01, 3.92328270e+01, 3.92889240e+01, 3.93450211e+01,\n",
       "       3.94011182e+01, 3.96387514e+01, 3.98763847e+01, 4.00638352e+01,\n",
       "       4.02512858e+01, 4.04387363e+01, 4.06261869e+01, 4.08335637e+01,\n",
       "       4.10409405e+01, 4.12483174e+01, 4.14556942e+01, 4.16630710e+01,\n",
       "       4.19435082e+01, 4.22239454e+01, 4.25043825e+01, 4.27848197e+01,\n",
       "       4.30652569e+01, 4.33456940e+01, 4.36261312e+01, 4.39065684e+01,\n",
       "       4.42241384e+01, 4.45417084e+01, 4.47972272e+01, 4.50527460e+01,\n",
       "       4.53082648e+01, 4.55637836e+01, 4.58193024e+01, 4.60748211e+01,\n",
       "       4.63303399e+01, 4.65858587e+01, 4.66373246e+01, 4.66887905e+01,\n",
       "       4.67402565e+01, 4.67917224e+01, 4.68431883e+01, 4.68946542e+01,\n",
       "       4.69461202e+01, 4.69975861e+01, 4.70490520e+01, 4.71177166e+01,\n",
       "       4.71863813e+01, 4.72550459e+01, 4.73237105e+01, 4.73923752e+01,\n",
       "       4.74610398e+01, 4.75804225e+01, 4.77415854e+01, 4.79027483e+01,\n",
       "       4.80639112e+01, 4.82250741e+01, 4.83862370e+01, 4.83880646e+01,\n",
       "       4.83898922e+01, 4.83917198e+01, 4.83935474e+01, 4.84118234e+01,\n",
       "       4.84300994e+01, 4.84483754e+01, 4.84666515e+01, 4.86494117e+01,\n",
       "       4.88321719e+01, 4.90149321e+01, 4.91976924e+01, 4.93804526e+01,\n",
       "       4.97986461e+01, 5.02168397e+01, 5.06350332e+01, 5.10532267e+01,\n",
       "       5.14714203e+01, 5.18896138e+01, 5.23078073e+01, 5.27260009e+01,\n",
       "       5.31441944e+01, 5.35623880e+01, 5.39805815e+01, 5.43987750e+01,\n",
       "       5.48169686e+01, 5.52351621e+01, 5.56533556e+01, 5.60715492e+01,\n",
       "       5.64897427e+01, 5.69397427e+01, 5.73897427e+01, 5.78397427e+01,\n",
       "       5.82897427e+01, 5.87397427e+01, 5.92897427e+01, 5.98397427e+01,\n",
       "       6.03897427e+01, 6.09397427e+01, 6.15147427e+01, 6.20897427e+01,\n",
       "       6.26647427e+01, 6.32397427e+01, 6.38147427e+01, 6.43897427e+01,\n",
       "       6.50810066e+01, 6.57722704e+01, 6.64635343e+01, 6.71378844e+01,\n",
       "       6.78122345e+01, 6.84865846e+01, 6.91696324e+01, 6.98526802e+01,\n",
       "       7.05357280e+01, 7.12167507e+01, 7.18977735e+01, 7.25787962e+01,\n",
       "       7.32616158e+01, 7.39444354e+01, 7.46272550e+01, 7.53101182e+01,\n",
       "       7.59929814e+01, 7.66758446e+01, 7.73593039e+01, 7.80427631e+01,\n",
       "       7.87262224e+01, 7.94101067e+01, 8.00939910e+01, 8.07778753e+01,\n",
       "       8.14622216e+01, 8.21465679e+01, 8.28309142e+01, 8.35156951e+01,\n",
       "       8.42004760e+01, 8.48852569e+01, 8.55704532e+01, 8.62556495e+01,\n",
       "       8.69408458e+01, 8.76264241e+01, 8.83120024e+01, 8.89975807e+01,\n",
       "       8.96835050e+01, 9.03694294e+01, 9.10553538e+01, 9.17415857e+01,\n",
       "       9.24278177e+01, 9.31140497e+01, 9.38005501e+01, 9.44870506e+01,\n",
       "       9.51735511e+01, 9.58602814e+01, 9.65470117e+01, 9.72337420e+01,\n",
       "       9.79206646e+01, 9.86075872e+01, 9.92945098e+01, 9.99815892e+01,\n",
       "       1.00668669e+02, 1.01355748e+02, 1.02042951e+02, 1.02730153e+02,\n",
       "       1.03417356e+02, 1.04104651e+02, 1.04791947e+02, 1.05479242e+02,\n",
       "       1.06166602e+02, 1.06853962e+02, 1.07541322e+02, 1.08228719e+02,\n",
       "       1.08916116e+02, 1.09603513e+02, 1.10290924e+02, 1.10978336e+02,\n",
       "       1.11665747e+02, 1.12353145e+02, 1.13040544e+02, 1.13727943e+02,\n",
       "       1.14415314e+02, 1.15102684e+02, 1.15790054e+02, 1.16477382e+02,\n",
       "       1.17164709e+02, 1.17852037e+02, 1.18539309e+02, 1.19226582e+02,\n",
       "       1.19913854e+02, 1.20601062e+02, 1.21288270e+02, 1.21975477e+02,\n",
       "       1.22662612e+02, 1.23349746e+02, 1.24036881e+02, 1.24723935e+02,\n",
       "       1.25410989e+02, 1.26098044e+02, 1.26785013e+02, 1.27471982e+02,\n",
       "       1.28158951e+02, 1.28845830e+02, 1.29532710e+02, 1.30219589e+02,\n",
       "       1.30906376e+02, 1.31593163e+02, 1.32279950e+02, 1.32966643e+02,\n",
       "       1.33653336e+02, 1.34340028e+02, 1.35026625e+02, 1.35713222e+02,\n",
       "       1.36399819e+02, 1.37086320e+02, 1.37772820e+02, 1.38459321e+02,\n",
       "       1.39145726e+02, 1.39832131e+02, 1.40518536e+02, 1.41204845e+02,\n",
       "       1.41891155e+02, 1.42577464e+02, 1.43263680e+02, 1.43949895e+02,\n",
       "       1.44636110e+02, 1.45322233e+02, 1.46008356e+02, 1.46694479e+02,\n",
       "       1.47380511e+02, 1.48066543e+02, 1.48752575e+02, 1.49438518e+02,\n",
       "       1.50124461e+02, 1.50810404e+02, 1.51496261e+02, 1.52182118e+02,\n",
       "       1.52867974e+02, 1.53553747e+02, 1.54239520e+02, 1.54925292e+02,\n",
       "       1.55610983e+02, 1.56296674e+02, 1.56982365e+02, 1.57667977e+02,\n",
       "       1.58353589e+02, 1.59039201e+02, 1.59724737e+02, 1.60410273e+02,\n",
       "       1.61095809e+02, 1.61781271e+02, 1.62466733e+02, 1.63152195e+02,\n",
       "       1.63837586e+02, 1.64522977e+02, 1.65208368e+02, 1.65893691e+02,\n",
       "       1.66579014e+02, 1.67264336e+02, 1.67949593e+02, 1.68634850e+02,\n",
       "       1.69320107e+02, 1.70005301e+02, 1.70690495e+02, 1.71375689e+02,\n",
       "       1.72060822e+02, 1.72745956e+02, 1.73431089e+02, 1.74116164e+02,\n",
       "       1.74801239e+02, 1.75486314e+02, 1.76171334e+02, 1.76856353e+02,\n",
       "       1.77541373e+02, 1.78226339e+02, 1.78911305e+02, 1.79596271e+02,\n",
       "       1.80281186e+02, 1.80966101e+02, 1.81651016e+02, 1.82335882e+02,\n",
       "       1.83020748e+02, 1.83705614e+02, 1.84390433e+02, 1.85075252e+02,\n",
       "       1.85760071e+02, 1.86444845e+02, 1.87129620e+02, 1.87814394e+02,\n",
       "       1.88499126e+02, 1.89183857e+02, 1.89868589e+02, 1.90553280e+02,\n",
       "       1.91237970e+02, 1.91922661e+02, 1.92607313e+02, 1.93291964e+02,\n",
       "       1.93976616e+02, 1.94661230e+02, 1.95345844e+02, 1.96030458e+02,\n",
       "       1.96715037e+02, 1.97399615e+02, 1.98084193e+02, 1.98768738e+02,\n",
       "       1.99453282e+02, 2.00137826e+02, 2.00822338e+02, 2.01506850e+02,\n",
       "       2.02191361e+02, 2.02875842e+02, 2.03560322e+02, 2.04244803e+02,\n",
       "       2.04929253e+02, 2.05613704e+02, 2.06298155e+02, 2.06982577e+02,\n",
       "       2.07666999e+02, 2.08351422e+02, 2.09035817e+02, 2.09720212e+02,\n",
       "       2.10404607e+02, 2.11088991e+02, 2.11773375e+02, 2.12457758e+02,\n",
       "       2.13226700e+02, 2.13995641e+02, 2.14764583e+02, 2.15626554e+02,\n",
       "       2.16488525e+02, 2.17350496e+02, 2.18342920e+02, 2.19335343e+02,\n",
       "       2.20327767e+02, 2.21424187e+02, 2.22520608e+02, 2.23617028e+02,\n",
       "       2.24978300e+02, 2.26339571e+02, 2.27700843e+02, 2.28792232e+02,\n",
       "       2.29883622e+02, 2.30975011e+02, 2.32118955e+02, 2.33262898e+02,\n",
       "       2.34406841e+02, 2.35913491e+02, 2.37420141e+02, 2.38926791e+02,\n",
       "       2.42301649e+02, 2.43145364e+02, 2.43989079e+02, 2.44832793e+02,\n",
       "       2.45406859e+02, 2.45980925e+02, 2.46554990e+02, 2.47131134e+02,\n",
       "       2.47707278e+02, 2.48283421e+02, 2.50026137e+02, 2.51768852e+02,\n",
       "       2.53511568e+02, 2.57202358e+02, 2.58125055e+02, 2.59047753e+02,\n",
       "       2.59970450e+02, 2.60545179e+02, 2.61119907e+02, 2.61694635e+02,\n",
       "       2.62269895e+02, 2.62845155e+02, 2.63420415e+02, 2.64769055e+02,\n",
       "       2.66117694e+02, 2.67466334e+02, 2.73423433e+02, 2.74912708e+02,\n",
       "       2.76401983e+02, 2.79165737e+02, 2.81929491e+02, 2.84693245e+02,\n",
       "       2.87456999e+02, 2.91926544e+02, 2.96396090e+02, 3.00865635e+02,\n",
       "       3.05335180e+02, 3.09804725e+02, 3.15234628e+02, 3.20664531e+02,\n",
       "       3.26094434e+02, 3.31524337e+02, 3.36954239e+02, 3.42384142e+02,\n",
       "       3.47814045e+02, 3.53243948e+02, 3.59539049e+02, 3.65834150e+02,\n",
       "       3.72129252e+02, 3.78424353e+02, 3.84719455e+02, 3.91014556e+02,\n",
       "       3.97309657e+02, 4.03604759e+02, 4.09899860e+02, 4.16194961e+02,\n",
       "       4.22490063e+02, 4.28785164e+02, 4.35080266e+02, 4.41375367e+02,\n",
       "       4.47670468e+02, 4.55997342e+02, 4.64324216e+02, 4.72651090e+02,\n",
       "       4.80977964e+02, 4.89304838e+02, 4.97631712e+02, 5.10812906e+02,\n",
       "       5.23994101e+02, 5.37175295e+02, 5.50356490e+02, 5.63537685e+02,\n",
       "       5.76718879e+02, 5.98199372e+02, 6.19679865e+02, 6.41160358e+02,\n",
       "       6.62640851e+02, 6.84121344e+02, 7.05601838e+02, 7.35106687e+02,\n",
       "       7.64611536e+02, 7.94116385e+02, 8.23621235e+02, 8.53126084e+02,\n",
       "       8.82630933e+02, 9.24297632e+02, 9.65964330e+02, 1.00000000e+03])\n",
       " t_events: None\n",
       "        y: array([[ 2.59122920e+05,  2.59122920e+05,  2.59122920e+05, ...,\n",
       "        -3.75014246e-08, -6.18670277e-08,  3.65493967e-09],\n",
       "       [ 1.01136000e+04,  1.01136000e+04,  1.01136001e+04, ...,\n",
       "        -1.08324224e-08, -1.78700835e-08,  1.05622424e-09],\n",
       "       [ 1.37946667e+03,  1.37946666e+03,  1.37946666e+03, ...,\n",
       "         1.11307924e-12,  3.88717521e-13, -7.13963414e-12],\n",
       "       ...,\n",
       "       [ 0.00000000e+00,  0.00000000e+00,  0.00000000e+00, ...,\n",
       "         1.78999447e+03,  1.78999447e+03,  1.78999447e+03],\n",
       "       [ 0.00000000e+00,  0.00000000e+00,  0.00000000e+00, ...,\n",
       "         2.81649934e+02,  2.81649934e+02,  2.81649934e+02],\n",
       "       [ 0.00000000e+00,  6.54882366e-07,  1.30976473e-06, ...,\n",
       "         3.82073865e+03,  3.82073865e+03,  3.82073865e+03]])\n",
       " y_events: None"
      ]
     },
     "execution_count": 218,
     "metadata": {},
     "output_type": "execute_result"
    }
   ],
   "source": [
    "simulation = SEIRHVD(tsim,beta,mu,alpha,k=k,SeroPrevFactor=SeroPrevFactor,expinfection=expinfection,InitialConditions = RM)\n",
    "simulation.integr_sci(0,tsim,0.1)"
   ]
  },
  {
   "cell_type": "markdown",
   "metadata": {},
   "source": [
    "# Analysis\n",
    "\n",
    "The following plots will show the simulation results with the real data"
   ]
  },
  {
   "cell_type": "code",
   "execution_count": 149,
   "metadata": {},
   "outputs": [],
   "source": [
    "# Days to plot (Today + ..)\n",
    "days = currentday+20\n",
    "index = np.searchsorted(simulation.t,days)"
   ]
  },
  {
   "cell_type": "markdown",
   "metadata": {},
   "source": [
    "## Detectable Active Infected\n",
    "Here we define a Detected infected population as follows:  \n",
    "\n",
    " Idet = Imi*det + Ise + Icr  \n",
    "\n",
    "where det is the proportion of mild detections\n",
    "\n",
    "\n",
    "**Aun me falta corregir el valor inicial, pues este lo considera para todos los infectados**"
   ]
  },
  {
   "cell_type": "code",
   "execution_count": 214,
   "metadata": {},
   "outputs": [],
   "source": [
    "det = 0.5\n",
    "Idet = det*simulation.Imi + simulation.Ise + simulation.Icr"
   ]
  },
  {
   "cell_type": "code",
   "execution_count": 144,
   "metadata": {},
   "outputs": [],
   "source": [
    "tr_index = np.searchsorted(RM.tr,days)\n",
    "\n",
    "plt.scatter(RM.tr,RM.Ir,label='Real Data')\n",
    "\n",
    "plt.xlim(0,days)\n",
    "plt.plot(simulation.t[:index],Idet[:index],label='Infected')\n",
    "plt.legend(loc=0)\n",
    "plt.title('Detectable Active Infected')\n",
    "plt.show()\n"
   ]
  },
  {
   "cell_type": "markdown",
   "metadata": {},
   "source": [
    "## Total Active Infected"
   ]
  },
  {
   "cell_type": "code",
   "execution_count": 137,
   "metadata": {},
   "outputs": [],
   "source": [
    "tr_index = np.searchsorted(RM.tr,days)\n",
    "\n",
    "plt.scatter(RM.tr,RM.Ir,label='Real Data')\n",
    "\n",
    "plt.xlim(0,days)\n",
    "plt.plot(simulation.t[:index],simulation.I[:index],label='Total Active Infected')\n",
    "plt.legend(loc=0)\n",
    "plt.title('Total Active Infected')\n",
    "plt.show()\n"
   ]
  },
  {
   "cell_type": "code",
   "execution_count": 27,
   "metadata": {},
   "outputs": [
    {
     "data": {
      "text/plain": [
       "12642.000000000002"
      ]
     },
     "execution_count": 27,
     "metadata": {},
     "output_type": "execute_result"
    }
   ],
   "source": [
    "simulation.Imi[0]+simulation.Ias[0]+simulation.Ise[0]+simulation.Icr[0]\n"
   ]
  },
  {
   "cell_type": "code",
   "execution_count": 28,
   "metadata": {},
   "outputs": [
    {
     "data": {
      "text/plain": [
       "421.48428"
      ]
     },
     "execution_count": 28,
     "metadata": {},
     "output_type": "execute_result"
    }
   ],
   "source": [
    "simulation.I0*simulation.pE_Ise "
   ]
  },
  {
   "cell_type": "code",
   "execution_count": 29,
   "metadata": {},
   "outputs": [
    {
     "data": {
      "text/plain": [
       "421.48428"
      ]
     },
     "execution_count": 29,
     "metadata": {},
     "output_type": "execute_result"
    }
   ],
   "source": [
    "simulation.Ise[0]"
   ]
  },
  {
   "cell_type": "code",
   "execution_count": 30,
   "metadata": {},
   "outputs": [
    {
     "data": {
      "text/plain": [
       "12642"
      ]
     },
     "execution_count": 30,
     "metadata": {},
     "output_type": "execute_result"
    }
   ],
   "source": [
    "RM.Ir[0]"
   ]
  },
  {
   "cell_type": "markdown",
   "metadata": {},
   "source": [
    "## Daily Infected"
   ]
  },
  {
   "cell_type": "code",
   "execution_count": 219,
   "metadata": {},
   "outputs": [],
   "source": [
    "plt.xlim(0,days)\n",
    "plt.plot(simulation.t[:index],simulation.I_d[:index],label='Total Daily new Infected')\n",
    "plt.scatter(RM.I_d_r_tr,RM.I_d_r,label='Real Data')\n",
    "plt.legend(loc=0)\n",
    "plt.show()"
   ]
  },
  {
   "cell_type": "code",
   "execution_count": null,
   "metadata": {},
   "outputs": [],
   "source": [
    "det=0.5\n"
   ]
  },
  {
   "cell_type": "code",
   "execution_count": 153,
   "metadata": {},
   "outputs": [],
   "source": [
    "plt.xlim(0,days)\n",
    "plt.plot(simulation.t[:index],det*simulation.Imi_d[:index]+simulation.Ise_d[:index]+simulation.Icr_d[:index],label='Total Daily new Infected')\n",
    "plt.scatter(RM.I_d_r_tr,RM.I_d_r,label='Real Data')\n",
    "plt.legend(loc=0)\n",
    "plt.show()"
   ]
  },
  {
   "cell_type": "code",
   "execution_count": 32,
   "metadata": {},
   "outputs": [
    {
     "data": {
      "text/plain": [
       "12642.000000000002"
      ]
     },
     "execution_count": 32,
     "metadata": {},
     "output_type": "execute_result"
    }
   ],
   "source": [
    "simulation.I[0]"
   ]
  },
  {
   "cell_type": "code",
   "execution_count": 33,
   "metadata": {},
   "outputs": [
    {
     "data": {
      "text/plain": [
       "12642"
      ]
     },
     "execution_count": 33,
     "metadata": {},
     "output_type": "execute_result"
    }
   ],
   "source": [
    "RM.Ir[0]"
   ]
  },
  {
   "cell_type": "code",
   "execution_count": 34,
   "metadata": {},
   "outputs": [
    {
     "data": {
      "text/plain": [
       "1.0"
      ]
     },
     "execution_count": 34,
     "metadata": {},
     "output_type": "execute_result"
    }
   ],
   "source": [
    "simulation.pE_Ias+simulation.pE_Imi + simulation.pE_Ise + simulation.pE_Icr"
   ]
  },
  {
   "cell_type": "markdown",
   "metadata": {},
   "source": [
    "## Acummulated Infected"
   ]
  },
  {
   "cell_type": "code",
   "execution_count": 35,
   "metadata": {},
   "outputs": [],
   "source": [
    "plt.xlim(0,days)\n",
    "plt.plot(simulation.t[:index],simulation.I_ac[:index],label='Total Acummulated Infected')\n",
    "plt.scatter(RM.I_ac_r_tr,RM.I_ac_r,label='Real Data')\n",
    "plt.legend(loc=0)\n",
    "plt.show()"
   ]
  },
  {
   "cell_type": "markdown",
   "metadata": {},
   "source": [
    "## Deaths"
   ]
  },
  {
   "cell_type": "code",
   "execution_count": 220,
   "metadata": {},
   "outputs": [],
   "source": [
    "plt.xlim(0,days)\n",
    "plt.plot(simulation.t[:index],simulation.B[:index],label='Total Acummulated Deaths')\n",
    "plt.scatter(RM.Br_tr,RM.Br,label='Real Data')\n",
    "plt.legend(loc=0)\n",
    "plt.show()"
   ]
  },
  {
   "cell_type": "markdown",
   "metadata": {},
   "source": [
    "## UCI/UTI"
   ]
  },
  {
   "cell_type": "code",
   "execution_count": 229,
   "metadata": {},
   "outputs": [],
   "source": [
    "plt.xlim(0,days)\n",
    "plt.plot(simulation.t[:index],simulation.Hse[:index]+simulation.Hout[:index],label='UCI/UTI Beds')\n",
    "plt.scatter(RM.sochimi_tr,RM.Hr,label='Real Data')\n",
    "plt.scatter(RM.sochimi_tr,RM.Hr_tot,label='Real Data')\n",
    "plt.legend(loc=0)\n",
    "plt.show()"
   ]
  },
  {
   "cell_type": "markdown",
   "metadata": {},
   "source": [
    "## VMI"
   ]
  },
  {
   "cell_type": "code",
   "execution_count": 222,
   "metadata": {},
   "outputs": [],
   "source": [
    "plt.xlim(0,days)\n",
    "plt.plot(simulation.t[:index],simulation.V[:index],label='VMI Usage')\n",
    "plt.scatter(RM.sochimi_tr,RM.Vr,label='Real Data')\n",
    "plt.legend(loc=0)\n",
    "plt.show()"
   ]
  },
  {
   "cell_type": "markdown",
   "metadata": {},
   "source": [
    "# Objective Functions\n",
    "\n"
   ]
  },
  {
   "cell_type": "code",
   "execution_count": null,
   "metadata": {},
   "outputs": [],
   "source": [
    "# Date until which we calculate the error (normally when the quarantine dynamic change)\n",
    "t1_date = datetime(2020,8,15)\n",
    "\n",
    "\n",
    "t1_day = (t1_date-initdate).days\n",
    "t1_idx = np.where(np.array(RM.tr)>=t1_day)[0][0]\n",
    "idx = np.searchsorted(simulation.t,RM.tr[:t1_idx])"
   ]
  },
  {
   "cell_type": "markdown",
   "metadata": {},
   "source": [
    "## Error:"
   ]
  },
  {
   "cell_type": "code",
   "execution_count": 157,
   "metadata": {},
   "outputs": [
    {
     "ename": "NameError",
     "evalue": "name 't1_idx' is not defined",
     "output_type": "error",
     "traceback": [
      "\u001b[1;31m---------------------------------------------------------------------------\u001b[0m",
      "\u001b[1;31mNameError\u001b[0m                                 Traceback (most recent call last)",
      "\u001b[1;32m<ipython-input-157-9b9948408f47>\u001b[0m in \u001b[0;36m<module>\u001b[1;34m\u001b[0m\n\u001b[1;32m----> 1\u001b[1;33m \u001b[0mErr\u001b[0m \u001b[1;33m=\u001b[0m \u001b[0mnp\u001b[0m\u001b[1;33m.\u001b[0m\u001b[0msum\u001b[0m\u001b[1;33m(\u001b[0m\u001b[0mabs\u001b[0m\u001b[1;33m(\u001b[0m\u001b[0mRM\u001b[0m\u001b[1;33m.\u001b[0m\u001b[0mIr\u001b[0m\u001b[1;33m[\u001b[0m\u001b[1;33m:\u001b[0m\u001b[0mt1_idx\u001b[0m\u001b[1;33m]\u001b[0m\u001b[1;33m-\u001b[0m\u001b[0msimulation\u001b[0m\u001b[1;33m.\u001b[0m\u001b[0mI\u001b[0m\u001b[1;33m[\u001b[0m\u001b[0midx\u001b[0m\u001b[1;33m]\u001b[0m\u001b[1;33m)\u001b[0m\u001b[1;33m)\u001b[0m\u001b[1;33m/\u001b[0m\u001b[0mnp\u001b[0m\u001b[1;33m.\u001b[0m\u001b[0mmean\u001b[0m\u001b[1;33m(\u001b[0m\u001b[0mRM\u001b[0m\u001b[1;33m.\u001b[0m\u001b[0mIr\u001b[0m\u001b[1;33m[\u001b[0m\u001b[1;33m:\u001b[0m\u001b[0mt1_idx\u001b[0m\u001b[1;33m]\u001b[0m\u001b[1;33m)\u001b[0m\u001b[1;33m\u001b[0m\u001b[1;33m\u001b[0m\u001b[0m\n\u001b[0m\u001b[0;32m      2\u001b[0m \u001b[0mprint\u001b[0m\u001b[1;33m(\u001b[0m\u001b[0mErr\u001b[0m\u001b[1;33m)\u001b[0m\u001b[1;33m\u001b[0m\u001b[1;33m\u001b[0m\u001b[0m\n",
      "\u001b[1;31mNameError\u001b[0m: name 't1_idx' is not defined"
     ]
    }
   ],
   "source": [
    "Err = np.sum(abs(RM.Ir[:t1_idx]-simulation.I[idx]))/np.mean(RM.Ir[:t1_idx])\n",
    "print(Err)\n"
   ]
  },
  {
   "cell_type": "code",
   "execution_count": null,
   "metadata": {},
   "outputs": [],
   "source": [
    "simulation.peak_date"
   ]
  },
  {
   "cell_type": "code",
   "execution_count": null,
   "metadata": {},
   "outputs": [],
   "source": [
    "RM.initdate"
   ]
  },
  {
   "cell_type": "code",
   "execution_count": null,
   "metadata": {},
   "outputs": [],
   "source": []
  }
 ],
 "metadata": {
  "kernelspec": {
   "display_name": "Python 3",
   "language": "python",
   "name": "python3"
  },
  "language_info": {
   "codemirror_mode": {
    "name": "ipython",
    "version": 3
   },
   "file_extension": ".py",
   "mimetype": "text/x-python",
   "name": "python",
   "nbconvert_exporter": "python",
   "pygments_lexer": "ipython3",
   "version": "3.8.3"
  }
 },
 "nbformat": 4,
 "nbformat_minor": 4
}
