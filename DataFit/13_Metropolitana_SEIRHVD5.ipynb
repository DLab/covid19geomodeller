{
 "cells": [
  {
   "cell_type": "markdown",
   "metadata": {},
   "source": [
    "# SEIRHVD Data Fit\n",
    "\n",
    "This Jupyter notebooks implements the SEIRHVD model for fitting the actual Chilean data in order to make projections in VMI and bed usage, amount of infected and deaths. This model uses the SEIRHVD 4.1 version. A visual representation of the model is available at: [SEIRHVD Miró Model](https://miro.com/app/board/o9J_ktzN4xA=/)\n",
    "\n",
    "This implements a single instance to facilitate understanding the model prior to run multiple data fittings at a time.\n",
    "\n"
   ]
  },
  {
   "cell_type": "code",
   "execution_count": 33,
   "metadata": {},
   "outputs": [
    {
     "name": "stdout",
     "output_type": "stream",
     "text": [
      "Linux\n"
     ]
    }
   ],
   "source": [
    "import numpy as np\n",
    "import pandas as pd\n",
    "import matplotlib.pyplot as plt\n",
    "import matplotlib.dates as mdates \n",
    "from datetime import datetime\n",
    "from numpy import linalg as LA\n",
    "import multiprocessing\n",
    "from joblib import Parallel, delayed\n",
    "from datetime import timedelta\n",
    "\n",
    "import platform\n",
    "OS = platform.system()\n",
    "\n",
    "import matplotlib.pyplot as plt\n",
    "if OS == 'Linux':    \n",
    "    %matplotlib tk\n",
    "    print('Linux')\n",
    "elif OS == 'Windows':\n",
    "    %matplotlib qt\n",
    "    print('Windows')\n",
    "elif OS == 'Darwin':\n",
    "    %matplotlib tk\n",
    "    print('Mac (Funciona?)')\n",
    "else:\n",
    "    print('OS not detected :-|')\n",
    "\n",
    "import sys\n",
    "from pathlib import Path\n",
    "sys.path.insert(1, '../src/SEIRHVD/')\n",
    "sys.path.insert(1, '../src/utils/')\n",
    "sys.path.insert(1, 'src/SEIRHVD/')\n",
    "sys.path.insert(1, 'src/utils/')\n",
    "\n",
    "from class_SEIRHUVD5 import SEIRHVD \n",
    "from Quarantine import Quarantine\n",
    "from Quarantine import SeroPrevDynamics\n",
    "from importdata import ImportData"
   ]
  },
  {
   "cell_type": "markdown",
   "metadata": {},
   "source": [
    "## Time Variables\n",
    "Declare Initial date for simulating and data fitting"
   ]
  },
  {
   "cell_type": "code",
   "execution_count": 2,
   "metadata": {},
   "outputs": [],
   "source": [
    "# First simulation Initial date\n",
    "initdate = datetime(2020,10,19)\n",
    "# Date for change in SeroPrevalence\n",
    "SPchange_date = datetime(2020,7,25)\n",
    "\n",
    "# Current date\n",
    "currentdate = datetime.now()\n",
    "currentday = (currentdate - initdate).days\n",
    "\n",
    "fiestaspatrias = datetime(2020,9,18)\n",
    "fiestaspatrias_day = (fiestaspatrias-initdate).days\n",
    "plebiscito = datetime(2020,10,25)\n",
    "plebiscito_day = (plebiscito-initdate).days"
   ]
  },
  {
   "cell_type": "markdown",
   "metadata": {},
   "source": [
    "## Import Data\n",
    "To import data we use an ImportData object which is initialized with the region's cut and the initial date. state region is represented by cut = 14."
   ]
  },
  {
   "cell_type": "code",
   "execution_count": 3,
   "metadata": {
    "scrolled": true
   },
   "outputs": [
    {
     "name": "stdout",
     "output_type": "stream",
     "text": [
      "Importing data from Region de Los Rios\n",
      "Importing General Data\n",
      "Importing Population\n",
      "Importing Active infected\n",
      "Importing Accumulated Infected\n",
      "Importing Daily Infected\n",
      "Importing ICU Beds Data\n",
      "Importing Deaths by DEIS\n",
      "Importing Active Infected by Minciencia\n",
      "Done\n"
     ]
    }
   ],
   "source": [
    "print('Importing data from Region de Los Rios')\n",
    "tstate = ['01','02','03','04','05','06','07','08','09','10','11','12','13','14','15','16']\n",
    "#tstate = '13101'\n",
    "# Import Data\n",
    "state = ImportData(tstate=tstate,initdate = initdate)\n",
    "state.importdata()"
   ]
  },
  {
   "cell_type": "code",
   "execution_count": 4,
   "metadata": {},
   "outputs": [
    {
     "data": {
      "text/plain": [
       "19458310"
      ]
     },
     "execution_count": 4,
     "metadata": {},
     "output_type": "execute_result"
    }
   ],
   "source": [
    "state.name = 'Chile'\n",
    "state.population"
   ]
  },
  {
   "cell_type": "markdown",
   "metadata": {},
   "source": [
    "## Datos de Hospitalizados a fitear"
   ]
  },
  {
   "cell_type": "code",
   "execution_count": 5,
   "metadata": {},
   "outputs": [],
   "source": [
    "state.Hr = 1000\n",
    "state.Hr_tot = [10000,10000]\n",
    "state.Vr = state.UCI_use_covid\n",
    "state.Vr_tot = state.UCI_capacity\n",
    "state.sochimi_tr = state.UCI_tr[-2:]\n",
    "state.sochimi_dates = state.UCI_dates"
   ]
  },
  {
   "cell_type": "markdown",
   "metadata": {},
   "source": [
    "## Simulation Parameters"
   ]
  },
  {
   "cell_type": "code",
   "execution_count": 6,
   "metadata": {},
   "outputs": [],
   "source": [
    "# Total simulation time\n",
    "tsim = 1000\n",
    "t_sp = (SPchange_date - initdate).days\n",
    "\n",
    "beta = 0.023\n",
    "mu = 0.298\n",
    "k_I = 0\n",
    "k_R = 0#10\n",
    "SeroPrevFactor = 1\n",
    "expinfection=0 # Proportion in which the exposed infect - 0: nothing, 1: equally as Infected"
   ]
  },
  {
   "cell_type": "markdown",
   "metadata": {},
   "source": [
    "## Quarantines\n",
    "Build Quarantine Object:\n",
    " \n",
    "     Q = Quarantine(rem_mob,max_mob=max_mob,qp=0,iqt=0,fqt=1000,movfunct = 'once')\n",
    "     alpha = Q.alpha\n",
    "     \n",
    "     Plot Quarantine dynamics:\n",
    "         Q.plot()"
   ]
  },
  {
   "cell_type": "code",
   "execution_count": 7,
   "metadata": {},
   "outputs": [],
   "source": [
    "# Quarantine relaxation\n",
    "#SPchange_date = datetime(2020,9,11)\n",
    "#t_sp = (SPchange_date - initdate).days\n",
    "\n",
    "# Quarantines \n",
    "max_mob = 0.85\n",
    "rem_mob = 0.45\n",
    "\n",
    "Q1 = Quarantine(rem_mob,max_mob,qp=0,iqt=0,fqt=t_sp)\n",
    "Q2 = Quarantine(rem_mob)\n",
    "\n",
    "alpha = Q2.alpha"
   ]
  },
  {
   "cell_type": "markdown",
   "metadata": {},
   "source": [
    "## Underreport\n",
    "Fraction of Infected detected/reported  \n",
    "\n",
    "$Imi_{det}$: Fraction of Mild detected   \n",
    "$Ias_{det}$: fraction of asymptomatic detected  \n",
    "\n",
    "If both are 1, means that all infected are detected so \n",
    "\\begin{align}\n",
    "I_{det} = I\n",
    "\\end{align}"
   ]
  },
  {
   "cell_type": "code",
   "execution_count": 8,
   "metadata": {},
   "outputs": [],
   "source": [
    "Imi_det = 0.4\n",
    "Ias_det = 0.1\n",
    "Ise_det = 1\n",
    "Icr_det = 1"
   ]
  },
  {
   "cell_type": "markdown",
   "metadata": {},
   "source": [
    "## State Parameters:\n",
    "The following parameters determine transitions probability and duration between different states. The values presented here are the default values set in the model. You can change them as it's showed in the following executable lines.\n",
    "\n",
    "pE_Ias = 0.4  # Transition from exposed to Asymptomatic Infected  \n",
    "tE_Ias = 5.0\n",
    "\n",
    "pE_Imi = 0.55 # Transition from exposed to  Mild Infected  \n",
    "tE_Imi = 5.0\n",
    "\n",
    "pE_Icr = 0.01666 # Transition from exposed to  Critical Infected  \n",
    "tE_Icr = 3.0\n",
    "\n",
    "pE_Ise = 0.03334 # Transition from exposed to  Serious Infected  \n",
    "tE_Ise = 3.0\n",
    "\n",
    "pIas_R = 1.0   # Transition from Asymptomatic Infected to Recovered  \n",
    "tIas_R = 10.0\n",
    "\n",
    "pImi_R = 1.0  # Transition from Mild Infected to Recovered  \n",
    "tImi_R = 15.0\n",
    "\n",
    "pIse_Hse = 1.0 # Transition from Serious Infected to Serious Hospitalized (When Hospital capacity is not saturated)  \n",
    "tIse_Hse = 3.0 \n",
    "\n",
    "pIse_D = 1.0  # Transition from Serious Infected to Death (When Hospital capacity is saturated)  \n",
    "tIse_D = 3.0         \n",
    "\n",
    "pIcr_V = 1.0  # Transition from Critical Infected to Ventilator (When Ventilators capacity is not saturated)  \n",
    "tIcr_V = 3.0 \n",
    "\n",
    "pIcr_D = 1.0  # Transition from Serious Infected to Death (When Ventilators capacity is saturated)  \n",
    "tIcr_D = 3.0         \n",
    "\n",
    "pHse_R = 0.97 # Transition from Serious Hospitalized to Recovered  \n",
    "tHse_R = 11.0\n",
    "\n",
    "pHse_V = 0.03 # Transition from Serious Hospitalized to Ventilators (When Ventilators capacity is not saturated)  \n",
    "tHse_V = 3.0\n",
    "\n",
    "pHse_D = 0.03 # Transition from Serious Hospitalized to Death (When Ventilators capacity is saturated)  \n",
    "tHse_D = 3.0        \n",
    "\n",
    "pV_Hout = 0.5  # Transition from Ventilators to Hospital Recovery (Hout)   \n",
    "tV_Hout = 15.0\n",
    "\n",
    "pV_D = 0.5 # Transition from Ventilators to Death  \n",
    "tV_D = 15.0\n",
    "\n",
    "pHout_R = 1.0 # Transition from Hospital Recovery (Hout) to Recovered  \n",
    "tHout_R = 4.0\n",
    "\n",
    "pD_B = 1.0 # Transition from Dead to buried  \n",
    "tD_B = 1.0 \n",
    "\n",
    "betaD = 0 # Contagion by deads rate  \n",
    "eta = 0.0 # Immunity loss rate  "
   ]
  },
  {
   "cell_type": "code",
   "execution_count": 9,
   "metadata": {},
   "outputs": [],
   "source": [
    "#state parameters: \n",
    "pE_Ias = 0.43 # Transition from exposed to Asymptomatic Infected\n",
    "tE_Ias = 3.0\n",
    "pE_Imi = 0.53 # Transition from exposed to  Mild Infected\n",
    "tE_Imi = 3.0\n",
    "pE_Icr = 0.0065 # Transition from exposed to  Critical Infected\n",
    "tE_Icr = 3.0\n",
    "pE_Ise = 0.0335# Transition from exposed to  Serious Infected\n",
    "tE_Ise = 3.0\n",
    "pIas_R = 1.0   # Transition from Asymptomatic Infected to Recovered\n",
    "tIas_R = 7.0\n",
    "pImi_R = 1.0  # Transition from Mild Infected to Recovered\n",
    "tImi_R = 7.0\n",
    "pIse_Hse = 1 # Transition from Serious Infected to Serious Hospitalized (When Hospital capacity is not saturated)\n",
    "tIse_Hse = 5.0\n",
    "pIse_D = 1.0  # Transition from Serious Infected to Death (When Hospital capacity is saturated)\n",
    "tIse_D = 3.0\n",
    "pIcr_V = 1.0  # Transition from Critical Infected to Ventilator (When Ventilators capacity is not saturated)\n",
    "tIcr_V = 3.0\n",
    "pIcr_D = 1.0  # Transition from Serious Infected to Death (When Ventilators capacity is saturated)\n",
    "tIcr_D = 3.0\n",
    "pHse_R = 0.97 # Transition from Serious Hospitalized to Recovered\n",
    "tHse_R = 3.5\n",
    "pHse_V = 0.03# Transition from Serious Hospitalized to Ventilators (When Ventilators capacity is not saturated)\n",
    "tHse_V = 4.0\n",
    "pHse_D = 0.85# Transition from Serious Hospitalized to Death (When Ventilators capacity is saturated)\n",
    "tHse_D = 4.0\n",
    "pV_Hout = 0.45  # Transition from Ventilators to Hospital Recovery (Hout)\n",
    "tV_Hout = 16.0\n",
    "pV_D = 0.55 # Transition from Ventilators to Death\n",
    "tV_D = 12.0\n",
    "pHout_R = 1.0 # Transition from Hospital Recovery (Hout) to Recovered\n",
    "tHout_R = 10.0"
   ]
  },
  {
   "cell_type": "markdown",
   "metadata": {},
   "source": [
    "## SeroPrevalence Dynamics\n",
    "The susceptibles increase through a step function which last for the specified amount of days. Throughout these days it adds a \"dailyincrease\" amount of persons each day.\n",
    "\n",
    "The total increase of people is increasedays*dailyincrease"
   ]
  },
  {
   "cell_type": "markdown",
   "metadata": {},
   "source": [
    "### First Susceptibles increase 2020-08-24"
   ]
  },
  {
   "cell_type": "code",
   "execution_count": 10,
   "metadata": {},
   "outputs": [],
   "source": [
    "def chisum(a,b):\n",
    "    def aux(t):\n",
    "        return a(t)+b(t)\n",
    "    return aux"
   ]
  },
  {
   "cell_type": "code",
   "execution_count": 11,
   "metadata": {},
   "outputs": [],
   "source": [
    "increasedays = 62#(fiestaspatrias - SPchange_date).days + 0\n",
    "renewalFactor = 0.6\n",
    "dailyincrease = state.population*SeroPrevFactor*renewalFactor/increasedays\n",
    "t_sp_temp = (plebiscito-initdate).days -3\n",
    "chi0 = SeroPrevDynamics(t_sp_temp,t_sp_temp+increasedays*0.8,t_sp_temp+increasedays,dailyincrease,form='line')\n",
    "#chi0 = SeroPrevDynamics(t_sp,t_sp+increasedays*1,t_sp+increasedays,dailyincrease,'quadratic',df = 1)\n",
    "chi = [chi0]\n",
    "#renewalFactor = [renewalFactor]"
   ]
  },
  {
   "cell_type": "code",
   "execution_count": 12,
   "metadata": {},
   "outputs": [],
   "source": [
    "renewalFactor = [0.15,0.3,0.45,0.6,0.75]"
   ]
  },
  {
   "cell_type": "code",
   "execution_count": 13,
   "metadata": {},
   "outputs": [],
   "source": [
    "navidad = datetime(2020,12,25)\n",
    "navidad_day = (datetime(2020,12,25)-initdate).days\n",
    "# Increase date \n",
    "increasedate = datetime(2020,12,25)\n",
    "increaseday = (increasedate - initdate).days\n",
    "# Days for susceptible increase\n",
    "increasedays = 20\n",
    "# Daily amount of people\n",
    "dailyincrease = [state.population*SeroPrevFactor*i/increasedays for i in renewalFactor]"
   ]
  },
  {
   "cell_type": "code",
   "execution_count": 14,
   "metadata": {},
   "outputs": [],
   "source": [
    "#chi = [chisum(chi0,SeroPrevDynamics(increaseday,increaseday+increasedays*0.50001,increaseday+increasedays,i)) for i in dailyincrease]\n",
    "chi = [chisum(chi0,SeroPrevDynamics(navidad_day-4,navidad_day+increasedays*0.0001,navidad_day+increasedays,i)) for i in dailyincrease]"
   ]
  },
  {
   "cell_type": "code",
   "execution_count": 15,
   "metadata": {},
   "outputs": [],
   "source": [
    "chiplot = [[chi[i](t) for t in np.arange(0,tsim,0.1)] for i in range(len(renewalFactor))]\n",
    "plt.title('Sero Prevalence Dynamics')\n",
    "for i in range(len(chiplot)):\n",
    "    plt.plot(np.arange(0,tsim,0.1),chiplot[i],label='RenewalFactor: '+str(renewalFactor[i]))\n",
    "plt.axvline(x = t_sp, linestyle = 'dotted',color = 'grey',label='Inicio Apertura')\n",
    "plt.axvline(x = fiestaspatrias_day, linestyle = 'dotted',color = 'red',label='18 Sept')\n",
    "plt.axvline(x = plebiscito_day, linestyle = 'dotted',color = 'blue',label='Plebiscito')    \n",
    "plt.xlim(0,200)\n",
    "plt.legend(loc=0)\n",
    "plt.show()"
   ]
  },
  {
   "cell_type": "markdown",
   "metadata": {},
   "source": [
    "# Simulation\n",
    "\n",
    "## Initial SeroPrev period\n",
    "Initialize Simulation Object, set params and run the simulation. "
   ]
  },
  {
   "cell_type": "code",
   "execution_count": 16,
   "metadata": {},
   "outputs": [],
   "source": [
    "simulation = [SEIRHVD(tsim,beta,mu,alpha,k_I=k_I,k_R = k_R, chi = i,\n",
    "                      Htot=10000,Vtot=int(state.UCI_capacity[0]),H0=1000,V0=state.UCI_use_covid[0],B0=state.Br[0],D0=state.Dr[0]\n",
    "                      ,R0=state.I_ac_r[0]-state.I_ac_r[0]*0.1,I0=state.Ir[0],I_d0=state.I_d_r[0],I_ac0=state.I_ac_r[0],\n",
    "                      SeroPrevFactor=SeroPrevFactor,expinfection=expinfection,initdate = initdate,\n",
    "                      Imi_det = Imi_det,Ias_det = Ias_det,population = state.population) for i in chi]"
   ]
  },
  {
   "cell_type": "markdown",
   "metadata": {},
   "source": [
    "Modify simulation state parameters"
   ]
  },
  {
   "cell_type": "code",
   "execution_count": 17,
   "metadata": {},
   "outputs": [
    {
     "name": "stdout",
     "output_type": "stream",
     "text": [
      "Compartimental model State parameters changed\n",
      "Compartimental model State parameters changed\n",
      "Compartimental model State parameters changed\n",
      "Compartimental model State parameters changed\n",
      "Compartimental model State parameters changed\n"
     ]
    }
   ],
   "source": [
    "for i in range(len(simulation)):\n",
    "    simulation[i].pE_Ias=pE_Ias\n",
    "    simulation[i].tE_Ias=tE_Ias\n",
    "    simulation[i].pE_Imi=pE_Imi\n",
    "    simulation[i].tE_Imi=tE_Imi\n",
    "    simulation[i].pE_Icr=pE_Icr\n",
    "    simulation[i].tE_Icr=tE_Icr\n",
    "    simulation[i].pE_Ise=pE_Ise\n",
    "    simulation[i].tE_Ise=tE_Ise\n",
    "    simulation[i].pIas_R=pIas_R\n",
    "    simulation[i].tIas_R =tIas_R\n",
    "    simulation[i].pImi_R=pImi_R\n",
    "    simulation[i].tImi_R =tImi_R\n",
    "    simulation[i].pIse_Hse=pIse_Hse\n",
    "    simulation[i].tIse_Hse=tIse_Hse\n",
    "    simulation[i].pIse_D=pIse_D\n",
    "    simulation[i].tIse_D=tIse_D\n",
    "    simulation[i].pIcr_V=pIcr_V\n",
    "    simulation[i].tIcr_V=tIcr_V\n",
    "    simulation[i].pIcr_D=pIcr_D\n",
    "    simulation[i].tIcr_D=tIcr_D\n",
    "    simulation[i].pHse_R=pHse_R\n",
    "    simulation[i].tHse_R =tHse_R\n",
    "    simulation[i].pHse_V=pHse_V\n",
    "    simulation[i].tHse_V=tHse_V\n",
    "    simulation[i].pHse_D=pHse_D\n",
    "    simulation[i].tHse_D=tHse_D\n",
    "    simulation[i].pV_Hout=pV_Hout\n",
    "    simulation[i].tV_Hout =tV_Hout\n",
    "    simulation[i].pV_D=pV_D\n",
    "    simulation[i].tV_D =tV_D\n",
    "    simulation[i].pHout_R=pHout_R\n",
    "    simulation[i].tHout_R=tHout_R\n",
    "    simulation[i].setnewparams()"
   ]
  },
  {
   "cell_type": "markdown",
   "metadata": {},
   "source": [
    "### Setting new params"
   ]
  },
  {
   "cell_type": "markdown",
   "metadata": {},
   "source": [
    "## Run simulation\n",
    "\n",
    "* **integr_sci**: Fast solver, sometimes stiffness beat it  \n",
    "* **integr:** Slow solver, more robust with stiffness  "
   ]
  },
  {
   "cell_type": "code",
   "execution_count": 18,
   "metadata": {},
   "outputs": [],
   "source": [
    "def simulate(simulation,i,tsim):\n",
    "    simulation[i].integr_sci(0,tsim,0.1)\n",
    "    return simulation[i]"
   ]
  },
  {
   "cell_type": "code",
   "execution_count": 19,
   "metadata": {},
   "outputs": [
    {
     "name": "stdout",
     "output_type": "stream",
     "text": [
      "[Parallel(n_jobs=12)]: Using backend LokyBackend with 12 concurrent workers.\n",
      "[Parallel(n_jobs=12)]: Done   1 tasks      | elapsed:    1.4s\n",
      "[Parallel(n_jobs=12)]: Done   2 out of   5 | elapsed:    1.4s remaining:    2.1s\n",
      "[Parallel(n_jobs=12)]: Done   3 out of   5 | elapsed:    1.9s remaining:    1.2s\n",
      "[Parallel(n_jobs=12)]: Done   5 out of   5 | elapsed:    2.3s remaining:    0.0s\n",
      "[Parallel(n_jobs=12)]: Done   5 out of   5 | elapsed:    2.3s finished\n",
      "ready\n"
     ]
    }
   ],
   "source": [
    "num_cores = multiprocessing.cpu_count()\n",
    "sims = Parallel(n_jobs=num_cores, verbose=50)(delayed(simulate)(simulation,i,tsim) for i in range(len(simulation)))\n",
    "simulation = sims\n",
    "print('ready')"
   ]
  },
  {
   "cell_type": "markdown",
   "metadata": {},
   "source": [
    "# Analysis"
   ]
  },
  {
   "cell_type": "markdown",
   "metadata": {},
   "source": [
    "## Grid Plot"
   ]
  },
  {
   "cell_type": "code",
   "execution_count": 20,
   "metadata": {},
   "outputs": [],
   "source": [
    "# Days to plot\n",
    "days = 500\n",
    "t_end = t_sp\n",
    "\n",
    "enddate = initdate + timedelta(days=365)\n",
    "enddate = datetime(2021,1,31)"
   ]
  },
  {
   "cell_type": "code",
   "execution_count": 21,
   "metadata": {},
   "outputs": [],
   "source": [
    "dates = [[initdate+timedelta(days=int(i)) for i in simulation[j].t] for j in range(len(simulation))]"
   ]
  },
  {
   "cell_type": "code",
   "execution_count": 22,
   "metadata": {},
   "outputs": [],
   "source": [
    "SeroPrevalence = [simulation[i].I_ac[-1]/simulation[i].population for i in range(len(simulation))]\n",
    "SeroPrevalenceDet = [simulation[i].I_ac_det[-1]/simulation[i].population for i in range(len(simulation))]"
   ]
  },
  {
   "cell_type": "code",
   "execution_count": 23,
   "metadata": {},
   "outputs": [
    {
     "data": {
      "text/plain": [
       "122"
      ]
     },
     "execution_count": 23,
     "metadata": {},
     "output_type": "execute_result"
    }
   ],
   "source": [
    "len(state.I_d_r)"
   ]
  },
  {
   "cell_type": "code",
   "execution_count": 24,
   "metadata": {},
   "outputs": [],
   "source": [
    "colors = plt.cm.rainbow_r(np.linspace(0,1,len(renewalFactor)))\n",
    "\n",
    "fig, axs = plt.subplots(2, 2)\n",
    "\n",
    "for i in range(len(simulation)):\n",
    "    axs[0,0].plot(dates[i],simulation[i].I_ac_det,label='RF: '+str(renewalFactor[i])+' | SP_R: '+str(round(100*SeroPrevalence[i],2))+'%'+' | SP_D:'+str(round(100*SeroPrevalenceDet[i],2))+'%',color=colors[i])\n",
    "axs[0,0].set_title('Accumulated Infected')\n",
    "axs[0,0].set_xlim(initdate,enddate)\n",
    "axs[0,0].scatter(state.I_ac_r_dates,state.I_ac_r)\n",
    "#axs[0,0].axvline(x = SPchange_date, linestyle = 'dotted',color = 'grey',label='Inicio Apertura')\n",
    "#axs[0,0].axvline(x = datetime(2020,8,22), linestyle = 'dotted',color = 'grey',label='Inicio Cuarentena')\n",
    "#axs[0,0].axvline(x = fiestaspatrias, linestyle = 'dotted',color = 'red',label='18 Sept')\n",
    "axs[0,0].axvline(x = plebiscito, linestyle = 'dotted',color = 'blue',label='Plebiscito')\n",
    "axs[0,0].axvline(x = datetime(2020,12,25), linestyle = 'dotted',color = 'red',label='Navidad')\n",
    "axs[0,0].axvline(x = datetime(2020,12,31), linestyle = 'dotted',color = 'cyan',label='Año Nuevo')\n",
    "\n",
    "#axs[0,0].plot([], [], ' ', label='SeroPrevalence: '+str(round(100*SeroPrevalence[i],2))+'%')\n",
    "#axs[0,0].plot([], [], ' ', label='SeroPrevalence Detected: '+str(round(100*SeroPrevalenceDet[i],2))+'%')\n",
    "#axs[0,0].axvline(x = datetime(2020,7,18), linestyle = 'dotted',color = 'grey',label='Cambio a fase 3')\n",
    "#axs[0,0].axvline(x = datetime(2020,9,11), linestyle = 'dashed',color = 'grey',label='Cambio a fase 4')\n",
    "#axs[0,0].axvline(x = datetime(2020,10,3), linestyle = 'dashdot',color = 'grey',label='Cambio a fase 2')\n",
    "#\n",
    "axs[0,0].plot([], [], ' ', label='RF: RenewalFactor')\n",
    "axs[0,0].plot([], [], ' ', label='SP_R: SeroPrevalence Real')\n",
    "axs[0,0].plot([], [], ' ', label='SP_D: SeroPrevalence Detected')\n",
    "axs[0,0].fmt_xdata = mdates.DateFormatter('%Y-%m-%d')\n",
    "axs[0,0].legend(loc=0)\n",
    "\n",
    "\n",
    "for i in range(len(simulation)):\n",
    "    axs[0,1].plot(dates[i],simulation[i].B,label='RenewalFactor: '+str(renewalFactor[i]),color=colors[i])\n",
    "axs[0,1].set_title('Accumulated Deaths')\n",
    "axs[0,1].set_xlim(initdate,enddate)\n",
    "axs[0,1].scatter(state.Br_dates,state.Br,label='Muertes Totales')\n",
    "#axs[0,1].scatter(state.hosp_dates,state.Br_hosp,label='Muertes Hospitalizados')\n",
    "#axs[0,1].scatter(state.hosp_dates,state.Br_Nonhosp,label='Muertes No Hospitalizados')\n",
    "#axs[0,1].scatter(state.hosp_dates,state.Br_Nonhosp,color = 'red',label='Muertes No Hospitalizados')\n",
    "#axs[0,1].axvline(x = datetime(2020,8,22), linestyle = 'dotted',color = 'grey',label='Inicio Cuarentena')\n",
    "#axs[0,1].axvline(x = SPchange_date, linestyle = 'dotted',color = 'grey',label='Inicio Apertura')\n",
    "#axs[0,1].axvline(x = datetime(2020,7,18), linestyle = 'dotted',color = 'grey',label='Cambio a fase 3')\n",
    "#axs[0,1].axvline(x = datetime(2020,9,11), linestyle = 'dashed',color = 'grey',label='Cambio a fase 4')\n",
    "#axs[0,1].axvline(x = datetime(2020,10,3), linestyle = 'dashdot',color = 'grey',label='Cambio a fase 2')\n",
    "\n",
    "#axs[0,1].axvline(x = fiestaspatrias, linestyle = 'dotted',color = 'red',label='18 Sept')\n",
    "axs[0,1].axvline(x = plebiscito, linestyle = 'dotted',color = 'blue',label='Plebiscito')\n",
    "axs[0,1].axvline(x = datetime(2020,12,25), linestyle = 'dotted',color = 'red',label='Navidad')\n",
    "axs[0,1].axvline(x = datetime(2020,12,31), linestyle = 'dotted',color = 'cyan',label='Año Nuevo')\n",
    "\n",
    "axs[0,1].fmt_xdata = mdates.DateFormatter('%Y-%m-%d')\n",
    "axs[0,1].legend(loc=0)\n",
    "\n",
    "\n",
    "\n",
    "for i in range(len(simulation)):    \n",
    "    axs[1,0].plot(dates[i],simulation[i].I_d_det,label='RenewalFactor: '+str(renewalFactor[i]),color=colors[i])\n",
    "axs[1,0].set_title('New Daily Infected')\n",
    "axs[1,0].set_xlim(initdate,enddate)\n",
    "axs[1,0].scatter(state.I_d_r_dates,state.I_d_r)\n",
    "\n",
    "#axs[1,0].axvline(x = SPchange_date, linestyle = 'dotted',color = 'grey',label='Inicio Apertura')\n",
    "#axs[1,0].axvline(x = datetime(2020,8,22), linestyle = 'dotted',color = 'grey',label='Inicio Cuarentena')\n",
    "#axs[1,0].axvline(x = fiestaspatrias, linestyle = 'dotted',color = 'red',label='18 Sept')\n",
    "axs[1,0].axvline(x = plebiscito, linestyle = 'dotted',color = 'blue',label='Plebiscito')\n",
    "axs[1,0].axvline(x = datetime(2020,12,25), linestyle = 'dotted',color = 'red',label='Navidad')\n",
    "axs[1,0].axvline(x = datetime(2020,12,31), linestyle = 'dotted',color = 'cyan',label='Año Nuevo')\n",
    "\n",
    "#axs[1,0].axvline(x = datetime(2020,7,18), linestyle = 'dotted',color = 'grey',label='Cambio a fase 3')\n",
    "#axs[1,0].axvline(x = datetime(2020,9,11), linestyle = 'dashed',color = 'grey',label='Cambio a fase 4')\n",
    "#axs[1,0].axvline(x = datetime(2020,10,3), linestyle = 'dashdot',color = 'grey',label='Cambio a fase 2')\n",
    "\n",
    "axs[1,0].fmt_xdata = mdates.DateFormatter('%Y-%m-%d')\n",
    "axs[1,0].legend(loc=0)\n",
    "\n",
    "\n",
    "for i in range(len(simulation)):        \n",
    "    axs[1,1].plot(dates[i],simulation[i].V,label='RenewalFactor: '+str(renewalFactor[i]),color=colors[i])\n",
    "    axs[1,1].plot(dates[i],simulation[i].V_need,linestyle='dashed',color=colors[i])\n",
    "axs[1,1].set_title('UCI Usage')\n",
    "axs[1,1].set_xlim(initdate,enddate)\n",
    "axs[1,1].scatter(state.UCI_dates,state.UCI_use_covid,label='UCI covid use')\n",
    "axs[1,1].plot(state.UCI_dates,state.UCI_capacity,label='UCI Capacity', linestyle = 'dashed', color = 'grey')\n",
    "\n",
    "\n",
    "#axs[1,1].axvline(x = fiestaspatrias, linestyle = 'dotted',color = 'red',label='18 Sept')\n",
    "axs[1,1].axvline(x = plebiscito, linestyle = 'dotted',color = 'blue',label='Plebiscito')\n",
    "axs[1,1].axvline(x = datetime(2020,12,25), linestyle = 'dotted',color = 'red',label='Navidad')\n",
    "axs[1,1].axvline(x = datetime(2020,12,31), linestyle = 'dotted',color = 'cyan',label='Año Nuevo')\n",
    "\n",
    "#axs[1,1].axvline(x = datetime(2020,7,18), linestyle = 'dotted',color = 'grey',label='Cambio a fase 3')\n",
    "#axs[1,1].axvline(x = datetime(2020,9,11), linestyle = 'dashed',color = 'grey',label='Cambio a fase 4')\n",
    "#axs[1,1].axvline(x = datetime(2020,10,3), linestyle = 'dashdot',color = 'grey',label='Cambio a fase 2')\n",
    "\n",
    "axs[1,1].fmt_xdata = mdates.DateFormatter('%Y-%m-%d')\n",
    "axs[1,1].legend(loc=0)\n",
    "\n",
    "fig.suptitle(state.name,fontsize=16)\n",
    "fig.show()"
   ]
  },
  {
   "cell_type": "code",
   "execution_count": 25,
   "metadata": {},
   "outputs": [],
   "source": [
    "for i in range(len(simulation)):\n",
    "    plt.plot(simulation[i].t,simulation[i].I,label='RF: '+str(renewalFactor[i])+' | SP_R: '+str(round(100*SeroPrevalence[i],2))+'%'+' | SP_D:'+str(round(100*SeroPrevalenceDet[i],2))+'%',color=colors[i])\n",
    "plt.legend(loc=0)\n",
    "plt.show()"
   ]
  },
  {
   "cell_type": "code",
   "execution_count": 26,
   "metadata": {},
   "outputs": [
    {
     "data": {
      "text/plain": [
       "17039"
      ]
     },
     "execution_count": 26,
     "metadata": {},
     "output_type": "execute_result"
    }
   ],
   "source": [
    "state.Ir[0]"
   ]
  },
  {
   "cell_type": "code",
   "execution_count": 27,
   "metadata": {},
   "outputs": [
    {
     "data": {
      "text/plain": [
       "numpy.ndarray"
      ]
     },
     "execution_count": 27,
     "metadata": {},
     "output_type": "execute_result"
    }
   ],
   "source": [
    "type(simulation[0].I)"
   ]
  },
  {
   "cell_type": "code",
   "execution_count": 28,
   "metadata": {},
   "outputs": [
    {
     "data": {
      "text/plain": [
       "[0.23391937010287128,\n",
       " 0.27568977162322367,\n",
       " 0.3247580649794889,\n",
       " 0.3811697591259596,\n",
       " 0.44363540047649497]"
      ]
     },
     "execution_count": 28,
     "metadata": {},
     "output_type": "execute_result"
    }
   ],
   "source": [
    "SeroPrevalenceDet"
   ]
  },
  {
   "cell_type": "markdown",
   "metadata": {},
   "source": [
    "# Lockdown data"
   ]
  },
  {
   "cell_type": "code",
   "execution_count": 29,
   "metadata": {},
   "outputs": [],
   "source": [
    "endpoint = '../Data/Confinamiento_COVID19.xlsx'\n",
    "Data = pd.read_excel(endpoint,header=1,index_col=0)\n",
    "valdivia = Data['14101'].iloc[2:]"
   ]
  },
  {
   "cell_type": "code",
   "execution_count": 30,
   "metadata": {},
   "outputs": [],
   "source": [
    "fig, ax = plt.subplots()\n",
    "ax.plot(valdivia.astype(int))   \n",
    "ax.fmt_xdata = mdates.DateFormatter('%Y-%m-%d') \n",
    "fig.suptitle(state.name+' Lockdown',fontsize=16)\n",
    "plt.show() "
   ]
  },
  {
   "cell_type": "markdown",
   "metadata": {},
   "source": [
    "# Cálculo de Peak "
   ]
  },
  {
   "cell_type": "code",
   "execution_count": null,
   "metadata": {},
   "outputs": [],
   "source": [
    "idx = [np.where(np.array(dates[i])>datetime(2020,9,1))[0][0] for i in range(len(renewalFactor))] "
   ]
  },
  {
   "cell_type": "markdown",
   "metadata": {},
   "source": [
    "## Daily Infected"
   ]
  },
  {
   "cell_type": "code",
   "execution_count": null,
   "metadata": {},
   "outputs": [],
   "source": [
    "for i in range(len(simulation)):\n",
    "    plt.plot(dates[i],simulation[i].I_d,label='RenewalFactor: '+str(renewalFactor[i]),color=colors[i])\n",
    "plt.axvline(x = SPchange_date, linestyle = 'dotted',color = 'grey',label='Inicio Apertura')\n",
    "plt.axvline(x = fiestaspatrias, linestyle = 'dotted',color = 'red',label='18 Sept')\n",
    "plt.axvline(x = plebiscito, linestyle = 'dotted',color = 'blue',label='Plebiscito')\n",
    "plt.title('Daily new infected')\n",
    "plt.legend(loc=0)\n",
    "plt.show()"
   ]
  },
  {
   "cell_type": "code",
   "execution_count": null,
   "metadata": {},
   "outputs": [],
   "source": [
    "peakdates_Id = [dates[i][np.where(simulation[i].I_d==max(simulation[i].I_d[idx[i]:]))[0][0]] for i in range(len(renewalFactor))]"
   ]
  },
  {
   "cell_type": "code",
   "execution_count": null,
   "metadata": {},
   "outputs": [],
   "source": [
    "peakdates_Id"
   ]
  },
  {
   "cell_type": "code",
   "execution_count": null,
   "metadata": {},
   "outputs": [],
   "source": [
    "peak_I_d = [simulation[i].I_d[np.where(simulation[i].I_d==max(simulation[i].I_d[idx[i]:]))[0][0]] for i in range(len(renewalFactor))]"
   ]
  },
  {
   "cell_type": "code",
   "execution_count": null,
   "metadata": {},
   "outputs": [],
   "source": [
    "peak_I_d"
   ]
  },
  {
   "cell_type": "code",
   "execution_count": null,
   "metadata": {},
   "outputs": [],
   "source": [
    "peak_I_d_VMI = [simulation[i].V[np.where(simulation[i].I_d==max(simulation[i].I_d[idx[i]:]))[0][0]] for i in range(len(renewalFactor))]"
   ]
  },
  {
   "cell_type": "code",
   "execution_count": null,
   "metadata": {},
   "outputs": [],
   "source": [
    "peak_I_d_VMI"
   ]
  },
  {
   "cell_type": "code",
   "execution_count": null,
   "metadata": {},
   "outputs": [],
   "source": [
    "peak_I_d_D = [simulation[i].D[np.where(simulation[i].I_d==max(simulation[i].I_d[idx[i]:]))[0][0]] for i in range(len(renewalFactor))]"
   ]
  },
  {
   "cell_type": "code",
   "execution_count": null,
   "metadata": {},
   "outputs": [],
   "source": [
    "peak_I_d_D"
   ]
  },
  {
   "cell_type": "markdown",
   "metadata": {},
   "source": [
    "## VMI"
   ]
  },
  {
   "cell_type": "code",
   "execution_count": null,
   "metadata": {},
   "outputs": [],
   "source": [
    "VMIneed = [[simulation[i].V_d[j] + simulation[i].Icr_D_d[j] for j in range(len(simulation[i].V))]  for i in range(len(renewalFactor))]"
   ]
  },
  {
   "cell_type": "code",
   "execution_count": null,
   "metadata": {},
   "outputs": [],
   "source": [
    "for i in range(len(simulation)):\n",
    "    plt.plot(dates[i],VMIneed[i],label='RenewalFactor: '+str(renewalFactor[i]),color=colors[i])\n",
    "plt.axvline(x = SPchange_date, linestyle = 'dotted',color = 'grey',label='Inicio Apertura')\n",
    "plt.axvline(x = fiestaspatrias, linestyle = 'dotted',color = 'red',label='18 Sept')\n",
    "plt.axvline(x = plebiscito, linestyle = 'dotted',color = 'blue',label='Plebiscito')\n",
    "plt.title('New VMI daily need')\n",
    "plt.legend(loc=0)\n",
    "plt.show()"
   ]
  },
  {
   "cell_type": "code",
   "execution_count": null,
   "metadata": {},
   "outputs": [],
   "source": [
    "peakdates_VMI = [dates[i][np.where(simulation[i].V==max(simulation[i].V[idx[i]:]))[0][0]] for i in range(len(renewalFactor))]"
   ]
  },
  {
   "cell_type": "code",
   "execution_count": null,
   "metadata": {},
   "outputs": [],
   "source": [
    "peakdates_VMI"
   ]
  },
  {
   "cell_type": "code",
   "execution_count": null,
   "metadata": {},
   "outputs": [],
   "source": [
    "peak_VMI = [simulation[i].V[np.where(simulation[i].V==max(simulation[i].V[idx[i]:]))[0][0]] for i in range(len(renewalFactor))]"
   ]
  },
  {
   "cell_type": "code",
   "execution_count": null,
   "metadata": {},
   "outputs": [],
   "source": [
    "peak_VMI "
   ]
  },
  {
   "cell_type": "code",
   "execution_count": null,
   "metadata": {},
   "outputs": [],
   "source": [
    "peak_VMI_I_d = [simulation[i].I_d[np.where(simulation[i].V==max(simulation[i].V[idx[i]:]))[0][0]] for i in range(len(renewalFactor))]"
   ]
  },
  {
   "cell_type": "code",
   "execution_count": null,
   "metadata": {},
   "outputs": [],
   "source": [
    "peak_VMI_I_d "
   ]
  },
  {
   "cell_type": "code",
   "execution_count": null,
   "metadata": {},
   "outputs": [],
   "source": [
    "peakdates_VMI_d = [dates[i][np.where(VMIneed[i]==max(VMIneed[i][idx[i]:]))[0][0]] for i in range(len(renewalFactor))]"
   ]
  },
  {
   "cell_type": "code",
   "execution_count": null,
   "metadata": {},
   "outputs": [],
   "source": [
    "peakdates_VMI_d"
   ]
  },
  {
   "cell_type": "code",
   "execution_count": null,
   "metadata": {},
   "outputs": [],
   "source": [
    "peak_VMI_D = [simulation[i].D[np.where(simulation[i].V==max(simulation[i].V[idx[i]:]))[0][0]] for i in range(len(renewalFactor))]"
   ]
  },
  {
   "cell_type": "code",
   "execution_count": null,
   "metadata": {},
   "outputs": [],
   "source": [
    "peak_VMI_D "
   ]
  },
  {
   "cell_type": "code",
   "execution_count": null,
   "metadata": {},
   "outputs": [],
   "source": [
    "state.Dr_hosp"
   ]
  },
  {
   "cell_type": "markdown",
   "metadata": {},
   "source": [
    "## Peak Deaths\n"
   ]
  },
  {
   "cell_type": "code",
   "execution_count": null,
   "metadata": {},
   "outputs": [],
   "source": [
    "peak_D = [simulation[i].D[np.where(simulation[i].D==max(simulation[i].D[idx[i]:]))[0][0]] for i in range(len(renewalFactor))]\n",
    "peak_D_dates = [dates[i][np.where(simulation[i].D==max(simulation[i].D[idx[i]:]))[0][0]] for i in range(len(renewalFactor))]\n",
    "peak_D_VMI = [simulation[i].V[np.where(simulation[i].D==max(simulation[i].D[idx[i]:]))[0][0]] for i in range(len(renewalFactor))]\n",
    "peak_D_I_d = [simulation[i].I_d[np.where(simulation[i].D==max(simulation[i].D[idx[i]:]))[0][0]] for i in range(len(renewalFactor))]"
   ]
  },
  {
   "cell_type": "code",
   "execution_count": null,
   "metadata": {},
   "outputs": [],
   "source": [
    "peak_D"
   ]
  },
  {
   "cell_type": "code",
   "execution_count": null,
   "metadata": {},
   "outputs": [],
   "source": [
    "peak_D_dates"
   ]
  },
  {
   "cell_type": "code",
   "execution_count": null,
   "metadata": {},
   "outputs": [],
   "source": [
    "peak_D_VMI"
   ]
  },
  {
   "cell_type": "code",
   "execution_count": null,
   "metadata": {},
   "outputs": [],
   "source": [
    "peak_D_I_d\n"
   ]
  },
  {
   "cell_type": "code",
   "execution_count": null,
   "metadata": {},
   "outputs": [],
   "source": [
    "for i in range(len(simulation)):\n",
    "    plt.plot(dates[i],simulation[i].D,label='RenewalFactor: '+str(renewalFactor[i]),color=colors[i])\n",
    "plt.axvline(x = SPchange_date, linestyle = 'dotted',color = 'grey',label='Inicio Apertura')\n",
    "plt.axvline(x = fiestaspatrias, linestyle = 'dotted',color = 'red',label='18 Sept')\n",
    "plt.axvline(x = plebiscito, linestyle = 'dotted',color = 'blue',label='Plebiscito')\n",
    "plt.title('Daily Deaths')\n",
    "plt.legend(loc=0)\n",
    "plt.show()"
   ]
  },
  {
   "cell_type": "markdown",
   "metadata": {},
   "source": [
    "## Single plots"
   ]
  },
  {
   "cell_type": "markdown",
   "metadata": {},
   "source": [
    "### SEIRD"
   ]
  },
  {
   "cell_type": "code",
   "execution_count": null,
   "metadata": {},
   "outputs": [],
   "source": [
    "plt.plot(simulation1.t,simulation1.S,label='S')\n",
    "plt.plot(simulation1.t,simulation1.E,label='E')\n",
    "plt.plot(simulation1.t,simulation1.I,label='I')\n",
    "plt.plot(simulation1.t,simulation1.R,label='R')\n",
    "plt.plot(simulation1.t,simulation1.B,label='B')\n",
    "plt.axvline(x = t_end, linestyle = 'dotted',color = 'grey')\n",
    "plt.title('SEIRD')\n",
    "plt.legend(loc=0)\n",
    "plt.show()"
   ]
  },
  {
   "cell_type": "markdown",
   "metadata": {},
   "source": [
    "### Daily Deaths"
   ]
  },
  {
   "cell_type": "code",
   "execution_count": null,
   "metadata": {},
   "outputs": [],
   "source": [
    "plt.plot(simulation1.t,simulation1.D,label='sim1')\n",
    "plt.title('Deaths')\n",
    "plt.show()"
   ]
  },
  {
   "cell_type": "markdown",
   "metadata": {},
   "source": [
    "### VMI Usage"
   ]
  },
  {
   "cell_type": "code",
   "execution_count": null,
   "metadata": {},
   "outputs": [],
   "source": [
    "plt.plot(simulation1.t,simulation1.V_cap,label='VMI capacity sim1')\n",
    "plt.plot(simulation1.t,simulation1.V,label='VMI sim1')\n",
    "plt.legend(loc=0)\n",
    "plt.title('VMI')\n",
    "plt.scatter(state.sochimi_tr,state.Vr,label='Real Data')\n",
    "plt.scatter(state.sochimi_tr,state.Vr_tot,label='Real Data')\n",
    "plt.show()"
   ]
  },
  {
   "cell_type": "markdown",
   "metadata": {},
   "source": [
    "### Hospitalization"
   ]
  },
  {
   "cell_type": "code",
   "execution_count": null,
   "metadata": {},
   "outputs": [],
   "source": [
    "plt.plot(simulation1.t,simulation1.H_cap,label='sim1')\n",
    "plt.plot(simulation1.t,simulation1.Hse+simulation1.Hout,label='UCI/UTI Beds')\n",
    "plt.legend(loc=0)\n",
    "plt.title('Hospitalization')\n",
    "\n",
    "plt.scatter(state.sochimi_tr,state.Hr,label='Real Data')\n",
    "plt.scatter(state.sochimi_tr,state.Hr_tot,label='Real Data')\n",
    "plt.show()"
   ]
  },
  {
   "cell_type": "markdown",
   "metadata": {},
   "source": [
    "### Deaths by cause"
   ]
  },
  {
   "cell_type": "code",
   "execution_count": null,
   "metadata": {},
   "outputs": [],
   "source": [
    "plt.plot(simulation1.t,simulation1.D,label='sim1')\n",
    "plt.plot(simulation1.t,simulation1.V_D_d,label='V_D sim1')\n",
    "plt.plot(simulation1.t,simulation1.Hse_D_d,label='Hse_D sim1')\n",
    "plt.plot(simulation1.t,simulation1.Icr_D_d,label='Icr_D sim1')\n",
    "plt.plot(simulation1.t,simulation1.Ise_D_d,label='Ise_D sim1')\n",
    "\n",
    "plt.legend(loc=0)\n",
    "plt.title('Deaths by cause')\n",
    "plt.show()"
   ]
  },
  {
   "cell_type": "markdown",
   "metadata": {},
   "source": [
    "### Hospital saturation"
   ]
  },
  {
   "cell_type": "code",
   "execution_count": null,
   "metadata": {},
   "outputs": [],
   "source": [
    "plt.plot(simulation1.t,simulation1.H_sat,label='HSat')\n",
    "plt.plot(simulation1.t,simulation1.V_sat,label='Vsat')\n",
    "plt.legend(loc=0)\n",
    "plt.title('Saturation')\n",
    "plt.show()"
   ]
  },
  {
   "cell_type": "markdown",
   "metadata": {},
   "source": [
    "## Peak Date"
   ]
  },
  {
   "cell_type": "code",
   "execution_count": null,
   "metadata": {},
   "outputs": [],
   "source": [
    "peakidx = np.where(state.Ir==max(state.Ir))[0][0]\n",
    "datapeakdate = state.sochimi_dates[peakidx]"
   ]
  },
  {
   "cell_type": "code",
   "execution_count": null,
   "metadata": {},
   "outputs": [],
   "source": [
    "datapeakdate"
   ]
  },
  {
   "cell_type": "code",
   "execution_count": null,
   "metadata": {},
   "outputs": [],
   "source": [
    "simulation.peak_date"
   ]
  },
  {
   "cell_type": "code",
   "execution_count": null,
   "metadata": {},
   "outputs": [],
   "source": [
    "datapeakdate"
   ]
  },
  {
   "cell_type": "code",
   "execution_count": null,
   "metadata": {},
   "outputs": [],
   "source": [
    "Peak_delta = (simulation.peak_date -datapeakdate).days"
   ]
  },
  {
   "cell_type": "code",
   "execution_count": null,
   "metadata": {},
   "outputs": [],
   "source": [
    "Peak_delta"
   ]
  },
  {
   "cell_type": "markdown",
   "metadata": {},
   "source": [
    "# Pandas GUI"
   ]
  },
  {
   "cell_type": "code",
   "execution_count": 34,
   "metadata": {},
   "outputs": [],
   "source": [
    "from pandasgui import show"
   ]
  },
  {
   "cell_type": "code",
   "execution_count": 35,
   "metadata": {},
   "outputs": [
    {
     "data": {
      "text/plain": [
       "<importdata.ImportData at 0x7f28e037fa60>"
      ]
     },
     "execution_count": 35,
     "metadata": {},
     "output_type": "execute_result"
    }
   ],
   "source": [
    "state"
   ]
  },
  {
   "cell_type": "code",
   "execution_count": 36,
   "metadata": {},
   "outputs": [
    {
     "data": {
      "text/plain": [
       "array([17039, 11938, 11434, 10931, 10723, 10914, 10618, 11200, 11002,\n",
       "       11240, 10900, 11330, 11272, 11688, 11674, 12431, 12981, 14909,\n",
       "       15332, 16515, 15339, 19074, 19160, 23833, 26131, 30447, 29007,\n",
       "       31423, 30625, 30847, 29400, 27598, 25317, 26196, 25374, 26068])"
      ]
     },
     "execution_count": 36,
     "metadata": {},
     "output_type": "execute_result"
    }
   ],
   "source": [
    "state.Ir"
   ]
  },
  {
   "cell_type": "code",
   "execution_count": null,
   "metadata": {},
   "outputs": [],
   "source": []
  },
  {
   "cell_type": "code",
   "execution_count": 44,
   "metadata": {},
   "outputs": [],
   "source": [
    "data = {'Ir':state.Ir,'Ir_dates':state.Ir_dates,'Ir_t':state.tr,'Dr':state.Dr,'Dr_dates':state.Br_dates,'Dr_t':state.Br_tr}"
   ]
  },
  {
   "cell_type": "code",
   "execution_count": 48,
   "metadata": {},
   "outputs": [],
   "source": [
    "dataframe = pd.DataFrame(dict([ (k,pd.Series(v)) for k,v in data.items() ]))\n"
   ]
  },
  {
   "cell_type": "code",
   "execution_count": 49,
   "metadata": {},
   "outputs": [
    {
     "data": {
      "text/html": [
       "<div>\n",
       "<style scoped>\n",
       "    .dataframe tbody tr th:only-of-type {\n",
       "        vertical-align: middle;\n",
       "    }\n",
       "\n",
       "    .dataframe tbody tr th {\n",
       "        vertical-align: top;\n",
       "    }\n",
       "\n",
       "    .dataframe thead th {\n",
       "        text-align: right;\n",
       "    }\n",
       "</style>\n",
       "<table border=\"1\" class=\"dataframe\">\n",
       "  <thead>\n",
       "    <tr style=\"text-align: right;\">\n",
       "      <th></th>\n",
       "      <th>Ir</th>\n",
       "      <th>Ir_dates</th>\n",
       "      <th>Ir_t</th>\n",
       "      <th>Dr</th>\n",
       "      <th>Dr_dates</th>\n",
       "      <th>Dr_t</th>\n",
       "    </tr>\n",
       "  </thead>\n",
       "  <tbody>\n",
       "    <tr>\n",
       "      <th>0</th>\n",
       "      <td>17039.0</td>\n",
       "      <td>2020-10-19</td>\n",
       "      <td>0.0</td>\n",
       "      <td>46</td>\n",
       "      <td>2020-10-19</td>\n",
       "      <td>0</td>\n",
       "    </tr>\n",
       "    <tr>\n",
       "      <th>1</th>\n",
       "      <td>11938.0</td>\n",
       "      <td>2020-10-24</td>\n",
       "      <td>5.0</td>\n",
       "      <td>53</td>\n",
       "      <td>2020-10-20</td>\n",
       "      <td>1</td>\n",
       "    </tr>\n",
       "    <tr>\n",
       "      <th>2</th>\n",
       "      <td>11434.0</td>\n",
       "      <td>2020-10-26</td>\n",
       "      <td>7.0</td>\n",
       "      <td>43</td>\n",
       "      <td>2020-10-21</td>\n",
       "      <td>2</td>\n",
       "    </tr>\n",
       "    <tr>\n",
       "      <th>3</th>\n",
       "      <td>10931.0</td>\n",
       "      <td>2020-10-30</td>\n",
       "      <td>11.0</td>\n",
       "      <td>46</td>\n",
       "      <td>2020-10-22</td>\n",
       "      <td>3</td>\n",
       "    </tr>\n",
       "    <tr>\n",
       "      <th>4</th>\n",
       "      <td>10723.0</td>\n",
       "      <td>2020-11-02</td>\n",
       "      <td>14.0</td>\n",
       "      <td>43</td>\n",
       "      <td>2020-10-23</td>\n",
       "      <td>4</td>\n",
       "    </tr>\n",
       "    <tr>\n",
       "      <th>...</th>\n",
       "      <td>...</td>\n",
       "      <td>...</td>\n",
       "      <td>...</td>\n",
       "      <td>...</td>\n",
       "      <td>...</td>\n",
       "      <td>...</td>\n",
       "    </tr>\n",
       "    <tr>\n",
       "      <th>117</th>\n",
       "      <td>NaN</td>\n",
       "      <td>NaT</td>\n",
       "      <td>NaN</td>\n",
       "      <td>61</td>\n",
       "      <td>2021-02-13</td>\n",
       "      <td>117</td>\n",
       "    </tr>\n",
       "    <tr>\n",
       "      <th>118</th>\n",
       "      <td>NaN</td>\n",
       "      <td>NaT</td>\n",
       "      <td>NaN</td>\n",
       "      <td>56</td>\n",
       "      <td>2021-02-14</td>\n",
       "      <td>118</td>\n",
       "    </tr>\n",
       "    <tr>\n",
       "      <th>119</th>\n",
       "      <td>NaN</td>\n",
       "      <td>NaT</td>\n",
       "      <td>NaN</td>\n",
       "      <td>73</td>\n",
       "      <td>2021-02-15</td>\n",
       "      <td>119</td>\n",
       "    </tr>\n",
       "    <tr>\n",
       "      <th>120</th>\n",
       "      <td>NaN</td>\n",
       "      <td>NaT</td>\n",
       "      <td>NaN</td>\n",
       "      <td>44</td>\n",
       "      <td>2021-02-16</td>\n",
       "      <td>120</td>\n",
       "    </tr>\n",
       "    <tr>\n",
       "      <th>121</th>\n",
       "      <td>NaN</td>\n",
       "      <td>NaT</td>\n",
       "      <td>NaN</td>\n",
       "      <td>15</td>\n",
       "      <td>2021-02-17</td>\n",
       "      <td>121</td>\n",
       "    </tr>\n",
       "  </tbody>\n",
       "</table>\n",
       "<p>122 rows × 6 columns</p>\n",
       "</div>"
      ],
      "text/plain": [
       "          Ir   Ir_dates  Ir_t  Dr   Dr_dates  Dr_t\n",
       "0    17039.0 2020-10-19   0.0  46 2020-10-19     0\n",
       "1    11938.0 2020-10-24   5.0  53 2020-10-20     1\n",
       "2    11434.0 2020-10-26   7.0  43 2020-10-21     2\n",
       "3    10931.0 2020-10-30  11.0  46 2020-10-22     3\n",
       "4    10723.0 2020-11-02  14.0  43 2020-10-23     4\n",
       "..       ...        ...   ...  ..        ...   ...\n",
       "117      NaN        NaT   NaN  61 2021-02-13   117\n",
       "118      NaN        NaT   NaN  56 2021-02-14   118\n",
       "119      NaN        NaT   NaN  73 2021-02-15   119\n",
       "120      NaN        NaT   NaN  44 2021-02-16   120\n",
       "121      NaN        NaT   NaN  15 2021-02-17   121\n",
       "\n",
       "[122 rows x 6 columns]"
      ]
     },
     "execution_count": 49,
     "metadata": {},
     "output_type": "execute_result"
    }
   ],
   "source": [
    "dataframe"
   ]
  },
  {
   "cell_type": "code",
   "execution_count": 1,
   "metadata": {},
   "outputs": [
    {
     "ename": "NameError",
     "evalue": "name 'show' is not defined",
     "output_type": "error",
     "traceback": [
      "\u001b[0;31m---------------------------------------------------------------------------\u001b[0m",
      "\u001b[0;31mNameError\u001b[0m                                 Traceback (most recent call last)",
      "\u001b[0;32m<ipython-input-1-b6872ddbe0f6>\u001b[0m in \u001b[0;36m<module>\u001b[0;34m\u001b[0m\n\u001b[0;32m----> 1\u001b[0;31m \u001b[0mshow\u001b[0m\u001b[0;34m(\u001b[0m\u001b[0mdataframe\u001b[0m\u001b[0;34m)\u001b[0m\u001b[0;34m\u001b[0m\u001b[0;34m\u001b[0m\u001b[0m\n\u001b[0m",
      "\u001b[0;31mNameError\u001b[0m: name 'show' is not defined"
     ]
    }
   ],
   "source": [
    "show(dataframe)"
   ]
  },
  {
   "cell_type": "code",
   "execution_count": null,
   "metadata": {},
   "outputs": [],
   "source": []
  }
 ],
 "metadata": {
  "kernelspec": {
   "display_name": "Python 3",
   "language": "python",
   "name": "python3"
  },
  "language_info": {
   "codemirror_mode": {
    "name": "ipython",
    "version": 3
   },
   "file_extension": ".py",
   "mimetype": "text/x-python",
   "name": "python",
   "nbconvert_exporter": "python",
   "pygments_lexer": "ipython3",
   "version": "3.8.3"
  }
 },
 "nbformat": 4,
 "nbformat_minor": 4
}
