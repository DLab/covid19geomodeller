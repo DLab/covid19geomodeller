{
 "cells": [
  {
   "cell_type": "markdown",
   "metadata": {},
   "source": [
    "# SEIRHVD Data Fit\n",
    "\n",
    "This Jupyter notebooks implements the SEIRHVD model for fitting the actual Chilean data in order to make projections in VMI and bed usage, amount of infected and deaths. This model uses the SEIRHVD 4.1 version. A visual representation of the model is available at: [SEIRHVD Miró Model](https://miro.com/app/board/o9J_ktzN4xA=/)\n",
    "\n",
    "This implements a single instance to facilitate understanding the model prior to run multiple data fittings at a time.\n",
    "\n"
   ]
  },
  {
   "cell_type": "code",
   "execution_count": 1,
   "metadata": {},
   "outputs": [
    {
     "name": "stdout",
     "output_type": "stream",
     "text": [
      "Linux\n"
     ]
    }
   ],
   "source": [
    "import numpy as np\n",
    "import pandas as pd\n",
    "import matplotlib.pyplot as plt\n",
    "import matplotlib.dates as mdates \n",
    "from datetime import datetime\n",
    "from numpy import linalg as LA\n",
    "import multiprocessing\n",
    "from joblib import Parallel, delayed\n",
    "from datetime import timedelta\n",
    "\n",
    "import platform\n",
    "OS = platform.system()\n",
    "\n",
    "import matplotlib.pyplot as plt\n",
    "if OS == 'Linux':    \n",
    "    %matplotlib tk\n",
    "    print('Linux')\n",
    "elif OS == 'Windows':\n",
    "    %matplotlib qt\n",
    "    print('Windows')\n",
    "elif OS == 'Darwin':\n",
    "    %matplotlib tk\n",
    "    print('Mac (Funciona?)')\n",
    "else:\n",
    "    print('OS not detected :-|')\n",
    "\n",
    "import sys\n",
    "from pathlib import Path\n",
    "sys.path.insert(1, '../src/SEIRHVD/')\n",
    "sys.path.insert(1, '../src/utils/')\n",
    "sys.path.insert(1, 'src/SEIRHVD/')\n",
    "sys.path.insert(1, 'src/utils/')\n",
    "\n",
    "from class_SEIRHUVD5 import SEIRHVD \n",
    "from Quarantine import Quarantine\n",
    "from Quarantine import SeroPrevDynamics\n",
    "from importdata import ImportData\n",
    "import Events"
   ]
  },
  {
   "cell_type": "markdown",
   "metadata": {},
   "source": [
    "## Time Variables\n",
    "Declare Initial date for simulating and data fitting"
   ]
  },
  {
   "cell_type": "code",
   "execution_count": 2,
   "metadata": {},
   "outputs": [],
   "source": [
    "# First simulation Initial date\n",
    "initdate = datetime(2020,12,1)\n",
    "# Date for change in SeroPrevalence\n",
    "SPchange_date = datetime(2020,7,25)\n",
    "\n",
    "# Current date\n",
    "currentdate = datetime.now()\n",
    "currentday = (currentdate - initdate).days\n",
    "\n",
    "fiestaspatrias = datetime(2020,9,18)\n",
    "fiestaspatrias_day = (fiestaspatrias-initdate).days\n",
    "plebiscito = datetime(2020,10,25)\n",
    "plebiscito_day = (plebiscito-initdate).days\n",
    "\n",
    "navidad = datetime(2020,12,25)\n",
    "navidad_day = (navidad-initdate).days\n",
    "\n",
    "newyear = datetime(2020,12,31)\n",
    "newyear_day = (newyear-initdate).days\n",
    "\n",
    "today = datetime.today()\n",
    "today_day = (today-initdate).days"
   ]
  },
  {
   "cell_type": "markdown",
   "metadata": {},
   "source": [
    "## Import Data\n",
    "To import data we use an ImportData object which is initialized with the region's cut and the initial date. state region is represented by cut = 14."
   ]
  },
  {
   "cell_type": "code",
   "execution_count": 3,
   "metadata": {
    "scrolled": true
   },
   "outputs": [
    {
     "name": "stdout",
     "output_type": "stream",
     "text": [
      "Importing data from Region de Los Rios\n",
      "Importing General Data\n",
      "Importing Population\n",
      "Importing Active infected\n",
      "Importing Accumulated Infected\n",
      "Importing Daily Infected\n",
      "Importing ICU Beds Data\n",
      "Importing Deaths by DEIS\n",
      "Importing Active Infected by Minciencia\n",
      "Done\n",
      "Importing Daily Infected\n"
     ]
    }
   ],
   "source": [
    "print('Importing data from Region de Los Rios')\n",
    "tstate = ['01','02','03','04','05','06','07','08','09','10','11','12','13','14','15','16']\n",
    "#tstate = '13101'\n",
    "# Import Data\n",
    "state = ImportData(tstate=tstate,initdate = initdate)\n",
    "state.importdata()\n",
    "\n",
    "state.importDailyInfectedNacional()"
   ]
  },
  {
   "cell_type": "code",
   "execution_count": 4,
   "metadata": {},
   "outputs": [
    {
     "data": {
      "text/plain": [
       "19458310"
      ]
     },
     "execution_count": 4,
     "metadata": {},
     "output_type": "execute_result"
    }
   ],
   "source": [
    "state.name = 'Chile'\n",
    "state.population"
   ]
  },
  {
   "cell_type": "code",
   "execution_count": null,
   "metadata": {},
   "outputs": [],
   "source": []
  },
  {
   "cell_type": "markdown",
   "metadata": {},
   "source": [
    "## Datos de Hospitalizados a fitear"
   ]
  },
  {
   "cell_type": "code",
   "execution_count": 5,
   "metadata": {},
   "outputs": [],
   "source": [
    "state.Hr = 1000\n",
    "state.Hr_tot = [10000,10000]\n",
    "state.Vr = state.UCI_use_covid\n",
    "state.Vr_tot = state.UCI_capacity\n",
    "state.sochimi_tr = state.UCI_tr[-2:]\n",
    "state.sochimi_dates = state.UCI_dates"
   ]
  },
  {
   "cell_type": "markdown",
   "metadata": {},
   "source": [
    "## Simulation Parameters"
   ]
  },
  {
   "cell_type": "code",
   "execution_count": 6,
   "metadata": {},
   "outputs": [],
   "source": [
    "# Total simulation time\n",
    "tsim = 1000\n",
    "t_sp = (SPchange_date - initdate).days\n",
    "\n",
    "beta = 0.023\n",
    "mu = 0.298\n",
    "k_I = 0\n",
    "k_R = 0#10\n",
    "SeroPrevFactor = 0.2#1\n",
    "expinfection=0 # Proportion in which the exposed infect - 0: nothing, 1: equally as Infected"
   ]
  },
  {
   "cell_type": "markdown",
   "metadata": {},
   "source": [
    "## Quarantines\n",
    "Build Quarantine Object:\n",
    " \n",
    "     Q = Quarantine(rem_mob,max_mob=max_mob,qp=0,iqt=0,fqt=1000,movfunct = 'once')\n",
    "     alpha = Q.alpha\n",
    "     \n",
    "     Plot Quarantine dynamics:\n",
    "         Q.plot()"
   ]
  },
  {
   "cell_type": "code",
   "execution_count": 7,
   "metadata": {},
   "outputs": [],
   "source": [
    "# Quarantine relaxation\n",
    "#SPchange_date = datetime(2020,9,11)\n",
    "#t_sp = (SPchange_date - initdate).days\n",
    "\n",
    "# Quarantines \n",
    "max_mob = 0.57\n",
    "rem_mob = 0.45\n",
    "\n",
    "beta_uk_cl_ratio = 1.55\n",
    "max_mob_UK = max_mob*beta_uk_cl_ratio\n",
    "\n",
    "Q1 = Quarantine(rem_mob,max_mob,qp=0,iqt=0,fqt=newyear_day+3)\n",
    "\n",
    "Q_UK = Quarantine(rem_mob,max_mob_UK,qp=0,iqt=0,fqt=newyear_day+3)\n",
    "\n",
    "Q_UK2 = Events.functionAddition([Q1.alpha,Quarantine(0,max_mob_UK-3,qp=0,iqt=0,fqt=today_day).alpha])\n",
    "\n",
    "Q2 = Quarantine(rem_mob)\n",
    "\n",
    "Q3 = Events.Events([0.45,0.55], days=[[0,navidad_day],[navidad_day,tsim]])\n",
    "\n",
    "alpha = [Q1.alpha,Q_UK2]\n",
    "\n",
    "days=[[0,newyear_day+3],[newyear_day+3,today_day],[today_day,tsim]]\n",
    "#days = [[0,10],[10,20],[20,30]]\n",
    "alpha_new = Events.Events(values=[0.45,0.57,0.05],days=days)\n",
    "\n",
    "\n"
   ]
  },
  {
   "cell_type": "code",
   "execution_count": 8,
   "metadata": {},
   "outputs": [],
   "source": [
    "# Quarantines \n",
    "max_mob = 0.57\n",
    "rem_mob = 0.45\n",
    "beta_uk_cl_ratio = 1.55\n",
    "max_mob_UK = max_mob*beta_uk_cl_ratio\n",
    "\n",
    "\n",
    "redrate = [0.2,0.5,1.0]\n",
    "alpha_new = [Events.Events(values=[rem_mob,max_mob,max_mob*i],days=days) for i in redrate]\n",
    "\n",
    "alpha_new_uk = [Events.Events(values=[rem_mob,max_mob,max_mob_UK*i],days=days) for i in redrate]\n"
   ]
  },
  {
   "cell_type": "code",
   "execution_count": 9,
   "metadata": {},
   "outputs": [],
   "source": [
    "t = np.array(np.arange(0,120,0.1))\n",
    "alphaplot= [[j(i) for i in t] for j in alpha_new]\n",
    "alphaplot_UK= [[j(i) for i in t] for j in alpha_new_uk]"
   ]
  },
  {
   "cell_type": "code",
   "execution_count": 10,
   "metadata": {},
   "outputs": [
    {
     "name": "stderr",
     "output_type": "stream",
     "text": [
      "No handles with labels found to put in legend.\n"
     ]
    }
   ],
   "source": [
    "plt.figure()\n",
    "for f in alphaplot:\n",
    "    plt.plot(t,f)\n",
    "for f in alphaplot_UK:\n",
    "    plt.plot(t,f,linestyle='dashed')    \n",
    "plt.tick_params(labelsize=18)\n",
    "plt.legend(loc=0)\n",
    "plt.title('Mobility-beta',fontsize=20)\n",
    "plt.show()\n"
   ]
  },
  {
   "cell_type": "markdown",
   "metadata": {},
   "source": [
    "## Subreport\n",
    "Fraction of Infected detected/reported  \n",
    "\n",
    "$Imi_{det}$: Fraction of Mild detected   \n",
    "$Ias_{det}$: fraction of asymptomatic detected  \n",
    "\n",
    "If both are 1, means that all infected are detected so \n",
    "\\begin{align}\n",
    "I_{det} = I\n",
    "\\end{align}"
   ]
  },
  {
   "cell_type": "code",
   "execution_count": 11,
   "metadata": {},
   "outputs": [],
   "source": [
    "Imi_det = 0.4\n",
    "Ias_det = 0.1\n",
    "Ise_det = 1\n",
    "Icr_det = 1"
   ]
  },
  {
   "cell_type": "markdown",
   "metadata": {},
   "source": [
    "## State Parameters:\n",
    "The following parameters determine transitions probability and duration between different states. The values presented here are the default values set in the model. You can change them as it's showed in the following executable lines.\n",
    "\n",
    "pE_Ias = 0.4  # Transition from exposed to Asymptomatic Infected  \n",
    "tE_Ias = 5.0\n",
    "\n",
    "pE_Imi = 0.55 # Transition from exposed to  Mild Infected  \n",
    "tE_Imi = 5.0\n",
    "\n",
    "pE_Icr = 0.01666 # Transition from exposed to  Critical Infected  \n",
    "tE_Icr = 3.0\n",
    "\n",
    "pE_Ise = 0.03334 # Transition from exposed to  Serious Infected  \n",
    "tE_Ise = 3.0\n",
    "\n",
    "pIas_R = 1.0   # Transition from Asymptomatic Infected to Recovered  \n",
    "tIas_R = 10.0\n",
    "\n",
    "pImi_R = 1.0  # Transition from Mild Infected to Recovered  \n",
    "tImi_R = 15.0\n",
    "\n",
    "pIse_Hse = 1.0 # Transition from Serious Infected to Serious Hospitalized (When Hospital capacity is not saturated)  \n",
    "tIse_Hse = 3.0 \n",
    "\n",
    "pIse_D = 1.0  # Transition from Serious Infected to Death (When Hospital capacity is saturated)  \n",
    "tIse_D = 3.0         \n",
    "\n",
    "pIcr_V = 1.0  # Transition from Critical Infected to Ventilator (When Ventilators capacity is not saturated)  \n",
    "tIcr_V = 3.0 \n",
    "\n",
    "pIcr_D = 1.0  # Transition from Serious Infected to Death (When Ventilators capacity is saturated)  \n",
    "tIcr_D = 3.0         \n",
    "\n",
    "pHse_R = 0.97 # Transition from Serious Hospitalized to Recovered  \n",
    "tHse_R = 11.0\n",
    "\n",
    "pHse_V = 0.03 # Transition from Serious Hospitalized to Ventilators (When Ventilators capacity is not saturated)  \n",
    "tHse_V = 3.0\n",
    "\n",
    "pHse_D = 0.03 # Transition from Serious Hospitalized to Death (When Ventilators capacity is saturated)  \n",
    "tHse_D = 3.0        \n",
    "\n",
    "pV_Hout = 0.5  # Transition from Ventilators to Hospital Recovery (Hout)   \n",
    "tV_Hout = 15.0\n",
    "\n",
    "pV_D = 0.5 # Transition from Ventilators to Death  \n",
    "tV_D = 15.0\n",
    "\n",
    "pHout_R = 1.0 # Transition from Hospital Recovery (Hout) to Recovered  \n",
    "tHout_R = 4.0\n",
    "\n",
    "pD_B = 1.0 # Transition from Dead to buried  \n",
    "tD_B = 1.0 \n",
    "\n",
    "betaD = 0 # Contagion by deads rate  \n",
    "eta = 0.0 # Immunity loss rate  "
   ]
  },
  {
   "cell_type": "code",
   "execution_count": 12,
   "metadata": {},
   "outputs": [],
   "source": [
    "#state parameters: \n",
    "pE_Ias = 0.43 # Transition from exposed to Asymptomatic Infected\n",
    "tE_Ias = 3.0\n",
    "pE_Imi = 0.53 # Transition from exposed to  Mild Infected\n",
    "tE_Imi = 3.0\n",
    "pE_Icr = 0.0065 # Transition from exposed to  Critical Infected\n",
    "tE_Icr = 3.0\n",
    "pE_Ise = 0.0335# Transition from exposed to  Serious Infected\n",
    "tE_Ise = 3.0\n",
    "pIas_R = 1.0   # Transition from Asymptomatic Infected to Recovered\n",
    "tIas_R = 5.0\n",
    "pImi_R = 1.0  # Transition from Mild Infected to Recovered\n",
    "tImi_R = 5.0\n",
    "pIse_Hse = 1 # Transition from Serious Infected to Serious Hospitalized (When Hospital capacity is not saturated)\n",
    "tIse_Hse = 5.0\n",
    "pIse_D = 1.0  # Transition from Serious Infected to Death (When Hospital capacity is saturated)\n",
    "tIse_D = 3.0\n",
    "pIcr_V = 1.0  # Transition from Critical Infected to Ventilator (When Ventilators capacity is not saturated)\n",
    "tIcr_V = 3.0\n",
    "pIcr_D = 1.0  # Transition from Serious Infected to Death (When Ventilators capacity is saturated)\n",
    "tIcr_D = 3.0\n",
    "pHse_R = 0.97 # Transition from Serious Hospitalized to Recovered\n",
    "tHse_R = 3.5\n",
    "pHse_V = 0.03# Transition from Serious Hospitalized to Ventilators (When Ventilators capacity is not saturated)\n",
    "tHse_V = 4.0\n",
    "pHse_D = 0.85# Transition from Serious Hospitalized to Death (When Ventilators capacity is saturated)\n",
    "tHse_D = 4.0\n",
    "pV_Hout = 0.45  # Transition from Ventilators to Hospital Recovery (Hout)\n",
    "tV_Hout = 16.0\n",
    "pV_D = 0.55 # Transition from Ventilators to Death\n",
    "tV_D = 12.0\n",
    "pHout_R = 1.0 # Transition from Hospital Recovery (Hout) to Recovered\n",
    "tHout_R = 10.0"
   ]
  },
  {
   "cell_type": "markdown",
   "metadata": {},
   "source": [
    "## SeroPrevalence Dynamics\n",
    "The susceptibles increase through a step function which last for the specified amount of days. Throughout these days it adds a \"dailyincrease\" amount of persons each day.\n",
    "\n",
    "The total increase of people is increasedays*dailyincrease"
   ]
  },
  {
   "cell_type": "markdown",
   "metadata": {},
   "source": [
    "### First Susceptibles increase 2020-08-24"
   ]
  },
  {
   "cell_type": "code",
   "execution_count": 13,
   "metadata": {},
   "outputs": [],
   "source": [
    "def chisum(a,b):\n",
    "    def aux(t):\n",
    "        return a(t)+b(t)\n",
    "    return aux"
   ]
  },
  {
   "cell_type": "code",
   "execution_count": 14,
   "metadata": {},
   "outputs": [],
   "source": [
    "chi = []"
   ]
  },
  {
   "cell_type": "code",
   "execution_count": 15,
   "metadata": {},
   "outputs": [],
   "source": [
    "increasedays = 62#(fiestaspatrias - SPchange_date).days + 0\n",
    "renewalFactor = 0.6\n",
    "dailyincrease = state.population*SeroPrevFactor*renewalFactor/increasedays\n",
    "t_sp_temp = (plebiscito-initdate).days -3\n",
    "chi0 = SeroPrevDynamics(t_sp_temp,t_sp_temp+increasedays*0.8,t_sp_temp+increasedays,dailyincrease,form='line')\n",
    "#chi0 = SeroPrevDynamics(t_sp,t_sp+increasedays*1,t_sp+increasedays,dailyincrease,'quadratic',df = 1)\n",
    "#chi = [chi0]\n",
    "#renewalFactor = [renewalFactor]\n",
    "chi.append(chi0)"
   ]
  },
  {
   "cell_type": "code",
   "execution_count": 16,
   "metadata": {},
   "outputs": [],
   "source": [
    "# Navidad\n",
    "increasedays = 2\n",
    "renewalFactor = 0.65\n",
    "dailyincrease = state.population*SeroPrevFactor*renewalFactor/increasedays\n",
    "\n",
    "chi1 = SeroPrevDynamics(navidad_day,navidad_day+increasedays*0.8,navidad_day+increasedays,dailyincrease,form='line')\n",
    "#chi0 = SeroPrevDynamics(t_sp,t_sp+increasedays*1,t_sp+increasedays,dailyincrease,'quadratic',df = 1)\n",
    "\n",
    "#renewalFactor = [renewalFactor]\n",
    "#chi = Events.functionAddition([chi0,chi1])\n",
    "chi.append(chi1)"
   ]
  },
  {
   "cell_type": "code",
   "execution_count": 17,
   "metadata": {},
   "outputs": [],
   "source": [
    "# Año nuevo\n",
    "delay = 0\n",
    "increasedays = 7\n",
    "renewalFactor_ny = 0.25\n",
    "dailyincrease = state.population*SeroPrevFactor*renewalFactor_ny/increasedays\n",
    "\n",
    "chi2 = SeroPrevDynamics(newyear_day+delay,newyear_day+delay+increasedays*0.05,newyear_day+delay+increasedays,dailyincrease,form='line')\n",
    "#chi0 = SeroPrevDynamics(t_sp,t_sp+increasedays*1,t_sp+increasedays,dailyincrease,'quadratic',df = 1)\n",
    "\n",
    "#renewalFactor = [renewalFactor]\n",
    "chi.append(chi2)"
   ]
  },
  {
   "cell_type": "code",
   "execution_count": 18,
   "metadata": {},
   "outputs": [],
   "source": [
    "chi = Events.functionAddition(chi)"
   ]
  },
  {
   "cell_type": "code",
   "execution_count": 19,
   "metadata": {},
   "outputs": [],
   "source": [
    "renewalFactor = [-0.5,0,1.35]"
   ]
  },
  {
   "cell_type": "code",
   "execution_count": 20,
   "metadata": {},
   "outputs": [],
   "source": [
    "delay = 0\n",
    "today = datetime.today() #+ timedelta(days=30)\n",
    "today_day = (today-initdate).days\n",
    "# Increase date \n",
    "#increasedate = today\n",
    "#increaseday = (increasedate - initdate).days\n",
    "# Days for susceptible increase\n",
    "increasedays = 15\n",
    "# Daily amount of people\n",
    "dailyincrease = [state.population*SeroPrevFactor*i/increasedays for i in renewalFactor]\n",
    "\n",
    "chi3 = [SeroPrevDynamics(today_day-2.5,today_day-2.5+delay+increasedays*0.0001,today_day-2.5+delay+increasedays,i) for i in dailyincrease]\n",
    "\n"
   ]
  },
  {
   "cell_type": "code",
   "execution_count": 21,
   "metadata": {},
   "outputs": [],
   "source": [
    "chi = [chisum(chi,i) for i in chi3]"
   ]
  },
  {
   "cell_type": "code",
   "execution_count": null,
   "metadata": {},
   "outputs": [],
   "source": [
    "chiplot = [[chi[i](t) for t in np.arange(0,tsim,0.1)] for i in range(len(renewalFactor))]\n",
    "plt.title('Tasa Ingreso de Susceptibles',fontsize=20)\n",
    "for i in range(len(chiplot)):\n",
    "    plt.plot(np.arange(0,tsim,0.1),chiplot[i],label='RenewalFactor: '+str(renewalFactor[i]))\n",
    "plt.axvline(x = navidad_day, linestyle = 'dotted',color = 'red',label='Navidad')\n",
    "plt.axvline(x = newyear_day, linestyle = 'dotted',color = 'blue',label='Año Nuevp')\n",
    "plt.axvline(x = today_day, linestyle = 'dotted',color = 'green',label='hoy')\n",
    "\n",
    "plt.xlim(0,75)\n",
    "plt.tick_params(labelsize=18)\n",
    "plt.legend(loc=0,fontsize=15)\n",
    "plt.show()"
   ]
  },
  {
   "cell_type": "markdown",
   "metadata": {},
   "source": [
    "# Simulation\n",
    "\n",
    "## Initial SeroPrev period\n",
    "Initialize Simulation Object, set params and run the simulation. "
   ]
  },
  {
   "cell_type": "code",
   "execution_count": null,
   "metadata": {},
   "outputs": [],
   "source": [
    "#alpha[0]\n",
    "simulation = [SEIRHVD(tsim,beta,mu,alpha_new[i],k_I=k_I,k_R = k_R, chi = chi[i],\n",
    "                      Htot=10000,Vtot=int(state.UCI_capacity[0]),H0=1000,V0=state.UCI_use_covid[0],B0=state.Br[0],D0=state.Dr[0]\n",
    "                      ,R0=state.I_ac_r[0]-state.I_ac_r[0]*0.1,I0=state.Ir[0],I_d0=state.I_d_r[0],I_ac0=state.I_ac_r[0],\n",
    "                      SeroPrevFactor=SeroPrevFactor,expinfection=expinfection,initdate = initdate,\n",
    "                      Imi_det = Imi_det,Ias_det = Ias_det,population = state.population) for i in range(len(chi))]"
   ]
  },
  {
   "cell_type": "code",
   "execution_count": null,
   "metadata": {},
   "outputs": [],
   "source": [
    "len(alpha_new)"
   ]
  },
  {
   "cell_type": "markdown",
   "metadata": {},
   "source": [
    "Modify simulation state parameters"
   ]
  },
  {
   "cell_type": "code",
   "execution_count": null,
   "metadata": {},
   "outputs": [],
   "source": [
    "for i in range(len(simulation)):\n",
    "    simulation[i].pE_Ias=pE_Ias\n",
    "    simulation[i].tE_Ias=tE_Ias\n",
    "    simulation[i].pE_Imi=pE_Imi\n",
    "    simulation[i].tE_Imi=tE_Imi\n",
    "    simulation[i].pE_Icr=pE_Icr\n",
    "    simulation[i].tE_Icr=tE_Icr\n",
    "    simulation[i].pE_Ise=pE_Ise\n",
    "    simulation[i].tE_Ise=tE_Ise\n",
    "    simulation[i].pIas_R=pIas_R\n",
    "    simulation[i].tIas_R =tIas_R\n",
    "    simulation[i].pImi_R=pImi_R\n",
    "    simulation[i].tImi_R =tImi_R\n",
    "    simulation[i].pIse_Hse=pIse_Hse\n",
    "    simulation[i].tIse_Hse=tIse_Hse\n",
    "    simulation[i].pIse_D=pIse_D\n",
    "    simulation[i].tIse_D=tIse_D\n",
    "    simulation[i].pIcr_V=pIcr_V\n",
    "    simulation[i].tIcr_V=tIcr_V\n",
    "    simulation[i].pIcr_D=pIcr_D\n",
    "    simulation[i].tIcr_D=tIcr_D\n",
    "    simulation[i].pHse_R=pHse_R\n",
    "    simulation[i].tHse_R =tHse_R\n",
    "    simulation[i].pHse_V=pHse_V\n",
    "    simulation[i].tHse_V=tHse_V\n",
    "    simulation[i].pHse_D=pHse_D\n",
    "    simulation[i].tHse_D=tHse_D\n",
    "    simulation[i].pV_Hout=pV_Hout\n",
    "    simulation[i].tV_Hout =tV_Hout\n",
    "    simulation[i].pV_D=pV_D\n",
    "    simulation[i].tV_D =tV_D\n",
    "    simulation[i].pHout_R=pHout_R\n",
    "    simulation[i].tHout_R=tHout_R\n",
    "    simulation[i].setnewparams()"
   ]
  },
  {
   "cell_type": "markdown",
   "metadata": {},
   "source": [
    "### Setting new params"
   ]
  },
  {
   "cell_type": "markdown",
   "metadata": {},
   "source": [
    "## Run simulation\n",
    "\n",
    "* **integr_sci**: Fast solver, sometimes stiffness beat it  \n",
    "* **integr:** Slow solver, more robust with stiffness  "
   ]
  },
  {
   "cell_type": "code",
   "execution_count": null,
   "metadata": {},
   "outputs": [],
   "source": [
    "def simulate(simulation,i,tsim):\n",
    "    simulation[i].integr_sci(0,tsim,0.1)\n",
    "    return simulation[i]"
   ]
  },
  {
   "cell_type": "code",
   "execution_count": null,
   "metadata": {},
   "outputs": [],
   "source": [
    "num_cores = multiprocessing.cpu_count()\n",
    "sims = Parallel(n_jobs=num_cores, verbose=50)(delayed(simulate)(simulation,i,tsim) for i in range(len(simulation)))\n",
    "simulation = sims\n",
    "print('ready')"
   ]
  },
  {
   "cell_type": "markdown",
   "metadata": {},
   "source": [
    "# Simulation UK\n",
    "\n",
    "## Initial SeroPrev period\n",
    "Initialize Simulation Object, set params and run the simulation. "
   ]
  },
  {
   "cell_type": "code",
   "execution_count": null,
   "metadata": {},
   "outputs": [],
   "source": [
    "alpha_new_uk[0](10)"
   ]
  },
  {
   "cell_type": "code",
   "execution_count": null,
   "metadata": {},
   "outputs": [],
   "source": [
    "simulation_uk = [SEIRHVD(tsim,beta,mu,alpha_new_uk[i],k_I=k_I,k_R = k_R, chi = chi[i],\n",
    "                      Htot=10000,Vtot=int(state.UCI_capacity[0]),H0=1000,V0=state.UCI_use_covid[0],B0=state.Br[0],D0=state.Dr[0]\n",
    "                      ,R0=state.I_ac_r[0]-state.I_ac_r[0]*0.1,I0=state.Ir[0],I_d0=state.I_d_r[0],I_ac0=state.I_ac_r[0],\n",
    "                      SeroPrevFactor=SeroPrevFactor,expinfection=expinfection,initdate = initdate,\n",
    "                      Imi_det = Imi_det,Ias_det = Ias_det,population = state.population) for i in range(len(chi))]"
   ]
  },
  {
   "cell_type": "markdown",
   "metadata": {},
   "source": [
    "Modify simulation state parameters"
   ]
  },
  {
   "cell_type": "code",
   "execution_count": null,
   "metadata": {},
   "outputs": [],
   "source": [
    "for i in range(len(simulation_uk)):\n",
    "    simulation_uk[i].pE_Ias=pE_Ias\n",
    "    simulation_uk[i].tE_Ias=tE_Ias\n",
    "    simulation_uk[i].pE_Imi=pE_Imi\n",
    "    simulation_uk[i].tE_Imi=tE_Imi\n",
    "    simulation_uk[i].pE_Icr=pE_Icr\n",
    "    simulation_uk[i].tE_Icr=tE_Icr\n",
    "    simulation_uk[i].pE_Ise=pE_Ise\n",
    "    simulation_uk[i].tE_Ise=tE_Ise\n",
    "    simulation_uk[i].pIas_R=pIas_R\n",
    "    simulation_uk[i].tIas_R =tIas_R\n",
    "    simulation_uk[i].pImi_R=pImi_R\n",
    "    simulation_uk[i].tImi_R =tImi_R\n",
    "    simulation_uk[i].pIse_Hse=pIse_Hse\n",
    "    simulation_uk[i].tIse_Hse=tIse_Hse\n",
    "    simulation_uk[i].pIse_D=pIse_D\n",
    "    simulation_uk[i].tIse_D=tIse_D\n",
    "    simulation_uk[i].pIcr_V=pIcr_V\n",
    "    simulation_uk[i].tIcr_V=tIcr_V\n",
    "    simulation_uk[i].pIcr_D=pIcr_D\n",
    "    simulation_uk[i].tIcr_D=tIcr_D\n",
    "    simulation_uk[i].pHse_R=pHse_R\n",
    "    simulation_uk[i].tHse_R =tHse_R\n",
    "    simulation_uk[i].pHse_V=pHse_V\n",
    "    simulation_uk[i].tHse_V=tHse_V\n",
    "    simulation_uk[i].pHse_D=pHse_D\n",
    "    simulation_uk[i].tHse_D=tHse_D\n",
    "    simulation_uk[i].pV_Hout=pV_Hout\n",
    "    simulation_uk[i].tV_Hout =tV_Hout\n",
    "    simulation_uk[i].pV_D=pV_D\n",
    "    simulation_uk[i].tV_D =tV_D\n",
    "    simulation_uk[i].pHout_R=pHout_R\n",
    "    simulation_uk[i].tHout_R=tHout_R\n",
    "    simulation_uk[i].setnewparams()"
   ]
  },
  {
   "cell_type": "markdown",
   "metadata": {},
   "source": [
    "### Setting new params"
   ]
  },
  {
   "cell_type": "markdown",
   "metadata": {},
   "source": [
    "## Run simulation\n",
    "\n",
    "* **integr_sci**: Fast solver, sometimes stiffness beat it  \n",
    "* **integr:** Slow solver, more robust with stiffness  "
   ]
  },
  {
   "cell_type": "code",
   "execution_count": null,
   "metadata": {},
   "outputs": [],
   "source": [
    "def simulate(simulation,i,tsim):\n",
    "    simulation[i].integr_sci(0,tsim,0.1)\n",
    "    return simulation[i]"
   ]
  },
  {
   "cell_type": "code",
   "execution_count": null,
   "metadata": {},
   "outputs": [],
   "source": [
    "num_cores = multiprocessing.cpu_count()\n",
    "sims_uk = Parallel(n_jobs=num_cores, verbose=50)(delayed(simulate)(simulation_uk,i,tsim) for i in range(len(simulation_uk)))\n",
    "simulation_uk = sims_uk\n",
    "print('ready')"
   ]
  },
  {
   "cell_type": "markdown",
   "metadata": {},
   "source": [
    "# Analysis"
   ]
  },
  {
   "cell_type": "code",
   "execution_count": null,
   "metadata": {},
   "outputs": [],
   "source": [
    "saveplot = False\n",
    "if saveplot:\n",
    "    %matplotlib inline\n",
    "#%matplotlib inline\n",
    "%matplotlib tk\n",
    "plt.rcParams[\"figure.figsize\"] = 38.40, 20.56 #19.20,10.80#8,6\n",
    "plt.rcParams.update({\n",
    "    \"text.usetex\": False,\n",
    "    \"font.family\": \"sans-serif\",\n",
    "    \"font.sans-serif\":[\"Arial\"]})\n"
   ]
  },
  {
   "cell_type": "markdown",
   "metadata": {},
   "source": [
    "## Grid Plot"
   ]
  },
  {
   "cell_type": "code",
   "execution_count": null,
   "metadata": {},
   "outputs": [],
   "source": [
    "# Days to plot\n",
    "days = 500\n",
    "t_end = t_sp\n",
    "\n",
    "enddate = initdate + timedelta(days=365)\n",
    "enddate = datetime(2021,12,31)"
   ]
  },
  {
   "cell_type": "code",
   "execution_count": null,
   "metadata": {},
   "outputs": [],
   "source": [
    "dates = [[initdate+timedelta(days=int(i)) for i in simulation[j].t] for j in range(len(simulation))]"
   ]
  },
  {
   "cell_type": "code",
   "execution_count": null,
   "metadata": {},
   "outputs": [],
   "source": [
    "SeroPrevalence = [simulation[i].I_ac[-1]/simulation[i].population for i in range(len(simulation))]\n",
    "SeroPrevalenceDet = [simulation[i].I_ac_det[-1]/simulation[i].population for i in range(len(simulation))]"
   ]
  },
  {
   "cell_type": "code",
   "execution_count": null,
   "metadata": {},
   "outputs": [],
   "source": [
    "sim_UK = True"
   ]
  },
  {
   "cell_type": "code",
   "execution_count": null,
   "metadata": {},
   "outputs": [],
   "source": [
    "pĺotlinewidth = 4\n",
    "datelinewidth = 3"
   ]
  },
  {
   "cell_type": "code",
   "execution_count": null,
   "metadata": {},
   "outputs": [],
   "source": [
    "import matplotlib"
   ]
  },
  {
   "cell_type": "code",
   "execution_count": null,
   "metadata": {},
   "outputs": [],
   "source": [
    "colors = plt.cm.rainbow_r(np.linspace(0,1,len(renewalFactor)))\n",
    "\n",
    "fig, axs = plt.subplots(2, 2)\n",
    "\n",
    "for i in range(len(simulation)):\n",
    "    axs[0,0].plot(dates[i],simulation[i].I_ac_det,linewidth=pĺotlinewidth,label='RF: '+str(renewalFactor[i])+' | SP_R: '+str(round(100*SeroPrevalence[i],2))+'%'+' | SP_D:'+str(round(100*SeroPrevalenceDet[i],2))+'%',color=colors[i])\n",
    "    if sim_UK:\n",
    "        axs[0,0].plot(dates[i],simulation_uk[i].I_ac_det,color=colors[i],linestyle='dashed',linewidth=pĺotlinewidth)\n",
    "axs[0,0].set_title('Infectados acumulados',fontsize=22)\n",
    "axs[0,0].set_xlim(initdate,enddate)\n",
    "#axs[0,0].set_ylim(0,1.5e6)\n",
    "\n",
    "\n",
    "\n",
    "axs[0,0].axvline(x = datetime(2020,12,25), linestyle = 'dotted',color = 'red',label='Navidad',linewidth=datelinewidth)\n",
    "axs[0,0].axvline(x = datetime(2020,12,31), linestyle = 'dotted',color = 'blue',label='Año Nuevo',linewidth=datelinewidth)\n",
    "axs[0,0].axvline(x = datetime(2021,1,15), linestyle = 'dotted',color = 'green',label='15 Enero',linewidth=datelinewidth)\n",
    "\n",
    "\n",
    "axs[0,0].plot([], [], ' ', label='RF: RenewalFactor')\n",
    "axs[0,0].plot([], [], ' ', label='SP_R: SeroPrevalence Real')\n",
    "axs[0,0].plot([], [], ' ', label='SP_D: SeroPrevalence Detected')\n",
    "\n",
    "axs[0,0].scatter(state.I_ac_r_dates,state.I_ac_r,color='black',label='Datos',zorder=10)\n",
    "\n",
    "axs[0,0].fmt_xdata = mdates.DateFormatter('%Y-%m-%d')\n",
    "axs[0,0].legend(loc=0)\n",
    "\n",
    "axs[0,0].grid(color='grey', linestyle='dotted', linewidth=0.5)\n",
    "\n",
    "\n",
    "# Accumulated deaths\n",
    "for i in range(len(simulation)):\n",
    "    axs[0,1].plot(dates[i],simulation[i].B,label='RenewalFactor: '+str(renewalFactor[i]),color=colors[i],linewidth=pĺotlinewidth)\n",
    "    if sim_UK:\n",
    "        axs[0,1].plot(dates[i],simulation_uk[i].B,color=colors[i],linestyle='dashed',linewidth=pĺotlinewidth)\n",
    "    \n",
    "axs[0,1].set_title('Muertes Acumuladas',fontsize=22)\n",
    "axs[0,1].set_xlim(initdate,enddate)\n",
    "#axs[0,1].set_ylim(0,1e4)\n",
    "\n",
    "axs[0,1].axvline(x = datetime(2020,12,25), linestyle = 'dotted',color = 'red',label='Navidad',linewidth=datelinewidth)\n",
    "axs[0,1].axvline(x = datetime(2020,12,31), linestyle = 'dotted',color = 'blue',label='Año Nuevo',linewidth=datelinewidth)\n",
    "axs[0,1].axvline(x = datetime(2021,1,15), linestyle = 'dotted',color = 'green',label='15 Enero',linewidth=datelinewidth)\n",
    "\n",
    "axs[0,1].scatter(state.Br_dates,state.Br,label='Datos',color='black',zorder=10)\n",
    "\n",
    "axs[0,1].fmt_xdata = mdates.DateFormatter('%Y-%m-%d')\n",
    "axs[0,1].legend(loc=0)\n",
    "\n",
    "\n",
    "for i in range(len(simulation)):    \n",
    "    axs[1,0].plot(dates[i],simulation[i].I_d_det,label='RenewalFactor: '+str(renewalFactor[i]),color=colors[i],linewidth=pĺotlinewidth)\n",
    "    if sim_UK:\n",
    "        axs[1,0].plot(dates[i],simulation_uk[i].I_d_det,color=colors[i],linestyle='dashed',linewidth=pĺotlinewidth)    \n",
    "axs[1,0].set_title('Nuevos Infectados Diarios',fontsize=22)\n",
    "axs[1,0].set_xlim(initdate,enddate)\n",
    "#axs[1,0].set_ylim(0,1e4)\n",
    "\n",
    "axs[1,0].scatter(state.I_d_r_dates,state.I_d_r,label='Datos',color='black',zorder=10)\n",
    "\n",
    "#axs[1,0].axvline(x = SPchange_date, linestyle = 'dotted',color = 'grey',label='Inicio Apertura')\n",
    "#axs[1,0].axvline(x = datetime(2020,8,22), linestyle = 'dotted',color = 'grey',label='Inicio Cuarentena')\n",
    "#axs[1,0].axvline(x = fiestaspatrias, linestyle = 'dotted',color = 'red',label='18 Sept')\n",
    "#axs[1,0].axvline(x = plebiscito, linestyle = 'dotted',color = 'blue',label='Plebiscito',linewidth=datelinewidth)\n",
    "axs[1,0].axvline(x = datetime(2020,12,25), linestyle = 'dotted',color = 'red',label='Navidad',linewidth=datelinewidth)\n",
    "axs[1,0].axvline(x = datetime(2020,12,31), linestyle = 'dotted',color = 'blue',label='Año Nuevo',linewidth=datelinewidth)\n",
    "axs[1,0].axvline(x = datetime(2021,1,15), linestyle = 'dotted',color = 'green',label='15 Enero',linewidth=datelinewidth)\n",
    "\n",
    "#axs[1,0].axvline(x = datetime(2020,7,18), linestyle = 'dotted',color = 'grey',label='Cambio a fase 3')\n",
    "#axs[1,0].axvline(x = datetime(2020,9,11), linestyle = 'dashed',color = 'grey',label='Cambio a fase 4')\n",
    "#axs[1,0].axvline(x = datetime(2020,10,3), linestyle = 'dashdot',color = 'grey',label='Cambio a fase 2')\n",
    "\n",
    "\n",
    "axs[1,0].legend(loc=0)\n",
    "\n",
    "\n",
    "\n",
    "for i in range(len(simulation)):        \n",
    "    axs[1,1].plot(dates[i],simulation[i].V,label='RenewalFactor: '+str(renewalFactor[i]),color=colors[i],linewidth=pĺotlinewidth)\n",
    "    #axs[1,1].plot(dates[i],simulation[i].V_need,linestyle='dashed',color=colors[i])\n",
    "    if sim_UK:\n",
    "        axs[1,1].plot(dates[i],simulation_uk[i].V,color=colors[i],linestyle='dashed',linewidth=pĺotlinewidth)    \n",
    "axs[1,1].set_title('Uso UCI',fontsize=22)\n",
    "axs[1,1].set_xlim(initdate,enddate)\n",
    "#axs[1,1].set_ylim(0,3e3)\n",
    "\n",
    "axs[1,1].scatter(state.UCI_dates,state.UCI_use_covid,label='Datos',color='black',zorder=10)\n",
    "#axs[1,1].plot(state.UCI_dates,state.UCI_capacity,label='UCI Capacity', linestyle = 'dashed', color = 'grey')\n",
    "axs[1,1].plot(simulation[0].dates,simulation[0].V_cap,label='UCI Capacity', linestyle = 'dashed', color = 'black')\n",
    "\n",
    "\n",
    "#axs[1,1].axvline(x = fiestaspatrias, linestyle = 'dotted',color = 'red',label='18 Sept')\n",
    "#axs[1,1].axvline(x = plebiscito, linestyle = 'dotted',color = 'blue',label='Plebiscito',linewidth=datelinewidth)\n",
    "axs[1,1].axvline(x = datetime(2020,12,25), linestyle = 'dotted',color = 'red',label='Navidad',linewidth=datelinewidth)\n",
    "axs[1,1].axvline(x = datetime(2020,12,31), linestyle = 'dotted',color = 'blue',label='Año Nuevo',linewidth=datelinewidth)\n",
    "axs[1,1].axvline(x = datetime(2021,1,15), linestyle = 'dotted',color = 'green',label='15 Enero',linewidth=datelinewidth)\n",
    "\n",
    "\n",
    "\n",
    "# Format and shit\n",
    "\n",
    "# Grid\n",
    "axs[0,0].grid(color='grey', linestyle='dotted', linewidth=0.5)\n",
    "axs[0,1].grid(color='grey', linestyle='dotted', linewidth=0.5)\n",
    "axs[1,0].grid(color='grey', linestyle='dotted', linewidth=0.5)\n",
    "axs[1,1].grid(color='grey', linestyle='dotted', linewidth=0.5)\n",
    "\n",
    "\n",
    "# Date format\n",
    "axs[0,0].fmt_xdata = mdates.DateFormatter('%d-%m-%Y')\n",
    "axs[0,1].fmt_xdata = mdates.DateFormatter('%d-%m-%Y')\n",
    "axs[1,0].fmt_xdata = mdates.DateFormatter('%d-%m-%Y')\n",
    "axs[1,1].fmt_xdata = mdates.DateFormatter('%d-%m-%Y')\n",
    "\n",
    "# Y axis\n",
    "#axs[0,0].get_yaxis().set_major_formatter(matplotlib.ticker.FuncFormatter(lambda x, p: format(int(x), ',')))\n",
    "axs[0,1].get_yaxis().set_major_formatter(matplotlib.ticker.FuncFormatter(lambda x, p: format(int(x), ',')))\n",
    "axs[1,0].get_yaxis().set_major_formatter(matplotlib.ticker.FuncFormatter(lambda x, p: format(int(x), ',')))\n",
    "axs[1,1].get_yaxis().set_major_formatter(matplotlib.ticker.FuncFormatter(lambda x, p: format(int(x), ',')))\n",
    "\n",
    "# Font-size\n",
    "axs[0,0].tick_params(labelsize=18)\n",
    "axs[0,1].tick_params(labelsize=18)\n",
    "axs[1,0].tick_params(labelsize=18)\n",
    "axs[1,1].tick_params(labelsize=18)\n",
    "\n",
    "# Legend\n",
    "axs[0,0].legend(loc=0,fontsize=14)\n",
    "axs[0,1].legend(loc=1,fontsize=14)\n",
    "axs[1,0].legend(loc=1,fontsize=14)\n",
    "axs[1,1].legend(loc=1,fontsize=14)\n",
    "\n",
    "\n",
    "fig.suptitle(state.name,fontsize=25)\n",
    "fig.show()"
   ]
  },
  {
   "cell_type": "code",
   "execution_count": null,
   "metadata": {},
   "outputs": [],
   "source": [
    "print('stop')"
   ]
  },
  {
   "cell_type": "code",
   "execution_count": null,
   "metadata": {},
   "outputs": [],
   "source": [
    "beta"
   ]
  },
  {
   "cell_type": "code",
   "execution_count": null,
   "metadata": {},
   "outputs": [],
   "source": [
    "beta*rem_mob"
   ]
  },
  {
   "cell_type": "code",
   "execution_count": null,
   "metadata": {},
   "outputs": [],
   "source": [
    "#%matplotlib tk\n",
    "plt.title('Susceptibles')\n",
    "for i in range(len(simulation)):\n",
    "    plt.plot(simulation[i].dates,simulation[i].S,label='RF: '+str(renewalFactor[i])+' | SP_R: '+str(round(100*SeroPrevalence[i],2))+'%'+' | SP_D:'+str(round(100*SeroPrevalenceDet[i],2))+'%',color=colors[i])\n",
    "    #plt.plot(simulation[i].dates,simulation[i].chi,label='RF: '+str(renewalFactor[i])+' | SP_R: '+str(round(100*SeroPrevalence[i],2))+'%'+' | SP_D:'+str(round(100*SeroPrevalenceDet[i],2))+'%',color=colors[i])\n",
    "#plt.scatter(state.Ir_dates,state.Ir)\n",
    "for i in range(len(simulation_uk)):\n",
    "    plt.plot(simulation_uk[i].dates,simulation_uk[i].S,linestyle='dashed',label='RF: '+str(renewalFactor[i])+' | SP_R: '+str(round(100*SeroPrevalence[i],2))+'%'+' | SP_D:'+str(round(100*SeroPrevalenceDet[i],2))+'%',color=colors[i])\n",
    "\n",
    "    \n",
    "plt.axvline(x=newyear,color='blue',label='año nuevo')\n",
    "plt.gca().xaxis.set_major_formatter( mdates.DateFormatter('%Y-%m-%d'))\n",
    "plt.legend(loc=0)\n",
    "plt.show()"
   ]
  },
  {
   "cell_type": "code",
   "execution_count": null,
   "metadata": {},
   "outputs": [],
   "source": [
    "#%matplotlib tk\n",
    "plt.title('Infectados Activos')\n",
    "for i in range(len(simulation)):\n",
    "    plt.plot(simulation[i].dates,simulation[i].I,label='RF: '+str(renewalFactor[i])+' | SP_R: '+str(round(100*SeroPrevalence[i],2))+'%'+' | SP_D:'+str(round(100*SeroPrevalenceDet[i],2))+'%',color=colors[i])\n",
    "    #plt.plot(simulation[i].dates,simulation[i].chi,label='RF: '+str(renewalFactor[i])+' | SP_R: '+str(round(100*SeroPrevalence[i],2))+'%'+' | SP_D:'+str(round(100*SeroPrevalenceDet[i],2))+'%',color=colors[i])\n",
    "#plt.scatter(state.Ir_dates,state.Ir)\n",
    "for i in range(len(simulation_uk)):\n",
    "    plt.plot(simulation_uk[i].dates,simulation_uk[i].I,linestyle='dashed',label='RF: '+str(renewalFactor[i])+' | SP_R: '+str(round(100*SeroPrevalence[i],2))+'%'+' | SP_D:'+str(round(100*SeroPrevalenceDet[i],2))+'%',color=colors[i])\n",
    "\n",
    "plt.axvline(x=newyear,color='blue',label='año nuevo')\n",
    "plt.gca().xaxis.set_major_formatter( mdates.DateFormatter('%Y-%m-%d'))\n",
    "plt.legend(loc=0)\n",
    "plt.show()"
   ]
  },
  {
   "cell_type": "code",
   "execution_count": null,
   "metadata": {},
   "outputs": [],
   "source": [
    "#%matplotlib tk\n",
    "plt.title('SeroPrevalence')\n",
    "for i in range(len(simulation)):\n",
    "    plt.plot(simulation[i].dates,simulation[i].I_ac/simulation[i].population,label='RF: '+str(renewalFactor[i])+' | SP_R: '+str(round(100*SeroPrevalence[i],2))+'%'+' | SP_D:'+str(round(100*SeroPrevalenceDet[i],2))+'%',color=colors[i])\n",
    "    #plt.plot(simulation[i].dates,simulation[i].chi,label='RF: '+str(renewalFactor[i])+' | SP_R: '+str(round(100*SeroPrevalence[i],2))+'%'+' | SP_D:'+str(round(100*SeroPrevalenceDet[i],2))+'%',color=colors[i])\n",
    "#plt.scatter(state.Ir_dates,state.Ir)\n",
    "for i in range(len(simulation_uk)):\n",
    "    plt.plot(simulation_uk[i].dates,simulation_uk[i].I_ac/simulation_uk[i].population,linestyle='dashed',label='RF: '+str(renewalFactor[i])+' | SP_R: '+str(round(100*SeroPrevalence[i],2))+'%'+' | SP_D:'+str(round(100*SeroPrevalenceDet[i],2))+'%',color=colors[i])\n",
    "\n",
    "plt.gca().xaxis.set_major_formatter( mdates.DateFormatter('%Y-%m-%d'))\n",
    "plt.legend(loc=0)\n",
    "plt.show()"
   ]
  },
  {
   "cell_type": "code",
   "execution_count": null,
   "metadata": {},
   "outputs": [],
   "source": [
    "state.Ir[0]"
   ]
  },
  {
   "cell_type": "code",
   "execution_count": null,
   "metadata": {},
   "outputs": [],
   "source": [
    "type(simulation[0].I)"
   ]
  },
  {
   "cell_type": "code",
   "execution_count": null,
   "metadata": {},
   "outputs": [],
   "source": [
    "SeroPrevalenceDet"
   ]
  },
  {
   "cell_type": "code",
   "execution_count": null,
   "metadata": {},
   "outputs": [],
   "source": [
    "plt.plot(simulation)"
   ]
  },
  {
   "cell_type": "markdown",
   "metadata": {},
   "source": [
    "# Lockdown data"
   ]
  },
  {
   "cell_type": "code",
   "execution_count": null,
   "metadata": {},
   "outputs": [],
   "source": [
    "endpoint = '../Data/Confinamiento_COVID19.xlsx'\n",
    "Data = pd.read_excel(endpoint,header=1,index_col=0)\n",
    "valdivia = Data['14101'].iloc[2:]"
   ]
  },
  {
   "cell_type": "code",
   "execution_count": null,
   "metadata": {},
   "outputs": [],
   "source": [
    "fig, ax = plt.subplots()\n",
    "ax.plot(valdivia.astype(int))   \n",
    "ax.fmt_xdata = mdates.DateFormatter('%Y-%m-%d') \n",
    "fig.suptitle(state.name+' Lockdown',fontsize=16)\n",
    "plt.show() "
   ]
  },
  {
   "cell_type": "markdown",
   "metadata": {},
   "source": [
    "# Cálculo de Peak "
   ]
  },
  {
   "cell_type": "code",
   "execution_count": null,
   "metadata": {},
   "outputs": [],
   "source": [
    "idx = [np.where(np.array(dates[i])>datetime(2020,9,1))[0][0] for i in range(len(renewalFactor))] "
   ]
  },
  {
   "cell_type": "markdown",
   "metadata": {},
   "source": [
    "## Daily Infected"
   ]
  },
  {
   "cell_type": "code",
   "execution_count": null,
   "metadata": {},
   "outputs": [],
   "source": [
    "for i in range(len(simulation)):\n",
    "    plt.plot(dates[i],simulation[i].I_d,label='RenewalFactor: '+str(renewalFactor[i]),color=colors[i])\n",
    "plt.axvline(x = SPchange_date, linestyle = 'dotted',color = 'grey',label='Inicio Apertura')\n",
    "plt.axvline(x = fiestaspatrias, linestyle = 'dotted',color = 'red',label='18 Sept')\n",
    "plt.axvline(x = plebiscito, linestyle = 'dotted',color = 'blue',label='Plebiscito')\n",
    "plt.title('Daily new infected')\n",
    "plt.legend(loc=0)\n",
    "plt.show()"
   ]
  },
  {
   "cell_type": "code",
   "execution_count": null,
   "metadata": {},
   "outputs": [],
   "source": [
    "peakdates_Id = [dates[i][np.where(simulation[i].I_d==max(simulation[i].I_d[idx[i]:]))[0][0]] for i in range(len(renewalFactor))]"
   ]
  },
  {
   "cell_type": "code",
   "execution_count": null,
   "metadata": {},
   "outputs": [],
   "source": [
    "peakdates_Id"
   ]
  },
  {
   "cell_type": "code",
   "execution_count": null,
   "metadata": {},
   "outputs": [],
   "source": [
    "peak_I_d = [simulation[i].I_d[np.where(simulation[i].I_d==max(simulation[i].I_d[idx[i]:]))[0][0]] for i in range(len(renewalFactor))]"
   ]
  },
  {
   "cell_type": "code",
   "execution_count": null,
   "metadata": {},
   "outputs": [],
   "source": [
    "peak_I_d"
   ]
  },
  {
   "cell_type": "code",
   "execution_count": null,
   "metadata": {},
   "outputs": [],
   "source": [
    "peak_I_d_VMI = [simulation[i].V[np.where(simulation[i].I_d==max(simulation[i].I_d[idx[i]:]))[0][0]] for i in range(len(renewalFactor))]"
   ]
  },
  {
   "cell_type": "code",
   "execution_count": null,
   "metadata": {},
   "outputs": [],
   "source": [
    "peak_I_d_VMI"
   ]
  },
  {
   "cell_type": "code",
   "execution_count": null,
   "metadata": {},
   "outputs": [],
   "source": [
    "peak_I_d_D = [simulation[i].D[np.where(simulation[i].I_d==max(simulation[i].I_d[idx[i]:]))[0][0]] for i in range(len(renewalFactor))]"
   ]
  },
  {
   "cell_type": "code",
   "execution_count": null,
   "metadata": {},
   "outputs": [],
   "source": [
    "peak_I_d_D"
   ]
  },
  {
   "cell_type": "markdown",
   "metadata": {},
   "source": [
    "## VMI"
   ]
  },
  {
   "cell_type": "code",
   "execution_count": null,
   "metadata": {},
   "outputs": [],
   "source": [
    "VMIneed = [[simulation[i].V_d[j] + simulation[i].Icr_D_d[j] for j in range(len(simulation[i].V))]  for i in range(len(renewalFactor))]"
   ]
  },
  {
   "cell_type": "code",
   "execution_count": null,
   "metadata": {},
   "outputs": [],
   "source": [
    "for i in range(len(simulation)):\n",
    "    plt.plot(dates[i],VMIneed[i],label='RenewalFactor: '+str(renewalFactor[i]),color=colors[i])\n",
    "plt.axvline(x = SPchange_date, linestyle = 'dotted',color = 'grey',label='Inicio Apertura')\n",
    "plt.axvline(x = fiestaspatrias, linestyle = 'dotted',color = 'red',label='18 Sept')\n",
    "plt.axvline(x = plebiscito, linestyle = 'dotted',color = 'blue',label='Plebiscito')\n",
    "plt.title('New VMI daily need')\n",
    "plt.legend(loc=0)\n",
    "plt.show()"
   ]
  },
  {
   "cell_type": "code",
   "execution_count": null,
   "metadata": {},
   "outputs": [],
   "source": [
    "peakdates_VMI = [dates[i][np.where(simulation[i].V==max(simulation[i].V[idx[i]:]))[0][0]] for i in range(len(renewalFactor))]"
   ]
  },
  {
   "cell_type": "code",
   "execution_count": null,
   "metadata": {},
   "outputs": [],
   "source": [
    "peakdates_VMI"
   ]
  },
  {
   "cell_type": "code",
   "execution_count": null,
   "metadata": {},
   "outputs": [],
   "source": [
    "peak_VMI = [simulation[i].V[np.where(simulation[i].V==max(simulation[i].V[idx[i]:]))[0][0]] for i in range(len(renewalFactor))]"
   ]
  },
  {
   "cell_type": "code",
   "execution_count": null,
   "metadata": {},
   "outputs": [],
   "source": [
    "peak_VMI "
   ]
  },
  {
   "cell_type": "code",
   "execution_count": null,
   "metadata": {},
   "outputs": [],
   "source": [
    "peak_VMI_I_d = [simulation[i].I_d[np.where(simulation[i].V==max(simulation[i].V[idx[i]:]))[0][0]] for i in range(len(renewalFactor))]"
   ]
  },
  {
   "cell_type": "code",
   "execution_count": null,
   "metadata": {},
   "outputs": [],
   "source": [
    "peak_VMI_I_d "
   ]
  },
  {
   "cell_type": "code",
   "execution_count": null,
   "metadata": {},
   "outputs": [],
   "source": [
    "peakdates_VMI_d = [dates[i][np.where(VMIneed[i]==max(VMIneed[i][idx[i]:]))[0][0]] for i in range(len(renewalFactor))]"
   ]
  },
  {
   "cell_type": "code",
   "execution_count": null,
   "metadata": {},
   "outputs": [],
   "source": [
    "peakdates_VMI_d"
   ]
  },
  {
   "cell_type": "code",
   "execution_count": null,
   "metadata": {},
   "outputs": [],
   "source": [
    "peak_VMI_D = [simulation[i].D[np.where(simulation[i].V==max(simulation[i].V[idx[i]:]))[0][0]] for i in range(len(renewalFactor))]"
   ]
  },
  {
   "cell_type": "code",
   "execution_count": null,
   "metadata": {},
   "outputs": [],
   "source": [
    "peak_VMI_D "
   ]
  },
  {
   "cell_type": "code",
   "execution_count": null,
   "metadata": {},
   "outputs": [],
   "source": [
    "state.Dr_hosp"
   ]
  },
  {
   "cell_type": "markdown",
   "metadata": {},
   "source": [
    "## Peak Deaths\n"
   ]
  },
  {
   "cell_type": "code",
   "execution_count": null,
   "metadata": {},
   "outputs": [],
   "source": [
    "peak_D = [simulation[i].D[np.where(simulation[i].D==max(simulation[i].D[idx[i]:]))[0][0]] for i in range(len(renewalFactor))]\n",
    "peak_D_dates = [dates[i][np.where(simulation[i].D==max(simulation[i].D[idx[i]:]))[0][0]] for i in range(len(renewalFactor))]\n",
    "peak_D_VMI = [simulation[i].V[np.where(simulation[i].D==max(simulation[i].D[idx[i]:]))[0][0]] for i in range(len(renewalFactor))]\n",
    "peak_D_I_d = [simulation[i].I_d[np.where(simulation[i].D==max(simulation[i].D[idx[i]:]))[0][0]] for i in range(len(renewalFactor))]"
   ]
  },
  {
   "cell_type": "code",
   "execution_count": null,
   "metadata": {},
   "outputs": [],
   "source": [
    "peak_D"
   ]
  },
  {
   "cell_type": "code",
   "execution_count": null,
   "metadata": {},
   "outputs": [],
   "source": [
    "peak_D_dates"
   ]
  },
  {
   "cell_type": "code",
   "execution_count": null,
   "metadata": {},
   "outputs": [],
   "source": [
    "peak_D_VMI"
   ]
  },
  {
   "cell_type": "code",
   "execution_count": null,
   "metadata": {},
   "outputs": [],
   "source": [
    "peak_D_I_d\n"
   ]
  },
  {
   "cell_type": "code",
   "execution_count": null,
   "metadata": {},
   "outputs": [],
   "source": [
    "for i in range(len(simulation)):\n",
    "    plt.plot(dates[i],simulation[i].D,label='RenewalFactor: '+str(renewalFactor[i]),color=colors[i])\n",
    "plt.axvline(x = SPchange_date, linestyle = 'dotted',color = 'grey',label='Inicio Apertura')\n",
    "plt.axvline(x = fiestaspatrias, linestyle = 'dotted',color = 'red',label='18 Sept')\n",
    "plt.axvline(x = plebiscito, linestyle = 'dotted',color = 'blue',label='Plebiscito')\n",
    "plt.title('Daily Deaths')\n",
    "plt.legend(loc=0)\n",
    "plt.show()"
   ]
  },
  {
   "cell_type": "markdown",
   "metadata": {},
   "source": [
    "## Single plots"
   ]
  },
  {
   "cell_type": "markdown",
   "metadata": {},
   "source": [
    "### SEIRD"
   ]
  },
  {
   "cell_type": "code",
   "execution_count": null,
   "metadata": {},
   "outputs": [],
   "source": [
    "plt.plot(simulation1.t,simulation1.S,label='S')\n",
    "plt.plot(simulation1.t,simulation1.E,label='E')\n",
    "plt.plot(simulation1.t,simulation1.I,label='I')\n",
    "plt.plot(simulation1.t,simulation1.R,label='R')\n",
    "plt.plot(simulation1.t,simulation1.B,label='B')\n",
    "plt.axvline(x = t_end, linestyle = 'dotted',color = 'grey')\n",
    "plt.title('SEIRD')\n",
    "plt.legend(loc=0)\n",
    "plt.show()"
   ]
  },
  {
   "cell_type": "markdown",
   "metadata": {},
   "source": [
    "### Daily Deaths"
   ]
  },
  {
   "cell_type": "code",
   "execution_count": null,
   "metadata": {},
   "outputs": [],
   "source": [
    "plt.plot(simulation1.t,simulation1.D,label='sim1')\n",
    "plt.title('Deaths')\n",
    "plt.show()"
   ]
  },
  {
   "cell_type": "markdown",
   "metadata": {},
   "source": [
    "### VMI Usage"
   ]
  },
  {
   "cell_type": "code",
   "execution_count": null,
   "metadata": {},
   "outputs": [],
   "source": [
    "plt.plot(simulation1.t,simulation1.V_cap,label='VMI capacity sim1')\n",
    "plt.plot(simulation1.t,simulation1.V,label='VMI sim1')\n",
    "plt.legend(loc=0)\n",
    "plt.title('VMI')\n",
    "plt.scatter(state.sochimi_tr,state.Vr,label='Real Data')\n",
    "plt.scatter(state.sochimi_tr,state.Vr_tot,label='Real Data')\n",
    "plt.show()"
   ]
  },
  {
   "cell_type": "markdown",
   "metadata": {},
   "source": [
    "### Hospitalization"
   ]
  },
  {
   "cell_type": "code",
   "execution_count": null,
   "metadata": {},
   "outputs": [],
   "source": [
    "plt.plot(simulation1.t,simulation1.H_cap,label='sim1')\n",
    "plt.plot(simulation1.t,simulation1.Hse+simulation1.Hout,label='UCI/UTI Beds')\n",
    "plt.legend(loc=0)\n",
    "plt.title('Hospitalization')\n",
    "\n",
    "plt.scatter(state.sochimi_tr,state.Hr,label='Real Data')\n",
    "plt.scatter(state.sochimi_tr,state.Hr_tot,label='Real Data')\n",
    "plt.show()"
   ]
  },
  {
   "cell_type": "markdown",
   "metadata": {},
   "source": [
    "### Deaths by cause"
   ]
  },
  {
   "cell_type": "code",
   "execution_count": null,
   "metadata": {},
   "outputs": [],
   "source": [
    "plt.plot(simulation1.t,simulation1.D,label='sim1')\n",
    "plt.plot(simulation1.t,simulation1.V_D_d,label='V_D sim1')\n",
    "plt.plot(simulation1.t,simulation1.Hse_D_d,label='Hse_D sim1')\n",
    "plt.plot(simulation1.t,simulation1.Icr_D_d,label='Icr_D sim1')\n",
    "plt.plot(simulation1.t,simulation1.Ise_D_d,label='Ise_D sim1')\n",
    "\n",
    "plt.legend(loc=0)\n",
    "plt.title('Deaths by cause')\n",
    "plt.show()"
   ]
  },
  {
   "cell_type": "markdown",
   "metadata": {},
   "source": [
    "### Hospital saturation"
   ]
  },
  {
   "cell_type": "code",
   "execution_count": null,
   "metadata": {},
   "outputs": [],
   "source": [
    "plt.plot(simulation1.t,simulation1.H_sat,label='HSat')\n",
    "plt.plot(simulation1.t,simulation1.V_sat,label='Vsat')\n",
    "plt.legend(loc=0)\n",
    "plt.title('Saturation')\n",
    "plt.show()"
   ]
  },
  {
   "cell_type": "markdown",
   "metadata": {},
   "source": [
    "## Peak Date"
   ]
  },
  {
   "cell_type": "code",
   "execution_count": null,
   "metadata": {},
   "outputs": [],
   "source": [
    "peakidx = np.where(state.Ir==max(state.Ir))[0][0]\n",
    "datapeakdate = state.sochimi_dates[peakidx]"
   ]
  },
  {
   "cell_type": "code",
   "execution_count": null,
   "metadata": {},
   "outputs": [],
   "source": [
    "datapeakdate"
   ]
  },
  {
   "cell_type": "code",
   "execution_count": null,
   "metadata": {},
   "outputs": [],
   "source": [
    "simulation.peak_date"
   ]
  },
  {
   "cell_type": "code",
   "execution_count": null,
   "metadata": {},
   "outputs": [],
   "source": [
    "datapeakdate"
   ]
  },
  {
   "cell_type": "code",
   "execution_count": null,
   "metadata": {},
   "outputs": [],
   "source": [
    "Peak_delta = (simulation.peak_date -datapeakdate).days"
   ]
  },
  {
   "cell_type": "code",
   "execution_count": null,
   "metadata": {},
   "outputs": [],
   "source": [
    "Peak_delta"
   ]
  }
 ],
 "metadata": {
  "kernelspec": {
   "display_name": "Python 3",
   "language": "python",
   "name": "python3"
  },
  "language_info": {
   "codemirror_mode": {
    "name": "ipython",
    "version": 3
   },
   "file_extension": ".py",
   "mimetype": "text/x-python",
   "name": "python",
   "nbconvert_exporter": "python",
   "pygments_lexer": "ipython3",
   "version": "3.8.3"
  }
 },
 "nbformat": 4,
 "nbformat_minor": 4
}
