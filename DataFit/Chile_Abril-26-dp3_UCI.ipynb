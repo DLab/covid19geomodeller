{
 "cells": [
  {
   "cell_type": "markdown",
   "metadata": {},
   "source": [
    "# SEIRHVD Data Fit\n",
    "\n",
    "This Jupyter notebooks implements the SEIRHVD model for fitting the actual Chilean data in order to make projections in VMI and bed usage, amount of infected and deaths. This model uses the SEIRHVD 4.1 version. A visual representation of the model is available at: [SEIRHVD Miró Model](https://miro.com/app/board/o9J_ktzN4xA=/)\n",
    "\n",
    "This implements a single instance to facilitate understanding the model prior to run multiple data fittings at a time.\n",
    "\n"
   ]
  },
  {
   "cell_type": "code",
   "execution_count": 2,
   "metadata": {},
   "outputs": [
    {
     "name": "stdout",
     "output_type": "stream",
     "text": [
      "Linux\n"
     ]
    }
   ],
   "source": [
    "import numpy as np\n",
    "import pandas as pd\n",
    "import matplotlib.pyplot as plt\n",
    "import matplotlib.dates as mdates \n",
    "from datetime import datetime\n",
    "from numpy import linalg as LA\n",
    "import multiprocessing\n",
    "from joblib import Parallel, delayed\n",
    "from datetime import timedelta\n",
    "\n",
    "import platform\n",
    "OS = platform.system()\n",
    "\n",
    "import matplotlib.pyplot as plt\n",
    "if OS == 'Linux':    \n",
    "    %matplotlib tk\n",
    "    print('Linux')\n",
    "elif OS == 'Windows':\n",
    "    %matplotlib qt\n",
    "    print('Windows')\n",
    "elif OS == 'Darwin':\n",
    "    %matplotlib tk\n",
    "    print('Mac (Funciona?)')\n",
    "else:\n",
    "    print('OS not detected :-|')\n",
    "\n",
    "import sys\n",
    "from pathlib import Path\n",
    "sys.path.insert(1, '../src/SEIRHVD/')\n",
    "sys.path.insert(1, '../src/utils/')\n",
    "sys.path.insert(1, 'src/SEIRHVD/')\n",
    "sys.path.insert(1, 'src/utils/')\n",
    "\n",
    "from class_SEIRHUVD5 import SEIRHVD \n",
    "from Quarantine import Quarantine\n",
    "from Quarantine import SeroPrevDynamics\n",
    "from importdata import ImportData\n",
    "import Events\n",
    "\n",
    "import json\n",
    "from pandas.core.base import DataError\n",
    "import requests\n",
    "from requests.auth import HTTPBasicAuth\n",
    "import pandas as pd\n",
    "import matplotlib\n",
    "\n",
    "from datetime import date\n",
    "\n",
    "import copy"
   ]
  },
  {
   "cell_type": "markdown",
   "metadata": {},
   "source": [
    "## Time Variables\n",
    "Declare Initial date for simulating and data fitting"
   ]
  },
  {
   "cell_type": "code",
   "execution_count": 3,
   "metadata": {},
   "outputs": [],
   "source": [
    "# First simulation Initial date\n",
    "initdate = datetime(2021,3,15)\n",
    "# Date for change in SeroPrevalence\n",
    "SPchange_date = datetime(2020,7,25)\n",
    "\n",
    "# Current date\n",
    "currentdate = datetime.now()\n",
    "currentday = (currentdate - initdate).days\n",
    "\n",
    "fiestaspatrias = datetime(2020,9,18)\n",
    "fiestaspatrias_day = (fiestaspatrias-initdate).days\n",
    "plebiscito = datetime(2020,10,25)\n",
    "plebiscito_day = (plebiscito-initdate).days\n",
    "\n",
    "navidad = datetime(2020,12,25)\n",
    "navidad_day = (navidad-initdate).days\n",
    "\n",
    "newyear = datetime(2020,12,31)\n",
    "newyear_day = (newyear-initdate).days\n",
    "\n",
    "today = datetime.today()\n",
    "today_day = (today-initdate).days"
   ]
  },
  {
   "cell_type": "markdown",
   "metadata": {},
   "source": [
    "## Import Data\n",
    "To import data we use an ImportData object which is initialized with the region's cut and the initial date. state region is represented by cut = 14."
   ]
  },
  {
   "cell_type": "code",
   "execution_count": 126,
   "metadata": {},
   "outputs": [],
   "source": [
    "def dataretriever(user=None,password=None):\n",
    "    # Esta funcion devolvera una funcion de request        \n",
    "    def request(endpoint):\n",
    "        if user:\n",
    "            aux = requests.get('https://api.cv19gm.org/'+endpoint, auth=HTTPBasicAuth(user, password))\n",
    "            if aux.status_code == 401:\n",
    "                raise Exception('Wrong Credentials')\n",
    "            else:\n",
    "                print('Logged in successfully')\n",
    "        else:\n",
    "            aux = requests.get('http://192.168.2.223:5006/'+endpoint)\n",
    "        return aux\n",
    "    return request\n",
    "def timeJStoPy(t):\n",
    "    return datetime.strptime(t[:10],'%Y-%m-%d')\n",
    "def timetxttoDatetime(t):\n",
    "    return datetime.strptime(t,'%Y-%m-%d')"
   ]
  },
  {
   "cell_type": "code",
   "execution_count": 127,
   "metadata": {
    "scrolled": true
   },
   "outputs": [
    {
     "name": "stdout",
     "output_type": "stream",
     "text": [
      "Importing data from all regions\n",
      "Importing General Data\n",
      "Importing Population\n",
      "Importing Active infected\n",
      "Importing Accumulated Infected\n",
      "Importing Daily Infected\n",
      "Importing ICU Beds Data\n",
      "Importing Deaths by DEIS\n",
      "Importing Active Infected by Minciencia\n",
      "Done\n",
      "Importing Daily Infected\n"
     ]
    }
   ],
   "source": [
    "print('Importing data from all regions')\n",
    "#tstate = ['01','02','03','04','05','06','07','08','09','10','11','12','13','14','15','16']\n",
    "tstate = '13'\n",
    "# Import Data\n",
    "state = ImportData(tstate=tstate,initdate = initdate)\n",
    "state.importdata()\n",
    "\n",
    "state.importDailyInfectedNacional()\n",
    "state.name = 'Chile'"
   ]
  },
  {
   "cell_type": "markdown",
   "metadata": {},
   "source": [
    "### Datos de Hospitalizados a fitear"
   ]
  },
  {
   "cell_type": "markdown",
   "metadata": {},
   "source": []
  },
  {
   "cell_type": "code",
   "execution_count": 128,
   "metadata": {},
   "outputs": [],
   "source": [
    "capacidadUCIcovid = 2600\n",
    "state.Hr = 1000\n",
    "state.Hr_tot = [10000,10000]\n",
    "state.Vr = state.UCI_use_covid\n",
    "state.Vr_tot = capacidadUCIcovid - np.array(state.UCI_use_noncovid)#[4000]*len(state.UCI_use_covid)#state.UCI_capacity\n",
    "state.UCI_non_covid = state.UCI_use_noncovid\n",
    "state.sochimi_tr = state.UCI_tr#[-2:]\n",
    "state.sochimi_dates = state.UCI_dates"
   ]
  },
  {
   "cell_type": "markdown",
   "metadata": {},
   "source": [
    "## Infectados Diarios y Acumulados"
   ]
  },
  {
   "cell_type": "code",
   "execution_count": 129,
   "metadata": {},
   "outputs": [],
   "source": [
    "confirmado_nac = producto3[(producto3['Region']=='Total')&(producto3['Categoria']=='Casos acumulados')].iloc[:,2:].sum()\n",
    "antigeno_nac = producto3[(producto3['Region']=='Total')&(producto3['Categoria']=='Casos confirmados por antigeno')].iloc[:,2:].sum()\n",
    "probables_nac = producto3[(producto3['Region']=='Total')&(producto3['Categoria']=='Casos probables acumulados')].iloc[:,2:].sum()\n",
    "\n",
    "I_ac_nac = confirmado_nac+antigeno_nac+probables_nac\n",
    "I_act_nac_roll = I_ac_nac.diff(periods=11).rolling(7).mean().dropna()\n"
   ]
  },
  {
   "cell_type": "code",
   "execution_count": 130,
   "metadata": {},
   "outputs": [
    {
     "data": {
      "text/plain": [
       "<matplotlib.legend.Legend at 0x7fd5f6cafd60>"
      ]
     },
     "execution_count": 130,
     "metadata": {},
     "output_type": "execute_result"
    }
   ],
   "source": [
    "I_act_nac_roll.plot(label='confirmados+antigenos+probables')\n",
    "confirmado_nac.diff(periods=11).rolling(7).mean().dropna().plot(label='confirmados')\n",
    "plt.title('Activos')\n",
    "plt.legend(loc=0)"
   ]
  },
  {
   "cell_type": "code",
   "execution_count": 131,
   "metadata": {},
   "outputs": [],
   "source": [
    "endpoint ='https://raw.githubusercontent.com/MinCiencia/Datos-COVID19/master/output/producto3/TotalesPorRegion.csv'\n",
    "producto3 = pd.read_csv(endpoint)\n",
    "I_ac_confirmado = producto3[(producto3['Region']=='Metropolitana')&(producto3['Categoria']=='Casos acumulados')]\n",
    "I_antigeno_ac = producto3[(producto3['Region']=='Metropolitana')&(producto3['Categoria']=='Casos confirmados por antigeno')]\n",
    "I_probables_ac = producto3[(producto3['Region']=='Metropolitana')&(producto3['Categoria']=='Casos probables acumulados')]"
   ]
  },
  {
   "cell_type": "code",
   "execution_count": 132,
   "metadata": {},
   "outputs": [],
   "source": [
    "initday = (initdate-pd.to_datetime(I_ac_confirmado.iloc[0].index[2], format='%Y-%m-%d')).days\n",
    "#I_ac = I_ac_confirmado.iloc[0][initday:] + I_antigeno_ac.iloc[0][initday:] + I_probables_ac.iloc[0][initday:]\n",
    "I_ac = I_ac_confirmado.iloc[0][3:] + I_antigeno_ac.iloc[0][3:] + I_probables_ac.iloc[0][3:]\n",
    "I_ac.index = pd.to_datetime(I_ac.index, format='%Y-%m-%d')\n",
    "I_d = I_ac.diff(periods=1)\n",
    "I_act = I_ac.diff(periods=11)\n",
    "I_d_roll = I_d.rolling(7).mean()\n",
    "I_act_roll = I_act.rolling(7).mean()\n",
    "I_d = I_d.loc[I_d.index>=initdate]\n",
    "I_act = I_act.loc[I_act.index>=initdate]\n",
    "I_ac = I_ac.loc[I_ac.index>=initdate]\n",
    "\n",
    "I_d_roll = I_d_roll.loc[I_d_roll.index>=initdate]\n",
    "I_act_roll = I_act_roll.loc[I_act_roll.index>=initdate]\n",
    "\n",
    "state.I_d_r = I_d_roll\n",
    "state.I_d_r_dates = I_d_roll.index\n",
    "state.I_d_r_tr = [(I_d_roll.index[i]-initdate).days for i in range(len(I_d_roll))]\n",
    "\n",
    "state.Ir = I_act_roll\n",
    "state.Ir_dates = I_act_roll.index\n",
    "state.tr =  [(I_act_roll.index[i]-initdate).days for i in range(len(I_act_roll))]\n",
    "\n",
    "state.I_ac_r = I_ac\n",
    "state.I_ac_r_dates = I_ac.index\n",
    "state.I_ac_r_tr = [(I_ac.index[i]-initdate).days for i in range(len(I_ac))]"
   ]
  },
  {
   "cell_type": "markdown",
   "metadata": {},
   "source": [
    "# Importante:\n",
    "valores al 26 de Abril\n",
    "Casos activos calculados con probables y antigenos: 38657\n",
    "Casos activos confirmados publicados: 15810\n",
    "Casos activos calculado solo con los casos acumulados: 28170\n",
    "\n",
    "Activos_confirmados = producto3[(producto3['Region']=='Metropolitana')&(producto3['Categoria']=='Casos activos confirmados')]\n",
    "Activos_desdeacumulados = producto3[(producto3['Region']=='Metropolitana')&(producto3['Categoria']=='Casos acumulados')].iloc[0][initday:].diff(periods=11)"
   ]
  },
  {
   "cell_type": "markdown",
   "metadata": {},
   "source": [
    "## Subreport"
   ]
  },
  {
   "cell_type": "code",
   "execution_count": 133,
   "metadata": {},
   "outputs": [],
   "source": [
    "Imi_det = 1#0.4\n",
    "Ias_det = 1#0.1\n",
    "Ise_det = 1\n",
    "Icr_det = 1"
   ]
  },
  {
   "cell_type": "markdown",
   "metadata": {},
   "source": [
    "# Parameters"
   ]
  },
  {
   "cell_type": "code",
   "execution_count": 154,
   "metadata": {},
   "outputs": [],
   "source": [
    "# Total simulation time\n",
    "tsim = 1000\n",
    "\n",
    "beta = 1\n",
    "mu = 0.325#5 #list(np.arange(0.2,0.4,0.01))#0.4\n",
    "k_I = 0\n",
    "k_R = 0#10\n",
    "SeroPrevFactor = 0.6#1\n",
    "expinfection=0 # Proportion in which the exposed infect - 0: nothing, 1: equally as Infected"
   ]
  },
  {
   "cell_type": "markdown",
   "metadata": {},
   "source": [
    "## Quarantines"
   ]
  },
  {
   "cell_type": "code",
   "execution_count": 205,
   "metadata": {},
   "outputs": [],
   "source": [
    "mob_dates = [initdate,datetime(2021,4,18),initdate+timedelta(days=tsim)]\n",
    "mob_days = []\n",
    "for i in range(len(mob_dates)-1):\n",
    "    d1 = (mob_dates[i]-initdate).days\n",
    "    d2 = (mob_dates[i+1]-initdate).days\n",
    "    mob_days.append([d1,d2])\n",
    "\n",
    "mobility = [0.018]\n",
    "\n",
    "escenarios = [20,40,60,80,90,100]\n",
    "alpha_var = escenarios\n",
    "alpha_new = [Events.Events(values=mobility +[i*mobility[-1]/100],days=mob_days) for i in escenarios]\n",
    "\n",
    "title = 'Ajuste por uso UCI'"
   ]
  },
  {
   "cell_type": "code",
   "execution_count": 206,
   "metadata": {},
   "outputs": [
    {
     "data": {
      "text/plain": [
       "0.009"
      ]
     },
     "execution_count": 206,
     "metadata": {},
     "output_type": "execute_result"
    }
   ],
   "source": [
    "alpha_new[0](0)"
   ]
  },
  {
   "cell_type": "markdown",
   "metadata": {},
   "source": [
    "# Plot Movilidad"
   ]
  },
  {
   "cell_type": "code",
   "execution_count": 207,
   "metadata": {},
   "outputs": [],
   "source": [
    "if False:\n",
    "    datelinewidth = 1\n",
    "    t = np.array(np.arange(0,240,0.1))\n",
    "    alphaplot= [[j(i) for i in t] for j in alpha_new]\n",
    "    for f in alphaplot:\n",
    "        plt.plot(t,f)\n",
    "    #for f in alphaplot_UK:\n",
    "        #plt.plot(t,f,linestyle='dashed') \n",
    "    plt.axvline(x = navidad_day, linestyle = 'dotted',color = 'red',label='Navidad',linewidth=datelinewidth)\n",
    "    plt.axvline(x = newyear_day, linestyle = 'dotted',color = 'blue',label='Año Nuevo',linewidth=datelinewidth)\n",
    "    #plt.axvline(x = mitadvacaciones_day, linestyle = 'dotted',color = 'green',label='15 Febrero',linewidth=datelinewidth)\n",
    "\n",
    "    plt.tick_params(labelsize=18)\n",
    "    plt.legend(loc=0)\n",
    "    plt.title('Mobility-beta',fontsize=20)\n",
    "    plt.show()\n"
   ]
  },
  {
   "cell_type": "markdown",
   "metadata": {},
   "source": [
    "## SeroPrevalence Dynamics\n",
    "The susceptibles increase through a step function which last for the specified amount of days. Throughout these days it adds a \"dailyincrease\" amount of persons each day.\n",
    "\n",
    "The total increase of people is increasedays*dailyincrease"
   ]
  },
  {
   "cell_type": "code",
   "execution_count": 208,
   "metadata": {},
   "outputs": [],
   "source": [
    "def aux(t):\n",
    "    return 0\n",
    "\n",
    "chi = aux"
   ]
  },
  {
   "cell_type": "markdown",
   "metadata": {},
   "source": [
    "#### Plot Susceptible Dynamics"
   ]
  },
  {
   "cell_type": "markdown",
   "metadata": {},
   "source": [
    "# State transition parameters:"
   ]
  },
  {
   "cell_type": "markdown",
   "metadata": {},
   "source": [
    "#state parameters: \n",
    "pE_Ias = 0.43 # Transition from exposed to Asymptomatic Infected\n",
    "tE_Ias = 3.0\n",
    "pE_Imi = 0.53 # Transition from exposed to  Mild Infected\n",
    "tE_Imi = 3.0\n",
    "pE_Icr = 0.0065 # Transition from exposed to  Critical Infected\n",
    "tE_Icr = 3.0\n",
    "pE_Ise = 0.0335# Transition from exposed to  Serious Infected\n",
    "tE_Ise = 3.0\n",
    "pIas_R = 1.0   # Transition from Asymptomatic Infected to Recovered\n",
    "tIas_R = 5.0\n",
    "pImi_R = 1.0  # Transition from Mild Infected to Recovered\n",
    "tImi_R = 5.0\n",
    "pIse_Hse = 1 # Transition from Serious Infected to Serious Hospitalized (When Hospital capacity is not saturated)\n",
    "tIse_Hse = 5.0\n",
    "pIse_D = 1.0  # Transition from Serious Infected to Death (When Hospital capacity is saturated)\n",
    "tIse_D = 3.0\n",
    "pIcr_V = 1.0  # Transition from Critical Infected to Ventilator (When Ventilators capacity is not saturated)\n",
    "tIcr_V = 3.0\n",
    "pIcr_D = 1.0  # Transition from Serious Infected to Death (When Ventilators capacity is saturated)\n",
    "tIcr_D = 3.0\n",
    "pHse_R = 0.97 # Transition from Serious Hospitalized to Recovered\n",
    "tHse_R = 3.5\n",
    "pHse_V = 0.03# Transition from Serious Hospitalized to Ventilators (When Ventilators capacity is not saturated)\n",
    "tHse_V = 4.0\n",
    "pHse_D = 0.85# Transition from Serious Hospitalized to Death (When Ventilators capacity is saturated)\n",
    "tHse_D = 4.0\n",
    "pV_Hout = 0.45  # Transition from Ventilators to Hospital Recovery (Hout)\n",
    "tV_Hout = 16.0\n",
    "pV_D = 0.55 # Transition from Ventilators to Death\n",
    "tV_D = 12.0\n",
    "pHout_R = 1.0 # Transition from Hospital Recovery (Hout) to Recovered\n",
    "tHout_R = 10.0"
   ]
  },
  {
   "cell_type": "code",
   "execution_count": 209,
   "metadata": {},
   "outputs": [],
   "source": [
    "#state parameters: \n",
    "pE_Ias = 0.30 # Transition from exposed to Asymptomatic Infected\n",
    "tE_Ias = 3.0\n",
    "pE_Imi = 0.55 # Transition from exposed to  Mild Infected\n",
    "tE_Imi = 3.0\n",
    "pE_Icr = 0.05 # Transition from exposed to  Critical Infected\n",
    "tE_Icr = 3.0\n",
    "pE_Ise = 0.10 # Transition from exposed to  Serious Infected\n",
    "tE_Ise = 3.0\n",
    "pIas_R = 1.0  # Transition from Asymptomatic Infected to Recovered\n",
    "tIas_R = 12.0\n",
    "pImi_R = 1.0  # Transition from Mild Infected to Recovered\n",
    "tImi_R = 12.0\n",
    "pIse_Hse = 1 # Transition from Serious Infected to Serious Hospitalized (When Hospital capacity is not saturated)\n",
    "tIse_Hse = 11.0\n",
    "pIse_D = 1.0  # Transition from Serious Infected to Death (When Hospital capacity is saturated)\n",
    "tIse_D = 11.0\n",
    "pIcr_V = 1.0  # Transition from Critical Infected to Ventilator (When Ventilators capacity is not saturated)\n",
    "tIcr_V = 11.0\n",
    "pIcr_D = 1.0  # Transition from Serious Infected to Death (When Ventilators capacity is saturated)\n",
    "tIcr_D = 11.0\n",
    "pHse_R = 0.97 # Transition from Serious Hospitalized to Recovered\n",
    "tHse_R = 3.5\n",
    "pHse_V = 0.03# Transition from Serious Hospitalized to Ventilators (When Ventilators capacity is not saturated)\n",
    "tHse_V = 4.0\n",
    "pHse_D = 0.85# Transition from Serious Hospitalized to Death (When Ventilators capacity is saturated)\n",
    "tHse_D = 4.0\n",
    "pV_Hout = 0.7  # Transition from Ventilators to Hospital Recovery (Hout)\n",
    "tV_Hout = 14.0\n",
    "pV_D = 0.3 # Transition from Ventilators to Death\n",
    "tV_D = 12.0\n",
    "pHout_R = 1.0 # Transition from Hospital Recovery (Hout) to Recovered\n",
    "tHout_R = 10.0"
   ]
  },
  {
   "cell_type": "markdown",
   "metadata": {},
   "source": [
    "### Tiempo medio Infeccioso"
   ]
  },
  {
   "cell_type": "code",
   "execution_count": 210,
   "metadata": {},
   "outputs": [
    {
     "data": {
      "text/plain": [
       "1.0"
      ]
     },
     "execution_count": 210,
     "metadata": {},
     "output_type": "execute_result"
    }
   ],
   "source": [
    "pE_Ias+pE_Imi+pE_Ise+pE_Icr"
   ]
  },
  {
   "cell_type": "code",
   "execution_count": 211,
   "metadata": {},
   "outputs": [
    {
     "data": {
      "text/plain": [
       "11.85"
      ]
     },
     "execution_count": 211,
     "metadata": {},
     "output_type": "execute_result"
    }
   ],
   "source": [
    "pE_Ias*tIas_R + pE_Imi*tImi_R  + pE_Ise*tIse_Hse + pE_Icr*tIcr_V"
   ]
  },
  {
   "cell_type": "markdown",
   "metadata": {},
   "source": [
    "# Simulation\n",
    "\n",
    "## Initial SeroPrev period\n",
    "Initialize Simulation Object, set params and run the simulation. "
   ]
  },
  {
   "cell_type": "code",
   "execution_count": 212,
   "metadata": {},
   "outputs": [
    {
     "name": "stdout",
     "output_type": "stream",
     "text": [
      "InitialCondition Object Data\n",
      "InitialCondition Object Data\n",
      "InitialCondition Object Data\n",
      "InitialCondition Object Data\n",
      "InitialCondition Object Data\n",
      "InitialCondition Object Data\n"
     ]
    }
   ],
   "source": [
    "simulation = [SEIRHVD(tsim,beta,mu,alpha_new[i],k_I=k_I,k_R = k_R, chi = chi,                      \n",
    "                      SeroPrevFactor=SeroPrevFactor,expinfection=expinfection,initdate = initdate,\n",
    "                      Imi_det = Imi_det,Ias_det = Ias_det,RealIC=state) for i in range(len(alpha_new))]"
   ]
  },
  {
   "cell_type": "markdown",
   "metadata": {},
   "source": [
    "Modify simulation state parameters"
   ]
  },
  {
   "cell_type": "code",
   "execution_count": 213,
   "metadata": {},
   "outputs": [
    {
     "name": "stdout",
     "output_type": "stream",
     "text": [
      "Compartimental model State parameters changed\n",
      "Compartimental model State parameters changed\n",
      "Compartimental model State parameters changed\n",
      "Compartimental model State parameters changed\n",
      "Compartimental model State parameters changed\n",
      "Compartimental model State parameters changed\n"
     ]
    }
   ],
   "source": [
    "for i in range(len(simulation)):\n",
    "    simulation[i].pE_Ias=pE_Ias\n",
    "    simulation[i].tE_Ias=tE_Ias\n",
    "    simulation[i].pE_Imi=pE_Imi\n",
    "    simulation[i].tE_Imi=tE_Imi\n",
    "    simulation[i].pE_Icr=pE_Icr\n",
    "    simulation[i].tE_Icr=tE_Icr\n",
    "    simulation[i].pE_Ise=pE_Ise\n",
    "    simulation[i].tE_Ise=tE_Ise\n",
    "    simulation[i].pIas_R=pIas_R\n",
    "    simulation[i].tIas_R =tIas_R\n",
    "    simulation[i].pImi_R=pImi_R\n",
    "    simulation[i].tImi_R =tImi_R\n",
    "    simulation[i].pIse_Hse=pIse_Hse\n",
    "    simulation[i].tIse_Hse=tIse_Hse\n",
    "    simulation[i].pIse_D=pIse_D\n",
    "    simulation[i].tIse_D=tIse_D\n",
    "    simulation[i].pIcr_V=pIcr_V\n",
    "    simulation[i].tIcr_V=tIcr_V\n",
    "    simulation[i].pIcr_D=pIcr_D\n",
    "    simulation[i].tIcr_D=tIcr_D\n",
    "    simulation[i].pHse_R=pHse_R\n",
    "    simulation[i].tHse_R =tHse_R\n",
    "    simulation[i].pHse_V=pHse_V\n",
    "    simulation[i].tHse_V=tHse_V\n",
    "    simulation[i].pHse_D=pHse_D\n",
    "    simulation[i].tHse_D=tHse_D\n",
    "    simulation[i].pV_Hout=pV_Hout\n",
    "    simulation[i].tV_Hout =tV_Hout\n",
    "    simulation[i].pV_D=pV_D\n",
    "    simulation[i].tV_D =tV_D\n",
    "    simulation[i].pHout_R=pHout_R\n",
    "    simulation[i].tHout_R=tHout_R\n",
    "    simulation[i].setnewparams()"
   ]
  },
  {
   "cell_type": "markdown",
   "metadata": {},
   "source": [
    "### Setting new params"
   ]
  },
  {
   "cell_type": "markdown",
   "metadata": {},
   "source": [
    "## Run simulation\n",
    "\n",
    "* **integr_sci**: Fast solver, sometimes stiffness beat it  \n",
    "* **integr:** Slow solver, more robust with stiffness  "
   ]
  },
  {
   "cell_type": "code",
   "execution_count": 214,
   "metadata": {},
   "outputs": [],
   "source": [
    "def simulate(simulation,i,tsim):\n",
    "    simulation[i].integr_sci(0,tsim,0.1)\n",
    "    return simulation[i]"
   ]
  },
  {
   "cell_type": "code",
   "execution_count": 215,
   "metadata": {},
   "outputs": [
    {
     "name": "stdout",
     "output_type": "stream",
     "text": [
      "[Parallel(n_jobs=12)]: Using backend LokyBackend with 12 concurrent workers.\n",
      "[Parallel(n_jobs=12)]: Done   1 tasks      | elapsed:    1.1s\n",
      "[Parallel(n_jobs=12)]: Done   2 out of   6 | elapsed:    1.2s remaining:    2.4s\n",
      "[Parallel(n_jobs=12)]: Done   3 out of   6 | elapsed:    1.4s remaining:    1.4s\n",
      "[Parallel(n_jobs=12)]: Done   4 out of   6 | elapsed:    2.2s remaining:    1.1s\n",
      "[Parallel(n_jobs=12)]: Done   6 out of   6 | elapsed:    3.2s remaining:    0.0s\n",
      "[Parallel(n_jobs=12)]: Done   6 out of   6 | elapsed:    3.2s finished\n",
      "ready\n"
     ]
    }
   ],
   "source": [
    "num_cores = multiprocessing.cpu_count()\n",
    "sims = Parallel(n_jobs=num_cores, verbose=50)(delayed(simulate)(simulation,i,tsim) for i in range(len(simulation)))\n",
    "simulation = sims\n",
    "print('ready')"
   ]
  },
  {
   "cell_type": "markdown",
   "metadata": {},
   "source": [
    "# Analysis"
   ]
  },
  {
   "cell_type": "code",
   "execution_count": 216,
   "metadata": {},
   "outputs": [],
   "source": [
    "saveplot = False\n",
    "if saveplot:\n",
    "    %matplotlib inline\n",
    "#%matplotlib inline\n",
    "%matplotlib tk\n",
    "# Big Screen\n",
    "plt.rcParams[\"figure.figsize\"] = 38.40, 20.56 #19.20,10.80#8,6\n",
    "# Small Screen\n",
    "#plt.rcParams[\"figure.figsize\"] = 19.2, 10.80 #19.20,10.80#8,6\n",
    "plt.rcParams.update({\n",
    "    \"text.usetex\": False,\n",
    "    \"font.family\": \"sans-serif\",\n",
    "    \"font.sans-serif\":[\"Arial\"]})\n"
   ]
  },
  {
   "cell_type": "markdown",
   "metadata": {},
   "source": [
    "# Plot"
   ]
  },
  {
   "cell_type": "code",
   "execution_count": 217,
   "metadata": {},
   "outputs": [],
   "source": [
    "# Days to plot\n",
    "days = 500\n",
    "t_end = 50\n",
    "\n",
    "enddate = initdate + timedelta(days=365)\n",
    "enddate = datetime(2021,7,1)\n",
    "\n",
    "\n",
    "dates = [[initdate+timedelta(days=int(i)) for i in simulation[j].t] for j in range(len(simulation))]\n",
    "SeroPrevalence = [simulation[i].I_ac[-1]/simulation[i].population for i in range(len(simulation))]\n",
    "SeroPrevalenceDet = [simulation[i].I_ac_det[-1]/simulation[i].population for i in range(len(simulation))]"
   ]
  },
  {
   "cell_type": "markdown",
   "metadata": {},
   "source": [
    "### Pantalla"
   ]
  },
  {
   "cell_type": "code",
   "execution_count": 218,
   "metadata": {},
   "outputs": [],
   "source": [
    "pantalla = '1080'\n",
    "if pantalla == '4k':\n",
    "    fontsize_title = 22\n",
    "    fontsize_suptitle = 25\n",
    "    fontsize_label = 18\n",
    "    fontsize_legend = 14\n",
    "\n",
    "#1080\n",
    "elif pantalla == '1080':\n",
    "    fontsize_title = 15\n",
    "    fontsize_suptitle = 16\n",
    "    fontsize_label = 12\n",
    "    fontsize_legend = 12\n",
    "\n",
    "pĺotlinewidth = 2\n",
    "datelinewidth = 1.5"
   ]
  },
  {
   "cell_type": "markdown",
   "metadata": {},
   "source": [
    "# Grid Plot"
   ]
  },
  {
   "cell_type": "code",
   "execution_count": 219,
   "metadata": {},
   "outputs": [],
   "source": [
    "renewalFactor = [0]\n",
    "sim_InfDiario = False\n",
    "sim_InfEPI = True\n",
    "\n",
    "colors = plt.cm.rainbow_r(np.linspace(0,1,len(simulation)))\n",
    "\n",
    "fig, axs = plt.subplots(2, 2)\n",
    "\n",
    "#for i in range(len(simulation)):\n",
    "#    if type(mu) == list:\n",
    "#        axs[0,0].plot(dates[i],simulation[i].I_ac_det,linewidth=pĺotlinewidth,label='mu: '+str(mu[i])+' | SP_R: '+str(round(100*SeroPrevalence[i],2))+'%'+' | SP_D:'+str(round(100*SeroPrevalenceDet[i],2))+'%',color=colors[i])\n",
    "#    if type(alpha_new) == list:\n",
    "#        axs[0,0].plot(dates[i],simulation[i].I_ac_det,linewidth=pĺotlinewidth,label='Movilidad: '+str(escenarios[i])+'%',color=colors[i])\n",
    "#axs[0,0].set_title('Infectados Acumulados',fontsize=fontsize_title)\n",
    "#axs[0,0].set_xlim(initdate,enddate)\n",
    "#axs[0,0].set_ylim(0,3.5e6)\n",
    "\n",
    "for i in range(len(simulation)):\n",
    "    if type(mu) == list:\n",
    "        axs[0,0].plot(dates[i],simulation[i].I_det,linewidth=pĺotlinewidth,label='mu: '+str(mu[i])+' | SP_R: '+str(round(100*SeroPrevalence[i],2))+'%'+' | SP_D:'+str(round(100*SeroPrevalenceDet[i],2))+'%',color=colors[i])\n",
    "    if type(alpha_new) == list:\n",
    "        axs[0,0].plot(dates[i],simulation[i].I_det,linewidth=pĺotlinewidth,label='Movilidad: '+str(escenarios[i])+'%',color=colors[i])\n",
    "axs[0,0].set_title('Infectados Activos',fontsize=fontsize_title)\n",
    "axs[0,0].set_xlim(initdate,enddate)\n",
    "axs[0,0].set_ylim(0,5e4)\n",
    "\n",
    "axs[0,0].axvline(x = datetime(2020,12,25), linestyle = 'dotted',color = 'red',label='Navidad',linewidth=datelinewidth)\n",
    "axs[0,0].axvline(x = datetime(2020,12,31), linestyle = 'dotted',color = 'blue',label='Año Nuevo',linewidth=datelinewidth)\n",
    "#axs[0,0].axvline(x = datetime(2021,2,15), linestyle = 'dotted',color = 'green',label='15 Febrero',linewidth=datelinewidth)\n",
    "\n",
    " \n",
    "\n",
    "#axs[0,0].plot([], [], ' ', label='RF: RenewalFactor')\n",
    "#axs[0,0].plot([], [], ' ', label='SP_R: SeroPrevalence Real')\n",
    "#axs[0,0].plot([], [], ' ', label='SP_D: SeroPrevalence Detected')\n",
    "\n",
    "#if sim_InfEPI:\n",
    "#    axs[0,0].scatter(state.I_ac_r_dates,state.I_ac_r,color='black',label='Informe EPI',zorder=10)\n",
    "\n",
    "#if sim_InfDiario:\n",
    "    # cambiar\n",
    "#    axs[0,0].scatter(I_ac_dates,I_ac,color='grey',label='Informe Diario',zorder=10)\n",
    "\n",
    "axs[0,0].scatter(state.Ir_dates,state.Ir,color='grey',label='Data',zorder=10)\n",
    "\n",
    "axs[0,0].fmt_xdata = mdates.DateFormatter('%Y-%m-%d')\n",
    "axs[0,0].legend(loc='upper left')\n",
    "\n",
    "axs[0,0].grid(color='grey', linestyle='dotted', linewidth=0.5)\n",
    "\n",
    "\n",
    "# Accumulated deaths\n",
    "for i in range(len(simulation)):\n",
    "    if type(mu) == list:\n",
    "        axs[0,1].plot(dates[i],simulation[i].B,label='mu: '+str(mu[i]),color=colors[i],linewidth=pĺotlinewidth)\n",
    "    if type(alpha_new) == list:\n",
    "        axs[0,1].plot(dates[i],simulation[i].B,label='Movilidad: '+str(escenarios[i])+'%',color=colors[i],linewidth=pĺotlinewidth)\n",
    "    \n",
    "axs[0,1].set_title('Fallecidos Acumulados (PCR+)',fontsize=fontsize_title)\n",
    "axs[0,1].set_xlim(initdate,enddate)\n",
    "axs[0,1].set_ylim(0,30000)\n",
    "#axs[0,1].set_ylim(0,1e4)\n",
    "\n",
    "axs[0,1].axvline(x = datetime(2020,12,25), linestyle = 'dotted',color = 'red',label='Navidad',linewidth=datelinewidth)\n",
    "axs[0,1].axvline(x = datetime(2020,12,31), linestyle = 'dotted',color = 'blue',label='Año Nuevo',linewidth=datelinewidth)\n",
    "#axs[0,1].axvline(x = datetime(2021,2,15), linestyle = 'dotted',color = 'green',label='15 Febrero',linewidth=datelinewidth)\n",
    "\n",
    "axs[0,1].scatter(state.Br_dates,state.Br,label='Datos',color='black',zorder=10)\n",
    "\n",
    "axs[0,1].fmt_xdata = mdates.DateFormatter('%Y-%m-%d')\n",
    "axs[0,1].legend(loc='upper left')\n",
    "\n",
    "\n",
    "for i in range(len(simulation)):\n",
    "    if type(mu) == list:\n",
    "        axs[1,0].plot(dates[i],simulation[i].I_d_det,label='mu: '+str(mu[i]),color=colors[i],linewidth=pĺotlinewidth)\n",
    "    if type(alpha_new) == list:\n",
    "        axs[1,0].plot(dates[i],simulation[i].I_d_det,label='Movilidad: '+str(escenarios[i])+'%',color=colors[i],linewidth=pĺotlinewidth)\n",
    "axs[1,0].set_title('Nuevos Infectados Diarios',fontsize=fontsize_title)\n",
    "axs[1,0].set_xlim(initdate,enddate)\n",
    "#axs[1,0].set_ylim(0,1e4)\n",
    "\n",
    "if False:#sim_InfEPI:\n",
    "    axs[1,0].scatter(state.I_d_r_dates,state.I_d_r,label='Informe EPI',color='black',zorder=5)\n",
    "if sim_InfDiario:\n",
    "    axs[1,0].scatter(I_week_ra_dates,I_week_ra,label='Informe diario (RA5D)',color='red',zorder=5)  \n",
    "    axs[1,0].plot(dates_I_d,I_d,label='Informe diario',color='blue',zorder=10,linestyle='dashed')\n",
    "\n",
    "#axs[1,0].scatter(state.I_d_r_dates,state.I_d_r,label='DP5',color='black',zorder=5)\n",
    "axs[1,0].scatter(state.I_d_r_dates,I_d_roll,label='DP5 roll_av 7',color='red',zorder=5)\n",
    "    \n",
    "\n",
    "#axs[1,0].axvline(x = SPchange_date, linestyle = 'dotted',color = 'grey',label='Inicio Apertura')\n",
    "#axs[1,0].axvline(x = datetime(2020,8,22), linestyle = 'dotted',color = 'grey',label='Inicio Cuarentena')\n",
    "#axs[1,0].axvline(x = fiestaspatrias, linestyle = 'dotted',color = 'red',label='18 Sept')\n",
    "#axs[1,0].axvline(x = plebiscito, linestyle = 'dotted',color = 'blue',label='Plebiscito',linewidth=datelinewidth)\n",
    "\n",
    "axs[1,0].axvline(x = datetime(2020,12,25), linestyle = 'dotted',color = 'red',label='Navidad',linewidth=datelinewidth)\n",
    "axs[1,0].axvline(x = datetime(2020,12,31), linestyle = 'dotted',color = 'blue',label='Año Nuevo',linewidth=datelinewidth)\n",
    "#axs[1,0].axvline(x = datetime(2021,2,15), linestyle = 'dotted',color = 'green',label='15 Febrero',linewidth=datelinewidth)\n",
    "\n",
    "#axs[1,0].axvline(x = datetime(2020,7,18), linestyle = 'dotted',color = 'grey',label='Cambio a fase 3')\n",
    "#axs[1,0].axvline(x = datetime(2020,9,11), linestyle = 'dashed',color = 'grey',label='Cambio a fase 4')\n",
    "#axs[1,0].axvline(x = datetime(2020,10,3), linestyle = 'dashdot',color = 'grey',label='Cambio a fase 2')\n",
    "\n",
    "\n",
    "axs[1,0].legend(loc='upper left')\n",
    "\n",
    "axs[1,1].plot(state.UCI_dates,capacidadUCIcovid-np.array(state.UCI_use_noncovid),label='Limite uso COVID',color='black',zorder=10)\n",
    "for i in range(len(simulation)):\n",
    "    if type(mu) == list:\n",
    "        axs[1,1].plot(dates[i],simulation[i].V,label='mu: '+str(mu[i]),color=colors[i],linewidth=pĺotlinewidth)\n",
    "    #axs[1,1].plot(dates[i],simulation[i].V_need,linestyle='dashed',color=colors[i])\n",
    "    if type(alpha_new) == list:\n",
    "        axs[1,1].plot(dates[i],simulation[i].V,label='Mov: '+str(escenarios[i])+'%',color=colors[i],linewidth=pĺotlinewidth)\n",
    "axs[1,1].set_title('Uso UCI',fontsize=fontsize_title)\n",
    "axs[1,1].set_xlim(datetime(2021,3,15),datetime(2021,6,1))\n",
    "axs[1,1].set_ylim(0,2.5e3)\n",
    "\n",
    "axs[1,1].scatter(state.UCI_dates,state.UCI_use_covid,label='Datos',color='black',zorder=10)\n",
    "#axs[1,1].plot(state.UCI_dates,state.UCI_capacity,label='UCI Capacity', linestyle = 'dashed', color = 'grey')\n",
    "axs[1,1].plot(simulation[0].dates,simulation[0].V_cap, linestyle = 'dashed', color = 'black')\n",
    "\n",
    "axs[1,1].axvline(x = datetime(2021,4,25), linestyle = 'dotted',color = 'grey')\n",
    "axs[1,1].axvline(x = datetime(2021,4,30), linestyle = 'dotted',color = 'grey')\n",
    "\n",
    "#axs[1,1].axvline(x = fiestaspatrias, linestyle = 'dotted',color = 'red',label='18 Sept')\n",
    "#axs[1,1].axvline(x = plebiscito, linestyle = 'dotted',color = 'blue',label='Plebiscito',linewidth=datelinewidth)\n",
    "#axs[1,1].axvline(x = datetime(2020,12,25), linestyle = 'dotted',color = 'red',label='Navidad',linewidth=datelinewidth)\n",
    "#axs[1,1].axvline(x = datetime(2020,12,31), linestyle = 'dotted',color = 'blue',label='Año Nuevo',linewidth=datelinewidth)\n",
    "#axs[1,1].axvline(x = datetime(2021,2,15), linestyle = 'dotted',color = 'green',label='15 Febrero',linewidth=datelinewidth)\n",
    "\n",
    "\n",
    "\n",
    "# Format and shit\n",
    "\n",
    "# Grid\n",
    "axs[0,0].grid(color='grey', linestyle='dotted', linewidth=0.5)\n",
    "axs[0,1].grid(color='grey', linestyle='dotted', linewidth=0.5)\n",
    "axs[1,0].grid(color='grey', linestyle='dotted', linewidth=0.5)\n",
    "axs[1,1].grid(color='grey', linestyle='dotted', linewidth=0.5)\n",
    "\n",
    "\n",
    "# Date format\n",
    "axs[0,0].fmt_xdata = mdates.DateFormatter('%d-%m-%Y')\n",
    "axs[0,1].fmt_xdata = mdates.DateFormatter('%d-%m-%Y')\n",
    "axs[1,0].fmt_xdata = mdates.DateFormatter('%d-%m-%Y')\n",
    "axs[1,1].fmt_xdata = mdates.DateFormatter('%d-%m-%Y')\n",
    "\n",
    "# Y axis\n",
    "#axs[0,0].get_yaxis().set_major_formatter(matplotlib.ticker.FuncFormatter(lambda x, p: format(int(x), ',')))\n",
    "axs[0,1].get_yaxis().set_major_formatter(matplotlib.ticker.FuncFormatter(lambda x, p: format(int(x), ',')))\n",
    "axs[1,0].get_yaxis().set_major_formatter(matplotlib.ticker.FuncFormatter(lambda x, p: format(int(x), ',')))\n",
    "axs[1,1].get_yaxis().set_major_formatter(matplotlib.ticker.FuncFormatter(lambda x, p: format(int(x), ',')))\n",
    "\n",
    "# Font-size\n",
    "axs[0,0].tick_params(labelsize=fontsize_label)\n",
    "axs[0,1].tick_params(labelsize=fontsize_label)\n",
    "axs[1,0].tick_params(labelsize=fontsize_label)\n",
    "axs[1,1].tick_params(labelsize=fontsize_label)\n",
    "\n",
    "# Legend\n",
    "axs[0,0].legend(loc='lower right',fontsize=fontsize_legend)\n",
    "axs[0,1].legend(loc='lower right',fontsize=fontsize_legend)\n",
    "axs[1,0].legend(loc='lower right',fontsize=fontsize_legend)\n",
    "axs[1,1].legend(loc='lower right',fontsize=fontsize_legend)\n",
    "#axs[1,1].legend(bbox_to_anchor=(0.33, 0.52),fontsize=fontsize_legend)\n",
    "\n",
    "# Ephemerides\n",
    "for i in mob_dates:\n",
    "    axs[0,0].axvline(x = i, linestyle = 'dashed',linewidth=datelinewidth)\n",
    "    axs[0,1].axvline(x = i, linestyle = 'dashed',linewidth=datelinewidth)\n",
    "    axs[1,0].axvline(x = i, linestyle = 'dashed',linewidth=datelinewidth)\n",
    "    axs[1,1].axvline(x = i, linestyle = 'dashed',linewidth=datelinewidth)\n",
    "\n",
    "\n",
    "fig.suptitle(title,fontsize=fontsize_suptitle)\n",
    "fig.show()"
   ]
  },
  {
   "cell_type": "code",
   "execution_count": 220,
   "metadata": {},
   "outputs": [
    {
     "name": "stdout",
     "output_type": "stream",
     "text": [
      "stop\n"
     ]
    }
   ],
   "source": [
    "print('stop')"
   ]
  },
  {
   "cell_type": "code",
   "execution_count": 221,
   "metadata": {},
   "outputs": [
    {
     "name": "stdout",
     "output_type": "stream",
     "text": [
      "stop\n"
     ]
    }
   ],
   "source": [
    "print('stop')"
   ]
  },
  {
   "cell_type": "code",
   "execution_count": null,
   "metadata": {},
   "outputs": [],
   "source": []
  },
  {
   "cell_type": "markdown",
   "metadata": {},
   "source": [
    "# Generación de tablas"
   ]
  },
  {
   "cell_type": "code",
   "execution_count": 153,
   "metadata": {},
   "outputs": [
    {
     "ename": "TypeError",
     "evalue": "list indices must be integers or slices, not datetime.datetime",
     "output_type": "error",
     "traceback": [
      "\u001b[0;31m---------------------------------------------------------------------------\u001b[0m",
      "\u001b[0;31mTypeError\u001b[0m                                 Traceback (most recent call last)",
      "\u001b[0;32m<ipython-input-153-8e52d6bac0c1>\u001b[0m in \u001b[0;36m<module>\u001b[0;34m\u001b[0m\n\u001b[0;32m----> 1\u001b[0;31m \u001b[0;34m'Movilidad: '\u001b[0m\u001b[0;34m+\u001b[0m\u001b[0mstr\u001b[0m\u001b[0;34m(\u001b[0m\u001b[0mescenarios\u001b[0m\u001b[0;34m[\u001b[0m\u001b[0mi\u001b[0m\u001b[0;34m]\u001b[0m\u001b[0;34m)\u001b[0m\u001b[0;34m+\u001b[0m\u001b[0;34m'%'\u001b[0m\u001b[0;34m\u001b[0m\u001b[0;34m\u001b[0m\u001b[0m\n\u001b[0m\u001b[1;32m      2\u001b[0m \u001b[0mdates\u001b[0m\u001b[0;34m[\u001b[0m\u001b[0mi\u001b[0m\u001b[0;34m]\u001b[0m\u001b[0;34m,\u001b[0m\u001b[0msimulation\u001b[0m\u001b[0;34m[\u001b[0m\u001b[0mi\u001b[0m\u001b[0;34m]\u001b[0m\u001b[0;34m.\u001b[0m\u001b[0mV\u001b[0m\u001b[0;34m\u001b[0m\u001b[0;34m\u001b[0m\u001b[0m\n\u001b[1;32m      3\u001b[0m \u001b[0maxs\u001b[0m\u001b[0;34m[\u001b[0m\u001b[0;36m1\u001b[0m\u001b[0;34m,\u001b[0m\u001b[0;36m1\u001b[0m\u001b[0;34m]\u001b[0m\u001b[0;34m.\u001b[0m\u001b[0mplot\u001b[0m\u001b[0;34m(\u001b[0m\u001b[0msimulation\u001b[0m\u001b[0;34m[\u001b[0m\u001b[0;36m0\u001b[0m\u001b[0;34m]\u001b[0m\u001b[0;34m.\u001b[0m\u001b[0mdates\u001b[0m\u001b[0;34m,\u001b[0m\u001b[0msimulation\u001b[0m\u001b[0;34m[\u001b[0m\u001b[0;36m0\u001b[0m\u001b[0;34m]\u001b[0m\u001b[0;34m.\u001b[0m\u001b[0mV_cap\u001b[0m\u001b[0;34m,\u001b[0m \u001b[0mlinestyle\u001b[0m \u001b[0;34m=\u001b[0m \u001b[0;34m'dashed'\u001b[0m\u001b[0;34m,\u001b[0m \u001b[0mcolor\u001b[0m \u001b[0;34m=\u001b[0m \u001b[0;34m'black'\u001b[0m\u001b[0;34m)\u001b[0m\u001b[0;34m\u001b[0m\u001b[0;34m\u001b[0m\u001b[0m\n",
      "\u001b[0;31mTypeError\u001b[0m: list indices must be integers or slices, not datetime.datetime"
     ]
    }
   ],
   "source": [
    "'Movilidad: '+str(escenarios[i])+'%'\n",
    "dates[i],simulation[i].V\n",
    "axs[1,1].plot(simulation[0].dates,simulation[0].V_cap, linestyle = 'dashed', color = 'black')\n"
   ]
  },
  {
   "cell_type": "markdown",
   "metadata": {},
   "source": [
    "Construir DataFrame"
   ]
  },
  {
   "cell_type": "code",
   "execution_count": null,
   "metadata": {},
   "outputs": [],
   "source": [
    "vmi_dict = [{'Uso_UCI_mov_'+str(escenarios[i]):np.around(simulation[i].V)} for i in range(len(escenarios))]"
   ]
  },
  {
   "cell_type": "code",
   "execution_count": null,
   "metadata": {},
   "outputs": [],
   "source": [
    "vmi_table = {'fechas':dates[0]}\n",
    "for i in vmi_dict:\n",
    "    vmi_table =  {**vmi_table, **i} "
   ]
  },
  {
   "cell_type": "code",
   "execution_count": null,
   "metadata": {},
   "outputs": [],
   "source": [
    "vmi_df = pd.DataFrame(vmi_table)"
   ]
  },
  {
   "cell_type": "code",
   "execution_count": null,
   "metadata": {},
   "outputs": [],
   "source": [
    "aux = vmi_df.iloc[109:309].to_csv('/home/samuel/Dropbox/DLab/Covid/DataProjections/Chile/UCI_data.csv')"
   ]
  },
  {
   "cell_type": "code",
   "execution_count": null,
   "metadata": {},
   "outputs": [],
   "source": [
    "vmi_df.to_csv('/home/samuel/Dropbox/DLab/Covid/DataProjections/Chile/UCI_data.csv')"
   ]
  },
  {
   "cell_type": "code",
   "execution_count": null,
   "metadata": {},
   "outputs": [],
   "source": [
    "type(simulation[0].V)"
   ]
  },
  {
   "cell_type": "code",
   "execution_count": null,
   "metadata": {},
   "outputs": [],
   "source": []
  },
  {
   "cell_type": "markdown",
   "metadata": {},
   "source": [
    "#### infectadios diarios"
   ]
  },
  {
   "cell_type": "code",
   "execution_count": null,
   "metadata": {},
   "outputs": [],
   "source": [
    "i=0\n",
    "plt.plot(dates[i],simulation[i].I_d)\n",
    "plt.show()"
   ]
  },
  {
   "cell_type": "code",
   "execution_count": null,
   "metadata": {},
   "outputs": [],
   "source": [
    "Id_dict = [{'Id_mov_'+str(escenarios[i]):np.around(simulation[i].I_d_det)} for i in range(len(escenarios))]"
   ]
  },
  {
   "cell_type": "code",
   "execution_count": null,
   "metadata": {},
   "outputs": [],
   "source": [
    "Id_table = {'fechas':dates[0]}\n",
    "for i in Id_dict:\n",
    "    Id_table =  {**Id_table, **i} \n",
    "Id_df = pd.DataFrame(Id_table)"
   ]
  },
  {
   "cell_type": "code",
   "execution_count": null,
   "metadata": {},
   "outputs": [],
   "source": [
    "Id_10may = Id_df[(Id_df['fechas']>=datetime(2021,5,10)) & (Id_df['fechas']<datetime(2021,5,17))]"
   ]
  },
  {
   "cell_type": "code",
   "execution_count": null,
   "metadata": {},
   "outputs": [],
   "source": [
    "Id_10may"
   ]
  },
  {
   "cell_type": "code",
   "execution_count": null,
   "metadata": {},
   "outputs": [],
   "source": [
    "Id_average = [np.mean(Id_10may[i]) for i in Id_10may.keys()[1:]]"
   ]
  },
  {
   "cell_type": "code",
   "execution_count": null,
   "metadata": {},
   "outputs": [],
   "source": [
    "np.around(Id_average)"
   ]
  },
  {
   "cell_type": "code",
   "execution_count": null,
   "metadata": {},
   "outputs": [],
   "source": [
    "Id_10may"
   ]
  },
  {
   "cell_type": "code",
   "execution_count": null,
   "metadata": {},
   "outputs": [],
   "source": []
  }
 ],
 "metadata": {
  "kernelspec": {
   "display_name": "Python 3",
   "language": "python",
   "name": "python3"
  },
  "language_info": {
   "codemirror_mode": {
    "name": "ipython",
    "version": 3
   },
   "file_extension": ".py",
   "mimetype": "text/x-python",
   "name": "python",
   "nbconvert_exporter": "python",
   "pygments_lexer": "ipython3",
   "version": "3.8.3"
  }
 },
 "nbformat": 4,
 "nbformat_minor": 4
}
