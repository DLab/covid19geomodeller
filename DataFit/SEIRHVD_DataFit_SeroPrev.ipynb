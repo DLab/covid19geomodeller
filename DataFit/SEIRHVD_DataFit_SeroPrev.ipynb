{
 "cells": [
  {
   "cell_type": "markdown",
   "metadata": {},
   "source": [
    "# SEIRHVD Data Fit\n",
    "\n",
    "This Jupyter notebooks implements the SEIRHVD model for fitting the actual Chilean data in order to make projections in VMI and bed usage, amount of infected and deaths. This model uses the SEIRHVD 4.1 version. A visual representation of the model is available at: [SEIRHVD Miró Model](https://miro.com/app/board/o9J_ktzN4xA=/)\n",
    "\n",
    "This implements a single instance to facilitate understanding the model prior to run multiple data fittings at a time.\n",
    "\n"
   ]
  },
  {
   "cell_type": "code",
   "execution_count": 2,
   "metadata": {},
   "outputs": [
    {
     "name": "stdout",
     "output_type": "stream",
     "text": [
      "Linux\n"
     ]
    }
   ],
   "source": [
    "import numpy as np\n",
    "import pandas as pd\n",
    "import matplotlib.pyplot as plt\n",
    "from datetime import datetime\n",
    "from numpy import linalg as LA\n",
    "\n",
    "import platform\n",
    "OS = platform.system()\n",
    "\n",
    "import matplotlib.pyplot as plt\n",
    "if OS == 'Linux':    \n",
    "    %matplotlib tk\n",
    "    print('Linux')\n",
    "elif OS == 'Windows':\n",
    "    %matplotlib qt\n",
    "    print('Windows')\n",
    "else:\n",
    "    print('OS not detected :-|')\n",
    "\n",
    "import sys\n",
    "from pathlib import Path\n",
    "sys.path.insert(1, '../src/SEIRHVD/')\n",
    "sys.path.insert(1, '../src/utils/')\n",
    "sys.path.insert(1, 'src/SEIRHVD/')\n",
    "sys.path.insert(1, 'src/utils/')\n",
    "\n",
    "from class_SEIRHUVD4 import SEIRHVD \n",
    "from Quarantine import Quarantine\n",
    "from importdata import ImportData"
   ]
  },
  {
   "cell_type": "markdown",
   "metadata": {},
   "source": [
    "## Time Variables\n",
    "Declare Initial date for simulating and data fitting"
   ]
  },
  {
   "cell_type": "code",
   "execution_count": 3,
   "metadata": {},
   "outputs": [],
   "source": [
    "# First simulation Initial date\n",
    "initdate = datetime(2020,5,15)\n",
    "# Date for change in SeroPrevalence\n",
    "initdate2 = datetime(2020,8,24)\n",
    "\n",
    "# Current date\n",
    "currentdate = datetime.now()\n",
    "currentday = (currentdate - initdate).days"
   ]
  },
  {
   "cell_type": "markdown",
   "metadata": {},
   "source": [
    "## Import Data\n",
    "To import data we use an ImportData object which is initialized with the region's cut and the initial date. RM region is represented by cut = 13."
   ]
  },
  {
   "cell_type": "code",
   "execution_count": 4,
   "metadata": {
    "scrolled": true
   },
   "outputs": [
    {
     "name": "stdout",
     "output_type": "stream",
     "text": [
      "Importing General Data\n",
      "Importing Population\n",
      "Importing Active infected\n",
      "Importing Accumulated Infected\n",
      "Importing Daily Infected\n",
      "Importing Sochimi Data\n",
      "Importing Accumulated Deaths\n",
      "Importing Active Infected by Minciencia\n",
      "Done\n"
     ]
    }
   ],
   "source": [
    "tstate = '13'\n",
    "\n",
    "# Import Data\n",
    "RM = ImportData(tstate=tstate,initdate = initdate)\n",
    "RM.importdata()"
   ]
  },
  {
   "cell_type": "markdown",
   "metadata": {},
   "source": [
    "## Simulation Parameters"
   ]
  },
  {
   "cell_type": "code",
   "execution_count": 5,
   "metadata": {},
   "outputs": [],
   "source": [
    "# Total simulation time\n",
    "tsimtot = 1000\n",
    "\n",
    "tsim1 = (initdate2 - initdate).days \n",
    "tsim2 = tsimtot-tsim1\n",
    "\n",
    "beta = 0.16\n",
    "mu = 0.8\n",
    "k = 1\n",
    "\n",
    "SeroPrevFactor1=0.06\n",
    "SeroPrevFactor2=0.025\n",
    "\n",
    "expinfection=0 # Proportion in which the exposed infect - 0: nothing, 1: equally as Infected"
   ]
  },
  {
   "cell_type": "markdown",
   "metadata": {},
   "source": [
    "## Quarantines\n",
    "Build Quarantine Object:\n",
    " \n",
    "     Q = Quarantine(rem_mob,max_mob=max_mob,qp=0,iqt=0,fqt=1000,movfunct = 'once')\n",
    "     alpha = Q.alpha\n",
    "     \n",
    "     Plot Quarantine dynamics:\n",
    "         Q.plot()"
   ]
  },
  {
   "cell_type": "code",
   "execution_count": 24,
   "metadata": {},
   "outputs": [],
   "source": [
    "# Quarantines \n",
    "max_mob = 0.55\n",
    "rem_mob = 0.45\n",
    "\n",
    "Q1 = Quarantine(rem_mob,max_mob,qp=0,iqt=0,fqt=tsim1)\n",
    "Q2 = Quarantine(rem_mob)\n",
    "\n",
    "alpha = Q2.alpha"
   ]
  },
  {
   "cell_type": "markdown",
   "metadata": {},
   "source": [
    "## Underreport\n",
    "Fraction of Infected detected/reported  \n",
    "\n",
    "$Imi_{det}$: Fraction of Mild detected   \n",
    "$Ias_{det}$: fraction of asymptomatic detected  \n",
    "\n",
    "If both are 1, means that all infected are detected so \n",
    "\\begin{align}\n",
    "I_{det} = I\n",
    "\\end{align}"
   ]
  },
  {
   "cell_type": "code",
   "execution_count": 7,
   "metadata": {},
   "outputs": [],
   "source": [
    "Imi_det = 1\n",
    "Ias_det = 0"
   ]
  },
  {
   "cell_type": "markdown",
   "metadata": {},
   "source": [
    "## State Parameters:\n",
    "The following parameters determine transitions probability and duration between different states. The values presented here are the default values set in the model. You can change them as it's showed in the following executable lines.\n",
    "\n",
    "pE_Ias = 0.4  # Transition from exposed to Asymptomatic Infected  \n",
    "tE_Ias = 5.0\n",
    "\n",
    "pE_Imi = 0.55 # Transition from exposed to  Mild Infected  \n",
    "tE_Imi = 5.0\n",
    "\n",
    "pE_Icr = 0.01666 # Transition from exposed to  Critical Infected  \n",
    "tE_Icr = 3.0\n",
    "\n",
    "pE_Ise = 0.03334 # Transition from exposed to  Serious Infected  \n",
    "tE_Ise = 3.0\n",
    "\n",
    "pIas_R = 1.0   # Transition from Asymptomatic Infected to Recovered  \n",
    "tIas_R = 10.0\n",
    "\n",
    "pImi_R = 1.0  # Transition from Mild Infected to Recovered  \n",
    "tImi_R = 15.0\n",
    "\n",
    "pIse_Hse = 1.0 # Transition from Serious Infected to Serious Hospitalized (When Hospital capacity is not saturated)  \n",
    "tIse_Hse = 3.0 \n",
    "\n",
    "pIse_D = 1.0  # Transition from Serious Infected to Death (When Hospital capacity is saturated)  \n",
    "tIse_D = 3.0         \n",
    "\n",
    "pIcr_V = 1.0  # Transition from Critical Infected to Ventilator (When Ventilators capacity is not saturated)  \n",
    "tIcr_V = 3.0 \n",
    "\n",
    "pIcr_D = 1.0  # Transition from Serious Infected to Death (When Ventilators capacity is saturated)  \n",
    "tIcr_D = 3.0         \n",
    "\n",
    "pHse_R = 0.97 # Transition from Serious Hospitalized to Recovered  \n",
    "tHse_R = 11.0\n",
    "\n",
    "pHse_V = 0.03 # Transition from Serious Hospitalized to Ventilators (When Ventilators capacity is not saturated)  \n",
    "tHse_V = 3.0\n",
    "\n",
    "pHse_D = 0.03 # Transition from Serious Hospitalized to Death (When Ventilators capacity is saturated)  \n",
    "tHse_D = 3.0        \n",
    "\n",
    "pV_Hout = 0.5  # Transition from Ventilators to Hospital Recovery (Hout)   \n",
    "tV_Hout = 15.0\n",
    "\n",
    "pV_D = 0.5 # Transition from Ventilators to Death  \n",
    "tV_D = 15.0\n",
    "\n",
    "pHout_R = 1.0 # Transition from Hospital Recovery (Hout) to Recovered  \n",
    "tHout_R = 4.0\n",
    "\n",
    "pD_B = 1.0 # Transition from Dead to buried  \n",
    "tD_B = 1.0 \n",
    "\n",
    "betaD = 0 # Contagion by deads rate  \n",
    "eta = 0.0 # Immunity loss rate  "
   ]
  },
  {
   "cell_type": "code",
   "execution_count": 8,
   "metadata": {},
   "outputs": [],
   "source": [
    "pE_Ias = 0.4  # Transition from exposed to Asymptomatic Infected  \n",
    "tE_Ias = 5.0\n",
    "\n",
    "pE_Imi = 0.55 # Transition from exposed to  Mild Infected  \n",
    "tE_Imi = 5.0\n",
    "\n",
    "pE_Icr = 0.01666 # Transition from exposed to  Critical Infected  \n",
    "tE_Icr = 3.0\n",
    "\n",
    "pE_Ise = 0.03334 # Transition from exposed to  Serious Infected  \n",
    "tE_Ise = 3.0\n",
    "\n",
    "pIas_R = 1.0   # Transition from Asymptomatic Infected to Recovered  \n",
    "tIas_R = 10.0\n",
    "\n",
    "pImi_R = 1.0  # Transition from Mild Infected to Recovered  \n",
    "tImi_R = 15.0\n",
    "\n",
    "pIse_Hse = 1.0 # Transition from Serious Infected to Serious Hospitalized (When Hospital capacity is not saturated)  \n",
    "tIse_Hse = 3.0 \n",
    "\n",
    "pIse_D = 1.0  # Transition from Serious Infected to Death (When Hospital capacity is saturated)  \n",
    "tIse_D = 3.0         \n",
    "\n",
    "pIcr_V = 1.0  # Transition from Critical Infected to Ventilator (When Ventilators capacity is not saturated)  \n",
    "tIcr_V = 3.0 \n",
    "\n",
    "pIcr_D = 1.0  # Transition from Serious Infected to Death (When Ventilators capacity is saturated)  \n",
    "tIcr_D = 3.0         \n",
    "\n",
    "pHse_R = 0.97 # Transition from Serious Hospitalized to Recovered  \n",
    "tHse_R = 11.0\n",
    "\n",
    "pHse_V = 0.03 # Transition from Serious Hospitalized to Ventilators (When Ventilators capacity is not saturated)  \n",
    "tHse_V = 3.0\n",
    "\n",
    "pHse_D = 0.03 # Transition from Serious Hospitalized to Death (When Ventilators capacity is saturated)  \n",
    "tHse_D = 3.0        \n",
    "\n",
    "pV_Hout = 0.5  # Transition from Ventilators to Hospital Recovery (Hout)   \n",
    "tV_Hout = 15.0\n",
    "\n",
    "pV_D = 0.5 # Transition from Ventilators to Death  \n",
    "tV_D = 15.0\n",
    "\n",
    "pHout_R = 1.0 # Transition from Hospital Recovery (Hout) to Recovered  \n",
    "tHout_R = 4.0"
   ]
  },
  {
   "cell_type": "markdown",
   "metadata": {},
   "source": [
    "# Simulation\n",
    "\n",
    "## Initial SeroPrev period\n",
    "Initialize Simulation Object, set params and run the simulation. "
   ]
  },
  {
   "cell_type": "code",
   "execution_count": 9,
   "metadata": {},
   "outputs": [
    {
     "name": "stdout",
     "output_type": "stream",
     "text": [
      "InitialCondition Object Data\n"
     ]
    }
   ],
   "source": [
    "simulation1 = SEIRHVD(tsim1,beta,mu,alpha,k=k,SeroPrevFactor=SeroPrevFactor1,expinfection=expinfection,RealIC = RM,Imi_det = Imi_det,Ias_det = Ias_det)"
   ]
  },
  {
   "cell_type": "markdown",
   "metadata": {},
   "source": [
    "### Setting new params"
   ]
  },
  {
   "cell_type": "code",
   "execution_count": 10,
   "metadata": {},
   "outputs": [
    {
     "name": "stdout",
     "output_type": "stream",
     "text": [
      "Compartimental model State parameters changed\n"
     ]
    }
   ],
   "source": [
    "simulation1.pE_Ias=pE_Ias\n",
    "simulation1.tE_Ias=tE_Ias\n",
    "simulation1.pE_Imi=pE_Imi\n",
    "simulation1.tE_Imi=tE_Imi\n",
    "simulation1.pE_Icr=pE_Icr\n",
    "simulation1.tE_Icr=tE_Icr\n",
    "simulation1.pE_Ise=pE_Ise\n",
    "simulation1.tE_Ise=tE_Ise\n",
    "simulation1.pIas_R=pIas_R\n",
    "simulation1.tIas_R =tIas_R\n",
    "simulation1.pImi_R=pImi_R\n",
    "simulation1.tImi_R =tImi_R\n",
    "simulation1.pIse_Hse=pIse_Hse\n",
    "simulation1.tIse_Hse=tIse_Hse\n",
    "simulation1.pIse_D=pIse_D\n",
    "simulation1.tIse_D=tIse_D\n",
    "simulation1.pIcr_V=pIcr_V\n",
    "simulation1.tIcr_V=tIcr_V\n",
    "simulation1.pIcr_D=pIcr_D\n",
    "simulation1.tIcr_D=tIcr_D\n",
    "simulation1.pHse_R=pHse_R\n",
    "simulation1.tHse_R =tHse_R\n",
    "simulation1.pHse_V=pHse_V\n",
    "simulation1.tHse_V=tHse_V\n",
    "simulation1.pHse_D=pHse_D\n",
    "simulation1.tHse_D=tHse_D\n",
    "simulation1.pV_Hout=pV_Hout\n",
    "simulation1.tV_Hout =tV_Hout\n",
    "simulation1.pV_D=pV_D\n",
    "simulation1.tV_D =tV_D\n",
    "simulation1.pHout_R=pHout_R\n",
    "simulation1.tHout_R=tHout_R\n",
    "simulation1.setnewparams()"
   ]
  },
  {
   "cell_type": "markdown",
   "metadata": {},
   "source": [
    "## Run simulation"
   ]
  },
  {
   "cell_type": "code",
   "execution_count": 11,
   "metadata": {},
   "outputs": [
    {
     "data": {
      "text/plain": [
       "  message: 'The solver successfully reached the end of the integration interval.'\n",
       "     nfev: 2795\n",
       "     njev: 61\n",
       "      nlu: 61\n",
       "      sol: None\n",
       "   status: 0\n",
       "  success: True\n",
       "        t: array([0.00000000e+00, 1.70035219e-08, 3.40070437e-08, 1.70069226e-04,\n",
       "       3.40104444e-04, 5.10139663e-04, 2.21049185e-03, 3.91084404e-03,\n",
       "       5.61119622e-03, 7.31154841e-03, 2.43150703e-02, 4.13185922e-02,\n",
       "       5.83221140e-02, 7.53256359e-02, 9.23291578e-02, 2.62364376e-01,\n",
       "       4.32399595e-01, 6.02434814e-01, 7.72470033e-01, 9.42505251e-01,\n",
       "       1.11254047e+00, 1.52442533e+00, 1.93631019e+00, 2.34819505e+00,\n",
       "       2.76007991e+00, 3.17196477e+00, 3.70444945e+00, 4.23693412e+00,\n",
       "       4.76941880e+00, 5.30190347e+00, 5.85697839e+00, 6.41205331e+00,\n",
       "       6.96712823e+00, 7.02374086e+00, 7.08035350e+00, 7.13696613e+00,\n",
       "       7.16527245e+00, 7.17234903e+00, 7.17305412e+00, 7.17375922e+00,\n",
       "       7.17516942e+00, 7.17657961e+00, 7.17798981e+00, 7.18006164e+00,\n",
       "       7.18213348e+00, 7.18349679e+00, 7.18486011e+00, 7.18591489e+00,\n",
       "       7.18696967e+00, 7.18802445e+00, 7.18907923e+00, 7.19013401e+00,\n",
       "       7.19118880e+00, 7.19224358e+00, 7.19356414e+00, 7.19488470e+00,\n",
       "       7.19620526e+00, 7.19752582e+00, 7.19884638e+00, 7.20047022e+00,\n",
       "       7.20209405e+00, 7.20371788e+00, 7.20534172e+00, 7.20693222e+00,\n",
       "       7.20852271e+00, 7.21011321e+00, 7.21168285e+00, 7.21325249e+00,\n",
       "       7.21482213e+00, 7.21638046e+00, 7.21793879e+00, 7.22694892e+00,\n",
       "       7.23595905e+00, 7.24496918e+00, 7.27993190e+00, 7.31489463e+00,\n",
       "       7.34985736e+00, 7.43770455e+00, 7.52555175e+00, 7.61339895e+00,\n",
       "       7.70124614e+00, 7.85623069e+00, 8.01121524e+00, 8.16619979e+00,\n",
       "       8.32118434e+00, 8.59884041e+00, 8.87649648e+00, 9.15415255e+00,\n",
       "       9.43180862e+00, 9.70946469e+00, 1.00927225e+01, 1.04759804e+01,\n",
       "       1.08592382e+01, 1.12424960e+01, 1.16257538e+01, 1.21950259e+01,\n",
       "       1.27642980e+01, 1.33335701e+01, 1.39028421e+01, 1.44721142e+01,\n",
       "       1.55039567e+01, 1.65357991e+01, 1.75676415e+01, 1.85994840e+01,\n",
       "       2.07186993e+01, 2.28379145e+01, 2.49571298e+01, 2.70763451e+01,\n",
       "       2.91955604e+01, 2.97253642e+01, 2.97319868e+01, 2.97386093e+01,\n",
       "       2.97452319e+01, 2.97501195e+01, 2.97550072e+01, 2.97570474e+01,\n",
       "       2.97590877e+01, 2.97615843e+01, 2.97633620e+01, 2.97647587e+01,\n",
       "       2.97659197e+01, 2.97670808e+01, 2.97679518e+01, 2.97688228e+01,\n",
       "       2.97695248e+01, 2.97702269e+01, 2.97709289e+01, 2.97717300e+01,\n",
       "       2.97725310e+01, 2.97733321e+01, 2.97741331e+01, 2.97749342e+01,\n",
       "       2.97757352e+01, 2.97765363e+01, 2.97773374e+01, 2.97781384e+01,\n",
       "       2.97789395e+01, 2.97798606e+01, 2.97807818e+01, 2.97817030e+01,\n",
       "       2.97826242e+01, 2.97835454e+01, 2.97846763e+01, 2.97858072e+01,\n",
       "       2.97869381e+01, 2.97880690e+01, 2.97891998e+01, 2.97903307e+01,\n",
       "       2.97922881e+01, 2.97942455e+01, 2.97962030e+01, 2.97981604e+01,\n",
       "       2.98001178e+01, 2.98020752e+01, 2.98052034e+01, 2.98083315e+01,\n",
       "       2.98114597e+01, 2.98145879e+01, 2.98177161e+01, 2.98305655e+01,\n",
       "       2.98434149e+01, 2.98562644e+01, 2.98691138e+01, 2.99089517e+01,\n",
       "       2.99487897e+01, 2.99886276e+01, 3.00613488e+01, 3.01340699e+01,\n",
       "       3.02067911e+01, 3.02795122e+01, 3.04304432e+01, 3.05813742e+01,\n",
       "       3.07323052e+01, 3.08832361e+01, 3.11717604e+01, 3.14602847e+01,\n",
       "       3.17488091e+01, 3.20373334e+01, 3.23258577e+01, 3.27130489e+01,\n",
       "       3.31002401e+01, 3.34874313e+01, 3.38746225e+01, 3.42618137e+01,\n",
       "       3.48353416e+01, 3.54088695e+01, 3.59823974e+01, 3.65559253e+01,\n",
       "       3.71294531e+01, 3.81008588e+01, 3.90722644e+01, 4.00436700e+01,\n",
       "       4.10150756e+01, 4.31822655e+01, 4.53494553e+01, 4.75166452e+01,\n",
       "       4.96838350e+01, 5.18510249e+01, 5.18591399e+01, 5.18672550e+01,\n",
       "       5.18753700e+01, 5.18834851e+01, 5.18916001e+01, 5.19078302e+01,\n",
       "       5.19240603e+01, 5.19402904e+01, 5.20421420e+01, 5.21439937e+01,\n",
       "       5.22458454e+01, 5.24565551e+01, 5.26672648e+01, 5.28422899e+01,\n",
       "       5.30173150e+01, 5.31923401e+01, 5.33673652e+01, 5.35747011e+01,\n",
       "       5.37820371e+01, 5.39893731e+01, 5.41967090e+01, 5.44357747e+01,\n",
       "       5.46748405e+01, 5.49139062e+01, 5.51529719e+01, 5.53920376e+01,\n",
       "       5.56572308e+01, 5.59224240e+01, 5.61876172e+01, 5.64528104e+01,\n",
       "       5.67180036e+01, 5.69831968e+01, 5.72483900e+01, 5.75135832e+01,\n",
       "       5.78089606e+01, 5.81043379e+01, 5.83997152e+01, 5.86950925e+01,\n",
       "       5.89904699e+01, 5.92858472e+01, 5.95812245e+01, 5.98766018e+01,\n",
       "       6.01719791e+01, 6.05042602e+01, 6.08365412e+01, 6.11688223e+01,\n",
       "       6.15011033e+01, 6.18333844e+01, 6.22159231e+01, 6.25984617e+01,\n",
       "       6.29810004e+01, 6.33635391e+01, 6.37460778e+01, 6.42703181e+01,\n",
       "       6.47945583e+01, 6.53187986e+01, 6.58430389e+01, 6.63672792e+01,\n",
       "       6.72118063e+01, 6.80563334e+01, 6.89008605e+01, 6.97453876e+01,\n",
       "       7.05899147e+01, 7.29739596e+01, 7.53580044e+01, 7.77420493e+01,\n",
       "       8.01260941e+01, 8.01558947e+01, 8.01856952e+01, 8.02452963e+01,\n",
       "       8.03048975e+01, 8.04492577e+01, 8.05414680e+01, 8.06160737e+01,\n",
       "       8.06759808e+01, 8.07358878e+01, 8.08474949e+01, 8.09591020e+01,\n",
       "       8.10707091e+01, 8.12113036e+01, 8.13518981e+01, 8.14924925e+01,\n",
       "       8.16792532e+01, 8.18660139e+01, 8.20527746e+01, 8.22395353e+01,\n",
       "       8.24262960e+01, 8.26130567e+01, 8.27998174e+01, 8.30167128e+01,\n",
       "       8.32336082e+01, 8.34505037e+01, 8.36673991e+01, 8.38842946e+01,\n",
       "       8.41436934e+01, 8.44030923e+01, 8.46624911e+01, 8.49218900e+01,\n",
       "       8.51812888e+01, 8.54406877e+01, 8.57000865e+01, 8.59594854e+01,\n",
       "       8.62649434e+01, 8.65704014e+01, 8.68758595e+01, 8.71813175e+01,\n",
       "       8.74867756e+01, 8.77922336e+01, 8.81334614e+01, 8.84746893e+01,\n",
       "       8.88159171e+01, 8.91571450e+01, 8.94983728e+01, 8.98396007e+01,\n",
       "       9.03182820e+01, 9.07969632e+01, 9.12756445e+01, 9.17543258e+01,\n",
       "       9.22330070e+01, 9.27116883e+01, 9.33716949e+01, 9.40317014e+01,\n",
       "       9.46917080e+01, 9.53517145e+01, 9.60117211e+01, 9.66717276e+01,\n",
       "       9.76134541e+01, 9.85551806e+01, 9.94969071e+01, 1.00438634e+02,\n",
       "       1.01000000e+02])\n",
       " t_events: None\n",
       "        y: array([[4.47079320e+05, 4.47079320e+05, 4.47079320e+05, ...,\n",
       "        7.17080615e+04, 7.02818235e+04, 6.94458049e+04],\n",
       "       [1.68560000e+04, 1.68560000e+04, 1.68560000e+04, ...,\n",
       "        8.30260281e+03, 8.12983083e+03, 8.02854872e+03],\n",
       "       [2.29911111e+03, 2.29911109e+03, 2.29911108e+03, ...,\n",
       "        2.96020976e+02, 2.84947765e+02, 2.78533511e+02],\n",
       "       ...,\n",
       "       [0.00000000e+00, 0.00000000e+00, 0.00000000e+00, ...,\n",
       "        2.25132897e+03, 2.25132897e+03, 2.25132897e+03],\n",
       "       [0.00000000e+00, 0.00000000e+00, 0.00000000e+00, ...,\n",
       "        4.33230364e+02, 4.33230364e+02, 4.33230364e+02],\n",
       "       [0.00000000e+00, 4.27355184e-07, 8.54710368e-07, ...,\n",
       "        4.73717968e+03, 4.77502874e+03, 4.79732587e+03]])\n",
       " y_events: None"
      ]
     },
     "execution_count": 11,
     "metadata": {},
     "output_type": "execute_result"
    }
   ],
   "source": [
    "simulation1.integr_sci(0,tsim1,0.1)"
   ]
  },
  {
   "cell_type": "markdown",
   "metadata": {},
   "source": [
    "## Simulation 2\n",
    "Second SeroPrev period"
   ]
  },
  {
   "cell_type": "code",
   "execution_count": 12,
   "metadata": {},
   "outputs": [],
   "source": [
    "simulation2 = SEIRHVD(tsim2,beta,mu,alpha,k=k,SeroPrevFactor=SeroPrevFactor2,Imi_det = Imi_det,Ias_det = Ias_det,SimIC=simulation1,initdate=initdate2)"
   ]
  },
  {
   "cell_type": "code",
   "execution_count": 13,
   "metadata": {},
   "outputs": [
    {
     "name": "stdout",
     "output_type": "stream",
     "text": [
      "Compartimental model State parameters changed\n"
     ]
    }
   ],
   "source": [
    "simulation2.pE_Ias=pE_Ias\n",
    "simulation2.tE_Ias=tE_Ias\n",
    "simulation2.pE_Imi=pE_Imi\n",
    "simulation2.tE_Imi=tE_Imi\n",
    "simulation2.pE_Icr=pE_Icr\n",
    "simulation2.tE_Icr=tE_Icr\n",
    "simulation2.pE_Ise=pE_Ise\n",
    "simulation2.tE_Ise=tE_Ise\n",
    "simulation2.pIas_R=pIas_R\n",
    "simulation2.tIas_R =tIas_R\n",
    "simulation2.pImi_R=pImi_R\n",
    "simulation2.tImi_R =tImi_R\n",
    "simulation2.pIse_Hse=pIse_Hse\n",
    "simulation2.tIse_Hse=tIse_Hse\n",
    "simulation2.pIse_D=pIse_D\n",
    "simulation2.tIse_D=tIse_D\n",
    "simulation2.pIcr_V=pIcr_V\n",
    "simulation2.tIcr_V=tIcr_V\n",
    "simulation2.pIcr_D=pIcr_D\n",
    "simulation2.tIcr_D=tIcr_D\n",
    "simulation2.pHse_R=pHse_R\n",
    "simulation2.tHse_R =tHse_R\n",
    "simulation2.pHse_V=pHse_V\n",
    "simulation2.tHse_V=tHse_V\n",
    "simulation2.pHse_D=pHse_D\n",
    "simulation2.tHse_D=tHse_D\n",
    "simulation2.pV_Hout=pV_Hout\n",
    "simulation2.tV_Hout =tV_Hout\n",
    "simulation2.pV_D=pV_D\n",
    "simulation2.tV_D =tV_D\n",
    "simulation2.pHout_R=pHout_R\n",
    "simulation2.tHout_R=tHout_R\n",
    "simulation2.setnewparams()"
   ]
  },
  {
   "cell_type": "markdown",
   "metadata": {},
   "source": [
    "### Run simulation 2"
   ]
  },
  {
   "cell_type": "code",
   "execution_count": 14,
   "metadata": {},
   "outputs": [
    {
     "data": {
      "text/plain": [
       "  message: 'The solver successfully reached the end of the integration interval.'\n",
       "     nfev: 1514\n",
       "     njev: 27\n",
       "      nlu: 27\n",
       "      sol: None\n",
       "   status: 0\n",
       "  success: True\n",
       "        t: array([0.00000000e+00, 1.94678855e-02, 3.89357710e-02, 1.78073870e-01,\n",
       "       3.17211968e-01, 4.56350067e-01, 7.39871750e-01, 1.02339343e+00,\n",
       "       1.30691512e+00, 1.59043680e+00, 2.06992330e+00, 2.54940980e+00,\n",
       "       3.02889630e+00, 3.50838280e+00, 4.05897326e+00, 4.60956372e+00,\n",
       "       5.16015418e+00, 5.64225019e+00, 6.12434621e+00, 6.60644222e+00,\n",
       "       7.54872209e+00, 8.49100197e+00, 9.43328184e+00, 1.02308542e+01,\n",
       "       1.10284266e+01, 1.18259990e+01, 1.33568176e+01, 1.48876363e+01,\n",
       "       1.52703410e+01, 1.56530456e+01, 1.60357503e+01, 1.65920260e+01,\n",
       "       1.67310950e+01, 1.68701639e+01, 1.69049312e+01, 1.69396984e+01,\n",
       "       1.69744656e+01, 1.69765715e+01, 1.69786775e+01, 1.69828893e+01,\n",
       "       1.69862852e+01, 1.69880083e+01, 1.69897313e+01, 1.69924705e+01,\n",
       "       1.69940191e+01, 1.69952787e+01, 1.69963269e+01, 1.69973752e+01,\n",
       "       1.69981577e+01, 1.69989401e+01, 1.69995873e+01, 1.70002345e+01,\n",
       "       1.70008816e+01, 1.70016917e+01, 1.70025017e+01, 1.70033117e+01,\n",
       "       1.70041217e+01, 1.70052309e+01, 1.70063402e+01, 1.70074494e+01,\n",
       "       1.70085586e+01, 1.70096678e+01, 1.70112642e+01, 1.70128605e+01,\n",
       "       1.70144568e+01, 1.70160532e+01, 1.70176495e+01, 1.70192459e+01,\n",
       "       1.70204641e+01, 1.70216822e+01, 1.70229004e+01, 1.70241186e+01,\n",
       "       1.70253368e+01, 1.70268029e+01, 1.70282691e+01, 1.70297352e+01,\n",
       "       1.70312013e+01, 1.70327319e+01, 1.70480374e+01, 1.70633429e+01,\n",
       "       1.70786485e+01, 1.71379464e+01, 1.71972442e+01, 1.72565421e+01,\n",
       "       1.73741071e+01, 1.74916720e+01, 1.76092369e+01, 1.77268018e+01,\n",
       "       1.78960691e+01, 1.80653363e+01, 1.82346036e+01, 1.84038708e+01,\n",
       "       1.86905712e+01, 1.89772716e+01, 1.92639720e+01, 1.95506724e+01,\n",
       "       1.98373728e+01, 2.02365021e+01, 2.06356315e+01, 2.10347608e+01,\n",
       "       2.14338902e+01, 2.18330195e+01, 2.24084684e+01, 2.29839173e+01,\n",
       "       2.35593662e+01, 2.41348151e+01, 2.47102639e+01, 2.57032014e+01,\n",
       "       2.66961388e+01, 2.76890762e+01, 2.86820136e+01, 2.96749510e+01,\n",
       "       3.11717199e+01, 3.26684888e+01, 3.41652577e+01, 3.56620266e+01,\n",
       "       3.78163287e+01, 3.79509726e+01, 3.80596836e+01, 3.81683945e+01,\n",
       "       3.82771054e+01, 3.83858164e+01, 3.85283653e+01, 3.86709142e+01,\n",
       "       3.88134632e+01, 3.89560121e+01, 3.90985610e+01, 3.92411100e+01,\n",
       "       3.93836589e+01, 3.95786764e+01, 3.97736939e+01, 3.99687114e+01,\n",
       "       4.01637289e+01, 4.03587464e+01, 4.05916888e+01, 4.07462453e+01,\n",
       "       4.09366393e+01, 4.11270332e+01, 4.13174272e+01, 4.15078212e+01,\n",
       "       4.15094340e+01, 4.15110468e+01, 4.15126596e+01, 4.15287875e+01,\n",
       "       4.15449155e+01, 4.15610434e+01, 4.17223227e+01, 4.18836021e+01,\n",
       "       4.20448815e+01, 4.22061608e+01, 4.25563866e+01, 4.29066123e+01,\n",
       "       4.32568380e+01, 4.36070638e+01, 4.39572895e+01, 4.43717596e+01,\n",
       "       4.47862296e+01, 4.52006996e+01, 4.56151697e+01, 4.60296397e+01,\n",
       "       4.64796397e+01, 4.69296397e+01, 4.73796397e+01, 4.78296397e+01,\n",
       "       4.82796397e+01, 4.88152041e+01, 4.93507685e+01, 4.98863329e+01,\n",
       "       5.04218973e+01, 5.09968973e+01, 5.15718973e+01, 5.21468973e+01,\n",
       "       5.27218973e+01, 5.32968973e+01, 5.38718973e+01, 5.44468973e+01,\n",
       "       5.50218973e+01, 5.55968973e+01, 5.85744323e+01, 6.15519673e+01,\n",
       "       6.45295022e+01, 6.93834940e+01, 7.42374857e+01, 7.90914775e+01,\n",
       "       8.39454692e+01, 8.96817580e+01, 9.54180467e+01, 1.01154335e+02,\n",
       "       1.06890624e+02, 1.12626913e+02, 1.21921001e+02, 1.28594129e+02,\n",
       "       1.35267257e+02, 1.36601883e+02, 1.37936508e+02, 1.39271134e+02,\n",
       "       1.40605759e+02, 1.42663449e+02, 1.44721138e+02, 1.46778828e+02,\n",
       "       1.52618129e+02, 1.58457430e+02, 1.63164729e+02, 1.67872028e+02,\n",
       "       1.72579327e+02, 1.77286626e+02, 1.83115757e+02, 1.87829222e+02,\n",
       "       1.92542687e+02, 1.97256152e+02, 2.01969616e+02, 2.08096567e+02,\n",
       "       2.14223517e+02, 2.20350468e+02, 2.26477418e+02, 2.32604369e+02,\n",
       "       2.38731319e+02, 2.44858270e+02, 2.50985220e+02, 2.57112171e+02,\n",
       "       2.63239121e+02, 2.69366072e+02, 2.76662145e+02, 2.83958218e+02,\n",
       "       2.91254292e+02, 2.97240958e+02, 3.03227625e+02, 3.09214292e+02,\n",
       "       3.15200958e+02, 3.21187625e+02, 3.27174292e+02, 3.33160958e+02,\n",
       "       3.39147625e+02, 3.45134292e+02, 3.52214123e+02, 3.59293954e+02,\n",
       "       3.66373785e+02, 3.73453616e+02, 3.80533447e+02, 3.87613278e+02,\n",
       "       3.94693109e+02, 4.01772940e+02, 4.08852771e+02, 4.15932602e+02,\n",
       "       4.23012433e+02, 4.30092264e+02, 4.37172095e+02, 4.44251926e+02,\n",
       "       4.53053163e+02, 4.61854400e+02, 4.70655637e+02, 4.79456875e+02,\n",
       "       4.88258112e+02, 4.98902931e+02, 5.09547750e+02, 5.20192569e+02,\n",
       "       5.30837388e+02, 5.41482207e+02, 5.52127026e+02, 5.62771845e+02,\n",
       "       5.75626857e+02, 5.88481869e+02, 6.01336881e+02, 6.14191893e+02,\n",
       "       6.27046905e+02, 6.41717639e+02, 6.56388373e+02, 6.71059107e+02,\n",
       "       6.82815139e+02, 6.94571171e+02, 7.06327203e+02, 7.18083235e+02,\n",
       "       7.29839268e+02, 7.45327763e+02, 7.60816259e+02, 7.76304754e+02,\n",
       "       7.91793250e+02, 8.07281745e+02, 8.22770241e+02, 8.38258737e+02,\n",
       "       8.53747232e+02, 8.69235728e+02, 8.84724223e+02, 8.99000000e+02])\n",
       " t_events: None\n",
       "        y: array([[ 2.60384997e+05,  2.60300343e+05,  2.60215712e+05, ...,\n",
       "         5.57689920e-02,  4.24980657e-02,  3.30855382e-02],\n",
       "       [ 8.02854872e+03,  8.08069149e+03,  8.13260178e+03, ...,\n",
       "         5.16326410e-03,  3.93460088e-03,  3.06316023e-03],\n",
       "       [ 2.78533511e+02,  2.87163644e+02,  2.95619318e+02, ...,\n",
       "        -8.79475451e-10,  4.45367819e-10,  7.44255345e-10],\n",
       "       ...,\n",
       "       [ 2.25132897e+03,  2.25132897e+03,  2.25132897e+03, ...,\n",
       "         2.49578616e+03,  2.49578616e+03,  2.49578616e+03],\n",
       "       [ 4.33230364e+02,  4.33230364e+02,  4.33230364e+02, ...,\n",
       "         4.80864010e+02,  4.80864010e+02,  4.80864010e+02],\n",
       "       [ 4.79732587e+03,  4.79809545e+03,  4.79886479e+03, ...,\n",
       "         9.73524789e+03,  9.73524824e+03,  9.73524848e+03]])\n",
       " y_events: None"
      ]
     },
     "execution_count": 14,
     "metadata": {},
     "output_type": "execute_result"
    }
   ],
   "source": [
    "simulation2.integr_sci(0,tsim2,0.1)"
   ]
  },
  {
   "cell_type": "markdown",
   "metadata": {},
   "source": [
    "# Analysis"
   ]
  },
  {
   "cell_type": "markdown",
   "metadata": {},
   "source": [
    "## Grid Plot"
   ]
  },
  {
   "cell_type": "code",
   "execution_count": 15,
   "metadata": {},
   "outputs": [],
   "source": [
    "# Days to plot\n",
    "days = 250"
   ]
  },
  {
   "cell_type": "code",
   "execution_count": 21,
   "metadata": {},
   "outputs": [
    {
     "data": {
      "text/plain": [
       "<matplotlib.lines.Line2D at 0x7f374603f9d0>"
      ]
     },
     "execution_count": 21,
     "metadata": {},
     "output_type": "execute_result"
    }
   ],
   "source": [
    "fig, axs = plt.subplots(2, 3)\n",
    "axs[0,0].set_xlim(0,days)\n",
    "axs[0,0].scatter(RM.tr,RM.Ir,label='Real Active Data')\n",
    "axs[0,0].plot(simulation1.t,simulation1.I_det,label='Infected')\n",
    "axs[0,0].plot(simulation2.t+tsim1,simulation2.I_det,label='Infected')\n",
    "axs[0,0].set_title('Active Infected')\n",
    "axs[0,0].axvline(x = t_end, linestyle = 'dotted',color = 'grey')\n",
    "\n",
    "\n",
    "axs[0,1].set_xlim(0,days)\n",
    "axs[0,1].plot(simulation2.t+tsim1,simulation2.I_d_det,label='sim2')\n",
    "axs[0,1].plot(simulation1.t,simulation1.I_d_det,label='sim1')\n",
    "axs[0,1].scatter(RM.I_d_r_tr,RM.I_d_r,label='Daily Real Data')\n",
    "axs[0,1].set_title('Daily infected')\n",
    "axs[0,1].axvline(x = t_end, linestyle = 'dotted',color = 'grey')\n",
    "\n",
    "\n",
    "axs[0,2].set_xlim(0,days)\n",
    "axs[0,2].plot(simulation2.t+tsim1,simulation2.I_ac_det,label='sim2')\n",
    "axs[0,2].plot(simulation1.t,simulation1.I_ac_det,label='sim1')\n",
    "axs[0,2].scatter(RM.I_ac_r_tr,RM.I_ac_r,label='Accumulated Real Data')\n",
    "axs[0,2].set_title('Accumulated Infected')\n",
    "axs[0,2].axvline(x = t_end, linestyle = 'dotted',color = 'grey')\n",
    "\n",
    "\n",
    "axs[1,0].set_xlim(0,days)\n",
    "axs[1,0].plot(simulation2.t+tsim1,simulation2.B,label='sim2')\n",
    "axs[1,0].plot(simulation1.t,simulation1.B,label='sim1')\n",
    "axs[1,0].scatter(RM.Br_tr,RM.Br,label='Real Data')\n",
    "axs[1,0].set_title('Acmulated Deaths')\n",
    "axs[1,0].axvline(x = t_end, linestyle = 'dotted',color = 'grey')\n",
    "\n",
    "\n",
    "axs[1,1].set_xlim(0,days)\n",
    "axs[1,1].plot(simulation1.t,simulation1.Hse+simulation1.Hout,label='UCI/UTI Beds')\n",
    "axs[1,1].plot(simulation2.t+tsim1,simulation2.Hse+simulation2.Hout,label='UCI/UTI Beds')\n",
    "axs[1,1].scatter(RM.sochimi_tr,RM.Hr,label='Real Data')\n",
    "axs[1,1].plot(simulation1.t,simulation1.H_cap,label='Capacity Data', color = 'red')\n",
    "axs[1,1].plot(simulation2.t+tsim1,simulation2.H_cap,label='Capacity Data', color = 'red')\n",
    "axs[1,1].set_title('UCI/UTI Usage')\n",
    "axs[1,1].axvline(x = t_end, linestyle = 'dotted',color = 'grey')\n",
    "\n",
    "\n",
    "axs[1,2].set_xlim(0,days)\n",
    "axs[1,2].plot(simulation2.t+tsim1,simulation2.V,label='VSat sim2')\n",
    "axs[1,2].plot(simulation1.t,simulation1.V,label='Vsat sim1')\n",
    "axs[1,2].scatter(RM.sochimi_tr,RM.Vr,label='Real Data')\n",
    "axs[1,2].plot(simulation1.t,simulation1.V_cap,label='Capacity Data', color = 'red')\n",
    "axs[1,2].plot(simulation2.t+tsim1,simulation2.V_cap,label='Capacity Data', color = 'red')\n",
    "axs[1,2].set_title('VMI Usage')\n",
    "axs[1,2].axvline(x = t_end, linestyle = 'dotted',color = 'grey')\n",
    "\n",
    "\n",
    "#axs[2,1].plot(simulation2.t+tsim1,simulation2.V_D_d,label='V_D sim2')\n",
    "#axs[2,1].plot(simulation2.t+tsim1,simulation2.Hse_D_d,label='Hse_D sim2')\n",
    "#axs[2,1].plot(simulation2.t+tsim1,simulation2.Icr_D_d,label='Icr_D sim2')\n",
    "#axs[2,1].plot(simulation2.t+tsim1,simulation2.Ise_D_d,label='Ise_D sim2')\n",
    "#axs[2,1].plot(simulation1.t,simulation1.V_D_d,label='V_D sim1')\n",
    "#axs[2,1].plot(simulation1.t,simulation1.Hse_D_d,label='Hse_D sim1')\n",
    "#axs[2,1].plot(simulation1.t,simulation1.Icr_D_d,label='Icr_D sim1')\n",
    "#axs[2,1].plot(simulation1.t,simulation1.Ise_D_d,label='Ise_D sim1')\n",
    "#axs[2,1].set_title('Death by cause')\n",
    "#axs[2,1].axvline(x = t_end, linestyle = 'dotted',color = 'grey')\n"
   ]
  },
  {
   "cell_type": "markdown",
   "metadata": {},
   "source": [
    "## Single plots"
   ]
  },
  {
   "cell_type": "markdown",
   "metadata": {},
   "source": [
    "### Daily new Infected"
   ]
  },
  {
   "cell_type": "code",
   "execution_count": null,
   "metadata": {},
   "outputs": [],
   "source": [
    "plt.plot(simulation2.t+tsim1,simulation2.I_d_det,label='sim2')\n",
    "plt.plot(simulation1.t,simulation1.I_d_det,label='sim1')\n",
    "plt.legend(loc=0)\n",
    "plt.title('Daily New Infected')\n",
    "plt.show()"
   ]
  },
  {
   "cell_type": "markdown",
   "metadata": {},
   "source": [
    "### Daily Deaths"
   ]
  },
  {
   "cell_type": "code",
   "execution_count": null,
   "metadata": {},
   "outputs": [],
   "source": [
    "plt.plot(simulation2.t+tsim1,simulation2.D,label='sim2')\n",
    "plt.plot(simulation1.t,simulation1.D,label='sim1')\n",
    "plt.legend(loc=0)\n",
    "plt.title('Deaths')\n",
    "plt.show()"
   ]
  },
  {
   "cell_type": "markdown",
   "metadata": {},
   "source": [
    "### VMI Usage"
   ]
  },
  {
   "cell_type": "code",
   "execution_count": null,
   "metadata": {},
   "outputs": [],
   "source": [
    "plt.plot(simulation2.t+tsim1,simulation2.V_cap,label='VMI capacity sim2')\n",
    "plt.plot(simulation1.t,simulation1.V_cap,label='VMI capacity sim1')\n",
    "plt.plot(simulation1.t,simulation1.V,label='VMI sim1')\n",
    "plt.plot(simulation2.t+tsim1,simulation2.V,label='VMI sim2')\n",
    "plt.legend(loc=0)\n",
    "plt.title('VMI')\n",
    "plt.scatter(RM.sochimi_tr,RM.Vr,label='Real Data')\n",
    "plt.scatter(RM.sochimi_tr,RM.Vr_tot,label='Real Data')\n",
    "plt.show()"
   ]
  },
  {
   "cell_type": "markdown",
   "metadata": {},
   "source": [
    "### Hospitalization"
   ]
  },
  {
   "cell_type": "code",
   "execution_count": null,
   "metadata": {},
   "outputs": [],
   "source": [
    "plt.plot(simulation2.t+tsim1,simulation2.H_cap,label='sim2')\n",
    "plt.plot(simulation1.t,simulation1.H_cap,label='sim1')\n",
    "plt.plot(simulation1.t,simulation1.Hse+simulation1.Hout,label='UCI/UTI Beds')\n",
    "plt.plot(simulation2.t+tsim1,simulation2.Hse+simulation2.Hout,label='UCI/UTI Beds')\n",
    "plt.legend(loc=0)\n",
    "plt.title('Hospitalization')\n",
    "\n",
    "plt.scatter(RM.sochimi_tr,RM.Hr,label='Real Data')\n",
    "plt.scatter(RM.sochimi_tr,RM.Hr_tot,label='Real Data')\n",
    "plt.show()"
   ]
  },
  {
   "cell_type": "markdown",
   "metadata": {},
   "source": [
    "### Deaths by cause"
   ]
  },
  {
   "cell_type": "code",
   "execution_count": null,
   "metadata": {},
   "outputs": [],
   "source": [
    "plt.plot(simulation2.t+tsim1,simulation2.D,label='sim2')\n",
    "plt.plot(simulation1.t,simulation1.D,label='sim1')\n",
    "\n",
    "\n",
    "plt.plot(simulation2.t+tsim1,simulation2.V_D_d,label='V_D sim2')\n",
    "plt.plot(simulation2.t+tsim1,simulation2.Hse_D_d,label='Hse_D sim2')\n",
    "plt.plot(simulation2.t+tsim1,simulation2.Icr_D_d,label='Icr_D sim2')\n",
    "plt.plot(simulation2.t+tsim1,simulation2.Ise_D_d,label='Ise_D sim2')\n",
    "\n",
    "plt.plot(simulation1.t,simulation1.V_D_d,label='V_D sim1')\n",
    "plt.plot(simulation1.t,simulation1.Hse_D_d,label='Hse_D sim1')\n",
    "plt.plot(simulation1.t,simulation1.Icr_D_d,label='Icr_D sim1')\n",
    "plt.plot(simulation1.t,simulation1.Ise_D_d,label='Ise_D sim1')\n",
    "\n",
    "plt.legend(loc=0)\n",
    "plt.title('Deaths by cause')\n",
    "plt.show()"
   ]
  },
  {
   "cell_type": "markdown",
   "metadata": {},
   "source": [
    "### Hospital saturation"
   ]
  },
  {
   "cell_type": "code",
   "execution_count": null,
   "metadata": {},
   "outputs": [],
   "source": [
    "plt.plot(simulation2.t+tsim1,simulation2.H_sat,label='HSat sim2')\n",
    "plt.plot(simulation1.t,simulation1.H_sat,label='HSat sim1')\n",
    "plt.plot(simulation2.t+tsim1,simulation2.V_sat,label='VSat sim2')\n",
    "plt.plot(simulation1.t,simulation1.V_sat,label='Vsat sim1')\n",
    "plt.legend(loc=0)\n",
    "plt.title('Saturation')\n",
    "plt.show()"
   ]
  },
  {
   "cell_type": "markdown",
   "metadata": {},
   "source": [
    "# Error Calculation\n",
    "The following plots will show the simulation results with the real data"
   ]
  },
  {
   "cell_type": "markdown",
   "metadata": {},
   "source": [
    "## Peak Date"
   ]
  },
  {
   "cell_type": "code",
   "execution_count": 35,
   "metadata": {},
   "outputs": [],
   "source": [
    "peakidx = np.where(RM.Ir==max(RM.Ir))[0][0]\n",
    "datapeakdate = RM.sochimi_dates[peakidx]"
   ]
  },
  {
   "cell_type": "code",
   "execution_count": 36,
   "metadata": {},
   "outputs": [
    {
     "data": {
      "text/plain": [
       "datetime.datetime(2020, 6, 27, 0, 0)"
      ]
     },
     "execution_count": 36,
     "metadata": {},
     "output_type": "execute_result"
    }
   ],
   "source": [
    "simulation.peak_date"
   ]
  },
  {
   "cell_type": "code",
   "execution_count": 37,
   "metadata": {},
   "outputs": [
    {
     "data": {
      "text/plain": [
       "datetime.datetime(2020, 5, 26, 0, 0)"
      ]
     },
     "execution_count": 37,
     "metadata": {},
     "output_type": "execute_result"
    }
   ],
   "source": [
    "datapeakdate"
   ]
  },
  {
   "cell_type": "code",
   "execution_count": 38,
   "metadata": {},
   "outputs": [],
   "source": [
    "Peak_delta = (simulation.peak_date -datapeakdate).days"
   ]
  },
  {
   "cell_type": "code",
   "execution_count": 40,
   "metadata": {},
   "outputs": [
    {
     "data": {
      "text/plain": [
       "32"
      ]
     },
     "execution_count": 40,
     "metadata": {},
     "output_type": "execute_result"
    }
   ],
   "source": [
    "Peak_delta"
   ]
  },
  {
   "cell_type": "markdown",
   "metadata": {},
   "source": [
    "## Errors"
   ]
  },
  {
   "cell_type": "code",
   "execution_count": 25,
   "metadata": {},
   "outputs": [],
   "source": [
    "simulation = simulation1\n",
    "t_end = tsim1\n",
    "t_end_idx = np.where(np.array(RM.tr)>=t_end)[0][0]\n",
    "idx = np.searchsorted(simulation.t,RM.tr[:t_end_idx])\n",
    "E_I = np.sum(abs(RM.Ir[:t_end_idx]-simulation.I_det[idx]))/(np.mean(RM.Ir[:t_end_idx])*t_end_idx)\n",
    "\n",
    "t_end_idx = np.where(np.array(RM.I_d_r_tr)>=t_end)[0][0]\n",
    "idx = np.searchsorted(simulation.t,RM.I_d_r_tr[:t_end_idx])\n",
    "E_Id = np.sum(abs(RM.I_d_r[:t_end_idx]-simulation.I_d_det[idx]))/(np.mean(RM.I_d_r[:t_end_idx])*t_end_idx)\n",
    "\n",
    "t_end_idx = np.where(np.array(RM.I_ac_r_tr)>=t_end)[0][0]\n",
    "idx = np.searchsorted(simulation.t,RM.I_ac_r_tr[:t_end_idx])\n",
    "E_Iac = np.sum(abs(RM.I_ac_r[:t_end_idx]-simulation.I_ac_det[idx]))/(np.mean(RM.I_ac_r[:t_end_idx])*t_end_idx)\n",
    "\n",
    "t_end_idx = np.where(np.array(RM.Br_tr)>=t_end)[0][0]\n",
    "idx = np.searchsorted(simulation.t,RM.Br_tr[:t_end_idx])\n",
    "E_D = np.sum(abs(RM.Br[:t_end_idx]-simulation.B[idx]))/(np.mean(RM.Br[:t_end_idx])*t_end_idx)\n",
    "\n",
    "t_end_idx = np.where(np.array(RM.sochimi_tr)>=t_end)[0][0]\n",
    "idx = np.searchsorted(simulation.t,RM.sochimi_tr[:t_end_idx])\n",
    "E_UCI = np.sum(abs(RM.Hr[:t_end_idx]-(simulation.Hse[idx]+simulation.Hout[idx])))/(np.mean(RM.Hr[:t_end_idx])*t_end_idx)\n",
    "\n",
    "t_end_idx = np.where(np.array(RM.sochimi_tr)>=t_end)[0][0]\n",
    "idx = np.searchsorted(simulation.t,RM.sochimi_tr[:t_end_idx])\n",
    "E_VMI = np.sum(abs(RM.Vr[:t_end_idx]-simulation.V[idx]))/(np.mean(RM.Vr[:t_end_idx])*t_end_idx)\n",
    "\n",
    "Err = {'Active Infected':E_I,'Daily Infected':E_Id,'Accumulated Infected':E_Iac,'Deaths':E_D,'UCI/UTI':E_UCI,'VMI':E_VMI}\n"
   ]
  },
  {
   "cell_type": "code",
   "execution_count": 23,
   "metadata": {},
   "outputs": [
    {
     "name": "stdout",
     "output_type": "stream",
     "text": [
      "{'Active Infected': 0.8782765017055735, 'Daily Infected': 0.4005263543875275, 'Accumulated Infected': 0.2151825554930652, 'Deaths': 0.09194999287733448, 'UCI/UTI': nan, 'VMI': 0.2889537752499383}\n"
     ]
    }
   ],
   "source": [
    "Err = {'Active Infected':E_I,'Daily Infected':E_Id,'Accumulated Infected':E_Iac,'Deaths':E_D,'UCI/UTI':E_UCI,'VMI':E_VMI}\n",
    "print(Err)"
   ]
  }
 ],
 "metadata": {
  "kernelspec": {
   "display_name": "Python 3.8.2 64-bit",
   "language": "python",
   "name": "python38264bit48ae65e862f64697a29185f9fa581b02"
  },
  "language_info": {
   "codemirror_mode": {
    "name": "ipython",
    "version": 3
   },
   "file_extension": ".py",
   "mimetype": "text/x-python",
   "name": "python",
   "nbconvert_exporter": "python",
   "pygments_lexer": "ipython3",
   "version": "3.8.2"
  }
 },
 "nbformat": 4,
 "nbformat_minor": 4
}
