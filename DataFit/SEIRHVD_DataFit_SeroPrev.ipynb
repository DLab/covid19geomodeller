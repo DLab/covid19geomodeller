{
 "cells": [
  {
   "cell_type": "markdown",
   "metadata": {},
   "source": [
    "# SEIRHVD Data Fit\n",
    "\n",
    "This Jupyter notebooks implements the SEIRHVD4 model for fitting the actual Chilean data in order to make projections in bed usage, amount of infected and deaths. \n",
    "This implements a single instance to facilitate understanding the model prior to run multiple data fittings at a time."
   ]
  },
  {
   "cell_type": "code",
   "execution_count": null,
   "metadata": {},
   "outputs": [],
   "source": [
    "import numpy as np\n",
    "import pandas as pd\n",
    "import matplotlib.pyplot as plt\n",
    "from datetime import datetime\n",
    "from numpy import linalg as LA\n",
    "\n",
    "import platform\n",
    "OS = platform.system()\n",
    "\n",
    "import matplotlib.pyplot as plt\n",
    "if OS == 'Linux':    \n",
    "    %matplotlib tk\n",
    "    print('Linux')\n",
    "elif OS == 'Windows':\n",
    "    %matplotlib qt\n",
    "    print('Windows')\n",
    "else:\n",
    "    print('OS not detected :-|')\n",
    "\n",
    "import sys\n",
    "from pathlib import Path\n",
    "sys.path.insert(1, '../src/SEIRHVD/')\n",
    "sys.path.insert(1, '../src/utils/')\n",
    "sys.path.insert(1, 'src/SEIRHVD/')\n",
    "sys.path.insert(1, 'src/utils/')\n",
    "\n",
    "from class_SEIRHUVD4 import SEIRHVD \n",
    "from Quarantine import Quarantine\n",
    "from importdata import ImportData"
   ]
  },
  {
   "cell_type": "markdown",
   "metadata": {},
   "source": [
    "## Time Variables\n",
    "Declare Initial date for simulating and data fitting"
   ]
  },
  {
   "cell_type": "code",
   "execution_count": null,
   "metadata": {},
   "outputs": [],
   "source": [
    "initdate = datetime(2020,5,15)\n",
    "initdate2 = datetime(2020,8,24)\n",
    "currentdate = datetime.now()\n",
    "currentday = (currentdate - initdate).days"
   ]
  },
  {
   "cell_type": "markdown",
   "metadata": {},
   "source": [
    "## Import Data\n",
    "To import data we use an ImportData object which is initialized with the region's cut and the initial date. Meanwhile we will adjust this data for regions, then I'll add Heath sector as the minimum territorial unit for SEIRHVD models."
   ]
  },
  {
   "cell_type": "code",
   "execution_count": null,
   "metadata": {
    "scrolled": true
   },
   "outputs": [],
   "source": [
    "tstate = '13'\n",
    "\n",
    "# Import Data\n",
    "RM = ImportData(tstate=tstate,initdate = initdate)\n",
    "RM.importdata()"
   ]
  },
  {
   "cell_type": "markdown",
   "metadata": {},
   "source": [
    "## Simulation Parameters"
   ]
  },
  {
   "cell_type": "code",
   "execution_count": null,
   "metadata": {},
   "outputs": [],
   "source": [
    "# Simulation parameters\n",
    "tsimtot = 1000\n",
    "\n",
    "tsim1 = (initdate2 - initdate).days \n",
    "tsim2 = tsimtot-tsim1\n",
    "\n",
    "beta = 0.16\n",
    "mu = 0.8\n",
    "k = 1\n",
    "\n",
    "SeroPrevFactor1=0.06\n",
    "SeroPrevFactor2=0.025\n",
    "\n",
    "expinfection=0 # Proportion in which the exposed infect - 0: nothing, 1: equally as Infected\n"
   ]
  },
  {
   "cell_type": "markdown",
   "metadata": {},
   "source": [
    "## Quarantines\n",
    "Build Quarantine Object:\n",
    " \n",
    "     Q = Quarantine(rem_mob,max_mob=max_mob,qp=0,iqt=0,fqt=1000,movfunct = 'once')\n",
    "     alpha = Q.alpha\n",
    "     \n",
    "     Plot Quarantine dynamics:\n",
    "         Q.plot()"
   ]
  },
  {
   "cell_type": "code",
   "execution_count": null,
   "metadata": {},
   "outputs": [],
   "source": [
    "# Quarantines \n",
    "max_mob = 0.55\n",
    "rem_mob = 0.45\n",
    "t_end_date=datetime(2020,8,25)\n",
    "t_end=(t_end_date-initdate).days\n",
    "\n",
    "alpha = Quarantine(rem_mob,max_mob,qp=0,iqt=0,fqt=t_end).alpha\n",
    "alpha = Quarantine(rem_mob).alpha"
   ]
  },
  {
   "cell_type": "markdown",
   "metadata": {},
   "source": [
    "## Underreport\n",
    "Fraction of Infected detected/reported  \n",
    "    - Imi_det: fraction of Mild detected\n",
    "    - Imi_as: fraction of asymptomatic detected\n",
    "    \n",
    "If both are 1, means that all infected are detected so I_det = I"
   ]
  },
  {
   "cell_type": "code",
   "execution_count": null,
   "metadata": {},
   "outputs": [],
   "source": [
    "Imi_det = 1\n",
    "Ias_det = 0"
   ]
  },
  {
   "cell_type": "markdown",
   "metadata": {},
   "source": [
    "## Modify State Parameters:\n",
    "        self.pE_Ias = 0.4# Transicion de Expuesto a Infectado asintomatico\n",
    "        self.tE_Ias = 5.0\n",
    "\n",
    "        self.pE_Imi = 0.55#78 # Transicion de Expuesto a Infectado Mild\n",
    "        self.tE_Imi = 5.0\n",
    "\n",
    "        self.pE_Icr = 0.01666#8 # Transicion de Expuesto a Infectado critico\n",
    "        self.tE_Icr = 3.0\n",
    "\n",
    "        self.pE_Ise = 0.03334#14 # Transicion de Expuesto a Infectado Severo\n",
    "        self.tE_Ise = 3.0\n",
    "\n",
    "        self.pIas_R = 1.0   # Transicion de Infectado asintomatico a Recuperado\n",
    "        self.tIas_R = 10.0 \n",
    "\n",
    "        self.pImi_R = 1.0  # Transicion de Infectado mild a Recuperado\n",
    "        self.tImi_R = 15.0\n",
    "\n",
    "        self.pIse_Hse = 1.0  # Transicion de Infectado serio a Hospitalizado (si no ha colapsado Htot)\n",
    "        self.tIse_Hse = 3.0 \n",
    "\n",
    "        self.pIse_D = 1.0  # Transicion de Infectado serio a Hospitalizado (si no ha colapsado Htot)\n",
    "        self.tIse_D = 3.0         \n",
    "\n",
    "        self.pIcr_V = 1.0 # Transicion de Hospitalizado critico a Ventilado (si no ha colapsado V)\n",
    "        self.tIcr_V = 3.0 \n",
    "\n",
    "        self.pIcr_D = 1.0 # Transicion de Hospitalizado critico a Ventilado (si no ha colapsado V)\n",
    "        self.tIcr_D = 3.0         \n",
    "\n",
    "        self.pHse_R = 0.97 # Transicion de Hospitalizado a Hospitalizado Critico (si no ha colapsado Htot)\n",
    "        self.tHse_R = 11.0\n",
    "\n",
    "        self.pHse_V = 0.03 # Transicion de Hospitalizado a VMI (si no ha colapsado VMI)\n",
    "        self.tHse_V = 3.0\n",
    "\n",
    "        self.pHse_D = 0.03 # Transicion de Hospitalizado a Hospitalizado Critico (si no ha colapsado Htot)\n",
    "        self.tHse_D = 3.0        \n",
    "\n",
    "        self.pV_Hout = 0.5 # Mejora de ventilado hospitalizado, transita a Hout\n",
    "        self.tV_Hout = 15.0\n",
    "\n",
    "        self.pV_D = 0.5 # VMI to Death\n",
    "        self.tV_D = 15.0\n",
    "\n",
    "        self.pHout_R = 1.0 # Mejora del paciente hospitalizado, Hout a R\n",
    "        self.tHout_R = 4.0\n",
    "\n",
    "        self.pD_B = 1.0 # Entierros\n",
    "        self.tD_B = 1.0 \n",
    "\n",
    "        self.betaD = 0\n",
    "        self.eta = 0.0 # tasa de perdida de inmunidad (1/periodo)"
   ]
  },
  {
   "cell_type": "code",
   "execution_count": null,
   "metadata": {},
   "outputs": [],
   "source": [
    "pE_Ias = 0.4# Transicion de Expuesto a Infectado asintomatico\n",
    "tE_Ias = 5.0\n",
    "\n",
    "pE_Imi = 0.55#78 # Transicion de Expuesto a Infectado Mild\n",
    "tE_Imi = 5.0\n",
    "\n",
    "pE_Icr = 0.01666#8 # Transicion de Expuesto a Infectado critico\n",
    "tE_Icr = 3.0\n",
    "\n",
    "pE_Ise = 0.03334#14 # Transicion de Expuesto a Infectado Severo\n",
    "tE_Ise = 3.0\n",
    "\n",
    "pIas_R = 1.0   # Transicion de Infectado asintomatico a Recuperado\n",
    "tIas_R = 10.0 \n",
    "\n",
    "pImi_R = 1.0  # Transicion de Infectado mild a Recuperado\n",
    "tImi_R = 15.0\n",
    "\n",
    "pIse_Hse = 1.0  # Transicion de Infectado serio a Hospitalizado (si no ha colapsado Htot)\n",
    "tIse_Hse = 3.0 \n",
    "\n",
    "pIse_D = 1.0  # Transicion de Infectado serio a Hospitalizado (si no ha colapsado Htot)\n",
    "tIse_D = 3.0         \n",
    "\n",
    "pIcr_V = 1.0 # Transicion de Hospitalizado critico a Ventilado (si no ha colapsado V)\n",
    "tIcr_V = 3.0 \n",
    "\n",
    "pIcr_D = 1.0 # Transicion de Hospitalizado critico a Ventilado (si no ha colapsado V)\n",
    "tIcr_D = 3.0         \n",
    "\n",
    "pHse_R = 0.97 # Transicion de Hospitalizado a Hospitalizado Critico (si no ha colapsado Htot)\n",
    "tHse_R = 11.0\n",
    "\n",
    "pHse_V = 0.03 # Transicion de Hospitalizado a VMI (si no ha colapsado VMI)\n",
    "tHse_V = 3.0\n",
    "\n",
    "pHse_D = 0.03 # Transicion de Hospitalizado a Hospitalizado Critico (si no ha colapsado Htot)\n",
    "tHse_D = 3.0        \n",
    "\n",
    "pV_Hout = 0.5 # Mejora de ventilado hospitalizado, transita a Hout\n",
    "tV_Hout = 15.0\n",
    "\n",
    "pV_D = 0.5 # VMI to Death\n",
    "tV_D = 15.0\n",
    "\n",
    "pHout_R = 1.0 # Mejora del paciente hospitalizado, Hout a R\n",
    "tHout_R = 4.0"
   ]
  },
  {
   "cell_type": "markdown",
   "metadata": {},
   "source": [
    "## Simulation\n",
    "Initialize Simulation Object, and run the simulation. "
   ]
  },
  {
   "cell_type": "code",
   "execution_count": null,
   "metadata": {},
   "outputs": [],
   "source": [
    "simulation1 = SEIRHVD(tsim1,beta,mu,alpha,k=k,SeroPrevFactor=SeroPrevFactor1,expinfection=expinfection,RealIC = RM,Imi_det = Imi_det,Ias_det = Ias_det)"
   ]
  },
  {
   "cell_type": "markdown",
   "metadata": {},
   "source": [
    "### Setting new params"
   ]
  },
  {
   "cell_type": "code",
   "execution_count": null,
   "metadata": {},
   "outputs": [],
   "source": [
    "simulation1.pE_Ias=pE_Ias\n",
    "simulation1.tE_Ias=tE_Ias\n",
    "simulation1.pE_Imi=pE_Imi\n",
    "simulation1.tE_Imi=tE_Imi\n",
    "simulation1.pE_Icr=pE_Icr\n",
    "simulation1.tE_Icr=tE_Icr\n",
    "simulation1.pE_Ise=pE_Ise\n",
    "simulation1.tE_Ise=tE_Ise\n",
    "simulation1.pIas_R=pIas_R\n",
    "simulation1.tIas_R =tIas_R\n",
    "simulation1.pImi_R=pImi_R\n",
    "simulation1.tImi_R =tImi_R\n",
    "simulation1.pIse_Hse=pIse_Hse\n",
    "simulation1.tIse_Hse=tIse_Hse\n",
    "simulation1.pIse_D=pIse_D\n",
    "simulation1.tIse_D=tIse_D\n",
    "simulation1.pIcr_V=pIcr_V\n",
    "simulation1.tIcr_V=tIcr_V\n",
    "simulation1.pIcr_D=pIcr_D\n",
    "simulation1.tIcr_D=tIcr_D\n",
    "simulation1.pHse_R=pHse_R\n",
    "simulation1.tHse_R =tHse_R\n",
    "simulation1.pHse_V=pHse_V\n",
    "simulation1.tHse_V=tHse_V\n",
    "simulation1.pHse_D=pHse_D\n",
    "simulation1.tHse_D=tHse_D\n",
    "simulation1.pV_Hout=pV_Hout\n",
    "simulation1.tV_Hout =tV_Hout\n",
    "simulation1.pV_D=pV_D\n",
    "simulation1.tV_D =tV_D\n",
    "simulation1.pHout_R=pHout_R\n",
    "simulation1.tHout_R=tHout_R\n",
    "simulation1.setnewparams()"
   ]
  },
  {
   "cell_type": "markdown",
   "metadata": {},
   "source": [
    "## Run simulation"
   ]
  },
  {
   "cell_type": "code",
   "execution_count": null,
   "metadata": {},
   "outputs": [],
   "source": [
    "simulation1.integr_sci(0,tsim1,0.1)"
   ]
  },
  {
   "cell_type": "markdown",
   "metadata": {},
   "source": [
    "## Simulation 2"
   ]
  },
  {
   "cell_type": "code",
   "execution_count": null,
   "metadata": {},
   "outputs": [],
   "source": [
    "simulation2 = SEIRHVD(tsim2,beta,mu,alpha,k=k,SeroPrevFactor=SeroPrevFactor2,Imi_det = Imi_det,Ias_det = Ias_det,SimIC=simulation1,initdate=initdate2)"
   ]
  },
  {
   "cell_type": "code",
   "execution_count": null,
   "metadata": {},
   "outputs": [],
   "source": [
    "simulation2.pE_Ias=pE_Ias\n",
    "simulation2.tE_Ias=tE_Ias\n",
    "simulation2.pE_Imi=pE_Imi\n",
    "simulation2.tE_Imi=tE_Imi\n",
    "simulation2.pE_Icr=pE_Icr\n",
    "simulation2.tE_Icr=tE_Icr\n",
    "simulation2.pE_Ise=pE_Ise\n",
    "simulation2.tE_Ise=tE_Ise\n",
    "simulation2.pIas_R=pIas_R\n",
    "simulation2.tIas_R =tIas_R\n",
    "simulation2.pImi_R=pImi_R\n",
    "simulation2.tImi_R =tImi_R\n",
    "simulation2.pIse_Hse=pIse_Hse\n",
    "simulation2.tIse_Hse=tIse_Hse\n",
    "simulation2.pIse_D=pIse_D\n",
    "simulation2.tIse_D=tIse_D\n",
    "simulation2.pIcr_V=pIcr_V\n",
    "simulation2.tIcr_V=tIcr_V\n",
    "simulation2.pIcr_D=pIcr_D\n",
    "simulation2.tIcr_D=tIcr_D\n",
    "simulation2.pHse_R=pHse_R\n",
    "simulation2.tHse_R =tHse_R\n",
    "simulation2.pHse_V=pHse_V\n",
    "simulation2.tHse_V=tHse_V\n",
    "simulation2.pHse_D=pHse_D\n",
    "simulation2.tHse_D=tHse_D\n",
    "simulation2.pV_Hout=pV_Hout\n",
    "simulation2.tV_Hout =tV_Hout\n",
    "simulation2.pV_D=pV_D\n",
    "simulation2.tV_D =tV_D\n",
    "simulation2.pHout_R=pHout_R\n",
    "simulation2.tHout_R=tHout_R\n",
    "simulation2.setnewparams()"
   ]
  },
  {
   "cell_type": "markdown",
   "metadata": {},
   "source": [
    "### Run simulation 2"
   ]
  },
  {
   "cell_type": "code",
   "execution_count": null,
   "metadata": {},
   "outputs": [],
   "source": [
    "simulation2.integr_sci(0,tsim2,0.1)"
   ]
  },
  {
   "cell_type": "markdown",
   "metadata": {},
   "source": [
    "# Analysis"
   ]
  },
  {
   "cell_type": "markdown",
   "metadata": {},
   "source": [
    "## Grid Plot"
   ]
  },
  {
   "cell_type": "code",
   "execution_count": null,
   "metadata": {},
   "outputs": [],
   "source": [
    "days = 250"
   ]
  },
  {
   "cell_type": "code",
   "execution_count": null,
   "metadata": {},
   "outputs": [],
   "source": [
    "fig, axs = plt.subplots(2, 3)\n",
    "axs[0,0].set_xlim(0,days)\n",
    "axs[0,0].scatter(RM.tr,RM.Ir,label='Real Active Data')\n",
    "axs[0,0].plot(simulation1.t,simulation1.I_det,label='Infected')\n",
    "axs[0,0].plot(simulation2.t+tsim1,simulation2.I_det,label='Infected')\n",
    "axs[0,0].set_title('Active Infected')\n",
    "axs[0,0].axvline(x = t_end, linestyle = 'dotted',color = 'grey')\n",
    "\n",
    "\n",
    "axs[0,1].set_xlim(0,days)\n",
    "axs[0,1].plot(simulation2.t+tsim1,simulation2.I_d_det,label='sim2')\n",
    "axs[0,1].plot(simulation1.t,simulation1.I_d_det,label='sim1')\n",
    "axs[0,1].scatter(RM.I_d_r_tr,RM.I_d_r,label='Daily Real Data')\n",
    "axs[0,1].set_title('Daily infected')\n",
    "axs[0,1].axvline(x = t_end, linestyle = 'dotted',color = 'grey')\n",
    "\n",
    "\n",
    "axs[0,2].set_xlim(0,days)\n",
    "axs[0,2].plot(simulation2.t+tsim1,simulation2.I_ac_det,label='sim2')\n",
    "axs[0,2].plot(simulation1.t,simulation1.I_ac_det,label='sim1')\n",
    "axs[0,2].scatter(RM.I_ac_r_tr,RM.I_ac_r,label='Accumulated Real Data')\n",
    "axs[0,2].set_title('Accumulated Infected')\n",
    "axs[0,2].axvline(x = t_end, linestyle = 'dotted',color = 'grey')\n",
    "\n",
    "\n",
    "axs[1,0].set_xlim(0,days)\n",
    "axs[1,0].plot(simulation2.t+tsim1,simulation2.B,label='sim2')\n",
    "axs[1,0].plot(simulation1.t,simulation1.B,label='sim1')\n",
    "axs[1,0].scatter(RM.Br_tr,RM.Br,label='Real Data')\n",
    "axs[1,0].set_title('Acmulated Deaths')\n",
    "axs[1,0].axvline(x = t_end, linestyle = 'dotted',color = 'grey')\n",
    "\n",
    "\n",
    "axs[1,1].set_xlim(0,days)\n",
    "axs[1,1].plot(simulation1.t,simulation1.Hse+simulation1.Hout,label='UCI/UTI Beds')\n",
    "axs[1,1].plot(simulation2.t+tsim1,simulation2.Hse+simulation2.Hout,label='UCI/UTI Beds')\n",
    "axs[1,1].scatter(RM.sochimi_tr,RM.Hr,label='Real Data')\n",
    "axs[1,1].scatter(RM.sochimi_tr,RM.Hr_tot,label='Capacity Data', color = 'red')\n",
    "axs[1,1].set_title('UCI/UTI Usage')\n",
    "axs[1,1].axvline(x = t_end, linestyle = 'dotted',color = 'grey')\n",
    "\n",
    "\n",
    "axs[1,2].set_xlim(0,days)\n",
    "axs[1,2].plot(simulation2.t+tsim1,simulation2.V,label='VSat sim2')\n",
    "axs[1,2].plot(simulation1.t,simulation1.V,label='Vsat sim1')\n",
    "axs[1,2].scatter(RM.sochimi_tr,RM.Vr,label='Real Data')\n",
    "axs[1,2].scatter(RM.sochimi_tr,RM.Vr_tot,label='Capacity Data',color = 'red')\n",
    "axs[1,2].set_title('VMI Usage')\n",
    "axs[1,2].axvline(x = t_end, linestyle = 'dotted',color = 'grey')\n",
    "\n",
    "\n",
    "#axs[2,1].plot(simulation2.t+tsim1,simulation2.V_D_d,label='V_D sim2')\n",
    "#axs[2,1].plot(simulation2.t+tsim1,simulation2.Hse_D_d,label='Hse_D sim2')\n",
    "#axs[2,1].plot(simulation2.t+tsim1,simulation2.Icr_D_d,label='Icr_D sim2')\n",
    "#axs[2,1].plot(simulation2.t+tsim1,simulation2.Ise_D_d,label='Ise_D sim2')\n",
    "#axs[2,1].plot(simulation1.t,simulation1.V_D_d,label='V_D sim1')\n",
    "#axs[2,1].plot(simulation1.t,simulation1.Hse_D_d,label='Hse_D sim1')\n",
    "#axs[2,1].plot(simulation1.t,simulation1.Icr_D_d,label='Icr_D sim1')\n",
    "#axs[2,1].plot(simulation1.t,simulation1.Ise_D_d,label='Ise_D sim1')\n",
    "#axs[2,1].set_title('Death by cause')\n",
    "#axs[2,1].axvline(x = t_end, linestyle = 'dotted',color = 'grey')\n"
   ]
  },
  {
   "cell_type": "markdown",
   "metadata": {},
   "source": [
    "## Single plots"
   ]
  },
  {
   "cell_type": "markdown",
   "metadata": {},
   "source": [
    "### Daily new Infected"
   ]
  },
  {
   "cell_type": "code",
   "execution_count": null,
   "metadata": {},
   "outputs": [],
   "source": [
    "plt.plot(simulation2.t+tsim1,simulation2.I_d_det,label='sim2')\n",
    "plt.plot(simulation1.t,simulation1.I_d_det,label='sim1')\n",
    "plt.legend(loc=0)\n",
    "plt.title('Daily New Infected')\n",
    "plt.show()"
   ]
  },
  {
   "cell_type": "markdown",
   "metadata": {},
   "source": [
    "### Daily Deaths"
   ]
  },
  {
   "cell_type": "code",
   "execution_count": null,
   "metadata": {},
   "outputs": [],
   "source": [
    "plt.plot(simulation2.t+tsim1,simulation2.D,label='sim2')\n",
    "plt.plot(simulation1.t,simulation1.D,label='sim1')\n",
    "plt.legend(loc=0)\n",
    "plt.title('Deaths')\n",
    "plt.show()"
   ]
  },
  {
   "cell_type": "markdown",
   "metadata": {},
   "source": [
    "### VMI Usage"
   ]
  },
  {
   "cell_type": "code",
   "execution_count": null,
   "metadata": {},
   "outputs": [],
   "source": [
    "plt.plot(simulation2.t+tsim1,simulation2.V_cap,label='VMI capacity sim2')\n",
    "plt.plot(simulation1.t,simulation1.V_cap,label='VMI capacity sim1')\n",
    "plt.plot(simulation1.t,simulation1.V,label='VMI sim1')\n",
    "plt.plot(simulation2.t+tsim1,simulation2.V,label='VMI sim2')\n",
    "plt.legend(loc=0)\n",
    "plt.title('VMI')\n",
    "plt.scatter(RM.sochimi_tr,RM.Vr,label='Real Data')\n",
    "plt.scatter(RM.sochimi_tr,RM.Vr_tot,label='Real Data')\n",
    "plt.show()"
   ]
  },
  {
   "cell_type": "markdown",
   "metadata": {},
   "source": [
    "### Hospitalization"
   ]
  },
  {
   "cell_type": "code",
   "execution_count": null,
   "metadata": {},
   "outputs": [],
   "source": [
    "plt.plot(simulation2.t+tsim1,simulation2.H_cap,label='sim2')\n",
    "plt.plot(simulation1.t,simulation1.H_cap,label='sim1')\n",
    "plt.plot(simulation1.t,simulation1.Hse+simulation1.Hout,label='UCI/UTI Beds')\n",
    "plt.plot(simulation2.t+tsim1,simulation2.Hse+simulation2.Hout,label='UCI/UTI Beds')\n",
    "plt.legend(loc=0)\n",
    "plt.title('Hospitalization')\n",
    "\n",
    "plt.scatter(RM.sochimi_tr,RM.Hr,label='Real Data')\n",
    "plt.scatter(RM.sochimi_tr,RM.Hr_tot,label='Real Data')\n",
    "plt.show()"
   ]
  },
  {
   "cell_type": "markdown",
   "metadata": {},
   "source": [
    "### Deaths by cause"
   ]
  },
  {
   "cell_type": "code",
   "execution_count": null,
   "metadata": {},
   "outputs": [],
   "source": [
    "plt.plot(simulation2.t+tsim1,simulation2.D,label='sim2')\n",
    "plt.plot(simulation1.t,simulation1.D,label='sim1')\n",
    "\n",
    "\n",
    "plt.plot(simulation2.t+tsim1,simulation2.V_D_d,label='V_D sim2')\n",
    "plt.plot(simulation2.t+tsim1,simulation2.Hse_D_d,label='Hse_D sim2')\n",
    "plt.plot(simulation2.t+tsim1,simulation2.Icr_D_d,label='Icr_D sim2')\n",
    "plt.plot(simulation2.t+tsim1,simulation2.Ise_D_d,label='Ise_D sim2')\n",
    "\n",
    "plt.plot(simulation1.t,simulation1.V_D_d,label='V_D sim1')\n",
    "plt.plot(simulation1.t,simulation1.Hse_D_d,label='Hse_D sim1')\n",
    "plt.plot(simulation1.t,simulation1.Icr_D_d,label='Icr_D sim1')\n",
    "plt.plot(simulation1.t,simulation1.Ise_D_d,label='Ise_D sim1')\n",
    "\n",
    "plt.legend(loc=0)\n",
    "plt.title('Deaths by cause')\n",
    "plt.show()"
   ]
  },
  {
   "cell_type": "markdown",
   "metadata": {},
   "source": [
    "### Hospital saturation"
   ]
  },
  {
   "cell_type": "code",
   "execution_count": null,
   "metadata": {},
   "outputs": [],
   "source": [
    "plt.plot(simulation2.t+tsim1,simulation2.H_sat,label='HSat sim2')\n",
    "plt.plot(simulation1.t,simulation1.H_sat,label='HSat sim1')\n",
    "plt.plot(simulation2.t+tsim1,simulation2.V_sat,label='VSat sim2')\n",
    "plt.plot(simulation1.t,simulation1.V_sat,label='Vsat sim1')\n",
    "plt.legend(loc=0)\n",
    "plt.title('Saturation')\n",
    "plt.show()"
   ]
  },
  {
   "cell_type": "markdown",
   "metadata": {},
   "source": [
    "# Error Calculation\n",
    "**No está listo =(**\n",
    "\n",
    "The following plots will show the simulation results with the real data"
   ]
  },
  {
   "cell_type": "markdown",
   "metadata": {},
   "source": [
    "### Errors"
   ]
  },
  {
   "cell_type": "code",
   "execution_count": null,
   "metadata": {},
   "outputs": [],
   "source": [
    "simulation = simulation1\n",
    "t_end_idx = np.where(np.array(RM.tr)>=t_end)[0][0]\n",
    "idx = np.searchsorted(simulation.t,RM.tr[:t_end_idx])\n",
    "E_I = np.sum(abs(RM.Ir[:t_end_idx]-simulation.I_det[idx]))/(np.mean(RM.Ir[:t_end_idx])*t_end_idx)\n",
    "\n",
    "t_end_idx = np.where(np.array(RM.I_d_r_tr)>=t_end)[0][0]\n",
    "idx = np.searchsorted(simulation.t,RM.I_d_r_tr[:t_end_idx])\n",
    "E_Id = np.sum(abs(RM.I_d_r[:t_end_idx]-simulation.I_d_det[idx]))/(np.mean(RM.I_d_r[:t_end_idx])*t_end_idx)\n",
    "\n",
    "t_end_idx = np.where(np.array(RM.I_ac_r_tr)>=t_end)[0][0]\n",
    "idx = np.searchsorted(simulation.t,RM.I_ac_r_tr[:t_end_idx])\n",
    "E_Iac = np.sum(abs(RM.I_ac_r[:t_end_idx]-simulation.I_ac_det[idx]))/(np.mean(RM.I_ac_r[:t_end_idx])*t_end_idx)\n",
    "\n",
    "t_end_idx = np.where(np.array(RM.Br_tr)>=t_end)[0][0]\n",
    "idx = np.searchsorted(simulation.t,RM.Br_tr[:t_end_idx])\n",
    "E_D = np.sum(abs(RM.Br[:t_end_idx]-simulation.B[idx]))/(np.mean(RM.Br[:t_end_idx])*t_end_idx)\n",
    "\n",
    "t_end_idx = np.where(np.array(RM.sochimi_tr)>=t_end)[0][0]\n",
    "idx = np.searchsorted(simulation.t,RM.sochimi_tr[:t_end_idx])\n",
    "E_UCI = np.sum(abs(RM.Hr[:t_end_idx]-(simulation.Hse[idx]+simulation.Hout[idx])))/(np.mean(RM.Hr[:t_end_idx])*t_end_idx)\n",
    "\n",
    "t_end_idx = np.where(np.array(RM.sochimi_tr)>=t_end)[0][0]\n",
    "idx = np.searchsorted(simulation.t,RM.sochimi_tr[:t_end_idx])\n",
    "E_VMI = np.sum(abs(RM.Vr[:t_end_idx]-simulation.V[idx]))/(np.mean(RM.Vr[:t_end_idx])*t_end_idx)\n",
    "\n",
    "Err = {'Active Infected':E_I,'Daily Infected':E_Id,'Accumulated Infected':E_Iac,'Deaths':E_D,'UCI/UTI':E_UCI,'VMI':E_VMI}\n"
   ]
  },
  {
   "cell_type": "code",
   "execution_count": null,
   "metadata": {},
   "outputs": [],
   "source": [
    "Err = {'Active Infected':E_I,'Daily Infected':E_Id,'Accumulated Infected':E_Iac,'Deaths':E_D,'UCI/UTI':E_UCI,'VMI':E_VMI}\n",
    "print(Err)"
   ]
  },
  {
   "cell_type": "markdown",
   "metadata": {},
   "source": [
    "# Objective Functions\n",
    "\n"
   ]
  },
  {
   "cell_type": "code",
   "execution_count": null,
   "metadata": {},
   "outputs": [],
   "source": [
    "# Date until which we calculate the error (normally when the quarantine dynamic change)\n",
    "t1_date = datetime(2020,8,15)\n",
    "\n",
    "\n",
    "t1_day = (t1_date-initdate).days\n",
    "t1_idx = np.where(np.array(RM.tr)>=t1_day)[0][0]\n",
    "idx = np.searchsorted(simulation.t,RM.tr[:t1_idx])"
   ]
  },
  {
   "cell_type": "markdown",
   "metadata": {},
   "source": [
    "## Error:"
   ]
  },
  {
   "cell_type": "code",
   "execution_count": null,
   "metadata": {},
   "outputs": [],
   "source": [
    "Err = np.sum(abs(RM.Ir[:t1_idx]-simulation.I[idx]))/np.mean(RM.Ir[:t1_idx])\n",
    "print(Err)\n"
   ]
  },
  {
   "cell_type": "code",
   "execution_count": null,
   "metadata": {},
   "outputs": [],
   "source": [
    "simulation.peak_date"
   ]
  },
  {
   "cell_type": "code",
   "execution_count": null,
   "metadata": {},
   "outputs": [],
   "source": [
    "RM.initdate"
   ]
  }
 ],
 "metadata": {
  "kernelspec": {
   "display_name": "Python 3.8.2 64-bit",
   "language": "python",
   "name": "python38264bit48ae65e862f64697a29185f9fa581b02"
  },
  "language_info": {
   "codemirror_mode": {
    "name": "ipython",
    "version": 3
   },
   "file_extension": ".py",
   "mimetype": "text/x-python",
   "name": "python",
   "nbconvert_exporter": "python",
   "pygments_lexer": "ipython3",
   "version": "3.8.2"
  }
 },
 "nbformat": 4,
 "nbformat_minor": 4
}
