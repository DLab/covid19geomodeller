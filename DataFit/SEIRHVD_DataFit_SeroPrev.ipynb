{
 "cells": [
  {
   "cell_type": "markdown",
   "metadata": {},
   "source": [
    "# SEIRHVD Data Fit\n",
    "\n",
    "This Jupyter notebooks implements the SEIRHVD model for fitting the actual Chilean data in order to make projections in VMI and bed usage, amount of infected and deaths. This model uses the SEIRHVD 4.1 version. A visual representation of the model is available at: [SEIRHVD Miró Model](https://miro.com/app/board/o9J_ktzN4xA=/)\n",
    "\n",
    "This implements a single instance to facilitate understanding the model prior to run multiple data fittings at a time.\n",
    "\n"
   ]
  },
  {
   "cell_type": "code",
   "execution_count": 1,
   "metadata": {},
   "outputs": [
    {
     "name": "stdout",
     "output_type": "stream",
     "text": [
      "Linux\n"
     ]
    }
   ],
   "source": [
    "import numpy as np\n",
    "import pandas as pd\n",
    "import matplotlib.pyplot as plt\n",
    "from datetime import datetime\n",
    "from numpy import linalg as LA\n",
    "\n",
    "import platform\n",
    "OS = platform.system()\n",
    "\n",
    "import matplotlib.pyplot as plt\n",
    "if OS == 'Linux':    \n",
    "    %matplotlib tk\n",
    "    print('Linux')\n",
    "elif OS == 'Windows':\n",
    "    %matplotlib qt\n",
    "    print('Windows')\n",
    "else:\n",
    "    print('OS not detected :-|')\n",
    "\n",
    "import sys\n",
    "from pathlib import Path\n",
    "sys.path.insert(1, '../src/SEIRHVD/')\n",
    "sys.path.insert(1, '../src/utils/')\n",
    "sys.path.insert(1, 'src/SEIRHVD/')\n",
    "sys.path.insert(1, 'src/utils/')\n",
    "\n",
    "from class_SEIRHUVD4 import SEIRHVD \n",
    "from Quarantine import Quarantine\n",
    "from importdata import ImportData"
   ]
  },
  {
   "cell_type": "markdown",
   "metadata": {},
   "source": [
    "## Time Variables\n",
    "Declare Initial date for simulating and data fitting"
   ]
  },
  {
   "cell_type": "code",
   "execution_count": 2,
   "metadata": {},
   "outputs": [],
   "source": [
    "# First simulation Initial date\n",
    "initdate = datetime(2020,5,15)\n",
    "# Date for change in SeroPrevalence\n",
    "initdate2 = datetime(2020,8,24)\n",
    "\n",
    "# Current date\n",
    "currentdate = datetime.now()\n",
    "currentday = (currentdate - initdate).days"
   ]
  },
  {
   "cell_type": "markdown",
   "metadata": {},
   "source": [
    "## Import Data\n",
    "To import data we use an ImportData object which is initialized with the region's cut and the initial date. RM region is represented by cut = 13."
   ]
  },
  {
   "cell_type": "code",
   "execution_count": 3,
   "metadata": {
    "scrolled": true
   },
   "outputs": [
    {
     "name": "stdout",
     "output_type": "stream",
     "text": [
      "Importing General Data\n",
      "Importing Population\n",
      "Importing Active infected\n",
      "Importing Accumulated Infected\n",
      "Importing Daily Infected\n",
      "Importing Sochimi Data 2\n",
      "Importing Accumulated Deaths\n",
      "Importing Active Infected by Minciencia\n",
      "Importing Hospitalized/NonHospitalized Deaths\n",
      "Done\n"
     ]
    }
   ],
   "source": [
    "tstate = '13'\n",
    "\n",
    "# Import Data\n",
    "RM = ImportData(tstate=tstate,initdate = initdate)\n",
    "RM.importdata()"
   ]
  },
  {
   "cell_type": "markdown",
   "metadata": {},
   "source": [
    "## Datos de Hospitalizados a fitear"
   ]
  },
  {
   "cell_type": "code",
   "execution_count": 4,
   "metadata": {},
   "outputs": [],
   "source": [
    "#RM.Hr = np.array(RM.UCI) + np.array(RM.UTI)\n",
    "#RM.Hr_tot = np.array(RM.UCI_tot) + np.array(RM.UTI_tot)\n",
    "RM.Hr = np.array(RM.UTI)\n",
    "RM.Hr_tot = np.array(RM.UTI_tot)"
   ]
  },
  {
   "cell_type": "markdown",
   "metadata": {},
   "source": [
    "## Simulation Parameters"
   ]
  },
  {
   "cell_type": "code",
   "execution_count": 5,
   "metadata": {},
   "outputs": [],
   "source": [
    "# Total simulation time\n",
    "tsimtot = 1000\n",
    "\n",
    "tsim1 = (initdate2 - initdate).days \n",
    "tsim2 = tsimtot-tsim1\n",
    "\n",
    "beta = 0.13\n",
    "mu = 1.2\n",
    "k = 0\n",
    "\n",
    "SeroPrevFactor1=0.06\n",
    "SeroPrevFactor2=0.025\n",
    "\n",
    "expinfection=0 # Proportion in which the exposed infect - 0: nothing, 1: equally as Infected"
   ]
  },
  {
   "cell_type": "markdown",
   "metadata": {},
   "source": [
    "## Quarantines\n",
    "Build Quarantine Object:\n",
    " \n",
    "     Q = Quarantine(rem_mob,max_mob=max_mob,qp=0,iqt=0,fqt=1000,movfunct = 'once')\n",
    "     alpha = Q.alpha\n",
    "     \n",
    "     Plot Quarantine dynamics:\n",
    "         Q.plot()"
   ]
  },
  {
   "cell_type": "code",
   "execution_count": 6,
   "metadata": {},
   "outputs": [],
   "source": [
    "# Quarantines \n",
    "max_mob = 0.55\n",
    "rem_mob = 0.45\n",
    "\n",
    "Q1 = Quarantine(rem_mob,max_mob,qp=0,iqt=0,fqt=tsim1)\n",
    "Q2 = Quarantine(rem_mob)\n",
    "\n",
    "alpha = Q2.alpha"
   ]
  },
  {
   "cell_type": "markdown",
   "metadata": {},
   "source": [
    "## Underreport\n",
    "Fraction of Infected detected/reported  \n",
    "\n",
    "$Imi_{det}$: Fraction of Mild detected   \n",
    "$Ias_{det}$: fraction of asymptomatic detected  \n",
    "\n",
    "If both are 1, means that all infected are detected so \n",
    "\\begin{align}\n",
    "I_{det} = I\n",
    "\\end{align}"
   ]
  },
  {
   "cell_type": "code",
   "execution_count": 7,
   "metadata": {},
   "outputs": [],
   "source": [
    "Imi_det = 1\n",
    "Ias_det = 0.5"
   ]
  },
  {
   "cell_type": "markdown",
   "metadata": {},
   "source": [
    "## State Parameters:\n",
    "The following parameters determine transitions probability and duration between different states. The values presented here are the default values set in the model. You can change them as it's showed in the following executable lines.\n",
    "\n",
    "pE_Ias = 0.4  # Transition from exposed to Asymptomatic Infected  \n",
    "tE_Ias = 5.0\n",
    "\n",
    "pE_Imi = 0.55 # Transition from exposed to  Mild Infected  \n",
    "tE_Imi = 5.0\n",
    "\n",
    "pE_Icr = 0.01666 # Transition from exposed to  Critical Infected  \n",
    "tE_Icr = 3.0\n",
    "\n",
    "pE_Ise = 0.03334 # Transition from exposed to  Serious Infected  \n",
    "tE_Ise = 3.0\n",
    "\n",
    "pIas_R = 1.0   # Transition from Asymptomatic Infected to Recovered  \n",
    "tIas_R = 10.0\n",
    "\n",
    "pImi_R = 1.0  # Transition from Mild Infected to Recovered  \n",
    "tImi_R = 15.0\n",
    "\n",
    "pIse_Hse = 1.0 # Transition from Serious Infected to Serious Hospitalized (When Hospital capacity is not saturated)  \n",
    "tIse_Hse = 3.0 \n",
    "\n",
    "pIse_D = 1.0  # Transition from Serious Infected to Death (When Hospital capacity is saturated)  \n",
    "tIse_D = 3.0         \n",
    "\n",
    "pIcr_V = 1.0  # Transition from Critical Infected to Ventilator (When Ventilators capacity is not saturated)  \n",
    "tIcr_V = 3.0 \n",
    "\n",
    "pIcr_D = 1.0  # Transition from Serious Infected to Death (When Ventilators capacity is saturated)  \n",
    "tIcr_D = 3.0         \n",
    "\n",
    "pHse_R = 0.97 # Transition from Serious Hospitalized to Recovered  \n",
    "tHse_R = 11.0\n",
    "\n",
    "pHse_V = 0.03 # Transition from Serious Hospitalized to Ventilators (When Ventilators capacity is not saturated)  \n",
    "tHse_V = 3.0\n",
    "\n",
    "pHse_D = 0.03 # Transition from Serious Hospitalized to Death (When Ventilators capacity is saturated)  \n",
    "tHse_D = 3.0        \n",
    "\n",
    "pV_Hout = 0.5  # Transition from Ventilators to Hospital Recovery (Hout)   \n",
    "tV_Hout = 15.0\n",
    "\n",
    "pV_D = 0.5 # Transition from Ventilators to Death  \n",
    "tV_D = 15.0\n",
    "\n",
    "pHout_R = 1.0 # Transition from Hospital Recovery (Hout) to Recovered  \n",
    "tHout_R = 4.0\n",
    "\n",
    "pD_B = 1.0 # Transition from Dead to buried  \n",
    "tD_B = 1.0 \n",
    "\n",
    "betaD = 0 # Contagion by deads rate  \n",
    "eta = 0.0 # Immunity loss rate  "
   ]
  },
  {
   "cell_type": "code",
   "execution_count": 8,
   "metadata": {},
   "outputs": [],
   "source": [
    "pE_Ias = 0.414  # Transition from exposed to Asymptomatic Infected  \n",
    "tE_Ias = 5.0\n",
    "\n",
    "pE_Imi = 0.55 # Transition from exposed to  Mild Infected  \n",
    "tE_Imi = 5.0\n",
    "\n",
    "pE_Icr = 0.016 # Transition from exposed to  Critical Infected  \n",
    "tE_Icr = 3.0\n",
    "\n",
    "pE_Ise = 0.02 # Transition from exposed to  Serious Infected  \n",
    "tE_Ise = 3.0\n",
    "\n",
    "pIas_R = 1.0   # Transition from Asymptomatic Infected to Recovered  \n",
    "tIas_R = 10.0\n",
    "\n",
    "pImi_R = 1.0  # Transition from Mild Infected to Recovered  \n",
    "tImi_R = 15.0\n",
    "\n",
    "pIse_Hse = 1.0 # Transition from Serious Infected to Serious Hospitalized (When Hospital capacity is not saturated)  \n",
    "tIse_Hse = 3.0 \n",
    "\n",
    "pIse_D = 1.0  # Transition from Serious Infected to Death (When Hospital capacity is saturated)  \n",
    "tIse_D = 3.0         \n",
    "\n",
    "pIcr_V = 1.0  # Transition from Critical Infected to Ventilator (When Ventilators capacity is not saturated)  \n",
    "tIcr_V = 3.0 \n",
    "\n",
    "pIcr_D = 1.0  # Transition from Serious Infected to Death (When Ventilators capacity is saturated)  \n",
    "tIcr_D = 3.0         \n",
    "\n",
    "pHse_R = 0.97 # Transition from Serious Hospitalized to Recovered  \n",
    "tHse_R = 11.0\n",
    "\n",
    "pHse_V = 0.03 # Transition from Serious Hospitalized to Ventilators (When Ventilators capacity is not saturated)  \n",
    "tHse_V = 3.0\n",
    "\n",
    "pHse_D = 0.03 # Transition from Serious Hospitalized to Death (When Ventilators capacity is saturated)  \n",
    "tHse_D = 3.0        \n",
    "\n",
    "pV_Hout = 0.5  # Transition from Ventilators to Hospital Recovery (Hout)   \n",
    "tV_Hout = 12.0\n",
    "\n",
    "pV_D = 0.5 # Transition from Ventilators to Death  \n",
    "tV_D = 12.0\n",
    "\n",
    "pHout_R = 1.0 # Transition from Hospital Recovery (Hout) to Recovered  \n",
    "tHout_R = 4.0"
   ]
  },
  {
   "cell_type": "markdown",
   "metadata": {},
   "source": [
    "# Simulation\n",
    "\n",
    "## Initial SeroPrev period\n",
    "Initialize Simulation Object, set params and run the simulation. "
   ]
  },
  {
   "cell_type": "code",
   "execution_count": 9,
   "metadata": {},
   "outputs": [
    {
     "name": "stdout",
     "output_type": "stream",
     "text": [
      "InitialCondition Object Data\n"
     ]
    }
   ],
   "source": [
    "simulation1 = SEIRHVD(tsim1,beta,mu,alpha,k=k,SeroPrevFactor=SeroPrevFactor1,expinfection=expinfection,RealIC = RM,Imi_det = Imi_det,Ias_det = Ias_det)"
   ]
  },
  {
   "cell_type": "markdown",
   "metadata": {},
   "source": [
    "### Setting new params"
   ]
  },
  {
   "cell_type": "code",
   "execution_count": 10,
   "metadata": {},
   "outputs": [
    {
     "name": "stdout",
     "output_type": "stream",
     "text": [
      "Compartimental model State parameters changed\n"
     ]
    }
   ],
   "source": [
    "simulation1.pE_Ias=pE_Ias\n",
    "simulation1.tE_Ias=tE_Ias\n",
    "simulation1.pE_Imi=pE_Imi\n",
    "simulation1.tE_Imi=tE_Imi\n",
    "simulation1.pE_Icr=pE_Icr\n",
    "simulation1.tE_Icr=tE_Icr\n",
    "simulation1.pE_Ise=pE_Ise\n",
    "simulation1.tE_Ise=tE_Ise\n",
    "simulation1.pIas_R=pIas_R\n",
    "simulation1.tIas_R =tIas_R\n",
    "simulation1.pImi_R=pImi_R\n",
    "simulation1.tImi_R =tImi_R\n",
    "simulation1.pIse_Hse=pIse_Hse\n",
    "simulation1.tIse_Hse=tIse_Hse\n",
    "simulation1.pIse_D=pIse_D\n",
    "simulation1.tIse_D=tIse_D\n",
    "simulation1.pIcr_V=pIcr_V\n",
    "simulation1.tIcr_V=tIcr_V\n",
    "simulation1.pIcr_D=pIcr_D\n",
    "simulation1.tIcr_D=tIcr_D\n",
    "simulation1.pHse_R=pHse_R\n",
    "simulation1.tHse_R =tHse_R\n",
    "simulation1.pHse_V=pHse_V\n",
    "simulation1.tHse_V=tHse_V\n",
    "simulation1.pHse_D=pHse_D\n",
    "simulation1.tHse_D=tHse_D\n",
    "simulation1.pV_Hout=pV_Hout\n",
    "simulation1.tV_Hout =tV_Hout\n",
    "simulation1.pV_D=pV_D\n",
    "simulation1.tV_D =tV_D\n",
    "simulation1.pHout_R=pHout_R\n",
    "simulation1.tHout_R=tHout_R\n",
    "simulation1.setnewparams()"
   ]
  },
  {
   "cell_type": "markdown",
   "metadata": {},
   "source": [
    "## Run simulation"
   ]
  },
  {
   "cell_type": "code",
   "execution_count": 11,
   "metadata": {},
   "outputs": [
    {
     "data": {
      "text/plain": [
       "  message: 'The solver successfully reached the end of the integration interval.'\n",
       "     nfev: 2704\n",
       "     njev: 57\n",
       "      nlu: 57\n",
       "      sol: None\n",
       "   status: 0\n",
       "  success: True\n",
       "        t: array([0.00000000e+00, 2.27595382e-08, 4.55190764e-08, 2.27640901e-04,\n",
       "       4.55236283e-04, 6.82831665e-04, 2.95878549e-03, 5.23473931e-03,\n",
       "       7.51069313e-03, 9.78664695e-03, 3.25461852e-02, 5.53057234e-02,\n",
       "       7.80652616e-02, 1.00824800e-01, 1.23584338e-01, 3.51179720e-01,\n",
       "       5.78775102e-01, 8.06370484e-01, 1.03396587e+00, 1.26156125e+00,\n",
       "       1.48915663e+00, 1.93528457e+00, 2.38141251e+00, 2.82754046e+00,\n",
       "       3.27366840e+00, 3.71979634e+00, 4.26945143e+00, 4.81910652e+00,\n",
       "       5.36876161e+00, 5.91841670e+00, 6.47875748e+00, 7.03909825e+00,\n",
       "       7.59943903e+00, 8.48999967e+00, 9.38056031e+00, 1.02711209e+01,\n",
       "       1.19636104e+01, 1.36560999e+01, 1.53485894e+01, 1.57717118e+01,\n",
       "       1.61948342e+01, 1.66179566e+01, 1.67237372e+01, 1.68295178e+01,\n",
       "       1.69352983e+01, 1.69617435e+01, 1.69881886e+01, 1.69947999e+01,\n",
       "       1.69961222e+01, 1.69974444e+01, 1.69987667e+01, 1.70014112e+01,\n",
       "       1.70040557e+01, 1.70067002e+01, 1.70088362e+01, 1.70109721e+01,\n",
       "       1.70126214e+01, 1.70142706e+01, 1.70159198e+01, 1.70175691e+01,\n",
       "       1.70192183e+01, 1.70208675e+01, 1.70225168e+01, 1.70255442e+01,\n",
       "       1.70276567e+01, 1.70297692e+01, 1.70318818e+01, 1.70339943e+01,\n",
       "       1.70361068e+01, 1.70383524e+01, 1.70405979e+01, 1.70428435e+01,\n",
       "       1.70450890e+01, 1.70472720e+01, 1.70494550e+01, 1.70516380e+01,\n",
       "       1.70538010e+01, 1.70559639e+01, 1.70581269e+01, 1.70699312e+01,\n",
       "       1.70817356e+01, 1.70935400e+01, 1.71354985e+01, 1.71774570e+01,\n",
       "       1.72194155e+01, 1.73231476e+01, 1.74268797e+01, 1.75306118e+01,\n",
       "       1.76343439e+01, 1.78067106e+01, 1.79790772e+01, 1.81514439e+01,\n",
       "       1.83238106e+01, 1.86223307e+01, 1.89208509e+01, 1.92193711e+01,\n",
       "       1.95178913e+01, 1.98164115e+01, 2.02465078e+01, 2.06766041e+01,\n",
       "       2.11067004e+01, 2.15367967e+01, 2.19668930e+01, 2.26335327e+01,\n",
       "       2.33001724e+01, 2.39668122e+01, 2.46334519e+01, 2.53000916e+01,\n",
       "       2.56574072e+01, 2.57467361e+01, 2.57512025e+01, 2.57556690e+01,\n",
       "       2.57589182e+01, 2.57621673e+01, 2.57641984e+01, 2.57662295e+01,\n",
       "       2.57675218e+01, 2.57688140e+01, 2.57704719e+01, 2.57721297e+01,\n",
       "       2.57734987e+01, 2.57748676e+01, 2.57759435e+01, 2.57770194e+01,\n",
       "       2.57780953e+01, 2.57792887e+01, 2.57804820e+01, 2.57816754e+01,\n",
       "       2.57828688e+01, 2.57840621e+01, 2.57852555e+01, 2.57864488e+01,\n",
       "       2.57876422e+01, 2.57888355e+01, 2.57900289e+01, 2.57913799e+01,\n",
       "       2.57927310e+01, 2.57940820e+01, 2.57954330e+01, 2.57967841e+01,\n",
       "       2.57984809e+01, 2.58001777e+01, 2.58018745e+01, 2.58035712e+01,\n",
       "       2.58052680e+01, 2.58069648e+01, 2.58093247e+01, 2.58116846e+01,\n",
       "       2.58140444e+01, 2.58164043e+01, 2.58187642e+01, 2.58211240e+01,\n",
       "       2.58253171e+01, 2.58295102e+01, 2.58337032e+01, 2.58378963e+01,\n",
       "       2.58420894e+01, 2.58462824e+01, 2.58547579e+01, 2.58632335e+01,\n",
       "       2.58717090e+01, 2.58801845e+01, 2.58886600e+01, 2.59574936e+01,\n",
       "       2.60263273e+01, 2.60951609e+01, 2.61639945e+01, 2.63016618e+01,\n",
       "       2.64393291e+01, 2.65769964e+01, 2.67146637e+01, 2.69742217e+01,\n",
       "       2.72337797e+01, 2.74933377e+01, 2.77528957e+01, 2.80124537e+01,\n",
       "       2.83826105e+01, 2.87527673e+01, 2.91229241e+01, 2.94930809e+01,\n",
       "       2.98632377e+01, 3.04140684e+01, 3.09648992e+01, 3.15157300e+01,\n",
       "       3.20665608e+01, 3.26173915e+01, 3.35444726e+01, 3.44715537e+01,\n",
       "       3.53986348e+01, 3.63257159e+01, 3.72527970e+01, 3.98428988e+01,\n",
       "       4.24330006e+01, 4.50231023e+01, 4.76132041e+01, 5.05366349e+01,\n",
       "       5.34600657e+01, 5.63834964e+01, 5.71143541e+01, 5.78452118e+01,\n",
       "       5.85760695e+01, 5.93069272e+01, 6.01612733e+01, 6.07262496e+01,\n",
       "       6.08674937e+01, 6.10087378e+01, 6.11499818e+01, 6.12932241e+01,\n",
       "       6.14364663e+01, 6.14594070e+01, 6.14823477e+01, 6.15052883e+01,\n",
       "       6.15511697e+01, 6.15970511e+01, 6.16429325e+01, 6.17898177e+01,\n",
       "       6.19367030e+01, 6.20835883e+01, 6.22045201e+01, 6.23254519e+01,\n",
       "       6.24463837e+01, 6.26116064e+01, 6.27768291e+01, 6.29420517e+01,\n",
       "       6.31072744e+01, 6.32724971e+01, 6.34377198e+01, 6.36029424e+01,\n",
       "       6.38289808e+01, 6.40550192e+01, 6.42810576e+01, 6.45070960e+01,\n",
       "       6.47331344e+01, 6.49859192e+01, 6.52387040e+01, 6.54914887e+01,\n",
       "       6.57442735e+01, 6.59970583e+01, 6.62498431e+01, 6.65026278e+01,\n",
       "       6.67554126e+01, 6.70585605e+01, 6.73617084e+01, 6.76648563e+01,\n",
       "       6.79680042e+01, 6.82711521e+01, 6.85743000e+01, 6.89271413e+01,\n",
       "       6.92799825e+01, 6.92817467e+01, 6.92835109e+01, 6.92852751e+01,\n",
       "       6.92870394e+01, 6.92888036e+01, 6.92923320e+01, 6.92958604e+01,\n",
       "       6.92993888e+01, 6.93346729e+01, 6.93699570e+01, 6.94052412e+01,\n",
       "       6.94405253e+01, 6.94857909e+01, 6.95310565e+01, 6.95763221e+01,\n",
       "       6.96672635e+01, 6.97582049e+01, 6.98491463e+01, 6.99400877e+01,\n",
       "       7.00581845e+01, 7.02553239e+01, 7.04524633e+01, 7.06496028e+01,\n",
       "       7.06517267e+01, 7.06538506e+01, 7.06559745e+01, 7.06772137e+01,\n",
       "       7.06984529e+01, 7.07196920e+01, 7.09320836e+01, 7.11444751e+01,\n",
       "       7.13568667e+01, 7.15692582e+01, 7.19102854e+01, 7.22513125e+01,\n",
       "       7.25923397e+01, 7.29333668e+01, 7.32743940e+01, 7.36693750e+01,\n",
       "       7.40643559e+01, 7.44593369e+01, 7.48543179e+01, 7.52492988e+01,\n",
       "       7.56442798e+01, 7.60392608e+01, 7.64342417e+01, 7.68292227e+01,\n",
       "       7.72242037e+01, 7.76191846e+01, 7.80691846e+01, 7.85191846e+01,\n",
       "       7.89691846e+01, 7.94191846e+01, 7.98691846e+01, 8.04133892e+01,\n",
       "       8.09575937e+01, 8.15017982e+01, 8.20460028e+01, 8.26210028e+01,\n",
       "       8.31960028e+01, 8.37710028e+01, 8.43460028e+01, 8.49210028e+01,\n",
       "       8.54960028e+01, 8.60710028e+01, 8.66460028e+01, 8.72210028e+01,\n",
       "       9.02892342e+01, 9.33574657e+01, 9.64256971e+01, 1.00363897e+02,\n",
       "       1.01000000e+02])\n",
       " t_events: None\n",
       "        y: array([[4.50747937e+05, 4.50747937e+05, 4.50747936e+05, ...,\n",
       "        6.44493094e+04, 5.87001709e+04, 5.78261371e+04],\n",
       "       [1.91303909e+04, 1.91303909e+04, 1.91303909e+04, ...,\n",
       "        8.61082712e+03, 7.76119037e+03, 7.63256386e+03],\n",
       "       [2.60933165e+03, 2.60933161e+03, 2.60933157e+03, ...,\n",
       "        2.53663419e+02, 2.10679290e+02, 2.04430110e+02],\n",
       "       ...,\n",
       "       [0.00000000e+00, 0.00000000e+00, 0.00000000e+00, ...,\n",
       "        5.10168210e+02, 5.10168210e+02, 5.10168210e+02],\n",
       "       [0.00000000e+00, 0.00000000e+00, 0.00000000e+00, ...,\n",
       "        4.96972541e+01, 4.96972541e+01, 4.96972541e+01],\n",
       "       [0.00000000e+00, 7.15028826e-07, 1.43005765e-06, ...,\n",
       "        5.41151970e+03, 5.56105568e+03, 5.58396773e+03]])\n",
       " y_events: None"
      ]
     },
     "execution_count": 11,
     "metadata": {},
     "output_type": "execute_result"
    }
   ],
   "source": [
    "simulation1.integr_sci(0,tsim1,0.1)"
   ]
  },
  {
   "cell_type": "markdown",
   "metadata": {},
   "source": [
    "## Simulation 2\n",
    "Second SeroPrev period"
   ]
  },
  {
   "cell_type": "code",
   "execution_count": 12,
   "metadata": {},
   "outputs": [],
   "source": [
    "simulation2 = SEIRHVD(tsim2,beta,mu,alpha,k=k,SeroPrevFactor=SeroPrevFactor2,Imi_det = Imi_det,Ias_det = Ias_det,SimIC=simulation1,initdate=initdate2)"
   ]
  },
  {
   "cell_type": "code",
   "execution_count": 13,
   "metadata": {},
   "outputs": [
    {
     "name": "stdout",
     "output_type": "stream",
     "text": [
      "Compartimental model State parameters changed\n"
     ]
    }
   ],
   "source": [
    "simulation2.pE_Ias=pE_Ias\n",
    "simulation2.tE_Ias=tE_Ias\n",
    "simulation2.pE_Imi=pE_Imi\n",
    "simulation2.tE_Imi=tE_Imi\n",
    "simulation2.pE_Icr=pE_Icr\n",
    "simulation2.tE_Icr=tE_Icr\n",
    "simulation2.pE_Ise=pE_Ise\n",
    "simulation2.tE_Ise=tE_Ise\n",
    "simulation2.pIas_R=pIas_R\n",
    "simulation2.tIas_R =tIas_R\n",
    "simulation2.pImi_R=pImi_R\n",
    "simulation2.tImi_R =tImi_R\n",
    "simulation2.pIse_Hse=pIse_Hse\n",
    "simulation2.tIse_Hse=tIse_Hse\n",
    "simulation2.pIse_D=pIse_D\n",
    "simulation2.tIse_D=tIse_D\n",
    "simulation2.pIcr_V=pIcr_V\n",
    "simulation2.tIcr_V=tIcr_V\n",
    "simulation2.pIcr_D=pIcr_D\n",
    "simulation2.tIcr_D=tIcr_D\n",
    "simulation2.pHse_R=pHse_R\n",
    "simulation2.tHse_R =tHse_R\n",
    "simulation2.pHse_V=pHse_V\n",
    "simulation2.tHse_V=tHse_V\n",
    "simulation2.pHse_D=pHse_D\n",
    "simulation2.tHse_D=tHse_D\n",
    "simulation2.pV_Hout=pV_Hout\n",
    "simulation2.tV_Hout =tV_Hout\n",
    "simulation2.pV_D=pV_D\n",
    "simulation2.tV_D =tV_D\n",
    "simulation2.pHout_R=pHout_R\n",
    "simulation2.tHout_R=tHout_R\n",
    "simulation2.setnewparams()"
   ]
  },
  {
   "cell_type": "markdown",
   "metadata": {},
   "source": [
    "### Run simulation 2"
   ]
  },
  {
   "cell_type": "code",
   "execution_count": 14,
   "metadata": {},
   "outputs": [
    {
     "data": {
      "text/plain": [
       "  message: 'The solver successfully reached the end of the integration interval.'\n",
       "     nfev: 845\n",
       "     njev: 15\n",
       "      nlu: 15\n",
       "      sol: None\n",
       "   status: 0\n",
       "  success: True\n",
       "        t: array([0.00000000e+00, 1.62577443e-02, 3.25154886e-02, 1.63049623e-01,\n",
       "       2.93583757e-01, 4.24117890e-01, 6.96297387e-01, 9.68476883e-01,\n",
       "       1.24065638e+00, 1.51283587e+00, 1.97154947e+00, 2.43026306e+00,\n",
       "       2.88897665e+00, 3.34769024e+00, 3.88923079e+00, 4.43077134e+00,\n",
       "       4.97231188e+00, 5.51385243e+00, 6.04786901e+00, 6.58188559e+00,\n",
       "       7.11590216e+00, 8.01308052e+00, 8.91025888e+00, 9.80743724e+00,\n",
       "       1.06008028e+01, 1.13941684e+01, 1.21875340e+01, 1.39303953e+01,\n",
       "       1.43661106e+01, 1.48018259e+01, 1.52375413e+01, 1.57107134e+01,\n",
       "       1.61838855e+01, 1.66570577e+01, 1.77807558e+01, 1.89044539e+01,\n",
       "       2.00281520e+01, 2.07182526e+01, 2.14083532e+01, 2.20984537e+01,\n",
       "       2.27689155e+01, 2.34393773e+01, 2.41098390e+01, 2.48685553e+01,\n",
       "       2.56272717e+01, 2.63859880e+01, 2.72520447e+01, 2.81181014e+01,\n",
       "       2.89841581e+01, 2.98520467e+01, 3.07199353e+01, 3.15878239e+01,\n",
       "       3.25065738e+01, 3.34253237e+01, 3.43440736e+01, 3.52760588e+01,\n",
       "       3.62080440e+01, 3.71400291e+01, 3.81477250e+01, 3.91554208e+01,\n",
       "       4.01631166e+01, 4.12215174e+01, 4.22799182e+01, 4.33383191e+01,\n",
       "       4.46301009e+01, 4.59218828e+01, 4.72136647e+01, 4.97502833e+01,\n",
       "       5.03844379e+01, 5.10185925e+01, 5.16527472e+01, 5.29210565e+01,\n",
       "       5.41893657e+01, 5.54576750e+01, 5.93082274e+01, 6.31587799e+01,\n",
       "       6.70093323e+01, 7.17734803e+01, 7.65376284e+01, 8.13017765e+01,\n",
       "       8.60659245e+01, 9.18149826e+01, 9.75640406e+01, 1.03313099e+02,\n",
       "       1.09062157e+02, 1.14811215e+02, 1.19539833e+02, 1.24268451e+02,\n",
       "       1.28997070e+02, 1.33725688e+02, 1.39086238e+02, 1.44446788e+02,\n",
       "       1.49807338e+02, 1.55167888e+02, 1.61146067e+02, 1.65667942e+02,\n",
       "       1.70189816e+02, 1.74711690e+02, 1.79233564e+02, 1.80224608e+02,\n",
       "       1.81215651e+02, 1.82206694e+02, 1.83197737e+02, 1.85179824e+02,\n",
       "       1.87161911e+02, 1.89143997e+02, 1.91126084e+02, 1.96075291e+02,\n",
       "       2.01024498e+02, 2.05973705e+02, 2.10922912e+02, 2.17624090e+02,\n",
       "       2.24325268e+02, 2.31026446e+02, 2.37727623e+02, 2.44428801e+02,\n",
       "       2.51129979e+02, 2.57831156e+02, 2.64532334e+02, 2.71233512e+02,\n",
       "       2.77934690e+02, 2.84635867e+02, 2.92530657e+02, 3.00425446e+02,\n",
       "       3.08320235e+02, 3.16215025e+02, 3.24109814e+02, 3.32004604e+02,\n",
       "       3.39899393e+02, 3.47794182e+02, 3.57273291e+02, 3.66752399e+02,\n",
       "       3.76231507e+02, 3.77553195e+02, 3.78874883e+02, 3.80196572e+02,\n",
       "       3.81518260e+02, 3.82839948e+02, 3.85483324e+02, 3.88126700e+02,\n",
       "       3.90770076e+02, 3.93413452e+02, 4.00284714e+02, 4.07155977e+02,\n",
       "       4.14027239e+02, 4.20898502e+02, 4.29119961e+02, 4.37341420e+02,\n",
       "       4.45562879e+02, 4.53784339e+02, 4.62005798e+02, 4.77126039e+02,\n",
       "       4.92246280e+02, 5.07366522e+02, 5.22486763e+02, 5.37607005e+02,\n",
       "       5.52727246e+02, 5.67847487e+02, 5.82967729e+02, 5.99939757e+02,\n",
       "       6.16911785e+02, 6.33883813e+02, 6.50855840e+02, 6.67827868e+02,\n",
       "       6.84799896e+02, 7.01771924e+02, 7.18743952e+02, 7.35715980e+02,\n",
       "       7.52688008e+02, 7.69660035e+02, 7.86632063e+02, 8.05565272e+02,\n",
       "       8.21165726e+02, 8.36766180e+02, 8.52366634e+02, 8.67967088e+02,\n",
       "       8.83567542e+02, 8.99000000e+02])\n",
       " t_events: None\n",
       "        y: array([[ 2.48765329e+05,  2.48696860e+05,  2.48628408e+05, ...,\n",
       "         6.19738382e-02,  4.73587123e-02,  3.62773236e-02],\n",
       "       [ 7.63256386e+03,  7.67547663e+03,  7.71823013e+03, ...,\n",
       "         5.71140500e-03,  4.36449346e-03,  3.34325434e-03],\n",
       "       [ 2.04430110e+02,  2.10785065e+02,  2.17032079e+02, ...,\n",
       "         2.22108004e-13, -7.87416279e-12,  1.30341261e-10],\n",
       "       ...,\n",
       "       [ 5.10168210e+02,  5.10168210e+02,  5.10168210e+02, ...,\n",
       "         5.10168210e+02,  5.10168210e+02,  5.10168210e+02],\n",
       "       [ 4.96972541e+01,  4.96972541e+01,  4.96972541e+01, ...,\n",
       "         4.96972541e+01,  4.96972541e+01,  4.96972541e+01],\n",
       "       [ 5.58396773e+03,  5.58454882e+03,  5.58512969e+03, ...,\n",
       "         9.88939109e+03,  9.88939141e+03,  9.88939165e+03]])\n",
       " y_events: None"
      ]
     },
     "execution_count": 14,
     "metadata": {},
     "output_type": "execute_result"
    }
   ],
   "source": [
    "simulation2.integr_sci(0,tsim2,0.1)"
   ]
  },
  {
   "cell_type": "markdown",
   "metadata": {},
   "source": [
    "# Analysis"
   ]
  },
  {
   "cell_type": "markdown",
   "metadata": {},
   "source": [
    "## Grid Plot"
   ]
  },
  {
   "cell_type": "code",
   "execution_count": 15,
   "metadata": {},
   "outputs": [],
   "source": [
    "# Days to plot\n",
    "days = 250\n",
    "t_end = tsim1"
   ]
  },
  {
   "cell_type": "code",
   "execution_count": 17,
   "metadata": {},
   "outputs": [
    {
     "data": {
      "text/plain": [
       "<matplotlib.lines.Line2D at 0x7f5367874d30>"
      ]
     },
     "execution_count": 17,
     "metadata": {},
     "output_type": "execute_result"
    }
   ],
   "source": [
    "fig, axs = plt.subplots(2, 3)\n",
    "axs[0,0].set_xlim(0,days)\n",
    "axs[0,0].scatter(RM.tr,RM.Ir,label='Real Active Data')\n",
    "axs[0,0].plot(simulation1.t,simulation1.I_det,label='Infected')\n",
    "axs[0,0].plot(simulation2.t+tsim1,simulation2.I_det,label='Infected')\n",
    "axs[0,0].set_title('Active Infected')\n",
    "axs[0,0].axvline(x = t_end, linestyle = 'dotted',color = 'grey')\n",
    "\n",
    "\n",
    "axs[0,1].set_xlim(0,days)\n",
    "axs[0,1].plot(simulation2.t+tsim1,simulation2.I_d_det,label='sim2')\n",
    "axs[0,1].plot(simulation1.t,simulation1.I_d_det,label='sim1')\n",
    "axs[0,1].scatter(RM.I_d_r_tr,RM.I_d_r,label='Daily Real Data')\n",
    "axs[0,1].set_title('Daily infected')\n",
    "axs[0,1].axvline(x = t_end, linestyle = 'dotted',color = 'grey')\n",
    "\n",
    "\n",
    "axs[0,2].set_xlim(0,days)\n",
    "axs[0,2].plot(simulation2.t+tsim1,simulation2.I_ac_det,label='sim2')\n",
    "axs[0,2].plot(simulation1.t,simulation1.I_ac_det,label='sim1')\n",
    "axs[0,2].scatter(RM.I_ac_r_tr,RM.I_ac_r,label='Accumulated Real Data')\n",
    "axs[0,2].set_title('Accumulated Infected')\n",
    "axs[0,2].axvline(x = t_end, linestyle = 'dotted',color = 'grey')\n",
    "\n",
    "\n",
    "axs[1,0].set_xlim(0,days)\n",
    "axs[1,0].plot(simulation2.t+tsim1,simulation2.B,label='sim2')\n",
    "axs[1,0].plot(simulation1.t,simulation1.B,label='sim1')\n",
    "axs[1,0].scatter(RM.hosp_tr,RM.Br_hosp,label='Real Data')\n",
    "axs[1,0].set_title('Hospitalized Acmulated Deaths')\n",
    "axs[1,0].axvline(x = t_end, linestyle = 'dotted',color = 'grey')\n",
    "\n",
    "\n",
    "axs[1,1].set_xlim(0,days)\n",
    "axs[1,1].plot(simulation1.t,simulation1.Hse+simulation1.Hout,label='UTI Beds')\n",
    "axs[1,1].plot(simulation2.t+tsim1,simulation2.Hse+simulation2.Hout,label='UTI Beds')\n",
    "axs[1,1].scatter(RM.sochimi_tr,RM.UTI,label='Real Data')\n",
    "axs[1,1].plot(simulation1.t,simulation1.H_cap,label='Capacity', color = 'red')\n",
    "axs[1,1].plot(simulation2.t+tsim1,simulation2.H_cap,label='Capacity', color = 'red')\n",
    "axs[1,1].set_title('UTI Usage')\n",
    "axs[1,1].axvline(x = t_end, linestyle = 'dotted',color = 'grey')\n",
    "\n",
    "\n",
    "axs[1,2].set_xlim(0,days)\n",
    "axs[1,2].plot(simulation2.t+tsim1,simulation2.V,label='VSat sim2')\n",
    "axs[1,2].plot(simulation1.t,simulation1.V,label='Vsat sim1')\n",
    "axs[1,2].scatter(RM.sochimi_tr,RM.Vr,label='Real Data')\n",
    "axs[1,2].plot(simulation1.t,simulation1.V_cap,label='Capacity Data', color = 'red')\n",
    "axs[1,2].plot(simulation2.t+tsim1,simulation2.V_cap,label='Capacity Data', color = 'red')\n",
    "axs[1,2].set_title('VMI Usage')\n",
    "axs[1,2].axvline(x = t_end, linestyle = 'dotted',color = 'grey')\n",
    "\n",
    "\n",
    "#axs[2,1].plot(simulation2.t+tsim1,simulation2.V_D_d,label='V_D sim2')\n",
    "#axs[2,1].plot(simulation2.t+tsim1,simulation2.Hse_D_d,label='Hse_D sim2')\n",
    "#axs[2,1].plot(simulation2.t+tsim1,simulation2.Icr_D_d,label='Icr_D sim2')\n",
    "#axs[2,1].plot(simulation2.t+tsim1,simulation2.Ise_D_d,label='Ise_D sim2')\n",
    "#axs[2,1].plot(simulation1.t,simulation1.V_D_d,label='V_D sim1')\n",
    "#axs[2,1].plot(simulation1.t,simulation1.Hse_D_d,label='Hse_D sim1')\n",
    "#axs[2,1].plot(simulation1.t,simulation1.Icr_D_d,label='Icr_D sim1')\n",
    "#axs[2,1].plot(simulation1.t,simulation1.Ise_D_d,label='Ise_D sim1')\n",
    "#axs[2,1].set_title('Death by cause')\n",
    "#axs[2,1].axvline(x = t_end, linestyle = 'dotted',color = 'grey')\n"
   ]
  },
  {
   "cell_type": "markdown",
   "metadata": {},
   "source": [
    "## Single plots"
   ]
  },
  {
   "cell_type": "markdown",
   "metadata": {},
   "source": [
    "### Daily new Infected"
   ]
  },
  {
   "cell_type": "code",
   "execution_count": null,
   "metadata": {},
   "outputs": [],
   "source": [
    "plt.plot(simulation2.t+tsim1,simulation2.I_d_det,label='sim2')\n",
    "plt.plot(simulation1.t,simulation1.I_d_det,label='sim1')\n",
    "plt.legend(loc=0)\n",
    "plt.title('Daily New Infected')\n",
    "plt.show()"
   ]
  },
  {
   "cell_type": "markdown",
   "metadata": {},
   "source": [
    "### Daily Deaths"
   ]
  },
  {
   "cell_type": "code",
   "execution_count": null,
   "metadata": {},
   "outputs": [],
   "source": [
    "plt.plot(simulation2.t+tsim1,simulation2.D,label='sim2')\n",
    "plt.plot(simulation1.t,simulation1.D,label='sim1')\n",
    "plt.legend(loc=0)\n",
    "plt.title('Deaths')\n",
    "plt.show()"
   ]
  },
  {
   "cell_type": "markdown",
   "metadata": {},
   "source": [
    "### VMI Usage"
   ]
  },
  {
   "cell_type": "code",
   "execution_count": null,
   "metadata": {},
   "outputs": [],
   "source": [
    "plt.plot(simulation2.t+tsim1,simulation2.V_cap,label='VMI capacity sim2')\n",
    "plt.plot(simulation1.t,simulation1.V_cap,label='VMI capacity sim1')\n",
    "plt.plot(simulation1.t,simulation1.V,label='VMI sim1')\n",
    "plt.plot(simulation2.t+tsim1,simulation2.V,label='VMI sim2')\n",
    "plt.legend(loc=0)\n",
    "plt.title('VMI')\n",
    "plt.scatter(RM.sochimi_tr,RM.Vr,label='Real Data')\n",
    "plt.scatter(RM.sochimi_tr,RM.Vr_tot,label='Real Data')\n",
    "plt.show()"
   ]
  },
  {
   "cell_type": "markdown",
   "metadata": {},
   "source": [
    "### Hospitalization"
   ]
  },
  {
   "cell_type": "code",
   "execution_count": null,
   "metadata": {},
   "outputs": [],
   "source": [
    "plt.plot(simulation2.t+tsim1,simulation2.H_cap,label='sim2')\n",
    "plt.plot(simulation1.t,simulation1.H_cap,label='sim1')\n",
    "plt.plot(simulation1.t,simulation1.Hse+simulation1.Hout,label='UCI/UTI Beds')\n",
    "plt.plot(simulation2.t+tsim1,simulation2.Hse+simulation2.Hout,label='UCI/UTI Beds')\n",
    "plt.legend(loc=0)\n",
    "plt.title('Hospitalization')\n",
    "\n",
    "plt.scatter(RM.sochimi_tr,RM.Hr,label='Real Data')\n",
    "plt.scatter(RM.sochimi_tr,RM.Hr_tot,label='Real Data')\n",
    "plt.show()"
   ]
  },
  {
   "cell_type": "markdown",
   "metadata": {},
   "source": [
    "### Deaths by cause"
   ]
  },
  {
   "cell_type": "code",
   "execution_count": null,
   "metadata": {},
   "outputs": [],
   "source": [
    "plt.plot(simulation2.t+tsim1,simulation2.D,label='sim2')\n",
    "plt.plot(simulation1.t,simulation1.D,label='sim1')\n",
    "\n",
    "\n",
    "plt.plot(simulation2.t+tsim1,simulation2.V_D_d,label='V_D sim2')\n",
    "plt.plot(simulation2.t+tsim1,simulation2.Hse_D_d,label='Hse_D sim2')\n",
    "plt.plot(simulation2.t+tsim1,simulation2.Icr_D_d,label='Icr_D sim2')\n",
    "plt.plot(simulation2.t+tsim1,simulation2.Ise_D_d,label='Ise_D sim2')\n",
    "\n",
    "plt.plot(simulation1.t,simulation1.V_D_d,label='V_D sim1')\n",
    "plt.plot(simulation1.t,simulation1.Hse_D_d,label='Hse_D sim1')\n",
    "plt.plot(simulation1.t,simulation1.Icr_D_d,label='Icr_D sim1')\n",
    "plt.plot(simulation1.t,simulation1.Ise_D_d,label='Ise_D sim1')\n",
    "\n",
    "plt.legend(loc=0)\n",
    "plt.title('Deaths by cause')\n",
    "plt.show()"
   ]
  },
  {
   "cell_type": "markdown",
   "metadata": {},
   "source": [
    "### Hospital saturation"
   ]
  },
  {
   "cell_type": "code",
   "execution_count": null,
   "metadata": {},
   "outputs": [],
   "source": [
    "plt.plot(simulation2.t+tsim1,simulation2.H_sat,label='HSat sim2')\n",
    "plt.plot(simulation1.t,simulation1.H_sat,label='HSat sim1')\n",
    "plt.plot(simulation2.t+tsim1,simulation2.V_sat,label='VSat sim2')\n",
    "plt.plot(simulation1.t,simulation1.V_sat,label='Vsat sim1')\n",
    "plt.legend(loc=0)\n",
    "plt.title('Saturation')\n",
    "plt.show()"
   ]
  },
  {
   "cell_type": "markdown",
   "metadata": {},
   "source": [
    "# Error Calculation\n",
    "The following plots will show the simulation results with the real data"
   ]
  },
  {
   "cell_type": "markdown",
   "metadata": {},
   "source": [
    "## Peak Date"
   ]
  },
  {
   "cell_type": "code",
   "execution_count": null,
   "metadata": {},
   "outputs": [],
   "source": [
    "peakidx = np.where(RM.Ir==max(RM.Ir))[0][0]\n",
    "datapeakdate = RM.sochimi_dates[peakidx]"
   ]
  },
  {
   "cell_type": "code",
   "execution_count": null,
   "metadata": {},
   "outputs": [],
   "source": [
    "simulation.peak_date"
   ]
  },
  {
   "cell_type": "code",
   "execution_count": null,
   "metadata": {},
   "outputs": [],
   "source": [
    "datapeakdate"
   ]
  },
  {
   "cell_type": "code",
   "execution_count": null,
   "metadata": {},
   "outputs": [],
   "source": [
    "Peak_delta = (simulation.peak_date -datapeakdate).days"
   ]
  },
  {
   "cell_type": "code",
   "execution_count": null,
   "metadata": {},
   "outputs": [],
   "source": [
    "Peak_delta"
   ]
  },
  {
   "cell_type": "markdown",
   "metadata": {},
   "source": [
    "## Errors"
   ]
  },
  {
   "cell_type": "code",
   "execution_count": null,
   "metadata": {},
   "outputs": [],
   "source": [
    "simulation = simulation1\n",
    "t_end = tsim1\n",
    "t_end_idx = np.where(np.array(RM.tr)>=t_end)[0][0]\n",
    "idx = np.searchsorted(simulation.t,RM.tr[:t_end_idx])\n",
    "E_I = np.sum(abs(RM.Ir[:t_end_idx]-simulation.I_det[idx]))/(np.mean(RM.Ir[:t_end_idx])*t_end_idx)\n",
    "\n",
    "t_end_idx = np.where(np.array(RM.I_d_r_tr)>=t_end)[0][0]\n",
    "idx = np.searchsorted(simulation.t,RM.I_d_r_tr[:t_end_idx])\n",
    "E_Id = np.sum(abs(RM.I_d_r[:t_end_idx]-simulation.I_d_det[idx]))/(np.mean(RM.I_d_r[:t_end_idx])*t_end_idx)\n",
    "\n",
    "t_end_idx = np.where(np.array(RM.I_ac_r_tr)>=t_end)[0][0]\n",
    "idx = np.searchsorted(simulation.t,RM.I_ac_r_tr[:t_end_idx])\n",
    "E_Iac = np.sum(abs(RM.I_ac_r[:t_end_idx]-simulation.I_ac_det[idx]))/(np.mean(RM.I_ac_r[:t_end_idx])*t_end_idx)\n",
    "\n",
    "t_end_idx = np.where(np.array(RM.Br_tr)>=t_end)[0][0]\n",
    "idx = np.searchsorted(simulation.t,RM.Br_tr[:t_end_idx])\n",
    "E_D = np.sum(abs(RM.Br[:t_end_idx]-simulation.B[idx]))/(np.mean(RM.Br[:t_end_idx])*t_end_idx)\n",
    "\n",
    "t_end_idx = np.where(np.array(RM.sochimi_tr)>=t_end)[0][0]\n",
    "idx = np.searchsorted(simulation.t,RM.sochimi_tr[:t_end_idx])\n",
    "E_UCI = np.sum(abs(RM.Hr[:t_end_idx]-(simulation.Hse[idx]+simulation.Hout[idx])))/(np.mean(RM.Hr[:t_end_idx])*t_end_idx)\n",
    "\n",
    "t_end_idx = np.where(np.array(RM.sochimi_tr)>=t_end)[0][0]\n",
    "idx = np.searchsorted(simulation.t,RM.sochimi_tr[:t_end_idx])\n",
    "E_VMI = np.sum(abs(RM.Vr[:t_end_idx]-simulation.V[idx]))/(np.mean(RM.Vr[:t_end_idx])*t_end_idx)\n",
    "\n",
    "Err = {'Active Infected':E_I,'Daily Infected':E_Id,'Accumulated Infected':E_Iac,'Deaths':E_D,'UCI/UTI':E_UCI,'VMI':E_VMI}\n"
   ]
  },
  {
   "cell_type": "code",
   "execution_count": null,
   "metadata": {},
   "outputs": [],
   "source": [
    "Err = {'Active Infected':E_I,'Daily Infected':E_Id,'Accumulated Infected':E_Iac,'Deaths':E_D,'UCI/UTI':E_UCI,'VMI':E_VMI}\n",
    "print(Err)"
   ]
  }
 ],
 "metadata": {
  "kernelspec": {
   "display_name": "Python 3.8.2 64-bit",
   "language": "python",
   "name": "python38264bit48ae65e862f64697a29185f9fa581b02"
  },
  "language_info": {
   "codemirror_mode": {
    "name": "ipython",
    "version": 3
   },
   "file_extension": ".py",
   "mimetype": "text/x-python",
   "name": "python",
   "nbconvert_exporter": "python",
   "pygments_lexer": "ipython3",
   "version": "3.8.2"
  }
 },
 "nbformat": 4,
 "nbformat_minor": 4
}
