{
 "cells": [
  {
   "cell_type": "markdown",
   "metadata": {},
   "source": [
    "# SEIRHVD Data Fit\n",
    "\n",
    "This Jupyter notebooks implements the SEIRHVD model for fitting the actual Chilean data in order to make projections in VMI and bed usage, amount of infected and deaths. This model uses the SEIRHVD 4.1 version. A visual representation of the model is available at: [SEIRHVD Miró Model](https://miro.com/app/board/o9J_ktzN4xA=/)\n",
    "\n",
    "This implements a single instance to facilitate understanding the model prior to run multiple data fittings at a time.\n",
    "\n"
   ]
  },
  {
   "cell_type": "code",
   "execution_count": 1,
   "metadata": {},
   "outputs": [
    {
     "name": "stdout",
     "output_type": "stream",
     "text": [
      "Linux\n"
     ]
    }
   ],
   "source": [
    "import numpy as np\n",
    "import pandas as pd\n",
    "import matplotlib.pyplot as plt\n",
    "from datetime import datetime\n",
    "from numpy import linalg as LA\n",
    "\n",
    "import platform\n",
    "OS = platform.system()\n",
    "\n",
    "import matplotlib.pyplot as plt\n",
    "if OS == 'Linux':    \n",
    "    %matplotlib tk\n",
    "    print('Linux')\n",
    "elif OS == 'Windows':\n",
    "    %matplotlib qt\n",
    "    print('Windows')\n",
    "    elif OS == 'Darwin':\n",
    "        %matplotlib tk\n",
    "        print('Mac')    \n",
    "else:\n",
    "    print('OS not detected :-|')\n",
    "\n",
    "import sys\n",
    "from pathlib import Path\n",
    "sys.path.insert(1, '../src/SEIRHVD/')\n",
    "sys.path.insert(1, '../src/utils/')\n",
    "sys.path.insert(1, 'src/SEIRHVD/')\n",
    "sys.path.insert(1, 'src/utils/')\n",
    "\n",
    "from class_SEIRHUVD4 import SEIRHVD \n",
    "from Quarantine import Quarantine\n",
    "from importdata import ImportData"
   ]
  },
  {
   "cell_type": "markdown",
   "metadata": {},
   "source": [
    "## Time Variables\n",
    "Declare Initial date for simulating and data fitting"
   ]
  },
  {
   "cell_type": "code",
   "execution_count": null,
   "metadata": {},
   "outputs": [],
   "source": [
    "# First simulation Initial date\n",
    "initdate = datetime(2020,5,15)\n",
    "# Date for change in SeroPrevalence\n",
    "initdate2 = datetime(2020,8,24)\n",
    "\n",
    "# Current date\n",
    "currentdate = datetime.now()\n",
    "currentday = (currentdate - initdate).days"
   ]
  },
  {
   "cell_type": "markdown",
   "metadata": {},
   "source": [
    "## Import Data\n",
    "To import data we use an ImportData object which is initialized with the region's cut and the initial date. RM region is represented by cut = 13."
   ]
  },
  {
   "cell_type": "code",
   "execution_count": null,
   "metadata": {
    "scrolled": true
   },
   "outputs": [],
   "source": [
    "tstate = '13'\n",
    "\n",
    "# Import Data\n",
    "RM = ImportData(tstate=tstate,initdate = initdate)\n",
    "RM.importdata()"
   ]
  },
  {
   "cell_type": "markdown",
   "metadata": {},
   "source": [
    "## Datos de Hospitalizados a fitear"
   ]
  },
  {
   "cell_type": "code",
   "execution_count": null,
   "metadata": {},
   "outputs": [],
   "source": [
    "#RM.Hr = np.array(RM.UCI) + np.array(RM.UTI)\n",
    "#RM.Hr_tot = np.array(RM.UCI_tot) + np.array(RM.UTI_tot)\n",
    "RM.Hr = np.array(RM.UTI)\n",
    "RM.Hr_tot = np.array(RM.UTI_tot)"
   ]
  },
  {
   "cell_type": "markdown",
   "metadata": {},
   "source": [
    "## Simulation Parameters"
   ]
  },
  {
   "cell_type": "code",
   "execution_count": null,
   "metadata": {},
   "outputs": [],
   "source": [
    "# Total simulation time\n",
    "tsimtot = 1000\n",
    "\n",
    "tsim1 = (initdate2 - initdate).days \n",
    "tsim2 = tsimtot-tsim1\n",
    "\n",
    "beta = 0.13\n",
    "mu = 1.2\n",
    "k = 0\n",
    "\n",
    "SeroPrevFactor1=0.06\n",
    "SeroPrevFactor2=0.025\n",
    "\n",
    "expinfection=0 # Proportion in which the exposed infect - 0: nothing, 1: equally as Infected"
   ]
  },
  {
   "cell_type": "code",
   "execution_count": null,
   "metadata": {},
   "outputs": [],
   "source": [
    "tsim1"
   ]
  },
  {
   "cell_type": "markdown",
   "metadata": {},
   "source": [
    "## Quarantines\n",
    "Build Quarantine Object:\n",
    " \n",
    "     Q = Quarantine(rem_mob,max_mob=max_mob,qp=0,iqt=0,fqt=1000,movfunct = 'once')\n",
    "     alpha = Q.alpha\n",
    "     \n",
    "     Plot Quarantine dynamics:\n",
    "         Q.plot()"
   ]
  },
  {
   "cell_type": "code",
   "execution_count": null,
   "metadata": {},
   "outputs": [],
   "source": [
    "# Quarantines \n",
    "max_mob = 0.55\n",
    "rem_mob = 0.45\n",
    "\n",
    "Q1 = Quarantine(rem_mob,max_mob,qp=0,iqt=0,fqt=tsim1)\n",
    "Q2 = Quarantine(rem_mob)\n",
    "\n",
    "alpha = Q2.alpha"
   ]
  },
  {
   "cell_type": "markdown",
   "metadata": {},
   "source": [
    "## Underreport\n",
    "Fraction of Infected detected/reported  \n",
    "\n",
    "$Imi_{det}$: Fraction of Mild detected   \n",
    "$Ias_{det}$: fraction of asymptomatic detected  \n",
    "\n",
    "If both are 1, means that all infected are detected so \n",
    "\\begin{align}\n",
    "I_{det} = I\n",
    "\\end{align}"
   ]
  },
  {
   "cell_type": "code",
   "execution_count": null,
   "metadata": {},
   "outputs": [],
   "source": [
    "Imi_det = 1\n",
    "Ias_det = 0.5"
   ]
  },
  {
   "cell_type": "markdown",
   "metadata": {},
   "source": [
    "## State Parameters:\n",
    "The following parameters determine transitions probability and duration between different states. The values presented here are the default values set in the model. You can change them as it's showed in the following executable lines.\n",
    "\n",
    "pE_Ias = 0.4  # Transition from exposed to Asymptomatic Infected  \n",
    "tE_Ias = 5.0\n",
    "\n",
    "pE_Imi = 0.55 # Transition from exposed to  Mild Infected  \n",
    "tE_Imi = 5.0\n",
    "\n",
    "pE_Icr = 0.01666 # Transition from exposed to  Critical Infected  \n",
    "tE_Icr = 3.0\n",
    "\n",
    "pE_Ise = 0.03334 # Transition from exposed to  Serious Infected  \n",
    "tE_Ise = 3.0\n",
    "\n",
    "pIas_R = 1.0   # Transition from Asymptomatic Infected to Recovered  \n",
    "tIas_R = 10.0\n",
    "\n",
    "pImi_R = 1.0  # Transition from Mild Infected to Recovered  \n",
    "tImi_R = 15.0\n",
    "\n",
    "pIse_Hse = 1.0 # Transition from Serious Infected to Serious Hospitalized (When Hospital capacity is not saturated)  \n",
    "tIse_Hse = 3.0 \n",
    "\n",
    "pIse_D = 1.0  # Transition from Serious Infected to Death (When Hospital capacity is saturated)  \n",
    "tIse_D = 3.0         \n",
    "\n",
    "pIcr_V = 1.0  # Transition from Critical Infected to Ventilator (When Ventilators capacity is not saturated)  \n",
    "tIcr_V = 3.0 \n",
    "\n",
    "pIcr_D = 1.0  # Transition from Serious Infected to Death (When Ventilators capacity is saturated)  \n",
    "tIcr_D = 3.0         \n",
    "\n",
    "pHse_R = 0.97 # Transition from Serious Hospitalized to Recovered  \n",
    "tHse_R = 11.0\n",
    "\n",
    "pHse_V = 0.03 # Transition from Serious Hospitalized to Ventilators (When Ventilators capacity is not saturated)  \n",
    "tHse_V = 3.0\n",
    "\n",
    "pHse_D = 0.03 # Transition from Serious Hospitalized to Death (When Ventilators capacity is saturated)  \n",
    "tHse_D = 3.0        \n",
    "\n",
    "pV_Hout = 0.5  # Transition from Ventilators to Hospital Recovery (Hout)   \n",
    "tV_Hout = 15.0\n",
    "\n",
    "pV_D = 0.5 # Transition from Ventilators to Death  \n",
    "tV_D = 15.0\n",
    "\n",
    "pHout_R = 1.0 # Transition from Hospital Recovery (Hout) to Recovered  \n",
    "tHout_R = 4.0\n",
    "\n",
    "pD_B = 1.0 # Transition from Dead to buried  \n",
    "tD_B = 1.0 \n",
    "\n",
    "betaD = 0 # Contagion by deads rate  \n",
    "eta = 0.0 # Immunity loss rate  "
   ]
  },
  {
   "cell_type": "code",
   "execution_count": null,
   "metadata": {},
   "outputs": [],
   "source": [
    "pE_Ias = 0.414  # Transition from exposed to Asymptomatic Infected  \n",
    "tE_Ias = 5.0\n",
    "\n",
    "pE_Imi = 0.55 # Transition from exposed to  Mild Infected  \n",
    "tE_Imi = 5.0\n",
    "\n",
    "pE_Icr = 0.016 # Transition from exposed to  Critical Infected  \n",
    "tE_Icr = 3.0\n",
    "\n",
    "pE_Ise = 0.02 # Transition from exposed to  Serious Infected  \n",
    "tE_Ise = 3.0\n",
    "\n",
    "pIas_R = 1.0   # Transition from Asymptomatic Infected to Recovered  \n",
    "tIas_R = 10.0\n",
    "\n",
    "pImi_R = 1.0  # Transition from Mild Infected to Recovered  \n",
    "tImi_R = 15.0\n",
    "\n",
    "pIse_Hse = 1.0 # Transition from Serious Infected to Serious Hospitalized (When Hospital capacity is not saturated)  \n",
    "tIse_Hse = 3.0 \n",
    "\n",
    "pIse_D = 1.0  # Transition from Serious Infected to Death (When Hospital capacity is saturated)  \n",
    "tIse_D = 3.0         \n",
    "\n",
    "pIcr_V = 1.0  # Transition from Critical Infected to Ventilator (When Ventilators capacity is not saturated)  \n",
    "tIcr_V = 3.0 \n",
    "\n",
    "pIcr_D = 1.0  # Transition from Serious Infected to Death (When Ventilators capacity is saturated)  \n",
    "tIcr_D = 3.0         \n",
    "\n",
    "pHse_R = 0.97 # Transition from Serious Hospitalized to Recovered  \n",
    "tHse_R = 11.0\n",
    "\n",
    "pHse_V = 0.03 # Transition from Serious Hospitalized to Ventilators (When Ventilators capacity is not saturated)  \n",
    "tHse_V = 3.0\n",
    "\n",
    "pHse_D = 0.03 # Transition from Serious Hospitalized to Death (When Ventilators capacity is saturated)  \n",
    "tHse_D = 3.0        \n",
    "\n",
    "pV_Hout = 0.5  # Transition from Ventilators to Hospital Recovery (Hout)   \n",
    "tV_Hout = 12.0\n",
    "\n",
    "pV_D = 0.5 # Transition from Ventilators to Death  \n",
    "tV_D = 12.0\n",
    "\n",
    "pHout_R = 1.0 # Transition from Hospital Recovery (Hout) to Recovered  \n",
    "tHout_R = 4.0"
   ]
  },
  {
   "cell_type": "markdown",
   "metadata": {},
   "source": [
    "# Simulation\n",
    "\n",
    "## Initial SeroPrev period\n",
    "Initialize Simulation Object, set params and run the simulation. "
   ]
  },
  {
   "cell_type": "code",
   "execution_count": null,
   "metadata": {},
   "outputs": [],
   "source": [
    "simulation1 = SEIRHVD(tsim1,beta,mu,alpha,k=k,SeroPrevFactor=SeroPrevFactor1,expinfection=expinfection,RealIC = RM,Imi_det = Imi_det,Ias_det = Ias_det)"
   ]
  },
  {
   "cell_type": "markdown",
   "metadata": {},
   "source": [
    "### Setting new params"
   ]
  },
  {
   "cell_type": "code",
   "execution_count": null,
   "metadata": {},
   "outputs": [],
   "source": [
    "simulation1.pE_Ias=pE_Ias\n",
    "simulation1.tE_Ias=tE_Ias\n",
    "simulation1.pE_Imi=pE_Imi\n",
    "simulation1.tE_Imi=tE_Imi\n",
    "simulation1.pE_Icr=pE_Icr\n",
    "simulation1.tE_Icr=tE_Icr\n",
    "simulation1.pE_Ise=pE_Ise\n",
    "simulation1.tE_Ise=tE_Ise\n",
    "simulation1.pIas_R=pIas_R\n",
    "simulation1.tIas_R =tIas_R\n",
    "simulation1.pImi_R=pImi_R\n",
    "simulation1.tImi_R =tImi_R\n",
    "simulation1.pIse_Hse=pIse_Hse\n",
    "simulation1.tIse_Hse=tIse_Hse\n",
    "simulation1.pIse_D=pIse_D\n",
    "simulation1.tIse_D=tIse_D\n",
    "simulation1.pIcr_V=pIcr_V\n",
    "simulation1.tIcr_V=tIcr_V\n",
    "simulation1.pIcr_D=pIcr_D\n",
    "simulation1.tIcr_D=tIcr_D\n",
    "simulation1.pHse_R=pHse_R\n",
    "simulation1.tHse_R =tHse_R\n",
    "simulation1.pHse_V=pHse_V\n",
    "simulation1.tHse_V=tHse_V\n",
    "simulation1.pHse_D=pHse_D\n",
    "simulation1.tHse_D=tHse_D\n",
    "simulation1.pV_Hout=pV_Hout\n",
    "simulation1.tV_Hout =tV_Hout\n",
    "simulation1.pV_D=pV_D\n",
    "simulation1.tV_D =tV_D\n",
    "simulation1.pHout_R=pHout_R\n",
    "simulation1.tHout_R=tHout_R\n",
    "simulation1.setnewparams()"
   ]
  },
  {
   "cell_type": "markdown",
   "metadata": {},
   "source": [
    "## Run simulation"
   ]
  },
  {
   "cell_type": "code",
   "execution_count": null,
   "metadata": {},
   "outputs": [],
   "source": [
    "simulation1.integr_sci(0,tsim1,0.1)"
   ]
  },
  {
   "cell_type": "markdown",
   "metadata": {},
   "source": [
    "## Simulation 2\n",
    "Second SeroPrev period"
   ]
  },
  {
   "cell_type": "code",
   "execution_count": null,
   "metadata": {},
   "outputs": [],
   "source": [
    "simulation2 = SEIRHVD(tsim2,beta,mu,alpha,k=k,SeroPrevFactor=SeroPrevFactor2,Imi_det = Imi_det,Ias_det = Ias_det,SimIC=simulation1,initdate=initdate2)"
   ]
  },
  {
   "cell_type": "code",
   "execution_count": null,
   "metadata": {},
   "outputs": [],
   "source": [
    "simulation2.pE_Ias=pE_Ias\n",
    "simulation2.tE_Ias=tE_Ias\n",
    "simulation2.pE_Imi=pE_Imi\n",
    "simulation2.tE_Imi=tE_Imi\n",
    "simulation2.pE_Icr=pE_Icr\n",
    "simulation2.tE_Icr=tE_Icr\n",
    "simulation2.pE_Ise=pE_Ise\n",
    "simulation2.tE_Ise=tE_Ise\n",
    "simulation2.pIas_R=pIas_R\n",
    "simulation2.tIas_R =tIas_R\n",
    "simulation2.pImi_R=pImi_R\n",
    "simulation2.tImi_R =tImi_R\n",
    "simulation2.pIse_Hse=pIse_Hse\n",
    "simulation2.tIse_Hse=tIse_Hse\n",
    "simulation2.pIse_D=pIse_D\n",
    "simulation2.tIse_D=tIse_D\n",
    "simulation2.pIcr_V=pIcr_V\n",
    "simulation2.tIcr_V=tIcr_V\n",
    "simulation2.pIcr_D=pIcr_D\n",
    "simulation2.tIcr_D=tIcr_D\n",
    "simulation2.pHse_R=pHse_R\n",
    "simulation2.tHse_R =tHse_R\n",
    "simulation2.pHse_V=pHse_V\n",
    "simulation2.tHse_V=tHse_V\n",
    "simulation2.pHse_D=pHse_D\n",
    "simulation2.tHse_D=tHse_D\n",
    "simulation2.pV_Hout=pV_Hout\n",
    "simulation2.tV_Hout =tV_Hout\n",
    "simulation2.pV_D=pV_D\n",
    "simulation2.tV_D =tV_D\n",
    "simulation2.pHout_R=pHout_R\n",
    "simulation2.tHout_R=tHout_R\n",
    "simulation2.setnewparams()"
   ]
  },
  {
   "cell_type": "markdown",
   "metadata": {},
   "source": [
    "### Run simulation 2"
   ]
  },
  {
   "cell_type": "code",
   "execution_count": null,
   "metadata": {},
   "outputs": [],
   "source": [
    "simulation2.integr_sci(0,tsim2,0.1)"
   ]
  },
  {
   "cell_type": "markdown",
   "metadata": {},
   "source": [
    "# Analysis"
   ]
  },
  {
   "cell_type": "markdown",
   "metadata": {},
   "source": [
    "## Grid Plot"
   ]
  },
  {
   "cell_type": "code",
   "execution_count": null,
   "metadata": {},
   "outputs": [],
   "source": [
    "# Days to plot\n",
    "days = 250\n",
    "t_end = tsim1"
   ]
  },
  {
   "cell_type": "code",
   "execution_count": null,
   "metadata": {},
   "outputs": [],
   "source": [
    "fig, axs = plt.subplots(2, 3)\n",
    "axs[0,0].set_xlim(0,days)\n",
    "axs[0,0].scatter(RM.tr,RM.Ir,label='Real Active Data')\n",
    "axs[0,0].plot(simulation1.t,simulation1.I_det,label='Infected')\n",
    "axs[0,0].plot(simulation2.t+tsim1,simulation2.I_det,label='Infected')\n",
    "axs[0,0].set_title('Active Infected')\n",
    "axs[0,0].axvline(x = t_end, linestyle = 'dotted',color = 'grey')\n",
    "\n",
    "\n",
    "axs[0,1].set_xlim(0,days)\n",
    "axs[0,1].plot(simulation2.t+tsim1,simulation2.I_d_det,label='sim2')\n",
    "axs[0,1].plot(simulation1.t,simulation1.I_d_det,label='sim1')\n",
    "axs[0,1].scatter(RM.I_d_r_tr,RM.I_d_r,label='Daily Real Data')\n",
    "axs[0,1].set_title('Daily infected')\n",
    "axs[0,1].axvline(x = t_end, linestyle = 'dotted',color = 'grey')\n",
    "\n",
    "\n",
    "axs[0,2].set_xlim(0,days)\n",
    "axs[0,2].plot(simulation2.t+tsim1,simulation2.I_ac_det,label='sim2')\n",
    "axs[0,2].plot(simulation1.t,simulation1.I_ac_det,label='sim1')\n",
    "axs[0,2].scatter(RM.I_ac_r_tr,RM.I_ac_r,label='Accumulated Real Data')\n",
    "axs[0,2].set_title('Accumulated Infected')\n",
    "axs[0,2].axvline(x = t_end, linestyle = 'dotted',color = 'grey')\n",
    "\n",
    "\n",
    "axs[1,0].set_xlim(0,days)\n",
    "axs[1,0].plot(simulation2.t+tsim1,simulation2.B,label='sim2')\n",
    "axs[1,0].plot(simulation1.t,simulation1.B,label='sim1')\n",
    "axs[1,0].scatter(RM.hosp_tr,RM.Br_hosp,label='Real Data')\n",
    "axs[1,0].set_title('Hospitalized Acmulated Deaths')\n",
    "axs[1,0].axvline(x = t_end, linestyle = 'dotted',color = 'grey')\n",
    "\n",
    "\n",
    "axs[1,1].set_xlim(0,days)\n",
    "axs[1,1].plot(simulation1.t,simulation1.Hse+simulation1.Hout,label='UTI Beds')\n",
    "axs[1,1].plot(simulation2.t+tsim1,simulation2.Hse+simulation2.Hout,label='UTI Beds')\n",
    "axs[1,1].scatter(RM.sochimi_tr,RM.UTI,label='Real Data')\n",
    "axs[1,1].plot(simulation1.t,simulation1.H_cap,label='Capacity', color = 'red')\n",
    "axs[1,1].plot(simulation2.t+tsim1,simulation2.H_cap,label='Capacity', color = 'red')\n",
    "axs[1,1].set_title('UTI Usage')\n",
    "axs[1,1].axvline(x = t_end, linestyle = 'dotted',color = 'grey')\n",
    "\n",
    "\n",
    "axs[1,2].set_xlim(0,days)\n",
    "axs[1,2].plot(simulation2.t+tsim1,simulation2.V,label='VSat sim2')\n",
    "axs[1,2].plot(simulation1.t,simulation1.V,label='Vsat sim1')\n",
    "axs[1,2].scatter(RM.sochimi_tr,RM.Vr,label='Real Data')\n",
    "axs[1,2].plot(simulation1.t,simulation1.V_cap,label='Capacity Data', color = 'red')\n",
    "axs[1,2].plot(simulation2.t+tsim1,simulation2.V_cap,label='Capacity Data', color = 'red')\n",
    "axs[1,2].set_title('VMI Usage')\n",
    "axs[1,2].axvline(x = t_end, linestyle = 'dotted',color = 'grey')\n",
    "\n",
    "\n",
    "#axs[2,1].plot(simulation2.t+tsim1,simulation2.V_D_d,label='V_D sim2')\n",
    "#axs[2,1].plot(simulation2.t+tsim1,simulation2.Hse_D_d,label='Hse_D sim2')\n",
    "#axs[2,1].plot(simulation2.t+tsim1,simulation2.Icr_D_d,label='Icr_D sim2')\n",
    "#axs[2,1].plot(simulation2.t+tsim1,simulation2.Ise_D_d,label='Ise_D sim2')\n",
    "#axs[2,1].plot(simulation1.t,simulation1.V_D_d,label='V_D sim1')\n",
    "#axs[2,1].plot(simulation1.t,simulation1.Hse_D_d,label='Hse_D sim1')\n",
    "#axs[2,1].plot(simulation1.t,simulation1.Icr_D_d,label='Icr_D sim1')\n",
    "#axs[2,1].plot(simulation1.t,simulation1.Ise_D_d,label='Ise_D sim1')\n",
    "#axs[2,1].set_title('Death by cause')\n",
    "#axs[2,1].axvline(x = t_end, linestyle = 'dotted',color = 'grey')\n"
   ]
  },
  {
   "cell_type": "markdown",
   "metadata": {},
   "source": [
    "## Single plots"
   ]
  },
  {
   "cell_type": "markdown",
   "metadata": {},
   "source": [
    "### Daily new Infected"
   ]
  },
  {
   "cell_type": "code",
   "execution_count": null,
   "metadata": {},
   "outputs": [],
   "source": [
    "#plt.plot(simulation2.t+tsim1,simulation2.I_d_det,label='sim2')\n",
    "plt.plot(simulation1.t,simulation1.I_d_det,label='sim1')\n",
    "plt.legend(loc=0)\n",
    "plt.title('Daily New Infected')\n",
    "plt.show()"
   ]
  },
  {
   "cell_type": "markdown",
   "metadata": {},
   "source": [
    "### Daily Deaths"
   ]
  },
  {
   "cell_type": "code",
   "execution_count": null,
   "metadata": {},
   "outputs": [],
   "source": [
    "plt.plot(simulation2.t+tsim1,simulation2.D,label='sim2')\n",
    "plt.plot(simulation1.t,simulation1.D,label='sim1')\n",
    "plt.legend(loc=0)\n",
    "plt.title('Deaths')\n",
    "plt.show()"
   ]
  },
  {
   "cell_type": "markdown",
   "metadata": {},
   "source": [
    "### VMI Usage"
   ]
  },
  {
   "cell_type": "code",
   "execution_count": null,
   "metadata": {},
   "outputs": [],
   "source": [
    "plt.plot(simulation2.t+tsim1,simulation2.V_cap,label='VMI capacity sim2')\n",
    "plt.plot(simulation1.t,simulation1.V_cap,label='VMI capacity sim1')\n",
    "plt.plot(simulation1.t,simulation1.V,label='VMI sim1')\n",
    "plt.plot(simulation2.t+tsim1,simulation2.V,label='VMI sim2')\n",
    "plt.legend(loc=0)\n",
    "plt.title('VMI')\n",
    "plt.scatter(RM.sochimi_tr,RM.Vr,label='Real Data')\n",
    "plt.scatter(RM.sochimi_tr,RM.Vr_tot,label='Real Data')\n",
    "plt.show()"
   ]
  },
  {
   "cell_type": "markdown",
   "metadata": {},
   "source": [
    "### Hospitalization"
   ]
  },
  {
   "cell_type": "code",
   "execution_count": null,
   "metadata": {},
   "outputs": [],
   "source": [
    "plt.plot(simulation2.t+tsim1,simulation2.H_cap,label='sim2')\n",
    "plt.plot(simulation1.t,simulation1.H_cap,label='sim1')\n",
    "plt.plot(simulation1.t,simulation1.Hse+simulation1.Hout,label='UCI/UTI Beds')\n",
    "plt.plot(simulation2.t+tsim1,simulation2.Hse+simulation2.Hout,label='UCI/UTI Beds')\n",
    "plt.legend(loc=0)\n",
    "plt.title('Hospitalization')\n",
    "\n",
    "plt.scatter(RM.sochimi_tr,RM.Hr,label='Real Data')\n",
    "plt.scatter(RM.sochimi_tr,RM.Hr_tot,label='Real Data')\n",
    "plt.show()"
   ]
  },
  {
   "cell_type": "markdown",
   "metadata": {},
   "source": [
    "### Deaths by cause"
   ]
  },
  {
   "cell_type": "code",
   "execution_count": null,
   "metadata": {},
   "outputs": [],
   "source": [
    "plt.plot(simulation2.t+tsim1,simulation2.D,label='sim2')\n",
    "plt.plot(simulation1.t,simulation1.D,label='sim1')\n",
    "\n",
    "\n",
    "plt.plot(simulation2.t+tsim1,simulation2.V_D_d,label='V_D sim2')\n",
    "plt.plot(simulation2.t+tsim1,simulation2.Hse_D_d,label='Hse_D sim2')\n",
    "plt.plot(simulation2.t+tsim1,simulation2.Icr_D_d,label='Icr_D sim2')\n",
    "plt.plot(simulation2.t+tsim1,simulation2.Ise_D_d,label='Ise_D sim2')\n",
    "\n",
    "plt.plot(simulation1.t,simulation1.V_D_d,label='V_D sim1')\n",
    "plt.plot(simulation1.t,simulation1.Hse_D_d,label='Hse_D sim1')\n",
    "plt.plot(simulation1.t,simulation1.Icr_D_d,label='Icr_D sim1')\n",
    "plt.plot(simulation1.t,simulation1.Ise_D_d,label='Ise_D sim1')\n",
    "\n",
    "plt.legend(loc=0)\n",
    "plt.title('Deaths by cause')\n",
    "plt.show()"
   ]
  },
  {
   "cell_type": "markdown",
   "metadata": {},
   "source": [
    "### Hospital saturation"
   ]
  },
  {
   "cell_type": "code",
   "execution_count": null,
   "metadata": {},
   "outputs": [],
   "source": [
    "plt.plot(simulation2.t+tsim1,simulation2.H_sat,label='HSat sim2')\n",
    "plt.plot(simulation1.t,simulation1.H_sat,label='HSat sim1')\n",
    "plt.plot(simulation2.t+tsim1,simulation2.V_sat,label='VSat sim2')\n",
    "plt.plot(simulation1.t,simulation1.V_sat,label='Vsat sim1')\n",
    "plt.legend(loc=0)\n",
    "plt.title('Saturation')\n",
    "plt.show()"
   ]
  },
  {
   "cell_type": "markdown",
   "metadata": {},
   "source": [
    "# Error Calculation\n",
    "The following plots will show the simulation results with the real data"
   ]
  },
  {
   "cell_type": "markdown",
   "metadata": {},
   "source": [
    "## Peak Date"
   ]
  },
  {
   "cell_type": "code",
   "execution_count": null,
   "metadata": {},
   "outputs": [],
   "source": [
    "peakidx = np.where(RM.Ir==max(RM.Ir))[0][0]\n",
    "datapeakdate = RM.sochimi_dates[peakidx]"
   ]
  },
  {
   "cell_type": "code",
   "execution_count": null,
   "metadata": {},
   "outputs": [],
   "source": [
    "simulation.peak_date"
   ]
  },
  {
   "cell_type": "code",
   "execution_count": null,
   "metadata": {},
   "outputs": [],
   "source": [
    "datapeakdate"
   ]
  },
  {
   "cell_type": "code",
   "execution_count": null,
   "metadata": {},
   "outputs": [],
   "source": [
    "Peak_delta = (simulation.peak_date -datapeakdate).days"
   ]
  },
  {
   "cell_type": "code",
   "execution_count": null,
   "metadata": {},
   "outputs": [],
   "source": [
    "Peak_delta"
   ]
  },
  {
   "cell_type": "markdown",
   "metadata": {},
   "source": [
    "## Errors"
   ]
  },
  {
   "cell_type": "code",
   "execution_count": null,
   "metadata": {},
   "outputs": [],
   "source": [
    "simulation = simulation1\n",
    "t_end = tsim1\n",
    "t_end_idx = np.where(np.array(RM.tr)>=t_end)[0][0]\n",
    "idx = np.searchsorted(simulation.t,RM.tr[:t_end_idx])\n",
    "E_I = np.sum(abs(RM.Ir[:t_end_idx]-simulation.I_det[idx]))/(np.mean(RM.Ir[:t_end_idx])*t_end_idx)\n",
    "\n",
    "t_end_idx = np.where(np.array(RM.I_d_r_tr)>=t_end)[0][0]\n",
    "idx = np.searchsorted(simulation.t,RM.I_d_r_tr[:t_end_idx])\n",
    "E_Id = np.sum(abs(RM.I_d_r[:t_end_idx]-simulation.I_d_det[idx]))/(np.mean(RM.I_d_r[:t_end_idx])*t_end_idx)\n",
    "\n",
    "t_end_idx = np.where(np.array(RM.I_ac_r_tr)>=t_end)[0][0]\n",
    "idx = np.searchsorted(simulation.t,RM.I_ac_r_tr[:t_end_idx])\n",
    "E_Iac = np.sum(abs(RM.I_ac_r[:t_end_idx]-simulation.I_ac_det[idx]))/(np.mean(RM.I_ac_r[:t_end_idx])*t_end_idx)\n",
    "\n",
    "t_end_idx = np.where(np.array(RM.Br_tr)>=t_end)[0][0]\n",
    "idx = np.searchsorted(simulation.t,RM.Br_tr[:t_end_idx])\n",
    "E_D = np.sum(abs(RM.Br[:t_end_idx]-simulation.B[idx]))/(np.mean(RM.Br[:t_end_idx])*t_end_idx)\n",
    "\n",
    "t_end_idx = np.where(np.array(RM.sochimi_tr)>=t_end)[0][0]\n",
    "idx = np.searchsorted(simulation.t,RM.sochimi_tr[:t_end_idx])\n",
    "E_UCI = np.sum(abs(RM.Hr[:t_end_idx]-(simulation.Hse[idx]+simulation.Hout[idx])))/(np.mean(RM.Hr[:t_end_idx])*t_end_idx)\n",
    "\n",
    "t_end_idx = np.where(np.array(RM.sochimi_tr)>=t_end)[0][0]\n",
    "idx = np.searchsorted(simulation.t,RM.sochimi_tr[:t_end_idx])\n",
    "E_VMI = np.sum(abs(RM.Vr[:t_end_idx]-simulation.V[idx]))/(np.mean(RM.Vr[:t_end_idx])*t_end_idx)\n",
    "\n",
    "Err = {'Active Infected':E_I,'Daily Infected':E_Id,'Accumulated Infected':E_Iac,'Deaths':E_D,'UCI/UTI':E_UCI,'VMI':E_VMI}\n"
   ]
  },
  {
   "cell_type": "code",
   "execution_count": null,
   "metadata": {},
   "outputs": [],
   "source": [
    "Err = {'Active Infected':E_I,'Daily Infected':E_Id,'Accumulated Infected':E_Iac,'Deaths':E_D,'UCI/UTI':E_UCI,'VMI':E_VMI}\n",
    "print(Err)"
   ]
  }
 ],
 "metadata": {
  "kernelspec": {
   "display_name": "Python 3",
   "language": "python",
   "name": "python3"
  },
  "language_info": {
   "codemirror_mode": {
    "name": "ipython",
    "version": 3
   },
   "file_extension": ".py",
   "mimetype": "text/x-python",
   "name": "python",
   "nbconvert_exporter": "python",
   "pygments_lexer": "ipython3",
   "version": "3.8.5"
  }
 },
 "nbformat": 4,
 "nbformat_minor": 4
}
