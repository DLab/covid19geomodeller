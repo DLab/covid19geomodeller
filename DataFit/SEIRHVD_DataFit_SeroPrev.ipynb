{
 "cells": [
  {
   "cell_type": "markdown",
   "metadata": {},
   "source": [
    "# SEIRHVD Data Fit\n",
    "\n",
    "This Jupyter notebooks implements the SEIRHVD4 model for fitting the actual Chilean data in order to make projections in bed usage, amount of infected and deaths. \n",
    "This implements a single instance to facilitate understanding the model prior to run multiple data fittings at a time."
   ]
  },
  {
   "cell_type": "code",
   "execution_count": 1,
   "metadata": {},
   "outputs": [
    {
     "name": "stdout",
     "output_type": "stream",
     "text": [
      "Linux\n"
     ]
    }
   ],
   "source": [
    "import numpy as np\n",
    "import pandas as pd\n",
    "import matplotlib.pyplot as plt\n",
    "from datetime import datetime\n",
    "from numpy import linalg as LA\n",
    "\n",
    "import platform\n",
    "OS = platform.system()\n",
    "\n",
    "import matplotlib.pyplot as plt\n",
    "if OS == 'Linux':    \n",
    "    %matplotlib tk\n",
    "    print('Linux')\n",
    "elif OS == 'Windows':\n",
    "    %matplotlib qt\n",
    "    print('Windows')\n",
    "else:\n",
    "    print('OS not detected :-|')\n",
    "\n",
    "import sys\n",
    "from pathlib import Path\n",
    "sys.path.insert(1, '../src/SEIRHVD/')\n",
    "sys.path.insert(1, '../src/utils/')\n",
    "sys.path.insert(1, 'src/SEIRHVD/')\n",
    "sys.path.insert(1, 'src/utils/')\n",
    "\n",
    "from class_SEIRHUVD4 import SEIRHVD \n",
    "from Quarantine import Quarantine\n",
    "from importdata import ImportData"
   ]
  },
  {
   "cell_type": "markdown",
   "metadata": {},
   "source": [
    "## Time Variables\n",
    "Declare Initial date for simulating and data fitting"
   ]
  },
  {
   "cell_type": "code",
   "execution_count": 2,
   "metadata": {},
   "outputs": [],
   "source": [
    "initdate = datetime(2020,5,15)\n",
    "initdate2 = datetime(2020,8,15)\n",
    "currentdate = datetime.now()\n",
    "currentday = (currentdate - initdate).days"
   ]
  },
  {
   "cell_type": "markdown",
   "metadata": {},
   "source": [
    "## Import Data\n",
    "To import data we use an ImportData object which is initialized with the region's cut and the initial date. Meanwhile we will adjust this data for regions, then I'll add Heath sector as the minimum territorial unit for SEIRHVD models."
   ]
  },
  {
   "cell_type": "code",
   "execution_count": 3,
   "metadata": {
    "scrolled": true
   },
   "outputs": [
    {
     "name": "stdout",
     "output_type": "stream",
     "text": [
      "Importing General Data\n",
      "Importing Population\n",
      "Importing Active infected\n",
      "Importing Accumulated Infected\n",
      "Importing Daily Infected\n",
      "Importing Sochimi Data\n",
      "Importing Accumulated Deaths\n",
      "Importing Active Infected by Minciencia\n",
      "Done\n"
     ]
    }
   ],
   "source": [
    "tstate = '13'\n",
    "\n",
    "# Import Data\n",
    "RM = ImportData(tstate=tstate,initdate = initdate)\n",
    "RM.importdata()"
   ]
  },
  {
   "cell_type": "markdown",
   "metadata": {},
   "source": [
    "## Simulation Parameters"
   ]
  },
  {
   "cell_type": "code",
   "execution_count": 4,
   "metadata": {},
   "outputs": [],
   "source": [
    "# Simulation parameters\n",
    "tsimtot = 1000\n",
    "\n",
    "tsim1 = (initdate2 - initdate).days \n",
    "tsim2 = tsimtot-tsim1\n",
    "\n",
    "beta = 0.2\n",
    "mu = 0.8\n",
    "k = 0.1\n",
    "\n",
    "SeroPrevFactor1=0.05\n",
    "SeroPrevFactor2=0.05\n",
    "\n",
    "expinfection=0 # Proportion in which the exposed infect - 0: nothing, 1: equally as Infected\n"
   ]
  },
  {
   "cell_type": "markdown",
   "metadata": {},
   "source": [
    "## Quarantines\n",
    "Build Quarantine Object:\n",
    " \n",
    "     Q = Quarantine(rem_mob,max_mob=max_mob,qp=0,iqt=0,fqt=1000,movfunct = 'once')\n",
    "     alpha = Q.alpha\n",
    "     \n",
    "     Plot Quarantine dynamics:\n",
    "         Q.plot()"
   ]
  },
  {
   "cell_type": "code",
   "execution_count": 5,
   "metadata": {},
   "outputs": [],
   "source": [
    "# Quarantines \n",
    "max_mob = 0.55\n",
    "rem_mob = 0.45\n",
    "t_end_date=datetime(2020,8,25)\n",
    "t_end=(t_end_date-initdate).days\n",
    "\n",
    "alpha = Quarantine(rem_mob,max_mob,qp=0,iqt=0,fqt=t_end).alpha\n",
    "alpha = Quarantine(rem_mob).alpha"
   ]
  },
  {
   "cell_type": "markdown",
   "metadata": {},
   "source": [
    "## Underreport\n",
    "Fraction of Infected detected/reported  \n",
    "    - Imi_det: fraction of Mild detected\n",
    "    - Imi_as: fraction of asymptomatic detected\n",
    "    \n",
    "If both are 1, means that all infected are detected so I_det = I"
   ]
  },
  {
   "cell_type": "code",
   "execution_count": 6,
   "metadata": {},
   "outputs": [],
   "source": [
    "Imi_det = 0.56\n",
    "Ias_det = 0"
   ]
  },
  {
   "cell_type": "markdown",
   "metadata": {},
   "source": [
    "## Simulation\n",
    "Initialize Simulation Object, and run the simulation. "
   ]
  },
  {
   "cell_type": "code",
   "execution_count": 7,
   "metadata": {},
   "outputs": [
    {
     "name": "stdout",
     "output_type": "stream",
     "text": [
      "InitialCondition Object Data\n"
     ]
    }
   ],
   "source": [
    "simulation1 = SEIRHVD(tsim1,beta,mu,alpha,k=k,SeroPrevFactor=SeroPrevFactor1,expinfection=expinfection,RealIC = RM,Imi_det = Imi_det,Ias_det = Ias_det)"
   ]
  },
  {
   "cell_type": "markdown",
   "metadata": {},
   "source": [
    "## Run simulation"
   ]
  },
  {
   "cell_type": "code",
   "execution_count": 8,
   "metadata": {},
   "outputs": [
    {
     "name": "stdout",
     "output_type": "stream",
     "text": [
      "Import odeint\n"
     ]
    },
    {
     "data": {
      "text/plain": [
       "SolverReturn(flag=<StatusEnum.SUCCESS: 0>, values=SolverVariables(t=array([ 0. ,  0.1,  0.2,  0.3,  0.4,  0.5,  0.6,  0.7,  0.8,  0.9,  1. ,\n",
       "        1.1,  1.2,  1.3,  1.4,  1.5,  1.6,  1.7,  1.8,  1.9,  2. ,  2.1,\n",
       "        2.2,  2.3,  2.4,  2.5,  2.6,  2.7,  2.8,  2.9,  3. ,  3.1,  3.2,\n",
       "        3.3,  3.4,  3.5,  3.6,  3.7,  3.8,  3.9,  4. ,  4.1,  4.2,  4.3,\n",
       "        4.4,  4.5,  4.6,  4.7,  4.8,  4.9,  5. ,  5.1,  5.2,  5.3,  5.4,\n",
       "        5.5,  5.6,  5.7,  5.8,  5.9,  6. ,  6.1,  6.2,  6.3,  6.4,  6.5,\n",
       "        6.6,  6.7,  6.8,  6.9,  7. ,  7.1,  7.2,  7.3,  7.4,  7.5,  7.6,\n",
       "        7.7,  7.8,  7.9,  8. ,  8.1,  8.2,  8.3,  8.4,  8.5,  8.6,  8.7,\n",
       "        8.8,  8.9,  9. ,  9.1,  9.2,  9.3,  9.4,  9.5,  9.6,  9.7,  9.8,\n",
       "        9.9, 10. , 10.1, 10.2, 10.3, 10.4, 10.5, 10.6, 10.7, 10.8, 10.9,\n",
       "       11. , 11.1, 11.2, 11.3, 11.4, 11.5, 11.6, 11.7, 11.8, 11.9, 12. ,\n",
       "       12.1, 12.2, 12.3, 12.4, 12.5, 12.6, 12.7, 12.8, 12.9, 13. , 13.1,\n",
       "       13.2, 13.3, 13.4, 13.5, 13.6, 13.7, 13.8, 13.9, 14. , 14.1, 14.2,\n",
       "       14.3, 14.4, 14.5, 14.6, 14.7, 14.8, 14.9, 15. , 15.1, 15.2, 15.3,\n",
       "       15.4, 15.5, 15.6, 15.7, 15.8, 15.9, 16. , 16.1, 16.2, 16.3, 16.4,\n",
       "       16.5, 16.6, 16.7, 16.8, 16.9, 17. , 17.1, 17.2, 17.3, 17.4, 17.5,\n",
       "       17.6, 17.7, 17.8, 17.9, 18. , 18.1, 18.2, 18.3, 18.4, 18.5, 18.6,\n",
       "       18.7, 18.8, 18.9, 19. , 19.1, 19.2, 19.3, 19.4, 19.5, 19.6, 19.7,\n",
       "       19.8, 19.9, 20. , 20.1, 20.2, 20.3, 20.4, 20.5, 20.6, 20.7, 20.8,\n",
       "       20.9, 21. , 21.1, 21.2, 21.3, 21.4, 21.5, 21.6, 21.7, 21.8, 21.9,\n",
       "       22. , 22.1, 22.2, 22.3, 22.4, 22.5, 22.6, 22.7, 22.8, 22.9, 23. ,\n",
       "       23.1, 23.2, 23.3, 23.4, 23.5, 23.6, 23.7, 23.8, 23.9, 24. , 24.1,\n",
       "       24.2, 24.3, 24.4, 24.5, 24.6, 24.7, 24.8, 24.9, 25. , 25.1, 25.2,\n",
       "       25.3, 25.4, 25.5, 25.6, 25.7, 25.8, 25.9, 26. , 26.1, 26.2, 26.3,\n",
       "       26.4, 26.5, 26.6, 26.7, 26.8, 26.9, 27. , 27.1, 27.2, 27.3, 27.4,\n",
       "       27.5, 27.6, 27.7, 27.8, 27.9, 28. , 28.1, 28.2, 28.3, 28.4, 28.5,\n",
       "       28.6, 28.7, 28.8, 28.9, 29. , 29.1, 29.2, 29.3, 29.4, 29.5, 29.6,\n",
       "       29.7, 29.8, 29.9, 30. , 30.1, 30.2, 30.3, 30.4, 30.5, 30.6, 30.7,\n",
       "       30.8, 30.9, 31. , 31.1, 31.2, 31.3, 31.4, 31.5, 31.6, 31.7, 31.8,\n",
       "       31.9, 32. , 32.1, 32.2, 32.3, 32.4, 32.5, 32.6, 32.7, 32.8, 32.9,\n",
       "       33. , 33.1, 33.2, 33.3, 33.4, 33.5, 33.6, 33.7, 33.8, 33.9, 34. ,\n",
       "       34.1, 34.2, 34.3, 34.4, 34.5, 34.6, 34.7, 34.8, 34.9, 35. , 35.1,\n",
       "       35.2, 35.3, 35.4, 35.5, 35.6, 35.7, 35.8, 35.9, 36. , 36.1, 36.2,\n",
       "       36.3, 36.4, 36.5, 36.6, 36.7, 36.8, 36.9, 37. , 37.1, 37.2, 37.3,\n",
       "       37.4, 37.5, 37.6, 37.7, 37.8, 37.9, 38. , 38.1, 38.2, 38.3, 38.4,\n",
       "       38.5, 38.6, 38.7, 38.8, 38.9, 39. , 39.1, 39.2, 39.3, 39.4, 39.5,\n",
       "       39.6, 39.7, 39.8, 39.9, 40. , 40.1, 40.2, 40.3, 40.4, 40.5, 40.6,\n",
       "       40.7, 40.8, 40.9, 41. , 41.1, 41.2, 41.3, 41.4, 41.5, 41.6, 41.7,\n",
       "       41.8, 41.9, 42. , 42.1, 42.2, 42.3, 42.4, 42.5, 42.6, 42.7, 42.8,\n",
       "       42.9, 43. , 43.1, 43.2, 43.3, 43.4, 43.5, 43.6, 43.7, 43.8, 43.9,\n",
       "       44. , 44.1, 44.2, 44.3, 44.4, 44.5, 44.6, 44.7, 44.8, 44.9, 45. ,\n",
       "       45.1, 45.2, 45.3, 45.4, 45.5, 45.6, 45.7, 45.8, 45.9, 46. , 46.1,\n",
       "       46.2, 46.3, 46.4, 46.5, 46.6, 46.7, 46.8, 46.9, 47. , 47.1, 47.2,\n",
       "       47.3, 47.4, 47.5, 47.6, 47.7, 47.8, 47.9, 48. , 48.1, 48.2, 48.3,\n",
       "       48.4, 48.5, 48.6, 48.7, 48.8, 48.9, 49. , 49.1, 49.2, 49.3, 49.4,\n",
       "       49.5, 49.6, 49.7, 49.8, 49.9, 50. , 50.1, 50.2, 50.3, 50.4, 50.5,\n",
       "       50.6, 50.7, 50.8, 50.9, 51. , 51.1, 51.2, 51.3, 51.4, 51.5, 51.6,\n",
       "       51.7, 51.8, 51.9, 52. , 52.1, 52.2, 52.3, 52.4, 52.5, 52.6, 52.7,\n",
       "       52.8, 52.9, 53. , 53.1, 53.2, 53.3, 53.4, 53.5, 53.6, 53.7, 53.8,\n",
       "       53.9, 54. , 54.1, 54.2, 54.3, 54.4, 54.5, 54.6, 54.7, 54.8, 54.9,\n",
       "       55. , 55.1, 55.2, 55.3, 55.4, 55.5, 55.6, 55.7, 55.8, 55.9, 56. ,\n",
       "       56.1, 56.2, 56.3, 56.4, 56.5, 56.6, 56.7, 56.8, 56.9, 57. , 57.1,\n",
       "       57.2, 57.3, 57.4, 57.5, 57.6, 57.7, 57.8, 57.9, 58. , 58.1, 58.2,\n",
       "       58.3, 58.4, 58.5, 58.6, 58.7, 58.8, 58.9, 59. , 59.1, 59.2, 59.3,\n",
       "       59.4, 59.5, 59.6, 59.7, 59.8, 59.9, 60. , 60.1, 60.2, 60.3, 60.4,\n",
       "       60.5, 60.6, 60.7, 60.8, 60.9, 61. , 61.1, 61.2, 61.3, 61.4, 61.5,\n",
       "       61.6, 61.7, 61.8, 61.9, 62. , 62.1, 62.2, 62.3, 62.4, 62.5, 62.6,\n",
       "       62.7, 62.8, 62.9, 63. , 63.1, 63.2, 63.3, 63.4, 63.5, 63.6, 63.7,\n",
       "       63.8, 63.9, 64. , 64.1, 64.2, 64.3, 64.4, 64.5, 64.6, 64.7, 64.8,\n",
       "       64.9, 65. , 65.1, 65.2, 65.3, 65.4, 65.5, 65.6, 65.7, 65.8, 65.9,\n",
       "       66. , 66.1, 66.2, 66.3, 66.4, 66.5, 66.6, 66.7, 66.8, 66.9, 67. ,\n",
       "       67.1, 67.2, 67.3, 67.4, 67.5, 67.6, 67.7, 67.8, 67.9, 68. , 68.1,\n",
       "       68.2, 68.3, 68.4, 68.5, 68.6, 68.7, 68.8, 68.9, 69. , 69.1, 69.2,\n",
       "       69.3, 69.4, 69.5, 69.6, 69.7, 69.8, 69.9, 70. , 70.1, 70.2, 70.3,\n",
       "       70.4, 70.5, 70.6, 70.7, 70.8, 70.9, 71. , 71.1, 71.2, 71.3, 71.4,\n",
       "       71.5, 71.6, 71.7, 71.8, 71.9, 72. , 72.1, 72.2, 72.3, 72.4, 72.5,\n",
       "       72.6, 72.7, 72.8, 72.9, 73. , 73.1, 73.2, 73.3, 73.4, 73.5, 73.6,\n",
       "       73.7, 73.8, 73.9, 74. , 74.1, 74.2, 74.3, 74.4, 74.5, 74.6, 74.7,\n",
       "       74.8, 74.9, 75. , 75.1, 75.2, 75.3, 75.4, 75.5, 75.6, 75.7, 75.8,\n",
       "       75.9, 76. , 76.1, 76.2, 76.3, 76.4, 76.5, 76.6, 76.7, 76.8, 76.9,\n",
       "       77. , 77.1, 77.2, 77.3, 77.4, 77.5, 77.6, 77.7, 77.8, 77.9, 78. ,\n",
       "       78.1, 78.2, 78.3, 78.4, 78.5, 78.6, 78.7, 78.8, 78.9, 79. , 79.1,\n",
       "       79.2, 79.3, 79.4, 79.5, 79.6, 79.7, 79.8, 79.9, 80. , 80.1, 80.2,\n",
       "       80.3, 80.4, 80.5, 80.6, 80.7, 80.8, 80.9, 81. , 81.1, 81.2, 81.3,\n",
       "       81.4, 81.5, 81.6, 81.7, 81.8, 81.9, 82. , 82.1, 82.2, 82.3, 82.4,\n",
       "       82.5, 82.6, 82.7, 82.8, 82.9, 83. , 83.1, 83.2, 83.3, 83.4, 83.5,\n",
       "       83.6, 83.7, 83.8, 83.9, 84. , 84.1, 84.2, 84.3, 84.4, 84.5, 84.6,\n",
       "       84.7, 84.8, 84.9, 85. , 85.1, 85.2, 85.3, 85.4, 85.5, 85.6, 85.7,\n",
       "       85.8, 85.9, 86. , 86.1, 86.2, 86.3, 86.4, 86.5, 86.6, 86.7, 86.8,\n",
       "       86.9, 87. , 87.1, 87.2, 87.3, 87.4, 87.5, 87.6, 87.7, 87.8, 87.9,\n",
       "       88. , 88.1, 88.2, 88.3, 88.4, 88.5, 88.6, 88.7, 88.8, 88.9, 89. ,\n",
       "       89.1, 89.2, 89.3, 89.4, 89.5, 89.6, 89.7, 89.8, 89.9, 90. , 90.1,\n",
       "       90.2, 90.3, 90.4, 90.5, 90.6, 90.7, 90.8, 90.9, 91. , 91.1, 91.2,\n",
       "       91.3, 91.4, 91.5, 91.6, 91.7, 91.8, 91.9, 92. ]), y=array([[3.40191472e+05, 2.82502793e+04, 3.85325885e+03, ...,\n",
       "        0.00000000e+00, 0.00000000e+00, 0.00000000e+00],\n",
       "       [3.39436149e+05, 2.84200051e+04, 3.73827951e+03, ...,\n",
       "        0.00000000e+00, 0.00000000e+00, 2.53943686e+00],\n",
       "       [3.38679481e+05, 2.85875910e+04, 3.63548072e+03, ...,\n",
       "        0.00000000e+00, 0.00000000e+00, 5.13063308e+00],\n",
       "       ...,\n",
       "       [6.03846352e+03, 1.51987342e+03, 1.38835042e+01, ...,\n",
       "        4.12828002e+03, 4.93120370e+02, 3.76283339e+03],\n",
       "       [6.01382153e+03, 1.51317398e+03, 1.37659087e+01, ...,\n",
       "        4.12828002e+03, 4.93120370e+02, 3.76446207e+03],\n",
       "       [5.98928498e+03, 1.50650721e+03, 1.36493230e+01, ...,\n",
       "        4.12828002e+03, 4.93120370e+02, 3.76608440e+03]])), errors=SolverVariables(t=None, y=None), roots=SolverVariables(t=None, y=None), tstop=SolverVariables(t=None, y=None), message='Successful function return.')"
      ]
     },
     "execution_count": 8,
     "metadata": {},
     "output_type": "execute_result"
    }
   ],
   "source": [
    "simulation1.integr(0,tsim1,0.1)"
   ]
  },
  {
   "cell_type": "markdown",
   "metadata": {},
   "source": [
    "## Simulation 2"
   ]
  },
  {
   "cell_type": "code",
   "execution_count": 10,
   "metadata": {},
   "outputs": [],
   "source": [
    "SeroPrevFactor2 = 0"
   ]
  },
  {
   "cell_type": "code",
   "execution_count": 11,
   "metadata": {},
   "outputs": [],
   "source": [
    "simulation2 = SEIRHVD(tsim2,beta,mu,alpha,k=k,SeroPrevFactor=SeroPrevFactor2,Imi_det = Imi_det,Ias_det = Ias_det,SimIC=simulation1,initdate=initdate2)"
   ]
  },
  {
   "cell_type": "markdown",
   "metadata": {},
   "source": [
    "### Run simulation 2"
   ]
  },
  {
   "cell_type": "code",
   "execution_count": 12,
   "metadata": {},
   "outputs": [
    {
     "name": "stdout",
     "output_type": "stream",
     "text": [
      "Import odeint\n"
     ]
    },
    {
     "data": {
      "text/plain": [
       "SolverReturn(flag=<StatusEnum.SUCCESS: 0>, values=SolverVariables(t=array([0.000e+00, 1.000e-01, 2.000e-01, ..., 9.078e+02, 9.079e+02,\n",
       "       9.080e+02]), y=array([[5.98928498e+03, 1.50650721e+03, 1.36493230e+01, ...,\n",
       "        4.12828002e+03, 4.93120370e+02, 3.76608440e+03],\n",
       "       [5.96485429e+03, 1.49987323e+03, 1.35337451e+01, ...,\n",
       "        4.12828002e+03, 4.93120370e+02, 3.76770037e+03],\n",
       "       [5.94052690e+03, 1.49327120e+03, 1.34191469e+01, ...,\n",
       "        4.12828002e+03, 4.93120370e+02, 3.76931010e+03],\n",
       "       ...,\n",
       "       [2.55172035e-12, 6.53308542e-13, 9.64486896e-15, ...,\n",
       "        4.12828002e+03, 4.93120370e+02, 4.16677086e+03],\n",
       "       [2.53318710e-12, 6.59746656e-13, 1.88717447e-14, ...,\n",
       "        4.12828002e+03, 4.93120370e+02, 4.16677086e+03],\n",
       "       [2.51465386e-12, 6.66184771e-13, 2.80986205e-14, ...,\n",
       "        4.12828002e+03, 4.93120370e+02, 4.16677086e+03]])), errors=SolverVariables(t=None, y=None), roots=SolverVariables(t=None, y=None), tstop=SolverVariables(t=None, y=None), message='Successful function return.')"
      ]
     },
     "execution_count": 12,
     "metadata": {},
     "output_type": "execute_result"
    }
   ],
   "source": [
    "simulation2.integr(0,tsim2,0.1)"
   ]
  },
  {
   "cell_type": "markdown",
   "metadata": {},
   "source": [
    "# Analysis"
   ]
  },
  {
   "cell_type": "code",
   "execution_count": null,
   "metadata": {},
   "outputs": [],
   "source": [
    "plt.plot(simulation2.t+tsim1,simulation2.I_d_det,label='sim2')\n",
    "plt.plot(simulation1.t,simulation1.I_d_det,label='sim1')\n",
    "plt.legend(loc=0)\n",
    "plt.title('Daily New Infected')\n",
    "plt.show()"
   ]
  },
  {
   "cell_type": "code",
   "execution_count": 14,
   "metadata": {},
   "outputs": [],
   "source": [
    "plt.plot(simulation2.t+tsim1,simulation2.D,label='sim2')\n",
    "plt.plot(simulation1.t,simulation1.D,label='sim1')\n",
    "plt.legend(loc=0)\n",
    "plt.title('Deaths')\n",
    "plt.show()"
   ]
  },
  {
   "cell_type": "code",
   "execution_count": null,
   "metadata": {},
   "outputs": [],
   "source": [
    "plt.plot(simulation2.t+tsim1,simulation2.V_cap,label='VMI capacity sim2')\n",
    "plt.plot(simulation1.t,simulation1.V_cap,label='VMI capacity sim1')\n",
    "plt.plot(simulation1.t,simulation1.V,label='VMI sim1')\n",
    "plt.plot(simulation2.t+tsim1,simulation2.V,label='VMI sim2')\n",
    "plt.legend(loc=0)\n",
    "plt.title('VMI')\n",
    "plt.scatter(RM.sochimi_tr,RM.Vr,label='Real Data')\n",
    "plt.scatter(RM.sochimi_tr,RM.Vr_tot,label='Real Data')\n",
    "plt.show()"
   ]
  },
  {
   "cell_type": "code",
   "execution_count": 15,
   "metadata": {},
   "outputs": [],
   "source": [
    "plt.plot(simulation2.t+tsim1,simulation2.H_cap,label='sim2')\n",
    "plt.plot(simulation1.t,simulation1.H_cap,label='sim1')\n",
    "plt.plot(simulation1.t,simulation1.Hse+simulation1.Hout,label='UCI/UTI Beds')\n",
    "plt.plot(simulation2.t+tsim1,simulation2.Hse+simulation2.Hout,label='UCI/UTI Beds')\n",
    "plt.legend(loc=0)\n",
    "plt.title('Hospitalization')\n",
    "\n",
    "plt.scatter(RM.sochimi_tr,RM.Hr,label='Real Data')\n",
    "plt.scatter(RM.sochimi_tr,RM.Hr_tot,label='Real Data')\n",
    "plt.show()"
   ]
  },
  {
   "cell_type": "code",
   "execution_count": 13,
   "metadata": {},
   "outputs": [],
   "source": [
    "plt.plot(simulation2.t+tsim1,simulation2.D,label='sim2')\n",
    "plt.plot(simulation1.t,simulation1.D,label='sim1')\n",
    "\n",
    "\n",
    "plt.plot(simulation2.t+tsim1,simulation2.V_D_d,label='V_D sim2')\n",
    "plt.plot(simulation2.t+tsim1,simulation2.Hse_D_d,label='Hse_D sim2')\n",
    "plt.plot(simulation2.t+tsim1,simulation2.Icr_D_d,label='Icr_D sim2')\n",
    "plt.plot(simulation2.t+tsim1,simulation2.Ise_D_d,label='Ise_D sim2')\n",
    "\n",
    "plt.plot(simulation1.t,simulation1.V_D_d,label='V_D sim1')\n",
    "plt.plot(simulation1.t,simulation1.Hse_D_d,label='Hse_D sim1')\n",
    "plt.plot(simulation1.t,simulation1.Icr_D_d,label='Icr_D sim1')\n",
    "plt.plot(simulation1.t,simulation1.Ise_D_d,label='Ise_D sim1')\n",
    "\n",
    "plt.legend(loc=0)\n",
    "plt.title('Deaths by cause')\n",
    "plt.show()"
   ]
  },
  {
   "cell_type": "code",
   "execution_count": null,
   "metadata": {},
   "outputs": [],
   "source": [
    "plt.plot(simulation2.t+tsim1,simulation2.H_sat,label='HSat sim2')\n",
    "plt.plot(simulation1.t,simulation1.H_sat,label='HSat sim1')\n",
    "plt.plot(simulation2.t+tsim1,simulation2.V_sat,label='VSat sim2')\n",
    "plt.plot(simulation1.t,simulation1.V_sat,label='Vsat sim1')\n",
    "plt.legend(loc=0)\n",
    "plt.title('Saturation')\n",
    "plt.show()"
   ]
  },
  {
   "cell_type": "code",
   "execution_count": null,
   "metadata": {},
   "outputs": [],
   "source": [
    "simulation2.T_delta"
   ]
  },
  {
   "cell_type": "code",
   "execution_count": null,
   "metadata": {},
   "outputs": [],
   "source": [
    "simulation1.Htot(92)"
   ]
  },
  {
   "cell_type": "code",
   "execution_count": null,
   "metadata": {},
   "outputs": [],
   "source": [
    "simulation2.Htot(1)"
   ]
  },
  {
   "cell_type": "code",
   "execution_count": null,
   "metadata": {},
   "outputs": [],
   "source": [
    "simulation1."
   ]
  },
  {
   "cell_type": "code",
   "execution_count": null,
   "metadata": {},
   "outputs": [],
   "source": [
    "self = simulation1"
   ]
  },
  {
   "cell_type": "code",
   "execution_count": null,
   "metadata": {},
   "outputs": [],
   "source": [
    "self.pE_Ias + self.pE_Imi + self.pE_Ise + self.pE_Icr "
   ]
  },
  {
   "cell_type": "markdown",
   "metadata": {},
   "source": [
    "# Analysis - Detected infected\n",
    "\n",
    "The following plots will show the simulation results with the real data"
   ]
  },
  {
   "cell_type": "code",
   "execution_count": null,
   "metadata": {},
   "outputs": [],
   "source": [
    "# Days to plot (Today + ..)\n",
    "days = currentday+130\n",
    "index1 = np.searchsorted(simulation1.t,days)\n"
   ]
  },
  {
   "cell_type": "markdown",
   "metadata": {},
   "source": [
    "### Errors"
   ]
  },
  {
   "cell_type": "code",
   "execution_count": null,
   "metadata": {},
   "outputs": [],
   "source": [
    "simulation = simulation1\n",
    "t_end_idx = np.where(np.array(RM.tr)>=t_end)[0][0]\n",
    "idx = np.searchsorted(simulation.t,RM.tr[:t_end_idx])\n",
    "E_I = np.sum(abs(RM.Ir[:t_end_idx]-simulation.I_det[idx]))/(np.mean(RM.Ir[:t_end_idx])*t_end_idx)\n",
    "\n",
    "t_end_idx = np.where(np.array(RM.I_d_r_tr)>=t_end)[0][0]\n",
    "idx = np.searchsorted(simulation.t,RM.I_d_r_tr[:t_end_idx])\n",
    "E_Id = np.sum(abs(RM.I_d_r[:t_end_idx]-simulation.I_d_det[idx]))/(np.mean(RM.I_d_r[:t_end_idx])*t_end_idx)\n",
    "\n",
    "t_end_idx = np.where(np.array(RM.I_ac_r_tr)>=t_end)[0][0]\n",
    "idx = np.searchsorted(simulation.t,RM.I_ac_r_tr[:t_end_idx])\n",
    "E_Iac = np.sum(abs(RM.I_ac_r[:t_end_idx]-simulation.I_ac_det[idx]))/(np.mean(RM.I_ac_r[:t_end_idx])*t_end_idx)\n",
    "\n",
    "t_end_idx = np.where(np.array(RM.Br_tr)>=t_end)[0][0]\n",
    "idx = np.searchsorted(simulation.t,RM.Br_tr[:t_end_idx])\n",
    "E_D = np.sum(abs(RM.Br[:t_end_idx]-simulation.B[idx]))/(np.mean(RM.Br[:t_end_idx])*t_end_idx)\n",
    "\n",
    "t_end_idx = np.where(np.array(RM.sochimi_tr)>=t_end)[0][0]\n",
    "idx = np.searchsorted(simulation.t,RM.sochimi_tr[:t_end_idx])\n",
    "E_UCI = np.sum(abs(RM.Hr[:t_end_idx]-(simulation.Hse[idx]+simulation.Hout[idx])))/(np.mean(RM.Hr[:t_end_idx])*t_end_idx)\n",
    "\n",
    "t_end_idx = np.where(np.array(RM.sochimi_tr)>=t_end)[0][0]\n",
    "idx = np.searchsorted(simulation.t,RM.sochimi_tr[:t_end_idx])\n",
    "E_VMI = np.sum(abs(RM.Vr[:t_end_idx]-simulation.V[idx]))/(np.mean(RM.Vr[:t_end_idx])*t_end_idx)\n",
    "\n",
    "Err = {'Active Infected':E_I,'Daily Infected':E_Id,'Accumulated Infected':E_Iac,'Deaths':E_D,'UCI/UTI':E_UCI,'VMI':E_VMI}\n"
   ]
  },
  {
   "cell_type": "code",
   "execution_count": null,
   "metadata": {},
   "outputs": [],
   "source": [
    "Err = {'Active Infected':E_I,'Daily Infected':E_Id,'Accumulated Infected':E_Iac,'Deaths':E_D,'UCI/UTI':E_UCI,'VMI':E_VMI}\n",
    "print(Err)"
   ]
  },
  {
   "cell_type": "markdown",
   "metadata": {},
   "source": [
    "### Plot Grid"
   ]
  },
  {
   "cell_type": "code",
   "execution_count": null,
   "metadata": {},
   "outputs": [],
   "source": [
    "\n",
    "\n",
    "fig, axs = plt.subplots(3, 2)\n",
    "axs[0,0].set_xlim(0,days)\n",
    "axs[0,0].scatter(RM.tr,RM.Ir,label='Real Active Data')\n",
    "axs[0,0].plot(simulation1.t[:index1],simulation1.I_det[:index1],label='Infected')\n",
    "axs[0,0].plot(simulation2.t[:index2],simulation2.I_det[:index2],label='Infected')\n",
    "axs[0,0].plot(simulation3.t[:index3],simulation3.I_det[:index3],label='Infected')\n",
    "axs[0,0].set_title('Detectable Active Infected')\n",
    "axs[0,0].axvline(x = t_end, linestyle = 'dotted',color = 'grey')\n",
    "\n",
    "axs[0, 1].set_xlim(0,days)\n",
    "axs[0, 1].plot(simulation1.t[:index1],simulation1.I_d_det[:index1],label='Daily new Infected')\n",
    "axs[0, 1].plot(simulation2.t[:index2],simulation2.I_d_det[:index2],label='Daily new Infected')\n",
    "axs[0, 1].plot(simulation3.t[:index3],simulation3.I_d_det[:index3],label='Daily new Infected')\n",
    "axs[0, 1].scatter(RM.I_d_r_tr,RM.I_d_r,label='Daily Real Data')\n",
    "#axs[0, 1].legend(loc=0)\n",
    "axs[0, 1].set_title('Detected Daily infected')\n",
    "axs[0,1].axvline(x = t_end, linestyle = 'dotted',color = 'grey')\n",
    "\n",
    "\n",
    "axs[1,0].set_xlim(0,days)\n",
    "axs[1,0].plot(simulation1.t[:index1],simulation1.I_ac_det[:index1],label='Detected Acummulated Infected')\n",
    "axs[1,0].plot(simulation2.t[:index2],simulation2.I_ac_det[:index2],label='Detected Acummulated Infected')\n",
    "axs[1,0].plot(simulation3.t[:index3],simulation3.I_ac_det[:index3],label='Detected Acummulated Infected')\n",
    "axs[1,0].scatter(RM.I_ac_r_tr,RM.I_ac_r,label='Accumulated Real Data')\n",
    "axs[1,0].set_title('Detected Accumulated Infected')\n",
    "axs[1,0].axvline(x = t_end, linestyle = 'dotted',color = 'grey')\n",
    "\n",
    "axs[1,1].set_xlim(0,days)\n",
    "axs[1,1].plot(simulation1.t[:index1],simulation1.B[:index1],label='Total Acummulated Deaths')\n",
    "axs[1,1].plot(simulation2.t[:index2],simulation2.B[:index2],label='Total Acummulated Deaths')\n",
    "axs[1,1].plot(simulation3.t[:index3],simulation3.B[:index3],label='Total Acummulated Deaths')\n",
    "axs[1,1].scatter(RM.Br_tr,RM.Br,label='Real Data')\n",
    "axs[1,1].set_title('Acmulated Deaths')\n",
    "axs[1,1].axvline(x = t_end, linestyle = 'dotted',color = 'grey')\n",
    "\n",
    "axs[2,0].set_xlim(0,days)\n",
    "axs[2,0].plot(simulation1.t[:index1],simulation1.Hse[:index1]+simulation1.Hout[:index1],label='UCI/UTI Beds')\n",
    "axs[2,0].plot(simulation2.t[:index2],simulation2.Hse[:index2]+simulation2.Hout[:index2],label='UCI/UTI Beds')\n",
    "axs[2,0].plot(simulation3.t[:index3],simulation3.Hse[:index3]+simulation3.Hout[:index3],label='UCI/UTI Beds')\n",
    "axs[2,0].scatter(RM.sochimi_tr,RM.Hr,label='Real Data')\n",
    "axs[2,0].scatter(RM.sochimi_tr,RM.Hr_tot,label='Capacity Data', color = 'red')\n",
    "axs[2,0].set_title('UCI/UTI Usage')\n",
    "axs[2,0].axvline(x = t_end, linestyle = 'dotted',color = 'grey')\n",
    "\n",
    "axs[2,1].set_xlim(0,days)\n",
    "axs[2,1].plot(simulation1.t[:index1],simulation1.V[:index1],label='VMI Usage')\n",
    "axs[2,1].plot(simulation2.t[:index2],simulation2.V[:index2],label='VMI Usage')\n",
    "axs[2,1].plot(simulation3.t[:index3],simulation3.V[:index3],label='VMI Usage')\n",
    "axs[2,1].scatter(RM.sochimi_tr,RM.Vr,label='Real Data')\n",
    "axs[2,1].scatter(RM.sochimi_tr,RM.Vr_tot,label='Capacity Data',color = 'red')\n",
    "axs[2,1].set_title('UCI/UTI Usage')\n",
    "axs[2,1].axvline(x = t_end, linestyle = 'dotted',color = 'grey')\n"
   ]
  },
  {
   "cell_type": "code",
   "execution_count": null,
   "metadata": {},
   "outputs": [],
   "source": [
    "print([Err])"
   ]
  },
  {
   "cell_type": "markdown",
   "metadata": {},
   "source": [
    "## Detected Active Infected\n",
    "Here we define a Detected infected population as follows:  \n",
    "\n",
    " Idet = Imi*det + Ise + Icr  \n",
    "\n",
    "where det is the proportion of mild detections\n",
    "\n",
    "\n",
    "**Aun me falta corregir el valor inicial, pues este lo considera para todos los infectados**"
   ]
  },
  {
   "cell_type": "code",
   "execution_count": null,
   "metadata": {},
   "outputs": [],
   "source": [
    "tr_index = np.searchsorted(RM.tr,days)\n",
    "\n",
    "plt.scatter(RM.tr,RM.Ir,label='Real Data')\n",
    "\n",
    "plt.xlim(0,days)\n",
    "plt.plot(simulation.t[:index],simulation.I_det[:index],label='Infected')\n",
    "plt.legend(loc=0)\n",
    "plt.title('Detectable Active Infected')\n",
    "plt.show()\n"
   ]
  },
  {
   "cell_type": "markdown",
   "metadata": {},
   "source": [
    "## Detected Daily Infected"
   ]
  },
  {
   "cell_type": "code",
   "execution_count": null,
   "metadata": {},
   "outputs": [],
   "source": [
    "plt.xlim(0,days)\n",
    "plt.plot(simulation.t[:index],simulation.I_d_det[:index],label='Daily new Infected')\n",
    "plt.scatter(RM.I_d_r_tr,RM.I_d_r,label='Real Data')\n",
    "plt.legend(loc=0)\n",
    "plt.title('Detected Daily infected')\n",
    "plt.show()"
   ]
  },
  {
   "cell_type": "markdown",
   "metadata": {},
   "source": [
    "## Detected Accumulated Infected"
   ]
  },
  {
   "cell_type": "code",
   "execution_count": null,
   "metadata": {},
   "outputs": [],
   "source": [
    "plt.xlim(0,days)\n",
    "plt.plot(simulation.t[:index],simulation.I_ac_det[:index],label='Total Acummulated Infected')\n",
    "plt.scatter(RM.I_ac_r_tr,RM.I_ac_r,label='Real Data')\n",
    "plt.legend(loc=0)\n",
    "plt.show()"
   ]
  },
  {
   "cell_type": "markdown",
   "metadata": {},
   "source": [
    "# Analysis - Total infected\n",
    "\n",
    "The following plots will show the simulation results with the real data"
   ]
  },
  {
   "cell_type": "markdown",
   "metadata": {},
   "source": [
    "## Total Active Infected"
   ]
  },
  {
   "cell_type": "code",
   "execution_count": null,
   "metadata": {},
   "outputs": [],
   "source": [
    "tr_index = np.searchsorted(RM.tr,days)\n",
    "\n",
    "plt.scatter(RM.tr,RM.Ir,label='Real Data')\n",
    "\n",
    "plt.xlim(0,days)\n",
    "plt.plot(simulation.t[:index],simulation.I[:index],label='Total Active Infected')\n",
    "plt.legend(loc=0)\n",
    "plt.title('Total Active Infected')\n",
    "plt.show()\n"
   ]
  },
  {
   "cell_type": "markdown",
   "metadata": {},
   "source": [
    "## Daily Infected"
   ]
  },
  {
   "cell_type": "code",
   "execution_count": null,
   "metadata": {},
   "outputs": [],
   "source": [
    "plt.xlim(0,days)\n",
    "plt.plot(simulation.t[:index],simulation.I_d[:index],label='Total Daily new Infected')\n",
    "plt.scatter(RM.I_d_r_tr,RM.I_d_r,label='Real Data')\n",
    "plt.legend(loc=0)\n",
    "plt.show()"
   ]
  },
  {
   "cell_type": "markdown",
   "metadata": {},
   "source": [
    "## Acummulated Infected"
   ]
  },
  {
   "cell_type": "code",
   "execution_count": null,
   "metadata": {},
   "outputs": [],
   "source": [
    "plt.xlim(0,days)\n",
    "plt.plot(simulation.t[:index],simulation.I_ac[:index],label='Total Acummulated Infected')\n",
    "plt.scatter(RM.I_ac_r_tr,RM.I_ac_r,label='Real Data')\n",
    "plt.legend(loc=0)\n",
    "plt.show()"
   ]
  },
  {
   "cell_type": "markdown",
   "metadata": {},
   "source": [
    "## Deaths"
   ]
  },
  {
   "cell_type": "code",
   "execution_count": null,
   "metadata": {},
   "outputs": [],
   "source": [
    "plt.xlim(0,days)\n",
    "plt.plot(simulation.t[:index],simulation.B[:index],label='Total Acummulated Deaths')\n",
    "plt.scatter(RM.Br_tr,RM.Br,label='Real Data')\n",
    "plt.legend(loc=0)\n",
    "plt.show()"
   ]
  },
  {
   "cell_type": "markdown",
   "metadata": {},
   "source": [
    "## UCI/UTI"
   ]
  },
  {
   "cell_type": "code",
   "execution_count": null,
   "metadata": {},
   "outputs": [],
   "source": [
    "plt.xlim(0,days)\n",
    "plt.plot(simulation.t[:index],simulation.Hse[:index]+simulation.Hout[:index],label='UCI/UTI Beds')\n",
    "plt.scatter(RM.sochimi_tr,RM.Hr,label='Real Data')\n",
    "plt.scatter(RM.sochimi_tr,RM.Hr_tot,label='Real Data')\n",
    "plt.legend(loc=0)\n",
    "plt.show()"
   ]
  },
  {
   "cell_type": "markdown",
   "metadata": {},
   "source": [
    "## VMI"
   ]
  },
  {
   "cell_type": "code",
   "execution_count": null,
   "metadata": {},
   "outputs": [],
   "source": [
    "plt.xlim(0,days)\n",
    "plt.plot(simulation.t[:index],simulation.V[:index],label='VMI Usage')\n",
    "plt.scatter(RM.sochimi_tr,RM.Vr,label='Real Data')\n",
    "plt.legend(loc=0)\n",
    "plt.show()"
   ]
  },
  {
   "cell_type": "markdown",
   "metadata": {},
   "source": [
    "# Objective Functions\n",
    "\n"
   ]
  },
  {
   "cell_type": "code",
   "execution_count": null,
   "metadata": {},
   "outputs": [],
   "source": [
    "# Date until which we calculate the error (normally when the quarantine dynamic change)\n",
    "t1_date = datetime(2020,8,15)\n",
    "\n",
    "\n",
    "t1_day = (t1_date-initdate).days\n",
    "t1_idx = np.where(np.array(RM.tr)>=t1_day)[0][0]\n",
    "idx = np.searchsorted(simulation.t,RM.tr[:t1_idx])"
   ]
  },
  {
   "cell_type": "markdown",
   "metadata": {},
   "source": [
    "## Error:"
   ]
  },
  {
   "cell_type": "code",
   "execution_count": null,
   "metadata": {},
   "outputs": [],
   "source": [
    "Err = np.sum(abs(RM.Ir[:t1_idx]-simulation.I[idx]))/np.mean(RM.Ir[:t1_idx])\n",
    "print(Err)\n"
   ]
  },
  {
   "cell_type": "code",
   "execution_count": null,
   "metadata": {},
   "outputs": [],
   "source": [
    "simulation.peak_date"
   ]
  },
  {
   "cell_type": "code",
   "execution_count": null,
   "metadata": {},
   "outputs": [],
   "source": [
    "RM.initdate"
   ]
  },
  {
   "cell_type": "markdown",
   "metadata": {},
   "source": [
    "# Second Part Simulation"
   ]
  },
  {
   "cell_type": "code",
   "execution_count": null,
   "metadata": {},
   "outputs": [],
   "source": [
    "Htot=30,Vtot=20,H0=0,V0=0,B0=0,D0=0,R0=0,I0=100,I_d0=10,I_ac0=100,SeroPrevFactor=1,expinfection=0,population=1000000,InitialConditions=None, initdate = None,Imi_det = 1,Ias_det = 1,Einit=False,E0=None,E_d0=None,E_ac0=None"
   ]
  },
  {
   "cell_type": "code",
   "execution_count": null,
   "metadata": {},
   "outputs": [],
   "source": [
    "simulation_part2 = SEIRHVD(tsim,beta,mu,alpha1,k=k,SeroPrevFactor=SeroPrevFactor,expinfection=expinfection,InitialConditions = RM,Imi_det = Imi_det,Ias_det = Ias_det)\n",
    "\n"
   ]
  }
 ],
 "metadata": {
  "kernelspec": {
   "display_name": "Python 3.8.2 64-bit",
   "language": "python",
   "name": "python38264bit48ae65e862f64697a29185f9fa581b02"
  },
  "language_info": {
   "codemirror_mode": {
    "name": "ipython",
    "version": 3
   },
   "file_extension": ".py",
   "mimetype": "text/x-python",
   "name": "python",
   "nbconvert_exporter": "python",
   "pygments_lexer": "ipython3",
   "version": "3.8.2"
  }
 },
 "nbformat": 4,
 "nbformat_minor": 4
}
