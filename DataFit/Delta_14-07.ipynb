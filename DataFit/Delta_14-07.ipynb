{
 "cells": [
  {
   "cell_type": "markdown",
   "metadata": {},
   "source": [
    "# SEIRHVD Data Fit\n",
    "\n",
    "This Jupyter notebooks implements the SEIRHVD model for fitting the actual Chilean data in order to make projections in VMI and bed usage, amount of infected and deaths. This model uses the SEIRHVD 4.1 version. A visual representation of the model is available at: [SEIRHVD Miró Model](https://miro.com/app/board/o9J_ktzN4xA=/)\n",
    "\n",
    "This implements a single instance to facilitate understanding the model prior to run multiple data fittings at a time.\n",
    "\n"
   ]
  },
  {
   "cell_type": "markdown",
   "metadata": {},
   "source": [
    "Lo ideal sería tener una proyección de nivel país suponiendo el número de personas susceptibles que informamos en nuestro reporte de hace un par de semanas.\n",
    "Recuerda que Delta tiene un R_0 de entre 6 y 8\n",
    "Suponiendo además que tenemos 10 personas infectadas con Delta al día 12 de julio\n",
    "usando tres escenarios: movilidad del 100% durante el resto del año, reducción de movilidad al 65% remanente desde el 28 de agosto y hasta el final de la simulación, y movilidad remanente del 20% al  28 de agosto y hasta el final.\n",
    "\n",
    "5 millones de susceptibles"
   ]
  },
  {
   "cell_type": "code",
   "execution_count": 4,
   "metadata": {},
   "outputs": [
    {
     "name": "stdout",
     "output_type": "stream",
     "text": [
      "Linux\n"
     ]
    },
    {
     "name": "stderr",
     "output_type": "stream",
     "text": [
      "/home/samuel/.local/lib/python3.8/site-packages/requests/__init__.py:89: RequestsDependencyWarning: urllib3 (1.26.6) or chardet (4.0.0) doesn't match a supported version!\n",
      "  warnings.warn(\"urllib3 ({}) or chardet ({}) doesn't match a supported \"\n"
     ]
    }
   ],
   "source": [
    "import numpy as np\n",
    "import pandas as pd\n",
    "import matplotlib.pyplot as plt\n",
    "import matplotlib.dates as mdates \n",
    "from datetime import datetime\n",
    "from numpy import linalg as LA\n",
    "import multiprocessing\n",
    "from joblib import Parallel, delayed\n",
    "from datetime import timedelta\n",
    "\n",
    "import platform\n",
    "OS = platform.system()\n",
    "\n",
    "import matplotlib.pyplot as plt\n",
    "if OS == 'Linux':    \n",
    "    %matplotlib tk\n",
    "    print('Linux')\n",
    "elif OS == 'Windows':\n",
    "    %matplotlib qt\n",
    "    print('Windows')\n",
    "elif OS == 'Darwin':\n",
    "    %matplotlib tk\n",
    "    print('Mac (Funciona?)')\n",
    "else:\n",
    "    print('OS not detected :-|')\n",
    "\n",
    "import sys\n",
    "from pathlib import Path\n",
    "sys.path.insert(1, '../src/SEIRHVD/')\n",
    "sys.path.insert(1, '../src/utils/')\n",
    "sys.path.insert(1, 'src/SEIRHVD/')\n",
    "sys.path.insert(1, 'src/utils/')\n",
    "\n",
    "from class_SEIRHUVD6 import SEIRHVD \n",
    "from Quarantine import Quarantine\n",
    "from Quarantine import SeroPrevDynamics\n",
    "from importdata import ImportData\n",
    "import Events\n",
    "\n",
    "import json\n",
    "from pandas.core.base import DataError\n",
    "import requests\n",
    "from requests.auth import HTTPBasicAuth\n",
    "import pandas as pd\n",
    "import matplotlib\n",
    "\n",
    "from datetime import date\n",
    "\n",
    "import copy"
   ]
  },
  {
   "cell_type": "markdown",
   "metadata": {},
   "source": [
    "## Time Variables\n",
    "Declare Initial date for simulating and data fitting"
   ]
  },
  {
   "cell_type": "code",
   "execution_count": 95,
   "metadata": {},
   "outputs": [],
   "source": [
    "# First simulation Initial date\n",
    "initdate = datetime(2021,7,1)\n",
    "# Date for change in SeroPrevalence\n",
    "SPchange_date = datetime(2020,7,25)\n",
    "\n",
    "# Current date\n",
    "currentdate = datetime.now()\n",
    "currentday = (currentdate - initdate).days\n",
    "\n",
    "fiestaspatrias = datetime(2020,9,18)\n",
    "fiestaspatrias_day = (fiestaspatrias-initdate).days\n",
    "plebiscito = datetime(2020,10,25)\n",
    "plebiscito_day = (plebiscito-initdate).days\n",
    "\n",
    "navidad = datetime(2020,12,25)\n",
    "navidad_day = (navidad-initdate).days\n",
    "\n",
    "newyear = datetime(2020,12,31)\n",
    "newyear_day = (newyear-initdate).days\n",
    "\n",
    "today = datetime.today()\n",
    "today_day = (today-initdate).days"
   ]
  },
  {
   "cell_type": "markdown",
   "metadata": {},
   "source": [
    "## Import Data\n",
    "To import data we use an ImportData object which is initialized with the region's cut and the initial date. state region is represented by cut = 14."
   ]
  },
  {
   "cell_type": "code",
   "execution_count": 96,
   "metadata": {},
   "outputs": [],
   "source": [
    "def dataretriever(user=None,password=None):\n",
    "    # Esta funcion devolvera una funcion de request        \n",
    "    def request(endpoint):\n",
    "        if user:\n",
    "            aux = requests.get('https://api.cv19gm.org/'+endpoint, auth=HTTPBasicAuth(user, password))\n",
    "            if aux.status_code == 401:\n",
    "                raise Exception('Wrong Credentials')\n",
    "            else:\n",
    "                print('Logged in successfully')\n",
    "        else:\n",
    "            aux = requests.get('http://192.168.2.223:5006/'+endpoint)\n",
    "        return aux\n",
    "    return request\n",
    "def timeJStoPy(t):\n",
    "    return datetime.strptime(t[:10],'%Y-%m-%d')\n",
    "def timetxttoDatetime(t):\n",
    "    return datetime.strptime(t,'%Y-%m-%d')"
   ]
  },
  {
   "cell_type": "code",
   "execution_count": 97,
   "metadata": {
    "scrolled": true
   },
   "outputs": [
    {
     "name": "stdout",
     "output_type": "stream",
     "text": [
      "Importing data from all regions\n",
      "Importing General Data\n",
      "Importing Population\n",
      "Importing Active infected\n",
      "Importing Accumulated Infected\n",
      "Importing Daily Infected\n",
      "Importing ICU Beds Data from Minciencia\n",
      "Importing Deaths by DEIS\n",
      "Importing Active Infected by Minciencia\n",
      "Done\n",
      "Importing Daily Infected\n"
     ]
    }
   ],
   "source": [
    "print('Importing data from all regions')\n",
    "#tstate = ['01','02','03','04','05','06','07','08','09','10','11','12','13','14','15','16']\n",
    "tstate = '13'\n",
    "# Import Data\n",
    "state = ImportData(tstate=tstate,initdate = initdate)\n",
    "state.importdata()\n",
    "\n",
    "state.importDailyInfectedNacional()\n",
    "state.name = 'Chile'"
   ]
  },
  {
   "cell_type": "markdown",
   "metadata": {},
   "source": [
    "### Datos de Hospitalizados a fitear"
   ]
  },
  {
   "cell_type": "markdown",
   "metadata": {},
   "source": []
  },
  {
   "cell_type": "code",
   "execution_count": 98,
   "metadata": {},
   "outputs": [],
   "source": [
    "capacidadUCIcovid = 2600\n",
    "state.Hr = 1000\n",
    "state.Hr_tot = [10000,10000]\n",
    "state.Vr = state.UCI_use_covid\n",
    "state.Vr_tot = capacidadUCIcovid - np.array(state.UCI_use_noncovid)#[4000]*len(state.UCI_use_covid)#state.UCI_capacity\n",
    "state.UCI_non_covid = state.UCI_use_noncovid\n",
    "state.sochimi_tr = state.UCI_tr#[-2:]\n",
    "state.sochimi_dates = state.UCI_dates"
   ]
  },
  {
   "cell_type": "markdown",
   "metadata": {},
   "source": [
    "## Infectados Diarios y Acumulados"
   ]
  },
  {
   "cell_type": "code",
   "execution_count": 99,
   "metadata": {},
   "outputs": [],
   "source": [
    "endpoint ='https://raw.githubusercontent.com/MinCiencia/Datos-COVID19/master/output/producto3/TotalesPorRegion.csv'\n",
    "producto3 = pd.read_csv(endpoint)\n",
    "I_ac_confirmado = producto3[(producto3['Region']=='Metropolitana')&(producto3['Categoria']=='Casos acumulados')]\n",
    "I_antigeno_ac = producto3[(producto3['Region']=='Metropolitana')&(producto3['Categoria']=='Casos confirmados por antigeno')]\n",
    "I_probables_ac = producto3[(producto3['Region']=='Metropolitana')&(producto3['Categoria']=='Casos probables acumulados')]"
   ]
  },
  {
   "cell_type": "code",
   "execution_count": 100,
   "metadata": {},
   "outputs": [],
   "source": [
    "confirmado_nac = producto3[(producto3['Region']=='Total')&(producto3['Categoria']=='Casos acumulados')].iloc[:,2:].sum()\n",
    "antigeno_nac = producto3[(producto3['Region']=='Total')&(producto3['Categoria']=='Casos confirmados por antigeno')].iloc[:,2:].sum()\n",
    "probables_nac = producto3[(producto3['Region']=='Total')&(producto3['Categoria']=='Casos probables acumulados')].iloc[:,2:].sum()\n",
    "\n",
    "I_ac_nac = confirmado_nac+antigeno_nac+probables_nac\n",
    "I_act_nac_roll = I_ac_nac.diff(periods=11).rolling(7).mean().dropna()\n"
   ]
  },
  {
   "cell_type": "code",
   "execution_count": 101,
   "metadata": {},
   "outputs": [
    {
     "data": {
      "text/plain": [
       "<matplotlib.legend.Legend at 0x7fe2a475b8e0>"
      ]
     },
     "execution_count": 101,
     "metadata": {},
     "output_type": "execute_result"
    }
   ],
   "source": [
    "I_act_nac_roll.plot(label='confirmados+antigenos+probables')\n",
    "confirmado_nac.diff(periods=11).rolling(7).mean().dropna().plot(label='confirmados')\n",
    "plt.title('Activos')\n",
    "plt.legend(loc=0)"
   ]
  },
  {
   "cell_type": "code",
   "execution_count": 102,
   "metadata": {},
   "outputs": [],
   "source": [
    "R = producto3[(producto3['Region']=='Metropolitana')&(producto3['Categoria']=='Casos confirmados recuperados')].iloc[0][3:]\n",
    "R.index = pd.to_datetime(R.index, format='%Y-%m-%d')\n",
    "R = R.loc[R.index>=initdate]"
   ]
  },
  {
   "cell_type": "code",
   "execution_count": null,
   "metadata": {},
   "outputs": [],
   "source": []
  },
  {
   "cell_type": "code",
   "execution_count": 103,
   "metadata": {},
   "outputs": [],
   "source": [
    "initday = (initdate-pd.to_datetime(I_ac_confirmado.iloc[0].index[2], format='%Y-%m-%d')).days\n",
    "#I_ac = I_ac_confirmado.iloc[0][initday:] + I_antigeno_ac.iloc[0][initday:] + I_probables_ac.iloc[0][initday:]\n",
    "I_ac = I_ac_confirmado.iloc[0][3:] + I_antigeno_ac.iloc[0][3:] + I_probables_ac.iloc[0][3:]\n",
    "I_ac.index = pd.to_datetime(I_ac.index, format='%Y-%m-%d')\n",
    "\n",
    "I_d = I_ac.diff(periods=1)\n",
    "I_act = I_ac.diff(periods=11)\n",
    "I_d_roll = I_d.rolling(7).mean()\n",
    "I_act_roll = I_act.rolling(7).mean()\n",
    "I_d = I_d.loc[I_d.index>=initdate]\n",
    "I_act = I_act.loc[I_act.index>=initdate]\n",
    "I_ac = I_ac.loc[I_ac.index>=initdate]\n",
    "\n",
    "\n",
    "I_d_roll = I_d_roll.loc[I_d_roll.index>=initdate]\n",
    "I_act_roll = I_act_roll.loc[I_act_roll.index>=initdate]\n",
    "\n",
    "state.I_d_r = I_d_roll\n",
    "state.I_d_r_dates = I_d_roll.index\n",
    "state.I_d_r_tr = [(I_d_roll.index[i]-initdate).days for i in range(len(I_d_roll))]\n",
    "\n",
    "state.Ir = I_act_roll\n",
    "state.Ir_dates = I_act_roll.index\n",
    "state.tr =  [(I_act_roll.index[i]-initdate).days for i in range(len(I_act_roll))]\n",
    "\n",
    "state.I_ac_r = I_ac\n",
    "state.I_ac_r_dates = I_ac.index\n",
    "state.I_ac_r_tr = [(I_ac.index[i]-initdate).days for i in range(len(I_ac))]\n",
    "\n"
   ]
  },
  {
   "cell_type": "code",
   "execution_count": 104,
   "metadata": {},
   "outputs": [],
   "source": [
    "state.R = R"
   ]
  },
  {
   "cell_type": "markdown",
   "metadata": {},
   "source": [
    "# Importante:\n",
    "valores al 26 de Abril\n",
    "Casos activos calculados con probables y antigenos: 38657\n",
    "Casos activos confirmados publicados: 15810\n",
    "Casos activos calculado solo con los casos acumulados: 28170\n",
    "\n",
    "Activos_confirmados = producto3[(producto3['Region']=='Metropolitana')&(producto3['Categoria']=='Casos activos confirmados')]\n",
    "Activos_desdeacumulados = producto3[(producto3['Region']=='Metropolitana')&(producto3['Categoria']=='Casos acumulados')].iloc[0][initday:].diff(periods=11)"
   ]
  },
  {
   "cell_type": "markdown",
   "metadata": {},
   "source": [
    "## Subreport"
   ]
  },
  {
   "cell_type": "code",
   "execution_count": 105,
   "metadata": {},
   "outputs": [],
   "source": [
    "Ias_det = 0.3#0.1\n",
    "Imi_det = 1#0.4\n",
    "Ise_det = 1\n",
    "Icr_det = 1"
   ]
  },
  {
   "cell_type": "markdown",
   "metadata": {},
   "source": [
    "# Parameters"
   ]
  },
  {
   "cell_type": "code",
   "execution_count": 106,
   "metadata": {},
   "outputs": [],
   "source": [
    "# Total simulation time\n",
    "tsim = 1000\n",
    "\n",
    "beta = 1\n",
    "mu = 0.375#5 #list(np.arange(0.2,0.4,0.01))#0.4\n",
    "k_I = 0\n",
    "k_R = 0#10\n",
    "SeroPrevFactor = 1\n",
    "expinfection=0 # Proportion in which the exposed infect - 0: nothing, 1: equally as Infected"
   ]
  },
  {
   "cell_type": "markdown",
   "metadata": {},
   "source": [
    "## Quarantines"
   ]
  },
  {
   "cell_type": "code",
   "execution_count": 108,
   "metadata": {},
   "outputs": [],
   "source": [
    "mob_dates = [initdate,initdate+timedelta(days=tsim)]\n",
    "mob_days = []\n",
    "for i in range(len(mob_dates)-1):\n",
    "    d1 = (mob_dates[i]-initdate).days\n",
    "    d2 = (mob_dates[i+1]-initdate).days\n",
    "    mob_days.append([d1,d2])\n",
    "\n",
    "mobility = [0.127]\n",
    "\n",
    "escenarios = [50,60,70,80]\n",
    "alpha_var = escenarios\n",
    "#alpha_new = [Events.Events(values=mobility +[i*mobility[-1]/100],days=mob_days) for i in escenarios]"
   ]
  },
  {
   "cell_type": "code",
   "execution_count": null,
   "metadata": {},
   "outputs": [],
   "source": []
  },
  {
   "cell_type": "code",
   "execution_count": 109,
   "metadata": {},
   "outputs": [],
   "source": [
    "alpha_new = [lambda t:0.127]"
   ]
  },
  {
   "cell_type": "markdown",
   "metadata": {},
   "source": [
    "# Plot Movilidad"
   ]
  },
  {
   "cell_type": "code",
   "execution_count": 110,
   "metadata": {},
   "outputs": [],
   "source": [
    "if False:\n",
    "    datelinewidth = 1\n",
    "    t = np.array(np.arange(0,240,0.1))\n",
    "    alphaplot= [[j(i) for i in t] for j in alpha_new]\n",
    "    for f in alphaplot:\n",
    "        plt.plot(t,f)\n",
    "    #for f in alphaplot_UK:\n",
    "        #plt.plot(t,f,linestyle='dashed') \n",
    "    plt.axvline(x = navidad_day, linestyle = 'dotted',color = 'red',label='Navidad',linewidth=datelinewidth)\n",
    "    plt.axvline(x = newyear_day, linestyle = 'dotted',color = 'blue',label='Año Nuevo',linewidth=datelinewidth)\n",
    "    #plt.axvline(x = mitadvacaciones_day, linestyle = 'dotted',color = 'green',label='15 Febrero',linewidth=datelinewidth)\n",
    "\n",
    "    plt.tick_params(labelsize=18)\n",
    "    plt.legend(loc=0)\n",
    "    plt.title('Mobility-beta',fontsize=20)\n",
    "    plt.show()\n"
   ]
  },
  {
   "cell_type": "markdown",
   "metadata": {},
   "source": [
    "## SeroPrevalence Dynamics\n",
    "The susceptibles increase through a step function which last for the specified amount of days. Throughout these days it adds a \"dailyincrease\" amount of persons each day.\n",
    "\n",
    "The total increase of people is increasedays*dailyincrease"
   ]
  },
  {
   "cell_type": "code",
   "execution_count": 111,
   "metadata": {},
   "outputs": [],
   "source": [
    "def chisum(a,b,c):\n",
    "    def aux(t):\n",
    "        return a(t)+b(t)+c(t)\n",
    "    return aux"
   ]
  },
  {
   "cell_type": "code",
   "execution_count": 112,
   "metadata": {},
   "outputs": [],
   "source": [
    "def aux(t):\n",
    "    return 0\n",
    "chi = aux"
   ]
  },
  {
   "cell_type": "code",
   "execution_count": 113,
   "metadata": {},
   "outputs": [],
   "source": [
    "chi = []"
   ]
  },
  {
   "cell_type": "code",
   "execution_count": 114,
   "metadata": {},
   "outputs": [],
   "source": [
    "increasedays = 10\n",
    "renewalFactor = 0\n",
    "dailyincrease = state.population*SeroPrevFactor*renewalFactor/increasedays\n",
    "t_sp_temp = (datetime(2021,7,21)-initdate).days\n",
    "chi = SeroPrevDynamics(t_sp_temp,t_sp_temp+increasedays*0.8,t_sp_temp+increasedays,dailyincrease,form='line')"
   ]
  },
  {
   "cell_type": "code",
   "execution_count": 115,
   "metadata": {},
   "outputs": [],
   "source": [
    "#chi = chisum(chi0,chi1,chi2)"
   ]
  },
  {
   "cell_type": "code",
   "execution_count": 116,
   "metadata": {},
   "outputs": [],
   "source": [
    "#chiplot = [chi(t) for t in np.arange(0,tsim,0.1)]"
   ]
  },
  {
   "cell_type": "code",
   "execution_count": 117,
   "metadata": {},
   "outputs": [],
   "source": [
    "#plt.plot(chiplot)"
   ]
  },
  {
   "cell_type": "markdown",
   "metadata": {},
   "source": [
    "#### Plot Susceptible Dynamics"
   ]
  },
  {
   "cell_type": "markdown",
   "metadata": {},
   "source": [
    "# State transition parameters:"
   ]
  },
  {
   "cell_type": "markdown",
   "metadata": {},
   "source": [
    "#state parameters: \n",
    "pE_Ias = 0.43 # Transition from exposed to Asymptomatic Infected\n",
    "tE_Ias = 3.0\n",
    "pE_Imi = 0.53 # Transition from exposed to  Mild Infected\n",
    "tE_Imi = 3.0\n",
    "pE_Icr = 0.0065 # Transition from exposed to  Critical Infected\n",
    "tE_Icr = 3.0\n",
    "pE_Ise = 0.0335# Transition from exposed to  Serious Infected\n",
    "tE_Ise = 3.0\n",
    "pIas_R = 1.0   # Transition from Asymptomatic Infected to Recovered\n",
    "tIas_R = 5.0\n",
    "pImi_R = 1.0  # Transition from Mild Infected to Recovered\n",
    "tImi_R = 5.0\n",
    "pIse_Hse = 1 # Transition from Serious Infected to Serious Hospitalized (When Hospital capacity is not saturated)\n",
    "tIse_Hse = 5.0\n",
    "pIse_D = 1.0  # Transition from Serious Infected to Death (When Hospital capacity is saturated)\n",
    "tIse_D = 3.0\n",
    "pIcr_V = 1.0  # Transition from Critical Infected to Ventilator (When Ventilators capacity is not saturated)\n",
    "tIcr_V = 3.0\n",
    "pIcr_D = 1.0  # Transition from Serious Infected to Death (When Ventilators capacity is saturated)\n",
    "tIcr_D = 3.0\n",
    "pHse_R = 0.97 # Transition from Serious Hospitalized to Recovered\n",
    "tHse_R = 3.5\n",
    "pHse_V = 0.03# Transition from Serious Hospitalized to Ventilators (When Ventilators capacity is not saturated)\n",
    "tHse_V = 4.0\n",
    "pHse_D = 0.85# Transition from Serious Hospitalized to Death (When Ventilators capacity is saturated)\n",
    "tHse_D = 4.0\n",
    "pV_Hout = 0.45  # Transition from Ventilators to Hospital Recovery (Hout)\n",
    "tV_Hout = 16.0\n",
    "pV_D = 0.55 # Transition from Ventilators to Death\n",
    "tV_D = 12.0\n",
    "pHout_R = 1.0 # Transition from Hospital Recovery (Hout) to Recovered\n",
    "tHout_R = 10.0"
   ]
  },
  {
   "cell_type": "code",
   "execution_count": 118,
   "metadata": {},
   "outputs": [],
   "source": [
    "#state parameters: \n",
    "pE_Ias = 0.30 # Transition from exposed to Asymptomatic Infected\n",
    "tE_Ias = 3.0\n",
    "pE_Imi = 0.55 # Transition from exposed to  Mild Infected\n",
    "tE_Imi = 3.0\n",
    "pE_Icr = 0.04 # Transition from exposed to  Critical Infected\n",
    "tE_Icr = 3.0\n",
    "pE_Ise = 0.11 # Transition from exposed to  Serious Infected\n",
    "tE_Ise = 3.0\n",
    "pIas_R = 1.0  # Transition from Asymptomatic Infected to Recovered\n",
    "tIas_R = 12.0\n",
    "pImi_R = 1.0  # Transition from Mild Infected to Recovered\n",
    "tImi_R = 12.0\n",
    "pIse_Hse = 1 # Transition from Serious Infected to Serious Hospitalized (When Hospital capacity is not saturated)\n",
    "tIse_Hse = 11.0\n",
    "pIse_D = 1.0  # Transition from Serious Infected to Death (When Hospital capacity is saturated)\n",
    "tIse_D = 11.0\n",
    "pIcr_V = 1.0  # Transition from Critical Infected to Ventilator (When Ventilators capacity is not saturated)\n",
    "tIcr_V = 7.0\n",
    "pIcr_D = 1.0  # Transition from Serious Infected to Death (When Ventilators capacity is saturated)\n",
    "tIcr_D = 7.0\n",
    "pHse_R = 0.97 # Transition from Serious Hospitalized to Recovered\n",
    "tHse_R = 3.5\n",
    "pHse_V = 0.03# Transition from Serious Hospitalized to Ventilators (When Ventilators capacity is not saturated)\n",
    "tHse_V = 4.0\n",
    "pHse_D = 0.85# Transition from Serious Hospitalized to Death (When Ventilators capacity is saturated)\n",
    "tHse_D = 4.0\n",
    "pV_Hout = 0.7  # Transition from Ventilators to Hospital Recovery (Hout)\n",
    "tV_Hout = 11.0\n",
    "pV_D = 0.3 # Transition from Ventilators to Death\n",
    "tV_D = 11.0\n",
    "pHout_R = 1.0 # Transition from Hospital Recovery (Hout) to Recovered\n",
    "tHout_R = 10.0"
   ]
  },
  {
   "cell_type": "markdown",
   "metadata": {},
   "source": [
    "### Tiempo medio Infeccioso"
   ]
  },
  {
   "cell_type": "code",
   "execution_count": 119,
   "metadata": {},
   "outputs": [
    {
     "data": {
      "text/plain": [
       "1.0"
      ]
     },
     "execution_count": 119,
     "metadata": {},
     "output_type": "execute_result"
    }
   ],
   "source": [
    "pE_Ias+pE_Imi+pE_Ise+pE_Icr"
   ]
  },
  {
   "cell_type": "code",
   "execution_count": 120,
   "metadata": {},
   "outputs": [
    {
     "data": {
      "text/plain": [
       "11.69"
      ]
     },
     "execution_count": 120,
     "metadata": {},
     "output_type": "execute_result"
    }
   ],
   "source": [
    "pE_Ias*tIas_R + pE_Imi*tImi_R  + pE_Ise*tIse_Hse + pE_Icr*tIcr_V"
   ]
  },
  {
   "cell_type": "markdown",
   "metadata": {},
   "source": [
    "# Simulation\n",
    "\n",
    "## Initial SeroPrev period\n",
    "Initialize Simulation Object, set params and run the simulation. "
   ]
  },
  {
   "cell_type": "code",
   "execution_count": 121,
   "metadata": {},
   "outputs": [
    {
     "name": "stdout",
     "output_type": "stream",
     "text": [
      "InitialCondition Object Data\n"
     ]
    }
   ],
   "source": [
    "simulation = [SEIRHVD(tsim,beta,mu,alpha_new[i],k_I=k_I,k_R = k_R, chi = chi,                      \n",
    "                      SeroPrevFactor=SeroPrevFactor,expinfection=expinfection,initdate = initdate,\n",
    "                      Imi_det = Imi_det,Ias_det = Ias_det,RealIC=state) for i in range(len(alpha_new))]"
   ]
  },
  {
   "cell_type": "markdown",
   "metadata": {},
   "source": [
    "Modify simulation state parameters"
   ]
  },
  {
   "cell_type": "code",
   "execution_count": 122,
   "metadata": {},
   "outputs": [
    {
     "name": "stdout",
     "output_type": "stream",
     "text": [
      "Compartimental model State parameters changed\n"
     ]
    }
   ],
   "source": [
    "for i in range(len(simulation)):\n",
    "    simulation[i].pE_Ias=pE_Ias\n",
    "    simulation[i].tE_Ias=tE_Ias\n",
    "    simulation[i].pE_Imi=pE_Imi\n",
    "    simulation[i].tE_Imi=tE_Imi\n",
    "    simulation[i].pE_Icr=pE_Icr\n",
    "    simulation[i].tE_Icr=tE_Icr\n",
    "    simulation[i].pE_Ise=pE_Ise\n",
    "    simulation[i].tE_Ise=tE_Ise\n",
    "    simulation[i].pIas_R=pIas_R\n",
    "    simulation[i].tIas_R =tIas_R\n",
    "    simulation[i].pImi_R=pImi_R\n",
    "    simulation[i].tImi_R =tImi_R\n",
    "    simulation[i].pIse_Hse=pIse_Hse\n",
    "    simulation[i].tIse_Hse=tIse_Hse\n",
    "    simulation[i].pIse_D=pIse_D\n",
    "    simulation[i].tIse_D=tIse_D\n",
    "    simulation[i].pIcr_V=pIcr_V\n",
    "    simulation[i].tIcr_V=tIcr_V\n",
    "    simulation[i].pIcr_D=pIcr_D\n",
    "    simulation[i].tIcr_D=tIcr_D\n",
    "    simulation[i].pHse_R=pHse_R\n",
    "    simulation[i].tHse_R =tHse_R\n",
    "    simulation[i].pHse_V=pHse_V\n",
    "    simulation[i].tHse_V=tHse_V\n",
    "    simulation[i].pHse_D=pHse_D\n",
    "    simulation[i].tHse_D=tHse_D\n",
    "    simulation[i].pV_Hout=pV_Hout\n",
    "    simulation[i].tV_Hout =tV_Hout\n",
    "    simulation[i].pV_D=pV_D\n",
    "    simulation[i].tV_D =tV_D\n",
    "    simulation[i].pHout_R=pHout_R\n",
    "    simulation[i].tHout_R=tHout_R\n",
    "    simulation[i].setnewparams()"
   ]
  },
  {
   "cell_type": "markdown",
   "metadata": {},
   "source": [
    "### Setting new params"
   ]
  },
  {
   "cell_type": "markdown",
   "metadata": {},
   "source": [
    "## Run simulation\n",
    "\n",
    "* **integr_sci**: Fast solver, sometimes stiffness beat it  \n",
    "* **integr:** Slow solver, more robust with stiffness  "
   ]
  },
  {
   "cell_type": "code",
   "execution_count": 123,
   "metadata": {},
   "outputs": [],
   "source": [
    "def simulate(simulation,i,tsim):\n",
    "    simulation[i].integr_sci(0,tsim,0.1)\n",
    "    return simulation[i]"
   ]
  },
  {
   "cell_type": "markdown",
   "metadata": {},
   "source": [
    "simulation[0].integr_sci(0,1000,0.1)"
   ]
  },
  {
   "cell_type": "code",
   "execution_count": 124,
   "metadata": {},
   "outputs": [
    {
     "name": "stdout",
     "output_type": "stream",
     "text": [
      "[Parallel(n_jobs=12)]: Using backend LokyBackend with 12 concurrent workers.\n",
      "[Parallel(n_jobs=12)]: Done   1 tasks      | elapsed:    2.4s\n",
      "[Parallel(n_jobs=12)]: Done   1 out of   1 | elapsed:    2.4s finished\n",
      "ready\n"
     ]
    }
   ],
   "source": [
    "num_cores = multiprocessing.cpu_count()\n",
    "sims = Parallel(n_jobs=num_cores, verbose=50)(delayed(simulate)(simulation,i,tsim) for i in range(len(simulation)))\n",
    "simulation = sims\n",
    "print('ready')"
   ]
  },
  {
   "cell_type": "markdown",
   "metadata": {},
   "source": [
    "# Analysis"
   ]
  },
  {
   "cell_type": "code",
   "execution_count": 125,
   "metadata": {},
   "outputs": [],
   "source": [
    "saveplot = False\n",
    "if saveplot:\n",
    "    %matplotlib inline\n",
    "#%matplotlib inline\n",
    "%matplotlib tk\n",
    "# Big Screen\n",
    "plt.rcParams[\"figure.figsize\"] = 38.40, 20.56 #19.20,10.80#8,6\n",
    "# Small Screen\n",
    "#plt.rcParams[\"figure.figsize\"] = 19.2, 10.80 #19.20,10.80#8,6\n",
    "plt.rcParams.update({\n",
    "    \"text.usetex\": False,\n",
    "    \"font.family\": \"sans-serif\",\n",
    "    \"font.sans-serif\":[\"Arial\"]})\n"
   ]
  },
  {
   "cell_type": "markdown",
   "metadata": {},
   "source": [
    "# Plot"
   ]
  },
  {
   "cell_type": "code",
   "execution_count": 126,
   "metadata": {},
   "outputs": [],
   "source": [
    "# Days to plot\n",
    "days = 500\n",
    "t_end = 50\n",
    "\n",
    "enddate = initdate + timedelta(days=365)\n",
    "enddate = datetime(2021,8,1)\n",
    "\n",
    "\n",
    "dates = [[initdate+timedelta(days=int(i)) for i in simulation[j].t] for j in range(len(simulation))]\n",
    "SeroPrevalence = [simulation[i].I_ac[-1]/simulation[i].population for i in range(len(simulation))]\n",
    "SeroPrevalenceDet = [simulation[i].I_ac_det[-1]/simulation[i].population for i in range(len(simulation))]"
   ]
  },
  {
   "cell_type": "code",
   "execution_count": 127,
   "metadata": {},
   "outputs": [
    {
     "data": {
      "text/plain": [
       "datetime.datetime(2024, 3, 26, 0, 0)"
      ]
     },
     "execution_count": 127,
     "metadata": {},
     "output_type": "execute_result"
    }
   ],
   "source": [
    "simulation[0].dates[-1]"
   ]
  },
  {
   "cell_type": "markdown",
   "metadata": {},
   "source": [
    "### Pantalla"
   ]
  },
  {
   "cell_type": "code",
   "execution_count": 128,
   "metadata": {},
   "outputs": [],
   "source": [
    "pantalla = '1080'\n",
    "if pantalla == '4k':\n",
    "    fontsize_title = 22\n",
    "    fontsize_suptitle = 25\n",
    "    fontsize_label = 18\n",
    "    fontsize_legend = 14\n",
    "\n",
    "#1080\n",
    "elif pantalla == '1080':\n",
    "    fontsize_title = 15\n",
    "    fontsize_suptitle = 16\n",
    "    fontsize_label = 10\n",
    "    fontsize_legend = 12\n",
    "\n",
    "pĺotlinewidth = 2\n",
    "datelinewidth = 1.5"
   ]
  },
  {
   "cell_type": "code",
   "execution_count": 129,
   "metadata": {},
   "outputs": [],
   "source": [
    "# Español\n",
    "title = 'Proyección Situación Epidemiológica RM - May 26th'\n",
    "plottitle = [['Infectados Activos Detectados','Fallecidos Acumulados (PCR+)'],\n",
    "         ['Nuevos Infectados Diarios Detectados','Uso UCI Covid']]\n",
    "mob = 'Movilidad'"
   ]
  },
  {
   "cell_type": "code",
   "execution_count": 130,
   "metadata": {},
   "outputs": [],
   "source": [
    "# English\n",
    "title = 'Projection of epidemiological situation in the Metropolitan Region - May 26th'\n",
    "plottitle = [['Active detected infected','Accumulated deaths (PCR+)'],\n",
    "         ['New daily detected infected','ICU covid use']]\n",
    "mob = 'Mobility'"
   ]
  },
  {
   "cell_type": "markdown",
   "metadata": {},
   "source": [
    "# Grid Plot"
   ]
  },
  {
   "cell_type": "code",
   "execution_count": 131,
   "metadata": {},
   "outputs": [],
   "source": [
    "renewalFactor = [0]\n",
    "sim_InfDiario = False\n",
    "sim_InfEPI = True\n",
    "\n",
    "colors = plt.cm.rainbow_r(np.linspace(0,1,len(simulation)))\n",
    "rango = -1\n",
    "\n",
    "fig, axs = plt.subplots(2, 2)\n",
    "\n",
    "\n",
    "for i in range(len(simulation)):\n",
    "    if type(mu) == list:\n",
    "        axs[0,0].plot(dates[i],simulation[i].I_det,linewidth=pĺotlinewidth,label='mu: '+str(mu[i])+' | SP_R: '+str(round(100*SeroPrevalence[i],2))+'%'+' | SP_D:'+str(round(100*SeroPrevalenceDet[i],2))+'%',color=colors[i])\n",
    "    if type(alpha_new) == list:\n",
    "        axs[0,0].plot(dates[i],simulation[i].I_det,linewidth=pĺotlinewidth,label=mob+': '+str(escenarios[i])+'%',color=colors[i])\n",
    "axs[0,0].set_title(plottitle[0][0],fontsize=fontsize_title)\n",
    "\n",
    "axs[0,0].scatter(state.Ir_dates[:rango],state.Ir[:rango],color='grey',label='DP3 med_mov 7',zorder=10)\n",
    "\n",
    "\n",
    "# Accumulated deaths\n",
    "for i in range(len(simulation)):\n",
    "    if type(mu) == list:\n",
    "        axs[0,1].plot(dates[i],simulation[i].B,label='mu: '+str(mu[i]),color=colors[i],linewidth=pĺotlinewidth)\n",
    "    if type(alpha_new) == list:\n",
    "        axs[0,1].plot(dates[i],simulation[i].B,label=mob+': '+str(escenarios[i])+'%',color=colors[i],linewidth=pĺotlinewidth)\n",
    "    \n",
    "axs[0,1].set_title(plottitle[0][1],fontsize=fontsize_title)\n",
    "\n",
    "axs[0,1].scatter(state.Br_dates[:rango],state.Br[:rango],label='DP50',color='grey',zorder=10)\n",
    "\n",
    "\n",
    "for i in range(len(simulation)):\n",
    "    if type(mu) == list:\n",
    "        axs[1,0].plot(dates[i],simulation[i].I_d_det,label='mu: '+str(mu[i]),color=colors[i],linewidth=pĺotlinewidth)\n",
    "    if type(alpha_new) == list:\n",
    "        axs[1,0].plot(dates[i],simulation[i].I_d_det,label=mob+': '+str(escenarios[i])+'%',color=colors[i],linewidth=pĺotlinewidth)\n",
    "axs[1,0].set_title(plottitle[1][0],fontsize=fontsize_title)\n",
    "\n",
    "\n",
    "if False:#sim_InfEPI:\n",
    "    axs[1,0].scatter(state.I_d_r_dates,state.I_d_r,label='Informe EPI',color='black',zorder=5)\n",
    "if sim_InfDiario:\n",
    "    axs[1,0].scatter(I_week_ra_dates,I_week_ra,label='Informe diario (RA5D)',color='red',zorder=5)  \n",
    "    axs[1,0].plot(dates_I_d,I_d,label='Informe diario',color='blue',zorder=10,linestyle='dashed')\n",
    "\n",
    "#axs[1,0].scatter(state.I_d_r_dates,state.I_d_r,label='DP5',color='black',zorder=5)\n",
    "axs[1,0].scatter(state.I_d_r_dates[:rango],I_d_roll[:rango],label='DP3 med_mov 7',color='grey',zorder=5)\n",
    "    \n",
    "\n",
    "axs[1,0].legend(loc='upper left')\n",
    "\n",
    "axs[1,1].plot(state.UCI_dates,capacidadUCIcovid-np.array(state.UCI_use_noncovid),label='COVID ICU use limit',color='black',zorder=10)\n",
    "for i in range(len(simulation)):\n",
    "    if type(mu) == list:\n",
    "        axs[1,1].plot(dates[i],simulation[i].V,label='mu: '+str(mu[i]),color=colors[i],linewidth=pĺotlinewidth)\n",
    "    #axs[1,1].plot(dates[i],simulation[i].V_need,linestyle='dashed',color=colors[i])\n",
    "    if type(alpha_new) == list:\n",
    "        axs[1,1].plot(dates[i],simulation[i].V,label=mob+': '+str(escenarios[i])+'%',color=colors[i],linewidth=pĺotlinewidth)\n",
    "axs[1,1].set_title(plottitle[1][1],fontsize=fontsize_title)\n",
    "\n",
    "axs[1,1].scatter(state.UCI_dates[:rango],state.UCI_use_covid[:rango],label='DP58',color='grey',zorder=10)\n",
    "axs[1,1].plot(simulation[0].dates,simulation[0].V_cap, linestyle = 'dashed', color = 'black')\n",
    "\n",
    "\n",
    "# Ephemerides\n",
    "for i in mob_dates:\n",
    "    axs[0,0].axvline(x = i, linestyle = 'dashed',linewidth=datelinewidth)\n",
    "    axs[0,1].axvline(x = i, linestyle = 'dashed',linewidth=datelinewidth)\n",
    "    axs[1,0].axvline(x = i, linestyle = 'dashed',linewidth=datelinewidth)\n",
    "    axs[1,1].axvline(x = i, linestyle = 'dashed',linewidth=datelinewidth)\n",
    " \n",
    "axs[0,0].axvline(x = datetime(2021,4,11), linestyle = 'dashed',linewidth=datelinewidth,color='red')\n",
    "axs[0,0].axvline(x = datetime(2021,5,3), linestyle = 'dashed',linewidth=datelinewidth,color='grey')\n",
    "axs[0,1].axvline(x = datetime(2021,4,11), linestyle = 'dashed',linewidth=datelinewidth,color='red')\n",
    "axs[0,1].axvline(x = datetime(2021,5,3), linestyle = 'dashed',linewidth=datelinewidth,color='grey')\n",
    "axs[1,0].axvline(x = datetime(2021,4,11), linestyle = 'dashed',linewidth=datelinewidth,color='red')\n",
    "axs[1,0].axvline(x = datetime(2021,5,3), linestyle = 'dashed',linewidth=datelinewidth,color='grey')\n",
    "axs[1,1].axvline(x = datetime(2021,4,11), linestyle = 'dashed',linewidth=datelinewidth,color='red')\n",
    "axs[1,1].axvline(x = datetime(2021,5,3), linestyle = 'dashed',linewidth=datelinewidth,color='grey')\n",
    "\n",
    "# Format and shit\n",
    "\n",
    "# Grid\n",
    "axs[0,0].grid(color='grey', linestyle='dotted', linewidth=0.5)\n",
    "axs[0,1].grid(color='grey', linestyle='dotted', linewidth=0.5)\n",
    "axs[1,0].grid(color='grey', linestyle='dotted', linewidth=0.5)\n",
    "axs[1,1].grid(color='grey', linestyle='dotted', linewidth=0.5)\n",
    "\n",
    "# x axis: Date range\n",
    "axs[0,0].set_xlim(initdate,enddate)\n",
    "axs[0,1].set_xlim(initdate,enddate)\n",
    "axs[1,0].set_xlim(initdate,enddate)\n",
    "axs[1,1].set_xlim(initdate,enddate)\n",
    "\n",
    "# x axis: Date interval\n",
    "interval = 30\n",
    "#axs[0,0].xaxis.set_major_locator(mdates.DayLocator(interval=interval))\n",
    "#axs[0,1].xaxis.set_major_locator(mdates.DayLocator(interval=interval))\n",
    "#axs[1,0].xaxis.set_major_locator(mdates.DayLocator(interval=interval))\n",
    "#axs[1,1].xaxis.set_major_locator(mdates.DayLocator(interval=interval))\n",
    "\n",
    "# x axis: Date format\n",
    "axs[0,0].get_xaxis().set_major_formatter(mdates.DateFormatter('%d-%m'))\n",
    "axs[0,1].get_xaxis().set_major_formatter(mdates.DateFormatter('%d-%m'))\n",
    "axs[1,0].get_xaxis().set_major_formatter(mdates.DateFormatter('%d-%m'))\n",
    "axs[1,1].get_xaxis().set_major_formatter(mdates.DateFormatter('%d-%m'))\n",
    "\n",
    "# Y axis: Format\n",
    "axs[0,0].get_yaxis().set_major_formatter(matplotlib.ticker.FuncFormatter(lambda x, p: format(int(x), ',')))\n",
    "axs[0,1].get_yaxis().set_major_formatter(matplotlib.ticker.FuncFormatter(lambda x, p: format(int(x), ',')))\n",
    "axs[1,0].get_yaxis().set_major_formatter(matplotlib.ticker.FuncFormatter(lambda x, p: format(int(x), ',')))\n",
    "axs[1,1].get_yaxis().set_major_formatter(matplotlib.ticker.FuncFormatter(lambda x, p: format(int(x), ',')))\n",
    "\n",
    "# Y axis: Range\n",
    "#axs[0,0].set_ylim(0,5e4)\n",
    "axs[0,1].set_ylim(0,50000)\n",
    "#axs[1,0].set_ylim(0,10000)\n",
    "#axs[1,1].set_ylim(0,2.5e3)\n",
    "#axs[0,0].set_yscale('log')\n",
    "\n",
    "# Font-size\n",
    "axs[0,0].tick_params(labelsize=fontsize_label)\n",
    "axs[0,1].tick_params(labelsize=fontsize_label)\n",
    "axs[1,0].tick_params(labelsize=fontsize_label)\n",
    "axs[1,1].tick_params(labelsize=fontsize_label)\n",
    "\n",
    "# Legend\n",
    "axs[0,0].legend(loc='upper left',fontsize=fontsize_legend)\n",
    "axs[0,1].legend(loc='upper left',fontsize=fontsize_legend)\n",
    "axs[1,0].legend(loc='upper left',fontsize=fontsize_legend)\n",
    "axs[1,1].legend(loc='lower right',fontsize=fontsize_legend)\n",
    "#axs[1,1].legend(bbox_to_anchor=(0.33, 0.52),fontsize=fontsize_legend)\n",
    "\n",
    "\n",
    "fig.suptitle(title,fontsize=fontsize_suptitle)\n",
    "fig.show()"
   ]
  },
  {
   "cell_type": "markdown",
   "metadata": {},
   "source": [
    "## Plot Activos"
   ]
  },
  {
   "cell_type": "code",
   "execution_count": 40,
   "metadata": {},
   "outputs": [],
   "source": [
    "renewalFactor = [0]\n",
    "sim_InfDiario = False\n",
    "sim_InfEPI = True\n",
    "\n",
    "colors = plt.cm.rainbow_r(np.linspace(0,1,len(simulation)))\n",
    "\n",
    "fig, axs = plt.subplots(1, 1)\n",
    "\n",
    "axs.scatter(state.Ir_dates,state.Ir,color='grey',label='DP3 med_mov 7',zorder=10)\n",
    "\n",
    "for i in range(len(simulation)):\n",
    "    if type(mu) == list:\n",
    "        axs.plot(dates[i],simulation[i].I_det,linewidth=pĺotlinewidth,label='mu: '+str(mu[i])+' | SP_R: '+str(round(100*SeroPrevalence[i],2))+'%'+' | SP_D:'+str(round(100*SeroPrevalenceDet[i],2))+'%',color=colors[i])\n",
    "    if type(alpha_new) == list:\n",
    "        axs.plot(dates[i],simulation[i].I_det,linewidth=pĺotlinewidth,label='Simulation',color=colors[i])\n",
    "axs.set_title('Infectados Activos Detectados',fontsize=fontsize_title)\n",
    "\n",
    "\n",
    "# Grid\n",
    "axs.grid(color='grey', linestyle='dotted', linewidth=0.5)\n",
    "\n",
    "\n",
    "# x axis: Date range\n",
    "axs.set_xlim(initdate,enddate)\n",
    "\n",
    "\n",
    "# x axis: Date interval\n",
    "interval = 30\n",
    "\n",
    "# x axis: Date format\n",
    "axs.get_xaxis().set_major_formatter(mdates.DateFormatter('%d-%m'))\n",
    "\n",
    "# Y axis: Format\n",
    "axs.get_yaxis().set_major_formatter(matplotlib.ticker.FuncFormatter(lambda x, p: format(int(x), ',')))\n",
    "\n",
    "# Y axis: Range\n",
    "axs.set_ylim(0,70000)\n",
    "\n",
    "# Font-size\n",
    "axs.tick_params(labelsize=fontsize_label)\n",
    "# Legend\n",
    "axs.legend(loc='lower right',fontsize=fontsize_legend)\n",
    "\n",
    "fig.suptitle(title,fontsize=fontsize_suptitle)\n",
    "fig.show()"
   ]
  },
  {
   "cell_type": "code",
   "execution_count": null,
   "metadata": {},
   "outputs": [],
   "source": [
    "daterange = [initdate_table+timedelta(days=7*i) for i in range(int((enddate-initdate_table).days/7)+1)]"
   ]
  },
  {
   "cell_type": "code",
   "execution_count": null,
   "metadata": {},
   "outputs": [],
   "source": [
    "int((enddate-initdate).days/7)"
   ]
  },
  {
   "cell_type": "code",
   "execution_count": null,
   "metadata": {},
   "outputs": [],
   "source": []
  },
  {
   "cell_type": "markdown",
   "metadata": {},
   "source": [
    "# Generación de tablas"
   ]
  },
  {
   "cell_type": "code",
   "execution_count": null,
   "metadata": {},
   "outputs": [],
   "source": [
    "initdate_table = datetime(2021,5,1)\n",
    "enddate_table = datetime(2021,12,31)\n",
    "\n",
    "init_index = np.where(np.array(dates[0]) == np.array(initdate_table))[0][0]\n",
    "end_index = np.where(np.array(dates[0]) == np.array(enddate_table))[0][0] + 1 "
   ]
  },
  {
   "cell_type": "markdown",
   "metadata": {},
   "source": [
    "Construir DataFrame"
   ]
  },
  {
   "cell_type": "code",
   "execution_count": null,
   "metadata": {},
   "outputs": [],
   "source": [
    "np.around(np.array([1.1,2.5,8.9])).astype(int)"
   ]
  },
  {
   "cell_type": "code",
   "execution_count": null,
   "metadata": {},
   "outputs": [],
   "source": [
    "vmi_dict = [{'Uso_UCI_mov_'+str(escenarios[i]):np.around(simulation[i].V[init_index:end_index]).astype(int)} for i in range(len(escenarios))]\n",
    "I_d_dict = [{'Infectados_diarios_mov_'+str(escenarios[i]):np.around(simulation[i].I_d_det[init_index:end_index]).astype(int)} for i in range(len(escenarios))]\n",
    "I_act_dict = [{'Infectados_activos_mov_'+str(escenarios[i]):np.around(simulation[i].I_det[init_index:end_index]).astype(int)} for i in range(len(escenarios))]\n",
    "D_acc_dict = [{'Fallecidos_acumulados_mov_'+str(escenarios[i]):np.around(simulation[i].B[init_index:end_index]).astype(int)} for i in range(len(escenarios))]"
   ]
  },
  {
   "cell_type": "code",
   "execution_count": null,
   "metadata": {},
   "outputs": [],
   "source": [
    "vmi_table = {'fechas':dates[0][init_index:end_index]}\n",
    "I_d_table = {'fechas':dates[0][init_index:end_index]}\n",
    "I_act_table = {'fechas':dates[0][init_index:end_index]}\n",
    "D_acc_table = {'fechas':dates[0][init_index:end_index]}\n",
    "for i in vmi_dict:\n",
    "    vmi_table =  {**vmi_table, **i}\n",
    "for i in I_d_dict:    \n",
    "    I_d_table =  {**I_d_table, **i}    \n",
    "for i in I_act_dict:    \n",
    "    I_act_table =  {**I_act_table, **i}    \n",
    "for i in D_acc_dict:\n",
    "    D_acc_table =  {**D_acc_table, **i}"
   ]
  },
  {
   "cell_type": "code",
   "execution_count": null,
   "metadata": {},
   "outputs": [],
   "source": [
    "vmi_df = pd.DataFrame(vmi_table)\n",
    "I_d_df = pd.DataFrame(I_d_table)\n",
    "I_act_df = pd.DataFrame(I_act_table)\n",
    "D_acc_df = pd.DataFrame(D_acc_table)"
   ]
  },
  {
   "cell_type": "code",
   "execution_count": null,
   "metadata": {},
   "outputs": [],
   "source": [
    "D_acc_df"
   ]
  },
  {
   "cell_type": "code",
   "execution_count": null,
   "metadata": {},
   "outputs": [],
   "source": [
    "vmi_df.to_csv('/home/samuel/Dropbox/DLab/Covid/DataProjections/Chile/UCI_may-dic_0206.csv')\n",
    "I_d_df.to_csv('/home/samuel/Dropbox/DLab/Covid/DataProjections/Chile/I_diarios_may-dic_0206.csv')\n",
    "I_act_df.to_csv('/home/samuel/Dropbox/DLab/Covid/DataProjections/Chile/I_activos_may-dic_0206.csv')\n",
    "D_acc_df.to_csv('/home/samuel/Dropbox/DLab/Covid/DataProjections/Chile/D_accu_may-dic_0206.csv')"
   ]
  },
  {
   "cell_type": "code",
   "execution_count": null,
   "metadata": {},
   "outputs": [],
   "source": []
  },
  {
   "cell_type": "markdown",
   "metadata": {},
   "source": [
    "#### infectadios diarios"
   ]
  },
  {
   "cell_type": "code",
   "execution_count": null,
   "metadata": {},
   "outputs": [],
   "source": [
    "i=0\n",
    "plt.plot(dates[i],simulation[i].I_d)\n",
    "plt.show()"
   ]
  },
  {
   "cell_type": "code",
   "execution_count": null,
   "metadata": {},
   "outputs": [],
   "source": [
    "Id_dict = [{'Id_mov_'+str(escenarios[i]):np.around(simulation[i].I_d_det)} for i in range(len(escenarios))]"
   ]
  },
  {
   "cell_type": "code",
   "execution_count": null,
   "metadata": {},
   "outputs": [],
   "source": [
    "Id_table = {'fechas':dates[0]}\n",
    "for i in Id_dict:\n",
    "    Id_table =  {**Id_table, **i} \n",
    "Id_df = pd.DataFrame(Id_table)"
   ]
  },
  {
   "cell_type": "code",
   "execution_count": null,
   "metadata": {},
   "outputs": [],
   "source": [
    "Id_10may = Id_df[(Id_df['fechas']>=datetime(2021,5,10)) & (Id_df['fechas']<datetime(2021,5,17))]"
   ]
  },
  {
   "cell_type": "code",
   "execution_count": null,
   "metadata": {},
   "outputs": [],
   "source": [
    "Id_10may"
   ]
  },
  {
   "cell_type": "code",
   "execution_count": null,
   "metadata": {},
   "outputs": [],
   "source": [
    "Id_average = [np.mean(Id_10may[i]) for i in Id_10may.keys()[1:]]"
   ]
  },
  {
   "cell_type": "code",
   "execution_count": null,
   "metadata": {},
   "outputs": [],
   "source": [
    "np.around(Id_average)"
   ]
  },
  {
   "cell_type": "code",
   "execution_count": null,
   "metadata": {},
   "outputs": [],
   "source": [
    "Id_10may"
   ]
  },
  {
   "cell_type": "code",
   "execution_count": null,
   "metadata": {},
   "outputs": [],
   "source": []
  }
 ],
 "metadata": {
  "kernelspec": {
   "display_name": "Python 3",
   "language": "python",
   "name": "python3"
  },
  "language_info": {
   "codemirror_mode": {
    "name": "ipython",
    "version": 3
   },
   "file_extension": ".py",
   "mimetype": "text/x-python",
   "name": "python",
   "nbconvert_exporter": "python",
   "pygments_lexer": "ipython3",
   "version": "3.8.2"
  }
 },
 "nbformat": 4,
 "nbformat_minor": 4
}
