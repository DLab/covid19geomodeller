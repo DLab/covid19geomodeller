{
 "cells": [
  {
   "cell_type": "markdown",
   "metadata": {},
   "source": [
    "# SEIRHVD Data Fit\n",
    "\n",
    "This Jupyter notebooks implements the SEIRHVD model for fitting the actual Chilean data in order to make projections in VMI and bed usage, amount of infected and deaths. This model uses the SEIRHVD 4.1 version. A visual representation of the model is available at: [SEIRHVD Miró Model](https://miro.com/app/board/o9J_ktzN4xA=/)\n",
    "\n",
    "This implements a single instance to facilitate understanding the model prior to run multiple data fittings at a time.\n",
    "\n"
   ]
  },
  {
   "cell_type": "code",
   "execution_count": 1,
   "metadata": {},
   "outputs": [
    {
     "name": "stdout",
     "output_type": "stream",
     "text": [
      "Linux\n"
     ]
    }
   ],
   "source": [
    "import numpy as np\n",
    "import pandas as pd\n",
    "import matplotlib.pyplot as plt\n",
    "import matplotlib.dates as mdates \n",
    "from datetime import datetime\n",
    "from numpy import linalg as LA\n",
    "import multiprocessing\n",
    "from joblib import Parallel, delayed\n",
    "from datetime import timedelta\n",
    "\n",
    "import platform\n",
    "OS = platform.system()\n",
    "\n",
    "import matplotlib.pyplot as plt\n",
    "if OS == 'Linux':    \n",
    "    %matplotlib tk\n",
    "    print('Linux')\n",
    "elif OS == 'Windows':\n",
    "    %matplotlib qt\n",
    "    print('Windows')\n",
    "elif OS == 'Darwin':\n",
    "    %matplotlib tk\n",
    "    print('Mac (Funciona?)')\n",
    "else:\n",
    "    print('OS not detected :-|')\n",
    "\n",
    "import sys\n",
    "from pathlib import Path\n",
    "sys.path.insert(1, '../src/SEIRHVD/')\n",
    "sys.path.insert(1, '../src/utils/')\n",
    "sys.path.insert(1, 'src/SEIRHVD/')\n",
    "sys.path.insert(1, 'src/utils/')\n",
    "\n",
    "from class_SEIRHUVD6 import SEIRHVD \n",
    "from Quarantine import Quarantine\n",
    "from Quarantine import SeroPrevDynamics\n",
    "from importdata import ImportData\n",
    "import Events\n",
    "\n",
    "import json\n",
    "from pandas.core.base import DataError\n",
    "import requests\n",
    "from requests.auth import HTTPBasicAuth\n",
    "import pandas as pd\n",
    "import matplotlib\n",
    "\n",
    "from datetime import date\n",
    "\n",
    "import copy"
   ]
  },
  {
   "cell_type": "markdown",
   "metadata": {},
   "source": [
    "## Time Variables\n",
    "Declare Initial date for simulating and data fitting"
   ]
  },
  {
   "cell_type": "code",
   "execution_count": 68,
   "metadata": {},
   "outputs": [],
   "source": [
    "# First simulation Initial date\n",
    "initdate = datetime(2021,3,15)\n",
    "# Date for change in SeroPrevalence\n",
    "SPchange_date = datetime(2020,7,25)\n",
    "\n",
    "# Current date\n",
    "currentdate = datetime.now()\n",
    "currentday = (currentdate - initdate).days\n",
    "\n",
    "fiestaspatrias = datetime(2020,9,18)\n",
    "fiestaspatrias_day = (fiestaspatrias-initdate).days\n",
    "plebiscito = datetime(2020,10,25)\n",
    "plebiscito_day = (plebiscito-initdate).days\n",
    "\n",
    "navidad = datetime(2020,12,25)\n",
    "navidad_day = (navidad-initdate).days\n",
    "\n",
    "newyear = datetime(2020,12,31)\n",
    "newyear_day = (newyear-initdate).days\n",
    "\n",
    "today = datetime.today()\n",
    "today_day = (today-initdate).days"
   ]
  },
  {
   "cell_type": "markdown",
   "metadata": {},
   "source": [
    "## Import Data\n",
    "To import data we use an ImportData object which is initialized with the region's cut and the initial date. state region is represented by cut = 14."
   ]
  },
  {
   "cell_type": "code",
   "execution_count": 69,
   "metadata": {},
   "outputs": [],
   "source": [
    "def dataretriever(user=None,password=None):\n",
    "    # Esta funcion devolvera una funcion de request        \n",
    "    def request(endpoint):\n",
    "        if user:\n",
    "            aux = requests.get('https://api.cv19gm.org/'+endpoint, auth=HTTPBasicAuth(user, password))\n",
    "            if aux.status_code == 401:\n",
    "                raise Exception('Wrong Credentials')\n",
    "            else:\n",
    "                print('Logged in successfully')\n",
    "        else:\n",
    "            aux = requests.get('http://192.168.2.223:5006/'+endpoint)\n",
    "        return aux\n",
    "    return request\n",
    "def timeJStoPy(t):\n",
    "    return datetime.strptime(t[:10],'%Y-%m-%d')\n",
    "def timetxttoDatetime(t):\n",
    "    return datetime.strptime(t,'%Y-%m-%d')"
   ]
  },
  {
   "cell_type": "code",
   "execution_count": 70,
   "metadata": {
    "scrolled": true
   },
   "outputs": [
    {
     "name": "stdout",
     "output_type": "stream",
     "text": [
      "Importing data from all regions\n",
      "Importing General Data\n",
      "Importing Population\n",
      "Importing Active infected\n",
      "Importing Accumulated Infected\n",
      "Importing Daily Infected\n",
      "Importing ICU Beds Data from Minciencia\n",
      "Importing Deaths by DEIS\n",
      "Importing Active Infected by Minciencia\n",
      "Done\n",
      "Importing Daily Infected\n"
     ]
    }
   ],
   "source": [
    "print('Importing data from all regions')\n",
    "#tstate = ['01','02','03','04','05','06','07','08','09','10','11','12','13','14','15','16']\n",
    "tstate = '13'\n",
    "# Import Data\n",
    "state = ImportData(tstate=tstate,initdate = initdate)\n",
    "state.importdata()\n",
    "\n",
    "state.importDailyInfectedNacional()\n",
    "state.name = 'Chile'"
   ]
  },
  {
   "cell_type": "markdown",
   "metadata": {},
   "source": [
    "### Datos de Hospitalizados a fitear"
   ]
  },
  {
   "cell_type": "markdown",
   "metadata": {},
   "source": []
  },
  {
   "cell_type": "code",
   "execution_count": 71,
   "metadata": {},
   "outputs": [],
   "source": [
    "capacidadUCIcovid = 2600\n",
    "state.Hr = 1000\n",
    "state.Hr_tot = [10000,10000]\n",
    "state.Vr = state.UCI_use_covid\n",
    "state.Vr_tot = capacidadUCIcovid - np.array(state.UCI_use_noncovid)#[4000]*len(state.UCI_use_covid)#state.UCI_capacity\n",
    "state.UCI_non_covid = state.UCI_use_noncovid\n",
    "state.sochimi_tr = state.UCI_tr#[-2:]\n",
    "state.sochimi_dates = state.UCI_dates"
   ]
  },
  {
   "cell_type": "markdown",
   "metadata": {},
   "source": [
    "## Infectados Diarios y Acumulados"
   ]
  },
  {
   "cell_type": "code",
   "execution_count": 72,
   "metadata": {},
   "outputs": [],
   "source": [
    "endpoint ='https://raw.githubusercontent.com/MinCiencia/Datos-COVID19/master/output/producto3/TotalesPorRegion.csv'\n",
    "producto3 = pd.read_csv(endpoint)\n",
    "I_ac_confirmado = producto3[(producto3['Region']=='Metropolitana')&(producto3['Categoria']=='Casos acumulados')]\n",
    "I_antigeno_ac = producto3[(producto3['Region']=='Metropolitana')&(producto3['Categoria']=='Casos confirmados por antigeno')]\n",
    "I_probables_ac = producto3[(producto3['Region']=='Metropolitana')&(producto3['Categoria']=='Casos probables acumulados')]"
   ]
  },
  {
   "cell_type": "code",
   "execution_count": 73,
   "metadata": {},
   "outputs": [],
   "source": [
    "confirmado_nac = producto3[(producto3['Region']=='Total')&(producto3['Categoria']=='Casos acumulados')].iloc[:,2:].sum()\n",
    "antigeno_nac = producto3[(producto3['Region']=='Total')&(producto3['Categoria']=='Casos confirmados por antigeno')].iloc[:,2:].sum()\n",
    "probables_nac = producto3[(producto3['Region']=='Total')&(producto3['Categoria']=='Casos probables acumulados')].iloc[:,2:].sum()\n",
    "\n",
    "I_ac_nac = confirmado_nac+antigeno_nac+probables_nac\n",
    "I_act_nac_roll = I_ac_nac.diff(periods=11).rolling(7).mean().dropna()\n"
   ]
  },
  {
   "cell_type": "code",
   "execution_count": 74,
   "metadata": {},
   "outputs": [
    {
     "data": {
      "text/plain": [
       "<matplotlib.legend.Legend at 0x7fb0fc916a00>"
      ]
     },
     "execution_count": 74,
     "metadata": {},
     "output_type": "execute_result"
    }
   ],
   "source": [
    "I_act_nac_roll.plot(label='confirmados+antigenos+probables')\n",
    "confirmado_nac.diff(periods=11).rolling(7).mean().dropna().plot(label='confirmados')\n",
    "plt.title('Activos')\n",
    "plt.legend(loc=0)"
   ]
  },
  {
   "cell_type": "code",
   "execution_count": 75,
   "metadata": {},
   "outputs": [],
   "source": [
    "R = producto3[(producto3['Region']=='Metropolitana')&(producto3['Categoria']=='Casos confirmados recuperados')].iloc[0][3:]\n",
    "R.index = pd.to_datetime(R.index, format='%Y-%m-%d')\n",
    "R = R.loc[R.index>=initdate]"
   ]
  },
  {
   "cell_type": "code",
   "execution_count": null,
   "metadata": {},
   "outputs": [],
   "source": []
  },
  {
   "cell_type": "code",
   "execution_count": 76,
   "metadata": {},
   "outputs": [],
   "source": [
    "initday = (initdate-pd.to_datetime(I_ac_confirmado.iloc[0].index[2], format='%Y-%m-%d')).days\n",
    "#I_ac = I_ac_confirmado.iloc[0][initday:] + I_antigeno_ac.iloc[0][initday:] + I_probables_ac.iloc[0][initday:]\n",
    "I_ac = I_ac_confirmado.iloc[0][3:] + I_antigeno_ac.iloc[0][3:] + I_probables_ac.iloc[0][3:]\n",
    "I_ac.index = pd.to_datetime(I_ac.index, format='%Y-%m-%d')\n",
    "\n",
    "I_d = I_ac.diff(periods=1)\n",
    "I_act = I_ac.diff(periods=11)\n",
    "I_d_roll = I_d.rolling(7).mean()\n",
    "I_act_roll = I_act.rolling(7).mean()\n",
    "I_d = I_d.loc[I_d.index>=initdate]\n",
    "I_act = I_act.loc[I_act.index>=initdate]\n",
    "I_ac = I_ac.loc[I_ac.index>=initdate]\n",
    "\n",
    "\n",
    "I_d_roll = I_d_roll.loc[I_d_roll.index>=initdate]\n",
    "I_act_roll = I_act_roll.loc[I_act_roll.index>=initdate]\n",
    "\n",
    "state.I_d_r = I_d_roll\n",
    "state.I_d_r_dates = I_d_roll.index\n",
    "state.I_d_r_tr = [(I_d_roll.index[i]-initdate).days for i in range(len(I_d_roll))]\n",
    "\n",
    "state.Ir = I_act_roll\n",
    "state.Ir_dates = I_act_roll.index\n",
    "state.tr =  [(I_act_roll.index[i]-initdate).days for i in range(len(I_act_roll))]\n",
    "\n",
    "state.I_ac_r = I_ac\n",
    "state.I_ac_r_dates = I_ac.index\n",
    "state.I_ac_r_tr = [(I_ac.index[i]-initdate).days for i in range(len(I_ac))]\n",
    "\n"
   ]
  },
  {
   "cell_type": "code",
   "execution_count": 77,
   "metadata": {},
   "outputs": [],
   "source": [
    "state.R = R"
   ]
  },
  {
   "cell_type": "markdown",
   "metadata": {},
   "source": [
    "# Importante:\n",
    "valores al 26 de Abril\n",
    "Casos activos calculados con probables y antigenos: 38657\n",
    "Casos activos confirmados publicados: 15810\n",
    "Casos activos calculado solo con los casos acumulados: 28170\n",
    "\n",
    "Activos_confirmados = producto3[(producto3['Region']=='Metropolitana')&(producto3['Categoria']=='Casos activos confirmados')]\n",
    "Activos_desdeacumulados = producto3[(producto3['Region']=='Metropolitana')&(producto3['Categoria']=='Casos acumulados')].iloc[0][initday:].diff(periods=11)"
   ]
  },
  {
   "cell_type": "markdown",
   "metadata": {},
   "source": [
    "## Subreport"
   ]
  },
  {
   "cell_type": "code",
   "execution_count": 78,
   "metadata": {},
   "outputs": [],
   "source": [
    "Ias_det = 0.3#0.1\n",
    "Imi_det = 1#0.4\n",
    "Ise_det = 1\n",
    "Icr_det = 1"
   ]
  },
  {
   "cell_type": "markdown",
   "metadata": {},
   "source": [
    "# Parameters"
   ]
  },
  {
   "cell_type": "code",
   "execution_count": 79,
   "metadata": {},
   "outputs": [],
   "source": [
    "# Total simulation time\n",
    "tsim = 1000\n",
    "\n",
    "beta = 1\n",
    "mu = 0.375#5 #list(np.arange(0.2,0.4,0.01))#0.4\n",
    "k_I = 0\n",
    "k_R = 0#10\n",
    "SeroPrevFactor = 1\n",
    "expinfection=0 # Proportion in which the exposed infect - 0: nothing, 1: equally as Infected"
   ]
  },
  {
   "cell_type": "markdown",
   "metadata": {},
   "source": [
    "## Quarantines"
   ]
  },
  {
   "cell_type": "code",
   "execution_count": 155,
   "metadata": {},
   "outputs": [],
   "source": [
    "mob_dates = [initdate,datetime(2021,4,2),initdate+timedelta(days=tsim)]#,datetime(2021,5,3)]\n",
    "mob_days = []\n",
    "for i in range(len(mob_dates)-1):\n",
    "    d1 = (mob_dates[i]-initdate).days\n",
    "    d2 = (mob_dates[i+1]-initdate).days\n",
    "    mob_days.append([d1,d2])\n",
    "\n",
    "mobility = [0.127,0.11]\n",
    "\n",
    "escenarios = [100]#,105,110,115,120]\n",
    "alpha_var = escenarios\n",
    "alpha_new = [Events.Events(values=mobility +[i*mobility[-1]/100],days=mob_days) for i in escenarios]\n"
   ]
  },
  {
   "cell_type": "code",
   "execution_count": 156,
   "metadata": {},
   "outputs": [
    {
     "data": {
      "text/plain": [
       "[<function Events.functionAddition.<locals>.f(t)>]"
      ]
     },
     "execution_count": 156,
     "metadata": {},
     "output_type": "execute_result"
    }
   ],
   "source": [
    "alpha_new"
   ]
  },
  {
   "cell_type": "code",
   "execution_count": 157,
   "metadata": {},
   "outputs": [
    {
     "data": {
      "text/plain": [
       "[[0, 18], [18, 1000]]"
      ]
     },
     "execution_count": 157,
     "metadata": {},
     "output_type": "execute_result"
    }
   ],
   "source": [
    "mob_days"
   ]
  },
  {
   "cell_type": "markdown",
   "metadata": {},
   "source": [
    "# Plot Movilidad"
   ]
  },
  {
   "cell_type": "code",
   "execution_count": 159,
   "metadata": {},
   "outputs": [
    {
     "ename": "IndexError",
     "evalue": "list index out of range",
     "output_type": "error",
     "traceback": [
      "\u001b[0;31m---------------------------------------------------------------------------\u001b[0m",
      "\u001b[0;31mIndexError\u001b[0m                                Traceback (most recent call last)",
      "\u001b[0;32m<ipython-input-159-25542b65a013>\u001b[0m in \u001b[0;36m<module>\u001b[0;34m\u001b[0m\n\u001b[1;32m      2\u001b[0m     \u001b[0mdatelinewidth\u001b[0m \u001b[0;34m=\u001b[0m \u001b[0;36m1\u001b[0m\u001b[0;34m\u001b[0m\u001b[0;34m\u001b[0m\u001b[0m\n\u001b[1;32m      3\u001b[0m     \u001b[0mt\u001b[0m \u001b[0;34m=\u001b[0m \u001b[0mnp\u001b[0m\u001b[0;34m.\u001b[0m\u001b[0marray\u001b[0m\u001b[0;34m(\u001b[0m\u001b[0mnp\u001b[0m\u001b[0;34m.\u001b[0m\u001b[0marange\u001b[0m\u001b[0;34m(\u001b[0m\u001b[0;36m0\u001b[0m\u001b[0;34m,\u001b[0m\u001b[0;36m240\u001b[0m\u001b[0;34m,\u001b[0m\u001b[0;36m0.1\u001b[0m\u001b[0;34m)\u001b[0m\u001b[0;34m)\u001b[0m\u001b[0;34m\u001b[0m\u001b[0;34m\u001b[0m\u001b[0m\n\u001b[0;32m----> 4\u001b[0;31m     \u001b[0malphaplot\u001b[0m \u001b[0;34m=\u001b[0m \u001b[0;34m[\u001b[0m\u001b[0;34m[\u001b[0m\u001b[0mj\u001b[0m\u001b[0;34m(\u001b[0m\u001b[0mi\u001b[0m\u001b[0;34m)\u001b[0m \u001b[0;32mfor\u001b[0m \u001b[0mi\u001b[0m \u001b[0;32min\u001b[0m \u001b[0mt\u001b[0m\u001b[0;34m]\u001b[0m \u001b[0;32mfor\u001b[0m \u001b[0mj\u001b[0m \u001b[0;32min\u001b[0m \u001b[0malpha_new\u001b[0m\u001b[0;34m]\u001b[0m\u001b[0;34m\u001b[0m\u001b[0;34m\u001b[0m\u001b[0m\n\u001b[0m\u001b[1;32m      5\u001b[0m     \u001b[0;32mfor\u001b[0m \u001b[0mf\u001b[0m \u001b[0;32min\u001b[0m \u001b[0malphaplot\u001b[0m\u001b[0;34m:\u001b[0m\u001b[0;34m\u001b[0m\u001b[0;34m\u001b[0m\u001b[0m\n\u001b[1;32m      6\u001b[0m         \u001b[0mplt\u001b[0m\u001b[0;34m.\u001b[0m\u001b[0mplot\u001b[0m\u001b[0;34m(\u001b[0m\u001b[0mt\u001b[0m\u001b[0;34m,\u001b[0m\u001b[0mf\u001b[0m\u001b[0;34m)\u001b[0m\u001b[0;34m\u001b[0m\u001b[0;34m\u001b[0m\u001b[0m\n",
      "\u001b[0;32m<ipython-input-159-25542b65a013>\u001b[0m in \u001b[0;36m<listcomp>\u001b[0;34m(.0)\u001b[0m\n\u001b[1;32m      2\u001b[0m     \u001b[0mdatelinewidth\u001b[0m \u001b[0;34m=\u001b[0m \u001b[0;36m1\u001b[0m\u001b[0;34m\u001b[0m\u001b[0;34m\u001b[0m\u001b[0m\n\u001b[1;32m      3\u001b[0m     \u001b[0mt\u001b[0m \u001b[0;34m=\u001b[0m \u001b[0mnp\u001b[0m\u001b[0;34m.\u001b[0m\u001b[0marray\u001b[0m\u001b[0;34m(\u001b[0m\u001b[0mnp\u001b[0m\u001b[0;34m.\u001b[0m\u001b[0marange\u001b[0m\u001b[0;34m(\u001b[0m\u001b[0;36m0\u001b[0m\u001b[0;34m,\u001b[0m\u001b[0;36m240\u001b[0m\u001b[0;34m,\u001b[0m\u001b[0;36m0.1\u001b[0m\u001b[0;34m)\u001b[0m\u001b[0;34m)\u001b[0m\u001b[0;34m\u001b[0m\u001b[0;34m\u001b[0m\u001b[0m\n\u001b[0;32m----> 4\u001b[0;31m     \u001b[0malphaplot\u001b[0m \u001b[0;34m=\u001b[0m \u001b[0;34m[\u001b[0m\u001b[0;34m[\u001b[0m\u001b[0mj\u001b[0m\u001b[0;34m(\u001b[0m\u001b[0mi\u001b[0m\u001b[0;34m)\u001b[0m \u001b[0;32mfor\u001b[0m \u001b[0mi\u001b[0m \u001b[0;32min\u001b[0m \u001b[0mt\u001b[0m\u001b[0;34m]\u001b[0m \u001b[0;32mfor\u001b[0m \u001b[0mj\u001b[0m \u001b[0;32min\u001b[0m \u001b[0malpha_new\u001b[0m\u001b[0;34m]\u001b[0m\u001b[0;34m\u001b[0m\u001b[0;34m\u001b[0m\u001b[0m\n\u001b[0m\u001b[1;32m      5\u001b[0m     \u001b[0;32mfor\u001b[0m \u001b[0mf\u001b[0m \u001b[0;32min\u001b[0m \u001b[0malphaplot\u001b[0m\u001b[0;34m:\u001b[0m\u001b[0;34m\u001b[0m\u001b[0;34m\u001b[0m\u001b[0m\n\u001b[1;32m      6\u001b[0m         \u001b[0mplt\u001b[0m\u001b[0;34m.\u001b[0m\u001b[0mplot\u001b[0m\u001b[0;34m(\u001b[0m\u001b[0mt\u001b[0m\u001b[0;34m,\u001b[0m\u001b[0mf\u001b[0m\u001b[0;34m)\u001b[0m\u001b[0;34m\u001b[0m\u001b[0;34m\u001b[0m\u001b[0m\n",
      "\u001b[0;32m<ipython-input-159-25542b65a013>\u001b[0m in \u001b[0;36m<listcomp>\u001b[0;34m(.0)\u001b[0m\n\u001b[1;32m      2\u001b[0m     \u001b[0mdatelinewidth\u001b[0m \u001b[0;34m=\u001b[0m \u001b[0;36m1\u001b[0m\u001b[0;34m\u001b[0m\u001b[0;34m\u001b[0m\u001b[0m\n\u001b[1;32m      3\u001b[0m     \u001b[0mt\u001b[0m \u001b[0;34m=\u001b[0m \u001b[0mnp\u001b[0m\u001b[0;34m.\u001b[0m\u001b[0marray\u001b[0m\u001b[0;34m(\u001b[0m\u001b[0mnp\u001b[0m\u001b[0;34m.\u001b[0m\u001b[0marange\u001b[0m\u001b[0;34m(\u001b[0m\u001b[0;36m0\u001b[0m\u001b[0;34m,\u001b[0m\u001b[0;36m240\u001b[0m\u001b[0;34m,\u001b[0m\u001b[0;36m0.1\u001b[0m\u001b[0;34m)\u001b[0m\u001b[0;34m)\u001b[0m\u001b[0;34m\u001b[0m\u001b[0;34m\u001b[0m\u001b[0m\n\u001b[0;32m----> 4\u001b[0;31m     \u001b[0malphaplot\u001b[0m \u001b[0;34m=\u001b[0m \u001b[0;34m[\u001b[0m\u001b[0;34m[\u001b[0m\u001b[0mj\u001b[0m\u001b[0;34m(\u001b[0m\u001b[0mi\u001b[0m\u001b[0;34m)\u001b[0m \u001b[0;32mfor\u001b[0m \u001b[0mi\u001b[0m \u001b[0;32min\u001b[0m \u001b[0mt\u001b[0m\u001b[0;34m]\u001b[0m \u001b[0;32mfor\u001b[0m \u001b[0mj\u001b[0m \u001b[0;32min\u001b[0m \u001b[0malpha_new\u001b[0m\u001b[0;34m]\u001b[0m\u001b[0;34m\u001b[0m\u001b[0;34m\u001b[0m\u001b[0m\n\u001b[0m\u001b[1;32m      5\u001b[0m     \u001b[0;32mfor\u001b[0m \u001b[0mf\u001b[0m \u001b[0;32min\u001b[0m \u001b[0malphaplot\u001b[0m\u001b[0;34m:\u001b[0m\u001b[0;34m\u001b[0m\u001b[0;34m\u001b[0m\u001b[0m\n\u001b[1;32m      6\u001b[0m         \u001b[0mplt\u001b[0m\u001b[0;34m.\u001b[0m\u001b[0mplot\u001b[0m\u001b[0;34m(\u001b[0m\u001b[0mt\u001b[0m\u001b[0;34m,\u001b[0m\u001b[0mf\u001b[0m\u001b[0;34m)\u001b[0m\u001b[0;34m\u001b[0m\u001b[0;34m\u001b[0m\u001b[0m\n",
      "\u001b[0;32m~/covid19geomodeller/src/utils/Events.py\u001b[0m in \u001b[0;36mf\u001b[0;34m(t)\u001b[0m\n\u001b[1;32m     22\u001b[0m         \u001b[0maux\u001b[0m \u001b[0;34m=\u001b[0m \u001b[0;36m0\u001b[0m\u001b[0;34m\u001b[0m\u001b[0;34m\u001b[0m\u001b[0m\n\u001b[1;32m     23\u001b[0m         \u001b[0;32mfor\u001b[0m \u001b[0mi\u001b[0m \u001b[0;32min\u001b[0m \u001b[0mfunctarray\u001b[0m\u001b[0;34m:\u001b[0m\u001b[0;34m\u001b[0m\u001b[0;34m\u001b[0m\u001b[0m\n\u001b[0;32m---> 24\u001b[0;31m             \u001b[0maux\u001b[0m \u001b[0;34m+=\u001b[0m \u001b[0mi\u001b[0m\u001b[0;34m(\u001b[0m\u001b[0mt\u001b[0m\u001b[0;34m)\u001b[0m\u001b[0;34m\u001b[0m\u001b[0;34m\u001b[0m\u001b[0m\n\u001b[0m\u001b[1;32m     25\u001b[0m         \u001b[0;32mreturn\u001b[0m \u001b[0maux\u001b[0m\u001b[0;34m\u001b[0m\u001b[0;34m\u001b[0m\u001b[0m\n\u001b[1;32m     26\u001b[0m     \u001b[0;32mreturn\u001b[0m \u001b[0mf\u001b[0m\u001b[0;34m\u001b[0m\u001b[0;34m\u001b[0m\u001b[0m\n",
      "\u001b[0;32m~/covid19geomodeller/src/utils/Events.py\u001b[0m in \u001b[0;36mauxf\u001b[0;34m(t, j)\u001b[0m\n\u001b[1;32m     53\u001b[0m     \u001b[0;32mfor\u001b[0m \u001b[0mi\u001b[0m \u001b[0;32min\u001b[0m \u001b[0mrange\u001b[0m\u001b[0;34m(\u001b[0m\u001b[0mlen\u001b[0m\u001b[0;34m(\u001b[0m\u001b[0mvalues\u001b[0m\u001b[0;34m)\u001b[0m\u001b[0;34m)\u001b[0m\u001b[0;34m:\u001b[0m\u001b[0;34m\u001b[0m\u001b[0;34m\u001b[0m\u001b[0m\n\u001b[1;32m     54\u001b[0m         \u001b[0;32mdef\u001b[0m \u001b[0mauxf\u001b[0m\u001b[0;34m(\u001b[0m\u001b[0mt\u001b[0m\u001b[0;34m,\u001b[0m\u001b[0mj\u001b[0m\u001b[0;34m=\u001b[0m\u001b[0mi\u001b[0m\u001b[0;34m)\u001b[0m\u001b[0;34m:\u001b[0m\u001b[0;34m\u001b[0m\u001b[0;34m\u001b[0m\u001b[0m\n\u001b[0;32m---> 55\u001b[0;31m             \u001b[0;32mreturn\u001b[0m \u001b[0mvalues\u001b[0m\u001b[0;34m[\u001b[0m\u001b[0mj\u001b[0m\u001b[0;34m]\u001b[0m\u001b[0;34m*\u001b[0m\u001b[0;34m(\u001b[0m\u001b[0mexpit\u001b[0m\u001b[0;34m(\u001b[0m\u001b[0;36m10\u001b[0m\u001b[0;34m*\u001b[0m\u001b[0;34m(\u001b[0m\u001b[0mt\u001b[0m\u001b[0;34m-\u001b[0m\u001b[0mdays\u001b[0m\u001b[0;34m[\u001b[0m\u001b[0mj\u001b[0m\u001b[0;34m]\u001b[0m\u001b[0;34m[\u001b[0m\u001b[0;36m0\u001b[0m\u001b[0;34m]\u001b[0m\u001b[0;34m)\u001b[0m\u001b[0;34m)\u001b[0m \u001b[0;34m-\u001b[0m \u001b[0mexpit\u001b[0m\u001b[0;34m(\u001b[0m\u001b[0;36m10\u001b[0m\u001b[0;34m*\u001b[0m\u001b[0;34m(\u001b[0m\u001b[0mt\u001b[0m\u001b[0;34m-\u001b[0m\u001b[0mdays\u001b[0m\u001b[0;34m[\u001b[0m\u001b[0mj\u001b[0m\u001b[0;34m]\u001b[0m\u001b[0;34m[\u001b[0m\u001b[0;36m1\u001b[0m\u001b[0;34m]\u001b[0m\u001b[0;34m)\u001b[0m\u001b[0;34m)\u001b[0m\u001b[0;34m)\u001b[0m\u001b[0;34m\u001b[0m\u001b[0;34m\u001b[0m\u001b[0m\n\u001b[0m\u001b[1;32m     56\u001b[0m         \u001b[0maux_f\u001b[0m\u001b[0;34m.\u001b[0m\u001b[0mappend\u001b[0m\u001b[0;34m(\u001b[0m\u001b[0mauxf\u001b[0m\u001b[0;34m)\u001b[0m\u001b[0;34m\u001b[0m\u001b[0;34m\u001b[0m\u001b[0m\n\u001b[1;32m     57\u001b[0m \u001b[0;34m\u001b[0m\u001b[0m\n",
      "\u001b[0;31mIndexError\u001b[0m: list index out of range"
     ]
    }
   ],
   "source": [
    "if True:\n",
    "    datelinewidth = 1\n",
    "    t = np.array(np.arange(0,240,0.1))\n",
    "    alphaplot = [[j(i) for i in t] for j in alpha_new]\n",
    "    for f in alphaplot:\n",
    "        plt.plot(t,f)\n",
    "    #for f in alphaplot_UK:\n",
    "        #plt.plot(t,f,linestyle='dashed') \n",
    "    plt.axvline(x = navidad_day, linestyle = 'dotted',color = 'red',label='Navidad',linewidth=datelinewidth)\n",
    "    plt.axvline(x = newyear_day, linestyle = 'dotted',color = 'blue',label='Año Nuevo',linewidth=datelinewidth)\n",
    "    #plt.axvline(x = mitadvacaciones_day, linestyle = 'dotted',color = 'green',label='15 Febrero',linewidth=datelinewidth)\n",
    "\n",
    "    plt.tick_params(labelsize=18)\n",
    "    plt.legend(loc=0)\n",
    "    plt.title('Mobility-beta',fontsize=20)\n",
    "    plt.show()\n"
   ]
  },
  {
   "cell_type": "markdown",
   "metadata": {},
   "source": [
    "## SeroPrevalence Dynamics\n",
    "The susceptibles increase through a step function which last for the specified amount of days. Throughout these days it adds a \"dailyincrease\" amount of persons each day.\n",
    "\n",
    "The total increase of people is increasedays*dailyincrease"
   ]
  },
  {
   "cell_type": "code",
   "execution_count": 135,
   "metadata": {},
   "outputs": [],
   "source": [
    "def chisum(a,b,c):\n",
    "    def aux(t):\n",
    "        return a(t)+b(t)+c(t)\n",
    "    return aux"
   ]
  },
  {
   "cell_type": "code",
   "execution_count": 136,
   "metadata": {},
   "outputs": [],
   "source": [
    "def aux(t):\n",
    "    return 0\n",
    "chi = aux"
   ]
  },
  {
   "cell_type": "code",
   "execution_count": 137,
   "metadata": {},
   "outputs": [],
   "source": [
    "chi = []"
   ]
  },
  {
   "cell_type": "code",
   "execution_count": 138,
   "metadata": {},
   "outputs": [],
   "source": [
    "increasedays = 10\n",
    "renewalFactor = -0.1\n",
    "dailyincrease = state.population*SeroPrevFactor*renewalFactor/increasedays\n",
    "t_sp_temp = (datetime(2021,4,2)-initdate).days\n",
    "chi0 = SeroPrevDynamics(t_sp_temp,t_sp_temp+increasedays*0.8,t_sp_temp+increasedays,dailyincrease,form='line')"
   ]
  },
  {
   "cell_type": "code",
   "execution_count": 139,
   "metadata": {},
   "outputs": [],
   "source": [
    "increasedays = 9\n",
    "renewalFactor = 0\n",
    "dailyincrease = state.population*SeroPrevFactor*renewalFactor/increasedays\n",
    "t_sp_temp = (datetime(2021,4,11)-initdate).days\n",
    "chi1 = SeroPrevDynamics(t_sp_temp,t_sp_temp+increasedays*0.8,t_sp_temp+increasedays,dailyincrease,form='line')"
   ]
  },
  {
   "cell_type": "code",
   "execution_count": 140,
   "metadata": {},
   "outputs": [],
   "source": [
    "increasedays = 10\n",
    "renewalFactor = 0\n",
    "dailyincrease = state.population*SeroPrevFactor*renewalFactor/increasedays\n",
    "t_sp_temp = (datetime(2021,5,3)-initdate).days\n",
    "chi2 = SeroPrevDynamics(t_sp_temp,t_sp_temp+increasedays*0.8,t_sp_temp+increasedays,dailyincrease,form='line')"
   ]
  },
  {
   "cell_type": "code",
   "execution_count": 141,
   "metadata": {},
   "outputs": [],
   "source": [
    "chi = chisum(chi0,chi1,chi2)"
   ]
  },
  {
   "cell_type": "code",
   "execution_count": 142,
   "metadata": {},
   "outputs": [],
   "source": [
    "chiplot = [chi(t) for t in np.arange(0,tsim,0.1)]"
   ]
  },
  {
   "cell_type": "code",
   "execution_count": 143,
   "metadata": {},
   "outputs": [],
   "source": [
    "#plt.plot(chiplot)"
   ]
  },
  {
   "cell_type": "markdown",
   "metadata": {},
   "source": [
    "#### Plot Susceptible Dynamics"
   ]
  },
  {
   "cell_type": "markdown",
   "metadata": {},
   "source": [
    "# State transition parameters:"
   ]
  },
  {
   "cell_type": "markdown",
   "metadata": {},
   "source": [
    "#state parameters: \n",
    "pE_Ias = 0.43 # Transition from exposed to Asymptomatic Infected\n",
    "tE_Ias = 3.0\n",
    "pE_Imi = 0.53 # Transition from exposed to  Mild Infected\n",
    "tE_Imi = 3.0\n",
    "pE_Icr = 0.0065 # Transition from exposed to  Critical Infected\n",
    "tE_Icr = 3.0\n",
    "pE_Ise = 0.0335# Transition from exposed to  Serious Infected\n",
    "tE_Ise = 3.0\n",
    "pIas_R = 1.0   # Transition from Asymptomatic Infected to Recovered\n",
    "tIas_R = 5.0\n",
    "pImi_R = 1.0  # Transition from Mild Infected to Recovered\n",
    "tImi_R = 5.0\n",
    "pIse_Hse = 1 # Transition from Serious Infected to Serious Hospitalized (When Hospital capacity is not saturated)\n",
    "tIse_Hse = 5.0\n",
    "pIse_D = 1.0  # Transition from Serious Infected to Death (When Hospital capacity is saturated)\n",
    "tIse_D = 3.0\n",
    "pIcr_V = 1.0  # Transition from Critical Infected to Ventilator (When Ventilators capacity is not saturated)\n",
    "tIcr_V = 3.0\n",
    "pIcr_D = 1.0  # Transition from Serious Infected to Death (When Ventilators capacity is saturated)\n",
    "tIcr_D = 3.0\n",
    "pHse_R = 0.97 # Transition from Serious Hospitalized to Recovered\n",
    "tHse_R = 3.5\n",
    "pHse_V = 0.03# Transition from Serious Hospitalized to Ventilators (When Ventilators capacity is not saturated)\n",
    "tHse_V = 4.0\n",
    "pHse_D = 0.85# Transition from Serious Hospitalized to Death (When Ventilators capacity is saturated)\n",
    "tHse_D = 4.0\n",
    "pV_Hout = 0.45  # Transition from Ventilators to Hospital Recovery (Hout)\n",
    "tV_Hout = 16.0\n",
    "pV_D = 0.55 # Transition from Ventilators to Death\n",
    "tV_D = 12.0\n",
    "pHout_R = 1.0 # Transition from Hospital Recovery (Hout) to Recovered\n",
    "tHout_R = 10.0"
   ]
  },
  {
   "cell_type": "code",
   "execution_count": 144,
   "metadata": {},
   "outputs": [],
   "source": [
    "#state parameters: \n",
    "pE_Ias = 0.30 # Transition from exposed to Asymptomatic Infected\n",
    "tE_Ias = 3.0\n",
    "pE_Imi = 0.55 # Transition from exposed to  Mild Infected\n",
    "tE_Imi = 3.0\n",
    "pE_Icr = 0.04 # Transition from exposed to  Critical Infected\n",
    "tE_Icr = 3.0\n",
    "pE_Ise = 0.11 # Transition from exposed to  Serious Infected\n",
    "tE_Ise = 3.0\n",
    "pIas_R = 1.0  # Transition from Asymptomatic Infected to Recovered\n",
    "tIas_R = 12.0\n",
    "pImi_R = 1.0  # Transition from Mild Infected to Recovered\n",
    "tImi_R = 12.0\n",
    "pIse_Hse = 1 # Transition from Serious Infected to Serious Hospitalized (When Hospital capacity is not saturated)\n",
    "tIse_Hse = 11.0\n",
    "pIse_D = 1.0  # Transition from Serious Infected to Death (When Hospital capacity is saturated)\n",
    "tIse_D = 11.0\n",
    "pIcr_V = 1.0  # Transition from Critical Infected to Ventilator (When Ventilators capacity is not saturated)\n",
    "tIcr_V = 7.0\n",
    "pIcr_D = 1.0  # Transition from Serious Infected to Death (When Ventilators capacity is saturated)\n",
    "tIcr_D = 7.0\n",
    "pHse_R = 0.97 # Transition from Serious Hospitalized to Recovered\n",
    "tHse_R = 3.5\n",
    "pHse_V = 0.03# Transition from Serious Hospitalized to Ventilators (When Ventilators capacity is not saturated)\n",
    "tHse_V = 4.0\n",
    "pHse_D = 0.85# Transition from Serious Hospitalized to Death (When Ventilators capacity is saturated)\n",
    "tHse_D = 4.0\n",
    "pV_Hout = 0.7  # Transition from Ventilators to Hospital Recovery (Hout)\n",
    "tV_Hout = 11.0\n",
    "pV_D = 0.3 # Transition from Ventilators to Death\n",
    "tV_D = 11.0\n",
    "pHout_R = 1.0 # Transition from Hospital Recovery (Hout) to Recovered\n",
    "tHout_R = 10.0"
   ]
  },
  {
   "cell_type": "markdown",
   "metadata": {},
   "source": [
    "### Tiempo medio Infeccioso"
   ]
  },
  {
   "cell_type": "code",
   "execution_count": 145,
   "metadata": {},
   "outputs": [
    {
     "data": {
      "text/plain": [
       "1.0"
      ]
     },
     "execution_count": 145,
     "metadata": {},
     "output_type": "execute_result"
    }
   ],
   "source": [
    "pE_Ias+pE_Imi+pE_Ise+pE_Icr"
   ]
  },
  {
   "cell_type": "code",
   "execution_count": 146,
   "metadata": {},
   "outputs": [
    {
     "data": {
      "text/plain": [
       "11.69"
      ]
     },
     "execution_count": 146,
     "metadata": {},
     "output_type": "execute_result"
    }
   ],
   "source": [
    "pE_Ias*tIas_R + pE_Imi*tImi_R  + pE_Ise*tIse_Hse + pE_Icr*tIcr_V"
   ]
  },
  {
   "cell_type": "markdown",
   "metadata": {},
   "source": [
    "# Simulation\n",
    "\n",
    "## Initial SeroPrev period\n",
    "Initialize Simulation Object, set params and run the simulation. "
   ]
  },
  {
   "cell_type": "code",
   "execution_count": 147,
   "metadata": {},
   "outputs": [
    {
     "name": "stdout",
     "output_type": "stream",
     "text": [
      "InitialCondition Object Data\n"
     ]
    }
   ],
   "source": [
    "simulation = [SEIRHVD(tsim,beta,mu,alpha_new[i],k_I=k_I,k_R = k_R, chi = chi,                      \n",
    "                      SeroPrevFactor=SeroPrevFactor,expinfection=expinfection,initdate = initdate,\n",
    "                      Imi_det = Imi_det,Ias_det = Ias_det,RealIC=state) for i in range(len(alpha_new))]"
   ]
  },
  {
   "cell_type": "markdown",
   "metadata": {},
   "source": [
    "Modify simulation state parameters"
   ]
  },
  {
   "cell_type": "code",
   "execution_count": 148,
   "metadata": {},
   "outputs": [
    {
     "name": "stdout",
     "output_type": "stream",
     "text": [
      "Compartimental model State parameters changed\n"
     ]
    }
   ],
   "source": [
    "for i in range(len(simulation)):\n",
    "    simulation[i].pE_Ias=pE_Ias\n",
    "    simulation[i].tE_Ias=tE_Ias\n",
    "    simulation[i].pE_Imi=pE_Imi\n",
    "    simulation[i].tE_Imi=tE_Imi\n",
    "    simulation[i].pE_Icr=pE_Icr\n",
    "    simulation[i].tE_Icr=tE_Icr\n",
    "    simulation[i].pE_Ise=pE_Ise\n",
    "    simulation[i].tE_Ise=tE_Ise\n",
    "    simulation[i].pIas_R=pIas_R\n",
    "    simulation[i].tIas_R =tIas_R\n",
    "    simulation[i].pImi_R=pImi_R\n",
    "    simulation[i].tImi_R =tImi_R\n",
    "    simulation[i].pIse_Hse=pIse_Hse\n",
    "    simulation[i].tIse_Hse=tIse_Hse\n",
    "    simulation[i].pIse_D=pIse_D\n",
    "    simulation[i].tIse_D=tIse_D\n",
    "    simulation[i].pIcr_V=pIcr_V\n",
    "    simulation[i].tIcr_V=tIcr_V\n",
    "    simulation[i].pIcr_D=pIcr_D\n",
    "    simulation[i].tIcr_D=tIcr_D\n",
    "    simulation[i].pHse_R=pHse_R\n",
    "    simulation[i].tHse_R =tHse_R\n",
    "    simulation[i].pHse_V=pHse_V\n",
    "    simulation[i].tHse_V=tHse_V\n",
    "    simulation[i].pHse_D=pHse_D\n",
    "    simulation[i].tHse_D=tHse_D\n",
    "    simulation[i].pV_Hout=pV_Hout\n",
    "    simulation[i].tV_Hout =tV_Hout\n",
    "    simulation[i].pV_D=pV_D\n",
    "    simulation[i].tV_D =tV_D\n",
    "    simulation[i].pHout_R=pHout_R\n",
    "    simulation[i].tHout_R=tHout_R\n",
    "    simulation[i].setnewparams()"
   ]
  },
  {
   "cell_type": "markdown",
   "metadata": {},
   "source": [
    "### Setting new params"
   ]
  },
  {
   "cell_type": "markdown",
   "metadata": {},
   "source": [
    "## Run simulation\n",
    "\n",
    "* **integr_sci**: Fast solver, sometimes stiffness beat it  \n",
    "* **integr:** Slow solver, more robust with stiffness  "
   ]
  },
  {
   "cell_type": "code",
   "execution_count": 149,
   "metadata": {},
   "outputs": [],
   "source": [
    "def simulate(simulation,i,tsim):\n",
    "    simulation[i].integr_sci(0,tsim,0.1)\n",
    "    return simulation[i]"
   ]
  },
  {
   "cell_type": "markdown",
   "metadata": {},
   "source": [
    "simulation[0].integr_sci(0,1000,0.1)"
   ]
  },
  {
   "cell_type": "code",
   "execution_count": 150,
   "metadata": {},
   "outputs": [
    {
     "name": "stdout",
     "output_type": "stream",
     "text": [
      "[Parallel(n_jobs=12)]: Using backend LokyBackend with 12 concurrent workers.\n",
      "[Parallel(n_jobs=12)]: Done   1 tasks      | elapsed:    1.1s\n"
     ]
    },
    {
     "ename": "IndexError",
     "evalue": "list index out of range",
     "output_type": "error",
     "traceback": [
      "\u001b[0;31m---------------------------------------------------------------------------\u001b[0m",
      "\u001b[0;31m_RemoteTraceback\u001b[0m                          Traceback (most recent call last)",
      "\u001b[0;31m_RemoteTraceback\u001b[0m: \n\"\"\"\nTraceback (most recent call last):\n  File \"/home/samuel/.local/lib/python3.8/site-packages/joblib/externals/loky/process_executor.py\", line 431, in _process_worker\n    r = call_item()\n  File \"/home/samuel/.local/lib/python3.8/site-packages/joblib/externals/loky/process_executor.py\", line 285, in __call__\n    return self.fn(*self.args, **self.kwargs)\n  File \"/home/samuel/.local/lib/python3.8/site-packages/joblib/_parallel_backends.py\", line 595, in __call__\n    return self.func(*args, **kwargs)\n  File \"/home/samuel/.local/lib/python3.8/site-packages/joblib/parallel.py\", line 262, in __call__\n    return [func(*args, **kwargs)\n  File \"/home/samuel/.local/lib/python3.8/site-packages/joblib/parallel.py\", line 262, in <listcomp>\n    return [func(*args, **kwargs)\n  File \"<ipython-input-149-c017e371ef20>\", line 2, in simulate\n  File \"../src/SEIRHVD/class_SEIRHUVD6.py\", line 1179, in integr_sci\n    sol = solve_ivp(model_SEIR_graph,(t0,T), initcond,method='LSODA',t_eval=list(range(t0,T)))\n  File \"/home/samuel/.local/lib/python3.8/site-packages/scipy/integrate/_ivp/ivp.py\", line 576, in solve_ivp\n    message = solver.step()\n  File \"/home/samuel/.local/lib/python3.8/site-packages/scipy/integrate/_ivp/base.py\", line 181, in step\n    success, message = self._step_impl()\n  File \"/home/samuel/.local/lib/python3.8/site-packages/scipy/integrate/_ivp/lsoda.py\", line 148, in _step_impl\n    solver._y, solver.t = integrator.run(\n  File \"/home/samuel/.local/lib/python3.8/site-packages/scipy/integrate/_ode.py\", line 1346, in run\n    y1, t, istate = self.runner(*args)\n  File \"/home/samuel/.local/lib/python3.8/site-packages/scipy/integrate/_ivp/base.py\", line 138, in fun\n    return self.fun_single(t, y)\n  File \"/home/samuel/.local/lib/python3.8/site-packages/scipy/integrate/_ivp/base.py\", line 20, in fun_wrapped\n    return np.asarray(fun(t, y), dtype=dtype)\n  File \"../src/SEIRHVD/class_SEIRHUVD6.py\", line 1120, in model_SEIR_graph\n    ydot[0]=self.dS(t,y[0],y[1],y[4],y[5],y[6],y[7],y[25],y[27])\n  File \"../src/SEIRHVD/class_SEIRHUVD6.py\", line 329, in <lambda>\n    self.dS=lambda t,S,E,Ias,Imi,Ise,Icr,R,D: self.chi(t)-self.alpha(t)*self.beta*S*(self.expinfection*E + Ias+Imi+Ise+Icr)/(self.N+self.k_I*(Ias+Imi+Ise+Icr))+self.eta*R\n  File \"../src/utils/Events.py\", line 24, in f\n    aux += i(t)\n  File \"../src/utils/Events.py\", line 55, in auxf\n    return values[j]*(expit(10*(t-days[j][0])) - expit(10*(t-days[j][1])))\nIndexError: list index out of range\n\"\"\"",
      "\nThe above exception was the direct cause of the following exception:\n",
      "\u001b[0;31mIndexError\u001b[0m                                Traceback (most recent call last)",
      "\u001b[0;32m<ipython-input-150-2864cc2dd7f2>\u001b[0m in \u001b[0;36m<module>\u001b[0;34m\u001b[0m\n\u001b[1;32m      1\u001b[0m \u001b[0mnum_cores\u001b[0m \u001b[0;34m=\u001b[0m \u001b[0mmultiprocessing\u001b[0m\u001b[0;34m.\u001b[0m\u001b[0mcpu_count\u001b[0m\u001b[0;34m(\u001b[0m\u001b[0;34m)\u001b[0m\u001b[0;34m\u001b[0m\u001b[0;34m\u001b[0m\u001b[0m\n\u001b[0;32m----> 2\u001b[0;31m \u001b[0msims\u001b[0m \u001b[0;34m=\u001b[0m \u001b[0mParallel\u001b[0m\u001b[0;34m(\u001b[0m\u001b[0mn_jobs\u001b[0m\u001b[0;34m=\u001b[0m\u001b[0mnum_cores\u001b[0m\u001b[0;34m,\u001b[0m \u001b[0mverbose\u001b[0m\u001b[0;34m=\u001b[0m\u001b[0;36m50\u001b[0m\u001b[0;34m)\u001b[0m\u001b[0;34m(\u001b[0m\u001b[0mdelayed\u001b[0m\u001b[0;34m(\u001b[0m\u001b[0msimulate\u001b[0m\u001b[0;34m)\u001b[0m\u001b[0;34m(\u001b[0m\u001b[0msimulation\u001b[0m\u001b[0;34m,\u001b[0m\u001b[0mi\u001b[0m\u001b[0;34m,\u001b[0m\u001b[0mtsim\u001b[0m\u001b[0;34m)\u001b[0m \u001b[0;32mfor\u001b[0m \u001b[0mi\u001b[0m \u001b[0;32min\u001b[0m \u001b[0mrange\u001b[0m\u001b[0;34m(\u001b[0m\u001b[0mlen\u001b[0m\u001b[0;34m(\u001b[0m\u001b[0msimulation\u001b[0m\u001b[0;34m)\u001b[0m\u001b[0;34m)\u001b[0m\u001b[0;34m)\u001b[0m\u001b[0;34m\u001b[0m\u001b[0;34m\u001b[0m\u001b[0m\n\u001b[0m\u001b[1;32m      3\u001b[0m \u001b[0msimulation\u001b[0m \u001b[0;34m=\u001b[0m \u001b[0msims\u001b[0m\u001b[0;34m\u001b[0m\u001b[0;34m\u001b[0m\u001b[0m\n\u001b[1;32m      4\u001b[0m \u001b[0mprint\u001b[0m\u001b[0;34m(\u001b[0m\u001b[0;34m'ready'\u001b[0m\u001b[0;34m)\u001b[0m\u001b[0;34m\u001b[0m\u001b[0;34m\u001b[0m\u001b[0m\n",
      "\u001b[0;32m~/.local/lib/python3.8/site-packages/joblib/parallel.py\u001b[0m in \u001b[0;36m__call__\u001b[0;34m(self, iterable)\u001b[0m\n\u001b[1;32m   1059\u001b[0m \u001b[0;34m\u001b[0m\u001b[0m\n\u001b[1;32m   1060\u001b[0m             \u001b[0;32mwith\u001b[0m \u001b[0mself\u001b[0m\u001b[0;34m.\u001b[0m\u001b[0m_backend\u001b[0m\u001b[0;34m.\u001b[0m\u001b[0mretrieval_context\u001b[0m\u001b[0;34m(\u001b[0m\u001b[0;34m)\u001b[0m\u001b[0;34m:\u001b[0m\u001b[0;34m\u001b[0m\u001b[0;34m\u001b[0m\u001b[0m\n\u001b[0;32m-> 1061\u001b[0;31m                 \u001b[0mself\u001b[0m\u001b[0;34m.\u001b[0m\u001b[0mretrieve\u001b[0m\u001b[0;34m(\u001b[0m\u001b[0;34m)\u001b[0m\u001b[0;34m\u001b[0m\u001b[0;34m\u001b[0m\u001b[0m\n\u001b[0m\u001b[1;32m   1062\u001b[0m             \u001b[0;31m# Make sure that we get a last message telling us we are done\u001b[0m\u001b[0;34m\u001b[0m\u001b[0;34m\u001b[0m\u001b[0;34m\u001b[0m\u001b[0m\n\u001b[1;32m   1063\u001b[0m             \u001b[0melapsed_time\u001b[0m \u001b[0;34m=\u001b[0m \u001b[0mtime\u001b[0m\u001b[0;34m.\u001b[0m\u001b[0mtime\u001b[0m\u001b[0;34m(\u001b[0m\u001b[0;34m)\u001b[0m \u001b[0;34m-\u001b[0m \u001b[0mself\u001b[0m\u001b[0;34m.\u001b[0m\u001b[0m_start_time\u001b[0m\u001b[0;34m\u001b[0m\u001b[0;34m\u001b[0m\u001b[0m\n",
      "\u001b[0;32m~/.local/lib/python3.8/site-packages/joblib/parallel.py\u001b[0m in \u001b[0;36mretrieve\u001b[0;34m(self)\u001b[0m\n\u001b[1;32m    938\u001b[0m             \u001b[0;32mtry\u001b[0m\u001b[0;34m:\u001b[0m\u001b[0;34m\u001b[0m\u001b[0;34m\u001b[0m\u001b[0m\n\u001b[1;32m    939\u001b[0m                 \u001b[0;32mif\u001b[0m \u001b[0mgetattr\u001b[0m\u001b[0;34m(\u001b[0m\u001b[0mself\u001b[0m\u001b[0;34m.\u001b[0m\u001b[0m_backend\u001b[0m\u001b[0;34m,\u001b[0m \u001b[0;34m'supports_timeout'\u001b[0m\u001b[0;34m,\u001b[0m \u001b[0;32mFalse\u001b[0m\u001b[0;34m)\u001b[0m\u001b[0;34m:\u001b[0m\u001b[0;34m\u001b[0m\u001b[0;34m\u001b[0m\u001b[0m\n\u001b[0;32m--> 940\u001b[0;31m                     \u001b[0mself\u001b[0m\u001b[0;34m.\u001b[0m\u001b[0m_output\u001b[0m\u001b[0;34m.\u001b[0m\u001b[0mextend\u001b[0m\u001b[0;34m(\u001b[0m\u001b[0mjob\u001b[0m\u001b[0;34m.\u001b[0m\u001b[0mget\u001b[0m\u001b[0;34m(\u001b[0m\u001b[0mtimeout\u001b[0m\u001b[0;34m=\u001b[0m\u001b[0mself\u001b[0m\u001b[0;34m.\u001b[0m\u001b[0mtimeout\u001b[0m\u001b[0;34m)\u001b[0m\u001b[0;34m)\u001b[0m\u001b[0;34m\u001b[0m\u001b[0;34m\u001b[0m\u001b[0m\n\u001b[0m\u001b[1;32m    941\u001b[0m                 \u001b[0;32melse\u001b[0m\u001b[0;34m:\u001b[0m\u001b[0;34m\u001b[0m\u001b[0;34m\u001b[0m\u001b[0m\n\u001b[1;32m    942\u001b[0m                     \u001b[0mself\u001b[0m\u001b[0;34m.\u001b[0m\u001b[0m_output\u001b[0m\u001b[0;34m.\u001b[0m\u001b[0mextend\u001b[0m\u001b[0;34m(\u001b[0m\u001b[0mjob\u001b[0m\u001b[0;34m.\u001b[0m\u001b[0mget\u001b[0m\u001b[0;34m(\u001b[0m\u001b[0;34m)\u001b[0m\u001b[0;34m)\u001b[0m\u001b[0;34m\u001b[0m\u001b[0;34m\u001b[0m\u001b[0m\n",
      "\u001b[0;32m~/.local/lib/python3.8/site-packages/joblib/_parallel_backends.py\u001b[0m in \u001b[0;36mwrap_future_result\u001b[0;34m(future, timeout)\u001b[0m\n\u001b[1;32m    540\u001b[0m         AsyncResults.get from multiprocessing.\"\"\"\n\u001b[1;32m    541\u001b[0m         \u001b[0;32mtry\u001b[0m\u001b[0;34m:\u001b[0m\u001b[0;34m\u001b[0m\u001b[0;34m\u001b[0m\u001b[0m\n\u001b[0;32m--> 542\u001b[0;31m             \u001b[0;32mreturn\u001b[0m \u001b[0mfuture\u001b[0m\u001b[0;34m.\u001b[0m\u001b[0mresult\u001b[0m\u001b[0;34m(\u001b[0m\u001b[0mtimeout\u001b[0m\u001b[0;34m=\u001b[0m\u001b[0mtimeout\u001b[0m\u001b[0;34m)\u001b[0m\u001b[0;34m\u001b[0m\u001b[0;34m\u001b[0m\u001b[0m\n\u001b[0m\u001b[1;32m    543\u001b[0m         \u001b[0;32mexcept\u001b[0m \u001b[0mCfTimeoutError\u001b[0m \u001b[0;32mas\u001b[0m \u001b[0me\u001b[0m\u001b[0;34m:\u001b[0m\u001b[0;34m\u001b[0m\u001b[0;34m\u001b[0m\u001b[0m\n\u001b[1;32m    544\u001b[0m             \u001b[0;32mraise\u001b[0m \u001b[0mTimeoutError\u001b[0m \u001b[0;32mfrom\u001b[0m \u001b[0me\u001b[0m\u001b[0;34m\u001b[0m\u001b[0;34m\u001b[0m\u001b[0m\n",
      "\u001b[0;32m~/anaconda3/lib/python3.8/concurrent/futures/_base.py\u001b[0m in \u001b[0;36mresult\u001b[0;34m(self, timeout)\u001b[0m\n\u001b[1;32m    437\u001b[0m                 \u001b[0;32mraise\u001b[0m \u001b[0mCancelledError\u001b[0m\u001b[0;34m(\u001b[0m\u001b[0;34m)\u001b[0m\u001b[0;34m\u001b[0m\u001b[0;34m\u001b[0m\u001b[0m\n\u001b[1;32m    438\u001b[0m             \u001b[0;32melif\u001b[0m \u001b[0mself\u001b[0m\u001b[0;34m.\u001b[0m\u001b[0m_state\u001b[0m \u001b[0;34m==\u001b[0m \u001b[0mFINISHED\u001b[0m\u001b[0;34m:\u001b[0m\u001b[0;34m\u001b[0m\u001b[0;34m\u001b[0m\u001b[0m\n\u001b[0;32m--> 439\u001b[0;31m                 \u001b[0;32mreturn\u001b[0m \u001b[0mself\u001b[0m\u001b[0;34m.\u001b[0m\u001b[0m__get_result\u001b[0m\u001b[0;34m(\u001b[0m\u001b[0;34m)\u001b[0m\u001b[0;34m\u001b[0m\u001b[0;34m\u001b[0m\u001b[0m\n\u001b[0m\u001b[1;32m    440\u001b[0m             \u001b[0;32melse\u001b[0m\u001b[0;34m:\u001b[0m\u001b[0;34m\u001b[0m\u001b[0;34m\u001b[0m\u001b[0m\n\u001b[1;32m    441\u001b[0m                 \u001b[0;32mraise\u001b[0m \u001b[0mTimeoutError\u001b[0m\u001b[0;34m(\u001b[0m\u001b[0;34m)\u001b[0m\u001b[0;34m\u001b[0m\u001b[0;34m\u001b[0m\u001b[0m\n",
      "\u001b[0;32m~/anaconda3/lib/python3.8/concurrent/futures/_base.py\u001b[0m in \u001b[0;36m__get_result\u001b[0;34m(self)\u001b[0m\n\u001b[1;32m    386\u001b[0m     \u001b[0;32mdef\u001b[0m \u001b[0m__get_result\u001b[0m\u001b[0;34m(\u001b[0m\u001b[0mself\u001b[0m\u001b[0;34m)\u001b[0m\u001b[0;34m:\u001b[0m\u001b[0;34m\u001b[0m\u001b[0;34m\u001b[0m\u001b[0m\n\u001b[1;32m    387\u001b[0m         \u001b[0;32mif\u001b[0m \u001b[0mself\u001b[0m\u001b[0;34m.\u001b[0m\u001b[0m_exception\u001b[0m\u001b[0;34m:\u001b[0m\u001b[0;34m\u001b[0m\u001b[0;34m\u001b[0m\u001b[0m\n\u001b[0;32m--> 388\u001b[0;31m             \u001b[0;32mraise\u001b[0m \u001b[0mself\u001b[0m\u001b[0;34m.\u001b[0m\u001b[0m_exception\u001b[0m\u001b[0;34m\u001b[0m\u001b[0;34m\u001b[0m\u001b[0m\n\u001b[0m\u001b[1;32m    389\u001b[0m         \u001b[0;32melse\u001b[0m\u001b[0;34m:\u001b[0m\u001b[0;34m\u001b[0m\u001b[0;34m\u001b[0m\u001b[0m\n\u001b[1;32m    390\u001b[0m             \u001b[0;32mreturn\u001b[0m \u001b[0mself\u001b[0m\u001b[0;34m.\u001b[0m\u001b[0m_result\u001b[0m\u001b[0;34m\u001b[0m\u001b[0;34m\u001b[0m\u001b[0m\n",
      "\u001b[0;31mIndexError\u001b[0m: list index out of range"
     ]
    }
   ],
   "source": [
    "num_cores = multiprocessing.cpu_count()\n",
    "sims = Parallel(n_jobs=num_cores, verbose=50)(delayed(simulate)(simulation,i,tsim) for i in range(len(simulation)))\n",
    "simulation = sims\n",
    "print('ready')"
   ]
  },
  {
   "cell_type": "markdown",
   "metadata": {},
   "source": [
    "# Analysis"
   ]
  },
  {
   "cell_type": "code",
   "execution_count": null,
   "metadata": {},
   "outputs": [],
   "source": [
    "saveplot = False\n",
    "if saveplot:\n",
    "    %matplotlib inline\n",
    "#%matplotlib inline\n",
    "%matplotlib tk\n",
    "# Big Screen\n",
    "plt.rcParams[\"figure.figsize\"] = 38.40, 20.56 #19.20,10.80#8,6\n",
    "# Small Screen\n",
    "#plt.rcParams[\"figure.figsize\"] = 19.2, 10.80 #19.20,10.80#8,6\n",
    "plt.rcParams.update({\n",
    "    \"text.usetex\": False,\n",
    "    \"font.family\": \"sans-serif\",\n",
    "    \"font.sans-serif\":[\"Arial\"]})\n"
   ]
  },
  {
   "cell_type": "markdown",
   "metadata": {},
   "source": [
    "# Plot"
   ]
  },
  {
   "cell_type": "code",
   "execution_count": 113,
   "metadata": {},
   "outputs": [],
   "source": [
    "# Days to plot\n",
    "days = 500\n",
    "t_end = 50\n",
    "\n",
    "enddate = initdate + timedelta(days=365)\n",
    "enddate = datetime(2021,6,15)\n",
    "\n",
    "\n",
    "dates = [[initdate+timedelta(days=int(i)) for i in simulation[j].t] for j in range(len(simulation))]\n",
    "SeroPrevalence = [simulation[i].I_ac[-1]/simulation[i].population for i in range(len(simulation))]\n",
    "SeroPrevalenceDet = [simulation[i].I_ac_det[-1]/simulation[i].population for i in range(len(simulation))]"
   ]
  },
  {
   "cell_type": "code",
   "execution_count": 103,
   "metadata": {},
   "outputs": [
    {
     "data": {
      "text/plain": [
       "datetime.datetime(2023, 12, 9, 0, 0)"
      ]
     },
     "execution_count": 103,
     "metadata": {},
     "output_type": "execute_result"
    }
   ],
   "source": [
    "simulation[0].dates[-1]"
   ]
  },
  {
   "cell_type": "markdown",
   "metadata": {},
   "source": [
    "### Pantalla"
   ]
  },
  {
   "cell_type": "code",
   "execution_count": 104,
   "metadata": {},
   "outputs": [],
   "source": [
    "pantalla = '1080'\n",
    "if pantalla == '4k':\n",
    "    fontsize_title = 22\n",
    "    fontsize_suptitle = 25\n",
    "    fontsize_label = 18\n",
    "    fontsize_legend = 14\n",
    "\n",
    "#1080\n",
    "elif pantalla == '1080':\n",
    "    fontsize_title = 15\n",
    "    fontsize_suptitle = 16\n",
    "    fontsize_label = 10\n",
    "    fontsize_legend = 12\n",
    "\n",
    "pĺotlinewidth = 2\n",
    "datelinewidth = 1.5"
   ]
  },
  {
   "cell_type": "markdown",
   "metadata": {},
   "source": [
    "# Grid Plot"
   ]
  },
  {
   "cell_type": "code",
   "execution_count": null,
   "metadata": {},
   "outputs": [],
   "source": []
  },
  {
   "cell_type": "code",
   "execution_count": 105,
   "metadata": {},
   "outputs": [],
   "source": [
    "renewalFactor = [0]\n",
    "sim_InfDiario = False\n",
    "sim_InfEPI = True\n",
    "\n",
    "colors = plt.cm.rainbow_r(np.linspace(0,1,len(simulation)))\n",
    "\n",
    "fig, axs = plt.subplots(2, 2)\n",
    "\n",
    "\n",
    "for i in range(len(simulation)):\n",
    "    if type(mu) == list:\n",
    "        axs[0,0].plot(dates[i],simulation[i].I_det,linewidth=pĺotlinewidth,label='mu: '+str(mu[i])+' | SP_R: '+str(round(100*SeroPrevalence[i],2))+'%'+' | SP_D:'+str(round(100*SeroPrevalenceDet[i],2))+'%',color=colors[i])\n",
    "    if type(alpha_new) == list:\n",
    "        axs[0,0].plot(dates[i],simulation[i].I_det,linewidth=pĺotlinewidth,label='Movilidad: '+str(escenarios[i])+'%',color=colors[i])\n",
    "axs[0,0].set_title('Infectados Activos Detectados',fontsize=fontsize_title)\n",
    "\n",
    "axs[0,0].scatter(state.Ir_dates,state.Ir,color='grey',label='DP3 med_mov 7',zorder=10)\n",
    "\n",
    "\n",
    "# Accumulated deaths\n",
    "for i in range(len(simulation)):\n",
    "    if type(mu) == list:\n",
    "        axs[0,1].plot(dates[i],simulation[i].B,label='mu: '+str(mu[i]),color=colors[i],linewidth=pĺotlinewidth)\n",
    "    if type(alpha_new) == list:\n",
    "        axs[0,1].plot(dates[i],simulation[i].B,label='Movilidad: '+str(escenarios[i])+'%',color=colors[i],linewidth=pĺotlinewidth)\n",
    "    \n",
    "axs[0,1].set_title('Fallecidos Acumulados (PCR+)',fontsize=fontsize_title)\n",
    "\n",
    "axs[0,1].scatter(state.Br_dates,state.Br,label='DP50',color='grey',zorder=10)\n",
    "\n",
    "\n",
    "for i in range(len(simulation)):\n",
    "    if type(mu) == list:\n",
    "        axs[1,0].plot(dates[i],simulation[i].I_d_det,label='mu: '+str(mu[i]),color=colors[i],linewidth=pĺotlinewidth)\n",
    "    if type(alpha_new) == list:\n",
    "        axs[1,0].plot(dates[i],simulation[i].I_d_det,label='Movilidad: '+str(escenarios[i])+'%',color=colors[i],linewidth=pĺotlinewidth)\n",
    "axs[1,0].set_title('Nuevos Infectados Diarios Detectados',fontsize=fontsize_title)\n",
    "\n",
    "\n",
    "if False:#sim_InfEPI:\n",
    "    axs[1,0].scatter(state.I_d_r_dates,state.I_d_r,label='Informe EPI',color='black',zorder=5)\n",
    "if sim_InfDiario:\n",
    "    axs[1,0].scatter(I_week_ra_dates,I_week_ra,label='Informe diario (RA5D)',color='red',zorder=5)  \n",
    "    axs[1,0].plot(dates_I_d,I_d,label='Informe diario',color='blue',zorder=10,linestyle='dashed')\n",
    "\n",
    "#axs[1,0].scatter(state.I_d_r_dates,state.I_d_r,label='DP5',color='black',zorder=5)\n",
    "axs[1,0].scatter(state.I_d_r_dates,I_d_roll,label='DP3 med_mov 7',color='grey',zorder=5)\n",
    "    \n",
    "\n",
    "axs[1,0].legend(loc='upper left')\n",
    "\n",
    "axs[1,1].plot(state.UCI_dates,capacidadUCIcovid-np.array(state.UCI_use_noncovid),label='Limite uso COVID',color='black',zorder=10)\n",
    "for i in range(len(simulation)):\n",
    "    if type(mu) == list:\n",
    "        axs[1,1].plot(dates[i],simulation[i].V,label='mu: '+str(mu[i]),color=colors[i],linewidth=pĺotlinewidth)\n",
    "    #axs[1,1].plot(dates[i],simulation[i].V_need,linestyle='dashed',color=colors[i])\n",
    "    if type(alpha_new) == list:\n",
    "        axs[1,1].plot(dates[i],simulation[i].V,label='Mov: '+str(escenarios[i])+'%',color=colors[i],linewidth=pĺotlinewidth)\n",
    "axs[1,1].set_title('Uso UCI Covid',fontsize=fontsize_title)\n",
    "\n",
    "axs[1,1].scatter(state.UCI_dates,state.UCI_use_covid,label='DP58',color='grey',zorder=10)\n",
    "axs[1,1].plot(simulation[0].dates,simulation[0].V_cap, linestyle = 'dashed', color = 'black')\n",
    "\n",
    "\n",
    "# Ephemerides\n",
    "for i in mob_dates:\n",
    "    axs[0,0].axvline(x = i, linestyle = 'dashed',linewidth=datelinewidth)\n",
    "    axs[0,1].axvline(x = i, linestyle = 'dashed',linewidth=datelinewidth)\n",
    "    axs[1,0].axvline(x = i, linestyle = 'dashed',linewidth=datelinewidth)\n",
    "    axs[1,1].axvline(x = i, linestyle = 'dashed',linewidth=datelinewidth)\n",
    " \n",
    "axs[0,0].axvline(x = datetime(2021,4,11), linestyle = 'dashed',linewidth=datelinewidth,color='red')\n",
    "axs[0,0].axvline(x = datetime(2021,5,3), linestyle = 'dashed',linewidth=datelinewidth,color='grey')\n",
    "axs[0,1].axvline(x = datetime(2021,4,11), linestyle = 'dashed',linewidth=datelinewidth,color='red')\n",
    "axs[0,1].axvline(x = datetime(2021,5,3), linestyle = 'dashed',linewidth=datelinewidth,color='grey')\n",
    "axs[1,0].axvline(x = datetime(2021,4,11), linestyle = 'dashed',linewidth=datelinewidth,color='red')\n",
    "axs[1,0].axvline(x = datetime(2021,5,3), linestyle = 'dashed',linewidth=datelinewidth,color='grey')\n",
    "axs[1,1].axvline(x = datetime(2021,4,11), linestyle = 'dashed',linewidth=datelinewidth,color='red')\n",
    "axs[1,1].axvline(x = datetime(2021,5,3), linestyle = 'dashed',linewidth=datelinewidth,color='grey')\n",
    "\n",
    "# Format and shit\n",
    "\n",
    "# Grid\n",
    "axs[0,0].grid(color='grey', linestyle='dotted', linewidth=0.5)\n",
    "axs[0,1].grid(color='grey', linestyle='dotted', linewidth=0.5)\n",
    "axs[1,0].grid(color='grey', linestyle='dotted', linewidth=0.5)\n",
    "axs[1,1].grid(color='grey', linestyle='dotted', linewidth=0.5)\n",
    "\n",
    "# x axis: Date range\n",
    "axs[0,0].set_xlim(initdate,enddate)\n",
    "axs[0,1].set_xlim(initdate,enddate)\n",
    "axs[1,0].set_xlim(initdate,enddate)\n",
    "axs[1,1].set_xlim(initdate,enddate)\n",
    "\n",
    "# x axis: Date interval\n",
    "interval = 30\n",
    "#axs[0,0].xaxis.set_major_locator(mdates.DayLocator(interval=interval))\n",
    "#axs[0,1].xaxis.set_major_locator(mdates.DayLocator(interval=interval))\n",
    "#axs[1,0].xaxis.set_major_locator(mdates.DayLocator(interval=interval))\n",
    "#axs[1,1].xaxis.set_major_locator(mdates.DayLocator(interval=interval))\n",
    "\n",
    "# x axis: Date format\n",
    "axs[0,0].get_xaxis().set_major_formatter(mdates.DateFormatter('%d-%m'))\n",
    "axs[0,1].get_xaxis().set_major_formatter(mdates.DateFormatter('%d-%m'))\n",
    "axs[1,0].get_xaxis().set_major_formatter(mdates.DateFormatter('%d-%m'))\n",
    "axs[1,1].get_xaxis().set_major_formatter(mdates.DateFormatter('%d-%m'))\n",
    "\n",
    "# Y axis: Format\n",
    "axs[0,0].get_yaxis().set_major_formatter(matplotlib.ticker.FuncFormatter(lambda x, p: format(int(x), ',')))\n",
    "axs[0,1].get_yaxis().set_major_formatter(matplotlib.ticker.FuncFormatter(lambda x, p: format(int(x), ',')))\n",
    "axs[1,0].get_yaxis().set_major_formatter(matplotlib.ticker.FuncFormatter(lambda x, p: format(int(x), ',')))\n",
    "axs[1,1].get_yaxis().set_major_formatter(matplotlib.ticker.FuncFormatter(lambda x, p: format(int(x), ',')))\n",
    "\n",
    "# Y axis: Range\n",
    "#axs[0,0].set_ylim(0,5e4)\n",
    "axs[0,1].set_ylim(0,50000)\n",
    "#axs[1,0].set_ylim(0,10000)\n",
    "#axs[1,1].set_ylim(0,2.5e3)\n",
    "#axs[0,0].set_yscale('log')\n",
    "\n",
    "# Font-size\n",
    "axs[0,0].tick_params(labelsize=fontsize_label)\n",
    "axs[0,1].tick_params(labelsize=fontsize_label)\n",
    "axs[1,0].tick_params(labelsize=fontsize_label)\n",
    "axs[1,1].tick_params(labelsize=fontsize_label)\n",
    "\n",
    "# Legend\n",
    "axs[0,0].legend(loc='lower right',fontsize=fontsize_legend)\n",
    "axs[0,1].legend(loc='lower right',fontsize=fontsize_legend)\n",
    "axs[1,0].legend(loc='lower right',fontsize=fontsize_legend)\n",
    "axs[1,1].legend(loc='lower right',fontsize=fontsize_legend)\n",
    "#axs[1,1].legend(bbox_to_anchor=(0.33, 0.52),fontsize=fontsize_legend)\n",
    "\n",
    "\n",
    "fig.suptitle(title,fontsize=fontsize_suptitle)\n",
    "fig.show()"
   ]
  },
  {
   "cell_type": "code",
   "execution_count": 106,
   "metadata": {},
   "outputs": [],
   "source": [
    "renewalFactor = [0]\n",
    "sim_InfDiario = False\n",
    "sim_InfEPI = True\n",
    "\n",
    "colors = plt.cm.rainbow_r(np.linspace(0,1,len(simulation)))\n",
    "\n",
    "fig, axs = plt.subplots(2, 2)\n",
    "\n",
    "\n",
    "for i in range(len(simulation)):\n",
    "    if type(mu) == list:\n",
    "        axs[0,0].plot(dates[i],simulation[i].I_det,linewidth=pĺotlinewidth,label='mu: '+str(mu[i])+' | SP_R: '+str(round(100*SeroPrevalence[i],2))+'%'+' | SP_D:'+str(round(100*SeroPrevalenceDet[i],2))+'%',color=colors[i])\n",
    "    if type(alpha_new) == list:\n",
    "        axs[0,0].plot(dates[i],simulation[i].I_det,linewidth=pĺotlinewidth,label='Movilidad: '+str(escenarios[i])+'%',color=colors[i])\n",
    "axs[0,0].set_title('Infectados Activos Detectados',fontsize=fontsize_title)\n",
    "\n",
    "axs[0,0].scatter(state.Ir_dates,state.Ir,color='grey',label='DP3 med_mov 7',zorder=10)\n",
    "\n",
    "\n",
    "# Accumulated deaths\n",
    "for i in range(len(simulation)):\n",
    "    if type(mu) == list:\n",
    "        axs[0,1].plot(dates[i],simulation[i].B,label='mu: '+str(mu[i]),color=colors[i],linewidth=pĺotlinewidth)\n",
    "    if type(alpha_new) == list:\n",
    "        axs[0,1].plot(dates[i],simulation[i].B,label='Movilidad: '+str(escenarios[i])+'%',color=colors[i],linewidth=pĺotlinewidth)\n",
    "    \n",
    "axs[0,1].set_title('Fallecidos Acumulados (PCR+)',fontsize=fontsize_title)\n",
    "\n",
    "axs[0,1].scatter(state.Br_dates,state.Br,label='DP50',color='grey',zorder=10)\n",
    "\n",
    "\n",
    "for i in range(len(simulation)):\n",
    "    if type(mu) == list:\n",
    "        axs[1,0].plot(dates[i],simulation[i].I_d_det,label='mu: '+str(mu[i]),color=colors[i],linewidth=pĺotlinewidth)\n",
    "    if type(alpha_new) == list:\n",
    "        axs[1,0].plot(dates[i],simulation[i].I_d_det,label='Movilidad: '+str(escenarios[i])+'%',color=colors[i],linewidth=pĺotlinewidth)\n",
    "axs[1,0].set_title('Nuevos Infectados Diarios Detectados',fontsize=fontsize_title)\n",
    "\n",
    "\n",
    "if False:#sim_InfEPI:\n",
    "    axs[1,0].scatter(state.I_d_r_dates,state.I_d_r,label='Informe EPI',color='black',zorder=5)\n",
    "if sim_InfDiario:\n",
    "    axs[1,0].scatter(I_week_ra_dates,I_week_ra,label='Informe diario (RA5D)',color='red',zorder=5)  \n",
    "    axs[1,0].plot(dates_I_d,I_d,label='Informe diario',color='blue',zorder=10,linestyle='dashed')\n",
    "\n",
    "#axs[1,0].scatter(state.I_d_r_dates,state.I_d_r,label='DP5',color='black',zorder=5)\n",
    "axs[1,0].scatter(state.I_d_r_dates,I_d_roll,label='DP3 med_mov 7',color='grey',zorder=5)\n",
    "    \n",
    "\n",
    "axs[1,0].legend(loc='upper left')\n",
    "\n",
    "axs[1,1].plot(state.UCI_dates,capacidadUCIcovid-np.array(state.UCI_use_noncovid),label='Limite uso COVID',color='black',zorder=10)\n",
    "for i in range(len(simulation)):\n",
    "    if type(mu) == list:\n",
    "        axs[1,1].plot(dates[i],simulation[i].V,label='mu: '+str(mu[i]),color=colors[i],linewidth=pĺotlinewidth)\n",
    "    #axs[1,1].plot(dates[i],simulation[i].V_need,linestyle='dashed',color=colors[i])\n",
    "    if type(alpha_new) == list:\n",
    "        axs[1,1].plot(dates[i],simulation[i].V,label='Mov: '+str(escenarios[i])+'%',color=colors[i],linewidth=pĺotlinewidth)\n",
    "axs[1,1].set_title('Uso UCI Covid',fontsize=fontsize_title)\n",
    "\n",
    "axs[1,1].scatter(state.UCI_dates,state.UCI_use_covid,label='DP58',color='grey',zorder=10)\n",
    "axs[1,1].plot(simulation[0].dates,simulation[0].V_cap, linestyle = 'dashed', color = 'black')\n",
    "\n",
    "\n",
    "# Ephemerides\n",
    "for i in mob_dates:\n",
    "    axs[0,0].axvline(x = i, linestyle = 'dashed',linewidth=datelinewidth)\n",
    "    axs[0,1].axvline(x = i, linestyle = 'dashed',linewidth=datelinewidth)\n",
    "    axs[1,0].axvline(x = i, linestyle = 'dashed',linewidth=datelinewidth)\n",
    "    axs[1,1].axvline(x = i, linestyle = 'dashed',linewidth=datelinewidth)\n",
    " \n",
    "axs[0,0].axvline(x = datetime(2021,4,11), linestyle = 'dashed',linewidth=datelinewidth,color='red')\n",
    "axs[0,0].axvline(x = datetime(2021,5,3), linestyle = 'dashed',linewidth=datelinewidth,color='grey')\n",
    "axs[0,1].axvline(x = datetime(2021,4,11), linestyle = 'dashed',linewidth=datelinewidth,color='red')\n",
    "axs[0,1].axvline(x = datetime(2021,5,3), linestyle = 'dashed',linewidth=datelinewidth,color='grey')\n",
    "axs[1,0].axvline(x = datetime(2021,4,11), linestyle = 'dashed',linewidth=datelinewidth,color='red')\n",
    "axs[1,0].axvline(x = datetime(2021,5,3), linestyle = 'dashed',linewidth=datelinewidth,color='grey')\n",
    "axs[1,1].axvline(x = datetime(2021,4,11), linestyle = 'dashed',linewidth=datelinewidth,color='red')\n",
    "axs[1,1].axvline(x = datetime(2021,5,3), linestyle = 'dashed',linewidth=datelinewidth,color='grey')\n",
    "\n",
    "# Format and shit\n",
    "\n",
    "# Grid\n",
    "axs[0,0].grid(color='grey', linestyle='dotted', linewidth=0.5)\n",
    "axs[0,1].grid(color='grey', linestyle='dotted', linewidth=0.5)\n",
    "axs[1,0].grid(color='grey', linestyle='dotted', linewidth=0.5)\n",
    "axs[1,1].grid(color='grey', linestyle='dotted', linewidth=0.5)\n",
    "\n",
    "# x axis: Date range\n",
    "axs[0,0].set_xlim(initdate,enddate)\n",
    "axs[0,1].set_xlim(initdate,enddate)\n",
    "axs[1,0].set_xlim(initdate,enddate)\n",
    "axs[1,1].set_xlim(initdate,enddate)\n",
    "\n",
    "# x axis: Date interval\n",
    "interval = 30\n",
    "#axs[0,0].xaxis.set_major_locator(mdates.DayLocator(interval=interval))\n",
    "#axs[0,1].xaxis.set_major_locator(mdates.DayLocator(interval=interval))\n",
    "#axs[1,0].xaxis.set_major_locator(mdates.DayLocator(interval=interval))\n",
    "#axs[1,1].xaxis.set_major_locator(mdates.DayLocator(interval=interval))\n",
    "\n",
    "# x axis: Date format\n",
    "axs[0,0].get_xaxis().set_major_formatter(mdates.DateFormatter('%d-%m'))\n",
    "axs[0,1].get_xaxis().set_major_formatter(mdates.DateFormatter('%d-%m'))\n",
    "axs[1,0].get_xaxis().set_major_formatter(mdates.DateFormatter('%d-%m'))\n",
    "axs[1,1].get_xaxis().set_major_formatter(mdates.DateFormatter('%d-%m'))\n",
    "\n",
    "# Y axis: Format\n",
    "axs[0,0].get_yaxis().set_major_formatter(matplotlib.ticker.FuncFormatter(lambda x, p: format(int(x), ',')))\n",
    "axs[0,1].get_yaxis().set_major_formatter(matplotlib.ticker.FuncFormatter(lambda x, p: format(int(x), ',')))\n",
    "axs[1,0].get_yaxis().set_major_formatter(matplotlib.ticker.FuncFormatter(lambda x, p: format(int(x), ',')))\n",
    "axs[1,1].get_yaxis().set_major_formatter(matplotlib.ticker.FuncFormatter(lambda x, p: format(int(x), ',')))\n",
    "\n",
    "# Y axis: Range\n",
    "#axs[0,0].set_ylim(0,5e4)\n",
    "axs[0,1].set_ylim(0,50000)\n",
    "#axs[1,0].set_ylim(0,10000)\n",
    "#axs[1,1].set_ylim(0,2.5e3)\n",
    "#axs[0,0].set_yscale('log')\n",
    "\n",
    "# Font-size\n",
    "axs[0,0].tick_params(labelsize=fontsize_label)\n",
    "axs[0,1].tick_params(labelsize=fontsize_label)\n",
    "axs[1,0].tick_params(labelsize=fontsize_label)\n",
    "axs[1,1].tick_params(labelsize=fontsize_label)\n",
    "\n",
    "# Legend\n",
    "axs[0,0].legend(loc='lower right',fontsize=fontsize_legend)\n",
    "axs[0,1].legend(loc='lower right',fontsize=fontsize_legend)\n",
    "axs[1,0].legend(loc='lower right',fontsize=fontsize_legend)\n",
    "axs[1,1].legend(loc='lower right',fontsize=fontsize_legend)\n",
    "#axs[1,1].legend(bbox_to_anchor=(0.33, 0.52),fontsize=fontsize_legend)\n",
    "\n",
    "\n",
    "fig.suptitle(title,fontsize=fontsize_suptitle)\n",
    "fig.show()"
   ]
  },
  {
   "cell_type": "code",
   "execution_count": 126,
   "metadata": {},
   "outputs": [
    {
     "data": {
      "text/plain": [
       "Text(0.5, 1.0, 'Infectados Activos Detectados')"
      ]
     },
     "execution_count": 126,
     "metadata": {},
     "output_type": "execute_result"
    }
   ],
   "source": [
    "colors = plt.cm.rainbow_r(np.linspace(0,1,len(simulation)))\n",
    "\n",
    "fig, axs = plt.subplots(1, 1)\n",
    "\n",
    "axs.scatter(state.Ir_dates,state.Ir,color='grey',label='DP3 med_mov 7',zorder=10)\n",
    "\n",
    "axs.set_ylim(0,70000)\n",
    "axs.legend(loc='lower right',fontsize=fontsize_legend)\n",
    "axs.set_title('Infectados Activos Detectados',fontsize=fontsize_title)\n",
    "\n"
   ]
  },
  {
   "cell_type": "code",
   "execution_count": 160,
   "metadata": {},
   "outputs": [
    {
     "ename": "AttributeError",
     "evalue": "'SEIRHVD' object has no attribute 'I_det'",
     "output_type": "error",
     "traceback": [
      "\u001b[0;31m---------------------------------------------------------------------------\u001b[0m",
      "\u001b[0;31mAttributeError\u001b[0m                            Traceback (most recent call last)",
      "\u001b[0;32m<ipython-input-160-cd4da900ab0b>\u001b[0m in \u001b[0;36m<module>\u001b[0;34m\u001b[0m\n\u001b[1;32m     13\u001b[0m         \u001b[0maxs\u001b[0m\u001b[0;34m.\u001b[0m\u001b[0mplot\u001b[0m\u001b[0;34m(\u001b[0m\u001b[0mdates\u001b[0m\u001b[0;34m[\u001b[0m\u001b[0mi\u001b[0m\u001b[0;34m]\u001b[0m\u001b[0;34m,\u001b[0m\u001b[0msimulation\u001b[0m\u001b[0;34m[\u001b[0m\u001b[0mi\u001b[0m\u001b[0;34m]\u001b[0m\u001b[0;34m.\u001b[0m\u001b[0mI_det\u001b[0m\u001b[0;34m,\u001b[0m\u001b[0mlinewidth\u001b[0m\u001b[0;34m=\u001b[0m\u001b[0mpĺotlinewidth\u001b[0m\u001b[0;34m,\u001b[0m\u001b[0mlabel\u001b[0m\u001b[0;34m=\u001b[0m\u001b[0;34m'mu: '\u001b[0m\u001b[0;34m+\u001b[0m\u001b[0mstr\u001b[0m\u001b[0;34m(\u001b[0m\u001b[0mmu\u001b[0m\u001b[0;34m[\u001b[0m\u001b[0mi\u001b[0m\u001b[0;34m]\u001b[0m\u001b[0;34m)\u001b[0m\u001b[0;34m+\u001b[0m\u001b[0;34m' | SP_R: '\u001b[0m\u001b[0;34m+\u001b[0m\u001b[0mstr\u001b[0m\u001b[0;34m(\u001b[0m\u001b[0mround\u001b[0m\u001b[0;34m(\u001b[0m\u001b[0;36m100\u001b[0m\u001b[0;34m*\u001b[0m\u001b[0mSeroPrevalence\u001b[0m\u001b[0;34m[\u001b[0m\u001b[0mi\u001b[0m\u001b[0;34m]\u001b[0m\u001b[0;34m,\u001b[0m\u001b[0;36m2\u001b[0m\u001b[0;34m)\u001b[0m\u001b[0;34m)\u001b[0m\u001b[0;34m+\u001b[0m\u001b[0;34m'%'\u001b[0m\u001b[0;34m+\u001b[0m\u001b[0;34m' | SP_D:'\u001b[0m\u001b[0;34m+\u001b[0m\u001b[0mstr\u001b[0m\u001b[0;34m(\u001b[0m\u001b[0mround\u001b[0m\u001b[0;34m(\u001b[0m\u001b[0;36m100\u001b[0m\u001b[0;34m*\u001b[0m\u001b[0mSeroPrevalenceDet\u001b[0m\u001b[0;34m[\u001b[0m\u001b[0mi\u001b[0m\u001b[0;34m]\u001b[0m\u001b[0;34m,\u001b[0m\u001b[0;36m2\u001b[0m\u001b[0;34m)\u001b[0m\u001b[0;34m)\u001b[0m\u001b[0;34m+\u001b[0m\u001b[0;34m'%'\u001b[0m\u001b[0;34m,\u001b[0m\u001b[0mcolor\u001b[0m\u001b[0;34m=\u001b[0m\u001b[0mcolors\u001b[0m\u001b[0;34m[\u001b[0m\u001b[0mi\u001b[0m\u001b[0;34m]\u001b[0m\u001b[0;34m)\u001b[0m\u001b[0;34m\u001b[0m\u001b[0;34m\u001b[0m\u001b[0m\n\u001b[1;32m     14\u001b[0m     \u001b[0;32mif\u001b[0m \u001b[0mtype\u001b[0m\u001b[0;34m(\u001b[0m\u001b[0malpha_new\u001b[0m\u001b[0;34m)\u001b[0m \u001b[0;34m==\u001b[0m \u001b[0mlist\u001b[0m\u001b[0;34m:\u001b[0m\u001b[0;34m\u001b[0m\u001b[0;34m\u001b[0m\u001b[0m\n\u001b[0;32m---> 15\u001b[0;31m         \u001b[0maxs\u001b[0m\u001b[0;34m.\u001b[0m\u001b[0mplot\u001b[0m\u001b[0;34m(\u001b[0m\u001b[0mdates\u001b[0m\u001b[0;34m[\u001b[0m\u001b[0mi\u001b[0m\u001b[0;34m]\u001b[0m\u001b[0;34m,\u001b[0m\u001b[0msimulation\u001b[0m\u001b[0;34m[\u001b[0m\u001b[0mi\u001b[0m\u001b[0;34m]\u001b[0m\u001b[0;34m.\u001b[0m\u001b[0mI_det\u001b[0m\u001b[0;34m,\u001b[0m\u001b[0mlinewidth\u001b[0m\u001b[0;34m=\u001b[0m\u001b[0mpĺotlinewidth\u001b[0m\u001b[0;34m,\u001b[0m\u001b[0mlabel\u001b[0m\u001b[0;34m=\u001b[0m\u001b[0;34m'Simulation'\u001b[0m\u001b[0;34m,\u001b[0m\u001b[0mcolor\u001b[0m\u001b[0;34m=\u001b[0m\u001b[0mcolors\u001b[0m\u001b[0;34m[\u001b[0m\u001b[0mi\u001b[0m\u001b[0;34m]\u001b[0m\u001b[0;34m)\u001b[0m\u001b[0;34m\u001b[0m\u001b[0;34m\u001b[0m\u001b[0m\n\u001b[0m\u001b[1;32m     16\u001b[0m \u001b[0maxs\u001b[0m\u001b[0;34m.\u001b[0m\u001b[0mset_title\u001b[0m\u001b[0;34m(\u001b[0m\u001b[0;34m'Infectados Activos Detectados'\u001b[0m\u001b[0;34m,\u001b[0m\u001b[0mfontsize\u001b[0m\u001b[0;34m=\u001b[0m\u001b[0mfontsize_title\u001b[0m\u001b[0;34m)\u001b[0m\u001b[0;34m\u001b[0m\u001b[0;34m\u001b[0m\u001b[0m\n\u001b[1;32m     17\u001b[0m \u001b[0;34m\u001b[0m\u001b[0m\n",
      "\u001b[0;31mAttributeError\u001b[0m: 'SEIRHVD' object has no attribute 'I_det'"
     ]
    }
   ],
   "source": [
    "renewalFactor = [0]\n",
    "sim_InfDiario = False\n",
    "sim_InfEPI = True\n",
    "\n",
    "colors = plt.cm.rainbow_r(np.linspace(0,1,len(simulation)))\n",
    "\n",
    "fig, axs = plt.subplots(1, 1)\n",
    "\n",
    "axs.scatter(state.Ir_dates,state.Ir,color='grey',label='DP3 med_mov 7',zorder=10)\n",
    "\n",
    "for i in range(len(simulation)):\n",
    "    if type(mu) == list:\n",
    "        axs.plot(dates[i],simulation[i].I_det,linewidth=pĺotlinewidth,label='mu: '+str(mu[i])+' | SP_R: '+str(round(100*SeroPrevalence[i],2))+'%'+' | SP_D:'+str(round(100*SeroPrevalenceDet[i],2))+'%',color=colors[i])\n",
    "    if type(alpha_new) == list:\n",
    "        axs.plot(dates[i],simulation[i].I_det,linewidth=pĺotlinewidth,label='Simulation',color=colors[i])\n",
    "axs.set_title('Infectados Activos Detectados',fontsize=fontsize_title)\n",
    "\n",
    "\n",
    "# Grid\n",
    "axs.grid(color='grey', linestyle='dotted', linewidth=0.5)\n",
    "\n",
    "\n",
    "# x axis: Date range\n",
    "axs.set_xlim(initdate,enddate)\n",
    "\n",
    "\n",
    "# x axis: Date interval\n",
    "interval = 30\n",
    "\n",
    "# x axis: Date format\n",
    "axs.get_xaxis().set_major_formatter(mdates.DateFormatter('%d-%m'))\n",
    "\n",
    "# Y axis: Format\n",
    "axs.get_yaxis().set_major_formatter(matplotlib.ticker.FuncFormatter(lambda x, p: format(int(x), ',')))\n",
    "\n",
    "# Y axis: Range\n",
    "axs.set_ylim(0,70000)\n",
    "\n",
    "# Font-size\n",
    "axs.tick_params(labelsize=fontsize_label)\n",
    "# Legend\n",
    "axs.legend(loc='lower right',fontsize=fontsize_legend)\n",
    "\n",
    "fig.suptitle(title,fontsize=fontsize_suptitle)\n",
    "fig.show()"
   ]
  },
  {
   "cell_type": "code",
   "execution_count": null,
   "metadata": {},
   "outputs": [],
   "source": []
  },
  {
   "cell_type": "code",
   "execution_count": 69,
   "metadata": {},
   "outputs": [
    {
     "ename": "NameError",
     "evalue": "name 'initdate_table' is not defined",
     "output_type": "error",
     "traceback": [
      "\u001b[0;31m---------------------------------------------------------------------------\u001b[0m",
      "\u001b[0;31mNameError\u001b[0m                                 Traceback (most recent call last)",
      "\u001b[0;32m<ipython-input-69-4e16b00d8497>\u001b[0m in \u001b[0;36m<module>\u001b[0;34m\u001b[0m\n\u001b[0;32m----> 1\u001b[0;31m \u001b[0mdaterange\u001b[0m \u001b[0;34m=\u001b[0m \u001b[0;34m[\u001b[0m\u001b[0minitdate_table\u001b[0m\u001b[0;34m+\u001b[0m\u001b[0mtimedelta\u001b[0m\u001b[0;34m(\u001b[0m\u001b[0mdays\u001b[0m\u001b[0;34m=\u001b[0m\u001b[0;36m7\u001b[0m\u001b[0;34m*\u001b[0m\u001b[0mi\u001b[0m\u001b[0;34m)\u001b[0m \u001b[0;32mfor\u001b[0m \u001b[0mi\u001b[0m \u001b[0;32min\u001b[0m \u001b[0mrange\u001b[0m\u001b[0;34m(\u001b[0m\u001b[0mint\u001b[0m\u001b[0;34m(\u001b[0m\u001b[0;34m(\u001b[0m\u001b[0menddate\u001b[0m\u001b[0;34m-\u001b[0m\u001b[0minitdate_table\u001b[0m\u001b[0;34m)\u001b[0m\u001b[0;34m.\u001b[0m\u001b[0mdays\u001b[0m\u001b[0;34m/\u001b[0m\u001b[0;36m7\u001b[0m\u001b[0;34m)\u001b[0m\u001b[0;34m+\u001b[0m\u001b[0;36m1\u001b[0m\u001b[0;34m)\u001b[0m\u001b[0;34m]\u001b[0m\u001b[0;34m\u001b[0m\u001b[0;34m\u001b[0m\u001b[0m\n\u001b[0m",
      "\u001b[0;31mNameError\u001b[0m: name 'initdate_table' is not defined"
     ]
    }
   ],
   "source": [
    "daterange = [initdate_table+timedelta(days=7*i) for i in range(int((enddate-initdate_table).days/7)+1)]"
   ]
  },
  {
   "cell_type": "code",
   "execution_count": null,
   "metadata": {},
   "outputs": [],
   "source": [
    "int((enddate-initdate).days/7)"
   ]
  },
  {
   "cell_type": "code",
   "execution_count": null,
   "metadata": {},
   "outputs": [],
   "source": []
  },
  {
   "cell_type": "markdown",
   "metadata": {},
   "source": [
    "# Generación de tablas"
   ]
  },
  {
   "cell_type": "code",
   "execution_count": 70,
   "metadata": {},
   "outputs": [],
   "source": [
    "initdate_table = datetime(2021,5,1)\n",
    "enddate_table = datetime(2021,12,31)\n",
    "\n",
    "init_index = np.where(np.array(dates[0]) == np.array(initdate_table))[0][0]\n",
    "end_index = np.where(np.array(dates[0]) == np.array(enddate_table))[0][0] + 1 "
   ]
  },
  {
   "cell_type": "markdown",
   "metadata": {},
   "source": [
    "Construir DataFrame"
   ]
  },
  {
   "cell_type": "code",
   "execution_count": 71,
   "metadata": {},
   "outputs": [
    {
     "data": {
      "text/plain": [
       "array([1, 2, 9])"
      ]
     },
     "execution_count": 71,
     "metadata": {},
     "output_type": "execute_result"
    }
   ],
   "source": [
    "np.around(np.array([1.1,2.5,8.9])).astype(int)"
   ]
  },
  {
   "cell_type": "code",
   "execution_count": 72,
   "metadata": {},
   "outputs": [],
   "source": [
    "vmi_dict = [{'Uso_UCI_mov_'+str(escenarios[i]):np.around(simulation[i].V[init_index:end_index]).astype(int)} for i in range(len(escenarios))]\n",
    "I_d_dict = [{'Infectados_diarios_mov_'+str(escenarios[i]):np.around(simulation[i].I_d_det[init_index:end_index]).astype(int)} for i in range(len(escenarios))]\n",
    "I_act_dict = [{'Infectados_activos_mov_'+str(escenarios[i]):np.around(simulation[i].I_det[init_index:end_index]).astype(int)} for i in range(len(escenarios))]\n",
    "D_acc_dict = [{'Fallecidos_acumulados_mov_'+str(escenarios[i]):np.around(simulation[i].B[init_index:end_index]).astype(int)} for i in range(len(escenarios))]"
   ]
  },
  {
   "cell_type": "code",
   "execution_count": 73,
   "metadata": {},
   "outputs": [],
   "source": [
    "vmi_table = {'fechas':dates[0][init_index:end_index]}\n",
    "I_d_table = {'fechas':dates[0][init_index:end_index]}\n",
    "I_act_table = {'fechas':dates[0][init_index:end_index]}\n",
    "D_acc_table = {'fechas':dates[0][init_index:end_index]}\n",
    "for i in vmi_dict:\n",
    "    vmi_table =  {**vmi_table, **i}\n",
    "for i in I_d_dict:    \n",
    "    I_d_table =  {**I_d_table, **i}    \n",
    "for i in I_act_dict:    \n",
    "    I_act_table =  {**I_act_table, **i}    \n",
    "for i in D_acc_dict:\n",
    "    D_acc_table =  {**D_acc_table, **i}"
   ]
  },
  {
   "cell_type": "code",
   "execution_count": 74,
   "metadata": {},
   "outputs": [],
   "source": [
    "vmi_df = pd.DataFrame(vmi_table)\n",
    "I_d_df = pd.DataFrame(I_d_table)\n",
    "I_act_df = pd.DataFrame(I_act_table)\n",
    "D_acc_df = pd.DataFrame(D_acc_table)"
   ]
  },
  {
   "cell_type": "code",
   "execution_count": 75,
   "metadata": {},
   "outputs": [
    {
     "data": {
      "text/html": [
       "<div>\n",
       "<style scoped>\n",
       "    .dataframe tbody tr th:only-of-type {\n",
       "        vertical-align: middle;\n",
       "    }\n",
       "\n",
       "    .dataframe tbody tr th {\n",
       "        vertical-align: top;\n",
       "    }\n",
       "\n",
       "    .dataframe thead th {\n",
       "        text-align: right;\n",
       "    }\n",
       "</style>\n",
       "<table border=\"1\" class=\"dataframe\">\n",
       "  <thead>\n",
       "    <tr style=\"text-align: right;\">\n",
       "      <th></th>\n",
       "      <th>fechas</th>\n",
       "      <th>Fallecidos_acumulados_mov_100</th>\n",
       "      <th>Fallecidos_acumulados_mov_105</th>\n",
       "      <th>Fallecidos_acumulados_mov_110</th>\n",
       "      <th>Fallecidos_acumulados_mov_115</th>\n",
       "      <th>Fallecidos_acumulados_mov_120</th>\n",
       "    </tr>\n",
       "  </thead>\n",
       "  <tbody>\n",
       "    <tr>\n",
       "      <th>0</th>\n",
       "      <td>2021-05-01</td>\n",
       "      <td>14567</td>\n",
       "      <td>14567</td>\n",
       "      <td>14567</td>\n",
       "      <td>14567</td>\n",
       "      <td>14567</td>\n",
       "    </tr>\n",
       "    <tr>\n",
       "      <th>1</th>\n",
       "      <td>2021-05-02</td>\n",
       "      <td>14620</td>\n",
       "      <td>14620</td>\n",
       "      <td>14620</td>\n",
       "      <td>14620</td>\n",
       "      <td>14620</td>\n",
       "    </tr>\n",
       "    <tr>\n",
       "      <th>2</th>\n",
       "      <td>2021-05-03</td>\n",
       "      <td>14672</td>\n",
       "      <td>14672</td>\n",
       "      <td>14672</td>\n",
       "      <td>14672</td>\n",
       "      <td>14672</td>\n",
       "    </tr>\n",
       "    <tr>\n",
       "      <th>3</th>\n",
       "      <td>2021-05-04</td>\n",
       "      <td>14724</td>\n",
       "      <td>14724</td>\n",
       "      <td>14724</td>\n",
       "      <td>14724</td>\n",
       "      <td>14724</td>\n",
       "    </tr>\n",
       "    <tr>\n",
       "      <th>4</th>\n",
       "      <td>2021-05-05</td>\n",
       "      <td>14775</td>\n",
       "      <td>14775</td>\n",
       "      <td>14775</td>\n",
       "      <td>14775</td>\n",
       "      <td>14775</td>\n",
       "    </tr>\n",
       "    <tr>\n",
       "      <th>...</th>\n",
       "      <td>...</td>\n",
       "      <td>...</td>\n",
       "      <td>...</td>\n",
       "      <td>...</td>\n",
       "      <td>...</td>\n",
       "      <td>...</td>\n",
       "    </tr>\n",
       "    <tr>\n",
       "      <th>240</th>\n",
       "      <td>2021-12-27</td>\n",
       "      <td>38734</td>\n",
       "      <td>74999</td>\n",
       "      <td>115955</td>\n",
       "      <td>157080</td>\n",
       "      <td>196804</td>\n",
       "    </tr>\n",
       "    <tr>\n",
       "      <th>241</th>\n",
       "      <td>2021-12-28</td>\n",
       "      <td>38784</td>\n",
       "      <td>75170</td>\n",
       "      <td>116251</td>\n",
       "      <td>157420</td>\n",
       "      <td>197108</td>\n",
       "    </tr>\n",
       "    <tr>\n",
       "      <th>242</th>\n",
       "      <td>2021-12-29</td>\n",
       "      <td>38833</td>\n",
       "      <td>75338</td>\n",
       "      <td>116542</td>\n",
       "      <td>157751</td>\n",
       "      <td>197402</td>\n",
       "    </tr>\n",
       "    <tr>\n",
       "      <th>243</th>\n",
       "      <td>2021-12-30</td>\n",
       "      <td>38882</td>\n",
       "      <td>75501</td>\n",
       "      <td>116827</td>\n",
       "      <td>158074</td>\n",
       "      <td>197685</td>\n",
       "    </tr>\n",
       "    <tr>\n",
       "      <th>244</th>\n",
       "      <td>2021-12-31</td>\n",
       "      <td>38931</td>\n",
       "      <td>75661</td>\n",
       "      <td>117105</td>\n",
       "      <td>158389</td>\n",
       "      <td>197957</td>\n",
       "    </tr>\n",
       "  </tbody>\n",
       "</table>\n",
       "<p>245 rows × 6 columns</p>\n",
       "</div>"
      ],
      "text/plain": [
       "        fechas  Fallecidos_acumulados_mov_100  Fallecidos_acumulados_mov_105  \\\n",
       "0   2021-05-01                          14567                          14567   \n",
       "1   2021-05-02                          14620                          14620   \n",
       "2   2021-05-03                          14672                          14672   \n",
       "3   2021-05-04                          14724                          14724   \n",
       "4   2021-05-05                          14775                          14775   \n",
       "..         ...                            ...                            ...   \n",
       "240 2021-12-27                          38734                          74999   \n",
       "241 2021-12-28                          38784                          75170   \n",
       "242 2021-12-29                          38833                          75338   \n",
       "243 2021-12-30                          38882                          75501   \n",
       "244 2021-12-31                          38931                          75661   \n",
       "\n",
       "     Fallecidos_acumulados_mov_110  Fallecidos_acumulados_mov_115  \\\n",
       "0                            14567                          14567   \n",
       "1                            14620                          14620   \n",
       "2                            14672                          14672   \n",
       "3                            14724                          14724   \n",
       "4                            14775                          14775   \n",
       "..                             ...                            ...   \n",
       "240                         115955                         157080   \n",
       "241                         116251                         157420   \n",
       "242                         116542                         157751   \n",
       "243                         116827                         158074   \n",
       "244                         117105                         158389   \n",
       "\n",
       "     Fallecidos_acumulados_mov_120  \n",
       "0                            14567  \n",
       "1                            14620  \n",
       "2                            14672  \n",
       "3                            14724  \n",
       "4                            14775  \n",
       "..                             ...  \n",
       "240                         196804  \n",
       "241                         197108  \n",
       "242                         197402  \n",
       "243                         197685  \n",
       "244                         197957  \n",
       "\n",
       "[245 rows x 6 columns]"
      ]
     },
     "execution_count": 75,
     "metadata": {},
     "output_type": "execute_result"
    }
   ],
   "source": [
    "D_acc_df"
   ]
  },
  {
   "cell_type": "code",
   "execution_count": 76,
   "metadata": {},
   "outputs": [],
   "source": [
    "vmi_df.to_csv('/home/samuel/Dropbox/DLab/Covid/DataProjections/Chile/UCI_may-dic_0206.csv')\n",
    "I_d_df.to_csv('/home/samuel/Dropbox/DLab/Covid/DataProjections/Chile/I_diarios_may-dic_0206.csv')\n",
    "I_act_df.to_csv('/home/samuel/Dropbox/DLab/Covid/DataProjections/Chile/I_activos_may-dic_0206.csv')\n",
    "D_acc_df.to_csv('/home/samuel/Dropbox/DLab/Covid/DataProjections/Chile/D_accu_may-dic_0206.csv')"
   ]
  },
  {
   "cell_type": "code",
   "execution_count": null,
   "metadata": {},
   "outputs": [],
   "source": []
  },
  {
   "cell_type": "markdown",
   "metadata": {},
   "source": [
    "#### infectadios diarios"
   ]
  },
  {
   "cell_type": "code",
   "execution_count": null,
   "metadata": {},
   "outputs": [],
   "source": [
    "i=0\n",
    "plt.plot(dates[i],simulation[i].I_d)\n",
    "plt.show()"
   ]
  },
  {
   "cell_type": "code",
   "execution_count": null,
   "metadata": {},
   "outputs": [],
   "source": [
    "Id_dict = [{'Id_mov_'+str(escenarios[i]):np.around(simulation[i].I_d_det)} for i in range(len(escenarios))]"
   ]
  },
  {
   "cell_type": "code",
   "execution_count": null,
   "metadata": {},
   "outputs": [],
   "source": [
    "Id_table = {'fechas':dates[0]}\n",
    "for i in Id_dict:\n",
    "    Id_table =  {**Id_table, **i} \n",
    "Id_df = pd.DataFrame(Id_table)"
   ]
  },
  {
   "cell_type": "code",
   "execution_count": null,
   "metadata": {},
   "outputs": [],
   "source": [
    "Id_10may = Id_df[(Id_df['fechas']>=datetime(2021,5,10)) & (Id_df['fechas']<datetime(2021,5,17))]"
   ]
  },
  {
   "cell_type": "code",
   "execution_count": null,
   "metadata": {},
   "outputs": [],
   "source": [
    "Id_10may"
   ]
  },
  {
   "cell_type": "code",
   "execution_count": null,
   "metadata": {},
   "outputs": [],
   "source": [
    "Id_average = [np.mean(Id_10may[i]) for i in Id_10may.keys()[1:]]"
   ]
  },
  {
   "cell_type": "code",
   "execution_count": null,
   "metadata": {},
   "outputs": [],
   "source": [
    "np.around(Id_average)"
   ]
  },
  {
   "cell_type": "code",
   "execution_count": null,
   "metadata": {},
   "outputs": [],
   "source": [
    "Id_10may"
   ]
  },
  {
   "cell_type": "code",
   "execution_count": null,
   "metadata": {},
   "outputs": [],
   "source": []
  }
 ],
 "metadata": {
  "kernelspec": {
   "display_name": "Python 3",
   "language": "python",
   "name": "python3"
  },
  "language_info": {
   "codemirror_mode": {
    "name": "ipython",
    "version": 3
   },
   "file_extension": ".py",
   "mimetype": "text/x-python",
   "name": "python",
   "nbconvert_exporter": "python",
   "pygments_lexer": "ipython3",
   "version": "3.8.3"
  }
 },
 "nbformat": 4,
 "nbformat_minor": 4
}
