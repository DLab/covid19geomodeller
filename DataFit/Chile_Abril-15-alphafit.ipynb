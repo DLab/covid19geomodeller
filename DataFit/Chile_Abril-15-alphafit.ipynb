{
 "cells": [
  {
   "cell_type": "markdown",
   "metadata": {},
   "source": [
    "# SEIRHVD Data Fit\n",
    "\n",
    "This Jupyter notebooks implements the SEIRHVD model for fitting the actual Chilean data in order to make projections in VMI and bed usage, amount of infected and deaths. This model uses the SEIRHVD 4.1 version. A visual representation of the model is available at: [SEIRHVD Miró Model](https://miro.com/app/board/o9J_ktzN4xA=/)\n",
    "\n",
    "This implements a single instance to facilitate understanding the model prior to run multiple data fittings at a time.\n",
    "\n"
   ]
  },
  {
   "cell_type": "code",
   "execution_count": 1,
   "metadata": {},
   "outputs": [
    {
     "name": "stdout",
     "output_type": "stream",
     "text": [
      "Linux\n"
     ]
    }
   ],
   "source": [
    "import numpy as np\n",
    "import pandas as pd\n",
    "import matplotlib.pyplot as plt\n",
    "import matplotlib.dates as mdates \n",
    "from datetime import datetime\n",
    "from numpy import linalg as LA\n",
    "import multiprocessing\n",
    "from joblib import Parallel, delayed\n",
    "from datetime import timedelta\n",
    "\n",
    "import platform\n",
    "OS = platform.system()\n",
    "\n",
    "import matplotlib.pyplot as plt\n",
    "if OS == 'Linux':    \n",
    "    %matplotlib tk\n",
    "    print('Linux')\n",
    "elif OS == 'Windows':\n",
    "    %matplotlib qt\n",
    "    print('Windows')\n",
    "elif OS == 'Darwin':\n",
    "    %matplotlib tk\n",
    "    print('Mac (Funciona?)')\n",
    "else:\n",
    "    print('OS not detected :-|')\n",
    "\n",
    "import sys\n",
    "from pathlib import Path\n",
    "sys.path.insert(1, '../src/SEIRHVD/')\n",
    "sys.path.insert(1, '../src/utils/')\n",
    "sys.path.insert(1, 'src/SEIRHVD/')\n",
    "sys.path.insert(1, 'src/utils/')\n",
    "\n",
    "from class_SEIRHUVD5 import SEIRHVD \n",
    "from Quarantine import Quarantine\n",
    "from Quarantine import SeroPrevDynamics\n",
    "from importdata import ImportData\n",
    "import Events\n",
    "\n",
    "import json\n",
    "from pandas.core.base import DataError\n",
    "import requests\n",
    "from requests.auth import HTTPBasicAuth\n",
    "import pandas as pd\n",
    "import matplotlib\n",
    "\n",
    "from datetime import date\n",
    "\n",
    "import copy"
   ]
  },
  {
   "cell_type": "markdown",
   "metadata": {},
   "source": [
    "## Time Variables\n",
    "Declare Initial date for simulating and data fitting"
   ]
  },
  {
   "cell_type": "code",
   "execution_count": 2,
   "metadata": {},
   "outputs": [],
   "source": [
    "# First simulation Initial date\n",
    "initdate = datetime(2020,11,26)\n",
    "# Date for change in SeroPrevalence\n",
    "SPchange_date = datetime(2020,7,25)\n",
    "\n",
    "# Current date\n",
    "currentdate = datetime.now()\n",
    "currentday = (currentdate - initdate).days\n",
    "\n",
    "fiestaspatrias = datetime(2020,9,18)\n",
    "fiestaspatrias_day = (fiestaspatrias-initdate).days\n",
    "plebiscito = datetime(2020,10,25)\n",
    "plebiscito_day = (plebiscito-initdate).days\n",
    "\n",
    "navidad = datetime(2020,12,25)\n",
    "navidad_day = (navidad-initdate).days\n",
    "\n",
    "newyear = datetime(2020,12,31)\n",
    "newyear_day = (newyear-initdate).days\n",
    "\n",
    "today = datetime.today()\n",
    "today_day = (today-initdate).days"
   ]
  },
  {
   "cell_type": "markdown",
   "metadata": {},
   "source": [
    "## Import Data\n",
    "To import data we use an ImportData object which is initialized with the region's cut and the initial date. state region is represented by cut = 14."
   ]
  },
  {
   "cell_type": "code",
   "execution_count": 3,
   "metadata": {},
   "outputs": [],
   "source": [
    "def dataretriever(user=None,password=None):\n",
    "    # Esta funcion devolvera una funcion de request        \n",
    "    def request(endpoint):\n",
    "        if user:\n",
    "            aux = requests.get('https://api.cv19gm.org/'+endpoint, auth=HTTPBasicAuth(user, password))\n",
    "            if aux.status_code == 401:\n",
    "                raise Exception('Wrong Credentials')\n",
    "            else:\n",
    "                print('Logged in successfully')\n",
    "        else:\n",
    "            aux = requests.get('http://192.168.2.223:5006/'+endpoint)\n",
    "        return aux\n",
    "    return request\n",
    "def timeJStoPy(t):\n",
    "    return datetime.strptime(t[:10],'%Y-%m-%d')\n",
    "def timetxttoDatetime(t):\n",
    "    return datetime.strptime(t,'%Y-%m-%d')"
   ]
  },
  {
   "cell_type": "code",
   "execution_count": 4,
   "metadata": {
    "scrolled": true
   },
   "outputs": [
    {
     "name": "stdout",
     "output_type": "stream",
     "text": [
      "Importing data from all regions\n",
      "Importing General Data\n",
      "Importing Population\n",
      "Importing Active infected\n",
      "Importing Accumulated Infected\n",
      "Importing Daily Infected\n",
      "Importing ICU Beds Data\n",
      "Importing Deaths by DEIS\n",
      "Importing Active Infected by Minciencia\n",
      "Done\n",
      "Importing Daily Infected\n"
     ]
    }
   ],
   "source": [
    "print('Importing data from all regions')\n",
    "tstate = ['01','02','03','04','05','06','07','08','09','10','11','12','13','14','15','16']\n",
    "#tstate = '13101'\n",
    "# Import Data\n",
    "state = ImportData(tstate=tstate,initdate = initdate)\n",
    "state.importdata()\n",
    "\n",
    "state.importDailyInfectedNacional()\n",
    "state.name = 'Chile'"
   ]
  },
  {
   "cell_type": "markdown",
   "metadata": {},
   "source": [
    "### Datos de Hospitalizados a fitear"
   ]
  },
  {
   "cell_type": "markdown",
   "metadata": {},
   "source": []
  },
  {
   "cell_type": "code",
   "execution_count": 8,
   "metadata": {},
   "outputs": [],
   "source": [
    "fig, axs = plt.subplots(1, 1)\n",
    "axs.plot(state.UCI_dates,state.UCI_use_covid)\n",
    "axs.fmt_xdata = mdates.DateFormatter('%d-%m-%Y')"
   ]
  },
  {
   "cell_type": "code",
   "execution_count": null,
   "metadata": {},
   "outputs": [],
   "source": [
    "plt.p\n",
    "axs[0,0].fmt_xdata = mdates.DateFormatter('%d-%m-%Y')"
   ]
  },
  {
   "cell_type": "code",
   "execution_count": 5,
   "metadata": {},
   "outputs": [],
   "source": [
    "state.Hr = 1000\n",
    "state.Hr_tot = [10000,10000]\n",
    "state.Vr = state.UCI_use_covid\n",
    "state.Vr_tot = 4500 - np.array(state.UCI_use_noncovid)#[4000]*len(state.UCI_use_covid)#state.UCI_capacity\n",
    "state.UCI_non_covid = state.UCI_use_noncovid\n",
    "state.sochimi_tr = state.UCI_tr#[-2:]\n",
    "state.sochimi_dates = state.UCI_dates"
   ]
  },
  {
   "cell_type": "markdown",
   "metadata": {},
   "source": [
    "## Infectados Diarios"
   ]
  },
  {
   "cell_type": "code",
   "execution_count": 6,
   "metadata": {},
   "outputs": [],
   "source": [
    "endpoint = 'https://raw.githubusercontent.com/MinCiencia/Datos-COVID19/master/output/producto5/TotalesNacionales.csv'\n",
    "casosnuevos = pd.read_csv(endpoint)\n",
    "I_d = casosnuevos[casosnuevos['Fecha']=='Casos nuevos totales'].transpose()\n",
    "dates_I_d = [timetxttoDatetime(I_d.axes[0][i]) for i in range(1,len(I_d.axes[0]))]\n",
    "I_d = np.array(I_d.iloc[1:][6])\n",
    "I_ac = np.cumsum(I_d)\n",
    "\n",
    "index_ac = np.where(np.array(dates_I_d) >= initdate)[0][0]\n",
    "I_ac = I_ac[index_ac:]\n",
    "I_ac_dates = dates_I_d[index_ac:]\n",
    "I_ac_tr = [(i-initdate).days for i in I_ac_dates]\n",
    "\n",
    "index = np.where(np.array(dates_I_d) >= initdate-timedelta(days=7))[0][0]\n",
    "dates_I_d = dates_I_d[index:]\n",
    "I_d = I_d[index:]\n",
    "weekdays = [date.weekday(dates_I_d[i]) for i in range(len(dates_I_d))]\n",
    "I = pd.DataFrame({'dates':dates_I_d,'I':I_d,'weekdays':weekdays})\n",
    "I_week = I[(I['weekdays']>2) | (I['weekdays']==0)]\n",
    "I_week_ra = I_week['I'].rolling(5).mean()[I_week['dates']>=initdate]\n",
    "I_week_ra_dates = I_week['dates'][I_week['dates']>=initdate]\n",
    "I_week_ra_tr = [(i-initdate).days for i in I_week_ra_dates]\n",
    "index_date = np.where(np.array(dates_I_d) >= initdate)[0][0]"
   ]
  },
  {
   "cell_type": "markdown",
   "metadata": {},
   "source": [
    "## Subreport"
   ]
  },
  {
   "cell_type": "code",
   "execution_count": 7,
   "metadata": {},
   "outputs": [],
   "source": [
    "Imi_det = 0.4\n",
    "Ias_det = 0.1\n",
    "Ise_det = 1\n",
    "Icr_det = 1"
   ]
  },
  {
   "cell_type": "markdown",
   "metadata": {},
   "source": [
    "# Parameters Fiteo UCI"
   ]
  },
  {
   "cell_type": "code",
   "execution_count": 8,
   "metadata": {},
   "outputs": [],
   "source": [
    "# Total simulation time\n",
    "tsim = 1000\n",
    "\n",
    "beta = 1\n",
    "mu = 0.35#list(np.arange(0.2,0.4,0.01))#0.4\n",
    "k_I = 0\n",
    "k_R = 0#10\n",
    "SeroPrevFactor = 0.6#1\n",
    "expinfection=0 # Proportion in which the exposed infect - 0: nothing, 1: equally as Infected"
   ]
  },
  {
   "cell_type": "markdown",
   "metadata": {},
   "source": [
    "## Quarantines"
   ]
  },
  {
   "cell_type": "code",
   "execution_count": 9,
   "metadata": {},
   "outputs": [],
   "source": [
    "mob_dates = [initdate,datetime(2020,12,21),datetime(2021,1,8),datetime(2021,2,25),datetime(2021,3,20),datetime(2021,4,11),initdate+timedelta(days=tsim)]\n",
    "mob_days = []\n",
    "for i in range(len(mob_dates)-1):\n",
    "    d1 = (mob_dates[i]-initdate).days\n",
    "    d2 = (mob_dates[i+1]-initdate).days\n",
    "    mob_days.append([d1,d2])\n",
    "\n",
    "mobility = [0.0099,0.0126,0.0209,0.03,0.041]\n",
    "\n",
    "escenarios = [0.01,0.03,0.035,0.04]\n",
    "escenarios = [20,40,60,80,90,100]\n",
    "alpha_var = escenarios\n",
    "alpha_new = [Events.Events(values=mobility +[i*mobility[-1]/100],days=mob_days) for i in escenarios]\n",
    "\n",
    "title = 'Ajuste por uso UCI'"
   ]
  },
  {
   "cell_type": "markdown",
   "metadata": {},
   "source": [
    "# Parameters Fiteo EPI"
   ]
  },
  {
   "cell_type": "code",
   "execution_count": null,
   "metadata": {},
   "outputs": [],
   "source": [
    "# Total simulation time\n",
    "tsim = 1000\n",
    "\n",
    "beta = 1\n",
    "mu = 0.34#6#list(np.arange(0.2,0.4,0.01))#0.4\n",
    "k_I = 0\n",
    "k_R = 0#10\n",
    "SeroPrevFactor = 0.6#1\n",
    "expinfection=0 # Proportion in which the exposed infect - 0: nothing, 1: equally as Infected"
   ]
  },
  {
   "cell_type": "code",
   "execution_count": null,
   "metadata": {},
   "outputs": [],
   "source": [
    "state.population*0.2"
   ]
  },
  {
   "cell_type": "markdown",
   "metadata": {},
   "source": [
    "### Quarantines"
   ]
  },
  {
   "cell_type": "code",
   "execution_count": null,
   "metadata": {},
   "outputs": [],
   "source": [
    "mob_dates = [initdate,datetime(2020,12,26),datetime(2021,1,3),datetime(2021,1,28),datetime(2021,2,20),datetime(2021,2,24),datetime(2021,3,1),datetime(2021,3,7),datetime(2021,3,13),datetime(2021,3,23),datetime(2021,4,5),datetime(2021,4,13),initdate+timedelta(days=tsim)]\n",
    "mob_days = []\n",
    "for i in range(len(mob_dates)-1):\n",
    "    d1 = (mob_dates[i]-initdate).days\n",
    "    d2 = (mob_dates[i+1]-initdate).days\n",
    "    mob_days.append([d1,d2])\n",
    "\n",
    "mobility = [0.011,0.015,0.021,0.017,0.021,0.024,0.027,0.03,0.0325,0.0348,0.03745]\n",
    "\n",
    "escenarios = [0.03,0.035,0.04,0.045,0.05]\n",
    "escenarios = [20,40,60,80,90,100]\n",
    "alpha_var = escenarios\n",
    "alpha_new = [Events.Events(values=mobility +[i*mobility[-1]/100],days=mob_days) for i in escenarios]\n",
    "#alpha_var = escenarios\n",
    "#alpha_new = [Events.Events(values=mobility +[i],days=mob_days) for i in escenarios]\n",
    "\n",
    "title = 'Ajuste por infectados diarios informe EPI'"
   ]
  },
  {
   "cell_type": "markdown",
   "metadata": {},
   "source": [
    "# Parameters Fiteo Informe Diario"
   ]
  },
  {
   "cell_type": "code",
   "execution_count": null,
   "metadata": {},
   "outputs": [],
   "source": []
  },
  {
   "cell_type": "code",
   "execution_count": null,
   "metadata": {},
   "outputs": [],
   "source": [
    "state_InfDiario = copy.deepcopy(state)\n",
    "state_InfDiario.I_d_r = list(I_week_ra)\n",
    "state_InfDiario.I_d_r_dates = list(I_week_ra_dates)\n",
    "state_InfDiario.I_d_r_tr = I_week_ra_tr\n",
    "\n",
    "state_InfDiario.I_ac_r = I_ac\n",
    "state_InfDiario.I_ac_r_dates = I_ac_dates\n",
    "state_InfDiario.I_ac_r_tr = I_ac_tr\n",
    "\n",
    "state = state_InfDiario"
   ]
  },
  {
   "cell_type": "code",
   "execution_count": null,
   "metadata": {},
   "outputs": [],
   "source": [
    "# Total simulation time\n",
    "tsim = 1000\n",
    "\n",
    "beta = 1\n",
    "mu = 0.28#6#list(np.arange(0.2,0.4,0.01))#0.4\n",
    "k_I = 0\n",
    "k_R = 0#10\n",
    "SeroPrevFactor = 0.6#1\n",
    "expinfection=0 # Proportion in which the exposed infect - 0: nothing, 1: equally as Infected"
   ]
  },
  {
   "cell_type": "code",
   "execution_count": null,
   "metadata": {},
   "outputs": [],
   "source": [
    "state.population*0.2"
   ]
  },
  {
   "cell_type": "markdown",
   "metadata": {},
   "source": [
    "### Quarantines"
   ]
  },
  {
   "cell_type": "code",
   "execution_count": null,
   "metadata": {},
   "outputs": [],
   "source": [
    "mob_dates = [initdate,datetime(2020,12,15),datetime(2020,12,31),datetime(2021,1,7),datetime(2021,1,28),datetime(2021,2,24),datetime(2021,3,1),datetime(2021,3,7),datetime(2021,3,13),datetime(2021,3,18),datetime(2021,3,24),datetime(2021,4,15),initdate+timedelta(days=tsim)]\n",
    "mob_days = []\n",
    "for i in range(len(mob_dates)-1):\n",
    "    d1 = (mob_dates[i]-initdate).days\n",
    "    d2 = (mob_dates[i+1]-initdate).days\n",
    "    mob_days.append([d1,d2])\n",
    "\n",
    "mobility = [0.012,0.015,0.021,0.026,0.0225,0.024,0.027,0.03,0.0325,0.037,0.039]\n",
    "\n",
    "escenarios = [0.03,0.035,0.04,0.045,0.05]\n",
    "escenarios = [20,40,60,80,90,100]\n",
    "alpha_var = escenarios\n",
    "alpha_new = [Events.Events(values=mobility +[i*mobility[-1]/100],days=mob_days) for i in escenarios]\n",
    "#alpha_var = escenarios\n",
    "#alpha_new = [Events.Events(values=mobility +[i],days=mob_days) for i in escenarios]\n",
    "title = 'Ajuste por infectados diarios informe diario'"
   ]
  },
  {
   "cell_type": "markdown",
   "metadata": {},
   "source": [
    "# Plot Movilidad"
   ]
  },
  {
   "cell_type": "code",
   "execution_count": 10,
   "metadata": {},
   "outputs": [],
   "source": [
    "if False:\n",
    "    datelinewidth = 1\n",
    "    t = np.array(np.arange(0,240,0.1))\n",
    "    alphaplot= [[j(i) for i in t] for j in alpha_new]\n",
    "    for f in alphaplot:\n",
    "        plt.plot(t,f)\n",
    "    #for f in alphaplot_UK:\n",
    "        #plt.plot(t,f,linestyle='dashed') \n",
    "    plt.axvline(x = navidad_day, linestyle = 'dotted',color = 'red',label='Navidad',linewidth=datelinewidth)\n",
    "    plt.axvline(x = newyear_day, linestyle = 'dotted',color = 'blue',label='Año Nuevo',linewidth=datelinewidth)\n",
    "    #plt.axvline(x = mitadvacaciones_day, linestyle = 'dotted',color = 'green',label='15 Febrero',linewidth=datelinewidth)\n",
    "\n",
    "    plt.tick_params(labelsize=18)\n",
    "    plt.legend(loc=0)\n",
    "    plt.title('Mobility-beta',fontsize=20)\n",
    "    plt.show()\n"
   ]
  },
  {
   "cell_type": "markdown",
   "metadata": {},
   "source": [
    "## SeroPrevalence Dynamics\n",
    "The susceptibles increase through a step function which last for the specified amount of days. Throughout these days it adds a \"dailyincrease\" amount of persons each day.\n",
    "\n",
    "The total increase of people is increasedays*dailyincrease"
   ]
  },
  {
   "cell_type": "code",
   "execution_count": 11,
   "metadata": {},
   "outputs": [],
   "source": [
    "def aux(t):\n",
    "    return 0\n",
    "\n",
    "chi = aux"
   ]
  },
  {
   "cell_type": "markdown",
   "metadata": {},
   "source": [
    "#### Plot Susceptible Dynamics"
   ]
  },
  {
   "cell_type": "markdown",
   "metadata": {},
   "source": [
    "# State transition parameters:"
   ]
  },
  {
   "cell_type": "code",
   "execution_count": 12,
   "metadata": {},
   "outputs": [],
   "source": [
    "#state parameters: \n",
    "pE_Ias = 0.43 # Transition from exposed to Asymptomatic Infected\n",
    "tE_Ias = 3.0\n",
    "pE_Imi = 0.53 # Transition from exposed to  Mild Infected\n",
    "tE_Imi = 3.0\n",
    "pE_Icr = 0.0065 # Transition from exposed to  Critical Infected\n",
    "tE_Icr = 3.0\n",
    "pE_Ise = 0.0335# Transition from exposed to  Serious Infected\n",
    "tE_Ise = 3.0\n",
    "pIas_R = 1.0   # Transition from Asymptomatic Infected to Recovered\n",
    "tIas_R = 5.0\n",
    "pImi_R = 1.0  # Transition from Mild Infected to Recovered\n",
    "tImi_R = 5.0\n",
    "pIse_Hse = 1 # Transition from Serious Infected to Serious Hospitalized (When Hospital capacity is not saturated)\n",
    "tIse_Hse = 5.0\n",
    "pIse_D = 1.0  # Transition from Serious Infected to Death (When Hospital capacity is saturated)\n",
    "tIse_D = 3.0\n",
    "pIcr_V = 1.0  # Transition from Critical Infected to Ventilator (When Ventilators capacity is not saturated)\n",
    "tIcr_V = 3.0\n",
    "pIcr_D = 1.0  # Transition from Serious Infected to Death (When Ventilators capacity is saturated)\n",
    "tIcr_D = 3.0\n",
    "pHse_R = 0.97 # Transition from Serious Hospitalized to Recovered\n",
    "tHse_R = 3.5\n",
    "pHse_V = 0.03# Transition from Serious Hospitalized to Ventilators (When Ventilators capacity is not saturated)\n",
    "tHse_V = 4.0\n",
    "pHse_D = 0.85# Transition from Serious Hospitalized to Death (When Ventilators capacity is saturated)\n",
    "tHse_D = 4.0\n",
    "pV_Hout = 0.45  # Transition from Ventilators to Hospital Recovery (Hout)\n",
    "tV_Hout = 16.0\n",
    "pV_D = 0.55 # Transition from Ventilators to Death\n",
    "tV_D = 12.0\n",
    "pHout_R = 1.0 # Transition from Hospital Recovery (Hout) to Recovered\n",
    "tHout_R = 10.0"
   ]
  },
  {
   "cell_type": "markdown",
   "metadata": {},
   "source": [
    "# Simulation\n",
    "\n",
    "## Initial SeroPrev period\n",
    "Initialize Simulation Object, set params and run the simulation. "
   ]
  },
  {
   "cell_type": "code",
   "execution_count": 16,
   "metadata": {},
   "outputs": [
    {
     "data": {
      "text/plain": [
       "<importdata.ImportData at 0x7fa0582dbb50>"
      ]
     },
     "execution_count": 16,
     "metadata": {},
     "output_type": "execute_result"
    }
   ],
   "source": [
    "state.so"
   ]
  },
  {
   "cell_type": "code",
   "execution_count": 14,
   "metadata": {},
   "outputs": [
    {
     "data": {
      "text/plain": [
       "0.35"
      ]
     },
     "execution_count": 14,
     "metadata": {},
     "output_type": "execute_result"
    }
   ],
   "source": [
    "mu"
   ]
  },
  {
   "cell_type": "code",
   "execution_count": 15,
   "metadata": {},
   "outputs": [
    {
     "name": "stdout",
     "output_type": "stream",
     "text": [
      "InitialCondition Object Data\n",
      "InitialCondition Object Data\n",
      "InitialCondition Object Data\n",
      "InitialCondition Object Data\n",
      "InitialCondition Object Data\n",
      "InitialCondition Object Data\n"
     ]
    }
   ],
   "source": [
    "simulation = [SEIRHVD(tsim,beta,mu,alpha_new[i],k_I=k_I,k_R = k_R, chi = chi,                      \n",
    "                      SeroPrevFactor=SeroPrevFactor,expinfection=expinfection,initdate = initdate,\n",
    "                      Imi_det = Imi_det,Ias_det = Ias_det,RealIC=state) for i in range(len(alpha_new))]"
   ]
  },
  {
   "cell_type": "markdown",
   "metadata": {},
   "source": [
    "Modify simulation state parameters"
   ]
  },
  {
   "cell_type": "code",
   "execution_count": 16,
   "metadata": {},
   "outputs": [
    {
     "name": "stdout",
     "output_type": "stream",
     "text": [
      "Compartimental model State parameters changed\n",
      "Compartimental model State parameters changed\n",
      "Compartimental model State parameters changed\n",
      "Compartimental model State parameters changed\n",
      "Compartimental model State parameters changed\n",
      "Compartimental model State parameters changed\n"
     ]
    }
   ],
   "source": [
    "for i in range(len(simulation)):\n",
    "    simulation[i].pE_Ias=pE_Ias\n",
    "    simulation[i].tE_Ias=tE_Ias\n",
    "    simulation[i].pE_Imi=pE_Imi\n",
    "    simulation[i].tE_Imi=tE_Imi\n",
    "    simulation[i].pE_Icr=pE_Icr\n",
    "    simulation[i].tE_Icr=tE_Icr\n",
    "    simulation[i].pE_Ise=pE_Ise\n",
    "    simulation[i].tE_Ise=tE_Ise\n",
    "    simulation[i].pIas_R=pIas_R\n",
    "    simulation[i].tIas_R =tIas_R\n",
    "    simulation[i].pImi_R=pImi_R\n",
    "    simulation[i].tImi_R =tImi_R\n",
    "    simulation[i].pIse_Hse=pIse_Hse\n",
    "    simulation[i].tIse_Hse=tIse_Hse\n",
    "    simulation[i].pIse_D=pIse_D\n",
    "    simulation[i].tIse_D=tIse_D\n",
    "    simulation[i].pIcr_V=pIcr_V\n",
    "    simulation[i].tIcr_V=tIcr_V\n",
    "    simulation[i].pIcr_D=pIcr_D\n",
    "    simulation[i].tIcr_D=tIcr_D\n",
    "    simulation[i].pHse_R=pHse_R\n",
    "    simulation[i].tHse_R =tHse_R\n",
    "    simulation[i].pHse_V=pHse_V\n",
    "    simulation[i].tHse_V=tHse_V\n",
    "    simulation[i].pHse_D=pHse_D\n",
    "    simulation[i].tHse_D=tHse_D\n",
    "    simulation[i].pV_Hout=pV_Hout\n",
    "    simulation[i].tV_Hout =tV_Hout\n",
    "    simulation[i].pV_D=pV_D\n",
    "    simulation[i].tV_D =tV_D\n",
    "    simulation[i].pHout_R=pHout_R\n",
    "    simulation[i].tHout_R=tHout_R\n",
    "    simulation[i].setnewparams()"
   ]
  },
  {
   "cell_type": "markdown",
   "metadata": {},
   "source": [
    "### Setting new params"
   ]
  },
  {
   "cell_type": "markdown",
   "metadata": {},
   "source": [
    "## Run simulation\n",
    "\n",
    "* **integr_sci**: Fast solver, sometimes stiffness beat it  \n",
    "* **integr:** Slow solver, more robust with stiffness  "
   ]
  },
  {
   "cell_type": "code",
   "execution_count": 17,
   "metadata": {},
   "outputs": [],
   "source": [
    "def simulate(simulation,i,tsim):\n",
    "    simulation[i].integr_sci(0,tsim,0.1)\n",
    "    return simulation[i]"
   ]
  },
  {
   "cell_type": "code",
   "execution_count": 18,
   "metadata": {},
   "outputs": [
    {
     "name": "stdout",
     "output_type": "stream",
     "text": [
      "[Parallel(n_jobs=12)]: Using backend LokyBackend with 12 concurrent workers.\n",
      "[Parallel(n_jobs=12)]: Done   1 tasks      | elapsed:    3.0s\n",
      "[Parallel(n_jobs=12)]: Done   2 out of   6 | elapsed:    3.1s remaining:    6.3s\n",
      "[Parallel(n_jobs=12)]: Done   3 out of   6 | elapsed:    3.2s remaining:    3.2s\n",
      "[Parallel(n_jobs=12)]: Done   4 out of   6 | elapsed:    3.2s remaining:    1.6s\n",
      "[Parallel(n_jobs=12)]: Done   6 out of   6 | elapsed:    3.7s remaining:    0.0s\n",
      "[Parallel(n_jobs=12)]: Done   6 out of   6 | elapsed:    3.7s finished\n",
      "ready\n"
     ]
    }
   ],
   "source": [
    "num_cores = multiprocessing.cpu_count()\n",
    "sims = Parallel(n_jobs=num_cores, verbose=50)(delayed(simulate)(simulation,i,tsim) for i in range(len(simulation)))\n",
    "simulation = sims\n",
    "print('ready')"
   ]
  },
  {
   "cell_type": "markdown",
   "metadata": {},
   "source": [
    "# Analysis"
   ]
  },
  {
   "cell_type": "code",
   "execution_count": 6,
   "metadata": {},
   "outputs": [],
   "source": [
    "saveplot = False\n",
    "if saveplot:\n",
    "    %matplotlib inline\n",
    "#%matplotlib inline\n",
    "%matplotlib tk\n",
    "# Big Screen\n",
    "plt.rcParams[\"figure.figsize\"] = 38.40, 20.56 #19.20,10.80#8,6\n",
    "# Small Screen\n",
    "#plt.rcParams[\"figure.figsize\"] = 19.2, 10.80 #19.20,10.80#8,6\n",
    "plt.rcParams.update({\n",
    "    \"text.usetex\": False,\n",
    "    \"font.family\": \"sans-serif\",\n",
    "    \"font.sans-serif\":[\"Arial\"]})\n"
   ]
  },
  {
   "cell_type": "markdown",
   "metadata": {},
   "source": [
    "# Plot"
   ]
  },
  {
   "cell_type": "code",
   "execution_count": 20,
   "metadata": {},
   "outputs": [],
   "source": [
    "# Days to plot\n",
    "days = 500\n",
    "t_end = 50\n",
    "\n",
    "enddate = initdate + timedelta(days=365)\n",
    "enddate = datetime(2021,7,1)\n",
    "\n",
    "\n",
    "dates = [[initdate+timedelta(days=int(i)) for i in simulation[j].t] for j in range(len(simulation))]\n",
    "SeroPrevalence = [simulation[i].I_ac[-1]/simulation[i].population for i in range(len(simulation))]\n",
    "SeroPrevalenceDet = [simulation[i].I_ac_det[-1]/simulation[i].population for i in range(len(simulation))]"
   ]
  },
  {
   "cell_type": "markdown",
   "metadata": {},
   "source": [
    "### Pantalla"
   ]
  },
  {
   "cell_type": "code",
   "execution_count": 21,
   "metadata": {},
   "outputs": [],
   "source": [
    "pantalla = '1080'\n",
    "if pantalla == '4k':\n",
    "    fontsize_title = 22\n",
    "    fontsize_suptitle = 25\n",
    "    fontsize_label = 18\n",
    "    fontsize_legend = 14\n",
    "\n",
    "#1080\n",
    "elif pantalla == '1080':\n",
    "    fontsize_title = 15\n",
    "    fontsize_suptitle = 16\n",
    "    fontsize_label = 12\n",
    "    fontsize_legend = 12\n",
    "\n",
    "pĺotlinewidth = 2\n",
    "datelinewidth = 1.5"
   ]
  },
  {
   "cell_type": "markdown",
   "metadata": {},
   "source": [
    "# Grid Plot"
   ]
  },
  {
   "cell_type": "code",
   "execution_count": 60,
   "metadata": {},
   "outputs": [],
   "source": [
    "renewalFactor = [0]\n",
    "sim_InfDiario = False\n",
    "sim_InfEPI = True\n",
    "\n",
    "colors = plt.cm.rainbow_r(np.linspace(0,1,len(simulation)))\n",
    "\n",
    "fig, axs = plt.subplots(2, 2)\n",
    "\n",
    "for i in range(len(simulation)):\n",
    "    if type(mu) == list:\n",
    "        axs[0,0].plot(dates[i],simulation[i].I_ac_det,linewidth=pĺotlinewidth,label='mu: '+str(mu[i])+' | SP_R: '+str(round(100*SeroPrevalence[i],2))+'%'+' | SP_D:'+str(round(100*SeroPrevalenceDet[i],2))+'%',color=colors[i])\n",
    "    if type(alpha_new) == list:\n",
    "        axs[0,0].plot(dates[i],simulation[i].I_ac_det,linewidth=pĺotlinewidth,label='Movilidad: '+str(escenarios[i])+'%',color=colors[i])\n",
    "axs[0,0].set_title('Infectados Acumulados',fontsize=fontsize_title)\n",
    "axs[0,0].set_xlim(initdate,enddate)\n",
    "axs[0,0].set_ylim(0,3.5e6)\n",
    "\n",
    "\n",
    "\n",
    "axs[0,0].axvline(x = datetime(2020,12,25), linestyle = 'dotted',color = 'red',label='Navidad',linewidth=datelinewidth)\n",
    "axs[0,0].axvline(x = datetime(2020,12,31), linestyle = 'dotted',color = 'blue',label='Año Nuevo',linewidth=datelinewidth)\n",
    "#axs[0,0].axvline(x = datetime(2021,2,15), linestyle = 'dotted',color = 'green',label='15 Febrero',linewidth=datelinewidth)\n",
    "\n",
    " \n",
    "\n",
    "#axs[0,0].plot([], [], ' ', label='RF: RenewalFactor')\n",
    "#axs[0,0].plot([], [], ' ', label='SP_R: SeroPrevalence Real')\n",
    "#axs[0,0].plot([], [], ' ', label='SP_D: SeroPrevalence Detected')\n",
    "\n",
    "if sim_InfEPI:\n",
    "    axs[0,0].scatter(state.I_ac_r_dates,state.I_ac_r,color='black',label='Informe EPI',zorder=10)\n",
    "\n",
    "if sim_InfDiario:\n",
    "    # cambiar\n",
    "    axs[0,0].scatter(I_ac_dates,I_ac,color='grey',label='Informe Diario',zorder=10)\n",
    "\n",
    "axs[0,0].fmt_xdata = mdates.DateFormatter('%Y-%m-%d')\n",
    "axs[0,0].legend(loc='upper left')\n",
    "\n",
    "axs[0,0].grid(color='grey', linestyle='dotted', linewidth=0.5)\n",
    "\n",
    "\n",
    "# Accumulated deaths\n",
    "for i in range(len(simulation)):\n",
    "    if type(mu) == list:\n",
    "        axs[0,1].plot(dates[i],simulation[i].B,label='mu: '+str(mu[i]),color=colors[i],linewidth=pĺotlinewidth)\n",
    "    if type(alpha_new) == list:\n",
    "        axs[0,1].plot(dates[i],simulation[i].B,label='Movilidad: '+str(escenarios[i])+'%',color=colors[i],linewidth=pĺotlinewidth)\n",
    "    \n",
    "axs[0,1].set_title('Fallecidos Acumulados (PCR+)',fontsize=fontsize_title)\n",
    "axs[0,1].set_xlim(initdate,enddate)\n",
    "axs[0,1].set_ylim(0,60000)\n",
    "#axs[0,1].set_ylim(0,1e4)\n",
    "\n",
    "axs[0,1].axvline(x = datetime(2020,12,25), linestyle = 'dotted',color = 'red',label='Navidad',linewidth=datelinewidth)\n",
    "axs[0,1].axvline(x = datetime(2020,12,31), linestyle = 'dotted',color = 'blue',label='Año Nuevo',linewidth=datelinewidth)\n",
    "#axs[0,1].axvline(x = datetime(2021,2,15), linestyle = 'dotted',color = 'green',label='15 Febrero',linewidth=datelinewidth)\n",
    "\n",
    "axs[0,1].scatter(state.Br_dates,state.Br,label='Datos',color='black',zorder=10)\n",
    "\n",
    "axs[0,1].fmt_xdata = mdates.DateFormatter('%Y-%m-%d')\n",
    "axs[0,1].legend(loc='upper left')\n",
    "\n",
    "\n",
    "for i in range(len(simulation)):\n",
    "    if type(mu) == list:\n",
    "        axs[1,0].plot(dates[i],simulation[i].I_d_det,label='mu: '+str(mu[i]),color=colors[i],linewidth=pĺotlinewidth)\n",
    "    if type(alpha_new) == list:\n",
    "        axs[1,0].plot(dates[i],simulation[i].I_d_det,label='Movilidad: '+str(escenarios[i])+'%',color=colors[i],linewidth=pĺotlinewidth)\n",
    "axs[1,0].set_title('Nuevos Infectados Diarios',fontsize=fontsize_title)\n",
    "axs[1,0].set_xlim(initdate,enddate)\n",
    "#axs[1,0].set_ylim(0,1e4)\n",
    "\n",
    "if sim_InfEPI:\n",
    "    axs[1,0].scatter(state.I_d_r_dates,state.I_d_r,label='Informe EPI',color='black',zorder=5)\n",
    "if sim_InfDiario:\n",
    "    axs[1,0].scatter(I_week_ra_dates,I_week_ra,label='Informe diario (RA5D)',color='red',zorder=5)  \n",
    "    axs[1,0].plot(dates_I_d,I_d,label='Informe diario',color='blue',zorder=10,linestyle='dashed')\n",
    "    \n",
    "#axs[1,0].axvline(x = SPchange_date, linestyle = 'dotted',color = 'grey',label='Inicio Apertura')\n",
    "#axs[1,0].axvline(x = datetime(2020,8,22), linestyle = 'dotted',color = 'grey',label='Inicio Cuarentena')\n",
    "#axs[1,0].axvline(x = fiestaspatrias, linestyle = 'dotted',color = 'red',label='18 Sept')\n",
    "#axs[1,0].axvline(x = plebiscito, linestyle = 'dotted',color = 'blue',label='Plebiscito',linewidth=datelinewidth)\n",
    "\n",
    "axs[1,0].axvline(x = datetime(2020,12,25), linestyle = 'dotted',color = 'red',label='Navidad',linewidth=datelinewidth)\n",
    "axs[1,0].axvline(x = datetime(2020,12,31), linestyle = 'dotted',color = 'blue',label='Año Nuevo',linewidth=datelinewidth)\n",
    "#axs[1,0].axvline(x = datetime(2021,2,15), linestyle = 'dotted',color = 'green',label='15 Febrero',linewidth=datelinewidth)\n",
    "\n",
    "#axs[1,0].axvline(x = datetime(2020,7,18), linestyle = 'dotted',color = 'grey',label='Cambio a fase 3')\n",
    "#axs[1,0].axvline(x = datetime(2020,9,11), linestyle = 'dashed',color = 'grey',label='Cambio a fase 4')\n",
    "#axs[1,0].axvline(x = datetime(2020,10,3), linestyle = 'dashdot',color = 'grey',label='Cambio a fase 2')\n",
    "\n",
    "\n",
    "axs[1,0].legend(loc='upper left')\n",
    "\n",
    "axs[1,1].plot(state.UCI_dates,4500-np.array(state.UCI_use_noncovid),label='Limite uso COVID',color='black',zorder=10)\n",
    "for i in range(len(simulation)):\n",
    "    if type(mu) == list:\n",
    "        axs[1,1].plot(dates[i],simulation[i].V,label='mu: '+str(mu[i]),color=colors[i],linewidth=pĺotlinewidth)\n",
    "    #axs[1,1].plot(dates[i],simulation[i].V_need,linestyle='dashed',color=colors[i])\n",
    "    if type(alpha_new) == list:\n",
    "        axs[1,1].plot(dates[i],simulation[i].V,label='Mov: '+str(escenarios[i])+'%',color=colors[i],linewidth=pĺotlinewidth)\n",
    "axs[1,1].set_title('Uso UCI',fontsize=fontsize_title)\n",
    "axs[1,1].set_xlim(datetime(2021,3,15),datetime(2021,6,1))\n",
    "axs[1,1].set_ylim(0,4e3)\n",
    "\n",
    "axs[1,1].scatter(state.UCI_dates,state.UCI_use_covid,label='Datos',color='black',zorder=10)\n",
    "#axs[1,1].plot(state.UCI_dates,state.UCI_capacity,label='UCI Capacity', linestyle = 'dashed', color = 'grey')\n",
    "axs[1,1].plot(simulation[0].dates,simulation[0].V_cap, linestyle = 'dashed', color = 'black')\n",
    "\n",
    "axs[1,1].axvline(x = datetime(2021,4,25), linestyle = 'dotted',color = 'grey')\n",
    "axs[1,1].axvline(x = datetime(2021,4,30), linestyle = 'dotted',color = 'grey')\n",
    "\n",
    "#axs[1,1].axvline(x = fiestaspatrias, linestyle = 'dotted',color = 'red',label='18 Sept')\n",
    "#axs[1,1].axvline(x = plebiscito, linestyle = 'dotted',color = 'blue',label='Plebiscito',linewidth=datelinewidth)\n",
    "#axs[1,1].axvline(x = datetime(2020,12,25), linestyle = 'dotted',color = 'red',label='Navidad',linewidth=datelinewidth)\n",
    "#axs[1,1].axvline(x = datetime(2020,12,31), linestyle = 'dotted',color = 'blue',label='Año Nuevo',linewidth=datelinewidth)\n",
    "#axs[1,1].axvline(x = datetime(2021,2,15), linestyle = 'dotted',color = 'green',label='15 Febrero',linewidth=datelinewidth)\n",
    "\n",
    "\n",
    "\n",
    "# Format and shit\n",
    "\n",
    "# Grid\n",
    "axs[0,0].grid(color='grey', linestyle='dotted', linewidth=0.5)\n",
    "axs[0,1].grid(color='grey', linestyle='dotted', linewidth=0.5)\n",
    "axs[1,0].grid(color='grey', linestyle='dotted', linewidth=0.5)\n",
    "axs[1,1].grid(color='grey', linestyle='dotted', linewidth=0.5)\n",
    "\n",
    "\n",
    "# Date format\n",
    "axs[0,0].fmt_xdata = mdates.DateFormatter('%d-%m-%Y')\n",
    "axs[0,1].fmt_xdata = mdates.DateFormatter('%d-%m-%Y')\n",
    "axs[1,0].fmt_xdata = mdates.DateFormatter('%d-%m-%Y')\n",
    "axs[1,1].fmt_xdata = mdates.DateFormatter('%d-%m-%Y')\n",
    "\n",
    "# Y axis\n",
    "#axs[0,0].get_yaxis().set_major_formatter(matplotlib.ticker.FuncFormatter(lambda x, p: format(int(x), ',')))\n",
    "axs[0,1].get_yaxis().set_major_formatter(matplotlib.ticker.FuncFormatter(lambda x, p: format(int(x), ',')))\n",
    "axs[1,0].get_yaxis().set_major_formatter(matplotlib.ticker.FuncFormatter(lambda x, p: format(int(x), ',')))\n",
    "axs[1,1].get_yaxis().set_major_formatter(matplotlib.ticker.FuncFormatter(lambda x, p: format(int(x), ',')))\n",
    "\n",
    "# Font-size\n",
    "axs[0,0].tick_params(labelsize=fontsize_label)\n",
    "axs[0,1].tick_params(labelsize=fontsize_label)\n",
    "axs[1,0].tick_params(labelsize=fontsize_label)\n",
    "axs[1,1].tick_params(labelsize=fontsize_label)\n",
    "\n",
    "# Legend\n",
    "axs[0,0].legend(loc='upper left',fontsize=fontsize_legend)\n",
    "axs[0,1].legend(loc='upper left',fontsize=fontsize_legend)\n",
    "axs[1,0].legend(loc='upper left',fontsize=fontsize_legend)\n",
    "axs[1,1].legend(bbox_to_anchor=(0.33, 0.52),fontsize=fontsize_legend)\n",
    "\n",
    "# Ephemerides\n",
    "for i in mob_dates:\n",
    "    axs[0,0].axvline(x = i, linestyle = 'dashed',linewidth=datelinewidth)\n",
    "    axs[0,1].axvline(x = i, linestyle = 'dashed',linewidth=datelinewidth)\n",
    "    axs[1,0].axvline(x = i, linestyle = 'dashed',linewidth=datelinewidth)\n",
    "    axs[1,1].axvline(x = i, linestyle = 'dashed',linewidth=datelinewidth)\n",
    "\n",
    "\n",
    "fig.suptitle(title,fontsize=fontsize_suptitle)\n",
    "fig.show()"
   ]
  },
  {
   "cell_type": "code",
   "execution_count": 23,
   "metadata": {},
   "outputs": [
    {
     "data": {
      "text/plain": [
       "6"
      ]
     },
     "execution_count": 23,
     "metadata": {},
     "output_type": "execute_result"
    }
   ],
   "source": [
    "len(alpha_var)"
   ]
  },
  {
   "cell_type": "code",
   "execution_count": 24,
   "metadata": {},
   "outputs": [
    {
     "name": "stdout",
     "output_type": "stream",
     "text": [
      "stop\n"
     ]
    }
   ],
   "source": [
    "print('stop')"
   ]
  },
  {
   "cell_type": "code",
   "execution_count": 25,
   "metadata": {},
   "outputs": [
    {
     "name": "stdout",
     "output_type": "stream",
     "text": [
      "stop\n"
     ]
    },
    {
     "name": "stderr",
     "output_type": "stream",
     "text": [
      "findfont: Font family ['sans-serif'] not found. Falling back to DejaVu Sans.\n",
      "findfont: Font family ['sans-serif'] not found. Falling back to DejaVu Sans.\n",
      "findfont: Font family ['sans-serif'] not found. Falling back to DejaVu Sans.\n",
      "findfont: Font family ['sans-serif'] not found. Falling back to DejaVu Sans.\n"
     ]
    }
   ],
   "source": [
    "print('stop')"
   ]
  },
  {
   "cell_type": "code",
   "execution_count": null,
   "metadata": {},
   "outputs": [],
   "source": []
  },
  {
   "cell_type": "markdown",
   "metadata": {},
   "source": [
    "# Generación de tablas"
   ]
  },
  {
   "cell_type": "code",
   "execution_count": null,
   "metadata": {},
   "outputs": [],
   "source": [
    "'Movilidad: '+str(escenarios[i])+'%'\n",
    "dates[i],simulation[i].V\n",
    "axs[1,1].plot(simulation[0].dates,simulation[0].V_cap, linestyle = 'dashed', color = 'black')\n"
   ]
  },
  {
   "cell_type": "markdown",
   "metadata": {},
   "source": [
    "Construir DataFrame"
   ]
  },
  {
   "cell_type": "code",
   "execution_count": null,
   "metadata": {},
   "outputs": [],
   "source": [
    "vmi_dict = [{'Uso_UCI_mov_'+str(escenarios[i]):np.around(simulation[i].V)} for i in range(len(escenarios))]"
   ]
  },
  {
   "cell_type": "code",
   "execution_count": null,
   "metadata": {},
   "outputs": [],
   "source": [
    "vmi_table = {'fechas':dates[0]}\n",
    "for i in vmi_dict:\n",
    "    vmi_table =  {**vmi_table, **i} "
   ]
  },
  {
   "cell_type": "code",
   "execution_count": null,
   "metadata": {},
   "outputs": [],
   "source": [
    "vmi_df = pd.DataFrame(vmi_table)"
   ]
  },
  {
   "cell_type": "code",
   "execution_count": null,
   "metadata": {},
   "outputs": [],
   "source": [
    "aux = vmi_df.iloc[109:309].to_csv('/home/samuel/Dropbox/DLab/Covid/DataProjections/Chile/UCI_data.csv')"
   ]
  },
  {
   "cell_type": "code",
   "execution_count": null,
   "metadata": {},
   "outputs": [],
   "source": [
    "vmi_df.to_csv('/home/samuel/Dropbox/DLab/Covid/DataProjections/Chile/UCI_data.csv')"
   ]
  },
  {
   "cell_type": "code",
   "execution_count": null,
   "metadata": {},
   "outputs": [],
   "source": [
    "type(simulation[0].V)"
   ]
  },
  {
   "cell_type": "code",
   "execution_count": null,
   "metadata": {},
   "outputs": [],
   "source": []
  },
  {
   "cell_type": "markdown",
   "metadata": {},
   "source": [
    "#### infectadios diarios"
   ]
  },
  {
   "cell_type": "code",
   "execution_count": 59,
   "metadata": {},
   "outputs": [],
   "source": [
    "i=0\n",
    "plt.plot(dates[i],simulation[i].I_d)\n",
    "plt.show()"
   ]
  },
  {
   "cell_type": "code",
   "execution_count": 61,
   "metadata": {},
   "outputs": [],
   "source": [
    "Id_dict = [{'Id_mov_'+str(escenarios[i]):np.around(simulation[i].I_d_det)} for i in range(len(escenarios))]"
   ]
  },
  {
   "cell_type": "code",
   "execution_count": 62,
   "metadata": {},
   "outputs": [],
   "source": [
    "Id_table = {'fechas':dates[0]}\n",
    "for i in Id_dict:\n",
    "    Id_table =  {**Id_table, **i} \n",
    "Id_df = pd.DataFrame(Id_table)"
   ]
  },
  {
   "cell_type": "code",
   "execution_count": 63,
   "metadata": {},
   "outputs": [],
   "source": [
    "Id_10may = Id_df[(Id_df['fechas']>=datetime(2021,5,10)) & (Id_df['fechas']<datetime(2021,5,17))]"
   ]
  },
  {
   "cell_type": "code",
   "execution_count": 64,
   "metadata": {},
   "outputs": [
    {
     "data": {
      "text/html": [
       "<div>\n",
       "<style scoped>\n",
       "    .dataframe tbody tr th:only-of-type {\n",
       "        vertical-align: middle;\n",
       "    }\n",
       "\n",
       "    .dataframe tbody tr th {\n",
       "        vertical-align: top;\n",
       "    }\n",
       "\n",
       "    .dataframe thead th {\n",
       "        text-align: right;\n",
       "    }\n",
       "</style>\n",
       "<table border=\"1\" class=\"dataframe\">\n",
       "  <thead>\n",
       "    <tr style=\"text-align: right;\">\n",
       "      <th></th>\n",
       "      <th>fechas</th>\n",
       "      <th>Id_mov_20</th>\n",
       "      <th>Id_mov_40</th>\n",
       "      <th>Id_mov_60</th>\n",
       "      <th>Id_mov_80</th>\n",
       "      <th>Id_mov_90</th>\n",
       "      <th>Id_mov_100</th>\n",
       "    </tr>\n",
       "  </thead>\n",
       "  <tbody>\n",
       "    <tr>\n",
       "      <th>165</th>\n",
       "      <td>2021-05-10</td>\n",
       "      <td>1927.0</td>\n",
       "      <td>3972.0</td>\n",
       "      <td>6173.0</td>\n",
       "      <td>8562.0</td>\n",
       "      <td>9835.0</td>\n",
       "      <td>11164.0</td>\n",
       "    </tr>\n",
       "    <tr>\n",
       "      <th>166</th>\n",
       "      <td>2021-05-11</td>\n",
       "      <td>1925.0</td>\n",
       "      <td>3967.0</td>\n",
       "      <td>6166.0</td>\n",
       "      <td>8554.0</td>\n",
       "      <td>9827.0</td>\n",
       "      <td>11157.0</td>\n",
       "    </tr>\n",
       "    <tr>\n",
       "      <th>167</th>\n",
       "      <td>2021-05-12</td>\n",
       "      <td>1923.0</td>\n",
       "      <td>3962.0</td>\n",
       "      <td>6158.0</td>\n",
       "      <td>8546.0</td>\n",
       "      <td>9819.0</td>\n",
       "      <td>11150.0</td>\n",
       "    </tr>\n",
       "    <tr>\n",
       "      <th>168</th>\n",
       "      <td>2021-05-13</td>\n",
       "      <td>1921.0</td>\n",
       "      <td>3957.0</td>\n",
       "      <td>6151.0</td>\n",
       "      <td>8538.0</td>\n",
       "      <td>9811.0</td>\n",
       "      <td>11142.0</td>\n",
       "    </tr>\n",
       "    <tr>\n",
       "      <th>169</th>\n",
       "      <td>2021-05-14</td>\n",
       "      <td>1919.0</td>\n",
       "      <td>3953.0</td>\n",
       "      <td>6145.0</td>\n",
       "      <td>8530.0</td>\n",
       "      <td>9803.0</td>\n",
       "      <td>11133.0</td>\n",
       "    </tr>\n",
       "    <tr>\n",
       "      <th>170</th>\n",
       "      <td>2021-05-15</td>\n",
       "      <td>1917.0</td>\n",
       "      <td>3949.0</td>\n",
       "      <td>6138.0</td>\n",
       "      <td>8521.0</td>\n",
       "      <td>9794.0</td>\n",
       "      <td>11124.0</td>\n",
       "    </tr>\n",
       "    <tr>\n",
       "      <th>171</th>\n",
       "      <td>2021-05-16</td>\n",
       "      <td>1916.0</td>\n",
       "      <td>3945.0</td>\n",
       "      <td>6131.0</td>\n",
       "      <td>8513.0</td>\n",
       "      <td>9784.0</td>\n",
       "      <td>11114.0</td>\n",
       "    </tr>\n",
       "  </tbody>\n",
       "</table>\n",
       "</div>"
      ],
      "text/plain": [
       "        fechas  Id_mov_20  Id_mov_40  Id_mov_60  Id_mov_80  Id_mov_90  \\\n",
       "165 2021-05-10     1927.0     3972.0     6173.0     8562.0     9835.0   \n",
       "166 2021-05-11     1925.0     3967.0     6166.0     8554.0     9827.0   \n",
       "167 2021-05-12     1923.0     3962.0     6158.0     8546.0     9819.0   \n",
       "168 2021-05-13     1921.0     3957.0     6151.0     8538.0     9811.0   \n",
       "169 2021-05-14     1919.0     3953.0     6145.0     8530.0     9803.0   \n",
       "170 2021-05-15     1917.0     3949.0     6138.0     8521.0     9794.0   \n",
       "171 2021-05-16     1916.0     3945.0     6131.0     8513.0     9784.0   \n",
       "\n",
       "     Id_mov_100  \n",
       "165     11164.0  \n",
       "166     11157.0  \n",
       "167     11150.0  \n",
       "168     11142.0  \n",
       "169     11133.0  \n",
       "170     11124.0  \n",
       "171     11114.0  "
      ]
     },
     "execution_count": 64,
     "metadata": {},
     "output_type": "execute_result"
    }
   ],
   "source": [
    "Id_10may"
   ]
  },
  {
   "cell_type": "code",
   "execution_count": 65,
   "metadata": {},
   "outputs": [],
   "source": [
    "Id_average = [np.mean(Id_10may[i]) for i in Id_10may.keys()[1:]]"
   ]
  },
  {
   "cell_type": "code",
   "execution_count": 67,
   "metadata": {},
   "outputs": [
    {
     "data": {
      "text/plain": [
       "array([ 1921.,  3958.,  6152.,  8538.,  9810., 11141.])"
      ]
     },
     "execution_count": 67,
     "metadata": {},
     "output_type": "execute_result"
    }
   ],
   "source": [
    "np.around(Id_average)"
   ]
  },
  {
   "cell_type": "code",
   "execution_count": 54,
   "metadata": {},
   "outputs": [
    {
     "data": {
      "text/html": [
       "<div>\n",
       "<style scoped>\n",
       "    .dataframe tbody tr th:only-of-type {\n",
       "        vertical-align: middle;\n",
       "    }\n",
       "\n",
       "    .dataframe tbody tr th {\n",
       "        vertical-align: top;\n",
       "    }\n",
       "\n",
       "    .dataframe thead th {\n",
       "        text-align: right;\n",
       "    }\n",
       "</style>\n",
       "<table border=\"1\" class=\"dataframe\">\n",
       "  <thead>\n",
       "    <tr style=\"text-align: right;\">\n",
       "      <th></th>\n",
       "      <th>fechas</th>\n",
       "      <th>Id_mov_20</th>\n",
       "      <th>Id_mov_40</th>\n",
       "      <th>Id_mov_60</th>\n",
       "      <th>Id_mov_80</th>\n",
       "      <th>Id_mov_90</th>\n",
       "      <th>Id_mov_100</th>\n",
       "    </tr>\n",
       "  </thead>\n",
       "  <tbody>\n",
       "    <tr>\n",
       "      <th>165</th>\n",
       "      <td>2021-05-10</td>\n",
       "      <td>6532.0</td>\n",
       "      <td>13465.0</td>\n",
       "      <td>20926.0</td>\n",
       "      <td>29025.0</td>\n",
       "      <td>33338.0</td>\n",
       "      <td>37844.0</td>\n",
       "    </tr>\n",
       "    <tr>\n",
       "      <th>166</th>\n",
       "      <td>2021-05-11</td>\n",
       "      <td>6524.0</td>\n",
       "      <td>13448.0</td>\n",
       "      <td>20900.0</td>\n",
       "      <td>28997.0</td>\n",
       "      <td>33313.0</td>\n",
       "      <td>37822.0</td>\n",
       "    </tr>\n",
       "    <tr>\n",
       "      <th>167</th>\n",
       "      <td>2021-05-12</td>\n",
       "      <td>6517.0</td>\n",
       "      <td>13431.0</td>\n",
       "      <td>20876.0</td>\n",
       "      <td>28970.0</td>\n",
       "      <td>33286.0</td>\n",
       "      <td>37797.0</td>\n",
       "    </tr>\n",
       "    <tr>\n",
       "      <th>168</th>\n",
       "      <td>2021-05-13</td>\n",
       "      <td>6511.0</td>\n",
       "      <td>13415.0</td>\n",
       "      <td>20852.0</td>\n",
       "      <td>28942.0</td>\n",
       "      <td>33258.0</td>\n",
       "      <td>37770.0</td>\n",
       "    </tr>\n",
       "    <tr>\n",
       "      <th>169</th>\n",
       "      <td>2021-05-14</td>\n",
       "      <td>6505.0</td>\n",
       "      <td>13400.0</td>\n",
       "      <td>20829.0</td>\n",
       "      <td>28914.0</td>\n",
       "      <td>33229.0</td>\n",
       "      <td>37740.0</td>\n",
       "    </tr>\n",
       "    <tr>\n",
       "      <th>170</th>\n",
       "      <td>2021-05-15</td>\n",
       "      <td>6499.0</td>\n",
       "      <td>13386.0</td>\n",
       "      <td>20806.0</td>\n",
       "      <td>28885.0</td>\n",
       "      <td>33199.0</td>\n",
       "      <td>37709.0</td>\n",
       "    </tr>\n",
       "    <tr>\n",
       "      <th>171</th>\n",
       "      <td>2021-05-16</td>\n",
       "      <td>6493.0</td>\n",
       "      <td>13372.0</td>\n",
       "      <td>20783.0</td>\n",
       "      <td>28856.0</td>\n",
       "      <td>33168.0</td>\n",
       "      <td>37674.0</td>\n",
       "    </tr>\n",
       "  </tbody>\n",
       "</table>\n",
       "</div>"
      ],
      "text/plain": [
       "        fechas  Id_mov_20  Id_mov_40  Id_mov_60  Id_mov_80  Id_mov_90  \\\n",
       "165 2021-05-10     6532.0    13465.0    20926.0    29025.0    33338.0   \n",
       "166 2021-05-11     6524.0    13448.0    20900.0    28997.0    33313.0   \n",
       "167 2021-05-12     6517.0    13431.0    20876.0    28970.0    33286.0   \n",
       "168 2021-05-13     6511.0    13415.0    20852.0    28942.0    33258.0   \n",
       "169 2021-05-14     6505.0    13400.0    20829.0    28914.0    33229.0   \n",
       "170 2021-05-15     6499.0    13386.0    20806.0    28885.0    33199.0   \n",
       "171 2021-05-16     6493.0    13372.0    20783.0    28856.0    33168.0   \n",
       "\n",
       "     Id_mov_100  \n",
       "165     37844.0  \n",
       "166     37822.0  \n",
       "167     37797.0  \n",
       "168     37770.0  \n",
       "169     37740.0  \n",
       "170     37709.0  \n",
       "171     37674.0  "
      ]
     },
     "execution_count": 54,
     "metadata": {},
     "output_type": "execute_result"
    }
   ],
   "source": [
    "Id_10may"
   ]
  },
  {
   "cell_type": "code",
   "execution_count": null,
   "metadata": {},
   "outputs": [],
   "source": []
  }
 ],
 "metadata": {
  "kernelspec": {
   "display_name": "Python 3",
   "language": "python",
   "name": "python3"
  },
  "language_info": {
   "codemirror_mode": {
    "name": "ipython",
    "version": 3
   },
   "file_extension": ".py",
   "mimetype": "text/x-python",
   "name": "python",
   "nbconvert_exporter": "python",
   "pygments_lexer": "ipython3",
   "version": "3.8.3"
  }
 },
 "nbformat": 4,
 "nbformat_minor": 4
}
