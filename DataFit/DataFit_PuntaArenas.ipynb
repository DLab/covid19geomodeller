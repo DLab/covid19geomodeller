{
 "cells": [
  {
   "cell_type": "markdown",
   "metadata": {},
   "source": [
    "# DataFit PuntaArenas"
   ]
  },
  {
   "cell_type": "code",
   "execution_count": 1,
   "metadata": {},
   "outputs": [
    {
     "name": "stdout",
     "output_type": "stream",
     "text": [
      "Linux\n"
     ]
    }
   ],
   "source": [
    "import numpy as np\n",
    "import pandas as pd\n",
    "import matplotlib.pyplot as plt\n",
    "from datetime import datetime\n",
    "from numpy import linalg as LA\n",
    "import requests\n",
    "\n",
    "import platform\n",
    "OS = platform.system()\n",
    "\n",
    "import matplotlib.pyplot as plt\n",
    "if OS == 'Linux':    \n",
    "    %matplotlib tk\n",
    "    print('Linux')\n",
    "elif OS == 'Windows':\n",
    "    %matplotlib qt\n",
    "    print('Windows')\n",
    "else:\n",
    "    print('OS not detected :-|')\n",
    "\n",
    "import sys\n",
    "from pathlib import Path\n",
    "sys.path.insert(1, '../src/utils/')\n",
    "sys.path.insert(1, 'src/utils/')\n",
    "\n",
    "from importdata import ImportData"
   ]
  },
  {
   "cell_type": "markdown",
   "metadata": {},
   "source": [
    "## Import Data"
   ]
  },
  {
   "cell_type": "code",
   "execution_count": 2,
   "metadata": {},
   "outputs": [],
   "source": [
    "# First simulation Initial date\n",
    "initdate = datetime(2020,5,15)\n",
    "# Date for change in SeroPrevalence\n",
    "SPchange_date = datetime(2020,8,14)\n",
    "\n",
    "# Current date\n",
    "currentdate = datetime.now()\n",
    "currentday = (currentdate - initdate).days\n",
    "\n",
    "fiestaspatrias = datetime(2020,9,18)\n",
    "fiestaspatrias_day = (fiestaspatrias-initdate).days\n",
    "plebiscito = datetime(2020,10,25)\n",
    "plebiscito_day = (plebiscito-initdate).days"
   ]
  },
  {
   "cell_type": "code",
   "execution_count": 3,
   "metadata": {},
   "outputs": [
    {
     "name": "stdout",
     "output_type": "stream",
     "text": [
      "Importing General Data\n",
      "Importing Population\n",
      "Importing Active infected\n",
      "Importing Accumulated Infected\n",
      "Importing Daily Infected\n",
      "Importing Sochimi Data 2\n",
      "Importing Accumulated Deaths\n",
      "Importing Active Infected by Minciencia\n",
      "Importing Hospitalized/NonHospitalized Deaths\n",
      "Done\n"
     ]
    }
   ],
   "source": [
    "PuntaArenas = ImportData(tstate = '12', initdate = initdate)\n",
    "PuntaArenas.importdata()"
   ]
  },
  {
   "cell_type": "markdown",
   "metadata": {},
   "source": [
    "# Data Visualization"
   ]
  },
  {
   "cell_type": "code",
   "execution_count": 38,
   "metadata": {},
   "outputs": [
    {
     "data": {
      "text/plain": [
       "<matplotlib.legend.Legend at 0x7f72a64ca0a0>"
      ]
     },
     "execution_count": 38,
     "metadata": {},
     "output_type": "execute_result"
    }
   ],
   "source": [
    "fig, axs = plt.subplots(2, 3)\n",
    "\n",
    "#for i in range(len(simulation)):\n",
    "#    axs[0,0].plot(dates[i],simulation[i].I_ac_det,label='RF: '+str(renewalFactor[i])+' | SP_R: '+str(round(100*SeroPrevalence[i],2))+'%'+' | SP_D:'+str(round(100*SeroPrevalenceDet[i],2))+'%',color=colors[i])\n",
    "axs[0,0].set_title('Accumulated Infected')\n",
    "axs[0,0].set_xlim(initdate,datetime(2020,12,31))\n",
    "axs[0,0].scatter(PuntaArenas.I_ac_r_dates,PuntaArenas.I_ac_r)\n",
    "axs[0,0].axvline(x = SPchange_date, linestyle = 'dotted',color = 'grey',label='Inicio Apertura')\n",
    "axs[0,0].axvline(x = fiestaspatrias, linestyle = 'dotted',color = 'red',label='18 Sept')\n",
    "axs[0,0].axvline(x = plebiscito, linestyle = 'dotted',color = 'blue',label='Plebiscito')\n",
    "axs[0,0].legend(loc=0)\n",
    "\n",
    "\n",
    "axs[0,1].set_title('Hospitalized Accumulated Deaths')\n",
    "axs[0,1].set_xlim(initdate,datetime(2020,12,31))\n",
    "axs[0,1].scatter(PuntaArenas.Br_dates,PuntaArenas.Br,label='Muertes Totales')\n",
    "axs[0,1].axvline(x = SPchange_date, linestyle = 'dotted',color = 'grey',label='Inicio Apertura')\n",
    "axs[0,1].axvline(x = fiestaspatrias, linestyle = 'dotted',color = 'red',label='18 Sept')\n",
    "axs[0,1].axvline(x = plebiscito, linestyle = 'dotted',color = 'blue',label='Plebiscito')\n",
    "axs[0,1].legend(loc=0)\n",
    "\n",
    "#for i in range(len(simulation)):\n",
    "#    axs[0,0].plot(dates[i],simulation[i].I_ac_det,label='RF: '+str(renewalFactor[i])+' | SP_R: '+str(round(100*SeroPrevalence[i],2))+'%'+' | SP_D:'+str(round(100*SeroPrevalenceDet[i],2))+'%',color=colors[i])\n",
    "axs[0,2].set_title('Daily new Infected')\n",
    "axs[0,2].set_xlim(initdate,datetime(2020,12,31))\n",
    "axs[0,2].scatter(PuntaArenas.I_d_r_dates,PuntaArenas.I_d_r)\n",
    "axs[0,2].axvline(x = SPchange_date, linestyle = 'dotted',color = 'grey',label='Inicio Apertura')\n",
    "axs[0,2].axvline(x = fiestaspatrias, linestyle = 'dotted',color = 'red',label='18 Sept')\n",
    "axs[0,2].axvline(x = plebiscito, linestyle = 'dotted',color = 'blue',label='Plebiscito')\n",
    "axs[0,2].legend(loc=0)\n",
    "\n",
    "\n",
    "axs[1,0].set_title('UTI')\n",
    "axs[1,0].set_xlim(initdate,datetime(2020,12,31))\n",
    "axs[1,0].scatter(PuntaArenas.sochimi_dates,PuntaArenas.UTI,label='UTI usage')\n",
    "axs[1,0].scatter(PuntaArenas.sochimi_dates,PuntaArenas.UTI_tot,label='UTI capacity')\n",
    "axs[1,0].axvline(x = SPchange_date, linestyle = 'dotted',color = 'grey',label='Inicio Apertura')\n",
    "axs[1,0].axvline(x = fiestaspatrias, linestyle = 'dotted',color = 'red',label='18 Sept')\n",
    "axs[1,0].axvline(x = plebiscito, linestyle = 'dotted',color = 'blue',label='Plebiscito')\n",
    "axs[1,0].legend(loc=0)\n",
    "\n",
    "\n",
    "\n",
    "axs[1,1].set_title('VMI')\n",
    "axs[1,1].set_xlim(initdate,datetime(2020,12,31))\n",
    "axs[1,1].scatter(PuntaArenas.sochimi_dates,PuntaArenas.Vr,label='VMI Usage')\n",
    "axs[1,1].scatter(PuntaArenas.sochimi_dates,PuntaArenas.Vr_tot,label='VMI Capacity')\n",
    "axs[1,1].axvline(x = SPchange_date, linestyle = 'dotted',color = 'grey',label='Inicio Apertura')\n",
    "axs[1,1].axvline(x = fiestaspatrias, linestyle = 'dotted',color = 'red',label='18 Sept')\n",
    "axs[1,1].axvline(x = plebiscito, linestyle = 'dotted',color = 'blue',label='Plebiscito')\n",
    "axs[1,1].legend(loc=0)\n"
   ]
  },
  {
   "cell_type": "markdown",
   "metadata": {},
   "source": [
    "## Infectados diarios:"
   ]
  },
  {
   "cell_type": "code",
   "execution_count": 10,
   "metadata": {},
   "outputs": [],
   "source": [
    "I_d = PuntaArenas.I_d_r\n",
    "dates_d = PuntaArenas.I_d_r_dates\n",
    "t = PuntaArenas.I_d_r_tr"
   ]
  },
  {
   "cell_type": "code",
   "execution_count": 11,
   "metadata": {},
   "outputs": [
    {
     "data": {
      "text/plain": [
       "[<matplotlib.lines.Line2D at 0x7f72a74a5160>]"
      ]
     },
     "execution_count": 11,
     "metadata": {},
     "output_type": "execute_result"
    }
   ],
   "source": [
    "plt.plot(dates_d,I_d)"
   ]
  },
  {
   "cell_type": "code",
   "execution_count": null,
   "metadata": {},
   "outputs": [],
   "source": []
  },
  {
   "cell_type": "markdown",
   "metadata": {},
   "source": [
    "## Infectados Acumulados"
   ]
  },
  {
   "cell_type": "code",
   "execution_count": 12,
   "metadata": {},
   "outputs": [],
   "source": [
    "I_ac = PuntaArenas.I_ac_r\n",
    "dates_ac = PuntaArenas.I_ac_r_dates\n",
    "t = PuntaArenas.I_d_r_tr"
   ]
  },
  {
   "cell_type": "code",
   "execution_count": 13,
   "metadata": {},
   "outputs": [
    {
     "data": {
      "text/plain": [
       "[<matplotlib.lines.Line2D at 0x7f72a6a802e0>]"
      ]
     },
     "execution_count": 13,
     "metadata": {},
     "output_type": "execute_result"
    }
   ],
   "source": [
    "plt.plot(dates_ac,I_ac)"
   ]
  },
  {
   "cell_type": "code",
   "execution_count": null,
   "metadata": {},
   "outputs": [],
   "source": []
  },
  {
   "cell_type": "markdown",
   "metadata": {},
   "source": [
    "# Simulación y Ajuste de datos"
   ]
  },
  {
   "cell_type": "code",
   "execution_count": 85,
   "metadata": {},
   "outputs": [],
   "source": [
    "# Total simulation time\n",
    "tsim = 1000\n",
    "t_sp = (SPchange_date - initdate).days\n",
    "beta = 0.07\n",
    "mu = 1.6\n",
    "k_I = 0\n",
    "k_R = 0\n",
    "SeroPrevFactor =0.2\n",
    "expinfection=0 # Proportion in which the exposed infect - 0: nothing, 1: equally as Infected"
   ]
  },
  {
   "cell_type": "code",
   "execution_count": 86,
   "metadata": {},
   "outputs": [
    {
     "name": "stdout",
     "output_type": "stream",
     "text": [
      "Importing Daily Infected\n"
     ]
    }
   ],
   "source": [
    "I_d_r_smooth, I_d_r_tr, I_d_r_dates = ImportData.importDailyInfected(tstate = '12',initdate = initdate)   "
   ]
  },
  {
   "cell_type": "code",
   "execution_count": 87,
   "metadata": {},
   "outputs": [
    {
     "data": {
      "text/plain": [
       "<matplotlib.collections.PathCollection at 0x7f72a5ea6f40>"
      ]
     },
     "execution_count": 87,
     "metadata": {},
     "output_type": "execute_result"
    }
   ],
   "source": [
    "plt.scatter(I_d_r_dates,I_d_r_smooth)\n",
    "plt.scatter(dates_d,I_d)"
   ]
  },
  {
   "cell_type": "code",
   "execution_count": 88,
   "metadata": {},
   "outputs": [],
   "source": [
    "        endpoint = 'http://192.168.2.223:5006/getDeathsOriginAllStates' \n",
    "        aux = pd.DataFrame( requests.get(endpoint).json()['data'])['12']"
   ]
  },
  {
   "cell_type": "code",
   "execution_count": 89,
   "metadata": {},
   "outputs": [],
   "source": [
    " \n",
    "        Dr_hosp = aux.loc['fromHospital']\n",
    "        Dr_Nonhosp = aux.loc['notFromHospital']\n",
    "        hosp_dates = [datetime.strptime(aux.loc['dates'][i][:10], '%Y-%m-%d') for i in range(len(Dr_Nonhosp))]\n",
    "        Br_hosp = np.cumsum(Dr_hosp)\n",
    "        Br_Nonhosp = np.cumsum(Dr_Nonhosp)\n",
    "        \n",
    "        \n",
    "        index = np.where(np.array(hosp_dates) >= initdate)[0][0]\n",
    "        \n",
    "        Dr_hosp = Dr_hosp[index:]\n",
    "        Dr_Nonhosp = Dr_Nonhosp[index:]\n",
    "        \n",
    "        Br_hosp = Br_hosp[index:]\n",
    "        Br_Nonhosp = Br_Nonhosp[index:]\n",
    "\n",
    "        hosp_dates = hosp_dates[index:]\n",
    "        hosp_tr = [(hosp_dates[i]-initdate).days for i in range(len(hosp_dates))]\n",
    "\n"
   ]
  },
  {
   "cell_type": "markdown",
   "metadata": {},
   "source": [
    "# Infectados diarios"
   ]
  },
  {
   "cell_type": "code",
   "execution_count": 90,
   "metadata": {},
   "outputs": [],
   "source": [
    "I_ac_r = PuntaArenas.I_ac_r\n",
    "dates_ac = PuntaArenas.I_ac_r_dates\n",
    "I_ac_r_tr = PuntaArenas.I_ac_r_tr"
   ]
  },
  {
   "cell_type": "code",
   "execution_count": 91,
   "metadata": {},
   "outputs": [
    {
     "data": {
      "text/plain": [
       "39"
      ]
     },
     "execution_count": 91,
     "metadata": {},
     "output_type": "execute_result"
    }
   ],
   "source": [
    "len(I_ac_r_tr)"
   ]
  },
  {
   "cell_type": "code",
   "execution_count": 92,
   "metadata": {},
   "outputs": [],
   "source": [
    "I_ac_inter = np.interp(list(range(I_ac_r_tr[-1])),I_ac_r_tr,I_ac_r)"
   ]
  },
  {
   "cell_type": "code",
   "execution_count": 93,
   "metadata": {},
   "outputs": [
    {
     "data": {
      "text/plain": [
       "136"
      ]
     },
     "execution_count": 93,
     "metadata": {},
     "output_type": "execute_result"
    }
   ],
   "source": [
    "len(I_ac_inter)"
   ]
  },
  {
   "cell_type": "code",
   "execution_count": 84,
   "metadata": {},
   "outputs": [
    {
     "data": {
      "text/plain": [
       "<matplotlib.collections.PathCollection at 0x7f72a5ecb4c0>"
      ]
     },
     "execution_count": 84,
     "metadata": {},
     "output_type": "execute_result"
    }
   ],
   "source": [
    "plt.scatter(range(I_ac_r_tr[-1]),I_ac_inter,color='red')\n",
    "plt.scatter(I_ac_r_tr,I_ac_r,color='purple')\n",
    "plt.scatter(range(len(I_ac_cumsum)),I_ac_cumsum,color='blue')"
   ]
  },
  {
   "cell_type": "code",
   "execution_count": 54,
   "metadata": {},
   "outputs": [],
   "source": [
    "I_d_r = np.diff(np.interp(list(range(I_ac_r_tr[-1])),I_ac_r_tr,I_ac_r))\n",
    "I_d_r_tr = list(range(len(I_d_r)))"
   ]
  },
  {
   "cell_type": "code",
   "execution_count": 79,
   "metadata": {},
   "outputs": [],
   "source": [
    "aux = np.cumsum(I_d_r)\n",
    "I_ac_cumsum = [aux[i] + I_ac_r[0] for i in range(len(aux))]"
   ]
  },
  {
   "cell_type": "code",
   "execution_count": 80,
   "metadata": {},
   "outputs": [
    {
     "data": {
      "text/plain": [
       "39"
      ]
     },
     "execution_count": 80,
     "metadata": {},
     "output_type": "execute_result"
    }
   ],
   "source": [
    "len(I_ac_r_tr)"
   ]
  },
  {
   "cell_type": "markdown",
   "metadata": {},
   "source": [
    "# Hosp Deaths"
   ]
  },
  {
   "cell_type": "code",
   "execution_count": 94,
   "metadata": {},
   "outputs": [
    {
     "data": {
      "text/plain": [
       "4840    375.0\n",
       "4841    402.0\n",
       "4842    429.0\n",
       "4843    473.0\n",
       "4844    515.0\n",
       "        ...  \n",
       "5578      NaN\n",
       "5579      NaN\n",
       "5667      NaN\n",
       "5668      NaN\n",
       "5669      NaN\n",
       "Name: 2020-09-07, Length: 134, dtype: float64"
      ]
     },
     "execution_count": 94,
     "metadata": {},
     "output_type": "execute_result"
    }
   ],
   "source": [
    "PuntaArenas.Br_hosp"
   ]
  },
  {
   "cell_type": "code",
   "execution_count": 96,
   "metadata": {},
   "outputs": [],
   "source": [
    "tstate = '12'"
   ]
  },
  {
   "cell_type": "code",
   "execution_count": 97,
   "metadata": {},
   "outputs": [],
   "source": [
    "        \n",
    "        endpoint = 'http://192.168.2.223:5006/getDeathsOriginAllStates' \n",
    "        aux = pd.DataFrame( requests.get(endpoint).json()['data'])\n",
    "       \n",
    "        if type(tstate) == list:\n",
    "            aux = aux[tstate[0]]\n",
    "        else: \n",
    "            aux = aux[tstate]\n",
    "\n",
    "        \n",
    "        Dr_hosp = aux.loc['fromHospital']\n",
    "        Dr_Nonhosp = aux.loc['notFromHospital']\n",
    "        hosp_dates = [datetime.strptime(aux.loc['dates'][i][:10], '%Y-%m-%d') for i in range(len(Dr_Nonhosp))]\n",
    "        Br_hosp = np.cumsum(Dr_hosp)\n",
    "        Br_Nonhosp = np.cumsum(Dr_Nonhosp)\n",
    "        \n",
    "        \n",
    "        index = np.where(np.array(hosp_dates) >= initdate)[0][0]\n",
    "        \n",
    "        Dr_hosp = Dr_hosp[index:]\n",
    "        Dr_Nonhosp = Dr_Nonhosp[index:]\n",
    "        \n",
    "        Br_hosp = Br_hosp[index:]\n",
    "        Br_Nonhosp = Br_Nonhosp[index:]\n",
    "\n",
    "        hosp_dates = hosp_dates[index:]\n",
    "        hosp_tr = [(hosp_dates[i]-initdate).days for i in range(len(hosp_dates))]\n"
   ]
  },
  {
   "cell_type": "code",
   "execution_count": 99,
   "metadata": {},
   "outputs": [],
   "source": [
    "        Dr_hosp = aux.loc['fromHospital']\n",
    "        Dr_Nonhosp = aux.loc['notFromHospital']\n",
    "        hosp_dates = [datetime.strptime(aux.loc['dates'][i][:10], '%Y-%m-%d') for i in range(len(Dr_Nonhosp))]"
   ]
  },
  {
   "cell_type": "code",
   "execution_count": 106,
   "metadata": {},
   "outputs": [
    {
     "data": {
      "text/plain": [
       "378"
      ]
     },
     "execution_count": 106,
     "metadata": {},
     "output_type": "execute_result"
    }
   ],
   "source": [
    "len(aux.loc['dates'])"
   ]
  },
  {
   "cell_type": "code",
   "execution_count": 107,
   "metadata": {},
   "outputs": [
    {
     "data": {
      "text/plain": [
       "dates              [2020-03-19T03:00:00.000Z, 2020-03-19T03:00:00...\n",
       "fromHospital       [0, 0, 0, 0, 0, 0, 0, 0, 0, 0, 0, 0, 1, 1, 0, ...\n",
       "notFromHospital    [0, 0, 0, 0, 0, 0, 0, 0, 0, 0, 0, 0, 0, 0, 0, ...\n",
       "Name: 12, dtype: object"
      ]
     },
     "execution_count": 107,
     "metadata": {},
     "output_type": "execute_result"
    }
   ],
   "source": [
    "aux"
   ]
  },
  {
   "cell_type": "code",
   "execution_count": null,
   "metadata": {},
   "outputs": [],
   "source": []
  }
 ],
 "metadata": {
  "kernelspec": {
   "display_name": "Python 3",
   "language": "python",
   "name": "python3"
  },
  "language_info": {
   "codemirror_mode": {
    "name": "ipython",
    "version": 3
   },
   "file_extension": ".py",
   "mimetype": "text/x-python",
   "name": "python",
   "nbconvert_exporter": "python",
   "pygments_lexer": "ipython3",
   "version": "3.8.2"
  }
 },
 "nbformat": 4,
 "nbformat_minor": 4
}
