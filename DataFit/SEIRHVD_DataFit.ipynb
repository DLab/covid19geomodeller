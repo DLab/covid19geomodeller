{
 "cells": [
  {
   "cell_type": "markdown",
   "metadata": {},
   "source": [
    "# SEIRHVD Data Fit\n",
    "\n",
    "This Jupyter notebooks implements the SEIRHVD4 model for fitting the actual Chilean data in order to make projections in bed usage, amount of infected and deaths. \n",
    "This implements a single instance to facilitate understanding the model prior to run multiple data fittings at a time."
   ]
  },
  {
   "cell_type": "code",
   "execution_count": 4,
   "metadata": {},
   "outputs": [
    {
     "name": "stdout",
     "output_type": "stream",
     "text": [
      "Linux\n"
     ]
    }
   ],
   "source": [
    "import numpy as np\n",
    "import pandas as pd\n",
    "import matplotlib.pyplot as plt\n",
    "from datetime import datetime\n",
    "from numpy import linalg as LA\n",
    "\n",
    "import platform\n",
    "OS = platform.system()\n",
    "\n",
    "import matplotlib.pyplot as plt\n",
    "if OS == 'Linux':    \n",
    "    %matplotlib tk\n",
    "    print('Linux')\n",
    "elif OS == 'Windows':\n",
    "    %matplotlib qt\n",
    "    print('Windows')\n",
    "else:\n",
    "    print('OS not detected :-|')\n",
    "\n",
    "import sys\n",
    "from pathlib import Path\n",
    "sys.path.insert(1, '../src/SEIRHVD/')\n",
    "sys.path.insert(1, '../src/utils/')\n",
    "sys.path.insert(1, 'src/SEIRHVD/')\n",
    "sys.path.insert(1, 'src/utils/')\n",
    "\n",
    "from class_SEIRHUVD4 import SEIRHVD \n",
    "from Quarantine import Quarantine\n",
    "from importdata import ImportData"
   ]
  },
  {
   "cell_type": "markdown",
   "metadata": {},
   "source": [
    "## Time Variables\n",
    "Declare Initial date for simulating and data fitting"
   ]
  },
  {
   "cell_type": "code",
   "execution_count": 5,
   "metadata": {},
   "outputs": [],
   "source": [
    "initdate = datetime(2020,5,15)\n",
    "currentdate = datetime.now()\n",
    "currentday = (currentdate - initdate).days"
   ]
  },
  {
   "cell_type": "markdown",
   "metadata": {},
   "source": [
    "## Import Data\n",
    "To import data we use an ImportData object which is initialized with the region's cut and the initial date. Meanwhile we will adjust this data for regions, then I'll add Heath sector as the minimum territorial unit for SEIRHVD models."
   ]
  },
  {
   "cell_type": "code",
   "execution_count": 6,
   "metadata": {
    "scrolled": true
   },
   "outputs": [
    {
     "name": "stdout",
     "output_type": "stream",
     "text": [
      "Importing General Data\n",
      "Importing Population\n",
      "Importing Active infected\n",
      "Importing Accumulated Infected\n",
      "Importing Daily Infected\n",
      "Importing Sochimi Data\n",
      "Importing Accumulated Deaths\n",
      "Importing Active Infected by Minciencia\n",
      "Done\n"
     ]
    }
   ],
   "source": [
    "tstate = '13'\n",
    "\n",
    "# Import Data\n",
    "RM = ImportData(tstate=tstate,initdate = initdate)\n",
    "RM.importdata()"
   ]
  },
  {
   "cell_type": "markdown",
   "metadata": {},
   "source": [
    "## Simulation Parameters"
   ]
  },
  {
   "cell_type": "code",
   "execution_count": 7,
   "metadata": {},
   "outputs": [],
   "source": [
    "# Simulation parameters\n",
    "tsim = 1000\n",
    "beta = 0.2\n",
    "mu = 0.8\n",
    "k = 0.1\n",
    "\n",
    "SeroPrevFactor=0.05 # SeroPrevalence Factor (The proportion of the population that participates in the dynamics)\n",
    "expinfection=0 # Proportion in which the exposed infect - 0: nothing, 1: equally as Infected"
   ]
  },
  {
   "cell_type": "markdown",
   "metadata": {},
   "source": [
    "## Quarantines\n",
    "Build Quarantine Object:\n",
    " \n",
    "     Q = Quarantine(rem_mob,max_mob=max_mob,qp=0,iqt=0,fqt=1000,movfunct = 'once')\n",
    "     alpha = Q.alpha\n",
    "     \n",
    "     Plot Quarantine dynamics:\n",
    "         Q.plot()"
   ]
  },
  {
   "cell_type": "code",
   "execution_count": 111,
   "metadata": {},
   "outputs": [],
   "source": [
    "# Quarantines \n",
    "max_mob1 = 0.55\n",
    "max_mob2 = 0.75\n",
    "max_mob3 = 0.95\n",
    "rem_mob = 0.45\n",
    "t_end_date=datetime(2020,8,25)\n",
    "t_end=(t_end_date-initdate).days\n",
    "#alpha = Quarantine(rem_mob,max_mob=max_mob,qp=0,iqt=0,fqt=1000,movfunct = 'once').alpha(t)\n",
    "alpha1 = Quarantine(rem_mob,max_mob1,qp=0,iqt=0,fqt=t_end).alpha\n",
    "alpha2 = Quarantine(rem_mob,max_mob2,qp=0,iqt=0,fqt=t_end).alpha\n",
    "alpha3 = Quarantine(rem_mob,max_mob3,qp=0,iqt=0,fqt=t_end).alpha"
   ]
  },
  {
   "cell_type": "markdown",
   "metadata": {},
   "source": [
    "## Underreport\n",
    "Fraction of Infected detected/reported  \n",
    "    - Imi_det: fraction of Mild detected\n",
    "    - Imi_as: fraction of asymptomatic detected\n",
    "    \n",
    "If both are 1, means that all infected are detected so I_det = I"
   ]
  },
  {
   "cell_type": "code",
   "execution_count": 112,
   "metadata": {},
   "outputs": [],
   "source": [
    "Imi_det = 0.56\n",
    "Ias_det = 0"
   ]
  },
  {
   "cell_type": "markdown",
   "metadata": {},
   "source": [
    "## Simulation\n",
    "Initialize Simulation Object, and run the simulation. "
   ]
  },
  {
   "cell_type": "code",
   "execution_count": 113,
   "metadata": {},
   "outputs": [
    {
     "name": "stdout",
     "output_type": "stream",
     "text": [
      "InitialCondition Object Data\n",
      "InitialCondition Object Data\n",
      "InitialCondition Object Data\n"
     ]
    }
   ],
   "source": [
    "simulation1 = SEIRHVD(tsim,beta,mu,alpha1,k=k,SeroPrevFactor=SeroPrevFactor,expinfection=expinfection,InitialConditions = RM,Imi_det = Imi_det,Ias_det = Ias_det)\n",
    "simulation2 = SEIRHVD(tsim,beta,mu,alpha2,k=k,SeroPrevFactor=SeroPrevFactor,expinfection=expinfection,InitialConditions = RM,Imi_det = Imi_det,Ias_det = Ias_det)\n",
    "simulation3 = SEIRHVD(tsim,beta,mu,alpha3,k=k,SeroPrevFactor=SeroPrevFactor,expinfection=expinfection,InitialConditions = RM,Imi_det = Imi_det,Ias_det = Ias_det)\n"
   ]
  },
  {
   "cell_type": "markdown",
   "metadata": {},
   "source": [
    "## Modify State Parameters:\n",
    "        self.pE_Ias = 0.4# Transicion de Expuesto a Infectado asintomatico\n",
    "        self.tE_Ias = 5.0\n",
    "\n",
    "        self.pE_Imi = 0.55#78 # Transicion de Expuesto a Infectado Mild\n",
    "        self.tE_Imi = 5.0\n",
    "\n",
    "        self.pE_Icr = 0.01666#8 # Transicion de Expuesto a Infectado critico\n",
    "        self.tE_Icr = 3.0\n",
    "\n",
    "        self.pE_Ise = 0.03334#14 # Transicion de Expuesto a Infectado Severo\n",
    "        self.tE_Ise = 3.0\n",
    "\n",
    "        self.pIas_R = 1.0   # Transicion de Infectado asintomatico a Recuperado\n",
    "        self.tIas_R = 10.0 \n",
    "\n",
    "        self.pImi_R = 1.0  # Transicion de Infectado mild a Recuperado\n",
    "        self.tImi_R = 15.0\n",
    "\n",
    "        self.pIse_Hse = 1.0  # Transicion de Infectado serio a Hospitalizado (si no ha colapsado Htot)\n",
    "        self.tIse_Hse = 3.0 \n",
    "\n",
    "        self.pIse_D = 1.0  # Transicion de Infectado serio a Hospitalizado (si no ha colapsado Htot)\n",
    "        self.tIse_D = 3.0         \n",
    "\n",
    "        self.pIcr_V = 1.0 # Transicion de Hospitalizado critico a Ventilado (si no ha colapsado V)\n",
    "        self.tIcr_V = 3.0 \n",
    "\n",
    "        self.pIcr_D = 1.0 # Transicion de Hospitalizado critico a Ventilado (si no ha colapsado V)\n",
    "        self.tIcr_D = 3.0         \n",
    "\n",
    "        self.pHse_R = 0.97 # Transicion de Hospitalizado a Hospitalizado Critico (si no ha colapsado Htot)\n",
    "        self.tHse_R = 11.0\n",
    "\n",
    "        self.pHse_V = 0.03 # Transicion de Hospitalizado a VMI (si no ha colapsado VMI)\n",
    "        self.tHse_V = 3.0\n",
    "\n",
    "        self.pHse_D = 0.03 # Transicion de Hospitalizado a Hospitalizado Critico (si no ha colapsado Htot)\n",
    "        self.tHse_D = 3.0        \n",
    "\n",
    "        self.pV_Hout = 0.5 # Mejora de ventilado hospitalizado, transita a Hout\n",
    "        self.tV_Hout = 15.0\n",
    "\n",
    "        self.pV_D = 0.5 # VMI to Death\n",
    "        self.tV_D = 15.0\n",
    "\n",
    "        self.pHout_R = 1.0 # Mejora del paciente hospitalizado, Hout a R\n",
    "        self.tHout_R = 4.0\n",
    "\n",
    "        self.pD_B = 1.0 # Entierros\n",
    "        self.tD_B = 1.0 \n",
    "\n",
    "        self.betaD = 0\n",
    "        self.eta = 0.0 # tasa de perdida de inmunidad (1/periodo)"
   ]
  },
  {
   "cell_type": "code",
   "execution_count": 114,
   "metadata": {},
   "outputs": [],
   "source": [
    "pE_Ias = 0.43\n",
    "pE_Imi = 0.55\n",
    "pE_Ise = 0.015\n",
    "pE_Icr = 0.005\n",
    "\n",
    "# Function for setting new Params:\n",
    "simulation.setnewparams()"
   ]
  },
  {
   "cell_type": "code",
   "execution_count": 115,
   "metadata": {},
   "outputs": [],
   "source": [
    "simulation1.pE_Ias = pE_Ias\n",
    "simulation1.pE_Imi = pE_Imi\n",
    "simulation1.pE_Ise = pE_Ise\n",
    "simulation1.pE_Icr = pE_Icr\n",
    "\n",
    "simulation2.pE_Ias = pE_Ias\n",
    "simulation2.pE_Imi = pE_Imi\n",
    "simulation2.pE_Ise = pE_Ise\n",
    "simulation2.pE_Icr = pE_Icr\n",
    "\n",
    "simulation3.pE_Ias = pE_Ias\n",
    "simulation3.pE_Imi = pE_Imi\n",
    "simulation3.pE_Ise = pE_Ise\n",
    "simulation3.pE_Icr = pE_Icr"
   ]
  },
  {
   "cell_type": "markdown",
   "metadata": {},
   "source": [
    "## Run simulation"
   ]
  },
  {
   "cell_type": "code",
   "execution_count": 116,
   "metadata": {},
   "outputs": [
    {
     "data": {
      "text/plain": [
       "  message: 'The solver successfully reached the end of the integration interval.'\n",
       "     nfev: 2207\n",
       "     njev: 33\n",
       "      nlu: 33\n",
       "      sol: None\n",
       "   status: 0\n",
       "  success: True\n",
       "        t: array([0.00000000e+00, 1.07133033e-08, 2.14266065e-08, 1.07154459e-04,\n",
       "       2.14287492e-04, 3.21420524e-04, 1.39275085e-03, 2.46408118e-03,\n",
       "       3.53541150e-03, 4.60674183e-03, 1.53200451e-02, 2.60333484e-02,\n",
       "       3.67466516e-02, 4.74599549e-02, 5.81732581e-02, 1.65306291e-01,\n",
       "       2.72439323e-01, 3.79572356e-01, 4.86705389e-01, 5.93838421e-01,\n",
       "       7.00971454e-01, 1.04981230e+00, 1.39865315e+00, 1.74749400e+00,\n",
       "       2.09633484e+00, 2.44517569e+00, 2.89204236e+00, 3.33890903e+00,\n",
       "       3.78577570e+00, 3.81370487e+00, 3.84163403e+00, 3.84721987e+00,\n",
       "       3.85280570e+00, 3.85839153e+00, 3.86660209e+00, 3.87178753e+00,\n",
       "       3.87576078e+00, 3.87896119e+00, 3.88216160e+00, 3.88443628e+00,\n",
       "       3.88671096e+00, 3.88854399e+00, 3.89037703e+00, 3.89221006e+00,\n",
       "       3.89443290e+00, 3.89665573e+00, 3.89887857e+00, 3.90110140e+00,\n",
       "       3.90377982e+00, 3.90645823e+00, 3.90913665e+00, 3.91181506e+00,\n",
       "       3.91449348e+00, 3.91823729e+00, 3.92198111e+00, 3.92572493e+00,\n",
       "       3.92946875e+00, 3.93321257e+00, 3.93695639e+00, 3.94070021e+00,\n",
       "       3.94482887e+00, 3.94895753e+00, 3.95308619e+00, 3.95715110e+00,\n",
       "       3.96121601e+00, 3.96528092e+00, 3.96924428e+00, 3.97320765e+00,\n",
       "       3.97717102e+00, 3.99845574e+00, 4.01974047e+00, 4.04102519e+00,\n",
       "       4.09051683e+00, 4.14000847e+00, 4.18950011e+00, 4.29471802e+00,\n",
       "       4.39993594e+00, 4.50515385e+00, 4.61037177e+00, 4.74342837e+00,\n",
       "       4.87648497e+00, 5.00954157e+00, 5.14259817e+00, 5.27565477e+00,\n",
       "       5.51357658e+00, 5.75149839e+00, 5.98942020e+00, 6.03259922e+00,\n",
       "       6.07577824e+00, 6.11895726e+00, 6.16213629e+00, 6.24849433e+00,\n",
       "       6.33485237e+00, 6.42121042e+00, 6.50756846e+00, 6.59392651e+00,\n",
       "       6.76292592e+00, 6.93192534e+00, 7.10092476e+00, 7.26992418e+00,\n",
       "       7.47307165e+00, 7.67621912e+00, 7.87936660e+00, 8.08251407e+00,\n",
       "       8.28566154e+00, 8.54706818e+00, 8.80847482e+00, 9.06988146e+00,\n",
       "       9.33128810e+00, 9.59269474e+00, 9.85410138e+00, 1.01155080e+01,\n",
       "       1.03769147e+01, 1.06802774e+01, 1.09836401e+01, 1.12870028e+01,\n",
       "       1.15369649e+01, 1.17869271e+01, 1.20368892e+01, 1.22868513e+01,\n",
       "       1.25368135e+01, 1.27867756e+01, 1.30661353e+01, 1.33454950e+01,\n",
       "       1.36248547e+01, 1.39042144e+01, 1.41835740e+01, 1.45309762e+01,\n",
       "       1.48783784e+01, 1.52257806e+01, 1.55731827e+01, 1.59205849e+01,\n",
       "       1.62679871e+01, 1.66153893e+01, 1.69627914e+01, 1.74152734e+01,\n",
       "       1.78677553e+01, 1.83202373e+01, 1.87727192e+01, 1.92252012e+01,\n",
       "       1.96776831e+01, 2.02906572e+01, 2.09036312e+01, 2.15166053e+01,\n",
       "       2.21295793e+01, 2.27425534e+01, 2.33555274e+01, 2.43890135e+01,\n",
       "       2.54224996e+01, 2.64559857e+01, 2.74894718e+01, 2.85229578e+01,\n",
       "       2.95564439e+01, 3.11756691e+01, 3.27948944e+01, 3.44141196e+01,\n",
       "       3.60333448e+01, 3.76525700e+01, 4.05877042e+01, 4.35228384e+01,\n",
       "       4.64579725e+01, 4.93931067e+01, 5.23282409e+01, 5.52633750e+01,\n",
       "       5.93146122e+01, 6.25332471e+01, 6.57518821e+01, 6.83618586e+01,\n",
       "       7.09718352e+01, 7.14692106e+01, 7.19665860e+01, 7.24639614e+01,\n",
       "       7.29613368e+01, 7.34587122e+01, 7.44534630e+01, 7.54482138e+01,\n",
       "       7.64429646e+01, 7.74377154e+01, 7.98102338e+01, 8.21827522e+01,\n",
       "       8.45552706e+01, 8.69277890e+01, 8.97521299e+01, 9.25764707e+01,\n",
       "       9.54008116e+01, 9.82251524e+01, 1.01049493e+02, 1.01467419e+02,\n",
       "       1.01885344e+02, 1.01913775e+02, 1.01942206e+02, 1.01999067e+02,\n",
       "       1.01999978e+02, 1.02000888e+02, 1.02002004e+02, 1.02003119e+02,\n",
       "       1.02007067e+02, 1.02011015e+02, 1.02014964e+02, 1.02054446e+02,\n",
       "       1.02093927e+02, 1.02133409e+02, 1.02172891e+02, 1.02542885e+02,\n",
       "       1.02912879e+02, 1.03282873e+02, 1.03652868e+02, 1.04022862e+02,\n",
       "       1.04480877e+02, 1.04938892e+02, 1.05396907e+02, 1.05854922e+02,\n",
       "       1.06424869e+02, 1.06994817e+02, 1.07564764e+02, 1.08068118e+02,\n",
       "       1.08571472e+02, 1.09074825e+02, 1.09663027e+02, 1.10251229e+02,\n",
       "       1.10839431e+02, 1.12265896e+02, 1.12622512e+02, 1.12979128e+02,\n",
       "       1.13335745e+02, 1.13885726e+02, 1.14435707e+02, 1.14985688e+02,\n",
       "       1.15742442e+02, 1.16499196e+02, 1.17255949e+02, 1.17996849e+02,\n",
       "       1.18737748e+02, 1.19478647e+02, 1.20216219e+02, 1.20953792e+02,\n",
       "       1.21691364e+02, 1.22410891e+02, 1.23130418e+02, 1.23849944e+02,\n",
       "       1.24561251e+02, 1.25272557e+02, 1.25983863e+02, 1.26687704e+02,\n",
       "       1.27391544e+02, 1.28095384e+02, 1.28794474e+02, 1.29493563e+02,\n",
       "       1.30192652e+02, 1.30888073e+02, 1.31583494e+02, 1.32278915e+02,\n",
       "       1.32971637e+02, 1.33664358e+02, 1.34357080e+02, 1.35047708e+02,\n",
       "       1.35738337e+02, 1.36428966e+02, 1.37117958e+02, 1.37806950e+02,\n",
       "       1.38495942e+02, 1.39183626e+02, 1.39871310e+02, 1.40558994e+02,\n",
       "       1.41245616e+02, 1.41932239e+02, 1.42618861e+02, 1.43304610e+02,\n",
       "       1.43990359e+02, 1.44676107e+02, 1.45361128e+02, 1.46046148e+02,\n",
       "       1.46731168e+02, 1.47415574e+02, 1.48099979e+02, 1.48784385e+02,\n",
       "       1.49468268e+02, 1.50152150e+02, 1.50836032e+02, 1.51519464e+02,\n",
       "       1.52202897e+02, 1.52886329e+02, 1.53569371e+02, 1.54252413e+02,\n",
       "       1.54935455e+02, 1.55618157e+02, 1.56300858e+02, 1.56983560e+02,\n",
       "       1.57665962e+02, 1.58348364e+02, 1.59030767e+02, 1.59712904e+02,\n",
       "       1.60395042e+02, 1.61077179e+02, 1.61759082e+02, 1.62440984e+02,\n",
       "       1.63122886e+02, 1.63804578e+02, 1.64486271e+02, 1.65167963e+02,\n",
       "       1.65849467e+02, 1.66530971e+02, 1.67212475e+02, 1.67893809e+02,\n",
       "       1.68575144e+02, 1.69256478e+02, 1.69937659e+02, 1.70618840e+02,\n",
       "       1.71300021e+02, 1.71981063e+02, 1.72662106e+02, 1.73343148e+02,\n",
       "       1.74024064e+02, 1.74704980e+02, 1.75385896e+02, 1.76066696e+02,\n",
       "       1.76747497e+02, 1.77428298e+02, 1.78108993e+02, 1.78789689e+02,\n",
       "       1.79470384e+02, 1.80150983e+02, 1.80831582e+02, 1.81512181e+02,\n",
       "       1.82192691e+02, 1.82873202e+02, 1.83553712e+02, 1.84234141e+02,\n",
       "       1.84914570e+02, 1.85594999e+02, 1.86275382e+02, 1.86955765e+02,\n",
       "       1.87636148e+02, 1.88418867e+02, 1.89201586e+02, 1.89984305e+02,\n",
       "       1.90955721e+02, 1.91927138e+02, 1.92898555e+02, 1.94030713e+02,\n",
       "       1.95162872e+02, 1.96295030e+02, 1.97877972e+02, 1.99460914e+02,\n",
       "       2.01043856e+02, 2.02039137e+02, 2.03034419e+02, 2.04029700e+02,\n",
       "       2.04662166e+02, 2.05294632e+02, 2.05927098e+02, 2.06600113e+02,\n",
       "       2.07273127e+02, 2.07946142e+02, 2.11305050e+02, 2.14663958e+02,\n",
       "       2.15503685e+02, 2.16343412e+02, 2.17183139e+02, 2.18022866e+02,\n",
       "       2.18597886e+02, 2.19172905e+02, 2.19747925e+02, 2.20322184e+02,\n",
       "       2.20896442e+02, 2.21470701e+02, 2.24729218e+02, 2.27987735e+02,\n",
       "       2.31246252e+02, 2.32060881e+02, 2.32875511e+02, 2.33690140e+02,\n",
       "       2.34504769e+02, 2.35079754e+02, 2.35654740e+02, 2.36229725e+02,\n",
       "       2.36804692e+02, 2.37379658e+02, 2.37954625e+02, 2.40052539e+02,\n",
       "       2.42150452e+02, 2.44248366e+02, 2.47577707e+02, 2.50907048e+02,\n",
       "       2.51739383e+02, 2.52571718e+02, 2.53404054e+02, 2.54236389e+02,\n",
       "       2.54811388e+02, 2.55386387e+02, 2.55961386e+02, 2.56536385e+02,\n",
       "       2.57111384e+02, 2.57686383e+02, 2.58922127e+02, 2.60157872e+02,\n",
       "       2.61393616e+02, 2.64830869e+02, 2.68268122e+02, 2.69127435e+02,\n",
       "       2.69986748e+02, 2.70846061e+02, 2.71705375e+02, 2.72280375e+02,\n",
       "       2.72855375e+02, 2.73430375e+02, 2.74005374e+02, 2.74580374e+02,\n",
       "       2.75155374e+02, 2.78585407e+02, 2.82015441e+02, 2.82872949e+02,\n",
       "       2.83730458e+02, 2.84587966e+02, 2.85445474e+02, 2.86020474e+02,\n",
       "       2.86595474e+02, 2.87170474e+02, 2.87930952e+02, 2.88691429e+02,\n",
       "       2.89451906e+02, 2.93176172e+02, 2.96900438e+02, 2.97831504e+02,\n",
       "       2.98762571e+02, 2.99693637e+02, 3.00624704e+02, 3.01199704e+02,\n",
       "       3.01774704e+02, 3.02349704e+02, 3.02924704e+02, 3.03499704e+02,\n",
       "       3.04074704e+02, 3.05658711e+02, 3.07242718e+02, 3.08826725e+02,\n",
       "       3.13072167e+02, 3.17317609e+02, 3.18378969e+02, 3.19440330e+02,\n",
       "       3.20501690e+02, 3.21563051e+02, 3.22138051e+02, 3.22713051e+02,\n",
       "       3.23288051e+02, 3.23863051e+02, 3.24438051e+02, 3.25013051e+02,\n",
       "       3.27266521e+02, 3.29519991e+02, 3.31773461e+02, 3.36125997e+02,\n",
       "       3.37214130e+02, 3.38302264e+02, 3.39390398e+02, 3.40478532e+02,\n",
       "       3.41053532e+02, 3.41628532e+02, 3.42203532e+02, 3.42778532e+02,\n",
       "       3.43353532e+02, 3.43928532e+02, 3.45687272e+02, 3.47446012e+02,\n",
       "       3.49204752e+02, 3.53927095e+02, 3.58649438e+02, 3.59830023e+02,\n",
       "       3.61010609e+02, 3.62191195e+02, 3.63371781e+02, 3.63946781e+02,\n",
       "       3.64521781e+02, 3.65096781e+02, 3.65671781e+02, 3.66246781e+02,\n",
       "       3.66821781e+02, 3.67396781e+02, 3.67971781e+02, 3.68546781e+02,\n",
       "       3.71880881e+02, 3.75214981e+02, 3.76048506e+02, 3.76882031e+02,\n",
       "       3.77715556e+02, 3.78290556e+02, 3.78865556e+02, 3.79440556e+02,\n",
       "       3.82760506e+02, 3.86080456e+02, 3.89400406e+02, 3.96620931e+02,\n",
       "       4.02610265e+02, 4.08599599e+02, 4.14588933e+02, 4.20578266e+02,\n",
       "       4.28205420e+02, 4.35832575e+02, 4.43459729e+02, 4.51086883e+02,\n",
       "       4.62801514e+02, 4.74516146e+02, 4.86230777e+02, 4.97945408e+02,\n",
       "       5.26197230e+02, 5.54449052e+02, 5.82700874e+02, 7.57477955e+02,\n",
       "       9.32255037e+02, 1.00000000e+03])\n",
       " t_events: None\n",
       "        y: array([[ 3.40191472e+05,  3.40191471e+05,  3.40191471e+05, ...,\n",
       "        -3.43779036e-13, -2.21652958e-14, -3.34615577e-15],\n",
       "       [ 2.82502793e+04,  2.82502793e+04,  2.82502794e+04, ...,\n",
       "        -2.38534478e-13, -1.53796097e-14, -2.32176326e-15],\n",
       "       [ 3.85325885e+03,  3.85325883e+03,  3.85325882e+03, ...,\n",
       "        -2.18483674e-16, -1.24295853e-18, -1.80807214e-20],\n",
       "       ...,\n",
       "       [ 0.00000000e+00,  0.00000000e+00,  0.00000000e+00, ...,\n",
       "         1.27786161e+01,  1.27786161e+01,  1.27786161e+01],\n",
       "       [ 0.00000000e+00,  0.00000000e+00,  0.00000000e+00, ...,\n",
       "         2.57553571e+00,  2.57553571e+00,  2.57553571e+00],\n",
       "       [ 0.00000000e+00,  2.69261023e-07,  5.38522046e-07, ...,\n",
       "         2.75972546e+03,  2.75972546e+03,  2.75972546e+03]])\n",
       " y_events: None"
      ]
     },
     "execution_count": 116,
     "metadata": {},
     "output_type": "execute_result"
    }
   ],
   "source": [
    "simulation1.integr_sci(0,tsim,0.1)\n",
    "simulation2.integr_sci(0,tsim,0.1)\n",
    "simulation3.integr_sci(0,tsim,0.1)"
   ]
  },
  {
   "cell_type": "markdown",
   "metadata": {},
   "source": [
    "# Analysis - Detected infected\n",
    "\n",
    "The following plots will show the simulation results with the real data"
   ]
  },
  {
   "cell_type": "code",
   "execution_count": 117,
   "metadata": {},
   "outputs": [],
   "source": [
    "# Days to plot (Today + ..)\n",
    "days = currentday+130\n",
    "index1 = np.searchsorted(simulation1.t,days)\n",
    "index2 = np.searchsorted(simulation2.t,days)\n",
    "index3 = np.searchsorted(simulation3.t,days)"
   ]
  },
  {
   "cell_type": "markdown",
   "metadata": {},
   "source": [
    "### Errors"
   ]
  },
  {
   "cell_type": "code",
   "execution_count": 118,
   "metadata": {},
   "outputs": [],
   "source": [
    "simulation = simulation1\n",
    "t_end_idx = np.where(np.array(RM.tr)>=t_end)[0][0]\n",
    "idx = np.searchsorted(simulation.t,RM.tr[:t_end_idx])\n",
    "E_I = np.sum(abs(RM.Ir[:t_end_idx]-simulation.I_det[idx]))/(np.mean(RM.Ir[:t_end_idx])*t_end_idx)\n",
    "\n",
    "t_end_idx = np.where(np.array(RM.I_d_r_tr)>=t_end)[0][0]\n",
    "idx = np.searchsorted(simulation.t,RM.I_d_r_tr[:t_end_idx])\n",
    "E_Id = np.sum(abs(RM.I_d_r[:t_end_idx]-simulation.I_d_det[idx]))/(np.mean(RM.I_d_r[:t_end_idx])*t_end_idx)\n",
    "\n",
    "t_end_idx = np.where(np.array(RM.I_ac_r_tr)>=t_end)[0][0]\n",
    "idx = np.searchsorted(simulation.t,RM.I_ac_r_tr[:t_end_idx])\n",
    "E_Iac = np.sum(abs(RM.I_ac_r[:t_end_idx]-simulation.I_ac_det[idx]))/(np.mean(RM.I_ac_r[:t_end_idx])*t_end_idx)\n",
    "\n",
    "t_end_idx = np.where(np.array(RM.Br_tr)>=t_end)[0][0]\n",
    "idx = np.searchsorted(simulation.t,RM.Br_tr[:t_end_idx])\n",
    "E_D = np.sum(abs(RM.Br[:t_end_idx]-simulation.B[idx]))/(np.mean(RM.Br[:t_end_idx])*t_end_idx)\n",
    "\n",
    "t_end_idx = np.where(np.array(RM.sochimi_tr)>=t_end)[0][0]\n",
    "idx = np.searchsorted(simulation.t,RM.sochimi_tr[:t_end_idx])\n",
    "E_UCI = np.sum(abs(RM.Hr[:t_end_idx]-(simulation.Hse[idx]+simulation.Hout[idx])))/(np.mean(RM.Hr[:t_end_idx])*t_end_idx)\n",
    "\n",
    "t_end_idx = np.where(np.array(RM.sochimi_tr)>=t_end)[0][0]\n",
    "idx = np.searchsorted(simulation.t,RM.sochimi_tr[:t_end_idx])\n",
    "E_VMI = np.sum(abs(RM.Vr[:t_end_idx]-simulation.V[idx]))/(np.mean(RM.Vr[:t_end_idx])*t_end_idx)\n",
    "\n",
    "Err = {'Active Infected':E_I,'Daily Infected':E_Id,'Accumulated Infected':E_Iac,'Deaths':E_D,'UCI/UTI':E_UCI,'VMI':E_VMI}\n"
   ]
  },
  {
   "cell_type": "code",
   "execution_count": 119,
   "metadata": {},
   "outputs": [
    {
     "name": "stdout",
     "output_type": "stream",
     "text": [
      "{'Active Infected': 0.2673127045289378, 'Daily Infected': 0.48654612111901757, 'Accumulated Infected': 0.44619732830056397, 'Deaths': 0.5927969578818802, 'UCI/UTI': nan, 'VMI': 0.33150446880868517}\n"
     ]
    }
   ],
   "source": [
    "Err = {'Active Infected':E_I,'Daily Infected':E_Id,'Accumulated Infected':E_Iac,'Deaths':E_D,'UCI/UTI':E_UCI,'VMI':E_VMI}\n",
    "print(Err)"
   ]
  },
  {
   "cell_type": "markdown",
   "metadata": {},
   "source": [
    "### Plot Grid"
   ]
  },
  {
   "cell_type": "code",
   "execution_count": 120,
   "metadata": {},
   "outputs": [
    {
     "data": {
      "text/plain": [
       "<matplotlib.lines.Line2D at 0x7fe76100d8e0>"
      ]
     },
     "execution_count": 120,
     "metadata": {},
     "output_type": "execute_result"
    }
   ],
   "source": [
    "\n",
    "\n",
    "fig, axs = plt.subplots(3, 2)\n",
    "axs[0,0].set_xlim(0,days)\n",
    "axs[0,0].scatter(RM.tr,RM.Ir,label='Real Active Data')\n",
    "axs[0,0].plot(simulation1.t[:index1],simulation1.I_det[:index1],label='Infected')\n",
    "axs[0,0].plot(simulation2.t[:index2],simulation2.I_det[:index2],label='Infected')\n",
    "axs[0,0].plot(simulation3.t[:index3],simulation3.I_det[:index3],label='Infected')\n",
    "axs[0,0].set_title('Detectable Active Infected')\n",
    "axs[0,0].axvline(x = t_end, linestyle = 'dotted',color = 'grey')\n",
    "\n",
    "axs[0, 1].set_xlim(0,days)\n",
    "axs[0, 1].plot(simulation1.t[:index1],simulation1.I_d_det[:index1],label='Daily new Infected')\n",
    "axs[0, 1].plot(simulation2.t[:index2],simulation2.I_d_det[:index2],label='Daily new Infected')\n",
    "axs[0, 1].plot(simulation3.t[:index3],simulation3.I_d_det[:index3],label='Daily new Infected')\n",
    "axs[0, 1].scatter(RM.I_d_r_tr,RM.I_d_r,label='Daily Real Data')\n",
    "#axs[0, 1].legend(loc=0)\n",
    "axs[0, 1].set_title('Detected Daily infected')\n",
    "axs[0,1].axvline(x = t_end, linestyle = 'dotted',color = 'grey')\n",
    "\n",
    "\n",
    "axs[1,0].set_xlim(0,days)\n",
    "axs[1,0].plot(simulation1.t[:index1],simulation1.I_ac_det[:index1],label='Detected Acummulated Infected')\n",
    "axs[1,0].plot(simulation2.t[:index2],simulation2.I_ac_det[:index2],label='Detected Acummulated Infected')\n",
    "axs[1,0].plot(simulation3.t[:index3],simulation3.I_ac_det[:index3],label='Detected Acummulated Infected')\n",
    "axs[1,0].scatter(RM.I_ac_r_tr,RM.I_ac_r,label='Accumulated Real Data')\n",
    "axs[1,0].set_title('Detected Accumulated Infected')\n",
    "axs[1,0].axvline(x = t_end, linestyle = 'dotted',color = 'grey')\n",
    "\n",
    "axs[1,1].set_xlim(0,days)\n",
    "axs[1,1].plot(simulation1.t[:index1],simulation1.B[:index1],label='Total Acummulated Deaths')\n",
    "axs[1,1].plot(simulation2.t[:index2],simulation2.B[:index2],label='Total Acummulated Deaths')\n",
    "axs[1,1].plot(simulation3.t[:index3],simulation3.B[:index3],label='Total Acummulated Deaths')\n",
    "axs[1,1].scatter(RM.Br_tr,RM.Br,label='Real Data')\n",
    "axs[1,1].set_title('Acmulated Deaths')\n",
    "axs[1,1].axvline(x = t_end, linestyle = 'dotted',color = 'grey')\n",
    "\n",
    "axs[2,0].set_xlim(0,days)\n",
    "axs[2,0].plot(simulation1.t[:index1],simulation1.Hse[:index1]+simulation1.Hout[:index1],label='UCI/UTI Beds')\n",
    "axs[2,0].plot(simulation2.t[:index2],simulation2.Hse[:index2]+simulation2.Hout[:index2],label='UCI/UTI Beds')\n",
    "axs[2,0].plot(simulation3.t[:index3],simulation3.Hse[:index3]+simulation3.Hout[:index3],label='UCI/UTI Beds')\n",
    "axs[2,0].scatter(RM.sochimi_tr,RM.Hr,label='Real Data')\n",
    "axs[2,0].scatter(RM.sochimi_tr,RM.Hr_tot,label='Capacity Data', color = 'red')\n",
    "axs[2,0].set_title('UCI/UTI Usage')\n",
    "axs[2,0].axvline(x = t_end, linestyle = 'dotted',color = 'grey')\n",
    "\n",
    "axs[2,1].set_xlim(0,days)\n",
    "axs[2,1].plot(simulation1.t[:index1],simulation1.V[:index1],label='VMI Usage')\n",
    "axs[2,1].plot(simulation2.t[:index2],simulation2.V[:index2],label='VMI Usage')\n",
    "axs[2,1].plot(simulation3.t[:index3],simulation3.V[:index3],label='VMI Usage')\n",
    "axs[2,1].scatter(RM.sochimi_tr,RM.Vr,label='Real Data')\n",
    "axs[2,1].scatter(RM.sochimi_tr,RM.Vr_tot,label='Capacity Data',color = 'red')\n",
    "axs[2,1].set_title('UCI/UTI Usage')\n",
    "axs[2,1].axvline(x = t_end, linestyle = 'dotted',color = 'grey')\n"
   ]
  },
  {
   "cell_type": "code",
   "execution_count": null,
   "metadata": {},
   "outputs": [],
   "source": [
    "print([Err])"
   ]
  },
  {
   "cell_type": "markdown",
   "metadata": {},
   "source": [
    "## Detected Active Infected\n",
    "Here we define a Detected infected population as follows:  \n",
    "\n",
    " Idet = Imi*det + Ise + Icr  \n",
    "\n",
    "where det is the proportion of mild detections\n",
    "\n",
    "\n",
    "**Aun me falta corregir el valor inicial, pues este lo considera para todos los infectados**"
   ]
  },
  {
   "cell_type": "code",
   "execution_count": null,
   "metadata": {},
   "outputs": [],
   "source": [
    "tr_index = np.searchsorted(RM.tr,days)\n",
    "\n",
    "plt.scatter(RM.tr,RM.Ir,label='Real Data')\n",
    "\n",
    "plt.xlim(0,days)\n",
    "plt.plot(simulation.t[:index],simulation.I_det[:index],label='Infected')\n",
    "plt.legend(loc=0)\n",
    "plt.title('Detectable Active Infected')\n",
    "plt.show()\n"
   ]
  },
  {
   "cell_type": "markdown",
   "metadata": {},
   "source": [
    "## Detected Daily Infected"
   ]
  },
  {
   "cell_type": "code",
   "execution_count": null,
   "metadata": {},
   "outputs": [],
   "source": [
    "plt.xlim(0,days)\n",
    "plt.plot(simulation.t[:index],simulation.I_d_det[:index],label='Daily new Infected')\n",
    "plt.scatter(RM.I_d_r_tr,RM.I_d_r,label='Real Data')\n",
    "plt.legend(loc=0)\n",
    "plt.title('Detected Daily infected')\n",
    "plt.show()"
   ]
  },
  {
   "cell_type": "markdown",
   "metadata": {},
   "source": [
    "## Detected Accumulated Infected"
   ]
  },
  {
   "cell_type": "code",
   "execution_count": null,
   "metadata": {},
   "outputs": [],
   "source": [
    "plt.xlim(0,days)\n",
    "plt.plot(simulation.t[:index],simulation.I_ac_det[:index],label='Total Acummulated Infected')\n",
    "plt.scatter(RM.I_ac_r_tr,RM.I_ac_r,label='Real Data')\n",
    "plt.legend(loc=0)\n",
    "plt.show()"
   ]
  },
  {
   "cell_type": "markdown",
   "metadata": {},
   "source": [
    "# Analysis - Total infected\n",
    "\n",
    "The following plots will show the simulation results with the real data"
   ]
  },
  {
   "cell_type": "markdown",
   "metadata": {},
   "source": [
    "## Total Active Infected"
   ]
  },
  {
   "cell_type": "code",
   "execution_count": null,
   "metadata": {},
   "outputs": [],
   "source": [
    "tr_index = np.searchsorted(RM.tr,days)\n",
    "\n",
    "plt.scatter(RM.tr,RM.Ir,label='Real Data')\n",
    "\n",
    "plt.xlim(0,days)\n",
    "plt.plot(simulation.t[:index],simulation.I[:index],label='Total Active Infected')\n",
    "plt.legend(loc=0)\n",
    "plt.title('Total Active Infected')\n",
    "plt.show()\n"
   ]
  },
  {
   "cell_type": "markdown",
   "metadata": {},
   "source": [
    "## Daily Infected"
   ]
  },
  {
   "cell_type": "code",
   "execution_count": null,
   "metadata": {},
   "outputs": [],
   "source": [
    "plt.xlim(0,days)\n",
    "plt.plot(simulation.t[:index],simulation.I_d[:index],label='Total Daily new Infected')\n",
    "plt.scatter(RM.I_d_r_tr,RM.I_d_r,label='Real Data')\n",
    "plt.legend(loc=0)\n",
    "plt.show()"
   ]
  },
  {
   "cell_type": "markdown",
   "metadata": {},
   "source": [
    "## Acummulated Infected"
   ]
  },
  {
   "cell_type": "code",
   "execution_count": null,
   "metadata": {},
   "outputs": [],
   "source": [
    "plt.xlim(0,days)\n",
    "plt.plot(simulation.t[:index],simulation.I_ac[:index],label='Total Acummulated Infected')\n",
    "plt.scatter(RM.I_ac_r_tr,RM.I_ac_r,label='Real Data')\n",
    "plt.legend(loc=0)\n",
    "plt.show()"
   ]
  },
  {
   "cell_type": "markdown",
   "metadata": {},
   "source": [
    "## Deaths"
   ]
  },
  {
   "cell_type": "code",
   "execution_count": null,
   "metadata": {},
   "outputs": [],
   "source": [
    "plt.xlim(0,days)\n",
    "plt.plot(simulation.t[:index],simulation.B[:index],label='Total Acummulated Deaths')\n",
    "plt.scatter(RM.Br_tr,RM.Br,label='Real Data')\n",
    "plt.legend(loc=0)\n",
    "plt.show()"
   ]
  },
  {
   "cell_type": "markdown",
   "metadata": {},
   "source": [
    "## UCI/UTI"
   ]
  },
  {
   "cell_type": "code",
   "execution_count": null,
   "metadata": {},
   "outputs": [],
   "source": [
    "plt.xlim(0,days)\n",
    "plt.plot(simulation.t[:index],simulation.Hse[:index]+simulation.Hout[:index],label='UCI/UTI Beds')\n",
    "plt.scatter(RM.sochimi_tr,RM.Hr,label='Real Data')\n",
    "plt.scatter(RM.sochimi_tr,RM.Hr_tot,label='Real Data')\n",
    "plt.legend(loc=0)\n",
    "plt.show()"
   ]
  },
  {
   "cell_type": "markdown",
   "metadata": {},
   "source": [
    "## VMI"
   ]
  },
  {
   "cell_type": "code",
   "execution_count": null,
   "metadata": {},
   "outputs": [],
   "source": [
    "plt.xlim(0,days)\n",
    "plt.plot(simulation.t[:index],simulation.V[:index],label='VMI Usage')\n",
    "plt.scatter(RM.sochimi_tr,RM.Vr,label='Real Data')\n",
    "plt.legend(loc=0)\n",
    "plt.show()"
   ]
  },
  {
   "cell_type": "markdown",
   "metadata": {},
   "source": [
    "# Objective Functions\n",
    "\n"
   ]
  },
  {
   "cell_type": "code",
   "execution_count": null,
   "metadata": {},
   "outputs": [],
   "source": [
    "# Date until which we calculate the error (normally when the quarantine dynamic change)\n",
    "t1_date = datetime(2020,8,15)\n",
    "\n",
    "\n",
    "t1_day = (t1_date-initdate).days\n",
    "t1_idx = np.where(np.array(RM.tr)>=t1_day)[0][0]\n",
    "idx = np.searchsorted(simulation.t,RM.tr[:t1_idx])"
   ]
  },
  {
   "cell_type": "markdown",
   "metadata": {},
   "source": [
    "## Error:"
   ]
  },
  {
   "cell_type": "code",
   "execution_count": null,
   "metadata": {},
   "outputs": [],
   "source": [
    "Err = np.sum(abs(RM.Ir[:t1_idx]-simulation.I[idx]))/np.mean(RM.Ir[:t1_idx])\n",
    "print(Err)\n"
   ]
  },
  {
   "cell_type": "code",
   "execution_count": null,
   "metadata": {},
   "outputs": [],
   "source": [
    "simulation.peak_date"
   ]
  },
  {
   "cell_type": "code",
   "execution_count": null,
   "metadata": {},
   "outputs": [],
   "source": [
    "RM.initdate"
   ]
  },
  {
   "cell_type": "code",
   "execution_count": null,
   "metadata": {},
   "outputs": [],
   "source": []
  }
 ],
 "metadata": {
  "kernelspec": {
   "display_name": "Python 3.8.2 64-bit",
   "language": "python",
   "name": "python38264bit48ae65e862f64697a29185f9fa581b02"
  },
  "language_info": {
   "codemirror_mode": {
    "name": "ipython",
    "version": 3
   },
   "file_extension": ".py",
   "mimetype": "text/x-python",
   "name": "python",
   "nbconvert_exporter": "python",
   "pygments_lexer": "ipython3",
   "version": "3.8.2"
  }
 },
 "nbformat": 4,
 "nbformat_minor": 4
}
