{
 "cells": [
  {
   "cell_type": "markdown",
   "metadata": {},
   "source": [
    "# SEIRHVD Data Fit\n",
    "\n",
    "This Jupyter notebooks implements the SEIRHVD4 model for fitting the actual Chilean data in order to make projections in bed usage, amount of infected and deaths. \n",
    "This implements a single instance to facilitate understanding the model prior to run multiple data fittings at a time."
   ]
  },
  {
   "cell_type": "code",
   "execution_count": null,
   "metadata": {},
   "outputs": [],
   "source": [
    "import numpy as np\n",
    "import pandas as pd\n",
    "import matplotlib.pyplot as plt\n",
    "from datetime import datetime\n",
    "from numpy import linalg as LA\n",
    "\n",
    "import platform\n",
    "OS = platform.system()\n",
    "\n",
    "import matplotlib.pyplot as plt\n",
    "if OS == 'Linux':    \n",
    "    %matplotlib tk\n",
    "    print('Linux')\n",
    "elif OS == 'Windows':\n",
    "    %matplotlib qt\n",
    "    print('Windows')\n",
    "else:\n",
    "    print('OS not detected :-|')\n",
    "\n",
    "import sys\n",
    "from pathlib import Path\n",
    "sys.path.insert(1, '../src/SEIRHVD/')\n",
    "sys.path.insert(1, '../src/utils/')\n",
    "sys.path.insert(1, 'src/SEIRHVD/')\n",
    "sys.path.insert(1, 'src/utils/')\n",
    "\n",
    "from class_SEIRHUVD4 import SEIRHVD \n",
    "from Quarantine import Quarantine\n",
    "from importdata import ImportData"
   ]
  },
  {
   "cell_type": "markdown",
   "metadata": {},
   "source": [
    "## Time Variables\n",
    "Declare Initial date for simulating and data fitting"
   ]
  },
  {
   "cell_type": "code",
   "execution_count": null,
   "metadata": {},
   "outputs": [],
   "source": [
    "initdate = datetime(2020,5,15)\n",
    "currentdate = datetime.now()\n",
    "currentday = (currentdate - initdate).days"
   ]
  },
  {
   "cell_type": "markdown",
   "metadata": {},
   "source": [
    "## Import Data\n",
    "To import data we use an ImportData object which is initialized with the region's cut and the initial date. Meanwhile we will adjust this data for regions, then I'll add Heath sector as the minimum territorial unit for SEIRHVD models."
   ]
  },
  {
   "cell_type": "code",
   "execution_count": null,
   "metadata": {
    "scrolled": true
   },
   "outputs": [],
   "source": [
    "tstate = '13'\n",
    "\n",
    "# Import Data\n",
    "RM = ImportData(tstate=tstate,initdate = initdate)\n",
    "RM.importdata()"
   ]
  },
  {
   "cell_type": "markdown",
   "metadata": {},
   "source": [
    "## Simulation Parameters"
   ]
  },
  {
   "cell_type": "code",
   "execution_count": null,
   "metadata": {},
   "outputs": [],
   "source": [
    "# Simulation parameters\n",
    "tsim = 1000\n",
    "beta = 0.28\n",
    "mu = 0.8\n",
    "k = 0.1\n",
    "\n",
    "SeroPrevFactor=0.035 # SeroPrevalence Factor (The proportion of the population that participates in the dynamics)\n",
    "expinfection=0 # Proportion in which the exposed infect - 0: nothing, 1: equally as Infected"
   ]
  },
  {
   "cell_type": "markdown",
   "metadata": {},
   "source": [
    "## Quarantines\n",
    "Build Quarantine Object:\n",
    " \n",
    "     Q = Quarantine(rem_mob,max_mob=max_mob,qp=0,iqt=0,fqt=1000,movfunct = 'once')\n",
    "     alpha = Q.alpha\n",
    "     \n",
    "     Plot Quarantine dynamics:\n",
    "         Q.plot()"
   ]
  },
  {
   "cell_type": "code",
   "execution_count": null,
   "metadata": {},
   "outputs": [],
   "source": [
    "# Quarantines \n",
    "max_mob = 0.6\n",
    "rem_mob = 0.4\n",
    "\n",
    "#alpha = Quarantine(rem_mob,max_mob=max_mob,qp=0,iqt=0,fqt=1000,movfunct = 'once').alpha(t)\n",
    "alpha = Quarantine(rem_mob).alpha"
   ]
  },
  {
   "cell_type": "markdown",
   "metadata": {},
   "source": [
    "## Underreport\n",
    "Fraction of Infected detected/reported  \n",
    "    - Imi_det: fraction of Mild detected\n",
    "    - Imi_as: fraction of asymptomatic detected\n",
    "    \n",
    "If both are 1, means that all infected are detected so I_det = I"
   ]
  },
  {
   "cell_type": "code",
   "execution_count": null,
   "metadata": {},
   "outputs": [],
   "source": [
    "Imi_det = 0.56\n",
    "Ias_det = 0"
   ]
  },
  {
   "cell_type": "markdown",
   "metadata": {},
   "source": [
    "## Simulation\n",
    "Initialize Simulation Object, and run the simulation. "
   ]
  },
  {
   "cell_type": "code",
   "execution_count": null,
   "metadata": {},
   "outputs": [],
   "source": [
    "simulation = SEIRHVD(tsim,beta,mu,alpha,k=k,SeroPrevFactor=SeroPrevFactor,expinfection=expinfection,InitialConditions = RM,Imi_det = Imi_det,Ias_det = Ias_det)\n",
    "simulation.integr_sci(0,tsim,0.1)"
   ]
  },
  {
   "cell_type": "markdown",
   "metadata": {},
   "source": [
    "# Analysis - Detected infected\n",
    "\n",
    "The following plots will show the simulation results with the real data"
   ]
  },
  {
   "cell_type": "code",
   "execution_count": null,
   "metadata": {},
   "outputs": [],
   "source": [
    "# Days to plot (Today + ..)\n",
    "days = currentday+20\n",
    "index = np.searchsorted(simulation.t,days)"
   ]
  },
  {
   "cell_type": "markdown",
   "metadata": {},
   "source": [
    "## Detected Active Infected\n",
    "Here we define a Detected infected population as follows:  \n",
    "\n",
    " Idet = Imi*det + Ise + Icr  \n",
    "\n",
    "where det is the proportion of mild detections\n",
    "\n",
    "\n",
    "**Aun me falta corregir el valor inicial, pues este lo considera para todos los infectados**"
   ]
  },
  {
   "cell_type": "code",
   "execution_count": null,
   "metadata": {},
   "outputs": [],
   "source": [
    "tr_index = np.searchsorted(RM.tr,days)\n",
    "\n",
    "plt.scatter(RM.tr,RM.Ir,label='Real Data')\n",
    "\n",
    "plt.xlim(0,days)\n",
    "plt.plot(simulation.t[:index],simulation.I_det[:index],label='Infected')\n",
    "plt.legend(loc=0)\n",
    "plt.title('Detectable Active Infected')\n",
    "plt.show()\n"
   ]
  },
  {
   "cell_type": "markdown",
   "metadata": {},
   "source": [
    "## Detected Daily Infected"
   ]
  },
  {
   "cell_type": "code",
   "execution_count": null,
   "metadata": {},
   "outputs": [],
   "source": [
    "plt.xlim(0,days)\n",
    "plt.plot(simulation.t[:index],simulation.I_d_det[:index],label='Daily new Infected')\n",
    "plt.scatter(RM.I_d_r_tr,RM.I_d_r,label='Real Data')\n",
    "plt.legend(loc=0)\n",
    "plt.title('Detected Daily infected')\n",
    "plt.show()"
   ]
  },
  {
   "cell_type": "markdown",
   "metadata": {},
   "source": [
    "## Detected Accumulated Infected"
   ]
  },
  {
   "cell_type": "code",
   "execution_count": null,
   "metadata": {},
   "outputs": [],
   "source": [
    "plt.xlim(0,days)\n",
    "plt.plot(simulation.t[:index],simulation.I_ac_det[:index],label='Total Acummulated Infected')\n",
    "plt.scatter(RM.I_ac_r_tr,RM.I_ac_r,label='Real Data')\n",
    "plt.legend(loc=0)\n",
    "plt.show()"
   ]
  },
  {
   "cell_type": "markdown",
   "metadata": {},
   "source": [
    "# Analysis - Total infected\n",
    "\n",
    "The following plots will show the simulation results with the real data"
   ]
  },
  {
   "cell_type": "markdown",
   "metadata": {},
   "source": [
    "## Total Active Infected"
   ]
  },
  {
   "cell_type": "code",
   "execution_count": null,
   "metadata": {},
   "outputs": [],
   "source": [
    "tr_index = np.searchsorted(RM.tr,days)\n",
    "\n",
    "plt.scatter(RM.tr,RM.Ir,label='Real Data')\n",
    "\n",
    "plt.xlim(0,days)\n",
    "plt.plot(simulation.t[:index],simulation.I[:index],label='Total Active Infected')\n",
    "plt.legend(loc=0)\n",
    "plt.title('Total Active Infected')\n",
    "plt.show()\n"
   ]
  },
  {
   "cell_type": "markdown",
   "metadata": {},
   "source": [
    "## Daily Infected"
   ]
  },
  {
   "cell_type": "code",
   "execution_count": null,
   "metadata": {},
   "outputs": [],
   "source": [
    "plt.xlim(0,days)\n",
    "plt.plot(simulation.t[:index],simulation.I_d[:index],label='Total Daily new Infected')\n",
    "plt.scatter(RM.I_d_r_tr,RM.I_d_r,label='Real Data')\n",
    "plt.legend(loc=0)\n",
    "plt.show()"
   ]
  },
  {
   "cell_type": "markdown",
   "metadata": {},
   "source": [
    "## Acummulated Infected"
   ]
  },
  {
   "cell_type": "code",
   "execution_count": null,
   "metadata": {},
   "outputs": [],
   "source": [
    "plt.xlim(0,days)\n",
    "plt.plot(simulation.t[:index],simulation.I_ac[:index],label='Total Acummulated Infected')\n",
    "plt.scatter(RM.I_ac_r_tr,RM.I_ac_r,label='Real Data')\n",
    "plt.legend(loc=0)\n",
    "plt.show()"
   ]
  },
  {
   "cell_type": "markdown",
   "metadata": {},
   "source": [
    "## Deaths"
   ]
  },
  {
   "cell_type": "code",
   "execution_count": null,
   "metadata": {},
   "outputs": [],
   "source": [
    "plt.xlim(0,days)\n",
    "plt.plot(simulation.t[:index],simulation.B[:index],label='Total Acummulated Deaths')\n",
    "plt.scatter(RM.Br_tr,RM.Br,label='Real Data')\n",
    "plt.legend(loc=0)\n",
    "plt.show()"
   ]
  },
  {
   "cell_type": "markdown",
   "metadata": {},
   "source": [
    "## UCI/UTI"
   ]
  },
  {
   "cell_type": "code",
   "execution_count": null,
   "metadata": {},
   "outputs": [],
   "source": [
    "plt.xlim(0,days)\n",
    "plt.plot(simulation.t[:index],simulation.Hse[:index]+simulation.Hout[:index],label='UCI/UTI Beds')\n",
    "plt.scatter(RM.sochimi_tr,RM.Hr,label='Real Data')\n",
    "plt.scatter(RM.sochimi_tr,RM.Hr_tot,label='Real Data')\n",
    "plt.legend(loc=0)\n",
    "plt.show()"
   ]
  },
  {
   "cell_type": "markdown",
   "metadata": {},
   "source": [
    "## VMI"
   ]
  },
  {
   "cell_type": "code",
   "execution_count": null,
   "metadata": {},
   "outputs": [],
   "source": [
    "plt.xlim(0,days)\n",
    "plt.plot(simulation.t[:index],simulation.V[:index],label='VMI Usage')\n",
    "plt.scatter(RM.sochimi_tr,RM.Vr,label='Real Data')\n",
    "plt.legend(loc=0)\n",
    "plt.show()"
   ]
  },
  {
   "cell_type": "markdown",
   "metadata": {},
   "source": [
    "# Objective Functions\n",
    "\n"
   ]
  },
  {
   "cell_type": "code",
   "execution_count": null,
   "metadata": {},
   "outputs": [],
   "source": [
    "# Date until which we calculate the error (normally when the quarantine dynamic change)\n",
    "t1_date = datetime(2020,8,15)\n",
    "\n",
    "\n",
    "t1_day = (t1_date-initdate).days\n",
    "t1_idx = np.where(np.array(RM.tr)>=t1_day)[0][0]\n",
    "idx = np.searchsorted(simulation.t,RM.tr[:t1_idx])"
   ]
  },
  {
   "cell_type": "markdown",
   "metadata": {},
   "source": [
    "## Error:"
   ]
  },
  {
   "cell_type": "code",
   "execution_count": null,
   "metadata": {},
   "outputs": [],
   "source": [
    "Err = np.sum(abs(RM.Ir[:t1_idx]-simulation.I[idx]))/np.mean(RM.Ir[:t1_idx])\n",
    "print(Err)\n"
   ]
  },
  {
   "cell_type": "code",
   "execution_count": null,
   "metadata": {},
   "outputs": [],
   "source": [
    "simulation.peak_date"
   ]
  },
  {
   "cell_type": "code",
   "execution_count": null,
   "metadata": {},
   "outputs": [],
   "source": [
    "RM.initdate"
   ]
  },
  {
   "cell_type": "code",
   "execution_count": null,
   "metadata": {},
   "outputs": [],
   "source": []
  }
 ],
 "metadata": {
  "kernelspec": {
   "display_name": "Python 3",
   "language": "python",
   "name": "python3"
  },
  "language_info": {
   "codemirror_mode": {
    "name": "ipython",
    "version": 3
   },
   "file_extension": ".py",
   "mimetype": "text/x-python",
   "name": "python",
   "nbconvert_exporter": "python",
   "pygments_lexer": "ipython3",
   "version": "3.8.2"
  }
 },
 "nbformat": 4,
 "nbformat_minor": 4
}
