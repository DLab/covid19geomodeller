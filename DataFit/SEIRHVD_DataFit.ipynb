{
 "cells": [
  {
   "cell_type": "markdown",
   "metadata": {},
   "source": [
    "# SEIRHVD Data Fit\n",
    "\n",
    "This Jupyter notebooks implements the SEIRHVD4 model for fitting the actual Chilean data in order to make projections in bed usage, amount of infected and deaths. \n",
    "This implements a single instance to facilitate understanding the model prior to run multiple data fittings at a time."
   ]
  },
  {
   "cell_type": "code",
   "execution_count": 1,
   "metadata": {},
   "outputs": [
    {
     "name": "stdout",
     "output_type": "stream",
     "text": [
      "Windows\n"
     ]
    }
   ],
   "source": [
    "import numpy as np\n",
    "import pandas as pd\n",
    "import matplotlib.pyplot as plt\n",
    "from datetime import datetime\n",
    "from numpy import linalg as LA\n",
    "\n",
    "import platform\n",
    "OS = platform.system()\n",
    "\n",
    "import matplotlib.pyplot as plt\n",
    "if OS == 'Linux':    \n",
    "    %matplotlib tk\n",
    "    print('Linux')\n",
    "elif OS == 'Windows':\n",
    "    %matplotlib qt\n",
    "    print('Windows')\n",
    "else:\n",
    "    print('OS not detected :-|')\n",
    "\n",
    "import sys\n",
    "from pathlib import Path\n",
    "sys.path.insert(1, '../src/SEIRHVD/')\n",
    "sys.path.insert(1, '../src/utils/')\n",
    "sys.path.insert(1, 'src/SEIRHVD/')\n",
    "sys.path.insert(1, 'src/utils/')\n",
    "\n",
    "from class_SEIRHUVD4 import SEIRHVD \n",
    "from Quarantine import Quarantine\n",
    "from importdata import ImportData"
   ]
  },
  {
   "cell_type": "markdown",
   "metadata": {},
   "source": [
    "## Time Variables\n",
    "Declare Initial date for simulating and data fitting"
   ]
  },
  {
   "cell_type": "code",
   "execution_count": 2,
   "metadata": {},
   "outputs": [],
   "source": [
    "initdate = datetime(2020,5,15)\n",
    "currentdate = datetime.now()\n",
    "currentday = (currentdate - initdate).days"
   ]
  },
  {
   "cell_type": "markdown",
   "metadata": {},
   "source": [
    "## Import Data\n",
    "To import data we use an ImportData object which is initialized with the region's cut and the initial date. Meanwhile we will adjust this data for regions, then I'll add Heath sector as the minimum territorial unit for SEIRHVD models."
   ]
  },
  {
   "cell_type": "code",
   "execution_count": 3,
   "metadata": {
    "scrolled": true
   },
   "outputs": [
    {
     "name": "stdout",
     "output_type": "stream",
     "text": [
      "Importing General Data\n",
      "Importing Population\n",
      "Importing Active infected\n",
      "Importing Accumulated Infected\n",
      "Importing Daily Infected\n",
      "Importing Sochimi Data\n",
      "Importing Accumulated Deaths\n",
      "Importing Active Infected by Minciencia\n",
      "Done\n"
     ]
    }
   ],
   "source": [
    "tstate = '13'\n",
    "\n",
    "# Import Data\n",
    "RM = ImportData(tstate=tstate,initdate = initdate)\n",
    "RM.importdata()"
   ]
  },
  {
   "cell_type": "markdown",
   "metadata": {},
   "source": [
    "## Simulation Parameters"
   ]
  },
  {
   "cell_type": "code",
   "execution_count": 45,
   "metadata": {},
   "outputs": [],
   "source": [
    "# Simulation parameters\n",
    "tsim = 1000\n",
    "beta = 0.2\n",
    "mu = 0.8\n",
    "k = 0.1\n",
    "\n",
    "SeroPrevFactor=0.05 # SeroPrevalence Factor (The proportion of the population that participates in the dynamics)\n",
    "expinfection=0 # Proportion in which the exposed infect - 0: nothing, 1: equally as Infected"
   ]
  },
  {
   "cell_type": "markdown",
   "metadata": {},
   "source": [
    "## Quarantines\n",
    "Build Quarantine Object:\n",
    " \n",
    "     Q = Quarantine(rem_mob,max_mob=max_mob,qp=0,iqt=0,fqt=1000,movfunct = 'once')\n",
    "     alpha = Q.alpha\n",
    "     \n",
    "     Plot Quarantine dynamics:\n",
    "         Q.plot()"
   ]
  },
  {
   "cell_type": "code",
   "execution_count": 46,
   "metadata": {},
   "outputs": [],
   "source": [
    "# Quarantines \n",
    "max_mob = 0.6\n",
    "rem_mob = 0.5\n",
    "t_end_date=datetime(2020,8,25)\n",
    "t_end=(t_end_date-initdate).days\n",
    "#alpha = Quarantine(rem_mob,max_mob=max_mob,qp=0,iqt=0,fqt=1000,movfunct = 'once').alpha(t)\n",
    "alpha = Quarantine(rem_mob,max_mob,qp=0,iqt=0,fqt=t_end).alpha"
   ]
  },
  {
   "cell_type": "markdown",
   "metadata": {},
   "source": [
    "## Underreport\n",
    "Fraction of Infected detected/reported  \n",
    "    - Imi_det: fraction of Mild detected\n",
    "    - Imi_as: fraction of asymptomatic detected\n",
    "    \n",
    "If both are 1, means that all infected are detected so I_det = I"
   ]
  },
  {
   "cell_type": "code",
   "execution_count": 47,
   "metadata": {},
   "outputs": [],
   "source": [
    "Imi_det = 0.56\n",
    "Ias_det = 0"
   ]
  },
  {
   "cell_type": "markdown",
   "metadata": {},
   "source": [
    "## Simulation\n",
    "Initialize Simulation Object, and run the simulation. "
   ]
  },
  {
   "cell_type": "code",
   "execution_count": 48,
   "metadata": {},
   "outputs": [
    {
     "name": "stdout",
     "output_type": "stream",
     "text": [
      "InitialCondition Object Data\n"
     ]
    },
    {
     "data": {
      "text/plain": [
       "  message: 'The solver successfully reached the end of the integration interval.'\n",
       "     nfev: 3119\n",
       "     njev: 55\n",
       "      nlu: 55\n",
       "      sol: None\n",
       "   status: 0\n",
       "  success: True\n",
       "        t: array([0.00000000e+00, 1.07133033e-08, 2.14266065e-08, 1.07154459e-04,\n",
       "       2.14287492e-04, 3.21420524e-04, 1.39275085e-03, 2.46408118e-03,\n",
       "       3.53541150e-03, 4.60674183e-03, 1.53200451e-02, 2.60333484e-02,\n",
       "       3.67466516e-02, 4.74599549e-02, 5.81732581e-02, 1.65306291e-01,\n",
       "       2.72439323e-01, 3.79572356e-01, 4.86705389e-01, 5.93838421e-01,\n",
       "       7.00971454e-01, 1.06516094e+00, 1.42935042e+00, 1.79353990e+00,\n",
       "       1.88458727e+00, 1.97563464e+00, 1.99839649e+00, 2.02115833e+00,\n",
       "       2.02229642e+00, 2.02343451e+00, 2.02457261e+00, 2.02612538e+00,\n",
       "       2.02706737e+00, 2.02776959e+00, 2.02832212e+00, 2.02877974e+00,\n",
       "       2.02923736e+00, 2.02957566e+00, 2.02991395e+00, 2.03019188e+00,\n",
       "       2.03046981e+00, 2.03074775e+00, 2.03109140e+00, 2.03143505e+00,\n",
       "       2.03177870e+00, 2.03212235e+00, 2.03255107e+00, 2.03297979e+00,\n",
       "       2.03340851e+00, 2.03383722e+00, 2.03426594e+00, 2.03488669e+00,\n",
       "       2.03550743e+00, 2.03612818e+00, 2.03674892e+00, 2.03753580e+00,\n",
       "       2.03832267e+00, 2.03910954e+00, 2.03989642e+00, 2.04099487e+00,\n",
       "       2.04209333e+00, 2.04319178e+00, 2.04429024e+00, 2.04544333e+00,\n",
       "       2.04659643e+00, 2.04774952e+00, 2.04890465e+00, 2.05005979e+00,\n",
       "       2.05583332e+00, 2.06160684e+00, 2.06738037e+00, 2.08638189e+00,\n",
       "       2.10538341e+00, 2.12438493e+00, 2.19061730e+00, 2.25684967e+00,\n",
       "       2.32308203e+00, 2.38931440e+00, 2.42418096e+00, 2.43115427e+00,\n",
       "       2.43812758e+00, 2.45207420e+00, 2.45277153e+00, 2.45346886e+00,\n",
       "       2.45441077e+00, 2.45506646e+00, 2.45556904e+00, 2.45597022e+00,\n",
       "       2.45630330e+00, 2.45663637e+00, 2.45704812e+00, 2.45745987e+00,\n",
       "       2.45779844e+00, 2.45813701e+00, 2.45840327e+00, 2.45866953e+00,\n",
       "       2.45893579e+00, 2.45923105e+00, 2.45952630e+00, 2.45982156e+00,\n",
       "       2.46011682e+00, 2.46041208e+00, 2.46070734e+00, 2.46095134e+00,\n",
       "       2.46119534e+00, 2.46143934e+00, 2.46168334e+00, 2.46197194e+00,\n",
       "       2.46226054e+00, 2.46254914e+00, 2.46283774e+00, 2.46312633e+00,\n",
       "       2.46364448e+00, 2.46416262e+00, 2.46468076e+00, 2.46519890e+00,\n",
       "       2.46571705e+00, 2.46623519e+00, 2.46675333e+00, 2.46727147e+00,\n",
       "       2.46778962e+00, 2.46845529e+00, 2.46912097e+00, 2.46978665e+00,\n",
       "       2.47045232e+00, 2.47111800e+00, 2.47231990e+00, 2.47352181e+00,\n",
       "       2.47472371e+00, 2.47592562e+00, 2.47712752e+00, 2.48069219e+00,\n",
       "       2.48425686e+00, 2.48782152e+00, 2.49138619e+00, 2.50751674e+00,\n",
       "       2.52364728e+00, 2.53977783e+00, 2.59071445e+00, 2.64165107e+00,\n",
       "       2.69258770e+00, 2.80585882e+00, 2.91912994e+00, 3.03240106e+00,\n",
       "       3.14567218e+00, 3.31764150e+00, 3.48961083e+00, 3.66158015e+00,\n",
       "       3.83354948e+00, 4.12610073e+00, 4.41865198e+00, 4.71120322e+00,\n",
       "       5.00375447e+00, 5.29630572e+00, 5.71817859e+00, 6.14005145e+00,\n",
       "       6.56192432e+00, 6.98379719e+00, 7.40567006e+00, 8.05787439e+00,\n",
       "       8.71007873e+00, 9.36228306e+00, 1.00144874e+01, 1.06666917e+01,\n",
       "       1.18596135e+01, 1.30525352e+01, 1.42454569e+01, 1.54383787e+01,\n",
       "       1.66313004e+01, 1.85096912e+01, 2.03880820e+01, 2.22664727e+01,\n",
       "       2.41448635e+01, 2.60232543e+01, 2.87849581e+01, 3.15466619e+01,\n",
       "       3.43083657e+01, 3.70700695e+01, 3.98317733e+01, 4.25934771e+01,\n",
       "       4.25952592e+01, 4.25970413e+01, 4.25988234e+01, 4.26006055e+01,\n",
       "       4.26023876e+01, 4.26059518e+01, 4.26095160e+01, 4.26451580e+01,\n",
       "       4.26808001e+01, 4.27805160e+01, 4.28802320e+01, 4.29799479e+01,\n",
       "       4.31614772e+01, 4.33430064e+01, 4.35245356e+01, 4.37060648e+01,\n",
       "       4.38875940e+01, 4.40691232e+01, 4.42506524e+01, 4.44715722e+01,\n",
       "       4.46924920e+01, 4.49134118e+01, 4.51343316e+01, 4.53552514e+01,\n",
       "       4.56126785e+01, 4.58701056e+01, 4.61275327e+01, 4.63849598e+01,\n",
       "       4.66423869e+01, 4.68998140e+01, 4.71572410e+01, 4.74146681e+01,\n",
       "       4.74177462e+01, 4.74239025e+01, 4.74300587e+01, 4.74362149e+01,\n",
       "       4.74423711e+01, 4.74485273e+01, 4.75100895e+01, 4.75716516e+01,\n",
       "       4.76332138e+01, 4.79129258e+01, 4.81926379e+01, 4.84723500e+01,\n",
       "       4.87520621e+01, 4.90750788e+01, 4.93980954e+01, 4.97211121e+01,\n",
       "       5.00441287e+01, 5.03671454e+01, 5.07463156e+01, 5.11254859e+01,\n",
       "       5.15046562e+01, 5.18838265e+01, 5.22629968e+01, 5.26421670e+01,\n",
       "       5.30213373e+01, 5.34005076e+01, 5.37796779e+01, 5.41588481e+01,\n",
       "       5.45380184e+01, 5.49693880e+01, 5.54007575e+01, 5.58321270e+01,\n",
       "       5.62634966e+01, 5.66948661e+01, 5.71448661e+01, 5.75948661e+01,\n",
       "       5.80448661e+01, 5.84948661e+01, 5.89448661e+01, 5.94948661e+01,\n",
       "       6.00448661e+01, 6.05948661e+01, 6.11448661e+01, 6.17198661e+01,\n",
       "       6.22948661e+01, 6.28698661e+01, 6.34448661e+01, 6.40198661e+01,\n",
       "       6.45948661e+01, 6.52845418e+01, 6.59742174e+01, 6.66638931e+01,\n",
       "       6.73381361e+01, 6.80123792e+01, 6.86866223e+01, 6.93700416e+01,\n",
       "       7.00534610e+01, 7.07368804e+01, 7.14187838e+01, 7.21006873e+01,\n",
       "       7.27825908e+01, 7.34665820e+01, 7.41505733e+01, 7.48345646e+01,\n",
       "       7.55188633e+01, 7.62031619e+01, 7.68874606e+01, 7.75725006e+01,\n",
       "       7.82575406e+01, 7.89425807e+01, 7.96281403e+01, 8.03136999e+01,\n",
       "       8.09992595e+01, 8.16853264e+01, 8.23713933e+01, 8.30574602e+01,\n",
       "       8.37439701e+01, 8.44304800e+01, 8.51169899e+01, 8.58038957e+01,\n",
       "       8.64908016e+01, 8.71777074e+01, 8.78649565e+01, 8.85522056e+01,\n",
       "       8.92394547e+01, 8.99269981e+01, 9.06145414e+01, 9.13020847e+01,\n",
       "       9.19898755e+01, 9.26776663e+01, 9.33654571e+01, 9.40534518e+01,\n",
       "       9.47414464e+01, 9.54294411e+01, 9.61175992e+01, 9.68057572e+01,\n",
       "       9.74939153e+01, 9.81821998e+01, 9.88704842e+01, 9.95587687e+01,\n",
       "       1.00247146e+02, 1.00935523e+02, 1.01623900e+02, 1.02312340e+02,\n",
       "       1.03000779e+02, 1.03689219e+02, 1.04377690e+02, 1.05066162e+02,\n",
       "       1.05754633e+02, 1.06443112e+02, 1.07131591e+02, 1.07820069e+02,\n",
       "       1.08508528e+02, 1.09196987e+02, 1.09885446e+02, 1.10573869e+02,\n",
       "       1.11262291e+02, 1.11950714e+02, 1.12639086e+02, 1.13327457e+02,\n",
       "       1.14015829e+02, 1.14704137e+02, 1.15392445e+02, 1.16080753e+02,\n",
       "       1.16768987e+02, 1.17457220e+02, 1.18145454e+02, 1.18833605e+02,\n",
       "       1.19521756e+02, 1.20209908e+02, 1.20897969e+02, 1.21586030e+02,\n",
       "       1.22274091e+02, 1.22962057e+02, 1.23650023e+02, 1.24337989e+02,\n",
       "       1.25025856e+02, 1.25713722e+02, 1.26401589e+02, 1.27089352e+02,\n",
       "       1.27777116e+02, 1.28464880e+02, 1.29152538e+02, 1.29840197e+02,\n",
       "       1.30527856e+02, 1.31215409e+02, 1.31902962e+02, 1.32590514e+02,\n",
       "       1.33277961e+02, 1.33965407e+02, 1.34652853e+02, 1.35340193e+02,\n",
       "       1.36027533e+02, 1.36714872e+02, 1.37402107e+02, 1.38089341e+02,\n",
       "       1.38776575e+02, 1.39463705e+02, 1.40150834e+02, 1.40837964e+02,\n",
       "       1.41524991e+02, 1.42212018e+02, 1.42899045e+02, 1.43585970e+02,\n",
       "       1.44272896e+02, 1.44959822e+02, 1.45646649e+02, 1.46333476e+02,\n",
       "       1.47020304e+02, 1.47707034e+02, 1.48393765e+02, 1.49080496e+02,\n",
       "       1.49767133e+02, 1.50453770e+02, 1.51140407e+02, 1.51826953e+02,\n",
       "       1.52513498e+02, 1.53200044e+02, 1.53886502e+02, 1.54572959e+02,\n",
       "       1.55259417e+02, 1.55945789e+02, 1.56632161e+02, 1.57318533e+02,\n",
       "       1.58004823e+02, 1.58691112e+02, 1.59377402e+02, 1.60063612e+02,\n",
       "       1.60749821e+02, 1.61436031e+02, 1.62122164e+02, 1.62808297e+02,\n",
       "       1.63494430e+02, 1.64180489e+02, 1.64866548e+02, 1.65552607e+02,\n",
       "       1.66238595e+02, 1.66924583e+02, 1.67610571e+02, 1.68296490e+02,\n",
       "       1.68982410e+02, 1.69668329e+02, 1.70354183e+02, 1.71040037e+02,\n",
       "       1.71725891e+02, 1.72411682e+02, 1.73097473e+02, 1.73783264e+02,\n",
       "       1.74468995e+02, 1.75154725e+02, 1.75840456e+02, 1.76526129e+02,\n",
       "       1.77211802e+02, 1.77897474e+02, 1.78583092e+02, 1.79268709e+02,\n",
       "       1.79954326e+02, 1.80639891e+02, 1.81325455e+02, 1.82011019e+02,\n",
       "       1.82696533e+02, 1.83382046e+02, 1.84067560e+02, 1.84753025e+02,\n",
       "       1.85438490e+02, 1.86123955e+02, 1.86809373e+02, 1.87494792e+02,\n",
       "       1.88180210e+02, 1.88865585e+02, 1.89550959e+02, 1.90236333e+02,\n",
       "       1.90921665e+02, 1.91606996e+02, 1.92292328e+02, 1.92977619e+02,\n",
       "       1.93662910e+02, 1.94348202e+02, 1.95033454e+02, 1.95718707e+02,\n",
       "       1.96403959e+02, 1.97089175e+02, 1.97774390e+02, 1.98459606e+02,\n",
       "       1.99144786e+02, 1.99829966e+02, 2.00515146e+02, 2.01200293e+02,\n",
       "       2.01885439e+02, 2.02570586e+02, 2.03255700e+02, 2.03940814e+02,\n",
       "       2.04625928e+02, 2.05311012e+02, 2.05996095e+02, 2.06681179e+02,\n",
       "       2.07366233e+02, 2.08051287e+02, 2.08736341e+02, 2.09421368e+02,\n",
       "       2.10106394e+02, 2.10791420e+02, 2.11476419e+02, 2.12161419e+02,\n",
       "       2.12846418e+02, 2.13531392e+02, 2.14216366e+02, 2.14901340e+02,\n",
       "       2.15586299e+02, 2.16271258e+02, 2.16956217e+02, 2.17707127e+02,\n",
       "       2.18458037e+02, 2.19208947e+02, 2.20062811e+02, 2.20916674e+02,\n",
       "       2.21770538e+02, 2.22712305e+02, 2.23654071e+02, 2.24595838e+02,\n",
       "       2.25708403e+02, 2.26820969e+02, 2.27933534e+02, 2.29078812e+02,\n",
       "       2.30224091e+02, 2.31369369e+02, 2.32892319e+02, 2.34415269e+02,\n",
       "       2.35938219e+02, 2.36787357e+02, 2.37636495e+02, 2.38485633e+02,\n",
       "       2.39050798e+02, 2.39615962e+02, 2.40181127e+02, 2.41038382e+02,\n",
       "       2.41895638e+02, 2.42752893e+02, 2.47868058e+02, 2.53481760e+02,\n",
       "       2.57946020e+02, 2.62410279e+02, 2.66874538e+02, 2.71338798e+02,\n",
       "       2.75803057e+02, 2.80267316e+02, 2.84731575e+02, 2.90054774e+02,\n",
       "       2.95377972e+02, 3.00701170e+02, 3.06024369e+02, 3.11347567e+02,\n",
       "       3.16670765e+02, 3.21993964e+02, 3.27317162e+02, 3.33301413e+02,\n",
       "       3.39285664e+02, 3.45269916e+02, 3.51254167e+02, 3.57238418e+02,\n",
       "       3.63222670e+02, 3.69206921e+02, 3.75191172e+02, 3.81175423e+02,\n",
       "       3.87159675e+02, 3.93143926e+02, 3.99128177e+02, 4.05112429e+02,\n",
       "       4.11096680e+02, 4.17080931e+02, 4.23065182e+02, 4.29049434e+02,\n",
       "       4.35783564e+02, 4.42517695e+02, 4.49251825e+02, 4.55985956e+02,\n",
       "       4.62720086e+02, 4.69454216e+02, 4.78076499e+02, 4.86698782e+02,\n",
       "       4.95321064e+02, 5.03943347e+02, 5.12565630e+02, 5.21187912e+02,\n",
       "       5.39793147e+02, 5.53127500e+02, 5.66461852e+02, 5.79796204e+02,\n",
       "       5.93130557e+02, 6.06464909e+02, 6.19799261e+02, 6.33133613e+02,\n",
       "       6.46467966e+02, 6.59802318e+02, 6.73136670e+02, 6.86471022e+02,\n",
       "       6.99805375e+02, 7.13139727e+02, 7.26474079e+02, 7.39808432e+02,\n",
       "       7.56810520e+02, 7.73812608e+02, 7.90814696e+02, 8.07816784e+02,\n",
       "       8.24818872e+02, 8.41820960e+02, 8.58823048e+02, 8.75825136e+02,\n",
       "       8.92827224e+02, 9.22694914e+02, 9.47513806e+02, 9.72332699e+02,\n",
       "       9.97151591e+02, 1.00000000e+03])\n",
       " t_events: None\n",
       "        y: array([[ 3.40191472e+05,  3.40191471e+05,  3.40191471e+05, ...,\n",
       "         3.94700891e-08,  9.82493161e-08,  8.62429438e-08],\n",
       "       [ 2.82502793e+04,  2.82502794e+04,  2.82502794e+04, ...,\n",
       "         1.07862689e-08,  2.68386474e-08,  2.35599511e-08],\n",
       "       [ 3.85325885e+03,  3.85325884e+03,  3.85325883e+03, ...,\n",
       "         7.29592127e-12, -4.61375320e-13,  1.56067163e-13],\n",
       "       ...,\n",
       "       [ 0.00000000e+00,  0.00000000e+00,  0.00000000e+00, ...,\n",
       "         4.53267023e+03,  4.53267023e+03,  4.53267023e+03],\n",
       "       [ 0.00000000e+00,  0.00000000e+00,  0.00000000e+00, ...,\n",
       "         4.99114349e+02,  4.99114349e+02,  4.99114349e+02],\n",
       "       [ 0.00000000e+00,  2.69261023e-07,  5.38522046e-07, ...,\n",
       "         3.91613067e+03,  3.91613067e+03,  3.91613067e+03]])\n",
       " y_events: None"
      ]
     },
     "execution_count": 48,
     "metadata": {},
     "output_type": "execute_result"
    }
   ],
   "source": [
    "simulation = SEIRHVD(tsim,beta,mu,alpha,k=k,SeroPrevFactor=SeroPrevFactor,expinfection=expinfection,InitialConditions = RM,Imi_det = Imi_det,Ias_det = Ias_det)\n",
    "simulation.integr_sci(0,tsim,0.1)"
   ]
  },
  {
   "cell_type": "markdown",
   "metadata": {},
   "source": [
    "# Analysis - Detected infected\n",
    "\n",
    "The following plots will show the simulation results with the real data"
   ]
  },
  {
   "cell_type": "code",
   "execution_count": 49,
   "metadata": {},
   "outputs": [],
   "source": [
    "# Days to plot (Today + ..)\n",
    "days = currentday+30\n",
    "index = np.searchsorted(simulation.t,days)"
   ]
  },
  {
   "cell_type": "markdown",
   "metadata": {},
   "source": [
    "## Detected Active Infected\n",
    "Here we define a Detected infected population as follows:  \n",
    "\n",
    " Idet = Imi*det + Ise + Icr  \n",
    "\n",
    "where det is the proportion of mild detections\n",
    "\n",
    "\n",
    "**Aun me falta corregir el valor inicial, pues este lo considera para todos los infectados**"
   ]
  },
  {
   "cell_type": "code",
   "execution_count": 63,
   "metadata": {},
   "outputs": [],
   "source": [
    "tr_index = np.searchsorted(RM.tr,days)\n",
    "\n",
    "plt.scatter(RM.tr,RM.Ir,label='Real Data')\n",
    "\n",
    "plt.xlim(0,days)\n",
    "plt.plot(simulation.t[:index],simulation.I_det[:index],label='Infected')\n",
    "plt.legend(loc=0)\n",
    "plt.title('Detectable Active Infected')\n",
    "plt.show()\n"
   ]
  },
  {
   "cell_type": "markdown",
   "metadata": {},
   "source": [
    "## Detected Daily Infected"
   ]
  },
  {
   "cell_type": "code",
   "execution_count": 65,
   "metadata": {},
   "outputs": [],
   "source": [
    "plt.xlim(0,days)\n",
    "plt.plot(simulation.t[:index],simulation.I_d_det[:index],label='Daily new Infected')\n",
    "plt.scatter(RM.I_d_r_tr,RM.I_d_r,label='Real Data')\n",
    "plt.legend(loc=0)\n",
    "plt.title('Detected Daily infected')\n",
    "plt.show()"
   ]
  },
  {
   "cell_type": "markdown",
   "metadata": {},
   "source": [
    "## Detected Accumulated Infected"
   ]
  },
  {
   "cell_type": "code",
   "execution_count": 64,
   "metadata": {},
   "outputs": [],
   "source": [
    "plt.xlim(0,days)\n",
    "plt.plot(simulation.t[:index],simulation.I_ac_det[:index],label='Total Acummulated Infected')\n",
    "plt.scatter(RM.I_ac_r_tr,RM.I_ac_r,label='Real Data')\n",
    "plt.legend(loc=0)\n",
    "plt.show()"
   ]
  },
  {
   "cell_type": "markdown",
   "metadata": {},
   "source": [
    "# Analysis - Total infected\n",
    "\n",
    "The following plots will show the simulation results with the real data"
   ]
  },
  {
   "cell_type": "markdown",
   "metadata": {},
   "source": [
    "## Total Active Infected"
   ]
  },
  {
   "cell_type": "code",
   "execution_count": 66,
   "metadata": {},
   "outputs": [],
   "source": [
    "tr_index = np.searchsorted(RM.tr,days)\n",
    "\n",
    "plt.scatter(RM.tr,RM.Ir,label='Real Data')\n",
    "\n",
    "plt.xlim(0,days)\n",
    "plt.plot(simulation.t[:index],simulation.I[:index],label='Total Active Infected')\n",
    "plt.legend(loc=0)\n",
    "plt.title('Total Active Infected')\n",
    "plt.show()\n"
   ]
  },
  {
   "cell_type": "markdown",
   "metadata": {},
   "source": [
    "## Daily Infected"
   ]
  },
  {
   "cell_type": "code",
   "execution_count": 39,
   "metadata": {},
   "outputs": [],
   "source": [
    "plt.xlim(0,days)\n",
    "plt.plot(simulation.t[:index],simulation.I_d[:index],label='Total Daily new Infected')\n",
    "plt.scatter(RM.I_d_r_tr,RM.I_d_r,label='Real Data')\n",
    "plt.legend(loc=0)\n",
    "plt.show()"
   ]
  },
  {
   "cell_type": "markdown",
   "metadata": {},
   "source": [
    "## Acummulated Infected"
   ]
  },
  {
   "cell_type": "code",
   "execution_count": 67,
   "metadata": {},
   "outputs": [],
   "source": [
    "plt.xlim(0,days)\n",
    "plt.plot(simulation.t[:index],simulation.I_ac[:index],label='Total Acummulated Infected')\n",
    "plt.scatter(RM.I_ac_r_tr,RM.I_ac_r,label='Real Data')\n",
    "plt.legend(loc=0)\n",
    "plt.show()"
   ]
  },
  {
   "cell_type": "markdown",
   "metadata": {},
   "source": [
    "## Deaths"
   ]
  },
  {
   "cell_type": "code",
   "execution_count": 57,
   "metadata": {},
   "outputs": [],
   "source": [
    "plt.xlim(0,days)\n",
    "plt.plot(simulation.t[:index],simulation.B[:index],label='Total Acummulated Deaths')\n",
    "plt.scatter(RM.Br_tr,RM.Br,label='Real Data')\n",
    "plt.legend(loc=0)\n",
    "plt.show()"
   ]
  },
  {
   "cell_type": "markdown",
   "metadata": {},
   "source": [
    "## UCI/UTI"
   ]
  },
  {
   "cell_type": "code",
   "execution_count": 54,
   "metadata": {},
   "outputs": [],
   "source": [
    "plt.xlim(0,days)\n",
    "plt.plot(simulation.t[:index],simulation.Hse[:index]+simulation.Hout[:index],label='UCI/UTI Beds')\n",
    "plt.scatter(RM.sochimi_tr,RM.Hr,label='Real Data')\n",
    "plt.scatter(RM.sochimi_tr,RM.Hr_tot,label='Real Data')\n",
    "plt.legend(loc=0)\n",
    "plt.show()"
   ]
  },
  {
   "cell_type": "markdown",
   "metadata": {},
   "source": [
    "## VMI"
   ]
  },
  {
   "cell_type": "code",
   "execution_count": 58,
   "metadata": {},
   "outputs": [],
   "source": [
    "plt.xlim(0,days)\n",
    "plt.plot(simulation.t[:index],simulation.V[:index],label='VMI Usage')\n",
    "plt.scatter(RM.sochimi_tr,RM.Vr,label='Real Data')\n",
    "plt.legend(loc=0)\n",
    "plt.show()"
   ]
  },
  {
   "cell_type": "markdown",
   "metadata": {},
   "source": [
    "# Objective Functions\n",
    "\n"
   ]
  },
  {
   "cell_type": "code",
   "execution_count": 59,
   "metadata": {},
   "outputs": [],
   "source": [
    "# Date until which we calculate the error (normally when the quarantine dynamic change)\n",
    "t1_date = datetime(2020,8,15)\n",
    "\n",
    "\n",
    "t1_day = (t1_date-initdate).days\n",
    "t1_idx = np.where(np.array(RM.tr)>=t1_day)[0][0]\n",
    "idx = np.searchsorted(simulation.t,RM.tr[:t1_idx])"
   ]
  },
  {
   "cell_type": "markdown",
   "metadata": {},
   "source": [
    "## Error:"
   ]
  },
  {
   "cell_type": "code",
   "execution_count": null,
   "metadata": {},
   "outputs": [],
   "source": [
    "Err = np.sum(abs(RM.Ir[:t1_idx]-simulation.I[idx]))/np.mean(RM.Ir[:t1_idx])\n",
    "print(Err)\n"
   ]
  },
  {
   "cell_type": "code",
   "execution_count": null,
   "metadata": {},
   "outputs": [],
   "source": [
    "simulation.peak_date"
   ]
  },
  {
   "cell_type": "code",
   "execution_count": null,
   "metadata": {},
   "outputs": [],
   "source": [
    "RM.initdate"
   ]
  },
  {
   "cell_type": "code",
   "execution_count": null,
   "metadata": {},
   "outputs": [],
   "source": []
  }
 ],
 "metadata": {
  "kernelspec": {
   "display_name": "Python 3",
   "language": "python",
   "name": "python3"
  },
  "language_info": {
   "codemirror_mode": {
    "name": "ipython",
    "version": 3
   },
   "file_extension": ".py",
   "mimetype": "text/x-python",
   "name": "python",
   "nbconvert_exporter": "python",
   "pygments_lexer": "ipython3",
   "version": "3.8.3"
  }
 },
 "nbformat": 4,
 "nbformat_minor": 4
}
