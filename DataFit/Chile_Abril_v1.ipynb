{
 "cells": [
  {
   "cell_type": "markdown",
   "metadata": {},
   "source": [
    "# SEIRHVD Data Fit\n",
    "\n",
    "This Jupyter notebooks implements the SEIRHVD model for fitting the actual Chilean data in order to make projections in VMI and bed usage, amount of infected and deaths. This model uses the SEIRHVD 4.1 version. A visual representation of the model is available at: [SEIRHVD Miró Model](https://miro.com/app/board/o9J_ktzN4xA=/)\n",
    "\n",
    "This implements a single instance to facilitate understanding the model prior to run multiple data fittings at a time.\n",
    "\n"
   ]
  },
  {
   "cell_type": "code",
   "execution_count": 2,
   "metadata": {},
   "outputs": [
    {
     "name": "stdout",
     "output_type": "stream",
     "text": [
      "Linux\n"
     ]
    }
   ],
   "source": [
    "import numpy as np\n",
    "import pandas as pd\n",
    "import matplotlib.pyplot as plt\n",
    "import matplotlib.dates as mdates \n",
    "from datetime import datetime\n",
    "from numpy import linalg as LA\n",
    "import multiprocessing\n",
    "from joblib import Parallel, delayed\n",
    "from datetime import timedelta\n",
    "\n",
    "import platform\n",
    "OS = platform.system()\n",
    "\n",
    "import matplotlib.pyplot as plt\n",
    "if OS == 'Linux':    \n",
    "    %matplotlib tk\n",
    "    print('Linux')\n",
    "elif OS == 'Windows':\n",
    "    %matplotlib qt\n",
    "    print('Windows')\n",
    "elif OS == 'Darwin':\n",
    "    %matplotlib tk\n",
    "    print('Mac (Funciona?)')\n",
    "else:\n",
    "    print('OS not detected :-|')\n",
    "\n",
    "import sys\n",
    "from pathlib import Path\n",
    "sys.path.insert(1, '../src/SEIRHVD/')\n",
    "sys.path.insert(1, '../src/utils/')\n",
    "sys.path.insert(1, 'src/SEIRHVD/')\n",
    "sys.path.insert(1, 'src/utils/')\n",
    "\n",
    "from class_SEIRHUVD5 import SEIRHVD \n",
    "from Quarantine import Quarantine\n",
    "from Quarantine import SeroPrevDynamics\n",
    "from importdata import ImportData\n",
    "import Events\n",
    "\n",
    "import json\n",
    "from pandas.core.base import DataError\n",
    "import requests\n",
    "from requests.auth import HTTPBasicAuth\n",
    "import pandas as pd\n",
    "import matplotlib\n",
    "\n",
    "from datetime import date"
   ]
  },
  {
   "cell_type": "markdown",
   "metadata": {},
   "source": [
    "## Time Variables\n",
    "Declare Initial date for simulating and data fitting"
   ]
  },
  {
   "cell_type": "code",
   "execution_count": 3,
   "metadata": {},
   "outputs": [],
   "source": [
    "# First simulation Initial date\n",
    "initdate = datetime(2020,12,3)\n",
    "# Date for change in SeroPrevalence\n",
    "SPchange_date = datetime(2020,7,25)\n",
    "\n",
    "# Current date\n",
    "currentdate = datetime.now()\n",
    "currentday = (currentdate - initdate).days\n",
    "\n",
    "fiestaspatrias = datetime(2020,9,18)\n",
    "fiestaspatrias_day = (fiestaspatrias-initdate).days\n",
    "plebiscito = datetime(2020,10,25)\n",
    "plebiscito_day = (plebiscito-initdate).days\n",
    "\n",
    "navidad = datetime(2020,12,25)\n",
    "navidad_day = (navidad-initdate).days\n",
    "\n",
    "newyear = datetime(2020,12,31)\n",
    "newyear_day = (newyear-initdate).days\n",
    "\n",
    "today = datetime.today()\n",
    "today_day = (today-initdate).days"
   ]
  },
  {
   "cell_type": "markdown",
   "metadata": {},
   "source": [
    "## Import Data\n",
    "To import data we use an ImportData object which is initialized with the region's cut and the initial date. state region is represented by cut = 14."
   ]
  },
  {
   "cell_type": "code",
   "execution_count": 4,
   "metadata": {},
   "outputs": [],
   "source": [
    "def dataretriever(user=None,password=None):\n",
    "    # Esta funcion devolvera una funcion de request        \n",
    "    def request(endpoint):\n",
    "        if user:\n",
    "            aux = requests.get('https://api.cv19gm.org/'+endpoint, auth=HTTPBasicAuth(user, password))\n",
    "            if aux.status_code == 401:\n",
    "                raise Exception('Wrong Credentials')\n",
    "            else:\n",
    "                print('Logged in successfully')\n",
    "        else:\n",
    "            aux = requests.get('http://192.168.2.223:5006/'+endpoint)\n",
    "        return aux\n",
    "    return request\n",
    "def timeJStoPy(t):\n",
    "    return datetime.strptime(t[:10],'%Y-%m-%d')\n",
    "def timetxttoDatetime(t):\n",
    "    return datetime.strptime(t,'%Y-%m-%d')"
   ]
  },
  {
   "cell_type": "code",
   "execution_count": 5,
   "metadata": {},
   "outputs": [],
   "source": [
    "request = dataretriever()"
   ]
  },
  {
   "cell_type": "code",
   "execution_count": 6,
   "metadata": {
    "scrolled": true
   },
   "outputs": [
    {
     "name": "stdout",
     "output_type": "stream",
     "text": [
      "Importing data from all regions\n",
      "Importing General Data\n",
      "Importing Population\n",
      "Importing Active infected\n",
      "Importing Accumulated Infected\n",
      "Importing Daily Infected\n",
      "Importing ICU Beds Data\n",
      "Importing Deaths by DEIS\n",
      "Importing Active Infected by Minciencia\n",
      "Done\n",
      "Importing Daily Infected\n"
     ]
    }
   ],
   "source": [
    "print('Importing data from all regions')\n",
    "tstate = ['01','02','03','04','05','06','07','08','09','10','11','12','13','14','15','16']\n",
    "#tstate = '13101'\n",
    "# Import Data\n",
    "state = ImportData(tstate=tstate,initdate = initdate)\n",
    "state.importdata()\n",
    "\n",
    "state.importDailyInfectedNacional()\n",
    "state.name = 'Chile'"
   ]
  },
  {
   "cell_type": "markdown",
   "metadata": {},
   "source": [
    "### Datos de Hospitalizados a fitear"
   ]
  },
  {
   "cell_type": "markdown",
   "metadata": {},
   "source": []
  },
  {
   "cell_type": "code",
   "execution_count": 7,
   "metadata": {},
   "outputs": [],
   "source": [
    "state.Hr = 1000\n",
    "state.Hr_tot = [10000,10000]\n",
    "state.Vr = state.UCI_use_covid\n",
    "state.Vr_tot = state.UCI_capacity\n",
    "state.UCI_non_covid = state.UCI_use_noncovid\n",
    "state.sochimi_tr = state.UCI_tr#[-2:]\n",
    "state.sochimi_dates = state.UCI_dates"
   ]
  },
  {
   "cell_type": "markdown",
   "metadata": {},
   "source": [
    "## Infectados Diarios"
   ]
  },
  {
   "cell_type": "code",
   "execution_count": 8,
   "metadata": {},
   "outputs": [],
   "source": [
    "endpoint = 'https://raw.githubusercontent.com/MinCiencia/Datos-COVID19/master/output/producto5/TotalesNacionales.csv'\n",
    "casosnuevos = pd.read_csv(endpoint)\n",
    "I_d = casosnuevos[casosnuevos['Fecha']=='Casos nuevos totales'].transpose()\n",
    "dates_I_d = [timetxttoDatetime(I_d.axes[0][i]) for i in range(1,len(I_d.axes[0]))]\n",
    "I_d = np.array(I_d.iloc[1:][6])\n",
    "I_ac = np.cumsum(I_d)\n",
    "\n",
    "index_ac = np.where(np.array(dates_I_d) >= initdate)[0][0]\n",
    "I_ac = I_ac[index_ac:]\n",
    "I_ac_dates = dates_I_d[index_ac:]\n",
    "I_ac_tr = [(i-initdate).days for i in I_ac_dates]\n",
    "\n",
    "index = np.where(np.array(dates_I_d) >= initdate-timedelta(days=7))[0][0]\n",
    "dates_I_d = dates_I_d[index:]\n",
    "I_d = I_d[index:]\n",
    "weekdays = [date.weekday(dates_I_d[i]) for i in range(len(dates_I_d))]\n",
    "I = pd.DataFrame({'dates':dates_I_d,'I':I_d,'weekdays':weekdays})\n",
    "I_week = I[(I['weekdays']>2) | (I['weekdays']==0)]\n",
    "I_week_ra = I_week['I'].rolling(5).mean()[I_week['dates']>=initdate]\n",
    "I_week_ra_dates = I_week['dates'][I_week['dates']>=initdate]\n",
    "I_week_ra_tr = [(i-initdate).days for i in I_week_ra_dates]\n",
    "index_date = np.where(np.array(dates_I_d) >= initdate)[0][0]"
   ]
  },
  {
   "cell_type": "code",
   "execution_count": 9,
   "metadata": {},
   "outputs": [
    {
     "data": {
      "text/plain": [
       "datetime.datetime(2020, 12, 3, 0, 0)"
      ]
     },
     "execution_count": 9,
     "metadata": {},
     "output_type": "execute_result"
    }
   ],
   "source": [
    "initdate"
   ]
  },
  {
   "cell_type": "markdown",
   "metadata": {},
   "source": [
    "# Parameters"
   ]
  },
  {
   "cell_type": "code",
   "execution_count": 10,
   "metadata": {},
   "outputs": [],
   "source": [
    "# Total simulation time\n",
    "tsim = 1000\n",
    "#t_sp = (SPchange_date - initdate).days\n",
    "\n",
    "beta = 0.023\n",
    "mu = 0.298\n",
    "k_I = 0\n",
    "k_R = 0#10\n",
    "SeroPrevFactor = 0.2#1\n",
    "expinfection=0 # Proportion in which the exposed infect - 0: nothing, 1: equally as Infected"
   ]
  },
  {
   "cell_type": "markdown",
   "metadata": {},
   "source": [
    "## Subreport\n",
    "Fraction of Infected detected/reported  \n",
    "\n",
    "$Imi_{det}$: Fraction of Mild detected   \n",
    "$Ias_{det}$: fraction of asymptomatic detected  \n",
    "\n",
    "If both are 1, means that all infected are detected so \n",
    "\\begin{align}\n",
    "I_{det} = I\n",
    "\\end{align}"
   ]
  },
  {
   "cell_type": "code",
   "execution_count": 11,
   "metadata": {},
   "outputs": [],
   "source": [
    "Imi_det = 0.4\n",
    "Ias_det = 0.1\n",
    "Ise_det = 1\n",
    "Icr_det = 1"
   ]
  },
  {
   "cell_type": "markdown",
   "metadata": {},
   "source": [
    "# Quarantines\n",
    "Build Quarantine Object:\n",
    " \n",
    "     Q = Quarantine(rem_mob,max_mob=max_mob,qp=0,iqt=0,fqt=1000,movfunct = 'once')\n",
    "     alpha = Q.alpha\n",
    "     \n",
    "     Plot Quarantine dynamics:\n",
    "         Q.plot()"
   ]
  },
  {
   "cell_type": "code",
   "execution_count": 12,
   "metadata": {},
   "outputs": [],
   "source": [
    "mitdadvacaciones = datetime(2021,2,15)\n",
    "mitadvacaciones_day = (mitdadvacaciones - initdate).days\n",
    "cuarentena = datetime(2021,4,11)\n",
    "cuarentena_day = (cuarentena - initdate).days\n",
    "\n",
    "# Quarantines \n",
    "first_mob = 0.45\n",
    "second_mob = 0.57\n",
    "third_mob = 0.59 #0.612\n",
    "fourth_mob = 0.59 #0.612\n",
    "\n",
    "days=[[0,newyear_day+3],[newyear_day+3,mitadvacaciones_day],[mitadvacaciones_day,cuarentena_day],[cuarentena_day,tsim]]\n",
    "alpha_new = Events.Events(values=[first_mob,second_mob,third_mob,fourth_mob],days=days)"
   ]
  },
  {
   "cell_type": "code",
   "execution_count": 13,
   "metadata": {},
   "outputs": [],
   "source": [
    "# Plot Quarantines\n",
    "if False:\n",
    "    t = np.array(np.arange(0,240,0.1))\n",
    "    alphaplot= [[j(i) for i in t] for j in [alpha_new]]\n",
    "    for f in alphaplot:\n",
    "        plt.plot(t,f)\n",
    "    #for f in alphaplot_UK:\n",
    "        #plt.plot(t,f,linestyle='dashed')    \n",
    "    plt.tick_params(labelsize=18)\n",
    "    plt.legend(loc=0)\n",
    "    plt.title('Mobility-beta',fontsize=20)\n",
    "    plt.show()\n"
   ]
  },
  {
   "cell_type": "markdown",
   "metadata": {},
   "source": [
    "## SeroPrevalence Dynamics\n",
    "The susceptibles increase through a step function which last for the specified amount of days. Throughout these days it adds a \"dailyincrease\" amount of persons each day.\n",
    "\n",
    "The total increase of people is increasedays*dailyincrease"
   ]
  },
  {
   "cell_type": "code",
   "execution_count": 14,
   "metadata": {},
   "outputs": [],
   "source": [
    "def chisum(a,b):\n",
    "    def aux(t):\n",
    "        return a(t)+b(t)\n",
    "    return aux"
   ]
  },
  {
   "cell_type": "code",
   "execution_count": 15,
   "metadata": {},
   "outputs": [],
   "source": [
    "chi = []\n",
    "increasedays = 62#(fiestaspatrias - SPchange_date).days + 0\n",
    "renewalFactor = 0.6\n",
    "dailyincrease = state.population*SeroPrevFactor*renewalFactor/increasedays\n",
    "t_sp_temp = (plebiscito-initdate).days -3\n",
    "chi0 = SeroPrevDynamics(t_sp_temp,t_sp_temp+increasedays*0.8,t_sp_temp+increasedays,dailyincrease,form='line')\n",
    "#chi0 = SeroPrevDynamics(t_sp,t_sp+increasedays*1,t_sp+increasedays,dailyincrease,'quadratic',df = 1)\n",
    "#chi = [chi0]\n",
    "#renewalFactor = [renewalFactor]\n",
    "chi.append(chi0)\n",
    "\n",
    "\n",
    "# Navidad\n",
    "increasedays = 2\n",
    "renewalFactor = 0.65\n",
    "dailyincrease = state.population*SeroPrevFactor*renewalFactor/increasedays\n",
    "\n",
    "chi1 = SeroPrevDynamics(navidad_day,navidad_day+increasedays*0.8,navidad_day+increasedays,dailyincrease,form='line')\n",
    "#chi0 = SeroPrevDynamics(t_sp,t_sp+increasedays*1,t_sp+increasedays,dailyincrease,'quadratic',df = 1)\n",
    "\n",
    "#renewalFactor = [renewalFactor]\n",
    "#chi = Events.functionAddition([chi0,chi1])\n",
    "chi.append(chi1)\n",
    "\n",
    "\n",
    "# Año nuevo\n",
    "delay = 0\n",
    "increasedays = 7\n",
    "renewalFactor_ny = 0.25\n",
    "dailyincrease = state.population*SeroPrevFactor*renewalFactor_ny/increasedays\n",
    "\n",
    "chi2 = SeroPrevDynamics(newyear_day+delay,newyear_day+delay+increasedays*0.05,newyear_day+delay+increasedays,dailyincrease,form='line')\n",
    "#chi0 = SeroPrevDynamics(t_sp,t_sp+increasedays*1,t_sp+increasedays,dailyincrease,'quadratic',df = 1)\n",
    "\n",
    "#renewalFactor = [renewalFactor]\n",
    "chi.append(chi2)\n",
    "\n",
    "chi = Events.functionAddition(chi)\n",
    "\n",
    "#### Contraction during holidays\n",
    "delay = 0\n",
    "hd_contraction = datetime(2021,1,19) #+ timedelta(days=30)\n",
    "hd_contraction_day = (hd_contraction-initdate).days\n",
    "# Increase date \n",
    "#increasedate = today\n",
    "#increaseday = (increasedate - initdate).days\n",
    "# Days for susceptible increase\n",
    "increasedays = 10\n",
    "decrease = -0.55\n",
    "# Daily amount of people\n",
    "dailyincrease = state.population*SeroPrevFactor*decrease/increasedays\n",
    "\n",
    "chi4 = SeroPrevDynamics(hd_contraction_day,hd_contraction_day+delay+increasedays*0.0001,hd_contraction_day+delay+increasedays,dailyincrease)       \n",
    "chi = [chisum(chi,chi4)]\n",
    "\n",
    "\n",
    "#### Second Expansion during holidays\n",
    "\n",
    "delay = 0\n",
    "hd_expansion = datetime(2021,2,13) #+ timedelta(days=30)\n",
    "hd_expansion_day = (hd_expansion-initdate).days\n",
    "# Increase date \n",
    "#increasedate = today\n",
    "#increaseday = (increasedate - initdate).days\n",
    "# Days for susceptible increase\n",
    "increasedays = 33\n",
    "increase = 1.4\n",
    "# Daily amount of people\n",
    "dailyincrease = state.population*SeroPrevFactor*increase/increasedays\n",
    "\n",
    "chi5 = SeroPrevDynamics(hd_expansion_day,hd_expansion_day+delay+increasedays*0.0001,hd_expansion_day+delay+increasedays,dailyincrease)       \n",
    "chi = [chisum(chi[0],chi5)]\n",
    "\n",
    "\n",
    "#### Contraction due to lockdown\n",
    "delay = 0\n",
    "hd_expansion = datetime(2021,4,11) #+ timedelta(days=30)\n",
    "hd_expansion_day = (hd_expansion-initdate).days\n",
    "# Increase date \n",
    "#increasedate = today\n",
    "#increaseday = (increasedate - initdate).days\n",
    "# Days for susceptible increase\n",
    "increasedays = 15\n",
    "increase = -0.5\n",
    "# Daily amount of people\n",
    "dailyincrease = state.population*SeroPrevFactor*increase/increasedays\n",
    "\n",
    "chi6 = SeroPrevDynamics(hd_expansion_day,hd_expansion_day+delay+increasedays*0.0001,hd_expansion_day+delay+increasedays,dailyincrease)       \n",
    "chi = [chisum(chi[0],chi6)]"
   ]
  },
  {
   "cell_type": "markdown",
   "metadata": {},
   "source": [
    "#### Plot Susceptible Dynamics"
   ]
  },
  {
   "cell_type": "code",
   "execution_count": 16,
   "metadata": {},
   "outputs": [],
   "source": [
    "if True:\n",
    "    chiplot = [chi[0](t) for t in np.arange(0,tsim,0.1)]\n",
    "    plt.title('Tasa Ingreso de Susceptibles',fontsize=20)\n",
    "    \n",
    "    plt.plot(np.arange(0,tsim,0.1),chiplot)#,label='RenewalFactor: '+str(renewalFactor[i]))\n",
    "    plt.axvline(x = navidad_day, linestyle = 'dotted',color = 'red',label='Navidad')\n",
    "    plt.axvline(x = newyear_day, linestyle = 'dotted',color = 'blue',label='Año Nuevp')\n",
    "    plt.axvline(x = today_day, linestyle = 'dotted',color = 'green',label='hoy')\n",
    "\n",
    "    plt.xlim(0,150)\n",
    "    plt.tick_params(labelsize=18)\n",
    "    plt.legend(loc=0,fontsize=15)\n",
    "    plt.show()"
   ]
  },
  {
   "cell_type": "markdown",
   "metadata": {},
   "source": [
    "# State transition parameters:"
   ]
  },
  {
   "cell_type": "code",
   "execution_count": 17,
   "metadata": {},
   "outputs": [],
   "source": [
    "#state parameters: \n",
    "pE_Ias = 0.43 # Transition from exposed to Asymptomatic Infected\n",
    "tE_Ias = 3.0\n",
    "pE_Imi = 0.53 # Transition from exposed to  Mild Infected\n",
    "tE_Imi = 3.0\n",
    "pE_Icr = 0.0065 # Transition from exposed to  Critical Infected\n",
    "tE_Icr = 3.0\n",
    "pE_Ise = 0.0335# Transition from exposed to  Serious Infected\n",
    "tE_Ise = 3.0\n",
    "pIas_R = 1.0   # Transition from Asymptomatic Infected to Recovered\n",
    "tIas_R = 5.0\n",
    "pImi_R = 1.0  # Transition from Mild Infected to Recovered\n",
    "tImi_R = 5.0\n",
    "pIse_Hse = 1 # Transition from Serious Infected to Serious Hospitalized (When Hospital capacity is not saturated)\n",
    "tIse_Hse = 5.0\n",
    "pIse_D = 1.0  # Transition from Serious Infected to Death (When Hospital capacity is saturated)\n",
    "tIse_D = 3.0\n",
    "pIcr_V = 1.0  # Transition from Critical Infected to Ventilator (When Ventilators capacity is not saturated)\n",
    "tIcr_V = 3.0\n",
    "pIcr_D = 1.0  # Transition from Serious Infected to Death (When Ventilators capacity is saturated)\n",
    "tIcr_D = 3.0\n",
    "pHse_R = 0.97 # Transition from Serious Hospitalized to Recovered\n",
    "tHse_R = 3.5\n",
    "pHse_V = 0.03# Transition from Serious Hospitalized to Ventilators (When Ventilators capacity is not saturated)\n",
    "tHse_V = 4.0\n",
    "pHse_D = 0.85# Transition from Serious Hospitalized to Death (When Ventilators capacity is saturated)\n",
    "tHse_D = 4.0\n",
    "pV_Hout = 0.45  # Transition from Ventilators to Hospital Recovery (Hout)\n",
    "tV_Hout = 16.0\n",
    "pV_D = 0.55 # Transition from Ventilators to Death\n",
    "tV_D = 12.0\n",
    "pHout_R = 1.0 # Transition from Hospital Recovery (Hout) to Recovered\n",
    "tHout_R = 10.0"
   ]
  },
  {
   "cell_type": "markdown",
   "metadata": {},
   "source": [
    "# Simulation\n",
    "\n",
    "## Initial SeroPrev period\n",
    "Initialize Simulation Object, set params and run the simulation. "
   ]
  },
  {
   "cell_type": "markdown",
   "metadata": {},
   "source": [
    "#alpha[0]\n",
    "simulation = [SEIRHVD(tsim,beta,mu,alpha_new,k_I=k_I,k_R = k_R, chi = chi[i],\n",
    "                      Htot=10000,Vtot=int(state.UCI_capacity[0]),H0=1000,V0=state.UCI_use_covid[0],B0=state.Br[0],D0=state.Dr[0]\n",
    "                      ,R0=state.I_ac_r[0]-state.I_ac_r[0]*0.1,I0=state.Ir[0],I_d0=state.I_d_r[0],I_ac0=state.I_ac_r[0],\n",
    "                      SeroPrevFactor=SeroPrevFactor,expinfection=expinfection,initdate = initdate,\n",
    "                      Imi_det = Imi_det,Ias_det = Ias_det,population = state.population) for i in range(len(chi))]"
   ]
  },
  {
   "cell_type": "code",
   "execution_count": null,
   "metadata": {},
   "outputs": [],
   "source": []
  },
  {
   "cell_type": "code",
   "execution_count": 18,
   "metadata": {},
   "outputs": [
    {
     "name": "stdout",
     "output_type": "stream",
     "text": [
      "InitialCondition Object Data\n"
     ]
    }
   ],
   "source": [
    "simulation = [SEIRHVD(tsim,beta,mu,alpha_new,k_I=k_I,k_R = k_R, chi = chi[i],                      \n",
    "                      SeroPrevFactor=SeroPrevFactor,expinfection=expinfection,initdate = initdate,\n",
    "                      Imi_det = Imi_det,Ias_det = Ias_det,RealIC=state) for i in range(len(chi))]"
   ]
  },
  {
   "cell_type": "markdown",
   "metadata": {},
   "source": [
    "Modify simulation state parameters"
   ]
  },
  {
   "cell_type": "code",
   "execution_count": 19,
   "metadata": {},
   "outputs": [
    {
     "name": "stdout",
     "output_type": "stream",
     "text": [
      "Compartimental model State parameters changed\n"
     ]
    }
   ],
   "source": [
    "for i in range(len(simulation)):\n",
    "    simulation[i].pE_Ias=pE_Ias\n",
    "    simulation[i].tE_Ias=tE_Ias\n",
    "    simulation[i].pE_Imi=pE_Imi\n",
    "    simulation[i].tE_Imi=tE_Imi\n",
    "    simulation[i].pE_Icr=pE_Icr\n",
    "    simulation[i].tE_Icr=tE_Icr\n",
    "    simulation[i].pE_Ise=pE_Ise\n",
    "    simulation[i].tE_Ise=tE_Ise\n",
    "    simulation[i].pIas_R=pIas_R\n",
    "    simulation[i].tIas_R =tIas_R\n",
    "    simulation[i].pImi_R=pImi_R\n",
    "    simulation[i].tImi_R =tImi_R\n",
    "    simulation[i].pIse_Hse=pIse_Hse\n",
    "    simulation[i].tIse_Hse=tIse_Hse\n",
    "    simulation[i].pIse_D=pIse_D\n",
    "    simulation[i].tIse_D=tIse_D\n",
    "    simulation[i].pIcr_V=pIcr_V\n",
    "    simulation[i].tIcr_V=tIcr_V\n",
    "    simulation[i].pIcr_D=pIcr_D\n",
    "    simulation[i].tIcr_D=tIcr_D\n",
    "    simulation[i].pHse_R=pHse_R\n",
    "    simulation[i].tHse_R =tHse_R\n",
    "    simulation[i].pHse_V=pHse_V\n",
    "    simulation[i].tHse_V=tHse_V\n",
    "    simulation[i].pHse_D=pHse_D\n",
    "    simulation[i].tHse_D=tHse_D\n",
    "    simulation[i].pV_Hout=pV_Hout\n",
    "    simulation[i].tV_Hout =tV_Hout\n",
    "    simulation[i].pV_D=pV_D\n",
    "    simulation[i].tV_D =tV_D\n",
    "    simulation[i].pHout_R=pHout_R\n",
    "    simulation[i].tHout_R=tHout_R\n",
    "    simulation[i].setnewparams()"
   ]
  },
  {
   "cell_type": "markdown",
   "metadata": {},
   "source": [
    "### Setting new params"
   ]
  },
  {
   "cell_type": "markdown",
   "metadata": {},
   "source": [
    "## Run simulation\n",
    "\n",
    "* **integr_sci**: Fast solver, sometimes stiffness beat it  \n",
    "* **integr:** Slow solver, more robust with stiffness  "
   ]
  },
  {
   "cell_type": "code",
   "execution_count": 20,
   "metadata": {},
   "outputs": [],
   "source": [
    "def simulate(simulation,i,tsim):\n",
    "    simulation[i].integr_sci(0,tsim,0.1)\n",
    "    return simulation[i]"
   ]
  },
  {
   "cell_type": "code",
   "execution_count": 21,
   "metadata": {},
   "outputs": [
    {
     "name": "stdout",
     "output_type": "stream",
     "text": [
      "[Parallel(n_jobs=12)]: Using backend LokyBackend with 12 concurrent workers.\n",
      "[Parallel(n_jobs=12)]: Done   1 tasks      | elapsed:    1.7s\n",
      "[Parallel(n_jobs=12)]: Done   1 out of   1 | elapsed:    1.8s finished\n",
      "ready\n"
     ]
    }
   ],
   "source": [
    "num_cores = multiprocessing.cpu_count()\n",
    "sims = Parallel(n_jobs=num_cores, verbose=50)(delayed(simulate)(simulation,i,tsim) for i in range(len(simulation)))\n",
    "simulation = sims\n",
    "print('ready')"
   ]
  },
  {
   "cell_type": "markdown",
   "metadata": {},
   "source": [
    "# Simulation Informe Diario\n",
    "\n",
    "## Initial SeroPrev period\n",
    "Initialize Simulation Object, set params and run the simulation. "
   ]
  },
  {
   "cell_type": "markdown",
   "metadata": {},
   "source": [
    "## Parameters"
   ]
  },
  {
   "cell_type": "code",
   "execution_count": 22,
   "metadata": {},
   "outputs": [],
   "source": [
    "# Total simulation time\n",
    "beta_InfDiario = 0.022\n",
    "mu_InfDiario = 0.31#298\n",
    "k_I = 0\n",
    "k_R = 0#10\n",
    "SeroPrevFactor = 0.2#1\n",
    "expinfection=0 # Proportion in which the exposed infect - 0: nothing, 1: equally as Infected"
   ]
  },
  {
   "cell_type": "markdown",
   "metadata": {},
   "source": [
    "# Quarantines\n",
    "Build Quarantine Object:\n",
    " \n",
    "     Q = Quarantine(rem_mob,max_mob=max_mob,qp=0,iqt=0,fqt=1000,movfunct = 'once')\n",
    "     alpha = Q.alpha\n",
    "     \n",
    "     Plot Quarantine dynamics:\n",
    "         Q.plot()"
   ]
  },
  {
   "cell_type": "code",
   "execution_count": 23,
   "metadata": {},
   "outputs": [],
   "source": [
    "mitdadvacaciones = datetime(2021,2,24)\n",
    "mitadvacaciones_day = (mitdadvacaciones - initdate).days\n",
    "cuarentena = datetime(2021,4,11)\n",
    "cuarentena_day = (cuarentena - initdate).days\n",
    "\n",
    "# Quarantines \n",
    "# inicio\n",
    "first_mob = 0.46#0.45\n",
    "# Año nuevo\n",
    "second_mob = 0.57\n",
    "# Expansion mitad febrero\n",
    "third_mob = 0.6#612 #0.612\n",
    "# Cuarentena\n",
    "fourth_mob = third_mob #0.612\n",
    "\n",
    "days=[[0,newyear_day+3],[newyear_day+3,mitadvacaciones_day],[mitadvacaciones_day,cuarentena_day],[cuarentena_day,tsim]]\n",
    "alpha_InfDiario = Events.Events(values=[first_mob,second_mob,third_mob,fourth_mob],days=days)"
   ]
  },
  {
   "cell_type": "code",
   "execution_count": 24,
   "metadata": {},
   "outputs": [],
   "source": [
    "# Plot Quarantines\n",
    "if False:\n",
    "    t = np.array(np.arange(0,240,0.1))\n",
    "    alphaplot= [[j(i) for i in t] for j in [alpha_InfDiario]]\n",
    "    for f in alphaplot:\n",
    "        plt.plot(t,f)\n",
    "    #for f in alphaplot_UK:\n",
    "        #plt.plot(t,f,linestyle='dashed')    \n",
    "    plt.tick_params(labelsize=18)\n",
    "    plt.legend(loc=0)\n",
    "    plt.title('Mobility-beta',fontsize=20)\n",
    "    plt.show()\n"
   ]
  },
  {
   "cell_type": "markdown",
   "metadata": {},
   "source": [
    "## SeroPrevalence Dynamics\n",
    "The susceptibles increase through a step function which last for the specified amount of days. Throughout these days it adds a \"dailyincrease\" amount of persons each day.\n",
    "\n",
    "The total increase of people is increasedays*dailyincrease"
   ]
  },
  {
   "cell_type": "code",
   "execution_count": 25,
   "metadata": {},
   "outputs": [],
   "source": [
    "def chisum(a,b):\n",
    "    def aux(t):\n",
    "        return a(t)+b(t)\n",
    "    return aux"
   ]
  },
  {
   "cell_type": "code",
   "execution_count": 26,
   "metadata": {},
   "outputs": [],
   "source": [
    "chi = []\n",
    "increasedays = 62#(fiestaspatrias - SPchange_date).days + 0\n",
    "renewalFactor = 1.0 #0.7\n",
    "dailyincrease = state.population*SeroPrevFactor*renewalFactor/increasedays\n",
    "t_sp_temp = (plebiscito-initdate).days -3\n",
    "chi0 = SeroPrevDynamics(t_sp_temp,t_sp_temp+increasedays*0.8,t_sp_temp+increasedays,dailyincrease,form='line')\n",
    "#chi0 = SeroPrevDynamics(t_sp,t_sp+increasedays*1,t_sp+increasedays,dailyincrease,'quadratic',df = 1)\n",
    "#chi = [chi0]\n",
    "#renewalFactor = [renewalFactor]\n",
    "chi.append(chi0)\n",
    "\n",
    "\n",
    "# Navidad\n",
    "delay = 3\n",
    "increasedays = 2\n",
    "renewalFactor = 0.65 #0.65\n",
    "dailyincrease = state.population*SeroPrevFactor*renewalFactor/increasedays\n",
    "\n",
    "chi1 = SeroPrevDynamics(navidad_day+delay,navidad_day+delay+increasedays*0.8,navidad_day+delay+increasedays,dailyincrease,form='line')\n",
    "#chi0 = SeroPrevDynamics(t_sp,t_sp+increasedays*1,t_sp+increasedays,dailyincrease,'quadratic',df = 1)\n",
    "\n",
    "#renewalFactor = [renewalFactor]\n",
    "#chi = Events.functionAddition([chi0,chi1])\n",
    "chi.append(chi1)\n",
    "\n",
    "\n",
    "# Año nuevo\n",
    "delay = 3\n",
    "increasedays = 7\n",
    "renewalFactor_ny = 0.25\n",
    "dailyincrease = state.population*SeroPrevFactor*renewalFactor_ny/increasedays\n",
    "\n",
    "chi2 = SeroPrevDynamics(newyear_day+delay,newyear_day+delay+increasedays*0.05,newyear_day+delay+increasedays,dailyincrease,form='line')\n",
    "#chi0 = SeroPrevDynamics(t_sp,t_sp+increasedays*1,t_sp+increasedays,dailyincrease,'quadratic',df = 1)\n",
    "\n",
    "#renewalFactor = [renewalFactor]\n",
    "chi.append(chi2)\n",
    "\n",
    "chi = Events.functionAddition(chi)\n",
    "\n",
    "#### Contraction during holidays\n",
    "delay = 5\n",
    "hd_contraction = datetime(2021,1,19) #+ timedelta(days=30)\n",
    "hd_contraction_day = (hd_contraction-initdate).days\n",
    "# Increase date \n",
    "#increasedate = today\n",
    "#increaseday = (increasedate - initdate).days\n",
    "# Days for susceptible increase\n",
    "increasedays = 10\n",
    "decrease = -0.50\n",
    "# Daily amount of people\n",
    "dailyincrease = state.population*SeroPrevFactor*decrease/increasedays\n",
    "\n",
    "chi4 = SeroPrevDynamics(hd_contraction_day+delay,hd_contraction_day+delay+increasedays*0.0001,hd_contraction_day+delay+increasedays,dailyincrease)       \n",
    "chi = [chisum(chi,chi4)]\n",
    "\n",
    "\n",
    "#### Second Expansion during holidays\n",
    "\n",
    "delay = 7\n",
    "hd_expansion = datetime(2021,2,13) #+ timedelta(days=30)\n",
    "hd_expansion_day = (hd_expansion-initdate).days\n",
    "# Increase date \n",
    "#increasedate = today\n",
    "#increaseday = (increasedate - initdate).days\n",
    "# Days for susceptible increase\n",
    "increasedays = 7\n",
    "increase = 1#1#0.7#0.7#1.4\n",
    "# Daily amount of people\n",
    "dailyincrease = state.population*SeroPrevFactor*increase/increasedays\n",
    "\n",
    "chi5 = SeroPrevDynamics(hd_expansion_day+delay,hd_expansion_day+delay+increasedays*0.0001,hd_expansion_day+delay+increasedays,dailyincrease)       \n",
    "chi = [chisum(chi[0],chi5)]\n",
    "\n",
    "\n",
    "#### Contraction due to lockdown\n",
    "delay = 0\n",
    "hd_expansion = datetime(2021,4,11) #+ timedelta(days=30)\n",
    "hd_expansion_day = (hd_expansion-initdate).days\n",
    "# Increase date \n",
    "#increasedate = today\n",
    "#increaseday = (increasedate - initdate).days\n",
    "# Days for susceptible increase\n",
    "increasedays = 15\n",
    "increase = 0#-0.5\n",
    "# Daily amount of people\n",
    "dailyincrease = state.population*SeroPrevFactor*increase/increasedays\n",
    "\n",
    "chi6 = SeroPrevDynamics(hd_expansion_day,hd_expansion_day+delay+increasedays*0.0001,hd_expansion_day+delay+increasedays,dailyincrease)       \n",
    "chi = [chisum(chi[0],chi6)]"
   ]
  },
  {
   "cell_type": "markdown",
   "metadata": {},
   "source": [
    "#### Plot Susceptible Dynamics"
   ]
  },
  {
   "cell_type": "code",
   "execution_count": 27,
   "metadata": {},
   "outputs": [],
   "source": [
    "if False:\n",
    "    chiplot = [chi[0](t) for t in np.arange(0,tsim,0.1)]\n",
    "    plt.title('Tasa Ingreso de Susceptibles',fontsize=20)\n",
    "    \n",
    "    plt.plot(np.arange(0,tsim,0.1),chiplot)#,label='RenewalFactor: '+str(renewalFactor[i]))\n",
    "    plt.axvline(x = navidad_day, linestyle = 'dotted',color = 'red',label='Navidad')\n",
    "    plt.axvline(x = newyear_day, linestyle = 'dotted',color = 'blue',label='Año Nuevp')\n",
    "    plt.axvline(x = today_day, linestyle = 'dotted',color = 'green',label='hoy')\n",
    "\n",
    "    plt.xlim(0,150)\n",
    "    plt.tick_params(labelsize=18)\n",
    "    plt.legend(loc=0,fontsize=15)\n",
    "    plt.show()"
   ]
  },
  {
   "cell_type": "markdown",
   "metadata": {},
   "source": [
    "### Simulation constructor"
   ]
  },
  {
   "cell_type": "code",
   "execution_count": 28,
   "metadata": {},
   "outputs": [],
   "source": [
    "import copy"
   ]
  },
  {
   "cell_type": "code",
   "execution_count": 29,
   "metadata": {},
   "outputs": [],
   "source": [
    "state_InfDiario = copy.deepcopy(state)\n",
    "state_InfDiario.I_d_r = list(I_week_ra)\n",
    "state_InfDiario.I_d_r_dates = list(I_week_ra_dates)\n",
    "state_InfDiario.I_d_r_tr = I_week_ra_tr\n",
    "\n",
    "state_InfDiario.I_ac_r = I_ac\n",
    "state_InfDiario.I_ac_r_dates = I_ac_dates\n",
    "state_InfDiario.I_ac_r_tr = I_ac_tr\n"
   ]
  },
  {
   "cell_type": "code",
   "execution_count": 30,
   "metadata": {},
   "outputs": [
    {
     "name": "stdout",
     "output_type": "stream",
     "text": [
      "InitialCondition Object Data\n"
     ]
    }
   ],
   "source": [
    "simulation_InfDiario = [SEIRHVD(tsim,beta_InfDiario,mu_InfDiario,alpha_InfDiario,k_I=k_I,k_R = k_R, chi = chi[i],                      \n",
    "                      SeroPrevFactor=SeroPrevFactor,expinfection=expinfection,initdate = initdate,\n",
    "                      Imi_det = Imi_det,Ias_det = Ias_det,RealIC=state_InfDiario) for i in range(len(chi))]"
   ]
  },
  {
   "cell_type": "markdown",
   "metadata": {},
   "source": [
    "Modify simulation state parameters"
   ]
  },
  {
   "cell_type": "code",
   "execution_count": 31,
   "metadata": {},
   "outputs": [
    {
     "name": "stdout",
     "output_type": "stream",
     "text": [
      "Compartimental model State parameters changed\n"
     ]
    }
   ],
   "source": [
    "for i in range(len(simulation_InfDiario)):\n",
    "    simulation_InfDiario[i].pE_Ias=pE_Ias\n",
    "    simulation_InfDiario[i].tE_Ias=tE_Ias\n",
    "    simulation_InfDiario[i].pE_Imi=pE_Imi\n",
    "    simulation_InfDiario[i].tE_Imi=tE_Imi\n",
    "    simulation_InfDiario[i].pE_Icr=pE_Icr\n",
    "    simulation_InfDiario[i].tE_Icr=tE_Icr\n",
    "    simulation_InfDiario[i].pE_Ise=pE_Ise\n",
    "    simulation_InfDiario[i].tE_Ise=tE_Ise\n",
    "    simulation_InfDiario[i].pIas_R=pIas_R\n",
    "    simulation_InfDiario[i].tIas_R =tIas_R\n",
    "    simulation_InfDiario[i].pImi_R=pImi_R\n",
    "    simulation_InfDiario[i].tImi_R =tImi_R\n",
    "    simulation_InfDiario[i].pIse_Hse=pIse_Hse\n",
    "    simulation_InfDiario[i].tIse_Hse=tIse_Hse\n",
    "    simulation_InfDiario[i].pIse_D=pIse_D\n",
    "    simulation_InfDiario[i].tIse_D=tIse_D\n",
    "    simulation_InfDiario[i].pIcr_V=pIcr_V\n",
    "    simulation_InfDiario[i].tIcr_V=tIcr_V\n",
    "    simulation_InfDiario[i].pIcr_D=pIcr_D\n",
    "    simulation_InfDiario[i].tIcr_D=tIcr_D\n",
    "    simulation_InfDiario[i].pHse_R=pHse_R\n",
    "    simulation_InfDiario[i].tHse_R =tHse_R\n",
    "    simulation_InfDiario[i].pHse_V=pHse_V\n",
    "    simulation_InfDiario[i].tHse_V=tHse_V\n",
    "    simulation_InfDiario[i].pHse_D=pHse_D\n",
    "    simulation_InfDiario[i].tHse_D=tHse_D\n",
    "    simulation_InfDiario[i].pV_Hout=pV_Hout\n",
    "    simulation_InfDiario[i].tV_Hout =tV_Hout\n",
    "    simulation_InfDiario[i].pV_D=pV_D\n",
    "    simulation_InfDiario[i].tV_D =tV_D\n",
    "    simulation_InfDiario[i].pHout_R=pHout_R\n",
    "    simulation_InfDiario[i].tHout_R=tHout_R\n",
    "    simulation_InfDiario[i].setnewparams()"
   ]
  },
  {
   "cell_type": "markdown",
   "metadata": {},
   "source": [
    "### Setting new params"
   ]
  },
  {
   "cell_type": "markdown",
   "metadata": {},
   "source": [
    "## Run simulation\n",
    "\n",
    "* **integr_sci**: Fast solver, sometimes stiffness beat it  \n",
    "* **integr:** Slow solver, more robust with stiffness  "
   ]
  },
  {
   "cell_type": "code",
   "execution_count": 32,
   "metadata": {},
   "outputs": [],
   "source": [
    "def simulate(simulation,i,tsim):\n",
    "    simulation[i].integr_sci(0,tsim,0.1)\n",
    "    return simulation[i]"
   ]
  },
  {
   "cell_type": "code",
   "execution_count": 33,
   "metadata": {},
   "outputs": [
    {
     "name": "stdout",
     "output_type": "stream",
     "text": [
      "[Parallel(n_jobs=12)]: Using backend LokyBackend with 12 concurrent workers.\n",
      "[Parallel(n_jobs=12)]: Done   1 tasks      | elapsed:    1.5s\n",
      "[Parallel(n_jobs=12)]: Done   1 out of   1 | elapsed:    1.5s finished\n",
      "ready\n"
     ]
    }
   ],
   "source": [
    "num_cores = multiprocessing.cpu_count()\n",
    "sims_InfDiario = Parallel(n_jobs=num_cores, verbose=50)(delayed(simulate)(simulation_InfDiario,i,tsim) for i in range(len(simulation_InfDiario)))\n",
    "simulation_InfDiario = sims_InfDiario\n",
    "print('ready')"
   ]
  },
  {
   "cell_type": "markdown",
   "metadata": {},
   "source": [
    "# Analysis"
   ]
  },
  {
   "cell_type": "code",
   "execution_count": 34,
   "metadata": {},
   "outputs": [],
   "source": [
    "saveplot = False\n",
    "if saveplot:\n",
    "    %matplotlib inline\n",
    "#%matplotlib inline\n",
    "%matplotlib tk\n",
    "# Big Screen\n",
    "plt.rcParams[\"figure.figsize\"] = 38.40, 20.56 #19.20,10.80#8,6\n",
    "# Small Screen\n",
    "#plt.rcParams[\"figure.figsize\"] = 19.2, 10.80 #19.20,10.80#8,6\n",
    "plt.rcParams.update({\n",
    "    \"text.usetex\": False,\n",
    "    \"font.family\": \"sans-serif\",\n",
    "    \"font.sans-serif\":[\"Arial\"]})\n"
   ]
  },
  {
   "cell_type": "markdown",
   "metadata": {},
   "source": [
    "## Grid Plot"
   ]
  },
  {
   "cell_type": "code",
   "execution_count": 35,
   "metadata": {},
   "outputs": [],
   "source": [
    "# Days to plot\n",
    "days = 500\n",
    "t_end = 50\n",
    "\n",
    "enddate = initdate + timedelta(days=365)\n",
    "enddate = datetime(2021,9,30)"
   ]
  },
  {
   "cell_type": "code",
   "execution_count": 36,
   "metadata": {},
   "outputs": [],
   "source": [
    "dates = [[initdate+timedelta(days=int(i)) for i in simulation[j].t] for j in range(len(simulation))]"
   ]
  },
  {
   "cell_type": "code",
   "execution_count": 37,
   "metadata": {},
   "outputs": [],
   "source": [
    "SeroPrevalence = [simulation[i].I_ac[-1]/simulation[i].population for i in range(len(simulation))]\n",
    "SeroPrevalenceDet = [simulation[i].I_ac_det[-1]/simulation[i].population for i in range(len(simulation))]"
   ]
  },
  {
   "cell_type": "code",
   "execution_count": 38,
   "metadata": {},
   "outputs": [],
   "source": [
    "pĺotlinewidth = 4\n",
    "datelinewidth = 3"
   ]
  },
  {
   "cell_type": "markdown",
   "metadata": {},
   "source": [
    "### Pantalla"
   ]
  },
  {
   "cell_type": "code",
   "execution_count": 39,
   "metadata": {},
   "outputs": [],
   "source": [
    "#4k\n",
    "fontsize_title = 22\n",
    "fontsize_suptitle = 25\n",
    "fontsize_label = 18\n",
    "fontsize_legend = 14"
   ]
  },
  {
   "cell_type": "code",
   "execution_count": 40,
   "metadata": {},
   "outputs": [],
   "source": [
    "#1080\n",
    "fontsize_title = 15\n",
    "fontsize_suptitle = 16\n",
    "fontsize_label = 12\n",
    "fontsize_legend = 8\n",
    "\n",
    "pĺotlinewidth = 2\n",
    "datelinewidth = 1"
   ]
  },
  {
   "cell_type": "code",
   "execution_count": 41,
   "metadata": {},
   "outputs": [],
   "source": [
    "renewalFactor = [0]"
   ]
  },
  {
   "cell_type": "code",
   "execution_count": 42,
   "metadata": {},
   "outputs": [],
   "source": [
    "sim_InfDiario = True\n",
    "sim_InfEPI = True"
   ]
  },
  {
   "cell_type": "code",
   "execution_count": 43,
   "metadata": {},
   "outputs": [],
   "source": [
    "colors = plt.cm.rainbow_r(np.linspace(0,1,len(renewalFactor)))\n",
    "\n",
    "fig, axs = plt.subplots(2, 2)\n",
    "\n",
    "for i in range(len(simulation)):\n",
    "    if sim_InfEPI:\n",
    "        axs[0,0].plot(dates[i],simulation[i].I_ac_det,linewidth=pĺotlinewidth,label='RF: '+str(renewalFactor[i])+' | SP_R: '+str(round(100*SeroPrevalence[i],2))+'%'+' | SP_D:'+str(round(100*SeroPrevalenceDet[i],2))+'%',color=colors[i])\n",
    "    if sim_InfDiario:\n",
    "        axs[0,0].plot(dates[i],simulation_InfDiario[i].I_ac_det,color=colors[i],linestyle='dashed',linewidth=pĺotlinewidth)\n",
    "axs[0,0].set_title('Infectados acumulados',fontsize=fontsize_title)\n",
    "axs[0,0].set_xlim(initdate,enddate)\n",
    "#axs[0,0].set_ylim(0,1.5e6)\n",
    "\n",
    "\n",
    "\n",
    "axs[0,0].axvline(x = datetime(2020,12,25), linestyle = 'dotted',color = 'red',label='Navidad',linewidth=datelinewidth)\n",
    "axs[0,0].axvline(x = datetime(2020,12,31), linestyle = 'dotted',color = 'blue',label='Año Nuevo',linewidth=datelinewidth)\n",
    "axs[0,0].axvline(x = datetime(2021,2,15), linestyle = 'dotted',color = 'green',label='15 Febrero',linewidth=datelinewidth)\n",
    "\n",
    "\n",
    "#axs[0,0].plot([], [], ' ', label='RF: RenewalFactor')\n",
    "#axs[0,0].plot([], [], ' ', label='SP_R: SeroPrevalence Real')\n",
    "#axs[0,0].plot([], [], ' ', label='SP_D: SeroPrevalence Detected')\n",
    "\n",
    "if sim_InfEPI:\n",
    "    axs[0,0].scatter(state.I_ac_r_dates,state.I_ac_r,color='black',label='Informe EPI',zorder=10)\n",
    "\n",
    "if sim_InfDiario:\n",
    "    # cambiar\n",
    "    axs[0,0].scatter(I_ac_dates,I_ac,color='grey',label='Informe Diario',zorder=10)\n",
    "\n",
    "axs[0,0].fmt_xdata = mdates.DateFormatter('%Y-%m-%d')\n",
    "axs[0,0].legend(loc=0)\n",
    "\n",
    "axs[0,0].grid(color='grey', linestyle='dotted', linewidth=0.5)\n",
    "\n",
    "\n",
    "# Accumulated deaths\n",
    "for i in range(len(simulation)):\n",
    "    if sim_InfEPI:\n",
    "        axs[0,1].plot(dates[i],simulation[i].B,label='RenewalFactor: '+str(renewalFactor[i]),color=colors[i],linewidth=pĺotlinewidth)\n",
    "    if sim_InfDiario:\n",
    "        axs[0,1].plot(dates[i],simulation_InfDiario[i].B,color=colors[i],linestyle='dashed',linewidth=pĺotlinewidth)\n",
    "    \n",
    "axs[0,1].set_title('Muertes Acumuladas',fontsize=fontsize_title)\n",
    "axs[0,1].set_xlim(initdate,enddate)\n",
    "#axs[0,1].set_ylim(0,1e4)\n",
    "\n",
    "axs[0,1].axvline(x = datetime(2020,12,25), linestyle = 'dotted',color = 'red',label='Navidad',linewidth=datelinewidth)\n",
    "axs[0,1].axvline(x = datetime(2020,12,31), linestyle = 'dotted',color = 'blue',label='Año Nuevo',linewidth=datelinewidth)\n",
    "axs[0,1].axvline(x = datetime(2021,2,15), linestyle = 'dotted',color = 'green',label='15 Febrero',linewidth=datelinewidth)\n",
    "\n",
    "axs[0,1].scatter(state.Br_dates,state.Br,label='Datos',color='black',zorder=10)\n",
    "\n",
    "axs[0,1].fmt_xdata = mdates.DateFormatter('%Y-%m-%d')\n",
    "axs[0,1].legend(loc=0)\n",
    "\n",
    "\n",
    "for i in range(len(simulation)):\n",
    "    if sim_InfEPI:\n",
    "        axs[1,0].plot(dates[i],simulation[i].I_d_det,label='RenewalFactor: '+str(renewalFactor[i]),color=colors[i],linewidth=pĺotlinewidth)\n",
    "    if sim_InfDiario:\n",
    "        axs[1,0].plot(dates[i],simulation_InfDiario[i].I_d_det,color=colors[i],linestyle='dashed',linewidth=pĺotlinewidth)    \n",
    "axs[1,0].set_title('Nuevos Infectados Diarios',fontsize=fontsize_title)\n",
    "axs[1,0].set_xlim(initdate,enddate)\n",
    "#axs[1,0].set_ylim(0,1e4)\n",
    "\n",
    "if sim_InfEPI:\n",
    "    axs[1,0].scatter(state.I_d_r_dates,state.I_d_r,label='Informe EPI',color='black',zorder=5)\n",
    "if sim_InfDiario:\n",
    "    axs[1,0].scatter(I_week_ra_dates,I_week_ra,label='Informe diario (RA5D)',color='red',zorder=5)  \n",
    "    axs[1,0].plot(dates_I_d,I_d,label='Informe diario',color='blue',zorder=10,linestyle='dashed')\n",
    "    \n",
    "#axs[1,0].axvline(x = SPchange_date, linestyle = 'dotted',color = 'grey',label='Inicio Apertura')\n",
    "#axs[1,0].axvline(x = datetime(2020,8,22), linestyle = 'dotted',color = 'grey',label='Inicio Cuarentena')\n",
    "#axs[1,0].axvline(x = fiestaspatrias, linestyle = 'dotted',color = 'red',label='18 Sept')\n",
    "#axs[1,0].axvline(x = plebiscito, linestyle = 'dotted',color = 'blue',label='Plebiscito',linewidth=datelinewidth)\n",
    "axs[1,0].axvline(x = datetime(2020,12,25), linestyle = 'dotted',color = 'red',label='Navidad',linewidth=datelinewidth)\n",
    "axs[1,0].axvline(x = datetime(2020,12,31), linestyle = 'dotted',color = 'blue',label='Año Nuevo',linewidth=datelinewidth)\n",
    "axs[1,0].axvline(x = datetime(2021,2,15), linestyle = 'dotted',color = 'green',label='15 Febrero',linewidth=datelinewidth)\n",
    "\n",
    "#axs[1,0].axvline(x = datetime(2020,7,18), linestyle = 'dotted',color = 'grey',label='Cambio a fase 3')\n",
    "#axs[1,0].axvline(x = datetime(2020,9,11), linestyle = 'dashed',color = 'grey',label='Cambio a fase 4')\n",
    "#axs[1,0].axvline(x = datetime(2020,10,3), linestyle = 'dashdot',color = 'grey',label='Cambio a fase 2')\n",
    "\n",
    "\n",
    "axs[1,0].legend(loc=0)\n",
    "\n",
    "\n",
    "for i in range(len(simulation)):\n",
    "    if sim_InfEPI:\n",
    "        axs[1,1].plot(dates[i],simulation[i].V,label='RenewalFactor: '+str(renewalFactor[i]),color=colors[i],linewidth=pĺotlinewidth)\n",
    "    #axs[1,1].plot(dates[i],simulation[i].V_need,linestyle='dashed',color=colors[i])\n",
    "    if sim_InfDiario:\n",
    "        axs[1,1].plot(dates[i],simulation_InfDiario[i].V,color=colors[i],linestyle='dashed',linewidth=pĺotlinewidth)    \n",
    "axs[1,1].set_title('Uso UCI',fontsize=fontsize_title)\n",
    "axs[1,1].set_xlim(initdate,enddate)\n",
    "#axs[1,1].set_ylim(0,3e3)\n",
    "\n",
    "axs[1,1].scatter(state.UCI_dates,state.UCI_use_covid,label='Datos',color='black',zorder=10)\n",
    "#axs[1,1].plot(state.UCI_dates,state.UCI_capacity,label='UCI Capacity', linestyle = 'dashed', color = 'grey')\n",
    "axs[1,1].plot(simulation[0].dates,simulation[0].V_cap,label='UCI Capacity', linestyle = 'dashed', color = 'black')\n",
    "\n",
    "\n",
    "#axs[1,1].axvline(x = fiestaspatrias, linestyle = 'dotted',color = 'red',label='18 Sept')\n",
    "#axs[1,1].axvline(x = plebiscito, linestyle = 'dotted',color = 'blue',label='Plebiscito',linewidth=datelinewidth)\n",
    "axs[1,1].axvline(x = datetime(2020,12,25), linestyle = 'dotted',color = 'red',label='Navidad',linewidth=datelinewidth)\n",
    "axs[1,1].axvline(x = datetime(2020,12,31), linestyle = 'dotted',color = 'blue',label='Año Nuevo',linewidth=datelinewidth)\n",
    "axs[1,1].axvline(x = datetime(2021,2,15), linestyle = 'dotted',color = 'green',label='15 Febrero',linewidth=datelinewidth)\n",
    "\n",
    "\n",
    "\n",
    "# Format and shit\n",
    "\n",
    "# Grid\n",
    "axs[0,0].grid(color='grey', linestyle='dotted', linewidth=0.5)\n",
    "axs[0,1].grid(color='grey', linestyle='dotted', linewidth=0.5)\n",
    "axs[1,0].grid(color='grey', linestyle='dotted', linewidth=0.5)\n",
    "axs[1,1].grid(color='grey', linestyle='dotted', linewidth=0.5)\n",
    "\n",
    "\n",
    "# Date format\n",
    "axs[0,0].fmt_xdata = mdates.DateFormatter('%d-%m-%Y')\n",
    "axs[0,1].fmt_xdata = mdates.DateFormatter('%d-%m-%Y')\n",
    "axs[1,0].fmt_xdata = mdates.DateFormatter('%d-%m-%Y')\n",
    "axs[1,1].fmt_xdata = mdates.DateFormatter('%d-%m-%Y')\n",
    "\n",
    "# Y axis\n",
    "#axs[0,0].get_yaxis().set_major_formatter(matplotlib.ticker.FuncFormatter(lambda x, p: format(int(x), ',')))\n",
    "axs[0,1].get_yaxis().set_major_formatter(matplotlib.ticker.FuncFormatter(lambda x, p: format(int(x), ',')))\n",
    "axs[1,0].get_yaxis().set_major_formatter(matplotlib.ticker.FuncFormatter(lambda x, p: format(int(x), ',')))\n",
    "axs[1,1].get_yaxis().set_major_formatter(matplotlib.ticker.FuncFormatter(lambda x, p: format(int(x), ',')))\n",
    "\n",
    "# Font-size\n",
    "axs[0,0].tick_params(labelsize=fontsize_label)\n",
    "axs[0,1].tick_params(labelsize=fontsize_label)\n",
    "axs[1,0].tick_params(labelsize=fontsize_label)\n",
    "axs[1,1].tick_params(labelsize=fontsize_label)\n",
    "\n",
    "# Legend\n",
    "axs[0,0].legend(loc=0,fontsize=fontsize_legend)\n",
    "axs[0,1].legend(loc=1,fontsize=fontsize_legend)\n",
    "axs[1,0].legend(loc=1,fontsize=fontsize_legend)\n",
    "axs[1,1].legend(loc=1,fontsize=fontsize_legend)\n",
    "\n",
    "\n",
    "fig.suptitle(state.name,fontsize=fontsize_suptitle)\n",
    "fig.show()"
   ]
  },
  {
   "cell_type": "code",
   "execution_count": 44,
   "metadata": {},
   "outputs": [],
   "source": [
    "plt.plot(dates[0],simulation_InfDiario[0].I)\n",
    "plt.show()"
   ]
  },
  {
   "cell_type": "code",
   "execution_count": 45,
   "metadata": {},
   "outputs": [
    {
     "data": {
      "text/plain": [
       "1775003.3898305085"
      ]
     },
     "execution_count": 45,
     "metadata": {},
     "output_type": "execute_result"
    }
   ],
   "source": [
    "simulation_InfDiario[0].I_ac[0]"
   ]
  },
  {
   "cell_type": "code",
   "execution_count": 46,
   "metadata": {},
   "outputs": [
    {
     "data": {
      "text/plain": [
       "0.14792398194423123"
      ]
     },
     "execution_count": 46,
     "metadata": {},
     "output_type": "execute_result"
    }
   ],
   "source": [
    "simulation_InfDiario[0].prevalence_total[(datetime(2021,3,9)-initdate).days]"
   ]
  },
  {
   "cell_type": "code",
   "execution_count": 47,
   "metadata": {},
   "outputs": [
    {
     "name": "stdout",
     "output_type": "stream",
     "text": [
      "stop\n"
     ]
    }
   ],
   "source": [
    "print('stop')"
   ]
  },
  {
   "cell_type": "code",
   "execution_count": 48,
   "metadata": {},
   "outputs": [
    {
     "name": "stdout",
     "output_type": "stream",
     "text": [
      "stop\n"
     ]
    }
   ],
   "source": [
    "print('stop')"
   ]
  },
  {
   "cell_type": "code",
   "execution_count": 49,
   "metadata": {},
   "outputs": [],
   "source": [
    "plt.scatter(state.I_d_r_dates,np.log(state.I_d_r),label='Informe EPI',color='black',zorder=5)\n",
    "plt.scatter(I_week_ra_dates,np.log(I_week_ra),label='Informe diario (RA5D)',color='red',zorder=5)  \n",
    "plt.legend(loc=0)\n",
    "plt.show() "
   ]
  },
  {
   "cell_type": "markdown",
   "metadata": {},
   "source": [
    "# Simulación control"
   ]
  },
  {
   "cell_type": "code",
   "execution_count": 50,
   "metadata": {},
   "outputs": [],
   "source": [
    "tsim = 10000\n",
    "mu = 0.1"
   ]
  },
  {
   "cell_type": "code",
   "execution_count": 51,
   "metadata": {},
   "outputs": [],
   "source": [
    "def alphacontrol(t):\n",
    "    return 1"
   ]
  },
  {
   "cell_type": "code",
   "execution_count": 52,
   "metadata": {},
   "outputs": [
    {
     "name": "stdout",
     "output_type": "stream",
     "text": [
      "InitialCondition Object Data\n"
     ]
    }
   ],
   "source": [
    "simulation_control = SEIRHVD(tsim,0.13,mu,alphacontrol,k_I=k_I,k_R = k_R, chi = 0,                      \n",
    "                      expinfection=expinfection,initdate = initdate,\n",
    "                      RealIC=state)"
   ]
  },
  {
   "cell_type": "code",
   "execution_count": 53,
   "metadata": {},
   "outputs": [],
   "source": [
    "beta = [0.01,0.05,0.1,0.15]\n",
    "sims = []\n",
    "for i in beta:\n",
    "    sims.append(SEIRHVD(tsim,i,mu,alphacontrol,Htot=10000,Vtot=10000,\n",
    "    H0=0,V0=0,B0=0,D0=0,R0=0,I0=100,I_d0=10,I_ac0=100,SeroPrevFactor=1,expinfection=0,\n",
    "    population=1000000))\n",
    "    "
   ]
  },
  {
   "cell_type": "code",
   "execution_count": 54,
   "metadata": {},
   "outputs": [],
   "source": [
    "linestyle = ['dashed','dotted','solid','dashdot']"
   ]
  },
  {
   "cell_type": "code",
   "execution_count": 55,
   "metadata": {},
   "outputs": [],
   "source": [
    "for i in sims:\n",
    "    i.integr_sci(0,tsim,0.1)"
   ]
  },
  {
   "cell_type": "code",
   "execution_count": 56,
   "metadata": {},
   "outputs": [],
   "source": [
    "for i in range(len(sims)):\n",
    "    #plt.plot(sims[i].t,sims[i].S,label='S beta: '+str(beta[i]),linestyle=linestyle[i])\n",
    "    #plt.plot(sims[i].t,sims[i].I,label='I beta: '+str(beta[i]),linestyle=linestyle[i])\n",
    "    plt.plot(sims[i].t,sims[i].R,label='R beta: '+str(beta[i]),linestyle=linestyle[i])\n",
    "    plt.plot(sims[i].t,sims[i].B,label='B beta: '+str(beta[i]),linestyle=linestyle[i])\n",
    "    #plt.plot(sims[i].t,sims[i].I_ac,label='I_ac beta: '+str(beta[i]),linestyle=linestyle[i])\n",
    "    #plt.plot(simulation_control.t,simulation_control.I,label='I '+I)\n",
    "#plt.plot(simulation_control.t,simulation_control.I_ac,label='I_ac')\n",
    "#plt.plot(simulation_control.t,simulation_control.R,label='R')\n",
    "#plt.plot(simulation_control.t,simulation_control.B,label='B')\n",
    "plt.legend(loc=0)\n",
    "plt.show()"
   ]
  },
  {
   "cell_type": "code",
   "execution_count": 57,
   "metadata": {},
   "outputs": [
    {
     "ename": "IndexError",
     "evalue": "invalid index to scalar variable.",
     "output_type": "error",
     "traceback": [
      "\u001b[0;31m---------------------------------------------------------------------------\u001b[0m",
      "\u001b[0;31mIndexError\u001b[0m                                Traceback (most recent call last)",
      "\u001b[0;32m<ipython-input-57-71aa64135cc8>\u001b[0m in \u001b[0;36m<module>\u001b[0;34m\u001b[0m\n\u001b[0;32m----> 1\u001b[0;31m \u001b[0msimulation_control\u001b[0m\u001b[0;34m.\u001b[0m\u001b[0mS\u001b[0m\u001b[0;34m[\u001b[0m\u001b[0;34m-\u001b[0m\u001b[0;36m1\u001b[0m\u001b[0;34m]\u001b[0m\u001b[0;34m\u001b[0m\u001b[0;34m\u001b[0m\u001b[0m\n\u001b[0m",
      "\u001b[0;31mIndexError\u001b[0m: invalid index to scalar variable."
     ]
    }
   ],
   "source": [
    "simulation_control.S[-1]"
   ]
  },
  {
   "cell_type": "code",
   "execution_count": null,
   "metadata": {},
   "outputs": [],
   "source": [
    "simulation_control.S[0] - simulation_control.B[-1] - simulation_control.R[-1]"
   ]
  },
  {
   "cell_type": "code",
   "execution_count": null,
   "metadata": {},
   "outputs": [],
   "source": [
    "beta"
   ]
  },
  {
   "cell_type": "code",
   "execution_count": null,
   "metadata": {},
   "outputs": [],
   "source": [
    "beta*rem_mob"
   ]
  },
  {
   "cell_type": "code",
   "execution_count": null,
   "metadata": {},
   "outputs": [],
   "source": [
    "#%matplotlib tk\n",
    "plt.title('Susceptibles')\n",
    "for i in range(len(simulation)):\n",
    "    plt.plot(simulation[i].dates,simulation[i].S,label='RF: '+str(renewalFactor[i])+' | SP_R: '+str(round(100*SeroPrevalence[i],2))+'%'+' | SP_D:'+str(round(100*SeroPrevalenceDet[i],2))+'%',color=colors[i])\n",
    "    #plt.plot(simulation[i].dates,simulation[i].chi,label='RF: '+str(renewalFactor[i])+' | SP_R: '+str(round(100*SeroPrevalence[i],2))+'%'+' | SP_D:'+str(round(100*SeroPrevalenceDet[i],2))+'%',color=colors[i])\n",
    "#plt.scatter(state.Ir_dates,state.Ir)\n",
    "for i in range(len(simulation_uk)):\n",
    "    plt.plot(simulation_uk[i].dates,simulation_uk[i].S,linestyle='dashed',label='RF: '+str(renewalFactor[i])+' | SP_R: '+str(round(100*SeroPrevalence[i],2))+'%'+' | SP_D:'+str(round(100*SeroPrevalenceDet[i],2))+'%',color=colors[i])\n",
    "\n",
    "    \n",
    "plt.axvline(x=newyear,color='blue',label='año nuevo')\n",
    "plt.gca().xaxis.set_major_formatter( mdates.DateFormatter('%Y-%m-%d'))\n",
    "plt.legend(loc=0)\n",
    "plt.show()"
   ]
  },
  {
   "cell_type": "code",
   "execution_count": null,
   "metadata": {},
   "outputs": [],
   "source": [
    "#%matplotlib tk\n",
    "plt.title('Infectados Activos')\n",
    "for i in range(len(simulation)):\n",
    "    plt.plot(simulation[i].dates,simulation[i].I,label='RF: '+str(renewalFactor[i])+' | SP_R: '+str(round(100*SeroPrevalence[i],2))+'%'+' | SP_D:'+str(round(100*SeroPrevalenceDet[i],2))+'%',color=colors[i])\n",
    "    #plt.plot(simulation[i].dates,simulation[i].chi,label='RF: '+str(renewalFactor[i])+' | SP_R: '+str(round(100*SeroPrevalence[i],2))+'%'+' | SP_D:'+str(round(100*SeroPrevalenceDet[i],2))+'%',color=colors[i])\n",
    "#plt.scatter(state.Ir_dates,state.Ir)\n",
    "for i in range(len(simulation_uk)):\n",
    "    plt.plot(simulation_uk[i].dates,simulation_uk[i].I,linestyle='dashed',label='RF: '+str(renewalFactor[i])+' | SP_R: '+str(round(100*SeroPrevalence[i],2))+'%'+' | SP_D:'+str(round(100*SeroPrevalenceDet[i],2))+'%',color=colors[i])\n",
    "\n",
    "plt.axvline(x=newyear,color='blue',label='año nuevo')\n",
    "plt.gca().xaxis.set_major_formatter( mdates.DateFormatter('%Y-%m-%d'))\n",
    "plt.legend(loc=0)\n",
    "plt.show()"
   ]
  },
  {
   "cell_type": "code",
   "execution_count": null,
   "metadata": {},
   "outputs": [],
   "source": [
    "#%matplotlib tk\n",
    "plt.title('SeroPrevalence')\n",
    "for i in range(len(simulation)):\n",
    "    plt.plot(simulation[i].dates,simulation[i].I_ac/simulation[i].population,label='RF: '+str(renewalFactor[i])+' | SP_R: '+str(round(100*SeroPrevalence[i],2))+'%'+' | SP_D:'+str(round(100*SeroPrevalenceDet[i],2))+'%',color=colors[i])\n",
    "    #plt.plot(simulation[i].dates,simulation[i].chi,label='RF: '+str(renewalFactor[i])+' | SP_R: '+str(round(100*SeroPrevalence[i],2))+'%'+' | SP_D:'+str(round(100*SeroPrevalenceDet[i],2))+'%',color=colors[i])\n",
    "#plt.scatter(state.Ir_dates,state.Ir)\n",
    "for i in range(len(simulation_uk)):\n",
    "    plt.plot(simulation_uk[i].dates,simulation_uk[i].I_ac/simulation_uk[i].population,linestyle='dashed',label='RF: '+str(renewalFactor[i])+' | SP_R: '+str(round(100*SeroPrevalence[i],2))+'%'+' | SP_D:'+str(round(100*SeroPrevalenceDet[i],2))+'%',color=colors[i])\n",
    "\n",
    "plt.gca().xaxis.set_major_formatter( mdates.DateFormatter('%Y-%m-%d'))\n",
    "plt.legend(loc=0)\n",
    "plt.show()"
   ]
  },
  {
   "cell_type": "code",
   "execution_count": null,
   "metadata": {},
   "outputs": [],
   "source": [
    "state.Ir[0]"
   ]
  },
  {
   "cell_type": "code",
   "execution_count": null,
   "metadata": {},
   "outputs": [
    {
     "name": "stderr",
     "output_type": "stream",
     "text": [
      "findfont: Font family ['sans-serif'] not found. Falling back to DejaVu Sans.\n",
      "findfont: Font family ['sans-serif'] not found. Falling back to DejaVu Sans.\n",
      "findfont: Font family ['sans-serif'] not found. Falling back to DejaVu Sans.\n",
      "findfont: Font family ['sans-serif'] not found. Falling back to DejaVu Sans.\n",
      "findfont: Font family ['sans-serif'] not found. Falling back to DejaVu Sans.\n"
     ]
    }
   ],
   "source": [
    "type(simulation[0].I)"
   ]
  },
  {
   "cell_type": "code",
   "execution_count": null,
   "metadata": {},
   "outputs": [],
   "source": [
    "SeroPrevalenceDet"
   ]
  },
  {
   "cell_type": "code",
   "execution_count": null,
   "metadata": {},
   "outputs": [],
   "source": [
    "plt.plot(simulation)"
   ]
  }
 ],
 "metadata": {
  "kernelspec": {
   "display_name": "Python 3",
   "language": "python",
   "name": "python3"
  },
  "language_info": {
   "codemirror_mode": {
    "name": "ipython",
    "version": 3
   },
   "file_extension": ".py",
   "mimetype": "text/x-python",
   "name": "python",
   "nbconvert_exporter": "python",
   "pygments_lexer": "ipython3",
   "version": "3.8.3"
  }
 },
 "nbformat": 4,
 "nbformat_minor": 4
}
