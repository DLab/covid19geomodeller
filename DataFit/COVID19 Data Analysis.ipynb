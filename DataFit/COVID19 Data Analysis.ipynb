{
 "cells": [
  {
   "cell_type": "markdown",
   "metadata": {},
   "source": [
    "# COVID19 Data Analysis"
   ]
  },
  {
   "cell_type": "code",
   "execution_count": 1,
   "metadata": {},
   "outputs": [
    {
     "name": "stdout",
     "output_type": "stream",
     "text": [
      "Linux\n"
     ]
    }
   ],
   "source": [
    "import numpy as np\n",
    "import pandas as pd\n",
    "import matplotlib.pyplot as plt\n",
    "from datetime import datetime\n",
    "from numpy import linalg as LA\n",
    "\n",
    "import platform\n",
    "OS = platform.system()\n",
    "\n",
    "import matplotlib.pyplot as plt\n",
    "if OS == 'Linux':    \n",
    "    %matplotlib tk\n",
    "    print('Linux')\n",
    "elif OS == 'Windows':\n",
    "    %matplotlib qt\n",
    "    print('Windows')\n",
    "else:\n",
    "    print('OS not detected :-|')\n",
    "\n",
    "import sys\n",
    "from pathlib import Path\n",
    "sys.path.insert(1, '../src/utils/')\n",
    "sys.path.insert(1, 'src/utils/')\n",
    "\n",
    "from importdata import ImportData"
   ]
  },
  {
   "cell_type": "markdown",
   "metadata": {},
   "source": [
    "# Import Data\n",
    "You must be connected to Dlab VPN for making this script work"
   ]
  },
  {
   "cell_type": "code",
   "execution_count": 2,
   "metadata": {},
   "outputs": [
    {
     "name": "stdout",
     "output_type": "stream",
     "text": [
      "Importing General Data\n",
      "Importing Population\n",
      "Importing Active infected\n",
      "Importing Accumulated Infected\n",
      "Importing Daily Infected\n",
      "Importing Sochimi Data 2\n",
      "Importing Accumulated Deaths\n",
      "Importing Active Infected by Minciencia\n",
      "Done\n"
     ]
    }
   ],
   "source": [
    "initdate = datetime(2020,4,15)\n",
    "# Current date\n",
    "currentdate = datetime.now()\n",
    "currentday = (currentdate - initdate).days\n",
    "\n",
    "\n",
    "RM = ImportData(tstate = '13', initdate = initdate)\n",
    "RM.importdata()"
   ]
  },
  {
   "cell_type": "markdown",
   "metadata": {},
   "source": [
    "# Analysis\n",
    "Tasas de hopspitalizado de cada tipo sobre infectado activo  \n",
    "tasas entre ventiladores y uti/uci  \n",
    "y muertos sobre ventilados  "
   ]
  },
  {
   "cell_type": "markdown",
   "metadata": {},
   "source": [
    "## Hospitalization Data"
   ]
  },
  {
   "cell_type": "code",
   "execution_count": 5,
   "metadata": {},
   "outputs": [
    {
     "data": {
      "text/plain": [
       "<matplotlib.legend.Legend at 0x7f67b59fe4f0>"
      ]
     },
     "execution_count": 5,
     "metadata": {},
     "output_type": "execute_result"
    }
   ],
   "source": [
    "plt.plot(RM.sochimi_tr,RM.VMI,label='VMI')\n",
    "plt.plot(RM.sochimi_tr,RM.VMI_tot,label='VMI_tot')\n",
    "plt.plot(RM.sochimi_tr,RM.VMI_sospechoso,label='VMI_suspects')\n",
    "plt.plot(RM.sochimi_tr,RM.VMI_confirmado,label='VMI_confirmed')\n",
    "plt.title('VMI Dynamics')\n",
    "plt.legend(loc=0)"
   ]
  },
  {
   "cell_type": "code",
   "execution_count": 11,
   "metadata": {},
   "outputs": [
    {
     "data": {
      "text/plain": [
       "Text(0.5, 1.0, 'UCI vs UTI')"
      ]
     },
     "execution_count": 11,
     "metadata": {},
     "output_type": "execute_result"
    }
   ],
   "source": [
    "plt.plot(RM.sochimi_tr,RM.UTI,label='UTI', color = 'blue')\n",
    "plt.plot(RM.sochimi_tr,RM.UTI_tot,label='UTI_tot',linestyle = 'dashed', color = 'blue')\n",
    "plt.plot(RM.sochimi_tr,RM.UCI,label='UCI', color = 'red')\n",
    "plt.plot(RM.sochimi_tr,RM.UCI_tot,label='UCI_tot',linestyle = 'dashed', color = 'red')\n",
    "plt.legend(loc=0)\n",
    "plt.title('UCI vs UTI')"
   ]
  },
  {
   "cell_type": "code",
   "execution_count": 14,
   "metadata": {},
   "outputs": [
    {
     "data": {
      "text/plain": [
       "<matplotlib.legend.Legend at 0x7f67b6429fd0>"
      ]
     },
     "execution_count": 14,
     "metadata": {},
     "output_type": "execute_result"
    }
   ],
   "source": [
    "plt.plot(RM.sochimi_tr,RM.UTI,label='UTI', color = 'blue')\n",
    "plt.plot(RM.sochimi_tr,RM.UTI_tot,label='UTI_tot',linestyle = 'dashed', color = 'blue')\n",
    "plt.plot(RM.sochimi_tr,RM.VMI,label='VMI', color = 'red')\n",
    "plt.plot(RM.sochimi_tr,RM.VMI_tot,label='VMI_tot',linestyle = 'dashed', color = 'red')\n",
    "plt.title('VMI vs UTI')\n",
    "plt.legend(loc=0)"
   ]
  },
  {
   "cell_type": "code",
   "execution_count": 42,
   "metadata": {},
   "outputs": [
    {
     "data": {
      "text/plain": [
       "<matplotlib.legend.Legend at 0x7f67b411dcd0>"
      ]
     },
     "execution_count": 42,
     "metadata": {},
     "output_type": "execute_result"
    }
   ],
   "source": [
    "plt.plot(RM.sochimi_tr,RM.UTI,label='UTI', color = 'blue')\n",
    "plt.plot(RM.sochimi_tr,RM.UTI_tot,label='UTI_tot',linestyle = 'dashed', color = 'blue')\n",
    "plt.plot(RM.sochimi_tr,RM.VMI,label='VMI', color = 'red')\n",
    "#plt.plot(RM.sochimi_tr,RM.VMI_tot,label='VMI_tot',linestyle = 'dashed', color = 'red')\n",
    "plt.plot(RM.sochimi_tr,RM.UCI,label='UCI', color = 'cyan')\n",
    "#plt.plot(RM.sochimi_tr,RM.UCI_tot,label='UCI_tot',linestyle = 'dashed', color = 'cyan')\n",
    "plt.title('VMI vs UTI vs UCI')\n",
    "plt.legend(loc=0)"
   ]
  },
  {
   "cell_type": "code",
   "execution_count": 32,
   "metadata": {},
   "outputs": [],
   "source": [
    "VMI_UTI = [RM.VMI[i]/RM.UTI[i] for i in range(len(RM.UTI))]"
   ]
  },
  {
   "cell_type": "code",
   "execution_count": 33,
   "metadata": {},
   "outputs": [
    {
     "data": {
      "text/plain": [
       "[<matplotlib.lines.Line2D at 0x7f67b43928e0>]"
      ]
     },
     "execution_count": 33,
     "metadata": {},
     "output_type": "execute_result"
    }
   ],
   "source": [
    "plt.plot(RM.sochimi_dates,VMI_UTI,label='VMI/UTI')\n",
    "plt.plot(RM.sochimi_dates,VMI_UTI,label='VMI/UTI')\n",
    "plt.title('VMI UTI UCI rates')"
   ]
  },
  {
   "cell_type": "code",
   "execution_count": 34,
   "metadata": {},
   "outputs": [
    {
     "data": {
      "text/plain": [
       "0.7998110184975509"
      ]
     },
     "execution_count": 34,
     "metadata": {},
     "output_type": "execute_result"
    }
   ],
   "source": [
    "np.mean(VMI_UTI)"
   ]
  },
  {
   "cell_type": "code",
   "execution_count": 35,
   "metadata": {},
   "outputs": [
    {
     "data": {
      "text/plain": [
       "0.10409500019928584"
      ]
     },
     "execution_count": 35,
     "metadata": {},
     "output_type": "execute_result"
    }
   ],
   "source": [
    "np.std(VMI_UTI)"
   ]
  },
  {
   "cell_type": "code",
   "execution_count": 36,
   "metadata": {},
   "outputs": [],
   "source": [
    "UCI_VMI = [RM.UCI[i]/RM.VMI[i] for i in range(len(RM.UTI))]"
   ]
  },
  {
   "cell_type": "code",
   "execution_count": 40,
   "metadata": {},
   "outputs": [
    {
     "name": "stdout",
     "output_type": "stream",
     "text": [
      "Mean 0.8937503839624332\n",
      "STD 0.37358824682271147\n"
     ]
    }
   ],
   "source": [
    "print('Mean ' + str(1/np.mean(UCI_VMI)))\n",
    "print('STD ' + str(np.std(UCI_VMI)))"
   ]
  },
  {
   "cell_type": "markdown",
   "metadata": {},
   "source": [
    "## Time calibration"
   ]
  },
  {
   "cell_type": "code",
   "execution_count": null,
   "metadata": {},
   "outputs": [],
   "source": [
    "t = []\n",
    "t_Ir = []\n",
    "t_Hr = []\n",
    "t_D  = []\n",
    "for i in range(currentday):\n",
    "    if i in RM.tr and i in RM.sochimi_tr:\n",
    "        t.append(i)\n",
    "        t_Ir.append(np.where(RM.tr==i))\n",
    "        t_Hr.append(np.where(RM.sochimi_tr==i))"
   ]
  },
  {
   "cell_type": "code",
   "execution_count": null,
   "metadata": {},
   "outputs": [],
   "source": [
    "RM.sochimi_tr"
   ]
  },
  {
   "cell_type": "code",
   "execution_count": null,
   "metadata": {},
   "outputs": [],
   "source": [
    "RM.tr"
   ]
  },
  {
   "cell_type": "code",
   "execution_count": null,
   "metadata": {},
   "outputs": [],
   "source": [
    "len(t_Ir)"
   ]
  },
  {
   "cell_type": "code",
   "execution_count": null,
   "metadata": {},
   "outputs": [],
   "source": []
  },
  {
   "cell_type": "markdown",
   "metadata": {},
   "source": [
    "## Hospitalized by type vs Active Infected"
   ]
  },
  {
   "cell_type": "code",
   "execution_count": null,
   "metadata": {},
   "outputs": [],
   "source": [
    "H_I = [RM.Hr[i]/RM.Ir[i] for i in range(len(t_Hr))]\n",
    "V_I = [RM.Vr[i]/RM.Ir[i] for i in range(len(t_Hr))]\n",
    "V_H = [RM.Vr[i]/RM.Hr[i] for i in range(len(RM.sochimi_tr))]"
   ]
  },
  {
   "cell_type": "code",
   "execution_count": null,
   "metadata": {},
   "outputs": [],
   "source": [
    "plt.plot(t,H_I,label= 'Hospitalized vs Infected')\n",
    "plt.plot(t,V_I,label= 'Ventilators vs Infected')\n",
    "plt.plot(RM.sochimi_tr,V_H, label = 'Vents/Hospitalized')\n",
    "plt.legend(loc=0)"
   ]
  },
  {
   "cell_type": "code",
   "execution_count": null,
   "metadata": {},
   "outputs": [],
   "source": []
  },
  {
   "cell_type": "code",
   "execution_count": null,
   "metadata": {},
   "outputs": [],
   "source": []
  },
  {
   "cell_type": "code",
   "execution_count": null,
   "metadata": {},
   "outputs": [],
   "source": []
  }
 ],
 "metadata": {
  "kernelspec": {
   "display_name": "Python 3.8.2 64-bit",
   "language": "python",
   "name": "python38264bit48ae65e862f64697a29185f9fa581b02"
  },
  "language_info": {
   "codemirror_mode": {
    "name": "ipython",
    "version": 3
   },
   "file_extension": ".py",
   "mimetype": "text/x-python",
   "name": "python",
   "nbconvert_exporter": "python",
   "pygments_lexer": "ipython3",
   "version": "3.8.2"
  }
 },
 "nbformat": 4,
 "nbformat_minor": 4
}
