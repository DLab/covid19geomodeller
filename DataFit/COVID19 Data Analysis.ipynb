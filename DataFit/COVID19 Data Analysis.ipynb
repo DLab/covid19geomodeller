{
 "cells": [
  {
   "cell_type": "markdown",
   "metadata": {},
   "source": [
    "# COVID19 Data Analysis"
   ]
  },
  {
   "cell_type": "code",
   "execution_count": 1,
   "metadata": {},
   "outputs": [
    {
     "name": "stdout",
     "output_type": "stream",
     "text": [
      "Linux\n"
     ]
    }
   ],
   "source": [
    "import numpy as np\n",
    "import pandas as pd\n",
    "import matplotlib.pyplot as plt\n",
    "from datetime import datetime\n",
    "from numpy import linalg as LA\n",
    "import requests\n",
    "\n",
    "import platform\n",
    "OS = platform.system()\n",
    "\n",
    "import matplotlib.pyplot as plt\n",
    "if OS == 'Linux':    \n",
    "    %matplotlib tk\n",
    "    print('Linux')\n",
    "elif OS == 'Windows':\n",
    "    %matplotlib qt\n",
    "    print('Windows')\n",
    "else:\n",
    "    print('OS not detected :-|')\n",
    "\n",
    "import sys\n",
    "from pathlib import Path\n",
    "sys.path.insert(1, '../src/utils/')\n",
    "sys.path.insert(1, 'src/utils/')\n",
    "\n",
    "from importdata import ImportData"
   ]
  },
  {
   "cell_type": "markdown",
   "metadata": {},
   "source": [
    "# Import Data\n",
    "You must be connected to Dlab VPN for making this script work"
   ]
  },
  {
   "cell_type": "code",
   "execution_count": 2,
   "metadata": {},
   "outputs": [
    {
     "name": "stdout",
     "output_type": "stream",
     "text": [
      "Importing General Data\n",
      "Importing Population\n",
      "Importing Active infected\n",
      "Importing Accumulated Infected\n",
      "Importing Daily Infected\n",
      "Importing Sochimi Data 2\n",
      "Importing Accumulated Deaths\n",
      "Importing Active Infected by Minciencia\n",
      "Importing Hospitalized/NonHospitalized Deaths\n",
      "Done\n"
     ]
    }
   ],
   "source": [
    "initdate = datetime(2020,4,15)\n",
    "# Current date\n",
    "currentdate = datetime.now()\n",
    "currentday = (currentdate - initdate).days\n",
    "\n",
    "\n",
    "RM = ImportData(tstate = '13', initdate = initdate)\n",
    "\n",
    "RM.importdata()"
   ]
  },
  {
   "cell_type": "code",
   "execution_count": 3,
   "metadata": {},
   "outputs": [
    {
     "data": {
      "text/plain": [
       "8125072"
      ]
     },
     "execution_count": 3,
     "metadata": {},
     "output_type": "execute_result"
    }
   ],
   "source": [
    "RM.population"
   ]
  },
  {
   "cell_type": "markdown",
   "metadata": {},
   "source": [
    "# Estudio VMI"
   ]
  },
  {
   "cell_type": "code",
   "execution_count": 4,
   "metadata": {},
   "outputs": [],
   "source": [
    "initdate = datetime(2020,4,15)"
   ]
  },
  {
   "cell_type": "markdown",
   "metadata": {},
   "source": [
    "## Deaths"
   ]
  },
  {
   "cell_type": "code",
   "execution_count": 5,
   "metadata": {},
   "outputs": [
    {
     "data": {
      "text/plain": [
       "array([  73,   82,   90,  100,  109,  118,  141,  164,  191,  214,  235,\n",
       "        259,  289,  320,  357,  391,  419,  460,  500,  539,  584,  623,\n",
       "        666,  706,  753,  793,  836,  895,  949,  996, 1057, 1116, 1166,\n",
       "       1209, 1254, 1287, 1338, 1390, 1444, 1482, 1520, 1563, 1603, 1636,\n",
       "       1677, 1708, 1734, 1763, 1793, 1828, 1859, 1886, 1901, 1925, 1948,\n",
       "       1975, 1994, 2012, 2037, 2046, 2066, 2072, 2084, 2101, 2122, 2134,\n",
       "       2148, 2167, 2180, 2191, 2204, 2216, 2230, 2239, 2247, 2259, 2269,\n",
       "       2278, 2287, 2298, 2309, 2313, 2331, 2345, 2357, 2368, 2374, 2384,\n",
       "       2392, 2401, 2410, 2417, 2423, 2430, 2434, 2446, 2453, 2457, 2465,\n",
       "       2477, 2484, 2489, 2499, 2509, 2516, 2520, 2537, 2546, 2556, 2562,\n",
       "       2573, 2579, 2586, 2593, 2596, 2602, 2607, 2614, 2623, 2627, 2637,\n",
       "       2644, 2647, 2656, 2667, 2672, 2678, 2683, 2689, 2693, 2697, 2701,\n",
       "       2709, 2716, 2722, 2734, 2739, 2743, 2748])"
      ]
     },
     "execution_count": 5,
     "metadata": {},
     "output_type": "execute_result"
    }
   ],
   "source": [
    "RM.Br_Nonhosp"
   ]
  },
  {
   "cell_type": "code",
   "execution_count": 6,
   "metadata": {},
   "outputs": [
    {
     "name": "stdout",
     "output_type": "stream",
     "text": [
      "Importing General Data\n",
      "Importing Population\n",
      "Dlab Endpoint Error\n",
      "Importing Population\n",
      "Importing Active infected\n",
      "Importing Accumulated Infected\n",
      "Importing Daily Infected\n",
      "Importing Sochimi Data 2\n",
      "Importing Accumulated Deaths\n",
      "Importing Active Infected by Minciencia\n",
      "Importing Hospitalized/NonHospitalized Deaths\n",
      "No information for counties, importing state information\n",
      "Done\n"
     ]
    }
   ],
   "source": [
    "initdate = datetime(2020,4,15)\n",
    "Santiago = ImportData(tstate = '13101', initdate = initdate)\n",
    "Santiago.importdata()"
   ]
  },
  {
   "cell_type": "code",
   "execution_count": null,
   "metadata": {},
   "outputs": [],
   "source": [
    "PuntaArenas.Dr_hosp"
   ]
  },
  {
   "cell_type": "markdown",
   "metadata": {},
   "source": [
    "\n",
    "\n",
    "# Analysis\n",
    "Tasas de hopspitalizado de cada tipo sobre infectado activo  \n",
    "tasas entre ventiladores y uti/uci  \n",
    "y muertos sobre ventilados  "
   ]
  },
  {
   "cell_type": "markdown",
   "metadata": {},
   "source": [
    "## Hospitalization Data"
   ]
  },
  {
   "cell_type": "code",
   "execution_count": null,
   "metadata": {},
   "outputs": [],
   "source": [
    "UCI_VMI = [RM.UCI[i] - RM.VMI[i] for i in range(len(RM.UCI))]"
   ]
  },
  {
   "cell_type": "code",
   "execution_count": null,
   "metadata": {},
   "outputs": [],
   "source": [
    "plt.plot(RM.sochimi_dates,RM.UTI,label='UTI')\n",
    "plt.plot(RM.sochimi_dates,UCI_VMI,label='UCI - VMI')\n",
    "plt.title('UCI-VMI vs UTI')\n",
    "plt.legend(loc=0)"
   ]
  },
  {
   "cell_type": "code",
   "execution_count": null,
   "metadata": {},
   "outputs": [],
   "source": [
    "plt.plot(RM.sochimi_tr,RM.VMI,label='VMI')\n",
    "plt.plot(RM.sochimi_tr,RM.VMI_tot,label='VMI_tot')\n",
    "plt.plot(RM.sochimi_tr,RM.VMI_sospechoso,label='VMI_suspects')\n",
    "plt.plot(RM.sochimi_tr,RM.VMI_confirmado,label='VMI_confirmed')\n",
    "plt.title('VMI Dynamics - RM')\n",
    "plt.legend(loc=0)"
   ]
  },
  {
   "cell_type": "code",
   "execution_count": null,
   "metadata": {},
   "outputs": [],
   "source": [
    "plt.plot(RM.sochimi_tr,RM.UTI,label='UTI', color = 'blue')\n",
    "plt.plot(RM.sochimi_tr,RM.UTI_tot,label='UTI_tot',linestyle = 'dashed', color = 'blue')\n",
    "plt.plot(RM.sochimi_tr,RM.UCI,label='UCI', color = 'red')\n",
    "plt.plot(RM.sochimi_tr,RM.UCI_tot,label='UCI_tot',linestyle = 'dashed', color = 'red')\n",
    "plt.legend(loc=0)\n",
    "plt.title('UCI vs UTI - RM')"
   ]
  },
  {
   "cell_type": "code",
   "execution_count": null,
   "metadata": {},
   "outputs": [],
   "source": [
    "plt.plot(RM.sochimi_tr,RM.UCI,label='UCI', color = 'blue')\n",
    "plt.plot(RM.sochimi_tr,RM.UCI_tot,label='UCI_tot',linestyle = 'dashed', color = 'blue')\n",
    "plt.plot(RM.sochimi_tr,RM.VMI,label='VMI', color = 'red')\n",
    "plt.plot(RM.sochimi_tr,RM.VMI_tot,label='VMI_tot',linestyle = 'dashed', color = 'red')\n",
    "plt.title('VMI vs UCI - RM')\n",
    "plt.legend(loc=0)"
   ]
  },
  {
   "cell_type": "code",
   "execution_count": null,
   "metadata": {},
   "outputs": [],
   "source": [
    "plt.plot(RM.sochimi_tr,RM.UTI,label='UTI', color = 'blue')\n",
    "plt.plot(RM.sochimi_tr,RM.UTI_tot,label='UTI_tot',linestyle = 'dashed', color = 'blue')\n",
    "plt.plot(RM.sochimi_tr,RM.VMI,label='VMI', color = 'red')\n",
    "plt.plot(RM.sochimi_tr,RM.VMI_tot,label='VMI_tot',linestyle = 'dashed', color = 'red')\n",
    "plt.plot(RM.sochimi_tr,RM.UCI,label='UCI', color = 'cyan')\n",
    "plt.plot(RM.sochimi_tr,RM.UCI_tot,label='UCI_tot',linestyle = 'dashed', color = 'cyan')\n",
    "plt.title('VMI vs UTI vs UCI - RM')\n",
    "plt.legend(loc=0)"
   ]
  },
  {
   "cell_type": "code",
   "execution_count": null,
   "metadata": {},
   "outputs": [],
   "source": [
    "RM.sochimi_dates[-1]"
   ]
  },
  {
   "cell_type": "code",
   "execution_count": null,
   "metadata": {},
   "outputs": [],
   "source": [
    "VMI_UTI = [RM.VMI[i]/RM.UTI[i] for i in range(len(RM.UTI))]"
   ]
  },
  {
   "cell_type": "code",
   "execution_count": null,
   "metadata": {},
   "outputs": [],
   "source": [
    "plt.plot(RM.sochimi_dates,VMI_UTI,label='VMI/UTI')\n",
    "plt.plot(RM.sochimi_dates,VMI_UTI,label='VMI/UTI')\n",
    "plt.title('VMI UTI UCI rates - RM')"
   ]
  },
  {
   "cell_type": "code",
   "execution_count": null,
   "metadata": {},
   "outputs": [],
   "source": [
    "np.mean(VMI_UTI)"
   ]
  },
  {
   "cell_type": "code",
   "execution_count": null,
   "metadata": {},
   "outputs": [],
   "source": [
    "np.std(VMI_UTI)"
   ]
  },
  {
   "cell_type": "code",
   "execution_count": null,
   "metadata": {},
   "outputs": [],
   "source": [
    "UCI_VMI = [RM.UCI[i]/RM.VMI[i] for i in range(len(RM.UTI))]"
   ]
  },
  {
   "cell_type": "code",
   "execution_count": null,
   "metadata": {},
   "outputs": [],
   "source": [
    "print('Mean ' + str(1/np.mean(UCI_VMI)))\n",
    "print('STD ' + str(np.std(UCI_VMI)))"
   ]
  },
  {
   "cell_type": "markdown",
   "metadata": {},
   "source": [
    "## Punta Arenas"
   ]
  },
  {
   "cell_type": "code",
   "execution_count": null,
   "metadata": {},
   "outputs": [],
   "source": [
    "# First simulation Initial date\n",
    "initdate = datetime(2020,5,15)\n",
    "# Date for change in SeroPrevalence\n",
    "SPchange_date = datetime(2020,8,14)\n",
    "\n",
    "# Current date\n",
    "currentdate = datetime.now()\n",
    "currentday = (currentdate - initdate).days\n",
    "\n",
    "fiestaspatrias = datetime(2020,9,18)\n",
    "fiestaspatrias_day = (fiestaspatrias-initdate).days\n",
    "plebiscito = datetime(2020,10,25)\n",
    "plebiscito_day = (plebiscito-initdate).days"
   ]
  },
  {
   "cell_type": "code",
   "execution_count": null,
   "metadata": {},
   "outputs": [],
   "source": [
    "PuntaArenas = ImportData(tstate = '12', initdate = initdate)\n",
    "PuntaArenas.importdata()"
   ]
  },
  {
   "cell_type": "code",
   "execution_count": null,
   "metadata": {},
   "outputs": [],
   "source": [
    "\n",
    "plt.plot(PuntaArenas.sochimi_dates,PuntaArenas.UTI,label='UTI', color = 'blue')\n",
    "plt.plot(PuntaArenas.sochimi_dates,PuntaArenas.UTI_tot,label='UTI_tot',linestyle = 'dashed', color = 'blue')\n",
    "plt.plot(PuntaArenas.sochimi_dates,PuntaArenas.VMI,label='VMI', color = 'red')\n",
    "plt.plot(PuntaArenas.sochimi_dates,PuntaArenas.VMI_tot,label='VMI_tot',linestyle = 'dashed', color = 'red')\n",
    "plt.plot(PuntaArenas.sochimi_dates,PuntaArenas.UCI,label='UCI', color = 'cyan')\n",
    "plt.plot(PuntaArenas.sochimi_dates,PuntaArenas.UCI_tot,label='UCI_tot',linestyle = 'dashed', color = 'cyan')\n",
    "plt.title('VMI vs UTI vs UCI - Punta Arenas')\n",
    "plt.legend(loc=0)"
   ]
  },
  {
   "cell_type": "code",
   "execution_count": null,
   "metadata": {},
   "outputs": [],
   "source": [
    "fig, axs = plt.subplots(2, 3)\n",
    "\n",
    "#for i in range(len(simulation)):\n",
    "#    axs[0,0].plot(dates[i],simulation[i].I_ac_det,label='RF: '+str(renewalFactor[i])+' | SP_R: '+str(round(100*SeroPrevalence[i],2))+'%'+' | SP_D:'+str(round(100*SeroPrevalenceDet[i],2))+'%',color=colors[i])\n",
    "axs[0,0].set_title('Accumulated Infected')\n",
    "axs[0,0].set_xlim(initdate,datetime(2020,12,31))\n",
    "axs[0,0].scatter(PuntaArenas.I_ac_r_dates,PuntaArenas.I_ac_r)\n",
    "axs[0,0].axvline(x = SPchange_date, linestyle = 'dotted',color = 'grey',label='Inicio Apertura')\n",
    "axs[0,0].axvline(x = fiestaspatrias, linestyle = 'dotted',color = 'red',label='18 Sept')\n",
    "axs[0,0].axvline(x = plebiscito, linestyle = 'dotted',color = 'blue',label='Plebiscito')\n",
    "axs[0,0].legend(loc=0)\n",
    "\n",
    "\n",
    "axs[0,1].set_title('Hospitalized Accumulated Deaths')\n",
    "axs[0,1].set_xlim(initdate,datetime(2020,12,31))\n",
    "axs[0,1].scatter(PuntaArenas.Br_dates,PuntaArenas.Br,label='Muertes Totales')\n",
    "axs[0,1].axvline(x = SPchange_date, linestyle = 'dotted',color = 'grey',label='Inicio Apertura')\n",
    "axs[0,1].axvline(x = fiestaspatrias, linestyle = 'dotted',color = 'red',label='18 Sept')\n",
    "axs[0,1].axvline(x = plebiscito, linestyle = 'dotted',color = 'blue',label='Plebiscito')\n",
    "axs[0,1].legend(loc=0)\n",
    "\n",
    "#for i in range(len(simulation)):\n",
    "#    axs[0,0].plot(dates[i],simulation[i].I_ac_det,label='RF: '+str(renewalFactor[i])+' | SP_R: '+str(round(100*SeroPrevalence[i],2))+'%'+' | SP_D:'+str(round(100*SeroPrevalenceDet[i],2))+'%',color=colors[i])\n",
    "axs[0,2].set_title('Daily new Infected')\n",
    "axs[0,2].set_xlim(initdate,datetime(2020,12,31))\n",
    "axs[0,2].scatter(PuntaArenas.I_d_r_dates,PuntaArenas.I_d_r)\n",
    "axs[0,2].axvline(x = SPchange_date, linestyle = 'dotted',color = 'grey',label='Inicio Apertura')\n",
    "axs[0,2].axvline(x = fiestaspatrias, linestyle = 'dotted',color = 'red',label='18 Sept')\n",
    "axs[0,2].axvline(x = plebiscito, linestyle = 'dotted',color = 'blue',label='Plebiscito')\n",
    "axs[0,2].legend(loc=0)\n",
    "\n",
    "\n",
    "axs[1,0].set_title('UTI')\n",
    "axs[1,0].set_xlim(initdate,datetime(2020,12,31))\n",
    "axs[1,0].scatter(PuntaArenas.sochimi_dates,PuntaArenas.UTI,label='UTI usage')\n",
    "axs[1,0].scatter(PuntaArenas.sochimi_dates,PuntaArenas.UTI_tot,label='UTI capacity')\n",
    "axs[1,0].axvline(x = SPchange_date, linestyle = 'dotted',color = 'grey',label='Inicio Apertura')\n",
    "axs[1,0].axvline(x = fiestaspatrias, linestyle = 'dotted',color = 'red',label='18 Sept')\n",
    "axs[1,0].axvline(x = plebiscito, linestyle = 'dotted',color = 'blue',label='Plebiscito')\n",
    "axs[1,0].legend(loc=0)\n",
    "\n",
    "\n",
    "\n",
    "axs[1,1].set_title('VMI')\n",
    "axs[1,1].set_xlim(initdate,datetime(2020,12,31))\n",
    "axs[1,1].scatter(PuntaArenas.sochimi_dates,PuntaArenas.Vr,label='VMI Usage')\n",
    "axs[1,1].scatter(PuntaArenas.sochimi_dates,PuntaArenas.Vr_tot,label='VMI Capacity')\n",
    "axs[1,1].axvline(x = SPchange_date, linestyle = 'dotted',color = 'grey',label='Inicio Apertura')\n",
    "axs[1,1].axvline(x = fiestaspatrias, linestyle = 'dotted',color = 'red',label='18 Sept')\n",
    "axs[1,1].axvline(x = plebiscito, linestyle = 'dotted',color = 'blue',label='Plebiscito')\n",
    "axs[1,1].legend(loc=0)\n"
   ]
  },
  {
   "cell_type": "markdown",
   "metadata": {},
   "source": [
    "## Time calibration"
   ]
  },
  {
   "cell_type": "code",
   "execution_count": null,
   "metadata": {},
   "outputs": [],
   "source": [
    "t = []\n",
    "t_Ir = []\n",
    "t_Hr = []\n",
    "t_D  = []\n",
    "for i in range(currentday):\n",
    "    if i in RM.tr and i in RM.sochimi_tr:\n",
    "        t.append(i)\n",
    "        t_Ir.append(np.where(RM.tr==i))\n",
    "        t_Hr.append(np.where(RM.sochimi_tr==i))"
   ]
  },
  {
   "cell_type": "code",
   "execution_count": null,
   "metadata": {},
   "outputs": [],
   "source": [
    "RM.sochimi_tr"
   ]
  },
  {
   "cell_type": "code",
   "execution_count": null,
   "metadata": {},
   "outputs": [],
   "source": [
    "RM.tr"
   ]
  },
  {
   "cell_type": "code",
   "execution_count": null,
   "metadata": {},
   "outputs": [],
   "source": [
    "len(t_Ir)"
   ]
  },
  {
   "cell_type": "code",
   "execution_count": null,
   "metadata": {},
   "outputs": [],
   "source": []
  },
  {
   "cell_type": "markdown",
   "metadata": {},
   "source": [
    "## Hospitalized by type vs Active Infected"
   ]
  },
  {
   "cell_type": "code",
   "execution_count": null,
   "metadata": {},
   "outputs": [],
   "source": [
    "H_I = [RM.Hr[i]/RM.Ir[i] for i in range(len(t_Hr))]\n",
    "V_I = [RM.Vr[i]/RM.Ir[i] for i in range(len(t_Hr))]\n",
    "V_H = [RM.Vr[i]/RM.Hr[i] for i in range(len(RM.sochimi_tr))]"
   ]
  },
  {
   "cell_type": "code",
   "execution_count": null,
   "metadata": {},
   "outputs": [],
   "source": [
    "plt.plot(t,H_I,label= 'Hospitalized vs Infected')\n",
    "plt.plot(t,V_I,label= 'Ventilators vs Infected')\n",
    "plt.plot(RM.sochimi_tr,V_H, label = 'Vents/Hospitalized')\n",
    "plt.legend(loc=0)"
   ]
  },
  {
   "cell_type": "code",
   "execution_count": null,
   "metadata": {},
   "outputs": [],
   "source": []
  },
  {
   "cell_type": "code",
   "execution_count": null,
   "metadata": {},
   "outputs": [],
   "source": []
  },
  {
   "cell_type": "markdown",
   "metadata": {},
   "source": [
    "# Deaths: Hospitalized vs Non Hospitalized"
   ]
  },
  {
   "cell_type": "code",
   "execution_count": null,
   "metadata": {},
   "outputs": [],
   "source": [
    "from datetime import datetime\n",
    "import pandas as pd\n",
    "import numpy as np\n",
    "import matplotlib.pyplot as plt"
   ]
  },
  {
   "cell_type": "code",
   "execution_count": null,
   "metadata": {},
   "outputs": [],
   "source": [
    "initdate = datetime(2020,3,25)"
   ]
  },
  {
   "cell_type": "code",
   "execution_count": null,
   "metadata": {},
   "outputs": [],
   "source": [
    "endpoint = 'https://raw.githubusercontent.com/MinCiencia/Datos-COVID19/master/output/producto57/fallecidos_hospitalizados.csv'\n",
    "\n",
    "aux = pd.read_csv(endpoint)\n",
    "aux = aux.loc[aux['Region'] == 'Metropolitana']\n",
    "Dr_hosp = aux.loc[aux['Hospitalizacion'] == 'VERDADERO']['2020-09-07']\n",
    "Dr_Nonhosp = aux.loc[aux['Hospitalizacion'] == 'FALSO']['2020-09-07']\n",
    "hosp_dates =  [datetime.strptime(aux.loc[aux['Hospitalizacion'] == 'VERDADERO']['Fecha'].tolist()[i], '%Y-%m-%d') for i in range(len(Dr_hosp))]\n",
    "\n",
    "Br_hosp = Dr_hosp.cumsum()\n",
    "Br_Nonhosp = Dr_Nonhosp.cumsum()\n",
    "\n",
    "index = np.where(np.array(hosp_dates) >= initdate)[0][0]\n",
    "\n",
    "Dr_hosp = Br_hosp[index:]\n",
    "Dr_Nonhosp = Br_Nonhosp[index:]\n",
    "\n",
    "Br_hosp = Br_hosp[index:]\n",
    "Br_Nonhosp = Br_Nonhosp[index:]\n",
    "\n",
    "hosp_dates = hosp_dates[index:]\n",
    "hosp_tr = [(hosp_dates[i]-initdate).days for i in range(len(hosp_dates))]"
   ]
  },
  {
   "cell_type": "code",
   "execution_count": null,
   "metadata": {},
   "outputs": [],
   "source": [
    "V_F = [Br_Nonhosp.iloc[i]/Br_hosp.iloc[i] for i in range(len(Br_Nonhosp))]"
   ]
  },
  {
   "cell_type": "code",
   "execution_count": null,
   "metadata": {},
   "outputs": [],
   "source": [
    "plt.plot(hosp_dates,V_F)\n",
    "plt.title('Proporción Muertes de No Hospitalizados / Muertes de Hospitalizados')\n",
    "plt.show()"
   ]
  },
  {
   "cell_type": "markdown",
   "metadata": {},
   "source": [
    "# -----------------------------------------------"
   ]
  },
  {
   "cell_type": "code",
   "execution_count": null,
   "metadata": {},
   "outputs": [],
   "source": [
    "        cutlistendpoint = 'http://192.168.2.223:5006/getComunas'\n",
    "    #'http://192.168.2.220:8080/covid19/getProvincias' \n",
    "        cutlist  = pd.read_json(cutlistendpoint)"
   ]
  },
  {
   "cell_type": "code",
   "execution_count": null,
   "metadata": {},
   "outputs": [],
   "source": [
    "cutlist"
   ]
  },
  {
   "cell_type": "code",
   "execution_count": null,
   "metadata": {},
   "outputs": [],
   "source": [
    "cutlist[['state','county','ss','male_pop','female_pop','total_pop']]"
   ]
  },
  {
   "cell_type": "code",
   "execution_count": null,
   "metadata": {},
   "outputs": [],
   "source": [
    "cutlist.loc[cutlist['state'] == int('13')]['total_pop'].sum()"
   ]
  },
  {
   "cell_type": "code",
   "execution_count": null,
   "metadata": {},
   "outputs": [],
   "source": [
    "population += int(cutlist.loc[cutlist['county'] == int('13101')]['total_pop'].sum())"
   ]
  },
  {
   "cell_type": "code",
   "execution_count": null,
   "metadata": {},
   "outputs": [],
   "source": [
    "population"
   ]
  },
  {
   "cell_type": "code",
   "execution_count": null,
   "metadata": {},
   "outputs": [],
   "source": [
    "endpoint = 'https://raw.githubusercontent.com/MinCiencia/Datos-COVID19/master/output/producto1/Covid-19.csv'"
   ]
  },
  {
   "cell_type": "code",
   "execution_count": null,
   "metadata": {},
   "outputs": [],
   "source": [
    "aux = pd.read_csv(endpoint)"
   ]
  },
  {
   "cell_type": "code",
   "execution_count": null,
   "metadata": {},
   "outputs": [],
   "source": [
    "aux"
   ]
  },
  {
   "cell_type": "code",
   "execution_count": null,
   "metadata": {},
   "outputs": [],
   "source": [
    "i = 13101"
   ]
  },
  {
   "cell_type": "code",
   "execution_count": null,
   "metadata": {},
   "outputs": [],
   "source": [
    "aux.loc[aux['Codigo comuna']==int(i)].iloc[:,4].sum()"
   ]
  },
  {
   "cell_type": "code",
   "execution_count": null,
   "metadata": {},
   "outputs": [],
   "source": [
    "cutlist"
   ]
  },
  {
   "cell_type": "markdown",
   "metadata": {},
   "source": [
    "# Accumulated Infected"
   ]
  },
  {
   "cell_type": "code",
   "execution_count": null,
   "metadata": {},
   "outputs": [],
   "source": [
    "cut = '13101'"
   ]
  },
  {
   "cell_type": "code",
   "execution_count": null,
   "metadata": {},
   "outputs": [],
   "source": [
    "state = '13'"
   ]
  },
  {
   "cell_type": "code",
   "execution_count": null,
   "metadata": {},
   "outputs": [],
   "source": [
    "endpoint = 'http://192.168.2.223:5006/getTotalCasesByComuna?comuna='+cut\n",
    "endpointState = 'http://192.168.2.223:5006/getTotalCasesAllComunasByState?state='+state\n",
    "endPointTotal = 'http://192.168.2.223:5006/getTotalCasesAllComunas'"
   ]
  },
  {
   "cell_type": "code",
   "execution_count": null,
   "metadata": {},
   "outputs": [],
   "source": [
    "I_ac = pd.DataFrame(requests.get(endPointTotal).json()['data'])\n",
    "I_ac_dates = requests.get(endpointState).json()['dates']"
   ]
  },
  {
   "cell_type": "code",
   "execution_count": null,
   "metadata": {},
   "outputs": [],
   "source": [
    "a = I_ac.filter(regex='^13',axis=1)\n",
    "b = I_ac.filter(regex='^14',axis=1)"
   ]
  },
  {
   "cell_type": "code",
   "execution_count": null,
   "metadata": {},
   "outputs": [],
   "source": [
    "tstate = ['13101','13102','13103']\n",
    "tstate = '13'"
   ]
  },
  {
   "cell_type": "code",
   "execution_count": null,
   "metadata": {},
   "outputs": [],
   "source": [
    "        \n",
    "        endPointTotal = 'http://192.168.2.223:5006/getTotalCasesAllComunas'\n",
    "        data = pd.DataFrame(requests.get(endPointTotal).json()['data'])\n",
    "\n",
    "\n",
    "        if type(tstate) == list:\n",
    "            counties = [i for i in tstate if len(i)>2 ]\n",
    "            states = [i for i in tstate if len(i)==2 ]            \n",
    "            aux = []\n",
    "            for i in states:\n",
    "                aux.append(data.filter(regex='^'+i,axis=1))\n",
    "            \n",
    "            aux.append(data[counties])\n",
    "            I_ac_r = pd.concat(aux, axis=1).sum(axis=1)\n",
    "        \n",
    "        else:\n",
    "            if len(tstate) == 2:\n",
    "                I_ac_r = data.filter(regex='^'+tstate,axis=1).sum(axis=1)\n",
    "            elif len(tstate) > 2:\n",
    "                I_ac_r = data[tstate]       "
   ]
  },
  {
   "cell_type": "code",
   "execution_count": null,
   "metadata": {},
   "outputs": [],
   "source": [
    "I_ac_r"
   ]
  },
  {
   "cell_type": "code",
   "execution_count": null,
   "metadata": {},
   "outputs": [],
   "source": [
    "I_ac = requests.get(endpointState).json()['data']\n",
    "I_ac_dates = requests.get(endpointState).json()['dates']"
   ]
  },
  {
   "cell_type": "code",
   "execution_count": null,
   "metadata": {},
   "outputs": [],
   "source": [
    "I_ac_dates[0][:10]"
   ]
  },
  {
   "cell_type": "code",
   "execution_count": null,
   "metadata": {},
   "outputs": [],
   "source": [
    "[datetime.strptime(i[:10],'%Y-%m-%d') for i in I_ac_dates]"
   ]
  },
  {
   "cell_type": "code",
   "execution_count": null,
   "metadata": {},
   "outputs": [],
   "source": [
    "pd.concat([a,b], axis=1).sum(axis=1)"
   ]
  },
  {
   "cell_type": "code",
   "execution_count": null,
   "metadata": {},
   "outputs": [],
   "source": [
    "tstate = ['13','14','15101']\n",
    "counties = [i for i in tstate if len(i)>2 ]\n",
    "states = [i for i in tstate if len(i)==2 ]            "
   ]
  },
  {
   "cell_type": "code",
   "execution_count": null,
   "metadata": {},
   "outputs": [],
   "source": [
    "data = pd.DataFrame(requests.get(endPointTotal).json()['data'])"
   ]
  },
  {
   "cell_type": "code",
   "execution_count": null,
   "metadata": {},
   "outputs": [],
   "source": [
    "aux = []\n",
    "for i in states:\n",
    "    aux.append(data.filter(regex='^'+i,axis=1))"
   ]
  },
  {
   "cell_type": "code",
   "execution_count": null,
   "metadata": {},
   "outputs": [],
   "source": [
    "aux = []\n",
    "for i in states:\n",
    "    aux.append(data.filter(regex='^'+i,axis=1))\n",
    "\n",
    "aux.append(data[counties])\n",
    "I_ac = pd.concat(aux, axis=1).sum(axis=1)"
   ]
  },
  {
   "cell_type": "code",
   "execution_count": null,
   "metadata": {},
   "outputs": [],
   "source": [
    "            counties = [i for i in tstate if len(i)>2 ]\n",
    "            states = [i for i in tstate if len(i)==2 ]            \n",
    "            aux = []\n",
    "            for i in states:\n",
    "                aux.append(data.filter(regex='^'+i,axis=1))\n",
    "            \n",
    "            aux.append(data[counties])\n",
    "            I_ac = pd.concat(aux, axis=1).sum(axis=1)"
   ]
  },
  {
   "cell_type": "code",
   "execution_count": null,
   "metadata": {},
   "outputs": [],
   "source": [
    "I_ac"
   ]
  },
  {
   "cell_type": "code",
   "execution_count": null,
   "metadata": {},
   "outputs": [],
   "source": [
    "        endPointTotal = 'http://192.168.2.223:5006/getTotalCasesAllComunas'\n",
    "        data = pd.DataFrame(requests.get(endPointTotal).json()['data'])\n",
    "\n",
    "\n",
    "        if type(tstate) == list:\n",
    "            counties = [i for i in tstate if len(i)>2 ]\n",
    "            states = [i for i in tstate if len(i)==2 ]            \n",
    "            aux = []\n",
    "            for i in states:\n",
    "                aux.append(data.filter(regex='^'+i,axis=1))\n",
    "            \n",
    "            aux.append(data[counties])\n",
    "            I_ac = pd.concat(aux, axis=1).sum(axis=1)\n",
    "        \n",
    "        else:\n",
    "            if len(tstate) == 2:\n",
    "                I_ac = data.filter(regex='^'+tstate,axis=1)\n",
    "            elif len(tstate) > 2:\n",
    "                I_ac = data[tstate]            \n",
    "\n",
    "        # Get and filter by dates\n",
    "        dates = pd.DataFrame(requests.get(endPointTotal).json()['dates'])\n",
    "        I_ac_r_dates = [datetime.strptime(i[:10],'%Y-%m-%d') for i in dates]        \n",
    "        index = np.where(np.array(I_ac_r_dates) >= initdate)[0][0] \n",
    "        I_ac_r = I_ac_r[index:]\n",
    "        I_ac_r_dates = I_ac_r_dates[index:]\n",
    "        I_ac_r_tr = [(I_ac_r_dates[i]-initdate).days for i in range(len(I_ac_r))]   "
   ]
  },
  {
   "cell_type": "code",
   "execution_count": null,
   "metadata": {},
   "outputs": [],
   "source": [
    "from datetime import datetime\n",
    "initdate = datetime(2020,5,15)"
   ]
  },
  {
   "cell_type": "code",
   "execution_count": null,
   "metadata": {},
   "outputs": [],
   "source": [
    "        endPointTotal = 'http://192.168.2.223:5006/getTotalCasesAllComunas'\n",
    "        data = pd.DataFrame(requests.get(endPointTotal).json()['data'])\n",
    "\n",
    "\n",
    "        if type(tstate) == list:\n",
    "            counties = [i for i in tstate if len(i)>2 ]\n",
    "            states = [i for i in tstate if len(i)==2 ]            \n",
    "            aux = []\n",
    "            for i in states:\n",
    "                aux.append(data.filter(regex='^'+i,axis=1))\n",
    "            \n",
    "            aux.append(data[counties])\n",
    "            I_ac_r = pd.concat(aux, axis=1).sum(axis=1)\n",
    "        \n",
    "        else:\n",
    "            if len(tstate) == 2:\n",
    "                I_ac_r = data.filter(regex='^'+tstate,axis=1)\n",
    "            elif len(tstate) > 2:\n",
    "                I_ac_r = data[tstate]            \n",
    "\n",
    "        # Get and filter by dates\n",
    "        dates = pd.DataFrame(requests.get(endPointTotal).json()['dates'])[0]\n",
    "        I_ac_r_dates = [datetime.strptime(i[:10],'%Y-%m-%d') for i in dates]        \n",
    "        index = np.where(np.array(I_ac_r_dates) >= initdate)[0][0] \n",
    "        I_ac_r = I_ac_r[index:]\n",
    "        I_ac_r_dates = I_ac_r_dates[index:]\n",
    "        I_ac_r_tr = [(I_ac_r_dates[i]-initdate).days for i in range(len(I_ac_r))]   "
   ]
  },
  {
   "cell_type": "code",
   "execution_count": null,
   "metadata": {},
   "outputs": [],
   "source": [
    "I_ac_dates"
   ]
  },
  {
   "cell_type": "code",
   "execution_count": null,
   "metadata": {},
   "outputs": [],
   "source": [
    "pd.DataFrame(requests.get(endPointTotal).json()['dates'])[0]"
   ]
  },
  {
   "cell_type": "code",
   "execution_count": null,
   "metadata": {},
   "outputs": [],
   "source": [
    "I_ac = pd.DataFrame(I_ac).sum(axis=1)"
   ]
  },
  {
   "cell_type": "code",
   "execution_count": null,
   "metadata": {},
   "outputs": [],
   "source": [
    "tstate"
   ]
  },
  {
   "cell_type": "code",
   "execution_count": null,
   "metadata": {},
   "outputs": [],
   "source": [
    "\n",
    "        endpointComunas = 'http://192.168.2.223:5006/getComunas'\n",
    "        endpointRegiones = 'http://192.168.2.223:5006/getStates'\n",
    "        endpointSS = 'http://192.168.2.223:5006/getHealthServices'\n",
    "        \n",
    "        county = pd.read_json(endpointComunas)\n",
    "        #regiones = pd.read_json(endpointRegiones)\n",
    "        #ServicioSalud =  pd.read_json(endpointSS)\n",
    "\n",
    "        if type(tstate) == list:\n",
    "            population = 0\n",
    "            for i in tstate:\n",
    "                if len(i)==2:                    \n",
    "                    population += int(county.loc[county['state'] == int(tstate)]['total_pop'].sum())\n",
    "                    population_male += int(county.loc[county['state'] == int(tstate)]['male_pop'].sum())\n",
    "                    population_female += int(county.loc[county['state'] == int(tstate)]['female_pop'].sum())\n",
    "                if len(i)>2:\n",
    "                    population += int(county.loc[county['county'] == int(tstate)]['total_pop'].sum())\n",
    "                    population_male += int(county.loc[county['county'] == int(tstate)]['male_pop'].sum())\n",
    "                    population_female += int(county.loc[county['county'] == int(tstate)]['female_pop'].sum())         \n",
    "        else:\n",
    "            if len(tstate)==2:\n",
    "                population = int(county.loc[county['state'] == int(tstate)]['total_pop'].sum())\n",
    "                population_male = int(county.loc[county['state'] == int(tstate)]['male_pop'].sum())\n",
    "                population_female = int(county.loc[county['state'] == int(tstate)]['female_pop'].sum())\n",
    "            if len(tstate)>2:\n",
    "                population = int(county.loc[county['county'] == int(tstate)]['total_pop'].sum())\n",
    "                population_male += int(county.loc[county['county'] == int(tstate)]['male_pop'].sum())\n",
    "                population_female += int(county.loc[county['county'] == int(tstate)]['female_pop'].sum())                        \n",
    "        "
   ]
  },
  {
   "cell_type": "code",
   "execution_count": null,
   "metadata": {},
   "outputs": [],
   "source": [
    "    def importPopulation(self=None,endpoint = '',tstate = ''):     \n",
    "        \"\"\"\n",
    "            Import Population\n",
    "            This Function imports the selected area population. \n",
    "\n",
    "            input: \n",
    "                - tstate: [string or string list] CUT por comuna o región\n",
    "                - endpoint [string](opcional)\n",
    "            output:\n",
    "                - population [int] \n",
    "\n",
    "            object variables:\n",
    "                self.population\n",
    "                self.population_male\n",
    "                self.population_female\n",
    "\n",
    "            Example usage as function:\n",
    "            population = importPopulation(tstate = '13101',initdate=datetime(2020,5,15))                \n",
    "            \n",
    "        \"\"\"\n",
    "        print('Importing Population') \n",
    "\n",
    "        if self:\n",
    "            tstate = self.tstate\n",
    "        else:\n",
    "            if not tstate:\n",
    "                raise Exception(\"State code missing\")\n",
    "\n",
    "        endpointComunas = 'http://192.168.2.223:5006/getComunas'\n",
    "        endpointRegiones = 'http://192.168.2.223:5006/getStates'\n",
    "        endpointSS = 'http://192.168.2.223:5006/getHealthServices'\n",
    "        \n",
    "        county = pd.read_json(endpointComunas)\n",
    "        #regiones = pd.read_json(endpointRegiones)\n",
    "        #ServicioSalud =  pd.read_json(endpointSS)\n",
    "\n",
    "        if type(tstate) == list:\n",
    "            population = 0\n",
    "            for i in tstate:\n",
    "                if len(i)==2:                    \n",
    "                    population += int(county.loc[county['state'] == int(tstate)]['total_pop'].sum())\n",
    "                    population_male += int(county.loc[county['state'] == int(tstate)]['male_pop'].sum())\n",
    "                    population_female += int(county.loc[county['state'] == int(tstate)]['female_pop'].sum())\n",
    "                if len(i)>2:\n",
    "                    population += int(county.loc[county['county'] == int(tstate)]['total_pop'].sum())\n",
    "                    population_male += int(county.loc[county['county'] == int(tstate)]['male_pop'].sum())\n",
    "                    population_female += int(county.loc[county['county'] == int(tstate)]['female_pop'].sum())         \n",
    "        else:\n",
    "            if len(tstate)==2:\n",
    "                population = int(county.loc[county['state'] == int(tstate)]['total_pop'].sum())\n",
    "                population_male = int(county.loc[county['state'] == int(tstate)]['male_pop'].sum())\n",
    "                population_female = int(county.loc[county['state'] == int(tstate)]['female_pop'].sum())\n",
    "            if len(tstate)>2:\n",
    "                population = int(county.loc[county['county'] == int(tstate)]['total_pop'].sum())\n",
    "                population_male += int(county.loc[county['county'] == int(tstate)]['male_pop'].sum())\n",
    "                population_female += int(county.loc[county['county'] == int(tstate)]['female_pop'].sum())                        \n",
    "               \n",
    "        if self:\n",
    "            self.population = population\n",
    "            self.population_male = population_male\n",
    "            self.population_female = population_female\n",
    "            return\n",
    "        else:        \n",
    "            return population\n"
   ]
  },
  {
   "cell_type": "code",
   "execution_count": null,
   "metadata": {},
   "outputs": [],
   "source": [
    "        endpointComunas = 'http://192.168.2.223:5006/getComunas'\n",
    "        endpointRegiones = 'http://192.168.2.223:5006/getStates'\n",
    "        endpointSS = 'http://192.168.2.223:5006/getHealthServices'\n",
    "        \n",
    "        county = pd.read_json(endpointComunas)\n",
    "        #regiones = pd.read_json(endpointRegiones)\n",
    "        #ServicioSalud =  pd.read_json(endpointSS)\n",
    "\n",
    "        if type(tstate) == list:\n",
    "            population = 0\n",
    "            population_male = 0\n",
    "            population_female = 0\n",
    "            for i in tstate:\n",
    "                if len(i)==2:                    \n",
    "                    population += int(county.loc[county['state'] == int(i)]['total_pop'].sum())\n",
    "                    population_male += int(county.loc[county['state'] == int(i)]['male_pop'].sum())\n",
    "                    population_female += int(county.loc[county['state'] == int(i)]['female_pop'].sum())\n",
    "                if len(i)>2:\n",
    "                    population += int(county.loc[county['county'] == int(i)]['total_pop'].sum())\n",
    "                    population_male += int(county.loc[county['county'] == int(i)]['male_pop'].sum())\n",
    "                    population_female += int(county.loc[county['county'] == int(i)]['female_pop'].sum())         \n",
    "        else:\n",
    "            if len(tstate)==2:\n",
    "                population = int(county.loc[county['state'] == int(tstate)]['total_pop'].sum())\n",
    "                population_male = int(county.loc[county['state'] == int(tstate)]['male_pop'].sum())\n",
    "                population_female = int(county.loc[county['state'] == int(tstate)]['female_pop'].sum())\n",
    "            if len(tstate)>2:\n",
    "                population = int(county.loc[county['county'] == int(tstate)]['total_pop'].sum())\n",
    "                population_male += int(county.loc[county['county'] == int(tstate)]['male_pop'].sum())\n",
    "                population_female += int(county.loc[county['county'] == int(tstate)]['female_pop'].sum())                        \n",
    "               "
   ]
  },
  {
   "cell_type": "code",
   "execution_count": null,
   "metadata": {},
   "outputs": [],
   "source": [
    "population_male"
   ]
  },
  {
   "cell_type": "code",
   "execution_count": null,
   "metadata": {},
   "outputs": [],
   "source": [
    "        endpointComunas = 'http://192.168.2.223:5006/getComunas'\n",
    "        endpointRegiones = 'http://192.168.2.223:5006/getStates'\n",
    "        endpointSS = 'http://192.168.2.223:5006/getHealthServices'"
   ]
  },
  {
   "cell_type": "code",
   "execution_count": null,
   "metadata": {},
   "outputs": [],
   "source": [
    "county = pd.read_json(endpointComunas)"
   ]
  },
  {
   "cell_type": "code",
   "execution_count": null,
   "metadata": {},
   "outputs": [],
   "source": [
    "county"
   ]
  },
  {
   "cell_type": "markdown",
   "metadata": {},
   "source": [
    "# Subreporte"
   ]
  },
  {
   "cell_type": "code",
   "execution_count": 37,
   "metadata": {},
   "outputs": [],
   "source": [
    "initdate = datetime(2020,5,15)"
   ]
  },
  {
   "cell_type": "code",
   "execution_count": 13,
   "metadata": {},
   "outputs": [],
   "source": [
    "tstate = ['10','12']"
   ]
  },
  {
   "cell_type": "code",
   "execution_count": 14,
   "metadata": {},
   "outputs": [],
   "source": [
    "endpoint = 'http://192.168.2.223:5006/getActiveCasesUnderreportByState'"
   ]
  },
  {
   "cell_type": "code",
   "execution_count": 15,
   "metadata": {},
   "outputs": [],
   "source": [
    "subreport = pd.DataFrame(requests.get(endpoint).json()['data']['13'])"
   ]
  },
  {
   "cell_type": "code",
   "execution_count": 16,
   "metadata": {},
   "outputs": [],
   "source": [
    "subreport = pd.DataFrame(requests.get(endpoint).json()['data'])"
   ]
  },
  {
   "cell_type": "code",
   "execution_count": 17,
   "metadata": {},
   "outputs": [
    {
     "data": {
      "text/plain": [
       "10    [0.42098168, 0.41884813, 0.4165822, 0.41417882...\n",
       "12    [0.39730588, 0.39680141, 0.39623079, 0.3955902...\n",
       "Name: estimate, dtype: object"
      ]
     },
     "execution_count": 17,
     "metadata": {},
     "output_type": "execute_result"
    }
   ],
   "source": [
    "subreport[tstate].loc['estimate']"
   ]
  },
  {
   "cell_type": "code",
   "execution_count": 45,
   "metadata": {},
   "outputs": [
    {
     "data": {
      "text/plain": [
       "2"
      ]
     },
     "execution_count": 45,
     "metadata": {},
     "output_type": "execute_result"
    }
   ],
   "source": [
    "subreport_dates = subreport[tstate].loc['dates']\n",
    "\n",
    "len(subreport_dates)"
   ]
  },
  {
   "cell_type": "code",
   "execution_count": 48,
   "metadata": {},
   "outputs": [
    {
     "data": {
      "text/plain": [
       "datetime.datetime(2020, 4, 10, 0, 0)"
      ]
     },
     "execution_count": 48,
     "metadata": {},
     "output_type": "execute_result"
    }
   ],
   "source": [
    "datetime.strptime(subreport_dates.iloc[0][0][:10],'%Y-%m-%d')"
   ]
  },
  {
   "cell_type": "code",
   "execution_count": 49,
   "metadata": {},
   "outputs": [],
   "source": [
    "subreport_dates = subreport[tstate].loc['dates']\n",
    "subreport_dates = [[datetime.strptime(subreport_dates.iloc[j][i][:10],'%Y-%m-%d') for i in range(len(subreport_dates.iloc[j]))] for j in range(len(subreport_dates))]\n",
    "#subreport_dates.loc[np.array(subreport_dates.iloc[0])>initdate]"
   ]
  },
  {
   "cell_type": "code",
   "execution_count": 51,
   "metadata": {},
   "outputs": [
    {
     "data": {
      "text/plain": [
       "[[datetime.datetime(2020, 4, 10, 0, 0),\n",
       "  datetime.datetime(2020, 4, 11, 0, 0),\n",
       "  datetime.datetime(2020, 4, 12, 0, 0),\n",
       "  datetime.datetime(2020, 4, 13, 0, 0),\n",
       "  datetime.datetime(2020, 4, 14, 0, 0),\n",
       "  datetime.datetime(2020, 4, 15, 0, 0),\n",
       "  datetime.datetime(2020, 4, 16, 0, 0),\n",
       "  datetime.datetime(2020, 4, 17, 0, 0),\n",
       "  datetime.datetime(2020, 4, 18, 0, 0),\n",
       "  datetime.datetime(2020, 4, 19, 0, 0),\n",
       "  datetime.datetime(2020, 4, 20, 0, 0),\n",
       "  datetime.datetime(2020, 4, 21, 0, 0),\n",
       "  datetime.datetime(2020, 4, 22, 0, 0),\n",
       "  datetime.datetime(2020, 4, 23, 0, 0),\n",
       "  datetime.datetime(2020, 4, 24, 0, 0),\n",
       "  datetime.datetime(2020, 4, 25, 0, 0),\n",
       "  datetime.datetime(2020, 4, 26, 0, 0),\n",
       "  datetime.datetime(2020, 4, 27, 0, 0),\n",
       "  datetime.datetime(2020, 4, 28, 0, 0),\n",
       "  datetime.datetime(2020, 4, 29, 0, 0),\n",
       "  datetime.datetime(2020, 4, 30, 0, 0),\n",
       "  datetime.datetime(2020, 5, 1, 0, 0),\n",
       "  datetime.datetime(2020, 5, 2, 0, 0),\n",
       "  datetime.datetime(2020, 5, 3, 0, 0),\n",
       "  datetime.datetime(2020, 5, 4, 0, 0),\n",
       "  datetime.datetime(2020, 5, 5, 0, 0),\n",
       "  datetime.datetime(2020, 5, 6, 0, 0),\n",
       "  datetime.datetime(2020, 5, 7, 0, 0),\n",
       "  datetime.datetime(2020, 5, 8, 0, 0),\n",
       "  datetime.datetime(2020, 5, 9, 0, 0),\n",
       "  datetime.datetime(2020, 5, 10, 0, 0),\n",
       "  datetime.datetime(2020, 5, 11, 0, 0),\n",
       "  datetime.datetime(2020, 5, 12, 0, 0),\n",
       "  datetime.datetime(2020, 5, 13, 0, 0),\n",
       "  datetime.datetime(2020, 5, 14, 0, 0),\n",
       "  datetime.datetime(2020, 5, 15, 0, 0),\n",
       "  datetime.datetime(2020, 5, 16, 0, 0),\n",
       "  datetime.datetime(2020, 5, 17, 0, 0),\n",
       "  datetime.datetime(2020, 5, 18, 0, 0),\n",
       "  datetime.datetime(2020, 5, 19, 0, 0),\n",
       "  datetime.datetime(2020, 5, 20, 0, 0),\n",
       "  datetime.datetime(2020, 5, 21, 0, 0),\n",
       "  datetime.datetime(2020, 5, 22, 0, 0),\n",
       "  datetime.datetime(2020, 5, 23, 0, 0),\n",
       "  datetime.datetime(2020, 5, 24, 0, 0),\n",
       "  datetime.datetime(2020, 5, 25, 0, 0),\n",
       "  datetime.datetime(2020, 5, 26, 0, 0),\n",
       "  datetime.datetime(2020, 5, 27, 0, 0),\n",
       "  datetime.datetime(2020, 5, 28, 0, 0),\n",
       "  datetime.datetime(2020, 5, 29, 0, 0),\n",
       "  datetime.datetime(2020, 5, 30, 0, 0),\n",
       "  datetime.datetime(2020, 5, 31, 0, 0),\n",
       "  datetime.datetime(2020, 6, 1, 0, 0),\n",
       "  datetime.datetime(2020, 6, 2, 0, 0),\n",
       "  datetime.datetime(2020, 6, 3, 0, 0),\n",
       "  datetime.datetime(2020, 6, 4, 0, 0),\n",
       "  datetime.datetime(2020, 6, 5, 0, 0),\n",
       "  datetime.datetime(2020, 6, 6, 0, 0),\n",
       "  datetime.datetime(2020, 6, 7, 0, 0),\n",
       "  datetime.datetime(2020, 6, 8, 0, 0),\n",
       "  datetime.datetime(2020, 6, 9, 0, 0),\n",
       "  datetime.datetime(2020, 6, 10, 0, 0),\n",
       "  datetime.datetime(2020, 6, 11, 0, 0),\n",
       "  datetime.datetime(2020, 6, 12, 0, 0),\n",
       "  datetime.datetime(2020, 6, 13, 0, 0),\n",
       "  datetime.datetime(2020, 6, 14, 0, 0),\n",
       "  datetime.datetime(2020, 6, 15, 0, 0),\n",
       "  datetime.datetime(2020, 6, 16, 0, 0),\n",
       "  datetime.datetime(2020, 6, 17, 0, 0),\n",
       "  datetime.datetime(2020, 6, 18, 0, 0),\n",
       "  datetime.datetime(2020, 6, 19, 0, 0),\n",
       "  datetime.datetime(2020, 6, 20, 0, 0),\n",
       "  datetime.datetime(2020, 6, 21, 0, 0),\n",
       "  datetime.datetime(2020, 6, 22, 0, 0),\n",
       "  datetime.datetime(2020, 6, 23, 0, 0),\n",
       "  datetime.datetime(2020, 6, 24, 0, 0),\n",
       "  datetime.datetime(2020, 6, 25, 0, 0),\n",
       "  datetime.datetime(2020, 6, 26, 0, 0),\n",
       "  datetime.datetime(2020, 6, 27, 0, 0),\n",
       "  datetime.datetime(2020, 6, 28, 0, 0),\n",
       "  datetime.datetime(2020, 6, 29, 0, 0),\n",
       "  datetime.datetime(2020, 6, 30, 0, 0),\n",
       "  datetime.datetime(2020, 7, 1, 0, 0),\n",
       "  datetime.datetime(2020, 7, 2, 0, 0),\n",
       "  datetime.datetime(2020, 7, 3, 0, 0),\n",
       "  datetime.datetime(2020, 7, 4, 0, 0),\n",
       "  datetime.datetime(2020, 7, 5, 0, 0),\n",
       "  datetime.datetime(2020, 7, 6, 0, 0),\n",
       "  datetime.datetime(2020, 7, 7, 0, 0),\n",
       "  datetime.datetime(2020, 7, 8, 0, 0),\n",
       "  datetime.datetime(2020, 7, 9, 0, 0),\n",
       "  datetime.datetime(2020, 7, 10, 0, 0),\n",
       "  datetime.datetime(2020, 7, 11, 0, 0),\n",
       "  datetime.datetime(2020, 7, 12, 0, 0),\n",
       "  datetime.datetime(2020, 7, 13, 0, 0),\n",
       "  datetime.datetime(2020, 7, 14, 0, 0),\n",
       "  datetime.datetime(2020, 7, 15, 0, 0),\n",
       "  datetime.datetime(2020, 7, 16, 0, 0),\n",
       "  datetime.datetime(2020, 7, 17, 0, 0),\n",
       "  datetime.datetime(2020, 7, 18, 0, 0),\n",
       "  datetime.datetime(2020, 7, 19, 0, 0),\n",
       "  datetime.datetime(2020, 7, 20, 0, 0),\n",
       "  datetime.datetime(2020, 7, 21, 0, 0),\n",
       "  datetime.datetime(2020, 7, 22, 0, 0),\n",
       "  datetime.datetime(2020, 7, 23, 0, 0),\n",
       "  datetime.datetime(2020, 7, 24, 0, 0),\n",
       "  datetime.datetime(2020, 7, 25, 0, 0),\n",
       "  datetime.datetime(2020, 7, 26, 0, 0),\n",
       "  datetime.datetime(2020, 7, 27, 0, 0),\n",
       "  datetime.datetime(2020, 7, 28, 0, 0),\n",
       "  datetime.datetime(2020, 7, 29, 0, 0),\n",
       "  datetime.datetime(2020, 7, 30, 0, 0),\n",
       "  datetime.datetime(2020, 7, 31, 0, 0),\n",
       "  datetime.datetime(2020, 8, 1, 0, 0),\n",
       "  datetime.datetime(2020, 8, 2, 0, 0),\n",
       "  datetime.datetime(2020, 8, 3, 0, 0),\n",
       "  datetime.datetime(2020, 8, 4, 0, 0),\n",
       "  datetime.datetime(2020, 8, 5, 0, 0),\n",
       "  datetime.datetime(2020, 8, 6, 0, 0)],\n",
       " [datetime.datetime(2020, 4, 7, 0, 0),\n",
       "  datetime.datetime(2020, 4, 8, 0, 0),\n",
       "  datetime.datetime(2020, 4, 9, 0, 0),\n",
       "  datetime.datetime(2020, 4, 10, 0, 0),\n",
       "  datetime.datetime(2020, 4, 11, 0, 0),\n",
       "  datetime.datetime(2020, 4, 12, 0, 0),\n",
       "  datetime.datetime(2020, 4, 13, 0, 0),\n",
       "  datetime.datetime(2020, 4, 14, 0, 0),\n",
       "  datetime.datetime(2020, 4, 15, 0, 0),\n",
       "  datetime.datetime(2020, 4, 16, 0, 0),\n",
       "  datetime.datetime(2020, 4, 17, 0, 0),\n",
       "  datetime.datetime(2020, 4, 18, 0, 0),\n",
       "  datetime.datetime(2020, 4, 19, 0, 0),\n",
       "  datetime.datetime(2020, 4, 20, 0, 0),\n",
       "  datetime.datetime(2020, 4, 21, 0, 0),\n",
       "  datetime.datetime(2020, 4, 22, 0, 0),\n",
       "  datetime.datetime(2020, 4, 23, 0, 0),\n",
       "  datetime.datetime(2020, 4, 24, 0, 0),\n",
       "  datetime.datetime(2020, 4, 25, 0, 0),\n",
       "  datetime.datetime(2020, 4, 26, 0, 0),\n",
       "  datetime.datetime(2020, 4, 27, 0, 0),\n",
       "  datetime.datetime(2020, 4, 28, 0, 0),\n",
       "  datetime.datetime(2020, 4, 29, 0, 0),\n",
       "  datetime.datetime(2020, 4, 30, 0, 0),\n",
       "  datetime.datetime(2020, 5, 1, 0, 0),\n",
       "  datetime.datetime(2020, 5, 2, 0, 0),\n",
       "  datetime.datetime(2020, 5, 3, 0, 0),\n",
       "  datetime.datetime(2020, 5, 4, 0, 0),\n",
       "  datetime.datetime(2020, 5, 5, 0, 0),\n",
       "  datetime.datetime(2020, 5, 6, 0, 0),\n",
       "  datetime.datetime(2020, 5, 7, 0, 0),\n",
       "  datetime.datetime(2020, 5, 8, 0, 0),\n",
       "  datetime.datetime(2020, 5, 9, 0, 0),\n",
       "  datetime.datetime(2020, 5, 10, 0, 0),\n",
       "  datetime.datetime(2020, 5, 11, 0, 0),\n",
       "  datetime.datetime(2020, 5, 12, 0, 0),\n",
       "  datetime.datetime(2020, 5, 13, 0, 0),\n",
       "  datetime.datetime(2020, 5, 14, 0, 0),\n",
       "  datetime.datetime(2020, 5, 15, 0, 0),\n",
       "  datetime.datetime(2020, 5, 16, 0, 0),\n",
       "  datetime.datetime(2020, 5, 17, 0, 0),\n",
       "  datetime.datetime(2020, 5, 18, 0, 0),\n",
       "  datetime.datetime(2020, 5, 19, 0, 0),\n",
       "  datetime.datetime(2020, 5, 20, 0, 0),\n",
       "  datetime.datetime(2020, 5, 21, 0, 0),\n",
       "  datetime.datetime(2020, 5, 22, 0, 0),\n",
       "  datetime.datetime(2020, 5, 23, 0, 0),\n",
       "  datetime.datetime(2020, 5, 24, 0, 0),\n",
       "  datetime.datetime(2020, 5, 25, 0, 0),\n",
       "  datetime.datetime(2020, 5, 26, 0, 0),\n",
       "  datetime.datetime(2020, 5, 27, 0, 0),\n",
       "  datetime.datetime(2020, 5, 28, 0, 0),\n",
       "  datetime.datetime(2020, 5, 29, 0, 0),\n",
       "  datetime.datetime(2020, 5, 30, 0, 0),\n",
       "  datetime.datetime(2020, 5, 31, 0, 0),\n",
       "  datetime.datetime(2020, 6, 1, 0, 0),\n",
       "  datetime.datetime(2020, 6, 2, 0, 0),\n",
       "  datetime.datetime(2020, 6, 3, 0, 0),\n",
       "  datetime.datetime(2020, 6, 4, 0, 0),\n",
       "  datetime.datetime(2020, 6, 5, 0, 0),\n",
       "  datetime.datetime(2020, 6, 6, 0, 0),\n",
       "  datetime.datetime(2020, 6, 7, 0, 0),\n",
       "  datetime.datetime(2020, 6, 8, 0, 0),\n",
       "  datetime.datetime(2020, 6, 9, 0, 0),\n",
       "  datetime.datetime(2020, 6, 10, 0, 0),\n",
       "  datetime.datetime(2020, 6, 11, 0, 0),\n",
       "  datetime.datetime(2020, 6, 12, 0, 0),\n",
       "  datetime.datetime(2020, 6, 13, 0, 0),\n",
       "  datetime.datetime(2020, 6, 14, 0, 0),\n",
       "  datetime.datetime(2020, 6, 15, 0, 0),\n",
       "  datetime.datetime(2020, 6, 16, 0, 0),\n",
       "  datetime.datetime(2020, 6, 17, 0, 0),\n",
       "  datetime.datetime(2020, 6, 18, 0, 0),\n",
       "  datetime.datetime(2020, 6, 19, 0, 0),\n",
       "  datetime.datetime(2020, 6, 20, 0, 0),\n",
       "  datetime.datetime(2020, 6, 21, 0, 0),\n",
       "  datetime.datetime(2020, 6, 22, 0, 0),\n",
       "  datetime.datetime(2020, 6, 23, 0, 0),\n",
       "  datetime.datetime(2020, 6, 24, 0, 0),\n",
       "  datetime.datetime(2020, 6, 25, 0, 0),\n",
       "  datetime.datetime(2020, 6, 26, 0, 0),\n",
       "  datetime.datetime(2020, 6, 27, 0, 0),\n",
       "  datetime.datetime(2020, 6, 28, 0, 0),\n",
       "  datetime.datetime(2020, 6, 29, 0, 0),\n",
       "  datetime.datetime(2020, 6, 30, 0, 0),\n",
       "  datetime.datetime(2020, 7, 1, 0, 0),\n",
       "  datetime.datetime(2020, 7, 2, 0, 0),\n",
       "  datetime.datetime(2020, 7, 3, 0, 0),\n",
       "  datetime.datetime(2020, 7, 4, 0, 0),\n",
       "  datetime.datetime(2020, 7, 5, 0, 0),\n",
       "  datetime.datetime(2020, 7, 6, 0, 0),\n",
       "  datetime.datetime(2020, 7, 7, 0, 0),\n",
       "  datetime.datetime(2020, 7, 8, 0, 0),\n",
       "  datetime.datetime(2020, 7, 9, 0, 0),\n",
       "  datetime.datetime(2020, 7, 10, 0, 0),\n",
       "  datetime.datetime(2020, 7, 11, 0, 0),\n",
       "  datetime.datetime(2020, 7, 12, 0, 0),\n",
       "  datetime.datetime(2020, 7, 13, 0, 0),\n",
       "  datetime.datetime(2020, 7, 14, 0, 0),\n",
       "  datetime.datetime(2020, 7, 15, 0, 0),\n",
       "  datetime.datetime(2020, 7, 16, 0, 0),\n",
       "  datetime.datetime(2020, 7, 17, 0, 0),\n",
       "  datetime.datetime(2020, 7, 18, 0, 0),\n",
       "  datetime.datetime(2020, 7, 19, 0, 0),\n",
       "  datetime.datetime(2020, 7, 20, 0, 0),\n",
       "  datetime.datetime(2020, 7, 21, 0, 0),\n",
       "  datetime.datetime(2020, 7, 22, 0, 0),\n",
       "  datetime.datetime(2020, 7, 23, 0, 0),\n",
       "  datetime.datetime(2020, 7, 24, 0, 0),\n",
       "  datetime.datetime(2020, 7, 25, 0, 0),\n",
       "  datetime.datetime(2020, 7, 26, 0, 0),\n",
       "  datetime.datetime(2020, 7, 27, 0, 0),\n",
       "  datetime.datetime(2020, 7, 28, 0, 0),\n",
       "  datetime.datetime(2020, 7, 29, 0, 0),\n",
       "  datetime.datetime(2020, 7, 30, 0, 0),\n",
       "  datetime.datetime(2020, 7, 31, 0, 0),\n",
       "  datetime.datetime(2020, 8, 1, 0, 0),\n",
       "  datetime.datetime(2020, 8, 2, 0, 0),\n",
       "  datetime.datetime(2020, 8, 3, 0, 0),\n",
       "  datetime.datetime(2020, 8, 4, 0, 0),\n",
       "  datetime.datetime(2020, 8, 5, 0, 0),\n",
       "  datetime.datetime(2020, 8, 6, 0, 0)]]"
      ]
     },
     "execution_count": 51,
     "metadata": {},
     "output_type": "execute_result"
    }
   ],
   "source": [
    "subreport_dates"
   ]
  },
  {
   "cell_type": "markdown",
   "metadata": {},
   "source": [
    "## Active Infected"
   ]
  },
  {
   "cell_type": "code",
   "execution_count": 25,
   "metadata": {},
   "outputs": [],
   "source": [
    "endpoint = 'http://192.168.2.223:5006/getActiveCasesAllComunas'"
   ]
  },
  {
   "cell_type": "code",
   "execution_count": 26,
   "metadata": {},
   "outputs": [],
   "source": [
    "data = pd.DataFrame(requests.get(endpoint).json()['data'])"
   ]
  },
  {
   "cell_type": "code",
   "execution_count": 33,
   "metadata": {},
   "outputs": [],
   "source": [
    "        if type(tstate) == list:\n",
    "            counties = [i for i in tstate if len(i)>2 ]\n",
    "            states = [i for i in tstate if len(i)==2 ]            \n",
    "            aux = []\n",
    "            for i in states:\n",
    "                aux.append(data.filter(regex='^'+i,axis=1))\n",
    "            \n",
    "            aux.append(data[counties])\n",
    "            Ir = np.array(pd.concat(aux, axis=1).sum(axis=1))\n",
    "        \n",
    "        else:\n",
    "            if len(tstate) == 2:\n",
    "                Ir = np.array(data.filter(regex='^'+tstate,axis=1).sum(axis=1))\n",
    "            elif len(tstate) > 2:\n",
    "                Ir = np.array(data[tstate])\n",
    "        dates = list(requests.get(endpoint).json()['dates'])"
   ]
  },
  {
   "cell_type": "code",
   "execution_count": 30,
   "metadata": {},
   "outputs": [
    {
     "data": {
      "text/plain": [
       "array([ 339,  268,  251,  253,  201,  178,  144,  166,  202,  230,  216,\n",
       "        197,  202,  198,  206,  210,  221,  195,  189,  293,  378,  477,\n",
       "        477,  478,  589,  621,  654,  707,  630,  687,  850, 1001, 1153,\n",
       "       1302, 1414, 1356, 1279, 1288, 1525, 1571, 1767, 1797, 2261, 1998,\n",
       "       2283, 2133, 2382, 2411, 2836])"
      ]
     },
     "execution_count": 30,
     "metadata": {},
     "output_type": "execute_result"
    }
   ],
   "source": [
    "Ir"
   ]
  },
  {
   "cell_type": "code",
   "execution_count": 35,
   "metadata": {},
   "outputs": [
    {
     "data": {
      "text/plain": [
       "['2020-04-13T04:00:00.000Z',\n",
       " '2020-04-15T04:00:00.000Z',\n",
       " '2020-04-17T04:00:00.000Z',\n",
       " '2020-04-20T04:00:00.000Z',\n",
       " '2020-04-24T04:00:00.000Z',\n",
       " '2020-04-27T04:00:00.000Z',\n",
       " '2020-05-01T04:00:00.000Z',\n",
       " '2020-05-04T04:00:00.000Z',\n",
       " '2020-05-08T04:00:00.000Z',\n",
       " '2020-05-11T04:00:00.000Z',\n",
       " '2020-05-15T04:00:00.000Z',\n",
       " '2020-05-18T04:00:00.000Z',\n",
       " '2020-05-22T04:00:00.000Z',\n",
       " '2020-05-25T04:00:00.000Z',\n",
       " '2020-05-29T04:00:00.000Z',\n",
       " '2020-06-01T04:00:00.000Z',\n",
       " '2020-06-05T04:00:00.000Z',\n",
       " '2020-06-08T04:00:00.000Z',\n",
       " '2020-06-12T04:00:00.000Z',\n",
       " '2020-06-15T04:00:00.000Z',\n",
       " '2020-06-19T04:00:00.000Z',\n",
       " '2020-06-23T04:00:00.000Z',\n",
       " '2020-06-28T04:00:00.000Z',\n",
       " '2020-07-01T04:00:00.000Z',\n",
       " '2020-07-05T04:00:00.000Z',\n",
       " '2020-07-10T04:00:00.000Z',\n",
       " '2020-07-13T04:00:00.000Z',\n",
       " '2020-07-17T04:00:00.000Z',\n",
       " '2020-07-20T04:00:00.000Z',\n",
       " '2020-07-24T04:00:00.000Z',\n",
       " '2020-07-27T04:00:00.000Z',\n",
       " '2020-07-31T04:00:00.000Z',\n",
       " '2020-08-03T04:00:00.000Z',\n",
       " '2020-08-07T04:00:00.000Z',\n",
       " '2020-08-10T04:00:00.000Z',\n",
       " '2020-08-14T04:00:00.000Z',\n",
       " '2020-08-17T04:00:00.000Z',\n",
       " '2020-08-21T04:00:00.000Z',\n",
       " '2020-08-24T04:00:00.000Z',\n",
       " '2020-08-28T04:00:00.000Z',\n",
       " '2020-08-31T04:00:00.000Z',\n",
       " '2020-09-04T04:00:00.000Z',\n",
       " '2020-09-07T03:00:00.000Z',\n",
       " '2020-09-11T03:00:00.000Z',\n",
       " '2020-09-14T03:00:00.000Z',\n",
       " '2020-09-18T03:00:00.000Z',\n",
       " '2020-09-21T03:00:00.000Z',\n",
       " '2020-09-25T03:00:00.000Z',\n",
       " '2020-09-28T03:00:00.000Z']"
      ]
     },
     "execution_count": 35,
     "metadata": {},
     "output_type": "execute_result"
    }
   ],
   "source": [
    "subreport"
   ]
  },
  {
   "cell_type": "code",
   "execution_count": null,
   "metadata": {},
   "outputs": [],
   "source": []
  }
 ],
 "metadata": {
  "kernelspec": {
   "display_name": "Python 3.8.2 64-bit",
   "language": "python",
   "name": "python38264bit48ae65e862f64697a29185f9fa581b02"
  },
  "language_info": {
   "codemirror_mode": {
    "name": "ipython",
    "version": 3
   },
   "file_extension": ".py",
   "mimetype": "text/x-python",
   "name": "python",
   "nbconvert_exporter": "python",
   "pygments_lexer": "ipython3",
   "version": "3.8.2"
  }
 },
 "nbformat": 4,
 "nbformat_minor": 4
}
