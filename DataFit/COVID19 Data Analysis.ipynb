{
 "cells": [
  {
   "cell_type": "markdown",
   "metadata": {},
   "source": [
    "# COVID19 Data Analysis"
   ]
  },
  {
   "cell_type": "code",
   "execution_count": 1,
   "metadata": {},
   "outputs": [
    {
     "name": "stdout",
     "output_type": "stream",
     "text": [
      "Linux\n"
     ]
    }
   ],
   "source": [
    "import numpy as np\n",
    "import pandas as pd\n",
    "import matplotlib.pyplot as plt\n",
    "from datetime import datetime\n",
    "from numpy import linalg as LA\n",
    "\n",
    "import platform\n",
    "OS = platform.system()\n",
    "\n",
    "import matplotlib.pyplot as plt\n",
    "if OS == 'Linux':    \n",
    "    %matplotlib tk\n",
    "    print('Linux')\n",
    "elif OS == 'Windows':\n",
    "    %matplotlib qt\n",
    "    print('Windows')\n",
    "else:\n",
    "    print('OS not detected :-|')\n",
    "\n",
    "import sys\n",
    "from pathlib import Path\n",
    "sys.path.insert(1, '../src/utils/')\n",
    "sys.path.insert(1, 'src/utils/')\n",
    "\n",
    "from importdata import ImportData"
   ]
  },
  {
   "cell_type": "markdown",
   "metadata": {},
   "source": [
    "# Import Data\n",
    "You must be connected to Dlab VPN for making this script work"
   ]
  },
  {
   "cell_type": "code",
   "execution_count": 3,
   "metadata": {},
   "outputs": [
    {
     "name": "stdout",
     "output_type": "stream",
     "text": [
      "Importing General Data\n",
      "Importing Population\n",
      "Importing Active infected\n",
      "Importing Accumulated Infected\n",
      "Importing Daily Infected\n",
      "Importing Sochimi Data 2\n",
      "Importing Accumulated Deaths\n",
      "Importing Active Infected by Minciencia\n",
      "Importing Hospitalized/NonHospitalized Deaths\n",
      "Done\n"
     ]
    }
   ],
   "source": [
    "initdate = datetime(2020,4,15)\n",
    "# Current date\n",
    "currentdate = datetime.now()\n",
    "currentday = (currentdate - initdate).days\n",
    "\n",
    "\n",
    "RM = ImportData(tstate = '13', initdate = initdate)\n",
    "\n",
    "RM.importdata()"
   ]
  },
  {
   "cell_type": "code",
   "execution_count": 4,
   "metadata": {},
   "outputs": [
    {
     "data": {
      "text/plain": [
       "8125072.0"
      ]
     },
     "execution_count": 4,
     "metadata": {},
     "output_type": "execute_result"
    }
   ],
   "source": [
    "RM.population"
   ]
  },
  {
   "cell_type": "markdown",
   "metadata": {},
   "source": [
    "# Estudio VMI"
   ]
  },
  {
   "cell_type": "code",
   "execution_count": null,
   "metadata": {},
   "outputs": [],
   "source": [
    "initdate = datetime(2020,4,15)"
   ]
  },
  {
   "cell_type": "code",
   "execution_count": 3,
   "metadata": {},
   "outputs": [
    {
     "data": {
      "text/plain": [
       "[338.0,\n",
       " 339.0,\n",
       " 354.0,\n",
       " 353.0,\n",
       " 367.0,\n",
       " 375.0,\n",
       " 388.0,\n",
       " 379.0,\n",
       " 373.0,\n",
       " 400.0,\n",
       " 410.0,\n",
       " 437.0,\n",
       " 519.0,\n",
       " 534.0,\n",
       " 553.0,\n",
       " 588.0,\n",
       " 662.0,\n",
       " 699.0,\n",
       " 711.0,\n",
       " 754.0,\n",
       " 802.0,\n",
       " 842.0,\n",
       " 867.0,\n",
       " 885.0,\n",
       " 918.0,\n",
       " 964.0,\n",
       " 1038.0,\n",
       " 1076.0,\n",
       " 1087.0,\n",
       " 1108.0,\n",
       " 1126.0,\n",
       " 1140.0,\n",
       " 1154.0,\n",
       " 1186.0,\n",
       " 1200.0,\n",
       " 1234.0,\n",
       " 1241.0,\n",
       " 1231.0,\n",
       " 1220.0,\n",
       " 1260.0,\n",
       " 1287.0,\n",
       " 1299.0,\n",
       " 1312.0,\n",
       " 1304.0,\n",
       " 1322.0,\n",
       " 1343.0,\n",
       " 1363.0,\n",
       " 1346.0,\n",
       " 1346.0,\n",
       " 1358.0,\n",
       " 1387.0,\n",
       " 1355.0,\n",
       " 1385.0,\n",
       " 1411.0,\n",
       " 1389.0,\n",
       " 1379.0,\n",
       " 1389.0,\n",
       " 1409.0,\n",
       " 1396.0,\n",
       " 1396.0,\n",
       " 1380.0,\n",
       " 1369.0,\n",
       " 1381.0,\n",
       " 1359.0,\n",
       " 1364.0,\n",
       " 1377.0,\n",
       " 1338.0,\n",
       " 1349.0,\n",
       " 1314.0,\n",
       " 1312.0,\n",
       " 1291.0,\n",
       " 1265.0,\n",
       " 1266.0,\n",
       " 1269.0,\n",
       " 1273.0,\n",
       " 1251.0,\n",
       " 1218.0,\n",
       " 1178.0,\n",
       " 1152.0,\n",
       " 1161.0,\n",
       " 1164.0,\n",
       " 1142.0,\n",
       " 1170.0,\n",
       " 1089.0,\n",
       " 1036.0,\n",
       " 1057.0,\n",
       " 1025.0,\n",
       " 1016.0,\n",
       " 995.0,\n",
       " 989.0,\n",
       " 970.0,\n",
       " 967.0,\n",
       " 955.0,\n",
       " 920.0,\n",
       " 920.0,\n",
       " 891.0,\n",
       " 885.0,\n",
       " 867.0,\n",
       " 846.0,\n",
       " 840.0,\n",
       " 812.0,\n",
       " 806.0,\n",
       " 779.0,\n",
       " 748.0,\n",
       " 723.0,\n",
       " 720.0,\n",
       " 724.0,\n",
       " 699.0,\n",
       " 686.0,\n",
       " 692.0,\n",
       " 679.0,\n",
       " 666.0,\n",
       " 662.0,\n",
       " 652.0,\n",
       " 631.0,\n",
       " 650.0,\n",
       " 627.0,\n",
       " 633.0,\n",
       " 635.0,\n",
       " 616.0,\n",
       " 621.0,\n",
       " 612.0,\n",
       " 603.0,\n",
       " 624.0,\n",
       " 625.0,\n",
       " 622.0,\n",
       " 613.0,\n",
       " 602.0,\n",
       " 578.0,\n",
       " 580.0,\n",
       " 592.0,\n",
       " 589.0]"
      ]
     },
     "execution_count": 3,
     "metadata": {},
     "output_type": "execute_result"
    }
   ],
   "source": [
    "VMI_ac = [RM.VMI[]"
   ]
  },
  {
   "cell_type": "markdown",
   "metadata": {},
   "source": [
    "# Analysis\n",
    "Tasas de hopspitalizado de cada tipo sobre infectado activo  \n",
    "tasas entre ventiladores y uti/uci  \n",
    "y muertos sobre ventilados  "
   ]
  },
  {
   "cell_type": "markdown",
   "metadata": {},
   "source": [
    "## Hospitalization Data"
   ]
  },
  {
   "cell_type": "code",
   "execution_count": null,
   "metadata": {},
   "outputs": [],
   "source": [
    "plt.plot(RM.sochimi_tr,RM.VMI,label='VMI')\n",
    "plt.plot(RM.sochimi_tr,RM.VMI_tot,label='VMI_tot')\n",
    "plt.plot(RM.sochimi_tr,RM.VMI_sospechoso,label='VMI_suspects')\n",
    "plt.plot(RM.sochimi_tr,RM.VMI_confirmado,label='VMI_confirmed')\n",
    "plt.title('VMI Dynamics - RM')\n",
    "plt.legend(loc=0)"
   ]
  },
  {
   "cell_type": "code",
   "execution_count": null,
   "metadata": {},
   "outputs": [],
   "source": [
    "plt.plot(RM.sochimi_tr,RM.UTI,label='UTI', color = 'blue')\n",
    "plt.plot(RM.sochimi_tr,RM.UTI_tot,label='UTI_tot',linestyle = 'dashed', color = 'blue')\n",
    "plt.plot(RM.sochimi_tr,RM.UCI,label='UCI', color = 'red')\n",
    "plt.plot(RM.sochimi_tr,RM.UCI_tot,label='UCI_tot',linestyle = 'dashed', color = 'red')\n",
    "plt.legend(loc=0)\n",
    "plt.title('UCI vs UTI - RM')"
   ]
  },
  {
   "cell_type": "code",
   "execution_count": null,
   "metadata": {},
   "outputs": [],
   "source": [
    "plt.plot(RM.sochimi_tr,RM.UTI,label='UTI', color = 'blue')\n",
    "plt.plot(RM.sochimi_tr,RM.UTI_tot,label='UTI_tot',linestyle = 'dashed', color = 'blue')\n",
    "plt.plot(RM.sochimi_tr,RM.VMI,label='VMI', color = 'red')\n",
    "plt.plot(RM.sochimi_tr,RM.VMI_tot,label='VMI_tot',linestyle = 'dashed', color = 'red')\n",
    "plt.title('VMI vs UTI - RM')\n",
    "plt.legend(loc=0)"
   ]
  },
  {
   "cell_type": "code",
   "execution_count": null,
   "metadata": {},
   "outputs": [],
   "source": [
    "plt.plot(RM.sochimi_tr,RM.UTI,label='UTI', color = 'blue')\n",
    "plt.plot(RM.sochimi_tr,RM.UTI_tot,label='UTI_tot',linestyle = 'dashed', color = 'blue')\n",
    "plt.plot(RM.sochimi_tr,RM.VMI,label='VMI', color = 'red')\n",
    "plt.plot(RM.sochimi_tr,RM.VMI_tot,label='VMI_tot',linestyle = 'dashed', color = 'red')\n",
    "plt.plot(RM.sochimi_tr,RM.UCI,label='UCI', color = 'cyan')\n",
    "plt.plot(RM.sochimi_tr,RM.UCI_tot,label='UCI_tot',linestyle = 'dashed', color = 'cyan')\n",
    "plt.title('VMI vs UTI vs UCI - RM')\n",
    "plt.legend(loc=0)"
   ]
  },
  {
   "cell_type": "code",
   "execution_count": null,
   "metadata": {},
   "outputs": [],
   "source": [
    "RM.sochimi_dates[-1]"
   ]
  },
  {
   "cell_type": "code",
   "execution_count": null,
   "metadata": {},
   "outputs": [],
   "source": [
    "VMI_UTI = [RM.VMI[i]/RM.UTI[i] for i in range(len(RM.UTI))]"
   ]
  },
  {
   "cell_type": "code",
   "execution_count": null,
   "metadata": {},
   "outputs": [],
   "source": [
    "plt.plot(RM.sochimi_dates,VMI_UTI,label='VMI/UTI')\n",
    "plt.plot(RM.sochimi_dates,VMI_UTI,label='VMI/UTI')\n",
    "plt.title('VMI UTI UCI rates - RM')"
   ]
  },
  {
   "cell_type": "code",
   "execution_count": null,
   "metadata": {},
   "outputs": [],
   "source": [
    "np.mean(VMI_UTI)"
   ]
  },
  {
   "cell_type": "code",
   "execution_count": null,
   "metadata": {},
   "outputs": [],
   "source": [
    "np.std(VMI_UTI)"
   ]
  },
  {
   "cell_type": "code",
   "execution_count": null,
   "metadata": {},
   "outputs": [],
   "source": [
    "UCI_VMI = [RM.UCI[i]/RM.VMI[i] for i in range(len(RM.UTI))]"
   ]
  },
  {
   "cell_type": "code",
   "execution_count": null,
   "metadata": {},
   "outputs": [],
   "source": [
    "print('Mean ' + str(1/np.mean(UCI_VMI)))\n",
    "print('STD ' + str(np.std(UCI_VMI)))"
   ]
  },
  {
   "cell_type": "markdown",
   "metadata": {},
   "source": [
    "## Punta Arenas"
   ]
  },
  {
   "cell_type": "code",
   "execution_count": null,
   "metadata": {},
   "outputs": [],
   "source": [
    "PuntaArenas = ImportData(tstate = '12', initdate = initdate)\n",
    "PuntaArenas.importdata()"
   ]
  },
  {
   "cell_type": "code",
   "execution_count": null,
   "metadata": {},
   "outputs": [],
   "source": [
    "\n",
    "plt.plot(PuntaArenas.sochimi_dates,PuntaArenas.UTI,label='UTI', color = 'blue')\n",
    "plt.plot(PuntaArenas.sochimi_dates,PuntaArenas.UTI_tot,label='UTI_tot',linestyle = 'dashed', color = 'blue')\n",
    "plt.plot(PuntaArenas.sochimi_dates,PuntaArenas.VMI,label='VMI', color = 'red')\n",
    "plt.plot(PuntaArenas.sochimi_dates,PuntaArenas.VMI_tot,label='VMI_tot',linestyle = 'dashed', color = 'red')\n",
    "plt.plot(PuntaArenas.sochimi_dates,PuntaArenas.UCI,label='UCI', color = 'cyan')\n",
    "plt.plot(PuntaArenas.sochimi_dates,PuntaArenas.UCI_tot,label='UCI_tot',linestyle = 'dashed', color = 'cyan')\n",
    "plt.title('VMI vs UTI vs UCI - Punta Arenas')\n",
    "plt.legend(loc=0)"
   ]
  },
  {
   "cell_type": "markdown",
   "metadata": {},
   "source": [
    "## Time calibration"
   ]
  },
  {
   "cell_type": "code",
   "execution_count": null,
   "metadata": {},
   "outputs": [],
   "source": [
    "t = []\n",
    "t_Ir = []\n",
    "t_Hr = []\n",
    "t_D  = []\n",
    "for i in range(currentday):\n",
    "    if i in RM.tr and i in RM.sochimi_tr:\n",
    "        t.append(i)\n",
    "        t_Ir.append(np.where(RM.tr==i))\n",
    "        t_Hr.append(np.where(RM.sochimi_tr==i))"
   ]
  },
  {
   "cell_type": "code",
   "execution_count": null,
   "metadata": {},
   "outputs": [],
   "source": [
    "RM.sochimi_tr"
   ]
  },
  {
   "cell_type": "code",
   "execution_count": null,
   "metadata": {},
   "outputs": [],
   "source": [
    "RM.tr"
   ]
  },
  {
   "cell_type": "code",
   "execution_count": null,
   "metadata": {},
   "outputs": [],
   "source": [
    "len(t_Ir)"
   ]
  },
  {
   "cell_type": "code",
   "execution_count": null,
   "metadata": {},
   "outputs": [],
   "source": []
  },
  {
   "cell_type": "markdown",
   "metadata": {},
   "source": [
    "## Hospitalized by type vs Active Infected"
   ]
  },
  {
   "cell_type": "code",
   "execution_count": null,
   "metadata": {},
   "outputs": [],
   "source": [
    "H_I = [RM.Hr[i]/RM.Ir[i] for i in range(len(t_Hr))]\n",
    "V_I = [RM.Vr[i]/RM.Ir[i] for i in range(len(t_Hr))]\n",
    "V_H = [RM.Vr[i]/RM.Hr[i] for i in range(len(RM.sochimi_tr))]"
   ]
  },
  {
   "cell_type": "code",
   "execution_count": null,
   "metadata": {},
   "outputs": [],
   "source": [
    "plt.plot(t,H_I,label= 'Hospitalized vs Infected')\n",
    "plt.plot(t,V_I,label= 'Ventilators vs Infected')\n",
    "plt.plot(RM.sochimi_tr,V_H, label = 'Vents/Hospitalized')\n",
    "plt.legend(loc=0)"
   ]
  },
  {
   "cell_type": "code",
   "execution_count": null,
   "metadata": {},
   "outputs": [],
   "source": []
  },
  {
   "cell_type": "code",
   "execution_count": null,
   "metadata": {},
   "outputs": [],
   "source": []
  },
  {
   "cell_type": "markdown",
   "metadata": {},
   "source": [
    "# Deaths: Hospitalized vs Non Hospitalized"
   ]
  },
  {
   "cell_type": "code",
   "execution_count": 7,
   "metadata": {},
   "outputs": [],
   "source": [
    "from datetime import datetime\n",
    "import pandas as pd\n",
    "import numpy as np\n",
    "import matplotlib.pyplot as plt"
   ]
  },
  {
   "cell_type": "code",
   "execution_count": 2,
   "metadata": {},
   "outputs": [],
   "source": [
    "initdate = datetime(2020,3,25)"
   ]
  },
  {
   "cell_type": "code",
   "execution_count": 3,
   "metadata": {},
   "outputs": [],
   "source": [
    "endpoint = 'https://raw.githubusercontent.com/MinCiencia/Datos-COVID19/master/output/producto57/fallecidos_hospitalizados.csv'\n",
    "\n",
    "aux = pd.read_csv(endpoint)\n",
    "aux = aux.loc[aux['Region'] == 'Metropolitana']\n",
    "Dr_hosp = aux.loc[aux['Hospitalizacion'] == 'VERDADERO']['2020-09-07']\n",
    "Dr_Nonhosp = aux.loc[aux['Hospitalizacion'] == 'FALSO']['2020-09-07']\n",
    "hosp_dates =  [datetime.strptime(aux.loc[aux['Hospitalizacion'] == 'VERDADERO']['Fecha'].tolist()[i], '%Y-%m-%d') for i in range(len(Dr_hosp))]\n",
    "\n",
    "Br_hosp = Dr_hosp.cumsum()\n",
    "Br_Nonhosp = Dr_Nonhosp.cumsum()\n",
    "\n",
    "index = np.where(np.array(hosp_dates) >= initdate)[0][0]\n",
    "\n",
    "Dr_hosp = Br_hosp[index:]\n",
    "Dr_Nonhosp = Br_Nonhosp[index:]\n",
    "\n",
    "Br_hosp = Br_hosp[index:]\n",
    "Br_Nonhosp = Br_Nonhosp[index:]\n",
    "\n",
    "hosp_dates = hosp_dates[index:]\n",
    "hosp_tr = [(hosp_dates[i]-initdate).days for i in range(len(hosp_dates))]"
   ]
  },
  {
   "cell_type": "code",
   "execution_count": 4,
   "metadata": {},
   "outputs": [],
   "source": [
    "V_F = [Br_Nonhosp.iloc[i]/Br_hosp.iloc[i] for i in range(len(Br_Nonhosp))]"
   ]
  },
  {
   "cell_type": "code",
   "execution_count": 8,
   "metadata": {},
   "outputs": [
    {
     "data": {
      "image/png": "[encoded data removed]",
      "text/plain": [
       "<Figure size 432x288 with 1 Axes>"
      ]
     },
     "metadata": {
      "needs_background": "light"
     },
     "output_type": "display_data"
    }
   ],
   "source": [
    "plt.plot(hosp_dates,V_F)\n",
    "plt.title('Proporción Muertes de No Hospitalizados / Muertes de Hospitalizados')\n",
    "plt.show()"
   ]
  },
  {
   "cell_type": "code",
   "execution_count": null,
   "metadata": {},
   "outputs": [],
   "source": []
  }
 ],
 "metadata": {
  "kernelspec": {
   "display_name": "Python 3.8.2 64-bit",
   "language": "python",
   "name": "python38264bit48ae65e862f64697a29185f9fa581b02"
  },
  "language_info": {
   "codemirror_mode": {
    "name": "ipython",
    "version": 3
   },
   "file_extension": ".py",
   "mimetype": "text/x-python",
   "name": "python",
   "nbconvert_exporter": "python",
   "pygments_lexer": "ipython3",
   "version": "3.8.2"
  }
 },
 "nbformat": 4,
 "nbformat_minor": 4
}
