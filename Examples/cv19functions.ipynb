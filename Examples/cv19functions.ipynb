{
 "cells": [
  {
   "cell_type": "markdown",
   "metadata": {},
   "source": [
    "# cv19functions: Function creation library"
   ]
  },
  {
   "cell_type": "code",
   "execution_count": null,
   "metadata": {},
   "outputs": [],
   "source": [
    "import numpy as np\n",
    "import pandas as pd\n",
    "import matplotlib.pyplot as plt\n",
    "from cv19gm.utils import cv19functions"
   ]
  },
  {
   "cell_type": "code",
   "execution_count": null,
   "metadata": {},
   "outputs": [],
   "source": [
    "# Optional: For pop-up plots\n",
    "import platform\n",
    "OS = platform.system()\n",
    "\n",
    "if OS == 'Linux':    \n",
    "    %matplotlib tk\n",
    "    print('Linux')\n",
    "elif OS == 'Windows':\n",
    "    %matplotlib qt\n",
    "    print('Windows')\n",
    "elif OS == 'Darwin':\n",
    "    %matplotlib tk\n",
    "    print('Mac (Funciona?)')\n",
    "else:\n",
    "    print('OS not detected :-|')"
   ]
  },
  {
   "cell_type": "markdown",
   "metadata": {},
   "source": [
    "# Basic functions"
   ]
  },
  {
   "cell_type": "markdown",
   "metadata": {},
   "source": [
    "## Events\n",
    "Event function creates a function that returns the values that receives in the \"values\" argument during the ranges that it receives in the \"days\" argument. The function will return 0 during the days not comprehended in the days argument.\n",
    "* values: A list or numpy array with the values\n",
    "* days: A list with pairs of values that determine when the function will take the values\n",
    "\n",
    "Overlaped day periods will return the sum of the correspondent values."
   ]
  },
  {
   "cell_type": "code",
   "execution_count": null,
   "metadata": {},
   "outputs": [],
   "source": [
    "#Create time range\n",
    "t = np.linspace(0,40,1000)"
   ]
  },
  {
   "cell_type": "markdown",
   "metadata": {},
   "source": [
    "### Static values"
   ]
  },
  {
   "cell_type": "code",
   "execution_count": null,
   "metadata": {},
   "outputs": [],
   "source": [
    "Events = cv19functions.events(values=[0.45,0.85,1.3],days=[[0,10],[10,20],[23,28]])\n",
    "Events2 = cv19functions.events(default=4,values=[0.45,0.85,1.3],days=[[0,10],[10,20],[23,28]])"
   ]
  },
  {
   "cell_type": "code",
   "execution_count": null,
   "metadata": {},
   "outputs": [],
   "source": [
    "plt.plot(t,Events(t), label='Default value = 0')\n",
    "plt.plot(t,Events2(t), label='Default value = 4')\n",
    "plt.legend(loc=0)\n",
    "plt.title('Events function')\n",
    "plt.show()"
   ]
  },
  {
   "cell_type": "markdown",
   "metadata": {},
   "source": [
    "### Using functions as values "
   ]
  },
  {
   "cell_type": "code",
   "execution_count": null,
   "metadata": {},
   "outputs": [],
   "source": [
    "#Create time range\n",
    "t = np.linspace(0,70,10000)"
   ]
  },
  {
   "cell_type": "code",
   "execution_count": null,
   "metadata": {},
   "outputs": [],
   "source": [
    "f1 = cv19functions.sine(period=4)\n",
    "f2 = cv19functions.sigmoidal_transition(28,35,1.3,2.5)\n",
    "f3 = cv19functions.quadratic_transition(40,45,2.5,1,concavity=0)\n",
    "Events = cv19functions.events(values=[0.45,f1,1.3,f2,f3],days=[[0,10],[10,20],[23,28],[28,40],[40,60]])"
   ]
  },
  {
   "cell_type": "code",
   "execution_count": null,
   "metadata": {},
   "outputs": [],
   "source": [
    "plt.plot(t,Events(t))\n",
    "plt.title('Events function')\n",
    "plt.show()"
   ]
  },
  {
   "cell_type": "markdown",
   "metadata": {},
   "source": [
    "## Periodic functions\n",
    "Creates functions that return the specified periodic function. It can create square, sine or sawtooth waves"
   ]
  },
  {
   "cell_type": "code",
   "execution_count": null,
   "metadata": {},
   "outputs": [],
   "source": [
    "#Create time ra1nge\n",
    "t = np.linspace(0,70,1000)"
   ]
  },
  {
   "cell_type": "code",
   "execution_count": null,
   "metadata": {},
   "outputs": [],
   "source": [
    "square = cv19functions.square(min_val=0,max_val=1,period=14,t_init=0,t_end=1000,default=0,initphase=0,duty=0.5)\n",
    "sine = cv19functions.sine(min_val=2,max_val=3,period=7,t_init=20,t_end=60,default=2,initphase=1)\n",
    "sawtooth = cv19functions.sawtooth(min_val=4,max_val=5,period=14,t_init=0,t_end=1000,default=4,initphase=0,width=0)"
   ]
  },
  {
   "cell_type": "code",
   "execution_count": null,
   "metadata": {},
   "outputs": [],
   "source": [
    "plt.plot(t,square(t),label='square')\n",
    "plt.plot(t,sine(t),label='sine')\n",
    "plt.plot(t,sawtooth(t),label='sawtooth')\n",
    "plt.title('Periodic Functions')\n",
    "plt.legend(loc=0)\n",
    "plt.show()"
   ]
  },
  {
   "cell_type": "markdown",
   "metadata": {},
   "source": [
    "## Value transition functions\n",
    "Create functions that change their value in the specified fashion: linear, quadratic or sigmoidal"
   ]
  },
  {
   "cell_type": "code",
   "execution_count": null,
   "metadata": {},
   "outputs": [],
   "source": [
    "#Create time range\n",
    "t = np.linspace(0,50,100)"
   ]
  },
  {
   "cell_type": "code",
   "execution_count": null,
   "metadata": {},
   "outputs": [],
   "source": [
    "linear1 = cv19functions.linear_transition(t_init=10,t_end=20,initvalue= 0, endvalue = 1)\n",
    "linear2 = cv19functions.linear_transition(t_init=30,t_end=40,initvalue= 0, endvalue = -1)\n",
    "\n",
    "quadratic1 = cv19functions.quadratic_transition(t_init=10,t_end=20,initvalue= 2, endvalue = 3, concavity=0)  \n",
    "quadratic2 = cv19functions.quadratic_transition(t_init=30,t_end=40,initvalue= 0, endvalue = -1, concavity=0)    \n",
    "\n",
    "quadratic3 = cv19functions.quadratic_transition(t_init=10,t_end=20,initvalue= 4, endvalue = 5, concavity=1)  \n",
    "quadratic4 = cv19functions.quadratic_transition(t_init=30,t_end=40,initvalue= 0, endvalue = -1, concavity=1)    \n",
    "\n",
    "sigmoid1 = cv19functions.sigmoidal_transition(t_init=10,t_end=20,initvalue= 6, endvalue = 7)\n",
    "sigmoid2 = cv19functions.sigmoidal_transition(t_init=30,t_end=40,initvalue= 0, endvalue = -1)"
   ]
  },
  {
   "cell_type": "code",
   "execution_count": null,
   "metadata": {},
   "outputs": [],
   "source": [
    "plt.plot(t,linear1(t)+linear2(t),label = 'Linear')\n",
    "plt.plot(t,quadratic1(t)+quadratic2(t),label = 'Quadratic convex')\n",
    "plt.plot(t,quadratic3(t)+quadratic4(t),label = 'Quadratic concave')\n",
    "plt.plot(t,sigmoid1(t)+sigmoid2(t),label = 'Sigmoidal')\n",
    "\n",
    "plt.axvline(10,linestyle='dashed',color='grey')\n",
    "plt.axvline(20,linestyle='dashed',color='grey')\n",
    "plt.axvline(30,linestyle='dashed',color='grey')\n",
    "plt.axvline(40,linestyle='dashed',color='grey')\n",
    "\n",
    "plt.title('Continious change')\n",
    "plt.legend(loc=0)\n",
    "plt.show()"
   ]
  },
  {
   "cell_type": "markdown",
   "metadata": {},
   "source": [
    "# Function construtctor\n",
    "The build function receives a string or dictionarie from which it builds the specified function. This is used when defining functions in the configuration file."
   ]
  },
  {
   "cell_type": "code",
   "execution_count": null,
   "metadata": {},
   "outputs": [],
   "source": [
    "#Create time range\n",
    "t = np.linspace(0,40,1000)"
   ]
  },
  {
   "cell_type": "code",
   "execution_count": null,
   "metadata": {},
   "outputs": [],
   "source": [
    "constructor = '{\"function\":\"events\",\"values\":[0.45,0.85,1],\"days\":[[0,10],[10,20],[22,30]],\"default\":0}'\n",
    "build1 = cv19functions.build(constructor)"
   ]
  },
  {
   "cell_type": "code",
   "execution_count": null,
   "metadata": {},
   "outputs": [],
   "source": [
    "plt.plot(t,build1(t))\n",
    "plt.title('Function constructor')\n",
    "plt.show()"
   ]
  },
  {
   "cell_type": "code",
   "execution_count": null,
   "metadata": {},
   "outputs": [],
   "source": [
    "constructor_sine = '{\"function\":\"sine\",\"min_val\":0,\"max_val\":1,\"period\":7}'\n",
    "build2 = cv19functions.build(constructor_sine)"
   ]
  },
  {
   "cell_type": "code",
   "execution_count": null,
   "metadata": {},
   "outputs": [],
   "source": [
    "plt.plot(t,build2(t))\n",
    "plt.title('Function constructor')\n",
    "plt.show()"
   ]
  },
  {
   "cell_type": "code",
   "execution_count": null,
   "metadata": {},
   "outputs": [],
   "source": [
    "constructor = '{\"function\":\"events\",\"values\":[0.45,0.85,{\"function\":\"sine\",\"min_val\":0,\"max_val\":1,\"period\":7}],\"days\":[[0,10],[10,20],[22,50]],\"default\":0}'\n",
    "build3 = cv19functions.build(constructor)"
   ]
  },
  {
   "cell_type": "code",
   "execution_count": null,
   "metadata": {},
   "outputs": [],
   "source": [
    "plt.plot(t,build3(t))\n",
    "plt.title('Function constructor')\n",
    "plt.show()"
   ]
  },
  {
   "cell_type": "markdown",
   "metadata": {},
   "source": [
    "## Saturation\n",
    "Builds a binary function that indicates when the sum of the arguments are bigger than the saturation function.\n",
    "\n",
    "    Args:\n",
    "        upperlimit (function or cv19function builder arg): Upper limit function\n",
    "\n",
    "    Returns:\n",
    "        saturationfunction (function): binary function with time multiple arguments that returns 1 when the arguments addition function\n",
    "            Args:\n",
    "                t (float): time value\n",
    "                *args: multiple arguments which are added and then compared with the saturation value at time t\n",
    "            Returns:\n",
    "                int: \n",
    "                    0 when the functions given are smaller than the saturation function \n",
    "                    1 when they are bigger or equal"
   ]
  },
  {
   "cell_type": "code",
   "execution_count": null,
   "metadata": {},
   "outputs": [],
   "source": [
    "t = np.linspace(0,50,10000)"
   ]
  },
  {
   "cell_type": "code",
   "execution_count": null,
   "metadata": {},
   "outputs": [],
   "source": [
    "sat = cv19functions.saturation(2)\n",
    "quadratic1 = cv19functions.quadratic_transition(t_init=10,t_end=20,initvalue= 1.5, endvalue = 2.5, concavity=0)  \n",
    "quadratic2 = cv19functions.quadratic_transition(t_init=30,t_end=40,initvalue= 0, endvalue = -1, concavity=0)    "
   ]
  },
  {
   "cell_type": "code",
   "execution_count": null,
   "metadata": {},
   "outputs": [],
   "source": [
    "plt.plot(t,sat(t,quadratic1,quadratic2),label='saturation function')\n",
    "plt.plot(t,cv19functions.func_add(quadratic1,quadratic2)(t),label='input')\n",
    "plt.axhline(2,linestyle='dashed',color='grey',label='saturation value')\n",
    "plt.legend(loc=0)\n",
    "plt.title('Saturation function \\n changes value when the input is bigger than 2')\n",
    "plt.show()"
   ]
  },
  {
   "cell_type": "markdown",
   "metadata": {},
   "source": [
    "# Transform data into a function\n",
    "This function creates a function from a data array. The future values can be a static value or another function "
   ]
  },
  {
   "cell_type": "code",
   "execution_count": null,
   "metadata": {},
   "outputs": [],
   "source": [
    "# Creating random data\n",
    "data = [np.random.randint(-10,10) for i in range(50)]"
   ]
  },
  {
   "cell_type": "code",
   "execution_count": null,
   "metadata": {},
   "outputs": [],
   "source": [
    "plt.scatter(range(len(data)),data)\n",
    "plt.show()"
   ]
  },
  {
   "cell_type": "code",
   "execution_count": null,
   "metadata": {},
   "outputs": [],
   "source": [
    "function = cv19functions.data_function(data,np.mean(data[-5:]))"
   ]
  },
  {
   "cell_type": "code",
   "execution_count": null,
   "metadata": {},
   "outputs": [],
   "source": [
    "t = np.linspace(0,70,1000)\n",
    "plt.plot(t,[function(i) for i in t],label='function')\n",
    "plt.scatter(range(len(data)),data,label='data',color='red')\n",
    "plt.legend(loc=0)\n",
    "plt.show()"
   ]
  },
  {
   "cell_type": "code",
   "execution_count": null,
   "metadata": {},
   "outputs": [],
   "source": []
  }
 ],
 "metadata": {
  "kernelspec": {
   "display_name": "Python 3",
   "language": "python",
   "name": "python3"
  },
  "language_info": {
   "codemirror_mode": {
    "name": "ipython",
    "version": 3
   },
   "file_extension": ".py",
   "mimetype": "text/x-python",
   "name": "python",
   "nbconvert_exporter": "python",
   "pygments_lexer": "ipython3",
   "version": "3.8.3"
  }
 },
 "nbformat": 4,
 "nbformat_minor": 4
}
