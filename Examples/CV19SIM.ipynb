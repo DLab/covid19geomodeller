{
 "cells": [
  {
   "cell_type": "markdown",
   "metadata": {},
   "source": [
    "# CV19SIM: EPIcSuite simulator interface\n",
    "\n",
    "Perdón la pobresa, work in progress. Será enriquecido "
   ]
  },
  {
   "cell_type": "code",
   "execution_count": 1,
   "metadata": {},
   "outputs": [],
   "source": [
    "import numpy as np\n",
    "import pandas as pd\n",
    "import toml\n",
    "import time\n",
    "import matplotlib.pyplot as plt"
   ]
  },
  {
   "cell_type": "code",
   "execution_count": 2,
   "metadata": {},
   "outputs": [],
   "source": [
    "from cv19gm.cv19sim import CV19SIM"
   ]
  },
  {
   "cell_type": "code",
   "execution_count": 3,
   "metadata": {},
   "outputs": [
    {
     "name": "stdout",
     "output_type": "stream",
     "text": [
      "Linux\n"
     ]
    }
   ],
   "source": [
    "# For pop-up plots execute this code (optional)\n",
    "import platform\n",
    "OS = platform.system()\n",
    "\n",
    "if OS == 'Linux':    \n",
    "    %matplotlib tk\n",
    "    print('Linux')\n",
    "elif OS == 'Windows':\n",
    "    %matplotlib qt\n",
    "    print('Windows')\n",
    "elif OS == 'Darwin':\n",
    "    %matplotlib tk\n",
    "    print('Mac (Funciona?)')"
   ]
  },
  {
   "cell_type": "markdown",
   "metadata": {},
   "source": [
    "## Lectura archivo de configuración"
   ]
  },
  {
   "cell_type": "code",
   "execution_count": 4,
   "metadata": {},
   "outputs": [],
   "source": [
    "cfgfile = '../config_files/SEIR_metasim.toml'\n",
    "cfg = toml.load(cfgfile) # no es necesario, pero es util para ver el archivo de configuracion"
   ]
  },
  {
   "cell_type": "code",
   "execution_count": 8,
   "metadata": {},
   "outputs": [
    {
     "data": {
      "text/plain": [
       "{'title': 'Example of a SEIR Configuration File',\n",
       " 'date': '2021-04-20',\n",
       " 'user': 'Samuel',\n",
       " 'model': {'name': 'SEIR', 'compartments': ['S', 'E', 'I', 'R']},\n",
       " 'data': {'datafile': False,\n",
       "  'importdata': False,\n",
       "  'initdate': '',\n",
       "  'country': '',\n",
       "  'state': '',\n",
       "  'county': '',\n",
       "  'healthservice': '',\n",
       "  'loc_name': ''},\n",
       " 'parameters': {'static': {'t_init': 0,\n",
       "   't_end': 500,\n",
       "   'timestep': 0.01,\n",
       "   'k_I': 0,\n",
       "   'k_R': 0,\n",
       "   'seroprevfactor': 1,\n",
       "   'expinfection': 0,\n",
       "   'mu': 0.298,\n",
       "   'pI_det': 1},\n",
       "  'dynamic': {'beta': [0.1, 0.2],\n",
       "   'alpha': [1, 2, 3],\n",
       "   'S_f': 0,\n",
       "   'E_f': 0,\n",
       "   'I_f': 0,\n",
       "   'R_f': 0,\n",
       "   'tE_I': 5.0,\n",
       "   'tI_R': 10.0,\n",
       "   'rR_S': 0}},\n",
       " 'initialconditions': {'population': 1000000,\n",
       "  'R': 5000,\n",
       "  'I': 0,\n",
       "  'I_det': 6000,\n",
       "  'I_d': 0,\n",
       "  'I_d_det': 3000,\n",
       "  'I_ac': 0,\n",
       "  'I_ac_det': 15000,\n",
       "  'E': False,\n",
       "  'E_d': False}}"
      ]
     },
     "execution_count": 8,
     "metadata": {},
     "output_type": "execute_result"
    }
   ],
   "source": [
    "cfg"
   ]
  },
  {
   "cell_type": "markdown",
   "metadata": {},
   "source": [
    "### Creación objeto de multisimulación"
   ]
  },
  {
   "cell_type": "code",
   "execution_count": 5,
   "metadata": {},
   "outputs": [],
   "source": [
    "sims = CV19SIM(cfg)"
   ]
  },
  {
   "cell_type": "code",
   "execution_count": 6,
   "metadata": {},
   "outputs": [],
   "source": [
    "# Resolver EDOS\n",
    "sims.solve()"
   ]
  },
  {
   "cell_type": "code",
   "execution_count": 7,
   "metadata": {},
   "outputs": [
    {
     "data": {
      "text/html": [
       "<div>\n",
       "<style scoped>\n",
       "    .dataframe tbody tr th:only-of-type {\n",
       "        vertical-align: middle;\n",
       "    }\n",
       "\n",
       "    .dataframe tbody tr th {\n",
       "        vertical-align: top;\n",
       "    }\n",
       "\n",
       "    .dataframe thead th {\n",
       "        text-align: right;\n",
       "    }\n",
       "</style>\n",
       "<table border=\"1\" class=\"dataframe\">\n",
       "  <thead>\n",
       "    <tr style=\"text-align: right;\">\n",
       "      <th></th>\n",
       "      <th>t</th>\n",
       "      <th>dates</th>\n",
       "      <th>S</th>\n",
       "      <th>E</th>\n",
       "      <th>E_d</th>\n",
       "      <th>I</th>\n",
       "      <th>I_d</th>\n",
       "      <th>R</th>\n",
       "      <th>R_d</th>\n",
       "      <th>Flux</th>\n",
       "      <th>E_ac</th>\n",
       "      <th>I_ac</th>\n",
       "      <th>R_ac</th>\n",
       "      <th>I_det</th>\n",
       "      <th>I_d_det</th>\n",
       "      <th>I_ac_det</th>\n",
       "      <th>prevalence_total</th>\n",
       "      <th>prevalence_susc</th>\n",
       "      <th>prevalence_det</th>\n",
       "    </tr>\n",
       "  </thead>\n",
       "  <tbody>\n",
       "    <tr>\n",
       "      <th>0</th>\n",
       "      <td>0</td>\n",
       "      <td>None</td>\n",
       "      <td>989000</td>\n",
       "      <td>1788</td>\n",
       "      <td>894</td>\n",
       "      <td>5999</td>\n",
       "      <td>3000</td>\n",
       "      <td>5000</td>\n",
       "      <td>0</td>\n",
       "      <td>0.0</td>\n",
       "      <td>894</td>\n",
       "      <td>18000</td>\n",
       "      <td>0</td>\n",
       "      <td>5999</td>\n",
       "      <td>3000</td>\n",
       "      <td>18000</td>\n",
       "      <td>0.018000</td>\n",
       "      <td>0.017968</td>\n",
       "      <td>0.017968</td>\n",
       "    </tr>\n",
       "    <tr>\n",
       "      <th>1</th>\n",
       "      <td>1</td>\n",
       "      <td>None</td>\n",
       "      <td>988417</td>\n",
       "      <td>1991</td>\n",
       "      <td>695</td>\n",
       "      <td>5789</td>\n",
       "      <td>1345</td>\n",
       "      <td>5588</td>\n",
       "      <td>371</td>\n",
       "      <td>0.0</td>\n",
       "      <td>1589</td>\n",
       "      <td>19345</td>\n",
       "      <td>371</td>\n",
       "      <td>5789</td>\n",
       "      <td>1345</td>\n",
       "      <td>19345</td>\n",
       "      <td>0.019345</td>\n",
       "      <td>0.019311</td>\n",
       "      <td>0.019311</td>\n",
       "    </tr>\n",
       "    <tr>\n",
       "      <th>2</th>\n",
       "      <td>2</td>\n",
       "      <td>None</td>\n",
       "      <td>987853</td>\n",
       "      <td>2141</td>\n",
       "      <td>611</td>\n",
       "      <td>5633</td>\n",
       "      <td>758</td>\n",
       "      <td>6159</td>\n",
       "      <td>496</td>\n",
       "      <td>0.0</td>\n",
       "      <td>2201</td>\n",
       "      <td>20103</td>\n",
       "      <td>867</td>\n",
       "      <td>5633</td>\n",
       "      <td>758</td>\n",
       "      <td>20103</td>\n",
       "      <td>0.020104</td>\n",
       "      <td>0.020068</td>\n",
       "      <td>0.020068</td>\n",
       "    </tr>\n",
       "    <tr>\n",
       "      <th>3</th>\n",
       "      <td>3</td>\n",
       "      <td>None</td>\n",
       "      <td>987303</td>\n",
       "      <td>2251</td>\n",
       "      <td>572</td>\n",
       "      <td>5515</td>\n",
       "      <td>558</td>\n",
       "      <td>6716</td>\n",
       "      <td>534</td>\n",
       "      <td>0.0</td>\n",
       "      <td>2773</td>\n",
       "      <td>20661</td>\n",
       "      <td>1402</td>\n",
       "      <td>5515</td>\n",
       "      <td>558</td>\n",
       "      <td>20661</td>\n",
       "      <td>0.020662</td>\n",
       "      <td>0.020625</td>\n",
       "      <td>0.020625</td>\n",
       "    </tr>\n",
       "    <tr>\n",
       "      <th>4</th>\n",
       "      <td>4</td>\n",
       "      <td>None</td>\n",
       "      <td>986763</td>\n",
       "      <td>2332</td>\n",
       "      <td>551</td>\n",
       "      <td>5427</td>\n",
       "      <td>496</td>\n",
       "      <td>7263</td>\n",
       "      <td>541</td>\n",
       "      <td>0.0</td>\n",
       "      <td>3325</td>\n",
       "      <td>21157</td>\n",
       "      <td>1943</td>\n",
       "      <td>5427</td>\n",
       "      <td>496</td>\n",
       "      <td>21157</td>\n",
       "      <td>0.021158</td>\n",
       "      <td>0.021120</td>\n",
       "      <td>0.021120</td>\n",
       "    </tr>\n",
       "    <tr>\n",
       "      <th>...</th>\n",
       "      <td>...</td>\n",
       "      <td>...</td>\n",
       "      <td>...</td>\n",
       "      <td>...</td>\n",
       "      <td>...</td>\n",
       "      <td>...</td>\n",
       "      <td>...</td>\n",
       "      <td>...</td>\n",
       "      <td>...</td>\n",
       "      <td>...</td>\n",
       "      <td>...</td>\n",
       "      <td>...</td>\n",
       "      <td>...</td>\n",
       "      <td>...</td>\n",
       "      <td>...</td>\n",
       "      <td>...</td>\n",
       "      <td>...</td>\n",
       "      <td>...</td>\n",
       "      <td>...</td>\n",
       "    </tr>\n",
       "    <tr>\n",
       "      <th>495</th>\n",
       "      <td>495</td>\n",
       "      <td>None</td>\n",
       "      <td>883024</td>\n",
       "      <td>134</td>\n",
       "      <td>26</td>\n",
       "      <td>292</td>\n",
       "      <td>27</td>\n",
       "      <td>118336</td>\n",
       "      <td>29</td>\n",
       "      <td>0.0</td>\n",
       "      <td>107339</td>\n",
       "      <td>127345</td>\n",
       "      <td>113288</td>\n",
       "      <td>292</td>\n",
       "      <td>27</td>\n",
       "      <td>127345</td>\n",
       "      <td>0.127346</td>\n",
       "      <td>0.127119</td>\n",
       "      <td>0.127119</td>\n",
       "    </tr>\n",
       "    <tr>\n",
       "      <th>496</th>\n",
       "      <td>496</td>\n",
       "      <td>None</td>\n",
       "      <td>882999</td>\n",
       "      <td>133</td>\n",
       "      <td>25</td>\n",
       "      <td>289</td>\n",
       "      <td>26</td>\n",
       "      <td>118365</td>\n",
       "      <td>29</td>\n",
       "      <td>0.0</td>\n",
       "      <td>107364</td>\n",
       "      <td>127372</td>\n",
       "      <td>113317</td>\n",
       "      <td>289</td>\n",
       "      <td>26</td>\n",
       "      <td>127372</td>\n",
       "      <td>0.127373</td>\n",
       "      <td>0.127145</td>\n",
       "      <td>0.127145</td>\n",
       "    </tr>\n",
       "    <tr>\n",
       "      <th>497</th>\n",
       "      <td>497</td>\n",
       "      <td>None</td>\n",
       "      <td>882973</td>\n",
       "      <td>132</td>\n",
       "      <td>25</td>\n",
       "      <td>287</td>\n",
       "      <td>26</td>\n",
       "      <td>118394</td>\n",
       "      <td>28</td>\n",
       "      <td>0.0</td>\n",
       "      <td>107390</td>\n",
       "      <td>127399</td>\n",
       "      <td>113346</td>\n",
       "      <td>287</td>\n",
       "      <td>26</td>\n",
       "      <td>127399</td>\n",
       "      <td>0.127399</td>\n",
       "      <td>0.127172</td>\n",
       "      <td>0.127172</td>\n",
       "    </tr>\n",
       "    <tr>\n",
       "      <th>498</th>\n",
       "      <td>498</td>\n",
       "      <td>None</td>\n",
       "      <td>882948</td>\n",
       "      <td>131</td>\n",
       "      <td>25</td>\n",
       "      <td>285</td>\n",
       "      <td>26</td>\n",
       "      <td>118422</td>\n",
       "      <td>28</td>\n",
       "      <td>0.0</td>\n",
       "      <td>107415</td>\n",
       "      <td>127425</td>\n",
       "      <td>113375</td>\n",
       "      <td>285</td>\n",
       "      <td>26</td>\n",
       "      <td>127425</td>\n",
       "      <td>0.127426</td>\n",
       "      <td>0.127198</td>\n",
       "      <td>0.127198</td>\n",
       "    </tr>\n",
       "    <tr>\n",
       "      <th>499</th>\n",
       "      <td>499</td>\n",
       "      <td>None</td>\n",
       "      <td>882923</td>\n",
       "      <td>130</td>\n",
       "      <td>25</td>\n",
       "      <td>283</td>\n",
       "      <td>26</td>\n",
       "      <td>118451</td>\n",
       "      <td>28</td>\n",
       "      <td>0.0</td>\n",
       "      <td>107441</td>\n",
       "      <td>127452</td>\n",
       "      <td>113403</td>\n",
       "      <td>283</td>\n",
       "      <td>26</td>\n",
       "      <td>127452</td>\n",
       "      <td>0.127452</td>\n",
       "      <td>0.127225</td>\n",
       "      <td>0.127225</td>\n",
       "    </tr>\n",
       "  </tbody>\n",
       "</table>\n",
       "<p>500 rows × 19 columns</p>\n",
       "</div>"
      ],
      "text/plain": [
       "       t dates       S     E  E_d     I   I_d       R  R_d  Flux    E_ac  \\\n",
       "0      0  None  989000  1788  894  5999  3000    5000    0   0.0     894   \n",
       "1      1  None  988417  1991  695  5789  1345    5588  371   0.0    1589   \n",
       "2      2  None  987853  2141  611  5633   758    6159  496   0.0    2201   \n",
       "3      3  None  987303  2251  572  5515   558    6716  534   0.0    2773   \n",
       "4      4  None  986763  2332  551  5427   496    7263  541   0.0    3325   \n",
       "..   ...   ...     ...   ...  ...   ...   ...     ...  ...   ...     ...   \n",
       "495  495  None  883024   134   26   292    27  118336   29   0.0  107339   \n",
       "496  496  None  882999   133   25   289    26  118365   29   0.0  107364   \n",
       "497  497  None  882973   132   25   287    26  118394   28   0.0  107390   \n",
       "498  498  None  882948   131   25   285    26  118422   28   0.0  107415   \n",
       "499  499  None  882923   130   25   283    26  118451   28   0.0  107441   \n",
       "\n",
       "       I_ac    R_ac  I_det  I_d_det  I_ac_det  prevalence_total  \\\n",
       "0     18000       0   5999     3000     18000          0.018000   \n",
       "1     19345     371   5789     1345     19345          0.019345   \n",
       "2     20103     867   5633      758     20103          0.020104   \n",
       "3     20661    1402   5515      558     20661          0.020662   \n",
       "4     21157    1943   5427      496     21157          0.021158   \n",
       "..      ...     ...    ...      ...       ...               ...   \n",
       "495  127345  113288    292       27    127345          0.127346   \n",
       "496  127372  113317    289       26    127372          0.127373   \n",
       "497  127399  113346    287       26    127399          0.127399   \n",
       "498  127425  113375    285       26    127425          0.127426   \n",
       "499  127452  113403    283       26    127452          0.127452   \n",
       "\n",
       "     prevalence_susc  prevalence_det  \n",
       "0           0.017968        0.017968  \n",
       "1           0.019311        0.019311  \n",
       "2           0.020068        0.020068  \n",
       "3           0.020625        0.020625  \n",
       "4           0.021120        0.021120  \n",
       "..               ...             ...  \n",
       "495         0.127119        0.127119  \n",
       "496         0.127145        0.127145  \n",
       "497         0.127172        0.127172  \n",
       "498         0.127198        0.127198  \n",
       "499         0.127225        0.127225  \n",
       "\n",
       "[500 rows x 19 columns]"
      ]
     },
     "execution_count": 7,
     "metadata": {},
     "output_type": "execute_result"
    }
   ],
   "source": [
    "sims.sims[0,0].results"
   ]
  },
  {
   "cell_type": "markdown",
   "metadata": {},
   "source": [
    "# kwargs"
   ]
  },
  {
   "cell_type": "code",
   "execution_count": null,
   "metadata": {},
   "outputs": [],
   "source": [
    "sims2 = CV19SIM(cfg,I_det=[5000,8000,10000],population=[100000,500000,1000000])"
   ]
  },
  {
   "cell_type": "code",
   "execution_count": null,
   "metadata": {},
   "outputs": [],
   "source": [
    "start = time.time()\n",
    "sims2.solve()\n",
    "stop = time.time()\n",
    "print('Elapsed time = '+str(stop-start)+' seconds')"
   ]
  },
  {
   "cell_type": "code",
   "execution_count": null,
   "metadata": {},
   "outputs": [],
   "source": [
    "sims2.sims[0,1,1,1].results"
   ]
  },
  {
   "cell_type": "markdown",
   "metadata": {},
   "source": [
    "# Single simulation"
   ]
  },
  {
   "cell_type": "code",
   "execution_count": null,
   "metadata": {},
   "outputs": [],
   "source": [
    "ls"
   ]
  },
  {
   "cell_type": "code",
   "execution_count": null,
   "metadata": {},
   "outputs": [],
   "source": [
    "cfgfile = '../config_files/SEIR.toml'\n",
    "cfg = toml.load(cfgfile)"
   ]
  },
  {
   "cell_type": "code",
   "execution_count": null,
   "metadata": {},
   "outputs": [],
   "source": [
    "sims3 = CV19SIM(cfg)"
   ]
  },
  {
   "cell_type": "code",
   "execution_count": null,
   "metadata": {},
   "outputs": [],
   "source": [
    "sims3.solve()"
   ]
  },
  {
   "cell_type": "code",
   "execution_count": null,
   "metadata": {},
   "outputs": [],
   "source": [
    "sim = sims3.sims[0]"
   ]
  },
  {
   "cell_type": "code",
   "execution_count": null,
   "metadata": {},
   "outputs": [],
   "source": [
    "plt.plot(sim.t,sim.S,label='S')\n",
    "plt.plot(sim.t,sim.E,label='E')\n",
    "plt.plot(sim.t,sim.I,label='I')\n",
    "plt.plot(sim.t,sim.R,label='R')\n",
    "plt.legend(loc=0)\n",
    "plt.show()"
   ]
  },
  {
   "cell_type": "code",
   "execution_count": null,
   "metadata": {},
   "outputs": [],
   "source": [
    "def seno(t):\n",
    "    return 0.1*np.sin(t) + 0.1"
   ]
  },
  {
   "cell_type": "code",
   "execution_count": null,
   "metadata": {},
   "outputs": [],
   "source": [
    "sims3 = CV19SIM(cfg,beta=seno)"
   ]
  },
  {
   "cell_type": "code",
   "execution_count": null,
   "metadata": {},
   "outputs": [],
   "source": [
    "sims3.solve()"
   ]
  },
  {
   "cell_type": "code",
   "execution_count": null,
   "metadata": {},
   "outputs": [],
   "source": [
    "sims3.sims[0].results"
   ]
  },
  {
   "cell_type": "code",
   "execution_count": null,
   "metadata": {},
   "outputs": [],
   "source": [
    "for i in sims3.sims:\n",
    "    plt.plot(i.t,i.I)\n"
   ]
  },
  {
   "cell_type": "code",
   "execution_count": null,
   "metadata": {},
   "outputs": [],
   "source": [
    "plt.plot(sim.t,sim.S,label='S')\n",
    "plt.plot(sim.t,sim.E,label='E')\n",
    "plt.plot(sim.t,sim.I,label='I')\n",
    "plt.plot(sim.t,sim.R,label='R')\n",
    "plt.legend(loc=0)\n",
    "plt.show()"
   ]
  },
  {
   "cell_type": "markdown",
   "metadata": {},
   "source": [
    "# Value copies\n",
    "When we want to run arrays of values using the same value for 2 different parameters."
   ]
  },
  {
   "cell_type": "code",
   "execution_count": null,
   "metadata": {},
   "outputs": [],
   "source": [
    "cfgfile = '../config_files/SEIR.toml'\n",
    "cfg = toml.load(cfgfile)"
   ]
  },
  {
   "cell_type": "code",
   "execution_count": null,
   "metadata": {},
   "outputs": [],
   "source": [
    "sims6 = CV19SIM(cfg,tE_I=[1,2,3],tI_R='tE_I')"
   ]
  },
  {
   "cell_type": "code",
   "execution_count": null,
   "metadata": {},
   "outputs": [],
   "source": [
    "sims6.solve()"
   ]
  },
  {
   "cell_type": "markdown",
   "metadata": {},
   "source": [
    "# SEIRHVD"
   ]
  },
  {
   "cell_type": "code",
   "execution_count": null,
   "metadata": {},
   "outputs": [],
   "source": [
    "cfgfile = 'cfg/SEIRHVD.toml'\n",
    "cfg = toml.load(cfgfile)\n",
    "sims4 = CV19SIM(cfg,model='SEIRHVD')"
   ]
  },
  {
   "cell_type": "code",
   "execution_count": null,
   "metadata": {},
   "outputs": [],
   "source": [
    "sims4.solve()"
   ]
  },
  {
   "cell_type": "code",
   "execution_count": null,
   "metadata": {},
   "outputs": [],
   "source": [
    "plt.plot(sims4.sims[0].t,sims4.sims[0].S,label='S')\n",
    "plt.plot(sims4.sims[0].t,sims4.sims[0].E,label='E')\n",
    "plt.plot(sims4.sims[0].t,sims4.sims[0].I,label='I')\n",
    "plt.plot(sims4.sims[0].t,sims4.sims[0].R,label='R')\n",
    "plt.xlim(0,150)\n",
    "plt.legend(loc=0)"
   ]
  },
  {
   "cell_type": "code",
   "execution_count": null,
   "metadata": {},
   "outputs": [],
   "source": [
    "plt.plot(sims4.sims[0].t,sims4.sims[0].H,label='H')\n",
    "plt.plot(sims4.sims[0].t,sims4.sims[0].D,label='D')\n",
    "plt.xlim(0,150)\n",
    "plt.legend(loc=0)"
   ]
  },
  {
   "cell_type": "markdown",
   "metadata": {},
   "source": [
    "## Multiple simulations with array of parameters"
   ]
  },
  {
   "cell_type": "code",
   "execution_count": 9,
   "metadata": {},
   "outputs": [],
   "source": [
    "cfgfile = 'cfg/SEIRHVD.toml'\n",
    "cfg = toml.load(cfgfile)\n",
    "sims5 = CV19SIM(cfg,model='SEIRHVD',pH_D = list(np.linspace(0, 0.5, 10)),H_cap = 10000)"
   ]
  },
  {
   "cell_type": "code",
   "execution_count": 10,
   "metadata": {},
   "outputs": [],
   "source": [
    "sims5.solve()"
   ]
  },
  {
   "cell_type": "code",
   "execution_count": 14,
   "metadata": {},
   "outputs": [],
   "source": [
    "for sim in sims5.sims:\n",
    "    plt.plot(sim.t,sim.D,label='pH_D='+str(np.around(sim.pH_D(0),1)))\n",
    "plt.legend(loc=0)\n",
    "plt.show()"
   ]
  },
  {
   "cell_type": "markdown",
   "metadata": {},
   "source": [
    "Nota: Este ejemplo hace que se acumule más gente en el hospital cuando baja la tasa de mortalidad, eso se podrá corregir con el nuevo parámetro CFR (not ready). "
   ]
  },
  {
   "cell_type": "code",
   "execution_count": null,
   "metadata": {},
   "outputs": [],
   "source": [
    "cfgfile = '../config_files/SEIR.toml'"
   ]
  },
  {
   "cell_type": "code",
   "execution_count": null,
   "metadata": {},
   "outputs": [],
   "source": [
    "sims = CV19SIM(cfgfile,beta=[0.18,0.2,0.22])"
   ]
  },
  {
   "cell_type": "code",
   "execution_count": null,
   "metadata": {},
   "outputs": [],
   "source": [
    "sims.solve()"
   ]
  },
  {
   "cell_type": "code",
   "execution_count": null,
   "metadata": {},
   "outputs": [],
   "source": [
    "for i in sims.sims:\n",
    "    plt.plot(i.t,i.I,label='Beta='+str(i.beta(0)))\n",
    "    \n",
    "plt.legend(loc=0)"
   ]
  },
  {
   "cell_type": "code",
   "execution_count": null,
   "metadata": {},
   "outputs": [],
   "source": []
  }
 ],
 "metadata": {
  "kernelspec": {
   "display_name": "Python 3",
   "language": "python",
   "name": "python3"
  },
  "language_info": {
   "codemirror_mode": {
    "name": "ipython",
    "version": 3
   },
   "file_extension": ".py",
   "mimetype": "text/x-python",
   "name": "python",
   "nbconvert_exporter": "python",
   "pygments_lexer": "ipython3",
   "version": "3.8.3"
  }
 },
 "nbformat": 4,
 "nbformat_minor": 4
}
