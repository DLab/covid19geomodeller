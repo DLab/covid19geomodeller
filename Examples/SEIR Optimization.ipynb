{
 "cells": [
  {
   "cell_type": "markdown",
   "metadata": {},
   "source": [
    "# SEIR Optimization\n",
    "\n",
    "Basado en pygmo:\n",
    "https://esa.github.io/pygmo2/"
   ]
  },
  {
   "cell_type": "code",
   "execution_count": null,
   "metadata": {},
   "outputs": [],
   "source": [
    "import sys\n",
    "from pathlib import Path\n",
    "sys.path.insert(1, '../src/SEIR/')\n",
    "sys.path.insert(1, '../src/utils/')\n",
    "\n",
    "from datetime import datetime\n",
    "import numpy as np\n",
    "from numpy import linalg as LA\n",
    "import pygmo as pg\n",
    "import pandas as pd\n",
    "from time import time\n",
    "\n",
    "import platform\n",
    "OS = platform.system()\n",
    "\n",
    "import matplotlib.pyplot as plt\n",
    "if OS == 'Linux':    \n",
    "    %matplotlib tk\n",
    "    print('Linux')\n",
    "elif OS == 'Windows':\n",
    "    %matplotlib qt\n",
    "    print('Windows')\n",
    "else:\n",
    "    print('OS not detected :-|')\n",
    "\n",
    "\n",
    "from class_SEIR import SEIR\n",
    "from importdata import ImportData as importdata\n",
    "from Quarantine import Quarantine"
   ]
  },
  {
   "cell_type": "markdown",
   "metadata": {},
   "source": [
    "## Create Pygmo Optimization Object"
   ]
  },
  {
   "cell_type": "code",
   "execution_count": null,
   "metadata": {},
   "outputs": [],
   "source": [
    "class SEIROptimization:\n",
    "    def __init__(self,Ir,tr,I_ac_r,I_ac_tr,tsim,alpha,population,bounds):\n",
    "        self.Ir = Ir\n",
    "        self.tr = tr\n",
    "        self.I_ac_r = I_ac_r\n",
    "        self.I_ac_tr = I_ac_tr\n",
    "        self.tsim = tsim        \n",
    "        self.alpha = alpha\n",
    "        self.population = population        \n",
    "        self.bounds = bounds\n",
    "    def fitness(self,x):        \n",
    "        sol = SEIR(tsim=self.tsim,alpha=self.alpha,beta=x[0],mu=x[1],k=x[2],I=self.Ir[0],I_ac=self.I_ac_r[0],population=self.population)\n",
    "        sol.integr_sci(0,tsim,0.1)                \n",
    "        idx=np.searchsorted(sol.t,self.tr)\n",
    "        res = LA.norm(self.Ir-sol.I[idx])\n",
    "        return([res])\n",
    "\n",
    "    def get_bounds(self):\n",
    "        return(self.bounds)\n",
    "\n",
    "    def set_bounds(self,bounds):\n",
    "        self.bounds = bounds\n",
    "        return(self.bounds)\n"
   ]
  },
  {
   "cell_type": "markdown",
   "metadata": {},
   "source": [
    "## Import Data"
   ]
  },
  {
   "cell_type": "code",
   "execution_count": null,
   "metadata": {},
   "outputs": [],
   "source": [
    "# Import data: \n",
    "tstate = '13'\n",
    "initdate = datetime(2020,5,15)\n",
    "\n",
    "Ir,tr,Ir_dates = importdata.importActiveInfected(tstate = tstate, initdate = initdate)\n",
    "I_ac_r,I_ac_tr,I_ac_dates = importdata.importAcumulatedInfected(tstate = tstate, initdate = initdate)\n",
    "population = importdata.importPopulation(tstate = tstate)\n"
   ]
  },
  {
   "cell_type": "markdown",
   "metadata": {},
   "source": [
    "## Optimization Params"
   ]
  },
  {
   "cell_type": "code",
   "execution_count": null,
   "metadata": {},
   "outputs": [],
   "source": [
    "tsim = 1000\n",
    "mob = 0.6\n",
    "iqt = 0\n",
    "alpha = Quarantine(mob,iqt=iqt).alpha\n",
    "\n",
    "# Params to find\n",
    "# beta,mu,k\n",
    "lb=[0.01,0.1, 0]\n",
    "ub=[   1,  2,30]\n",
    "bounds = [lb,ub]"
   ]
  },
  {
   "cell_type": "markdown",
   "metadata": {},
   "source": [
    "## Run Optimization"
   ]
  },
  {
   "cell_type": "code",
   "execution_count": null,
   "metadata": {},
   "outputs": [],
   "source": [
    "opti = SEIROptimization(Ir=Ir,tr=tr,I_ac_r=I_ac_r,I_ac_tr=I_ac_tr,tsim=tsim,alpha=alpha,population=population,bounds=bounds)\n",
    "algo = pg.algorithm(pg.pso(gen = 20))\n",
    "pop = pg.population(opti,50)"
   ]
  },
  {
   "cell_type": "code",
   "execution_count": null,
   "metadata": {},
   "outputs": [],
   "source": [
    "t0 = time()\n",
    "pop = algo.evolve(pop)\n",
    "t1 = time()\n",
    "print('Optimization takes %f seconds' %(t1-t0))\n",
    "print('Fitness Value')\n",
    "print(pop.champion_f)\n",
    "print('Optimal arguments')\n",
    "print(pop.champion_x)"
   ]
  },
  {
   "cell_type": "code",
   "execution_count": null,
   "metadata": {},
   "outputs": [],
   "source": [
    "pop.champion_x"
   ]
  },
  {
   "cell_type": "markdown",
   "metadata": {},
   "source": [
    "# Single simulation example"
   ]
  },
  {
   "cell_type": "code",
   "execution_count": null,
   "metadata": {},
   "outputs": [],
   "source": [
    "tsim = 1000\n",
    "beta = 0.4\n",
    "k = 1\n",
    "mob = 0.6\n",
    "alpha = Quarantine(mob).alpha\n",
    "population = 1000000"
   ]
  },
  {
   "cell_type": "code",
   "execution_count": null,
   "metadata": {},
   "outputs": [],
   "source": [
    "simulation = SEIR(tsim=tsim,alpha=alpha,beta=beta,mu=1,k=k,I=Ir[0],I_ac=I_ac_r[0],population=population)"
   ]
  },
  {
   "cell_type": "code",
   "execution_count": null,
   "metadata": {
    "scrolled": false
   },
   "outputs": [],
   "source": [
    "simulation.integr_sci(0,tsim,0.1)"
   ]
  },
  {
   "cell_type": "markdown",
   "metadata": {},
   "source": [
    "## Plot =)"
   ]
  },
  {
   "cell_type": "code",
   "execution_count": null,
   "metadata": {},
   "outputs": [],
   "source": [
    "endDay = 100\n",
    "plt.plot(simulation.t[:endDay],simulation.S[:endDay],label='S')\n",
    "plt.plot(simulation.t[:endDay],simulation.E[:endDay],label='E')\n",
    "plt.plot(simulation.t[:endDay],simulation.I[:endDay],label='I')\n",
    "plt.plot(simulation.t[:endDay],simulation.R[:endDay],label='R')\n",
    "plt.legend(loc=0)\n",
    "plt.show()"
   ]
  },
  {
   "cell_type": "code",
   "execution_count": null,
   "metadata": {},
   "outputs": [],
   "source": []
  }
 ],
 "metadata": {
  "kernelspec": {
   "display_name": "Python 3.8.2 64-bit",
   "language": "python",
   "name": "python38264bit48ae65e862f64697a29185f9fa581b02"
  },
  "language_info": {
   "codemirror_mode": {
    "name": "ipython",
    "version": 3
   },
   "file_extension": ".py",
   "mimetype": "text/x-python",
   "name": "python",
   "nbconvert_exporter": "python",
   "pygments_lexer": "ipython3",
   "version": "3.8.2"
  }
 },
 "nbformat": 4,
 "nbformat_minor": 4
}
