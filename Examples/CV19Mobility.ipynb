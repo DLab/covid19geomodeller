{
 "cells": [
  {
   "attachments": {},
   "cell_type": "markdown",
   "metadata": {},
   "source": [
    "# CV19Mobility: Mobility Dynamics Library\n",
    "This jupyter notebook shows the basic use of the cv19mobilty module, which is used for establishing the mobility dynamics necessary for the meta-populational models. \n",
    "This library is able to:\n",
    "1. Create artificial mobility matrix based in well-studied mobility models\n",
    "2. Create dynamic mobility patterns for simulating the differences in movement throughout the day\n",
    "3. Importing and exporting mobility matrix and functions \n",
    "4. Create artificial distance matrix for using them on the creation of the models\n",
    "\n",
    "All the random generator functions can be set using a seed in order to be able to repeat the experiments getting the same results. "
   ]
  },
  {
   "cell_type": "code",
   "execution_count": 1,
   "metadata": {},
   "outputs": [],
   "source": [
    "import cv19gm.utils.cv19mobility as cv19mobility\n",
    "import numpy as np\n",
    "# visualization\n",
    "import matplotlib.pyplot as plt\n",
    "from ipywidgets import interact, IntSlider, FloatSlider"
   ]
  },
  {
   "attachments": {},
   "cell_type": "markdown",
   "metadata": {},
   "source": [
    "## Distances \n",
    "The distances can be imported as a numpy array, or can be generated randomly using the `create_random_distances_matrix()` function. "
   ]
  },
  {
   "cell_type": "code",
   "execution_count": 2,
   "metadata": {},
   "outputs": [],
   "source": [
    "seed = 1"
   ]
  },
  {
   "cell_type": "code",
   "execution_count": 3,
   "metadata": {},
   "outputs": [
    {
     "name": "stdout",
     "output_type": "stream",
     "text": [
      "[[  0.         702.55031902 476.39454266 716.01998489 554.5431592 ]\n",
      " [702.55031902   0.         499.98766355 374.72680784 196.28473883]\n",
      " [476.39454266 499.98766355   0.         615.98230269 424.48325677]\n",
      " [716.01998489 374.72680784 615.98230269   0.         640.44900662]\n",
      " [554.5431592  196.28473883 424.48325677 640.44900662   0.        ]]\n"
     ]
    }
   ],
   "source": [
    "# Input as set of populations\n",
    "populations = np.array([10000, 20000, 25000, 30000, 40000])  # Population sizes for each region\n",
    "# Creates a random distances based on the given populations. \n",
    "distances = cv19mobility.create_random_distances_matrix(size = len(populations), min_distance = 50, max_distance= 1000,seed = seed)\n",
    "print(distances)"
   ]
  },
  {
   "attachments": {},
   "cell_type": "markdown",
   "metadata": {},
   "source": [
    "## Static Matrix\n",
    "Generates a static matrix representing the daily flux of people between the different populations. This can be done using one of the 3 implemented models: \n",
    "* **Gravity model:** The gravity model, inspired by Newton's law of gravitation, is a widely used spatial interaction model in various fields, such as transportation, human migration, and trade. The model assumes that the interaction between two regions (e.g., the number of people moving between them) is directly proportional to the product of their populations (or other attributes, like economic size) and inversely proportional to some power of the distance between them.\n",
    "* **Radiation model:** The radiation model is an alternative to the gravity model for estimating spatial interactions. It was proposed to overcome some of the limitations of the gravity model, mainly the need for calibration of parameters (alpha and beta). The radiation model is derived from a probabilistic framework and does not require any free parameters. It is based on the concept of intervening opportunities, which means that the interaction between two regions is determined by the number of opportunities (e.g., jobs) that are available in other regions located between them.\n",
    "\n",
    "* **Random model:** Random matrix that based on a uniform probability for moving the specified fraction of the population. \n",
    "\n",
    "In case there's no distance matrix, the method will call the `create_random_distances_matrix()` function for creating a distances matrix, using the given seed if there is one. \n",
    "\n",
    "This matrix can be created using the general method `create_mobility_matrix()` or instancing the specific method of each model. "
   ]
  },
  {
   "cell_type": "code",
   "execution_count": 4,
   "metadata": {},
   "outputs": [
    {
     "data": {
      "text/plain": [
       "array([[  0,  31,  43,  50,  74],\n",
       "       [  4,   0,  12,  14, 368],\n",
       "       [ 66, 134,   0, 117, 182],\n",
       "       [ 71, 150, 109,   0, 268],\n",
       "       [ 19, 697,  32,  50,   0]])"
      ]
     },
     "execution_count": 4,
     "metadata": {},
     "output_type": "execute_result"
    }
   ],
   "source": [
    "cv19mobility.create_mobility_matrix(populations)"
   ]
  },
  {
   "cell_type": "code",
   "execution_count": 5,
   "metadata": {},
   "outputs": [
    {
     "name": "stdout",
     "output_type": "stream",
     "text": [
      "Gravity model mobility matrix:\n",
      "[[   0  734 1337 1080 1847]\n",
      " [ 426    0 1483 2348 5740]\n",
      " [1286 2455    0 3009 5749]\n",
      " [1240 4637 3590    0 5531]\n",
      " [1640 8771 5307 4279    0]]\n",
      "Radiation model mobility matrix:\n",
      "[[  0  76  41  51  30]\n",
      " [261   0  74  46  18]\n",
      " [229 120   0  98  51]\n",
      " [327  85 112   0  73]\n",
      " [428  75 131 164   0]]\n",
      "Random mobility model mobility matrix:\n",
      "[[  0  30   8 150  10]\n",
      " [ 15   0 242  67  74]\n",
      " [  7 184   0 252  55]\n",
      " [359  44 168   0  27]\n",
      " [156  78 116 448   0]]\n"
     ]
    }
   ],
   "source": [
    "radiation_matrix = cv19mobility.create_mobility_matrix(populations, model='radiation',distances=distances)\n",
    "gravity_matrix = cv19mobility.create_mobility_matrix(populations, model='gravity', seed=seed, alpha=1,beta=1,fraction=0.5)\n",
    "random_matrix = cv19mobility.create_mobility_matrix(populations, model='random',seed=seed)\n",
    "\n",
    "print(\"Gravity model mobility matrix:\")\n",
    "print(gravity_matrix)\n",
    "print(\"Radiation model mobility matrix:\")\n",
    "print(radiation_matrix)\n",
    "print(\"Random mobility model mobility matrix:\")\n",
    "print(random_matrix)"
   ]
  },
  {
   "cell_type": "code",
   "execution_count": 6,
   "metadata": {},
   "outputs": [
    {
     "data": {
      "text/plain": [
       "array([[    0,   572,  3047,  4049,  2331],\n",
       "       [ 1190,     0,   488,  7820, 10500],\n",
       "       [ 5733,  1419,     0, 14043,  3804],\n",
       "       [ 1200,  2189,  6623,     0, 19987],\n",
       "       [  389, 10831, 17130, 11648,     0]])"
      ]
     },
     "execution_count": 6,
     "metadata": {},
     "output_type": "execute_result"
    }
   ],
   "source": [
    "cv19mobility.random_mobility_model(populations,fraction=1) #, seed=seed)"
   ]
  },
  {
   "attachments": {},
   "cell_type": "markdown",
   "metadata": {},
   "source": [
    "## Dynamic Matrix\n",
    "The library is cable to produce dynamic matrix, which are functions of time that take into account the variability in movement throughouit the day. For this, the model takes a static matrix and applies a dynamic function following one of the following models:\n",
    "1. **sinusoidal_mobility_pattern:** A time-varying mobility matrix function using a sinusoidal pattern\n",
    "2. **rush_hour_mobility_pattern:** Creates a time-varying mobility matrix function using a rush hour pattern, which has 2 peaks a day at the specified hopurs\n",
    "\n",
    "The dynamic matrix can be created using the general constructor `create_dynamic_mobility()` or using the method of each specific model. "
   ]
  },
  {
   "cell_type": "code",
   "execution_count": 7,
   "metadata": {},
   "outputs": [],
   "source": [
    "def visualize_dynamic_patter(dynamic_pattern,min=0, max=24, step=0.5):\n",
    "    vmin = np.min([dynamic_pattern(i*step)for i in np.linspace(min,max,int((max-min)/step))])\n",
    "    vmax = np.max([dynamic_pattern(i*step)for i in np.linspace(min,max,int((max-min)/step))])\n",
    "# Visualization function\n",
    "    def plot_mobility_matrix(t):\n",
    "        mobility_matrix_t = dynamic_pattern(t/24)\n",
    "        plt.figure(figsize=(8, 6))\n",
    "        plt.imshow(mobility_matrix_t, cmap='viridis', origin='lower',vmin=vmin, vmax=vmax)\n",
    "        plt.colorbar(label='Mobility')\n",
    "        plt.title(f\"Time-varying Mobility Matrix at t = {t} hours\")\n",
    "        plt.xlabel(\"Destination Region\")\n",
    "        plt.ylabel(\"Origin Region\")\n",
    "        plt.xticks(range(len(dynamic_pattern(0))))\n",
    "        plt.yticks(range(len(dynamic_pattern(0))))\n",
    "        plt.show()\n",
    "\n",
    "    # Interactive plot\n",
    "    interact(plot_mobility_matrix, t=FloatSlider(min=min, max=max, step=step, value=0, continuous_update=False))"
   ]
  },
  {
   "attachments": {},
   "cell_type": "markdown",
   "metadata": {},
   "source": [
    "### Sinusoidal pattern"
   ]
  },
  {
   "cell_type": "code",
   "execution_count": 8,
   "metadata": {},
   "outputs": [],
   "source": [
    "test = cv19mobility.symmetric_mobility_pattern(gravity_matrix,seed=seed)"
   ]
  },
  {
   "cell_type": "code",
   "execution_count": 9,
   "metadata": {},
   "outputs": [
    {
     "data": {
      "text/plain": [
       "array([[   0,  734, 1337, 1080, 1847],\n",
       "       [ 426,    0, 1483, 2348, 5740],\n",
       "       [1286, 2455,    0, 3009, 5749],\n",
       "       [1240, 4637, 3590,    0, 5531],\n",
       "       [1640, 8771, 5307, 4279,    0]])"
      ]
     },
     "execution_count": 9,
     "metadata": {},
     "output_type": "execute_result"
    }
   ],
   "source": [
    "test(0.1)"
   ]
  },
  {
   "cell_type": "code",
   "execution_count": 10,
   "metadata": {},
   "outputs": [],
   "source": [
    "sinusoidal_pattern = cv19mobility.create_dynamic_mobility(mobility_model='radiation', dynamic_pattern='sinusoidal', populations=populations,seed=seed, fraction=0.5)"
   ]
  },
  {
   "cell_type": "code",
   "execution_count": 11,
   "metadata": {},
   "outputs": [
    {
     "data": {
      "text/plain": [
       "5317.029119044954"
      ]
     },
     "execution_count": 11,
     "metadata": {},
     "output_type": "execute_result"
    }
   ],
   "source": [
    "min=0\n",
    "max=24\n",
    "step=0.5\n",
    "np.max([sinusoidal_pattern(i*step)for i in np.linspace(min,max,int((max-min)/step))])"
   ]
  },
  {
   "cell_type": "code",
   "execution_count": 12,
   "metadata": {},
   "outputs": [
    {
     "data": {
      "application/vnd.jupyter.widget-view+json": {
       "model_id": "df060cd30df247b5aa3f689cc4851237",
       "version_major": 2,
       "version_minor": 0
      },
      "text/plain": [
       "interactive(children=(FloatSlider(value=0.0, continuous_update=False, description='t', max=24.0, step=0.5), Ou…"
      ]
     },
     "metadata": {},
     "output_type": "display_data"
    }
   ],
   "source": [
    "visualize_dynamic_patter(sinusoidal_pattern)"
   ]
  },
  {
   "attachments": {},
   "cell_type": "markdown",
   "metadata": {},
   "source": [
    "### Rush-hour pattern"
   ]
  },
  {
   "cell_type": "code",
   "execution_count": 13,
   "metadata": {},
   "outputs": [],
   "source": [
    "rush_hour_pattern = cv19mobility.create_dynamic_mobility(mobility_model='radiation', dynamic_pattern='rush_hour', populations=populations, seed=seed, fraction=0.5)"
   ]
  },
  {
   "cell_type": "code",
   "execution_count": 14,
   "metadata": {},
   "outputs": [
    {
     "data": {
      "application/vnd.jupyter.widget-view+json": {
       "model_id": "dae5eff5b5e54160b03854a291e4b084",
       "version_major": 2,
       "version_minor": 0
      },
      "text/plain": [
       "interactive(children=(FloatSlider(value=0.0, continuous_update=False, description='t', max=24.0, step=0.5), Ou…"
      ]
     },
     "metadata": {},
     "output_type": "display_data"
    }
   ],
   "source": [
    "visualize_dynamic_patter(rush_hour_pattern)"
   ]
  },
  {
   "attachments": {},
   "cell_type": "markdown",
   "metadata": {},
   "source": [
    "### Symmetric pattern"
   ]
  },
  {
   "cell_type": "code",
   "execution_count": 15,
   "metadata": {},
   "outputs": [],
   "source": [
    "symmetric_pattern = cv19mobility.create_dynamic_mobility(mobility_model='radiation', dynamic_pattern='symmetric', populations=populations, seed=seed, fraction=0.5)"
   ]
  },
  {
   "cell_type": "code",
   "execution_count": 16,
   "metadata": {},
   "outputs": [
    {
     "data": {
      "application/vnd.jupyter.widget-view+json": {
       "model_id": "2082d307fbba4d93a2e8a9048464afba",
       "version_major": 2,
       "version_minor": 0
      },
      "text/plain": [
       "interactive(children=(FloatSlider(value=0.0, continuous_update=False, description='t', max=24.0, step=0.5), Ou…"
      ]
     },
     "metadata": {},
     "output_type": "display_data"
    }
   ],
   "source": [
    "visualize_dynamic_patter(symmetric_pattern)"
   ]
  },
  {
   "attachments": {},
   "cell_type": "markdown",
   "metadata": {},
   "source": [
    "# Working with metapopoulational models"
   ]
  },
  {
   "cell_type": "code",
   "execution_count": 17,
   "metadata": {},
   "outputs": [],
   "source": [
    "from cv19gm.models.seir_meta import SEIRMETA"
   ]
  },
  {
   "attachments": {},
   "cell_type": "markdown",
   "metadata": {},
   "source": [
    "We create a SEIR model for a 3 regions world, where only one population has infected individuals. "
   ]
  },
  {
   "cell_type": "code",
   "execution_count": 18,
   "metadata": {},
   "outputs": [],
   "source": [
    "seed = 42\n",
    "cfg = 'cfg/SEIRMETA.toml'\n",
    "populations = np.array([15000, 25000, 40000])\n",
    "Phi = cv19mobility.create_dynamic_mobility(mobility_model='radiation', dynamic_pattern='rush_hour', populations=populations, seed=seed, fraction=0.01)\n",
    "beta = [0.1,0.15,0.13]\n",
    "mu = [1,1,1]\n",
    "I = [10,0,0]\n",
    "I_d = [1,0,0]\n",
    "I_ac = [0,0,0]\n",
    "R = [0,0,0]\n",
    " \n",
    "seir = SEIRMETA(config=cfg,beta=beta,mu=mu,population=populations,I=I,I_d=I_d,R=R,I_ac=I_ac,Phi=Phi,t_end=500)"
   ]
  },
  {
   "cell_type": "code",
   "execution_count": 19,
   "metadata": {},
   "outputs": [],
   "source": [
    "seir.solve()"
   ]
  },
  {
   "cell_type": "code",
   "execution_count": 20,
   "metadata": {},
   "outputs": [
    {
     "data": {
      "image/png": "[encoded data removed]",
      "text/plain": [
       "<Figure size 640x480 with 1 Axes>"
      ]
     },
     "metadata": {},
     "output_type": "display_data"
    }
   ],
   "source": [
    "plt.plot(seir.t,seir.N[0],label='population 1')\n",
    "plt.plot(seir.t,seir.N[1],label='population 2')\n",
    "plt.plot(seir.t,seir.N[2],label='population 3')\n",
    "plt.title('Population Conservation')\n",
    "plt.legend(loc=0)\n",
    "plt.show()"
   ]
  },
  {
   "cell_type": "code",
   "execution_count": 21,
   "metadata": {},
   "outputs": [
    {
     "data": {
      "image/png": "[encoded data removed]",
      "text/plain": [
       "<Figure size 640x480 with 1 Axes>"
      ]
     },
     "metadata": {},
     "output_type": "display_data"
    }
   ],
   "source": [
    "plt.plot(seir.t,seir.I[0],label='population 1')\n",
    "plt.plot(seir.t,seir.I[1],label='population 2')\n",
    "plt.plot(seir.t,seir.I[2],label='population 3')\n",
    "plt.legend(loc=0)\n",
    "plt.title('Active Infected')\n",
    "plt.show()"
   ]
  },
  {
   "cell_type": "code",
   "execution_count": null,
   "metadata": {},
   "outputs": [],
   "source": []
  }
 ],
 "metadata": {
  "kernelspec": {
   "display_name": "base",
   "language": "python",
   "name": "python3"
  },
  "language_info": {
   "codemirror_mode": {
    "name": "ipython",
    "version": 3
   },
   "file_extension": ".py",
   "mimetype": "text/x-python",
   "name": "python",
   "nbconvert_exporter": "python",
   "pygments_lexer": "ipython3",
   "version": "3.8.16"
  },
  "orig_nbformat": 4
 },
 "nbformat": 4,
 "nbformat_minor": 2
}
