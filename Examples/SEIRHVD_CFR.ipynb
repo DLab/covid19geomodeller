{
 "cells": [
  {
   "cell_type": "markdown",
   "metadata": {},
   "source": [
    "# SEIRHVD model example\n",
    "## Work in progress (equations not ready)\n",
    "\\begin{align}\n",
    "\\dot{S} & = S_f - \\alpha\\beta\\frac{SI}{N+k_I I+k_R R} + r_{R\\_S} R\\\\\n",
    "\\dot{E} & = E_f + \\alpha\\beta\\frac{SI}{N+k_I I+k_R R} - E\\frac{1}{t_{E\\_I}} \\\\\n",
    "\\dot{I} & = I_f + E\\frac{1}{t_{E\\_I}} - I\\frac{1}{t_{I\\_R}} \\\\\n",
    "\\dot{R} & = R_f + I\\frac{1}{t_{I\\_R}} - r_{I\\_R} R\\\\\n",
    "\\end{align}\n",
    "Where:  \n",
    "* $S:$ Susceptible\n",
    "* $E:$ Exposed\n",
    "* $I:$ Infectious\n",
    "* $R:$ Removed\n",
    "* $\\alpha:$ Mobilty\n",
    "* $\\beta:$ Infection rate\n",
    "* $N:$ Total population\n",
    "* $t_{E\\_I}:$ # Transition time between exposed and infectious\n",
    "* $t_{I\\_R}:$ # Transition time between infectious and recovered\n",
    "* $r_{R\\_S}:$ Immunity loss rate ($\\frac{1}{t_{R\\_S}}$)  \n",
    "* $S_f,E_f,I_f,R_f:$ External flux\n",
    "* $k_I:$ Infected saturation   \n",
    "* $k_R:$ Immunity shield    \n"
   ]
  },
  {
   "cell_type": "code",
   "execution_count": null,
   "metadata": {},
   "outputs": [],
   "source": [
    "# Util libraries\n",
    "import numpy as np\n",
    "import pandas as pd\n",
    "import matplotlib.pyplot as plt\n",
    "# Adding lib paths\n",
    "\n",
    "# cv19 libraries\n",
    "from cv19gm.models.seirhvd import SEIRHVD  \n",
    "from cv19gm.utils import cv19functions"
   ]
  },
  {
   "cell_type": "code",
   "execution_count": null,
   "metadata": {},
   "outputs": [],
   "source": [
    "# For pop-up plots execute this code (optional)\n",
    "import platform\n",
    "OS = platform.system()\n",
    "\n",
    "if OS == 'Linux':    \n",
    "    %matplotlib tk\n",
    "    print('Linux')\n",
    "elif OS == 'Windows':\n",
    "    %matplotlib qt\n",
    "    print('Windows')\n",
    "elif OS == 'Darwin':\n",
    "    %matplotlib tk\n",
    "    print('Mac (Funciona?)')"
   ]
  },
  {
   "cell_type": "markdown",
   "metadata": {},
   "source": [
    "# Variable CFR "
   ]
  },
  {
   "cell_type": "markdown",
   "metadata": {},
   "source": [
    "## Discrete change\n",
    "* pH_r de 0.7 a 0.6\n",
    "* pH_D de 0.3 a 0.4"
   ]
  },
  {
   "cell_type": "code",
   "execution_count": null,
   "metadata": {},
   "outputs": [],
   "source": [
    "pH_R = cv19functions.events(values=[0.7,0.5],days=[[0,30],[30,500]])\n",
    "pH_D = cv19functions.events(values=[0.3,0.5],days=[[0,30],[30,500]])"
   ]
  },
  {
   "cell_type": "code",
   "execution_count": null,
   "metadata": {},
   "outputs": [],
   "source": [
    "%%capture\n",
    "# Input configuration file\n",
    "config = 'cfg/SEIRHVD.toml'\n",
    "# Build simulation object\n",
    "model1 = SEIRHVD(config = config, H_cap=4000, pH_R = pH_R,pH_D = pH_D)\n",
    "# Simulate (solve ODE)\n",
    "model1.solve()"
   ]
  },
  {
   "cell_type": "code",
   "execution_count": null,
   "metadata": {},
   "outputs": [],
   "source": [
    "t = np.linspace(0,50,1000)\n",
    "plt.plot(t,100*pH_R(t),label='pH_R')\n",
    "plt.plot(t,100*pH_D(t),label='pH_D')\n",
    "plt.plot(t,100*pH_D(t)*model1.pE_Icr(t),label='CFR')\n",
    "plt.legend(loc=0)\n",
    "plt.title('CFR change (%)')\n",
    "plt.show()"
   ]
  },
  {
   "cell_type": "code",
   "execution_count": null,
   "metadata": {},
   "outputs": [],
   "source": [
    "t = model1.t\n",
    "plt.plot(t,100*model1.pH_R(t),label='pH_R')\n",
    "plt.plot(t,100*model1.pH_D(t),label='pH_D')\n",
    "plt.plot(t,100*model1.CFR,label='CFR')\n",
    "plt.xlim(0,50)\n",
    "plt.legend(loc=0)\n",
    "plt.title('CFR change (%)')\n",
    "plt.show()"
   ]
  },
  {
   "cell_type": "markdown",
   "metadata": {},
   "source": [
    "* Nota: la transicion pareciera ocurrir en 2 días, pero tiee que ver con la resolución en la cual se entregan los datos, la transición que utiliza el integrador es \"instantánea\"."
   ]
  },
  {
   "cell_type": "code",
   "execution_count": null,
   "metadata": {},
   "outputs": [],
   "source": [
    "# Plot matplotlib\n",
    "fig, axs = plt.subplots(figsize=(13,9),linewidth=5,edgecolor='black',facecolor=\"white\")\n",
    "axs2 = axs.twinx()\n",
    "\n",
    "axs.plot(model1.t,model1.D_d,color='tab:red',label='Daily deaths')\n",
    "axs.set_ylabel('Deaths',color='tab:red')\n",
    "axs.tick_params(axis='y', labelcolor='tab:red')\n",
    "\n",
    "t = model1.t\n",
    "axs2.plot(t,100*pH_D(t)*model1.pE_Icr(t),color='tab:blue',label='CFR')\n",
    "axs2.set_ylabel('CFR',color='tab:blue')\n",
    "axs2.tick_params(axis='y',labelcolor='tab:blue')\n",
    "\n",
    "axs.set_xlim(0,200)\n",
    "axs2.set_xlim(0,200)\n",
    "fig.legend(loc=8)\n",
    "fig.suptitle('CFR vs Deaths')\n",
    "fig.show()"
   ]
  },
  {
   "cell_type": "markdown",
   "metadata": {},
   "source": [
    "## Continious change\n",
    "* pH_r de 0.7 a 0.6\n",
    "* pH_D de 0.3 a 0.4"
   ]
  },
  {
   "cell_type": "code",
   "execution_count": null,
   "metadata": {},
   "outputs": [],
   "source": [
    "pH_R = cv19functions.sigmoidal_transition(t_init=20,t_end=40,initvalue = 0.7, endvalue = 0.5)\n",
    "pH_D = cv19functions.sigmoidal_transition(t_init=20,t_end=40,initvalue = 0.3, endvalue = 0.5)"
   ]
  },
  {
   "cell_type": "code",
   "execution_count": null,
   "metadata": {},
   "outputs": [],
   "source": [
    "%%capture\n",
    "# Input configuration file\n",
    "config = 'cfg/SEIRHVD.toml'\n",
    "# Build simulation object\n",
    "model2 = SEIRHVD(config = config, H_cap=4000, pH_R = pH_R,pH_D = pH_D)\n",
    "# Simulate (solve ODE)\n",
    "model2.solve()"
   ]
  },
  {
   "cell_type": "code",
   "execution_count": null,
   "metadata": {},
   "outputs": [],
   "source": [
    "t = model2.t\n",
    "plt.plot(t,100*model2.pH_R(t),label='pH_R')\n",
    "plt.plot(t,100*model2.pH_D(t),label='pH_D')\n",
    "plt.plot(t,100*model2.CFR,label='CFR')\n",
    "plt.xlim(0,50)\n",
    "plt.legend(loc=0)\n",
    "plt.title('CFR change (%)')\n",
    "plt.show()"
   ]
  },
  {
   "cell_type": "code",
   "execution_count": null,
   "metadata": {},
   "outputs": [],
   "source": [
    "# Plot matplotlib\n",
    "fig, axs = plt.subplots(figsize=(13,9),linewidth=5,edgecolor='black',facecolor=\"white\")\n",
    "axs2 = axs.twinx()\n",
    "\n",
    "axs.plot(model2.t,model2.D_d,color='tab:red',label='Daily deaths')\n",
    "axs.set_ylabel('Deaths',color='tab:red')\n",
    "axs.tick_params(axis='y', labelcolor='tab:red')\n",
    "\n",
    "t = model2.t\n",
    "axs2.plot(t,100*pH_D(t)*model2.pE_Icr(t),color='tab:blue',label='CFR')\n",
    "axs2.set_ylabel('CFR',color='tab:blue')\n",
    "axs2.tick_params(axis='y',labelcolor='tab:blue')\n",
    "\n",
    "axs.set_xlim(0,200)\n",
    "axs2.set_xlim(0,200)\n",
    "fig.legend(loc=8)\n",
    "fig.suptitle('CFR vs Deaths')\n",
    "fig.show()"
   ]
  },
  {
   "cell_type": "markdown",
   "metadata": {},
   "source": [
    "# Access CFR value"
   ]
  },
  {
   "cell_type": "markdown",
   "metadata": {},
   "source": [
    "## As a variable"
   ]
  },
  {
   "cell_type": "code",
   "execution_count": null,
   "metadata": {},
   "outputs": [],
   "source": [
    "model2.CFR "
   ]
  },
  {
   "cell_type": "markdown",
   "metadata": {},
   "source": [
    "## As part of the pandas array"
   ]
  },
  {
   "cell_type": "code",
   "execution_count": null,
   "metadata": {},
   "outputs": [],
   "source": [
    "model2.results['CFR']"
   ]
  },
  {
   "cell_type": "code",
   "execution_count": null,
   "metadata": {},
   "outputs": [],
   "source": []
  }
 ],
 "metadata": {
  "kernelspec": {
   "display_name": "Python 3",
   "language": "python",
   "name": "python3"
  },
  "language_info": {
   "codemirror_mode": {
    "name": "ipython",
    "version": 3
   },
   "file_extension": ".py",
   "mimetype": "text/x-python",
   "name": "python",
   "nbconvert_exporter": "python",
   "pygments_lexer": "ipython3",
   "version": "3.8.3"
  }
 },
 "nbformat": 4,
 "nbformat_minor": 4
}
