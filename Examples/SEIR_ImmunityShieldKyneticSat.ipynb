{
 "cells": [
  {
   "cell_type": "markdown",
   "metadata": {},
   "source": [
    "# Saturation Methods Analysis\n",
    "\n",
    "**Created by:** Samuel Ropert  \n",
    "**Creation date:** 12/10/2020  \n",
    "**Institution:** Computational Biology Lab - Fundación Ciencia y Vida, Chile  \n",
    "\n",
    "## SEIR\n",
    "This jupyter notebook shows how periodic examinations affect a pandemy evolution.\n"
   ]
  },
  {
   "cell_type": "markdown",
   "metadata": {},
   "source": [
    "## Import Libraries"
   ]
  },
  {
   "cell_type": "code",
   "execution_count": 18,
   "metadata": {},
   "outputs": [
    {
     "name": "stdout",
     "output_type": "stream",
     "text": [
      "Linux\n"
     ]
    }
   ],
   "source": [
    "import sys\n",
    "from pathlib import Path\n",
    "sys.path.insert(1, '../src/SEIR/')\n",
    "sys.path.insert(1, '../src/utils/')\n",
    "\n",
    "from datetime import datetime\n",
    "import numpy as np\n",
    "from numpy import linalg as LA\n",
    "import pandas as pd\n",
    "from time import time\n",
    "import multiprocessing\n",
    "from joblib import Parallel, delayed\n",
    "\n",
    "import platform\n",
    "OS = platform.system()\n",
    "\n",
    "import matplotlib.pyplot as plt\n",
    "if OS == 'Linux':    \n",
    "    %matplotlib tk\n",
    "    print('Linux')\n",
    "elif OS == 'Windows':\n",
    "    %matplotlib qt\n",
    "    print('Windows')\n",
    "else:\n",
    "    print('OS not detected :-|')\n",
    "\n",
    "\n",
    "from class_SEIR2 import SEIR\n",
    "from Quarantine import Quarantine\n",
    "from Quarantine import Exams"
   ]
  },
  {
   "cell_type": "code",
   "execution_count": 19,
   "metadata": {},
   "outputs": [],
   "source": [
    "def simulate(simulation,j,tsim):\n",
    "    simulation.integr_sci(0,tsim,0.1)\n",
    "    return simulation"
   ]
  },
  {
   "cell_type": "markdown",
   "metadata": {},
   "source": [
    "# Kinetic Saturation"
   ]
  },
  {
   "cell_type": "markdown",
   "metadata": {},
   "source": [
    "## Epidemiological Parameters\n",
    "* **beta:** Infection rate\n",
    "* **mu:** Initial exposed obtained from the initial infected mu=E0/I0\n",
    "* **Scale Factor:** Proportion of real infected compared to reported ones (1: all the infecteds are reported)\n",
    "* **Sero Prevalence Factor:** Adjust the proportion of the population that enters the virus dynamics\n",
    "* **Exposed Infection:** rate compared to the infected (0 the don't infect, 1 the infect in the same rate as the infected )"
   ]
  },
  {
   "cell_type": "code",
   "execution_count": 21,
   "metadata": {},
   "outputs": [],
   "source": [
    "beta = 0.2 # Contagion rate\n",
    "mu = 1.5 # E0/I0 initial rate\n",
    "SeroPrevalence = 1\n",
    "expinfection = 0\n",
    "\n",
    "# Simulation time\n",
    "tsim = 1000\n",
    "# Population\n",
    "population = 1000000\n",
    "# Initial Active Infected \n",
    "I0 = 100\n",
    "I_ac0 = 100\n",
    "\n",
    "# Immunity Shield\n",
    "k_R=0\n",
    "\n",
    "# Kinetic Saturation\n",
    "k_I = [0,5,10,20,50]\n",
    "\n",
    "# Quarantine\n",
    "s1 = Quarantine(0.5)"
   ]
  },
  {
   "cell_type": "markdown",
   "metadata": {},
   "source": [
    "## Create simulation Object"
   ]
  },
  {
   "cell_type": "code",
   "execution_count": 22,
   "metadata": {},
   "outputs": [],
   "source": [
    "# Define Simulations\n",
    "sims = []\n",
    "for i in range(len(k_I)):        \n",
    "    sims.append(SEIR(tsim=tsim,alpha=s1.alpha,beta=beta,mu=mu,k_I=k_I[i],k_R=k_R,I0=I0,population=population,expinfection=1,SeroPrevFactor=1))"
   ]
  },
  {
   "cell_type": "markdown",
   "metadata": {},
   "source": [
    "## Simulate\n",
    "The different scenarios are simulated in parallel threads "
   ]
  },
  {
   "cell_type": "code",
   "execution_count": 23,
   "metadata": {},
   "outputs": [
    {
     "name": "stdout",
     "output_type": "stream",
     "text": [
      "[Parallel(n_jobs=12)]: Using backend LokyBackend with 12 concurrent workers.\n",
      "[Parallel(n_jobs=12)]: Done   1 tasks      | elapsed:    1.0s\n",
      "[Parallel(n_jobs=12)]: Done   2 out of   5 | elapsed:    1.0s remaining:    1.5s\n",
      "[Parallel(n_jobs=12)]: Done   3 out of   5 | elapsed:    1.0s remaining:    0.7s\n",
      "[Parallel(n_jobs=12)]: Done   5 out of   5 | elapsed:    1.1s remaining:    0.0s\n",
      "[Parallel(n_jobs=12)]: Done   5 out of   5 | elapsed:    1.1s finished\n",
      "simulation finished\n"
     ]
    }
   ],
   "source": [
    "num_cores = multiprocessing.cpu_count()\n",
    "simulation = Parallel(n_jobs=num_cores, verbose=50)(delayed(simulate)(sims[i],0,tsim) for i in range(len(k_I)))\n",
    "print('simulation finished')"
   ]
  },
  {
   "cell_type": "markdown",
   "metadata": {},
   "source": [
    "# Plots"
   ]
  },
  {
   "cell_type": "markdown",
   "metadata": {},
   "source": [
    "###  Active infected"
   ]
  },
  {
   "cell_type": "code",
   "execution_count": 25,
   "metadata": {},
   "outputs": [],
   "source": [
    "colors = plt.cm.rainbow_r(np.linspace(0,1,len(k_I)))\n",
    "for i in range(len(k_I)):\n",
    "    plt.plot(simulation[i].t,simulation[i].I,label='K_I='+str(k_I[i]), color =  colors[i])    \n",
    "\n",
    "plt.title('Kinetic Saturation')\n",
    "plt.legend(loc=0)\n",
    "plt.show()"
   ]
  },
  {
   "cell_type": "markdown",
   "metadata": {},
   "source": [
    "# Immunity Shield"
   ]
  },
  {
   "cell_type": "code",
   "execution_count": 26,
   "metadata": {},
   "outputs": [],
   "source": [
    "beta = 0.2 # Contagion rate\n",
    "mu = 1.5 # E0/I0 initial rate\n",
    "SeroPrevalence = 1\n",
    "expinfection = 0\n",
    "\n",
    "# Simulation time\n",
    "tsim = 1000\n",
    "# Population\n",
    "population = 1000000\n",
    "# Initial Active Infected \n",
    "I0 = 100\n",
    "I_ac0 = 100\n",
    "\n",
    "# Immunity Shield\n",
    "k_R = [0,5,10,20,50]\n",
    "\n",
    "# Kinetic Saturation\n",
    "k_I = 0\n",
    "\n",
    "# Quarantine\n",
    "s1 = Quarantine(0.5)"
   ]
  },
  {
   "cell_type": "markdown",
   "metadata": {},
   "source": [
    "## Create simulation Object"
   ]
  },
  {
   "cell_type": "code",
   "execution_count": 27,
   "metadata": {},
   "outputs": [],
   "source": [
    "# Define Simulations\n",
    "sims = []\n",
    "for i in range(len(k_R)):        \n",
    "    sims.append(SEIR(tsim=tsim,alpha=s1.alpha,beta=beta,mu=mu,k_I=k_I,k_R=k_R[i],I0=I0,population=population,expinfection=1,SeroPrevFactor=1))\n",
    "    "
   ]
  },
  {
   "cell_type": "markdown",
   "metadata": {},
   "source": [
    "## Simulate\n",
    "The different scenarios are simulated in parallel threads "
   ]
  },
  {
   "cell_type": "code",
   "execution_count": 28,
   "metadata": {},
   "outputs": [
    {
     "name": "stdout",
     "output_type": "stream",
     "text": [
      "[Parallel(n_jobs=12)]: Using backend LokyBackend with 12 concurrent workers.\n",
      "[Parallel(n_jobs=12)]: Done   1 tasks      | elapsed:    0.7s\n",
      "[Parallel(n_jobs=12)]: Done   2 out of   5 | elapsed:    0.7s remaining:    1.1s\n",
      "[Parallel(n_jobs=12)]: Done   3 out of   5 | elapsed:    0.7s remaining:    0.5s\n",
      "[Parallel(n_jobs=12)]: Done   5 out of   5 | elapsed:    0.8s remaining:    0.0s\n",
      "[Parallel(n_jobs=12)]: Done   5 out of   5 | elapsed:    0.8s finished\n",
      "simulation finished\n"
     ]
    }
   ],
   "source": [
    "num_cores = multiprocessing.cpu_count()\n",
    "simulation = Parallel(n_jobs=num_cores, verbose=50)(delayed(simulate)(sims[i],0,tsim) for i in range(len(k_R)))\n",
    "print('simulation finished')"
   ]
  },
  {
   "cell_type": "code",
   "execution_count": 29,
   "metadata": {},
   "outputs": [],
   "source": [
    "colors = plt.cm.rainbow_r(np.linspace(0,1,len(k_R)))\n",
    "for i in range(len(k_R)):\n",
    "    plt.plot(simulation[i].t,simulation[i].I,label='K_R='+str(k_R[i]), color =  colors[i])    \n",
    "\n",
    "plt.title('Immunity Shield')\n",
    "plt.legend(loc=0)\n",
    "plt.show()"
   ]
  },
  {
   "cell_type": "code",
   "execution_count": null,
   "metadata": {},
   "outputs": [],
   "source": []
  }
 ],
 "metadata": {
  "kernelspec": {
   "display_name": "Python 3",
   "language": "python",
   "name": "python3"
  },
  "language_info": {
   "codemirror_mode": {
    "name": "ipython",
    "version": 3
   },
   "file_extension": ".py",
   "mimetype": "text/x-python",
   "name": "python",
   "nbconvert_exporter": "python",
   "pygments_lexer": "ipython3",
   "version": "3.8.5"
  }
 },
 "nbformat": 4,
 "nbformat_minor": 4
}
