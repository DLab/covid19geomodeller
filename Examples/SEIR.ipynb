{
 "cells": [
  {
   "cell_type": "markdown",
   "metadata": {},
   "source": [
    "# Compartimental Model Simulator\n",
    "\n",
    "**Created by:** Samuel Ropert  \n",
    "**Creation date:** 04/08/2020  \n",
    "**Institution:** Computational Biology Lab - Fundación Ciencia y Vida, Chile  \n",
    "\n",
    "## SEIR\n",
    "This jupyter notebook shows how to build a single SEIR simulation object with different quarantine scenarios. In this example we show 4 quarantine scenarios, 2 with total quarantines, and 2 with dynamic quarantines.\n"
   ]
  },
  {
   "cell_type": "markdown",
   "metadata": {},
   "source": [
    "## Import Libraries"
   ]
  },
  {
   "cell_type": "code",
   "execution_count": 17,
   "metadata": {},
   "outputs": [
    {
     "name": "stdout",
     "output_type": "stream",
     "text": [
      "Linux\n"
     ]
    }
   ],
   "source": [
    "import sys\n",
    "from pathlib import Path\n",
    "sys.path.insert(1, '../src/SEIR/')\n",
    "sys.path.insert(1, '../src/utils/')\n",
    "\n",
    "from datetime import datetime\n",
    "import numpy as np\n",
    "from numpy import linalg as LA\n",
    "import pandas as pd\n",
    "from time import time\n",
    "\n",
    "import platform\n",
    "OS = platform.system()\n",
    "\n",
    "import matplotlib.pyplot as plt\n",
    "if OS == 'Linux':    \n",
    "    %matplotlib tk\n",
    "    print('Linux')\n",
    "elif OS == 'Windows':\n",
    "    %matplotlib qt\n",
    "    print('Windows')\n",
    "else:\n",
    "    print('OS not detected :-|')\n",
    "\n",
    "\n",
    "from class_SEIR import SEIR\n",
    "from Quarantine import Quarantine"
   ]
  },
  {
   "cell_type": "markdown",
   "metadata": {},
   "source": [
    "## Epidemiological Parameters\n",
    "* **beta:** Infection rate\n",
    "* **mu:** Initial exposed obtained from the initial infected mu=E0/I0\n",
    "* **Scale Factor:** Proportion of real infected compared to reported ones (1: all the infecteds are reported)\n",
    "* **Sero Prevalence Factor:** Adjust the proportion of the population that enters the virus dynamics\n",
    "* **Exposed Infection:** rate compared to the infected (0 the don't infect, 1 the infect in the same rate as the infected )"
   ]
  },
  {
   "cell_type": "markdown",
   "metadata": {},
   "source": [
    "## Simulation Parameters"
   ]
  },
  {
   "cell_type": "code",
   "execution_count": 21,
   "metadata": {},
   "outputs": [],
   "source": [
    "beta = 0.2 # Contagion rate\n",
    "mu = 1.5 # E0/I0 initial rate\n",
    "SeroPrevalence = 1\n",
    "expinfection = 0\n",
    "\n",
    "# Simulation time\n",
    "tsim = 500\n",
    "# Population\n",
    "population = 1000000\n",
    "# Initial Active Infected \n",
    "I0 = 100\n",
    "\n",
    "I_ac0 = 100\n",
    "# Kinetic Saturation: 0 for mass action mixing\n",
    "k=0"
   ]
  },
  {
   "cell_type": "markdown",
   "metadata": {},
   "source": [
    "### Quarantines\n",
    "\n",
    "Quarantine object constructor:\n",
    " \n",
    " \n",
    " ```Quarantine(rem_mov,max_mov=0.85,qp=0,iqt=0,fqt=1000,movfunct = 'once')```\n",
    " \n",
    " * rem_mov: Remanent mobility during Quarantine\n",
    " * max_mov: Mobility during non quarantine periods\n",
    " * qp: Quarantine period (for dynamic quarantines)\n",
    " * iqt: Initial quarantine time\n",
    " * fqt: Final quarantine time\n",
    " * movfunct: Mobility function \n",
    "\n",
    "Mobility function types:\n",
    " * once: Total quarantine between iqt and fqt\n",
    " * square: Periodic quaratine with qp period"
   ]
  },
  {
   "cell_type": "code",
   "execution_count": 22,
   "metadata": {},
   "outputs": [],
   "source": [
    "rem_mob = 0.4 # Mobility during quarantine\n",
    "max_mob = 0.8 # Maximum mobility\n",
    "# Total quarantine\n",
    "\n",
    "s1 = Quarantine(0.5)\n",
    "s2 = Quarantine(0.5,0.8,qp=14,iqt=50,fqt = 500,movfunct='square')\n",
    "s3 = Quarantine(0.5,0.8,qp=14,iqt=50,fqt = 500,movfunct='sawtooth')\n",
    "\n",
    "quarantines = [s1.alpha,s2.alpha,s3.alpha]"
   ]
  },
  {
   "cell_type": "markdown",
   "metadata": {},
   "source": [
    "## Create simulation Object"
   ]
  },
  {
   "cell_type": "code",
   "execution_count": 8,
   "metadata": {},
   "outputs": [],
   "source": [
    "simulation = []\n",
    "for i in range(len(quarantines)):\n",
    "    simulation.append(SEIR(tsim=tsim,alpha=quarantines[i],beta=beta,mu=mu,k=k,I=I0,population=population,expinfection=1,SeroPrevFactor=1))\n",
    "#simulation = SEIR(tsim=tsim,alpha=s2.alpha,beta=beta,mu=mu,k=k,I0=I0,population=population,expinfection=1,SeroPrevFactor=1)"
   ]
  },
  {
   "cell_type": "markdown",
   "metadata": {},
   "source": [
    "## Simulate\n",
    "The different scenarios are simulated in parallel threads "
   ]
  },
  {
   "cell_type": "code",
   "execution_count": 9,
   "metadata": {},
   "outputs": [],
   "source": [
    "#simulation = []\n",
    "for i in range(len(quarantines)):\n",
    "    simulation[i].integr_sci(0,tsim,0.01)"
   ]
  },
  {
   "cell_type": "markdown",
   "metadata": {},
   "source": [
    "# Simulation Analysis"
   ]
  },
  {
   "cell_type": "markdown",
   "metadata": {},
   "source": [
    "## Plots\n",
    "This libraries have predefined plot functions which plot the main epidemiological variables.\n",
    "Each function has the following optional arguments:\n",
    "* days [int] Number of days to display\n",
    "* showparams [bool] Display simulation parameters \n",
    "* ylim [int] Limit the vertical axis\n",
    "* norm [int/float] Normalize the results\n"
   ]
  },
  {
   "cell_type": "markdown",
   "metadata": {},
   "source": [
    "### SEIR Plot with Active infected"
   ]
  },
  {
   "cell_type": "code",
   "execution_count": 10,
   "metadata": {},
   "outputs": [],
   "source": [
    "plt.plot(simulation[0].t,simulation[0].S,label='S',color = 'blue')\n",
    "plt.plot(simulation[0].t,simulation[0].E,label='E',color = 'cyan')\n",
    "plt.plot(simulation[0].t,simulation[0].I,label='I',color = 'red')\n",
    "plt.plot(simulation[0].t,simulation[0].R,label='R',color = 'green')\n",
    "plt.title('Epidemiological Plot')\n",
    "plt.legend(loc=0)\n",
    "plt.show()"
   ]
  },
  {
   "cell_type": "markdown",
   "metadata": {},
   "source": [
    "Plot Active Infected"
   ]
  },
  {
   "cell_type": "code",
   "execution_count": 11,
   "metadata": {},
   "outputs": [],
   "source": [
    "for i in range(len(quarantines)):\n",
    "    plt.plot(simulation[i].t,simulation[i].I,label='Quarantine: '+str(i))\n",
    "plt.title('Quarantines')\n",
    "plt.legend(loc=0)\n",
    "plt.show()"
   ]
  },
  {
   "cell_type": "markdown",
   "metadata": {},
   "source": [
    "### Plot Accumulated Infected"
   ]
  },
  {
   "cell_type": "code",
   "execution_count": 12,
   "metadata": {},
   "outputs": [],
   "source": [
    "for i in range(len(quarantines)):\n",
    "    plt.plot(simulation[i].t,simulation[i].I_ac,label='Quarantine: '+str(i))\n",
    "\n",
    "plt.title('Accumulated Infected')\n",
    "plt.legend(loc=0)\n",
    "plt.show()"
   ]
  },
  {
   "cell_type": "markdown",
   "metadata": {},
   "source": [
    "### Plot New Daily Infected"
   ]
  },
  {
   "cell_type": "code",
   "execution_count": 13,
   "metadata": {},
   "outputs": [],
   "source": [
    "for i in range(len(quarantines)):\n",
    "    plt.plot(simulation[i].t,simulation[i].I_d,label='Quarantine: '+str(i))\n",
    "\n",
    "plt.title('New Daily Infected')\n",
    "plt.legend(loc=0)\n",
    "plt.show()"
   ]
  },
  {
   "cell_type": "markdown",
   "metadata": {},
   "source": [
    "### Variables:\n",
    "The simulation object contains several methods and variables with its results"
   ]
  },
  {
   "cell_type": "code",
   "execution_count": 14,
   "metadata": {},
   "outputs": [
    {
     "data": {
      "text/plain": [
       "array([0.00000000e+00, 1.12938511e-05, 2.25877045e-05, 5.33316552e-02,\n",
       "       1.06691788e-01, 1.60102946e-01, 6.97012561e-01, 1.23898182e+00,\n",
       "       1.78597253e+00, 2.33794689e+00, 5.09679366e+00, 7.96890454e+00,\n",
       "       1.09504366e+01, 1.40378087e+01, 1.72276913e+01, 2.29859534e+01,\n",
       "       2.90280105e+01, 3.53411259e+01, 4.19141810e+01, 4.87375149e+01,\n",
       "       5.74031531e+01, 6.64172760e+01, 7.57693169e+01, 8.54508180e+01,\n",
       "       9.55281373e+01, 1.05928086e+02, 1.16646937e+02, 1.23580054e+02,\n",
       "       1.30638990e+02, 1.37823573e+02, 1.53784787e+02, 1.70335746e+02,\n",
       "       1.87481214e+02, 2.54810119e+02, 3.30669020e+02, 3.51029766e+02,\n",
       "       3.71980415e+02, 3.93541788e+02, 4.38588052e+02, 4.86293859e+02,\n",
       "       5.36799724e+02, 6.56236566e+02, 7.91166746e+02, 9.43650644e+02,\n",
       "       1.11595419e+03, 1.46768625e+03, 1.90192627e+03, 2.43765729e+03,\n",
       "       3.09819557e+03, 4.11559003e+03, 5.42536607e+03, 7.11034935e+03,\n",
       "       9.27452650e+03, 1.20471825e+04, 1.70505054e+04, 2.39586233e+04,\n",
       "       3.33947979e+04, 4.61024881e+04, 6.29010799e+04, 8.45860846e+04,\n",
       "       1.11765491e+05, 1.44649827e+05, 1.82851850e+05, 2.17620149e+05,\n",
       "       2.54311382e+05, 2.91743080e+05, 3.28674781e+05, 3.63970864e+05,\n",
       "       3.96726322e+05, 4.26338799e+05, 4.52507375e+05, 4.75194986e+05,\n",
       "       4.94553595e+05, 5.07624011e+05, 5.18965602e+05, 5.28745769e+05,\n",
       "       5.37135053e+05, 5.44299632e+05, 5.51307212e+05, 5.57084649e+05,\n",
       "       5.61830863e+05, 5.65719076e+05, 5.69293368e+05, 5.72125735e+05,\n",
       "       5.74366776e+05, 5.76137931e+05, 5.77533211e+05, 5.78639141e+05,\n",
       "       5.79511850e+05, 5.80198078e+05, 5.80737456e+05, 5.81161996e+05,\n",
       "       5.81496464e+05, 5.81759892e+05, 5.81987601e+05, 5.82161946e+05,\n",
       "       5.82295356e+05, 5.82397440e+05, 5.82475563e+05, 5.82535358e+05,\n",
       "       5.82581124e+05, 5.82616151e+05, 5.82642957e+05, 5.82663469e+05,\n",
       "       5.82679166e+05, 5.82691179e+05, 5.82700372e+05, 5.82707407e+05,\n",
       "       5.82712791e+05, 5.82716910e+05, 5.82717115e+05])"
      ]
     },
     "execution_count": 14,
     "metadata": {},
     "output_type": "execute_result"
    }
   ],
   "source": [
    "# Susceptibles\n",
    "simulation[0].S\n",
    "# Exposed\n",
    "simulation[0].E\n",
    "# Infected\n",
    "simulation[0].I\n",
    "# Recovered\n",
    "simulation[0].R"
   ]
  },
  {
   "cell_type": "markdown",
   "metadata": {},
   "source": [
    "## Peak Calculation"
   ]
  },
  {
   "cell_type": "code",
   "execution_count": 15,
   "metadata": {},
   "outputs": [
    {
     "data": {
      "text/plain": [
       "53737.39093475814"
      ]
     },
     "execution_count": 15,
     "metadata": {},
     "output_type": "execute_result"
    }
   ],
   "source": [
    "# Peak Values per each scenario\n",
    "simulation[0].peak"
   ]
  },
  {
   "cell_type": "code",
   "execution_count": 16,
   "metadata": {},
   "outputs": [
    {
     "data": {
      "text/plain": [
       "182.68419391442006"
      ]
     },
     "execution_count": 16,
     "metadata": {},
     "output_type": "execute_result"
    }
   ],
   "source": [
    "# Peak day counted from the simulation beginning\n",
    "simulation[0].peak_t"
   ]
  },
  {
   "cell_type": "code",
   "execution_count": null,
   "metadata": {},
   "outputs": [],
   "source": []
  }
 ],
 "metadata": {
  "kernelspec": {
   "display_name": "Python 3",
   "language": "python",
   "name": "python3"
  },
  "language_info": {
   "codemirror_mode": {
    "name": "ipython",
    "version": 3
   },
   "file_extension": ".py",
   "mimetype": "text/x-python",
   "name": "python",
   "nbconvert_exporter": "python",
   "pygments_lexer": "ipython3",
   "version": "3.8.3"
  }
 },
 "nbformat": 4,
 "nbformat_minor": 4
}
