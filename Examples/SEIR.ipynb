{
 "cells": [
  {
   "cell_type": "markdown",
   "metadata": {},
   "source": [
    "# Compartimental Model Simulator\n",
    "\n",
    "**Created by:** Samuel Ropert  \n",
    "**Creation date:** 04/08/2020  \n",
    "**Institution:** Computational Biology Lab - Fundación Ciencia y Vida, Chile  \n",
    "\n",
    "## SEIR\n",
    "This jupyter notebook shows how to build a single SEIR simulation object with different quarantine scenarios. In this example we show 4 quarantine scenarios, 2 with total quarantines, and 2 with dynamic quarantines.\n"
   ]
  },
  {
   "cell_type": "markdown",
   "metadata": {},
   "source": [
    "## Import Libraries"
   ]
  },
  {
   "cell_type": "code",
   "execution_count": 1,
   "metadata": {
    "scrolled": true
   },
   "outputs": [],
   "source": [
    "import sys\n",
    "from pathlib import Path\n",
    "sys.path.insert(1, '../src/')\n",
    "sys.path.insert(1, 'src/')\n",
    "from SEIRmodel import SEIRmodel\n",
    "import numpy as np\n",
    "from datetime import datetime\n",
    "import matplotlib.pyplot as plt\n",
    "%matplotlib tk\n",
    "from joblib import Parallel, delayed\n",
    "import multiprocessing"
   ]
  },
  {
   "cell_type": "markdown",
   "metadata": {},
   "source": [
    "## Epidemiological Parameters\n",
    "* **beta:** Infection rate\n",
    "* **mu:** Initial exposed obtained from the initial infected mu=E0/I0\n",
    "* **Scale Factor:** Proportion of real infected compared to reported ones (1: all the infecteds are reported)\n",
    "* **Sero Prevalence Factor:** Adjust the proportion of the population that enters the virus dynamics\n",
    "* **Exposed Infection:** rate compared to the infected (0 the don't infect, 1 the infect in the same rate as the infected )"
   ]
  },
  {
   "cell_type": "code",
   "execution_count": 2,
   "metadata": {},
   "outputs": [],
   "source": [
    "beta = 0.15 # Contagion rate\n",
    "mu = 0 # E0/I0 initial rate\n",
    "ScaleFactor = 1 # Scale Factor: Number of real infected over reported \n",
    "SeroPrevFactor = 1 # Sero Prevalence Factor: Adjust the proportion of the population that enters the virus dynamics\n",
    "expinfection = 1 # Exposed contagion rate compared to the infected (0 the don't infect, 1 the infect in the same rate as the infected )"
   ]
  },
  {
   "cell_type": "markdown",
   "metadata": {},
   "source": [
    "## Simulation Parameters"
   ]
  },
  {
   "cell_type": "code",
   "execution_count": 3,
   "metadata": {},
   "outputs": [],
   "source": [
    "# Simulation time\n",
    "tsim = 1000\n",
    "# Population\n",
    "population = 1000000\n",
    "# Initial Active Infected \n",
    "I_act0 = 100\n"
   ]
  },
  {
   "cell_type": "markdown",
   "metadata": {},
   "source": [
    "### Quarantines\n",
    "\n",
    "Quarantine Vector:  \n",
    " [Tsim, max_mob,rem_mob,quarantine period, quarantine initial time, quarantine final time, quarantine type]"
   ]
  },
  {
   "cell_type": "code",
   "execution_count": 4,
   "metadata": {},
   "outputs": [],
   "source": [
    "max_mob = 0.8 # Maximum mobility\n",
    "# Total quarantine\n",
    "s1 = [tsim,max_mob,0.65,0,0,tsim,0]\n",
    "s2 = [tsim,max_mob,0.5,0,0,tsim,0]\n",
    "# Dynamic quarantine\n",
    "s3 = [tsim,max_mob,0.3,14,0,tsim,1]\n",
    "s4 = [tsim,max_mob,0.5,14,0,tsim,1]\n"
   ]
  },
  {
   "cell_type": "code",
   "execution_count": 5,
   "metadata": {},
   "outputs": [],
   "source": [
    "# Define one quarantine array for each different quarantine remanent mobility\n",
    "quarantines = [s1,s2,s3,s4]"
   ]
  },
  {
   "cell_type": "code",
   "execution_count": 6,
   "metadata": {},
   "outputs": [],
   "source": [
    "# Kinetic Saturation: 0 for mass action mixing\n",
    "k=0"
   ]
  },
  {
   "cell_type": "markdown",
   "metadata": {},
   "source": [
    "## Create simulation Object"
   ]
  },
  {
   "cell_type": "code",
   "execution_count": 7,
   "metadata": {},
   "outputs": [
    {
     "name": "stdout",
     "output_type": "stream",
     "text": [
      "Set initial values\n"
     ]
    }
   ],
   "source": [
    "simulation = SEIRmodel(beta = beta,mu = mu,ScaleFactor=ScaleFactor,SeroPrevFactor=SeroPrevFactor,expinfection=expinfection,tsim = tsim,tstate='', k = k)\n",
    "simulation.inputarray = np.array(quarantines)\n",
    "simulation.addquarantine()\n",
    "simulation.initialvalues(I_act0,population,R=0)"
   ]
  },
  {
   "cell_type": "markdown",
   "metadata": {},
   "source": [
    "## Simulate\n",
    "The different scenarios are simulated in parallel threads "
   ]
  },
  {
   "cell_type": "code",
   "execution_count": 8,
   "metadata": {},
   "outputs": [
    {
     "name": "stdout",
     "output_type": "stream",
     "text": [
      "SEIR Model\n",
      "[Parallel(n_jobs=8)]: Using backend LokyBackend with 8 concurrent workers.\n",
      "[Parallel(n_jobs=8)]: Done   1 tasks      | elapsed:    0.8s\n",
      "[Parallel(n_jobs=8)]: Done   2 out of   4 | elapsed:    0.8s remaining:    0.8s\n",
      "[Parallel(n_jobs=8)]: Done   4 out of   4 | elapsed:   12.4s remaining:    0.0s\n",
      "[Parallel(n_jobs=8)]: Done   4 out of   4 | elapsed:   12.4s finished\n"
     ]
    },
    {
     "name": "stderr",
     "output_type": "stream",
     "text": [
      "../src/SEIR_vars.py:143: RuntimeWarning: invalid value encountered in double_scalars\n",
      "  self.SHFR = [self.totD[i]/(self.I_se_ac[i][-1]+self.I_cr_ac[i][-1]) for i in range(self.numescenarios)]\n",
      "../src/SEIR_vars.py:144: RuntimeWarning: invalid value encountered in true_divide\n",
      "  self.SHFR_d = [self.B[i]/(self.I_se_ac[i][-1]+self.I_cr_ac[i][-1]) for i in range(self.numescenarios)]\n"
     ]
    }
   ],
   "source": [
    "simulation.simulate()"
   ]
  },
  {
   "cell_type": "markdown",
   "metadata": {},
   "source": [
    "# Simulation Analysis"
   ]
  },
  {
   "cell_type": "markdown",
   "metadata": {},
   "source": [
    "## Plots\n",
    "This libraries have predefined plot functions which plot the main epidemiological variables.\n",
    "Each function has the following optional arguments:\n",
    "* days [int] Number of days to display\n",
    "* showparams [bool] Display simulation parameters \n",
    "* ylim [int] Limit the vertical axis\n",
    "* norm [int/float] Normalize the results\n"
   ]
  },
  {
   "cell_type": "code",
   "execution_count": 9,
   "metadata": {},
   "outputs": [],
   "source": [
    "# Epidemiological curves\n",
    "simulation.plotseir(days = 300)"
   ]
  },
  {
   "cell_type": "code",
   "execution_count": 12,
   "metadata": {},
   "outputs": [],
   "source": [
    "# Active Infected curves\n",
    "simulation.plotActiveInfected(showparams=True,days = 650)"
   ]
  },
  {
   "cell_type": "code",
   "execution_count": 11,
   "metadata": {},
   "outputs": [],
   "source": [
    "# Accumulated infected\n",
    "simulation.plotAccumulatedInfected()"
   ]
  },
  {
   "cell_type": "code",
   "execution_count": null,
   "metadata": {},
   "outputs": [],
   "source": [
    "# Daily infected\n",
    "simulation.plotDailyInfected(days=400)"
   ]
  },
  {
   "cell_type": "code",
   "execution_count": null,
   "metadata": {},
   "outputs": [],
   "source": [
    "# Exposed\n",
    "simulation.plotExposed()"
   ]
  },
  {
   "cell_type": "code",
   "execution_count": null,
   "metadata": {},
   "outputs": [],
   "source": [
    "# Exposed\n",
    "simulation.plotQuarantines(days=100)"
   ]
  },
  {
   "cell_type": "markdown",
   "metadata": {},
   "source": [
    "### Variables:\n",
    "The simulation object contains several methods and variables with its results"
   ]
  },
  {
   "cell_type": "code",
   "execution_count": 20,
   "metadata": {},
   "outputs": [
    {
     "data": {
      "text/plain": [
       "[array([0.00000000e+00, 3.16227666e-05, 6.32455232e-05, 1.22415882e-01,\n",
       "        2.44619174e-01, 3.66673661e-01, 8.14520573e-01, 1.26038683e+00,\n",
       "        1.70429843e+00, 2.14628144e+00, 3.65597341e+00, 5.14406805e+00,\n",
       "        6.61156064e+00, 8.05941180e+00, 9.48854787e+00, 1.27394396e+01,\n",
       "        1.59047415e+01, 1.89941542e+01, 2.20166075e+01, 2.49803243e+01,\n",
       "        2.93192579e+01, 3.35665279e+01, 3.77424903e+01, 4.18651624e+01,\n",
       "        4.53021701e+01, 4.87212725e+01, 5.21302691e+01, 6.38551289e+01,\n",
       "        6.68114154e+01, 6.97831101e+01, 7.27731790e+01, 7.57842764e+01,\n",
       "        7.81361942e+01, 8.05033295e+01, 8.28867186e+01, 9.85221886e+01,\n",
       "        1.15078264e+02, 1.32727863e+02, 1.51617615e+02, 1.69669788e+02,\n",
       "        1.88916945e+02, 2.09454379e+02, 2.27911857e+02, 2.47422875e+02,\n",
       "        2.68050114e+02, 2.79408169e+02, 2.91105408e+02, 3.03152090e+02,\n",
       "        3.45588088e+02, 3.92403656e+02, 4.44025155e+02, 5.28046314e+02,\n",
       "        6.24676533e+02, 7.35921862e+02, 8.63987626e+02, 1.11233115e+03,\n",
       "        1.42390099e+03, 1.81454091e+03, 2.30406131e+03, 3.02542848e+03,\n",
       "        3.95917016e+03, 5.16753527e+03, 6.72953687e+03, 8.74475813e+03,\n",
       "        1.22166796e+04, 1.69966145e+04, 2.35279376e+04, 3.23637027e+04,\n",
       "        4.41601510e+04, 5.96401311e+04, 7.95119735e+04, 1.04335890e+05,\n",
       "        1.34349174e+05, 1.69291499e+05, 2.08297556e+05, 2.49923115e+05,\n",
       "        2.92329924e+05, 3.33589077e+05, 3.72008271e+05, 4.00135706e+05,\n",
       "        4.25255532e+05, 4.47275629e+05, 4.66281821e+05, 4.82477350e+05,\n",
       "        4.96126324e+05, 5.07520585e+05, 5.16956688e+05, 5.24719418e+05,\n",
       "        5.31071108e+05, 5.36245795e+05, 5.41196518e+05, 5.45027293e+05,\n",
       "        5.47983214e+05, 5.49864347e+05, 5.51389491e+05, 5.52624134e+05,\n",
       "        5.53622503e+05, 5.54517464e+05, 5.55223407e+05, 5.55778321e+05,\n",
       "        5.56213448e+05, 5.56554777e+05, 5.56822913e+05, 5.57033651e+05,\n",
       "        5.57199158e+05, 5.57303005e+05, 5.57388949e+05, 5.57460109e+05,\n",
       "        5.57519036e+05, 5.57567826e+05, 5.57615469e+05, 5.57653408e+05,\n",
       "        5.57683627e+05, 5.57707720e+05, 5.57726936e+05, 5.57742255e+05,\n",
       "        5.57752416e+05, 5.57760857e+05, 5.57767871e+05, 5.57768816e+05,\n",
       "        5.57769734e+05, 5.57770628e+05, 5.57771497e+05, 5.57772342e+05,\n",
       "        5.57773964e+05, 5.57775498e+05, 5.57776949e+05, 5.57778321e+05,\n",
       "        5.57782786e+05, 5.57786416e+05, 5.57789371e+05, 5.57791776e+05,\n",
       "        5.57794320e+05, 5.57796260e+05, 5.57797414e+05, 5.57798346e+05,\n",
       "        5.57799100e+05, 5.57799712e+05, 5.57800209e+05, 5.57800678e+05,\n",
       "        5.57801044e+05, 5.57801329e+05, 5.57801550e+05, 5.57801723e+05,\n",
       "        5.57801858e+05, 5.57801962e+05, 5.57802044e+05, 5.57802108e+05,\n",
       "        5.57802157e+05, 5.57802196e+05, 5.57802226e+05, 5.57802250e+05,\n",
       "        5.57802268e+05, 5.57802282e+05, 5.57802293e+05, 5.57802302e+05,\n",
       "        5.57802309e+05, 5.57802315e+05, 5.57802319e+05, 5.57802322e+05,\n",
       "        5.57802325e+05, 5.57802327e+05, 5.57802328e+05, 5.57802329e+05,\n",
       "        5.57802330e+05, 5.57802331e+05, 5.57802331e+05, 5.57802331e+05,\n",
       "        5.57802332e+05, 5.57802332e+05, 5.57802332e+05, 5.57802332e+05,\n",
       "        5.57802332e+05, 5.57802332e+05, 5.57802332e+05, 5.57802332e+05,\n",
       "        5.57802332e+05, 5.57802332e+05]),\n",
       " array([0.00000000e+00, 3.16227666e-05, 6.32455232e-05, 1.32707885e-01,\n",
       "        2.65176927e-01, 3.97470956e-01, 8.69000672e-01, 1.33832760e+00,\n",
       "        1.80547746e+00, 2.27047598e+00, 3.80515865e+00, 5.31714108e+00,\n",
       "        6.80730927e+00, 8.27651754e+00, 9.72558887e+00, 1.29856012e+01,\n",
       "        1.61523492e+01, 1.92341655e+01, 2.22387013e+01, 2.51729820e+01,\n",
       "        2.94265438e+01, 3.35576356e+01, 3.75831977e+01, 4.15181105e+01,\n",
       "        4.46818157e+01, 4.77998740e+01, 5.08780893e+01, 6.11708981e+01,\n",
       "        6.37027549e+01, 6.62217331e+01, 6.87298465e+01, 7.12288574e+01,\n",
       "        7.35830093e+01, 7.59316943e+01, 7.82760608e+01, 9.23224611e+01,\n",
       "        1.06425903e+02, 1.20692537e+02, 1.35186048e+02, 1.45154481e+02,\n",
       "        1.70654795e+02, 1.97100019e+02, 2.24557173e+02, 2.53082052e+02,\n",
       "        2.82723641e+02, 3.13528198e+02, 3.78876943e+02, 4.49477996e+02,\n",
       "        5.25734467e+02, 6.66932803e+02, 8.27340539e+02, 1.00968082e+03,\n",
       "        1.21691129e+03, 1.63230301e+03, 2.14714463e+03, 2.78432514e+03,\n",
       "        3.57170833e+03, 4.81383905e+03, 6.41989884e+03, 8.48901360e+03,\n",
       "        1.11403660e+04, 1.45130497e+04, 1.97428882e+04, 2.65327867e+04,\n",
       "        3.51595476e+04, 4.58267664e+04, 5.85875419e+04, 7.32684932e+04,\n",
       "        8.94265060e+04, 1.06373041e+05, 1.23272551e+05, 1.39301377e+05,\n",
       "        1.41517307e+05, 1.43698238e+05, 1.45843586e+05, 1.47952504e+05,\n",
       "        1.50023795e+05, 1.53483936e+05, 1.56825269e+05, 1.60044199e+05,\n",
       "        1.63138249e+05, 1.70982930e+05, 1.77878565e+05, 1.83856816e+05,\n",
       "        1.88978505e+05, 1.94657806e+05, 1.99137830e+05, 2.01924947e+05,\n",
       "        2.04222693e+05, 2.06106453e+05, 2.07642988e+05, 2.08891868e+05,\n",
       "        2.10161200e+05, 2.10915073e+05, 2.11431037e+05]),\n",
       " array([0.00000000e+00, 3.16227666e-05, 6.32455232e-05, ...,\n",
       "        3.47680870e+05, 3.47680950e+05, 3.47681065e+05]),\n",
       " array([0.00000000e+00, 3.16227666e-05, 6.32455232e-05, ...,\n",
       "        5.55649049e+05, 5.55649049e+05, 5.55649049e+05])]"
      ]
     },
     "execution_count": 20,
     "metadata": {},
     "output_type": "execute_result"
    }
   ],
   "source": [
    "# Susceptibles\n",
    "simulation.S\n",
    "# Exposed\n",
    "simulation.E\n",
    "# Infected\n",
    "simulation.I\n",
    "# Recovered\n",
    "simulation.R\n"
   ]
  },
  {
   "cell_type": "code",
   "execution_count": null,
   "metadata": {},
   "outputs": [],
   "source": [
    "# Peak Values per each scenario\n",
    "simulation.peak"
   ]
  },
  {
   "cell_type": "code",
   "execution_count": null,
   "metadata": {},
   "outputs": [],
   "source": [
    "# Peak time\n",
    "simulation.peak_t"
   ]
  },
  {
   "cell_type": "code",
   "execution_count": 21,
   "metadata": {},
   "outputs": [
    {
     "name": "stdout",
     "output_type": "stream",
     "text": [
      "[[1.0e+03 8.0e-01 6.5e-01 0.0e+00 0.0e+00 1.0e+03 0.0e+00]\n",
      " [1.0e+03 8.0e-01 5.0e-01 0.0e+00 0.0e+00 1.0e+03 0.0e+00]\n",
      " [1.0e+03 8.0e-01 3.0e-01 1.4e+01 0.0e+00 1.0e+03 1.0e+00]\n",
      " [1.0e+03 8.0e-01 5.0e-01 1.4e+01 0.0e+00 1.0e+03 1.0e+00]]\n"
     ]
    },
    {
     "data": {
      "text/plain": [
       "()"
      ]
     },
     "execution_count": 21,
     "metadata": {},
     "output_type": "execute_result"
    }
   ],
   "source": [
    "simulation.showscenarios()"
   ]
  },
  {
   "cell_type": "code",
   "execution_count": null,
   "metadata": {},
   "outputs": [],
   "source": []
  }
 ],
 "metadata": {
  "kernelspec": {
   "display_name": "Python 3.8.2 64-bit",
   "language": "python",
   "name": "python38264bit48ae65e862f64697a29185f9fa581b02"
  },
  "language_info": {
   "codemirror_mode": {
    "name": "ipython",
    "version": 3
   },
   "file_extension": ".py",
   "mimetype": "text/x-python",
   "name": "python",
   "nbconvert_exporter": "python",
   "pygments_lexer": "ipython3",
   "version": "3.8.2"
  }
 },
 "nbformat": 4,
 "nbformat_minor": 4
}
