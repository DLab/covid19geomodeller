{
 "cells": [
  {
   "cell_type": "markdown",
   "metadata": {},
   "source": [
    "# SEIR model example\n",
    "\n",
    "\n",
    "\\begin{align}\n",
    "\\dot{S} & = - \\alpha\\beta\\frac{SI}{N}\\\\\n",
    "\\dot{E} & =  \\alpha\\beta\\frac{SI}{N} - E\\frac{1}{\\tau_{EI}}\\\\\n",
    "\\dot{I} & =  E\\frac{1}{\\tau_{EI}} - I\\frac{1}{\\tau_{IR}}\\\\\n",
    "\\dot{R} & =  I\\frac{1}{\\tau_{IR}} \\\\\n",
    "\\end{align}\n",
    "\n",
    "# SEIR model example\n",
    "\\begin{align}\n",
    "\\dot{S} & = S_f - \\alpha\\beta\\frac{SI}{N} + \\rho_{RS} R + \\phi_S\\\\\n",
    "\\dot{E} & = E_f + \\alpha\\beta\\frac{SI}{N} - E\\frac{1}{\\tau_{EI}} + \\phi_E\\\\\n",
    "\\dot{I} & = I_f + E\\frac{1}{\\tau_{EI}} - I\\frac{1}{\\tau_{IR}} + \\phi_I\\\\\n",
    "\\dot{R} & = R_f + I\\frac{1}{\\tau_{IR}} - \\rho_{IR} R + \\phi_R\\\\\n",
    "\\dot{\\Phi} & = \\sum_{i} (\\phi_{i}) \\\\\n",
    "N & = N_0 + \\Phi \\\\\n",
    "N_0 & = S_0+E_0+I_0+R_0  \\\\\n",
    "\\end{align}\n",
    "\n",
    "Where:  \n",
    "* $S:$ Susceptible Individuals\n",
    "* $E:$ Exposed Individuals\n",
    "* $I:$ Infectious Individuals\n",
    "* $R:$ Removed Individuals\n",
    "* $\\alpha:$ Average number of contacts per person per time\n",
    "* $\\beta:$ Probability of disease transmission in a contact between a susceptible and an infectious subject\n",
    "* $N:$ Total population\n",
    "* $\\tau_{EI}:$ Transition time between exposed and infectious\n",
    "* $\\tau_{IR}:$ Transition time between infectious and recovered\n",
    "* $\\rho_{RS}:$ Immunity loss rate. Inverse of Immunity loss rate medium time ($\\frac{1}{t_{RS}}$)  \n",
    "* $\\phi_S,\\phi_E,\\phi_I,\\phi_R:$ External flux per compartment\n",
    "* $\\Phi$: Total external population flux "
   ]
  },
  {
   "cell_type": "code",
   "execution_count": null,
   "metadata": {},
   "outputs": [],
   "source": [
    "# Util libraries\n",
    "import numpy as np\n",
    "import pandas as pd\n",
    "import matplotlib.pyplot as plt\n",
    "from datetime import datetime\n",
    "\n",
    "# cv19 libraries\n",
    "from cv19gm.models.seir import SEIR\n",
    "import cv19gm.utils.cv19functions as cv19functions"
   ]
  },
  {
   "cell_type": "code",
   "execution_count": null,
   "metadata": {},
   "outputs": [],
   "source": [
    "# For pop-up plots execute this code (optional)\n",
    "import platform\n",
    "OS = platform.system()\n",
    "\n",
    "if OS == 'Linux':    \n",
    "    %matplotlib tk\n",
    "    print('Linux')\n",
    "elif OS == 'Windows':\n",
    "    %matplotlib qt\n",
    "    print('Windows')\n",
    "elif OS == 'Darwin':\n",
    "    %matplotlib tk\n",
    "    print('Mac (Funciona?)')"
   ]
  },
  {
   "cell_type": "markdown",
   "metadata": {},
   "source": [
    "# Build a basic SEIR model using a configuration file"
   ]
  },
  {
   "cell_type": "markdown",
   "metadata": {},
   "source": [
    "## Constant parameters"
   ]
  },
  {
   "cell_type": "code",
   "execution_count": null,
   "metadata": {},
   "outputs": [],
   "source": [
    "# Input configuration file\n",
    "config = 'cfg/SEIR.toml'"
   ]
  },
  {
   "cell_type": "code",
   "execution_count": null,
   "metadata": {},
   "outputs": [],
   "source": [
    "# Build simulation object\n",
    "model = SEIR(config = config)"
   ]
  },
  {
   "cell_type": "code",
   "execution_count": null,
   "metadata": {},
   "outputs": [],
   "source": [
    "%%capture\n",
    "# Simulate (solve ODE)\n",
    "model.solve()"
   ]
  },
  {
   "cell_type": "code",
   "execution_count": null,
   "metadata": {
    "scrolled": true
   },
   "outputs": [],
   "source": [
    "# Show results\n",
    "model.results"
   ]
  },
  {
   "cell_type": "code",
   "execution_count": null,
   "metadata": {},
   "outputs": [],
   "source": [
    "# Plot matplotlib\n",
    "plt.plot(model.t,model.S,label='S')\n",
    "plt.plot(model.t,model.E,label='E')\n",
    "plt.plot(model.t,model.I,label='I')\n",
    "plt.plot(model.t,model.R,label='R')\n",
    "plt.xlim(0,300)\n",
    "plt.legend(loc=0)\n",
    "plt.show()"
   ]
  },
  {
   "cell_type": "code",
   "execution_count": null,
   "metadata": {},
   "outputs": [],
   "source": [
    "# Plot with pandas\n",
    "ax = model.results.plot(x='t',y=['S','E','I','R'])\n",
    "ax.set_xlim(0,300)\n",
    "ax.set_title('SEIR simulation plot')"
   ]
  },
  {
   "cell_type": "markdown",
   "metadata": {},
   "source": [
    "## Variable parameters\n",
    "Create a function with time dependent parameters. Check covid19functions notebook for more information on this."
   ]
  },
  {
   "cell_type": "code",
   "execution_count": null,
   "metadata": {},
   "outputs": [],
   "source": [
    "config2 = 'cfg/SEIR_v2.toml'"
   ]
  },
  {
   "cell_type": "code",
   "execution_count": null,
   "metadata": {},
   "outputs": [],
   "source": [
    "model2 = SEIR(config = config2)"
   ]
  },
  {
   "cell_type": "code",
   "execution_count": null,
   "metadata": {},
   "outputs": [],
   "source": [
    "%%capture\n",
    "model2.solve()"
   ]
  },
  {
   "cell_type": "code",
   "execution_count": null,
   "metadata": {},
   "outputs": [],
   "source": [
    "plt.plot(model2.t,model2.S,label='S')\n",
    "plt.plot(model2.t,model2.E,label='E')\n",
    "plt.plot(model2.t,model2.I,label='I')\n",
    "plt.plot(model2.t,model2.R,label='R')\n",
    "plt.xlim(0,300)\n",
    "plt.legend(loc=0)\n",
    "plt.show()"
   ]
  },
  {
   "cell_type": "markdown",
   "metadata": {},
   "source": [
    "# SEIR desde cmd"
   ]
  },
  {
   "cell_type": "code",
   "execution_count": null,
   "metadata": {},
   "outputs": [],
   "source": [
    "beta = 0.2\n",
    "population = 10000\n",
    "I = 100"
   ]
  },
  {
   "cell_type": "code",
   "execution_count": null,
   "metadata": {},
   "outputs": [],
   "source": [
    "model = SEIR(config = config)"
   ]
  },
  {
   "cell_type": "code",
   "execution_count": null,
   "metadata": {},
   "outputs": [],
   "source": [
    "model.solve()"
   ]
  },
  {
   "cell_type": "markdown",
   "metadata": {},
   "source": [
    "### Variable parameters"
   ]
  },
  {
   "cell_type": "code",
   "execution_count": null,
   "metadata": {},
   "outputs": [],
   "source": [
    "t = np.linspace(0,6,1000)"
   ]
  },
  {
   "cell_type": "code",
   "execution_count": null,
   "metadata": {},
   "outputs": [],
   "source": [
    "beta = lambda t: np.sin(t)"
   ]
  },
  {
   "cell_type": "code",
   "execution_count": null,
   "metadata": {},
   "outputs": [],
   "source": [
    "plt.plot(t,beta(t))"
   ]
  },
  {
   "cell_type": "code",
   "execution_count": null,
   "metadata": {},
   "outputs": [],
   "source": [
    "model = SEIR(config = config,beta=beta)"
   ]
  },
  {
   "cell_type": "code",
   "execution_count": null,
   "metadata": {},
   "outputs": [],
   "source": [
    "model.solve()"
   ]
  },
  {
   "cell_type": "code",
   "execution_count": null,
   "metadata": {},
   "outputs": [],
   "source": [
    "plt.plot(model.t,model.I)\n",
    "plt.title('Active Infected')\n",
    "plt.xlim(0,50)\n",
    "plt.show()"
   ]
  },
  {
   "cell_type": "code",
   "execution_count": null,
   "metadata": {},
   "outputs": [],
   "source": []
  },
  {
   "cell_type": "code",
   "execution_count": null,
   "metadata": {},
   "outputs": [],
   "source": [
    "beta2 = cv19functions.events(days=[[0,10],[10,60],[60,100]],values=[0.12,0.2,0.3],default = 0.1)"
   ]
  },
  {
   "cell_type": "code",
   "execution_count": null,
   "metadata": {},
   "outputs": [],
   "source": [
    "t = np.linspace(0,200,10000)"
   ]
  },
  {
   "cell_type": "code",
   "execution_count": null,
   "metadata": {},
   "outputs": [],
   "source": [
    "plt.plot(t,beta2(t))"
   ]
  },
  {
   "cell_type": "code",
   "execution_count": null,
   "metadata": {},
   "outputs": [],
   "source": [
    "model2 = SEIR(config = config,beta=beta2)"
   ]
  },
  {
   "cell_type": "code",
   "execution_count": null,
   "metadata": {},
   "outputs": [],
   "source": [
    "model2.solve()"
   ]
  },
  {
   "cell_type": "code",
   "execution_count": null,
   "metadata": {},
   "outputs": [],
   "source": [
    "plt.plot(model2.t,model2.I)"
   ]
  },
  {
   "cell_type": "markdown",
   "metadata": {},
   "source": [
    "# Study"
   ]
  },
  {
   "cell_type": "code",
   "execution_count": null,
   "metadata": {},
   "outputs": [],
   "source": [
    "# Input configuration file\n",
    "config = 'cfg/SEIR.toml'"
   ]
  },
  {
   "cell_type": "code",
   "execution_count": null,
   "metadata": {},
   "outputs": [],
   "source": [
    "# Build simulation object\n",
    "model1 = SEIR(config = config, I_d_det = 600, population = 1000000)\n",
    "model2 = SEIR(config = config, I_d_det = 600, population = 10000000)"
   ]
  },
  {
   "cell_type": "code",
   "execution_count": null,
   "metadata": {},
   "outputs": [],
   "source": [
    "%%capture\n",
    "# Simulate (solve ODE)\n",
    "model1.solve()\n",
    "model2.solve()"
   ]
  },
  {
   "cell_type": "code",
   "execution_count": null,
   "metadata": {},
   "outputs": [],
   "source": [
    "model1.I_d[0]"
   ]
  },
  {
   "cell_type": "code",
   "execution_count": null,
   "metadata": {},
   "outputs": [],
   "source": [
    "# Plot matplotlib\n",
    "#plt.plot(model.t,model1.S,label='S')\n",
    "#plt.plot(model.t,model1.E,label='E')\n",
    "plt.plot(model.t,model1.I_d,label='I_1')\n",
    "plt.plot(model.t,model2.I_d,label='I_2')\n",
    "plt.xlim(0,300)\n",
    "plt.yscale('log')\n",
    "plt.legend(loc=0)\n",
    "plt.show()"
   ]
  },
  {
   "cell_type": "code",
   "execution_count": null,
   "metadata": {},
   "outputs": [],
   "source": []
  }
 ],
 "metadata": {
  "kernelspec": {
   "display_name": "Python 3",
   "language": "python",
   "name": "python3"
  },
  "language_info": {
   "codemirror_mode": {
    "name": "ipython",
    "version": 3
   },
   "file_extension": ".py",
   "mimetype": "text/x-python",
   "name": "python",
   "nbconvert_exporter": "python",
   "pygments_lexer": "ipython3",
   "version": "3.8.3"
  }
 },
 "nbformat": 4,
 "nbformat_minor": 4
}
