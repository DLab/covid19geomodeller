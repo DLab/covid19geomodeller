{
 "cells": [
  {
   "cell_type": "markdown",
   "metadata": {},
   "source": [
    "# SEIR model example\n",
    "\n",
    "\n",
    "\\begin{align}\n",
    "\\dot{S} & = - \\alpha\\beta\\frac{SI}{N} + \\rho_{RS} R + \\phi_S \\\\\n",
    "\\dot{E} & =  \\alpha\\beta\\frac{SI}{N} - E\\frac{1}{\\tau_{EI}}+ \\phi_E\\\\\n",
    "\\dot{I} & =  E\\frac{1}{\\tau_{EI}} - I\\frac{1}{\\tau_{IR}}+ \\phi_I\\\\\n",
    "\\dot{R} & =  I\\frac{1}{\\tau_{IR}} - \\rho_{IR} R + \\phi_R\\\\\n",
    "\\dot{\\Phi} & = \\sum_{i} (\\phi_{i}) \\\\\n",
    "N & = N_0 + \\Phi \\\\\n",
    "N_0 & = S_0+E_0+I_0+R_0  \\\\\n",
    "\\end{align}\n",
    "\n",
    "Where:  \n",
    "* $S:$ Susceptible Individuals\n",
    "* $E:$ Exposed Individuals\n",
    "* $I:$ Infectious Individuals\n",
    "* $R:$ Removed Individuals\n",
    "* $\\alpha:$ Average number of contacts per person per time\n",
    "* $\\beta:$ Probability of disease transmission in a contact between a susceptible and an infectious subject\n",
    "* $N:$ Total population\n",
    "* $\\tau_{EI}:$ Transition time between exposed and infectious\n",
    "* $\\tau_{IR}:$ Transition time between infectious and recovered\n",
    "* $\\rho_{RS}:$ Immunity loss rate. Inverse of Immunity loss rate medium time ($\\frac{1}{t_{RS}}$)  \n",
    "* $\\phi_S,\\phi_E,\\phi_I,\\phi_R:$ External flux per compartment\n",
    "* $\\Phi$: Total external population flux "
   ]
  },
  {
   "cell_type": "code",
   "execution_count": 1,
   "metadata": {},
   "outputs": [],
   "source": [
    "# Util libraries\n",
    "import numpy as np\n",
    "import pandas as pd\n",
    "import matplotlib.pyplot as plt\n",
    "from datetime import datetime\n",
    "\n",
    "# cv19 libraries\n",
    "from cv19gm.models.seir import SEIR\n",
    "import cv19gm.utils.cv19functions as cv19functions"
   ]
  },
  {
   "cell_type": "code",
   "execution_count": 2,
   "metadata": {},
   "outputs": [],
   "source": [
    "# For pop-up plots execute this code (optional)\n",
    "if False:\n",
    "    import platform\n",
    "    OS = platform.system()\n",
    "\n",
    "    if OS == 'Linux':    \n",
    "        %matplotlib tk\n",
    "        print('Linux')\n",
    "    elif OS == 'Windows':\n",
    "        %matplotlib qt\n",
    "        print('Windows')\n",
    "    elif OS == 'Darwin':\n",
    "        %matplotlib tk\n",
    "        print('Mac (Funciona?)')"
   ]
  },
  {
   "cell_type": "markdown",
   "metadata": {},
   "source": [
    "# Build a basic SEIR model using a configuration file"
   ]
  },
  {
   "cell_type": "markdown",
   "metadata": {},
   "source": [
    "## Constant parameters"
   ]
  },
  {
   "cell_type": "code",
   "execution_count": 3,
   "metadata": {},
   "outputs": [],
   "source": [
    "# Input configuration file\n",
    "config = 'cfg/SEIR.toml'"
   ]
  },
  {
   "cell_type": "code",
   "execution_count": 4,
   "metadata": {},
   "outputs": [],
   "source": [
    "# Build simulation object\n",
    "model = SEIR(config = config,beta=0.3,tI_R= 5)"
   ]
  },
  {
   "cell_type": "code",
   "execution_count": 5,
   "metadata": {},
   "outputs": [],
   "source": [
    "#%%capture\n",
    "# Simulate (solve ODE)\n",
    "model.solve()"
   ]
  },
  {
   "cell_type": "code",
   "execution_count": 6,
   "metadata": {},
   "outputs": [
    {
     "data": {
      "text/html": [
       "<div>\n",
       "<style scoped>\n",
       "    .dataframe tbody tr th:only-of-type {\n",
       "        vertical-align: middle;\n",
       "    }\n",
       "\n",
       "    .dataframe tbody tr th {\n",
       "        vertical-align: top;\n",
       "    }\n",
       "\n",
       "    .dataframe thead th {\n",
       "        text-align: right;\n",
       "    }\n",
       "</style>\n",
       "<table border=\"1\" class=\"dataframe\">\n",
       "  <thead>\n",
       "    <tr style=\"text-align: right;\">\n",
       "      <th></th>\n",
       "      <th>t</th>\n",
       "      <th>dates</th>\n",
       "      <th>S</th>\n",
       "      <th>E</th>\n",
       "      <th>E_d</th>\n",
       "      <th>I</th>\n",
       "      <th>I_d</th>\n",
       "      <th>R</th>\n",
       "      <th>R_d</th>\n",
       "      <th>Flux</th>\n",
       "      <th>...</th>\n",
       "      <th>I_d_det</th>\n",
       "      <th>I_ac_det</th>\n",
       "      <th>beta</th>\n",
       "      <th>alpha</th>\n",
       "      <th>tE_I</th>\n",
       "      <th>tI_R</th>\n",
       "      <th>rR_S</th>\n",
       "      <th>prevalence_total</th>\n",
       "      <th>prevalence_susc</th>\n",
       "      <th>prevalence_det</th>\n",
       "    </tr>\n",
       "  </thead>\n",
       "  <tbody>\n",
       "    <tr>\n",
       "      <th>0</th>\n",
       "      <td>0</td>\n",
       "      <td>None</td>\n",
       "      <td>986000</td>\n",
       "      <td>3000</td>\n",
       "      <td>1500</td>\n",
       "      <td>6000</td>\n",
       "      <td>3000</td>\n",
       "      <td>5000</td>\n",
       "      <td>0</td>\n",
       "      <td>0</td>\n",
       "      <td>...</td>\n",
       "      <td>3000</td>\n",
       "      <td>15000</td>\n",
       "      <td>0.3</td>\n",
       "      <td>1.0</td>\n",
       "      <td>5.0</td>\n",
       "      <td>5.0</td>\n",
       "      <td>0.0</td>\n",
       "      <td>0.015000</td>\n",
       "      <td>0.015000</td>\n",
       "      <td>0.015000</td>\n",
       "    </tr>\n",
       "    <tr>\n",
       "      <th>1</th>\n",
       "      <td>1</td>\n",
       "      <td>None</td>\n",
       "      <td>984299</td>\n",
       "      <td>3995</td>\n",
       "      <td>1619</td>\n",
       "      <td>5554</td>\n",
       "      <td>1559</td>\n",
       "      <td>6150</td>\n",
       "      <td>722</td>\n",
       "      <td>0</td>\n",
       "      <td>...</td>\n",
       "      <td>1559</td>\n",
       "      <td>18000</td>\n",
       "      <td>0.3</td>\n",
       "      <td>1.0</td>\n",
       "      <td>5.0</td>\n",
       "      <td>5.0</td>\n",
       "      <td>0.0</td>\n",
       "      <td>0.018000</td>\n",
       "      <td>0.018000</td>\n",
       "      <td>0.018000</td>\n",
       "    </tr>\n",
       "    <tr>\n",
       "      <th>2</th>\n",
       "      <td>2</td>\n",
       "      <td>None</td>\n",
       "      <td>982696</td>\n",
       "      <td>4723</td>\n",
       "      <td>1605</td>\n",
       "      <td>5343</td>\n",
       "      <td>1134</td>\n",
       "      <td>7237</td>\n",
       "      <td>950</td>\n",
       "      <td>0</td>\n",
       "      <td>...</td>\n",
       "      <td>1134</td>\n",
       "      <td>19559</td>\n",
       "      <td>0.3</td>\n",
       "      <td>1.0</td>\n",
       "      <td>5.0</td>\n",
       "      <td>5.0</td>\n",
       "      <td>0.0</td>\n",
       "      <td>0.019560</td>\n",
       "      <td>0.019560</td>\n",
       "      <td>0.019560</td>\n",
       "    </tr>\n",
       "    <tr>\n",
       "      <th>3</th>\n",
       "      <td>3</td>\n",
       "      <td>None</td>\n",
       "      <td>981134</td>\n",
       "      <td>5282</td>\n",
       "      <td>1577</td>\n",
       "      <td>5285</td>\n",
       "      <td>1056</td>\n",
       "      <td>8298</td>\n",
       "      <td>1019</td>\n",
       "      <td>0</td>\n",
       "      <td>...</td>\n",
       "      <td>1056</td>\n",
       "      <td>20694</td>\n",
       "      <td>0.3</td>\n",
       "      <td>1.0</td>\n",
       "      <td>5.0</td>\n",
       "      <td>5.0</td>\n",
       "      <td>0.0</td>\n",
       "      <td>0.020694</td>\n",
       "      <td>0.020694</td>\n",
       "      <td>0.020694</td>\n",
       "    </tr>\n",
       "    <tr>\n",
       "      <th>4</th>\n",
       "      <td>4</td>\n",
       "      <td>None</td>\n",
       "      <td>979575</td>\n",
       "      <td>5737</td>\n",
       "      <td>1566</td>\n",
       "      <td>5328</td>\n",
       "      <td>1091</td>\n",
       "      <td>9358</td>\n",
       "      <td>1045</td>\n",
       "      <td>0</td>\n",
       "      <td>...</td>\n",
       "      <td>1091</td>\n",
       "      <td>21751</td>\n",
       "      <td>0.3</td>\n",
       "      <td>1.0</td>\n",
       "      <td>5.0</td>\n",
       "      <td>5.0</td>\n",
       "      <td>0.0</td>\n",
       "      <td>0.021751</td>\n",
       "      <td>0.021751</td>\n",
       "      <td>0.021751</td>\n",
       "    </tr>\n",
       "    <tr>\n",
       "      <th>...</th>\n",
       "      <td>...</td>\n",
       "      <td>...</td>\n",
       "      <td>...</td>\n",
       "      <td>...</td>\n",
       "      <td>...</td>\n",
       "      <td>...</td>\n",
       "      <td>...</td>\n",
       "      <td>...</td>\n",
       "      <td>...</td>\n",
       "      <td>...</td>\n",
       "      <td>...</td>\n",
       "      <td>...</td>\n",
       "      <td>...</td>\n",
       "      <td>...</td>\n",
       "      <td>...</td>\n",
       "      <td>...</td>\n",
       "      <td>...</td>\n",
       "      <td>...</td>\n",
       "      <td>...</td>\n",
       "      <td>...</td>\n",
       "      <td>...</td>\n",
       "    </tr>\n",
       "    <tr>\n",
       "      <th>495</th>\n",
       "      <td>495</td>\n",
       "      <td>None</td>\n",
       "      <td>409932</td>\n",
       "      <td>0</td>\n",
       "      <td>0</td>\n",
       "      <td>0</td>\n",
       "      <td>0</td>\n",
       "      <td>590067</td>\n",
       "      <td>0</td>\n",
       "      <td>0</td>\n",
       "      <td>...</td>\n",
       "      <td>0</td>\n",
       "      <td>598929</td>\n",
       "      <td>0.3</td>\n",
       "      <td>1.0</td>\n",
       "      <td>5.0</td>\n",
       "      <td>5.0</td>\n",
       "      <td>0.0</td>\n",
       "      <td>0.598930</td>\n",
       "      <td>0.598930</td>\n",
       "      <td>0.598930</td>\n",
       "    </tr>\n",
       "    <tr>\n",
       "      <th>496</th>\n",
       "      <td>496</td>\n",
       "      <td>None</td>\n",
       "      <td>409932</td>\n",
       "      <td>0</td>\n",
       "      <td>0</td>\n",
       "      <td>0</td>\n",
       "      <td>0</td>\n",
       "      <td>590067</td>\n",
       "      <td>0</td>\n",
       "      <td>0</td>\n",
       "      <td>...</td>\n",
       "      <td>0</td>\n",
       "      <td>598929</td>\n",
       "      <td>0.3</td>\n",
       "      <td>1.0</td>\n",
       "      <td>5.0</td>\n",
       "      <td>5.0</td>\n",
       "      <td>0.0</td>\n",
       "      <td>0.598930</td>\n",
       "      <td>0.598930</td>\n",
       "      <td>0.598930</td>\n",
       "    </tr>\n",
       "    <tr>\n",
       "      <th>497</th>\n",
       "      <td>497</td>\n",
       "      <td>None</td>\n",
       "      <td>409932</td>\n",
       "      <td>0</td>\n",
       "      <td>0</td>\n",
       "      <td>0</td>\n",
       "      <td>0</td>\n",
       "      <td>590067</td>\n",
       "      <td>0</td>\n",
       "      <td>0</td>\n",
       "      <td>...</td>\n",
       "      <td>0</td>\n",
       "      <td>598929</td>\n",
       "      <td>0.3</td>\n",
       "      <td>1.0</td>\n",
       "      <td>5.0</td>\n",
       "      <td>5.0</td>\n",
       "      <td>0.0</td>\n",
       "      <td>0.598930</td>\n",
       "      <td>0.598930</td>\n",
       "      <td>0.598930</td>\n",
       "    </tr>\n",
       "    <tr>\n",
       "      <th>498</th>\n",
       "      <td>498</td>\n",
       "      <td>None</td>\n",
       "      <td>409932</td>\n",
       "      <td>0</td>\n",
       "      <td>0</td>\n",
       "      <td>0</td>\n",
       "      <td>0</td>\n",
       "      <td>590067</td>\n",
       "      <td>0</td>\n",
       "      <td>0</td>\n",
       "      <td>...</td>\n",
       "      <td>0</td>\n",
       "      <td>598929</td>\n",
       "      <td>0.3</td>\n",
       "      <td>1.0</td>\n",
       "      <td>5.0</td>\n",
       "      <td>5.0</td>\n",
       "      <td>0.0</td>\n",
       "      <td>0.598930</td>\n",
       "      <td>0.598930</td>\n",
       "      <td>0.598930</td>\n",
       "    </tr>\n",
       "    <tr>\n",
       "      <th>499</th>\n",
       "      <td>499</td>\n",
       "      <td>None</td>\n",
       "      <td>409932</td>\n",
       "      <td>0</td>\n",
       "      <td>0</td>\n",
       "      <td>0</td>\n",
       "      <td>0</td>\n",
       "      <td>590067</td>\n",
       "      <td>0</td>\n",
       "      <td>0</td>\n",
       "      <td>...</td>\n",
       "      <td>0</td>\n",
       "      <td>598929</td>\n",
       "      <td>0.3</td>\n",
       "      <td>1.0</td>\n",
       "      <td>5.0</td>\n",
       "      <td>5.0</td>\n",
       "      <td>0.0</td>\n",
       "      <td>0.598930</td>\n",
       "      <td>0.598930</td>\n",
       "      <td>0.598930</td>\n",
       "    </tr>\n",
       "  </tbody>\n",
       "</table>\n",
       "<p>500 rows × 24 columns</p>\n",
       "</div>"
      ],
      "text/plain": [
       "       t dates       S     E   E_d     I   I_d       R   R_d  Flux  ...  \\\n",
       "0      0  None  986000  3000  1500  6000  3000    5000     0     0  ...   \n",
       "1      1  None  984299  3995  1619  5554  1559    6150   722     0  ...   \n",
       "2      2  None  982696  4723  1605  5343  1134    7237   950     0  ...   \n",
       "3      3  None  981134  5282  1577  5285  1056    8298  1019     0  ...   \n",
       "4      4  None  979575  5737  1566  5328  1091    9358  1045     0  ...   \n",
       "..   ...   ...     ...   ...   ...   ...   ...     ...   ...   ...  ...   \n",
       "495  495  None  409932     0     0     0     0  590067     0     0  ...   \n",
       "496  496  None  409932     0     0     0     0  590067     0     0  ...   \n",
       "497  497  None  409932     0     0     0     0  590067     0     0  ...   \n",
       "498  498  None  409932     0     0     0     0  590067     0     0  ...   \n",
       "499  499  None  409932     0     0     0     0  590067     0     0  ...   \n",
       "\n",
       "     I_d_det  I_ac_det  beta  alpha  tE_I  tI_R  rR_S  prevalence_total  \\\n",
       "0       3000     15000   0.3    1.0   5.0   5.0   0.0          0.015000   \n",
       "1       1559     18000   0.3    1.0   5.0   5.0   0.0          0.018000   \n",
       "2       1134     19559   0.3    1.0   5.0   5.0   0.0          0.019560   \n",
       "3       1056     20694   0.3    1.0   5.0   5.0   0.0          0.020694   \n",
       "4       1091     21751   0.3    1.0   5.0   5.0   0.0          0.021751   \n",
       "..       ...       ...   ...    ...   ...   ...   ...               ...   \n",
       "495        0    598929   0.3    1.0   5.0   5.0   0.0          0.598930   \n",
       "496        0    598929   0.3    1.0   5.0   5.0   0.0          0.598930   \n",
       "497        0    598929   0.3    1.0   5.0   5.0   0.0          0.598930   \n",
       "498        0    598929   0.3    1.0   5.0   5.0   0.0          0.598930   \n",
       "499        0    598929   0.3    1.0   5.0   5.0   0.0          0.598930   \n",
       "\n",
       "     prevalence_susc  prevalence_det  \n",
       "0           0.015000        0.015000  \n",
       "1           0.018000        0.018000  \n",
       "2           0.019560        0.019560  \n",
       "3           0.020694        0.020694  \n",
       "4           0.021751        0.021751  \n",
       "..               ...             ...  \n",
       "495         0.598930        0.598930  \n",
       "496         0.598930        0.598930  \n",
       "497         0.598930        0.598930  \n",
       "498         0.598930        0.598930  \n",
       "499         0.598930        0.598930  \n",
       "\n",
       "[500 rows x 24 columns]"
      ]
     },
     "execution_count": 6,
     "metadata": {},
     "output_type": "execute_result"
    }
   ],
   "source": [
    "model.results"
   ]
  },
  {
   "cell_type": "code",
   "execution_count": 7,
   "metadata": {},
   "outputs": [
    {
     "data": {
      "text/html": [
       "<div>\n",
       "<style scoped>\n",
       "    .dataframe tbody tr th:only-of-type {\n",
       "        vertical-align: middle;\n",
       "    }\n",
       "\n",
       "    .dataframe tbody tr th {\n",
       "        vertical-align: top;\n",
       "    }\n",
       "\n",
       "    .dataframe thead th {\n",
       "        text-align: right;\n",
       "    }\n",
       "</style>\n",
       "<table border=\"1\" class=\"dataframe\">\n",
       "  <thead>\n",
       "    <tr style=\"text-align: right;\">\n",
       "      <th></th>\n",
       "      <th>t</th>\n",
       "      <th>dates</th>\n",
       "      <th>S</th>\n",
       "      <th>E</th>\n",
       "      <th>E_d</th>\n",
       "      <th>I</th>\n",
       "      <th>I_d</th>\n",
       "      <th>R</th>\n",
       "      <th>R_d</th>\n",
       "      <th>Flux</th>\n",
       "      <th>E_ac</th>\n",
       "      <th>I_ac</th>\n",
       "      <th>R_ac</th>\n",
       "      <th>I_det</th>\n",
       "      <th>I_d_det</th>\n",
       "      <th>I_ac_det</th>\n",
       "    </tr>\n",
       "  </thead>\n",
       "  <tbody>\n",
       "    <tr>\n",
       "      <th>0</th>\n",
       "      <td>0</td>\n",
       "      <td>None</td>\n",
       "      <td>986000</td>\n",
       "      <td>3000</td>\n",
       "      <td>1500</td>\n",
       "      <td>6000</td>\n",
       "      <td>3000</td>\n",
       "      <td>5000</td>\n",
       "      <td>0</td>\n",
       "      <td>0</td>\n",
       "      <td>7500</td>\n",
       "      <td>15000</td>\n",
       "      <td>5000</td>\n",
       "      <td>6000</td>\n",
       "      <td>3000</td>\n",
       "      <td>15000</td>\n",
       "    </tr>\n",
       "    <tr>\n",
       "      <th>1</th>\n",
       "      <td>1</td>\n",
       "      <td>None</td>\n",
       "      <td>984299</td>\n",
       "      <td>3995</td>\n",
       "      <td>1619</td>\n",
       "      <td>5554</td>\n",
       "      <td>1559</td>\n",
       "      <td>6150</td>\n",
       "      <td>722</td>\n",
       "      <td>0</td>\n",
       "      <td>9000</td>\n",
       "      <td>18000</td>\n",
       "      <td>5000</td>\n",
       "      <td>5554</td>\n",
       "      <td>1559</td>\n",
       "      <td>18000</td>\n",
       "    </tr>\n",
       "    <tr>\n",
       "      <th>2</th>\n",
       "      <td>2</td>\n",
       "      <td>None</td>\n",
       "      <td>982696</td>\n",
       "      <td>4723</td>\n",
       "      <td>1605</td>\n",
       "      <td>5343</td>\n",
       "      <td>1134</td>\n",
       "      <td>7237</td>\n",
       "      <td>950</td>\n",
       "      <td>0</td>\n",
       "      <td>10619</td>\n",
       "      <td>19559</td>\n",
       "      <td>5722</td>\n",
       "      <td>5343</td>\n",
       "      <td>1134</td>\n",
       "      <td>19559</td>\n",
       "    </tr>\n",
       "    <tr>\n",
       "      <th>3</th>\n",
       "      <td>3</td>\n",
       "      <td>None</td>\n",
       "      <td>981134</td>\n",
       "      <td>5282</td>\n",
       "      <td>1577</td>\n",
       "      <td>5285</td>\n",
       "      <td>1056</td>\n",
       "      <td>8298</td>\n",
       "      <td>1019</td>\n",
       "      <td>0</td>\n",
       "      <td>12225</td>\n",
       "      <td>20694</td>\n",
       "      <td>6673</td>\n",
       "      <td>5285</td>\n",
       "      <td>1056</td>\n",
       "      <td>20694</td>\n",
       "    </tr>\n",
       "    <tr>\n",
       "      <th>4</th>\n",
       "      <td>4</td>\n",
       "      <td>None</td>\n",
       "      <td>979575</td>\n",
       "      <td>5737</td>\n",
       "      <td>1566</td>\n",
       "      <td>5328</td>\n",
       "      <td>1091</td>\n",
       "      <td>9358</td>\n",
       "      <td>1045</td>\n",
       "      <td>0</td>\n",
       "      <td>13803</td>\n",
       "      <td>21751</td>\n",
       "      <td>7693</td>\n",
       "      <td>5328</td>\n",
       "      <td>1091</td>\n",
       "      <td>21751</td>\n",
       "    </tr>\n",
       "    <tr>\n",
       "      <th>...</th>\n",
       "      <td>...</td>\n",
       "      <td>...</td>\n",
       "      <td>...</td>\n",
       "      <td>...</td>\n",
       "      <td>...</td>\n",
       "      <td>...</td>\n",
       "      <td>...</td>\n",
       "      <td>...</td>\n",
       "      <td>...</td>\n",
       "      <td>...</td>\n",
       "      <td>...</td>\n",
       "      <td>...</td>\n",
       "      <td>...</td>\n",
       "      <td>...</td>\n",
       "      <td>...</td>\n",
       "      <td>...</td>\n",
       "    </tr>\n",
       "    <tr>\n",
       "      <th>495</th>\n",
       "      <td>495</td>\n",
       "      <td>None</td>\n",
       "      <td>409932</td>\n",
       "      <td>0</td>\n",
       "      <td>0</td>\n",
       "      <td>0</td>\n",
       "      <td>0</td>\n",
       "      <td>590067</td>\n",
       "      <td>0</td>\n",
       "      <td>0</td>\n",
       "      <td>585947</td>\n",
       "      <td>598929</td>\n",
       "      <td>590122</td>\n",
       "      <td>0</td>\n",
       "      <td>0</td>\n",
       "      <td>598929</td>\n",
       "    </tr>\n",
       "    <tr>\n",
       "      <th>496</th>\n",
       "      <td>496</td>\n",
       "      <td>None</td>\n",
       "      <td>409932</td>\n",
       "      <td>0</td>\n",
       "      <td>0</td>\n",
       "      <td>0</td>\n",
       "      <td>0</td>\n",
       "      <td>590067</td>\n",
       "      <td>0</td>\n",
       "      <td>0</td>\n",
       "      <td>585947</td>\n",
       "      <td>598929</td>\n",
       "      <td>590122</td>\n",
       "      <td>0</td>\n",
       "      <td>0</td>\n",
       "      <td>598929</td>\n",
       "    </tr>\n",
       "    <tr>\n",
       "      <th>497</th>\n",
       "      <td>497</td>\n",
       "      <td>None</td>\n",
       "      <td>409932</td>\n",
       "      <td>0</td>\n",
       "      <td>0</td>\n",
       "      <td>0</td>\n",
       "      <td>0</td>\n",
       "      <td>590067</td>\n",
       "      <td>0</td>\n",
       "      <td>0</td>\n",
       "      <td>585947</td>\n",
       "      <td>598929</td>\n",
       "      <td>590122</td>\n",
       "      <td>0</td>\n",
       "      <td>0</td>\n",
       "      <td>598929</td>\n",
       "    </tr>\n",
       "    <tr>\n",
       "      <th>498</th>\n",
       "      <td>498</td>\n",
       "      <td>None</td>\n",
       "      <td>409932</td>\n",
       "      <td>0</td>\n",
       "      <td>0</td>\n",
       "      <td>0</td>\n",
       "      <td>0</td>\n",
       "      <td>590067</td>\n",
       "      <td>0</td>\n",
       "      <td>0</td>\n",
       "      <td>585947</td>\n",
       "      <td>598929</td>\n",
       "      <td>590122</td>\n",
       "      <td>0</td>\n",
       "      <td>0</td>\n",
       "      <td>598929</td>\n",
       "    </tr>\n",
       "    <tr>\n",
       "      <th>499</th>\n",
       "      <td>499</td>\n",
       "      <td>None</td>\n",
       "      <td>409932</td>\n",
       "      <td>0</td>\n",
       "      <td>0</td>\n",
       "      <td>0</td>\n",
       "      <td>0</td>\n",
       "      <td>590067</td>\n",
       "      <td>0</td>\n",
       "      <td>0</td>\n",
       "      <td>585947</td>\n",
       "      <td>598929</td>\n",
       "      <td>590122</td>\n",
       "      <td>0</td>\n",
       "      <td>0</td>\n",
       "      <td>598929</td>\n",
       "    </tr>\n",
       "  </tbody>\n",
       "</table>\n",
       "<p>500 rows × 16 columns</p>\n",
       "</div>"
      ],
      "text/plain": [
       "       t dates       S     E   E_d     I   I_d       R   R_d  Flux    E_ac  \\\n",
       "0      0  None  986000  3000  1500  6000  3000    5000     0     0    7500   \n",
       "1      1  None  984299  3995  1619  5554  1559    6150   722     0    9000   \n",
       "2      2  None  982696  4723  1605  5343  1134    7237   950     0   10619   \n",
       "3      3  None  981134  5282  1577  5285  1056    8298  1019     0   12225   \n",
       "4      4  None  979575  5737  1566  5328  1091    9358  1045     0   13803   \n",
       "..   ...   ...     ...   ...   ...   ...   ...     ...   ...   ...     ...   \n",
       "495  495  None  409932     0     0     0     0  590067     0     0  585947   \n",
       "496  496  None  409932     0     0     0     0  590067     0     0  585947   \n",
       "497  497  None  409932     0     0     0     0  590067     0     0  585947   \n",
       "498  498  None  409932     0     0     0     0  590067     0     0  585947   \n",
       "499  499  None  409932     0     0     0     0  590067     0     0  585947   \n",
       "\n",
       "       I_ac    R_ac  I_det  I_d_det  I_ac_det  \n",
       "0     15000    5000   6000     3000     15000  \n",
       "1     18000    5000   5554     1559     18000  \n",
       "2     19559    5722   5343     1134     19559  \n",
       "3     20694    6673   5285     1056     20694  \n",
       "4     21751    7693   5328     1091     21751  \n",
       "..      ...     ...    ...      ...       ...  \n",
       "495  598929  590122      0        0    598929  \n",
       "496  598929  590122      0        0    598929  \n",
       "497  598929  590122      0        0    598929  \n",
       "498  598929  590122      0        0    598929  \n",
       "499  598929  590122      0        0    598929  \n",
       "\n",
       "[500 rows x 16 columns]"
      ]
     },
     "execution_count": 7,
     "metadata": {},
     "output_type": "execute_result"
    }
   ],
   "source": [
    "model.compartments"
   ]
  },
  {
   "cell_type": "code",
   "execution_count": 8,
   "metadata": {},
   "outputs": [
    {
     "data": {
      "text/plain": [
       "Index(['t', 'dates', 'S', 'E', 'E_d', 'I', 'I_d', 'R', 'R_d', 'Flux', 'E_ac',\n",
       "       'I_ac', 'R_ac', 'I_det', 'I_d_det', 'I_ac_det', 'beta', 'alpha', 'tE_I',\n",
       "       'tI_R', 'rR_S', 'prevalence_total', 'prevalence_susc',\n",
       "       'prevalence_det'],\n",
       "      dtype='object')"
      ]
     },
     "execution_count": 8,
     "metadata": {},
     "output_type": "execute_result"
    }
   ],
   "source": [
    "model.results.columns"
   ]
  },
  {
   "cell_type": "code",
   "execution_count": 9,
   "metadata": {},
   "outputs": [
    {
     "data": {
      "image/png": "[encoded data removed]",
      "text/plain": [
       "<Figure size 432x288 with 1 Axes>"
      ]
     },
     "metadata": {
      "needs_background": "light"
     },
     "output_type": "display_data"
    }
   ],
   "source": [
    "# Plot matplotlib\n",
    "plt.plot(model.t,model.S,label='S')\n",
    "plt.plot(model.t,model.E,label='E')\n",
    "plt.plot(model.t,model.I,label='I')\n",
    "plt.plot(model.t,model.R,label='R')\n",
    "plt.xlim(0,300)\n",
    "plt.legend(loc=0)\n",
    "plt.show()"
   ]
  },
  {
   "cell_type": "code",
   "execution_count": 10,
   "metadata": {},
   "outputs": [
    {
     "data": {
      "text/plain": [
       "Text(0.5, 1.0, 'SEIR simulation plot')"
      ]
     },
     "execution_count": 10,
     "metadata": {},
     "output_type": "execute_result"
    },
    {
     "data": {
      "image/png": "[encoded data removed]",
      "text/plain": [
       "<Figure size 432x288 with 1 Axes>"
      ]
     },
     "metadata": {
      "needs_background": "light"
     },
     "output_type": "display_data"
    }
   ],
   "source": [
    "# Plot with pandas\n",
    "ax = model.results.plot(x='t',y=['S','E','I','R'])\n",
    "ax.set_xlim(0,300)\n",
    "ax.set_title('SEIR simulation plot')"
   ]
  },
  {
   "cell_type": "markdown",
   "metadata": {},
   "source": [
    "## Variable parameters\n",
    "Create a function with time dependent parameters. Check covid19functions notebook for more information on this."
   ]
  },
  {
   "cell_type": "code",
   "execution_count": 21,
   "metadata": {},
   "outputs": [],
   "source": [
    "config2 = 'cfg/SEIR_v2.toml'"
   ]
  },
  {
   "cell_type": "code",
   "execution_count": 22,
   "metadata": {},
   "outputs": [
    {
     "name": "stdout",
     "output_type": "stream",
     "text": [
      "input dict\n",
      "input dict\n"
     ]
    }
   ],
   "source": [
    "model2 = SEIR(config = config2)"
   ]
  },
  {
   "cell_type": "code",
   "execution_count": 23,
   "metadata": {},
   "outputs": [],
   "source": [
    "%%capture\n",
    "model2.solve()"
   ]
  },
  {
   "cell_type": "code",
   "execution_count": 29,
   "metadata": {},
   "outputs": [],
   "source": [
    "plt.plot(model2.t,model2.S,label='S')\n",
    "plt.plot(model2.t,model2.E,label='E')\n",
    "plt.plot(model2.t,model2.I,label='I')\n",
    "plt.plot(model2.t,model2.R,label='R')\n",
    "plt.xlim(0,300)\n",
    "plt.legend(loc=0)\n",
    "plt.show()"
   ]
  },
  {
   "cell_type": "markdown",
   "metadata": {},
   "source": [
    "# SEIR desde cmd"
   ]
  },
  {
   "cell_type": "code",
   "execution_count": 30,
   "metadata": {},
   "outputs": [],
   "source": [
    "beta = 0.2\n",
    "population = 10000\n",
    "I = 100"
   ]
  },
  {
   "cell_type": "code",
   "execution_count": 31,
   "metadata": {},
   "outputs": [],
   "source": [
    "model = SEIR(config = config)"
   ]
  },
  {
   "cell_type": "code",
   "execution_count": 32,
   "metadata": {},
   "outputs": [],
   "source": [
    "model.solve()"
   ]
  },
  {
   "cell_type": "markdown",
   "metadata": {},
   "source": [
    "### Variable parameters"
   ]
  },
  {
   "cell_type": "code",
   "execution_count": 33,
   "metadata": {},
   "outputs": [],
   "source": [
    "t = np.linspace(0,6,1000)"
   ]
  },
  {
   "cell_type": "code",
   "execution_count": 34,
   "metadata": {},
   "outputs": [],
   "source": [
    "beta = lambda t: np.sin(t)"
   ]
  },
  {
   "cell_type": "code",
   "execution_count": 36,
   "metadata": {},
   "outputs": [
    {
     "data": {
      "text/plain": [
       "[<matplotlib.lines.Line2D at 0x7fcfed7c4850>]"
      ]
     },
     "execution_count": 36,
     "metadata": {},
     "output_type": "execute_result"
    }
   ],
   "source": [
    "plt.plot(t,beta(t))\n",
    "plt.show()"
   ]
  },
  {
   "cell_type": "code",
   "execution_count": 37,
   "metadata": {},
   "outputs": [],
   "source": [
    "model = SEIR(config = config,beta = beta)"
   ]
  },
  {
   "cell_type": "code",
   "execution_count": 38,
   "metadata": {},
   "outputs": [],
   "source": [
    "model.solve()"
   ]
  },
  {
   "cell_type": "code",
   "execution_count": 39,
   "metadata": {},
   "outputs": [],
   "source": [
    "plt.plot(model.t,model.I)\n",
    "plt.title('Active Infected')\n",
    "plt.xlim(0,50)\n",
    "plt.show()"
   ]
  },
  {
   "cell_type": "code",
   "execution_count": null,
   "metadata": {},
   "outputs": [],
   "source": []
  },
  {
   "cell_type": "code",
   "execution_count": 41,
   "metadata": {},
   "outputs": [],
   "source": [
    "beta2 = cv19functions.events(days=[[0,10],[10,60],[60,100]],values=[0.12,0.2,0.3],default = 0.1)"
   ]
  },
  {
   "cell_type": "code",
   "execution_count": 42,
   "metadata": {},
   "outputs": [],
   "source": [
    "t = np.linspace(0,200,10000)"
   ]
  },
  {
   "cell_type": "code",
   "execution_count": 43,
   "metadata": {},
   "outputs": [
    {
     "data": {
      "text/plain": [
       "[<matplotlib.lines.Line2D at 0x7fcfed723820>]"
      ]
     },
     "execution_count": 43,
     "metadata": {},
     "output_type": "execute_result"
    }
   ],
   "source": [
    "plt.plot(t,beta2(t))"
   ]
  },
  {
   "cell_type": "code",
   "execution_count": 44,
   "metadata": {},
   "outputs": [],
   "source": [
    "model2 = SEIR(config = config,beta=beta2)"
   ]
  },
  {
   "cell_type": "code",
   "execution_count": 45,
   "metadata": {},
   "outputs": [],
   "source": [
    "model2.solve()"
   ]
  },
  {
   "cell_type": "code",
   "execution_count": 47,
   "metadata": {},
   "outputs": [
    {
     "data": {
      "text/plain": [
       "Text(0.5, 1.0, 'Active Infected')"
      ]
     },
     "execution_count": 47,
     "metadata": {},
     "output_type": "execute_result"
    }
   ],
   "source": [
    "plt.plot(model2.t,model2.I)\n",
    "plt.title(\"Active Infected\")"
   ]
  },
  {
   "cell_type": "markdown",
   "metadata": {},
   "source": [
    "# Study"
   ]
  },
  {
   "cell_type": "code",
   "execution_count": null,
   "metadata": {},
   "outputs": [],
   "source": [
    "# Input configuration file\n",
    "config = 'cfg/SEIR.toml'"
   ]
  },
  {
   "cell_type": "code",
   "execution_count": null,
   "metadata": {},
   "outputs": [],
   "source": [
    "# Build simulation object\n",
    "model1 = SEIR(config = config, I_d_det = 600, population = 1000000)\n",
    "model2 = SEIR(config = config, I_d_det = 600, population = 10000000)"
   ]
  },
  {
   "cell_type": "code",
   "execution_count": null,
   "metadata": {},
   "outputs": [],
   "source": [
    "%%capture\n",
    "# Simulate (solve ODE)\n",
    "model1.solve()\n",
    "model2.solve()"
   ]
  },
  {
   "cell_type": "code",
   "execution_count": null,
   "metadata": {},
   "outputs": [],
   "source": [
    "model1.I_d[0]"
   ]
  },
  {
   "cell_type": "code",
   "execution_count": null,
   "metadata": {},
   "outputs": [],
   "source": [
    "# Plot matplotlib\n",
    "#plt.plot(model.t,model1.S,label='S')\n",
    "#plt.plot(model.t,model1.E,label='E')\n",
    "plt.plot(model.t,model1.I_d,label='I_1')\n",
    "plt.plot(model.t,model2.I_d,label='I_2')\n",
    "plt.xlim(0,300)\n",
    "plt.yscale('log')\n",
    "plt.legend(loc=0)\n",
    "plt.show()"
   ]
  },
  {
   "cell_type": "code",
   "execution_count": null,
   "metadata": {},
   "outputs": [],
   "source": []
  }
 ],
 "metadata": {
  "kernelspec": {
   "display_name": "Python 3.8.3 ('base')",
   "language": "python",
   "name": "python3"
  },
  "language_info": {
   "codemirror_mode": {
    "name": "ipython",
    "version": 3
   },
   "file_extension": ".py",
   "mimetype": "text/x-python",
   "name": "python",
   "nbconvert_exporter": "python",
   "pygments_lexer": "ipython3",
   "version": "3.8.3"
  },
  "vscode": {
   "interpreter": {
    "hash": "cb78786f4cfdfefa515c7b40f13968897104e8ab34623df7a0e4a977a8f1c3ce"
   }
  }
 },
 "nbformat": 4,
 "nbformat_minor": 4
}
