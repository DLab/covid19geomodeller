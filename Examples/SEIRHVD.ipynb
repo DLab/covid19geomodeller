{
 "cells": [
  {
   "cell_type": "markdown",
   "metadata": {},
   "source": [
    "# SEIRHVD model example\n",
    "## Work in progress\n",
    "\\begin{align}\n",
    "\\dot{S} & = S_f - \\alpha\\beta\\frac{SI}{N+k_I I+k_R R} + r_{R\\_S} R\\\\\n",
    "\\dot{E} & = E_f + \\alpha\\beta\\frac{SI}{N+k_I I+k_R R} - E\\frac{1}{t_{E\\_I}} \\\\\n",
    "\\dot{I} & = I_f + E\\frac{1}{t_{E\\_I}} - I\\frac{1}{t_{I\\_R}} \\\\\n",
    "\\dot{R} & = R_f + I\\frac{1}{t_{I\\_R}} - r_{I\\_R} R\\\\\n",
    "\\end{align}\n",
    "\n",
    "Where:  \n",
    "* $S:$ Susceptible\n",
    "* $E:$ Exposed\n",
    "* $I:$ Infectious\n",
    "* $R:$ Removed\n",
    "* $\\alpha:$ Mobilty\n",
    "* $\\beta:$ Infection rate\n",
    "* $N:$ Total population\n",
    "* $t_{E\\_I}:$ # Transition time between exposed and infectious\n",
    "* $t_{I\\_R}:$ # Transition time between infectious and recovered\n",
    "* $r_{R\\_S}:$ Immunity loss rate ($\\frac{1}{t_{R\\_S}}$)  \n",
    "* $S_f,E_f,I_f,R_f:$ External flux\n",
    "* $k_I:$ Infected saturation   \n",
    "* $k_R:$ Immunity shield    \n"
   ]
  },
  {
   "cell_type": "code",
   "execution_count": null,
   "metadata": {},
   "outputs": [],
   "source": [
    "# Util libraries\n",
    "import numpy as np\n",
    "import pandas as pd\n",
    "import matplotlib.pyplot as plt\n",
    "from datetime import datetime\n",
    "\n",
    "# cv19 libraries\n",
    "from cv19gm.models.seirhvd import SEIRHVD \n",
    "from cv19gm.models.seir import SEIR \n",
    "from cv19gm.utils import cv19functions\n",
    "from cv19gm.data.cv19data import ImportData"
   ]
  },
  {
   "cell_type": "code",
   "execution_count": null,
   "metadata": {},
   "outputs": [],
   "source": [
    "# For pop-up plots execute this code (optional)\n",
    "import platform\n",
    "OS = platform.system()\n",
    "\n",
    "if OS == 'Linux':    \n",
    "    %matplotlib tk\n",
    "    print('Linux')\n",
    "elif OS == 'Windows':\n",
    "    %matplotlib qt\n",
    "    print('Windows')\n",
    "elif OS == 'Darwin':\n",
    "    %matplotlib tk\n",
    "    print('Mac (Funciona?)')"
   ]
  },
  {
   "cell_type": "markdown",
   "metadata": {},
   "source": [
    "# Build a basic SEIR with SEIRHVD lib"
   ]
  },
  {
   "cell_type": "markdown",
   "metadata": {},
   "source": [
    "import importlib\n",
    "importlib.reload(cv19functions)\n",
    "import SEIRHVD\n",
    "importlib.reload(SEIRHVD)\n",
    "from SEIRHVD import SEIRHVD\n"
   ]
  },
  {
   "cell_type": "code",
   "execution_count": null,
   "metadata": {},
   "outputs": [],
   "source": [
    "# Input configuration file\n",
    "config = 'cfg/SEIRHVD_SEIR.toml'\n",
    "# Build simulation object\n",
    "model = SEIRHVD(config = config)"
   ]
  },
  {
   "cell_type": "code",
   "execution_count": null,
   "metadata": {},
   "outputs": [],
   "source": [
    "%%capture\n",
    "# Simulate (solve ODE)\n",
    "model.solve()"
   ]
  },
  {
   "cell_type": "code",
   "execution_count": null,
   "metadata": {
    "scrolled": true
   },
   "outputs": [],
   "source": [
    "# Show results\n",
    "#model.results"
   ]
  },
  {
   "cell_type": "code",
   "execution_count": null,
   "metadata": {},
   "outputs": [],
   "source": [
    "# Plot matplotlib\n",
    "plt.plot(model.t,model.S,label='S')\n",
    "plt.plot(model.t,model.E,label='E')\n",
    "plt.plot(model.t,model.I,label='I')\n",
    "plt.plot(model.t,model.R,label='R')\n",
    "plt.plot(model.t,model.H,label='H')\n",
    "plt.plot(model.t,model.Iv,label='Iv')\n",
    "plt.plot(model.t,model.D,label='D')\n",
    "plt.xlim(0,300)\n",
    "plt.legend(loc=0)\n",
    "plt.title('SEIR from SEIRHVD lib')\n",
    "plt.show()"
   ]
  },
  {
   "cell_type": "code",
   "execution_count": null,
   "metadata": {},
   "outputs": [],
   "source": [
    "%%capture\n",
    "# Plot with pandas\n",
    "seirconfig = 'cfg/SEIR.toml'\n",
    "seirmodel = SEIR(config = seirconfig)# Input configuration file\n",
    "seirmodel.solve()"
   ]
  },
  {
   "cell_type": "code",
   "execution_count": null,
   "metadata": {},
   "outputs": [],
   "source": [
    "# Plot matplotlib\n",
    "plt.plot(model.t,model.I,label='I_seirhvd')\n",
    "plt.plot(seirmodel.t,seirmodel.I,label='I_seir')\n",
    "plt.xlim(0,300)\n",
    "plt.legend(loc=0)\n",
    "plt.title('SEIR and SEIRHVD Comparison')\n",
    "plt.show()"
   ]
  },
  {
   "cell_type": "markdown",
   "metadata": {},
   "source": [
    "# Vaccines"
   ]
  },
  {
   "cell_type": "markdown",
   "metadata": {},
   "source": [
    "### Simple SEIR with vaccines"
   ]
  },
  {
   "cell_type": "code",
   "execution_count": null,
   "metadata": {},
   "outputs": [],
   "source": [
    "# Vaccine campaign\n",
    "vac_d = cv19functions.events(values=[0,20000,0],days=[[0,40],[40,60],[60,500]])"
   ]
  },
  {
   "cell_type": "code",
   "execution_count": null,
   "metadata": {},
   "outputs": [],
   "source": [
    "%%capture\n",
    "# Input configuration file\n",
    "config = 'cfg/SEIRHVD_SEIR.toml'\n",
    "# Build simulation object\n",
    "model_vac = SEIRHVD(config = config,vac_d=vac_d,v = 1.0)\n",
    "# Simulate (solve ODE)\n",
    "model_vac.solve()"
   ]
  },
  {
   "cell_type": "code",
   "execution_count": null,
   "metadata": {},
   "outputs": [],
   "source": [
    "# Plot matplotlib\n",
    "\n",
    "plt.plot(model_vac.t,model_vac.I,label='Itotal (vaccines scenario)')\n",
    "plt.plot(model.t,model.I,label='Itotal (no vaccines scenario)')\n",
    "plt.plot(model_vac.t,model_vac.Iv,label='Vaccinated infected')\n",
    "plt.plot(np.arange(model_vac.tsim),[vac_d(i) for i in np.arange(model_vac.tsim)],label='Daily Vaccination')\n",
    "plt.xlim(0,300)\n",
    "plt.legend(loc=0)\n",
    "plt.title('SEIRV')\n",
    "plt.show()"
   ]
  },
  {
   "cell_type": "markdown",
   "metadata": {},
   "source": [
    "# Vaccines effectivity"
   ]
  },
  {
   "cell_type": "code",
   "execution_count": null,
   "metadata": {},
   "outputs": [],
   "source": [
    "vac_eff = list(np.arange(0,1.1,0.1))\n",
    "model_vac2 = [SEIRHVD(config = config,vac_d=vac_d,vac_eff = i) for i in vac_eff]\n",
    "for i in model_vac2:\n",
    "    i.solve()"
   ]
  },
  {
   "cell_type": "code",
   "execution_count": null,
   "metadata": {},
   "outputs": [],
   "source": [
    "colors = plt.cm.rainbow_r(np.linspace(0,1,len(v)))"
   ]
  },
  {
   "cell_type": "code",
   "execution_count": null,
   "metadata": {},
   "outputs": [],
   "source": [
    "i = 0\n",
    "for model_vac in model_vac2:\n",
    "    #plt.plot(model_vac.t,model_vac.I,label='I with vaccines')\n",
    "    \"{:#.2g}\".format(i)\n",
    "    plt.plot(model_vac.t,model_vac.I,label='I eff:'+\"{:#.1g}\".format(model_vac.vac_eff(0)),color=colors[i])\n",
    "    #plt.plot(model_vac.t,model_vac.Iv,label='Iv eff:'+\"{:#.1g}\".format(model_vac.v(0)),color=colors[i],linestyle='dashed')\n",
    "    i+=1\n",
    "plt.plot(np.arange(model_vac.tsim),[Psi(i) for i in np.arange(model_vac.tsim)],color='red',label='Daily Vaccination')\n",
    "plt.legend(loc=0)\n",
    "\n",
    "plt.xlim(0,300)\n",
    "plt.title('Total Infected due to vaccines effectivity')\n",
    "plt.show() "
   ]
  },
  {
   "cell_type": "markdown",
   "metadata": {},
   "source": [
    "# Hospitalization"
   ]
  },
  {
   "cell_type": "code",
   "execution_count": null,
   "metadata": {},
   "outputs": [],
   "source": [
    "%%capture\n",
    "# Input configuration file\n",
    "config = 'cfg/SEIRHVD.toml'\n",
    "# Build simulation object\n",
    "model1 = SEIRHVD(config = config, H_cap=4000)\n",
    "model2 = SEIRHVD(config = config, H_cap=3500,vac_d=vac_d)\n",
    "# Simulate (solve ODE)\n",
    "model1.solve()\n",
    "model2.solve()"
   ]
  },
  {
   "cell_type": "code",
   "execution_count": null,
   "metadata": {},
   "outputs": [],
   "source": [
    "# Plot matplotlib\n",
    "#plt.plot(model.t,model.S,label='S')\n",
    "#plt.plot(model.t,model.E,label='E')\n",
    "plt.plot(model1.t,model1.I,label='I')\n",
    "plt.plot(model1.t,model1.Im,label='Im')\n",
    "plt.plot(model1.t,model1.Icr,label='Icr')\n",
    "#plt.plot(model.t,model.R,label='R')\n",
    "plt.xlim(0,300)\n",
    "plt.legend(loc=0)\n",
    "plt.title('SEIR from SEIRHVD lib')\n",
    "plt.show()"
   ]
  },
  {
   "cell_type": "code",
   "execution_count": null,
   "metadata": {},
   "outputs": [],
   "source": [
    "# Plot matplotlib\n",
    "plt.plot(model1.t,model1.H,color='tab:red',label='H 1')\n",
    "plt.plot(model1.t,model1.D,color='tab:red',linestyle='dotted',label='D 1')\n",
    "plt.plot(model1.t,[model1.H_cap]*len(model.t),color='tab:red',linestyle='dashed',label='H_cap 1')\n",
    "\n",
    "plt.plot(model2.t,model2.H,color='tab:blue',label='H 2')\n",
    "plt.plot(model2.t,model2.D,color='tab:blue',linestyle='dotted',label='D 2')\n",
    "plt.plot(model2.t,[model2.H_cap]*len(model.t),color='tab:blue',linestyle='dashed',label='H_cap 2')\n",
    "#plt.xlim(0,300)\n",
    "plt.plot(np.arange(model_vac.tsim),[Psi(i) for i in np.arange(model_vac.tsim)])\n",
    "plt.legend(loc=0)\n",
    "plt.title('ICU capacity and deaths')\n",
    "plt.show()"
   ]
  },
  {
   "cell_type": "markdown",
   "metadata": {},
   "source": [
    "# Effectivity and Iv_ac/Itot_ac proportion"
   ]
  },
  {
   "cell_type": "code",
   "execution_count": null,
   "metadata": {},
   "outputs": [],
   "source": [
    "from cv19gm.cv19sim import CV19SIM"
   ]
  },
  {
   "cell_type": "code",
   "execution_count": null,
   "metadata": {},
   "outputs": [],
   "source": [
    "vac_eff = list(np.arange(0,1.1,0.1))\n",
    "#Psi = cv19functions.events(values=[0,20000,0],days=[[0,5],[5,25],[25,500]])\n",
    "population = 1000000\n",
    "Sv0 = population*0.5"
   ]
  },
  {
   "cell_type": "code",
   "execution_count": null,
   "metadata": {},
   "outputs": [],
   "source": [
    "colors = plt.cm.rainbow_r(np.linspace(0,1,len(v)))"
   ]
  },
  {
   "cell_type": "code",
   "execution_count": null,
   "metadata": {},
   "outputs": [],
   "source": [
    "model3 = CV19SIM(config = config,model='SEIRHVD',vac_eff=vac_eff,population=population,Sv=Sv0)"
   ]
  },
  {
   "cell_type": "code",
   "execution_count": null,
   "metadata": {},
   "outputs": [],
   "source": [
    "model3.solve()"
   ]
  },
  {
   "cell_type": "code",
   "execution_count": null,
   "metadata": {},
   "outputs": [],
   "source": [
    "sims = model3.sims"
   ]
  },
  {
   "cell_type": "code",
   "execution_count": null,
   "metadata": {},
   "outputs": [],
   "source": [
    "fig, axs = plt.subplots(figsize=(10,6),linewidth=5,edgecolor='black',facecolor=\"white\")\n",
    "\n",
    "axs.set_ylabel('Infectados Activos totales')\n",
    "\n",
    "for i in range(len(sims)):\n",
    "    axs.plot(sims[i].t,sims[i].I,linestyle='dashed',color=colors[i])\n",
    "\n",
    "axs2 = axs.twinx()\n",
    "for i in range(len(sims)):\n",
    "    axs2.plot(sims[i].t,sims[i].Iv_ac/sims[i].I_ac,label='Veff: '+\"{:#.1g}\".format(sims[i].vac_eff(0)),color=colors[i])    \n",
    "\n",
    "    \n",
    "axs2.set_ylabel('Iv/I')\n",
    "\n",
    "#axs2.tick_params(axis='y', labelcolor='tab:blue')\n",
    "#axs2.set_xlim(0,200)\n",
    "#lines, labels = axs.get_legend_handles_labels()\n",
    "#lines2, labels2 = axs2.get_legend_handles_labels()\n",
    "#axs.legend(lines + lines2, labels + labels2, loc=[0.05,0.1])\n",
    "#axs.legend(loc=[0.05,0.05])\n",
    "#axs.legend(loc=[0.05,0.17])\n",
    "\n",
    "fig.suptitle('Iv/Itot proportion depending on effectivity')\n",
    "#axs.legend(loc=1)\n",
    "axs2.legend(loc=0)\n",
    "fig.show()"
   ]
  },
  {
   "cell_type": "markdown",
   "metadata": {},
   "source": [
    "## Including beta"
   ]
  },
  {
   "cell_type": "code",
   "execution_count": null,
   "metadata": {},
   "outputs": [],
   "source": [
    "beta = list(np.arange(0.1,0.3,0.1))\n",
    "model4 = CV19SIM(config = config,model='SEIRHVD',beta=beta,betav='beta',vac_eff=vac_eff,population=population,Sv=Sv0)"
   ]
  },
  {
   "cell_type": "code",
   "execution_count": null,
   "metadata": {},
   "outputs": [],
   "source": [
    "model4.solve()"
   ]
  },
  {
   "cell_type": "markdown",
   "metadata": {},
   "source": [
    "# Hospitalization CFR variable"
   ]
  },
  {
   "cell_type": "code",
   "execution_count": null,
   "metadata": {},
   "outputs": [],
   "source": [
    "pH_R = cv19functions.events(values=[0.7,0.6],days=[[0,30],[30,500]])\n",
    "pH_D = cv19functions.events(values=[0.3,0.4],days=[[0,30],[30,500]])"
   ]
  },
  {
   "cell_type": "code",
   "execution_count": null,
   "metadata": {},
   "outputs": [],
   "source": [
    "%%capture\n",
    "# Input configuration file\n",
    "config = 'cfg/SEIRHVD.toml'\n",
    "# Build simulation object\n",
    "\n",
    "model1 = SEIRHVD(config = config, H_cap=4000, pH_R = pH_R,pH_D = pH_D)\n",
    "# Simulate (solve ODE)\n",
    "model1.integrate()"
   ]
  },
  {
   "cell_type": "code",
   "execution_count": null,
   "metadata": {},
   "outputs": [],
   "source": [
    "# Plot matplotlib\n",
    "#plt.plot(model.t,model.S,label='S')\n",
    "#plt.plot(model.t,model.E,label='E')\n",
    "plt.plot(model1.t,model1.I,label='I')\n",
    "plt.plot(model1.t,model1.Im,label='Im')\n",
    "plt.plot(model1.t,model1.Icr,label='Icr')\n",
    "#plt.plot(model.t,model.R,label='R')\n",
    "plt.xlim(0,300)\n",
    "plt.legend(loc=0)\n",
    "plt.title('SEIR from SEIRHVD lib')\n",
    "plt.show()"
   ]
  },
  {
   "cell_type": "code",
   "execution_count": null,
   "metadata": {},
   "outputs": [],
   "source": [
    "# Plot matplotlib\n",
    "#plt.plot(model1.t,model1.H,color='tab:red',label='H 1')\n",
    "plt.plot(model1.t,model1.D_d,color='tab:red',linestyle='dotted',label='D 1')\n",
    "#plt.plot(model1.t,[model1.H_cap]*len(model.t),color='tab:red',linestyle='dashed',label='H_cap 1')\n",
    "plt.plot(model1.t,[pH_D(i) for i in model.t],color='tab:red',linestyle='dashed',label='pH_D')\n",
    "\n",
    "#plt.plot(np.arange(model_vac.tsim),[Psi(i) for i in np.arange(model_vac.tsim)])\n",
    "plt.legend(loc=0)\n",
    "plt.title('ICU capacity and deaths')\n",
    "plt.show()"
   ]
  },
  {
   "cell_type": "markdown",
   "metadata": {},
   "source": [
    "# Vaccines amount, effectivity  and deaths\n",
    "(work in progress)"
   ]
  },
  {
   "cell_type": "code",
   "execution_count": null,
   "metadata": {},
   "outputs": [],
   "source": [
    "eff = list(np.arange(0,1.1,0.1))\n",
    "amount = np.linspace(0,30000,31)"
   ]
  },
  {
   "cell_type": "code",
   "execution_count": null,
   "metadata": {},
   "outputs": [],
   "source": [
    "# Vaccine campaign\n",
    "vac_d = [cv19functions.events(values=[0,i,0],days=[[0,40],[40,60],[60,500]]) for i in amount]"
   ]
  },
  {
   "cell_type": "code",
   "execution_count": null,
   "metadata": {},
   "outputs": [],
   "source": [
    "%%capture\n",
    "# Input configuration file\n",
    "config = 'cfg/SEIRHVD_SEIR.toml'\n",
    "# Build simulation object\n",
    "models = []\n",
    "for i in eff:\n",
    "    aux = []\n",
    "    for j in vac_d:\n",
    "        a = SEIRHVD(config = config,vac_d=j,vac_eff = i)\n",
    "        a.integrate()\n",
    "        aux.append(a)\n",
    "    models.append(aux)\n",
    "        # Simulate (solve ODE)\n",
    "#model_vac.integrate()"
   ]
  },
  {
   "cell_type": "code",
   "execution_count": null,
   "metadata": {},
   "outputs": [],
   "source": [
    "# Plot matplotlib\n",
    "plt.plot(model_vac.t,model_vac.I,label='I with vaccines')\n",
    "plt.plot(model.t,model.I,label='I no vaccines')\n",
    "plt.plot(model_vac.t,model_vac.Iv,label='Vaccinated infected')\n",
    "plt.plot(np.arange(model_vac.tsim),[vac_d(i) for i in np.arange(model_vac.tsim)])\n",
    "plt.xlim(0,300)\n",
    "plt.legend(loc=0)\n",
    "plt.title('SEIRV')\n",
    "plt.show()"
   ]
  },
  {
   "cell_type": "code",
   "execution_count": null,
   "metadata": {},
   "outputs": [],
   "source": [
    "type(vac_d)"
   ]
  },
  {
   "cell_type": "code",
   "execution_count": null,
   "metadata": {},
   "outputs": [],
   "source": [
    "model_vac2 = [SEIRHVD(config = config,vac_d=0.7,vac_eff = i) for i in vac_eff]\n",
    "for i in model_vac2:\n",
    "    i.solve()"
   ]
  },
  {
   "cell_type": "code",
   "execution_count": null,
   "metadata": {},
   "outputs": [],
   "source": [
    "colors = plt.cm.rainbow_r(np.linspace(0,1,len(vac_eff)))"
   ]
  },
  {
   "cell_type": "code",
   "execution_count": null,
   "metadata": {},
   "outputs": [],
   "source": [
    "i = 0\n",
    "for model_vac in model_vac2:\n",
    "    #plt.plot(model_vac.t,model_vac.I,label='I with vaccines')\n",
    "    \"{:#.2g}\".format(i)\n",
    "    plt.plot(model_vac.t,model_vac.I,label='I eff:'+\"{:#.1g}\".format(model_vac.vac_eff(0)),color=colors[i])\n",
    "    #plt.plot(model_vac.t,model_vac.Iv,label='Iv eff:'+\"{:#.1g}\".format(model_vac.v(0)),color=colors[i],linestyle='dashed')\n",
    "    i+=1\n",
    "plt.plot(np.arange(model_vac.tsim),[vac_d(i) for i in np.arange(model_vac.tsim)])\n",
    "plt.legend(loc=0)\n",
    "\n",
    "plt.xlim(0,300)\n",
    "plt.title('Vaccines effectivity')\n",
    "plt.show() "
   ]
  },
  {
   "cell_type": "code",
   "execution_count": null,
   "metadata": {},
   "outputs": [],
   "source": []
  }
 ],
 "metadata": {
  "kernelspec": {
   "display_name": "Python 3",
   "language": "python",
   "name": "python3"
  },
  "language_info": {
   "codemirror_mode": {
    "name": "ipython",
    "version": 3
   },
   "file_extension": ".py",
   "mimetype": "text/x-python",
   "name": "python",
   "nbconvert_exporter": "python",
   "pygments_lexer": "ipython3",
   "version": "3.8.3"
  }
 },
 "nbformat": 4,
 "nbformat_minor": 4
}
