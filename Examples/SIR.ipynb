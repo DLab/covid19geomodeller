{
 "cells": [
  {
   "cell_type": "markdown",
   "metadata": {},
   "source": [
    "# SIR model example\n",
    "\\begin{align}\n",
    "\\dot{S} & = \\alpha\\beta\\frac{SI}{N} + \\rho_{RS} R + \\phi_S\\\\\n",
    "\\dot{I} & = \\alpha\\beta\\frac{SI}{N} - I\\frac{1}{\\tau_{IR}} + \\phi_I\\\\\n",
    "\\dot{R} & = I\\frac{1}{\\tau_{IR}} - \\rho_{IR} R + \\phi_R\\\\\n",
    "\\dot{\\Phi} & = \\sum_{i} (\\phi_{i}) \\\\\n",
    "N & = N_0 + \\Phi \\\\\n",
    "N_0 & = S_0+E_0+I_0+R_0  \\\\\n",
    "\\end{align}\n",
    "\n",
    "Where:  \n",
    "* $S:$ Susceptible Individuals\n",
    "* $I:$ Infectious Individuals\n",
    "* $R:$ Removed Individuals\n",
    "* $\\alpha:$ Average number of contacts per person per time\n",
    "* $\\beta:$ Probability of disease transmission in a contact between a susceptible and an infectious subject\n",
    "* $N:$ Total population\n",
    "* $\\tau_{EI}:$ Transition time between exposed and infectious\n",
    "* $\\tau_{IR}:$ Transition time between infectious and recovered\n",
    "* $\\rho_{RS}:$ Immunity loss rate. Inverse of Immunity loss rate medium time ($\\frac{1}{t_{RS}}$)  \n",
    "* $\\phi_S,\\phi_E,\\phi_I,\\phi_R:$ External flux per compartment\n",
    "* $\\Phi$: Total external population flux "
   ]
  },
  {
   "cell_type": "code",
   "execution_count": null,
   "metadata": {},
   "outputs": [],
   "source": [
    "# Util libraries\n",
    "import numpy as np\n",
    "import pandas as pd\n",
    "import matplotlib.pyplot as plt\n",
    "from datetime import datetime\n",
    "\n",
    "# cv19 libraries\n",
    "from cv19gm.models.sir import SIR\n",
    "import cv19gm.utils.cv19functions as cv19functions"
   ]
  },
  {
   "cell_type": "code",
   "execution_count": null,
   "metadata": {},
   "outputs": [],
   "source": [
    "# For pop-up plots execute this code (optional)\n",
    "import platform\n",
    "OS = platform.system()\n",
    "\n",
    "if OS == 'Linux':    \n",
    "    %matplotlib tk\n",
    "    print('Linux')\n",
    "elif OS == 'Windows':\n",
    "    %matplotlib qt\n",
    "    print('Windows')\n",
    "elif OS == 'Darwin':\n",
    "    %matplotlib tk\n",
    "    print('Mac (Funciona?)')"
   ]
  },
  {
   "cell_type": "markdown",
   "metadata": {},
   "source": [
    "# Build a basic SIR model using a configuration file"
   ]
  },
  {
   "cell_type": "code",
   "execution_count": null,
   "metadata": {},
   "outputs": [],
   "source": [
    "# Input configuration file\n",
    "config = 'cfg/SIR.toml'"
   ]
  },
  {
   "cell_type": "code",
   "execution_count": null,
   "metadata": {},
   "outputs": [],
   "source": [
    "# Build simulation object\n",
    "model = SIR(config = config,beta=0.3)"
   ]
  },
  {
   "cell_type": "code",
   "execution_count": null,
   "metadata": {},
   "outputs": [],
   "source": [
    "model.solve()"
   ]
  },
  {
   "cell_type": "code",
   "execution_count": null,
   "metadata": {},
   "outputs": [],
   "source": [
    "# Plot matplotlib\n",
    "plt.plot(model.t,model.S,label='S')\n",
    "plt.plot(model.t,model.I,label='I')\n",
    "plt.plot(model.t,model.R,label='R')\n",
    "plt.xlim(0,150)\n",
    "plt.legend(loc=0)\n",
    "plt.title('SIR states over time')\n",
    "plt.show()"
   ]
  },
  {
   "cell_type": "code",
   "execution_count": null,
   "metadata": {
    "scrolled": true
   },
   "outputs": [],
   "source": [
    "# Show results\n",
    "model.results"
   ]
  },
  {
   "cell_type": "code",
   "execution_count": null,
   "metadata": {},
   "outputs": [],
   "source": []
  }
 ],
 "metadata": {
  "kernelspec": {
   "display_name": "Python 3",
   "language": "python",
   "name": "python3"
  },
  "language_info": {
   "codemirror_mode": {
    "name": "ipython",
    "version": 3
   },
   "file_extension": ".py",
   "mimetype": "text/x-python",
   "name": "python",
   "nbconvert_exporter": "python",
   "pygments_lexer": "ipython3",
   "version": "3.8.3"
  }
 },
 "nbformat": 4,
 "nbformat_minor": 4
}
