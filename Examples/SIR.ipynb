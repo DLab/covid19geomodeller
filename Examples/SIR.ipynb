{
 "cells": [
  {
   "cell_type": "markdown",
   "metadata": {},
   "source": [
    "# SIR model example\n",
    "\\begin{align}\n",
    "\\dot{S} & = \\alpha\\beta\\frac{SI}{N} + \\rho_{RS} R + \\phi_S\\\\\n",
    "\\dot{I} & = \\alpha\\beta\\frac{SI}{N} - I\\frac{1}{\\tau_{IR}} + \\phi_I\\\\\n",
    "\\dot{R} & = I\\frac{1}{\\tau_{IR}} - \\rho_{IR} R + \\phi_R\\\\\n",
    "\\dot{\\Phi} & = \\sum_{i} (\\phi_{i}) \\\\\n",
    "N & = N_0 + \\Phi \\\\\n",
    "N_0 & = S_0+E_0+I_0+R_0  \\\\\n",
    "\\end{align}\n",
    "\n",
    "Where:  \n",
    "* $S:$ Susceptible Individuals\n",
    "* $I:$ Infectious Individuals\n",
    "* $R:$ Removed Individuals\n",
    "* $\\alpha:$ Average number of contacts per person per time\n",
    "* $\\beta:$ Probability of disease transmission in a contact between a susceptible and an infectious subject\n",
    "* $N:$ Total population\n",
    "* $\\tau_{EI}:$ Transition time between exposed and infectious\n",
    "* $\\tau_{IR}:$ Transition time between infectious and recovered\n",
    "* $\\rho_{RS}:$ Immunity loss rate. Inverse of Immunity loss rate medium time ($\\frac{1}{t_{RS}}$)  \n",
    "* $\\phi_S,\\phi_E,\\phi_I,\\phi_R:$ External flux per compartment\n",
    "* $\\Phi$: Total external population flux "
   ]
  },
  {
   "cell_type": "code",
   "execution_count": 2,
   "metadata": {},
   "outputs": [],
   "source": [
    "# Util libraries\n",
    "import numpy as np\n",
    "import pandas as pd\n",
    "import matplotlib.pyplot as plt\n",
    "from datetime import datetime\n",
    "\n",
    "# cv19 libraries\n",
    "from cv19gm.models.sir import SIR\n",
    "import cv19gm.utils.cv19functions as cv19functions"
   ]
  },
  {
   "cell_type": "code",
   "execution_count": 3,
   "metadata": {},
   "outputs": [
    {
     "name": "stdout",
     "output_type": "stream",
     "text": [
      "Linux\n"
     ]
    }
   ],
   "source": [
    "# For pop-up plots execute this code (optional)\n",
    "import platform\n",
    "OS = platform.system()\n",
    "\n",
    "if OS == 'Linux':    \n",
    "    %matplotlib tk\n",
    "    print('Linux')\n",
    "elif OS == 'Windows':\n",
    "    %matplotlib qt\n",
    "    print('Windows')\n",
    "elif OS == 'Darwin':\n",
    "    %matplotlib tk\n",
    "    print('Mac (Funciona?)')"
   ]
  },
  {
   "cell_type": "markdown",
   "metadata": {},
   "source": [
    "# Build a basic SEIR model using a configuration file"
   ]
  },
  {
   "cell_type": "markdown",
   "metadata": {},
   "source": [
    "## Constant parameters"
   ]
  },
  {
   "cell_type": "code",
   "execution_count": 4,
   "metadata": {},
   "outputs": [],
   "source": [
    "# Input configuration file\n",
    "config = 'cfg/SIR.toml'"
   ]
  },
  {
   "cell_type": "code",
   "execution_count": 5,
   "metadata": {},
   "outputs": [],
   "source": [
    "# Build simulation object\n",
    "model = SIR(config = config,beta=0.3)"
   ]
  },
  {
   "cell_type": "code",
   "execution_count": 6,
   "metadata": {},
   "outputs": [],
   "source": [
    "%%capture\n",
    "# Simulate (solve ODE)\n",
    "model.solve()"
   ]
  },
  {
   "cell_type": "code",
   "execution_count": 7,
   "metadata": {
    "scrolled": true
   },
   "outputs": [
    {
     "data": {
      "text/html": [
       "<div>\n",
       "<style scoped>\n",
       "    .dataframe tbody tr th:only-of-type {\n",
       "        vertical-align: middle;\n",
       "    }\n",
       "\n",
       "    .dataframe tbody tr th {\n",
       "        vertical-align: top;\n",
       "    }\n",
       "\n",
       "    .dataframe thead th {\n",
       "        text-align: right;\n",
       "    }\n",
       "</style>\n",
       "<table border=\"1\" class=\"dataframe\">\n",
       "  <thead>\n",
       "    <tr style=\"text-align: right;\">\n",
       "      <th></th>\n",
       "      <th>t</th>\n",
       "      <th>dates</th>\n",
       "      <th>S</th>\n",
       "      <th>I</th>\n",
       "      <th>I_d</th>\n",
       "      <th>R</th>\n",
       "      <th>R_d</th>\n",
       "      <th>Flux</th>\n",
       "      <th>I_ac</th>\n",
       "      <th>R_ac</th>\n",
       "      <th>I_det</th>\n",
       "      <th>I_d_det</th>\n",
       "      <th>I_ac_det</th>\n",
       "      <th>prevalence_total</th>\n",
       "      <th>prevalence_susc</th>\n",
       "      <th>prevalence_det</th>\n",
       "    </tr>\n",
       "  </thead>\n",
       "  <tbody>\n",
       "    <tr>\n",
       "      <th>0</th>\n",
       "      <td>0</td>\n",
       "      <td>None</td>\n",
       "      <td>989000</td>\n",
       "      <td>6000</td>\n",
       "      <td>3000</td>\n",
       "      <td>5000</td>\n",
       "      <td>0</td>\n",
       "      <td>0.0</td>\n",
       "      <td>18000</td>\n",
       "      <td>0</td>\n",
       "      <td>6000</td>\n",
       "      <td>3000</td>\n",
       "      <td>18000</td>\n",
       "      <td>0.018000</td>\n",
       "      <td>0.018000</td>\n",
       "      <td>0.018000</td>\n",
       "    </tr>\n",
       "    <tr>\n",
       "      <th>1</th>\n",
       "      <td>1</td>\n",
       "      <td>None</td>\n",
       "      <td>987034</td>\n",
       "      <td>7302</td>\n",
       "      <td>2365</td>\n",
       "      <td>5663</td>\n",
       "      <td>425</td>\n",
       "      <td>0.0</td>\n",
       "      <td>20365</td>\n",
       "      <td>425</td>\n",
       "      <td>7302</td>\n",
       "      <td>2365</td>\n",
       "      <td>20365</td>\n",
       "      <td>0.020366</td>\n",
       "      <td>0.020366</td>\n",
       "      <td>0.020366</td>\n",
       "    </tr>\n",
       "    <tr>\n",
       "      <th>2</th>\n",
       "      <td>2</td>\n",
       "      <td>None</td>\n",
       "      <td>984649</td>\n",
       "      <td>8881</td>\n",
       "      <td>2402</td>\n",
       "      <td>6469</td>\n",
       "      <td>674</td>\n",
       "      <td>0.0</td>\n",
       "      <td>22768</td>\n",
       "      <td>1100</td>\n",
       "      <td>8881</td>\n",
       "      <td>2402</td>\n",
       "      <td>22768</td>\n",
       "      <td>0.022768</td>\n",
       "      <td>0.022768</td>\n",
       "      <td>0.022768</td>\n",
       "    </tr>\n",
       "    <tr>\n",
       "      <th>3</th>\n",
       "      <td>3</td>\n",
       "      <td>None</td>\n",
       "      <td>981756</td>\n",
       "      <td>10793</td>\n",
       "      <td>2741</td>\n",
       "      <td>7450</td>\n",
       "      <td>878</td>\n",
       "      <td>0.0</td>\n",
       "      <td>25509</td>\n",
       "      <td>1978</td>\n",
       "      <td>10793</td>\n",
       "      <td>2741</td>\n",
       "      <td>25509</td>\n",
       "      <td>0.025509</td>\n",
       "      <td>0.025509</td>\n",
       "      <td>0.025509</td>\n",
       "    </tr>\n",
       "    <tr>\n",
       "      <th>4</th>\n",
       "      <td>4</td>\n",
       "      <td>None</td>\n",
       "      <td>978254</td>\n",
       "      <td>13104</td>\n",
       "      <td>3256</td>\n",
       "      <td>8641</td>\n",
       "      <td>1088</td>\n",
       "      <td>0.0</td>\n",
       "      <td>28766</td>\n",
       "      <td>3066</td>\n",
       "      <td>13104</td>\n",
       "      <td>3256</td>\n",
       "      <td>28766</td>\n",
       "      <td>0.028766</td>\n",
       "      <td>0.028766</td>\n",
       "      <td>0.028766</td>\n",
       "    </tr>\n",
       "    <tr>\n",
       "      <th>...</th>\n",
       "      <td>...</td>\n",
       "      <td>...</td>\n",
       "      <td>...</td>\n",
       "      <td>...</td>\n",
       "      <td>...</td>\n",
       "      <td>...</td>\n",
       "      <td>...</td>\n",
       "      <td>...</td>\n",
       "      <td>...</td>\n",
       "      <td>...</td>\n",
       "      <td>...</td>\n",
       "      <td>...</td>\n",
       "      <td>...</td>\n",
       "      <td>...</td>\n",
       "      <td>...</td>\n",
       "      <td>...</td>\n",
       "    </tr>\n",
       "    <tr>\n",
       "      <th>495</th>\n",
       "      <td>495</td>\n",
       "      <td>None</td>\n",
       "      <td>59777</td>\n",
       "      <td>0</td>\n",
       "      <td>0</td>\n",
       "      <td>940222</td>\n",
       "      <td>0</td>\n",
       "      <td>0.0</td>\n",
       "      <td>949060</td>\n",
       "      <td>935190</td>\n",
       "      <td>0</td>\n",
       "      <td>0</td>\n",
       "      <td>949060</td>\n",
       "      <td>0.949060</td>\n",
       "      <td>0.949060</td>\n",
       "      <td>0.949060</td>\n",
       "    </tr>\n",
       "    <tr>\n",
       "      <th>496</th>\n",
       "      <td>496</td>\n",
       "      <td>None</td>\n",
       "      <td>59777</td>\n",
       "      <td>0</td>\n",
       "      <td>0</td>\n",
       "      <td>940222</td>\n",
       "      <td>0</td>\n",
       "      <td>0.0</td>\n",
       "      <td>949060</td>\n",
       "      <td>935190</td>\n",
       "      <td>0</td>\n",
       "      <td>0</td>\n",
       "      <td>949060</td>\n",
       "      <td>0.949060</td>\n",
       "      <td>0.949060</td>\n",
       "      <td>0.949060</td>\n",
       "    </tr>\n",
       "    <tr>\n",
       "      <th>497</th>\n",
       "      <td>497</td>\n",
       "      <td>None</td>\n",
       "      <td>59777</td>\n",
       "      <td>0</td>\n",
       "      <td>0</td>\n",
       "      <td>940222</td>\n",
       "      <td>0</td>\n",
       "      <td>0.0</td>\n",
       "      <td>949060</td>\n",
       "      <td>935190</td>\n",
       "      <td>0</td>\n",
       "      <td>0</td>\n",
       "      <td>949060</td>\n",
       "      <td>0.949060</td>\n",
       "      <td>0.949060</td>\n",
       "      <td>0.949060</td>\n",
       "    </tr>\n",
       "    <tr>\n",
       "      <th>498</th>\n",
       "      <td>498</td>\n",
       "      <td>None</td>\n",
       "      <td>59777</td>\n",
       "      <td>0</td>\n",
       "      <td>0</td>\n",
       "      <td>940222</td>\n",
       "      <td>0</td>\n",
       "      <td>0.0</td>\n",
       "      <td>949060</td>\n",
       "      <td>935190</td>\n",
       "      <td>0</td>\n",
       "      <td>0</td>\n",
       "      <td>949060</td>\n",
       "      <td>0.949060</td>\n",
       "      <td>0.949060</td>\n",
       "      <td>0.949060</td>\n",
       "    </tr>\n",
       "    <tr>\n",
       "      <th>499</th>\n",
       "      <td>499</td>\n",
       "      <td>None</td>\n",
       "      <td>59777</td>\n",
       "      <td>0</td>\n",
       "      <td>0</td>\n",
       "      <td>940222</td>\n",
       "      <td>0</td>\n",
       "      <td>0.0</td>\n",
       "      <td>949060</td>\n",
       "      <td>935190</td>\n",
       "      <td>0</td>\n",
       "      <td>0</td>\n",
       "      <td>949060</td>\n",
       "      <td>0.949060</td>\n",
       "      <td>0.949060</td>\n",
       "      <td>0.949060</td>\n",
       "    </tr>\n",
       "  </tbody>\n",
       "</table>\n",
       "<p>500 rows × 16 columns</p>\n",
       "</div>"
      ],
      "text/plain": [
       "       t dates       S      I   I_d       R   R_d  Flux    I_ac    R_ac  \\\n",
       "0      0  None  989000   6000  3000    5000     0   0.0   18000       0   \n",
       "1      1  None  987034   7302  2365    5663   425   0.0   20365     425   \n",
       "2      2  None  984649   8881  2402    6469   674   0.0   22768    1100   \n",
       "3      3  None  981756  10793  2741    7450   878   0.0   25509    1978   \n",
       "4      4  None  978254  13104  3256    8641  1088   0.0   28766    3066   \n",
       "..   ...   ...     ...    ...   ...     ...   ...   ...     ...     ...   \n",
       "495  495  None   59777      0     0  940222     0   0.0  949060  935190   \n",
       "496  496  None   59777      0     0  940222     0   0.0  949060  935190   \n",
       "497  497  None   59777      0     0  940222     0   0.0  949060  935190   \n",
       "498  498  None   59777      0     0  940222     0   0.0  949060  935190   \n",
       "499  499  None   59777      0     0  940222     0   0.0  949060  935190   \n",
       "\n",
       "     I_det  I_d_det  I_ac_det  prevalence_total  prevalence_susc  \\\n",
       "0     6000     3000     18000          0.018000         0.018000   \n",
       "1     7302     2365     20365          0.020366         0.020366   \n",
       "2     8881     2402     22768          0.022768         0.022768   \n",
       "3    10793     2741     25509          0.025509         0.025509   \n",
       "4    13104     3256     28766          0.028766         0.028766   \n",
       "..     ...      ...       ...               ...              ...   \n",
       "495      0        0    949060          0.949060         0.949060   \n",
       "496      0        0    949060          0.949060         0.949060   \n",
       "497      0        0    949060          0.949060         0.949060   \n",
       "498      0        0    949060          0.949060         0.949060   \n",
       "499      0        0    949060          0.949060         0.949060   \n",
       "\n",
       "     prevalence_det  \n",
       "0          0.018000  \n",
       "1          0.020366  \n",
       "2          0.022768  \n",
       "3          0.025509  \n",
       "4          0.028766  \n",
       "..              ...  \n",
       "495        0.949060  \n",
       "496        0.949060  \n",
       "497        0.949060  \n",
       "498        0.949060  \n",
       "499        0.949060  \n",
       "\n",
       "[500 rows x 16 columns]"
      ]
     },
     "execution_count": 7,
     "metadata": {},
     "output_type": "execute_result"
    }
   ],
   "source": [
    "# Show results\n",
    "model.results"
   ]
  },
  {
   "cell_type": "code",
   "execution_count": 14,
   "metadata": {},
   "outputs": [],
   "source": [
    "# Plot matplotlib\n",
    "plt.plot(model.t,model.S,label='S')\n",
    "plt.plot(model.t,model.I,label='I')\n",
    "plt.plot(model.t,model.R,label='R')\n",
    "plt.xlim(0,150)\n",
    "plt.legend(loc=0)\n",
    "plt.title('SIR states over time')\n",
    "plt.show()"
   ]
  },
  {
   "cell_type": "code",
   "execution_count": 13,
   "metadata": {},
   "outputs": [
    {
     "data": {
      "text/plain": [
       "Text(0.5, 1.0, 'SIR states over time')"
      ]
     },
     "execution_count": 13,
     "metadata": {},
     "output_type": "execute_result"
    }
   ],
   "source": [
    "# Plot with pandas\n",
    "ax = model.results.plot(x='t',y=['S','I','R'])\n",
    "ax.set_xlim(0,150)\n",
    "ax.set_title('SIR states over time')"
   ]
  },
  {
   "cell_type": "markdown",
   "metadata": {},
   "source": [
    "## Variable parameters\n",
    "Create a function with time dependent parameters. Check covid19functions notebook for more information on this."
   ]
  },
  {
   "cell_type": "code",
   "execution_count": 23,
   "metadata": {},
   "outputs": [],
   "source": [
    "config2 = 'cfg/SIR_dynamic.toml'"
   ]
  },
  {
   "cell_type": "code",
   "execution_count": 24,
   "metadata": {},
   "outputs": [
    {
     "name": "stdout",
     "output_type": "stream",
     "text": [
      "input dict\n"
     ]
    }
   ],
   "source": [
    "model2 = SIR(config = config2)"
   ]
  },
  {
   "cell_type": "code",
   "execution_count": 25,
   "metadata": {},
   "outputs": [],
   "source": [
    "%%capture\n",
    "model2.solve()"
   ]
  },
  {
   "cell_type": "code",
   "execution_count": 26,
   "metadata": {},
   "outputs": [],
   "source": [
    "plt.plot(model2.t,model2.S,label='S')\n",
    "plt.plot(model2.t,model2.I,label='I')\n",
    "plt.plot(model2.t,model2.R,label='R')\n",
    "plt.xlim(0,300)\n",
    "plt.legend(loc=0)\n",
    "plt.show()"
   ]
  },
  {
   "cell_type": "code",
   "execution_count": 27,
   "metadata": {},
   "outputs": [
    {
     "data": {
      "text/plain": [
       "[<matplotlib.lines.Line2D at 0x7fb5dc24e2e0>]"
      ]
     },
     "execution_count": 27,
     "metadata": {},
     "output_type": "execute_result"
    }
   ],
   "source": [
    "plt.plot(model2.t,model2.beta(model2.t))"
   ]
  },
  {
   "cell_type": "markdown",
   "metadata": {},
   "source": [
    "# SIR desde cmd"
   ]
  },
  {
   "cell_type": "code",
   "execution_count": 28,
   "metadata": {},
   "outputs": [],
   "source": [
    "beta = 0.2\n",
    "population = 10000\n",
    "I = 100"
   ]
  },
  {
   "cell_type": "code",
   "execution_count": 31,
   "metadata": {},
   "outputs": [
    {
     "name": "stdout",
     "output_type": "stream",
     "text": [
      "input dict\n"
     ]
    }
   ],
   "source": [
    "model = SIR(config = config2,I=I,population=population)"
   ]
  },
  {
   "cell_type": "code",
   "execution_count": 32,
   "metadata": {},
   "outputs": [],
   "source": [
    "model.solve()"
   ]
  },
  {
   "cell_type": "markdown",
   "metadata": {},
   "source": [
    "### Variable parameters"
   ]
  },
  {
   "cell_type": "code",
   "execution_count": 18,
   "metadata": {},
   "outputs": [],
   "source": [
    "t = np.linspace(0,6,1000)"
   ]
  },
  {
   "cell_type": "code",
   "execution_count": 19,
   "metadata": {},
   "outputs": [],
   "source": [
    "beta = lambda t: np.sin(t)"
   ]
  },
  {
   "cell_type": "code",
   "execution_count": 20,
   "metadata": {},
   "outputs": [
    {
     "data": {
      "text/plain": [
       "[<matplotlib.lines.Line2D at 0x7f667035d730>]"
      ]
     },
     "execution_count": 20,
     "metadata": {},
     "output_type": "execute_result"
    }
   ],
   "source": [
    "plt.plot(t,beta(t))"
   ]
  },
  {
   "cell_type": "code",
   "execution_count": 21,
   "metadata": {},
   "outputs": [],
   "source": [
    "model = SEIR(config = config,beta=beta)"
   ]
  },
  {
   "cell_type": "code",
   "execution_count": 22,
   "metadata": {},
   "outputs": [],
   "source": [
    "model.solve()"
   ]
  },
  {
   "cell_type": "code",
   "execution_count": 23,
   "metadata": {},
   "outputs": [],
   "source": [
    "plt.plot(model.t,model.I)\n",
    "plt.title('Active Infected')\n",
    "plt.xlim(0,50)\n",
    "plt.show()"
   ]
  },
  {
   "cell_type": "code",
   "execution_count": null,
   "metadata": {},
   "outputs": [],
   "source": []
  },
  {
   "cell_type": "code",
   "execution_count": 24,
   "metadata": {},
   "outputs": [],
   "source": [
    "beta2 = cv19functions.events(days=[[0,10],[10,60],[60,100]],values=[0.12,0.2,0.3],default = 0.1)"
   ]
  },
  {
   "cell_type": "code",
   "execution_count": 25,
   "metadata": {},
   "outputs": [],
   "source": [
    "t = np.linspace(0,200,10000)"
   ]
  },
  {
   "cell_type": "code",
   "execution_count": 26,
   "metadata": {},
   "outputs": [
    {
     "data": {
      "text/plain": [
       "[<matplotlib.lines.Line2D at 0x7f667029c580>]"
      ]
     },
     "execution_count": 26,
     "metadata": {},
     "output_type": "execute_result"
    }
   ],
   "source": [
    "plt.plot(t,beta2(t))"
   ]
  },
  {
   "cell_type": "code",
   "execution_count": 27,
   "metadata": {},
   "outputs": [],
   "source": [
    "model2 = SEIR(config = config,beta=beta2)"
   ]
  },
  {
   "cell_type": "code",
   "execution_count": 28,
   "metadata": {},
   "outputs": [],
   "source": [
    "model2.solve()"
   ]
  },
  {
   "cell_type": "code",
   "execution_count": 29,
   "metadata": {},
   "outputs": [
    {
     "data": {
      "text/plain": [
       "[<matplotlib.lines.Line2D at 0x7f667029cd60>]"
      ]
     },
     "execution_count": 29,
     "metadata": {},
     "output_type": "execute_result"
    }
   ],
   "source": [
    "plt.plot(model2.t,model2.I)"
   ]
  },
  {
   "cell_type": "code",
   "execution_count": null,
   "metadata": {},
   "outputs": [],
   "source": []
  }
 ],
 "metadata": {
  "kernelspec": {
   "display_name": "Python 3",
   "language": "python",
   "name": "python3"
  },
  "language_info": {
   "codemirror_mode": {
    "name": "ipython",
    "version": 3
   },
   "file_extension": ".py",
   "mimetype": "text/x-python",
   "name": "python",
   "nbconvert_exporter": "python",
   "pygments_lexer": "ipython3",
   "version": "3.8.3"
  }
 },
 "nbformat": 4,
 "nbformat_minor": 4
}
