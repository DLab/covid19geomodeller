{
 "cells": [
  {
   "cell_type": "markdown",
   "metadata": {},
   "source": [
    "# SEIRTQ model example\n",
    "\\begin{align}\n",
    "\\dot{S} & = -\\beta \\frac{S (I+T)}{N} + \\frac{\\rho_{RS}}{\\tau_{RS}}R + \\phi_{S}\\\\\n",
    "\\dot{E} & = \\beta \\frac{S (I+T)}{N} - \\frac{1}{\\tau_{EI}}E  + \\phi_{E}\\\\\n",
    "\\dot{I} & = \\frac{1}{\\tau_{EI}}E - \\frac{1}{\\tau_{IR}} I - \\kappa_{IT}(1+\\kappa_{Tr})\\frac{I}{N} + \\phi_{I}\\\\\n",
    "\\dot{R} & = \\frac{1}{\\tau_{IR}} I + \\frac{1}{\\tau_{QR}}Q - \\frac{\\rho_{RS}}{\\tau_{RS}}R + \\phi_{R}\\\\\n",
    "\\dot{T} & = \\kappa_{IT}(1+\\kappa_{Tr}) \\frac{I}{N} - \\frac{1}{\\tau_{TQ}}T + \\phi_{T} \\\\\n",
    "\\dot{Q} & = \\frac{1}{\\tau_{TQ}}T - \\frac{1}{\\tau_{QR}}Q \\\\\n",
    "\\dot{N} & = \\sum_{i} \\phi_{i} \\\\\n",
    "N_0 & = S_0+E_0+I_0+R_0+T_0+Q_0  \\\\\n",
    "\\end{align}\n",
    "\n",
    "Where:  \n",
    "* $S:$ Susceptible Individuals\n",
    "* $E:$ Exposed Individuals\n",
    "* $I:$ Infectious Individuals\n",
    "* $R:$ Removed Individuals\n",
    "* $T:$ Infected waiting for their exam results\n",
    "* $Q:$ Quarantined individuals\n",
    "* $\\alpha:$ Average number of contacts per person per time\n",
    "* $\\beta:$ Probability of disease transmission in a contact between a susceptible and an infectious subject\n",
    "* $N:$ Total population\n",
    "* $\\tau_{EI}:$ Transition time between exposed and infectious\n",
    "* $\\tau_{IR}:$ Transition time between infectious and recovered\n",
    "* $\\rho_{RS}:$ Immunity loss rate. Inverse of Immunity loss rate medium time ($\\frac{1}{t_{RS}}$)  \n",
    "* $\\phi_S,\\phi_E,\\phi_I,\\phi_R:$ External flux per compartment "
   ]
  },
  {
   "cell_type": "code",
   "execution_count": 1,
   "metadata": {},
   "outputs": [],
   "source": [
    "# Util libraries\n",
    "import numpy as np\n",
    "import pandas as pd\n",
    "import matplotlib.pyplot as plt\n",
    "from datetime import datetime\n",
    "\n",
    "# cv19 libraries\n",
    "from cv19gm.models.seirtq import SEIRTQ\n",
    "import cv19gm.utils.cv19functions as cv19functions\n",
    "from cv19gm.cv19sim import CV19SIM"
   ]
  },
  {
   "cell_type": "code",
   "execution_count": 2,
   "metadata": {},
   "outputs": [
    {
     "name": "stdout",
     "output_type": "stream",
     "text": [
      "Linux\n"
     ]
    }
   ],
   "source": [
    "# For pop-up plots execute this code (optional)\n",
    "import platform\n",
    "OS = platform.system()\n",
    "\n",
    "if OS == 'Linux':    \n",
    "    %matplotlib tk\n",
    "    print('Linux')\n",
    "elif OS == 'Windows':\n",
    "    %matplotlib qt\n",
    "    print('Windows')\n",
    "elif OS == 'Darwin':\n",
    "    %matplotlib tk\n",
    "    print('Mac (Funciona?)')"
   ]
  },
  {
   "cell_type": "markdown",
   "metadata": {},
   "source": [
    "# Build a basic SEIR model using a configuration file"
   ]
  },
  {
   "cell_type": "markdown",
   "metadata": {},
   "source": [
    "## Constant parameters"
   ]
  },
  {
   "cell_type": "code",
   "execution_count": 3,
   "metadata": {},
   "outputs": [],
   "source": [
    "# Input configuration file\n",
    "config = 'cfg/SEIRTQ.toml'"
   ]
  },
  {
   "cell_type": "code",
   "execution_count": 4,
   "metadata": {},
   "outputs": [],
   "source": [
    "# Build simulation object\n",
    "model = SEIRTQ(config = config,beta=0.3)"
   ]
  },
  {
   "cell_type": "code",
   "execution_count": 5,
   "metadata": {},
   "outputs": [],
   "source": [
    "model.solve()"
   ]
  },
  {
   "cell_type": "code",
   "execution_count": 6,
   "metadata": {},
   "outputs": [],
   "source": [
    "# Plot matplotlib\n",
    "plt.plot(model.t,model.S,label='S')\n",
    "plt.plot(model.t,model.E,label='E')\n",
    "plt.plot(model.t,model.I,label='I')\n",
    "plt.plot(model.t,model.R,label='R')\n",
    "plt.plot(model.t,model.T,label='T')\n",
    "plt.plot(model.t,model.Q,label='Q')\n",
    "plt.xlim(0,300)\n",
    "plt.legend(loc=0)\n",
    "plt.show()"
   ]
  },
  {
   "cell_type": "code",
   "execution_count": null,
   "metadata": {
    "scrolled": false
   },
   "outputs": [],
   "source": [
    "# Show results\n",
    "model.results"
   ]
  },
  {
   "cell_type": "markdown",
   "metadata": {},
   "source": [
    "## Comparing different test rates\n",
    "Create a function with time dependent parameters. Check covid19functions notebook for more information on this."
   ]
  },
  {
   "cell_type": "code",
   "execution_count": 15,
   "metadata": {},
   "outputs": [],
   "source": [
    "# Input configuration file\n",
    "config = 'cfg/SEIRTQ.toml'"
   ]
  },
  {
   "cell_type": "code",
   "execution_count": 16,
   "metadata": {},
   "outputs": [],
   "source": [
    "model2 = CV19SIM(config = config,model='SEIRTQ',k_Ex = [0,1000,10000,50000,100000])"
   ]
  },
  {
   "cell_type": "code",
   "execution_count": 17,
   "metadata": {},
   "outputs": [],
   "source": [
    "model2.solve()"
   ]
  },
  {
   "cell_type": "code",
   "execution_count": 18,
   "metadata": {},
   "outputs": [],
   "source": [
    "for sim in model2.sims:\n",
    "    plt.plot(sim.t,sim.I,label='I - ex:'+str(sim.k_Ex(0)))\n",
    "    plt.plot(sim.t,sim.T,label='T - ex:'+str(sim.k_Ex(0)))\n",
    "plt.xlim(0,300)\n",
    "plt.legend(loc=0)\n",
    "plt.title('Testing effectivity')\n",
    "plt.show()"
   ]
  },
  {
   "cell_type": "code",
   "execution_count": null,
   "metadata": {},
   "outputs": [],
   "source": []
  }
 ],
 "metadata": {
  "kernelspec": {
   "display_name": "Python 3",
   "language": "python",
   "name": "python3"
  },
  "language_info": {
   "codemirror_mode": {
    "name": "ipython",
    "version": 3
   },
   "file_extension": ".py",
   "mimetype": "text/x-python",
   "name": "python",
   "nbconvert_exporter": "python",
   "pygments_lexer": "ipython3",
   "version": "3.8.3"
  }
 },
 "nbformat": 4,
 "nbformat_minor": 4
}
