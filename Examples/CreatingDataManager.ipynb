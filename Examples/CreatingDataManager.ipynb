{
 "cells": [
  {
   "cell_type": "code",
   "execution_count": 6,
   "metadata": {},
   "outputs": [],
   "source": [
    "import pandas as pd\n",
    "import numpy as np\n",
    "from datetime import datetime\n",
    "from datetime import date\n",
    "from datetime import timedelta\n",
    "import json\n",
    "from pandas.core.base import DataError\n",
    "import requests\n",
    "from requests.auth import HTTPBasicAuth\n",
    "import sys\n",
    "from pathlib import Path\n",
    "sys.path.insert(1, '../src2/utils/')\n",
    "sys.path.insert(1, '../src2/data/')\n",
    "import functions\n",
    "import cv19data"
   ]
  },
  {
   "cell_type": "markdown",
   "metadata": {},
   "source": [
    "# Creating df from data"
   ]
  },
  {
   "cell_type": "code",
   "execution_count": 19,
   "metadata": {},
   "outputs": [],
   "source": [
    "initdate = datetime(2020,10,19)\n",
    "enddate = datetime.now()\n",
    "tdelta = enddate - initdate \n",
    "dates = [initdate + timedelta(days=i) for i in range(tdelta.days + 1) ] \n",
    "days = [i for i in range(tdelta.days + 1)] \n",
    "df = pd.DataFrame({'day':days,'date':dates})"
   ]
  },
  {
   "cell_type": "markdown",
   "metadata": {},
   "source": [
    "## Import data"
   ]
  },
  {
   "cell_type": "code",
   "execution_count": 8,
   "metadata": {},
   "outputs": [],
   "source": [
    "data = cv19data.ImportData(tstate = '13',initdate=initdate)"
   ]
  },
  {
   "cell_type": "code",
   "execution_count": 11,
   "metadata": {},
   "outputs": [
    {
     "name": "stdout",
     "output_type": "stream",
     "text": [
      "Importing Accumulated Infected\n",
      "Importing Active infected\n"
     ]
    }
   ],
   "source": [
    "data.importAccumulatedInfected()\n",
    "data.importActiveInfected()\n",
    "data.importDailyInfected()"
   ]
  },
  {
   "cell_type": "markdown",
   "metadata": {},
   "source": [
    "## Create pandas dataframe out of data"
   ]
  },
  {
   "cell_type": "code",
   "execution_count": 22,
   "metadata": {},
   "outputs": [
    {
     "data": {
      "text/plain": [
       "[datetime.datetime(2020, 10, 19, 0, 0),\n",
       " datetime.datetime(2020, 10, 24, 0, 0),\n",
       " datetime.datetime(2020, 10, 26, 0, 0),\n",
       " datetime.datetime(2020, 10, 30, 0, 0),\n",
       " datetime.datetime(2020, 11, 2, 0, 0),\n",
       " datetime.datetime(2020, 11, 6, 0, 0),\n",
       " datetime.datetime(2020, 11, 9, 0, 0),\n",
       " datetime.datetime(2020, 11, 13, 0, 0),\n",
       " datetime.datetime(2020, 11, 16, 0, 0),\n",
       " datetime.datetime(2020, 11, 20, 0, 0),\n",
       " datetime.datetime(2020, 11, 23, 0, 0),\n",
       " datetime.datetime(2020, 11, 27, 0, 0),\n",
       " datetime.datetime(2020, 11, 30, 0, 0),\n",
       " datetime.datetime(2020, 12, 4, 0, 0),\n",
       " datetime.datetime(2020, 12, 7, 0, 0),\n",
       " datetime.datetime(2020, 12, 11, 0, 0),\n",
       " datetime.datetime(2020, 12, 14, 0, 0),\n",
       " datetime.datetime(2020, 12, 18, 0, 0),\n",
       " datetime.datetime(2020, 12, 21, 0, 0),\n",
       " datetime.datetime(2020, 12, 25, 0, 0),\n",
       " datetime.datetime(2020, 12, 28, 0, 0),\n",
       " datetime.datetime(2021, 1, 1, 0, 0),\n",
       " datetime.datetime(2021, 1, 4, 0, 0),\n",
       " datetime.datetime(2021, 1, 8, 0, 0),\n",
       " datetime.datetime(2021, 1, 11, 0, 0),\n",
       " datetime.datetime(2021, 1, 15, 0, 0),\n",
       " datetime.datetime(2021, 1, 18, 0, 0),\n",
       " datetime.datetime(2021, 1, 22, 0, 0),\n",
       " datetime.datetime(2021, 1, 25, 0, 0),\n",
       " datetime.datetime(2021, 1, 29, 0, 0),\n",
       " datetime.datetime(2021, 2, 1, 0, 0),\n",
       " datetime.datetime(2021, 2, 5, 0, 0),\n",
       " datetime.datetime(2021, 2, 8, 0, 0),\n",
       " datetime.datetime(2021, 2, 12, 0, 0),\n",
       " datetime.datetime(2021, 2, 15, 0, 0),\n",
       " datetime.datetime(2021, 2, 19, 0, 0),\n",
       " datetime.datetime(2021, 2, 22, 0, 0),\n",
       " datetime.datetime(2021, 2, 26, 0, 0),\n",
       " datetime.datetime(2021, 3, 1, 0, 0)]"
      ]
     },
     "execution_count": 22,
     "metadata": {},
     "output_type": "execute_result"
    }
   ],
   "source": [
    "data.Ir_dates"
   ]
  },
  {
   "cell_type": "code",
   "execution_count": null,
   "metadata": {},
   "outputs": [],
   "source": []
  }
 ],
 "metadata": {
  "kernelspec": {
   "display_name": "Python 3",
   "language": "python",
   "name": "python3"
  },
  "language_info": {
   "codemirror_mode": {
    "name": "ipython",
    "version": 3
   },
   "file_extension": ".py",
   "mimetype": "text/x-python",
   "name": "python",
   "nbconvert_exporter": "python",
   "pygments_lexer": "ipython3",
   "version": "3.8.3"
  }
 },
 "nbformat": 4,
 "nbformat_minor": 4
}
