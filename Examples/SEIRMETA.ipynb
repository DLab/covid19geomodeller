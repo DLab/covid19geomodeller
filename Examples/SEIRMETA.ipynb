{
 "cells": [
  {
   "cell_type": "code",
   "execution_count": 2,
   "metadata": {},
   "outputs": [],
   "source": [
    "import numpy as np\n",
    "import matplotlib.pyplot as plt\n",
    "from cv19gm.models.seir_meta import SEIRMETA\n",
    "import cv19gm.utils.cv19mobility as cv19mobility"
   ]
  },
  {
   "cell_type": "markdown",
   "metadata": {},
   "source": [
    "# Meta-population SEIR model with 3 regions"
   ]
  },
  {
   "attachments": {},
   "cell_type": "markdown",
   "metadata": {},
   "source": [
    "## Build Mobility function"
   ]
  },
  {
   "cell_type": "code",
   "execution_count": 31,
   "metadata": {},
   "outputs": [],
   "source": [
    "population = np.array([100000,200000,150000])\n",
    "Phi = cv19mobility.create_dynamic_mobility(mobility_model='gravity', dynamic_pattern='sinusoidal', populations=population,seed=42, fraction=0.1)"
   ]
  },
  {
   "cell_type": "code",
   "execution_count": 47,
   "metadata": {},
   "outputs": [
    {
     "data": {
      "image/png": "[encoded data removed]",
      "text/plain": [
       "<Figure size 288x288 with 2 Axes>"
      ]
     },
     "metadata": {
      "needs_background": "light"
     },
     "output_type": "display_data"
    }
   ],
   "source": [
    "plt.matshow(Phi(0.34))\n",
    "plt.title('Mobility between areas')\n",
    "plt.colorbar()\n",
    "plt.show()"
   ]
  },
  {
   "cell_type": "code",
   "execution_count": 34,
   "metadata": {},
   "outputs": [
    {
     "data": {
      "text/plain": [
       "array([[  0.        , 305.65545548, 414.44096493],\n",
       "       [305.65545548,   0.        , 446.37949781],\n",
       "       [414.44096493, 446.37949781,   0.        ]])"
      ]
     },
     "execution_count": 34,
     "metadata": {},
     "output_type": "execute_result"
    }
   ],
   "source": [
    "cv19mobility.create_random_distances_matrix(3,seed=42)"
   ]
  },
  {
   "cell_type": "code",
   "execution_count": 35,
   "metadata": {},
   "outputs": [],
   "source": [
    "beta = np.array([0.2,0.15,0.11])\n",
    "mu = np.array([1,0.8,1.2])\n",
    "\n",
    "\n",
    "I = np.array([1000,0,1500])\n",
    "I_d = np.array([100,0,150])\n",
    "R = np.array([5000,10000,7500])\n",
    "I_ac = np.array([4500,9000,6500])\n",
    "\n",
    "rR_S = 0\n",
    "\n",
    "#E = False\n",
    "#E_d = False\n",
    "popfraction = 1  # np.array([1,1,1])"
   ]
  },
  {
   "cell_type": "code",
   "execution_count": 36,
   "metadata": {},
   "outputs": [],
   "source": [
    "cfg = '/home/samuel/covid19geomodeller/config_files/SEIRMETA.toml'"
   ]
  },
  {
   "cell_type": "code",
   "execution_count": 37,
   "metadata": {},
   "outputs": [],
   "source": [
    "seir = SEIRMETA(config=cfg,beta=beta,mu=mu,population=population,I=I,I_d=I_d,R=R,I_ac=I_ac,Phi=Phi,rR_S=rR_S,t_end=500)"
   ]
  },
  {
   "cell_type": "code",
   "execution_count": 38,
   "metadata": {},
   "outputs": [],
   "source": [
    "seir.solve()"
   ]
  },
  {
   "cell_type": "code",
   "execution_count": 39,
   "metadata": {},
   "outputs": [
    {
     "data": {
      "text/html": [
       "<div>\n",
       "<style scoped>\n",
       "    .dataframe tbody tr th:only-of-type {\n",
       "        vertical-align: middle;\n",
       "    }\n",
       "\n",
       "    .dataframe tbody tr th {\n",
       "        vertical-align: top;\n",
       "    }\n",
       "\n",
       "    .dataframe thead th {\n",
       "        text-align: right;\n",
       "    }\n",
       "</style>\n",
       "<table border=\"1\" class=\"dataframe\">\n",
       "  <thead>\n",
       "    <tr style=\"text-align: right;\">\n",
       "      <th></th>\n",
       "      <th>t</th>\n",
       "      <th>S</th>\n",
       "      <th>E</th>\n",
       "      <th>E_d</th>\n",
       "      <th>I</th>\n",
       "      <th>I_d</th>\n",
       "      <th>R</th>\n",
       "      <th>R_d</th>\n",
       "    </tr>\n",
       "  </thead>\n",
       "  <tbody>\n",
       "    <tr>\n",
       "      <th>0</th>\n",
       "      <td>0</td>\n",
       "      <td>422200</td>\n",
       "      <td>2800</td>\n",
       "      <td>280</td>\n",
       "      <td>2500</td>\n",
       "      <td>250</td>\n",
       "      <td>22500</td>\n",
       "      <td>0</td>\n",
       "    </tr>\n",
       "    <tr>\n",
       "      <th>1</th>\n",
       "      <td>1</td>\n",
       "      <td>421842</td>\n",
       "      <td>2617</td>\n",
       "      <td>331</td>\n",
       "      <td>2776</td>\n",
       "      <td>431</td>\n",
       "      <td>22764</td>\n",
       "      <td>168</td>\n",
       "    </tr>\n",
       "    <tr>\n",
       "      <th>2</th>\n",
       "      <td>2</td>\n",
       "      <td>421451</td>\n",
       "      <td>2497</td>\n",
       "      <td>370</td>\n",
       "      <td>2997</td>\n",
       "      <td>480</td>\n",
       "      <td>23053</td>\n",
       "      <td>245</td>\n",
       "    </tr>\n",
       "    <tr>\n",
       "      <th>3</th>\n",
       "      <td>3</td>\n",
       "      <td>421034</td>\n",
       "      <td>2423</td>\n",
       "      <td>401</td>\n",
       "      <td>3179</td>\n",
       "      <td>486</td>\n",
       "      <td>23362</td>\n",
       "      <td>286</td>\n",
       "    </tr>\n",
       "    <tr>\n",
       "      <th>4</th>\n",
       "      <td>4</td>\n",
       "      <td>420593</td>\n",
       "      <td>2383</td>\n",
       "      <td>427</td>\n",
       "      <td>3334</td>\n",
       "      <td>482</td>\n",
       "      <td>23688</td>\n",
       "      <td>312</td>\n",
       "    </tr>\n",
       "    <tr>\n",
       "      <th>...</th>\n",
       "      <td>...</td>\n",
       "      <td>...</td>\n",
       "      <td>...</td>\n",
       "      <td>...</td>\n",
       "      <td>...</td>\n",
       "      <td>...</td>\n",
       "      <td>...</td>\n",
       "      <td>...</td>\n",
       "    </tr>\n",
       "    <tr>\n",
       "      <th>495</th>\n",
       "      <td>495</td>\n",
       "      <td>186831</td>\n",
       "      <td>0</td>\n",
       "      <td>0</td>\n",
       "      <td>2</td>\n",
       "      <td>0</td>\n",
       "      <td>263165</td>\n",
       "      <td>0</td>\n",
       "    </tr>\n",
       "    <tr>\n",
       "      <th>496</th>\n",
       "      <td>496</td>\n",
       "      <td>186831</td>\n",
       "      <td>0</td>\n",
       "      <td>0</td>\n",
       "      <td>2</td>\n",
       "      <td>0</td>\n",
       "      <td>263165</td>\n",
       "      <td>0</td>\n",
       "    </tr>\n",
       "    <tr>\n",
       "      <th>497</th>\n",
       "      <td>497</td>\n",
       "      <td>186831</td>\n",
       "      <td>0</td>\n",
       "      <td>0</td>\n",
       "      <td>2</td>\n",
       "      <td>0</td>\n",
       "      <td>263166</td>\n",
       "      <td>0</td>\n",
       "    </tr>\n",
       "    <tr>\n",
       "      <th>498</th>\n",
       "      <td>498</td>\n",
       "      <td>186831</td>\n",
       "      <td>0</td>\n",
       "      <td>0</td>\n",
       "      <td>1</td>\n",
       "      <td>0</td>\n",
       "      <td>263166</td>\n",
       "      <td>0</td>\n",
       "    </tr>\n",
       "    <tr>\n",
       "      <th>499</th>\n",
       "      <td>499</td>\n",
       "      <td>186830</td>\n",
       "      <td>0</td>\n",
       "      <td>0</td>\n",
       "      <td>1</td>\n",
       "      <td>0</td>\n",
       "      <td>263166</td>\n",
       "      <td>0</td>\n",
       "    </tr>\n",
       "  </tbody>\n",
       "</table>\n",
       "<p>500 rows × 8 columns</p>\n",
       "</div>"
      ],
      "text/plain": [
       "       t       S     E  E_d     I  I_d       R  R_d\n",
       "0      0  422200  2800  280  2500  250   22500    0\n",
       "1      1  421842  2617  331  2776  431   22764  168\n",
       "2      2  421451  2497  370  2997  480   23053  245\n",
       "3      3  421034  2423  401  3179  486   23362  286\n",
       "4      4  420593  2383  427  3334  482   23688  312\n",
       "..   ...     ...   ...  ...   ...  ...     ...  ...\n",
       "495  495  186831     0    0     2    0  263165    0\n",
       "496  496  186831     0    0     2    0  263165    0\n",
       "497  497  186831     0    0     2    0  263166    0\n",
       "498  498  186831     0    0     1    0  263166    0\n",
       "499  499  186830     0    0     1    0  263166    0\n",
       "\n",
       "[500 rows x 8 columns]"
      ]
     },
     "execution_count": 39,
     "metadata": {},
     "output_type": "execute_result"
    }
   ],
   "source": [
    "seir.global_results"
   ]
  },
  {
   "cell_type": "code",
   "execution_count": 40,
   "metadata": {},
   "outputs": [
    {
     "data": {
      "text/html": [
       "<div>\n",
       "<style scoped>\n",
       "    .dataframe tbody tr th:only-of-type {\n",
       "        vertical-align: middle;\n",
       "    }\n",
       "\n",
       "    .dataframe tbody tr th {\n",
       "        vertical-align: top;\n",
       "    }\n",
       "\n",
       "    .dataframe thead th {\n",
       "        text-align: right;\n",
       "    }\n",
       "</style>\n",
       "<table border=\"1\" class=\"dataframe\">\n",
       "  <thead>\n",
       "    <tr style=\"text-align: right;\">\n",
       "      <th></th>\n",
       "      <th>t</th>\n",
       "      <th>S</th>\n",
       "      <th>E</th>\n",
       "      <th>E_d</th>\n",
       "      <th>I</th>\n",
       "      <th>I_d</th>\n",
       "      <th>R</th>\n",
       "      <th>R_d</th>\n",
       "      <th>beta</th>\n",
       "      <th>tE_I</th>\n",
       "      <th>tI_R</th>\n",
       "      <th>rR_S</th>\n",
       "      <th>node</th>\n",
       "    </tr>\n",
       "  </thead>\n",
       "  <tbody>\n",
       "    <tr>\n",
       "      <th>0</th>\n",
       "      <td>0</td>\n",
       "      <td>93000</td>\n",
       "      <td>1000</td>\n",
       "      <td>100</td>\n",
       "      <td>999</td>\n",
       "      <td>100</td>\n",
       "      <td>4999</td>\n",
       "      <td>0</td>\n",
       "      <td>0</td>\n",
       "      <td>5</td>\n",
       "      <td>10</td>\n",
       "      <td>0</td>\n",
       "      <td>0</td>\n",
       "    </tr>\n",
       "    <tr>\n",
       "      <th>1</th>\n",
       "      <td>1</td>\n",
       "      <td>92863</td>\n",
       "      <td>970</td>\n",
       "      <td>141</td>\n",
       "      <td>1064</td>\n",
       "      <td>140</td>\n",
       "      <td>5101</td>\n",
       "      <td>48</td>\n",
       "      <td>0</td>\n",
       "      <td>5</td>\n",
       "      <td>10</td>\n",
       "      <td>0</td>\n",
       "      <td>0</td>\n",
       "    </tr>\n",
       "    <tr>\n",
       "      <th>2</th>\n",
       "      <td>2</td>\n",
       "      <td>92718</td>\n",
       "      <td>955</td>\n",
       "      <td>162</td>\n",
       "      <td>1118</td>\n",
       "      <td>152</td>\n",
       "      <td>5207</td>\n",
       "      <td>68</td>\n",
       "      <td>0</td>\n",
       "      <td>5</td>\n",
       "      <td>10</td>\n",
       "      <td>0</td>\n",
       "      <td>0</td>\n",
       "    </tr>\n",
       "    <tr>\n",
       "      <th>3</th>\n",
       "      <td>3</td>\n",
       "      <td>92568</td>\n",
       "      <td>951</td>\n",
       "      <td>176</td>\n",
       "      <td>1165</td>\n",
       "      <td>155</td>\n",
       "      <td>5314</td>\n",
       "      <td>77</td>\n",
       "      <td>0</td>\n",
       "      <td>5</td>\n",
       "      <td>10</td>\n",
       "      <td>0</td>\n",
       "      <td>0</td>\n",
       "    </tr>\n",
       "    <tr>\n",
       "      <th>4</th>\n",
       "      <td>4</td>\n",
       "      <td>92412</td>\n",
       "      <td>954</td>\n",
       "      <td>186</td>\n",
       "      <td>1207</td>\n",
       "      <td>156</td>\n",
       "      <td>5424</td>\n",
       "      <td>81</td>\n",
       "      <td>0</td>\n",
       "      <td>5</td>\n",
       "      <td>10</td>\n",
       "      <td>0</td>\n",
       "      <td>0</td>\n",
       "    </tr>\n",
       "    <tr>\n",
       "      <th>...</th>\n",
       "      <td>...</td>\n",
       "      <td>...</td>\n",
       "      <td>...</td>\n",
       "      <td>...</td>\n",
       "      <td>...</td>\n",
       "      <td>...</td>\n",
       "      <td>...</td>\n",
       "      <td>...</td>\n",
       "      <td>...</td>\n",
       "      <td>...</td>\n",
       "      <td>...</td>\n",
       "      <td>...</td>\n",
       "      <td>...</td>\n",
       "    </tr>\n",
       "    <tr>\n",
       "      <th>1495</th>\n",
       "      <td>495</td>\n",
       "      <td>62227</td>\n",
       "      <td>0</td>\n",
       "      <td>0</td>\n",
       "      <td>0</td>\n",
       "      <td>0</td>\n",
       "      <td>87649</td>\n",
       "      <td>126</td>\n",
       "      <td>0</td>\n",
       "      <td>5</td>\n",
       "      <td>10</td>\n",
       "      <td>0</td>\n",
       "      <td>2</td>\n",
       "    </tr>\n",
       "    <tr>\n",
       "      <th>1496</th>\n",
       "      <td>496</td>\n",
       "      <td>62227</td>\n",
       "      <td>0</td>\n",
       "      <td>0</td>\n",
       "      <td>0</td>\n",
       "      <td>0</td>\n",
       "      <td>87650</td>\n",
       "      <td>126</td>\n",
       "      <td>0</td>\n",
       "      <td>5</td>\n",
       "      <td>10</td>\n",
       "      <td>0</td>\n",
       "      <td>2</td>\n",
       "    </tr>\n",
       "    <tr>\n",
       "      <th>1497</th>\n",
       "      <td>497</td>\n",
       "      <td>62227</td>\n",
       "      <td>0</td>\n",
       "      <td>0</td>\n",
       "      <td>0</td>\n",
       "      <td>0</td>\n",
       "      <td>87650</td>\n",
       "      <td>126</td>\n",
       "      <td>0</td>\n",
       "      <td>5</td>\n",
       "      <td>10</td>\n",
       "      <td>0</td>\n",
       "      <td>2</td>\n",
       "    </tr>\n",
       "    <tr>\n",
       "      <th>1498</th>\n",
       "      <td>498</td>\n",
       "      <td>62227</td>\n",
       "      <td>0</td>\n",
       "      <td>0</td>\n",
       "      <td>0</td>\n",
       "      <td>0</td>\n",
       "      <td>87650</td>\n",
       "      <td>126</td>\n",
       "      <td>0</td>\n",
       "      <td>5</td>\n",
       "      <td>10</td>\n",
       "      <td>0</td>\n",
       "      <td>2</td>\n",
       "    </tr>\n",
       "    <tr>\n",
       "      <th>1499</th>\n",
       "      <td>499</td>\n",
       "      <td>62227</td>\n",
       "      <td>0</td>\n",
       "      <td>0</td>\n",
       "      <td>0</td>\n",
       "      <td>0</td>\n",
       "      <td>87650</td>\n",
       "      <td>126</td>\n",
       "      <td>0</td>\n",
       "      <td>5</td>\n",
       "      <td>10</td>\n",
       "      <td>0</td>\n",
       "      <td>2</td>\n",
       "    </tr>\n",
       "  </tbody>\n",
       "</table>\n",
       "<p>1500 rows × 13 columns</p>\n",
       "</div>"
      ],
      "text/plain": [
       "        t      S     E  E_d     I  I_d      R  R_d  beta  tE_I  tI_R  rR_S  \\\n",
       "0       0  93000  1000  100   999  100   4999    0     0     5    10     0   \n",
       "1       1  92863   970  141  1064  140   5101   48     0     5    10     0   \n",
       "2       2  92718   955  162  1118  152   5207   68     0     5    10     0   \n",
       "3       3  92568   951  176  1165  155   5314   77     0     5    10     0   \n",
       "4       4  92412   954  186  1207  156   5424   81     0     5    10     0   \n",
       "...   ...    ...   ...  ...   ...  ...    ...  ...   ...   ...   ...   ...   \n",
       "1495  495  62227     0    0     0    0  87649  126     0     5    10     0   \n",
       "1496  496  62227     0    0     0    0  87650  126     0     5    10     0   \n",
       "1497  497  62227     0    0     0    0  87650  126     0     5    10     0   \n",
       "1498  498  62227     0    0     0    0  87650  126     0     5    10     0   \n",
       "1499  499  62227     0    0     0    0  87650  126     0     5    10     0   \n",
       "\n",
       "      node  \n",
       "0        0  \n",
       "1        0  \n",
       "2        0  \n",
       "3        0  \n",
       "4        0  \n",
       "...    ...  \n",
       "1495     2  \n",
       "1496     2  \n",
       "1497     2  \n",
       "1498     2  \n",
       "1499     2  \n",
       "\n",
       "[1500 rows x 13 columns]"
      ]
     },
     "execution_count": 40,
     "metadata": {},
     "output_type": "execute_result"
    }
   ],
   "source": [
    "seir.results"
   ]
  },
  {
   "cell_type": "code",
   "execution_count": 41,
   "metadata": {},
   "outputs": [
    {
     "data": {
      "image/png": "[encoded data removed]",
      "text/plain": [
       "<Figure size 432x288 with 1 Axes>"
      ]
     },
     "metadata": {
      "needs_background": "light"
     },
     "output_type": "display_data"
    }
   ],
   "source": [
    "i = 1\n",
    "plt.plot(seir.t,seir.S[i],label='S')\n",
    "plt.plot(seir.t,seir.E[i],label='E')\n",
    "plt.plot(seir.t,seir.I[i],label='I')\n",
    "plt.plot(seir.t,seir.R[i],label='R')\n",
    "plt.legend(loc=0)\n",
    "plt.show()\n"
   ]
  },
  {
   "cell_type": "code",
   "execution_count": 42,
   "metadata": {},
   "outputs": [
    {
     "data": {
      "image/png": "[encoded data removed]",
      "text/plain": [
       "<Figure size 432x288 with 1 Axes>"
      ]
     },
     "metadata": {
      "needs_background": "light"
     },
     "output_type": "display_data"
    }
   ],
   "source": [
    "plt.plot(seir.t,seir.I[0],label='0')\n",
    "plt.plot(seir.t,seir.I[1],label='1')\n",
    "plt.plot(seir.t,seir.I[2],label='2')\n",
    "plt.legend(loc=0)\n",
    "plt.title('Active Infected')\n",
    "plt.show()"
   ]
  },
  {
   "cell_type": "code",
   "execution_count": 43,
   "metadata": {},
   "outputs": [
    {
     "data": {
      "image/png": "[encoded data removed]",
      "text/plain": [
       "<Figure size 432x288 with 1 Axes>"
      ]
     },
     "metadata": {
      "needs_background": "light"
     },
     "output_type": "display_data"
    }
   ],
   "source": [
    "plt.plot(seir.t,seir.N[0],label='0')\n",
    "plt.plot(seir.t,seir.N[1],label='1')\n",
    "plt.plot(seir.t,seir.N[2],label='2')\n",
    "plt.legend(loc=0)\n",
    "plt.title('Population')\n",
    "plt.show()"
   ]
  },
  {
   "cell_type": "code",
   "execution_count": 44,
   "metadata": {},
   "outputs": [
    {
     "data": {
      "text/plain": [
       "[0, 1, 2]"
      ]
     },
     "execution_count": 44,
     "metadata": {},
     "output_type": "execute_result"
    }
   ],
   "source": [
    "list(range(seir.nodes))"
   ]
  },
  {
   "cell_type": "code",
   "execution_count": 45,
   "metadata": {},
   "outputs": [],
   "source": [
    "\n",
    "if seir.cfg['data']['state']:\n",
    "    names = seir.cfg['data']['state']\n",
    "elif seir.cfg['data']['county']:\n",
    "    names = seir.cfg['data']['county']\n",
    "else: \n",
    "    names = [str(i) for i in range(seir.nodes)]"
   ]
  },
  {
   "cell_type": "code",
   "execution_count": 46,
   "metadata": {},
   "outputs": [
    {
     "data": {
      "text/plain": [
       "['0', '1', '2']"
      ]
     },
     "execution_count": 46,
     "metadata": {},
     "output_type": "execute_result"
    }
   ],
   "source": [
    "names"
   ]
  },
  {
   "cell_type": "code",
   "execution_count": null,
   "metadata": {},
   "outputs": [],
   "source": []
  },
  {
   "cell_type": "markdown",
   "metadata": {},
   "source": [
    "## Output"
   ]
  },
  {
   "cell_type": "code",
   "execution_count": 20,
   "metadata": {},
   "outputs": [
    {
     "data": {
      "text/html": [
       "<div>\n",
       "<style scoped>\n",
       "    .dataframe tbody tr th:only-of-type {\n",
       "        vertical-align: middle;\n",
       "    }\n",
       "\n",
       "    .dataframe tbody tr th {\n",
       "        vertical-align: top;\n",
       "    }\n",
       "\n",
       "    .dataframe thead th {\n",
       "        text-align: right;\n",
       "    }\n",
       "</style>\n",
       "<table border=\"1\" class=\"dataframe\">\n",
       "  <thead>\n",
       "    <tr style=\"text-align: right;\">\n",
       "      <th></th>\n",
       "      <th>t</th>\n",
       "      <th>S</th>\n",
       "      <th>E</th>\n",
       "      <th>E_d</th>\n",
       "      <th>I</th>\n",
       "      <th>I_d</th>\n",
       "      <th>R</th>\n",
       "      <th>R_d</th>\n",
       "      <th>beta</th>\n",
       "      <th>tE_I</th>\n",
       "      <th>tI_R</th>\n",
       "      <th>rR_S</th>\n",
       "      <th>node</th>\n",
       "    </tr>\n",
       "  </thead>\n",
       "  <tbody>\n",
       "    <tr>\n",
       "      <th>0</th>\n",
       "      <td>0</td>\n",
       "      <td>93000</td>\n",
       "      <td>1000</td>\n",
       "      <td>100</td>\n",
       "      <td>1000</td>\n",
       "      <td>100</td>\n",
       "      <td>5000</td>\n",
       "      <td>0</td>\n",
       "      <td>0</td>\n",
       "      <td>5</td>\n",
       "      <td>10</td>\n",
       "      <td>0</td>\n",
       "      <td>0</td>\n",
       "    </tr>\n",
       "    <tr>\n",
       "      <th>1</th>\n",
       "      <td>1</td>\n",
       "      <td>52778</td>\n",
       "      <td>485</td>\n",
       "      <td>-190</td>\n",
       "      <td>554</td>\n",
       "      <td>-195</td>\n",
       "      <td>2888</td>\n",
       "      <td>-1320</td>\n",
       "      <td>0</td>\n",
       "      <td>5</td>\n",
       "      <td>10</td>\n",
       "      <td>0</td>\n",
       "      <td>0</td>\n",
       "    </tr>\n",
       "    <tr>\n",
       "      <th>2</th>\n",
       "      <td>2</td>\n",
       "      <td>15622</td>\n",
       "      <td>117</td>\n",
       "      <td>-265</td>\n",
       "      <td>140</td>\n",
       "      <td>-312</td>\n",
       "      <td>863</td>\n",
       "      <td>-1769</td>\n",
       "      <td>0</td>\n",
       "      <td>5</td>\n",
       "      <td>10</td>\n",
       "      <td>0</td>\n",
       "      <td>0</td>\n",
       "    </tr>\n",
       "    <tr>\n",
       "      <th>3</th>\n",
       "      <td>3</td>\n",
       "      <td>-21589</td>\n",
       "      <td>-175</td>\n",
       "      <td>-290</td>\n",
       "      <td>-230</td>\n",
       "      <td>-358</td>\n",
       "      <td>-1223</td>\n",
       "      <td>-1975</td>\n",
       "      <td>0</td>\n",
       "      <td>5</td>\n",
       "      <td>10</td>\n",
       "      <td>0</td>\n",
       "      <td>0</td>\n",
       "    </tr>\n",
       "    <tr>\n",
       "      <th>4</th>\n",
       "      <td>4</td>\n",
       "      <td>-58609</td>\n",
       "      <td>-495</td>\n",
       "      <td>-355</td>\n",
       "      <td>-674</td>\n",
       "      <td>-445</td>\n",
       "      <td>-3401</td>\n",
       "      <td>-2107</td>\n",
       "      <td>0</td>\n",
       "      <td>5</td>\n",
       "      <td>10</td>\n",
       "      <td>0</td>\n",
       "      <td>0</td>\n",
       "    </tr>\n",
       "    <tr>\n",
       "      <th>...</th>\n",
       "      <td>...</td>\n",
       "      <td>...</td>\n",
       "      <td>...</td>\n",
       "      <td>...</td>\n",
       "      <td>...</td>\n",
       "      <td>...</td>\n",
       "      <td>...</td>\n",
       "      <td>...</td>\n",
       "      <td>...</td>\n",
       "      <td>...</td>\n",
       "      <td>...</td>\n",
       "      <td>...</td>\n",
       "      <td>...</td>\n",
       "    </tr>\n",
       "    <tr>\n",
       "      <th>1495</th>\n",
       "      <td>495</td>\n",
       "      <td>-884326347</td>\n",
       "      <td>-86906</td>\n",
       "      <td>-17461</td>\n",
       "      <td>6984</td>\n",
       "      <td>684</td>\n",
       "      <td>910047863</td>\n",
       "      <td>4775479</td>\n",
       "      <td>0</td>\n",
       "      <td>5</td>\n",
       "      <td>10</td>\n",
       "      <td>0</td>\n",
       "      <td>2</td>\n",
       "    </tr>\n",
       "    <tr>\n",
       "      <th>1496</th>\n",
       "      <td>496</td>\n",
       "      <td>-889072715</td>\n",
       "      <td>-87006</td>\n",
       "      <td>-17480</td>\n",
       "      <td>6968</td>\n",
       "      <td>682</td>\n",
       "      <td>914845835</td>\n",
       "      <td>4790506</td>\n",
       "      <td>0</td>\n",
       "      <td>5</td>\n",
       "      <td>10</td>\n",
       "      <td>0</td>\n",
       "      <td>2</td>\n",
       "    </tr>\n",
       "    <tr>\n",
       "      <th>1497</th>\n",
       "      <td>497</td>\n",
       "      <td>-893834145</td>\n",
       "      <td>-87105</td>\n",
       "      <td>-17500</td>\n",
       "      <td>6953</td>\n",
       "      <td>681</td>\n",
       "      <td>919658870</td>\n",
       "      <td>4805549</td>\n",
       "      <td>0</td>\n",
       "      <td>5</td>\n",
       "      <td>10</td>\n",
       "      <td>0</td>\n",
       "      <td>2</td>\n",
       "    </tr>\n",
       "    <tr>\n",
       "      <th>1498</th>\n",
       "      <td>498</td>\n",
       "      <td>-898610653</td>\n",
       "      <td>-87204</td>\n",
       "      <td>-17520</td>\n",
       "      <td>6937</td>\n",
       "      <td>679</td>\n",
       "      <td>924486982</td>\n",
       "      <td>4820609</td>\n",
       "      <td>0</td>\n",
       "      <td>5</td>\n",
       "      <td>10</td>\n",
       "      <td>0</td>\n",
       "      <td>2</td>\n",
       "    </tr>\n",
       "    <tr>\n",
       "      <th>1499</th>\n",
       "      <td>499</td>\n",
       "      <td>-903402254</td>\n",
       "      <td>-87303</td>\n",
       "      <td>-17540</td>\n",
       "      <td>6921</td>\n",
       "      <td>678</td>\n",
       "      <td>929330188</td>\n",
       "      <td>4835684</td>\n",
       "      <td>0</td>\n",
       "      <td>5</td>\n",
       "      <td>10</td>\n",
       "      <td>0</td>\n",
       "      <td>2</td>\n",
       "    </tr>\n",
       "  </tbody>\n",
       "</table>\n",
       "<p>1500 rows × 13 columns</p>\n",
       "</div>"
      ],
      "text/plain": [
       "        t          S      E    E_d     I  I_d          R      R_d  beta  tE_I  \\\n",
       "0       0      93000   1000    100  1000  100       5000        0     0     5   \n",
       "1       1      52778    485   -190   554 -195       2888    -1320     0     5   \n",
       "2       2      15622    117   -265   140 -312        863    -1769     0     5   \n",
       "3       3     -21589   -175   -290  -230 -358      -1223    -1975     0     5   \n",
       "4       4     -58609   -495   -355  -674 -445      -3401    -2107     0     5   \n",
       "...   ...        ...    ...    ...   ...  ...        ...      ...   ...   ...   \n",
       "1495  495 -884326347 -86906 -17461  6984  684  910047863  4775479     0     5   \n",
       "1496  496 -889072715 -87006 -17480  6968  682  914845835  4790506     0     5   \n",
       "1497  497 -893834145 -87105 -17500  6953  681  919658870  4805549     0     5   \n",
       "1498  498 -898610653 -87204 -17520  6937  679  924486982  4820609     0     5   \n",
       "1499  499 -903402254 -87303 -17540  6921  678  929330188  4835684     0     5   \n",
       "\n",
       "      tI_R  rR_S  node  \n",
       "0       10     0     0  \n",
       "1       10     0     0  \n",
       "2       10     0     0  \n",
       "3       10     0     0  \n",
       "4       10     0     0  \n",
       "...    ...   ...   ...  \n",
       "1495    10     0     2  \n",
       "1496    10     0     2  \n",
       "1497    10     0     2  \n",
       "1498    10     0     2  \n",
       "1499    10     0     2  \n",
       "\n",
       "[1500 rows x 13 columns]"
      ]
     },
     "execution_count": 20,
     "metadata": {},
     "output_type": "execute_result"
    }
   ],
   "source": [
    "seir.results"
   ]
  },
  {
   "cell_type": "code",
   "execution_count": 21,
   "metadata": {},
   "outputs": [
    {
     "ename": "AttributeError",
     "evalue": "'SEIRMETA' object has no attribute 'params'",
     "output_type": "error",
     "traceback": [
      "\u001b[0;31m---------------------------------------------------------------------------\u001b[0m",
      "\u001b[0;31mAttributeError\u001b[0m                            Traceback (most recent call last)",
      "\u001b[1;32m/home/samuel/covid19geomodeller/Examples/SEIRMETA.ipynb Cell 21\u001b[0m in \u001b[0;36m<cell line: 1>\u001b[0;34m()\u001b[0m\n\u001b[0;32m----> <a href='vscode-notebook-cell:/home/samuel/covid19geomodeller/Examples/SEIRMETA.ipynb#X26sZmlsZQ%3D%3D?line=0'>1</a>\u001b[0m seir\u001b[39m.\u001b[39;49mparams\n",
      "\u001b[0;31mAttributeError\u001b[0m: 'SEIRMETA' object has no attribute 'params'"
     ]
    }
   ],
   "source": [
    "seir.params"
   ]
  },
  {
   "cell_type": "code",
   "execution_count": null,
   "metadata": {},
   "outputs": [],
   "source": [
    "np.shape(seir.S.sum(axis=0))"
   ]
  },
  {
   "cell_type": "code",
   "execution_count": null,
   "metadata": {},
   "outputs": [],
   "source": [
    "plt.plot(seir.t,seir.S.sum(axis=0),label='S')\n",
    "plt.plot(seir.t,seir.E.sum(axis=0),label='E')\n",
    "plt.plot(seir.t,seir.I.sum(axis=0),label='I')\n",
    "plt.plot(seir.t,seir.R.sum(axis=0),label='R')\n",
    "plt.legend(loc=0)\n",
    "plt.show()"
   ]
  },
  {
   "cell_type": "code",
   "execution_count": null,
   "metadata": {},
   "outputs": [],
   "source": [
    "aux = {}\n",
    "for i in range(seir.nodes):\n",
    "    aux[str(i)] = seir.results.loc[seir.results['node']==i].to_dict('list')"
   ]
  },
  {
   "cell_type": "code",
   "execution_count": null,
   "metadata": {},
   "outputs": [],
   "source": [
    "json.dumps(aux)"
   ]
  },
  {
   "cell_type": "markdown",
   "metadata": {},
   "source": [
    "# With configuration file"
   ]
  },
  {
   "cell_type": "code",
   "execution_count": null,
   "metadata": {},
   "outputs": [],
   "source": [
    "cfg = 'cfg/SEIRMETA.toml'"
   ]
  },
  {
   "cell_type": "code",
   "execution_count": null,
   "metadata": {},
   "outputs": [],
   "source": [
    "seir2 = SEIRMETA(config=cfg)"
   ]
  },
  {
   "cell_type": "code",
   "execution_count": null,
   "metadata": {},
   "outputs": [],
   "source": [
    "seir2.solve()"
   ]
  },
  {
   "cell_type": "code",
   "execution_count": null,
   "metadata": {},
   "outputs": [],
   "source": [
    "plt.plot(seir2.t,seir2.I[0],label='0')\n",
    "plt.plot(seir2.t,seir2.I[1],label='1')\n",
    "plt.plot(seir2.t,seir2.I[2],label='2')\n",
    "plt.legend(loc=0)\n",
    "plt.title('Active Infected')\n",
    "plt.show()"
   ]
  },
  {
   "cell_type": "code",
   "execution_count": null,
   "metadata": {},
   "outputs": [],
   "source": [
    "seir2.results"
   ]
  },
  {
   "cell_type": "code",
   "execution_count": null,
   "metadata": {},
   "outputs": [],
   "source": [
    "seir2.params"
   ]
  },
  {
   "cell_type": "code",
   "execution_count": null,
   "metadata": {},
   "outputs": [],
   "source": [
    "seir2.nodes"
   ]
  },
  {
   "cell_type": "code",
   "execution_count": null,
   "metadata": {},
   "outputs": [],
   "source": [
    "seir2.results"
   ]
  },
  {
   "cell_type": "code",
   "execution_count": null,
   "metadata": {},
   "outputs": [],
   "source": [
    "aux = {}\n",
    "for i in range(seir2.nodes):\n",
    "    aux[str(i)] = seir2.results.loc[seir2.results['node']==i].to_dict()"
   ]
  },
  {
   "cell_type": "code",
   "execution_count": null,
   "metadata": {},
   "outputs": [],
   "source": [
    "import json"
   ]
  },
  {
   "cell_type": "code",
   "execution_count": null,
   "metadata": {},
   "outputs": [],
   "source": [
    "json.dumps(aux)"
   ]
  },
  {
   "cell_type": "code",
   "execution_count": 51,
   "metadata": {},
   "outputs": [],
   "source": [
    "def radiation_model(populations, distances, fraction=0.2, **kwargs):\n",
    "    \"\"\"Calculate the radiation model mobility matrix.\n",
    "\n",
    "    Args:\n",
    "        populations (np.array): Array of populations for each region.\n",
    "        distances (np.array): Matrix of distances between regions.\n",
    "        fraction (float, optional): Fraction of the population that travels per day. Defaults to 0.5.\n",
    "\n",
    "    Returns:\n",
    "        np.array: Mobility matrix based on the radiation model.\n",
    "    \"\"\"\n",
    "    num_regions = len(populations)\n",
    "    mobility_matrix = np.zeros((num_regions, num_regions))\n",
    "\n",
    "    for i in range(num_regions):\n",
    "        for j in range(num_regions):\n",
    "            if i != j:\n",
    "                s_ij = populations[i] * populations[j]\n",
    "                m_ij = (s_ij * distances[i, j]) / ((populations[i] + s_ij) * (populations[i] + populations[j] + distances[i, j] - s_ij))\n",
    "                mobility_matrix[i, j] = m_ij\n",
    "\n",
    "    # Normalize rows to prevent the total outgoing flux from exceeding the population\n",
    "    row_sums = mobility_matrix.sum(axis=1, keepdims=True)\n",
    "    mobility_matrix = mobility_matrix / row_sums * populations[:, np.newaxis] * fraction\n",
    "    \n",
    "    return mobility_matrix.astype(int)\n"
   ]
  },
  {
   "cell_type": "code",
   "execution_count": 52,
   "metadata": {},
   "outputs": [
    {
     "data": {
      "text/plain": [
       "array([[    0,  3561,  6438],\n",
       "       [10133,     0,  9866],\n",
       "       [ 9749,  5250,     0]])"
      ]
     },
     "execution_count": 52,
     "metadata": {},
     "output_type": "execute_result"
    }
   ],
   "source": [
    "radiation_model(populations=population, distances=cv19mobility.create_random_distances_matrix(3,seed=42), fraction=0.1)"
   ]
  },
  {
   "cell_type": "code",
   "execution_count": 54,
   "metadata": {},
   "outputs": [
    {
     "name": "stdout",
     "output_type": "stream",
     "text": [
      "[[    0  7122 12877]\n",
      " [20267     0 19732]\n",
      " [19499 10500     0]]\n"
     ]
    }
   ],
   "source": [
    "population = np.array([100000, 200000, 150000])\n",
    "seed = 42\n",
    "distances = cv19mobility.create_random_distances_matrix(len(population), seed=seed)\n",
    "mobility_matrix = radiation_model(population, distances)\n",
    "print(mobility_matrix)\n"
   ]
  },
  {
   "cell_type": "code",
   "execution_count": null,
   "metadata": {},
   "outputs": [],
   "source": []
  }
 ],
 "metadata": {
  "kernelspec": {
   "display_name": "Python 3 (ipykernel)",
   "language": "python",
   "name": "python3"
  },
  "language_info": {
   "codemirror_mode": {
    "name": "ipython",
    "version": 3
   },
   "file_extension": ".py",
   "mimetype": "text/x-python",
   "name": "python",
   "nbconvert_exporter": "python",
   "pygments_lexer": "ipython3",
   "version": "3.8.3"
  },
  "vscode": {
   "interpreter": {
    "hash": "e752d38c6179fa9248540a4bef94f3a65a845b49153ec2c66e11937ce2a0e45a"
   }
  }
 },
 "nbformat": 4,
 "nbformat_minor": 4
}
