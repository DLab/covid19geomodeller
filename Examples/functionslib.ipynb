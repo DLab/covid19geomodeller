{
 "cells": [
  {
   "cell_type": "markdown",
   "metadata": {},
   "source": [
    "# Functions library\n",
    "This library helps building time dependent functions which serve to simulate dynamc processes. So far, this functions are used in compartimental models for simulating the following processes: \n",
    "* Mobility change due to lockdowns\n",
    "* Mobility change due to holidays or social events \n",
    "* Examination dynamics \n",
    "* Susceptible dynamics: migration, social clusters permeation\n",
    "\n",
    "In this jupyter notebook we will show how to use the different tools present in this library\n"
   ]
  },
  {
   "cell_type": "code",
   "execution_count": 1,
   "metadata": {},
   "outputs": [],
   "source": [
    "import numpy as np\n",
    "import matplotlib.pyplot as plt\n",
    "import sys\n",
    "\n",
    "from pathlib import Path\n",
    "sys.path.insert(1, '../src/SEIR/')\n",
    "sys.path.insert(1, '../src/utils/')\n",
    "import functions"
   ]
  },
  {
   "cell_type": "markdown",
   "metadata": {},
   "source": [
    "# Events Creator\n",
    "This function allows to create a function specifying its values for different time intervals.  \n",
    "**Arguments:** \n",
    "* **values:** List with the values for the different intervals. It accepts ints or floats\n",
    "* **days:** List of pairs (lists) of values that represent the different intervals associated with the given values. len(days) = len(values)\n",
    "* **functions:** Additional functions that can be added to the resulting events function.\n",
    "\n",
    "For values not present in the interval the default value is 0.\n",
    "Overlaping values will be added. "
   ]
  },
  {
   "cell_type": "markdown",
   "metadata": {},
   "source": [
    "**Example:**\n",
    "The following example will create  a function with the following values and intervals:\n",
    "* $F_0 = 1$ when $t \\in [0,10]$\n",
    "* $F_1 = 10$ when $t \\in [11,15]$\n",
    "* $F_2 = 15$ when $t \\in [14,20]$\n",
    "* $F_3 = 3$ when $t \\in [19,25]$\n"
   ]
  },
  {
   "cell_type": "code",
   "execution_count": 2,
   "metadata": {},
   "outputs": [],
   "source": [
    "values = [3,0.55,5,0.2]\n",
    "#values = [0,5,3,2]\n",
    "days = [[0,10],[11,15],[14,20],[19,25]]"
   ]
  },
  {
   "cell_type": "code",
   "execution_count": 3,
   "metadata": {},
   "outputs": [],
   "source": [
    "ex1 = functions.Events(values,days)"
   ]
  },
  {
   "cell_type": "code",
   "execution_count": 4,
   "metadata": {},
   "outputs": [
    {
     "data": {
      "text/plain": [
       "1.5000249688277862"
      ]
     },
     "execution_count": 4,
     "metadata": {},
     "output_type": "execute_result"
    }
   ],
   "source": [
    "ex1(10)"
   ]
  },
  {
   "cell_type": "code",
   "execution_count": 5,
   "metadata": {},
   "outputs": [
    {
     "data": {
      "image/png": "[encoded data removed]",
      "text/plain": [
       "<Figure size 432x288 with 1 Axes>"
      ]
     },
     "metadata": {
      "needs_background": "light"
     },
     "output_type": "display_data"
    }
   ],
   "source": [
    "t = np.array(np.arange(0,30,0.05))\n",
    "explot = [ex1(i) for i in t]\n",
    "plt.plot(t,explot)\n",
    "plt.show()"
   ]
  },
  {
   "cell_type": "markdown",
   "metadata": {},
   "source": [
    "# Periodic Functions"
   ]
  },
  {
   "cell_type": "markdown",
   "metadata": {},
   "source": [
    "## General Construction:\n",
    "square(min_val=0,max_val=1,period=14,init=0,end=1000,off_val=0,initphase='min',duty=0.5)\n",
    "\n",
    "## Square\n",
    "\n"
   ]
  },
  {
   "cell_type": "code",
   "execution_count": 6,
   "metadata": {},
   "outputs": [],
   "source": [
    "square = functions.square(min_val=0,max_val=10,period=10,init=0,end=50,off_val=5,initphase='max',duty=0.5)"
   ]
  },
  {
   "cell_type": "code",
   "execution_count": 7,
   "metadata": {},
   "outputs": [
    {
     "data": {
      "image/png": "[encoded data removed]",
      "text/plain": [
       "<Figure size 432x288 with 1 Axes>"
      ]
     },
     "metadata": {
      "needs_background": "light"
     },
     "output_type": "display_data"
    }
   ],
   "source": [
    "t = np.arange(0,80,0.5)\n",
    "sq = [square(i) for i in list(t)]\n",
    "plt.plot(t,sq)\n",
    "plt.show()"
   ]
  },
  {
   "cell_type": "code",
   "execution_count": null,
   "metadata": {},
   "outputs": [],
   "source": []
  },
  {
   "cell_type": "markdown",
   "metadata": {},
   "source": [
    "# Function Addition"
   ]
  },
  {
   "cell_type": "code",
   "execution_count": null,
   "metadata": {},
   "outputs": [],
   "source": [
    "\n",
    "def functionAddition(functarray):\n",
    "    \"\"\"\n",
    "    Creates the function that results adding the functions present in the function array\n",
    "    Receives a list where each element is a function that receives 1 argument\n",
    "    \"\"\"\n",
    "    def f(t):\n",
    "        aux = 0\n",
    "        for i in functarray:    \n",
    "            aux += i(t)\n",
    "        return aux\n",
    "    return f"
   ]
  },
  {
   "cell_type": "code",
   "execution_count": null,
   "metadata": {},
   "outputs": [],
   "source": []
  }
 ],
 "metadata": {
  "kernelspec": {
   "display_name": "Python 3",
   "language": "python",
   "name": "python3"
  },
  "language_info": {
   "codemirror_mode": {
    "name": "ipython",
    "version": 3
   },
   "file_extension": ".py",
   "mimetype": "text/x-python",
   "name": "python",
   "nbconvert_exporter": "python",
   "pygments_lexer": "ipython3",
   "version": "3.8.3"
  }
 },
 "nbformat": 4,
 "nbformat_minor": 4
}
