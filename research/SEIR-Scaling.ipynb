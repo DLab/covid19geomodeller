{
 "cells": [
  {
   "cell_type": "markdown",
   "metadata": {},
   "source": [
    "# SEIR Scaling Study\n",
    "Series of simulation to study how the virus behave at different scales. We will study how it does respond to different initial conditions, and to different total population. We will study Seroprevalence, Peak size and peak date. \n",
    "\n",
    "## Results:\n",
    "From this simulations we can conclude that the SEIR models are free of scale, their behavior depends only in the ratio of initial infected to the total population."
   ]
  },
  {
   "cell_type": "markdown",
   "metadata": {},
   "source": [
    "## Import Libraries"
   ]
  },
  {
   "cell_type": "code",
   "execution_count": 9,
   "metadata": {},
   "outputs": [
    {
     "name": "stdout",
     "output_type": "stream",
     "text": [
      "Linux\n"
     ]
    }
   ],
   "source": [
    "import sys\n",
    "from pathlib import Path\n",
    "sys.path.insert(1, '../src/SEIR/')\n",
    "sys.path.insert(1, '../src/utils/')\n",
    "\n",
    "from datetime import datetime\n",
    "import numpy as np\n",
    "from numpy import linalg as LA\n",
    "import pandas as pd\n",
    "from time import time\n",
    "import multiprocessing\n",
    "from joblib import Parallel, delayed\n",
    "\n",
    "import platform\n",
    "OS = platform.system()\n",
    "\n",
    "import matplotlib.pyplot as plt\n",
    "if OS == 'Linux':    \n",
    "    %matplotlib tk\n",
    "    print('Linux')\n",
    "elif OS == 'Windows':\n",
    "    %matplotlib qt\n",
    "    print('Windows')\n",
    "else:\n",
    "    print('OS not detected :-|')\n",
    "\n",
    "\n",
    "from class_SEIR2 import SEIR\n",
    "from Quarantine import Quarantine"
   ]
  },
  {
   "cell_type": "markdown",
   "metadata": {},
   "source": [
    "## Epidemiological Parameters\n",
    "* **beta:** Infection rate\n",
    "* **mu:** Initial exposed obtained from the initial infected mu=E0/I0\n",
    "* **Scale Factor:** Proportion of real infected compared to reported ones (1: all the infecteds are reported)\n",
    "* **Sero Prevalence Factor:** Adjust the proportion of the population that enters the virus dynamics\n",
    "* **Exposed Infection:** rate compared to the infected (0 the don't infect, 1 the infect in the same rate as the infected )"
   ]
  },
  {
   "cell_type": "markdown",
   "metadata": {},
   "source": [
    "## Simulation Parameters"
   ]
  },
  {
   "cell_type": "code",
   "execution_count": 5,
   "metadata": {},
   "outputs": [],
   "source": [
    "beta = 0.15 # Contagion rate\n",
    "mu = 0 # E0/I0 initial rate\n",
    "sigma = 0.2\n",
    "gamma = 0.1\n",
    "\n",
    "\n",
    "# Simulation time\n",
    "tsim = 1000\n",
    "\n",
    "# No quarantine\n",
    "s1 = Quarantine(1)\n",
    "quarantine = s1.alpha"
   ]
  },
  {
   "cell_type": "code",
   "execution_count": 6,
   "metadata": {},
   "outputs": [],
   "source": [
    "# Population Conditions\n",
    "population = [1000,10000,100000,1000000]\n",
    "# Relative Initial Active Infected \n",
    "I0 = [0.01,0.05,0.1,0.5,1,5,10]"
   ]
  },
  {
   "cell_type": "markdown",
   "metadata": {},
   "source": [
    "## Create and run simulation"
   ]
  },
  {
   "cell_type": "code",
   "execution_count": 10,
   "metadata": {},
   "outputs": [
    {
     "name": "stdout",
     "output_type": "stream",
     "text": [
      "[Parallel(n_jobs=12)]: Using backend LokyBackend with 12 concurrent workers.\n",
      "[Parallel(n_jobs=12)]: Done   1 tasks      | elapsed:    0.9s\n",
      "[Parallel(n_jobs=12)]: Done   2 out of   7 | elapsed:    0.9s remaining:    2.2s\n",
      "[Parallel(n_jobs=12)]: Done   3 out of   7 | elapsed:    0.9s remaining:    1.2s\n",
      "[Parallel(n_jobs=12)]: Done   4 out of   7 | elapsed:    0.9s remaining:    0.7s\n",
      "[Parallel(n_jobs=12)]: Done   5 out of   7 | elapsed:    0.9s remaining:    0.4s\n",
      "[Parallel(n_jobs=12)]: Done   7 out of   7 | elapsed:    1.1s remaining:    0.0s\n",
      "[Parallel(n_jobs=12)]: Done   7 out of   7 | elapsed:    1.1s finished\n",
      "[Parallel(n_jobs=12)]: Using backend LokyBackend with 12 concurrent workers.\n",
      "[Parallel(n_jobs=12)]: Done   1 tasks      | elapsed:    0.0s\n",
      "[Parallel(n_jobs=12)]: Batch computation too fast (0.0412s.) Setting batch_size=2.\n",
      "[Parallel(n_jobs=12)]: Done   2 out of   7 | elapsed:    0.1s remaining:    0.2s\n",
      "[Parallel(n_jobs=12)]: Done   3 out of   7 | elapsed:    0.6s remaining:    0.8s\n",
      "[Parallel(n_jobs=12)]: Done   4 out of   7 | elapsed:    0.6s remaining:    0.4s\n",
      "[Parallel(n_jobs=12)]: Done   5 out of   7 | elapsed:    0.6s remaining:    0.2s\n",
      "[Parallel(n_jobs=12)]: Done   7 out of   7 | elapsed:    0.6s remaining:    0.0s\n",
      "[Parallel(n_jobs=12)]: Done   7 out of   7 | elapsed:    0.6s finished\n",
      "[Parallel(n_jobs=12)]: Using backend LokyBackend with 12 concurrent workers.\n",
      "[Parallel(n_jobs=12)]: Done   1 tasks      | elapsed:    0.0s\n",
      "[Parallel(n_jobs=12)]: Batch computation too fast (0.0297s.) Setting batch_size=2.\n",
      "[Parallel(n_jobs=12)]: Done   2 out of   7 | elapsed:    0.0s remaining:    0.1s\n",
      "[Parallel(n_jobs=12)]: Done   3 out of   7 | elapsed:    0.0s remaining:    0.0s\n",
      "[Parallel(n_jobs=12)]: Done   4 out of   7 | elapsed:    0.0s remaining:    0.0s\n",
      "[Parallel(n_jobs=12)]: Done   5 out of   7 | elapsed:    0.0s remaining:    0.0s\n",
      "[Parallel(n_jobs=12)]: Done   7 out of   7 | elapsed:    0.1s remaining:    0.0s\n",
      "[Parallel(n_jobs=12)]: Done   7 out of   7 | elapsed:    0.1s finished\n",
      "[Parallel(n_jobs=12)]: Using backend LokyBackend with 12 concurrent workers.\n",
      "[Parallel(n_jobs=12)]: Done   1 tasks      | elapsed:    0.0s\n",
      "[Parallel(n_jobs=12)]: Batch computation too fast (0.0222s.) Setting batch_size=2.\n",
      "[Parallel(n_jobs=12)]: Done   2 out of   7 | elapsed:    0.0s remaining:    0.1s\n",
      "[Parallel(n_jobs=12)]: Done   3 out of   7 | elapsed:    0.0s remaining:    0.0s\n",
      "[Parallel(n_jobs=12)]: Done   4 out of   7 | elapsed:    0.0s remaining:    0.0s\n",
      "[Parallel(n_jobs=12)]: Done   5 out of   7 | elapsed:    0.0s remaining:    0.0s\n",
      "[Parallel(n_jobs=12)]: Done   7 out of   7 | elapsed:    0.1s remaining:    0.0s\n",
      "[Parallel(n_jobs=12)]: Done   7 out of   7 | elapsed:    0.1s finished\n",
      "ready\n"
     ]
    }
   ],
   "source": [
    "# For parallel simulation\n",
    "def simulate(simulation,j,tsim):\n",
    "    simulation[j].integr_sci(0,tsim,0.1)\n",
    "    return simulation[j]\n",
    "\n",
    "# Define Simulations\n",
    "sims = []\n",
    "for i in range(len(population)):\n",
    "    aux = []\n",
    "    for j in range(len(I0)):\n",
    "        aux.append(SEIR(tsim=tsim,alpha=s1.alpha,beta=beta,mu=mu,I0=I0[j]*population[i],population=population[i],expinfection=0,SeroPrevFactor=1))\n",
    "    sims.append(aux)\n",
    "# Run simulation\n",
    "num_cores = multiprocessing.cpu_count()\n",
    "simulation = []\n",
    "for i in range(len(population)):\n",
    "    simulation.append(Parallel(n_jobs=num_cores, verbose=50)(delayed(simulate)(sims[i],j,tsim) for j in range(len(sims[i]))))\n",
    "\n",
    "print('ready')"
   ]
  },
  {
   "cell_type": "markdown",
   "metadata": {},
   "source": [
    "# Simulation Analysis"
   ]
  },
  {
   "cell_type": "code",
   "execution_count": 12,
   "metadata": {},
   "outputs": [],
   "source": [
    "# Calculate indicators\n",
    "peak = []\n",
    "for i in range(len(population)):\n",
    "    aux = []\n",
    "    for j in range(len(I0)):\n",
    "        aux.append(100*simulation[i][j].peak/population[i])\n",
    "    peak.append(aux)\n",
    "\n",
    "    \n",
    "peaktime = []\n",
    "for i in range(len(population)):\n",
    "    aux = []\n",
    "    for j in range(len(I0)):\n",
    "        aux.append(simulation[i][j].peak_t)\n",
    "    peaktime.append(aux)\n",
    "\n",
    "prevalence = []\n",
    "for i in range(len(population)):\n",
    "    aux = []\n",
    "    for j in range(len(I0)):    \n",
    "        aux.append(simulation[i][j].prevalence_total[-1])  \n",
    "    prevalence.append(aux)"
   ]
  },
  {
   "cell_type": "markdown",
   "metadata": {},
   "source": [
    "### Peak Size Proportion"
   ]
  },
  {
   "cell_type": "code",
   "execution_count": 17,
   "metadata": {},
   "outputs": [],
   "source": [
    "# Contour Plot\n",
    "fig,ax=plt.subplots(1,1)\n",
    "cp = ax.contourf(I0,population,peak) \n",
    "fig.colorbar(cp) # Add a colorbar to a plot\n",
    "ax.set_title('Peak Size Proportion')\n",
    "ax.set_xlabel('Initial Active Infected')\n",
    "ax.set_ylabel('Total Population')\n",
    "plt.show() "
   ]
  },
  {
   "cell_type": "markdown",
   "metadata": {},
   "source": [
    "### Peak time"
   ]
  },
  {
   "cell_type": "code",
   "execution_count": 19,
   "metadata": {},
   "outputs": [],
   "source": [
    "# Contour Plot\n",
    "fig,ax=plt.subplots(1,1)\n",
    "cp = ax.contourf(I0,population,peaktime) \n",
    "fig.colorbar(cp) # Add a colorbar to a plot\n",
    "ax.set_title('Peak Time')\n",
    "ax.set_xlabel('Initial Active Infected')\n",
    "ax.set_ylabel('Total Population')\n",
    "plt.show() "
   ]
  },
  {
   "cell_type": "markdown",
   "metadata": {},
   "source": [
    "### SeroPrevalence"
   ]
  },
  {
   "cell_type": "code",
   "execution_count": 20,
   "metadata": {},
   "outputs": [],
   "source": [
    "fig,ax=plt.subplots(1,1)\n",
    "cp = ax.contourf(I0,population,prevalence) \n",
    "fig.colorbar(cp) # Add a colorbar to a plot\n",
    "ax.set_title('Prevalence')\n",
    "ax.set_xlabel('Initial Active Infected')\n",
    "ax.set_ylabel('Total Population')\n",
    "plt.show() "
   ]
  }
 ],
 "metadata": {
  "kernelspec": {
   "display_name": "Python 3",
   "language": "python",
   "name": "python3"
  },
  "language_info": {
   "codemirror_mode": {
    "name": "ipython",
    "version": 3
   },
   "file_extension": ".py",
   "mimetype": "text/x-python",
   "name": "python",
   "nbconvert_exporter": "python",
   "pygments_lexer": "ipython3",
   "version": "3.8.5"
  }
 },
 "nbformat": 4,
 "nbformat_minor": 4
}
