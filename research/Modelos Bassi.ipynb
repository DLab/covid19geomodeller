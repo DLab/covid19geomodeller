{
 "cells": [
  {
   "cell_type": "markdown",
   "metadata": {},
   "source": [
    "# Desarrollo modelo epidemiológico -  A. Bassi\n"
   ]
  },
  {
   "cell_type": "code",
   "execution_count": 1,
   "metadata": {},
   "outputs": [
    {
     "name": "stderr",
     "output_type": "stream",
     "text": [
      "/home/samuel/anaconda3/lib/python3.8/site-packages/rpy2/robjects/pandas2ri.py:17: FutureWarning: pandas.core.index is deprecated and will be removed in a future version.  The public classes are available in the top-level namespace.\n",
      "  from pandas.core.index import Index as PandasIndex\n"
     ]
    }
   ],
   "source": [
    "import numpy as np\n",
    "import pandas as pd\n",
    "import toml\n",
    "import matplotlib.pyplot as plt\n",
    "import time\n",
    "from datetime import datetime\n",
    "import matplotlib.dates as mdates\n",
    "from matplotlib.ticker import MaxNLocator\n",
    "\n",
    "import epyestim\n",
    "import epyestim.covid19 as covid19\n",
    "from epyestim.distributions import discretise_gamma\n",
    "from datetime import timedelta\n",
    "\n",
    "# rpy2 imports\n",
    "from rpy2.robjects.packages import importr\n",
    "from rpy2.robjects import pandas2ri\n",
    "import rpy2.robjects as robjects\n",
    "pandas2ri.activate()\n",
    "# R library\n",
    "global eps\n",
    "eps = importr(\"EpiEstim\")\n",
    "import sys\n",
    "from pathlib import Path\n",
    "sys.path.insert(1, '../')\n",
    "from src2.models.cv19sim import cv19sim"
   ]
  },
  {
   "cell_type": "code",
   "execution_count": 2,
   "metadata": {},
   "outputs": [],
   "source": [
    "#Pop-up plots\n",
    "import platform\n",
    "OS = platform.system()\n",
    "if OS == 'Linux' or OS == 'Darwin':\n",
    "    %matplotlib tk    \n",
    "elif OS == 'Windows':\n",
    "    %matplotlib qt    "
   ]
  },
  {
   "cell_type": "markdown",
   "metadata": {},
   "source": [
    "## Valores iniciales\n",
    "$ \\beta_e = \\beta\\frac{S}{N}$\n",
    "\n",
    "$ I_0 = \\frac{C_0}{\\beta_e}$\n",
    "\n",
    "$ E_0 = \\frac{C_0}{\\delta +\\sigma}$\n",
    "\n",
    "$ E_0 = \\frac{C_0}{\\delta +\\sigma}$\n",
    "\n",
    "$\\delta = \\frac{1}{2}\\sqrt{4\\sigma\\beta + (\\sigma-\\gamma)^2} - \\sigma - \\gamma$\n",
    "\n",
    "Entonces:\n",
    "$ E_0 = \\frac{C_0}{\\frac{1}{2}\\sqrt{4\\sigma\\beta + (\\sigma-\\gamma)^2}- \\gamma}$\n",
    "\n",
    "Donde $C_0$ son los infectados nuevos diarios $(I_d)$ el día 0\n",
    "### Data Real\n",
    "Cuando tenemos data real tenemos valores tanto de $I_0$ como de $C_0$, por lo que para lograr una partida suave es necesario usar uno para calcular el otro, o buscar un valor promedio que minimice el error entre ambos. Ese trabajo quedará para un poco más adelante"
   ]
  },
  {
   "cell_type": "markdown",
   "metadata": {},
   "source": [
    "## Calculo de pendientes en escala logarítmica"
   ]
  },
  {
   "cell_type": "code",
   "execution_count": 3,
   "metadata": {},
   "outputs": [],
   "source": [
    "def getdelta(y,x=None,scale='linear'):\n",
    "    if scale == 'linear':\n",
    "        y = np.log(y)\n",
    "    delta = np.diff(y)\n",
    "    return delta"
   ]
  },
  {
   "cell_type": "markdown",
   "metadata": {},
   "source": [
    "# Generación de datos sintéticos\n",
    "Trabajaremos con los infectados nuevos diarios, dado que esos son los datos que se miden en la realidad. El objetivo será tratar de reconstruir los parámetros originales. Truncaremos los datos para reducir el efecto de estabilización inicial. Partiremos con datos desde que los infectados activos superen los 100 casos. \n",
    "Por ahora despreciaremos los efectos del subreporte y del ruido de medición."
   ]
  },
  {
   "cell_type": "code",
   "execution_count": 4,
   "metadata": {},
   "outputs": [],
   "source": [
    "cfgfile = '../config_files/SEIR2.toml'\n",
    "cfg = toml.load(cfgfile) # no es necesario, pero es util para ver el archivo de configuracion"
   ]
  },
  {
   "cell_type": "code",
   "execution_count": 5,
   "metadata": {},
   "outputs": [],
   "source": [
    "beta = 0.4\n",
    "I0 = 10\n",
    "mu = 1\n",
    "tE_I = 3\n",
    "tI_R = 5\n",
    "sigma = 1/tE_I\n",
    "gamma = 1/tI_R"
   ]
  },
  {
   "cell_type": "code",
   "execution_count": 6,
   "metadata": {},
   "outputs": [],
   "source": [
    "sims = cv19sim(cfg,beta = beta,mu=mu,I=I0,I_d=I0*beta,tE_I = tE_I,tI_R=tI_R,t_end=250)"
   ]
  },
  {
   "cell_type": "code",
   "execution_count": 7,
   "metadata": {},
   "outputs": [],
   "source": [
    "sims.integrate()"
   ]
  },
  {
   "cell_type": "code",
   "execution_count": 8,
   "metadata": {},
   "outputs": [
    {
     "data": {
      "text/plain": [
       "<matplotlib.legend.Legend at 0x7f4d76701eb0>"
      ]
     },
     "execution_count": 8,
     "metadata": {},
     "output_type": "execute_result"
    }
   ],
   "source": [
    "plt.plot(sims.sims[0].I_d,label='Nuevos Infectados Diarios')\n",
    "plt.legend(loc=0)"
   ]
  },
  {
   "cell_type": "code",
   "execution_count": 9,
   "metadata": {},
   "outputs": [],
   "source": [
    "# Tiempo de los datos inicial\n",
    "t0 = np.where(sims.sims[0].I >= 100)[0][0]"
   ]
  },
  {
   "cell_type": "code",
   "execution_count": 10,
   "metadata": {},
   "outputs": [],
   "source": [
    "I_d = sims.sims[0].I_d[t0:]"
   ]
  },
  {
   "cell_type": "markdown",
   "metadata": {},
   "source": [
    "### Cálculo R analítico\n",
    "$R_e = \\beta \\frac{S}{N}T_{IR}$"
   ]
  },
  {
   "cell_type": "code",
   "execution_count": 11,
   "metadata": {},
   "outputs": [],
   "source": [
    "Re_analitico = beta*sims.sims[0].S/sims.sims[0].N*tI_R\n",
    "Re_analitico = Re_analitico[t0:] # Correccion temporal"
   ]
  },
  {
   "cell_type": "markdown",
   "metadata": {},
   "source": [
    "# Trabajo con la data sintética"
   ]
  },
  {
   "cell_type": "code",
   "execution_count": 12,
   "metadata": {},
   "outputs": [
    {
     "data": {
      "text/plain": [
       "<matplotlib.collections.PathCollection at 0x7f4d6c798a60>"
      ]
     },
     "execution_count": 12,
     "metadata": {},
     "output_type": "execute_result"
    }
   ],
   "source": [
    "plt.scatter(range(len(I_d)),I_d,label='data')\n",
    "#plt.plot(t[1:],dI_d,label='dI_d')"
   ]
  },
  {
   "cell_type": "markdown",
   "metadata": {},
   "source": [
    "### Calculo de $\\delta$"
   ]
  },
  {
   "cell_type": "code",
   "execution_count": 13,
   "metadata": {},
   "outputs": [],
   "source": [
    "delta = getdelta(I_d)"
   ]
  },
  {
   "cell_type": "code",
   "execution_count": 14,
   "metadata": {},
   "outputs": [
    {
     "data": {
      "text/plain": [
       "<matplotlib.legend.Legend at 0x7f4d6c7c8d60>"
      ]
     },
     "execution_count": 14,
     "metadata": {},
     "output_type": "execute_result"
    }
   ],
   "source": [
    "plt.plot(range(len(delta)),delta,label='delta')\n",
    "plt.title('Pendiente Infectados diarios escala log')\n",
    "plt.legend(loc=0)"
   ]
  },
  {
   "cell_type": "code",
   "execution_count": 15,
   "metadata": {},
   "outputs": [],
   "source": [
    "fig, axs2 = plt.subplots(figsize=(10,6),linewidth=5,edgecolor='black',facecolor=\"white\")\n",
    "\n",
    "axs2.set_ylabel('Delta',color='tab:red')\n",
    "axs2.plot(range(len(delta)),delta,label='delta',color='tab:red')\n",
    "\n",
    "axs2.tick_params(axis='y', labelcolor='tab:red')\n",
    "\n",
    "axs = axs2.twinx()\n",
    "axs.plot(range(len(I_d)),np.log(I_d),color='tab:blue',label='Diarios',linestyle='solid')\n",
    "#axs.plot(sim.t,sim.I,color='tab:blue',label='Activos')\n",
    "axs.set_ylabel('Infectados',color='tab:blue')\n",
    "axs.tick_params(axis='y', labelcolor='tab:blue')\n",
    "\n",
    "#axs2.set_xlim(0,200)\n",
    "fig.suptitle('Delta e Id')\n",
    "axs.legend(loc=1)\n",
    "axs2.legend(loc=3)\n",
    "fig.show()"
   ]
  },
  {
   "cell_type": "markdown",
   "metadata": {},
   "source": [
    "## Tiempo Serial\n",
    "Uno de los mayores desafíos es tener un tiempo serial bien calculado.\n",
    "Analíticamente la definición del tiempo serial es:  \n",
    "$ T_s = T_{EI} + T_{IR} $  \n",
    "Donde $T_{EI}$ y $T_{IR}$ son las medias de las distribuciones de tiempos de incubación e infecciosidad respectivamente. \n",
    "Para este análisis trabajaremos primero con los tiempos seriales de la misma simulación."
   ]
  },
  {
   "cell_type": "code",
   "execution_count": 16,
   "metadata": {},
   "outputs": [],
   "source": [
    "Ts = tE_I + tI_R"
   ]
  },
  {
   "cell_type": "markdown",
   "metadata": {},
   "source": [
    "## Cálculo del R efectivo a partir de $\\delta$"
   ]
  },
  {
   "cell_type": "code",
   "execution_count": 17,
   "metadata": {},
   "outputs": [],
   "source": [
    "# R delta\n",
    "Re_delta = []\n",
    "for i in range(len(delta)):\n",
    "    Re_delta.append(1 + delta[i]*Ts + sigma*gamma/(sigma + gamma)*(delta[i]*Ts)**2)\n",
    "Re_delta=np.array(Re_delta)\n",
    "\n",
    "# R delta aprox\n",
    "Re_delta_a = 1 + delta*Ts"
   ]
  },
  {
   "cell_type": "markdown",
   "metadata": {},
   "source": [
    "## Estudios de Re: Comparación R analítico, R delta y R delta aprox"
   ]
  },
  {
   "cell_type": "code",
   "execution_count": 18,
   "metadata": {},
   "outputs": [],
   "source": [
    "plt.plot(range(len(Re_analitico[1:])),Re_analitico[1:],label='Analitico')\n",
    "plt.plot(range(len(Re_delta)),Re_delta,label='delta')\n",
    "plt.plot(range(len(Re_delta_a)),Re_delta_a,label='delta aprox')\n",
    "plt.axhline(1,color='grey',linestyle='dashed')\n",
    "plt.title('Estudios Re')\n",
    "plt.legend(loc=0)\n",
    "plt.show()"
   ]
  },
  {
   "cell_type": "code",
   "execution_count": 19,
   "metadata": {},
   "outputs": [],
   "source": [
    "fig, axs2 = plt.subplots(figsize=(10,6),linewidth=5,edgecolor='black',facecolor=\"white\")\n",
    "\n",
    "\n",
    "axs2.set_ylabel('Delta',color='tab:red')\n",
    "axs2.plot(range(len(Re_analitico[1:])),Re_analitico[1:],label='Analitico')\n",
    "axs2.plot(range(len(Re_delta)),Re_delta,label='delta')\n",
    "axs2.plot(range(len(Re_delta_a)),Re_delta_a,label='delta aprox')\n",
    "axs2.axhline(1,color='grey',linestyle='dashed')\n",
    "axs2.tick_params(axis='y', labelcolor='tab:red')\n",
    "\n",
    "axs = axs2.twinx()\n",
    "axs.plot(range(len(I_d)),np.log(I_d),color='tab:blue',label='Diarios',linestyle='solid')\n",
    "axs2.axvline(np.where(I_d==max(I_d))[0][0],color='grey',linestyle='dashed')\n",
    "#axs.plot(sim.t,sim.I,color='tab:blue',label='Activos')\n",
    "axs.set_ylabel('Infectados',color='tab:blue')\n",
    "axs.tick_params(axis='y', labelcolor='tab:blue')\n",
    "\n",
    "#axs2.set_xlim(0,200)\n",
    "fig.suptitle('Re e Id')\n",
    "axs.legend(loc=1)\n",
    "axs2.legend(loc=3)\n",
    "fig.show()\n",
    "\n",
    "plt.show()"
   ]
  },
  {
   "cell_type": "markdown",
   "metadata": {},
   "source": [
    "### Error R"
   ]
  },
  {
   "cell_type": "code",
   "execution_count": 20,
   "metadata": {},
   "outputs": [
    {
     "name": "stdout",
     "output_type": "stream",
     "text": [
      "Error calculo Delta: 0.0038381003424130386\n",
      "Error calculo Delta aprox: 0.014974080572622957\n"
     ]
    }
   ],
   "source": [
    "P = 1\n",
    "err_delta =  ((P*Re_delta - P*Re_analitico[1:])**2).mean() \n",
    "err_delta_a =  ((P*Re_delta_a - P*Re_analitico[1:])**2).mean() \n",
    "print('Error calculo Delta: '+str(err_delta))\n",
    "print('Error calculo Delta aprox: '+str(err_delta_a))"
   ]
  },
  {
   "cell_type": "markdown",
   "metadata": {},
   "source": [
    "## Calculo de beta\n",
    "$ \\beta(t) = R_e \\frac{N}{S(t)} \\gamma $"
   ]
  },
  {
   "cell_type": "code",
   "execution_count": 21,
   "metadata": {},
   "outputs": [],
   "source": [
    "beta_Re_delta = gamma*Re_delta*sims.sims[0].N/sims.sims[0].S[t0+1:]\n",
    "beta_Re_delta_a = gamma*Re_delta_a*sims.sims[0].N/sims.sims[0].S[t0+1:]\n",
    "beta_Re_analitico = gamma*Re_analitico*sims.sims[0].N/sims.sims[0].S[t0:]"
   ]
  },
  {
   "cell_type": "code",
   "execution_count": 22,
   "metadata": {},
   "outputs": [],
   "source": [
    "plt.plot(range(len(beta_Re_delta)),beta_Re_delta,label='Delta')\n",
    "plt.plot(range(len(beta_Re_delta_a)),beta_Re_delta_a,label='Delta aprox')\n",
    "plt.plot(range(len(beta_Re_analitico)),beta_Re_analitico,label='beta analitico')\n",
    "plt.axhline(beta,label='Real',linestyle='dashed')\n",
    "plt.legend(loc=0)\n",
    "plt.show()"
   ]
  },
  {
   "cell_type": "markdown",
   "metadata": {},
   "source": [
    "# Análisis de sensibilidad de tiempo serial\n",
    "Para hacer este estudio utilizaremos los mismos datos sintéticos y calcularemos el Re y beta utilizando distintos gammas y sigmas para ver como crece el error a medida que nos alejamos de los valores correctos"
   ]
  },
  {
   "cell_type": "code",
   "execution_count": 23,
   "metadata": {},
   "outputs": [],
   "source": [
    "tE_I_s = np.arange(2,6,0.1)\n",
    "tI_R_s = np.arange(2,6,0.1)\n",
    "Ts_s = np.array([[i+j for i in tE_I_s] for j in tI_R_s])"
   ]
  },
  {
   "cell_type": "code",
   "execution_count": 24,
   "metadata": {},
   "outputs": [],
   "source": [
    "sigma_s = 1/tE_I_s\n",
    "gamma_s = 1/tI_R_s"
   ]
  },
  {
   "cell_type": "code",
   "execution_count": 25,
   "metadata": {},
   "outputs": [],
   "source": [
    "P = 1\n",
    "# R delta\n",
    "Re_delta_s_a = np.zeros(np.shape(Ts_s), dtype=object)  \n",
    "Re_delta_s = np.zeros(np.shape(Ts_s), dtype=object)\n",
    "error_s = np.zeros(np.shape(Ts_s))\n",
    "error_s_a = np.zeros(np.shape(Ts_s))\n",
    "for i in range(len(sigma_s)):\n",
    "    for j in range(len(gamma_s)):\n",
    "        aux = []\n",
    "        aux_a = []\n",
    "        for k in range(len(delta)):\n",
    "            aux.append(1 + delta[k]*(1/sigma_s[i]+1/gamma_s[j]) + sigma_s[i]*gamma_s[j]/(sigma_s[i] + gamma_s[j])*(delta[k]*(1/sigma_s[i]+1/gamma_s[j]))**2)\n",
    "            aux_a.append(1 + delta[k]*(1/sigma_s[i]+1/gamma_s[j]))\n",
    "        Re_delta_s[i,j] = np.array(aux)\n",
    "        Re_delta_s_a[i,j]= np.array(aux_a)\n",
    "        error_s[i,j] = ((P*Re_delta_s[i,j] - P*Re_analitico[1:])**2).mean()\n",
    "        error_s_a[i,j] = ((P*Re_delta_s_a[i,j] - P*Re_analitico[1:])**2).mean()\n",
    "            "
   ]
  },
  {
   "cell_type": "code",
   "execution_count": 26,
   "metadata": {},
   "outputs": [],
   "source": [
    "P = 1\n",
    "# R delta\n",
    "Re_delta_s_a = np.zeros(np.shape(Ts_s), dtype=object)  \n",
    "Re_delta_s = np.zeros(np.shape(Ts_s), dtype=object)\n",
    "error_s = np.zeros(np.shape(Ts_s))\n",
    "error_s_a = np.zeros(np.shape(Ts_s))\n",
    "for i in range(len(sigma_s)):\n",
    "    for j in range(len(gamma_s)):\n",
    "        aux = []\n",
    "        aux_a = []\n",
    "        for k in range(len(delta)):\n",
    "            aux.append(1 + delta[k]*(1/sigma_s[i]+1/gamma_s[j]) + sigma_s[i]*gamma_s[j]/(sigma_s[i] + gamma_s[j])*(delta[k]*(1/sigma_s[i]+1/gamma_s[j]))**2)\n",
    "            aux_a.append(1 + delta[k]*(1/sigma_s[i]+1/gamma_s[j]))\n",
    "        Re_delta_s[i,j] = np.array(aux)\n",
    "        Re_delta_s_a[i,j]= np.array(aux_a)\n",
    "        error_s[i,j] = ((P*Re_delta_s[i,j] - P*Re_delta[:])**2).mean()\n",
    "        error_s_a[i,j] = ((P*Re_delta_s_a[i,j] - P*Re_delta[:])**2).mean()\n",
    "            "
   ]
  },
  {
   "cell_type": "markdown",
   "metadata": {},
   "source": [
    "### Analysis"
   ]
  },
  {
   "cell_type": "code",
   "execution_count": 27,
   "metadata": {},
   "outputs": [],
   "source": [
    "# Contour Plot\n",
    "levels = np.arange(0,0.121,0.001)\n",
    "fig,ax=plt.subplots(1,1)\n",
    "cp = ax.contourf(tE_I_s,tI_R_s,error_s,levels)\n",
    "\n",
    "cp2 = ax.contour(tE_I_s,tI_R_s,error_s,[0,np.min(error_s)+0.001,0.12],colors='white',linestyles='dashed')\n",
    "cp2 = ax.contour(tE_I_s,tI_R_s,error_s,[0,np.min(error_s)+0.0000001,0.12],colors='white',linestyles='dashed')\n",
    "#\n",
    "#ax.clabel(cp2, inline=1, fontsize=20,fmt=str(l))\n",
    "\n",
    "fig.colorbar(cp) # Add a colorbar to a plot\n",
    "ax.set_title('Error calculo completo')\n",
    "ax.set_xlabel('Incubation period')\n",
    "ax.set_ylabel('Infectious period')\n",
    "plt.show()"
   ]
  },
  {
   "cell_type": "code",
   "execution_count": 29,
   "metadata": {},
   "outputs": [],
   "source": [
    "# Contour Plot\n",
    "fig,ax=plt.subplots(1,1)\n",
    "cp = ax.contourf(tE_I_s,tI_R_s,error_s_a) \n",
    "fig.colorbar(cp) # Add a colorbar to a plot\n",
    "ax.set_title('Error calculo aprox')\n",
    "ax.set_xlabel('Incubation period')\n",
    "ax.set_ylabel('Infectious period')\n",
    "plt.show()"
   ]
  },
  {
   "cell_type": "code",
   "execution_count": 31,
   "metadata": {},
   "outputs": [
    {
     "data": {
      "text/plain": [
       "<matplotlib.legend.Legend at 0x7f4d6a281be0>"
      ]
     },
     "execution_count": 31,
     "metadata": {},
     "output_type": "execute_result"
    }
   ],
   "source": [
    "l = 3\n",
    "j = 30 # gamma\n",
    "for i in range(int(len(sigma_s)/l)):\n",
    "    plt.plot(range(len(Re_delta_s[i*l,j])),Re_delta_s[i*l,j],label='tE_I='+str(tE_I_s[i*l]))\n",
    "plt.plot(range(len(Re_analitico)),Re_analitico,label='analitico',linestyle='dashed',color='grey')\n",
    "plt.legend(loc=0)"
   ]
  },
  {
   "cell_type": "code",
   "execution_count": 33,
   "metadata": {},
   "outputs": [
    {
     "data": {
      "text/plain": [
       "1.9892594347214363"
      ]
     },
     "execution_count": 33,
     "metadata": {},
     "output_type": "execute_result"
    }
   ],
   "source": [
    "Re_analitico[0]"
   ]
  },
  {
   "cell_type": "markdown",
   "metadata": {},
   "source": [
    "# Error vs R0"
   ]
  },
  {
   "cell_type": "code",
   "execution_count": 146,
   "metadata": {},
   "outputs": [],
   "source": [
    "beta2 = list(np.arange(0.2,0.6,0.01))\n",
    "R0 = np.array(beta2)*tI_R"
   ]
  },
  {
   "cell_type": "code",
   "execution_count": 151,
   "metadata": {},
   "outputs": [],
   "source": [
    "sims2 = cv19sim(cfg,beta = beta2,mu=mu,I=I0,I_d=I0*beta,tE_I = tE_I,tI_R=tI_R,t_end=250)\n",
    "sims2.integrate()"
   ]
  },
  {
   "cell_type": "markdown",
   "metadata": {},
   "source": [
    "### Calculo de R por delta"
   ]
  },
  {
   "cell_type": "code",
   "execution_count": 152,
   "metadata": {},
   "outputs": [],
   "source": [
    "t0=15"
   ]
  },
  {
   "cell_type": "code",
   "execution_count": 153,
   "metadata": {},
   "outputs": [],
   "source": [
    "Re_analitico2 = [beta2[i]*sims2.sims[i].S[t0:-1]/sims2.sims[i].N*tI_R for i in range(len(beta2))]\n"
   ]
  },
  {
   "cell_type": "code",
   "execution_count": 154,
   "metadata": {},
   "outputs": [],
   "source": [
    "delta2 = [getdelta(sims2.sims[i].I_d[t0:]) for i in range(len(beta2))]"
   ]
  },
  {
   "cell_type": "code",
   "execution_count": 155,
   "metadata": {},
   "outputs": [
    {
     "data": {
      "text/plain": [
       "234"
      ]
     },
     "execution_count": 155,
     "metadata": {},
     "output_type": "execute_result"
    }
   ],
   "source": [
    "len(delta2[0])"
   ]
  },
  {
   "cell_type": "code",
   "execution_count": 156,
   "metadata": {},
   "outputs": [
    {
     "data": {
      "text/plain": [
       "234"
      ]
     },
     "execution_count": 156,
     "metadata": {},
     "output_type": "execute_result"
    }
   ],
   "source": [
    "len(Re_analitico2[0])"
   ]
  },
  {
   "cell_type": "code",
   "execution_count": 157,
   "metadata": {},
   "outputs": [],
   "source": [
    "# R delta\n",
    "Re_delta2 = []\n",
    "for j in delta2:\n",
    "    aux = []\n",
    "    for i in range(len(j)):\n",
    "        aux.append(1 + j[i]*Ts + sigma*gamma/(sigma + gamma)*(j[i]*Ts)**2)\n",
    "    Re_delta2.append(aux)\n",
    "Re_delta2=np.array(Re_delta2)\n",
    "\n",
    "# R delta aprox\n",
    "#Re_delta_a = 1 + delta*Ts"
   ]
  },
  {
   "cell_type": "code",
   "execution_count": 158,
   "metadata": {},
   "outputs": [
    {
     "data": {
      "text/plain": [
       "[<matplotlib.lines.Line2D at 0x7f4d47599880>]"
      ]
     },
     "execution_count": 158,
     "metadata": {},
     "output_type": "execute_result"
    }
   ],
   "source": [
    "plt.plot(Re_delta2[-1])"
   ]
  },
  {
   "cell_type": "code",
   "execution_count": 159,
   "metadata": {},
   "outputs": [],
   "source": [
    "# Error\n",
    "err2 = []\n",
    "for i in range(len(beta2)):\n",
    "    err2.append((Re_analitico2[i][0:100]-Re_delta2[i][0:100]).mean())"
   ]
  },
  {
   "cell_type": "code",
   "execution_count": 162,
   "metadata": {},
   "outputs": [
    {
     "data": {
      "text/plain": [
       "[]"
      ]
     },
     "execution_count": 162,
     "metadata": {},
     "output_type": "execute_result"
    }
   ],
   "source": [
    "plt.plot(R0,err2)\n",
    "plt.title('Error calculo R vs R0')\n",
    "plt.xlabel('R0')\n",
    "plt.ylabel('Error')\n",
    "plt.plot()"
   ]
  },
  {
   "cell_type": "markdown",
   "metadata": {},
   "source": [
    "# To Do:\n",
    "[ ] Comprobar el orden de las variables en los arreglos sigma-gamma  \n",
    "[ ] Verificar el calculo de R porque no me están calzando bien los R con las magnitudes de los otros.\n",
    "[ ] Grid-plot  \n",
    "\n",
    "\n",
    "[ ] Estudiar cuanto aumenta el error a medida que cambian el tiempo serial, gamma y sigma \n",
    "\n",
    "[x] Calcular Beta desde el R  \n",
    "[ ] Reconstruir las curvas con los parámetros obtenidos  \n",
    "[ ] Tratar de compatibilizar los cálculos de R de Felipe y de la nueva librería, y compararlos con el cálculo analítico  \n",
    "\n",
    "[ ] Revisar calculo del error entre los cálculos de R para el contourplot.  \n",
    "[ ] Revisar calculo del error entre los cálculos de R. "
   ]
  },
  {
   "cell_type": "code",
   "execution_count": null,
   "metadata": {},
   "outputs": [],
   "source": []
  }
 ],
 "metadata": {
  "kernelspec": {
   "display_name": "Python 3",
   "language": "python",
   "name": "python3"
  },
  "language_info": {
   "codemirror_mode": {
    "name": "ipython",
    "version": 3
   },
   "file_extension": ".py",
   "mimetype": "text/x-python",
   "name": "python",
   "nbconvert_exporter": "python",
   "pygments_lexer": "ipython3",
   "version": "3.8.3"
  }
 },
 "nbformat": 4,
 "nbformat_minor": 4
}
