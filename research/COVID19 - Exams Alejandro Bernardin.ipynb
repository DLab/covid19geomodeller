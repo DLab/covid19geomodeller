{
 "cells": [
  {
   "cell_type": "code",
   "execution_count": 1,
   "metadata": {},
   "outputs": [],
   "source": [
    "import numpy as np\n",
    "import matplotlib.pyplot as plt\n",
    "from scipy.integrate import odeint"
   ]
  },
  {
   "cell_type": "markdown",
   "metadata": {},
   "source": [
    "# PCR testing strategy in a COVID pandemic\n",
    "\n",
    "We have expanded a SEIR model where the population is being tested, and when an infectious person is detected, it gets isolated. The equations of the expandend SEIR model are:\n",
    "\n",
    "\\begin{equation}\n",
    "    \\begin{aligned}\n",
    "        \\frac{dS}{dt}   &= \\frac{-\\beta SI}{N}-\\frac{\\beta SI_T}{N}-\\epsilon S\\\\\n",
    "        \\frac{dS_T}{dt} &= \\frac{-\\beta S_TI}{N}-\\frac{\\beta S_TI_T}{N}+\\epsilon S\\\\\n",
    "        \\frac{dE}{dt}   &= \\frac{\\beta SI}{N}+\\frac{\\beta SI_T}{N} + \\frac{\\beta S_TI}{N}+\\frac{\\beta S_TI_T}{N} - \\sigma E - \\epsilon E\\\\\n",
    "        \\frac{dE_T}{dt}  &= -\\sigma E_T + \\epsilon E\\\\\n",
    "        \\frac{dI}{dt}    &= \\sigma E + \\sigma E_T - \\gamma I - \\epsilon I\\\\\n",
    "        \\frac{dI_T}{dt}  &= - \\theta I_T - \\gamma I_T + \\epsilon I\\\\\n",
    "        \\frac{dI_I}{dt}  &= \\theta I_T - \\gamma I_I\\\\\n",
    "        \\frac{dR}{dt}    &= \\gamma (I+I_T+I_I) - \\epsilon R\\\\\n",
    "        \\frac{dR}{dt}    &= \\epsilon R\\\\\n",
    "    \\end{aligned}\n",
    "\\end{equation}\n",
    "\n",
    "where $\\epsilon$ is the testing rate and $\\theta$ the isolation rate. Now, if we consider that tested Infected, $I_T$ are immediately isolated, the above system reduce to:\n",
    "\n",
    "\\begin{equation}\n",
    "    \\begin{aligned}\n",
    "        \\frac{dS}{dt}   &= \\frac{-\\beta SI}{N}-\\epsilon S\\\\\n",
    "        \\frac{dS_T}{dt} &= \\frac{-\\beta S_TI}{N}+\\epsilon S\\\\\n",
    "        \\frac{dE}{dt}   &= \\frac{\\beta SI}{N} + \\frac{\\beta S_TI}{N}-\\sigma E-\\epsilon E\\\\\n",
    "        \\frac{dE_T}{dt}  &= -\\sigma E_T + \\epsilon E\\\\\n",
    "        \\frac{dI}{dt}    &= \\sigma E + \\sigma E_T - \\gamma I - \\epsilon I\\\\\n",
    "        \\frac{dI_T}{dt}  &= - \\gamma I_T + \\epsilon I\\\\\n",
    "        \\frac{dR}{dt}    &= \\gamma (I+I_T)-\\epsilon R\\\\\n",
    "        \\frac{dR_T}{dt}    &= \\epsilon R\\\\\n",
    "    \\end{aligned}\n",
    "\\end{equation}\n",
    "\n",
    "here, by simplicity, because we are reducing one parameter, we implement the second group of equations. In this way the system is composed by 4 parameters: $\\beta$, $\\sigma$, $\\gamma$ wich are biological parameters, and $\\epsilon$ which is the testing parameter.\n",
    "\n",
    "If external flux is entering the system, we should add $fI$ to the infected state, where $f$ is the proportion of new infected regarding actual infected.\n"
   ]
  },
  {
   "cell_type": "markdown",
   "metadata": {},
   "source": [
    "## Model implementation"
   ]
  },
  {
   "cell_type": "code",
   "execution_count": 8,
   "metadata": {},
   "outputs": [],
   "source": [
    "#SEIR testing strategy model function\n",
    "def model_SEIR_testing(y, t):\n",
    "    S0   = y[0]\n",
    "    S0_T = y[1]\n",
    "    E0   = y[2]\n",
    "    E0_T = y[3]\n",
    "    I0   = y[4]\n",
    "    I0_T = y[5]\n",
    "    R0   = y[6]\n",
    "    R0_T = y[7]\n",
    "    \n",
    "    dSdt   = -beta*S0*I0/N - epsilon*S0\n",
    "    dS_Tdt = -beta*S0_T*I0/N + epsilon*S0\n",
    "    dEdt   = beta*S0*I0/N + beta*S0_T*I0/N - sigma*E0 - epsilon*E0\n",
    "    dE_Tdt = -sigma*E0_T + epsilon*E0\n",
    "    dIdt   = sigma*E0 + sigma*E0_T - gamma*I0 - epsilon*I0\n",
    "    dI_Tdt = -gamma*I0_T + epsilon*I0\n",
    "    dRdt   = gamma*(I0+I0_T) - epsilon*R0\n",
    "    dR_Tdt = epsilon*R0\n",
    "    \n",
    "    return [dSdt, dS_Tdt, dEdt, dE_Tdt, dIdt, dI_Tdt, dRdt, dR_Tdt]"
   ]
  },
  {
   "cell_type": "markdown",
   "metadata": {},
   "source": [
    "## Initial condition and running the model"
   ]
  },
  {
   "cell_type": "code",
   "execution_count": 23,
   "metadata": {},
   "outputs": [],
   "source": [
    "# initial parameters\n",
    "beta    = 0.2\n",
    "sigma   = 0.2 # 1/5 \n",
    "gamma   = 0.1 # 1/14\n",
    "epsilon = 0.2#2\n",
    " \n",
    "# initial states conditions\n",
    "Si   = 1000000\n",
    "Si_T = 0\n",
    "Ei   = 0\n",
    "Ei_T = 0\n",
    "Ii   = 100\n",
    "Ii_T = 0\n",
    "Ri   = 0\n",
    "Ri_T = 0\n",
    "\n",
    "N = Si + Si_T + Ei + Ei_T + Ii + Ii_T + Ri + Ri_T\n",
    "t  = np.linspace(0, 400., 4000)                  # time grid, (from, to, number_of_step)\n",
    "y0 = [Si, Si_T, Ei, Ei_T, Ii, Ii_T, Ri, Ri_T]   # initial conditions vector\n",
    "    \n",
    "# solve the ODEs\n",
    "soln = odeint(model_SEIR_testing, y0, t)        # (model, initial_conditions, time_series)\n",
    "\n",
    "# reshape the output of the solver to plot the states\n",
    "S   = soln[:, 0]\n",
    "S_T = soln[:, 1]\n",
    "E   = soln[:, 2]\n",
    "E_T = soln[:, 3]\n",
    "I   = soln[:, 4]\n",
    "I_T = soln[:, 5]\n",
    "R   = soln[:, 6]\n",
    "R_T = soln[:, 7]"
   ]
  },
  {
   "cell_type": "code",
   "execution_count": 24,
   "metadata": {},
   "outputs": [],
   "source": [
    "# initial parameters\n",
    "beta    = 0.4\n",
    "sigma   = 0.2 # 1/5 \n",
    "gamma   = 0.071 # 1/14\n",
    "epsilon = 0.2\n",
    " \n",
    "# initial states conditions\n",
    "Si   = 10000\n",
    "Si_T = 0\n",
    "Ei   = 0\n",
    "Ei_T = 0\n",
    "Ii   = 1\n",
    "Ii_T = 0\n",
    "Ri   = 0\n",
    "Ri_T = 0\n",
    "\n",
    "N = Si + Si_T + Ei + Ei_T + Ii + Ii_T + Ri + Ri_T\n",
    "t  = np.linspace(0, 400., 4000)                  # time grid, (from, to, number_of_step)\n",
    "y0 = [Si, Si_T, Ei, Ei_T, Ii, Ii_T, Ri, Ri_T]   # initial conditions vector\n",
    "    \n",
    "# solve the ODEs\n",
    "soln = odeint(model_SEIR_testing, y0, t)        # (model, initial_conditions, time_series)\n",
    "\n",
    "# reshape the output of the solver to plot the states\n",
    "S   = soln[:, 0]\n",
    "S_T = soln[:, 1]\n",
    "E   = soln[:, 2]\n",
    "E_T = soln[:, 3]\n",
    "I   = soln[:, 4]\n",
    "I_T = soln[:, 5]\n",
    "R   = soln[:, 6]\n",
    "R_T = soln[:, 7]"
   ]
  },
  {
   "cell_type": "code",
   "execution_count": 25,
   "metadata": {},
   "outputs": [
    {
     "data": {
      "image/png": "[encoded data removed]",
      "text/plain": [
       "<Figure size 432x288 with 1 Axes>"
      ]
     },
     "metadata": {
      "needs_background": "light"
     },
     "output_type": "display_data"
    }
   ],
   "source": [
    "plt.plot(S)\n",
    "plt.show()"
   ]
  },
  {
   "cell_type": "code",
   "execution_count": 26,
   "metadata": {},
   "outputs": [
    {
     "ename": "SyntaxError",
     "evalue": "invalid syntax (<ipython-input-26-6a2fd99e9dc0>, line 10)",
     "output_type": "error",
     "traceback": [
      "\u001b[0;36m  File \u001b[0;32m\"<ipython-input-26-6a2fd99e9dc0>\"\u001b[0;36m, line \u001b[0;32m10\u001b[0m\n\u001b[0;31m    plt.plot(t, E_T, labilon = 0.0el='Exposed  tested')\u001b[0m\n\u001b[0m                                  ^\u001b[0m\n\u001b[0;31mSyntaxError\u001b[0m\u001b[0;31m:\u001b[0m invalid syntax\n"
     ]
    }
   ],
   "source": [
    "plt.plot(t, S, label='Susceptible')\n",
    "plt.plot(t, E, label='Exposed')\n",
    "plt.plot(t, I, label='Infected')\n",
    "plt.plot(t, R, label='Removed')\n",
    "plt.title(\"states\")\n",
    "plt.legend()\n",
    "plt.show()\n",
    "\n",
    "plt.plot(t, S_T, label='Susceptible tested')\n",
    "plt.plot(t, E_T, labilon = 0.0el='Exposed  tested')\n",
    "plt.plot(t, I_T, label='Infected tested')\n",
    "plt.plot(t, R_T, label='Removed tested')\n",
    "plt.title(\"tested states\")\n",
    "plt.legend()\n",
    "plt.show()"
   ]
  },
  {
   "cell_type": "code",
   "execution_count": 27,
   "metadata": {},
   "outputs": [
    {
     "data": {
      "text/plain": [
       "0.2"
      ]
     },
     "execution_count": 27,
     "metadata": {},
     "output_type": "execute_result"
    }
   ],
   "source": [
    "epsilon"
   ]
  },
  {
   "cell_type": "code",
   "execution_count": 28,
   "metadata": {},
   "outputs": [
    {
     "data": {
      "text/plain": [
       "0.05526265376997764"
      ]
     },
     "execution_count": 28,
     "metadata": {},
     "output_type": "execute_result"
    }
   ],
   "source": [
    "R[-1]"
   ]
  },
  {
   "cell_type": "code",
   "execution_count": 29,
   "metadata": {},
   "outputs": [
    {
     "data": {
      "text/plain": [
       "5670.175313936595"
      ]
     },
     "execution_count": 29,
     "metadata": {},
     "output_type": "execute_result"
    }
   ],
   "source": [
    "R[-1]+R_T[-1]"
   ]
  },
  {
   "cell_type": "code",
   "execution_count": 30,
   "metadata": {},
   "outputs": [],
   "source": [
    "a = S+S_T+E+E_T+I+I_T+R+R_T"
   ]
  },
  {
   "cell_type": "code",
   "execution_count": null,
   "metadata": {},
   "outputs": [],
   "source": []
  }
 ],
 "metadata": {
  "kernelspec": {
   "display_name": "Python 3",
   "language": "python",
   "name": "python3"
  },
  "language_info": {
   "codemirror_mode": {
    "name": "ipython",
    "version": 3
   },
   "file_extension": ".py",
   "mimetype": "text/x-python",
   "name": "python",
   "nbconvert_exporter": "python",
   "pygments_lexer": "ipython3",
   "version": "3.8.5"
  }
 },
 "nbformat": 4,
 "nbformat_minor": 2
}
