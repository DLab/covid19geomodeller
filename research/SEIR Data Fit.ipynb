{
 "cells": [
  {
   "cell_type": "markdown",
   "metadata": {},
   "source": [
    "# SEIR Data Fit\n",
    "Conjunto de herramientas para fitear un modelo SEIR unisectorial a los datos reales"
   ]
  },
  {
   "cell_type": "code",
   "execution_count": 1,
   "metadata": {},
   "outputs": [],
   "source": [
    "import sys\n",
    "from pathlib import Path\n",
    "sys.path.insert(1, '../src/SEIR/')\n",
    "sys.path.insert(1, 'src/SEIR/')\n",
    "sys.path.insert(1, '../src/Data/')\n",
    "sys.path.insert(1, 'src/Data/')\n",
    "sys.path.insert(1, '../')\n",
    "\n",
    "from datetime import datetime\n",
    "from datetime import timedelta\n",
    "import matplotlib.pyplot as plt\n",
    "%matplotlib tk\n",
    "# windows %matplotlib qt\n",
    "from joblib import Parallel, delayed\n",
    "import multiprocessing\n",
    "\n",
    "import numpy as np\n",
    "import pandas as pd\n",
    "import requests\n",
    "\n",
    "from class_SEIR2 import SEIR\n",
    "from Quarantine import Quarantine\n",
    "from SEIR_parallel import seirMetaAnalysis"
   ]
  },
  {
   "cell_type": "markdown",
   "metadata": {},
   "source": [
    "## Data geográfica\n",
    "\n",
    "Selección de Comuna, región o conjunto de ellas por CUT"
   ]
  },
  {
   "cell_type": "code",
   "execution_count": 2,
   "metadata": {},
   "outputs": [],
   "source": [
    "# Una comuna\n",
    "tstate = '13101' #Santiago\n",
    "# Conjunto de comunas\n",
    "#tstate = ['13101','13102'] \n",
    "\n",
    "# Fecha de inicio \n",
    "initdate = datetime(2020,5,15)"
   ]
  },
  {
   "cell_type": "markdown",
   "metadata": {},
   "source": [
    "### Import data\n",
    "Infectados Activos, acumulados, diarios y población. **Es necesario estar conectado el VPN del Dlab**"
   ]
  },
  {
   "cell_type": "code",
   "execution_count": 3,
   "metadata": {},
   "outputs": [
    {
     "name": "stdout",
     "output_type": "stream",
     "text": [
      "Data importada\n"
     ]
    }
   ],
   "source": [
    "\n",
    "# Infectados Acumulados y Diarios\n",
    "endpoint = 'https://raw.githubusercontent.com/MinCiencia/Datos-COVID19/master/output/producto1/Covid-19.csv'\n",
    "\n",
    "aux = pd.read_csv(endpoint)\n",
    "\n",
    "if type(tstate) == list:            \n",
    "    I_ac_r = aux.loc[aux['Codigo region'].isin(tstate)].iloc[:,5:-1]            \n",
    "    I_ac_r = I_ac_r.append(aux.loc[aux['Codigo comuna'].isin(tstate)].iloc[:,5:-1])\n",
    "    I_ac_r = I_ac_r.sum()\n",
    "else:                        \n",
    "    I_ac_r = aux.loc[aux['Codigo region']==int(tstate)].iloc[:,5:-1]\n",
    "    I_ac_r = I_ac_r.append(aux.loc[aux['Codigo comuna']==int(tstate)].iloc[:,5:-1])\n",
    "    I_ac_r = I_ac_r.sum()\n",
    "\n",
    "I_ac_r_dates = [datetime.strptime(I_ac_r.index[i],'%Y-%m-%d') for i in range(len(I_ac_r))]\n",
    "index = np.where(np.array(I_ac_r_dates) >= initdate)[0][0] \n",
    "I_ac_r = I_ac_r[index:]\n",
    "I_ac_r_dates = I_ac_r_dates[index:]\n",
    "I_ac_r_tr = [(I_ac_r_dates[i]-initdate).days for i in range(len(I_ac_r))]    \n",
    "\n",
    "I_d_r = np.diff(np.interp(list(range(I_ac_r_tr[-1])),I_ac_r_tr,I_ac_r))\n",
    "I_d_r_tr = list(range(len(I_d_r)))\n",
    "I_d_r_dates = [initdate + timedelta(days=i) for i in range(len(I_d_r_tr))]\n",
    "\n",
    "\n",
    "# Infectados Activos\n",
    "\n",
    "cutlist = []\n",
    "cutlistpath = \"../Data/cutlist.csv\"\n",
    "cutlist = pd.read_csv(cutlistpath, header = None,dtype=str)\n",
    "\n",
    "actives = []\n",
    "mydict = None\n",
    "if type(tstate) == list:\n",
    "    for i in tstate:\n",
    "        if len(i)==2:\n",
    "            for index, row in cutlist.iterrows():    \n",
    "                state = str(row[0])[0:2]\n",
    "                comuna = str(row[0])\n",
    "                if i == state:\n",
    "                    endpoint = \"http://192.168.2.223:5006/getActiveNewCasesByComuna?comuna=\"+comuna\n",
    "                    r = requests.get(endpoint) \n",
    "                    mydict = r.json()\n",
    "                    actives.append(mydict['actives'])\n",
    "                    #data=pd.DataFrame(mydict)\n",
    "            #Ir = (np.array(actives)).sum(axis=0)\n",
    "        elif len(i)>2:\n",
    "            endpoint = \"http://192.168.2.223:5006/getActiveNewCasesByComuna?comuna=\"+i\n",
    "            r = requests.get(endpoint) \n",
    "            mydict = r.json()\n",
    "            actives.append(mydict['actives'])\n",
    "            #Ir = np.array(mydict['actives'])\n",
    "        Ir = (np.array(actives)).sum(axis=0)\n",
    "else:\n",
    "    if len(tstate)==2:\n",
    "        for index, row in cutlist.iterrows():    \n",
    "            state = str(row[0])[0:2]\n",
    "            comuna = str(row[0])\n",
    "            if tstate == state:\n",
    "                endpoint = \"http://192.168.2.223:5006/getActiveNewCasesByComuna?comuna=\"+comuna\n",
    "                r = requests.get(endpoint) \n",
    "                mydict = r.json()\n",
    "                actives.append(mydict['actives'])\n",
    "                #data=pd.DataFrame(mydict)\n",
    "        Ir = (np.array(actives)).sum(axis=0)\n",
    "    elif len(tstate)>2:\n",
    "        endpoint = \"http://192.168.2.223:5006/getActiveNewCasesByComuna?comuna=\"+tstate\n",
    "        r = requests.get(endpoint) \n",
    "        mydict = r.json()\n",
    "        Ir = np.array(mydict['actives'])\n",
    "\n",
    "Ir_dates = [datetime.strptime(mydict['dates'][i][:10],'%Y-%m-%d') for i in range(len(mydict['dates']))]\n",
    "index = np.where(np.array(Ir_dates) >= initdate)[0][0]     \n",
    "Ir=Ir[index:]\n",
    "Ir_dates=Ir_dates[index:]\n",
    "tr = [(Ir_dates[i]-initdate).days for i in range(len(Ir))]\n",
    "\n",
    "\n",
    "# Population:\n",
    "\n",
    "endpoint = 'https://raw.githubusercontent.com/MinCiencia/Datos-COVID19/master/output/producto1/Covid-19.csv'\n",
    "aux = pd.read_csv(endpoint)\n",
    "\n",
    "if type(tstate) == list:\n",
    "    population = 0\n",
    "    for i in tstate:\n",
    "        if len(i)==2:\n",
    "            population += int(aux.loc[aux['Codigo region']==int(i)].iloc[:,4].sum())\n",
    "        if len(i)>2:\n",
    "            population += int(aux.loc[aux['Codigo comuna']==int(i)].iloc[:,4].sum())            \n",
    "else:\n",
    "    if len(tstate)==2:\n",
    "        population = aux.loc[aux['Codigo region']==int(tstate)].iloc[:,4].sum()\n",
    "    if len(tstate)>2:\n",
    "        population = int(aux.loc[aux['Codigo comuna'] == int(tstate)].iloc[:,4])\n",
    "\n",
    "print('Data importada')"
   ]
  },
  {
   "cell_type": "markdown",
   "metadata": {},
   "source": [
    "# Simulación"
   ]
  },
  {
   "cell_type": "markdown",
   "metadata": {},
   "source": [
    "## Cuarentenas\n",
    "La cuarentena se construye utilizando un \"objeto de cuarentena\" utilizando la librería Quarantine. \n",
    "El objeto se construye de la siguiente manera:  \n",
    "```\n",
    "    alphafunct(rem_mov,max_mov=0.85,qp=0,iqt=0,fqt=1000,movfunct = 'once')\n",
    "```\n",
    " El unico parámetro obligatorio es el de movilidad remanente. El resto son opcionales dependiendo del tipo de cuarentena que se quiera realizar.\n",
    " El parámetro **movfunct** puede ser 'once' para una cuarentena total, o 'square' para cuarentenas dinámicas con período qp.  \n",
    "**iqt y fqt** son tiempo inicial y final de la cuarentena respectivamente."
   ]
  },
  {
   "cell_type": "code",
   "execution_count": 4,
   "metadata": {},
   "outputs": [],
   "source": [
    "from Quarantine import alphafunct"
   ]
  },
  {
   "cell_type": "code",
   "execution_count": 5,
   "metadata": {},
   "outputs": [],
   "source": [
    "s1 = Quarantine(0.5)\n",
    "s2 = Quarantine(0.6)\n",
    "s3 = Quarantine(0.7)\n",
    "quarantines = [s1.alpha,s2.alpha,s3.alpha]"
   ]
  },
  {
   "cell_type": "code",
   "execution_count": 7,
   "metadata": {},
   "outputs": [],
   "source": [
    "s1.plot()"
   ]
  },
  {
   "cell_type": "markdown",
   "metadata": {},
   "source": [
    "## Epi Parameters"
   ]
  },
  {
   "cell_type": "code",
   "execution_count": null,
   "metadata": {},
   "outputs": [],
   "source": [
    "tsim = 1000\n",
    "beta = 0.117\n",
    "mu = 1.5"
   ]
  },
  {
   "cell_type": "markdown",
   "metadata": {},
   "source": [
    "## SFK"
   ]
  },
  {
   "cell_type": "code",
   "execution_count": null,
   "metadata": {},
   "outputs": [],
   "source": [
    "k = [0,5,10,15,20]"
   ]
  },
  {
   "cell_type": "markdown",
   "metadata": {},
   "source": [
    "## run simulation"
   ]
  },
  {
   "cell_type": "code",
   "execution_count": null,
   "metadata": {},
   "outputs": [],
   "source": [
    "meta = seirMetaAnalysis()\n",
    "sims = meta.simulate_k2(tsim,quarantines,beta,mu,k=k, I=Ir[0],I_ac=I_ac_r[0],I_d=I_d_r[0],population=population )"
   ]
  },
  {
   "cell_type": "markdown",
   "metadata": {},
   "source": [
    "# Analysis"
   ]
  },
  {
   "cell_type": "code",
   "execution_count": null,
   "metadata": {},
   "outputs": [],
   "source": [
    "# Show Real Data\n",
    "realdata = True\n",
    "# amount of time to show\n",
    "xlim = 100"
   ]
  },
  {
   "cell_type": "markdown",
   "metadata": {},
   "source": [
    "## Actives"
   ]
  },
  {
   "cell_type": "code",
   "execution_count": null,
   "metadata": {},
   "outputs": [],
   "source": [
    "ylim = max([max(sims[i][j].I[:xlim]) for j in range(np.shape(sims)[1]) for i in range(np.shape(sims)[0]) ])\n",
    "fig, axs = plt.subplots(len(k), len(quarantines))\n",
    "\n",
    "for i in range(len(k)):\n",
    "    for j in range(len(quarantines)):\n",
    "        axs[i, j].plot(sims[i][j].t,sims[i][j].I,label=\"Infectados\")\n",
    "        axs[i, j].set_title(\"K: \"+str(k[i])+\" | Alpha: \"+str([0.5,0.6,0.7][j]))\n",
    "        if realdata == True:\n",
    "            axs[i, j].scatter(tr,Ir,label='Infectados Activos reales')        \n",
    "        axs[i, j].set_ylim([0,ylim*1.05])\n",
    "        axs[i, j].set_xlim([0,xlim])             \n",
    "\n",
    "lines, labels = fig.axes[-1].get_legend_handles_labels()  \n",
    "fig.legend(lines, labels,loc = 'best')\n",
    "fig.suptitle('Infectados Activos')\n",
    "fig.show()"
   ]
  },
  {
   "cell_type": "markdown",
   "metadata": {},
   "source": [
    "## Acumulados"
   ]
  },
  {
   "cell_type": "code",
   "execution_count": null,
   "metadata": {},
   "outputs": [],
   "source": [
    "ylim = max([max(sims[i][j].I_ac[:xlim]) for j in range(np.shape(sims)[1]) for i in range(np.shape(sims)[0]) ])\n",
    "fig, axs = plt.subplots(len(k), len(quarantines))\n",
    "\n",
    "for i in range(len(k)):\n",
    "    for j in range(len(quarantines)):\n",
    "        axs[i, j].plot(sims[i][j].t,sims[i][j].I_ac,label=\"Infectados\")\n",
    "        axs[i, j].set_title(\"K: \"+str(k[i])+\" | Alpha: \"+str([0.5,0.6,0.7][j]))\n",
    "        if realdata == True:\n",
    "            axs[i, j].scatter(I_ac_r_tr,I_ac_r,label='Infectados Acumulados reales')\n",
    "        axs[i, j].set_ylim([0,ylim*1.05])\n",
    "        axs[i, j].set_xlim([0,xlim])             \n",
    "\n",
    "lines, labels = fig.axes[-1].get_legend_handles_labels()  \n",
    "fig.legend(lines, labels,loc = 'best')\n",
    "fig.suptitle('Infectados Acumulados')\n",
    "fig.show()\n"
   ]
  },
  {
   "cell_type": "markdown",
   "metadata": {},
   "source": [
    "## Diarios"
   ]
  },
  {
   "cell_type": "code",
   "execution_count": null,
   "metadata": {},
   "outputs": [],
   "source": [
    "ylim = max([max(sims[i][j].I_d[:xlim]) for j in range(np.shape(sims)[1]) for i in range(np.shape(sims)[0]) ])\n",
    "fig, axs = plt.subplots(len(k), len(quarantines))\n",
    "\n",
    "for i in range(len(k)):\n",
    "    for j in range(len(quarantines)):\n",
    "        axs[i, j].plot(sims[i][j].t,sims[i][j].I_d,label=\"Infectados\")\n",
    "        axs[i, j].set_title(\"K: \"+str(k[i])+\" | Alpha: \"+str([0.5,0.6,0.7][j]))\n",
    "        if realdata == True:\n",
    "            axs[i, j].scatter(I_d_r_tr,I_d_r,label='Infectados diarios reales')        \n",
    "        axs[i, j].set_ylim([0,ylim*1.05])\n",
    "        axs[i, j].set_xlim([0,xlim])             \n",
    "\n",
    "lines, labels = fig.axes[-1].get_legend_handles_labels()  \n",
    "fig.legend(lines, labels,loc = 'best')\n",
    "fig.suptitle('Infectados Diarios')\n",
    "fig.show()\n",
    "\n"
   ]
  },
  {
   "cell_type": "code",
   "execution_count": null,
   "metadata": {},
   "outputs": [],
   "source": []
  }
 ],
 "metadata": {
  "kernelspec": {
   "display_name": "Python 3.8.2 64-bit",
   "language": "python",
   "name": "python38264bit48ae65e862f64697a29185f9fa581b02"
  },
  "language_info": {
   "codemirror_mode": {
    "name": "ipython",
    "version": 3
   },
   "file_extension": ".py",
   "mimetype": "text/x-python",
   "name": "python",
   "nbconvert_exporter": "python",
   "pygments_lexer": "ipython3",
   "version": "3.8.2"
  }
 },
 "nbformat": 4,
 "nbformat_minor": 4
}
