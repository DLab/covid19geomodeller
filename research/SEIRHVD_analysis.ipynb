{
 "cells": [
  {
   "cell_type": "markdown",
   "metadata": {},
   "source": [
    "# SEIRHVD Analysis"
   ]
  },
  {
   "cell_type": "code",
   "execution_count": 7,
   "metadata": {},
   "outputs": [],
   "source": [
    "# Util libraries\n",
    "import numpy as np\n",
    "import pandas as pd\n",
    "import matplotlib.pyplot as plt\n",
    "from datetime import datetime\n",
    "# Adding lib paths\n",
    "import sys\n",
    "sys.path.insert(1, '../src2/models/')\n",
    "sys.path.insert(1, '../src2/utils/')\n",
    "sys.path.insert(1, '../src2/data/')\n",
    "\n",
    "# cv19 libraries\n",
    "from SEIRHVD import SEIRHVD \n",
    "from SEIR import SEIR \n",
    "import cv19functions\n",
    "from cv19data import ImportData\n",
    "\n",
    "#sys.path.insert(1, '../src2/data/')\n",
    "#sys.path.insert(1, '../src2/utils/')\n",
    "#import cv19functions\n",
    "#import cv19data"
   ]
  },
  {
   "cell_type": "code",
   "execution_count": 8,
   "metadata": {},
   "outputs": [
    {
     "name": "stdout",
     "output_type": "stream",
     "text": [
      "Linux\n"
     ]
    }
   ],
   "source": [
    "# For pop-up plots execute this code (optional)\n",
    "import platform\n",
    "OS = platform.system()\n",
    "\n",
    "if OS == 'Linux':    \n",
    "    %matplotlib tk\n",
    "    print('Linux')\n",
    "elif OS == 'Windows':\n",
    "    %matplotlib qt\n",
    "    print('Windows')\n",
    "elif OS == 'Darwin':\n",
    "    %matplotlib tk\n",
    "    print('Mac (Funciona?)')"
   ]
  },
  {
   "cell_type": "code",
   "execution_count": 15,
   "metadata": {},
   "outputs": [],
   "source": [
    "%%capture\n",
    "# Input configuration file\n",
    "config = 'cfg/SEIRHVD_SEIR.toml'\n",
    "# Build simulation object\n",
    "model = SEIRHVD(config = config)\n",
    "# Simulate (solve ODE)\n",
    "model.integrate()"
   ]
  },
  {
   "cell_type": "markdown",
   "metadata": {},
   "source": [
    "# Vaccines"
   ]
  },
  {
   "cell_type": "markdown",
   "metadata": {},
   "source": [
    "### Simple SEIR with vaccines"
   ]
  },
  {
   "cell_type": "code",
   "execution_count": 16,
   "metadata": {},
   "outputs": [],
   "source": [
    "# Vaccine campaign\n",
    "Psi = cv19functions.events(values=[0,20000,0],days=[[0,40],[40,60],[60,500]])"
   ]
  },
  {
   "cell_type": "code",
   "execution_count": 17,
   "metadata": {
    "scrolled": false
   },
   "outputs": [],
   "source": [
    "%%capture\n",
    "# Input configuration file\n",
    "config = 'cfg/SEIRHVD_SEIR.toml'\n",
    "# Build simulation object\n",
    "model_vac = SEIRHVD(config = config,Psi=Psi,v = 1.0)\n",
    "# Simulate (solve ODE)\n",
    "model_vac.integrate()"
   ]
  },
  {
   "cell_type": "code",
   "execution_count": null,
   "metadata": {},
   "outputs": [],
   "source": [
    "# Plot matplotlib\n",
    "\n",
    "plt.plot(model_vac.t,model_vac.I,label='I with vaccines')\n",
    "plt.plot(model.t,model.I,label='I no vaccines')\n",
    "plt.plot(model_vac.t,model_vac.Iv,label='Vaccinated infected')\n",
    "plt.plot(np.arange(model_vac.tsim),[Psi(i) for i in np.arange(model_vac.tsim)])\n",
    "plt.xlim(0,300)\n",
    "plt.legend(loc=0)\n",
    "plt.title('SEIRV')\n",
    "plt.show()"
   ]
  },
  {
   "cell_type": "markdown",
   "metadata": {},
   "source": [
    "## Vaccines effectivity"
   ]
  },
  {
   "cell_type": "code",
   "execution_count": 12,
   "metadata": {},
   "outputs": [],
   "source": [
    "v = list(np.arange(0,1.1,0.1))\n",
    "model_vac2 = [SEIRHVD(config = config,Psi=Psi,v = i) for i in v]\n",
    "for i in model_vac2:\n",
    "    i.integrate()"
   ]
  },
  {
   "cell_type": "code",
   "execution_count": 13,
   "metadata": {},
   "outputs": [],
   "source": [
    "colors = plt.cm.rainbow_r(np.linspace(0,1,len(v)))"
   ]
  },
  {
   "cell_type": "code",
   "execution_count": 14,
   "metadata": {},
   "outputs": [],
   "source": [
    "i = 0\n",
    "for model_vac in model_vac2:\n",
    "    #plt.plot(model_vac.t,model_vac.I,label='I with vaccines')\n",
    "    \"{:#.2g}\".format(i)\n",
    "    plt.plot(model_vac.t,model_vac.I,label='I eff:'+\"{:#.1g}\".format(model_vac.v(0)),color=colors[i])\n",
    "    #plt.plot(model_vac.t,model_vac.Iv,label='Iv eff:'+\"{:#.1g}\".format(model_vac.v(0)),color=colors[i],linestyle='dashed')\n",
    "    i+=1\n",
    "plt.plot(np.arange(model_vac.tsim),[Psi(i) for i in np.arange(model_vac.tsim)])\n",
    "plt.legend(loc=0)\n",
    "\n",
    "plt.xlim(0,300)\n",
    "plt.title('Vaccines effectivity')\n",
    "plt.show() "
   ]
  },
  {
   "cell_type": "markdown",
   "metadata": {},
   "source": [
    "# Hospitalization"
   ]
  },
  {
   "cell_type": "code",
   "execution_count": 15,
   "metadata": {
    "scrolled": false
   },
   "outputs": [],
   "source": [
    "%%capture\n",
    "# Input configuration file\n",
    "config = 'cfg/SEIRHVD.toml'\n",
    "# Build simulation object\n",
    "model1 = SEIRHVD(config = config, H_cap=4000)\n",
    "model2 = SEIRHVD(config = config, H_cap=3500,Psi=Psi)\n",
    "# Simulate (solve ODE)\n",
    "model1.integrate()\n",
    "model2.integrate()"
   ]
  },
  {
   "cell_type": "code",
   "execution_count": 17,
   "metadata": {},
   "outputs": [],
   "source": [
    "# Plot matplotlib\n",
    "#plt.plot(model.t,model.S,label='S')\n",
    "#plt.plot(model.t,model.E,label='E')\n",
    "plt.plot(model1.t,model1.I,label='I')\n",
    "plt.plot(model1.t,model1.Im,label='Im')\n",
    "plt.plot(model1.t,model1.Icr,label='Icr')\n",
    "#plt.plot(model.t,model.R,label='R')\n",
    "plt.xlim(0,300)\n",
    "plt.legend(loc=0)\n",
    "plt.title('SEIR from SEIRHVD lib')\n",
    "plt.show()"
   ]
  },
  {
   "cell_type": "code",
   "execution_count": 19,
   "metadata": {},
   "outputs": [],
   "source": [
    "# Plot matplotlib\n",
    "plt.plot(model1.t,model1.H,color='tab:red',label='H 1')\n",
    "plt.plot(model1.t,model1.D,color='tab:red',linestyle='dotted',label='D 1')\n",
    "plt.plot(model1.t,[model1.H_cap]*len(model.t),color='tab:red',linestyle='dashed',label='H_cap 1')\n",
    "\n",
    "plt.plot(model2.t,model2.H,color='tab:blue',label='H 2')\n",
    "plt.plot(model2.t,model2.D,color='tab:blue',linestyle='dotted',label='D 2')\n",
    "plt.plot(model2.t,[model2.H_cap]*len(model.t),color='tab:blue',linestyle='dashed',label='H_cap 2')\n",
    "#plt.xlim(0,300)\n",
    "plt.plot(np.arange(model_vac.tsim),[Psi(i) for i in np.arange(model_vac.tsim)])\n",
    "plt.legend(loc=0)\n",
    "plt.title('ICU capacity and deaths')\n",
    "plt.show()"
   ]
  },
  {
   "cell_type": "markdown",
   "metadata": {},
   "source": [
    "# Vaccines amount, effectivity  and deaths"
   ]
  },
  {
   "cell_type": "code",
   "execution_count": 112,
   "metadata": {},
   "outputs": [],
   "source": [
    "eff = list(np.arange(0,1.1,0.1))\n",
    "amount = np.linspace(0,30000,31)"
   ]
  },
  {
   "cell_type": "code",
   "execution_count": 114,
   "metadata": {},
   "outputs": [],
   "source": [
    "# Vaccine campaign\n",
    "Psi = [cv19functions.Events(values=[0,i,0],days=[[0,40],[40,60],[60,500]]) for i in amount]"
   ]
  },
  {
   "cell_type": "code",
   "execution_count": 119,
   "metadata": {
    "scrolled": false
   },
   "outputs": [],
   "source": [
    "%%capture\n",
    "# Input configuration file\n",
    "config = 'cfg/SEIRHVD_SEIR.toml'\n",
    "# Build simulation object\n",
    "models = []\n",
    "for i in eff:\n",
    "    aux = []\n",
    "    for j in Psi:\n",
    "        a = SEIRHVD(config = config,Psi=j,v = i)\n",
    "        a.integrate()\n",
    "        aux.append(a)\n",
    "    models.append(aux)\n",
    "        # Simulate (solve ODE)\n",
    "#model_vac.integrate()"
   ]
  },
  {
   "cell_type": "code",
   "execution_count": 116,
   "metadata": {},
   "outputs": [],
   "source": [
    "a = SEIRHVD(config=config).integrate()"
   ]
  },
  {
   "cell_type": "code",
   "execution_count": 52,
   "metadata": {},
   "outputs": [],
   "source": [
    "# Plot matplotlib\n",
    "\n",
    "plt.plot(model_vac.t,model_vac.I,label='I with vaccines')\n",
    "plt.plot(model.t,model.I,label='I no vaccines')\n",
    "plt.plot(model_vac.t,model_vac.Iv,label='Vaccinated infected')\n",
    "plt.plot(np.arange(model_vac.tsim),[Psi(i) for i in np.arange(model_vac.tsim)])\n",
    "plt.xlim(0,300)\n",
    "plt.legend(loc=0)\n",
    "plt.title('SEIRV')\n",
    "plt.show()"
   ]
  },
  {
   "cell_type": "code",
   "execution_count": 60,
   "metadata": {},
   "outputs": [],
   "source": [
    "\n",
    "model_vac2 = [SEIRHVD(config = config,Psi=Psi,v = i) for i in v]\n",
    "for i in model_vac2:\n",
    "    i.integrate()"
   ]
  },
  {
   "cell_type": "code",
   "execution_count": 61,
   "metadata": {},
   "outputs": [],
   "source": [
    "colors = plt.cm.rainbow_r(np.linspace(0,1,len(v)))"
   ]
  },
  {
   "cell_type": "code",
   "execution_count": 62,
   "metadata": {},
   "outputs": [],
   "source": [
    "i = 0\n",
    "for model_vac in model_vac2:\n",
    "    #plt.plot(model_vac.t,model_vac.I,label='I with vaccines')\n",
    "    \"{:#.2g}\".format(i)\n",
    "    plt.plot(model_vac.t,model_vac.I,label='I eff:'+\"{:#.1g}\".format(model_vac.v(0)),color=colors[i])\n",
    "    #plt.plot(model_vac.t,model_vac.Iv,label='Iv eff:'+\"{:#.1g}\".format(model_vac.v(0)),color=colors[i],linestyle='dashed')\n",
    "    i+=1\n",
    "plt.plot(np.arange(model_vac.tsim),[Psi(i) for i in np.arange(model_vac.tsim)])\n",
    "plt.legend(loc=0)\n",
    "\n",
    "plt.xlim(0,300)\n",
    "plt.title('Vaccines effectivity')\n",
    "plt.show() "
   ]
  },
  {
   "cell_type": "markdown",
   "metadata": {},
   "source": [
    "# Hospitalization CFR variable"
   ]
  },
  {
   "cell_type": "code",
   "execution_count": 32,
   "metadata": {},
   "outputs": [],
   "source": [
    "pH_R = cv19functions.Events(values=[0.7,0.6],days=[[0,30],[30,500]])\n",
    "pH_D = cv19functions.Events(values=[0.3,0.4],days=[[0,30],[30,500]])"
   ]
  },
  {
   "cell_type": "code",
   "execution_count": 42,
   "metadata": {},
   "outputs": [],
   "source": [
    "import scipy"
   ]
  },
  {
   "cell_type": "code",
   "execution_count": null,
   "metadata": {},
   "outputs": [],
   "source": [
    "scipy."
   ]
  },
  {
   "cell_type": "code",
   "execution_count": null,
   "metadata": {},
   "outputs": [],
   "source": [
    "pH_D = sc"
   ]
  },
  {
   "cell_type": "code",
   "execution_count": 38,
   "metadata": {
    "scrolled": false
   },
   "outputs": [],
   "source": [
    "%%capture\n",
    "# Input configuration file\n",
    "config = 'cfg/SEIRHVD.toml'\n",
    "# Build simulation object\n",
    "\n",
    "model1 = SEIRHVD(config = config, H_cap=4000, pH_R = pH_R,pH_D = pH_D)\n",
    "# Simulate (solve ODE)\n",
    "model1.integrate()"
   ]
  },
  {
   "cell_type": "code",
   "execution_count": 39,
   "metadata": {},
   "outputs": [],
   "source": [
    "# Plot matplotlib\n",
    "#plt.plot(model.t,model.S,label='S')\n",
    "#plt.plot(model.t,model.E,label='E')\n",
    "plt.plot(model1.t,model1.I,label='I')\n",
    "plt.plot(model1.t,model1.Im,label='Im')\n",
    "plt.plot(model1.t,model1.Icr,label='Icr')\n",
    "#plt.plot(model.t,model.R,label='R')\n",
    "plt.xlim(0,300)\n",
    "plt.legend(loc=0)\n",
    "plt.title('SEIR from SEIRHVD lib')\n",
    "plt.show()"
   ]
  },
  {
   "cell_type": "code",
   "execution_count": 41,
   "metadata": {},
   "outputs": [],
   "source": [
    "# Plot matplotlib\n",
    "#plt.plot(model1.t,model1.H,color='tab:red',label='H 1')\n",
    "plt.plot(model1.t,model1.D_d,color='tab:red',linestyle='dotted',label='D 1')\n",
    "#plt.plot(model1.t,[model1.H_cap]*len(model.t),color='tab:red',linestyle='dashed',label='H_cap 1')\n",
    "plt.plot(model1.t,[pH_D(i) for i in model.t],color='tab:red',linestyle='dashed',label='pH_D')\n",
    "\n",
    "#plt.plot(np.arange(model_vac.tsim),[Psi(i) for i in np.arange(model_vac.tsim)])\n",
    "plt.legend(loc=0)\n",
    "plt.title('ICU capacity and deaths')\n",
    "plt.show()"
   ]
  }
 ],
 "metadata": {
  "kernelspec": {
   "display_name": "Python 3",
   "language": "python",
   "name": "python3"
  },
  "language_info": {
   "codemirror_mode": {
    "name": "ipython",
    "version": 3
   },
   "file_extension": ".py",
   "mimetype": "text/x-python",
   "name": "python",
   "nbconvert_exporter": "python",
   "pygments_lexer": "ipython3",
   "version": "3.8.3"
  }
 },
 "nbformat": 4,
 "nbformat_minor": 4
}
