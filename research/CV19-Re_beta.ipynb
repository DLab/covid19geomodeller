{
 "cells": [
  {
   "cell_type": "markdown",
   "metadata": {},
   "source": [
    "# SEIR model parameter determination from Re estimation"
   ]
  },
  {
   "cell_type": "code",
   "execution_count": 1,
   "metadata": {},
   "outputs": [
    {
     "name": "stderr",
     "output_type": "stream",
     "text": [
      "/home/samuel/anaconda3/lib/python3.8/site-packages/rpy2/robjects/pandas2ri.py:17: FutureWarning: pandas.core.index is deprecated and will be removed in a future version.  The public classes are available in the top-level namespace.\n",
      "  from pandas.core.index import Index as PandasIndex\n"
     ]
    }
   ],
   "source": [
    "import numpy as np\n",
    "import pandas as pd\n",
    "import toml\n",
    "import matplotlib.pyplot as plt\n",
    "import time\n",
    "from datetime import datetime\n",
    "import matplotlib.dates as mdates\n",
    "from matplotlib.ticker import MaxNLocator\n",
    "\n",
    "import epyestim\n",
    "import epyestim.covid19 as covid19\n",
    "from epyestim.distributions import discretise_gamma\n",
    "from datetime import timedelta\n",
    "\n",
    "# rpy2 imports\n",
    "from rpy2.robjects.packages import importr\n",
    "from rpy2.robjects import pandas2ri\n",
    "import rpy2.robjects as robjects\n",
    "pandas2ri.activate()\n",
    "# R library\n",
    "global eps\n",
    "eps = importr(\"EpiEstim\")\n",
    "import sys\n",
    "from pathlib import Path\n",
    "sys.path.insert(1, '../')\n",
    "from src2.models.cv19sim import cv19sim"
   ]
  },
  {
   "cell_type": "code",
   "execution_count": 2,
   "metadata": {},
   "outputs": [],
   "source": [
    "#Pop-up plots\n",
    "import platform\n",
    "OS = platform.system()\n",
    "if OS == 'Linux' or OS == 'Darwin':\n",
    "    %matplotlib tk    \n",
    "elif OS == 'Windows':\n",
    "    %matplotlib qt    "
   ]
  },
  {
   "cell_type": "markdown",
   "metadata": {},
   "source": [
    "## Bassi A. Equations"
   ]
  },
  {
   "cell_type": "code",
   "execution_count": 164,
   "metadata": {},
   "outputs": [],
   "source": [
    "def getdelta(y,x=None,scale='linear'):\n",
    "    if scale == 'linear':\n",
    "        y = np.log(y+0.001)\n",
    "    #delta = np.diff(y)\n",
    "    delta = np.gradient(y)\n",
    "    return delta\n",
    "\n",
    "def delta_eq(beta,S,N,sigma,gamma):\n",
    "    delta = 1/2*(np.sqrt(4*sigma*beta*S/N+(sigma-gamma)**2)-sigma-gamma)\n",
    "    return delta\n",
    "def Re_delta_calc(delta,sigma,gamma):\n",
    "    Ti = 1/gamma\n",
    "    Te = 1/sigma\n",
    "    Ts = Ti + Te\n",
    "    return 1 + delta*Ts + sigma*gamma/((sigma+gamma)**2)*(delta*Ts)**2 \n",
    "\n",
    "def Re_delta_a_calc(delta,sigma,gamma):\n",
    "    Ti = 1/gamma\n",
    "    Te = 1/sigma\n",
    "    Ts = Ti + Te\n",
    "    return 1 + delta*Ts\n",
    "\n",
    "def Re_analitico_calc(beta,gamma,S,N):\n",
    "    Re = beta/gamma*S/N\n",
    "    return Re\n",
    "\n",
    "def beta_Re(Re,S,N,gamma):\n",
    "    return Re*gamma*N/S\n",
    "\n",
    "def beta_delta(delta,S,N,gamma,sigma):\n",
    "    Re = Re_delta_calc(delta,sigma,gamma)\n",
    "    return Re*gamma*N/S\n",
    "\n",
    "def beta_Id(I_d,S,N,gamma,sigma):\n",
    "    delta = getdelta(I_d)\n",
    "    Re = Re_delta(delta,sigma,gamma)\n",
    "    return Re*gamma*N/S"
   ]
  },
  {
   "cell_type": "markdown",
   "metadata": {},
   "source": [
    "# Generación de datos sintéticos\n",
    "Trabajaremos con los infectados nuevos diarios, dado que esos son los datos que se miden en la realidad. El objetivo será tratar de reconstruir los parámetros originales. Truncaremos los datos para reducir el efecto de estabilización inicial. Partiremos con datos desde que los infectados activos superen los 100 casos. \n",
    "Por ahora despreciaremos los efectos del subreporte y del ruido de medición."
   ]
  },
  {
   "cell_type": "code",
   "execution_count": 165,
   "metadata": {},
   "outputs": [],
   "source": [
    "cfgfile = '../config_files/SEIR2.toml'\n",
    "cfg = toml.load(cfgfile) # no es necesario, pero es util para ver el archivo de configuracion"
   ]
  },
  {
   "cell_type": "code",
   "execution_count": 172,
   "metadata": {},
   "outputs": [],
   "source": [
    "beta = 0.4\n",
    "I0 = 10\n",
    "mu = 1\n",
    "tE_I = 3\n",
    "tI_R = 5\n",
    "sigma = 1/tE_I\n",
    "gamma = 1/tI_R"
   ]
  },
  {
   "cell_type": "markdown",
   "metadata": {},
   "source": [
    "### Tiempo Serial\n",
    "Uno de los mayores desafíos es tener un tiempo serial bien calculado.\n",
    "Analíticamente la definición del tiempo serial es:  \n",
    "$ T_s = T_{EI} + T_{IR} $  \n",
    "Donde $T_{EI}$ y $T_{IR}$ son las medias de las distribuciones de tiempos de incubación e infecciosidad respectivamente. \n",
    "Para este análisis trabajaremos primero con los tiempos seriales de la misma simulación."
   ]
  },
  {
   "cell_type": "code",
   "execution_count": 173,
   "metadata": {},
   "outputs": [],
   "source": [
    "Ts = tE_I + tI_R"
   ]
  },
  {
   "cell_type": "code",
   "execution_count": 174,
   "metadata": {},
   "outputs": [],
   "source": [
    "sims = cv19sim(cfg,beta = beta,mu=mu,I=I0,I_d=I0*beta,tE_I = tE_I,tI_R=tI_R,t_end=250)"
   ]
  },
  {
   "cell_type": "code",
   "execution_count": 175,
   "metadata": {},
   "outputs": [],
   "source": [
    "sims.integrate()"
   ]
  },
  {
   "cell_type": "code",
   "execution_count": 176,
   "metadata": {},
   "outputs": [],
   "source": [
    "plt.plot(sims.sims[0].I_d,label='Nuevos Infectados Diarios')\n",
    "plt.legend(loc=0)\n",
    "plt.show()"
   ]
  },
  {
   "cell_type": "markdown",
   "metadata": {},
   "source": [
    "Se consideran los datos desde que hayan 100 casos"
   ]
  },
  {
   "cell_type": "code",
   "execution_count": 177,
   "metadata": {},
   "outputs": [],
   "source": [
    "# Tiempo de los datos inicial\n",
    "t0 = np.where(sims.sims[0].I >= 100)[0][0]\n",
    "#t0 = 0"
   ]
  },
  {
   "cell_type": "code",
   "execution_count": 178,
   "metadata": {},
   "outputs": [],
   "source": [
    "I_d = sims.sims[0].I_d[t0:]"
   ]
  },
  {
   "cell_type": "markdown",
   "metadata": {},
   "source": [
    "### Cálculo R analítico\n",
    "$R_e = \\beta \\frac{S}{N}T_{IR}$"
   ]
  },
  {
   "cell_type": "code",
   "execution_count": 179,
   "metadata": {},
   "outputs": [],
   "source": [
    "Re_analitico = Re_analitico_calc(beta,gamma,sims.sims[0].S[t0:],sims.sims[0].N)"
   ]
  },
  {
   "cell_type": "markdown",
   "metadata": {},
   "source": [
    "# Trabajo con la data sintética"
   ]
  },
  {
   "cell_type": "code",
   "execution_count": 180,
   "metadata": {},
   "outputs": [],
   "source": [
    "plt.scatter(range(len(I_d)),I_d,label='New daily infected')\n",
    "plt.title('Synthetic Data')\n",
    "plt.show()"
   ]
  },
  {
   "cell_type": "markdown",
   "metadata": {},
   "source": [
    "# Método 1: A. Bassi"
   ]
  },
  {
   "cell_type": "code",
   "execution_count": 14,
   "metadata": {},
   "outputs": [],
   "source": [
    "# Calculo de delta\n",
    "delta = getdelta(I_d)\n",
    "# Calculo de Re\n",
    "Re_delta = Re_delta_calc(delta,sigma,gamma)"
   ]
  },
  {
   "cell_type": "code",
   "execution_count": 15,
   "metadata": {},
   "outputs": [],
   "source": [
    "fig, axs2 = plt.subplots(figsize=(10,6),linewidth=5,edgecolor='black',facecolor=\"white\")\n",
    "\n",
    "axs2.set_ylabel('Delta',color='tab:red')\n",
    "axs2.plot(range(len(delta)),delta,label='delta',color='tab:red')\n",
    "\n",
    "axs2.tick_params(axis='y', labelcolor='tab:red')\n",
    "\n",
    "axs = axs2.twinx()\n",
    "axs.plot(range(len(I_d)),I_d,color='tab:blue',label='Infectados nuevos diarios',linestyle='solid')\n",
    "axs.set_yscale('log')\n",
    "#axs.plot(sim.t,sim.I,color='tab:blue',label='Activos')\n",
    "axs.set_ylabel('Infectados',color='tab:blue')\n",
    "axs.tick_params(axis='y', labelcolor='tab:blue')\n",
    "\n",
    "#axs2.set_xlim(0,200)\n",
    "fig.suptitle('Delta e Id')\n",
    "axs.legend(loc=1)\n",
    "axs2.legend(loc=3)\n",
    "fig.show()"
   ]
  },
  {
   "cell_type": "markdown",
   "metadata": {},
   "source": [
    "# Método 2: Epyestim"
   ]
  },
  {
   "cell_type": "code",
   "execution_count": 16,
   "metadata": {},
   "outputs": [],
   "source": [
    "# Format data, create synthetic dates\n",
    "initdate = datetime(2020,3,1)\n",
    "dates = [initdate+timedelta(days=int(j)) for j in sims.sims[0].t[t0:]]\n",
    "cases = pd.Series(data=I_d,index=dates)"
   ]
  },
  {
   "cell_type": "code",
   "execution_count": 17,
   "metadata": {},
   "outputs": [],
   "source": [
    "gt_distribution = np.zeros(50)"
   ]
  },
  {
   "cell_type": "code",
   "execution_count": 18,
   "metadata": {},
   "outputs": [],
   "source": [
    "gt_distribution[Ts-1] = 1"
   ]
  },
  {
   "cell_type": "code",
   "execution_count": 19,
   "metadata": {},
   "outputs": [],
   "source": [
    "def gt_distribution_continuous(sigma,gamma):\n",
    "    pass"
   ]
  },
  {
   "cell_type": "code",
   "execution_count": 20,
   "metadata": {},
   "outputs": [],
   "source": [
    "R_epistim_Ts = covid19.r_covid(cases,delay_distribution=np.array([1]),gt_distribution=gt_distribution,n_samples=300)['R_mean']"
   ]
  },
  {
   "cell_type": "markdown",
   "metadata": {},
   "source": [
    "## Estudios de Re: Comparación R analítico, R delta y R delta aprox"
   ]
  },
  {
   "cell_type": "code",
   "execution_count": 21,
   "metadata": {},
   "outputs": [],
   "source": [
    "fig, axs2 = plt.subplots(figsize=(10,6),linewidth=5,edgecolor='black',facecolor=\"white\")\n",
    "\n",
    "axs2.set_ylabel('Re',color='tab:red')\n",
    "axs2.plot(range(len(Re_analitico[1:])),Re_analitico[1:],label='Analitico')\n",
    "axs2.plot(range(len(Re_delta)),Re_delta,label='delta')\n",
    "#axs2.plot(range(len(Re_delta_a)),Re_delta_a,label='delta aprox')\n",
    "axs2.plot(range(len(R_epistim_Ts)),R_epistim_Ts,color='black',label='Epyestim',linestyle='dashed')\n",
    "axs2.axhline(1,color='grey',linestyle='dashed')\n",
    "axs2.tick_params(axis='y', labelcolor='tab:red')\n",
    "\n",
    "axs = axs2.twinx()\n",
    "axs.plot(range(len(I_d)),I_d,color='tab:blue',label='Diarios',linestyle='solid')\n",
    "axs.set_yscale('log')\n",
    "axs2.axvline(np.where(I_d==max(I_d))[0][0],color='grey',linestyle='dashed')\n",
    "#axs.plot(sim.t,sim.I,color='tab:blue',label='Activos')\n",
    "axs.set_ylabel('Infectados',color='tab:blue')\n",
    "axs.tick_params(axis='y', labelcolor='tab:blue')\n",
    "\n",
    "\n",
    "axs2.set_ylim(0,4)\n",
    "fig.suptitle('Re e Id')\n",
    "axs.legend(loc=1)\n",
    "axs2.legend(loc=3)\n",
    "fig.show()\n",
    "\n",
    "plt.show()"
   ]
  },
  {
   "cell_type": "markdown",
   "metadata": {},
   "source": [
    "## Calculo de beta\n",
    "$ \\beta(t) = R_e \\frac{N}{S(t)} \\gamma $"
   ]
  },
  {
   "cell_type": "code",
   "execution_count": 22,
   "metadata": {},
   "outputs": [],
   "source": [
    "beta_Re_delta = gamma*Re_delta*sims.sims[0].N/sims.sims[0].S[t0:]\n",
    "#beta_Re_delta_a = gamma*Re_delta_a*sims.sims[0].N/sims.sims[0].S[t0:]\n",
    "beta_Re_analitico = gamma*Re_analitico*sims.sims[0].N/sims.sims[0].S[t0:]\n",
    "beta_Re_epyestim_Ts = gamma*R_epistim_Ts*sims.sims[0].N/sims.sims[0].S[t0+7:]"
   ]
  },
  {
   "cell_type": "code",
   "execution_count": 23,
   "metadata": {},
   "outputs": [],
   "source": [
    "fig, axs2 = plt.subplots(figsize=(10,6),linewidth=5,edgecolor='black',facecolor=\"white\")\n",
    "\n",
    "\n",
    "axs2.plot(range(len(Re_analitico[1:])),Re_analitico[1:],color = 'tab:red',label='Re analitico')\n",
    "axs2.plot(range(len(Re_delta)),Re_delta,label='Re delta',color = 'tab:red',linestyle='dashed')\n",
    "#axs2.plot(range(len(R_epistim_Ts)),R_epistim_Ts,color='tab:red',label='Epyestim',linestyle='dotted')\n",
    "#axs2.plot(range(len(Re_delta_a)),Re_delta_a,label='delta aprox')\n",
    "axs2.axhline(1,color='red',linestyle='dotted',alpha=0.5)\n",
    "\n",
    "\n",
    "axs = axs2.twinx()\n",
    "axs.plot(range(len(beta_Re_analitico)),beta_Re_analitico,label='Beta analitico',color = 'tab:blue')\n",
    "axs.plot(range(len(beta_Re_delta)),beta_Re_delta,label='Beta delta',color = 'tab:blue',linestyle='dashed')\n",
    "\n",
    "\n",
    "axs2.fill_between(range(len(Re_analitico[1:])), Re_analitico[1:], Re_delta[0:-1],color='tab:grey', alpha=0.4)\n",
    "\n",
    "axs.axvline(np.where(beta_Re_delta==np.min(beta_Re_delta))[0][0],color='tab:blue',alpha=0.5,linestyle='dotted',label='Min beta')\n",
    "\n",
    "axs2.plot(range(len(R_epistim_Ts)),R_epistim_Ts,color='tab:red',label='Epyestim',linestyle='dotted')\n",
    "axs.plot(range(len(beta_Re_epyestim_Ts)),beta_Re_epyestim_Ts,label='beta Epyestim',color = 'tab:blue',linestyle='dotted')\n",
    "\n",
    "axs2.tick_params(axis='y', labelcolor='tab:red',size=10)\n",
    "axs.tick_params(axis='y', labelcolor='tab:blue',size=10)\n",
    "\n",
    "axs2.set_ylabel('Re',color='tab:red',size=12)\n",
    "axs.set_ylabel('Beta',color='tab:blue',size=12)\n",
    "\n",
    "axs.set_ylim(0.3,0.6)\n",
    "axs2.set_ylim(0,2.5)\n",
    "\n",
    "fig.suptitle('Re y beta')\n",
    "\n",
    "lines, labels = axs.get_legend_handles_labels()\n",
    "lines2, labels2 = axs2.get_legend_handles_labels()\n",
    "axs2.legend(lines + lines2, labels + labels2, loc=[0.05,0.1])\n",
    "#axs.legend(loc=[0.05,0.05])\n",
    "axs2.legend(loc=[0.05,0.17])\n",
    "# Create a Rectangle patch\n",
    "#rect = patches.Rectangle([.67,.24],.3,.4, linewidth=1, edgecolor='b', facecolor='white')\n",
    "\n",
    "# Add the patch to the Axes\n",
    "#axs.add_patch(rect)\n",
    "ax_zoom = axs2.inset_axes([.67,.5,.3,.4])\n",
    "\n",
    "init = 80\n",
    "end = 120\n",
    "ax_zoom.plot(np.arange(init,end),Re_analitico[init:end],color = 'tab:red',linestyle='solid')\n",
    "ax_zoom.plot(np.arange(init,end),Re_delta[init:end],color = 'tab:red',linestyle='dashed')\n",
    "ax_zoom.fill_between(np.arange(init,end),Re_analitico[init:end],Re_delta[init:end],color='tab:grey', alpha=0.2)\n",
    "ax_zoom.axvline(np.where(beta_Re_delta==np.min(beta_Re_delta))[0][0],color='tab:blue',alpha=0.5,linestyle='dotted')\n",
    "\n",
    "ax_zoom.set_title('Re difference',size=10)\n",
    "\n",
    "if True:\n",
    "   \n",
    "    ax_zoom.plot(np.arange(init,end),R_epistim_Ts[init:end],color='tab:red',label='Epyestim',linestyle='dotted')\n",
    "#ax_zoom.set_xticks([])\n",
    "#ax_zoom.set_yticks([])\n",
    "axs2.indicate_inset_zoom(ax_zoom)\n",
    "\n",
    "fig.show()\n"
   ]
  },
  {
   "cell_type": "code",
   "execution_count": 181,
   "metadata": {},
   "outputs": [],
   "source": [
    "fig, axs2 = plt.subplots(figsize=(10,6),linewidth=5,edgecolor='black',facecolor=\"white\")\n",
    "\n",
    "\n",
    "axs2.plot(range(len(Re_analitico[1:])),Re_analitico[1:],color = 'tab:red',label='Re analitico')\n",
    "axs2.plot(range(len(Re_delta)),Re_delta,label='Re delta',color = 'tab:red',linestyle='dashed')\n",
    "#axs2.plot(range(len(R_epistim_Ts)),R_epistim_Ts,color='tab:red',label='Epyestim',linestyle='dotted')\n",
    "#axs2.plot(range(len(Re_delta_a)),Re_delta_a,label='delta aprox')\n",
    "axs2.axhline(1,color='red',linestyle='dotted',alpha=0.5)\n",
    "\n",
    "\n",
    "axs = axs2.twinx()\n",
    "axs.plot(range(len(beta_Re_analitico)),beta_Re_analitico,label='Beta analitico',color = 'tab:blue')\n",
    "axs.plot(range(len(beta_Re_delta)),beta_Re_delta,label='Beta delta',color = 'tab:blue',linestyle='dashed')\n",
    "#axs.plot(range(len(beta_Re_epyestim_Ts)),beta_Re_epyestim_Ts,label='beta Epyestim',color = 'tab:blue',linestyle='dotted')\n",
    "\n",
    "axs2.fill_between(range(len(Re_analitico[1:])), Re_analitico[1:], Re_delta[0:-1],color='tab:grey', alpha=0.4)\n",
    "\n",
    "axs.axvline(np.where(beta_Re_delta==np.min(beta_Re_delta))[0][0],color='tab:blue',alpha=0.5,linestyle='dotted',label='Min beta')\n",
    "\n",
    "axs2.tick_params(axis='y', labelcolor='tab:red',size=10)\n",
    "axs.tick_params(axis='y', labelcolor='tab:blue',size=10)\n",
    "\n",
    "axs2.set_ylabel('Re',color='tab:red',size=12)\n",
    "axs.set_ylabel('Beta',color='tab:blue',size=12)\n",
    "\n",
    "#axs.set_ylim(0.3,0.6)\n",
    "#axs2.set_ylim(0,2.5)\n",
    "\n",
    "fig.suptitle('Re y beta')\n",
    "\n",
    "lines, labels = axs.get_legend_handles_labels()\n",
    "lines2, labels2 = axs2.get_legend_handles_labels()\n",
    "axs2.legend(lines + lines2, labels + labels2, loc=[0.05,0.1])\n",
    "#axs.legend(loc=[0.05,0.05])\n",
    "#axs2.legend(loc=[0.05,0.17])\n",
    "\n",
    "ax_zoom = axs2.inset_axes([.67,.24,.3,.4])\n",
    "\n",
    "init = 80\n",
    "end = 120\n",
    "ax_zoom.plot(np.arange(init,end),Re_analitico[init:end],color = 'tab:red',linestyle='solid')\n",
    "ax_zoom.plot(np.arange(init,end),Re_delta[init:end],color = 'tab:red',linestyle='dashed')\n",
    "ax_zoom.fill_between(np.arange(init,end),Re_analitico[init:end],Re_delta[init:end],color='tab:grey', alpha=0.2)\n",
    "ax_zoom.axvline(np.where(beta_Re_delta==np.min(beta_Re_delta))[0][0],color='tab:blue',alpha=0.5,linestyle='dotted')\n",
    "\n",
    "ax_zoom.set_title('Re difference',size=10)\n",
    "#ax_zoom.set_xticks([])\n",
    "#ax_zoom.set_yticks([])\n",
    "axs2.indicate_inset_zoom(ax_zoom)\n",
    "\n",
    "fig.show()\n"
   ]
  },
  {
   "cell_type": "markdown",
   "metadata": {},
   "source": [
    "# Caracterización del error del cálculo de beta para diversos parámetros"
   ]
  },
  {
   "cell_type": "code",
   "execution_count": 151,
   "metadata": {},
   "outputs": [],
   "source": [
    "beta2 = np.linspace(0.1,0.6,26)"
   ]
  },
  {
   "cell_type": "code",
   "execution_count": 33,
   "metadata": {},
   "outputs": [],
   "source": [
    "tE_I2 = np.linspace(1,5,41)\n",
    "tI_R2 = tE_I2\n",
    "sigma2 = 1/tE_I2\n",
    "gamma2 = 1/tI_R2"
   ]
  },
  {
   "cell_type": "code",
   "execution_count": 155,
   "metadata": {},
   "outputs": [],
   "source": [
    "sims2 = cv19sim(cfg,beta = list(beta2),mu=mu,I=I0,I_d=10,tE_I = list(tE_I2),tI_R = 'tE_I',t_end=250) "
   ]
  },
  {
   "cell_type": "code",
   "execution_count": 156,
   "metadata": {},
   "outputs": [],
   "source": [
    "sims2.integrate()"
   ]
  },
  {
   "cell_type": "markdown",
   "metadata": {},
   "source": [
    "### Calculos"
   ]
  },
  {
   "cell_type": "code",
   "execution_count": 157,
   "metadata": {},
   "outputs": [],
   "source": [
    "I_d = []\n",
    "delta2 = []\n",
    "beta2_delta = []\n",
    "beta2_error = []\n",
    "for i in range(len(beta2)):\n",
    "    aux = []\n",
    "    auxdelta = []\n",
    "    auxbeta = []\n",
    "    auxerror = []\n",
    "    for j in range(len(tE_I2)):\n",
    "        Id_aux = sims2.sims[j][i].I_d\n",
    "        betaaux = sims2.sims[j][i].beta(0)\n",
    "        gamma_aux = 1/sims2.sims[j][i].tI_R(0)\n",
    "        sigma_aux = 1/sims2.sims[j][i].tE_I(0)\n",
    "        S_aux = sims2.sims[j][i].S\n",
    "        N_aux = sims2.sims[j][i].N\n",
    "        delta_aux = getdelta(Id_aux)\n",
    "        betaaux_delta = beta_delta(delta_aux,S_aux,N_aux,gamma_aux,sigma_aux)\n",
    "        auxdelta.append(delta_aux)\n",
    "        auxbeta.append(betaaux_delta)\n",
    "        auxerror.append(((betaaux_delta - betaaux)**2).mean())\n",
    "    delta2.append(auxdelta)\n",
    "    I_d.append(Id_aux)\n",
    "    beta2_delta.append(auxbeta)\n",
    "    beta2_error.append(auxerror)\n"
   ]
  },
  {
   "cell_type": "code",
   "execution_count": 158,
   "metadata": {},
   "outputs": [
    {
     "data": {
      "text/plain": [
       "26"
      ]
     },
     "execution_count": 158,
     "metadata": {},
     "output_type": "execute_result"
    }
   ],
   "source": [
    "len(beta2)"
   ]
  },
  {
   "cell_type": "code",
   "execution_count": 82,
   "metadata": {},
   "outputs": [
    {
     "data": {
      "text/plain": [
       "(26, 41, 250)"
      ]
     },
     "execution_count": 82,
     "metadata": {},
     "output_type": "execute_result"
    }
   ],
   "source": [
    "np.shape(beta2_delta)"
   ]
  },
  {
   "cell_type": "code",
   "execution_count": 161,
   "metadata": {},
   "outputs": [],
   "source": [
    "# Contour Plot\n",
    "err = beta2_error\n",
    "err_max = np.max(err) \n",
    "levels = np.arange(0,err_max*1.1,0.001)\n",
    "fig,ax=plt.subplots(1,1)\n",
    "cp = ax.contourf(tE_I2,beta2,err,levels)\n",
    "cp2 = ax.contour(tE_I2,beta2,err,[0,0.005,err_max],colors='white',linestyles='dashed')\n",
    "#cp2 = ax.contour(tE_I_s,tI_R_s,err,[0,np.min(err)+0.0000001,err_max],colors='white',linestyles='dotted')\n",
    "\n",
    "fig.colorbar(cp) # Add a colorbar to a plot\n",
    "ax.set_title('Error obtaining beta from delta')\n",
    "ax.set_xlabel('Infectious time')\n",
    "ax.set_ylabel('Beta')\n",
    "plt.show()"
   ]
  },
  {
   "cell_type": "code",
   "execution_count": 96,
   "metadata": {},
   "outputs": [
    {
     "data": {
      "text/plain": [
       "(26, 41, 250)"
      ]
     },
     "execution_count": 96,
     "metadata": {},
     "output_type": "execute_result"
    }
   ],
   "source": [
    "np.shape(beta2_delta)"
   ]
  },
  {
   "cell_type": "code",
   "execution_count": 138,
   "metadata": {},
   "outputs": [],
   "source": [
    "i = 14\n",
    "\n",
    "for j in range(int(len(tE_I2)/2)):\n",
    "    plt.plot(beta2_delta[i][2*j],label='tE_I: '+\"{0:.3g}\".format(tE_I2[2*j])+' days')\n",
    "plt.axhline(beta2[i])\n",
    "plt.title('Beta: '+str(beta2[i]))\n",
    "plt.legend(loc=0)\n",
    "plt.show()"
   ]
  },
  {
   "cell_type": "code",
   "execution_count": 130,
   "metadata": {},
   "outputs": [],
   "source": [
    "from matplotlib import cm"
   ]
  },
  {
   "cell_type": "code",
   "execution_count": 131,
   "metadata": {},
   "outputs": [],
   "source": [
    "colors = plt.cm.rainbow_r(np.linspace(0,1,int(len(beta2)/2+1)))"
   ]
  },
  {
   "cell_type": "code",
   "execution_count": 186,
   "metadata": {},
   "outputs": [],
   "source": [
    "j = 20\n",
    "for i in range(int(len(beta2)/2)):\n",
    "    plt.plot(beta2_delta[i][2*j],label='beta: '+\"{0:.3g}\".format(beta2[i]),color=colors[i])\n",
    "    plt.axhline(beta2[i],linestyle='dashed',color=colors[i])\n",
    "plt.title('tE_I: '+str(tE_I2[2*j]))\n",
    "plt.legend(loc=0)\n",
    "plt.show()"
   ]
  },
  {
   "cell_type": "code",
   "execution_count": 185,
   "metadata": {},
   "outputs": [],
   "source": [
    "# I\n",
    "j = 20\n",
    "for i in range(int(len(beta2)/2)):\n",
    "    plt.plot(sims2.sims[2*j][i].I_d,label='beta: '+\"{0:.3g}\".format(sims2.sims[2*j][i].beta(0)),color=colors[i])\n",
    "    #plt.axhline(beta2[i],linestyle='dashed',color=colors[i])\n",
    "plt.title('tE_I: '+str(tE_I2[2*j]))\n",
    "plt.legend(loc=0)\n",
    "plt.show()"
   ]
  },
  {
   "cell_type": "code",
   "execution_count": 181,
   "metadata": {},
   "outputs": [],
   "source": [
    "j = 20\n",
    "\n",
    "fig, axs2 = plt.subplots(figsize=(10,6),linewidth=5,edgecolor='black',facecolor=\"white\")\n",
    "\n",
    "for i in range(int(len(beta2)/2)):\n",
    "    axs2.plot(beta2_delta[i][2*j],label='beta: '+\"{0:.3g}\".format(beta2[i]),color=colors[i])\n",
    "    axs2.axhline(beta2[i],linestyle='dashed',color=colors[i])\n",
    "\n",
    "\n",
    "axs = axs2.twinx()\n",
    "\n",
    "\n",
    "for i in range(int(len(beta2)/2)):\n",
    "    plt.plot(sims2.sims[2*j][i].I_d,label='beta: '+\"{0:.3g}\".format(sims2.sims[2*j][i].beta(0)),color=colors[i])\n",
    "    #plt.axhline(beta2[i],linestyle='dashed',color=colors[i])\n",
    "plt.title('tE_I: '+str(tE_I2[2*j]))\n",
    "plt.legend(loc=0)\n",
    "plt.show()\n",
    "\n",
    "axs.plot(range(len(beta_Re_analitico)),beta_Re_analitico,label='Beta analitico',color = 'tab:blue')\n",
    "axs.plot(range(len(beta_Re_delta)),beta_Re_delta,label='Beta delta',color = 'tab:blue',linestyle='dashed')\n",
    "#axs.plot(range(len(beta_Re_epyestim_Ts)),beta_Re_epyestim_Ts,label='beta Epyestim',color = 'tab:blue',linestyle='dotted')\n",
    "\n",
    "axs2.fill_between(range(len(Re_analitico[1:])), Re_analitico[1:], Re_delta[0:-1],color='tab:grey', alpha=0.4)\n",
    "\n",
    "axs.axvline(np.where(beta_Re_delta==np.min(beta_Re_delta))[0][0],color='tab:blue',alpha=0.5,linestyle='dotted',label='Min beta')\n",
    "\n",
    "axs2.tick_params(axis='y', labelcolor='tab:red',size=10)\n",
    "axs.tick_params(axis='y', labelcolor='tab:blue',size=10)\n",
    "\n",
    "axs2.set_ylabel('Re',color='tab:red',size=12)\n",
    "axs.set_ylabel('Beta',color='tab:blue',size=12)\n",
    "\n",
    "#axs.set_ylim(0.3,0.6)\n",
    "#axs2.set_ylim(0,2.5)\n",
    "\n",
    "fig.suptitle('tE_I: '+str(tE_I2[2*j]))\n",
    "\n",
    "lines, labels = axs.get_legend_handles_labels()\n",
    "lines2, labels2 = axs2.get_legend_handles_labels()\n",
    "axs2.legend(lines + lines2, labels + labels2, loc=[0.05,0.1])\n",
    "#axs.legend(loc=[0.05,0.05])\n",
    "#axs2.legend(loc=[0.05,0.17])\n",
    "\n",
    "ax_zoom = axs2.inset_axes([.67,.24,.3,.4])\n",
    "\n",
    "init = 80\n",
    "end = 120\n",
    "ax_zoom.plot(np.arange(init,end),Re_analitico[init:end],color = 'tab:red',linestyle='solid')\n",
    "ax_zoom.plot(np.arange(init,end),Re_delta[init:end],color = 'tab:red',linestyle='dashed')\n",
    "ax_zoom.fill_between(np.arange(init,end),Re_analitico[init:end],Re_delta[init:end],color='tab:grey', alpha=0.2)\n",
    "ax_zoom.axvline(np.where(beta_Re_delta==np.min(beta_Re_delta))[0][0],color='tab:blue',alpha=0.5,linestyle='dotted')\n",
    "\n",
    "ax_zoom.set_title('Re difference',size=10)\n",
    "#ax_zoom.set_xticks([])\n",
    "#ax_zoom.set_yticks([])\n",
    "axs2.indicate_inset_zoom(ax_zoom)\n",
    "\n",
    "fig.show()\n"
   ]
  },
  {
   "cell_type": "code",
   "execution_count": 154,
   "metadata": {},
   "outputs": [
    {
     "data": {
      "text/plain": [
       "3000.0"
      ]
     },
     "execution_count": 154,
     "metadata": {},
     "output_type": "execute_result"
    }
   ],
   "source": [
    "sims2.sims[0][0].I_d[0]"
   ]
  },
  {
   "cell_type": "code",
   "execution_count": 140,
   "metadata": {},
   "outputs": [
    {
     "data": {
      "text/plain": [
       "[<matplotlib.lines.Line2D at 0x7fea372b97f0>]"
      ]
     },
     "execution_count": 140,
     "metadata": {},
     "output_type": "execute_result"
    }
   ],
   "source": [
    "plt.plot(sims2.sims[0][0].I_d)"
   ]
  },
  {
   "cell_type": "code",
   "execution_count": 142,
   "metadata": {},
   "outputs": [
    {
     "data": {
      "text/plain": [
       "0.1"
      ]
     },
     "execution_count": 142,
     "metadata": {},
     "output_type": "execute_result"
    }
   ],
   "source": [
    "sims2.sims[0][0].beta(0)"
   ]
  },
  {
   "cell_type": "code",
   "execution_count": 113,
   "metadata": {},
   "outputs": [
    {
     "data": {
      "text/plain": [
       "2"
      ]
     },
     "execution_count": 113,
     "metadata": {},
     "output_type": "execute_result"
    }
   ],
   "source": [
    "10%8"
   ]
  },
  {
   "cell_type": "code",
   "execution_count": 120,
   "metadata": {},
   "outputs": [],
   "source": [
    "fig, axs = plt.subplots(3,4,figsize=(10,6),linewidth=5,edgecolor='black',facecolor=\"white\")\n",
    "\n",
    "for i in range(12):\n",
    "    for j in range(int(len(tE_I2)/2)):\n",
    "        axs[i%3,i%4].plot(beta2_delta[2*i][2*j],label='tE_I: '+\"{0:.3g}\".format(tE_I2[2*j])+' days')\n",
    "        axs[i%3,i%4].axhline(beta2[2*i])\n",
    "        axs[i%3,i%4].set_title('Beta: '+str(beta2[2*i]))\n",
    "        axs[i%3,i%4].legend(loc=0)\n",
    "fig.show()"
   ]
  },
  {
   "cell_type": "markdown",
   "metadata": {},
   "source": [
    "# Análisis de sensibilidad de tiempo serial\n",
    "Para hacer este estudio utilizaremos los mismos datos sintéticos y calcularemos el Re y beta utilizando distintos gammas y sigmas para ver como crece el error a medida que nos alejamos de los valores correctos"
   ]
  },
  {
   "cell_type": "code",
   "execution_count": 28,
   "metadata": {},
   "outputs": [],
   "source": [
    "tE_I_s = np.arange(2,6,0.1)\n",
    "tI_R_s = np.arange(2,6,0.1)\n",
    "Ts_s = np.array([[i+j for i in tE_I_s] for j in tI_R_s])"
   ]
  },
  {
   "cell_type": "code",
   "execution_count": 29,
   "metadata": {},
   "outputs": [],
   "source": [
    "sigma_s = 1/tE_I_s\n",
    "gamma_s = 1/tI_R_s"
   ]
  },
  {
   "cell_type": "markdown",
   "metadata": {},
   "source": [
    "### MSE y RMSE Re vs Re_analitico\n",
    "Re calculado para las distintas combinaciones de $\\sigma$ y $\\gamma$"
   ]
  },
  {
   "cell_type": "code",
   "execution_count": null,
   "metadata": {},
   "outputs": [],
   "source": [
    "P = 1\n",
    "# R delta\n",
    "Re_delta_s_a = np.zeros(np.shape(Ts_s), dtype=object)  \n",
    "Re_delta_s = np.zeros(np.shape(Ts_s), dtype=object)\n",
    "error_s = np.zeros(np.shape(Ts_s))\n",
    "error_s_a = np.zeros(np.shape(Ts_s))\n",
    "for i in range(len(sigma_s)):\n",
    "    for j in range(len(gamma_s)):\n",
    "        Re_delta_s[i,j] = Re_delta_calc(delta,sigma_s[i],gamma_s[j])\n",
    "        Re_delta_s_a[i,j] = Re_delta_a_calc(delta,sigma_s[i],gamma_s[j])\n",
    "\n",
    "        error_s[i,j] = ((P*Re_delta_s[i,j] - P*Re_analitico[0:])**2).mean()\n",
    "        error_s_a[i,j] = ((P*Re_delta_s_a[i,j] - P*Re_analitico[0:])**2).mean()            "
   ]
  },
  {
   "cell_type": "code",
   "execution_count": null,
   "metadata": {},
   "outputs": [],
   "source": [
    "# Contour Plot\n",
    "err =error_s\n",
    "err_max = np.max(err) \n",
    "levels = np.arange(0,err_max*1.1,0.001)\n",
    "fig,ax=plt.subplots(1,1)\n",
    "cp = ax.contourf(tE_I_s,tI_R_s,err,levels)\n",
    "\n",
    "cp2 = ax.contour(tE_I_s,tI_R_s,err,[0,err_max*0.25,err_max],colors='white',linestyles='dashed')\n",
    "cp2 = ax.contour(tE_I_s,tI_R_s,err,[0,np.min(err)+0.0000001,err_max],colors='white',linestyles='dotted')\n",
    "\n",
    "fig.colorbar(cp) # Add a colorbar to a plot\n",
    "ax.set_title('MSE vs Re analítico')\n",
    "ax.set_xlabel('Incubation period')\n",
    "ax.set_ylabel('Infectious period')\n",
    "plt.show()"
   ]
  },
  {
   "cell_type": "code",
   "execution_count": null,
   "metadata": {},
   "outputs": [],
   "source": [
    "# Contour Plot\n",
    "err = np.sqrt(error_s)\n",
    "err_max = np.max(err) \n",
    "levels = np.arange(0,err_max*1.1,0.001)\n",
    "fig,ax=plt.subplots(1,1)\n",
    "cp = ax.contourf(tE_I_s,tI_R_s,err,levels)\n",
    "\n",
    "cp2 = ax.contour(tE_I_s,tI_R_s,err,[0,err_max*0.25,err_max],colors='white',linestyles='dashed')\n",
    "cp2 = ax.contour(tE_I_s,tI_R_s,err,[0,np.min(err)+0.0000001,err_max],colors='white',linestyles='dotted')\n",
    "\n",
    "fig.colorbar(cp) # Add a colorbar to a plot\n",
    "ax.set_title('RMSE vs Re analítico')\n",
    "ax.set_xlabel('Incubation period')\n",
    "ax.set_ylabel('Infectious period')\n",
    "plt.show()"
   ]
  },
  {
   "cell_type": "markdown",
   "metadata": {},
   "source": [
    "### RMSE Re vs Re_delta\n",
    "Re calculado para las distintas combinaciones de $\\sigma$ y $\\gamma$ vs el Re calculado con $\\delta$ para los valores con los que se hizo la simulación original"
   ]
  },
  {
   "cell_type": "code",
   "execution_count": null,
   "metadata": {},
   "outputs": [],
   "source": [
    "P = 1\n",
    "# R delta\n",
    "Re_delta_s_a = np.zeros(np.shape(Ts_s), dtype=object)  \n",
    "Re_delta_s = np.zeros(np.shape(Ts_s), dtype=object)\n",
    "error_s_d = np.zeros(np.shape(Ts_s))\n",
    "error_s_a_d = np.zeros(np.shape(Ts_s))\n",
    "for i in range(len(sigma_s)):\n",
    "    for j in range(len(gamma_s)):\n",
    "        Re_delta_s[i,j] = Re_delta_calc(delta,sigma_s[i],gamma_s[j])\n",
    "        Re_delta_s_a[i,j] = Re_delta_a_calc(delta,sigma_s[i],gamma_s[j])        \n",
    "\n",
    "        error_s_d[i,j] = ((P*Re_delta_s[i,j] - P*Re_delta[:])**2).mean()\n",
    "        error_s_a_d[i,j] = ((P*Re_delta_s_a[i,j] - P*Re_delta[:])**2).mean()\n",
    "            "
   ]
  },
  {
   "cell_type": "code",
   "execution_count": null,
   "metadata": {},
   "outputs": [],
   "source": [
    "# Contour Plot\n",
    "err =error_s_d\n",
    "err_max = np.max(err) \n",
    "levels = np.arange(0,err_max*1.1,0.001)\n",
    "fig,ax=plt.subplots(1,1)\n",
    "cp = ax.contourf(tE_I_s,tI_R_s,err,levels)\n",
    "\n",
    "cp2 = ax.contour(tE_I_s,tI_R_s,err,[0,err_max*0.25,err_max],colors='white',linestyles='dashed')\n",
    "cp2 = ax.contour(tE_I_s,tI_R_s,err,[0,np.min(err)+0.0000001,err_max],colors='white',linestyles='dotted')\n",
    "\n",
    "fig.colorbar(cp) # Add a colorbar to a plot\n",
    "ax.set_title('MSE vs Re delta')\n",
    "ax.set_xlabel('Incubation period')\n",
    "ax.set_ylabel('Infectious period')\n",
    "plt.show()"
   ]
  },
  {
   "cell_type": "code",
   "execution_count": null,
   "metadata": {},
   "outputs": [],
   "source": [
    "# Contour Plot\n",
    "err = np.sqrt(error_s_d)\n",
    "err_max = np.max(err) \n",
    "levels = np.arange(0,err_max*1.1,0.001)\n",
    "fig,ax=plt.subplots(1,1)\n",
    "cp = ax.contourf(tE_I_s,tI_R_s,err,levels)\n",
    "\n",
    "cp2 = ax.contour(tE_I_s,tI_R_s,err,[0,err_max*0.25,err_max],colors='white',linestyles='dashed')\n",
    "cp2 = ax.contour(tE_I_s,tI_R_s,err,[0,np.min(err)+0.0000001,err_max],colors='white',linestyles='dotted')\n",
    "\n",
    "fig.colorbar(cp) # Add a colorbar to a plot\n",
    "ax.set_title('RMSE vs Re delta')\n",
    "ax.set_xlabel('Incubation period')\n",
    "ax.set_ylabel('Infectious period')\n",
    "plt.show()"
   ]
  },
  {
   "cell_type": "markdown",
   "metadata": {},
   "source": [
    "# Error cálculo Re para distintos R0"
   ]
  },
  {
   "cell_type": "code",
   "execution_count": null,
   "metadata": {},
   "outputs": [],
   "source": [
    "beta2 = list(np.arange(0.2,0.6,0.01))\n",
    "R0 = np.array(beta2)*tI_R"
   ]
  },
  {
   "cell_type": "code",
   "execution_count": null,
   "metadata": {},
   "outputs": [],
   "source": [
    "sims2 = cv19sim(cfg,beta = beta2,mu=mu,I=I0,I_d=I0*beta,tE_I = tE_I,tI_R=tI_R,t_end=250)\n",
    "sims2.integrate()"
   ]
  },
  {
   "cell_type": "markdown",
   "metadata": {},
   "source": [
    "### Calculo de R por delta"
   ]
  },
  {
   "cell_type": "code",
   "execution_count": null,
   "metadata": {},
   "outputs": [],
   "source": [
    "t0=1"
   ]
  },
  {
   "cell_type": "code",
   "execution_count": null,
   "metadata": {},
   "outputs": [],
   "source": [
    "Re_analitico2 = [beta2[i]*sims2.sims[i].S[t0:-1]/sims2.sims[i].N*tI_R for i in range(len(beta2))]\n"
   ]
  },
  {
   "cell_type": "code",
   "execution_count": null,
   "metadata": {},
   "outputs": [],
   "source": [
    "delta2 = [getdelta(sims2.sims[i].I_d[t0:]) for i in range(len(beta2))]"
   ]
  },
  {
   "cell_type": "code",
   "execution_count": null,
   "metadata": {},
   "outputs": [],
   "source": [
    "# R delta\n",
    "Re_delta2 = []\n",
    "for j in delta2:\n",
    "    Re_delta2.append(Re_delta_calc(j,sigma,gamma))\n",
    "\n",
    "Re_delta2=np.array(Re_delta2)\n",
    "\n",
    "# R delta aprox\n",
    "#Re_delta_a = 1 + delta*Ts"
   ]
  },
  {
   "cell_type": "code",
   "execution_count": null,
   "metadata": {},
   "outputs": [],
   "source": [
    "# Error\n",
    "err2 = []\n",
    "for i in range(len(beta2)):\n",
    "    err2.append(np.sqrt((Re_analitico2[i][0:100]-Re_delta2[i][0:100]).mean()))"
   ]
  },
  {
   "cell_type": "code",
   "execution_count": null,
   "metadata": {},
   "outputs": [],
   "source": [
    "plt.plot(R0,err2)\n",
    "plt.title('RMSE R vs R0')\n",
    "plt.xlabel('R0')\n",
    "plt.ylabel('RMSE')\n",
    "plt.plot()"
   ]
  },
  {
   "cell_type": "markdown",
   "metadata": {},
   "source": [
    "# Error cálculo Re para distintos R0 y Ts"
   ]
  },
  {
   "cell_type": "code",
   "execution_count": null,
   "metadata": {},
   "outputs": [],
   "source": [
    "beta3 = list(np.arange(0.2,0.6,0.01))\n",
    "R0 = np.array(beta2)*tI_R\n",
    "Ts3 = np.arange(1,6,0.1)"
   ]
  },
  {
   "cell_type": "code",
   "execution_count": null,
   "metadata": {},
   "outputs": [],
   "source": [
    "sims3 = []\n",
    "for i in Ts3:\n",
    "    sims3.append(cv19sim(cfg,beta = beta2,mu=mu,I=I0,I_d=I0*beta,tE_I = i/2,tI_R=i/2,t_end=250))\n",
    "\n",
    "for i in range(len(Ts3)):\n",
    "    sims3[i].integrate()"
   ]
  },
  {
   "cell_type": "code",
   "execution_count": null,
   "metadata": {},
   "outputs": [],
   "source": [
    "sims = np.array([i.sims for i in sims3])"
   ]
  },
  {
   "cell_type": "code",
   "execution_count": null,
   "metadata": {},
   "outputs": [],
   "source": [
    "t0 = 10"
   ]
  },
  {
   "cell_type": "code",
   "execution_count": null,
   "metadata": {},
   "outputs": [],
   "source": [
    "Re_analitico3 = [[sims[i,j].beta(0)*sims[i,j].S[t0:-1]/sims[i,j].N*sims[i,j].tI_R(0) for j in range(len(beta3))]for i in range(len(Ts3))]"
   ]
  },
  {
   "cell_type": "code",
   "execution_count": null,
   "metadata": {},
   "outputs": [],
   "source": [
    "delta3 = [[getdelta(sims[i,j].I_d[t0:-1]) for j in range(len(beta3))]for i in range(len(Ts3))]"
   ]
  },
  {
   "cell_type": "code",
   "execution_count": null,
   "metadata": {},
   "outputs": [],
   "source": [
    "i = 40\n",
    "j = 39\n",
    "aux = delta3[i][j]"
   ]
  },
  {
   "cell_type": "code",
   "execution_count": null,
   "metadata": {},
   "outputs": [],
   "source": [
    "plt.plot(sims[i,j].I_d)"
   ]
  },
  {
   "cell_type": "code",
   "execution_count": null,
   "metadata": {},
   "outputs": [],
   "source": [
    "plt.plot(range(len(aux)),aux)"
   ]
  },
  {
   "cell_type": "code",
   "execution_count": null,
   "metadata": {},
   "outputs": [],
   "source": [
    "# R delta\n",
    "Re_delta3 = []\n",
    "for j in delta2:\n",
    "    aux = []\n",
    "    for i in range(len(j)):\n",
    "        aux.append(1 + j[i]*Ts + sigma*gamma/(sigma + gamma)*(j[i]*Ts)**2)\n",
    "    Re_delta2.append(aux)\n",
    "Re_delta2=np.array(Re_delta2)\n",
    "\n",
    "# R delta aprox\n",
    "#Re_delta_a = 1 + delta*Ts"
   ]
  },
  {
   "cell_type": "markdown",
   "metadata": {},
   "source": [
    "# To Do:\n",
    "[ ] Comprobar el orden de las variables en los arreglos sigma-gamma  \n",
    "[ ] Verificar el calculo de R porque no me están calzando bien los R con las magnitudes de los otros.\n",
    "[ ] Grid-plot  \n",
    "\n",
    "\n",
    "[ ] Estudiar cuanto aumenta el error a medida que cambian el tiempo serial, gamma y sigma \n",
    "\n",
    "[x] Calcular Beta desde el R  \n",
    "[ ] Reconstruir las curvas con los parámetros obtenidos  \n",
    "[ ] Tratar de compatibilizar los cálculos de R de Felipe y de la nueva librería, y compararlos con el cálculo analítico  \n",
    "\n",
    "[ ] Revisar calculo del error entre los cálculos de R para el contourplot.  \n",
    "[ ] Revisar calculo del error entre los cálculos de R. "
   ]
  },
  {
   "cell_type": "code",
   "execution_count": null,
   "metadata": {},
   "outputs": [],
   "source": []
  }
 ],
 "metadata": {
  "kernelspec": {
   "display_name": "Python 3",
   "language": "python",
   "name": "python3"
  },
  "language_info": {
   "codemirror_mode": {
    "name": "ipython",
    "version": 3
   },
   "file_extension": ".py",
   "mimetype": "text/x-python",
   "name": "python",
   "nbconvert_exporter": "python",
   "pygments_lexer": "ipython3",
   "version": "3.8.3"
  }
 },
 "nbformat": 4,
 "nbformat_minor": 4
}
