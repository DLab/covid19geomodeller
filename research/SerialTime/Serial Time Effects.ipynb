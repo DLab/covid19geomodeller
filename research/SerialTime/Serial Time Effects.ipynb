{
 "cells": [
  {
   "cell_type": "markdown",
   "metadata": {},
   "source": [
    "# Serial time dinamics\n",
    "Estudiar efectos del tiempo serial en la dinámica:\n",
    "1. Manteniendo el tiempo serial y el R0 (variando el beta), variar sigma y gama para ver cómo responde la dinámica del virus. \n",
    "2. Manteniendo tiempo serial, gamma y beta, ver el efecto de variar sigma (1/tiempo de incubación) "
   ]
  },
  {
   "cell_type": "code",
   "execution_count": null,
   "metadata": {},
   "outputs": [],
   "source": [
    "import multiprocessing\n",
    "from joblib import Parallel, delayed\n",
    "import sys\n",
    "from pathlib import Path\n",
    "sys.path.insert(1, '../../src/SEIR/')\n",
    "sys.path.insert(1, '../../src/SEIRHVD/')\n",
    "sys.path.insert(1, '../../src/utils/')\n",
    "\n",
    "import numpy as np\n",
    "from numpy import linalg as LA\n",
    "\n",
    "import platform\n",
    "OS = platform.system()\n",
    "\n",
    "import matplotlib.pyplot as plt\n",
    "if OS == 'Linux':    \n",
    "    %matplotlib tk\n",
    "    print('Linux')\n",
    "elif OS == 'Windows':\n",
    "    %matplotlib qt\n",
    "    print('Windows')\n",
    "else:\n",
    "    print('OS not detected :-|')\n",
    "\n",
    "from class_SEIR2 import SEIR"
   ]
  },
  {
   "cell_type": "markdown",
   "metadata": {},
   "source": [
    "# Parámetros\n",
    "### Tiempo de incubación  \n",
    "$T_{inc} = \\frac{1}{\\sigma}$\n",
    "### Tiempo de infecciosidad  \n",
    "$T_{inf} = \\frac{1}{\\gamma}$\n",
    "### Tiempo Serial  \n",
    "$T_s = T_{inc} + \\frac{T_{inf}}{2}$\n",
    "\n",
    "### Numero reproductivo básico  \n",
    "$R_0 = \\frac{\\beta}{\\gamma}$\n",
    "\n",
    "# Ecuaciones\n",
    "$\\dot{S} = -\\alpha\\beta \\frac{SI}{N} $   \n",
    "$\\dot{E} = \\alpha\\beta \\frac{SI}{N} - \\sigma E$   \n",
    "$\\dot{I} =  \\sigma E -\\gamma I$   \n",
    "$\\dot{R} = \\gamma I$   "
   ]
  },
  {
   "cell_type": "markdown",
   "metadata": {},
   "source": [
    "# Estudio efectos del tiempo de incubación\n",
    "En estas simulaciones se simula para distintos tiempos de incubación manteniendo todas las otras variables fijas. Al variar el tiempo de incubación y mantener el tiempo de infecciosidad constante, el tiempo serial también variará"
   ]
  },
  {
   "cell_type": "code",
   "execution_count": null,
   "metadata": {},
   "outputs": [],
   "source": [
    "# Simulation time\n",
    "tsim = 1000\n",
    "\n",
    "# Parameters\n",
    "R0 = 1.2\n",
    "\n",
    "\n",
    "step = 0.5\n",
    "\n",
    "T_inf = 6\n",
    "T_inc = np.array(np.arange(1,6,0.5))\n",
    "T_s = T_inc + T_inf/2\n",
    "gamma = 1/T_inf\n",
    "sigma = 1/T_inc\n",
    "\n",
    "beta = R0*gamma "
   ]
  },
  {
   "cell_type": "code",
   "execution_count": null,
   "metadata": {},
   "outputs": [],
   "source": [
    "#Initial Conditions\n",
    "mu = R0\n",
    "population = 100000\n",
    "I = 1\n",
    "E = I*mu\n",
    "R = 0\n",
    "S = population - I - E - R"
   ]
  },
  {
   "cell_type": "code",
   "execution_count": null,
   "metadata": {},
   "outputs": [],
   "source": [
    "def alpha(t):\n",
    "    return 1"
   ]
  },
  {
   "cell_type": "code",
   "execution_count": null,
   "metadata": {},
   "outputs": [],
   "source": [
    "i = 0\n",
    "sim = [SEIR(tsim=tsim,alpha=alpha,beta=beta,mu=mu,sigma=sigma[i],gamma=gamma,I0=I,I_ac0=I,I_d0=0,population=population) for i in range(len(T_inc))]\n"
   ]
  },
  {
   "cell_type": "markdown",
   "metadata": {},
   "source": [
    "### Simulate"
   ]
  },
  {
   "cell_type": "code",
   "execution_count": null,
   "metadata": {},
   "outputs": [],
   "source": [
    "def simulate(simulation,i,tsim):\n",
    "    simulation[i].integr()\n",
    "    return simulation[i]"
   ]
  },
  {
   "cell_type": "code",
   "execution_count": null,
   "metadata": {},
   "outputs": [],
   "source": [
    "num_cores = multiprocessing.cpu_count()\n",
    "sims = Parallel(n_jobs=num_cores, verbose=50)(delayed(simulate)(sim,i,tsim) for i in range(len(sim)))\n",
    "sim = sims\n",
    "print('ready')"
   ]
  },
  {
   "cell_type": "markdown",
   "metadata": {},
   "source": [
    "### Results"
   ]
  },
  {
   "cell_type": "code",
   "execution_count": null,
   "metadata": {},
   "outputs": [],
   "source": [
    "for i in range(len(T_inc)):\n",
    "    #plt.plot(sim[i].t,sim[i].S,label='(S) T_inc: '+str(T_inc[i]))\n",
    "    #plt.plot(sim[i].t,sim[i].E,label='(E) T_inc: '+str(T_inc[i]))\n",
    "    plt.plot(sim[i].t,sim[i].I,label='(I) T_inc: '+str(T_inc[i]))\n",
    "    #plt.plot(sim[i].t,sim[i].R,label='(R) T_inf: '+str(T_inc[i]))\n",
    "plt.title('Incubation time variation')\n",
    "plt.legend(loc=0)\n",
    "plt.plot()"
   ]
  },
  {
   "cell_type": "code",
   "execution_count": null,
   "metadata": {},
   "outputs": [],
   "source": [
    "peak = [sim[i].peak for i in range(len(T_inc))]\n",
    "peak_t = [sim[i].peak_t for i in range(len(T_inc))]"
   ]
  },
  {
   "cell_type": "code",
   "execution_count": null,
   "metadata": {},
   "outputs": [],
   "source": [
    "plt.plot(T_inc,peak,label='Peak size vs Infectious period')\n",
    "plt.title('Peak size vs Incubation time')\n",
    "plt.legend(loc=0)\n",
    "plt.plot()"
   ]
  },
  {
   "cell_type": "code",
   "execution_count": null,
   "metadata": {},
   "outputs": [],
   "source": [
    "plt.plot(T_inc,peak_t,label='Peak day')\n",
    "plt.title('Peak day vs Incubation time')\n",
    "plt.legend(loc=0)\n",
    "plt.plot()"
   ]
  },
  {
   "cell_type": "code",
   "execution_count": null,
   "metadata": {},
   "outputs": [],
   "source": [
    "R_final = [sim[i].R[-1] for i in range(len(T_inc))]"
   ]
  },
  {
   "cell_type": "code",
   "execution_count": null,
   "metadata": {},
   "outputs": [],
   "source": [
    "plt.plot(T_inc,R_final,label='Infectados totales')\n",
    "plt.title('R al final vs Incubation time')\n",
    "plt.legend(loc=0)\n",
    "plt.plot()"
   ]
  },
  {
   "cell_type": "markdown",
   "metadata": {},
   "source": [
    "# Tiempo serial y R fijo - Variacion sigma y gamma\n",
    "Para mantener el R fijo, al variar gamama variamos beta proporcionalmente."
   ]
  },
  {
   "cell_type": "code",
   "execution_count": null,
   "metadata": {},
   "outputs": [],
   "source": [
    "# Simulation time\n",
    "tsim = 1000\n",
    "\n",
    "# Parameters\n",
    "R0 = 1.2\n",
    "T_s = 8\n",
    "\n",
    "step = 0.5\n",
    "# gamma\n",
    "T_inf = np.array(np.arange(1,7+step,step))\n",
    "# sigma\n",
    "T_inc = T_s-T_inf/1\n",
    "gamma = 1/T_inf\n",
    "sigma = 1/T_inc\n",
    "\n",
    "beta = R0*gamma "
   ]
  },
  {
   "cell_type": "code",
   "execution_count": null,
   "metadata": {},
   "outputs": [],
   "source": [
    "#Initial Conditions\n",
    "mu = 0#R0\n",
    "population = 100000\n",
    "I = 1\n",
    "E = I*mu\n",
    "R = 0\n",
    "S = population - I - E - R"
   ]
  },
  {
   "cell_type": "code",
   "execution_count": null,
   "metadata": {},
   "outputs": [],
   "source": [
    "def alpha(t):\n",
    "    return 1"
   ]
  },
  {
   "cell_type": "code",
   "execution_count": null,
   "metadata": {},
   "outputs": [],
   "source": [
    "i = 0\n",
    "sim = [SEIR(tsim=tsim,alpha=alpha,beta=beta[i],mu=mu,sigma=sigma[i],gamma=gamma[i],I0=I,I_ac0=I,I_d0=0,population=population) for i in range(len(T_inf))]\n"
   ]
  },
  {
   "cell_type": "markdown",
   "metadata": {},
   "source": [
    "### Simulate"
   ]
  },
  {
   "cell_type": "code",
   "execution_count": null,
   "metadata": {},
   "outputs": [],
   "source": [
    "def simulate(simulation,i,tsim):\n",
    "    simulation[i].integr()\n",
    "    return simulation[i]"
   ]
  },
  {
   "cell_type": "code",
   "execution_count": null,
   "metadata": {},
   "outputs": [],
   "source": [
    "num_cores = multiprocessing.cpu_count()\n",
    "sims = Parallel(n_jobs=num_cores, verbose=50)(delayed(simulate)(sim,i,tsim) for i in range(len(sim)))\n",
    "sim = sims\n",
    "print('ready')"
   ]
  },
  {
   "cell_type": "markdown",
   "metadata": {},
   "source": [
    "### Results"
   ]
  },
  {
   "cell_type": "code",
   "execution_count": null,
   "metadata": {},
   "outputs": [],
   "source": [
    "peak = [sim[i].peak for i in range(len(T_inf))]\n",
    "peak_t = [sim[i].peak_t for i in range(len(T_inf))]"
   ]
  },
  {
   "cell_type": "code",
   "execution_count": null,
   "metadata": {},
   "outputs": [],
   "source": [
    "for i in range(len(T_inf)):\n",
    "    #plt.plot(sim[i].t,sim[i].S,label='(S) T_inf: '+str(T_inf[i]))\n",
    "    #plt.plot(sim[i].t,sim[i].E,label='(E) T_inf: '+str(T_inf[i]))\n",
    "    #plt.plot(sim[i].t,np.log2(sim[i].I),label='(I) T_inf: '+str(T_inf[i]))\n",
    "    plt.plot(sim[i].t,sim[i].I_d,label='(I_d) T_inf: '+str(T_inf[i]))\n",
    "    #plt.plot(sim[i].t,sim[i].I,label='(I) T_inf: '+str(T_inf[i]))\n",
    "    #plt.plot(sim[i].t,sim[i].I_ac,label='(I_ac) T_inf: '+str(T_inf[i]),linestyle='dashed')\n",
    "    #plt.plot(sim[i].t,sim[i].R,label='(R) T_inf: '+str(T_inf[i]))\n",
    "plt.title('I vs t: Sigma and Gamma variation')\n",
    "plt.legend(loc=0)\n",
    "plt.plot()"
   ]
  },
  {
   "cell_type": "code",
   "execution_count": null,
   "metadata": {},
   "outputs": [],
   "source": [
    "np.cumsum(sim[0].I)"
   ]
  },
  {
   "cell_type": "code",
   "execution_count": null,
   "metadata": {},
   "outputs": [],
   "source": [
    "Iacu = [np.cumsum(sim[i].I) "
   ]
  },
  {
   "cell_type": "code",
   "execution_count": null,
   "metadata": {},
   "outputs": [],
   "source": [
    "plt.plot(T_inf,peak,label='Peak size vs Infectious period')\n",
    "plt.title('Peak size vs Infectious period')\n",
    "plt.legend(loc=0)\n",
    "plt.plot()"
   ]
  },
  {
   "cell_type": "code",
   "execution_count": null,
   "metadata": {},
   "outputs": [],
   "source": [
    "plt.plot(T_inf,peak_t,label='Peak day')\n",
    "plt.title('Peak day vs Infectious period')\n",
    "plt.legend(loc=0)\n",
    "plt.plot()"
   ]
  },
  {
   "cell_type": "code",
   "execution_count": null,
   "metadata": {},
   "outputs": [],
   "source": [
    "R_final = [sim[i].R[-1] for i in range(len(T_inf))]"
   ]
  },
  {
   "cell_type": "code",
   "execution_count": null,
   "metadata": {},
   "outputs": [],
   "source": [
    "plt.plot(T_inf,R_final,label='R final')\n",
    "plt.title('Peak day vs Infectious period')\n",
    "plt.legend(loc=0)\n",
    "plt.plot(1,1)\n",
    "plt.plot()"
   ]
  },
  {
   "cell_type": "code",
   "execution_count": null,
   "metadata": {},
   "outputs": [],
   "source": [
    "population"
   ]
  },
  {
   "cell_type": "markdown",
   "metadata": {},
   "source": [
    "# Estudio tiempo serial para R fijo\n",
    "Manteniendo el R fijo, variar sigma y gamma. \n",
    "Hacer plots de contorno de tamaño y fecha del peak para estas dimensiones"
   ]
  },
  {
   "cell_type": "code",
   "execution_count": null,
   "metadata": {},
   "outputs": [],
   "source": [
    "# Simulation time\n",
    "tsim = 1000\n",
    "\n",
    "# Parameters\n",
    "R0 = 1.2\n",
    "T_s = 8\n",
    "\n",
    "step = 0.5\n",
    "T_inf = np.array(np.arange(1,10+step,step))\n",
    "T_inc =  np.array(np.arange(1,8+step,step))\n",
    "gamma = 1/T_inf\n",
    "sigma = 1/T_inc\n",
    "beta = R0*gamma "
   ]
  },
  {
   "cell_type": "code",
   "execution_count": null,
   "metadata": {},
   "outputs": [],
   "source": [
    "#Initial Conditions\n",
    "mu = R0\n",
    "population = 100000\n",
    "I = 100\n",
    "E = I*mu\n",
    "R = 0\n",
    "S = population - I - E - R"
   ]
  },
  {
   "cell_type": "code",
   "execution_count": null,
   "metadata": {},
   "outputs": [],
   "source": [
    "def alpha(t):\n",
    "    return 1"
   ]
  },
  {
   "cell_type": "code",
   "execution_count": null,
   "metadata": {},
   "outputs": [],
   "source": [
    "i = 0\n",
    "sim = [[SEIR(tsim=tsim,alpha=alpha,beta=beta[i],mu=mu,sigma=sigma[j],gamma=gamma[i],I0=I,I_ac0=I,I_d0=0,population=population) for j in range(len(T_inc))] for i in range(len(T_inf))]\n"
   ]
  },
  {
   "cell_type": "markdown",
   "metadata": {},
   "source": [
    "### Simulate"
   ]
  },
  {
   "cell_type": "code",
   "execution_count": null,
   "metadata": {},
   "outputs": [],
   "source": [
    "def simulate(simulation,i,tsim):\n",
    "    simulation[i].integr()\n",
    "    return simulation[i]"
   ]
  },
  {
   "cell_type": "code",
   "execution_count": null,
   "metadata": {},
   "outputs": [],
   "source": [
    "num_cores = multiprocessing.cpu_count()\n",
    "aux = []\n",
    "for j in range(len(T_inc)):\n",
    "    aux.append(Parallel(n_jobs=num_cores, verbose=50)(delayed(simulate)(sim[i],j,tsim) for i in range(len(T_inf))))\n",
    "#sim = aux\n",
    "print('ready')"
   ]
  },
  {
   "cell_type": "markdown",
   "metadata": {},
   "source": [
    "### Results"
   ]
  },
  {
   "cell_type": "code",
   "execution_count": null,
   "metadata": {},
   "outputs": [],
   "source": [
    "sim = aux"
   ]
  },
  {
   "cell_type": "code",
   "execution_count": null,
   "metadata": {},
   "outputs": [],
   "source": [
    "peak = [[sim[i][j].peak for i in range(len(T_inc))] for j in range(len(T_inf))]\n",
    "peak_t = [[sim[i][j].peak_t for i in range(len(T_inc))] for j in range(len(T_inf))]"
   ]
  },
  {
   "cell_type": "code",
   "execution_count": null,
   "metadata": {},
   "outputs": [],
   "source": [
    "np.shape(peak)"
   ]
  },
  {
   "cell_type": "markdown",
   "metadata": {},
   "source": [
    "### Variando tiempo de infeccion"
   ]
  },
  {
   "cell_type": "code",
   "execution_count": null,
   "metadata": {},
   "outputs": [],
   "source": [
    "j = 0\n",
    "for i in range(len(T_inf)):\n",
    "    #plt.plot(sim[i].t,sim[i].S,label='(S) T_inf: '+str(T_inf[i]))\n",
    "    #plt.plot(sim[i].t,sim[i].E,label='(E) T_inf: '+str(T_inf[i]))\n",
    "    plt.plot(sim[j][i].t,sim[j][i].I,label='(I) T_inf: '+str(T_inf[i]))\n",
    "    #plt.plot(sim[i].t,sim[i].R,label='(R) T_inf: '+str(T_inf[i]))\n",
    "plt.title('I vs t: T_inc = '+str(T_inc[j]))\n",
    "plt.legend(loc=0)\n",
    "plt.plot()"
   ]
  },
  {
   "cell_type": "markdown",
   "metadata": {},
   "source": [
    "### Variando tiempo de incubacion"
   ]
  },
  {
   "cell_type": "code",
   "execution_count": null,
   "metadata": {},
   "outputs": [],
   "source": [
    "i = 0\n",
    "for j in range(len(T_inc)):\n",
    "    #plt.plot(sim[i].t,sim[i].S,label='(S) T_inf: '+str(T_inf[i]))\n",
    "    #plt.plot(sim[i].t,sim[i].E,label='(E) T_inf: '+str(T_inf[i]))\n",
    "    plt.plot(sim[j][i].t,sim[j][i].I,label='(I) T_inf: '+str(T_inf[i]))\n",
    "    #plt.plot(sim[i].t,sim[i].R,label='(R) T_inf: '+str(T_inf[i]))\n",
    "plt.title('I vs t: T_inf = '+str(T_inf[i]))\n",
    "plt.legend(loc=0)\n",
    "plt.plot()"
   ]
  },
  {
   "cell_type": "markdown",
   "metadata": {},
   "source": [
    "### Contour plots"
   ]
  },
  {
   "cell_type": "code",
   "execution_count": null,
   "metadata": {},
   "outputs": [],
   "source": [
    "# Contour Plot\n",
    "fig,ax=plt.subplots(1,1)\n",
    "cp = ax.contourf(T_inc,T_inf,peak) \n",
    "fig.colorbar(cp) # Add a colorbar to a plot\n",
    "ax.set_title('Peak Size')\n",
    "ax.set_xlabel('Incubation Time')\n",
    "ax.set_ylabel('Infection Time')\n",
    "plt.show() "
   ]
  },
  {
   "cell_type": "code",
   "execution_count": null,
   "metadata": {},
   "outputs": [],
   "source": [
    "# Contour Plot\n",
    "fig,ax=plt.subplots(1,1)\n",
    "cp = ax.contourf(T_inc,T_inf,peak_t) \n",
    "fig.colorbar(cp) # Add a colorbar to a plot\n",
    "ax.set_title('Peak day')\n",
    "ax.set_xlabel('Incubation Time')\n",
    "ax.set_ylabel('Infection Time')\n",
    "plt.show() "
   ]
  },
  {
   "cell_type": "markdown",
   "metadata": {},
   "source": [
    "### Serial Time"
   ]
  },
  {
   "cell_type": "code",
   "execution_count": null,
   "metadata": {},
   "outputs": [],
   "source": [
    "T_s = [[i + j/2 for i in T_inc] for j in T_inf]"
   ]
  },
  {
   "cell_type": "code",
   "execution_count": null,
   "metadata": {},
   "outputs": [],
   "source": [
    "T_s"
   ]
  },
  {
   "cell_type": "markdown",
   "metadata": {},
   "source": [
    "# Estados iniciales"
   ]
  },
  {
   "cell_type": "code",
   "execution_count": null,
   "metadata": {},
   "outputs": [],
   "source": [
    "# Simulation time\n",
    "tsim = 1000\n",
    "\n",
    "# Parameters\n",
    "R0 = 1.2\n",
    "T_s = 8\n",
    "\n",
    "step = 0.5\n",
    "# gamma\n",
    "T_inf = 6\n",
    "# sigma\n",
    "T_inc = 3\n",
    "gamma = 1/T_inf\n",
    "sigma = 1/T_inc\n",
    "\n",
    "beta = R0*gamma "
   ]
  },
  {
   "cell_type": "code",
   "execution_count": null,
   "metadata": {},
   "outputs": [],
   "source": [
    "#Initial Conditions\n",
    "mu = R0\n",
    "population = 100000\n",
    "I = np.array(np.arange(1,100,10))\n",
    "E = I*mu\n",
    "R = 0\n",
    "S = population - I - E - R"
   ]
  },
  {
   "cell_type": "code",
   "execution_count": null,
   "metadata": {},
   "outputs": [],
   "source": [
    "def alpha(t):\n",
    "    return 1"
   ]
  },
  {
   "cell_type": "code",
   "execution_count": null,
   "metadata": {},
   "outputs": [],
   "source": [
    "i = 0\n",
    "sim = [SEIR(tsim=tsim,alpha=alpha,beta=beta,mu=mu,sigma=sigma,gamma=gamma,I0=I[i],I_ac0=I[i],I_d0=0,population=population) for i in range(len(I))]\n"
   ]
  },
  {
   "cell_type": "markdown",
   "metadata": {},
   "source": [
    "### Simulate"
   ]
  },
  {
   "cell_type": "code",
   "execution_count": null,
   "metadata": {},
   "outputs": [],
   "source": [
    "def simulate(simulation,i,tsim):\n",
    "    simulation[i].integr()\n",
    "    return simulation[i]"
   ]
  },
  {
   "cell_type": "code",
   "execution_count": null,
   "metadata": {},
   "outputs": [],
   "source": [
    "num_cores = multiprocessing.cpu_count()\n",
    "sims = Parallel(n_jobs=num_cores, verbose=50)(delayed(simulate)(sim,i,tsim) for i in range(len(sim)))\n",
    "sim = sims\n",
    "print('ready')"
   ]
  },
  {
   "cell_type": "markdown",
   "metadata": {},
   "source": [
    "### Results"
   ]
  },
  {
   "cell_type": "code",
   "execution_count": null,
   "metadata": {},
   "outputs": [],
   "source": [
    "peak = [sim[i].peak for i in range(len(I))]\n",
    "peak_t = [sim[i].peak_t for i in range(len(I))]"
   ]
  },
  {
   "cell_type": "code",
   "execution_count": null,
   "metadata": {},
   "outputs": [],
   "source": [
    "for i in range(len(I)):\n",
    "    #plt.plot(sim[i].t,sim[i].S,label='(S) T_inf: '+str(T_inf[i]))\n",
    "    #plt.plot(sim[i].t,sim[i].E,label='(E) T_inf: '+str(T_inf[i]))\n",
    "    plt.plot(sim[i].t,np.log2(sim[i].I),label='(I)  I0: '+str(I[i]))\n",
    "    #plt.plot(sim[i].t,sim[i].I,label='(I) I0: '+str(I[i]))\n",
    "    #plt.plot(sim[i].t,sim[i].R,label='(R) T_inf: '+str(T_inf[i]))\n",
    "plt.title('I vs t: Sigma and Gamma variation')\n",
    "plt.legend(loc=0)\n",
    "plt.plot()"
   ]
  },
  {
   "cell_type": "markdown",
   "metadata": {},
   "source": [
    "# Ideas Bassi\n",
    "$I_d(t) = R_e(t)^{\\frac{1}{T_S}}$ "
   ]
  },
  {
   "cell_type": "code",
   "execution_count": null,
   "metadata": {},
   "outputs": [],
   "source": []
  }
 ],
 "metadata": {
  "kernelspec": {
   "display_name": "Python 3",
   "language": "python",
   "name": "python3"
  },
  "language_info": {
   "codemirror_mode": {
    "name": "ipython",
    "version": 3
   },
   "file_extension": ".py",
   "mimetype": "text/x-python",
   "name": "python",
   "nbconvert_exporter": "python",
   "pygments_lexer": "ipython3",
   "version": "3.8.3"
  }
 },
 "nbformat": 4,
 "nbformat_minor": 4
}
