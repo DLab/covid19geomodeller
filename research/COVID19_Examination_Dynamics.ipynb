{
 "cells": [
  {
   "cell_type": "markdown",
   "metadata": {},
   "source": [
    "# Compartimental Model Simulator\n",
    "\n",
    "**Created by:** Samuel Ropert  \n",
    "**Creation date:** 12/10/2020  \n",
    "**Institution:** Computational Biology Lab - Fundación Ciencia y Vida, Chile  \n",
    "\n",
    "## SEIR\n",
    "This jupyter notebook shows how periodic examinations affect a pandemy evolution.\n"
   ]
  },
  {
   "cell_type": "markdown",
   "metadata": {},
   "source": [
    "## Import Libraries"
   ]
  },
  {
   "cell_type": "code",
   "execution_count": null,
   "metadata": {},
   "outputs": [],
   "source": [
    "import sys\n",
    "from pathlib import Path\n",
    "sys.path.insert(1, '../src/SEIR/')\n",
    "sys.path.insert(1, '../src/utils/')\n",
    "\n",
    "from datetime import datetime\n",
    "import numpy as np\n",
    "from numpy import linalg as LA\n",
    "import pandas as pd\n",
    "from time import time\n",
    "import multiprocessing\n",
    "from joblib import Parallel, delayed\n",
    "\n",
    "import platform\n",
    "OS = platform.system()\n",
    "\n",
    "import matplotlib.pyplot as plt\n",
    "if OS == 'Linux':    \n",
    "    %matplotlib tk\n",
    "    print('Linux')\n",
    "elif OS == 'Windows': \n",
    "    %matplotlib qt\n",
    "    print('Windows')\n",
    "else:\n",
    "    print('OS not detected :-|')\n",
    "\n",
    "\n",
    "from class_SEIR2 import SEIR\n",
    "from Quarantine import Quarantine\n",
    "from Quarantine import Exams"
   ]
  },
  {
   "cell_type": "markdown",
   "metadata": {},
   "source": [
    "## Epidemiological Parameters\n",
    "* **beta:** Infection rate\n",
    "* **mu:** Initial exposed obtained from the initial infected mu=E0/I0\n",
    "* **Scale Factor:** Proportion of real infected compared to reported ones (1: all the infecteds are reported)\n",
    "* **Sero Prevalence Factor:** Adjust the proportion of the population that enters the virus dynamics\n",
    "* **Exposed Infection:** rate compared to the infected (0 the don't infect, 1 the infect in the same rate as the infected )"
   ]
  },
  {
   "cell_type": "markdown",
   "metadata": {},
   "source": [
    "## Simulation Parameters"
   ]
  },
  {
   "cell_type": "code",
   "execution_count": null,
   "metadata": {},
   "outputs": [],
   "source": [
    "beta = 0.2 # Contagion rate\n",
    "mu = 1.5 # E0/I0 initial rate\n",
    "SeroPrevalence = 1\n",
    "expinfection = 0\n",
    "\n",
    "# Simulation time\n",
    "tsim = 500\n",
    "# Population\n",
    "population = 1000000\n",
    "# Initial Active Infected \n",
    "I0 = 100\n",
    "\n",
    "I_ac0 = 100\n",
    "# Kinetic Saturation: 0 for mass action mixing\n",
    "k_I=0\n",
    "# Immunity Shield\n",
    "k_R=0"
   ]
  },
  {
   "cell_type": "markdown",
   "metadata": {},
   "source": [
    "### Quarantines\n",
    "\n",
    "Quarantine object constructor:\n",
    " \n",
    " \n",
    " ```Quarantine(rem_mov,max_mov=0.85,qp=0,iqt=0,fqt=1000,movfunct = 'once')```\n",
    " \n",
    " * rem_mov: Remanent mobility during Quarantine\n",
    " * max_mov: Mobility during non quarantine periods\n",
    " * qp: Quarantine period (for dynamic quarantines)\n",
    " * iqt: Initial quarantine time\n",
    " * fqt: Final quarantine time\n",
    " * movfunct: Mobility function \n",
    "\n",
    "Mobility function types:\n",
    " * once: Total quarantine between iqt and fqt\n",
    " * square: Periodic quaratine with qp period"
   ]
  },
  {
   "cell_type": "code",
   "execution_count": null,
   "metadata": {},
   "outputs": [],
   "source": [
    "s1 = Quarantine(1)"
   ]
  },
  {
   "cell_type": "markdown",
   "metadata": {},
   "source": [
    "# Exams vs no Exams dynamics"
   ]
  },
  {
   "cell_type": "code",
   "execution_count": null,
   "metadata": {},
   "outputs": [],
   "source": [
    "examrate = 20000 # Persons per day\n",
    "period = 1\n",
    "duty = 0.5 \n",
    "psi = Exams(examrate,period,duty) # "
   ]
  },
  {
   "cell_type": "code",
   "execution_count": null,
   "metadata": {},
   "outputs": [],
   "source": [
    "# test\n",
    "time = np.arange(0,30,0.1)\n",
    "exams = [psi(t) for t in time]\n",
    "plt.plot(time,exams)"
   ]
  },
  {
   "cell_type": "markdown",
   "metadata": {},
   "source": [
    "## Create simulation Object"
   ]
  },
  {
   "cell_type": "code",
   "execution_count": null,
   "metadata": {},
   "outputs": [],
   "source": [
    "simulation = SEIR(tsim=tsim,alpha=s1.alpha,psi = psi,beta=beta,mu=mu,k_I=k_I,k_R=k_R,I0=I0,population=population,expinfection=0,SeroPrevFactor=1)\n",
    "# No exams dynamic for reference:\n",
    "simulation_reference =  SEIR(tsim=tsim,alpha=s1.alpha,psi = 0,beta=beta,mu=mu,k_I=k_I,k_R=k_R,I0=I0,population=population,expinfection=0,SeroPrevFactor=1)"
   ]
  },
  {
   "cell_type": "markdown",
   "metadata": {},
   "source": [
    "## Simulate\n"
   ]
  },
  {
   "cell_type": "code",
   "execution_count": null,
   "metadata": {},
   "outputs": [],
   "source": [
    "simulation.integr_sci(0,tsim,0.01)\n",
    "simulation_reference.integr_sci(0,tsim,0.01)\n",
    "print('simulation finished')"
   ]
  },
  {
   "cell_type": "markdown",
   "metadata": {},
   "source": [
    "# Simulation Analysis"
   ]
  },
  {
   "cell_type": "markdown",
   "metadata": {},
   "source": [
    "### SEIR Plot with Active infected"
   ]
  },
  {
   "cell_type": "code",
   "execution_count": 8,
   "metadata": {},
   "outputs": [],
   "source": [
    "plt.plot(simulation.t,simulation.S,label='S',color = 'blue')\n",
    "plt.plot(simulation.t,simulation.E,label='E',color = 'cyan')\n",
    "plt.plot(simulation.t,simulation.I,label='I',color = 'red')\n",
    "plt.plot(simulation.t,simulation.R,label='R',color = 'green')\n",
    "plt.plot(simulation_reference.t,simulation_reference.S,label='S - No exams',color = 'blue',linestyle='dashed')\n",
    "plt.plot(simulation_reference.t,simulation_reference.E,label='E - No exams',color = 'cyan',linestyle='dashed')\n",
    "plt.plot(simulation_reference.t,simulation_reference.I,label='I - No exams',color = 'red',linestyle='dashed')\n",
    "plt.plot(simulation_reference.t,simulation_reference.R,label='R - No exams',color = 'green',linestyle='dashed')\n",
    "\n",
    "plt.title('Epidemiological Plot')\n",
    "plt.legend(loc=0)\n",
    "plt.show()"
   ]
  },
  {
   "cell_type": "markdown",
   "metadata": {},
   "source": [
    "### Plot Accumulated Infected"
   ]
  },
  {
   "cell_type": "code",
   "execution_count": 9,
   "metadata": {},
   "outputs": [],
   "source": [
    "plt.plot(simulation.t,simulation.I_ac,label='I_ac with exams')\n",
    "plt.plot(simulation_reference.t,simulation_reference.I_ac,label='I_ac No Exams', linestyle='dashed')\n",
    "plt.title('Accumulated Infected')\n",
    "plt.legend(loc=0)\n",
    "plt.show()"
   ]
  },
  {
   "cell_type": "markdown",
   "metadata": {},
   "source": [
    "### Plot New Daily Infected"
   ]
  },
  {
   "cell_type": "code",
   "execution_count": 10,
   "metadata": {},
   "outputs": [],
   "source": [
    "plt.plot(simulation.t,simulation.I_d,label='I_d with exams')\n",
    "plt.plot(simulation_reference.t,simulation_reference.I_d,label='I_d no exams', linestyle='dashed')\n",
    "plt.title('New Daily Infected')\n",
    "plt.legend(loc=0)\n",
    "plt.show()"
   ]
  },
  {
   "cell_type": "markdown",
   "metadata": {},
   "source": [
    "### Amount of exams"
   ]
  },
  {
   "cell_type": "code",
   "execution_count": 11,
   "metadata": {},
   "outputs": [],
   "source": [
    "plt.plot(simulation.t,simulation.e,label='Exams')\n",
    "plt.plot(simulation_reference.t,simulation_reference.I_d,label='Exams',color = 'red')\n",
    "plt.title('Amount of exams performed')\n",
    "plt.legend(loc=0)\n",
    "plt.show()"
   ]
  },
  {
   "cell_type": "code",
   "execution_count": 12,
   "metadata": {},
   "outputs": [
    {
     "name": "stdout",
     "output_type": "stream",
     "text": [
      "Monthly Cost: 1500000.0 USD\n"
     ]
    }
   ],
   "source": [
    "cost = 5\n",
    "monthlycost = examrate*cost*30*duty\n",
    "print('Monthly Cost: '+str(monthlycost)+' USD')"
   ]
  },
  {
   "cell_type": "markdown",
   "metadata": {},
   "source": [
    "# Examination Strategies"
   ]
  },
  {
   "cell_type": "code",
   "execution_count": 13,
   "metadata": {},
   "outputs": [],
   "source": [
    "examrate = [1000,5000,10000,20000,50000] # Persons per day\n",
    "period = [1,2,5,10,15,30]\n",
    "duty = 0.5\n",
    "psi = [[Exams(i,j,duty) for j in period] for i in examrate] "
   ]
  },
  {
   "cell_type": "markdown",
   "metadata": {},
   "source": [
    "### Plot Exam campaings"
   ]
  },
  {
   "cell_type": "code",
   "execution_count": 28,
   "metadata": {},
   "outputs": [],
   "source": [
    "time = np.arange(0,100,0.1)\n",
    "exams = [[[psi[i][j](t) for t in time] for j in range(len(period))] for i in range(len(examrate))]"
   ]
  },
  {
   "cell_type": "code",
   "execution_count": 29,
   "metadata": {},
   "outputs": [],
   "source": [
    "n = 3\n",
    "time = np.arange(0,100,0.1)\n",
    "exams = [[[psi[i][j](t) for t in time] for j in range(len(period))] for i in range(len(examrate))]\n",
    "#plt.plot(time,exams[i][j])\n",
    "\n",
    "fig, axs = plt.subplots(len(examrate), len(period))\n",
    "for i in range(len(examrate)):\n",
    "    for j in range(len(period)):\n",
    "        axs[i,j].plot(time,exams[i][j],label='Examination Rate:'+str(examrate[i])+' Period: '+str(period[j]))\n",
    "        axs[i,j].legend(loc=0)\n",
    "    #axs[int(i/n),i%n].set_title('Exam Rate: '+str(examrate[i]))"
   ]
  },
  {
   "cell_type": "markdown",
   "metadata": {},
   "source": [
    "## Simulate"
   ]
  },
  {
   "cell_type": "code",
   "execution_count": 14,
   "metadata": {},
   "outputs": [],
   "source": [
    "# For parallel simulation\n",
    "def simulate(simulation,j,tsim):\n",
    "    simulation[j].integr_sci(0,tsim,0.1)\n",
    "    return simulation[j]"
   ]
  },
  {
   "cell_type": "code",
   "execution_count": 18,
   "metadata": {},
   "outputs": [],
   "source": [
    "# Define Simulations\n",
    "sims = []\n",
    "for i in range(len(examrate)):\n",
    "    aux = []\n",
    "    for j in range(len(period)):\n",
    "        aux.append(SEIR(tsim=tsim,alpha=s1.alpha,psi = psi[i][j],beta=beta,mu=mu,k_I=k_I,k_R=k_R,I0=I0,population=population,expinfection=0,SeroPrevFactor=1))\n",
    "    sims.append(aux)"
   ]
  },
  {
   "cell_type": "markdown",
   "metadata": {},
   "source": [
    "### Run simulation\n",
    "Using parallel threads"
   ]
  },
  {
   "cell_type": "code",
   "execution_count": 19,
   "metadata": {},
   "outputs": [
    {
     "name": "stdout",
     "output_type": "stream",
     "text": [
      "[Parallel(n_jobs=12)]: Using backend LokyBackend with 12 concurrent workers.\n",
      "[Parallel(n_jobs=12)]: Done   1 tasks      | elapsed:    1.6s\n",
      "[Parallel(n_jobs=12)]: Done   2 out of   6 | elapsed:    1.7s remaining:    3.4s\n",
      "[Parallel(n_jobs=12)]: Done   3 out of   6 | elapsed:    1.9s remaining:    1.9s\n",
      "[Parallel(n_jobs=12)]: Done   4 out of   6 | elapsed:    2.2s remaining:    1.1s\n",
      "[Parallel(n_jobs=12)]: Done   6 out of   6 | elapsed:    2.6s remaining:    0.0s\n",
      "[Parallel(n_jobs=12)]: Done   6 out of   6 | elapsed:    2.6s finished\n",
      "[Parallel(n_jobs=12)]: Using backend LokyBackend with 12 concurrent workers.\n",
      "[Parallel(n_jobs=12)]: Done   1 tasks      | elapsed:    1.3s\n",
      "[Parallel(n_jobs=12)]: Done   2 out of   6 | elapsed:    1.5s remaining:    3.0s\n",
      "[Parallel(n_jobs=12)]: Done   3 out of   6 | elapsed:    1.6s remaining:    1.6s\n",
      "[Parallel(n_jobs=12)]: Done   4 out of   6 | elapsed:    1.7s remaining:    0.8s\n",
      "[Parallel(n_jobs=12)]: Done   6 out of   6 | elapsed:    2.2s remaining:    0.0s\n",
      "[Parallel(n_jobs=12)]: Done   6 out of   6 | elapsed:    2.2s finished\n",
      "[Parallel(n_jobs=12)]: Using backend LokyBackend with 12 concurrent workers.\n",
      "[Parallel(n_jobs=12)]: Done   1 tasks      | elapsed:    0.5s\n",
      "[Parallel(n_jobs=12)]: Done   2 out of   6 | elapsed:    0.6s remaining:    1.3s\n",
      "[Parallel(n_jobs=12)]: Done   3 out of   6 | elapsed:    0.8s remaining:    0.8s\n",
      "[Parallel(n_jobs=12)]: Done   4 out of   6 | elapsed:    1.3s remaining:    0.6s\n",
      "[Parallel(n_jobs=12)]: Done   6 out of   6 | elapsed:    1.3s remaining:    0.0s\n",
      "[Parallel(n_jobs=12)]: Done   6 out of   6 | elapsed:    1.3s finished\n",
      "[Parallel(n_jobs=12)]: Using backend LokyBackend with 12 concurrent workers.\n",
      "[Parallel(n_jobs=12)]: Done   1 tasks      | elapsed:    0.5s\n",
      "[Parallel(n_jobs=12)]: Done   2 out of   6 | elapsed:    0.6s remaining:    1.2s\n",
      "[Parallel(n_jobs=12)]: Done   3 out of   6 | elapsed:    0.8s remaining:    0.8s\n",
      "[Parallel(n_jobs=12)]: Done   4 out of   6 | elapsed:    1.2s remaining:    0.6s\n",
      "[Parallel(n_jobs=12)]: Done   6 out of   6 | elapsed:    1.7s remaining:    0.0s\n",
      "[Parallel(n_jobs=12)]: Done   6 out of   6 | elapsed:    1.7s finished\n",
      "[Parallel(n_jobs=12)]: Using backend LokyBackend with 12 concurrent workers.\n",
      "[Parallel(n_jobs=12)]: Done   1 tasks      | elapsed:    0.6s\n",
      "[Parallel(n_jobs=12)]: Done   2 out of   6 | elapsed:    0.6s remaining:    1.3s\n",
      "[Parallel(n_jobs=12)]: Done   3 out of   6 | elapsed:    0.9s remaining:    0.9s\n",
      "[Parallel(n_jobs=12)]: Done   4 out of   6 | elapsed:    1.2s remaining:    0.6s\n",
      "[Parallel(n_jobs=12)]: Done   6 out of   6 | elapsed:    2.1s remaining:    0.0s\n",
      "[Parallel(n_jobs=12)]: Done   6 out of   6 | elapsed:    2.1s finished\n",
      "ready\n"
     ]
    }
   ],
   "source": [
    "# Run simulation\n",
    "num_cores = multiprocessing.cpu_count()\n",
    "simulation = []\n",
    "for i in range(len(examrate)):\n",
    "    simulation.append(Parallel(n_jobs=num_cores, verbose=50)(delayed(simulate)(sims[i],j,tsim) for j in range(len(sims[i]))))\n",
    "\n",
    "print('ready')"
   ]
  },
  {
   "cell_type": "markdown",
   "metadata": {},
   "source": [
    "# Analysis\n",
    "## Period analysis over a single amount of exam rate"
   ]
  },
  {
   "cell_type": "code",
   "execution_count": 20,
   "metadata": {},
   "outputs": [],
   "source": [
    "j = -1"
   ]
  },
  {
   "cell_type": "code",
   "execution_count": 21,
   "metadata": {},
   "outputs": [],
   "source": [
    "plt.plot(simulation_reference.t,simulation_reference.I_d,label='No exams',color = 'black',linestyle='dashed')\n",
    "for i in range(len(period)):\n",
    "    plt.plot(simulation[j][i].t,simulation[j][i].I_d,label='Examination Period: '+str(period[i]))\n",
    "plt.legend(loc=0)\n",
    "plt.title('New Daily Infected | '+str(examrate[j])+' exams/day')\n",
    "plt.show()"
   ]
  },
  {
   "cell_type": "markdown",
   "metadata": {},
   "source": [
    "## Amount of exams over a single period"
   ]
  },
  {
   "cell_type": "code",
   "execution_count": 22,
   "metadata": {},
   "outputs": [],
   "source": [
    "j = 3 "
   ]
  },
  {
   "cell_type": "code",
   "execution_count": 24,
   "metadata": {},
   "outputs": [],
   "source": [
    "plt.plot(simulation_reference.t,simulation_reference.I_d,label='I_d No exams',color = 'black',linestyle='dashed')\n",
    "for i in range(len(examrate)):\n",
    "    plt.plot(simulation[i][3].t,simulation[i][3].I_d,label='Exams per day: '+str(examrate[i]))\n",
    "plt.legend(loc=0)\n",
    "plt.title('New Daily Infected | Campaing periods: '+str(period[j]))\n",
    "plt.show()"
   ]
  },
  {
   "cell_type": "markdown",
   "metadata": {},
   "source": [
    "## Gridplot"
   ]
  },
  {
   "cell_type": "code",
   "execution_count": 27,
   "metadata": {},
   "outputs": [],
   "source": [
    "colors = plt.cm.rainbow_r(np.linspace(0,1,len(period)))\n",
    "n = 3\n",
    "fig, axs = plt.subplots(int(len(examrate)/n)+1, n)\n",
    "for i in range(len(examrate)):\n",
    "    axs[int(i/n),i%n].plot(simulation_reference.t,simulation_reference.I_d,label='I_d No exams',color = 'black',linestyle='dashed')\n",
    "    for j in range(len(period)):\n",
    "        axs[int(i/n),i%n].plot(simulation[i][j].t,simulation[i][j].I_d,label='Examination Period: '+str(period[j]))\n",
    "        axs[int(i/n),i%n].legend(loc=0)\n",
    "    axs[int(i/n),i%n].set_title('Exam Rate: '+str(examrate[i]))\n"
   ]
  },
  {
   "cell_type": "code",
   "execution_count": 31,
   "metadata": {},
   "outputs": [],
   "source": [
    "colors = plt.cm.rainbow_r(np.linspace(0,1,len(examrate)))\n",
    "n = 3\n",
    "fig, axs = plt.subplots(int(len(period)/n), n)\n",
    "for j in range(len(period)):\n",
    "    axs[int(j/n),j%n].plot(simulation_reference.t,simulation_reference.I_d,label='I_d No exams',color = 'black',linestyle='dashed')\n",
    "    for i in range(len(examrate)):\n",
    "        axs[int(j/n),j%n].plot(simulation[i][j].t,simulation[i][j].I_d,label='Examination Period: '+str(period[j]))\n",
    "        axs[int(j/n),j%n].legend(loc=0)\n",
    "    axs[int(j/n),j%n].set_title('Period: '+str(period[j]))\n"
   ]
  },
  {
   "cell_type": "markdown",
   "metadata": {},
   "source": [
    "# Examrate vs duty"
   ]
  },
  {
   "cell_type": "code",
   "execution_count": 32,
   "metadata": {},
   "outputs": [],
   "source": [
    "examrate = [1000,5000,10000,20000,50000] # Persons per day\n",
    "period = 30\n",
    "duty = [0.1,0.25,0.5,0.75,1]\n",
    "psi = [[Exams(i,period,j) for j in duty] for i in examrate] "
   ]
  },
  {
   "cell_type": "code",
   "execution_count": 37,
   "metadata": {},
   "outputs": [],
   "source": [
    "# Define Simulations\n",
    "sims = []\n",
    "for i in range(len(examrate)):\n",
    "    aux = []\n",
    "    for j in range(len(duty)):\n",
    "        aux.append(SEIR(tsim=tsim,alpha=s1.alpha,psi = psi[i][j],beta=beta,mu=mu,k_I=k_I,k_R=k_R,I0=I0,population=population,expinfection=0,SeroPrevFactor=1))\n",
    "    sims.append(aux)"
   ]
  },
  {
   "cell_type": "code",
   "execution_count": 38,
   "metadata": {},
   "outputs": [
    {
     "name": "stdout",
     "output_type": "stream",
     "text": [
      "[Parallel(n_jobs=12)]: Using backend LokyBackend with 12 concurrent workers.\n",
      "[Parallel(n_jobs=12)]: Done   1 tasks      | elapsed:    0.1s\n",
      "[Parallel(n_jobs=12)]: Batch computation too fast (0.1205s.) Setting batch_size=2.\n",
      "[Parallel(n_jobs=12)]: Done   2 out of   5 | elapsed:    0.4s remaining:    0.5s\n",
      "[Parallel(n_jobs=12)]: Done   3 out of   5 | elapsed:    0.4s remaining:    0.3s\n",
      "[Parallel(n_jobs=12)]: Done   5 out of   5 | elapsed:    0.5s remaining:    0.0s\n",
      "[Parallel(n_jobs=12)]: Done   5 out of   5 | elapsed:    0.5s finished\n",
      "[Parallel(n_jobs=12)]: Using backend LokyBackend with 12 concurrent workers.\n",
      "[Parallel(n_jobs=12)]: Done   1 tasks      | elapsed:    0.1s\n",
      "[Parallel(n_jobs=12)]: Batch computation too fast (0.0758s.) Setting batch_size=2.\n",
      "[Parallel(n_jobs=12)]: Done   2 out of   5 | elapsed:    0.3s remaining:    0.5s\n",
      "[Parallel(n_jobs=12)]: Done   3 out of   5 | elapsed:    0.4s remaining:    0.2s\n",
      "[Parallel(n_jobs=12)]: Done   5 out of   5 | elapsed:    0.4s remaining:    0.0s\n",
      "[Parallel(n_jobs=12)]: Done   5 out of   5 | elapsed:    0.4s finished\n",
      "[Parallel(n_jobs=12)]: Using backend LokyBackend with 12 concurrent workers.\n",
      "[Parallel(n_jobs=12)]: Done   1 tasks      | elapsed:    0.1s\n",
      "[Parallel(n_jobs=12)]: Batch computation too fast (0.0832s.) Setting batch_size=2.\n",
      "[Parallel(n_jobs=12)]: Done   2 out of   5 | elapsed:    0.4s remaining:    0.6s\n",
      "[Parallel(n_jobs=12)]: Done   3 out of   5 | elapsed:    0.4s remaining:    0.3s\n",
      "[Parallel(n_jobs=12)]: Done   5 out of   5 | elapsed:    0.4s remaining:    0.0s\n",
      "[Parallel(n_jobs=12)]: Done   5 out of   5 | elapsed:    0.4s finished\n",
      "[Parallel(n_jobs=12)]: Using backend LokyBackend with 12 concurrent workers.\n",
      "[Parallel(n_jobs=12)]: Done   1 tasks      | elapsed:    0.1s\n",
      "[Parallel(n_jobs=12)]: Batch computation too fast (0.0766s.) Setting batch_size=2.\n",
      "[Parallel(n_jobs=12)]: Done   2 out of   5 | elapsed:    0.4s remaining:    0.6s\n",
      "[Parallel(n_jobs=12)]: Done   3 out of   5 | elapsed:    0.4s remaining:    0.3s\n",
      "[Parallel(n_jobs=12)]: Done   5 out of   5 | elapsed:    0.5s remaining:    0.0s\n",
      "[Parallel(n_jobs=12)]: Done   5 out of   5 | elapsed:    0.5s finished\n",
      "[Parallel(n_jobs=12)]: Using backend LokyBackend with 12 concurrent workers.\n",
      "[Parallel(n_jobs=12)]: Done   1 tasks      | elapsed:    0.1s\n",
      "[Parallel(n_jobs=12)]: Batch computation too fast (0.0596s.) Setting batch_size=2.\n",
      "[Parallel(n_jobs=12)]: Done   2 out of   5 | elapsed:    0.5s remaining:    0.7s\n",
      "[Parallel(n_jobs=12)]: Done   3 out of   5 | elapsed:    0.5s remaining:    0.3s\n",
      "[Parallel(n_jobs=12)]: Done   5 out of   5 | elapsed:    0.5s remaining:    0.0s\n",
      "[Parallel(n_jobs=12)]: Done   5 out of   5 | elapsed:    0.5s finished\n",
      "ready\n"
     ]
    }
   ],
   "source": [
    "# Run simulation\n",
    "num_cores = multiprocessing.cpu_count()\n",
    "simulation = []\n",
    "for i in range(len(examrate)):\n",
    "    simulation.append(Parallel(n_jobs=num_cores, verbose=50)(delayed(simulate)(sims[i],j,tsim) for j in range(len(sims[i]))))\n",
    "\n",
    "print('ready')"
   ]
  },
  {
   "cell_type": "code",
   "execution_count": 39,
   "metadata": {},
   "outputs": [],
   "source": [
    "colors = plt.cm.rainbow_r(np.linspace(0,1,len(duty)))\n",
    "n = 3\n",
    "fig, axs = plt.subplots(int(len(examrate)/n)+1, n)\n",
    "for i in range(len(examrate)):\n",
    "    axs[int(i/n),i%n].plot(simulation_reference.t,simulation_reference.I_d,label='I_d No exams',color = 'black',linestyle='dashed')\n",
    "    for j in range(len(duty)):\n",
    "        axs[int(i/n),i%n].plot(simulation[i][j].t,simulation[i][j].I_d,label='Examination duty: '+str(duty[j]))\n",
    "        axs[int(i/n),i%n].legend(loc=0)\n",
    "    axs[int(i/n),i%n].set_title('Exam Rate: '+str(examrate[i]))\n"
   ]
  },
  {
   "cell_type": "markdown",
   "metadata": {},
   "source": [
    "# To Do \n",
    "## Sensitivity Analysis\n",
    "## Add a new metric to study how the exams campaigns reduce the contagion rate.\n",
    "Something like effective beta / Exams rate"
   ]
  },
  {
   "cell_type": "code",
   "execution_count": null,
   "metadata": {},
   "outputs": [],
   "source": []
  }
 ],
 "metadata": {
  "kernelspec": {
   "display_name": "Python 3",
   "language": "python",
   "name": "python3"
  },
  "language_info": {
   "codemirror_mode": {
    "name": "ipython",
    "version": 3
   },
   "file_extension": ".py",
   "mimetype": "text/x-python",
   "name": "python",
   "nbconvert_exporter": "python",
   "pygments_lexer": "ipython3",
   "version": "3.8.5"
  }
 },
 "nbformat": 4,
 "nbformat_minor": 4
}
