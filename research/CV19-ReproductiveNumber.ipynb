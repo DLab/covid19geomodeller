{
 "cells": [
  {
   "cell_type": "markdown",
   "metadata": {},
   "source": [
    "# CV19SIM: EPIcSuite simulator interface\n",
    "\n",
    "Perdón la pobresa, work in progress. Será enriquecido "
   ]
  },
  {
   "cell_type": "code",
   "execution_count": 20,
   "metadata": {},
   "outputs": [],
   "source": [
    "import numpy as np\n",
    "import pandas as pd\n",
    "import toml\n",
    "import matplotlib.pyplot as plt\n",
    "import time\n",
    "from datetime import datetime\n",
    "import matplotlib.dates as mdates\n",
    "from matplotlib.ticker import MaxNLocator\n",
    "\n",
    "import epyestim\n",
    "import epyestim.covid19 as covid19\n",
    "from epyestim.distributions import discretise_gamma\n",
    "from datetime import timedelta"
   ]
  },
  {
   "cell_type": "code",
   "execution_count": 21,
   "metadata": {},
   "outputs": [],
   "source": [
    "# rpy2 imports\n",
    "from rpy2.robjects.packages import importr\n",
    "from rpy2.robjects import pandas2ri\n",
    "import rpy2.robjects as robjects\n",
    "pandas2ri.activate()\n",
    "# R library\n",
    "global eps\n",
    "eps = importr(\"EpiEstim\")"
   ]
  },
  {
   "cell_type": "code",
   "execution_count": 22,
   "metadata": {},
   "outputs": [],
   "source": [
    "#Pop-up plots\n",
    "import platform\n",
    "OS = platform.system()\n",
    "if OS == 'Linux' or OS == 'Darwin':\n",
    "    %matplotlib tk    \n",
    "elif OS == 'Windows':\n",
    "    %matplotlib qt    \n",
    "import sys\n",
    "from pathlib import Path\n",
    "sys.path.insert(1, '../')"
   ]
  },
  {
   "cell_type": "code",
   "execution_count": 4,
   "metadata": {},
   "outputs": [
    {
     "name": "stdout",
     "output_type": "stream",
     "text": [
      "/home/samuel/covid19geomodeller\n"
     ]
    }
   ],
   "source": [
    "cd .."
   ]
  },
  {
   "cell_type": "code",
   "execution_count": 5,
   "metadata": {},
   "outputs": [],
   "source": [
    "from src2.models.cv19sim import cv19sim"
   ]
  },
  {
   "cell_type": "markdown",
   "metadata": {},
   "source": [
    "# Funciones para cálculo de R"
   ]
  },
  {
   "cell_type": "code",
   "execution_count": 6,
   "metadata": {},
   "outputs": [],
   "source": [
    "# Analitico para simulación\n",
    "def R_analytic(sim):\n",
    "    t = np.array(sim.t)\n",
    "    beta = np.array([sim.beta(j) for j in t])\n",
    "    S = np.array(sim.S)\n",
    "    tI_R = np.array([sim.tI_R(j) for j in t])\n",
    "    N = sim.N\n",
    "    return beta*S*tI_R/N"
   ]
  },
  {
   "cell_type": "code",
   "execution_count": 7,
   "metadata": {},
   "outputs": [],
   "source": [
    "# Felipe\n",
    "def R_effective(smoothed, window):\n",
    "    df = pd.DataFrame({\"dates\": smoothed.index.tolist(), \"cases\": smoothed.values})\n",
    "    rdf = pandas2ri.py2ri(df)\n",
    "    r = robjects.r\n",
    "    window = window  # always 5, test\n",
    "    start = r.seq(2, df.values.shape[0]-window)\n",
    "    end = r.seq( 2+ window,df.values.shape[0])\n",
    "    results = eps.estimate_R(rdf[1], method=\"parametric_si\", config = \n",
    "                              eps.make_config(t_start = start,\n",
    "                               t_end = end,\n",
    "                               mean_si = 4.03,\n",
    "                               std_si = np.sqrt(6.5/(0.62**2))))\n",
    "    results2 = dict(results.items())\n",
    "    rhat = pandas2ri.ri2py(results2[\"R\"])\n",
    "    rhat.index = smoothed.index[2+window-1:]\n",
    "    return rhat"
   ]
  },
  {
   "cell_type": "code",
   "execution_count": 8,
   "metadata": {},
   "outputs": [],
   "source": [
    "# Felipe\n",
    "def R_effectivegamma(smoothed, window):\n",
    "    df = pd.DataFrame({\"dates\": smoothed.index.tolist(), \"cases\": smoothed.values})\n",
    "    rdf = pandas2ri.py2ri(df)\n",
    "    r = robjects.r\n",
    "    window = window  # always 5, test\n",
    "    start = r.seq(2, df.values.shape[0]-window)\n",
    "    end = r.seq( 2+ window,df.values.shape[0])\n",
    "    results = eps.estimate_R(rdf[1], method=\"parametric_si\", config = \n",
    "                              eps.make_config(si_parametric_distr = \"L\",t_start = start,\n",
    "                               t_end = end,\n",
    "                               mean_si = 5,\n",
    "                               std_si = 2))\n",
    "    results2 = dict(results.items())\n",
    "    rhat = pandas2ri.ri2py(results2[\"R\"])\n",
    "    rhat.index = smoothed.index[2+window-1:]\n",
    "    return rhat"
   ]
  },
  {
   "cell_type": "markdown",
   "metadata": {},
   "source": [
    "## Generación de datos sintéticos"
   ]
  },
  {
   "cell_type": "code",
   "execution_count": 9,
   "metadata": {},
   "outputs": [],
   "source": [
    "cfgfile = 'config_files/SEIR.toml'\n",
    "cfg = toml.load(cfgfile) # no es necesario, pero es util para ver el archivo de configuracion"
   ]
  },
  {
   "cell_type": "markdown",
   "metadata": {},
   "source": [
    "### Creación objeto de multisimulación"
   ]
  },
  {
   "cell_type": "code",
   "execution_count": 10,
   "metadata": {},
   "outputs": [],
   "source": [
    "beta = 0.5\n",
    "#beta = '{\"function\":\"Events\",\"values\":[0.3,0.3,0.3],\"days\":[[0,135],[135,190],[190,500]]}'\n",
    "tI_R = 3\n",
    "tE_I = 3\n",
    "population = 100000\n",
    "I = 100\n",
    "I_d = 20\n",
    "R = 0\n",
    "mu = 1.5"
   ]
  },
  {
   "cell_type": "code",
   "execution_count": 11,
   "metadata": {},
   "outputs": [],
   "source": [
    "sims = cv19sim(cfg,beta=beta,tI_R=tI_R,tE_I=tE_I,R=R,population=population,I_det=I, I_d_det =I_d,mu=mu,t_end=500)"
   ]
  },
  {
   "cell_type": "code",
   "execution_count": 12,
   "metadata": {},
   "outputs": [],
   "source": [
    "# Resolver EDOS\n",
    "sims.integrate()"
   ]
  },
  {
   "cell_type": "code",
   "execution_count": 13,
   "metadata": {},
   "outputs": [],
   "source": [
    "sim = sims.sims[0]"
   ]
  },
  {
   "cell_type": "code",
   "execution_count": 14,
   "metadata": {},
   "outputs": [
    {
     "data": {
      "text/plain": [
       "<matplotlib.legend.Legend at 0x7f75cdefa910>"
      ]
     },
     "execution_count": 14,
     "metadata": {},
     "output_type": "execute_result"
    }
   ],
   "source": [
    "#plt.plot(sim.t,sim.S,label='S')\n",
    "#plt.plot(sim.t,sim.E,label='E')\n",
    "plt.plot(sim.t,sim.I_d,label='I')\n",
    "#plt.plot(sim.t,sim.R,label='R')\n",
    "plt.legend(loc=0)"
   ]
  },
  {
   "cell_type": "markdown",
   "metadata": {},
   "source": [
    "# Cálculo de R"
   ]
  },
  {
   "cell_type": "markdown",
   "metadata": {},
   "source": [
    "## 1. Solución Analítica\n",
    "$$\n",
    "  R_e(t) = \\beta(t)\\frac{S(t)}{N}t_{IR}\n",
    "$$"
   ]
  },
  {
   "cell_type": "code",
   "execution_count": 15,
   "metadata": {},
   "outputs": [],
   "source": [
    "initdate = datetime(2020,3,1)\n",
    "dates = [initdate+timedelta(days=int(j)) for j in sim.t]"
   ]
  },
  {
   "cell_type": "code",
   "execution_count": 16,
   "metadata": {},
   "outputs": [],
   "source": [
    "cases = pd.Series(data=sim.I_d,index=dates)\n",
    "cases_ac = pd.Series(data=sim.I_ac,index=dates)"
   ]
  },
  {
   "cell_type": "code",
   "execution_count": 17,
   "metadata": {},
   "outputs": [],
   "source": [
    "R_felipe95 = R_effective(cases,7)['Quantile.0.95(R)']\n",
    "R_felipe25 = R_effective(cases,7)['Quantile.0.25(R)']"
   ]
  },
  {
   "cell_type": "code",
   "execution_count": 18,
   "metadata": {},
   "outputs": [],
   "source": [
    "Ra = R_analytic(sim)\n",
    "R_felipe = R_effective(cases,7)['Mean(R)']\n",
    "R_felipegamma = R_effectivegamma(cases,7)['Mean(R)']\n",
    "R_epistim = covid19.r_covid(cases[:-200],delay_distribution=np.array([1]),n_samples=300)['R_mean']"
   ]
  },
  {
   "cell_type": "code",
   "execution_count": 19,
   "metadata": {},
   "outputs": [],
   "source": [
    "fig, axs2 = plt.subplots(figsize=(10,6),linewidth=5,edgecolor='black',facecolor=\"white\")\n",
    "\n",
    "axs2.set_ylabel('R',color='tab:red')\n",
    "axs2.plot(sim.t,Ra,color='tab:blue',label='Analytic')\n",
    "#axs2.plot(sim.t[:len(R_felipe25)],R_felipe95,alpha=0.5,color='tab:red',label='Felipestim',linestyle='dashed')\n",
    "#axs2.plot(sim.t[:len(R_felipe95)],R_felipe25,alpha=0.5,color='tab:red',label='Felipestim',linestyle='dashed')\n",
    "\n",
    "axs2.plot(sim.t[:len(R_felipe)],R_felipe,color='tab:red',label='Felipestim',linestyle='dashed')\n",
    "#axs2.plot(sim.t[:len(R_felipe)],R_felipegamma,color='tab:green',label='Felipestimgamma',linestyle='dashed')\n",
    "axs2.plot(sim.t[:len(R_epistim)],R_epistim,color='black',label='Epyestim',linestyle='dashed')\n",
    "axs2.tick_params(axis='y', labelcolor='tab:red')\n",
    "axs2.axhline(1,color='grey',linestyle='dotted')\n",
    "\n",
    "axs = axs2.twinx()\n",
    "axs.plot(sim.t,sim.I_d,color='tab:blue',label='Diarios',linestyle='solid')\n",
    "#axs.plot(sim.t,sim.I,color='tab:blue',label='Activos')\n",
    "axs.set_ylabel('Infectados',color='tab:blue')\n",
    "axs.tick_params(axis='y', labelcolor='tab:blue')\n",
    "\n",
    "#axs2.set_xlim(0,200)\n",
    "fig.suptitle('Infectados y R')\n",
    "axs.legend(loc=1)\n",
    "axs2.legend(loc=2)\n",
    "fig.show()\n"
   ]
  },
  {
   "cell_type": "code",
   "execution_count": null,
   "metadata": {},
   "outputs": [],
   "source": []
  },
  {
   "cell_type": "code",
   "execution_count": 18,
   "metadata": {},
   "outputs": [],
   "source": []
  },
  {
   "cell_type": "code",
   "execution_count": 88,
   "metadata": {},
   "outputs": [],
   "source": [
    "from epyestim.distributions import discretise_gamma"
   ]
  },
  {
   "cell_type": "code",
   "execution_count": null,
   "metadata": {},
   "outputs": [],
   "source": []
  }
 ],
 "metadata": {
  "kernelspec": {
   "display_name": "Python 3",
   "language": "python",
   "name": "python3"
  },
  "language_info": {
   "codemirror_mode": {
    "name": "ipython",
    "version": 3
   },
   "file_extension": ".py",
   "mimetype": "text/x-python",
   "name": "python",
   "nbconvert_exporter": "python",
   "pygments_lexer": "ipython3",
   "version": "3.8.3"
  }
 },
 "nbformat": 4,
 "nbformat_minor": 4
}
