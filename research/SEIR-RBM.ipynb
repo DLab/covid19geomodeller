{
 "cells": [
  {
   "cell_type": "markdown",
   "metadata": {},
   "source": [
    "# Compartimental Model Simulator\n",
    "\n",
    "**Created by:** Samuel Ropert  \n",
    "**Creation date:** 04/08/2020  \n",
    "**Institution:** Computational Biology Lab - Fundación Ciencia y Vida, Chile  \n",
    "\n",
    "## SEIR\n"
   ]
  },
  {
   "cell_type": "markdown",
   "metadata": {},
   "source": [
    "## Import Libraries"
   ]
  },
  {
   "cell_type": "code",
   "execution_count": null,
   "metadata": {},
   "outputs": [],
   "source": [
    "import sys\n",
    "from pathlib import Path\n",
    "sys.path.insert(1, '../src/SEIR/')\n",
    "sys.path.insert(1, '../src/utils/')\n",
    "\n",
    "from datetime import datetime\n",
    "import numpy as np\n",
    "from numpy import linalg as LA\n",
    "import pandas as pd\n",
    "from time import time\n",
    "\n",
    "import platform\n",
    "OS = platform.system()\n",
    "\n",
    "import matplotlib.pyplot as plt\n",
    "if OS == 'Linux':    \n",
    "    %matplotlib tk\n",
    "    print('Linux')\n",
    "elif OS == 'Windows':\n",
    "    %matplotlib qt\n",
    "    print('Windows')\n",
    "else:\n",
    "    print('OS not detected :-|')\n",
    "\n",
    "\n",
    "from class_SEIR2 import SEIR\n",
    "from Quarantine import Quarantine"
   ]
  },
  {
   "cell_type": "markdown",
   "metadata": {},
   "source": [
    "## Epidemiological Parameters\n",
    "* **beta:** Infection rate\n",
    "* **mu:** Initial exposed obtained from the initial infected mu=E0/I0\n",
    "* **Scale Factor:** Proportion of real infected compared to reported ones (1: all the infecteds are reported)\n",
    "* **Sero Prevalence Factor:** Adjust the proportion of the population that enters the virus dynamics\n",
    "* **Exposed Infection:** rate compared to the infected (0 the don't infect, 1 the infect in the same rate as the infected )"
   ]
  },
  {
   "cell_type": "markdown",
   "metadata": {},
   "source": [
    "## Simulation Parameters"
   ]
  },
  {
   "cell_type": "code",
   "execution_count": null,
   "metadata": {},
   "outputs": [],
   "source": [
    "beta = 0.2 # Contagion rate\n",
    "mu = 0 # E0/I0 initial rate\n",
    "sigma = 0.2\n",
    "gamma = 0.1\n",
    "\n",
    "# Simulation time\n",
    "tsim = 1000\n",
    "# Population\n",
    "population = 1000000\n",
    "# Initial Active Infected \n",
    "I0 = 100\n"
   ]
  },
  {
   "cell_type": "markdown",
   "metadata": {},
   "source": [
    "### Quarantines\n",
    "\n",
    "Quarantine object constructor:\n",
    " \n",
    " \n",
    " ```Quarantine(rem_mov,max_mov=0.85,qp=0,iqt=0,fqt=1000,movfunct = 'once')```\n",
    " \n",
    " * rem_mov: Remanent mobility during Quarantine\n",
    " * max_mov: Mobility during non quarantine periods\n",
    " * qp: Quarantine period (for dynamic quarantines)\n",
    " * iqt: Initial quarantine time\n",
    " * fqt: Final quarantine time\n",
    " * movfunct: Mobility function \n",
    "\n",
    "Mobility function types:\n",
    " * once: Total quarantine between iqt and fqt\n",
    " * square: Periodic quaratine with qp period"
   ]
  },
  {
   "cell_type": "code",
   "execution_count": null,
   "metadata": {},
   "outputs": [],
   "source": [
    "# No quarantine\n",
    "s1 = Quarantine(1)\n",
    "quarantine = s1.alpha"
   ]
  },
  {
   "cell_type": "markdown",
   "metadata": {},
   "source": [
    "## Create and run simulation"
   ]
  },
  {
   "cell_type": "code",
   "execution_count": null,
   "metadata": {},
   "outputs": [],
   "source": [
    "simulation = SEIR(tsim=tsim,alpha=quarantine,beta=beta,sigma=sigma,gamma=gamma,mu=mu,I0=I0,population=population,expinfection=0)\n",
    "simulation.integr_sci(0,tsim,0.01)"
   ]
  },
  {
   "cell_type": "markdown",
   "metadata": {},
   "source": [
    "# Simulation Analysis"
   ]
  },
  {
   "cell_type": "markdown",
   "metadata": {},
   "source": [
    "## Plots\n",
    "This libraries have predefined plot functions which plot the main epidemiological variables.\n",
    "Each function has the following optional arguments:\n",
    "* days [int] Number of days to display\n",
    "* showparams [bool] Display simulation parameters \n",
    "* ylim [int] Limit the vertical axis\n",
    "* norm [int/float] Normalize the results\n"
   ]
  },
  {
   "cell_type": "markdown",
   "metadata": {},
   "source": [
    "### SEIR Plot with Active infected"
   ]
  },
  {
   "cell_type": "code",
   "execution_count": null,
   "metadata": {},
   "outputs": [],
   "source": [
    "plt.plot(simulation.t,simulation.S,label='S',color = 'blue')\n",
    "plt.plot(simulation.t,simulation.E,label='E',color = 'cyan')\n",
    "plt.plot(simulation.t,simulation.I,label='I',color = 'red')\n",
    "plt.plot(simulation.t,simulation.R,label='R',color = 'green')\n",
    "plt.title('Epidemiological Plot')\n",
    "plt.legend(loc=0)\n",
    "plt.show()"
   ]
  },
  {
   "cell_type": "markdown",
   "metadata": {},
   "source": [
    "### Plot Active Infected"
   ]
  },
  {
   "cell_type": "code",
   "execution_count": null,
   "metadata": {},
   "outputs": [],
   "source": [
    "plt.plot(simulation.t,simulation.I,label='Active infected')\n",
    "plt.title('Active infected')\n",
    "plt.legend(loc=0)\n",
    "plt.show()"
   ]
  },
  {
   "cell_type": "markdown",
   "metadata": {},
   "source": [
    "### Plot Accumulated Infected"
   ]
  },
  {
   "cell_type": "code",
   "execution_count": null,
   "metadata": {},
   "outputs": [],
   "source": [
    "plt.plot(simulation.t,simulation.I_ac,label='Acc Infected')\n",
    "plt.title('Accumulated Infected')\n",
    "plt.legend(loc=0)\n",
    "plt.show()"
   ]
  },
  {
   "cell_type": "markdown",
   "metadata": {},
   "source": [
    "### Plot New Daily Infected"
   ]
  },
  {
   "cell_type": "code",
   "execution_count": null,
   "metadata": {},
   "outputs": [],
   "source": [
    "plt.plot(simulation.t,simulation.I_d)\n",
    "plt.title('New Daily Infected')\n",
    "#plt.legend(loc=0)\n",
    "plt.show()"
   ]
  },
  {
   "cell_type": "markdown",
   "metadata": {},
   "source": [
    "### Variables:\n",
    "The simulation object contains several methods and variables with its results. the following are the main epidemiological variables. Use them to compare with the RBM simulation"
   ]
  },
  {
   "cell_type": "code",
   "execution_count": null,
   "metadata": {},
   "outputs": [],
   "source": [
    "# Susceptibles\n",
    "simulation.S\n",
    "# Exposed\n",
    "simulation.E\n",
    "# Infected\n",
    "simulation.I\n",
    "# Recovered\n",
    "simulation.R"
   ]
  },
  {
   "cell_type": "markdown",
   "metadata": {},
   "source": [
    "## Peak Study"
   ]
  },
  {
   "cell_type": "code",
   "execution_count": null,
   "metadata": {},
   "outputs": [],
   "source": [
    "# Peak Value\n",
    "simulation.peak"
   ]
  },
  {
   "cell_type": "code",
   "execution_count": null,
   "metadata": {},
   "outputs": [],
   "source": [
    "# Peak day counted from the simulation beginning\n",
    "simulation.peak_t"
   ]
  }
 ],
 "metadata": {
  "kernelspec": {
   "display_name": "Python 3",
   "language": "python",
   "name": "python3"
  },
  "language_info": {
   "codemirror_mode": {
    "name": "ipython",
    "version": 3
   },
   "file_extension": ".py",
   "mimetype": "text/x-python",
   "name": "python",
   "nbconvert_exporter": "python",
   "pygments_lexer": "ipython3",
   "version": "3.8.5"
  }
 },
 "nbformat": 4,
 "nbformat_minor": 4
}
