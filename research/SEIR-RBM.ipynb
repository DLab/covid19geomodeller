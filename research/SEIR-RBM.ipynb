{
 "cells": [
  {
   "cell_type": "markdown",
   "metadata": {},
   "source": [
    "# Compartimental Model Simulator\n",
    "\n",
    "**Created by:** Samuel Ropert  \n",
    "**Creation date:** 04/08/2020  \n",
    "**Institution:** Computational Biology Lab - Fundación Ciencia y Vida, Chile  \n",
    "\n",
    "## SEIR\n"
   ]
  },
  {
   "cell_type": "markdown",
   "metadata": {},
   "source": [
    "## Import Libraries"
   ]
  },
  {
   "cell_type": "code",
   "execution_count": 4,
   "metadata": {},
   "outputs": [
    {
     "name": "stdout",
     "output_type": "stream",
     "text": [
      "Linux\n"
     ]
    }
   ],
   "source": [
    "import sys\n",
    "from pathlib import Path\n",
    "sys.path.insert(1, '../src/SEIR/')\n",
    "sys.path.insert(1, '../src/utils/')\n",
    "\n",
    "from datetime import datetime\n",
    "import numpy as np\n",
    "from numpy import linalg as LA\n",
    "import pandas as pd\n",
    "from time import time\n",
    "\n",
    "import platform\n",
    "OS = platform.system()\n",
    "\n",
    "import matplotlib.pyplot as plt\n",
    "if OS == 'Linux':    \n",
    "    %matplotlib tk\n",
    "    print('Linux')\n",
    "elif OS == 'Windows':\n",
    "    %matplotlib qt\n",
    "    print('Windows')\n",
    "else:\n",
    "    print('OS not detected :-|')\n",
    "\n",
    "\n",
    "from class_SEIR2 import SEIR\n",
    "from Quarantine import Quarantine"
   ]
  },
  {
   "cell_type": "markdown",
   "metadata": {},
   "source": [
    "## Epidemiological Parameters\n",
    "* **beta:** Infection rate\n",
    "* **mu:** Initial exposed obtained from the initial infected mu=E0/I0\n",
    "* **Scale Factor:** Proportion of real infected compared to reported ones (1: all the infecteds are reported)\n",
    "* **Sero Prevalence Factor:** Adjust the proportion of the population that enters the virus dynamics\n",
    "* **Exposed Infection:** rate compared to the infected (0 the don't infect, 1 the infect in the same rate as the infected )"
   ]
  },
  {
   "cell_type": "markdown",
   "metadata": {},
   "source": [
    "## Simulation Parameters"
   ]
  },
  {
   "cell_type": "code",
   "execution_count": 10,
   "metadata": {},
   "outputs": [],
   "source": [
    "beta = 0.2 # Contagion rate\n",
    "mu = 0 # E0/I0 initial rate\n",
    "sigma = 0.2\n",
    "gamma = 0.1\n",
    "\n",
    "# Simulation time\n",
    "tsim = 1000\n",
    "# Population\n",
    "population = 1000000\n",
    "# Initial Active Infected \n",
    "I0 = 100\n"
   ]
  },
  {
   "cell_type": "markdown",
   "metadata": {},
   "source": [
    "### Quarantines\n",
    "\n",
    "Quarantine object constructor:\n",
    " \n",
    " \n",
    " ```Quarantine(rem_mov,max_mov=0.85,qp=0,iqt=0,fqt=1000,movfunct = 'once')```\n",
    " \n",
    " * rem_mov: Remanent mobility during Quarantine\n",
    " * max_mov: Mobility during non quarantine periods\n",
    " * qp: Quarantine period (for dynamic quarantines)\n",
    " * iqt: Initial quarantine time\n",
    " * fqt: Final quarantine time\n",
    " * movfunct: Mobility function \n",
    "\n",
    "Mobility function types:\n",
    " * once: Total quarantine between iqt and fqt\n",
    " * square: Periodic quaratine with qp period"
   ]
  },
  {
   "cell_type": "code",
   "execution_count": 11,
   "metadata": {},
   "outputs": [],
   "source": [
    "# No quarantine\n",
    "s1 = Quarantine(1)\n",
    "quarantine = s1.alpha"
   ]
  },
  {
   "cell_type": "markdown",
   "metadata": {},
   "source": [
    "## Create and run simulation"
   ]
  },
  {
   "cell_type": "code",
   "execution_count": 13,
   "metadata": {},
   "outputs": [
    {
     "data": {
      "text/plain": [
       "  message: 'The solver successfully reached the end of the integration interval.'\n",
       "     nfev: 438\n",
       "     njev: 20\n",
       "      nlu: 20\n",
       "      sol: None\n",
       "   status: 0\n",
       "  success: True\n",
       "        t: array([0.00000000e+00, 1.12938488e-06, 2.25876976e-06, 5.24834164e-03,\n",
       "       1.04944245e-02, 1.57405074e-02, 6.82013361e-02, 1.20662165e-01,\n",
       "       1.73122993e-01, 2.25583822e-01, 4.81283820e-01, 7.36983818e-01,\n",
       "       9.92683816e-01, 1.24838381e+00, 1.50408381e+00, 1.95187971e+00,\n",
       "       2.39967561e+00, 2.84747151e+00, 3.29526742e+00, 3.74306332e+00,\n",
       "       4.28928719e+00, 4.83551106e+00, 5.38173493e+00, 5.92795880e+00,\n",
       "       6.44049137e+00, 6.95302393e+00, 7.46555650e+00, 7.78608423e+00,\n",
       "       8.10661196e+00, 8.42713969e+00, 9.91972409e+00, 1.14123085e+01,\n",
       "       1.29048929e+01, 1.42252730e+01, 1.55456531e+01, 1.68660332e+01,\n",
       "       1.74627691e+01, 1.80595051e+01, 1.86562410e+01, 1.92060451e+01,\n",
       "       1.97558492e+01, 2.03056533e+01, 2.15595301e+01, 2.28134070e+01,\n",
       "       2.40672839e+01, 2.87169311e+01, 2.98793428e+01, 3.10417546e+01,\n",
       "       3.22041664e+01, 3.45289900e+01, 3.68538136e+01, 3.91786371e+01,\n",
       "       4.15034607e+01, 4.56218532e+01, 4.97402457e+01, 5.38586382e+01,\n",
       "       5.79770306e+01, 6.20954231e+01, 6.78939721e+01, 7.36925210e+01,\n",
       "       7.94910699e+01, 8.52896189e+01, 9.10881678e+01, 9.68867168e+01,\n",
       "       1.02685266e+02, 1.08483815e+02, 1.14282364e+02, 1.20080913e+02,\n",
       "       1.25879461e+02, 1.31678010e+02, 1.37476559e+02, 1.43275108e+02,\n",
       "       1.49073657e+02, 1.54872206e+02, 1.60670755e+02, 1.65297785e+02,\n",
       "       1.69924815e+02, 1.74551845e+02, 1.79178875e+02, 1.83805905e+02,\n",
       "       1.88432936e+02, 1.93059966e+02, 1.97686996e+02, 2.02314026e+02,\n",
       "       2.06941056e+02, 2.11568086e+02, 2.16195116e+02, 2.20822146e+02,\n",
       "       2.25449176e+02, 2.30590774e+02, 2.35732372e+02, 2.40873970e+02,\n",
       "       2.46015568e+02, 2.51157166e+02, 2.57006334e+02, 2.62855503e+02,\n",
       "       2.68704672e+02, 2.74553840e+02, 2.75408750e+02, 2.76263661e+02,\n",
       "       2.77118571e+02, 2.77973481e+02, 2.78828391e+02, 2.80538211e+02,\n",
       "       2.82248031e+02, 2.83957852e+02, 2.85667672e+02, 2.87377492e+02,\n",
       "       2.89730000e+02, 2.92082507e+02, 2.94435015e+02, 2.96787523e+02,\n",
       "       3.00934939e+02, 3.05082355e+02, 3.09229771e+02, 3.13377187e+02,\n",
       "       3.18285232e+02, 3.23193278e+02, 3.28101323e+02, 3.33009369e+02,\n",
       "       3.37917414e+02, 3.43459695e+02, 3.49001975e+02, 3.54544256e+02,\n",
       "       3.60086536e+02, 3.65628817e+02, 3.71171097e+02, 3.76713378e+02,\n",
       "       3.82255658e+02, 3.87797939e+02, 3.93340219e+02, 3.98882500e+02,\n",
       "       4.04424780e+02, 4.08801251e+02, 4.13177722e+02, 4.17554193e+02,\n",
       "       4.21930664e+02, 4.22579001e+02, 4.23227339e+02, 4.23875676e+02,\n",
       "       4.24524013e+02, 4.25820688e+02, 4.27117362e+02, 4.28414037e+02,\n",
       "       4.31217928e+02, 4.34021820e+02, 4.36825711e+02, 4.39629603e+02,\n",
       "       4.43576278e+02, 4.47522953e+02, 4.51469628e+02, 4.55416303e+02,\n",
       "       4.59362978e+02, 4.64808476e+02, 4.70253974e+02, 4.75699472e+02,\n",
       "       4.81144971e+02, 4.86590469e+02, 4.92035967e+02, 4.97481465e+02,\n",
       "       5.02926963e+02, 5.09317755e+02, 5.15708546e+02, 5.22099338e+02,\n",
       "       5.28490130e+02, 5.34880921e+02, 5.41271713e+02, 5.47662505e+02,\n",
       "       5.54053296e+02, 5.60444088e+02, 5.66834880e+02, 5.73225672e+02,\n",
       "       5.79616463e+02, 5.88772469e+02, 5.96081075e+02, 6.03389681e+02,\n",
       "       6.10698287e+02, 6.18006892e+02, 6.25315498e+02, 6.32624104e+02,\n",
       "       6.41313518e+02, 6.50002932e+02, 6.58692345e+02, 6.67381759e+02,\n",
       "       6.76071173e+02, 6.92085998e+02, 7.08100824e+02, 7.24115650e+02,\n",
       "       7.40130476e+02, 7.56145302e+02, 7.91600512e+02, 8.27055721e+02,\n",
       "       8.62510931e+02, 8.97966141e+02, 9.84425809e+02, 1.00000000e+03])\n",
       " t_events: None\n",
       "        y: array([[ 9.99760000e+05,  9.99760000e+05,  9.99760000e+05, ...,\n",
       "         2.02810995e+05,  2.02810995e+05,  2.02810995e+05],\n",
       "       [ 1.40000000e+02,  1.39999991e+02,  1.39999982e+02, ...,\n",
       "         1.62471485e-09, -8.28893828e-09, -4.52918675e-09],\n",
       "       [ 1.00000000e+02,  1.00000020e+02,  1.00000041e+02, ...,\n",
       "         6.12901516e-09, -3.12691990e-08, -1.70858863e-08],\n",
       "       ...,\n",
       "       [ 0.00000000e+00,  3.16227388e-05,  6.32454399e-05, ...,\n",
       "         3.41053833e-10, -1.73916757e-09, -9.50593968e-10],\n",
       "       [ 0.00000000e+00,  0.00000000e+00,  0.00000000e+00, ...,\n",
       "         0.00000000e+00,  0.00000000e+00,  0.00000000e+00],\n",
       "       [ 0.00000000e+00,  0.00000000e+00,  0.00000000e+00, ...,\n",
       "         0.00000000e+00,  0.00000000e+00,  0.00000000e+00]])\n",
       " y_events: None"
      ]
     },
     "execution_count": 13,
     "metadata": {},
     "output_type": "execute_result"
    }
   ],
   "source": [
    "simulation = SEIR(tsim=tsim,alpha=quarantine,beta=beta,sigma=sigma,gamma=gamma,mu=mu,I0=I0,population=population,expinfection=0)\n",
    "simulation.integr_sci(0,tsim,0.01)"
   ]
  },
  {
   "cell_type": "markdown",
   "metadata": {},
   "source": [
    "# Simulation Analysis"
   ]
  },
  {
   "cell_type": "markdown",
   "metadata": {},
   "source": [
    "## Plots\n",
    "This libraries have predefined plot functions which plot the main epidemiological variables.\n",
    "Each function has the following optional arguments:\n",
    "* days [int] Number of days to display\n",
    "* showparams [bool] Display simulation parameters \n",
    "* ylim [int] Limit the vertical axis\n",
    "* norm [int/float] Normalize the results\n"
   ]
  },
  {
   "cell_type": "markdown",
   "metadata": {},
   "source": [
    "### SEIR Plot with Active infected"
   ]
  },
  {
   "cell_type": "code",
   "execution_count": 14,
   "metadata": {},
   "outputs": [],
   "source": [
    "plt.plot(simulation.t,simulation.S,label='S',color = 'blue')\n",
    "plt.plot(simulation.t,simulation.E,label='E',color = 'cyan')\n",
    "plt.plot(simulation.t,simulation.I,label='I',color = 'red')\n",
    "plt.plot(simulation.t,simulation.R,label='R',color = 'green')\n",
    "plt.title('Epidemiological Plot')\n",
    "plt.legend(loc=0)\n",
    "plt.show()"
   ]
  },
  {
   "cell_type": "markdown",
   "metadata": {},
   "source": [
    "### Plot Active Infected"
   ]
  },
  {
   "cell_type": "code",
   "execution_count": 15,
   "metadata": {},
   "outputs": [],
   "source": [
    "plt.plot(simulation.t,simulation.I,label='Active infected')\n",
    "plt.title('Active infected')\n",
    "plt.legend(loc=0)\n",
    "plt.show()"
   ]
  },
  {
   "cell_type": "markdown",
   "metadata": {},
   "source": [
    "### Plot Accumulated Infected"
   ]
  },
  {
   "cell_type": "code",
   "execution_count": 16,
   "metadata": {},
   "outputs": [],
   "source": [
    "plt.plot(simulation.t,simulation.I_ac,label='Acc Infected')\n",
    "plt.title('Accumulated Infected')\n",
    "plt.legend(loc=0)\n",
    "plt.show()"
   ]
  },
  {
   "cell_type": "markdown",
   "metadata": {},
   "source": [
    "### Plot New Daily Infected"
   ]
  },
  {
   "cell_type": "code",
   "execution_count": 18,
   "metadata": {},
   "outputs": [],
   "source": [
    "plt.plot(simulation.t,simulation.I_d)\n",
    "plt.title('New Daily Infected')\n",
    "#plt.legend(loc=0)\n",
    "plt.show()"
   ]
  },
  {
   "cell_type": "markdown",
   "metadata": {},
   "source": [
    "### Variables:\n",
    "The simulation object contains several methods and variables with its results. the following are the main epidemiological variables. Use them to compare with the RBM simulation"
   ]
  },
  {
   "cell_type": "code",
   "execution_count": 14,
   "metadata": {},
   "outputs": [
    {
     "data": {
      "text/plain": [
       "array([0.00000000e+00, 1.12938511e-05, 2.25877045e-05, 5.33316552e-02,\n",
       "       1.06691788e-01, 1.60102946e-01, 6.97012561e-01, 1.23898182e+00,\n",
       "       1.78597253e+00, 2.33794689e+00, 5.09679366e+00, 7.96890454e+00,\n",
       "       1.09504366e+01, 1.40378087e+01, 1.72276913e+01, 2.29859534e+01,\n",
       "       2.90280105e+01, 3.53411259e+01, 4.19141810e+01, 4.87375149e+01,\n",
       "       5.74031531e+01, 6.64172760e+01, 7.57693169e+01, 8.54508180e+01,\n",
       "       9.55281373e+01, 1.05928086e+02, 1.16646937e+02, 1.23580054e+02,\n",
       "       1.30638990e+02, 1.37823573e+02, 1.53784787e+02, 1.70335746e+02,\n",
       "       1.87481214e+02, 2.54810119e+02, 3.30669020e+02, 3.51029766e+02,\n",
       "       3.71980415e+02, 3.93541788e+02, 4.38588052e+02, 4.86293859e+02,\n",
       "       5.36799724e+02, 6.56236566e+02, 7.91166746e+02, 9.43650644e+02,\n",
       "       1.11595419e+03, 1.46768625e+03, 1.90192627e+03, 2.43765729e+03,\n",
       "       3.09819557e+03, 4.11559003e+03, 5.42536607e+03, 7.11034935e+03,\n",
       "       9.27452650e+03, 1.20471825e+04, 1.70505054e+04, 2.39586233e+04,\n",
       "       3.33947979e+04, 4.61024881e+04, 6.29010799e+04, 8.45860846e+04,\n",
       "       1.11765491e+05, 1.44649827e+05, 1.82851850e+05, 2.17620149e+05,\n",
       "       2.54311382e+05, 2.91743080e+05, 3.28674781e+05, 3.63970864e+05,\n",
       "       3.96726322e+05, 4.26338799e+05, 4.52507375e+05, 4.75194986e+05,\n",
       "       4.94553595e+05, 5.07624011e+05, 5.18965602e+05, 5.28745769e+05,\n",
       "       5.37135053e+05, 5.44299632e+05, 5.51307212e+05, 5.57084649e+05,\n",
       "       5.61830863e+05, 5.65719076e+05, 5.69293368e+05, 5.72125735e+05,\n",
       "       5.74366776e+05, 5.76137931e+05, 5.77533211e+05, 5.78639141e+05,\n",
       "       5.79511850e+05, 5.80198078e+05, 5.80737456e+05, 5.81161996e+05,\n",
       "       5.81496464e+05, 5.81759892e+05, 5.81987601e+05, 5.82161946e+05,\n",
       "       5.82295356e+05, 5.82397440e+05, 5.82475563e+05, 5.82535358e+05,\n",
       "       5.82581124e+05, 5.82616151e+05, 5.82642957e+05, 5.82663469e+05,\n",
       "       5.82679166e+05, 5.82691179e+05, 5.82700372e+05, 5.82707407e+05,\n",
       "       5.82712791e+05, 5.82716910e+05, 5.82717115e+05])"
      ]
     },
     "execution_count": 14,
     "metadata": {},
     "output_type": "execute_result"
    }
   ],
   "source": [
    "# Susceptibles\n",
    "simulation.S\n",
    "# Exposed\n",
    "simulation.E\n",
    "# Infected\n",
    "simulation.I\n",
    "# Recovered\n",
    "simulation.R"
   ]
  },
  {
   "cell_type": "markdown",
   "metadata": {},
   "source": [
    "## Peak Study"
   ]
  },
  {
   "cell_type": "code",
   "execution_count": 20,
   "metadata": {},
   "outputs": [
    {
     "data": {
      "text/plain": [
       "101403.18069010609"
      ]
     },
     "execution_count": 20,
     "metadata": {},
     "output_type": "execute_result"
    }
   ],
   "source": [
    "# Peak Value\n",
    "simulation.peak"
   ]
  },
  {
   "cell_type": "code",
   "execution_count": 21,
   "metadata": {},
   "outputs": [
    {
     "data": {
      "text/plain": [
       "143.2751083138431"
      ]
     },
     "execution_count": 21,
     "metadata": {},
     "output_type": "execute_result"
    }
   ],
   "source": [
    "# Peak day counted from the simulation beginning\n",
    "simulation.peak_t"
   ]
  }
 ],
 "metadata": {
  "kernelspec": {
   "display_name": "Python 3",
   "language": "python",
   "name": "python3"
  },
  "language_info": {
   "codemirror_mode": {
    "name": "ipython",
    "version": 3
   },
   "file_extension": ".py",
   "mimetype": "text/x-python",
   "name": "python",
   "nbconvert_exporter": "python",
   "pygments_lexer": "ipython3",
   "version": "3.8.5"
  }
 },
 "nbformat": 4,
 "nbformat_minor": 4
}
