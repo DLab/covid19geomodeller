{
 "cells": [
  {
   "cell_type": "markdown",
   "metadata": {},
   "source": [
    "# Examination Dynamics Study\n",
    "\n",
    "This jupyter notebook shows how periodic examinations affect a pandemy evolution.\n",
    "\n",
    "## Table of Contents:\n",
    "* Model definition\n",
    "* Import Libraries\n",
    "* Single Simulation Study\n",
    "    * Parameter Settings\n",
    "    * SEIR plot\n",
    "    * Accumulated Infected\n",
    "    * New Daily Infected\n",
    "    * Ammount of exams\n",
    "* Sensitivity Analysis: \n",
    "    * Examination Rate\n",
    "        * Peak Size\n",
    "        * Peak time\n",
    "        * Prevalence\n",
    "    * Examination Period\n",
    "        * Peak Size\n",
    "        * Peak time\n",
    "        * Prevalence\n",
    "    * Examination Duty\n",
    "        * Peak Size\n",
    "        * Peak time\n",
    "        * Prevalence  \n",
    "    * Examination Accuracy\n",
    "        * Peak Size\n",
    "        * Peak time\n",
    "        * Prevalence        \n",
    "* Multidimensional Analysis:\n",
    "    * Examination rate vs Examination periods\n",
    "    * Examination Rate vs Duty\n"
   ]
  },
  {
   "cell_type": "markdown",
   "metadata": {},
   "source": [
    "# Model Definition"
   ]
  },
  {
   "cell_type": "markdown",
   "metadata": {},
   "source": [
    "\\begin{equation} \n",
    "\\frac{dS}{dt} = -\\beta \\alpha \\frac{S I}{N+k_{I}I+k_{R}R}\n",
    "\\end{equation}\n",
    "\n",
    "\\begin{equation} \n",
    "\\frac{dE}{dt} = \\beta \\alpha \\frac{S I}{N+k_{I}I+k_{R}R} - \\sigma E  \n",
    "\\end{equation}\n",
    "\\begin{equation} \n",
    "\\frac{dI}{dt} = \\sigma E - \\gamma I - \\lambda_{e} \\sqcap(\\omega_{e} t) P_{I}\n",
    "\\end{equation}\n",
    "\\begin{equation} \n",
    "\\frac{dR}{dt} = \\gamma I + \\lambda_{e} \\sqcap(\\omega_{e} t) P_{I}\n",
    "\\end{equation}\n",
    "\\begin{equation} \n",
    "S_i+E_i+I_i+R_i = N_i\n",
    "\\end{equation}\n",
    "\\begin{equation} \n",
    "P_{I} = \\frac{I}{N}\n",
    "\\end{equation}\n",
    "\\begin{equation} \n",
    "e(t) = \\lambda_{e} \\sqcap(\\omega_{e} t)\n",
    "\\end{equation}\n",
    "\\begin{equation} \n",
    "e_{I}(t) = \\lambda_{e} \\sqcap(\\omega_{e} t)\n",
    "\\end{equation}"
   ]
  },
  {
   "cell_type": "markdown",
   "metadata": {},
   "source": [
    "## Epidemiological Parameters\n",
    "* **beta:** Infection rate\n",
    "* **mu:** Initial exposed obtained from the initial infected mu=E0/I0\n",
    "* **Scale Factor:** Proportion of real infected compared to reported ones (1: all the infecteds are reported)\n",
    "* **Sero Prevalence Factor:** Adjust the proportion of the population that enters the virus dynamics\n",
    "* **Exposed Infection:** rate compared to the infected (0 the don't infect, 1 the infect in the same rate as the infected )"
   ]
  },
  {
   "cell_type": "markdown",
   "metadata": {},
   "source": [
    "# Import Libraries"
   ]
  },
  {
   "cell_type": "code",
   "execution_count": 1,
   "metadata": {},
   "outputs": [
    {
     "name": "stdout",
     "output_type": "stream",
     "text": [
      "Linux\n"
     ]
    }
   ],
   "source": [
    "import sys\n",
    "from pathlib import Path\n",
    "sys.path.insert(1, '../src/SEIR/')\n",
    "sys.path.insert(1, '../src/utils/')\n",
    "\n",
    "from datetime import datetime\n",
    "import numpy as np\n",
    "from numpy import linalg as LA\n",
    "import pandas as pd\n",
    "from time import time\n",
    "import multiprocessing\n",
    "from joblib import Parallel, delayed\n",
    "\n",
    "import platform\n",
    "OS = platform.system()\n",
    "\n",
    "import matplotlib.pyplot as plt\n",
    "if OS == 'Linux':    \n",
    "    %matplotlib tk\n",
    "    print('Linux')\n",
    "elif OS == 'Windows': \n",
    "    %matplotlib qt\n",
    "    print('Windows')\n",
    "else:\n",
    "    print('OS not detected :-|')\n",
    "\n",
    "\n",
    "from class_SEIRQ import SEIR\n",
    "from Quarantine import Quarantine\n",
    "from Quarantine import Exams"
   ]
  },
  {
   "cell_type": "markdown",
   "metadata": {},
   "source": [
    "## Simulation Parameters"
   ]
  },
  {
   "cell_type": "code",
   "execution_count": null,
   "metadata": {},
   "outputs": [],
   "source": [
    "beta = 0.15 # Contagion rate\n",
    "mu = 1.5 # E0/I0 initial rate\n",
    "SeroPrevalence = 1\n",
    "expinfection = 0\n",
    "\n",
    "# Simulation time\n",
    "tsim = 500\n",
    "# Population\n",
    "population = 1000000\n",
    "# Initial Active Infected \n",
    "I0 = 1000\n",
    "\n",
    "I_ac0 = 100\n",
    "# Kinetic Saturation: 0 for mass action mixing\n",
    "k_I=0\n",
    "# Immunity Shield\n",
    "k_R=0\n",
    "# Quarantine\n",
    "s1 = Quarantine(1)\n",
    "\n",
    "\n",
    "testaccuracy = 0.9\n",
    "# Proportion of effectively quarantined detected infected\n",
    "lambda_Q=1\n",
    "# Time between test and quarantine\n",
    "T_T = 1 \n",
    "# Time in quarantine\n",
    "T_Q = 14\n",
    "# Tracing: How many extra infected you can detect for each infected detected through random search\n",
    "lambda_Tr=0"
   ]
  },
  {
   "cell_type": "markdown",
   "metadata": {},
   "source": [
    "-------------------------------------"
   ]
  },
  {
   "cell_type": "markdown",
   "metadata": {},
   "source": [
    "# Single simulation study"
   ]
  },
  {
   "cell_type": "code",
   "execution_count": null,
   "metadata": {},
   "outputs": [],
   "source": [
    "examrate = 20000 # Persons per day\n",
    "period = 1\n",
    "duty = 1\n",
    "psi = Exams(examrate,period,duty) # "
   ]
  },
  {
   "cell_type": "markdown",
   "metadata": {},
   "source": [
    "## Run simulation"
   ]
  },
  {
   "cell_type": "code",
   "execution_count": null,
   "metadata": {},
   "outputs": [],
   "source": [
    "%%capture\n",
    "# To show the cell's output comment the former line\n",
    "\n",
    "\n",
    "simulation = SEIR(tsim=tsim,alpha=s1.alpha,psi = psi,beta=beta,mu=mu,k_I=k_I,k_R=k_R,I0=I0,population=population,expinfection=0,SeroPrevFactor=1,testaccuracy=testaccuracy,\n",
    "                  lambda_Q=lambda_Q,T_T = T_T,T_Q = T_Q,lambda_Tr=lambda_Tr)\n",
    "simulation.integr_sci(0,tsim,0.01)\n",
    "# No exams dynamic for reference:\n",
    "simulation_reference =  SEIR(tsim=tsim,alpha=s1.alpha,psi = 0,beta=beta,mu=mu,k_I=k_I,k_R=k_R,I0=I0,population=population,expinfection=0,SeroPrevFactor=1,testaccuracy=testaccuracy)\n",
    "simulation_reference.integr_sci(0,tsim,0.01)\n",
    "print('simulation finished')"
   ]
  },
  {
   "cell_type": "markdown",
   "metadata": {},
   "source": [
    "### SEIR Plot with Active infected"
   ]
  },
  {
   "cell_type": "code",
   "execution_count": null,
   "metadata": {},
   "outputs": [],
   "source": [
    "plt.plot(simulation.t,simulation.S,label='S',color = 'blue')\n",
    "plt.plot(simulation.t,simulation.E,label='E',color = 'cyan')\n",
    "plt.plot(simulation.t,simulation.I,label='I',color = 'red')\n",
    "plt.plot(simulation.t,simulation.R,label='R',color = 'green')\n",
    "plt.plot(simulation.t,simulation.Q,label='Q',color = 'purple')\n",
    "plt.plot(simulation_reference.t,simulation_reference.S,label='S - No exams',color = 'blue',linestyle='dashed')\n",
    "plt.plot(simulation_reference.t,simulation_reference.E,label='E - No exams',color = 'cyan',linestyle='dashed')\n",
    "plt.plot(simulation_reference.t,simulation_reference.I,label='I - No exams',color = 'red',linestyle='dashed')\n",
    "plt.plot(simulation_reference.t,simulation_reference.R,label='R - No exams',color = 'green',linestyle='dashed')\n",
    "\n",
    "plt.title('Epidemiological Plot')\n",
    "plt.legend(loc=0)\n",
    "plt.show()"
   ]
  },
  {
   "cell_type": "markdown",
   "metadata": {},
   "source": [
    "### Quarantine dynamics"
   ]
  },
  {
   "cell_type": "code",
   "execution_count": null,
   "metadata": {},
   "outputs": [],
   "source": [
    "plt.plot(simulation.t,simulation.Q,label='Q',color = 'purple')\n",
    "plt.plot(simulation.t,simulation.I_T,label='I_t',color = 'red')\n",
    "plt.title('Epidemiological Plot')\n",
    "plt.legend(loc=0)\n",
    "plt.show()"
   ]
  },
  {
   "cell_type": "markdown",
   "metadata": {},
   "source": [
    "### Plot Accumulated Infected"
   ]
  },
  {
   "cell_type": "code",
   "execution_count": null,
   "metadata": {},
   "outputs": [],
   "source": [
    "plt.plot(simulation.t,simulation.I_ac,label='I_ac with exams')\n",
    "plt.plot(simulation_reference.t,simulation_reference.I_ac,label='I_ac No Exams', linestyle='dashed')\n",
    "plt.title('Accumulated Infected')\n",
    "plt.legend(loc=0)\n",
    "plt.show()"
   ]
  },
  {
   "cell_type": "markdown",
   "metadata": {},
   "source": [
    "### Plot New Daily Infected"
   ]
  },
  {
   "cell_type": "code",
   "execution_count": null,
   "metadata": {},
   "outputs": [],
   "source": [
    "plt.plot(simulation.t,simulation.I_d,label='I_d with exams')\n",
    "plt.plot(simulation_reference.t,simulation_reference.I_d,label='I_d no exams', linestyle='dashed')\n",
    "plt.title('New Daily Infected')\n",
    "plt.legend(loc=0)\n",
    "plt.show()"
   ]
  },
  {
   "cell_type": "markdown",
   "metadata": {},
   "source": [
    "### Amount of exams"
   ]
  },
  {
   "cell_type": "code",
   "execution_count": null,
   "metadata": {},
   "outputs": [],
   "source": [
    "plt.plot(simulation.t,simulation.e,label='Exams')\n",
    "plt.title('Amount of exams performed')\n",
    "plt.legend(loc=0)\n",
    "plt.show()\n",
    "print('We performed '+str(int(np.round(simulation.e[-1])))+' exams in total')"
   ]
  },
  {
   "cell_type": "markdown",
   "metadata": {},
   "source": [
    "-------------------------------------------"
   ]
  },
  {
   "cell_type": "markdown",
   "metadata": {},
   "source": [
    "# Sensitivity Analysis: "
   ]
  },
  {
   "cell_type": "markdown",
   "metadata": {},
   "source": [
    "## Examination rate\n",
    "All examination campaings will have 50% of examination time during the different time periods."
   ]
  },
  {
   "cell_type": "code",
   "execution_count": null,
   "metadata": {},
   "outputs": [],
   "source": [
    "beta = 0.15 # Contagion rate\n",
    "mu = 1.5 # E0/I0 initial rate\n",
    "SeroPrevalence = 1\n",
    "expinfection = 0\n",
    "\n",
    "# Simulation time\n",
    "tsim = 1000\n",
    "# Population\n",
    "population = 1000000\n",
    "# Initial Active Infected \n",
    "I0 = 1000\n",
    "\n",
    "I_ac0 = 100\n",
    "# Kinetic Saturation: 0 for mass action mixing\n",
    "k_I=0\n",
    "# Immunity Shield\n",
    "k_R=0\n",
    "# Quarantine\n",
    "s1 = Quarantine(1)\n",
    "\n",
    "duty = 1\n",
    "examrate = list(np.arange(0.1,5,0.1)*population/100)# Persons per day\n",
    "period = 1\n",
    "\n",
    "psi = [Exams(i,period,duty) for i in examrate] \n",
    "\n",
    "testaccuracy=0.9"
   ]
  },
  {
   "cell_type": "markdown",
   "metadata": {},
   "source": [
    "### Run simulation"
   ]
  },
  {
   "cell_type": "code",
   "execution_count": null,
   "metadata": {},
   "outputs": [],
   "source": [
    "%%capture\n",
    "# To show the cell's output comment the former line\n",
    "\n",
    "def simulate(simulation,tsim):\n",
    "    simulation.integr_sci(0,tsim,0.1)\n",
    "    return simulation\n",
    "\n",
    "sims = []\n",
    "for i in range(len(examrate)):        \n",
    "    sims.append(SEIR(tsim=tsim,alpha=s1.alpha,psi = psi[i],beta=beta,mu=mu,k_I=k_I,k_R=k_R,I0=I0,population=population,expinfection=0,SeroPrevFactor=1,testaccuracy=testaccuracy))\n",
    "    \n",
    "num_cores = multiprocessing.cpu_count()\n",
    "simulation = Parallel(n_jobs=num_cores, verbose=50)(delayed(simulate)(sims[i],tsim) for i in range(len(sims)))\n",
    "\n",
    "print('ready')"
   ]
  },
  {
   "cell_type": "code",
   "execution_count": null,
   "metadata": {},
   "outputs": [],
   "source": [
    "# Calculate indicatros\n",
    "peak = []\n",
    "for i in range(len(examrate)):    \n",
    "    peak.append(100*simulation[i].peak/population)\n",
    "    \n",
    "peaktime = []\n",
    "for i in range(len(examrate)):\n",
    "    peaktime.append(simulation[i].peak_t)        \n",
    "    \n",
    "prevalence = []\n",
    "for i in range(len(examrate)):\n",
    "    prevalence.append(simulation[i].prevalence_total[-1])    "
   ]
  },
  {
   "cell_type": "markdown",
   "metadata": {},
   "source": [
    "### Peak Size"
   ]
  },
  {
   "cell_type": "code",
   "execution_count": null,
   "metadata": {},
   "outputs": [],
   "source": [
    "plt.plot(examrate,peak,label='Infected during peak')\n",
    "plt.title('Peak size (%) per examrate')\n",
    "plt.legend(loc=0)\n",
    "plt.ylim(0,np.max(peak)*1.1)\n",
    "plt.show()"
   ]
  },
  {
   "cell_type": "markdown",
   "metadata": {},
   "source": [
    "### Peak time"
   ]
  },
  {
   "cell_type": "code",
   "execution_count": null,
   "metadata": {},
   "outputs": [],
   "source": [
    "plt.plot(examrate,peaktime,label='Time when peak occurs')\n",
    "plt.title('Peak time shift')\n",
    "plt.legend(loc=0)\n",
    "plt.ylim(0,np.max(peaktime)*1.1)\n",
    "plt.show()"
   ]
  },
  {
   "cell_type": "markdown",
   "metadata": {},
   "source": [
    "### Prevalence"
   ]
  },
  {
   "cell_type": "code",
   "execution_count": null,
   "metadata": {},
   "outputs": [],
   "source": [
    "plt.plot(examrate,prevalence,label='% Percentage of total population')\n",
    "plt.title('Prevalence at the end of the simulation')\n",
    "plt.legend(loc=0)\n",
    "plt.ylim(0,np.max(prevalence)*1.1)\n",
    "plt.show()"
   ]
  },
  {
   "cell_type": "markdown",
   "metadata": {},
   "source": [
    "## Examination Period\n",
    "All examination campaings will have 50% of examination time during the different time periods."
   ]
  },
  {
   "cell_type": "markdown",
   "metadata": {},
   "source": [
    "## Examination Duty\n",
    "All examination campaings will have 50% of examination time during the different time periods."
   ]
  },
  {
   "cell_type": "markdown",
   "metadata": {},
   "source": [
    "## Examination Accuracy\n",
    "All examination campaings will have 50% of examination time during the different time periods."
   ]
  },
  {
   "cell_type": "markdown",
   "metadata": {},
   "source": [
    "-------------------------"
   ]
  },
  {
   "cell_type": "markdown",
   "metadata": {},
   "source": [
    "# Multidimensional Analysis"
   ]
  },
  {
   "cell_type": "markdown",
   "metadata": {},
   "source": [
    "## Examination rate vs Examination periods\n",
    "All examination campaings will have 50% of examination time during the different time periods."
   ]
  },
  {
   "cell_type": "code",
   "execution_count": null,
   "metadata": {},
   "outputs": [],
   "source": [
    "duty = 0.5\n",
    "\n",
    "examrate = [1000,5000,10000,20000,50000] # Persons per day\n",
    "period = [1,2,5,10,15,30]\n",
    "\n",
    "psi = [[Exams(i,j,duty) for j in period] for i in examrate] \n",
    "\n",
    "time = np.arange(0,100,0.1)\n",
    "exams = [[[psi[i][j](t) for t in time] for j in range(len(period))] for i in range(len(examrate))]"
   ]
  },
  {
   "cell_type": "markdown",
   "metadata": {},
   "source": [
    "### Plot Exam campaings"
   ]
  },
  {
   "cell_type": "code",
   "execution_count": null,
   "metadata": {},
   "outputs": [],
   "source": [
    "n = 3\n",
    "time = np.arange(0,100,0.1)\n",
    "exams = [[[psi[i][j](t) for t in time] for j in range(len(period))] for i in range(len(examrate))]\n",
    "#plt.plot(time,exams[i][j])\n",
    "\n",
    "fig, axs = plt.subplots(len(examrate), len(period))\n",
    "for i in range(len(examrate)):\n",
    "    for j in range(len(period)):\n",
    "        axs[i,j].plot(time,exams[i][j],label='Examination Rate:'+str(examrate[i])+' Period: '+str(period[j]))\n",
    "        axs[i,j].legend(loc=0)\n",
    "    #axs[int(i/n),i%n].set_title('Exam Rate: '+str(examrate[i]))"
   ]
  },
  {
   "cell_type": "markdown",
   "metadata": {},
   "source": [
    "### Simulate"
   ]
  },
  {
   "cell_type": "code",
   "execution_count": null,
   "metadata": {},
   "outputs": [],
   "source": [
    "%%capture\n",
    "# To show the cell's output comment the former line\n",
    "\n",
    "# For parallel simulation\n",
    "def simulate(simulation,j,tsim):\n",
    "    simulation[j].integr_sci(0,tsim,0.1)\n",
    "    return simulation[j]\n",
    "\n",
    "# Define Simulations\n",
    "sims = []\n",
    "for i in range(len(examrate)):\n",
    "    aux = []\n",
    "    for j in range(len(period)):\n",
    "        aux.append(SEIR(tsim=tsim,alpha=s1.alpha,psi = psi[i][j],beta=beta,mu=mu,k_I=k_I,k_R=k_R,I0=I0,population=population,expinfection=0,SeroPrevFactor=1))\n",
    "    sims.append(aux)\n",
    "# Run simulation\n",
    "num_cores = multiprocessing.cpu_count()\n",
    "simulation = []\n",
    "for i in range(len(examrate)):\n",
    "    simulation.append(Parallel(n_jobs=num_cores, verbose=50)(delayed(simulate)(sims[i],j,tsim) for j in range(len(sims[i]))))\n",
    "\n",
    "print('ready')"
   ]
  },
  {
   "cell_type": "markdown",
   "metadata": {},
   "source": [
    "## Period Analysis\n",
    "\n",
    "### Period analysis over a single amount of exam rate"
   ]
  },
  {
   "cell_type": "code",
   "execution_count": null,
   "metadata": {},
   "outputs": [],
   "source": [
    "j = 0\n",
    "plt.plot(simulation_reference.t,simulation_reference.I_d,label='No exams',color = 'black',linestyle='dashed')\n",
    "for i in range(len(period)):\n",
    "    plt.plot(simulation[j][i].t,simulation[j][i].I_d,label='Examination Period: '+str(period[i]))\n",
    "plt.legend(loc=0)\n",
    "plt.title('New Daily Infected | '+str(examrate[j])+' exams/day')\n",
    "plt.show()"
   ]
  },
  {
   "cell_type": "markdown",
   "metadata": {},
   "source": [
    "### Multiple rates for each period"
   ]
  },
  {
   "cell_type": "code",
   "execution_count": null,
   "metadata": {},
   "outputs": [],
   "source": [
    "colors = plt.cm.rainbow_r(np.linspace(0,1,len(examrate)))\n",
    "n = 3\n",
    "fig, axs = plt.subplots(int(len(period)/n), n)\n",
    "for j in range(len(period)):\n",
    "    axs[int(j/n),j%n].plot(simulation_reference.t,simulation_reference.I_d,label='I_d No exams',color = 'black',linestyle='dashed')\n",
    "    for i in range(len(examrate)):\n",
    "        axs[int(j/n),j%n].plot(simulation[i][j].t,simulation[i][j].I_d,label='Examination Period: '+str(period[j]))\n",
    "        axs[int(j/n),j%n].legend(loc=0)\n",
    "    axs[int(j/n),j%n].set_title('Period: '+str(period[j])+' days')\n"
   ]
  },
  {
   "cell_type": "markdown",
   "metadata": {},
   "source": [
    "## Exam Analysis\n",
    "\n",
    "### Exam analysis over a single amount of period"
   ]
  },
  {
   "cell_type": "code",
   "execution_count": null,
   "metadata": {},
   "outputs": [],
   "source": [
    "j = -1\n",
    "plt.plot(simulation_reference.t,simulation_reference.I_d,label='I_d No exams',color = 'black',linestyle='dashed')\n",
    "for i in range(len(examrate)):\n",
    "    plt.plot(simulation[i][j].t,simulation[i][j].I_d,label='Exams per day: '+str(examrate[i]))\n",
    "plt.legend(loc=0)\n",
    "plt.title('New Daily Infected | Campaing periods: '+str(period[j]))\n",
    "plt.show()"
   ]
  },
  {
   "cell_type": "markdown",
   "metadata": {},
   "source": [
    "### Multiple periods for each exam rate"
   ]
  },
  {
   "cell_type": "code",
   "execution_count": null,
   "metadata": {},
   "outputs": [],
   "source": [
    "colors = plt.cm.rainbow_r(np.linspace(0,1,len(period)))\n",
    "n = 3\n",
    "fig, axs = plt.subplots(int(len(examrate)/n)+1, n)\n",
    "for i in range(len(examrate)):\n",
    "    axs[int(i/n),i%n].plot(simulation_reference.t,simulation_reference.I_d,label='I_d No exams',color = 'black',linestyle='dashed')\n",
    "    for j in range(len(period)):\n",
    "        axs[int(i/n),i%n].plot(simulation[i][j].t,simulation[i][j].I_d,label='Examination Period: '+str(period[j]))\n",
    "        axs[int(i/n),i%n].legend(loc=0)\n",
    "    axs[int(i/n),i%n].set_title('Exam Rate: '+str(examrate[i]))\n"
   ]
  },
  {
   "cell_type": "markdown",
   "metadata": {},
   "source": [
    "## Contour plot"
   ]
  },
  {
   "cell_type": "code",
   "execution_count": null,
   "metadata": {},
   "outputs": [],
   "source": [
    "duty = 0.5\n",
    "population = 1000000\n",
    "examrate = np.array([0.1,0.3,0.5,0.8,1,1.5,2,2.5,3,4,5])*population/100 # Persons per day\n",
    "period = [1,5,10,20,30,40,50,60,70,80,90]\n",
    "\n",
    "psi = [[Exams(i,j,duty) for j in period] for i in examrate] \n",
    "\n",
    "time = np.arange(0,100,0.1)\n",
    "exams = [[[psi[i][j](t) for t in time] for j in range(len(period))] for i in range(len(examrate))]"
   ]
  },
  {
   "cell_type": "code",
   "execution_count": null,
   "metadata": {},
   "outputs": [],
   "source": [
    "# For parallel simulation\n",
    "def simulate(simulation,j,tsim):\n",
    "    simulation[j].integr_sci(0,tsim,0.1)\n",
    "    return simulation[j]\n",
    "\n",
    "# Define Simulations\n",
    "sims = []\n",
    "for i in range(len(examrate)):\n",
    "    aux = []\n",
    "    for j in range(len(period)):\n",
    "        aux.append(SEIR(tsim=tsim,alpha=s1.alpha,psi = psi[i][j],beta=beta,mu=mu,k_I=k_I,k_R=k_R,I0=I0,population=population,expinfection=0,SeroPrevFactor=1))\n",
    "    sims.append(aux)\n",
    "# Run simulation\n",
    "num_cores = multiprocessing.cpu_count()\n",
    "simulation = []\n",
    "for i in range(len(examrate)):\n",
    "    simulation.append(Parallel(n_jobs=num_cores, verbose=50)(delayed(simulate)(sims[i],j,tsim) for j in range(len(sims[i]))))\n",
    "simulation2 = simulation\n",
    "print('ready')"
   ]
  },
  {
   "cell_type": "code",
   "execution_count": null,
   "metadata": {},
   "outputs": [],
   "source": [
    "# Calculate indicators\n",
    "peak = []\n",
    "for i in range(len(examrate)):\n",
    "    aux = []\n",
    "    for j in range(len(period)):\n",
    "        aux.append(100*simulation2[i][j].peak/population)\n",
    "    peak.append(aux)\n",
    "\n",
    "    \n",
    "peaktime = []\n",
    "for i in range(len(examrate)):\n",
    "    aux = []\n",
    "    for j in range(len(period)):\n",
    "        aux.append(simulation2[i][j].peak_t)\n",
    "    peaktime.append(aux)\n",
    "\n",
    "prevalence = []\n",
    "for i in range(len(examrate)):\n",
    "    aux = []\n",
    "    for j in range(len(period)):    \n",
    "        aux.append(simulation2[i][j].prevalence_total[-1])  \n",
    "    prevalence.append(aux)"
   ]
  },
  {
   "cell_type": "markdown",
   "metadata": {},
   "source": [
    "### Peak size proportion"
   ]
  },
  {
   "cell_type": "code",
   "execution_count": null,
   "metadata": {},
   "outputs": [],
   "source": [
    "# Contour Plot\n",
    "fig,ax=plt.subplots(1,1)\n",
    "cp = ax.contourf(period,examrate*100/population,peak) \n",
    "fig.colorbar(cp) # Add a colorbar to a plot\n",
    "ax.set_title('Peak Size Proportion')\n",
    "ax.set_xlabel('Time period')\n",
    "ax.set_ylabel('ExamRate')\n",
    "plt.show() "
   ]
  },
  {
   "cell_type": "markdown",
   "metadata": {},
   "source": [
    "### Peak  time shift"
   ]
  },
  {
   "cell_type": "code",
   "execution_count": null,
   "metadata": {},
   "outputs": [],
   "source": [
    "# Contour Plot\n",
    "fig,ax=plt.subplots(1,1)\n",
    "cp = ax.contourf(period,examrate*100/population,peaktime) \n",
    "fig.colorbar(cp) # Add a colorbar to a plot\n",
    "ax.set_title('Peak time')\n",
    "ax.set_xlabel('Time period')\n",
    "ax.set_ylabel('ExamRate')\n",
    "plt.show() "
   ]
  },
  {
   "cell_type": "markdown",
   "metadata": {},
   "source": [
    "### SeroPrevalence"
   ]
  },
  {
   "cell_type": "code",
   "execution_count": null,
   "metadata": {},
   "outputs": [],
   "source": [
    "# Contour Plot\n",
    "fig,ax=plt.subplots(1,1)\n",
    "cp = ax.contourf(period,examrate*100/population,peaktime) \n",
    "fig.colorbar(cp) # Add a colorbar to a plot\n",
    "ax.set_title('Peak time')\n",
    "ax.set_xlabel('Time period')\n",
    "ax.set_ylabel('ExamRate')\n",
    "plt.show() "
   ]
  },
  {
   "cell_type": "markdown",
   "metadata": {},
   "source": [
    "----------------"
   ]
  },
  {
   "cell_type": "markdown",
   "metadata": {},
   "source": [
    "# Examrate vs duty"
   ]
  },
  {
   "cell_type": "code",
   "execution_count": null,
   "metadata": {},
   "outputs": [],
   "source": [
    "examrate = [1000,5000,10000,20000,50000] # Persons per day\n",
    "period = 30\n",
    "duty = [0.1,0.25,0.5,0.75,1]\n",
    "psi = [[Exams(i,period,j) for j in duty] for i in examrate] "
   ]
  },
  {
   "cell_type": "code",
   "execution_count": null,
   "metadata": {},
   "outputs": [],
   "source": [
    "# Define Simulations\n",
    "sims = []\n",
    "for i in range(len(examrate)):\n",
    "    aux = []\n",
    "    for j in range(len(duty)):\n",
    "        aux.append(SEIR(tsim=tsim,alpha=s1.alpha,psi = psi[i][j],beta=beta,mu=mu,k_I=k_I,k_R=k_R,I0=I0,population=population,expinfection=0,SeroPrevFactor=1))\n",
    "    sims.append(aux)"
   ]
  },
  {
   "cell_type": "code",
   "execution_count": null,
   "metadata": {},
   "outputs": [],
   "source": [
    "%%capture\n",
    "# To show the cell's output comment the former line\n",
    "\n",
    "# For parallel simulation\n",
    "def simulate(simulation,j,tsim):\n",
    "    simulation[j].integr_sci(0,tsim,0.1)\n",
    "    return simulation[j]\n",
    "\n",
    "# Reference simulation\n",
    "simulation_reference =  SEIR(tsim=tsim,alpha=s1.alpha,psi = 0,beta=beta,mu=mu,k_I=k_I,k_R=k_R,I0=I0,population=population,expinfection=0,SeroPrevFactor=1)\n",
    "simulation_reference.integr_sci(0,tsim,0.01)\n",
    "print('simulation finished')\n",
    "\n",
    "# Run simulation\n",
    "num_cores = multiprocessing.cpu_count()\n",
    "simulation = []\n",
    "for i in range(len(examrate)):\n",
    "    simulation.append(Parallel(n_jobs=num_cores, verbose=50)(delayed(simulate)(sims[i],j,tsim) for j in range(len(sims[i]))))\n",
    "\n",
    "print('ready')"
   ]
  },
  {
   "cell_type": "code",
   "execution_count": null,
   "metadata": {},
   "outputs": [],
   "source": [
    "# Calculate indicators\n",
    "peak = []\n",
    "for i in range(len(examrate)):\n",
    "    aux = []\n",
    "    for j in range(len(duty)):\n",
    "        aux.append(100*simulation[i][j].peak/population)\n",
    "    peak.append(aux)\n",
    "\n",
    "    \n",
    "peaktime = []\n",
    "for i in range(len(examrate)):\n",
    "    aux = []\n",
    "    for j in range(len(duty)):\n",
    "        aux.append(simulation[i][j].peak_t)\n",
    "    peaktime.append(aux)\n",
    "\n",
    "prevalence = []\n",
    "for i in range(len(examrate)):\n",
    "    aux = []\n",
    "    for j in range(len(duty)):    \n",
    "        aux.append(simulation[i][j].prevalence_total[-1])  \n",
    "    prevalence.append(aux)"
   ]
  },
  {
   "cell_type": "markdown",
   "metadata": {},
   "source": [
    "## GridPlot"
   ]
  },
  {
   "cell_type": "code",
   "execution_count": null,
   "metadata": {},
   "outputs": [],
   "source": [
    "colors = plt.cm.rainbow_r(np.linspace(0,1,len(duty)))\n",
    "n = 3\n",
    "fig, axs = plt.subplots(int(len(examrate)/n)+1, n)\n",
    "for i in range(len(examrate)):\n",
    "    axs[int(i/n),i%n].plot(simulation_reference.t,simulation_reference.I_d,label='I_d No exams',color = 'black',linestyle='dashed')\n",
    "    for j in range(len(duty)):\n",
    "        axs[int(i/n),i%n].plot(simulation[i][j].t,simulation[i][j].I_d,label='Examination duty: '+str(duty[j]))\n",
    "        axs[int(i/n),i%n].legend(loc=0)\n",
    "    axs[int(i/n),i%n].set_title('Exam Rate: '+str(examrate[i]))\n"
   ]
  },
  {
   "cell_type": "markdown",
   "metadata": {},
   "source": [
    "## Single plots"
   ]
  },
  {
   "cell_type": "markdown",
   "metadata": {},
   "source": [
    "### Peak Size"
   ]
  },
  {
   "cell_type": "code",
   "execution_count": null,
   "metadata": {},
   "outputs": [],
   "source": [
    "for j in range(len(examrate)):\n",
    "    plt.plot(duty,np.array(peak).transpose()[j],label='Exam Rate: '+str(examrate[j]))\n",
    "plt.legend(loc=1)\n",
    "plt.ylabel('Relative Peak size (%)')\n",
    "plt.xlabel('Duty')\n",
    "plt.title('Duty Study: Peak Size')\n",
    "plt.show()"
   ]
  },
  {
   "cell_type": "markdown",
   "metadata": {},
   "source": [
    "### Peak time"
   ]
  },
  {
   "cell_type": "code",
   "execution_count": null,
   "metadata": {},
   "outputs": [],
   "source": [
    "for j in range(len(examrate)):\n",
    "    plt.plot(duty,np.array(peaktime)[j],label='Exam Rate: '+str(examrate[j]))\n",
    "plt.legend(loc=1)\n",
    "plt.ylabel('Peak day')\n",
    "plt.xlabel('Duty')\n",
    "plt.title('Duty Study: Peak time')\n",
    "plt.show()"
   ]
  },
  {
   "cell_type": "markdown",
   "metadata": {},
   "source": [
    "### Prevalence"
   ]
  },
  {
   "cell_type": "code",
   "execution_count": null,
   "metadata": {},
   "outputs": [],
   "source": [
    "for j in range(len(examrate)):\n",
    "    plt.plot(duty,np.array(prevalence).transpose()[j]*100,label='Exam Rate: '+str(examrate[j]))\n",
    "plt.legend(loc=1)\n",
    "plt.ylabel('Prevalence %')\n",
    "plt.xlabel('Duty')\n",
    "plt.title('Duty Study: Prevalence')\n",
    "plt.show()"
   ]
  },
  {
   "cell_type": "markdown",
   "metadata": {},
   "source": [
    "## Contour plots"
   ]
  },
  {
   "cell_type": "markdown",
   "metadata": {},
   "source": [
    "### Peak Size"
   ]
  },
  {
   "cell_type": "code",
   "execution_count": null,
   "metadata": {},
   "outputs": [],
   "source": [
    "# Contour Plot\n",
    "fig,ax=plt.subplots(1,1)\n",
    "cp = ax.contourf(duty,np.array(examrate)*100/population,peak) \n",
    "fig.colorbar(cp) # Add a colorbar to a plot\n",
    "ax.set_title('Peak size')\n",
    "ax.set_xlabel('Duty')\n",
    "ax.set_ylabel('ExamRate')\n",
    "plt.show() "
   ]
  },
  {
   "cell_type": "markdown",
   "metadata": {},
   "source": [
    "### Peak time"
   ]
  },
  {
   "cell_type": "code",
   "execution_count": null,
   "metadata": {},
   "outputs": [],
   "source": [
    "# Contour Plot\n",
    "fig,ax=plt.subplots(1,1)\n",
    "cp = ax.contourf(duty,np.array(examrate)*100/population,peaktime) \n",
    "fig.colorbar(cp) # Add a colorbar to a plot\n",
    "ax.set_title('Peak time')\n",
    "ax.set_xlabel('Duty')\n",
    "ax.set_ylabel('ExamRate')\n",
    "plt.show() "
   ]
  },
  {
   "cell_type": "markdown",
   "metadata": {},
   "source": [
    "### Seroprevalence"
   ]
  },
  {
   "cell_type": "code",
   "execution_count": null,
   "metadata": {},
   "outputs": [],
   "source": [
    "# Contour Plot\n",
    "fig,ax=plt.subplots(1,1)\n",
    "cp = ax.contourf(duty,np.array(examrate)*100/population,prevalence) \n",
    "fig.colorbar(cp) # Add a colorbar to a plot\n",
    "ax.set_title('Prevalence')\n",
    "ax.set_xlabel('Duty')\n",
    "ax.set_ylabel('ExamRate')\n",
    "plt.show() "
   ]
  },
  {
   "cell_type": "markdown",
   "metadata": {},
   "source": [
    "# Test results delay analysis"
   ]
  },
  {
   "cell_type": "code",
   "execution_count": 23,
   "metadata": {},
   "outputs": [],
   "source": [
    "beta = 0.15 # Contagion rate\n",
    "mu = 1.5 # E0/I0 initial rate\n",
    "SeroPrevalence = 1\n",
    "expinfection = 0\n",
    "\n",
    "# Simulation time\n",
    "tsim = 1000\n",
    "# Population\n",
    "population = 1000000\n",
    "# Initial Active Infected \n",
    "I0 = 1000\n",
    "\n",
    "I_ac0 = 100\n",
    "# Kinetic Saturation: 0 for mass action mixing\n",
    "k_I=0\n",
    "# Immunity Shield\n",
    "k_R=0\n",
    "# Quarantine\n",
    "s1 = Quarantine(1)\n",
    "\n",
    "duty = 1\n",
    "examrate = list(np.arange(0.1,5,0.1)*population/100)# Persons per day\n",
    "period = 1\n",
    "\n",
    "psi = [Exams(i,period,duty) for i in examrate] \n",
    "\n",
    "testaccuracy=0.9\n",
    "T_T = [1,2,3,4,5]\n",
    "lambda_Tr = 0\n",
    "\n",
    "# Proportion of effectively quarantined detected infected\n",
    "lambda_Q=1\n",
    "\n",
    "# Time in quarantine\n",
    "T_Q = 14\n"
   ]
  },
  {
   "cell_type": "code",
   "execution_count": 37,
   "metadata": {},
   "outputs": [],
   "source": [
    "examrate = np.array([1000,5000,10000,20000,50000]) # Persons per day\n",
    "period = 30\n",
    "duty = 1\n",
    "psi = [Exams(i,period,duty) for i in examrate] "
   ]
  },
  {
   "cell_type": "code",
   "execution_count": 25,
   "metadata": {},
   "outputs": [],
   "source": [
    "# Define Simulations\n",
    "sims = []\n",
    "for i in range(len(examrate)):\n",
    "    aux = []\n",
    "    for j in range(len(T_T)):\n",
    "        aux.append(SEIR(tsim=tsim,alpha=s1.alpha,psi = psi[i],beta=beta,mu=mu,I0=I0,population=population,expinfection=0,testaccuracy=testaccuracy,lambda_Q=lambda_Q,T_T = T_T[j],T_Q = T_Q,lambda_Tr=lambda_Tr))\n",
    "    sims.append(aux)"
   ]
  },
  {
   "cell_type": "code",
   "execution_count": 26,
   "metadata": {},
   "outputs": [
    {
     "name": "stdout",
     "output_type": "stream",
     "text": [
      "simulation finished\n",
      "[Parallel(n_jobs=12)]: Using backend LokyBackend with 12 concurrent workers.\n",
      "[Parallel(n_jobs=12)]: Done   1 tasks      | elapsed:    0.1s\n",
      "[Parallel(n_jobs=12)]: Batch computation too fast (0.0532s.) Setting batch_size=2.\n",
      "[Parallel(n_jobs=12)]: Done   2 out of   5 | elapsed:    0.1s remaining:    0.1s\n",
      "[Parallel(n_jobs=12)]: Done   3 out of   5 | elapsed:    0.1s remaining:    0.0s\n",
      "[Parallel(n_jobs=12)]: Done   5 out of   5 | elapsed:    0.1s remaining:    0.0s\n",
      "[Parallel(n_jobs=12)]: Done   5 out of   5 | elapsed:    0.1s finished\n",
      "[Parallel(n_jobs=12)]: Using backend LokyBackend with 12 concurrent workers.\n",
      "[Parallel(n_jobs=12)]: Done   1 tasks      | elapsed:    0.1s\n",
      "[Parallel(n_jobs=12)]: Batch computation too fast (0.0522s.) Setting batch_size=2.\n",
      "[Parallel(n_jobs=12)]: Done   2 out of   5 | elapsed:    0.1s remaining:    0.1s\n",
      "[Parallel(n_jobs=12)]: Done   3 out of   5 | elapsed:    0.1s remaining:    0.0s\n",
      "[Parallel(n_jobs=12)]: Done   5 out of   5 | elapsed:    0.1s remaining:    0.0s\n",
      "[Parallel(n_jobs=12)]: Done   5 out of   5 | elapsed:    0.1s finished\n",
      "[Parallel(n_jobs=12)]: Using backend LokyBackend with 12 concurrent workers.\n",
      "[Parallel(n_jobs=12)]: Done   1 tasks      | elapsed:    0.0s\n",
      "[Parallel(n_jobs=12)]: Batch computation too fast (0.0492s.) Setting batch_size=2.\n",
      "[Parallel(n_jobs=12)]: Done   2 out of   5 | elapsed:    0.1s remaining:    0.1s\n",
      "[Parallel(n_jobs=12)]: Done   3 out of   5 | elapsed:    0.1s remaining:    0.0s\n",
      "[Parallel(n_jobs=12)]: Done   5 out of   5 | elapsed:    0.1s remaining:    0.0s\n",
      "[Parallel(n_jobs=12)]: Done   5 out of   5 | elapsed:    0.1s finished\n",
      "[Parallel(n_jobs=12)]: Using backend LokyBackend with 12 concurrent workers.\n",
      "[Parallel(n_jobs=12)]: Done   1 tasks      | elapsed:    0.1s\n",
      "[Parallel(n_jobs=12)]: Batch computation too fast (0.0555s.) Setting batch_size=2.\n",
      "[Parallel(n_jobs=12)]: Done   2 out of   5 | elapsed:    0.1s remaining:    0.1s\n",
      "[Parallel(n_jobs=12)]: Done   3 out of   5 | elapsed:    0.1s remaining:    0.0s\n",
      "[Parallel(n_jobs=12)]: Done   5 out of   5 | elapsed:    0.1s remaining:    0.0s\n",
      "[Parallel(n_jobs=12)]: Done   5 out of   5 | elapsed:    0.1s finished\n",
      "[Parallel(n_jobs=12)]: Using backend LokyBackend with 12 concurrent workers.\n",
      "[Parallel(n_jobs=12)]: Done   1 tasks      | elapsed:    0.0s\n",
      "[Parallel(n_jobs=12)]: Batch computation too fast (0.0411s.) Setting batch_size=2.\n",
      "[Parallel(n_jobs=12)]: Done   2 out of   5 | elapsed:    0.0s remaining:    0.1s\n",
      "[Parallel(n_jobs=12)]: Done   3 out of   5 | elapsed:    0.0s remaining:    0.0s\n",
      "[Parallel(n_jobs=12)]: Done   5 out of   5 | elapsed:    0.1s remaining:    0.0s\n",
      "[Parallel(n_jobs=12)]: Done   5 out of   5 | elapsed:    0.1s finished\n",
      "ready\n"
     ]
    }
   ],
   "source": [
    "#%%capture\n",
    "# To show the cell's output comment the former line\n",
    "\n",
    "# For parallel simulation\n",
    "def simulate(simulation,j,tsim):\n",
    "    simulation[j].integr_sci(0,tsim,0.1)\n",
    "    return simulation[j]\n",
    "\n",
    "# Reference simulation\n",
    "simulation_reference =  SEIR(tsim=tsim,alpha=s1.alpha,psi = 0,beta=beta,mu=mu,k_I=k_I,k_R=k_R,I0=I0,population=population,expinfection=0,SeroPrevFactor=1)\n",
    "simulation_reference.integr_sci(0,tsim,0.01)\n",
    "print('simulation finished')\n",
    "\n",
    "# Run simulation\n",
    "num_cores = multiprocessing.cpu_count()\n",
    "simulation = []\n",
    "for i in range(len(examrate)):\n",
    "    simulation.append(Parallel(n_jobs=num_cores, verbose=50)(delayed(simulate)(sims[i],j,tsim) for j in range(len(sims[i]))))\n",
    "\n",
    "print('ready')"
   ]
  },
  {
   "cell_type": "code",
   "execution_count": 27,
   "metadata": {},
   "outputs": [],
   "source": [
    "# Calculate indicators\n",
    "peak = []\n",
    "for i in range(len(examrate)):\n",
    "    aux = []\n",
    "    for j in range(len(T_T)):\n",
    "        aux.append(100*simulation[i][j].peak/population)\n",
    "    peak.append(aux)\n",
    "\n",
    "    \n",
    "peaktime = []\n",
    "for i in range(len(examrate)):\n",
    "    aux = []\n",
    "    for j in range(len(T_T)):\n",
    "        aux.append(simulation[i][j].peak_t)\n",
    "    peaktime.append(aux)\n",
    "\n",
    "prevalence = []\n",
    "for i in range(len(examrate)):\n",
    "    aux = []\n",
    "    for j in range(len(T_T)):    \n",
    "        aux.append(simulation[i][j].prevalence_total[-1])  \n",
    "    prevalence.append(aux)"
   ]
  },
  {
   "cell_type": "markdown",
   "metadata": {},
   "source": [
    "## GridPlot"
   ]
  },
  {
   "cell_type": "code",
   "execution_count": 34,
   "metadata": {},
   "outputs": [
    {
     "data": {
      "text/plain": [
       "Text(0.5, 0.98, 'New Daily Infected')"
      ]
     },
     "execution_count": 34,
     "metadata": {},
     "output_type": "execute_result"
    }
   ],
   "source": [
    "colors = plt.cm.rainbow_r(np.linspace(0,1,len(T_T)))\n",
    "n = 3\n",
    "fig, axs = plt.subplots(int(len(examrate)/n)+1, n)\n",
    "for i in range(len(examrate)):\n",
    "    axs[int(i/n),i%n].plot(simulation_reference.t,simulation_reference.I_d,label='I_d No exams',color = 'black',linestyle='dashed')\n",
    "    for j in range(len(T_T)):\n",
    "        axs[int(i/n),i%n].plot(simulation[i][j].t,simulation[i][j].I_d,label='Examination results delay: '+str(T_T[j]))\n",
    "        axs[int(i/n),i%n].legend(loc=0)\n",
    "    axs[int(i/n),i%n].set_title('Exam Rate: '+str(examrate[i]))\n",
    "fig.suptitle('New Daily Infected')"
   ]
  },
  {
   "cell_type": "code",
   "execution_count": 33,
   "metadata": {},
   "outputs": [
    {
     "data": {
      "text/plain": [
       "Text(0.5, 0.98, 'Infected waiting for test results')"
      ]
     },
     "execution_count": 33,
     "metadata": {},
     "output_type": "execute_result"
    }
   ],
   "source": [
    "colors = plt.cm.rainbow_r(np.linspace(0,1,len(T_T)))\n",
    "n = 3\n",
    "fig, axs = plt.subplots(int(len(examrate)/n)+1, n)\n",
    "for i in range(len(examrate)):\n",
    "    axs[int(i/n),i%n].plot(simulation_reference.t,simulation_reference.I_T,label='I_d No exams',color = 'black',linestyle='dashed')\n",
    "    for j in range(len(T_T)):\n",
    "        axs[int(i/n),i%n].plot(simulation[i][j].t,simulation[i][j].I_T,label='Examination results delay: '+str(T_T[j]))\n",
    "        axs[int(i/n),i%n].legend(loc=0)\n",
    "    axs[int(i/n),i%n].set_title('Exam Rate: '+str(examrate[i]))\n",
    "fig.suptitle('Infected waiting for test results')"
   ]
  },
  {
   "cell_type": "code",
   "execution_count": 39,
   "metadata": {},
   "outputs": [],
   "source": [
    "# Contour Plot\n",
    "fig,ax=plt.subplots(1,1)\n",
    "cp = ax.contourf(T_T,examrate*100/population,peak) \n",
    "fig.colorbar(cp) # Add a colorbar to a plot\n",
    "ax.set_title('Peak Size Proportion')\n",
    "ax.set_xlabel('Results Delay')\n",
    "ax.set_ylabel('ExamRate')\n",
    "plt.show() "
   ]
  },
  {
   "cell_type": "code",
   "execution_count": null,
   "metadata": {},
   "outputs": [],
   "source": []
  }
 ],
 "metadata": {
  "kernelspec": {
   "display_name": "Python 3",
   "language": "python",
   "name": "python3"
  },
  "language_info": {
   "codemirror_mode": {
    "name": "ipython",
    "version": 3
   },
   "file_extension": ".py",
   "mimetype": "text/x-python",
   "name": "python",
   "nbconvert_exporter": "python",
   "pygments_lexer": "ipython3",
   "version": "3.8.5"
  }
 },
 "nbformat": 4,
 "nbformat_minor": 4
}
