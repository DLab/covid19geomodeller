{
 "cells": [
  {
   "cell_type": "markdown",
   "metadata": {},
   "source": [
    "# cv19functions: Function creation library"
   ]
  },
  {
   "cell_type": "code",
   "execution_count": 1,
   "metadata": {},
   "outputs": [
    {
     "name": "stdout",
     "output_type": "stream",
     "text": [
      "Linux\n"
     ]
    }
   ],
   "source": [
    "import numpy as np\n",
    "import pandas as pd\n",
    "import matplotlib.dates as mdates \n",
    "\n",
    "import platform\n",
    "OS = platform.system()\n",
    "\n",
    "import matplotlib.pyplot as plt\n",
    "if OS == 'Linux':    \n",
    "    %matplotlib tk\n",
    "    print('Linux')\n",
    "elif OS == 'Windows':\n",
    "    %matplotlib qt\n",
    "    print('Windows')\n",
    "elif OS == 'Darwin':\n",
    "    %matplotlib tk\n",
    "    print('Mac (Funciona?)')\n",
    "else:\n",
    "    print('OS not detected :-|')\n",
    "\n",
    "import sys\n",
    "from pathlib import Path\n",
    "sys.path.insert(1, '../src2/models/')\n",
    "sys.path.insert(1, '../src2/utils/')\n",
    "sys.path.insert(1, '../src2/data/')\n",
    "\n",
    "import cv19functions"
   ]
  },
  {
   "cell_type": "markdown",
   "metadata": {},
   "source": [
    "# Basic functions"
   ]
  },
  {
   "cell_type": "code",
   "execution_count": 2,
   "metadata": {},
   "outputs": [],
   "source": [
    "#Create time range\n",
    "t = np.arange(0,60,0.01)"
   ]
  },
  {
   "cell_type": "markdown",
   "metadata": {},
   "source": [
    "## Events\n",
    "Event function creates a function that returns the values that receives in the \"values\" argument during the ranges that it receives in the \"days\" argument. The function will return 0 during the days not comprehended in the days argument.\n",
    "* values: A list or numpy array with the values\n",
    "* days: A list with pairs of values that determine when the function will take the values\n",
    "\n",
    "Overlaped day periods will return the sum of the correspondent values."
   ]
  },
  {
   "cell_type": "code",
   "execution_count": 3,
   "metadata": {},
   "outputs": [],
   "source": [
    "Events = cv19functions.Events(values=[0.45,0.85,1.3],days=[[0,10],[10,20],[23,28]])\n",
    "events_eval = [Events(i) for i in t]"
   ]
  },
  {
   "cell_type": "code",
   "execution_count": 4,
   "metadata": {},
   "outputs": [],
   "source": [
    "plt.plot(t,events_eval)\n",
    "plt.title('Events function')\n",
    "plt.show()"
   ]
  },
  {
   "cell_type": "markdown",
   "metadata": {},
   "source": [
    "## Periodic functions\n",
    "Creates functions that return the specified periodic function. It can create square, sine or sawtooth waves"
   ]
  },
  {
   "cell_type": "code",
   "execution_count": 5,
   "metadata": {},
   "outputs": [],
   "source": [
    "square = cv19functions.square(min_val=0,max_val=1,period=14,init=0,end=1000,off_val=0,initphase='min',duty=0.5)\n",
    "sine = cv19functions.sine(min_val=0,max_val=1,period=7,init=0,end=20,off_val=0,initphase='min')\n",
    "sawtooth = cv19functions.sawtooth(min_val=0,max_val=1,period=14,init=0,end=1000,off_val=0,initphase='min',width=0)"
   ]
  },
  {
   "cell_type": "code",
   "execution_count": 6,
   "metadata": {},
   "outputs": [],
   "source": [
    "square_eval = [square(i) for i in t]\n",
    "sine_eval = [sine(i) for i in t]\n",
    "sawtooth_eval = [sawtooth(i) for i in t]"
   ]
  },
  {
   "cell_type": "code",
   "execution_count": 7,
   "metadata": {},
   "outputs": [],
   "source": [
    "plt.plot(t,square_eval,label='square')\n",
    "plt.plot(t,sine_eval,label='sine')\n",
    "plt.plot(t,sawtooth_eval,label='sawtooth')\n",
    "plt.title('Periodic Functions')\n",
    "plt.legend(loc=0)\n",
    "plt.show()"
   ]
  },
  {
   "cell_type": "markdown",
   "metadata": {},
   "source": [
    "## Continious change\n",
    "Create functions that increase their value in the specified fashion. It could be linear, quadratic or sigmoid"
   ]
  },
  {
   "cell_type": "code",
   "execution_count": 8,
   "metadata": {},
   "outputs": [],
   "source": [
    "linear = cv19functions.increase_linear(t0=0,t1=5,t2=10,maxvalue = 1,increaserate=1)\n",
    "quadratic = cv19functions.increase_quadratic(t0=15,t1=20,t2=25,maxvalue = 1)\n",
    "sigmoid = cv19functions.increase_sigmoid(t0=30,t1=35,t2=40,maxvalue = 1)"
   ]
  },
  {
   "cell_type": "code",
   "execution_count": 9,
   "metadata": {},
   "outputs": [],
   "source": [
    "linear_eval = [linear(i) for i in t]\n",
    "quadratic_eval = [quadratic(i) for i in t]\n",
    "sigmoid_eval = [sigmoid(i) for i in t]"
   ]
  },
  {
   "cell_type": "code",
   "execution_count": 10,
   "metadata": {},
   "outputs": [],
   "source": [
    "plt.plot(t,linear_eval,label = 'Linear')\n",
    "plt.plot(t,quadratic_eval,label = 'Quadratic')\n",
    "plt.plot(t,sigmoid_eval,label = 'Sigmoid')\n",
    "plt.title('Continoius change')\n",
    "plt.legend(loc=0)\n",
    "plt.show()"
   ]
  },
  {
   "cell_type": "markdown",
   "metadata": {},
   "source": [
    "# Function construtctor\n",
    "The build function receives a string or dictionarie from which it builds the specified function."
   ]
  },
  {
   "cell_type": "code",
   "execution_count": 11,
   "metadata": {},
   "outputs": [],
   "source": [
    "constructor = '{\"function\":\"Events\",\"values\":[0.45,0.85],\"days\":[[0,10],[10,20]]}'"
   ]
  },
  {
   "cell_type": "code",
   "execution_count": 12,
   "metadata": {},
   "outputs": [],
   "source": [
    "aux = cv19functions.build(constructor)"
   ]
  },
  {
   "cell_type": "code",
   "execution_count": 13,
   "metadata": {},
   "outputs": [],
   "source": [
    "aux_eval = [aux(i) for i in t]"
   ]
  },
  {
   "cell_type": "code",
   "execution_count": 14,
   "metadata": {},
   "outputs": [
    {
     "data": {
      "text/plain": [
       "[<matplotlib.lines.Line2D at 0x7fa23270a6d0>]"
      ]
     },
     "execution_count": 14,
     "metadata": {},
     "output_type": "execute_result"
    }
   ],
   "source": [
    "plt.plot(t,aux_eval)"
   ]
  },
  {
   "cell_type": "code",
   "execution_count": 15,
   "metadata": {},
   "outputs": [],
   "source": [
    "constructor_sine = '{\"function\":\"sine\",\"min_val\":0,\"max_val\":1,\"period\":7}'"
   ]
  },
  {
   "cell_type": "code",
   "execution_count": 16,
   "metadata": {},
   "outputs": [],
   "source": [
    "seno = cv19functions.build(constructor_sine)"
   ]
  },
  {
   "cell_type": "code",
   "execution_count": 17,
   "metadata": {},
   "outputs": [],
   "source": [
    "seno_eval = [seno(i) for i in t]"
   ]
  },
  {
   "cell_type": "code",
   "execution_count": 18,
   "metadata": {},
   "outputs": [
    {
     "data": {
      "text/plain": [
       "[<matplotlib.lines.Line2D at 0x7fa2326a01f0>]"
      ]
     },
     "execution_count": 18,
     "metadata": {},
     "output_type": "execute_result"
    }
   ],
   "source": [
    "plt.plot(t,seno_eval)"
   ]
  },
  {
   "cell_type": "markdown",
   "metadata": {},
   "source": [
    "## Saturation"
   ]
  },
  {
   "cell_type": "code",
   "execution_count": 48,
   "metadata": {},
   "outputs": [],
   "source": [
    "sat = cv19functions.saturation(a)"
   ]
  },
  {
   "cell_type": "code",
   "execution_count": 51,
   "metadata": {},
   "outputs": [],
   "source": [
    "a = cv19functions.build(5)\n",
    "b = cv19functions.build(1)"
   ]
  },
  {
   "cell_type": "code",
   "execution_count": 52,
   "metadata": {},
   "outputs": [
    {
     "data": {
      "text/plain": [
       "1.8048513878454153e-35"
      ]
     },
     "execution_count": 52,
     "metadata": {},
     "output_type": "execute_result"
    }
   ],
   "source": [
    "sat(0,b)"
   ]
  },
  {
   "cell_type": "code",
   "execution_count": 6,
   "metadata": {},
   "outputs": [],
   "source": [
    "import importlib"
   ]
  },
  {
   "cell_type": "code",
   "execution_count": 46,
   "metadata": {},
   "outputs": [],
   "source": [
    "importlib.reload(cv19functions)\n",
    "import cv19functions"
   ]
  },
  {
   "cell_type": "code",
   "execution_count": 47,
   "metadata": {},
   "outputs": [
    {
     "data": {
      "text/plain": [
       "13"
      ]
     },
     "execution_count": 47,
     "metadata": {},
     "output_type": "execute_result"
    }
   ],
   "source": [
    "cv19functions.functionAddition(10,3)(10)"
   ]
  },
  {
   "cell_type": "code",
   "execution_count": 45,
   "metadata": {},
   "outputs": [
    {
     "data": {
      "text/plain": [
       "{'__name__': '__main__',\n",
       " '__doc__': 'Automatically created module for IPython interactive environment',\n",
       " '__package__': None,\n",
       " '__loader__': None,\n",
       " '__spec__': None,\n",
       " '__builtin__': <module 'builtins' (built-in)>,\n",
       " '__builtins__': <module 'builtins' (built-in)>,\n",
       " '_ih': ['',\n",
       "  \"import numpy as np\\nimport pandas as pd\\nimport matplotlib.dates as mdates \\n\\nimport platform\\nOS = platform.system()\\n\\nimport matplotlib.pyplot as plt\\nif OS == 'Linux':    \\n    get_ipython().run_line_magic('matplotlib', 'tk')\\n    print('Linux')\\nelif OS == 'Windows':\\n    get_ipython().run_line_magic('matplotlib', 'qt')\\n    print('Windows')\\nelif OS == 'Darwin':\\n    get_ipython().run_line_magic('matplotlib', 'tk')\\n    print('Mac (Funciona?)')\\nelse:\\n    print('OS not detected :-|')\\n\\nimport sys\\nfrom pathlib import Path\\nsys.path.insert(1, '../src2/models/')\\nsys.path.insert(1, '../src2/utils/')\\nsys.path.insert(1, '../src2/data/')\\n\\nimport cv19functions\",\n",
       "  '#Create time range\\nt = np.arange(0,60,0.01)',\n",
       "  'sat = cv19functions.saturation(5)',\n",
       "  'sat(10)',\n",
       "  'sat(1)',\n",
       "  'import importlib',\n",
       "  'import cv19functions',\n",
       "  'import cv19functions\\nimportlib.reload(cv19functions)\\nfrom cv19functions import cv19functions',\n",
       "  'importlib.reload(cv19functions)\\nimport cv19functions',\n",
       "  'sat = cv19functions.saturation(5)',\n",
       "  'sat(1)',\n",
       "  'sat(10)',\n",
       "  'sat(1)',\n",
       "  'sat = cv19functions.saturation(5)',\n",
       "  'sat(1)',\n",
       "  'sat(100)',\n",
       "  'sat(0)',\n",
       "  'sat(-30)',\n",
       "  'cv19functions.build(5)',\n",
       "  'a = cv19functions.build(5)',\n",
       "  'a(10)',\n",
       "  'a(0)',\n",
       "  'a(-10)',\n",
       "  'importlib.reload(cv19functions)\\nimport cv19functions',\n",
       "  'sat = cv19functions.saturation(5)',\n",
       "  'sat(0,30)',\n",
       "  'cv19functions.functionAddition(10)',\n",
       "  'cv19functions.functionAddition(10)(0)',\n",
       "  'cv19functions.functionAddition(10,1)(0)',\n",
       "  'importlib.reload(cv19functions)\\nimport cv19functions',\n",
       "  'cv19functions.functionAddition(10,1)(0)',\n",
       "  'cv19functions.functionAddition(10,1)(10)',\n",
       "  'cv19functions.functionAddition(10)(10)',\n",
       "  'cv19functions.functionAddition(10,3)(10)',\n",
       "  'sat = cv19functions.saturation(5)',\n",
       "  'a = cv19functions.build(5)',\n",
       "  'sat(0,30)',\n",
       "  'a = cv19functions.build(5)',\n",
       "  'sat = cv19functions.saturation(a)',\n",
       "  'sat(0,30)',\n",
       "  'sat(0,2)',\n",
       "  'a = cv19functions.build(5)\\nb = cv19functions.build(8)',\n",
       "  'sat(0,2,b)',\n",
       "  'sat(0,b)',\n",
       "  'locals()'],\n",
       " '_oh': {11: 3.7200759760208356e-44,\n",
       "  12: 3.7200759760208356e-44,\n",
       "  13: 3.7200759760208356e-44,\n",
       "  15: 3.7200759760208356e-44,\n",
       "  16: 3.7200759760208356e-44,\n",
       "  17: 3.7200759760208356e-44,\n",
       "  18: 3.7200759760208356e-44,\n",
       "  19: <function cv19functions.build.<locals>.out(t)>,\n",
       "  21: 5,\n",
       "  22: 5,\n",
       "  23: 5,\n",
       "  27: <function cv19functions.functionAddition.<locals>.f(t)>,\n",
       "  31: 11,\n",
       "  32: 11,\n",
       "  33: 10,\n",
       "  34: 13,\n",
       "  37: 1.0,\n",
       "  40: 1.0,\n",
       "  41: 8.75651076269652e-27},\n",
       " '_dh': ['/home/samuel/covid19geomodeller/Examples_2'],\n",
       " 'In': ['',\n",
       "  \"import numpy as np\\nimport pandas as pd\\nimport matplotlib.dates as mdates \\n\\nimport platform\\nOS = platform.system()\\n\\nimport matplotlib.pyplot as plt\\nif OS == 'Linux':    \\n    get_ipython().run_line_magic('matplotlib', 'tk')\\n    print('Linux')\\nelif OS == 'Windows':\\n    get_ipython().run_line_magic('matplotlib', 'qt')\\n    print('Windows')\\nelif OS == 'Darwin':\\n    get_ipython().run_line_magic('matplotlib', 'tk')\\n    print('Mac (Funciona?)')\\nelse:\\n    print('OS not detected :-|')\\n\\nimport sys\\nfrom pathlib import Path\\nsys.path.insert(1, '../src2/models/')\\nsys.path.insert(1, '../src2/utils/')\\nsys.path.insert(1, '../src2/data/')\\n\\nimport cv19functions\",\n",
       "  '#Create time range\\nt = np.arange(0,60,0.01)',\n",
       "  'sat = cv19functions.saturation(5)',\n",
       "  'sat(10)',\n",
       "  'sat(1)',\n",
       "  'import importlib',\n",
       "  'import cv19functions',\n",
       "  'import cv19functions\\nimportlib.reload(cv19functions)\\nfrom cv19functions import cv19functions',\n",
       "  'importlib.reload(cv19functions)\\nimport cv19functions',\n",
       "  'sat = cv19functions.saturation(5)',\n",
       "  'sat(1)',\n",
       "  'sat(10)',\n",
       "  'sat(1)',\n",
       "  'sat = cv19functions.saturation(5)',\n",
       "  'sat(1)',\n",
       "  'sat(100)',\n",
       "  'sat(0)',\n",
       "  'sat(-30)',\n",
       "  'cv19functions.build(5)',\n",
       "  'a = cv19functions.build(5)',\n",
       "  'a(10)',\n",
       "  'a(0)',\n",
       "  'a(-10)',\n",
       "  'importlib.reload(cv19functions)\\nimport cv19functions',\n",
       "  'sat = cv19functions.saturation(5)',\n",
       "  'sat(0,30)',\n",
       "  'cv19functions.functionAddition(10)',\n",
       "  'cv19functions.functionAddition(10)(0)',\n",
       "  'cv19functions.functionAddition(10,1)(0)',\n",
       "  'importlib.reload(cv19functions)\\nimport cv19functions',\n",
       "  'cv19functions.functionAddition(10,1)(0)',\n",
       "  'cv19functions.functionAddition(10,1)(10)',\n",
       "  'cv19functions.functionAddition(10)(10)',\n",
       "  'cv19functions.functionAddition(10,3)(10)',\n",
       "  'sat = cv19functions.saturation(5)',\n",
       "  'a = cv19functions.build(5)',\n",
       "  'sat(0,30)',\n",
       "  'a = cv19functions.build(5)',\n",
       "  'sat = cv19functions.saturation(a)',\n",
       "  'sat(0,30)',\n",
       "  'sat(0,2)',\n",
       "  'a = cv19functions.build(5)\\nb = cv19functions.build(8)',\n",
       "  'sat(0,2,b)',\n",
       "  'sat(0,b)',\n",
       "  'locals()'],\n",
       " 'Out': {11: 3.7200759760208356e-44,\n",
       "  12: 3.7200759760208356e-44,\n",
       "  13: 3.7200759760208356e-44,\n",
       "  15: 3.7200759760208356e-44,\n",
       "  16: 3.7200759760208356e-44,\n",
       "  17: 3.7200759760208356e-44,\n",
       "  18: 3.7200759760208356e-44,\n",
       "  19: <function cv19functions.build.<locals>.out(t)>,\n",
       "  21: 5,\n",
       "  22: 5,\n",
       "  23: 5,\n",
       "  27: <function cv19functions.functionAddition.<locals>.f(t)>,\n",
       "  31: 11,\n",
       "  32: 11,\n",
       "  33: 10,\n",
       "  34: 13,\n",
       "  37: 1.0,\n",
       "  40: 1.0,\n",
       "  41: 8.75651076269652e-27},\n",
       " 'get_ipython': <bound method InteractiveShell.get_ipython of <ipykernel.zmqshell.ZMQInteractiveShell object at 0x7f0eff51d040>>,\n",
       " 'exit': <IPython.core.autocall.ZMQExitAutocall at 0x7f0efc474730>,\n",
       " 'quit': <IPython.core.autocall.ZMQExitAutocall at 0x7f0efc474730>,\n",
       " '_': 8.75651076269652e-27,\n",
       " '__': 1.0,\n",
       " '___': 1.0,\n",
       " '_i': 'sat(0,b)',\n",
       " '_ii': 'sat(0,2,b)',\n",
       " '_iii': 'a = cv19functions.build(5)\\nb = cv19functions.build(8)',\n",
       " '_i1': \"import numpy as np\\nimport pandas as pd\\nimport matplotlib.dates as mdates \\n\\nimport platform\\nOS = platform.system()\\n\\nimport matplotlib.pyplot as plt\\nif OS == 'Linux':    \\n    %matplotlib tk\\n    print('Linux')\\nelif OS == 'Windows':\\n    %matplotlib qt\\n    print('Windows')\\nelif OS == 'Darwin':\\n    %matplotlib tk\\n    print('Mac (Funciona?)')\\nelse:\\n    print('OS not detected :-|')\\n\\nimport sys\\nfrom pathlib import Path\\nsys.path.insert(1, '../src2/models/')\\nsys.path.insert(1, '../src2/utils/')\\nsys.path.insert(1, '../src2/data/')\\n\\nimport cv19functions\",\n",
       " 'np': <module 'numpy' from '/home/samuel/.local/lib/python3.8/site-packages/numpy/__init__.py'>,\n",
       " 'pd': <module 'pandas' from '/home/samuel/.local/lib/python3.8/site-packages/pandas/__init__.py'>,\n",
       " 'mdates': <module 'matplotlib.dates' from '/home/samuel/.local/lib/python3.8/site-packages/matplotlib/dates.py'>,\n",
       " 'platform': <module 'platform' from '/home/samuel/anaconda3/lib/python3.8/platform.py'>,\n",
       " 'OS': 'Linux',\n",
       " 'plt': <module 'matplotlib.pyplot' from '/home/samuel/.local/lib/python3.8/site-packages/matplotlib/pyplot.py'>,\n",
       " 'sys': <module 'sys' (built-in)>,\n",
       " 'Path': pathlib.Path,\n",
       " 'cv19functions': <module 'cv19functions' from '../src2/utils/cv19functions.py'>,\n",
       " '_i2': '#Create time range\\nt = np.arange(0,60,0.01)',\n",
       " 't': array([0.000e+00, 1.000e-02, 2.000e-02, ..., 5.997e+01, 5.998e+01,\n",
       "        5.999e+01]),\n",
       " '_i3': 'sat = cv19functions.saturation(5)',\n",
       " 'sat': <function cv19functions.saturation.<locals>.aux(t, *functions)>,\n",
       " '_i4': 'sat(10)',\n",
       " '_i5': 'sat(1)',\n",
       " '_i6': 'import importlib',\n",
       " 'importlib': <module 'importlib' from '/home/samuel/anaconda3/lib/python3.8/importlib/__init__.py'>,\n",
       " '_i7': 'import cv19functions',\n",
       " '_i8': 'import cv19functions\\nimportlib.reload(cv19functions)\\nfrom cv19functions import cv19functions',\n",
       " '_i9': 'importlib.reload(cv19functions)\\nimport cv19functions',\n",
       " '_i10': 'sat = cv19functions.saturation(5)',\n",
       " '_i11': 'sat(1)',\n",
       " '_11': 3.7200759760208356e-44,\n",
       " '_i12': 'sat(10)',\n",
       " '_12': 3.7200759760208356e-44,\n",
       " '_i13': 'sat(1)',\n",
       " '_13': 3.7200759760208356e-44,\n",
       " '_i14': 'sat = cv19functions.saturation(5)',\n",
       " '_i15': 'sat(1)',\n",
       " '_15': 3.7200759760208356e-44,\n",
       " '_i16': 'sat(100)',\n",
       " '_16': 3.7200759760208356e-44,\n",
       " '_i17': 'sat(0)',\n",
       " '_17': 3.7200759760208356e-44,\n",
       " '_i18': 'sat(-30)',\n",
       " '_18': 3.7200759760208356e-44,\n",
       " '_i19': 'cv19functions.build(5)',\n",
       " '_19': <function cv19functions.build.<locals>.out(t)>,\n",
       " '_i20': 'a = cv19functions.build(5)',\n",
       " 'a': <function cv19functions.build.<locals>.out(t)>,\n",
       " '_i21': 'a(10)',\n",
       " '_21': 5,\n",
       " '_i22': 'a(0)',\n",
       " '_22': 5,\n",
       " '_i23': 'a(-10)',\n",
       " '_23': 5,\n",
       " '_i24': 'importlib.reload(cv19functions)\\nimport cv19functions',\n",
       " '_i25': 'sat = cv19functions.saturation(5)',\n",
       " '_i26': 'sat(0,30)',\n",
       " '_i27': 'cv19functions.functionAddition(10)',\n",
       " '_27': <function cv19functions.functionAddition.<locals>.f(t)>,\n",
       " '_i28': 'cv19functions.functionAddition(10)(0)',\n",
       " '_i29': 'cv19functions.functionAddition(10,1)(0)',\n",
       " '_i30': 'importlib.reload(cv19functions)\\nimport cv19functions',\n",
       " '_i31': 'cv19functions.functionAddition(10,1)(0)',\n",
       " '_31': 11,\n",
       " '_i32': 'cv19functions.functionAddition(10,1)(10)',\n",
       " '_32': 11,\n",
       " '_i33': 'cv19functions.functionAddition(10)(10)',\n",
       " '_33': 10,\n",
       " '_i34': 'cv19functions.functionAddition(10,3)(10)',\n",
       " '_34': 13,\n",
       " '_i35': 'sat = cv19functions.saturation(5)',\n",
       " '_i36': 'a = cv19functions.build(5)',\n",
       " '_i37': 'sat(0,30)',\n",
       " '_37': 1.0,\n",
       " '_i38': 'a = cv19functions.build(5)',\n",
       " '_i39': 'sat = cv19functions.saturation(a)',\n",
       " '_i40': 'sat(0,30)',\n",
       " '_40': 1.0,\n",
       " '_i41': 'sat(0,2)',\n",
       " '_41': 8.75651076269652e-27,\n",
       " '_i42': 'a = cv19functions.build(5)\\nb = cv19functions.build(8)',\n",
       " 'b': <function cv19functions.build.<locals>.out(t)>,\n",
       " '_i43': 'sat(0,2,b)',\n",
       " '_i44': 'sat(0,b)',\n",
       " '_i45': 'locals()'}"
      ]
     },
     "execution_count": 45,
     "metadata": {},
     "output_type": "execute_result"
    }
   ],
   "source": [
    "locals()"
   ]
  },
  {
   "cell_type": "code",
   "execution_count": null,
   "metadata": {},
   "outputs": [],
   "source": []
  }
 ],
 "metadata": {
  "kernelspec": {
   "display_name": "Python 3",
   "language": "python",
   "name": "python3"
  },
  "language_info": {
   "codemirror_mode": {
    "name": "ipython",
    "version": 3
   },
   "file_extension": ".py",
   "mimetype": "text/x-python",
   "name": "python",
   "nbconvert_exporter": "python",
   "pygments_lexer": "ipython3",
   "version": "3.8.3"
  }
 },
 "nbformat": 4,
 "nbformat_minor": 4
}
