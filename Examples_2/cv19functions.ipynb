{
 "cells": [
  {
   "cell_type": "markdown",
   "metadata": {},
   "source": [
    "# cv19functions: Function creation library"
   ]
  },
  {
   "cell_type": "code",
   "execution_count": null,
   "metadata": {},
   "outputs": [],
   "source": [
    "import numpy as np\n",
    "import pandas as pd\n",
    "import matplotlib.dates as mdates \n",
    "\n",
    "import platform\n",
    "OS = platform.system()\n",
    "\n",
    "import matplotlib.pyplot as plt\n",
    "if OS == 'Linux':    \n",
    "    %matplotlib tk\n",
    "    print('Linux')\n",
    "elif OS == 'Windows':\n",
    "    %matplotlib qt\n",
    "    print('Windows')\n",
    "elif OS == 'Darwin':\n",
    "    %matplotlib tk\n",
    "    print('Mac (Funciona?)')\n",
    "else:\n",
    "    print('OS not detected :-|')\n",
    "\n",
    "import sys\n",
    "from pathlib import Path\n",
    "sys.path.insert(1, '../src2/models/')\n",
    "sys.path.insert(1, '../src2/utils/')\n",
    "sys.path.insert(1, '../src2/data/')\n",
    "\n",
    "import cv19functions"
   ]
  },
  {
   "cell_type": "markdown",
   "metadata": {},
   "source": [
    "# Basic functions"
   ]
  },
  {
   "cell_type": "code",
   "execution_count": null,
   "metadata": {},
   "outputs": [],
   "source": [
    "#Create time range\n",
    "t = np.arange(0,60,0.01)"
   ]
  },
  {
   "cell_type": "markdown",
   "metadata": {},
   "source": [
    "## Events\n",
    "Event function creates a function that returns the values that receives in the \"values\" argument during the ranges that it receives in the \"days\" argument. The function will return 0 during the days not comprehended in the days argument.\n",
    "* values: A list or numpy array with the values\n",
    "* days: A list with pairs of values that determine when the function will take the values\n",
    "\n",
    "Overlaped day periods will return the sum of the correspondent values."
   ]
  },
  {
   "cell_type": "code",
   "execution_count": null,
   "metadata": {},
   "outputs": [],
   "source": [
    "Events = cv19functions.Events(values=[0.45,0.85,1.3],days=[[0,10],[10,20],[23,28]])\n",
    "events_eval = [Events(i) for i in t]"
   ]
  },
  {
   "cell_type": "code",
   "execution_count": null,
   "metadata": {},
   "outputs": [],
   "source": [
    "plt.plot(t,events_eval)\n",
    "plt.title('Events function')\n",
    "plt.show()"
   ]
  },
  {
   "cell_type": "markdown",
   "metadata": {},
   "source": [
    "## Periodic functions\n",
    "Creates functions that return the specified periodic function. It can create square, sine or sawtooth waves"
   ]
  },
  {
   "cell_type": "code",
   "execution_count": null,
   "metadata": {},
   "outputs": [],
   "source": [
    "square = cv19functions.square(min_val=0,max_val=1,period=14,init=0,end=1000,off_val=0,initphase='min',duty=0.5)\n",
    "sine = cv19functions.sine(min_val=0,max_val=1,period=7,init=0,end=20,off_val=0,initphase='min')\n",
    "sawtooth = cv19functions.sawtooth(min_val=0,max_val=1,period=14,init=0,end=1000,off_val=0,initphase='min',width=0)"
   ]
  },
  {
   "cell_type": "code",
   "execution_count": null,
   "metadata": {},
   "outputs": [],
   "source": [
    "square_eval = [square(i) for i in t]\n",
    "sine_eval = [sine(i) for i in t]\n",
    "sawtooth_eval = [sawtooth(i) for i in t]"
   ]
  },
  {
   "cell_type": "code",
   "execution_count": null,
   "metadata": {},
   "outputs": [],
   "source": [
    "plt.plot(t,square_eval,label='square')\n",
    "plt.plot(t,sine_eval,label='sine')\n",
    "plt.plot(t,sawtooth_eval,label='sawtooth')\n",
    "plt.title('Periodic Functions')\n",
    "plt.legend(loc=0)\n",
    "plt.show()"
   ]
  },
  {
   "cell_type": "markdown",
   "metadata": {},
   "source": [
    "## Continious change\n",
    "Create functions that increase their value in the specified fashion. It could be linear, quadratic or sigmoid"
   ]
  },
  {
   "cell_type": "code",
   "execution_count": null,
   "metadata": {},
   "outputs": [],
   "source": [
    "linear = cv19functions.increase_linear(t0=0,t1=5,t2=10,maxvalue = 1,increaserate=1)\n",
    "quadratic = cv19functions.increase_quadratic(t0=15,t1=20,t2=25,maxvalue = 1)\n",
    "sigmoid = cv19functions.increase_sigmoid(t0=30,t1=35,t2=40,maxvalue = 1)"
   ]
  },
  {
   "cell_type": "code",
   "execution_count": null,
   "metadata": {},
   "outputs": [],
   "source": [
    "linear_eval = [linear(i) for i in t]\n",
    "quadratic_eval = [quadratic(i) for i in t]\n",
    "sigmoid_eval = [sigmoid(i) for i in t]"
   ]
  },
  {
   "cell_type": "code",
   "execution_count": null,
   "metadata": {},
   "outputs": [],
   "source": [
    "plt.plot(t,linear_eval,label = 'Linear')\n",
    "plt.plot(t,quadratic_eval,label = 'Quadratic')\n",
    "plt.plot(t,sigmoid_eval,label = 'Sigmoid')\n",
    "plt.title('Continoius change')\n",
    "plt.legend(loc=0)\n",
    "plt.show()"
   ]
  },
  {
   "cell_type": "markdown",
   "metadata": {},
   "source": [
    "# Function construtctor\n",
    "The build function receives a string or dictionarie from which it builds the specified function."
   ]
  },
  {
   "cell_type": "code",
   "execution_count": null,
   "metadata": {},
   "outputs": [],
   "source": [
    "constructor = '{\"function\":\"Events\",\"values\":[0.45,0.85],\"days\":[[0,10],[10,20]]}'"
   ]
  },
  {
   "cell_type": "code",
   "execution_count": null,
   "metadata": {},
   "outputs": [],
   "source": [
    "aux = cv19functions.build(constructor)"
   ]
  },
  {
   "cell_type": "code",
   "execution_count": null,
   "metadata": {},
   "outputs": [],
   "source": [
    "aux_eval = [aux(i) for i in t]"
   ]
  },
  {
   "cell_type": "code",
   "execution_count": null,
   "metadata": {},
   "outputs": [],
   "source": [
    "plt.plot(t,aux_eval)"
   ]
  },
  {
   "cell_type": "code",
   "execution_count": null,
   "metadata": {},
   "outputs": [],
   "source": [
    "constructor_sine = '{\"function\":\"sine\",\"min_val\":0,\"max_val\":1,\"period\":7}'"
   ]
  },
  {
   "cell_type": "code",
   "execution_count": null,
   "metadata": {},
   "outputs": [],
   "source": [
    "seno = cv19functions.build(constructor_sine)"
   ]
  },
  {
   "cell_type": "code",
   "execution_count": null,
   "metadata": {},
   "outputs": [],
   "source": [
    "seno_eval = [seno(i) for i in t]"
   ]
  },
  {
   "cell_type": "code",
   "execution_count": null,
   "metadata": {},
   "outputs": [],
   "source": [
    "plt.plot(t,seno_eval)"
   ]
  },
  {
   "cell_type": "code",
   "execution_count": null,
   "metadata": {},
   "outputs": [],
   "source": []
  }
 ],
 "metadata": {
  "kernelspec": {
   "display_name": "Python 3",
   "language": "python",
   "name": "python3"
  },
  "language_info": {
   "codemirror_mode": {
    "name": "ipython",
    "version": 3
   },
   "file_extension": ".py",
   "mimetype": "text/x-python",
   "name": "python",
   "nbconvert_exporter": "python",
   "pygments_lexer": "ipython3",
   "version": "3.8.3"
  }
 },
 "nbformat": 4,
 "nbformat_minor": 4
}
