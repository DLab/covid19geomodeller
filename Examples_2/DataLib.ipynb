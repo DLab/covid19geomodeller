{
 "cells": [
  {
   "cell_type": "code",
   "execution_count": null,
   "metadata": {},
   "outputs": [],
   "source": [
    "import json\n",
    "import pandas as pd\n",
    "from datetime import datetime\n",
    "from datetime import date\n",
    "from datetime import timedelta\n",
    "import numpy as np\n",
    "import platform\n",
    "OS = platform.system()\n",
    "import matplotlib.pyplot as plt\n",
    "if OS == 'Linux':    \n",
    "    %matplotlib tk\n",
    "    print('Linux')\n",
    "elif OS == 'Windows':\n",
    "    %matplotlib qt\n",
    "    print('Windows')\n",
    "elif OS == 'Darwin':\n",
    "    %matplotlib tk\n",
    "    print('Mac (Funciona?)')\n",
    "else:\n",
    "    print('OS not detected :-|')\n",
    "    \n",
    "import sys\n",
    "from pathlib import Path\n",
    "sys.path.insert(1, '/utils/')\n",
    "sys.path.insert(1, '../src2/utils/')\n",
    "sys.path.insert(1, '../src2/data/')\n",
    "\n",
    "from timeutils import timeJStoPy \n",
    "\n",
    "from cv19data import ImportData\n",
    "from cv19data import dataretriever"
   ]
  },
  {
   "cell_type": "markdown",
   "metadata": {},
   "source": [
    "# Data Object\n",
    "Objeto de datos construido a partir de una zona geográfica y de una fecha de inicio de datos. \n",
    "Contiene los datos importados en un dataframe de pandas con los valores alineados por fechas completando los valores no existentes con nans"
   ]
  },
  {
   "cell_type": "code",
   "execution_count": null,
   "metadata": {},
   "outputs": [],
   "source": [
    "initdate = datetime(2020,6,1)\n",
    "tstate = ['01','02','03','04','05','06','07','08','09','10','11','12','13','14','15','16']"
   ]
  },
  {
   "cell_type": "code",
   "execution_count": null,
   "metadata": {},
   "outputs": [],
   "source": [
    "user = 'afosr'\n",
    "password = '5pI50sOjPTDlpH'"
   ]
  },
  {
   "cell_type": "code",
   "execution_count": null,
   "metadata": {},
   "outputs": [],
   "source": [
    "data = ImportData(tstate = tstate, initdate = initdate, user = user,password = password)"
   ]
  },
  {
   "cell_type": "markdown",
   "metadata": {},
   "source": [
    "## Importando data\n",
    "Con esta función se importan los datos necesarios para las simulaciones. Esto se puede demorar un poco"
   ]
  },
  {
   "cell_type": "code",
   "execution_count": null,
   "metadata": {},
   "outputs": [],
   "source": [
    "data.importdata()"
   ]
  },
  {
   "cell_type": "markdown",
   "metadata": {},
   "source": [
    "## Importar un set de datos en particular"
   ]
  },
  {
   "cell_type": "code",
   "execution_count": null,
   "metadata": {},
   "outputs": [],
   "source": [
    "data.importActiveInfected()"
   ]
  },
  {
   "cell_type": "markdown",
   "metadata": {},
   "source": [
    "## Dataframe con la data descargada"
   ]
  },
  {
   "cell_type": "code",
   "execution_count": null,
   "metadata": {},
   "outputs": [],
   "source": [
    "data.data"
   ]
  },
  {
   "cell_type": "markdown",
   "metadata": {},
   "source": [
    "## Plot function (work in progress)\n",
    "La gracia que tiene so far:\n",
    "  * se puede plotear en conjunto series de datos que tienen nans entremedio\n",
    "  * Aparece la fecha completa al hacer hoover\n",
    "  \n",
    " Problemas: \n",
    "  * hartos jaja\n",
    "  * ajuste de tamaños a distintas resoluciones"
   ]
  },
  {
   "cell_type": "code",
   "execution_count": null,
   "metadata": {},
   "outputs": [],
   "source": [
    "# Requiere ejecutar importdata() para tener estos datos descargados\n",
    "data.plot('I_d')\n",
    "data.plot('UCI_use_noncovid',plottype='scatter')"
   ]
  },
  {
   "cell_type": "markdown",
   "metadata": {},
   "source": [
    "### Varios datos en un plot"
   ]
  },
  {
   "cell_type": "code",
   "execution_count": null,
   "metadata": {},
   "outputs": [],
   "source": [
    "data.plot(['UCI_use_noncovid','UCI_use_covid'])"
   ]
  },
  {
   "cell_type": "markdown",
   "metadata": {},
   "source": [
    "# Request Function:\n",
    "Funcion para acceder directamente a los datos de la base de datos. El siguiente spreadsheet tiene la estructura de los datos que tenemos almacenados.\n",
    "https://docs.google.com/spreadsheets/d/12WHobOvKl54Mls1PX11o_dZmJ_Rl_5Y73X3DFkv8sl0/edit#gid=1192901490\n",
    "\n",
    "Para obtener los datos se debe ingresar como argumento el valor de la columna endpoint (J) del spreadsheet, agregando el valor de la zona territorial cuando corresponda (mirar la estructura de la columna URL completo para ver bien como usarlo en estos casos). \n",
    "\n",
    "Si es que ente los argumentos json=True, devuelve un diccionario, en caso de que sea false devuelve el request. Para extraer los datos del request hay que agregar un .json() al final de este. \n",
    "\n",
    "\n",
    "Ojo que la estructuro de los datos cambia de un endpoint a otro, hay que mirar los keys que trae el request inicial (request(x).keys())"
   ]
  },
  {
   "cell_type": "code",
   "execution_count": null,
   "metadata": {},
   "outputs": [],
   "source": [
    "request = dataretriever(user = 'afosr',password = '5pI50sOjPTDlpH',json=True)"
   ]
  },
  {
   "cell_type": "code",
   "execution_count": null,
   "metadata": {},
   "outputs": [],
   "source": [
    "request('getComunas')"
   ]
  },
  {
   "cell_type": "markdown",
   "metadata": {},
   "source": [
    "###  Ejemplo: Casos activos comunal (p19)"
   ]
  },
  {
   "cell_type": "code",
   "execution_count": null,
   "metadata": {},
   "outputs": [],
   "source": [
    "comuna = '13101'"
   ]
  },
  {
   "cell_type": "code",
   "execution_count": null,
   "metadata": {},
   "outputs": [],
   "source": [
    "pd.DataFrame(request('getActiveNewCasesByComuna?comuna='+comuna))"
   ]
  },
  {
   "cell_type": "code",
   "execution_count": null,
   "metadata": {},
   "outputs": [],
   "source": []
  }
 ],
 "metadata": {
  "kernelspec": {
   "display_name": "Python 3",
   "language": "python",
   "name": "python3"
  },
  "language_info": {
   "codemirror_mode": {
    "name": "ipython",
    "version": 3
   },
   "file_extension": ".py",
   "mimetype": "text/x-python",
   "name": "python",
   "nbconvert_exporter": "python",
   "pygments_lexer": "ipython3",
   "version": "3.8.3"
  }
 },
 "nbformat": 4,
 "nbformat_minor": 4
}
