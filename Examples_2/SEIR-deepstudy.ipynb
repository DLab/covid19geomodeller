{
 "cells": [
  {
   "cell_type": "markdown",
   "metadata": {},
   "source": [
    "# SEIR model example\n",
    "\\begin{align}\n",
    "\\dot{S} & = S_f - \\alpha\\beta\\frac{SI}{N+k_I I+k_R R} + r_{R\\_S} R\\\\\n",
    "\\dot{E} & = E_f + \\alpha\\beta\\frac{SI}{N+k_I I+k_R R} - E\\frac{1}{t_{E\\_I}} \\\\\n",
    "\\dot{I} & = E\\frac{1}{t_{E\\_I}} - I\\frac{1}{t_{I\\_R}} \\\\\n",
    "\\dot{R} & = I\\frac{1}{t_{I\\_R}} - r_{I\\_R} R\\\\\n",
    "\\end{align}\n",
    "Where:  \n",
    "* $S:$ Susceptible\n",
    "* $E:$ Exposed\n",
    "* $I:$ Infectious\n",
    "* $R:$ Removed\n",
    "* $\\alpha:$ Mobilty\n",
    "* $\\beta:$ Infection rate\n",
    "* $N:$ Total population\n",
    "* $t_{E\\_I}:$ # Transition time between exposed and infectious\n",
    "* $t_{I\\_R}:$ # Transition time between infectious and recovered\n",
    "* $r_{R\\_S}:$ Immunity loss rate ($\\frac{1}{t_{R\\_S}}$)  \n",
    "* $S_f,E_f,I_f,R_f:$ External flux\n",
    "* $k_I:$ Infected saturation   \n",
    "* $k_R:$ Immunity shield    \n"
   ]
  },
  {
   "cell_type": "code",
   "execution_count": 1,
   "metadata": {},
   "outputs": [],
   "source": [
    "# Util libraries\n",
    "import numpy as np\n",
    "import pandas as pd\n",
    "import matplotlib.pyplot as plt\n",
    "from datetime import datetime\n",
    "# Adding lib paths\n",
    "import sys\n",
    "sys.path.insert(1, '../src2/models/')\n",
    "\n",
    "# cv19 libraries\n",
    "from SEIR import SEIR\n",
    "import toml\n",
    "import copy"
   ]
  },
  {
   "cell_type": "code",
   "execution_count": 2,
   "metadata": {},
   "outputs": [
    {
     "name": "stdout",
     "output_type": "stream",
     "text": [
      "Linux\n"
     ]
    }
   ],
   "source": [
    "# For pop-up plots execute this code (optional)\n",
    "import platform\n",
    "OS = platform.system()\n",
    "\n",
    "if OS == 'Linux':    \n",
    "    %matplotlib tk\n",
    "    print('Linux')\n",
    "elif OS == 'Windows':\n",
    "    %matplotlib qt\n",
    "    print('Windows')\n",
    "elif OS == 'Darwin':\n",
    "    %matplotlib tk\n",
    "    print('Mac (Funciona?)')"
   ]
  },
  {
   "cell_type": "code",
   "execution_count": null,
   "metadata": {},
   "outputs": [],
   "source": []
  },
  {
   "cell_type": "code",
   "execution_count": 39,
   "metadata": {},
   "outputs": [],
   "source": [
    "# Input configuration file\n",
    "config = 'cfg/SEIR.toml'"
   ]
  },
  {
   "cell_type": "code",
   "execution_count": 40,
   "metadata": {},
   "outputs": [],
   "source": [
    "cfg = toml.load(config)"
   ]
  },
  {
   "cell_type": "markdown",
   "metadata": {},
   "source": [
    "# Beta"
   ]
  },
  {
   "cell_type": "markdown",
   "metadata": {},
   "source": [
    "## Beginning"
   ]
  },
  {
   "cell_type": "code",
   "execution_count": 41,
   "metadata": {},
   "outputs": [],
   "source": [
    "var = [0.8,0.9,1,1.1,1.2]\n",
    "simcfg = [copy.deepcopy(cfg) for i in var]"
   ]
  },
  {
   "cell_type": "code",
   "execution_count": 42,
   "metadata": {},
   "outputs": [],
   "source": [
    "for i in range(len(simcfg)):\n",
    "    simcfg[i]['parameters']['dynamic']['beta']=cfg['parameters']['dynamic']['beta']*var[i]"
   ]
  },
  {
   "cell_type": "code",
   "execution_count": 43,
   "metadata": {},
   "outputs": [],
   "source": [
    "%%capture\n",
    "model = SEIR(config=config)\n",
    "model.integrate()\n",
    "peak = max(model.I)"
   ]
  },
  {
   "cell_type": "code",
   "execution_count": 44,
   "metadata": {
    "scrolled": false
   },
   "outputs": [
    {
     "name": "stdout",
     "output_type": "stream",
     "text": [
      "No external data added\n",
      "SEIR object created\n",
      "No external data added\n",
      "SEIR object created\n",
      "No external data added\n",
      "SEIR object created\n",
      "No external data added\n",
      "SEIR object created\n",
      "No external data added\n",
      "SEIR object created\n"
     ]
    }
   ],
   "source": [
    "# Build simulation object\n",
    "sim = []\n",
    "for i in simcfg:\n",
    "    sim.append(SEIR(config = i))"
   ]
  },
  {
   "cell_type": "code",
   "execution_count": 45,
   "metadata": {},
   "outputs": [],
   "source": [
    "%%capture\n",
    "# Simulate (solve ODE)\n",
    "for i in sim:\n",
    "    i.integrate()"
   ]
  },
  {
   "cell_type": "code",
   "execution_count": 46,
   "metadata": {},
   "outputs": [],
   "source": [
    "for i in range(len(sim)):\n",
    "    plt.plot(sim[i].t,sim[i].I/peak,label='Beta: '+str(int(var[i]*100))+'%')\n",
    "plt.xlim(0,300)\n",
    "plt.legend(loc=0)\n",
    "plt.title('Beta')\n",
    "plt.ylabel('Infectious')\n",
    "plt.xlabel('day')\n",
    "plt.show()"
   ]
  },
  {
   "cell_type": "markdown",
   "metadata": {},
   "source": [
    "## During Simulation"
   ]
  },
  {
   "cell_type": "code",
   "execution_count": 47,
   "metadata": {},
   "outputs": [],
   "source": [
    "var2 = [0.8,0.9,1,1.1,1.2]\n",
    "simcfg2 = [copy.deepcopy(cfg) for i in var2]"
   ]
  },
  {
   "cell_type": "code",
   "execution_count": 48,
   "metadata": {},
   "outputs": [],
   "source": [
    "alpha = []\n",
    "for i in var2:\n",
    "    alpha.append('{\"function\":\"Events\",\"values\":[1,'+str(i)+'],\"days\":[[0,30],[30,500]]}')"
   ]
  },
  {
   "cell_type": "code",
   "execution_count": 49,
   "metadata": {},
   "outputs": [],
   "source": [
    "for i in range(len(simcfg2)):\n",
    "    simcfg2[i]['parameters']['dynamic']['alpha']=alpha[i]"
   ]
  },
  {
   "cell_type": "code",
   "execution_count": 50,
   "metadata": {
    "scrolled": false
   },
   "outputs": [],
   "source": [
    "%%capture\n",
    "# Build simulation object\n",
    "sim2 = []\n",
    "for i in simcfg2:\n",
    "    sim2.append(SEIR(config = i))"
   ]
  },
  {
   "cell_type": "code",
   "execution_count": 51,
   "metadata": {},
   "outputs": [],
   "source": [
    "%%capture\n",
    "# Simulate (solve ODE)\n",
    "for i in sim2:\n",
    "    i.integrate()"
   ]
  },
  {
   "cell_type": "code",
   "execution_count": 76,
   "metadata": {},
   "outputs": [],
   "source": [
    "for i in range(len(sim2)):\n",
    "    plt.plot(sim2[i].t,sim2[i].I/peak,label='Beta: '+str(int(var2[i]*100))+'%')\n",
    "plt.xlim(0,300)\n",
    "plt.legend(loc=0)\n",
    "plt.title('Beta')\n",
    "plt.ylabel('Infectious')\n",
    "plt.xlabel('day')\n",
    "plt.axvline(20,linestyle='dashed',color='grey')\n",
    "plt.show()"
   ]
  },
  {
   "cell_type": "markdown",
   "metadata": {},
   "source": [
    "# Population"
   ]
  },
  {
   "cell_type": "markdown",
   "metadata": {},
   "source": [
    "## Beginning"
   ]
  },
  {
   "cell_type": "code",
   "execution_count": 53,
   "metadata": {},
   "outputs": [],
   "source": [
    "population = cfg['initialconditions']['population']"
   ]
  },
  {
   "cell_type": "code",
   "execution_count": 54,
   "metadata": {},
   "outputs": [],
   "source": [
    "var3 = [0.8,0.9,1,1.1,1.2]\n",
    "simcfg3 = [copy.deepcopy(cfg) for i in var3]"
   ]
  },
  {
   "cell_type": "code",
   "execution_count": 55,
   "metadata": {},
   "outputs": [],
   "source": [
    "for i in range(len(simcfg3)):\n",
    "    simcfg3[i]['initialconditions']['population']=population*var3[i]"
   ]
  },
  {
   "cell_type": "code",
   "execution_count": 56,
   "metadata": {
    "scrolled": false
   },
   "outputs": [],
   "source": [
    "%%capture\n",
    "# Build simulation object\n",
    "sim3 = []\n",
    "for i in simcfg3:\n",
    "    sim3.append(SEIR(config = i))"
   ]
  },
  {
   "cell_type": "code",
   "execution_count": 57,
   "metadata": {},
   "outputs": [],
   "source": [
    "%%capture\n",
    "# Simulate (solve ODE)\n",
    "for i in sim3:\n",
    "    i.integrate()"
   ]
  },
  {
   "cell_type": "code",
   "execution_count": 58,
   "metadata": {},
   "outputs": [
    {
     "data": {
      "text/plain": [
       "[<SEIR.SEIR at 0x7f874cf8ae80>,\n",
       " <SEIR.SEIR at 0x7f874cffebb0>,\n",
       " <SEIR.SEIR at 0x7f874cffeee0>,\n",
       " <SEIR.SEIR at 0x7f874cffec10>,\n",
       " <SEIR.SEIR at 0x7f874cffe100>]"
      ]
     },
     "execution_count": 58,
     "metadata": {},
     "output_type": "execute_result"
    }
   ],
   "source": [
    "sim3"
   ]
  },
  {
   "cell_type": "code",
   "execution_count": 59,
   "metadata": {},
   "outputs": [],
   "source": [
    "for i in range(len(sim3)):\n",
    "    plt.plot(sim3[i].t,sim3[i].I/peak,label='Population: '+str(int(var3[i]*100))+'%')\n",
    "plt.xlim(0,300)\n",
    "plt.legend(loc=0)\n",
    "plt.title('Population')\n",
    "plt.ylabel('Infectious')\n",
    "plt.xlabel('day')\n",
    "plt.show()"
   ]
  },
  {
   "cell_type": "code",
   "execution_count": null,
   "metadata": {},
   "outputs": [],
   "source": []
  },
  {
   "cell_type": "markdown",
   "metadata": {},
   "source": [
    "## During Simulation"
   ]
  },
  {
   "cell_type": "code",
   "execution_count": 66,
   "metadata": {},
   "outputs": [],
   "source": [
    "var4 = [-0.03,-0.015,0,0.015,0.03]"
   ]
  },
  {
   "cell_type": "code",
   "execution_count": 67,
   "metadata": {},
   "outputs": [],
   "source": [
    "S_f = []\n",
    "for i in var4:\n",
    "    S_f.append('{\"function\":\"Events\",\"values\":['+str(population*i)+'],\"days\":[[20,25]]}')"
   ]
  },
  {
   "cell_type": "code",
   "execution_count": 68,
   "metadata": {},
   "outputs": [],
   "source": [
    "simcfg4 = [copy.deepcopy(cfg) for i in var4]\n",
    "for i in range(len(simcfg4)):\n",
    "    simcfg4[i]['parameters']['dynamic']['S_f']=S_f[i]"
   ]
  },
  {
   "cell_type": "code",
   "execution_count": 69,
   "metadata": {
    "scrolled": false
   },
   "outputs": [
    {
     "name": "stdout",
     "output_type": "stream",
     "text": [
      "Executing Events\n",
      "No external data added\n",
      "SEIR object created\n",
      "Executing Events\n",
      "No external data added\n",
      "SEIR object created\n",
      "Executing Events\n",
      "No external data added\n",
      "SEIR object created\n",
      "Executing Events\n",
      "No external data added\n",
      "SEIR object created\n",
      "Executing Events\n",
      "No external data added\n",
      "SEIR object created\n"
     ]
    }
   ],
   "source": [
    "# Build simulation object\n",
    "sim4 = []\n",
    "for i in simcfg4:\n",
    "    sim4.append(SEIR(config = i))"
   ]
  },
  {
   "cell_type": "code",
   "execution_count": 70,
   "metadata": {},
   "outputs": [],
   "source": [
    "%%capture\n",
    "# Simulate (solve ODE)\n",
    "for i in sim4:\n",
    "    i.integrate()"
   ]
  },
  {
   "cell_type": "code",
   "execution_count": 75,
   "metadata": {},
   "outputs": [],
   "source": [
    "for i in range(len(sim)):\n",
    "    plt.plot(sim4[i].t,sim4[i].I/peak,label='Population: '+str(int(var4[i]*100*10))+'%',linestyle='dashed')\n",
    "plt.xlim(0,300)\n",
    "plt.legend(loc=0)\n",
    "plt.title('Population')\n",
    "plt.ylabel('Infectious')\n",
    "plt.xlabel('day')\n",
    "plt.axvline(20,linestyle='dashed',color='grey')\n",
    "plt.show()"
   ]
  },
  {
   "cell_type": "code",
   "execution_count": null,
   "metadata": {},
   "outputs": [],
   "source": []
  }
 ],
 "metadata": {
  "kernelspec": {
   "display_name": "Python 3",
   "language": "python",
   "name": "python3"
  },
  "language_info": {
   "codemirror_mode": {
    "name": "ipython",
    "version": 3
   },
   "file_extension": ".py",
   "mimetype": "text/x-python",
   "name": "python",
   "nbconvert_exporter": "python",
   "pygments_lexer": "ipython3",
   "version": "3.8.3"
  }
 },
 "nbformat": 4,
 "nbformat_minor": 4
}
