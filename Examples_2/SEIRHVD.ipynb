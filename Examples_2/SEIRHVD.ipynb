{
 "cells": [
  {
   "cell_type": "markdown",
   "metadata": {},
   "source": [
    "# SRC2 testing"
   ]
  },
  {
   "cell_type": "markdown",
   "metadata": {},
   "source": [
    "## Import"
   ]
  },
  {
   "cell_type": "code",
   "execution_count": 1,
   "metadata": {},
   "outputs": [
    {
     "name": "stdout",
     "output_type": "stream",
     "text": [
      "Linux\n"
     ]
    }
   ],
   "source": [
    "import numpy as np\n",
    "import pandas as pd\n",
    "import matplotlib.pyplot as plt\n",
    "import matplotlib.dates as mdates \n",
    "from datetime import datetime\n",
    "from numpy import linalg as LA\n",
    "import multiprocessing\n",
    "from joblib import Parallel, delayed\n",
    "from datetime import timedelta\n",
    "\n",
    "import platform\n",
    "OS = platform.system()\n",
    "\n",
    "import matplotlib.pyplot as plt\n",
    "if OS == 'Linux':    \n",
    "    %matplotlib tk\n",
    "    print('Linux')\n",
    "elif OS == 'Windows':\n",
    "    %matplotlib qt\n",
    "    print('Windows')\n",
    "elif OS == 'Darwin':\n",
    "    %matplotlib tk\n",
    "    print('Mac (Funciona?)')\n",
    "else:\n",
    "    print('OS not detected :-|')\n",
    "\n",
    "import sys\n",
    "from pathlib import Path\n",
    "sys.path.insert(1, '../src2/data/')\n",
    "sys.path.insert(1, '../src2/models/')\n",
    "sys.path.insert(1, '../src2/utils/')\n",
    "import toml\n",
    "\n",
    "from SEIRHVD import SEIRHVD \n",
    "import functions\n",
    "from cv19data import ImportData"
   ]
  },
  {
   "cell_type": "markdown",
   "metadata": {},
   "source": [
    "# Importing Data"
   ]
  },
  {
   "cell_type": "code",
   "execution_count": 2,
   "metadata": {},
   "outputs": [],
   "source": [
    "# First simulation Initial date\n",
    "initdate = datetime(2020,12,1)\n",
    "# Date for change in SeroPrevalence\n",
    "SPchange_date = datetime(2020,7,25)\n",
    "\n",
    "# Current date\n",
    "currentdate = datetime.now()\n",
    "currentday = (currentdate - initdate).days\n",
    "\n",
    "fiestaspatrias = datetime(2020,9,18)\n",
    "fiestaspatrias_day = (fiestaspatrias-initdate).days\n",
    "plebiscito = datetime(2020,10,25)\n",
    "plebiscito_day = (plebiscito-initdate).days\n",
    "\n",
    "navidad = datetime(2020,12,25)\n",
    "navidad_day = (navidad-initdate).days\n",
    "\n",
    "newyear = datetime(2020,12,31)\n",
    "newyear_day = (newyear-initdate).days\n",
    "\n",
    "today = datetime.today()\n",
    "today_day = (today-initdate).days"
   ]
  },
  {
   "cell_type": "code",
   "execution_count": 3,
   "metadata": {},
   "outputs": [
    {
     "name": "stdout",
     "output_type": "stream",
     "text": [
      "Importing data from Region Metropolitana\n",
      "Importing General Data\n",
      "Importing Population\n",
      "Importing Active infected\n",
      "updating database\n",
      "Importing Accumulated Infected\n",
      "updating database\n",
      "Importing Daily Infected\n",
      "updating database\n",
      "Importing ICU Beds Data\n",
      "updating database\n",
      "Importing Deaths by DEIS\n",
      "updating database\n",
      "Done\n"
     ]
    }
   ],
   "source": [
    "print('Importing data from Region Metropolitana')\n",
    "tstate = '13'#['01','02','03','04','05','06','07','08','09','10','11','12','13','14','15','16']\n",
    "#tstate = '13101'\n",
    "# Import Data\n",
    "state = ImportData(tstate=tstate,initdate = initdate)\n",
    "state.importdata()\n",
    "\n",
    "#state.importDailyInfectedNacional()"
   ]
  },
  {
   "cell_type": "code",
   "execution_count": 4,
   "metadata": {},
   "outputs": [
    {
     "data": {
      "text/html": [
       "<div>\n",
       "<style scoped>\n",
       "    .dataframe tbody tr th:only-of-type {\n",
       "        vertical-align: middle;\n",
       "    }\n",
       "\n",
       "    .dataframe tbody tr th {\n",
       "        vertical-align: top;\n",
       "    }\n",
       "\n",
       "    .dataframe thead th {\n",
       "        text-align: right;\n",
       "    }\n",
       "</style>\n",
       "<table border=\"1\" class=\"dataframe\">\n",
       "  <thead>\n",
       "    <tr style=\"text-align: right;\">\n",
       "      <th></th>\n",
       "      <th>days</th>\n",
       "      <th>dates</th>\n",
       "      <th>I</th>\n",
       "      <th>I_ac</th>\n",
       "      <th>I_d</th>\n",
       "      <th>UCI_capacity</th>\n",
       "      <th>UCI_use_covid</th>\n",
       "      <th>UCI_use_noncovid</th>\n",
       "      <th>D_confirmed</th>\n",
       "      <th>D_suspected</th>\n",
       "      <th>D_ac_confirmed</th>\n",
       "      <th>D_ac_suspected</th>\n",
       "    </tr>\n",
       "  </thead>\n",
       "  <tbody>\n",
       "    <tr>\n",
       "      <th>0</th>\n",
       "      <td>0</td>\n",
       "      <td>2020-12-01</td>\n",
       "      <td>NaN</td>\n",
       "      <td>NaN</td>\n",
       "      <td>531.0</td>\n",
       "      <td>1085.0</td>\n",
       "      <td>321.0</td>\n",
       "      <td>657.0</td>\n",
       "      <td>9.0</td>\n",
       "      <td>7.0</td>\n",
       "      <td>9.0</td>\n",
       "      <td>7.0</td>\n",
       "    </tr>\n",
       "    <tr>\n",
       "      <th>1</th>\n",
       "      <td>1</td>\n",
       "      <td>2020-12-02</td>\n",
       "      <td>NaN</td>\n",
       "      <td>NaN</td>\n",
       "      <td>476.0</td>\n",
       "      <td>1087.0</td>\n",
       "      <td>318.0</td>\n",
       "      <td>665.0</td>\n",
       "      <td>18.0</td>\n",
       "      <td>2.0</td>\n",
       "      <td>27.0</td>\n",
       "      <td>9.0</td>\n",
       "    </tr>\n",
       "    <tr>\n",
       "      <th>2</th>\n",
       "      <td>2</td>\n",
       "      <td>2020-12-03</td>\n",
       "      <td>NaN</td>\n",
       "      <td>NaN</td>\n",
       "      <td>442.0</td>\n",
       "      <td>1104.0</td>\n",
       "      <td>312.0</td>\n",
       "      <td>670.0</td>\n",
       "      <td>15.0</td>\n",
       "      <td>7.0</td>\n",
       "      <td>42.0</td>\n",
       "      <td>16.0</td>\n",
       "    </tr>\n",
       "    <tr>\n",
       "      <th>3</th>\n",
       "      <td>3</td>\n",
       "      <td>2020-12-04</td>\n",
       "      <td>2800.0</td>\n",
       "      <td>332141.0</td>\n",
       "      <td>428.0</td>\n",
       "      <td>1095.0</td>\n",
       "      <td>293.0</td>\n",
       "      <td>689.0</td>\n",
       "      <td>11.0</td>\n",
       "      <td>5.0</td>\n",
       "      <td>53.0</td>\n",
       "      <td>21.0</td>\n",
       "    </tr>\n",
       "    <tr>\n",
       "      <th>4</th>\n",
       "      <td>4</td>\n",
       "      <td>2020-12-05</td>\n",
       "      <td>NaN</td>\n",
       "      <td>NaN</td>\n",
       "      <td>438.0</td>\n",
       "      <td>1093.0</td>\n",
       "      <td>281.0</td>\n",
       "      <td>699.0</td>\n",
       "      <td>14.0</td>\n",
       "      <td>5.0</td>\n",
       "      <td>67.0</td>\n",
       "      <td>26.0</td>\n",
       "    </tr>\n",
       "    <tr>\n",
       "      <th>...</th>\n",
       "      <td>...</td>\n",
       "      <td>...</td>\n",
       "      <td>...</td>\n",
       "      <td>...</td>\n",
       "      <td>...</td>\n",
       "      <td>...</td>\n",
       "      <td>...</td>\n",
       "      <td>...</td>\n",
       "      <td>...</td>\n",
       "      <td>...</td>\n",
       "      <td>...</td>\n",
       "      <td>...</td>\n",
       "    </tr>\n",
       "    <tr>\n",
       "      <th>114</th>\n",
       "      <td>114</td>\n",
       "      <td>2021-03-25</td>\n",
       "      <td>NaN</td>\n",
       "      <td>NaN</td>\n",
       "      <td>2718.0</td>\n",
       "      <td>NaN</td>\n",
       "      <td>NaN</td>\n",
       "      <td>NaN</td>\n",
       "      <td>NaN</td>\n",
       "      <td>NaN</td>\n",
       "      <td>NaN</td>\n",
       "      <td>NaN</td>\n",
       "    </tr>\n",
       "    <tr>\n",
       "      <th>115</th>\n",
       "      <td>115</td>\n",
       "      <td>2021-03-26</td>\n",
       "      <td>17659.0</td>\n",
       "      <td>458616.0</td>\n",
       "      <td>2732.0</td>\n",
       "      <td>NaN</td>\n",
       "      <td>NaN</td>\n",
       "      <td>NaN</td>\n",
       "      <td>NaN</td>\n",
       "      <td>NaN</td>\n",
       "      <td>NaN</td>\n",
       "      <td>NaN</td>\n",
       "    </tr>\n",
       "    <tr>\n",
       "      <th>116</th>\n",
       "      <td>116</td>\n",
       "      <td>2021-03-27</td>\n",
       "      <td>NaN</td>\n",
       "      <td>NaN</td>\n",
       "      <td>NaN</td>\n",
       "      <td>NaN</td>\n",
       "      <td>NaN</td>\n",
       "      <td>NaN</td>\n",
       "      <td>NaN</td>\n",
       "      <td>NaN</td>\n",
       "      <td>NaN</td>\n",
       "      <td>NaN</td>\n",
       "    </tr>\n",
       "    <tr>\n",
       "      <th>117</th>\n",
       "      <td>117</td>\n",
       "      <td>2021-03-28</td>\n",
       "      <td>NaN</td>\n",
       "      <td>NaN</td>\n",
       "      <td>NaN</td>\n",
       "      <td>NaN</td>\n",
       "      <td>NaN</td>\n",
       "      <td>NaN</td>\n",
       "      <td>NaN</td>\n",
       "      <td>NaN</td>\n",
       "      <td>NaN</td>\n",
       "      <td>NaN</td>\n",
       "    </tr>\n",
       "    <tr>\n",
       "      <th>118</th>\n",
       "      <td>118</td>\n",
       "      <td>2021-03-29</td>\n",
       "      <td>NaN</td>\n",
       "      <td>NaN</td>\n",
       "      <td>NaN</td>\n",
       "      <td>NaN</td>\n",
       "      <td>NaN</td>\n",
       "      <td>NaN</td>\n",
       "      <td>NaN</td>\n",
       "      <td>NaN</td>\n",
       "      <td>NaN</td>\n",
       "      <td>NaN</td>\n",
       "    </tr>\n",
       "  </tbody>\n",
       "</table>\n",
       "<p>119 rows × 12 columns</p>\n",
       "</div>"
      ],
      "text/plain": [
       "     days      dates        I      I_ac     I_d  UCI_capacity  UCI_use_covid  \\\n",
       "0       0 2020-12-01      NaN       NaN   531.0        1085.0          321.0   \n",
       "1       1 2020-12-02      NaN       NaN   476.0        1087.0          318.0   \n",
       "2       2 2020-12-03      NaN       NaN   442.0        1104.0          312.0   \n",
       "3       3 2020-12-04   2800.0  332141.0   428.0        1095.0          293.0   \n",
       "4       4 2020-12-05      NaN       NaN   438.0        1093.0          281.0   \n",
       "..    ...        ...      ...       ...     ...           ...            ...   \n",
       "114   114 2021-03-25      NaN       NaN  2718.0           NaN            NaN   \n",
       "115   115 2021-03-26  17659.0  458616.0  2732.0           NaN            NaN   \n",
       "116   116 2021-03-27      NaN       NaN     NaN           NaN            NaN   \n",
       "117   117 2021-03-28      NaN       NaN     NaN           NaN            NaN   \n",
       "118   118 2021-03-29      NaN       NaN     NaN           NaN            NaN   \n",
       "\n",
       "     UCI_use_noncovid  D_confirmed  D_suspected  D_ac_confirmed  \\\n",
       "0               657.0          9.0          7.0             9.0   \n",
       "1               665.0         18.0          2.0            27.0   \n",
       "2               670.0         15.0          7.0            42.0   \n",
       "3               689.0         11.0          5.0            53.0   \n",
       "4               699.0         14.0          5.0            67.0   \n",
       "..                ...          ...          ...             ...   \n",
       "114               NaN          NaN          NaN             NaN   \n",
       "115               NaN          NaN          NaN             NaN   \n",
       "116               NaN          NaN          NaN             NaN   \n",
       "117               NaN          NaN          NaN             NaN   \n",
       "118               NaN          NaN          NaN             NaN   \n",
       "\n",
       "     D_ac_suspected  \n",
       "0               7.0  \n",
       "1               9.0  \n",
       "2              16.0  \n",
       "3              21.0  \n",
       "4              26.0  \n",
       "..              ...  \n",
       "114             NaN  \n",
       "115             NaN  \n",
       "116             NaN  \n",
       "117             NaN  \n",
       "118             NaN  \n",
       "\n",
       "[119 rows x 12 columns]"
      ]
     },
     "execution_count": 4,
     "metadata": {},
     "output_type": "execute_result"
    }
   ],
   "source": [
    "state.data"
   ]
  },
  {
   "cell_type": "code",
   "execution_count": 11,
   "metadata": {},
   "outputs": [],
   "source": [
    "state.plot('days','I')\n",
    "state.plot('days','I_d')"
   ]
  },
  {
   "cell_type": "code",
   "execution_count": 17,
   "metadata": {},
   "outputs": [
    {
     "data": {
      "text/plain": [
       "0          NaN\n",
       "1          NaN\n",
       "2          NaN\n",
       "3       2800.0\n",
       "4          NaN\n",
       "        ...   \n",
       "110        NaN\n",
       "111    15515.0\n",
       "112        NaN\n",
       "113        NaN\n",
       "114        NaN\n",
       "Name: I, Length: 115, dtype: float64"
      ]
     },
     "execution_count": 17,
     "metadata": {},
     "output_type": "execute_result"
    }
   ],
   "source": [
    "state.data['I']"
   ]
  },
  {
   "cell_type": "code",
   "execution_count": 25,
   "metadata": {},
   "outputs": [
    {
     "name": "stderr",
     "output_type": "stream",
     "text": [
      "No handles with labels found to put in legend.\n"
     ]
    },
    {
     "data": {
      "text/plain": [
       "<function matplotlib.pyplot.plot(*args, scalex=True, scaley=True, data=None, **kwargs)>"
      ]
     },
     "execution_count": 25,
     "metadata": {},
     "output_type": "execute_result"
    }
   ],
   "source": [
    "aux = state.data[['days','I']].dropna()\n",
    "plt.plot(aux['days'],aux['I'])\n",
    "plt.xlabel('test')\n",
    "plt.legend(loc=0)\n",
    "plt.plot"
   ]
  },
  {
   "cell_type": "markdown",
   "metadata": {},
   "source": [
    "## Config File"
   ]
  },
  {
   "cell_type": "markdown",
   "metadata": {},
   "source": [
    "# Create SEIRHVD Object"
   ]
  },
  {
   "cell_type": "code",
   "execution_count": 4,
   "metadata": {},
   "outputs": [],
   "source": [
    "cfg = '/home/samuel/covid19geomodeller/config_files/SEIRHVD.toml'"
   ]
  },
  {
   "cell_type": "code",
   "execution_count": 7,
   "metadata": {},
   "outputs": [],
   "source": [
    "cfgdata = toml.load(cfg)"
   ]
  },
  {
   "cell_type": "code",
   "execution_count": 33,
   "metadata": {},
   "outputs": [],
   "source": [
    "import time"
   ]
  },
  {
   "cell_type": "code",
   "execution_count": 34,
   "metadata": {},
   "outputs": [
    {
     "data": {
      "text/plain": [
       "1616434394.337443"
      ]
     },
     "execution_count": 34,
     "metadata": {},
     "output_type": "execute_result"
    }
   ],
   "source": [
    "start = time.time()\n",
    "end  = time.time()"
   ]
  },
  {
   "cell_type": "code",
   "execution_count": 28,
   "metadata": {},
   "outputs": [],
   "source": [
    "def a_f(t):\n",
    "    return 4"
   ]
  },
  {
   "cell_type": "code",
   "execution_count": 55,
   "metadata": {},
   "outputs": [],
   "source": [
    "times = []\n",
    "for i in range(100):\n",
    "    start = time.time()\n",
    "    c = a + 3 \n",
    "    end = time.time()\n",
    "    times.append(end-start)"
   ]
  },
  {
   "cell_type": "code",
   "execution_count": 57,
   "metadata": {},
   "outputs": [],
   "source": [
    "times_f = []\n",
    "for i in range(100):\n",
    "    start = time.time()\n",
    "    c_f = a_f(10) + 3\n",
    "    end = time.time()\n",
    "    times_f.append(end-start)"
   ]
  },
  {
   "cell_type": "code",
   "execution_count": 59,
   "metadata": {},
   "outputs": [
    {
     "data": {
      "text/plain": [
       "1.6927719116210937e-07"
      ]
     },
     "execution_count": 59,
     "metadata": {},
     "output_type": "execute_result"
    }
   ],
   "source": [
    "np.mean(times)"
   ]
  },
  {
   "cell_type": "code",
   "execution_count": 60,
   "metadata": {},
   "outputs": [
    {
     "data": {
      "text/plain": [
       "1.6689300537109374e-07"
      ]
     },
     "execution_count": 60,
     "metadata": {},
     "output_type": "execute_result"
    }
   ],
   "source": [
    "np.mean(times_f)"
   ]
  },
  {
   "cell_type": "markdown",
   "metadata": {},
   "source": [
    "# SEIRHVD object initialization"
   ]
  },
  {
   "cell_type": "code",
   "execution_count": 6,
   "metadata": {},
   "outputs": [],
   "source": [
    "import importlib"
   ]
  },
  {
   "cell_type": "code",
   "execution_count": 7,
   "metadata": {},
   "outputs": [
    {
     "data": {
      "text/plain": [
       "<module 'matplotlib.pyplot' from '/home/samuel/.local/lib/python3.8/site-packages/matplotlib/pyplot.py'>"
      ]
     },
     "execution_count": 7,
     "metadata": {},
     "output_type": "execute_result"
    }
   ],
   "source": [
    "importlib.reload(plt)"
   ]
  },
  {
   "cell_type": "code",
   "execution_count": 8,
   "metadata": {},
   "outputs": [],
   "source": [
    "import SEIRHVD\n",
    "importlib.reload(SEIRHVD)\n",
    "from SEIRHVD import SEIRHVD"
   ]
  },
  {
   "cell_type": "code",
   "execution_count": 9,
   "metadata": {},
   "outputs": [],
   "source": [
    "cfg = '/home/samuel/covid19geomodeller/config_files/SEIRHVD.toml'"
   ]
  },
  {
   "cell_type": "code",
   "execution_count": 10,
   "metadata": {},
   "outputs": [
    {
     "name": "stdout",
     "output_type": "stream",
     "text": [
      "Importing data\n",
      "Importing General Data\n",
      "Importing Population\n",
      "Dlab Endpoint Error\n",
      "Importing Population\n",
      "Importing Active infected\n",
      "updating database\n",
      "Importing Accumulated Infected\n",
      "updating database\n",
      "Importing Daily Infected\n",
      "updating database\n",
      "Importing ICU Beds Data\n",
      "updating database\n",
      "Importing Deaths by DEIS\n",
      "updating database\n",
      "Done\n"
     ]
    },
    {
     "ename": "AttributeError",
     "evalue": "'SEIRHVD' object has no attribute 'H_cap'",
     "output_type": "error",
     "traceback": [
      "\u001b[0;31m---------------------------------------------------------------------------\u001b[0m",
      "\u001b[0;31mAttributeError\u001b[0m                            Traceback (most recent call last)",
      "\u001b[0;32m<ipython-input-10-e1662d0a13c4>\u001b[0m in \u001b[0;36m<module>\u001b[0;34m\u001b[0m\n\u001b[0;32m----> 1\u001b[0;31m \u001b[0msim\u001b[0m \u001b[0;34m=\u001b[0m \u001b[0mSEIRHVD\u001b[0m\u001b[0;34m(\u001b[0m\u001b[0mcfg\u001b[0m\u001b[0;34m=\u001b[0m\u001b[0mcfg\u001b[0m\u001b[0;34m)\u001b[0m\u001b[0;34m\u001b[0m\u001b[0;34m\u001b[0m\u001b[0m\n\u001b[0m",
      "\u001b[0;32m~/covid19geomodeller/src2/models/SEIRHVD.py\u001b[0m in \u001b[0;36m__init__\u001b[0;34m(self, cfg, cv19data_obj, tsim, beta, mu, alpha, k, chi, k_I, k_R, H_cap, V_cap, H, V, B, D, R, I, I_d, I_ac, seroprevfactor, expinfection, population, initdate, pImi_det, pIas_det, pIse_det, pIcr_det, SimIC, IC)\u001b[0m\n\u001b[1;32m    106\u001b[0m         \u001b[0;32mif\u001b[0m \u001b[0mcfg\u001b[0m\u001b[0;34m:\u001b[0m\u001b[0;34m\u001b[0m\u001b[0;34m\u001b[0m\u001b[0m\n\u001b[1;32m    107\u001b[0m             \u001b[0;31m# Build Hospital Capacities\u001b[0m\u001b[0;34m\u001b[0m\u001b[0;34m\u001b[0m\u001b[0;34m\u001b[0m\u001b[0m\n\u001b[0;32m--> 108\u001b[0;31m             \u001b[0;32mif\u001b[0m \u001b[0mtype\u001b[0m\u001b[0;34m(\u001b[0m\u001b[0mself\u001b[0m\u001b[0;34m.\u001b[0m\u001b[0mH_cap\u001b[0m\u001b[0;34m)\u001b[0m\u001b[0;34m==\u001b[0m\u001b[0mint\u001b[0m \u001b[0;32mor\u001b[0m \u001b[0mtype\u001b[0m\u001b[0;34m(\u001b[0m\u001b[0mself\u001b[0m\u001b[0;34m.\u001b[0m\u001b[0mH_cap\u001b[0m\u001b[0;34m)\u001b[0m\u001b[0;34m==\u001b[0m\u001b[0mfloat\u001b[0m\u001b[0;34m:\u001b[0m\u001b[0;34m\u001b[0m\u001b[0;34m\u001b[0m\u001b[0m\n\u001b[0m\u001b[1;32m    109\u001b[0m                 \u001b[0mself\u001b[0m\u001b[0;34m.\u001b[0m\u001b[0mH_cap\u001b[0m \u001b[0;34m=\u001b[0m \u001b[0mnp\u001b[0m\u001b[0;34m.\u001b[0m\u001b[0mpoly1d\u001b[0m\u001b[0;34m(\u001b[0m\u001b[0mself\u001b[0m\u001b[0;34m.\u001b[0m\u001b[0mH_cap\u001b[0m\u001b[0;34m)\u001b[0m\u001b[0;34m\u001b[0m\u001b[0;34m\u001b[0m\u001b[0m\n\u001b[1;32m    110\u001b[0m             \u001b[0;32melse\u001b[0m\u001b[0;34m:\u001b[0m\u001b[0;34m\u001b[0m\u001b[0;34m\u001b[0m\u001b[0m\n",
      "\u001b[0;31mAttributeError\u001b[0m: 'SEIRHVD' object has no attribute 'H_cap'"
     ]
    }
   ],
   "source": [
    "sim = SEIRHVD(cfg=cfg)"
   ]
  },
  {
   "cell_type": "code",
   "execution_count": 170,
   "metadata": {},
   "outputs": [
    {
     "data": {
      "text/plain": [
       "19354.83870967742"
      ]
     },
     "execution_count": 170,
     "metadata": {},
     "output_type": "execute_result"
    }
   ],
   "source": [
    "sim.I"
   ]
  },
  {
   "cell_type": "code",
   "execution_count": 180,
   "metadata": {},
   "outputs": [
    {
     "ename": "UnboundLocalError",
     "evalue": "local variable 'E_ac0' referenced before assignment",
     "output_type": "error",
     "traceback": [
      "\u001b[0;31m---------------------------------------------------------------------------\u001b[0m",
      "\u001b[0;31mUnboundLocalError\u001b[0m                         Traceback (most recent call last)",
      "\u001b[0;32m<ipython-input-180-3be6d645f8eb>\u001b[0m in \u001b[0;36m<module>\u001b[0;34m\u001b[0m\n\u001b[0;32m----> 1\u001b[0;31m \u001b[0msim\u001b[0m\u001b[0;34m.\u001b[0m\u001b[0mintegr_sci\u001b[0m\u001b[0;34m(\u001b[0m\u001b[0;36m0\u001b[0m\u001b[0;34m,\u001b[0m\u001b[0;36m500\u001b[0m\u001b[0;34m,\u001b[0m\u001b[0;36m0.1\u001b[0m\u001b[0;34m)\u001b[0m\u001b[0;34m\u001b[0m\u001b[0;34m\u001b[0m\u001b[0m\n\u001b[0m",
      "\u001b[0;32m~/covid19geomodeller/src2/models/SEIRHVD.py\u001b[0m in \u001b[0;36mintegr_sci\u001b[0;34m(self, t0, T, h, E0init)\u001b[0m\n\u001b[1;32m   1157\u001b[0m             \u001b[0mHout0\u001b[0m\u001b[0;34m=\u001b[0m\u001b[0mself\u001b[0m\u001b[0;34m.\u001b[0m\u001b[0mHout\u001b[0m\u001b[0;34m[\u001b[0m\u001b[0midx\u001b[0m\u001b[0;34m]\u001b[0m\u001b[0;34m\u001b[0m\u001b[0;34m\u001b[0m\u001b[0m\n\u001b[1;32m   1158\u001b[0m             \u001b[0mV0\u001b[0m\u001b[0;34m=\u001b[0m\u001b[0mself\u001b[0m\u001b[0;34m.\u001b[0m\u001b[0mV\u001b[0m\u001b[0;34m[\u001b[0m\u001b[0midx\u001b[0m\u001b[0;34m]\u001b[0m\u001b[0;34m\u001b[0m\u001b[0;34m\u001b[0m\u001b[0m\n\u001b[0;32m-> 1159\u001b[0;31m \u001b[0;34m\u001b[0m\u001b[0m\n\u001b[0m\u001b[1;32m   1160\u001b[0m             \u001b[0mHse_d0\u001b[0m\u001b[0;34m=\u001b[0m\u001b[0mself\u001b[0m\u001b[0;34m.\u001b[0m\u001b[0mHse_d\u001b[0m\u001b[0;34m[\u001b[0m\u001b[0midx\u001b[0m\u001b[0;34m]\u001b[0m\u001b[0;34m\u001b[0m\u001b[0;34m\u001b[0m\u001b[0m\n\u001b[1;32m   1161\u001b[0m             \u001b[0mHout_d0\u001b[0m\u001b[0;34m=\u001b[0m\u001b[0mself\u001b[0m\u001b[0;34m.\u001b[0m\u001b[0mHout_d\u001b[0m\u001b[0;34m[\u001b[0m\u001b[0midx\u001b[0m\u001b[0;34m]\u001b[0m\u001b[0;34m\u001b[0m\u001b[0;34m\u001b[0m\u001b[0m\n",
      "\u001b[0;31mUnboundLocalError\u001b[0m: local variable 'E_ac0' referenced before assignment"
     ]
    }
   ],
   "source": [
    "sim.integr_sci(0,500,0.1)"
   ]
  },
  {
   "cell_type": "code",
   "execution_count": 172,
   "metadata": {},
   "outputs": [
    {
     "data": {
      "text/html": [
       "<div>\n",
       "<style scoped>\n",
       "    .dataframe tbody tr th:only-of-type {\n",
       "        vertical-align: middle;\n",
       "    }\n",
       "\n",
       "    .dataframe tbody tr th {\n",
       "        vertical-align: top;\n",
       "    }\n",
       "\n",
       "    .dataframe thead th {\n",
       "        text-align: right;\n",
       "    }\n",
       "</style>\n",
       "<table border=\"1\" class=\"dataframe\">\n",
       "  <thead>\n",
       "    <tr style=\"text-align: right;\">\n",
       "      <th></th>\n",
       "      <th>t</th>\n",
       "      <th>dates</th>\n",
       "      <th>S</th>\n",
       "      <th>E</th>\n",
       "      <th>E_d</th>\n",
       "      <th>E_ac</th>\n",
       "      <th>Ias</th>\n",
       "      <th>Imi</th>\n",
       "      <th>Ise</th>\n",
       "      <th>Icr</th>\n",
       "      <th>...</th>\n",
       "      <th>V_sat</th>\n",
       "      <th>V_cap</th>\n",
       "      <th>H_cap</th>\n",
       "      <th>H_need</th>\n",
       "      <th>I_det</th>\n",
       "      <th>I_d_det</th>\n",
       "      <th>I_ac_det</th>\n",
       "      <th>prevalence_total</th>\n",
       "      <th>prevalence_susc</th>\n",
       "      <th>prevalence_detected</th>\n",
       "    </tr>\n",
       "  </thead>\n",
       "  <tbody>\n",
       "    <tr>\n",
       "      <th>0</th>\n",
       "      <td>0</td>\n",
       "      <td>None</td>\n",
       "      <td>973427.419355</td>\n",
       "      <td>5767.741935</td>\n",
       "      <td>2.883871e+03</td>\n",
       "      <td>14419.354839</td>\n",
       "      <td>7741.935484</td>\n",
       "      <td>10645.161290</td>\n",
       "      <td>645.290323</td>\n",
       "      <td>322.451613</td>\n",
       "      <td>...</td>\n",
       "      <td>1.0</td>\n",
       "      <td>2000.0</td>\n",
       "      <td>3000.0</td>\n",
       "      <td>2000.000000</td>\n",
       "      <td>5682.920431</td>\n",
       "      <td>2841.460215</td>\n",
       "      <td>14207.301077</td>\n",
       "      <td>0.048387</td>\n",
       "      <td>0.048101</td>\n",
       "      <td>0.0</td>\n",
       "    </tr>\n",
       "    <tr>\n",
       "      <th>1</th>\n",
       "      <td>1</td>\n",
       "      <td>None</td>\n",
       "      <td>971261.049884</td>\n",
       "      <td>6659.154420</td>\n",
       "      <td>1.815539e+03</td>\n",
       "      <td>15586.025764</td>\n",
       "      <td>7475.464727</td>\n",
       "      <td>10615.675336</td>\n",
       "      <td>520.929301</td>\n",
       "      <td>260.308403</td>\n",
       "      <td>...</td>\n",
       "      <td>1.0</td>\n",
       "      <td>2000.0</td>\n",
       "      <td>3000.0</td>\n",
       "      <td>2064.112807</td>\n",
       "      <td>5519.082647</td>\n",
       "      <td>1295.136427</td>\n",
       "      <td>14597.227250</td>\n",
       "      <td>0.049662</td>\n",
       "      <td>0.049368</td>\n",
       "      <td>0.0</td>\n",
       "    </tr>\n",
       "    <tr>\n",
       "      <th>2</th>\n",
       "      <td>2</td>\n",
       "      <td>None</td>\n",
       "      <td>968914.955409</td>\n",
       "      <td>7536.057656</td>\n",
       "      <td>1.442766e+03</td>\n",
       "      <td>16813.408774</td>\n",
       "      <td>7305.843484</td>\n",
       "      <td>10688.048403</td>\n",
       "      <td>440.677210</td>\n",
       "      <td>220.206428</td>\n",
       "      <td>...</td>\n",
       "      <td>1.0</td>\n",
       "      <td>2000.0</td>\n",
       "      <td>3000.0</td>\n",
       "      <td>2094.200757</td>\n",
       "      <td>5450.149559</td>\n",
       "      <td>763.155125</td>\n",
       "      <td>15046.557011</td>\n",
       "      <td>0.051131</td>\n",
       "      <td>0.050828</td>\n",
       "      <td>0.0</td>\n",
       "    </tr>\n",
       "    <tr>\n",
       "      <th>3</th>\n",
       "      <td>3</td>\n",
       "      <td>None</td>\n",
       "      <td>966511.438800</td>\n",
       "      <td>8301.486397</td>\n",
       "      <td>1.300042e+03</td>\n",
       "      <td>18030.594621</td>\n",
       "      <td>7214.509764</td>\n",
       "      <td>10842.653573</td>\n",
       "      <td>390.868071</td>\n",
       "      <td>195.316799</td>\n",
       "      <td>...</td>\n",
       "      <td>1.0</td>\n",
       "      <td>2000.0</td>\n",
       "      <td>3000.0</td>\n",
       "      <td>2103.590763</td>\n",
       "      <td>5452.634455</td>\n",
       "      <td>600.022473</td>\n",
       "      <td>15547.541233</td>\n",
       "      <td>0.052769</td>\n",
       "      <td>0.052456</td>\n",
       "      <td>0.0</td>\n",
       "    </tr>\n",
       "    <tr>\n",
       "      <th>4</th>\n",
       "      <td>4</td>\n",
       "      <td>None</td>\n",
       "      <td>964032.018330</td>\n",
       "      <td>8992.792925</td>\n",
       "      <td>1.249101e+03</td>\n",
       "      <td>19249.461235</td>\n",
       "      <td>7187.086199</td>\n",
       "      <td>11064.493248</td>\n",
       "      <td>362.019870</td>\n",
       "      <td>180.901351</td>\n",
       "      <td>...</td>\n",
       "      <td>1.0</td>\n",
       "      <td>2000.0</td>\n",
       "      <td>3000.0</td>\n",
       "      <td>2101.306230</td>\n",
       "      <td>5509.539605</td>\n",
       "      <td>568.707634</td>\n",
       "      <td>16094.408643</td>\n",
       "      <td>0.054557</td>\n",
       "      <td>0.054234</td>\n",
       "      <td>0.0</td>\n",
       "    </tr>\n",
       "    <tr>\n",
       "      <th>...</th>\n",
       "      <td>...</td>\n",
       "      <td>...</td>\n",
       "      <td>...</td>\n",
       "      <td>...</td>\n",
       "      <td>...</td>\n",
       "      <td>...</td>\n",
       "      <td>...</td>\n",
       "      <td>...</td>\n",
       "      <td>...</td>\n",
       "      <td>...</td>\n",
       "      <td>...</td>\n",
       "      <td>...</td>\n",
       "      <td>...</td>\n",
       "      <td>...</td>\n",
       "      <td>...</td>\n",
       "      <td>...</td>\n",
       "      <td>...</td>\n",
       "      <td>...</td>\n",
       "      <td>...</td>\n",
       "      <td>...</td>\n",
       "      <td>...</td>\n",
       "    </tr>\n",
       "    <tr>\n",
       "      <th>495</th>\n",
       "      <td>495</td>\n",
       "      <td>None</td>\n",
       "      <td>0.005609</td>\n",
       "      <td>0.001475</td>\n",
       "      <td>1.559355e-12</td>\n",
       "      <td>337441.237729</td>\n",
       "      <td>0.002070</td>\n",
       "      <td>0.006861</td>\n",
       "      <td>0.000056</td>\n",
       "      <td>0.000028</td>\n",
       "      <td>...</td>\n",
       "      <td>1.0</td>\n",
       "      <td>2000.0</td>\n",
       "      <td>3000.0</td>\n",
       "      <td>22369.887415</td>\n",
       "      <td>0.003009</td>\n",
       "      <td>0.000097</td>\n",
       "      <td>313679.223007</td>\n",
       "      <td>1.027582</td>\n",
       "      <td>1.021454</td>\n",
       "      <td>0.0</td>\n",
       "    </tr>\n",
       "    <tr>\n",
       "      <th>496</th>\n",
       "      <td>496</td>\n",
       "      <td>None</td>\n",
       "      <td>0.005372</td>\n",
       "      <td>0.001412</td>\n",
       "      <td>1.213352e-12</td>\n",
       "      <td>337441.237729</td>\n",
       "      <td>0.001983</td>\n",
       "      <td>0.006572</td>\n",
       "      <td>0.000054</td>\n",
       "      <td>0.000027</td>\n",
       "      <td>...</td>\n",
       "      <td>1.0</td>\n",
       "      <td>2000.0</td>\n",
       "      <td>3000.0</td>\n",
       "      <td>22369.887370</td>\n",
       "      <td>0.002882</td>\n",
       "      <td>0.000093</td>\n",
       "      <td>313679.223098</td>\n",
       "      <td>1.027582</td>\n",
       "      <td>1.021454</td>\n",
       "      <td>0.0</td>\n",
       "    </tr>\n",
       "    <tr>\n",
       "      <th>497</th>\n",
       "      <td>497</td>\n",
       "      <td>None</td>\n",
       "      <td>0.005146</td>\n",
       "      <td>0.001353</td>\n",
       "      <td>1.616781e-12</td>\n",
       "      <td>337441.237729</td>\n",
       "      <td>0.001900</td>\n",
       "      <td>0.006295</td>\n",
       "      <td>0.000052</td>\n",
       "      <td>0.000026</td>\n",
       "      <td>...</td>\n",
       "      <td>1.0</td>\n",
       "      <td>2000.0</td>\n",
       "      <td>3000.0</td>\n",
       "      <td>22369.887326</td>\n",
       "      <td>0.002760</td>\n",
       "      <td>0.000089</td>\n",
       "      <td>313679.223185</td>\n",
       "      <td>1.027582</td>\n",
       "      <td>1.021454</td>\n",
       "      <td>0.0</td>\n",
       "    </tr>\n",
       "    <tr>\n",
       "      <th>498</th>\n",
       "      <td>498</td>\n",
       "      <td>None</td>\n",
       "      <td>0.004929</td>\n",
       "      <td>0.001296</td>\n",
       "      <td>2.860468e-12</td>\n",
       "      <td>337441.237729</td>\n",
       "      <td>0.001819</td>\n",
       "      <td>0.006030</td>\n",
       "      <td>0.000050</td>\n",
       "      <td>0.000025</td>\n",
       "      <td>...</td>\n",
       "      <td>1.0</td>\n",
       "      <td>2000.0</td>\n",
       "      <td>3000.0</td>\n",
       "      <td>22369.887284</td>\n",
       "      <td>0.002644</td>\n",
       "      <td>0.000086</td>\n",
       "      <td>313679.223269</td>\n",
       "      <td>1.027582</td>\n",
       "      <td>1.021454</td>\n",
       "      <td>0.0</td>\n",
       "    </tr>\n",
       "    <tr>\n",
       "      <th>499</th>\n",
       "      <td>499</td>\n",
       "      <td>None</td>\n",
       "      <td>0.004721</td>\n",
       "      <td>0.001241</td>\n",
       "      <td>4.003291e-12</td>\n",
       "      <td>337441.237729</td>\n",
       "      <td>0.001743</td>\n",
       "      <td>0.005776</td>\n",
       "      <td>0.000048</td>\n",
       "      <td>0.000024</td>\n",
       "      <td>...</td>\n",
       "      <td>1.0</td>\n",
       "      <td>2000.0</td>\n",
       "      <td>3000.0</td>\n",
       "      <td>22369.887244</td>\n",
       "      <td>0.002532</td>\n",
       "      <td>0.000082</td>\n",
       "      <td>313679.223349</td>\n",
       "      <td>1.027582</td>\n",
       "      <td>1.021454</td>\n",
       "      <td>0.0</td>\n",
       "    </tr>\n",
       "  </tbody>\n",
       "</table>\n",
       "<p>500 rows × 59 columns</p>\n",
       "</div>"
      ],
      "text/plain": [
       "       t dates              S            E           E_d           E_ac  \\\n",
       "0      0  None  973427.419355  5767.741935  2.883871e+03   14419.354839   \n",
       "1      1  None  971261.049884  6659.154420  1.815539e+03   15586.025764   \n",
       "2      2  None  968914.955409  7536.057656  1.442766e+03   16813.408774   \n",
       "3      3  None  966511.438800  8301.486397  1.300042e+03   18030.594621   \n",
       "4      4  None  964032.018330  8992.792925  1.249101e+03   19249.461235   \n",
       "..   ...   ...            ...          ...           ...            ...   \n",
       "495  495  None       0.005609     0.001475  1.559355e-12  337441.237729   \n",
       "496  496  None       0.005372     0.001412  1.213352e-12  337441.237729   \n",
       "497  497  None       0.005146     0.001353  1.616781e-12  337441.237729   \n",
       "498  498  None       0.004929     0.001296  2.860468e-12  337441.237729   \n",
       "499  499  None       0.004721     0.001241  4.003291e-12  337441.237729   \n",
       "\n",
       "             Ias           Imi         Ise         Icr  ...  V_sat   V_cap  \\\n",
       "0    7741.935484  10645.161290  645.290323  322.451613  ...    1.0  2000.0   \n",
       "1    7475.464727  10615.675336  520.929301  260.308403  ...    1.0  2000.0   \n",
       "2    7305.843484  10688.048403  440.677210  220.206428  ...    1.0  2000.0   \n",
       "3    7214.509764  10842.653573  390.868071  195.316799  ...    1.0  2000.0   \n",
       "4    7187.086199  11064.493248  362.019870  180.901351  ...    1.0  2000.0   \n",
       "..           ...           ...         ...         ...  ...    ...     ...   \n",
       "495     0.002070      0.006861    0.000056    0.000028  ...    1.0  2000.0   \n",
       "496     0.001983      0.006572    0.000054    0.000027  ...    1.0  2000.0   \n",
       "497     0.001900      0.006295    0.000052    0.000026  ...    1.0  2000.0   \n",
       "498     0.001819      0.006030    0.000050    0.000025  ...    1.0  2000.0   \n",
       "499     0.001743      0.005776    0.000048    0.000024  ...    1.0  2000.0   \n",
       "\n",
       "      H_cap        H_need        I_det      I_d_det       I_ac_det  \\\n",
       "0    3000.0   2000.000000  5682.920431  2841.460215   14207.301077   \n",
       "1    3000.0   2064.112807  5519.082647  1295.136427   14597.227250   \n",
       "2    3000.0   2094.200757  5450.149559   763.155125   15046.557011   \n",
       "3    3000.0   2103.590763  5452.634455   600.022473   15547.541233   \n",
       "4    3000.0   2101.306230  5509.539605   568.707634   16094.408643   \n",
       "..      ...           ...          ...          ...            ...   \n",
       "495  3000.0  22369.887415     0.003009     0.000097  313679.223007   \n",
       "496  3000.0  22369.887370     0.002882     0.000093  313679.223098   \n",
       "497  3000.0  22369.887326     0.002760     0.000089  313679.223185   \n",
       "498  3000.0  22369.887284     0.002644     0.000086  313679.223269   \n",
       "499  3000.0  22369.887244     0.002532     0.000082  313679.223349   \n",
       "\n",
       "     prevalence_total  prevalence_susc  prevalence_detected  \n",
       "0            0.048387         0.048101                  0.0  \n",
       "1            0.049662         0.049368                  0.0  \n",
       "2            0.051131         0.050828                  0.0  \n",
       "3            0.052769         0.052456                  0.0  \n",
       "4            0.054557         0.054234                  0.0  \n",
       "..                ...              ...                  ...  \n",
       "495          1.027582         1.021454                  0.0  \n",
       "496          1.027582         1.021454                  0.0  \n",
       "497          1.027582         1.021454                  0.0  \n",
       "498          1.027582         1.021454                  0.0  \n",
       "499          1.027582         1.021454                  0.0  \n",
       "\n",
       "[500 rows x 59 columns]"
      ]
     },
     "execution_count": 172,
     "metadata": {},
     "output_type": "execute_result"
    }
   ],
   "source": [
    "sim.results"
   ]
  },
  {
   "cell_type": "code",
   "execution_count": null,
   "metadata": {},
   "outputs": [],
   "source": []
  }
 ],
 "metadata": {
  "kernelspec": {
   "display_name": "Python 3",
   "language": "python",
   "name": "python3"
  },
  "language_info": {
   "codemirror_mode": {
    "name": "ipython",
    "version": 3
   },
   "file_extension": ".py",
   "mimetype": "text/x-python",
   "name": "python",
   "nbconvert_exporter": "python",
   "pygments_lexer": "ipython3",
   "version": "3.8.3"
  }
 },
 "nbformat": 4,
 "nbformat_minor": 4
}
