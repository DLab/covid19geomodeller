{
 "cells": [
  {
   "cell_type": "code",
   "execution_count": 27,
   "metadata": {},
   "outputs": [],
   "source": [
    "import requests\n",
    "import numpy as np\n",
    "import matplotlib.pyplot as plt\n",
    "import json\n",
    "from cv19gm.cv19sim import CV19SIM\n",
    "import cv19gm.utils.cv19functions as cv19functions\n",
    "import pandas as pd"
   ]
  },
  {
   "cell_type": "markdown",
   "metadata": {},
   "source": [
    "# Simulation"
   ]
  },
  {
   "cell_type": "markdown",
   "metadata": {},
   "source": [
    "# SEIRMETA"
   ]
  },
  {
   "cell_type": "code",
   "execution_count": 5,
   "metadata": {},
   "outputs": [],
   "source": [
    "dictToSend = {\n",
    "    \"model2\": {\n",
    "        \"model\": {\n",
    "            \"name\": \"Example\",\n",
    "            \"id\": \"1323455\",\n",
    "            \"model\": \"SEIRMETA\",\n",
    "            \"compartments\": [\n",
    "                \"S\",\n",
    "                \"E\",\n",
    "                \"I\",\n",
    "                \"R\"\n",
    "            ],\n",
    "            \"EDOs\": True,\n",
    "            \"RBM\": False,\n",
    "            \"RBM_N\": 1\n",
    "        },\n",
    "        \"data\": {\n",
    "            \"datafile\": False,\n",
    "            \"importdata\": False,\n",
    "            \"initdate\": \"\",\n",
    "            \"country\": \"USA\",\n",
    "            \"state\": \"\",\n",
    "            \"county\": \"\",\n",
    "            \"healthservice\": \"\",\n",
    "            \"loc_name\": \"\",\n",
    "            \"geo_topology\": \"meta\"\n",
    "        },\n",
    "        \"parameters\": {\n",
    "            \"static\": {\n",
    "                \"t_init\": 0,\n",
    "                \"t_end\": 500,\n",
    "                \"mu\": [\n",
    "                    1.0,\n",
    "                    0.8,\n",
    "                    1.2\n",
    "                ],\n",
    "                \"pI_det\": 1,\n",
    "                \"k_I\": 0,\n",
    "                \"k_R\": 0,\n",
    "            },\n",
    "            \"dynamic\": {\n",
    "                \"beta\": [\n",
    "                    0.2,\n",
    "                    0.15,\n",
    "                    0.125\n",
    "                ],\n",
    "                \"alpha\": [\n",
    "                    1,\n",
    "                    1,\n",
    "                    1\n",
    "                ],\n",
    "                \"Phi\": False,\n",
    "                \"tE_I\": 5.0,\n",
    "                \"tI_R\": 10.0,\n",
    "                \"rR_S\": 0\n",
    "            }\n",
    "        },\n",
    "        \"initialconditions\": {\n",
    "            \"I\": [\n",
    "                1000,\n",
    "                0,\n",
    "                1500\n",
    "            ],\n",
    "            \"I_d\": [\n",
    "                100,\n",
    "                0,\n",
    "                150\n",
    "            ],\n",
    "            \"I_ac\": [\n",
    "                4500,\n",
    "                9000,\n",
    "                6500\n",
    "            ],\n",
    "            \"population\": [\n",
    "                100000,\n",
    "                200000,\n",
    "                150000\n",
    "            ],\n",
    "            \"R\": [\n",
    "                5000,\n",
    "                10000,\n",
    "                7500\n",
    "            ],\n",
    "            \"E\": False,\n",
    "            \"E_d\": False\n",
    "        }\n",
    "    }\n",
    "} "
   ]
  },
  {
   "cell_type": "code",
   "execution_count": 19,
   "metadata": {
    "collapsed": true,
    "jupyter": {
     "outputs_hidden": true
    }
   },
   "outputs": [],
   "source": [
    "res = requests.post('http://localhost:5003/simulate_meta', json=dictToSend)\n",
    "#print('response from server:',res.text)\n",
    "dictFromServer = res.json()"
   ]
  },
  {
   "cell_type": "code",
   "execution_count": 24,
   "metadata": {},
   "outputs": [],
   "source": [
    "response = json.loads(dictFromServer['results']['model2'])"
   ]
  },
  {
   "cell_type": "code",
   "execution_count": 28,
   "metadata": {},
   "outputs": [],
   "source": [
    "# Working with pandas dataframe\n",
    "responsedf = pd.DataFrame(response)"
   ]
  },
  {
   "cell_type": "code",
   "execution_count": 35,
   "metadata": {},
   "outputs": [
    {
     "data": {
      "image/png": "[encoded data removed]",
      "text/plain": [
       "<Figure size 432x288 with 1 Axes>"
      ]
     },
     "metadata": {
      "needs_background": "light"
     },
     "output_type": "display_data"
    }
   ],
   "source": [
    "ax = plt.gca()\n",
    "for i in range(len(responsedf['node'].drop_duplicates())):\n",
    "    responsedf.loc[responsedf['node']==i].plot(x = 't',y='I',ax=ax,label='node '+str(i))"
   ]
  },
  {
   "cell_type": "code",
   "execution_count": null,
   "metadata": {},
   "outputs": [],
   "source": []
  }
 ],
 "metadata": {
  "interpreter": {
   "hash": "cb78786f4cfdfefa515c7b40f13968897104e8ab34623df7a0e4a977a8f1c3ce"
  },
  "kernelspec": {
   "display_name": "Python 3.8.3 ('base')",
   "language": "python",
   "name": "python3"
  },
  "language_info": {
   "codemirror_mode": {
    "name": "ipython",
    "version": 3
   },
   "file_extension": ".py",
   "mimetype": "text/x-python",
   "name": "python",
   "nbconvert_exporter": "python",
   "pygments_lexer": "ipython3",
   "version": "3.8.3"
  }
 },
 "nbformat": 4,
 "nbformat_minor": 4
}
