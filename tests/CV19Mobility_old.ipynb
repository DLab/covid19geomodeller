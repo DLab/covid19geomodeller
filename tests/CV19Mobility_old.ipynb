{
 "cells": [
  {
   "cell_type": "markdown",
   "metadata": {},
   "source": [
    "# Meta-population population flux library\n",
    "## cv19mobility"
   ]
  },
  {
   "cell_type": "code",
   "execution_count": 3,
   "metadata": {},
   "outputs": [],
   "source": [
    "%matplotlib tk"
   ]
  },
  {
   "cell_type": "code",
   "execution_count": 1,
   "metadata": {},
   "outputs": [],
   "source": [
    "import numpy as np\n",
    "import pandas as pd\n",
    "import json\n",
    "import matplotlib.pyplot as plt"
   ]
  },
  {
   "cell_type": "code",
   "execution_count": 2,
   "metadata": {},
   "outputs": [],
   "source": [
    "from cv19gm.utils import cv19mobility_old"
   ]
  },
  {
   "cell_type": "code",
   "execution_count": 29,
   "metadata": {},
   "outputs": [],
   "source": [
    "population = [10000,15000,20000,30000]"
   ]
  },
  {
   "cell_type": "code",
   "execution_count": 30,
   "metadata": {},
   "outputs": [],
   "source": [
    "mobility = cv19mobility_old.rnd_flux_symmetric(population = population,fraction=0.1)"
   ]
  },
  {
   "cell_type": "code",
   "execution_count": 31,
   "metadata": {},
   "outputs": [
    {
     "data": {
      "text/plain": [
       "array([[   0,  366,  402,  231],\n",
       "       [ 579,    0,  140,  779],\n",
       "       [ 449,  318,    0, 1231],\n",
       "       [2194,  137,  668,    0]])"
      ]
     },
     "execution_count": 31,
     "metadata": {},
     "output_type": "execute_result"
    }
   ],
   "source": [
    "mobility(0.2)"
   ]
  },
  {
   "cell_type": "code",
   "execution_count": 34,
   "metadata": {},
   "outputs": [
    {
     "data": {
      "text/plain": [
       "array([[   0,  579,  449, 2194],\n",
       "       [ 366,    0,  318,  137],\n",
       "       [ 402,  140,    0,  668],\n",
       "       [ 231,  779, 1231,    0]])"
      ]
     },
     "execution_count": 34,
     "metadata": {},
     "output_type": "execute_result"
    }
   ],
   "source": [
    "mobility(0.7)"
   ]
  },
  {
   "cell_type": "code",
   "execution_count": 32,
   "metadata": {},
   "outputs": [
    {
     "data": {
      "text/plain": [
       "<matplotlib.image.AxesImage at 0x7efe181fc910>"
      ]
     },
     "execution_count": 32,
     "metadata": {},
     "output_type": "execute_result"
    },
    {
     "data": {
      "image/png": "[encoded data removed]",
      "text/plain": [
       "<Figure size 288x288 with 1 Axes>"
      ]
     },
     "metadata": {
      "needs_background": "light"
     },
     "output_type": "display_data"
    }
   ],
   "source": [
    "plt.matshow(mobility(0.5),)"
   ]
  },
  {
   "cell_type": "code",
   "execution_count": 33,
   "metadata": {},
   "outputs": [
    {
     "data": {
      "text/plain": [
       "<matplotlib.image.AxesImage at 0x7efe1815b400>"
      ]
     },
     "execution_count": 33,
     "metadata": {},
     "output_type": "execute_result"
    },
    {
     "data": {
      "image/png": "[encoded data removed]",
      "text/plain": [
       "<Figure size 288x288 with 1 Axes>"
      ]
     },
     "metadata": {
      "needs_background": "light"
     },
     "output_type": "display_data"
    }
   ],
   "source": [
    "plt.matshow(mobility(0),)"
   ]
  },
  {
   "cell_type": "code",
   "execution_count": null,
   "metadata": {},
   "outputs": [],
   "source": []
  },
  {
   "cell_type": "code",
   "execution_count": 27,
   "metadata": {},
   "outputs": [],
   "source": [
    "a = cv19mobility_old.export_mobility(mobility)"
   ]
  },
  {
   "cell_type": "code",
   "execution_count": 28,
   "metadata": {},
   "outputs": [
    {
     "data": {
      "text/plain": [
       "'{\"0.0\": [[0, 781, 218], [689, 0, 810], [691, 1308, 0]], \"0.5\": [[0, 689, 691], [781, 0, 1308], [218, 810, 0]], \"1.0\": [[0, 781, 218], [689, 0, 810], [691, 1308, 0]], \"1.5\": [[0, 689, 691], [781, 0, 1308], [218, 810, 0]]}'"
      ]
     },
     "execution_count": 28,
     "metadata": {},
     "output_type": "execute_result"
    }
   ],
   "source": [
    "a"
   ]
  },
  {
   "cell_type": "code",
   "execution_count": 44,
   "metadata": {},
   "outputs": [
    {
     "ename": "TypeError",
     "evalue": "Object of type ndarray is not JSON serializable",
     "output_type": "error",
     "traceback": [
      "\u001b[0;31m---------------------------------------------------------------------------\u001b[0m",
      "\u001b[0;31mTypeError\u001b[0m                                 Traceback (most recent call last)",
      "\u001b[1;32mUntitled-2.ipynb Cell 11\u001b[0m in \u001b[0;36m<cell line: 1>\u001b[0;34m()\u001b[0m\n\u001b[0;32m----> <a href='vscode-notebook-cell:Untitled-2.ipynb?jupyter-notebook#X13sdW50aXRsZWQ%3D?line=0'>1</a>\u001b[0m json\u001b[39m.\u001b[39;49mdumps(a)\n",
      "File \u001b[0;32m~/anaconda3/lib/python3.8/json/__init__.py:231\u001b[0m, in \u001b[0;36mdumps\u001b[0;34m(obj, skipkeys, ensure_ascii, check_circular, allow_nan, cls, indent, separators, default, sort_keys, **kw)\u001b[0m\n\u001b[1;32m    226\u001b[0m \u001b[39m# cached encoder\u001b[39;00m\n\u001b[1;32m    227\u001b[0m \u001b[39mif\u001b[39;00m (\u001b[39mnot\u001b[39;00m skipkeys \u001b[39mand\u001b[39;00m ensure_ascii \u001b[39mand\u001b[39;00m\n\u001b[1;32m    228\u001b[0m     check_circular \u001b[39mand\u001b[39;00m allow_nan \u001b[39mand\u001b[39;00m\n\u001b[1;32m    229\u001b[0m     \u001b[39mcls\u001b[39m \u001b[39mis\u001b[39;00m \u001b[39mNone\u001b[39;00m \u001b[39mand\u001b[39;00m indent \u001b[39mis\u001b[39;00m \u001b[39mNone\u001b[39;00m \u001b[39mand\u001b[39;00m separators \u001b[39mis\u001b[39;00m \u001b[39mNone\u001b[39;00m \u001b[39mand\u001b[39;00m\n\u001b[1;32m    230\u001b[0m     default \u001b[39mis\u001b[39;00m \u001b[39mNone\u001b[39;00m \u001b[39mand\u001b[39;00m \u001b[39mnot\u001b[39;00m sort_keys \u001b[39mand\u001b[39;00m \u001b[39mnot\u001b[39;00m kw):\n\u001b[0;32m--> 231\u001b[0m     \u001b[39mreturn\u001b[39;00m _default_encoder\u001b[39m.\u001b[39;49mencode(obj)\n\u001b[1;32m    232\u001b[0m \u001b[39mif\u001b[39;00m \u001b[39mcls\u001b[39m \u001b[39mis\u001b[39;00m \u001b[39mNone\u001b[39;00m:\n\u001b[1;32m    233\u001b[0m     \u001b[39mcls\u001b[39m \u001b[39m=\u001b[39m JSONEncoder\n",
      "File \u001b[0;32m~/anaconda3/lib/python3.8/json/encoder.py:199\u001b[0m, in \u001b[0;36mJSONEncoder.encode\u001b[0;34m(self, o)\u001b[0m\n\u001b[1;32m    195\u001b[0m         \u001b[39mreturn\u001b[39;00m encode_basestring(o)\n\u001b[1;32m    196\u001b[0m \u001b[39m# This doesn't pass the iterator directly to ''.join() because the\u001b[39;00m\n\u001b[1;32m    197\u001b[0m \u001b[39m# exceptions aren't as detailed.  The list call should be roughly\u001b[39;00m\n\u001b[1;32m    198\u001b[0m \u001b[39m# equivalent to the PySequence_Fast that ''.join() would do.\u001b[39;00m\n\u001b[0;32m--> 199\u001b[0m chunks \u001b[39m=\u001b[39m \u001b[39mself\u001b[39;49m\u001b[39m.\u001b[39;49miterencode(o, _one_shot\u001b[39m=\u001b[39;49m\u001b[39mTrue\u001b[39;49;00m)\n\u001b[1;32m    200\u001b[0m \u001b[39mif\u001b[39;00m \u001b[39mnot\u001b[39;00m \u001b[39misinstance\u001b[39m(chunks, (\u001b[39mlist\u001b[39m, \u001b[39mtuple\u001b[39m)):\n\u001b[1;32m    201\u001b[0m     chunks \u001b[39m=\u001b[39m \u001b[39mlist\u001b[39m(chunks)\n",
      "File \u001b[0;32m~/anaconda3/lib/python3.8/json/encoder.py:257\u001b[0m, in \u001b[0;36mJSONEncoder.iterencode\u001b[0;34m(self, o, _one_shot)\u001b[0m\n\u001b[1;32m    252\u001b[0m \u001b[39melse\u001b[39;00m:\n\u001b[1;32m    253\u001b[0m     _iterencode \u001b[39m=\u001b[39m _make_iterencode(\n\u001b[1;32m    254\u001b[0m         markers, \u001b[39mself\u001b[39m\u001b[39m.\u001b[39mdefault, _encoder, \u001b[39mself\u001b[39m\u001b[39m.\u001b[39mindent, floatstr,\n\u001b[1;32m    255\u001b[0m         \u001b[39mself\u001b[39m\u001b[39m.\u001b[39mkey_separator, \u001b[39mself\u001b[39m\u001b[39m.\u001b[39mitem_separator, \u001b[39mself\u001b[39m\u001b[39m.\u001b[39msort_keys,\n\u001b[1;32m    256\u001b[0m         \u001b[39mself\u001b[39m\u001b[39m.\u001b[39mskipkeys, _one_shot)\n\u001b[0;32m--> 257\u001b[0m \u001b[39mreturn\u001b[39;00m _iterencode(o, \u001b[39m0\u001b[39;49m)\n",
      "File \u001b[0;32m~/anaconda3/lib/python3.8/json/encoder.py:179\u001b[0m, in \u001b[0;36mJSONEncoder.default\u001b[0;34m(self, o)\u001b[0m\n\u001b[1;32m    160\u001b[0m \u001b[39mdef\u001b[39;00m \u001b[39mdefault\u001b[39m(\u001b[39mself\u001b[39m, o):\n\u001b[1;32m    161\u001b[0m     \u001b[39m\"\"\"Implement this method in a subclass such that it returns\u001b[39;00m\n\u001b[1;32m    162\u001b[0m \u001b[39m    a serializable object for ``o``, or calls the base implementation\u001b[39;00m\n\u001b[1;32m    163\u001b[0m \u001b[39m    (to raise a ``TypeError``).\u001b[39;00m\n\u001b[0;32m   (...)\u001b[0m\n\u001b[1;32m    177\u001b[0m \n\u001b[1;32m    178\u001b[0m \u001b[39m    \"\"\"\u001b[39;00m\n\u001b[0;32m--> 179\u001b[0m     \u001b[39mraise\u001b[39;00m \u001b[39mTypeError\u001b[39;00m(\u001b[39mf\u001b[39m\u001b[39m'\u001b[39m\u001b[39mObject of type \u001b[39m\u001b[39m{\u001b[39;00mo\u001b[39m.\u001b[39m\u001b[39m__class__\u001b[39m\u001b[39m.\u001b[39m\u001b[39m__name__\u001b[39m\u001b[39m}\u001b[39;00m\u001b[39m \u001b[39m\u001b[39m'\u001b[39m\n\u001b[1;32m    180\u001b[0m                     \u001b[39mf\u001b[39m\u001b[39m'\u001b[39m\u001b[39mis not JSON serializable\u001b[39m\u001b[39m'\u001b[39m)\n",
      "\u001b[0;31mTypeError\u001b[0m: Object of type ndarray is not JSON serializable"
     ]
    }
   ],
   "source": [
    "def import_mobility(input=None,path=None,fill='periodic'):\n",
    "    \"\"\"Create mobility matrix from data\n",
    "\n",
    "    Args:\n",
    "        input (dic): Create Use a numpy array or a list as a base\n",
    "        path (_type_, optional): Path to json file. Defaults to None.\n",
    "        fill (str, optional): Mechanism for completing the matrix after. Defaults to 'periodic'.\n",
    "\n",
    "    Returns:\n",
    "        _type_: _description_\n",
    "    \"\"\"\n",
    "    aux = {}\n",
    "    if not t:\n",
    "        t = np.arange(0,2,0.5)\n",
    "    for i in t:\n",
    "        aux[i] = mobfunction(i).tolist()\n",
    "    if path:\n",
    "        json.dump(aux,path)\n",
    "    return json.dumps(aux)"
   ]
  },
  {
   "cell_type": "code",
   "execution_count": 9,
   "metadata": {},
   "outputs": [],
   "source": [
    "from numpy import linspace\n",
    "import matplotlib.pyplot as plt\n",
    "from mpl_toolkits import mplot3d\n"
   ]
  },
  {
   "cell_type": "code",
   "execution_count": 17,
   "metadata": {},
   "outputs": [],
   "source": [
    "from numpy import linspace\n",
    "import matplotlib.pyplot as plt\n",
    "from mpl_toolkits import mplot3d\n",
    "\n",
    "\n",
    "fig = plt.figure(figsize = (8,8))\n",
    "ax = plt.axes(projection = '3d')\n"
   ]
  },
  {
   "cell_type": "code",
   "execution_count": 19,
   "metadata": {},
   "outputs": [
    {
     "data": {
      "text/plain": [
       "[<mpl_toolkits.mplot3d.art3d.Line3D at 0x7f40cb67a580>]"
      ]
     },
     "execution_count": 19,
     "metadata": {},
     "output_type": "execute_result"
    }
   ],
   "source": [
    "from numpy import linspace\n",
    "import matplotlib.pyplot as plt\n",
    "from mpl_toolkits import mplot3d\n",
    "from scipy import signal\n",
    "\n",
    "fig = plt.figure(figsize = (8,8))\n",
    "ax = plt.axes(projection='3d')\n",
    "\n",
    "\n",
    "t = np.linspace(0, 1, 1000, endpoint=True)\n",
    "ax.plot3D(t, signal.square(2 * np.pi * 5 * t))\n"
   ]
  },
  {
   "cell_type": "code",
   "execution_count": 20,
   "metadata": {},
   "outputs": [
    {
     "ename": "KeyboardInterrupt",
     "evalue": "",
     "output_type": "error",
     "traceback": [
      "\u001b[0;31m---------------------------------------------------------------------------\u001b[0m",
      "\u001b[0;31mKeyboardInterrupt\u001b[0m                         Traceback (most recent call last)",
      "\u001b[1;32m/home/samuel/covid19geomodeller/Examples/CV19Mobility.ipynb Cell 15\u001b[0m in \u001b[0;36m<cell line: 12>\u001b[0;34m()\u001b[0m\n\u001b[1;32m     <a href='vscode-notebook-cell:/home/samuel/covid19geomodeller/Examples/CV19Mobility.ipynb#X21sZmlsZQ%3D%3D?line=12'>13</a>\u001b[0m ax\u001b[39m.\u001b[39mview_init(angle,\u001b[39m30\u001b[39m)\n\u001b[1;32m     <a href='vscode-notebook-cell:/home/samuel/covid19geomodeller/Examples/CV19Mobility.ipynb#X21sZmlsZQ%3D%3D?line=13'>14</a>\u001b[0m plt\u001b[39m.\u001b[39mdraw()\n\u001b[0;32m---> <a href='vscode-notebook-cell:/home/samuel/covid19geomodeller/Examples/CV19Mobility.ipynb#X21sZmlsZQ%3D%3D?line=14'>15</a>\u001b[0m plt\u001b[39m.\u001b[39;49mpause(\u001b[39m.001\u001b[39;49m)\n",
      "File \u001b[0;32m~/anaconda3/lib/python3.8/site-packages/matplotlib/pyplot.py:548\u001b[0m, in \u001b[0;36mpause\u001b[0;34m(interval)\u001b[0m\n\u001b[1;32m    546\u001b[0m         canvas\u001b[39m.\u001b[39mdraw_idle()\n\u001b[1;32m    547\u001b[0m     show(block\u001b[39m=\u001b[39m\u001b[39mFalse\u001b[39;00m)\n\u001b[0;32m--> 548\u001b[0m     canvas\u001b[39m.\u001b[39;49mstart_event_loop(interval)\n\u001b[1;32m    549\u001b[0m \u001b[39melse\u001b[39;00m:\n\u001b[1;32m    550\u001b[0m     time\u001b[39m.\u001b[39msleep(interval)\n",
      "File \u001b[0;32m~/anaconda3/lib/python3.8/site-packages/matplotlib/backends/_backend_tk.py:381\u001b[0m, in \u001b[0;36mFigureCanvasTk.start_event_loop\u001b[0;34m(self, timeout)\u001b[0m\n\u001b[1;32m    378\u001b[0m     \u001b[39melse\u001b[39;00m:\n\u001b[1;32m    379\u001b[0m         \u001b[39mself\u001b[39m\u001b[39m.\u001b[39m_event_loop_id \u001b[39m=\u001b[39m \u001b[39mself\u001b[39m\u001b[39m.\u001b[39m_tkcanvas\u001b[39m.\u001b[39mafter_idle(\n\u001b[1;32m    380\u001b[0m             \u001b[39mself\u001b[39m\u001b[39m.\u001b[39mstop_event_loop)\n\u001b[0;32m--> 381\u001b[0m \u001b[39mself\u001b[39;49m\u001b[39m.\u001b[39;49m_tkcanvas\u001b[39m.\u001b[39;49mmainloop()\n",
      "File \u001b[0;32m~/anaconda3/lib/python3.8/tkinter/__init__.py:1420\u001b[0m, in \u001b[0;36mMisc.mainloop\u001b[0;34m(self, n)\u001b[0m\n\u001b[1;32m   1418\u001b[0m \u001b[39mdef\u001b[39;00m \u001b[39mmainloop\u001b[39m(\u001b[39mself\u001b[39m, n\u001b[39m=\u001b[39m\u001b[39m0\u001b[39m):\n\u001b[1;32m   1419\u001b[0m     \u001b[39m\"\"\"Call the mainloop of Tk.\"\"\"\u001b[39;00m\n\u001b[0;32m-> 1420\u001b[0m     \u001b[39mself\u001b[39;49m\u001b[39m.\u001b[39;49mtk\u001b[39m.\u001b[39;49mmainloop(n)\n",
      "\u001b[0;31mKeyboardInterrupt\u001b[0m: "
     ]
    }
   ],
   "source": [
    "from numpy import linspace\n",
    "import matplotlib.pyplot as plt\n",
    "from mpl_toolkits import mplot3d\n",
    "from scipy import signal\n",
    "\n",
    "fig = plt.figure(figsize = (8,8))\n",
    "ax = plt.axes(projection='3d')\n",
    "\n",
    "t = np.linspace(0, 1, 1000, endpoint=True)\n",
    "ax.plot3D(t, signal.square(2 * np.pi * 5 * t))\n",
    "\n",
    "for angle in range(0, 360):\n",
    "    ax.view_init(angle,30)\n",
    "    plt.draw()\n",
    "    plt.pause(.001)\n"
   ]
  },
  {
   "cell_type": "code",
   "execution_count": 8,
   "metadata": {},
   "outputs": [
    {
     "ename": "KeyboardInterrupt",
     "evalue": "",
     "output_type": "error",
     "traceback": [
      "\u001b[0;31m---------------------------------------------------------------------------\u001b[0m",
      "\u001b[0;31mKeyboardInterrupt\u001b[0m                         Traceback (most recent call last)",
      "\u001b[1;32m/home/samuel/covid19geomodeller/Examples/CV19Mobility.ipynb Cell 16\u001b[0m in \u001b[0;36m<cell line: 16>\u001b[0;34m()\u001b[0m\n\u001b[1;32m     <a href='vscode-notebook-cell:/home/samuel/covid19geomodeller/Examples/CV19Mobility.ipynb#X22sZmlsZQ%3D%3D?line=16'>17</a>\u001b[0m     ax\u001b[39m.\u001b[39mview_init(angle, \u001b[39m30\u001b[39m)\n\u001b[1;32m     <a href='vscode-notebook-cell:/home/samuel/covid19geomodeller/Examples/CV19Mobility.ipynb#X22sZmlsZQ%3D%3D?line=17'>18</a>\u001b[0m     plt\u001b[39m.\u001b[39mdraw()\n\u001b[0;32m---> <a href='vscode-notebook-cell:/home/samuel/covid19geomodeller/Examples/CV19Mobility.ipynb#X22sZmlsZQ%3D%3D?line=18'>19</a>\u001b[0m     plt\u001b[39m.\u001b[39;49mpause(\u001b[39m.001\u001b[39;49m)\n\u001b[1;32m     <a href='vscode-notebook-cell:/home/samuel/covid19geomodeller/Examples/CV19Mobility.ipynb#X22sZmlsZQ%3D%3D?line=20'>21</a>\u001b[0m plt\u001b[39m.\u001b[39mshow()\n",
      "File \u001b[0;32m~/anaconda3/lib/python3.8/site-packages/matplotlib/pyplot.py:548\u001b[0m, in \u001b[0;36mpause\u001b[0;34m(interval)\u001b[0m\n\u001b[1;32m    546\u001b[0m         canvas\u001b[39m.\u001b[39mdraw_idle()\n\u001b[1;32m    547\u001b[0m     show(block\u001b[39m=\u001b[39m\u001b[39mFalse\u001b[39;00m)\n\u001b[0;32m--> 548\u001b[0m     canvas\u001b[39m.\u001b[39;49mstart_event_loop(interval)\n\u001b[1;32m    549\u001b[0m \u001b[39melse\u001b[39;00m:\n\u001b[1;32m    550\u001b[0m     time\u001b[39m.\u001b[39msleep(interval)\n",
      "File \u001b[0;32m~/anaconda3/lib/python3.8/site-packages/matplotlib/backends/_backend_tk.py:381\u001b[0m, in \u001b[0;36mFigureCanvasTk.start_event_loop\u001b[0;34m(self, timeout)\u001b[0m\n\u001b[1;32m    378\u001b[0m     \u001b[39melse\u001b[39;00m:\n\u001b[1;32m    379\u001b[0m         \u001b[39mself\u001b[39m\u001b[39m.\u001b[39m_event_loop_id \u001b[39m=\u001b[39m \u001b[39mself\u001b[39m\u001b[39m.\u001b[39m_tkcanvas\u001b[39m.\u001b[39mafter_idle(\n\u001b[1;32m    380\u001b[0m             \u001b[39mself\u001b[39m\u001b[39m.\u001b[39mstop_event_loop)\n\u001b[0;32m--> 381\u001b[0m \u001b[39mself\u001b[39;49m\u001b[39m.\u001b[39;49m_tkcanvas\u001b[39m.\u001b[39;49mmainloop()\n",
      "File \u001b[0;32m~/anaconda3/lib/python3.8/tkinter/__init__.py:1420\u001b[0m, in \u001b[0;36mMisc.mainloop\u001b[0;34m(self, n)\u001b[0m\n\u001b[1;32m   1418\u001b[0m \u001b[39mdef\u001b[39;00m \u001b[39mmainloop\u001b[39m(\u001b[39mself\u001b[39m, n\u001b[39m=\u001b[39m\u001b[39m0\u001b[39m):\n\u001b[1;32m   1419\u001b[0m     \u001b[39m\"\"\"Call the mainloop of Tk.\"\"\"\u001b[39;00m\n\u001b[0;32m-> 1420\u001b[0m     \u001b[39mself\u001b[39;49m\u001b[39m.\u001b[39;49mtk\u001b[39m.\u001b[39;49mmainloop(n)\n",
      "\u001b[0;31mKeyboardInterrupt\u001b[0m: "
     ]
    }
   ],
   "source": [
    "from numpy import linspace\n",
    "import numpy as np\n",
    "import matplotlib.pyplot as plt\n",
    "from mpl_toolkits import mplot3d\n",
    "from scipy import signal\n",
    "\n",
    "# Creating 3D figure\n",
    "fig = plt.figure(figsize = (8, 8))\n",
    "ax = plt.axes(projection = '3d')\n",
    "\n",
    "# Creating Dataset\n",
    "t = np.linspace(0, 1, 1000, endpoint = True)\n",
    "ax.plot3D(t, signal.square(2 * np.pi * 5 * t))\n",
    "\n",
    "# 360 Degree view\n",
    "for angle in range(0, 360):\n",
    "    ax.view_init(angle, 30)\n",
    "    plt.draw()\n",
    "    plt.pause(.001)\n",
    "\t\n",
    "plt.show()\n"
   ]
  },
  {
   "cell_type": "markdown",
   "metadata": {},
   "source": [
    "-------"
   ]
  },
  {
   "cell_type": "code",
   "execution_count": 7,
   "metadata": {},
   "outputs": [],
   "source": [
    "from cv19gm.utils import cv19mobility_old\n",
    "import numpy as np"
   ]
  },
  {
   "cell_type": "code",
   "execution_count": 8,
   "metadata": {},
   "outputs": [],
   "source": [
    "population = [10000,15000,20000,30000]\n",
    "mobility = cv19mobility_old.rnd_flux_symmetric(population = population,fraction=0.1)"
   ]
  },
  {
   "cell_type": "code",
   "execution_count": 9,
   "metadata": {},
   "outputs": [],
   "source": [
    "mob_matrix = cv19mobility_old.mobility_to_tensor(mobility,100)"
   ]
  },
  {
   "cell_type": "code",
   "execution_count": 10,
   "metadata": {},
   "outputs": [
    {
     "data": {
      "text/plain": [
       "(201, 4, 4)"
      ]
     },
     "execution_count": 10,
     "metadata": {},
     "output_type": "execute_result"
    }
   ],
   "source": [
    "np.shape(mob_matrix)"
   ]
  },
  {
   "cell_type": "code",
   "execution_count": 11,
   "metadata": {},
   "outputs": [
    {
     "data": {
      "text/plain": [
       "201"
      ]
     },
     "execution_count": 11,
     "metadata": {},
     "output_type": "execute_result"
    }
   ],
   "source": [
    "len(mob_matrix)"
   ]
  },
  {
   "cell_type": "code",
   "execution_count": 12,
   "metadata": {},
   "outputs": [
    {
     "data": {
      "text/plain": [
       "3"
      ]
     },
     "execution_count": 12,
     "metadata": {},
     "output_type": "execute_result"
    }
   ],
   "source": [
    "\n",
    "int(2*1.5)"
   ]
  },
  {
   "cell_type": "code",
   "execution_count": 13,
   "metadata": {},
   "outputs": [],
   "source": [
    "import numpy as np"
   ]
  },
  {
   "cell_type": "code",
   "execution_count": 14,
   "metadata": {},
   "outputs": [],
   "source": [
    "def gravity_model(populations, distances, beta):\n",
    "    mobility_matrix = np.zeros((len(populations), len(populations)))\n",
    "\n",
    "    for i in range(len(populations)):\n",
    "        for j in range(len(populations)):\n",
    "            if i != j:\n",
    "                mobility_matrix[i, j] = (populations[i] * populations[j]) / (distances[i, j] ** beta)\n",
    "\n",
    "    return mobility_matrix\n",
    "\n",
    "def radiation_model(populations, distances, s):\n",
    "    mobility_matrix = np.zeros((len(populations), len(populations)))\n",
    "\n",
    "    for i in range(len(populations)):\n",
    "        for j in range(len(populations)):\n",
    "            if i != j:\n",
    "                numerator = populations[i] * populations[j]\n",
    "                denominator = (populations[i] + s[i, j]) * (populations[i] + populations[j] + s[i, j])\n",
    "                mobility_matrix[i, j] = numerator / denominator\n",
    "\n",
    "    return mobility_matrix\n",
    "\n",
    "def create_mobility_matrix(populations, distances, model, **kwargs):\n",
    "    if model == 'gravity':\n",
    "        return gravity_model(populations, distances, kwargs.get('beta', 2))\n",
    "    elif model == 'radiation':\n",
    "        return radiation_model(populations, distances, kwargs.get('s', np.zeros_like(distances)))\n",
    "    else:\n",
    "        raise ValueError(f\"Unsupported model: {model}\")"
   ]
  },
  {
   "cell_type": "code",
   "execution_count": 15,
   "metadata": {},
   "outputs": [
    {
     "name": "stdout",
     "output_type": "stream",
     "text": [
      "Gravity model mobility matrix:\n",
      "[[    0.         20000.          7500.          4444.44444444]\n",
      " [20000.             0.          6666.66666667  5000.        ]\n",
      " [ 7500.          6666.66666667     0.          4800.        ]\n",
      " [ 4444.44444444  5000.          4800.             0.        ]]\n",
      "Radiation model mobility matrix:\n",
      "[[0.         0.46620047 0.4076087  0.35682426]\n",
      " [0.26350461 0.         0.35067212 0.34722222]\n",
      " [0.18115942 0.26075619 0.         0.31372549]\n",
      " [0.13836043 0.21367521 0.25668449 0.        ]]\n"
     ]
    }
   ],
   "source": [
    "# Example usage\n",
    "populations = np.array([1000, 2000, 3000, 4000])  # Population sizes for each region\n",
    "distances = np.array([\n",
    "    [0, 10, 20, 30],\n",
    "    [10, 0, 30, 40],\n",
    "    [20, 30, 0, 50],\n",
    "    [30, 40, 50, 0]\n",
    "])  # Pairwise distances between regions\n",
    "\n",
    "s = np.array([\n",
    "    [0, 300, 600, 900],\n",
    "    [300, 0, 900, 1200],\n",
    "    [600, 900, 0, 1500],\n",
    "    [900, 1200, 1500, 0]\n",
    "])  # Example of s_ij values for the radiation model\n",
    "\n",
    "gravity_matrix = create_mobility_matrix(populations, distances, 'gravity', beta=2)\n",
    "radiation_matrix = create_mobility_matrix(populations, distances, 'radiation', s=s)\n",
    "\n",
    "print(\"Gravity model mobility matrix:\")\n",
    "print(gravity_matrix)\n",
    "print(\"Radiation model mobility matrix:\")\n",
    "print(radiation_matrix)"
   ]
  },
  {
   "cell_type": "code",
   "execution_count": 16,
   "metadata": {},
   "outputs": [],
   "source": [
    "def gravity_model(populations, distances, beta):\n",
    "    mobility_matrix = np.zeros((len(populations), len(populations)))\n",
    "\n",
    "    for i in range(len(populations)):\n",
    "        for j in range(len(populations)):\n",
    "            if i != j:\n",
    "                mobility_matrix[i, j] = (populations[i] * populations[j]) / (distances[i, j] ** beta)\n",
    "\n",
    "    return mobility_matrix\n",
    "\n",
    "def radiation_model(populations, distances, s):\n",
    "    mobility_matrix = np.zeros((len(populations), len(populations)))\n",
    "\n",
    "    for i in range(len(populations)):\n",
    "        for j in range(len(populations)):\n",
    "            if i != j:\n",
    "                numerator = populations[i] * populations[j]\n",
    "                denominator = (populations[i] + s[i, j]) * (populations[i] + populations[j] + s[i, j])\n",
    "                mobility_matrix[i, j] = numerator / denominator\n",
    "\n",
    "    return mobility_matrix\n",
    "\n",
    "def random_mobility_model(populations, distances, fraction):\n",
    "    mobility_matrix = np.zeros((len(populations), len(populations)))\n",
    "\n",
    "    for i in range(len(populations)):\n",
    "        for j in range(len(populations)):\n",
    "            if i != j:\n",
    "                mobility_matrix[i, j] = np.random.uniform(0, populations[i] * fraction)\n",
    "\n",
    "        # Normalize row to ensure the total moved population is a fraction of the region's population\n",
    "        mobility_matrix[i, :] /= np.sum(mobility_matrix[i, :])\n",
    "        mobility_matrix[i, :] *= populations[i] * fraction\n",
    "\n",
    "    return mobility_matrix\n",
    "\n",
    "def create_random_distances_matrix(n, min_distance, max_distance):\n",
    "    distances = np.random.uniform(min_distance, max_distance, (n, n))\n",
    "    np.fill_diagonal(distances, 0)\n",
    "    return distances + distances.T  # Make the matrix symmetric\n",
    "\n",
    "def create_mobility_matrix(populations, distances=None, model='gravity', **kwargs):\n",
    "    if distances is None:\n",
    "        distances = create_random_distances_matrix(len(populations), 10, 100)\n",
    "\n",
    "    if model == 'gravity':\n",
    "        return gravity_model(populations, distances, kwargs.get('beta', 2))\n",
    "    elif model == 'radiation':\n",
    "        return radiation_model(populations, distances, kwargs.get('s', np.zeros_like(distances)))\n",
    "    elif model == 'random':\n",
    "        return random_mobility_model(populations, distances, kwargs.get('fraction', 0.1))\n",
    "    else:\n",
    "        raise ValueError(f\"Unsupported model: {model}\")\n"
   ]
  },
  {
   "cell_type": "code",
   "execution_count": 17,
   "metadata": {},
   "outputs": [
    {
     "name": "stdout",
     "output_type": "stream",
     "text": [
      "Gravity model mobility matrix:\n",
      "[[   0.          327.85007986  108.42958099  201.58628345]\n",
      " [ 327.85007986    0.         1151.99886155  836.36145992]\n",
      " [ 108.42958099 1151.99886155    0.          668.33688409]\n",
      " [ 201.58628345  836.36145992  668.33688409    0.        ]]\n",
      "Radiation model mobility matrix:\n",
      "[[0.         0.66666667 0.75       0.8       ]\n",
      " [0.33333333 0.         0.6        0.66666667]\n",
      " [0.25       0.4        0.         0.57142857]\n",
      " [0.2        0.33333333 0.42857143 0.        ]]\n",
      "Random mobility model mobility matrix:\n",
      "[[  0.          21.34702271  31.68616259  46.9668147 ]\n",
      " [150.33581016   0.          38.51659593  11.14759391]\n",
      " [ 30.32694627 261.0581437    0.           8.61491003]\n",
      " [159.88807246  95.16663549 144.94529206   0.        ]]\n"
     ]
    }
   ],
   "source": [
    "# Example usage\n",
    "populations = np.array([1000, 2000, 3000, 4000])  # Population sizes for each region\n",
    "\n",
    "gravity_matrix = create_mobility_matrix(populations, model='gravity')\n",
    "radiation_matrix = create_mobility_matrix(populations, model='radiation')\n",
    "random_matrix = create_mobility_matrix(populations, model='random')\n",
    "\n",
    "print(\"Gravity model mobility matrix:\")\n",
    "print(gravity_matrix)\n",
    "print(\"Radiation model mobility matrix:\")\n",
    "print(radiation_matrix)\n",
    "print(\"Random mobility model mobility matrix:\")\n",
    "print(random_matrix)"
   ]
  },
  {
   "cell_type": "code",
   "execution_count": 18,
   "metadata": {},
   "outputs": [],
   "source": [
    "\n",
    "def daily_mobility_pattern(mobility_matrix, amplitude=0.5, period=1, phase_shift=0):\n",
    "    def time_varying_mobility(t):\n",
    "        modulator = 1 + amplitude * np.sin(2 * np.pi * (t - phase_shift) / period)\n",
    "        return mobility_matrix * modulator\n",
    "\n",
    "    return time_varying_mobility\n",
    "\n",
    "def rush_hour_mobility_pattern(mobility_matrix, peak_amplitude=0.5, off_peak_amplitude=-0.5, peak_start=7/24, peak_end=9/24, evening_start=17/24, evening_end=19/24):\n",
    "    def time_varying_mobility(t):\n",
    "        if peak_start <= t < peak_end:\n",
    "            scaling_factor = 1 + off_peak_amplitude + (peak_amplitude - off_peak_amplitude) * (t - peak_start) / (peak_end - peak_start)\n",
    "        elif peak_end <= t < evening_start:\n",
    "            scaling_factor = 1 + off_peak_amplitude\n",
    "        elif evening_start <= t < evening_end:\n",
    "            scaling_factor = 1 + off_peak_amplitude + (peak_amplitude - off_peak_amplitude) * (t - evening_start) / (evening_end - evening_start)\n",
    "        else:\n",
    "            scaling_factor = 1 + off_peak_amplitude\n",
    "        return mobility_matrix * scaling_factor\n",
    "\n",
    "    return time_varying_mobility"
   ]
  },
  {
   "cell_type": "code",
   "execution_count": 19,
   "metadata": {},
   "outputs": [
    {
     "name": "stdout",
     "output_type": "stream",
     "text": [
      "Time-varying mobility matrix at t = 0 hours:\n",
      "[[   0.          158.36395924  710.44060807  143.60163403]\n",
      " [ 158.36395924    0.          310.17911171  625.74905759]\n",
      " [ 710.44060807  310.17911171    0.         1527.81556812]\n",
      " [ 143.60163403  625.74905759 1527.81556812    0.        ]]\n",
      "Time-varying mobility matrix at t = 6 hours:\n",
      "[[   0.          237.54593887 1065.6609121   215.40245105]\n",
      " [ 237.54593887    0.          465.26866757  938.62358639]\n",
      " [1065.6609121   465.26866757    0.         2291.72335217]\n",
      " [ 215.40245105  938.62358639 2291.72335217    0.        ]]\n",
      "Time-varying mobility matrix at t = 12 hours:\n",
      "[[   0.          158.36395924  710.44060807  143.60163403]\n",
      " [ 158.36395924    0.          310.17911171  625.74905759]\n",
      " [ 710.44060807  310.17911171    0.         1527.81556812]\n",
      " [ 143.60163403  625.74905759 1527.81556812    0.        ]]\n",
      "Time-varying mobility matrix at t = 18 hours:\n",
      "[[  0.          79.18197962 355.22030403  71.80081702]\n",
      " [ 79.18197962   0.         155.08955586 312.8745288 ]\n",
      " [355.22030403 155.08955586   0.         763.90778406]\n",
      " [ 71.80081702 312.8745288  763.90778406   0.        ]]\n"
     ]
    }
   ],
   "source": [
    "# Example usage\n",
    "populations = np.array([1000, 2000, 3000, 4000])  # Population sizes for each region\n",
    "\n",
    "gravity_matrix = create_mobility_matrix(populations, model='gravity')\n",
    "\n",
    "# Create a time-varying mobility matrix function\n",
    "daily_mobility = daily_mobility_pattern(gravity_matrix, amplitude=0.5, period=24, phase_shift=0)\n",
    "\n",
    "# Evaluate the mobility matrix for different time instances (in hours)\n",
    "print(\"Time-varying mobility matrix at t = 0 hours:\")\n",
    "print(daily_mobility(0))\n",
    "print(\"Time-varying mobility matrix at t = 6 hours:\")\n",
    "print(daily_mobility(6))\n",
    "print(\"Time-varying mobility matrix at t = 12 hours:\")\n",
    "print(daily_mobility(12))\n",
    "print(\"Time-varying mobility matrix at t = 18 hours:\")\n",
    "print(daily_mobility(18))\n"
   ]
  },
  {
   "cell_type": "code",
   "execution_count": 20,
   "metadata": {},
   "outputs": [
    {
     "data": {
      "application/vnd.jupyter.widget-view+json": {
       "model_id": "4401d15780a6461aa74a020bcf1139fd",
       "version_major": 2,
       "version_minor": 0
      },
      "text/plain": [
       "interactive(children=(IntSlider(value=0, continuous_update=False, description='t', max=24), Output()), _dom_cl…"
      ]
     },
     "metadata": {},
     "output_type": "display_data"
    },
    {
     "data": {
      "text/plain": [
       "<function __main__.plot_mobility_matrix(t)>"
      ]
     },
     "execution_count": 20,
     "metadata": {},
     "output_type": "execute_result"
    }
   ],
   "source": [
    "import numpy as np\n",
    "import matplotlib.pyplot as plt\n",
    "from ipywidgets import interact, IntSlider\n",
    "\n",
    "# ... (previous functions)\n",
    "\n",
    "# Example usage\n",
    "# ... (same as before)\n",
    "\n",
    "# Visualization function\n",
    "def plot_mobility_matrix(t):\n",
    "    mobility_matrix_t = daily_mobility(t)\n",
    "    plt.figure(figsize=(8, 6))\n",
    "    plt.imshow(mobility_matrix_t, cmap='viridis', origin='lower')\n",
    "    plt.colorbar(label='Mobility')\n",
    "    plt.title(f\"Time-varying Mobility Matrix at t = {t} hours\")\n",
    "    plt.xlabel(\"Destination Region\")\n",
    "    plt.ylabel(\"Origin Region\")\n",
    "    plt.xticks(range(len(populations)))\n",
    "    plt.yticks(range(len(populations)))\n",
    "    plt.show()\n",
    "\n",
    "# Interactive plot\n",
    "interact(plot_mobility_matrix, t=IntSlider(min=0, max=24, step=1, value=0, continuous_update=False))\n"
   ]
  },
  {
   "cell_type": "code",
   "execution_count": 21,
   "metadata": {},
   "outputs": [
    {
     "data": {
      "application/vnd.jupyter.widget-view+json": {
       "model_id": "8f7be8f6b38c437095f496c1d26fb9be",
       "version_major": 2,
       "version_minor": 0
      },
      "text/plain": [
       "interactive(children=(IntSlider(value=0, continuous_update=False, description='t', max=24), Output()), _dom_cl…"
      ]
     },
     "metadata": {},
     "output_type": "display_data"
    },
    {
     "data": {
      "text/plain": [
       "<function __main__.plot_mobility_matrix(t)>"
      ]
     },
     "execution_count": 21,
     "metadata": {},
     "output_type": "execute_result"
    }
   ],
   "source": [
    "import numpy as np\n",
    "import matplotlib.pyplot as plt\n",
    "from ipywidgets import interact, IntSlider\n",
    "\n",
    "# ... (previous functions and example usage)\n",
    "\n",
    "# Visualization function with fixed scale\n",
    "def plot_mobility_matrix(t):\n",
    "    mobility_matrix_t = daily_mobility(t)\n",
    "    plt.figure(figsize=(8, 6))\n",
    "    plt.imshow(mobility_matrix_t, cmap='viridis', origin='lower',\n",
    "               vmin=np.min(gravity_matrix), vmax=np.max(gravity_matrix))\n",
    "    plt.colorbar(label='Mobility')\n",
    "    plt.title(f\"Time-varying Mobility Matrix at t = {t} hours\")\n",
    "    plt.xlabel(\"Destination Region\")\n",
    "    plt.ylabel(\"Origin Region\")\n",
    "    plt.xticks(range(len(populations)))\n",
    "    plt.yticks(range(len(populations)))\n",
    "    plt.show()\n",
    "\n",
    "# Interactive plot\n",
    "interact(plot_mobility_matrix, t=IntSlider(min=0, max=24, step=1, value=0, continuous_update=False))\n"
   ]
  },
  {
   "cell_type": "code",
   "execution_count": null,
   "metadata": {},
   "outputs": [],
   "source": []
  },
  {
   "cell_type": "code",
   "execution_count": 22,
   "metadata": {},
   "outputs": [
    {
     "data": {
      "application/vnd.jupyter.widget-view+json": {
       "model_id": "5ca0ca8df30f4d90a3c6e6d73ffa1fab",
       "version_major": 2,
       "version_minor": 0
      },
      "text/plain": [
       "interactive(children=(IntSlider(value=0, continuous_update=False, description='t', max=24), Output()), _dom_cl…"
      ]
     },
     "metadata": {},
     "output_type": "display_data"
    },
    {
     "data": {
      "text/plain": [
       "<function __main__.plot_mobility_matrix(t)>"
      ]
     },
     "execution_count": 22,
     "metadata": {},
     "output_type": "execute_result"
    }
   ],
   "source": [
    "rush_hour_mobility = rush_hour_mobility_pattern(gravity_matrix)\n",
    "\n",
    "# Visualization function with fixed scale\n",
    "# ... (same as before)\n",
    "\n",
    "# Interactive plot for rush hour mobility\n",
    "interact(plot_mobility_matrix, t=IntSlider(min=0, max=24, step=1, value=0, continuous_update=False))"
   ]
  },
  {
   "cell_type": "code",
   "execution_count": 23,
   "metadata": {},
   "outputs": [],
   "source": [
    "population = np.array([1000, 2000, 3000, 4000])  # Population sizes for each region\n",
    "mobility_matrix = create_mobility_matrix(population, model='gravity') "
   ]
  },
  {
   "cell_type": "code",
   "execution_count": 24,
   "metadata": {},
   "outputs": [
    {
     "data": {
      "text/plain": [
       "array([[   0.        ,  240.19398085, 1168.73487847,  155.98818476],\n",
       "       [ 240.19398085,    0.        ,  204.154334  , 1045.73721908],\n",
       "       [1168.73487847,  204.154334  ,    0.        ,  792.64721471],\n",
       "       [ 155.98818476, 1045.73721908,  792.64721471,    0.        ]])"
      ]
     },
     "execution_count": 24,
     "metadata": {},
     "output_type": "execute_result"
    }
   ],
   "source": [
    "mobility_matrix"
   ]
  },
  {
   "cell_type": "code",
   "execution_count": 25,
   "metadata": {},
   "outputs": [
    {
     "data": {
      "application/vnd.jupyter.widget-view+json": {
       "model_id": "20e22291b38849c29c0f27afd249b224",
       "version_major": 2,
       "version_minor": 0
      },
      "text/plain": [
       "interactive(children=(FloatSlider(value=0.0, continuous_update=False, description='t', max=1.0, step=0.0416666…"
      ]
     },
     "metadata": {},
     "output_type": "display_data"
    },
    {
     "data": {
      "text/plain": [
       "<function __main__.plot_mobility_matrix(t)>"
      ]
     },
     "execution_count": 25,
     "metadata": {},
     "output_type": "execute_result"
    }
   ],
   "source": [
    "import numpy as np\n",
    "import matplotlib.pyplot as plt\n",
    "from ipywidgets import interact, FloatSlider\n",
    "\n",
    "# ... (previous functions)\n",
    "\n",
    "\n",
    "# Example usage\n",
    "# ... (same as before)\n",
    "\n",
    "# Create a time-varying mobility matrix function with rush hour pattern\n",
    "rush_hour_mobility = rush_hour_mobility_pattern(gravity_matrix)\n",
    "\n",
    "# Visualization function with fixed scale\n",
    "# ... (same as before)\n",
    "\n",
    "# Interactive plot for rush hour mobility\n",
    "interact(plot_mobility_matrix, t=FloatSlider(min=0, max=1, step=1/24, value=0, continuous_update=False))\n"
   ]
  },
  {
   "cell_type": "code",
   "execution_count": 29,
   "metadata": {},
   "outputs": [
    {
     "data": {
      "text/plain": [
       "array([[  0.        ,  79.18197962, 355.22030403,  71.80081702],\n",
       "       [ 79.18197962,   0.        , 155.08955586, 312.8745288 ],\n",
       "       [355.22030403, 155.08955586,   0.        , 763.90778406],\n",
       "       [ 71.80081702, 312.8745288 , 763.90778406,   0.        ]])"
      ]
     },
     "execution_count": 29,
     "metadata": {},
     "output_type": "execute_result"
    }
   ],
   "source": [
    "rush_hour_mobility(1)"
   ]
  },
  {
   "cell_type": "code",
   "execution_count": 30,
   "metadata": {},
   "outputs": [
    {
     "data": {
      "text/plain": [
       "array([[   0.        ,  158.36395924,  710.44060807,  143.60163403],\n",
       "       [ 158.36395924,    0.        ,  310.17911171,  625.74905759],\n",
       "       [ 710.44060807,  310.17911171,    0.        , 1527.81556812],\n",
       "       [ 143.60163403,  625.74905759, 1527.81556812,    0.        ]])"
      ]
     },
     "execution_count": 30,
     "metadata": {},
     "output_type": "execute_result"
    }
   ],
   "source": [
    "gravity_matrix"
   ]
  },
  {
   "cell_type": "code",
   "execution_count": 34,
   "metadata": {},
   "outputs": [
    {
     "data": {
      "application/vnd.jupyter.widget-view+json": {
       "model_id": "8f41b81e685746f4a00cc953cb28e3fb",
       "version_major": 2,
       "version_minor": 0
      },
      "text/plain": [
       "interactive(children=(IntSlider(value=0, description='t', max=24), Output()), _dom_classes=('widget-interact',…"
      ]
     },
     "metadata": {},
     "output_type": "display_data"
    },
    {
     "data": {
      "text/plain": [
       "<function __main__.plot_population(t)>"
      ]
     },
     "execution_count": 34,
     "metadata": {},
     "output_type": "execute_result"
    }
   ],
   "source": [
    "import numpy as np\n",
    "import matplotlib.pyplot as plt\n",
    "from ipywidgets import interact, FloatSlider\n",
    "\n",
    "# ... (previous functions)\n",
    "\n",
    "# Simulation function with updated population flux calculations\n",
    "def simulate_population(populations, mobility_function, dt, steps):\n",
    "    current_populations = populations.copy()\n",
    "    population_history = [current_populations]\n",
    "\n",
    "    for _ in range(steps):\n",
    "        mobility_matrix = mobility_function(dt)\n",
    "        outgoing = np.sum(mobility_matrix, axis=1)\n",
    "        incoming = np.sum(mobility_matrix, axis=0)\n",
    "        current_populations = current_populations - outgoing + incoming\n",
    "        population_history.append(current_populations)\n",
    "\n",
    "    return np.array(population_history)\n",
    "\n",
    "# Example usage\n",
    "# ... (same as before)\n",
    "\n",
    "# Create a time-varying mobility matrix function with rush hour pattern\n",
    "rush_hour_mobility = rush_hour_mobility_pattern(gravity_matrix)\n",
    "\n",
    "# Simulate population dynamics\n",
    "dt = 1 / 24  # Time step of 1 hour\n",
    "steps = 24  # Number of steps\n",
    "population_history = simulate_population(populations, rush_hour_mobility, dt, steps)\n",
    "\n",
    "# Visualization function for population dynamics\n",
    "def plot_population(t):\n",
    "    plt.figure(figsize=(8, 6))\n",
    "    plt.bar(range(len(populations)), population_history[t], color='orange')\n",
    "    plt.title(f\"Population at t = {t} hours\")\n",
    "    plt.xlabel(\"Region\")\n",
    "    plt.ylabel(\"Population\")\n",
    "    plt.xticks(range(len(populations)))\n",
    "    plt.ylim(0, np.max(populations) * 1.5)\n",
    "    plt.show()\n",
    "\n",
    "# Interactive plot for population dynamics\n",
    "interact(plot_population, t=IntSlider(min=0, max=steps, step=1, value=0, continuous_update=True))\n"
   ]
  },
  {
   "cell_type": "code",
   "execution_count": 36,
   "metadata": {},
   "outputs": [
    {
     "data": {
      "application/vnd.jupyter.widget-view+json": {
       "model_id": "3255eb9cb62148f0bd66c2941fb71691",
       "version_major": 2,
       "version_minor": 0
      },
      "text/plain": [
       "interactive(children=(IntSlider(value=0, continuous_update=False, description='region', max=3), Output()), _do…"
      ]
     },
     "metadata": {},
     "output_type": "display_data"
    },
    {
     "data": {
      "text/plain": [
       "<function __main__.plot_population(region)>"
      ]
     },
     "execution_count": 36,
     "metadata": {},
     "output_type": "execute_result"
    }
   ],
   "source": [
    "import numpy as np\n",
    "import matplotlib.pyplot as plt\n",
    "from ipywidgets import interact, FloatSlider\n",
    "\n",
    "# ... (previous functions)\n",
    "\n",
    "# Simulate population dynamics\n",
    "# ... (same as before)\n",
    "\n",
    "# Visualization function for population dynamics\n",
    "def plot_population(region):\n",
    "    plt.figure(figsize=(8, 6))\n",
    "    plt.plot(population_history[:, region], linestyle='-', marker='o', markersize=4)\n",
    "    plt.title(f\"Population at Region {region} vs Time\")\n",
    "    plt.xlabel(\"Time (hours)\")\n",
    "    plt.ylabel(\"Population\")\n",
    "    plt.xticks(range(0, steps+1, 2))\n",
    "    plt.ylim(0, np.max(populations) * 1.5)\n",
    "    plt.grid()\n",
    "    plt.show()\n",
    "\n",
    "# Interactive plot for population dynamics\n",
    "interact(plot_population, region=IntSlider(min=0, max=len(populations)-1, step=1, value=0, continuous_update=False))\n"
   ]
  },
  {
   "cell_type": "code",
   "execution_count": null,
   "metadata": {},
   "outputs": [],
   "source": [
    "# Simulation function\n",
    "def simulate_population(populations, mobility_function, dt, steps):\n",
    "    current_populations = populations.copy()\n",
    "    population_history = [current_populations]\n",
    "\n",
    "    for _ in range(steps):\n",
    "        mobility_matrix = mobility_function(dt)\n",
    "        outgoing = np.sum(mobility_matrix, axis=1) * current_populations\n",
    "        incoming = np.sum(mobility_matrix * current_populations, axis=0)\n",
    "        current_populations = current_populations - outgoing + incoming\n",
    "        population_history.append(current_populations)\n",
    "\n",
    "    return np.array(population_history)\n"
   ]
  },
  {
   "cell_type": "code",
   "execution_count": 33,
   "metadata": {},
   "outputs": [
    {
     "data": {
      "text/plain": [
       "array([1564.91704408, 1490.08553393, 2165.53642718, 1994.37261855])"
      ]
     },
     "execution_count": 33,
     "metadata": {},
     "output_type": "execute_result"
    }
   ],
   "source": [
    "np.sum(mobility_matrix, axis=1)"
   ]
  },
  {
   "cell_type": "code",
   "execution_count": 37,
   "metadata": {},
   "outputs": [
    {
     "data": {
      "application/vnd.jupyter.widget-view+json": {
       "model_id": "73c93efd0e02402eadf03a6fd4daf0bb",
       "version_major": 2,
       "version_minor": 0
      },
      "text/plain": [
       "interactive(children=(IntSlider(value=0, continuous_update=False, description='region', max=3), Output()), _do…"
      ]
     },
     "metadata": {},
     "output_type": "display_data"
    },
    {
     "data": {
      "text/plain": [
       "<function __main__.plot_population(region)>"
      ]
     },
     "execution_count": 37,
     "metadata": {},
     "output_type": "execute_result"
    }
   ],
   "source": [
    "import numpy as np\n",
    "import matplotlib.pyplot as plt\n",
    "from ipywidgets import interact, FloatSlider\n",
    "\n",
    "# ... (previous functions)\n",
    "\n",
    "def daily_mobility_pattern(mobility_matrix, amplitude=0.5, period=24, phase_shift=0):\n",
    "    def time_varying_mobility(t):\n",
    "        scaling_factor = 1 + amplitude * np.sin(2 * np.pi * (t / period - phase_shift))\n",
    "        return mobility_matrix * scaling_factor\n",
    "\n",
    "    return time_varying_mobility\n",
    "\n",
    "def rush_hour_mobility_pattern(mobility_matrix, peak_amplitude=0.5, off_peak_amplitude=-0.5, peak_start=7, peak_end=9, evening_start=17, evening_end=19):\n",
    "    def time_varying_mobility(t):\n",
    "        if peak_start <= t < peak_end:\n",
    "            scaling_factor = 1 + off_peak_amplitude + (peak_amplitude - off_peak_amplitude) * (t - peak_start) / (peak_end - peak_start)\n",
    "        elif peak_end <= t < evening_start:\n",
    "            scaling_factor = 1 + off_peak_amplitude\n",
    "        elif evening_start <= t < evening_end:\n",
    "            scaling_factor = 1 + off_peak_amplitude + (peak_amplitude - off_peak_amplitude) * (t - evening_start) / (evening_end - evening_start)\n",
    "        else:\n",
    "            scaling_factor = 1 + off_peak_amplitude\n",
    "        return mobility_matrix * scaling_factor\n",
    "\n",
    "    return time_varying_mobility\n",
    "\n",
    "# Example usage\n",
    "# ... (same as before)\n",
    "\n",
    "# Create a time-varying mobility matrix function with rush hour pattern\n",
    "rush_hour_mobility = rush_hour_mobility_pattern(gravity_matrix)\n",
    "\n",
    "# Simulate population dynamics\n",
    "dt = 1  # Time step of 1 hour\n",
    "steps = 24  # Number of steps\n",
    "population_history = simulate_population(populations, rush_hour_mobility, dt, steps)\n",
    "\n",
    "# Visualization function for population dynamics\n",
    "# ... (same as before)\n",
    "\n",
    "# Interactive plot for population dynamics\n",
    "interact(plot_population, region=IntSlider(min=0, max=len(populations)-1, step=1, value=0, continuous_update=False))\n"
   ]
  },
  {
   "cell_type": "code",
   "execution_count": 38,
   "metadata": {},
   "outputs": [
    {
     "data": {
      "image/png": "[encoded data removed]",
      "text/plain": [
       "<Figure size 576x432 with 1 Axes>"
      ]
     },
     "metadata": {
      "needs_background": "light"
     },
     "output_type": "display_data"
    }
   ],
   "source": [
    "import numpy as np\n",
    "import matplotlib.pyplot as plt\n",
    "\n",
    "# ... (previous functions)\n",
    "\n",
    "# Simulation function with fixed time step handling\n",
    "def simulate_population(populations, mobility_function, dt, steps):\n",
    "    current_populations = populations.copy()\n",
    "    population_history = [current_populations]\n",
    "\n",
    "    for i in range(steps):\n",
    "        mobility_matrix = mobility_function(i * dt)\n",
    "        outgoing = np.sum(mobility_matrix, axis=1)\n",
    "        incoming = np.sum(mobility_matrix, axis=0)\n",
    "        current_populations = current_populations - outgoing + incoming\n",
    "        population_history.append(current_populations)\n",
    "\n",
    "    return np.array(population_history)\n",
    "\n",
    "# Example usage\n",
    "# ... (same as before)\n",
    "\n",
    "# Create a time-varying mobility matrix function with rush hour pattern\n",
    "rush_hour_mobility = rush_hour_mobility_pattern(gravity_matrix)\n",
    "\n",
    "# Simulate population dynamics\n",
    "dt = 1  # Time step of 1 hour\n",
    "steps = 24  # Number of steps\n",
    "population_history = simulate_population(populations, rush_hour_mobility, dt, steps)\n",
    "\n",
    "# Plot population dynamics for all regions\n",
    "plt.figure(figsize=(8, 6))\n",
    "for region in range(len(populations)):\n",
    "    plt.plot(population_history[:, region], linestyle='-', marker='o', markersize=4, label=f\"Region {region}\")\n",
    "\n",
    "plt.title(\"Population vs Time\")\n",
    "plt.xlabel(\"Time (hours)\")\n",
    "plt.ylabel(\"Population\")\n",
    "plt.xticks(range(0, steps+1, 2))\n",
    "plt.ylim(0, np.max(populations) * 1.5)\n",
    "plt.grid()\n",
    "plt.legend()\n",
    "plt.show()\n"
   ]
  },
  {
   "cell_type": "code",
   "execution_count": 40,
   "metadata": {},
   "outputs": [
    {
     "data": {
      "image/png": "[encoded data removed]",
      "text/plain": [
       "<Figure size 576x432 with 1 Axes>"
      ]
     },
     "metadata": {
      "needs_background": "light"
     },
     "output_type": "display_data"
    }
   ],
   "source": [
    "import numpy as np\n",
    "import matplotlib.pyplot as plt\n",
    "\n",
    "# ... (previous functions)\n",
    "\n",
    "# Corrected simulation function\n",
    "def simulate_population(populations, mobility_function, dt, steps):\n",
    "    current_populations = populations.copy()\n",
    "    population_history = [current_populations]\n",
    "\n",
    "    for i in range(steps):\n",
    "        mobility_matrix = mobility_function(i * dt)\n",
    "        outgoing = (mobility_matrix.T * current_populations).T\n",
    "        incoming = mobility_matrix @ current_populations\n",
    "        current_populations = current_populations - np.sum(outgoing, axis=1) + incoming\n",
    "        population_history.append(current_populations)\n",
    "\n",
    "    return np.array(population_history)\n",
    "\n",
    "# Example usage\n",
    "# ... (same as before)\n",
    "\n",
    "# Create a time-varying mobility matrix function with rush hour pattern\n",
    "rush_hour_mobility = rush_hour_mobility_pattern(gravity_matrix)\n",
    "\n",
    "# Simulate population dynamics\n",
    "dt = 1  # Time step of 1 hour\n",
    "steps = 24  # Number of steps\n",
    "population_history = simulate_population(populations, rush_hour_mobility, dt, steps)\n",
    "\n",
    "# Plot population dynamics for all regions\n",
    "plt.figure(figsize=(8, 6))\n",
    "for region in range(len(populations)):\n",
    "    plt.plot(population_history[:, region], linestyle='-', marker='o', markersize=4, label=f\"Region {region}\")\n",
    "\n",
    "plt.title(\"Population vs Time\")\n",
    "plt.xlabel(\"Time (hours)\")\n",
    "plt.ylabel(\"Population\")\n",
    "plt.xticks(range(0, steps+1, 2))\n",
    "plt.ylim(0, np.max(populations) * 1.5)\n",
    "plt.grid()\n",
    "plt.legend()\n",
    "plt.show()\n"
   ]
  },
  {
   "cell_type": "code",
   "execution_count": 42,
   "metadata": {},
   "outputs": [
    {
     "data": {
      "text/plain": [
       "(25, 4)"
      ]
     },
     "execution_count": 42,
     "metadata": {},
     "output_type": "execute_result"
    }
   ],
   "source": [
    "np.shape(population_history)"
   ]
  },
  {
   "cell_type": "code",
   "execution_count": 46,
   "metadata": {},
   "outputs": [
    {
     "data": {
      "text/plain": [
       "[<matplotlib.lines.Line2D at 0x7f9e200e09d0>]"
      ]
     },
     "execution_count": 46,
     "metadata": {},
     "output_type": "execute_result"
    },
    {
     "data": {
      "image/png": "[encoded data removed]",
      "text/plain": [
       "<Figure size 432x288 with 1 Axes>"
      ]
     },
     "metadata": {
      "needs_background": "light"
     },
     "output_type": "display_data"
    }
   ],
   "source": [
    "plt.plot(np.linspace(0,100,24),population_history[:-1,0])"
   ]
  },
  {
   "cell_type": "code",
   "execution_count": 63,
   "metadata": {},
   "outputs": [],
   "source": [
    "import numpy as np\n",
    "\n",
    "def random_mobility_model(population, fraction=0.4, seed=None):\n",
    "    \"\"\"Generate a random flux matrix that moves the specified fraction of the population.\n",
    "    This method uses the dirichlet distribution in order to distribute the population maintaining the total.\n",
    "\n",
    "    ref: https://numpy.org/doc/stable/reference/random/generated/numpy.random.Generator.dirichlet.html#numpy.random.Generator.dirichlet\n",
    "\n",
    "    Args:\n",
    "        population (array): array with the population of each town that makes part of this meta-population system.\n",
    "        fraction (float, array, optional): Population fraction that travels per day. This can also be an array that specifies a different\n",
    "        fraction per population. Defaults to 0.1.\n",
    "\n",
    "    Returns:\n",
    "        np.array: Flux matrix with 0 diagonals\n",
    "    \"\"\"\n",
    "    size = len(population)\n",
    "    if not isinstance(fraction, (list, np.ndarray)):\n",
    "        fraction = np.ones(size) * fraction\n",
    "\n",
    "    rng = np.random.default_rng(seed=seed)\n",
    "    \n",
    "    aux = []\n",
    "    for i in range(size):\n",
    "        aux.append(np.insert(rng.dirichlet(np.ones(size - 1), size=1) * population[i] * fraction[i], i, 0))\n",
    "    return np.array(aux).astype(int)"
   ]
  },
  {
   "cell_type": "code",
   "execution_count": 61,
   "metadata": {},
   "outputs": [],
   "source": [
    "\n",
    "def random_mobility_model(populations, distances):\n",
    "    \"\"\"\n",
    "    Calculate the random mobility matrix.\n",
    "    \n",
    "    Parameters:\n",
    "    -----------\n",
    "    populations : np.array\n",
    "        Array of populations for each region.\n",
    "    distances : np.array\n",
    "        Matrix of distances between regions.\n",
    "        \n",
    "    Returns:\n",
    "    --------\n",
    "    np.array\n",
    "        Random mobility matrix.\n",
    "    \"\"\"\n",
    "    num_regions = len(populations)\n",
    "    mobility_matrix = np.random.rand(num_regions, num_regions)\n",
    "\n",
    "    # Zero out diagonal elements\n",
    "    np.fill_diagonal(mobility_matrix, 0)\n",
    "\n",
    "    # Normalize rows to sum up to the total population\n",
    "    row_sums = mobility_matrix.sum(axis=1, keepdims=True)\n",
    "    mobility_matrix = mobility_matrix / row_sums * populations[:, np.newaxis]\n",
    "\n",
    "    return mobility_matrix.astype(int)"
   ]
  },
  {
   "cell_type": "code",
   "execution_count": 69,
   "metadata": {},
   "outputs": [
    {
     "data": {
      "text/plain": [
       "array([[ 0, 26, 27, 33,  2],\n",
       "       [26,  0, 47, 12,  3],\n",
       "       [17, 65,  0,  4,  3],\n",
       "       [46,  4,  8,  0, 30],\n",
       "       [17, 47, 15,  9,  0]])"
      ]
     },
     "execution_count": 69,
     "metadata": {},
     "output_type": "execute_result"
    }
   ],
   "source": [
    "random_mobility_model_2(np.array([100, 100, 100, 100, 100]),fraction=0.9,seed=40)"
   ]
  },
  {
   "cell_type": "code",
   "execution_count": 68,
   "metadata": {},
   "outputs": [
    {
     "data": {
      "text/plain": [
       "array([[ 0.        ,  1.98036317, 39.95834828, 21.54443825, 36.5168503 ],\n",
       "       [26.65023678,  0.        ,  7.85857921, 27.43172961, 38.0594544 ],\n",
       "       [18.68848926, 37.10312489,  0.        , 16.20114045, 28.0072454 ],\n",
       "       [52.60288256, 23.31339944, 22.03163229,  0.        ,  2.0520857 ],\n",
       "       [22.40519886, 30.5894439 , 26.8718914 , 20.13346583,  0.        ]])"
      ]
     },
     "execution_count": 68,
     "metadata": {},
     "output_type": "execute_result"
    }
   ],
   "source": [
    "random_mobility_model(np.array([100, 100, 100, 100, 100]),0)#, fraction=0.1,seed=42)"
   ]
  },
  {
   "cell_type": "code",
   "execution_count": 70,
   "metadata": {},
   "outputs": [],
   "source": [
    "def gravity_model(populations, distances, alpha=1, beta=1):\n",
    "    \"\"\"\n",
    "    Calculate the gravity model mobility matrix.\n",
    "    \n",
    "    Parameters:\n",
    "    -----------\n",
    "    populations : np.array\n",
    "        Array of populations for each region.\n",
    "    distances : np.array\n",
    "        Matrix of distances between regions.\n",
    "    alpha : float\n",
    "        Parameter to control the effect of population sizes.\n",
    "    beta : float\n",
    "        Parameter to control the effect of distances.\n",
    "        \n",
    "    Returns:\n",
    "    --------\n",
    "    np.array\n",
    "        Mobility matrix based on the gravity model.\n",
    "    \"\"\"\n",
    "    num_regions = len(populations)\n",
    "    mobility_matrix = np.zeros((num_regions, num_regions))\n",
    "\n",
    "    for i in range(num_regions):\n",
    "        for j in range(num_regions):\n",
    "            if i != j:\n",
    "                mobility_matrix[i, j] = (populations[i] ** alpha) * (populations[j] ** alpha) / (distances[i, j] ** beta)\n",
    "    row_sums = mobility_matrix.sum(axis=1, keepdims=True)\n",
    "    mobility_matrix = mobility_matrix / row_sums * populations[:, np.newaxis]\n",
    "    \n",
    "    return mobility_matrix.astype(int)\n"
   ]
  },
  {
   "cell_type": "code",
   "execution_count": 76,
   "metadata": {},
   "outputs": [],
   "source": [
    "\n",
    "g = gravity_model(np.array([100, 100, 100, 100, 100]),np.array([[0, 1, 2, 3, 4], [1, 0, 1, 2, 3], [2, 1, 0, 1, 2], [3, 2, 1, 0, 1], [4, 3, 2, 1, 0]]), alpha=1, beta=1)"
   ]
  },
  {
   "cell_type": "code",
   "execution_count": 77,
   "metadata": {},
   "outputs": [
    {
     "data": {
      "text/plain": [
       "array([[ 0, 48, 24, 16, 12],\n",
       "       [35,  0, 35, 17, 11],\n",
       "       [16, 33,  0, 33, 16],\n",
       "       [11, 17, 35,  0, 35],\n",
       "       [11, 15, 23, 47,  0]])"
      ]
     },
     "execution_count": 77,
     "metadata": {},
     "output_type": "execute_result"
    }
   ],
   "source": [
    "g"
   ]
  },
  {
   "cell_type": "code",
   "execution_count": 78,
   "metadata": {},
   "outputs": [
    {
     "data": {
      "text/plain": [
       "array([100,  98,  98,  98,  96])"
      ]
     },
     "execution_count": 78,
     "metadata": {},
     "output_type": "execute_result"
    }
   ],
   "source": [
    "g.sum(axis=1)"
   ]
  },
  {
   "cell_type": "code",
   "execution_count": 79,
   "metadata": {},
   "outputs": [],
   "source": [
    "def create_small_world_distances_matrix(size, k=4, p=0.1, seed=None):\n",
    "    \"\"\"\n",
    "    Create a distance matrix in a small-world network shape using the Watts-Strogatz model.\n",
    "\n",
    "    Args:\n",
    "        size (int): The number of nodes (regions) in the distance matrix.\n",
    "        k (int): Each node is connected to k nearest neighbors in a ring topology.\n",
    "        p (float): The probability of rewiring each edge.\n",
    "        seed (int, optional): Seed for the random number generator.\n",
    "\n",
    "    Returns:\n",
    "        np.array: A distance matrix in a small-world network shape.\n",
    "    \"\"\"\n",
    "    import networkx as nx\n",
    "\n",
    "    rng = np.random.default_rng(seed=seed)\n",
    "    G = nx.watts_strogatz_graph(size, k, p, seed=rng)\n",
    "    distances = nx.floyd_warshall_numpy(G)\n",
    "    return distances\n"
   ]
  },
  {
   "cell_type": "code",
   "execution_count": 1,
   "metadata": {},
   "outputs": [
    {
     "ename": "NameError",
     "evalue": "name 'create_small_world_distances_matrix' is not defined",
     "output_type": "error",
     "traceback": [
      "\u001b[0;31m---------------------------------------------------------------------------\u001b[0m",
      "\u001b[0;31mNameError\u001b[0m                                 Traceback (most recent call last)",
      "\u001b[1;32m/home/samuel/covid19geomodeller/Examples/CV19Mobility_old.ipynb Cell 61\u001b[0m in \u001b[0;36m<cell line: 1>\u001b[0;34m()\u001b[0m\n\u001b[0;32m----> <a href='vscode-notebook-cell:/home/samuel/covid19geomodeller/Examples/CV19Mobility_old.ipynb#Y114sZmlsZQ%3D%3D?line=0'>1</a>\u001b[0m create_small_world_distances_matrix(\u001b[39m5\u001b[39m, k\u001b[39m=\u001b[39m\u001b[39m4\u001b[39m, p\u001b[39m=\u001b[39m\u001b[39m0.1\u001b[39m, seed\u001b[39m=\u001b[39m\u001b[39m42\u001b[39m)\n",
      "\u001b[0;31mNameError\u001b[0m: name 'create_small_world_distances_matrix' is not defined"
     ]
    }
   ],
   "source": [
    "create_small_world_distances_matrix(5, k=4, p=0.1, seed=42)\n"
   ]
  },
  {
   "cell_type": "code",
   "execution_count": 81,
   "metadata": {},
   "outputs": [],
   "source": [
    "def create_ring_distances_matrix(size, distance=1):\n",
    "    \"\"\"\n",
    "    Create a distance matrix in a ring shape.\n",
    "\n",
    "    Args:\n",
    "        size (int): The number of nodes (regions) in the distance matrix.\n",
    "        distance (float): The distance between adjacent nodes (regions) in the ring.\n",
    "\n",
    "    Returns:\n",
    "        np.array: A distance matrix in a ring shape.\n",
    "    \"\"\"\n",
    "    distances = np.zeros((size, size))\n",
    "\n",
    "    for i in range(size):\n",
    "        for j in range(size):\n",
    "            distances[i, j] = distance * min(abs(i - j), size - abs(i - j))\n",
    "\n",
    "    return distances"
   ]
  },
  {
   "cell_type": "code",
   "execution_count": 82,
   "metadata": {},
   "outputs": [
    {
     "data": {
      "text/plain": [
       "array([[0., 1., 2., 2., 1.],\n",
       "       [1., 0., 1., 2., 2.],\n",
       "       [2., 1., 0., 1., 2.],\n",
       "       [2., 2., 1., 0., 1.],\n",
       "       [1., 2., 2., 1., 0.]])"
      ]
     },
     "execution_count": 82,
     "metadata": {},
     "output_type": "execute_result"
    }
   ],
   "source": [
    "create_ring_distances_matrix(5, distance=1)"
   ]
  },
  {
   "cell_type": "code",
   "execution_count": 83,
   "metadata": {},
   "outputs": [],
   "source": [
    "def create_grid_distances_matrix(rows, cols, distance=1):\n",
    "    \"\"\"\n",
    "    Create a distance matrix in a grid shape.\n",
    "\n",
    "    Args:\n",
    "        rows (int): The number of rows in the grid.\n",
    "        cols (int): The number of columns in the grid.\n",
    "        distance (float): The distance between adjacent nodes (regions) in the grid.\n",
    "\n",
    "    Returns:\n",
    "        np.array: A distance matrix in a grid shape.\n",
    "    \"\"\"\n",
    "    size = rows * cols\n",
    "    distances = np.zeros((size, size))\n",
    "\n",
    "    for i in range(size):\n",
    "        for j in range(size):\n",
    "            row_i, col_i = divmod(i, cols)\n",
    "            row_j, col_j = divmod(j, cols)\n",
    "            distances[i, j] = distance * (abs(row_i - row_j) + abs(col_i - col_j))\n",
    "\n",
    "    return distances"
   ]
  },
  {
   "cell_type": "code",
   "execution_count": 84,
   "metadata": {},
   "outputs": [
    {
     "data": {
      "text/plain": [
       "array([[0., 1., 2., 3., 4., 1., 2., 3., 4., 5., 2., 3., 4., 5., 6., 3.,\n",
       "        4., 5., 6., 7., 4., 5., 6., 7., 8.],\n",
       "       [1., 0., 1., 2., 3., 2., 1., 2., 3., 4., 3., 2., 3., 4., 5., 4.,\n",
       "        3., 4., 5., 6., 5., 4., 5., 6., 7.],\n",
       "       [2., 1., 0., 1., 2., 3., 2., 1., 2., 3., 4., 3., 2., 3., 4., 5.,\n",
       "        4., 3., 4., 5., 6., 5., 4., 5., 6.],\n",
       "       [3., 2., 1., 0., 1., 4., 3., 2., 1., 2., 5., 4., 3., 2., 3., 6.,\n",
       "        5., 4., 3., 4., 7., 6., 5., 4., 5.],\n",
       "       [4., 3., 2., 1., 0., 5., 4., 3., 2., 1., 6., 5., 4., 3., 2., 7.,\n",
       "        6., 5., 4., 3., 8., 7., 6., 5., 4.],\n",
       "       [1., 2., 3., 4., 5., 0., 1., 2., 3., 4., 1., 2., 3., 4., 5., 2.,\n",
       "        3., 4., 5., 6., 3., 4., 5., 6., 7.],\n",
       "       [2., 1., 2., 3., 4., 1., 0., 1., 2., 3., 2., 1., 2., 3., 4., 3.,\n",
       "        2., 3., 4., 5., 4., 3., 4., 5., 6.],\n",
       "       [3., 2., 1., 2., 3., 2., 1., 0., 1., 2., 3., 2., 1., 2., 3., 4.,\n",
       "        3., 2., 3., 4., 5., 4., 3., 4., 5.],\n",
       "       [4., 3., 2., 1., 2., 3., 2., 1., 0., 1., 4., 3., 2., 1., 2., 5.,\n",
       "        4., 3., 2., 3., 6., 5., 4., 3., 4.],\n",
       "       [5., 4., 3., 2., 1., 4., 3., 2., 1., 0., 5., 4., 3., 2., 1., 6.,\n",
       "        5., 4., 3., 2., 7., 6., 5., 4., 3.],\n",
       "       [2., 3., 4., 5., 6., 1., 2., 3., 4., 5., 0., 1., 2., 3., 4., 1.,\n",
       "        2., 3., 4., 5., 2., 3., 4., 5., 6.],\n",
       "       [3., 2., 3., 4., 5., 2., 1., 2., 3., 4., 1., 0., 1., 2., 3., 2.,\n",
       "        1., 2., 3., 4., 3., 2., 3., 4., 5.],\n",
       "       [4., 3., 2., 3., 4., 3., 2., 1., 2., 3., 2., 1., 0., 1., 2., 3.,\n",
       "        2., 1., 2., 3., 4., 3., 2., 3., 4.],\n",
       "       [5., 4., 3., 2., 3., 4., 3., 2., 1., 2., 3., 2., 1., 0., 1., 4.,\n",
       "        3., 2., 1., 2., 5., 4., 3., 2., 3.],\n",
       "       [6., 5., 4., 3., 2., 5., 4., 3., 2., 1., 4., 3., 2., 1., 0., 5.,\n",
       "        4., 3., 2., 1., 6., 5., 4., 3., 2.],\n",
       "       [3., 4., 5., 6., 7., 2., 3., 4., 5., 6., 1., 2., 3., 4., 5., 0.,\n",
       "        1., 2., 3., 4., 1., 2., 3., 4., 5.],\n",
       "       [4., 3., 4., 5., 6., 3., 2., 3., 4., 5., 2., 1., 2., 3., 4., 1.,\n",
       "        0., 1., 2., 3., 2., 1., 2., 3., 4.],\n",
       "       [5., 4., 3., 4., 5., 4., 3., 2., 3., 4., 3., 2., 1., 2., 3., 2.,\n",
       "        1., 0., 1., 2., 3., 2., 1., 2., 3.],\n",
       "       [6., 5., 4., 3., 4., 5., 4., 3., 2., 3., 4., 3., 2., 1., 2., 3.,\n",
       "        2., 1., 0., 1., 4., 3., 2., 1., 2.],\n",
       "       [7., 6., 5., 4., 3., 6., 5., 4., 3., 2., 5., 4., 3., 2., 1., 4.,\n",
       "        3., 2., 1., 0., 5., 4., 3., 2., 1.],\n",
       "       [4., 5., 6., 7., 8., 3., 4., 5., 6., 7., 2., 3., 4., 5., 6., 1.,\n",
       "        2., 3., 4., 5., 0., 1., 2., 3., 4.],\n",
       "       [5., 4., 5., 6., 7., 4., 3., 4., 5., 6., 3., 2., 3., 4., 5., 2.,\n",
       "        1., 2., 3., 4., 1., 0., 1., 2., 3.],\n",
       "       [6., 5., 4., 5., 6., 5., 4., 3., 4., 5., 4., 3., 2., 3., 4., 3.,\n",
       "        2., 1., 2., 3., 2., 1., 0., 1., 2.],\n",
       "       [7., 6., 5., 4., 5., 6., 5., 4., 3., 4., 5., 4., 3., 2., 3., 4.,\n",
       "        3., 2., 1., 2., 3., 2., 1., 0., 1.],\n",
       "       [8., 7., 6., 5., 4., 7., 6., 5., 4., 3., 6., 5., 4., 3., 2., 5.,\n",
       "        4., 3., 2., 1., 4., 3., 2., 1., 0.]])"
      ]
     },
     "execution_count": 84,
     "metadata": {},
     "output_type": "execute_result"
    }
   ],
   "source": [
    "create_grid_distances_matrix(5, 5, distance=1)"
   ]
  },
  {
   "cell_type": "code",
   "execution_count": null,
   "metadata": {},
   "outputs": [],
   "source": [
    "def daily_variation_pattern(matrix, t, amplitude=0.1, period=24, phase_shift=0):\n",
    "    \"\"\"\n",
    "    Modulate the mobility matrix with a sinusoidal daily variation pattern.\n",
    "\n",
    "    Args:\n",
    "        matrix (np.array): The mobility matrix to modulate.\n",
    "        t (float): The current time in hours.\n",
    "        amplitude (float, optional): Amplitude of the sinusoidal variation. Defaults to 0.1.\n",
    "        period (float, optional): Period of the sinusoidal variation in hours. Defaults to 24.\n",
    "        phase_shift (float, optional): Phase shift of the sinusoidal variation in hours. Defaults to 0.\n",
    "\n",
    "    Returns:\n",
    "        np.array: The modulated mobility matrix.\n",
    "    \"\"\"\n",
    "    factor = 1 + amplitude * np.sin(2 * np.pi * (t - phase_shift) / period)\n",
    "    daytime_matrix = matrix * factor\n",
    "    nighttime_matrix = matrix.T * factor\n",
    "    return daytime_matrix if 0 <= t % period < period / 2 else nighttime_matrix\n",
    "\n",
    "def rush_hour_pattern(matrix, t, amplitude=0.2, rush_hour_start=7, rush_hour_end=9, period=24):\n",
    "    \"\"\"\n",
    "    Modulate the mobility matrix with a rush hour daily variation pattern.\n",
    "\n",
    "    Args:\n",
    "        matrix (np.array): The mobility matrix to modulate.\n",
    "        t (float): The current time in hours.\n",
    "        amplitude (float, optional): Amplitude of the rush hour variation. Defaults to 0.2.\n",
    "        rush_hour_start (float, optional): Start time of the morning rush hour in hours. Defaults to 7.\n",
    "        rush_hour_end (float, optional): End time of the morning rush hour in hours. Defaults to 9.\n",
    "        period (float, optional): Period of the daily variation in hours. Defaults to 24.\n",
    "\n",
    "    Returns:\n",
    "        np.array: The modulated mobility matrix.\n",
    "    \"\"\"\n",
    "    hour = t % period\n",
    "    if rush_hour_start <= hour < rush_hour_end:\n",
    "        factor = 1 + amplitude\n",
    "        return matrix * factor\n",
    "    elif (rush_hour_start + period / 2) <= hour < (rush_hour_end + period / 2):\n",
    "        return matrix.T * (1 + amplitude)\n",
    "    else:\n",
    "        return matrix\n"
   ]
  }
 ],
 "metadata": {
  "kernelspec": {
   "display_name": "Python 3.8.3 ('base')",
   "language": "python",
   "name": "python3"
  },
  "language_info": {
   "codemirror_mode": {
    "name": "ipython",
    "version": 3
   },
   "file_extension": ".py",
   "mimetype": "text/x-python",
   "name": "python",
   "nbconvert_exporter": "python",
   "pygments_lexer": "ipython3",
   "version": "3.8.3"
  },
  "orig_nbformat": 4,
  "vscode": {
   "interpreter": {
    "hash": "cb78786f4cfdfefa515c7b40f13968897104e8ab34623df7a0e4a977a8f1c3ce"
   }
  }
 },
 "nbformat": 4,
 "nbformat_minor": 2
}
