{
 "cells": [
  {
   "cell_type": "code",
   "execution_count": 2,
   "metadata": {},
   "outputs": [
    {
     "name": "stdout",
     "output_type": "stream",
     "text": [
      "Linux\n"
     ]
    }
   ],
   "source": [
    "import numpy as np\n",
    "import pandas as pd\n",
    "import matplotlib.pyplot as plt\n",
    "from datetime import datetime\n",
    "from numpy import linalg as LA\n",
    "import multiprocessing\n",
    "from joblib import Parallel, delayed\n",
    "from datetime import timedelta\n",
    "\n",
    "import platform\n",
    "OS = platform.system()\n",
    "\n",
    "import matplotlib.pyplot as plt\n",
    "if OS == 'Linux':    \n",
    "    %matplotlib tk\n",
    "    print('Linux')\n",
    "elif OS == 'Windows':\n",
    "    %matplotlib qt\n",
    "    print('Windows')\n",
    "else:\n",
    "    print('OS not detected :-|')\n",
    "\n",
    "import sys\n",
    "from pathlib import Path\n",
    "sys.path.insert(1, '../src/SEIRHVD/')\n",
    "sys.path.insert(1, '../src/utils/')\n",
    "sys.path.insert(1, 'src/SEIRHVD/')\n",
    "sys.path.insert(1, 'src/utils/')\n",
    "\n",
    "from Quarantine import Quarantine\n",
    "from Quarantine import SeroPrevDynamics\n",
    "from importdata import ImportData"
   ]
  },
  {
   "cell_type": "markdown",
   "metadata": {},
   "source": [
    "# Quarantines"
   ]
  },
  {
   "cell_type": "code",
   "execution_count": 3,
   "metadata": {},
   "outputs": [
    {
     "name": "stdout",
     "output_type": "stream",
     "text": [
      "En proceso\n"
     ]
    }
   ],
   "source": [
    "print('En proceso')"
   ]
  },
  {
   "cell_type": "markdown",
   "metadata": {},
   "source": [
    "# SeroPrevalence Dynamics\n",
    "The following functions allow to create "
   ]
  },
  {
   "cell_type": "code",
   "execution_count": 6,
   "metadata": {},
   "outputs": [],
   "source": [
    "def f(x,y):\n",
    "    return(x+y)\n",
    "def g(x,y):\n",
    "    return(2*x+3*y)"
   ]
  },
  {
   "cell_type": "code",
   "execution_count": null,
   "metadata": {},
   "outputs": [],
   "source": [
    "def sumafunct(functions):\n",
    "    def aux(t):\n",
    "        a = functions[0](t)\n",
    "        for i in \n",
    "        return a(t)+b(t)\n",
    "    return aux"
   ]
  },
  {
   "cell_type": "code",
   "execution_count": null,
   "metadata": {},
   "outputs": [],
   "source": [
    "def chisum(a,b):\n",
    "    def aux(t):\n",
    "        return a(t)+b(t)\n",
    "    return aux"
   ]
  }
 ],
 "metadata": {
  "kernelspec": {
   "display_name": "Python 3",
   "language": "python",
   "name": "python3"
  },
  "language_info": {
   "codemirror_mode": {
    "name": "ipython",
    "version": 3
   },
   "file_extension": ".py",
   "mimetype": "text/x-python",
   "name": "python",
   "nbconvert_exporter": "python",
   "pygments_lexer": "ipython3",
   "version": "3.8.3"
  }
 },
 "nbformat": 4,
 "nbformat_minor": 4
}
