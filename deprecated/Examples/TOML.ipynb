{
 "cells": [
  {
   "cell_type": "markdown",
   "metadata": {},
   "source": [
    "# pandasgui test"
   ]
  },
  {
   "cell_type": "code",
   "execution_count": 1,
   "metadata": {},
   "outputs": [
    {
     "name": "stdout",
     "output_type": "stream",
     "text": [
      "Linux\n"
     ]
    }
   ],
   "source": [
    "import numpy as np\n",
    "import pandas as pd\n",
    "import matplotlib.pyplot as plt\n",
    "import matplotlib.dates as mdates \n",
    "from datetime import datetime\n",
    "from numpy import linalg as LA\n",
    "import multiprocessing\n",
    "from joblib import Parallel, delayed\n",
    "from datetime import timedelta\n",
    "\n",
    "import platform\n",
    "OS = platform.system()\n",
    "\n",
    "import matplotlib.pyplot as plt\n",
    "if OS == 'Linux':    \n",
    "    #%matplotlib tk\n",
    "    print('Linux')\n",
    "elif OS == 'Windows':\n",
    "    %matplotlib qt\n",
    "    print('Windows')\n",
    "elif OS == 'Darwin':\n",
    "    %matplotlib tk\n",
    "    print('Mac (Funciona?)')\n",
    "else:\n",
    "    print('OS not detected :-|')\n",
    "\n",
    "import sys\n",
    "from pathlib import Path\n",
    "sys.path.insert(1, '../src/SEIRHVD/')\n",
    "sys.path.insert(1, '../src/utils/')\n",
    "sys.path.insert(1, 'src/SEIRHVD/')\n",
    "sys.path.insert(1, 'src/utils/')\n",
    "\n",
    "from class_SEIRHUVD5 import SEIRHVD \n",
    "from Quarantine import Quarantine\n",
    "from Quarantine import SeroPrevDynamics\n",
    "from importdata import ImportData\n",
    "\n",
    "\n",
    "from pandasgui import show"
   ]
  },
  {
   "cell_type": "markdown",
   "metadata": {},
   "source": [
    "# TOML\n",
    "Work in progress"
   ]
  },
  {
   "cell_type": "code",
   "execution_count": 53,
   "metadata": {},
   "outputs": [],
   "source": [
    ">>> import toml\n",
    ">>> toml_string = \"\"\"\n",
    "... # This is a TOML document.\n",
    "...\n",
    "... title = \"TOML Example\"\n",
    "...\n",
    "... [owner]\n",
    "... name = \"Tom Preston-Werner\"\n",
    "... dob = 1979-05-27T07:32:00-08:00 # First class dates\n",
    "...\n",
    "... [database]\n",
    "... server = \"192.168.1.1\"\n",
    "... ports = [ 8001, 8001, 8002 ]\n",
    "... connection_max = 5000\n",
    "... enabled = true\n",
    "...\n",
    "... [servers]\n",
    "...\n",
    "...   # Indentation (tabs and/or spaces) is allowed but not required\n",
    "...   [servers.alpha]\n",
    "...   ip = \"10.0.0.1\"\n",
    "...   dc = \"eqdc10\"\n",
    "...\n",
    "...   [servers.beta]\n",
    "...   ip = \"10.0.0.2\"\n",
    "...   dc = \"eqdc10\"\n",
    "...\n",
    "... [clients]\n",
    "... data = [ [\"gamma\", \"delta\"], [1, 2] ]\n",
    "...\n",
    "... # Line breaks are OK when inside arrays\n",
    "... hosts = [\n",
    "...   \"alpha\",\n",
    "...   \"omega\"\n",
    "... ]\n",
    "... \"\"\"\n",
    ">>> parsed_toml = toml.loads(toml_string)"
   ]
  },
  {
   "cell_type": "code",
   "execution_count": 89,
   "metadata": {},
   "outputs": [
    {
     "data": {
      "text/plain": [
       "{'title': 'TOML Example',\n",
       " 'owner': {'name': 'Tom Preston-Werner',\n",
       "  'dob': datetime.datetime(1979, 5, 27, 7, 32, tzinfo=<toml.tz.TomlTz object at 0x7f718f371b80>)},\n",
       " 'database': {'server': '192.168.1.1',\n",
       "  'ports': [8001, 8001, 8002],\n",
       "  'connection_max': 5000,\n",
       "  'enabled': True},\n",
       " 'servers': {'alpha': {'ip': '10.0.0.1', 'dc': 'eqdc10'},\n",
       "  'beta': {'ip': '10.0.0.2', 'dc': 'eqdc10'}},\n",
       " 'clients': {'data': [['gamma', 'delta'], [1, 2]],\n",
       "  'hosts': ['alpha', 'omega']}}"
      ]
     },
     "execution_count": 89,
     "metadata": {},
     "output_type": "execute_result"
    }
   ],
   "source": [
    "parsed_toml"
   ]
  },
  {
   "cell_type": "code",
   "execution_count": null,
   "metadata": {},
   "outputs": [],
   "source": []
  }
 ],
 "metadata": {
  "kernelspec": {
   "display_name": "Python 3",
   "language": "python",
   "name": "python3"
  },
  "language_info": {
   "codemirror_mode": {
    "name": "ipython",
    "version": 3
   },
   "file_extension": ".py",
   "mimetype": "text/x-python",
   "name": "python",
   "nbconvert_exporter": "python",
   "pygments_lexer": "ipython3",
   "version": "3.8.3"
  }
 },
 "nbformat": 4,
 "nbformat_minor": 4
}
