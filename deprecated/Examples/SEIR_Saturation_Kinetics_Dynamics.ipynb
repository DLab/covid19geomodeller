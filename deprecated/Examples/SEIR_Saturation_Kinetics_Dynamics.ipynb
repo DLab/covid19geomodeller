{
 "cells": [
  {
   "cell_type": "markdown",
   "metadata": {},
   "source": [
    "# SEIR: Saturation Kinetics Dynamics\n",
    "\n",
    "**Created by:** Samuel Ropert  \n",
    "**Creation date:** 04/08/2020  \n",
    "**Institution:** Computational Biology Lab - Fundación Ciencia y Vida, Chile  \n",
    "\n",
    "## SEIR\n",
    "This jupyter notebook explores the saturation kinetics dynamics.\n"
   ]
  },
  {
   "cell_type": "code",
   "execution_count": 1,
   "metadata": {},
   "outputs": [
    {
     "ename": "ModuleNotFoundError",
     "evalue": "No module named 'SEIRmodel'",
     "output_type": "error",
     "traceback": [
      "\u001b[0;31m---------------------------------------------------------------------------\u001b[0m",
      "\u001b[0;31mModuleNotFoundError\u001b[0m                       Traceback (most recent call last)",
      "\u001b[0;32m<ipython-input-1-2c09b6e18fab>\u001b[0m in \u001b[0;36m<module>\u001b[0;34m\u001b[0m\n\u001b[1;32m      3\u001b[0m \u001b[0msys\u001b[0m\u001b[0;34m.\u001b[0m\u001b[0mpath\u001b[0m\u001b[0;34m.\u001b[0m\u001b[0minsert\u001b[0m\u001b[0;34m(\u001b[0m\u001b[0;36m1\u001b[0m\u001b[0;34m,\u001b[0m \u001b[0;34m'../src/'\u001b[0m\u001b[0;34m)\u001b[0m\u001b[0;34m\u001b[0m\u001b[0;34m\u001b[0m\u001b[0m\n\u001b[1;32m      4\u001b[0m \u001b[0msys\u001b[0m\u001b[0;34m.\u001b[0m\u001b[0mpath\u001b[0m\u001b[0;34m.\u001b[0m\u001b[0minsert\u001b[0m\u001b[0;34m(\u001b[0m\u001b[0;36m1\u001b[0m\u001b[0;34m,\u001b[0m \u001b[0;34m'src/'\u001b[0m\u001b[0;34m)\u001b[0m\u001b[0;34m\u001b[0m\u001b[0;34m\u001b[0m\u001b[0m\n\u001b[0;32m----> 5\u001b[0;31m \u001b[0;32mfrom\u001b[0m \u001b[0mSEIRmodel\u001b[0m \u001b[0;32mimport\u001b[0m \u001b[0mSEIRmodel\u001b[0m\u001b[0;34m\u001b[0m\u001b[0;34m\u001b[0m\u001b[0m\n\u001b[0m\u001b[1;32m      6\u001b[0m \u001b[0;32mimport\u001b[0m \u001b[0mnumpy\u001b[0m \u001b[0;32mas\u001b[0m \u001b[0mnp\u001b[0m\u001b[0;34m\u001b[0m\u001b[0;34m\u001b[0m\u001b[0m\n\u001b[1;32m      7\u001b[0m \u001b[0;32mfrom\u001b[0m \u001b[0mdatetime\u001b[0m \u001b[0;32mimport\u001b[0m \u001b[0mdatetime\u001b[0m\u001b[0;34m\u001b[0m\u001b[0;34m\u001b[0m\u001b[0m\n",
      "\u001b[0;31mModuleNotFoundError\u001b[0m: No module named 'SEIRmodel'"
     ]
    }
   ],
   "source": [
    "import sys\n",
    "from pathlib import Path\n",
    "sys.path.insert(1, '../src/')\n",
    "sys.path.insert(1, 'src/')\n",
    "from SEIRmodel import SEIRmodel\n",
    "import numpy as np\n",
    "from datetime import datetime\n",
    "import matplotlib.pyplot as plt\n",
    "import matplotlib\n",
    "matplotlib.use(\"TkAgg\")\n",
    "%matplotlib tk\n",
    "from joblib import Parallel, delayed\n",
    "import multiprocessing"
   ]
  },
  {
   "cell_type": "markdown",
   "metadata": {},
   "source": [
    "## Epidemiological Parameters"
   ]
  },
  {
   "cell_type": "code",
   "execution_count": 2,
   "metadata": {},
   "outputs": [],
   "source": [
    "beta = 0.15 # Contagion rate\n",
    "mu = 0 # E0/I0 initial rate\n",
    "ScaleFactor = 1 # Scale Factor: Number of real infected over reported \n",
    "SeroPrevFactor = 1 # Sero Prevalence Factor: Adjust the proportion of the population that enters the virus dynamics\n",
    "expinfection = 1 # Exposed infection rate compared to the infected (0 the don't infect, 1 the infect in the same rate as the infected )"
   ]
  },
  {
   "cell_type": "markdown",
   "metadata": {},
   "source": [
    "## Simulation Parameters"
   ]
  },
  {
   "cell_type": "code",
   "execution_count": 3,
   "metadata": {},
   "outputs": [],
   "source": [
    "# Simulation time\n",
    "tsim = 1000\n",
    "# Population\n",
    "population = 1000000\n",
    "# Initial Active Infected \n",
    "I_act0 = 100"
   ]
  },
  {
   "cell_type": "code",
   "execution_count": 4,
   "metadata": {},
   "outputs": [],
   "source": [
    "# Mobility\n",
    "step = 0.05\n",
    "alpha = list(np.arange(0.5,0.9+step,step))\n",
    "\n",
    "# Saturation Kinetics Factor\n",
    "step = 2\n",
    "kmax = 10\n",
    "k = [0,5,10,15,20,25,30,35,40]#list(np.arange(0,kmax+step,step))"
   ]
  },
  {
   "cell_type": "code",
   "execution_count": 5,
   "metadata": {},
   "outputs": [],
   "source": [
    "# Quarantines\n",
    "qt = 0\n",
    "qp = 0\n",
    "iqt = 0\n",
    "fqt = tsim\n",
    "sims = [] "
   ]
  },
  {
   "cell_type": "code",
   "execution_count": 6,
   "metadata": {},
   "outputs": [],
   "source": [
    "# Parallel Simulation function definition\n",
    "num_cores = multiprocessing.cpu_count() \n",
    "def ParallelSimulation(alpha,k=0, qp = 0, qt = 0,iqt = 0,fqt = 500): \n",
    "    simulation = SEIRmodel(beta = beta,mu = mu,ScaleFactor=ScaleFactor,SeroPrevFactor=SeroPrevFactor,expinfection=expinfection,tsim = tsim,tstate='', k = k)\n",
    "    quarantines = [[tsim, 0.85, alpha, qp, iqt, fqt, qt]] \n",
    "    simulation.inputarray = np.array(quarantines) \n",
    "    simulation.addquarantine() \n",
    "    simulation.initialvalues(I_act0,population,R=0)\n",
    "    simulation.simulate()  \n",
    "    return simulation"
   ]
  },
  {
   "cell_type": "code",
   "execution_count": 7,
   "metadata": {},
   "outputs": [
    {
     "name": "stdout",
     "output_type": "stream",
     "text": [
      "[Parallel(n_jobs=8)]: Using backend LokyBackend with 8 concurrent workers.\n",
      "[Parallel(n_jobs=8)]: Done   1 tasks      | elapsed:    1.8s\n",
      "[Parallel(n_jobs=8)]: Done   2 out of   9 | elapsed:    1.9s remaining:    6.5s\n",
      "[Parallel(n_jobs=8)]: Done   3 out of   9 | elapsed:    1.9s remaining:    3.9s\n",
      "[Parallel(n_jobs=8)]: Done   4 out of   9 | elapsed:    2.0s remaining:    2.5s\n",
      "[Parallel(n_jobs=8)]: Done   5 out of   9 | elapsed:    2.3s remaining:    1.8s\n",
      "[Parallel(n_jobs=8)]: Done   6 out of   9 | elapsed:    2.3s remaining:    1.1s\n",
      "[Parallel(n_jobs=8)]: Done   7 out of   9 | elapsed:    2.4s remaining:    0.7s\n",
      "[Parallel(n_jobs=8)]: Done   9 out of   9 | elapsed:    2.4s remaining:    0.0s\n",
      "[Parallel(n_jobs=8)]: Done   9 out of   9 | elapsed:    2.4s finished\n",
      "[Parallel(n_jobs=8)]: Using backend LokyBackend with 8 concurrent workers.\n",
      "[Parallel(n_jobs=8)]: Done   1 tasks      | elapsed:    0.4s\n",
      "[Parallel(n_jobs=8)]: Done   2 out of   9 | elapsed:    0.4s remaining:    1.4s\n",
      "[Parallel(n_jobs=8)]: Done   3 out of   9 | elapsed:    0.5s remaining:    1.0s\n",
      "[Parallel(n_jobs=8)]: Done   4 out of   9 | elapsed:    0.6s remaining:    0.7s\n",
      "[Parallel(n_jobs=8)]: Done   5 out of   9 | elapsed:    0.6s remaining:    0.5s\n",
      "[Parallel(n_jobs=8)]: Done   6 out of   9 | elapsed:    0.6s remaining:    0.3s\n",
      "[Parallel(n_jobs=8)]: Done   7 out of   9 | elapsed:    0.7s remaining:    0.2s\n",
      "[Parallel(n_jobs=8)]: Done   9 out of   9 | elapsed:    0.8s remaining:    0.0s\n",
      "[Parallel(n_jobs=8)]: Done   9 out of   9 | elapsed:    0.8s finished\n",
      "[Parallel(n_jobs=8)]: Using backend LokyBackend with 8 concurrent workers.\n",
      "[Parallel(n_jobs=8)]: Done   1 tasks      | elapsed:    0.4s\n",
      "[Parallel(n_jobs=8)]: Done   2 out of   9 | elapsed:    0.5s remaining:    1.6s\n",
      "[Parallel(n_jobs=8)]: Done   3 out of   9 | elapsed:    0.5s remaining:    1.0s\n",
      "[Parallel(n_jobs=8)]: Done   4 out of   9 | elapsed:    0.5s remaining:    0.6s\n",
      "[Parallel(n_jobs=8)]: Done   5 out of   9 | elapsed:    0.5s remaining:    0.4s\n",
      "[Parallel(n_jobs=8)]: Done   6 out of   9 | elapsed:    0.5s remaining:    0.3s\n",
      "[Parallel(n_jobs=8)]: Done   7 out of   9 | elapsed:    0.6s remaining:    0.2s\n",
      "[Parallel(n_jobs=8)]: Done   9 out of   9 | elapsed:    0.8s remaining:    0.0s\n",
      "[Parallel(n_jobs=8)]: Done   9 out of   9 | elapsed:    0.8s finished\n",
      "[Parallel(n_jobs=8)]: Using backend LokyBackend with 8 concurrent workers.\n",
      "[Parallel(n_jobs=8)]: Done   1 tasks      | elapsed:    0.4s\n",
      "[Parallel(n_jobs=8)]: Done   2 out of   9 | elapsed:    0.4s remaining:    1.4s\n",
      "[Parallel(n_jobs=8)]: Done   3 out of   9 | elapsed:    0.4s remaining:    0.8s\n",
      "[Parallel(n_jobs=8)]: Done   4 out of   9 | elapsed:    0.5s remaining:    0.6s\n",
      "[Parallel(n_jobs=8)]: Done   5 out of   9 | elapsed:    0.5s remaining:    0.4s\n",
      "[Parallel(n_jobs=8)]: Done   6 out of   9 | elapsed:    0.5s remaining:    0.2s\n",
      "[Parallel(n_jobs=8)]: Done   7 out of   9 | elapsed:    0.5s remaining:    0.1s\n",
      "[Parallel(n_jobs=8)]: Done   9 out of   9 | elapsed:    0.7s remaining:    0.0s\n",
      "[Parallel(n_jobs=8)]: Done   9 out of   9 | elapsed:    0.7s finished\n",
      "[Parallel(n_jobs=8)]: Using backend LokyBackend with 8 concurrent workers.\n",
      "[Parallel(n_jobs=8)]: Done   1 tasks      | elapsed:    0.4s\n",
      "[Parallel(n_jobs=8)]: Done   2 out of   9 | elapsed:    0.4s remaining:    1.4s\n",
      "[Parallel(n_jobs=8)]: Done   3 out of   9 | elapsed:    0.4s remaining:    0.8s\n",
      "[Parallel(n_jobs=8)]: Done   4 out of   9 | elapsed:    0.4s remaining:    0.5s\n",
      "[Parallel(n_jobs=8)]: Done   5 out of   9 | elapsed:    0.4s remaining:    0.4s\n",
      "[Parallel(n_jobs=8)]: Done   6 out of   9 | elapsed:    0.5s remaining:    0.2s\n",
      "[Parallel(n_jobs=8)]: Done   7 out of   9 | elapsed:    0.6s remaining:    0.2s\n",
      "[Parallel(n_jobs=8)]: Done   9 out of   9 | elapsed:    0.7s remaining:    0.0s\n",
      "[Parallel(n_jobs=8)]: Done   9 out of   9 | elapsed:    0.7s finished\n",
      "[Parallel(n_jobs=8)]: Using backend LokyBackend with 8 concurrent workers.\n",
      "[Parallel(n_jobs=8)]: Done   1 tasks      | elapsed:    0.3s\n",
      "[Parallel(n_jobs=8)]: Done   2 out of   9 | elapsed:    0.4s remaining:    1.4s\n",
      "[Parallel(n_jobs=8)]: Done   3 out of   9 | elapsed:    0.4s remaining:    0.8s\n",
      "[Parallel(n_jobs=8)]: Done   4 out of   9 | elapsed:    0.4s remaining:    0.5s\n",
      "[Parallel(n_jobs=8)]: Done   5 out of   9 | elapsed:    0.4s remaining:    0.3s\n",
      "[Parallel(n_jobs=8)]: Done   6 out of   9 | elapsed:    0.4s remaining:    0.2s\n",
      "[Parallel(n_jobs=8)]: Done   7 out of   9 | elapsed:    0.5s remaining:    0.1s\n",
      "[Parallel(n_jobs=8)]: Done   9 out of   9 | elapsed:    0.6s remaining:    0.0s\n",
      "[Parallel(n_jobs=8)]: Done   9 out of   9 | elapsed:    0.6s finished\n",
      "[Parallel(n_jobs=8)]: Using backend LokyBackend with 8 concurrent workers.\n",
      "[Parallel(n_jobs=8)]: Done   1 tasks      | elapsed:    0.3s\n",
      "[Parallel(n_jobs=8)]: Done   2 out of   9 | elapsed:    0.4s remaining:    1.4s\n",
      "[Parallel(n_jobs=8)]: Done   3 out of   9 | elapsed:    0.4s remaining:    0.9s\n",
      "[Parallel(n_jobs=8)]: Done   4 out of   9 | elapsed:    0.4s remaining:    0.5s\n",
      "[Parallel(n_jobs=8)]: Done   5 out of   9 | elapsed:    0.5s remaining:    0.4s\n",
      "[Parallel(n_jobs=8)]: Done   6 out of   9 | elapsed:    0.5s remaining:    0.2s\n",
      "[Parallel(n_jobs=8)]: Done   7 out of   9 | elapsed:    0.5s remaining:    0.1s\n",
      "[Parallel(n_jobs=8)]: Done   9 out of   9 | elapsed:    0.6s remaining:    0.0s\n",
      "[Parallel(n_jobs=8)]: Done   9 out of   9 | elapsed:    0.6s finished\n",
      "[Parallel(n_jobs=8)]: Using backend LokyBackend with 8 concurrent workers.\n",
      "[Parallel(n_jobs=8)]: Done   1 tasks      | elapsed:    0.3s\n",
      "[Parallel(n_jobs=8)]: Done   2 out of   9 | elapsed:    0.4s remaining:    1.3s\n",
      "[Parallel(n_jobs=8)]: Done   3 out of   9 | elapsed:    0.4s remaining:    0.8s\n",
      "[Parallel(n_jobs=8)]: Done   4 out of   9 | elapsed:    0.4s remaining:    0.5s\n",
      "[Parallel(n_jobs=8)]: Done   5 out of   9 | elapsed:    0.4s remaining:    0.3s\n",
      "[Parallel(n_jobs=8)]: Done   6 out of   9 | elapsed:    0.4s remaining:    0.2s\n",
      "[Parallel(n_jobs=8)]: Done   7 out of   9 | elapsed:    0.5s remaining:    0.1s\n",
      "[Parallel(n_jobs=8)]: Done   9 out of   9 | elapsed:    0.6s remaining:    0.0s\n",
      "[Parallel(n_jobs=8)]: Done   9 out of   9 | elapsed:    0.6s finished\n",
      "[Parallel(n_jobs=8)]: Using backend LokyBackend with 8 concurrent workers.\n",
      "[Parallel(n_jobs=8)]: Done   1 tasks      | elapsed:    0.4s\n",
      "[Parallel(n_jobs=8)]: Done   2 out of   9 | elapsed:    0.4s remaining:    1.3s\n",
      "[Parallel(n_jobs=8)]: Done   3 out of   9 | elapsed:    0.4s remaining:    0.8s\n",
      "[Parallel(n_jobs=8)]: Done   4 out of   9 | elapsed:    0.4s remaining:    0.5s\n",
      "[Parallel(n_jobs=8)]: Done   5 out of   9 | elapsed:    0.4s remaining:    0.3s\n",
      "[Parallel(n_jobs=8)]: Done   6 out of   9 | elapsed:    0.4s remaining:    0.2s\n",
      "[Parallel(n_jobs=8)]: Done   7 out of   9 | elapsed:    0.5s remaining:    0.1s\n",
      "[Parallel(n_jobs=8)]: Done   9 out of   9 | elapsed:    0.6s remaining:    0.0s\n",
      "[Parallel(n_jobs=8)]: Done   9 out of   9 | elapsed:    0.6s finished\n"
     ]
    }
   ],
   "source": [
    "# Run  Parallel Simulation s\n",
    "sims = [] \n",
    "for i in k: \n",
    "    aux = Parallel(n_jobs=num_cores, verbose=50)(delayed(ParallelSimulation)(alpha=j,k=i,qp = qp, qt = qt, iqt = iqt, fqt =fqt) for j in alpha)\n",
    "    sims.append(aux)\n",
    "\n"
   ]
  },
  {
   "cell_type": "markdown",
   "metadata": {},
   "source": [
    "# Analysis\n",
    "The following contour plot shows how increasing the saturation kinetics factor, reduces the peak size"
   ]
  },
  {
   "cell_type": "code",
   "execution_count": 8,
   "metadata": {},
   "outputs": [],
   "source": [
    "peak = []\n",
    "for i in range(len(k)):\n",
    "    aux = []\n",
    "    for j in range(len(alpha)):\n",
    "        aux.append(sims[i][j].peak[0]/sims[0][j].peak[0])\n",
    "    peak.append(aux)\n",
    "        "
   ]
  },
  {
   "cell_type": "code",
   "execution_count": 9,
   "metadata": {},
   "outputs": [],
   "source": [
    "# Contour Plot\n",
    "fig,ax=plt.subplots(1,1)\n",
    "cp = ax.contourf(alpha,k,peak) \n",
    "fig.colorbar(cp) # Add a colorbar to a plot\n",
    "ax.set_title('Peak Size Proportion')\n",
    "ax.set_xlabel('Mobility')\n",
    "ax.set_ylabel('Saturation Dynamics Factor')\n",
    "plt.show() "
   ]
  },
  {
   "cell_type": "markdown",
   "metadata": {},
   "source": [
    "## Grid Plot\n",
    "The following grid plot shows the simulations one by one"
   ]
  },
  {
   "cell_type": "code",
   "execution_count": null,
   "metadata": {},
   "outputs": [],
   "source": [
    "# Grid plot\n",
    "fig, axs = plt.subplots(len(k), len(alpha))\n",
    "for i in range(len(k)):\n",
    "    for j in range(len(alpha)):\n",
    "        axs[i, j].plot(sims[i][j].t[0],sims[i][j].I[0],label=\"Infected\")  \n",
    "        axs[i, j].set_title(\"K: \"+str(k[i])+\" | Alpha: \"+str(alpha[j]))\n",
    "fig.suptitle('Axes values are scaled individually by default')\n",
    "#fig.tight_layout()\n",
    "lines, labels = fig.axes[-1].get_legend_handles_labels()\n",
    "    \n",
    "#fig.legend(lines, labels, loc = 'upper center')\n",
    "fig.legend(lines, labels,loc = 'best')\n",
    "fig.show()\n"
   ]
  },
  {
   "cell_type": "code",
   "execution_count": null,
   "metadata": {},
   "outputs": [],
   "source": []
  }
 ],
 "metadata": {
  "kernelspec": {
   "display_name": "Python 3.8.2 64-bit",
   "language": "python",
   "name": "python38264bit48ae65e862f64697a29185f9fa581b02"
  },
  "language_info": {
   "codemirror_mode": {
    "name": "ipython",
    "version": 3
   },
   "file_extension": ".py",
   "mimetype": "text/x-python",
   "name": "python",
   "nbconvert_exporter": "python",
   "pygments_lexer": "ipython3",
   "version": "3.8.2"
  }
 },
 "nbformat": 4,
 "nbformat_minor": 4
}
