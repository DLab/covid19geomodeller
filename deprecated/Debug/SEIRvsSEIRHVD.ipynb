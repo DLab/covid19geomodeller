{
 "cells": [
  {
   "cell_type": "markdown",
   "metadata": {},
   "source": [
    "# Comparación dinámicas SEIR  vs SEIRHVD\n",
    "\n",
    "**Created by:** Samuel Ropert  \n",
    "**Creation date:** 30/04/2020  \n",
    "**Institution:** Computational Biology Lab - Fundación Ciencia y Vida, Chile  \n",
    "\n",
    "El modelo SEIRHVD presenta comportamientos extraños para un modelo compartimental de este tipo. El objetivo de este notebook es compararlo con un modelo SEIR con los mismos parámetros, y de encontrar incosistencias será la herramienta para identificar el problema.\n"
   ]
  },
  {
   "cell_type": "markdown",
   "metadata": {},
   "source": [
    "## Resumen:\n",
    "SEIRHVD tenía un bug en la implementación de las ecuaciones diferenciales. Habían variables cambiadas, en vez de los infectados críticos y severos estaban ingresados los expuestos diarios y acumulados."
   ]
  },
  {
   "cell_type": "markdown",
   "metadata": {},
   "source": [
    "## Import Libraries"
   ]
  },
  {
   "cell_type": "code",
   "execution_count": 1,
   "metadata": {},
   "outputs": [
    {
     "name": "stdout",
     "output_type": "stream",
     "text": [
      "Linux\n"
     ]
    }
   ],
   "source": [
    "import sys\n",
    "from pathlib import Path\n",
    "sys.path.insert(1, '../src/SEIR/')\n",
    "sys.path.insert(1, '../src/SEIRHVD/')\n",
    "sys.path.insert(1, '../src/utils/')\n",
    "\n",
    "from datetime import datetime\n",
    "import numpy as np\n",
    "from numpy import linalg as LA\n",
    "import pandas as pd\n",
    "from time import time\n",
    "\n",
    "import platform\n",
    "OS = platform.system()\n",
    "\n",
    "import matplotlib.pyplot as plt\n",
    "if OS == 'Linux':    \n",
    "    %matplotlib tk\n",
    "    print('Linux')\n",
    "elif OS == 'Windows':\n",
    "    %matplotlib qt\n",
    "    print('Windows')\n",
    "else:\n",
    "    print('OS not detected :-|')\n",
    "\n",
    "\n",
    "from class_SEIR2 import SEIR\n",
    "from class_SEIRHUVD6 import SEIRHVD \n",
    "from Quarantine import Quarantine"
   ]
  },
  {
   "cell_type": "markdown",
   "metadata": {},
   "source": [
    "## Epidemiological Parameters\n",
    "* **beta:** Infection rate\n",
    "* **mu:** Initial exposed obtained from the initial infected mu=E0/I0\n",
    "* **Scale Factor:** Proportion of real infected compared to reported ones (1: all the infecteds are reported)\n",
    "* **Sero Prevalence Factor:** Adjust the proportion of the population that enters the virus dynamics\n",
    "* **Exposed Infection:** rate compared to the infected (0 the don't infect, 1 the infect in the same rate as the infected )"
   ]
  },
  {
   "cell_type": "markdown",
   "metadata": {},
   "source": [
    "## Simulation Parameters"
   ]
  },
  {
   "cell_type": "code",
   "execution_count": 2,
   "metadata": {},
   "outputs": [],
   "source": [
    "beta = 0.2 # Contagion rate\n",
    "mu = 1.5 # E0/I0 initial rate\n",
    "SeroPrevalence = 1\n",
    "expinfection = 0\n",
    "\n",
    "# Simulation time\n",
    "tsim = 500\n",
    "# Population\n",
    "population = 1000000\n",
    "# Initial Active Infected \n",
    "I0 = 100\n",
    "I_ac0 = 100\n",
    "I_d0 = 0\n",
    "# Kinetic Saturation: 0 for mass action mixing\n",
    "k=0"
   ]
  },
  {
   "cell_type": "markdown",
   "metadata": {},
   "source": [
    "### Quarantines"
   ]
  },
  {
   "cell_type": "code",
   "execution_count": 3,
   "metadata": {},
   "outputs": [],
   "source": [
    "def alpha(t):\n",
    "    return 1"
   ]
  },
  {
   "cell_type": "markdown",
   "metadata": {},
   "source": [
    "# SEIRHVD params"
   ]
  },
  {
   "cell_type": "code",
   "execution_count": 4,
   "metadata": {},
   "outputs": [],
   "source": [
    "#state parameters: \n",
    "pE_Ias = 1 # Transition from exposed to Asymptomatic Infected\n",
    "tE_Ias = 3.0\n",
    "tIas_R = 12.0"
   ]
  },
  {
   "cell_type": "markdown",
   "metadata": {},
   "source": [
    "## Create simulation Object"
   ]
  },
  {
   "cell_type": "code",
   "execution_count": 5,
   "metadata": {},
   "outputs": [],
   "source": [
    "simseir = SEIR(tsim=tsim,alpha=alpha,beta=beta,mu=mu,sigma=1/tE_Ias,gamma=1/tIas_R,I0=I0,I_ac0=I_ac0,I_d0=I_d0,population=population,expinfection=0)"
   ]
  },
  {
   "cell_type": "code",
   "execution_count": 6,
   "metadata": {},
   "outputs": [
    {
     "name": "stdout",
     "output_type": "stream",
     "text": [
      "Compartimental model State parameters changed\n"
     ]
    }
   ],
   "source": [
    "simseirhvd = SEIRHVD(tsim,beta,mu=mu,alpha=alpha,I0=I0,I_ac0=I_ac0,I_d0=I_d0,population=population)\n",
    "simseirhvd.tE_Ias = tE_Ias\n",
    "simseirhvd.tIas_R = tIas_R\n",
    "\n",
    "# Set infected transition probability \n",
    "simseirhvd.pE_Ias = 1 # Transition from exposed to Asymptomatic Infected\n",
    "simseirhvd.pE_Imi = 0 # Transition from exposed to  Mild Infected\n",
    "simseirhvd.pE_Icr = 0 # Transition from exposed to  Critical Infected\n",
    "simseirhvd.pE_Ise = 0 # Transition from exposed to  Serious Infected\n",
    "simseirhvd.setnewparams()"
   ]
  },
  {
   "cell_type": "markdown",
   "metadata": {},
   "source": [
    "## Simulate\n",
    "The different scenarios are simulated in parallel threads "
   ]
  },
  {
   "cell_type": "code",
   "execution_count": 7,
   "metadata": {},
   "outputs": [
    {
     "data": {
      "text/plain": [
       "  message: 'The solver successfully reached the end of the integration interval.'\n",
       "     nfev: 334\n",
       "     njev: 9\n",
       "      nlu: 9\n",
       "      sol: None\n",
       "   status: 0\n",
       "  success: True\n",
       "        t: array([0.00000000e+00, 6.32455532e-07, 1.26491106e-06, 4.05010253e-03,\n",
       "       8.09894016e-03, 1.21477778e-02, 5.26361540e-02, 9.31245302e-02,\n",
       "       1.33612906e-01, 1.74101283e-01, 4.06157719e-01, 6.38214156e-01,\n",
       "       8.70270592e-01, 1.10232703e+00, 1.33438346e+00, 1.77086250e+00,\n",
       "       2.20734153e+00, 2.64382056e+00, 3.08029959e+00, 3.51677862e+00,\n",
       "       4.04870727e+00, 4.58063593e+00, 5.11256458e+00, 5.64449324e+00,\n",
       "       6.04970075e+00, 6.45490827e+00, 6.86011578e+00, 7.73367531e+00,\n",
       "       8.60723485e+00, 9.48079438e+00, 1.04927290e+01, 1.15046636e+01,\n",
       "       1.25165983e+01, 1.32210507e+01, 1.39255032e+01, 1.46299557e+01,\n",
       "       1.78474554e+01, 1.86518303e+01, 1.94562053e+01, 2.02605802e+01,\n",
       "       2.10649551e+01, 2.17075663e+01, 2.23501775e+01, 2.29927887e+01,\n",
       "       2.53382333e+01, 2.76836780e+01, 3.00291226e+01, 3.06154838e+01,\n",
       "       3.12018449e+01, 3.17882061e+01, 3.23745672e+01, 3.29523740e+01,\n",
       "       3.48083612e+01, 3.66643483e+01, 3.85203354e+01, 4.06085179e+01,\n",
       "       4.26967005e+01, 4.47848830e+01, 4.68730655e+01, 4.99722095e+01,\n",
       "       5.30713535e+01, 5.61704975e+01, 5.92696415e+01, 6.29962333e+01,\n",
       "       6.67228250e+01, 7.04494167e+01, 7.41760084e+01, 7.79026001e+01,\n",
       "       8.16291918e+01, 8.53557835e+01, 8.90823752e+01, 9.33005151e+01,\n",
       "       9.75186549e+01, 1.00997435e+02, 1.04476214e+02, 1.07954994e+02,\n",
       "       1.11433774e+02, 1.14912553e+02, 1.18391333e+02, 1.21870112e+02,\n",
       "       1.25348892e+02, 1.28827672e+02, 1.32306451e+02, 1.35785231e+02,\n",
       "       1.39264011e+02, 1.42742790e+02, 1.46221570e+02, 1.49700350e+02,\n",
       "       1.53179129e+02, 1.56657909e+02, 1.60792743e+02, 1.64927578e+02,\n",
       "       1.69062412e+02, 1.73197246e+02, 1.77332081e+02, 1.81466915e+02,\n",
       "       1.84667025e+02, 1.87867135e+02, 1.91067244e+02, 1.94267354e+02,\n",
       "       1.97467464e+02, 2.01555134e+02, 2.05642803e+02, 2.09730472e+02,\n",
       "       2.13818142e+02, 2.17905811e+02, 2.21993481e+02, 2.26081150e+02,\n",
       "       2.30168820e+02, 2.34256489e+02, 2.38344159e+02, 2.42431828e+02,\n",
       "       2.46158019e+02, 2.49884209e+02, 2.53610400e+02, 2.57336590e+02,\n",
       "       2.61062781e+02, 2.64788971e+02, 2.68515162e+02, 2.72241352e+02,\n",
       "       2.75967542e+02, 2.79693733e+02, 2.83419923e+02, 2.86354166e+02,\n",
       "       2.89288410e+02, 2.92222653e+02, 2.95156896e+02, 2.98091139e+02,\n",
       "       3.01494856e+02, 3.04898574e+02, 3.08302291e+02, 3.11706009e+02,\n",
       "       3.15690350e+02, 3.19674691e+02, 3.23659033e+02, 3.27643374e+02,\n",
       "       3.31627715e+02, 3.36322019e+02, 3.41016322e+02, 3.45710626e+02,\n",
       "       3.50404930e+02, 3.55099233e+02, 3.59793537e+02, 3.64487841e+02,\n",
       "       3.69182145e+02, 3.73876448e+02, 3.78570752e+02, 3.83265056e+02,\n",
       "       3.87959359e+02, 3.92653663e+02, 3.97347967e+02, 4.02042270e+02,\n",
       "       4.06736574e+02, 4.11430878e+02, 4.16125182e+02, 4.20819485e+02,\n",
       "       4.25513789e+02, 4.30208093e+02, 4.34902396e+02, 4.39596700e+02,\n",
       "       4.44797741e+02, 4.49998781e+02, 4.55199822e+02, 4.60400863e+02,\n",
       "       4.65601903e+02, 4.70802944e+02, 4.76746219e+02, 4.82689493e+02,\n",
       "       4.88632768e+02, 4.94576043e+02, 5.00000000e+02])\n",
       " t_events: None\n",
       "        y: array([[9.99750000e+05, 9.99750000e+05, 9.99750000e+05, ...,\n",
       "        1.21222451e+05, 1.21222451e+05, 1.21222451e+05],\n",
       "       [1.50000000e+02, 1.49999981e+02, 1.49999962e+02, ...,\n",
       "        5.04898608e-05, 3.65501014e-05, 2.72090523e-05],\n",
       "       [1.00000000e+02, 1.00000026e+02, 1.00000053e+02, ...,\n",
       "        5.80961399e-04, 4.20563607e-04, 3.13080872e-04],\n",
       "       ...,\n",
       "       [0.00000000e+00, 3.16227526e-05, 6.32454812e-05, ...,\n",
       "        1.77969595e-05, 1.28839489e-05, 9.59077791e-06],\n",
       "       [0.00000000e+00, 0.00000000e+00, 0.00000000e+00, ...,\n",
       "        0.00000000e+00, 0.00000000e+00, 0.00000000e+00],\n",
       "       [0.00000000e+00, 0.00000000e+00, 0.00000000e+00, ...,\n",
       "        0.00000000e+00, 0.00000000e+00, 0.00000000e+00]])\n",
       " y_events: None"
      ]
     },
     "execution_count": 7,
     "metadata": {},
     "output_type": "execute_result"
    }
   ],
   "source": [
    "simseir.integr_sci(0,tsim,0.01)"
   ]
  },
  {
   "cell_type": "code",
   "execution_count": 8,
   "metadata": {},
   "outputs": [
    {
     "data": {
      "text/plain": [
       "  message: 'The solver successfully reached the end of the integration interval.'\n",
       "     nfev: 1018\n",
       "     njev: 19\n",
       "      nlu: 19\n",
       "      sol: None\n",
       "   status: 0\n",
       "  success: True\n",
       "        t: array([  0,   1,   2,   3,   4,   5,   6,   7,   8,   9,  10,  11,  12,\n",
       "        13,  14,  15,  16,  17,  18,  19,  20,  21,  22,  23,  24,  25,\n",
       "        26,  27,  28,  29,  30,  31,  32,  33,  34,  35,  36,  37,  38,\n",
       "        39,  40,  41,  42,  43,  44,  45,  46,  47,  48,  49,  50,  51,\n",
       "        52,  53,  54,  55,  56,  57,  58,  59,  60,  61,  62,  63,  64,\n",
       "        65,  66,  67,  68,  69,  70,  71,  72,  73,  74,  75,  76,  77,\n",
       "        78,  79,  80,  81,  82,  83,  84,  85,  86,  87,  88,  89,  90,\n",
       "        91,  92,  93,  94,  95,  96,  97,  98,  99, 100, 101, 102, 103,\n",
       "       104, 105, 106, 107, 108, 109, 110, 111, 112, 113, 114, 115, 116,\n",
       "       117, 118, 119, 120, 121, 122, 123, 124, 125, 126, 127, 128, 129,\n",
       "       130, 131, 132, 133, 134, 135, 136, 137, 138, 139, 140, 141, 142,\n",
       "       143, 144, 145, 146, 147, 148, 149, 150, 151, 152, 153, 154, 155,\n",
       "       156, 157, 158, 159, 160, 161, 162, 163, 164, 165, 166, 167, 168,\n",
       "       169, 170, 171, 172, 173, 174, 175, 176, 177, 178, 179, 180, 181,\n",
       "       182, 183, 184, 185, 186, 187, 188, 189, 190, 191, 192, 193, 194,\n",
       "       195, 196, 197, 198, 199, 200, 201, 202, 203, 204, 205, 206, 207,\n",
       "       208, 209, 210, 211, 212, 213, 214, 215, 216, 217, 218, 219, 220,\n",
       "       221, 222, 223, 224, 225, 226, 227, 228, 229, 230, 231, 232, 233,\n",
       "       234, 235, 236, 237, 238, 239, 240, 241, 242, 243, 244, 245, 246,\n",
       "       247, 248, 249, 250, 251, 252, 253, 254, 255, 256, 257, 258, 259,\n",
       "       260, 261, 262, 263, 264, 265, 266, 267, 268, 269, 270, 271, 272,\n",
       "       273, 274, 275, 276, 277, 278, 279, 280, 281, 282, 283, 284, 285,\n",
       "       286, 287, 288, 289, 290, 291, 292, 293, 294, 295, 296, 297, 298,\n",
       "       299, 300, 301, 302, 303, 304, 305, 306, 307, 308, 309, 310, 311,\n",
       "       312, 313, 314, 315, 316, 317, 318, 319, 320, 321, 322, 323, 324,\n",
       "       325, 326, 327, 328, 329, 330, 331, 332, 333, 334, 335, 336, 337,\n",
       "       338, 339, 340, 341, 342, 343, 344, 345, 346, 347, 348, 349, 350,\n",
       "       351, 352, 353, 354, 355, 356, 357, 358, 359, 360, 361, 362, 363,\n",
       "       364, 365, 366, 367, 368, 369, 370, 371, 372, 373, 374, 375, 376,\n",
       "       377, 378, 379, 380, 381, 382, 383, 384, 385, 386, 387, 388, 389,\n",
       "       390, 391, 392, 393, 394, 395, 396, 397, 398, 399, 400, 401, 402,\n",
       "       403, 404, 405, 406, 407, 408, 409, 410, 411, 412, 413, 414, 415,\n",
       "       416, 417, 418, 419, 420, 421, 422, 423, 424, 425, 426, 427, 428,\n",
       "       429, 430, 431, 432, 433, 434, 435, 436, 437, 438, 439, 440, 441,\n",
       "       442, 443, 444, 445, 446, 447, 448, 449, 450, 451, 452, 453, 454,\n",
       "       455, 456, 457, 458, 459, 460, 461, 462, 463, 464, 465, 466, 467,\n",
       "       468, 469, 470, 471, 472, 473, 474, 475, 476, 477, 478, 479, 480,\n",
       "       481, 482, 483, 484, 485, 486, 487, 488, 489, 490, 491, 492, 493,\n",
       "       494, 495, 496, 497, 498, 499])\n",
       " t_events: None\n",
       "        y: array([[9.99750000e+05, 9.99726234e+05, 9.99696138e+05, ...,\n",
       "        1.21460596e+05, 1.21460596e+05, 1.21460596e+05],\n",
       "       [1.50000000e+02, 1.27859495e+02, 1.17340227e+02, ...,\n",
       "        3.25797687e-05, 3.08561978e-05, 2.92243802e-05],\n",
       "       [0.00000000e+00, 1.53934503e+01, 2.49767455e+01, ...,\n",
       "        9.59033564e-06, 9.14303275e-06, 8.69335664e-06],\n",
       "       ...,\n",
       "       [0.00000000e+00, 0.00000000e+00, 0.00000000e+00, ...,\n",
       "        0.00000000e+00, 0.00000000e+00, 0.00000000e+00],\n",
       "       [0.00000000e+00, 0.00000000e+00, 0.00000000e+00, ...,\n",
       "        0.00000000e+00, 0.00000000e+00, 0.00000000e+00],\n",
       "       [0.00000000e+00, 0.00000000e+00, 0.00000000e+00, ...,\n",
       "        0.00000000e+00, 0.00000000e+00, 0.00000000e+00]])\n",
       " y_events: None"
      ]
     },
     "execution_count": 8,
     "metadata": {},
     "output_type": "execute_result"
    }
   ],
   "source": [
    "simseirhvd.integr_sci(0,tsim,0.01)"
   ]
  },
  {
   "cell_type": "markdown",
   "metadata": {},
   "source": [
    "# Simulation Analysis"
   ]
  },
  {
   "cell_type": "markdown",
   "metadata": {},
   "source": [
    "## Plots\n",
    "This libraries have predefined plot functions which plot the main epidemiological variables.\n",
    "Each function has the following optional arguments:\n",
    "* days [int] Number of days to display\n",
    "* showparams [bool] Display simulation parameters \n",
    "* ylim [int] Limit the vertical axis\n",
    "* norm [int/float] Normalize the results\n"
   ]
  },
  {
   "cell_type": "markdown",
   "metadata": {},
   "source": [
    "### SEIR Plot with Active infected"
   ]
  },
  {
   "cell_type": "code",
   "execution_count": 9,
   "metadata": {},
   "outputs": [],
   "source": [
    "plt.plot(simseir.t,simseir.S,label='S SEIR',color = 'blue',linestyle='dashed')\n",
    "plt.plot(simseir.t,simseir.E,label='E SEIR',color = 'cyan',linestyle='dashed')\n",
    "plt.plot(simseir.t,simseir.I,label='I SEIR',color = 'red',linestyle='dashed')\n",
    "plt.plot(simseir.t,simseir.R,label='R SEIR',color = 'green',linestyle='dashed')\n",
    "\n",
    "plt.plot(simseirhvd.t,simseirhvd.S,label='S SEIRHVD',color = 'blue')\n",
    "plt.plot(simseirhvd.t,simseirhvd.E,label='E SEIRHVD',color = 'cyan')\n",
    "plt.plot(simseirhvd.t,simseirhvd.I,label='I SEIRHVD',color = 'red')\n",
    "plt.plot(simseirhvd.t,simseirhvd.R,label='R SEIRHVD',color = 'green')\n",
    "plt.title('Epidemiological Plot')\n",
    "plt.legend(loc=0)\n",
    "plt.show()"
   ]
  },
  {
   "cell_type": "markdown",
   "metadata": {},
   "source": [
    "# wtf SEIRHVD"
   ]
  },
  {
   "cell_type": "markdown",
   "metadata": {},
   "source": [
    "## IC"
   ]
  },
  {
   "cell_type": "code",
   "execution_count": null,
   "metadata": {},
   "outputs": [],
   "source": [
    "print(simseirhvd.S[0])\n",
    "print(simseirhvd.E[0])\n",
    "print(simseirhvd.I[0])\n",
    "print(simseirhvd.R[0])\n",
    "print(simseirhvd.H[0])\n",
    "print(simseirhvd.V[0])\n",
    "print(simseirhvd.D[0])\n",
    "print(simseirhvd.B[0])"
   ]
  },
  {
   "cell_type": "code",
   "execution_count": null,
   "metadata": {},
   "outputs": [],
   "source": [
    "simseirhvd.S[0]+simseirhvd.E[0]+simseirhvd.I[0]"
   ]
  },
  {
   "cell_type": "code",
   "execution_count": null,
   "metadata": {},
   "outputs": [],
   "source": [
    "plt.plot(simseirhvd.S+simseirhvd.E+simseirhvd.Ias+simseirhvd.R)\n",
    "plt.show()"
   ]
  },
  {
   "cell_type": "code",
   "execution_count": null,
   "metadata": {},
   "outputs": [],
   "source": [
    "type(simseirhvd.alpha)"
   ]
  },
  {
   "cell_type": "code",
   "execution_count": null,
   "metadata": {},
   "outputs": [],
   "source": [
    "plt.plot(range(100),simseirhvd.alpha(range(100)))"
   ]
  },
  {
   "cell_type": "code",
   "execution_count": null,
   "metadata": {},
   "outputs": [],
   "source": [
    "print(simseirhvd.N)\n",
    "print(simseir.N)"
   ]
  },
  {
   "cell_type": "code",
   "execution_count": null,
   "metadata": {},
   "outputs": [],
   "source": []
  },
  {
   "cell_type": "code",
   "execution_count": null,
   "metadata": {},
   "outputs": [],
   "source": [
    "simseirhvd.mu"
   ]
  },
  {
   "cell_type": "code",
   "execution_count": null,
   "metadata": {},
   "outputs": [],
   "source": [
    "plt.plot(simseirhvd.t,simseirhvd.S,label='S SEIRHVD',color = 'blue')\n",
    "plt.plot(simseirhvd.t,simseirhvd.E,label='E SEIRHVD',color = 'cyan')\n",
    "plt.plot(simseirhvd.t,simseirhvd.Ias,label='Ias SEIRHVD',color = 'red')\n",
    "plt.plot(simseirhvd.t,simseirhvd.Imi,label='Imi SEIRHVD')\n",
    "plt.plot(simseirhvd.t,simseirhvd.Ise,label='Ise SEIRHVD')\n",
    "plt.plot(simseirhvd.t,simseirhvd.Icr,label='Icr SEIRHVD')\n",
    "\n",
    "plt.plot(simseirhvd.t,simseirhvd.R,label='R SEIRHVD',color = 'green')\n",
    "plt.plot(simseirhvd.t,simseirhvd.H,label='H SEIRHVD',color = 'orange')\n",
    "plt.plot(simseirhvd.t,simseirhvd.V,label='V SEIRHVD',color = 'orange')\n",
    "plt.plot(simseirhvd.t,simseirhvd.B,label='B SEIRHVD',color = 'orange')\n",
    "plt.plot(simseirhvd.t,simseirhvd.D,label='D SEIRHVD',color = 'orange')\n",
    "plt.title('Epidemiological Plot')\n",
    "plt.legend(loc=0)\n",
    "plt.show()"
   ]
  },
  {
   "cell_type": "code",
   "execution_count": null,
   "metadata": {},
   "outputs": [],
   "source": [
    "plt.plot(simseirhvd.t,simseirhvd.I,label='I SEIRHVD')\n",
    "plt.plot(simseirhvd.t,simseirhvd.Ias,label='Ias SEIRHVD')\n",
    "plt.plot(simseirhvd.t,simseirhvd.Imi,label='Imi SEIRHVD')\n",
    "plt.plot(simseirhvd.t,simseirhvd.Ise,label='Ise SEIRHVD')\n",
    "plt.plot(simseirhvd.t,simseirhvd.Icr,label='Icr SEIRHVD')\n",
    "plt.title('Infected Plot')\n",
    "plt.legend(loc=0)\n",
    "plt.show()"
   ]
  },
  {
   "cell_type": "markdown",
   "metadata": {},
   "source": [
    "Plot Active Infected"
   ]
  },
  {
   "cell_type": "code",
   "execution_count": null,
   "metadata": {},
   "outputs": [],
   "source": [
    "for i in range(len(quarantines)):\n",
    "    plt.plot(simulation[i].t,simulation[i].I,label='Quarantine: '+str(i))\n",
    "plt.title('Quarantines')\n",
    "plt.legend(loc=0)\n",
    "plt.show()"
   ]
  },
  {
   "cell_type": "markdown",
   "metadata": {},
   "source": [
    "### Plot Accumulated Infected"
   ]
  },
  {
   "cell_type": "code",
   "execution_count": null,
   "metadata": {},
   "outputs": [],
   "source": [
    "for i in range(len(quarantines)):\n",
    "    plt.plot(simulation[i].t,simulation[i].I_ac,label='Quarantine: '+str(i))\n",
    "\n",
    "plt.title('Accumulated Infected')\n",
    "plt.legend(loc=0)\n",
    "plt.show()"
   ]
  },
  {
   "cell_type": "markdown",
   "metadata": {},
   "source": [
    "### Plot New Daily Infected"
   ]
  },
  {
   "cell_type": "code",
   "execution_count": null,
   "metadata": {},
   "outputs": [],
   "source": [
    "for i in range(len(quarantines)):\n",
    "    plt.plot(simulation[i].t,simulation[i].I_d,label='Quarantine: '+str(i))\n",
    "\n",
    "plt.title('New Daily Infected')\n",
    "plt.legend(loc=0)\n",
    "plt.show()"
   ]
  },
  {
   "cell_type": "markdown",
   "metadata": {},
   "source": [
    "### Variables:\n",
    "The simulation object contains several methods and variables with its results"
   ]
  },
  {
   "cell_type": "code",
   "execution_count": null,
   "metadata": {},
   "outputs": [],
   "source": [
    "# Susceptibles\n",
    "simulation[0].S\n",
    "# Exposed\n",
    "simulation[0].E\n",
    "# Infected\n",
    "simulation[0].I\n",
    "# Recovered\n",
    "simulation[0].R"
   ]
  },
  {
   "cell_type": "markdown",
   "metadata": {},
   "source": [
    "## Peak Calculation"
   ]
  },
  {
   "cell_type": "code",
   "execution_count": null,
   "metadata": {},
   "outputs": [],
   "source": [
    "# Peak Values per each scenario\n",
    "simulation[0].peak"
   ]
  },
  {
   "cell_type": "code",
   "execution_count": null,
   "metadata": {},
   "outputs": [],
   "source": [
    "# Peak day counted from the simulation beginning\n",
    "simulation[0].peak_t"
   ]
  },
  {
   "cell_type": "code",
   "execution_count": null,
   "metadata": {},
   "outputs": [],
   "source": []
  }
 ],
 "metadata": {
  "kernelspec": {
   "display_name": "Python 3",
   "language": "python",
   "name": "python3"
  },
  "language_info": {
   "codemirror_mode": {
    "name": "ipython",
    "version": 3
   },
   "file_extension": ".py",
   "mimetype": "text/x-python",
   "name": "python",
   "nbconvert_exporter": "python",
   "pygments_lexer": "ipython3",
   "version": "3.8.3"
  }
 },
 "nbformat": 4,
 "nbformat_minor": 4
}
